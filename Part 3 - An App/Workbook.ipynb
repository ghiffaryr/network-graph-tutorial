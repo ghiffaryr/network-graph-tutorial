{
 "cells": [
  {
   "cell_type": "code",
   "execution_count": null,
   "metadata": {},
   "outputs": [],
   "source": []
  },
  {
   "attachments": {},
   "cell_type": "markdown",
   "metadata": {},
   "source": [
    "## A Very Simple ``Dash`` App"
   ]
  },
  {
   "cell_type": "code",
   "execution_count": 1,
   "metadata": {},
   "outputs": [
    {
     "name": "stdout",
     "output_type": "stream",
     "text": [
      "Dash is running on http://127.0.0.1:8050/\n",
      "\n",
      " * Serving Flask app '__main__'\n",
      " * Debug mode: off\n"
     ]
    },
    {
     "name": "stderr",
     "output_type": "stream",
     "text": [
      "\u001b[31m\u001b[1mWARNING: This is a development server. Do not use it in a production deployment. Use a production WSGI server instead.\u001b[0m\n",
      " * Running on http://127.0.0.1:8050\n",
      "\u001b[33mPress CTRL+C to quit\u001b[0m\n",
      "127.0.0.1 - - [22/Apr/2023 21:17:53] \"GET / HTTP/1.1\" 200 -\n",
      "127.0.0.1 - - [22/Apr/2023 21:17:53] \"GET /_dash-component-suites/dash/deps/prop-types@15.v2_9_2m1680375717.8.1.min.js HTTP/1.1\" 200 -\n",
      "127.0.0.1 - - [22/Apr/2023 21:17:53] \"GET /_dash-component-suites/dash/deps/polyfill@7.v2_9_2m1680375717.12.1.min.js HTTP/1.1\" 200 -\n",
      "127.0.0.1 - - [22/Apr/2023 21:17:53] \"GET /_dash-component-suites/dash/deps/react-dom@16.v2_9_2m1680375717.14.0.min.js HTTP/1.1\" 200 -\n",
      "127.0.0.1 - - [22/Apr/2023 21:17:53] \"GET /_dash-component-suites/dash/dash-renderer/build/dash_renderer.v2_9_2m1680375717.min.js HTTP/1.1\" 200 -\n",
      "127.0.0.1 - - [22/Apr/2023 21:17:53] \"GET /_dash-component-suites/dash/dcc/dash_core_components.v2_9_1m1680375717.js HTTP/1.1\" 200 -\n",
      "127.0.0.1 - - [22/Apr/2023 21:17:53] \"GET /_dash-component-suites/dash/dcc/dash_core_components-shared.v2_9_1m1680375717.js HTTP/1.1\" 200 -\n",
      "127.0.0.1 - - [22/Apr/2023 21:17:53] \"GET /_dash-component-suites/dash/deps/react@16.v2_9_2m1680375717.14.0.min.js HTTP/1.1\" 200 -\n",
      "127.0.0.1 - - [22/Apr/2023 21:17:53] \"GET /_dash-component-suites/dash/html/dash_html_components.v2_0_10m1680375717.min.js HTTP/1.1\" 200 -\n",
      "127.0.0.1 - - [22/Apr/2023 21:17:53] \"GET /_dash-component-suites/dash/dash_table/bundle.v5_2_4m1680375717.js HTTP/1.1\" 200 -\n",
      "127.0.0.1 - - [22/Apr/2023 21:17:53] \"GET /_dash-layout HTTP/1.1\" 200 -\n",
      "127.0.0.1 - - [22/Apr/2023 21:17:53] \"GET /_dash-dependencies HTTP/1.1\" 200 -\n",
      "127.0.0.1 - - [22/Apr/2023 21:17:53] \"GET /_favicon.ico?v=2.9.2 HTTP/1.1\" 200 -\n",
      "127.0.0.1 - - [22/Apr/2023 21:17:56] \"POST /_dash-update-component HTTP/1.1\" 200 -\n"
     ]
    },
    {
     "name": "stdout",
     "output_type": "stream",
     "text": [
      "1\n"
     ]
    },
    {
     "name": "stderr",
     "output_type": "stream",
     "text": [
      "127.0.0.1 - - [22/Apr/2023 21:17:57] \"POST /_dash-update-component HTTP/1.1\" 200 -\n"
     ]
    },
    {
     "name": "stdout",
     "output_type": "stream",
     "text": [
      "2\n"
     ]
    },
    {
     "name": "stderr",
     "output_type": "stream",
     "text": [
      "127.0.0.1 - - [22/Apr/2023 21:17:57] \"POST /_dash-update-component HTTP/1.1\" 200 -\n",
      "127.0.0.1 - - [22/Apr/2023 21:17:57] \"POST /_dash-update-component HTTP/1.1\" 200 -\n"
     ]
    },
    {
     "name": "stdout",
     "output_type": "stream",
     "text": [
      "3\n",
      "4\n"
     ]
    },
    {
     "name": "stderr",
     "output_type": "stream",
     "text": [
      "127.0.0.1 - - [22/Apr/2023 21:17:58] \"POST /_dash-update-component HTTP/1.1\" 200 -\n"
     ]
    },
    {
     "name": "stdout",
     "output_type": "stream",
     "text": [
      "5\n"
     ]
    }
   ],
   "source": [
    "from dash import Dash, html, Output, Input\n",
    "\n",
    "app = Dash()\n",
    "\n",
    "app.layout = html.Div([\n",
    "    html.H1(\"A Simple App\", id=\"title\"),\n",
    "    html.P(\"Structure things like you would in HTML\"),\n",
    "    html.Button(\"Click me to do something\", id=\"button\")\n",
    "])\n",
    "\n",
    "@app.callback(\n",
    "    Output(\"title\", \"children\"), # change this value\n",
    "    Input(\"button\", \"n_clicks\"), # when this changes\n",
    "    prevent_initial_call = True\n",
    ")\n",
    "def update_title_on_buttonclick(n_clicks):\n",
    "    print(n_clicks) # sure why not\n",
    "    return \"A Simple App **That Does Things!**\"\n",
    "\n",
    "app.run()"
   ]
  },
  {
   "attachments": {},
   "cell_type": "markdown",
   "metadata": {},
   "source": [
    "## A Bit More Complicated App\n",
    "\n",
    "Let's use bootstrap to spruce this up a bit"
   ]
  },
  {
   "cell_type": "code",
   "execution_count": 3,
   "metadata": {},
   "outputs": [
    {
     "name": "stdout",
     "output_type": "stream",
     "text": [
      "Dash is running on http://127.0.0.1:8050/\n",
      "\n",
      " * Serving Flask app '__main__'\n",
      " * Debug mode: off\n"
     ]
    },
    {
     "name": "stderr",
     "output_type": "stream",
     "text": [
      "\u001b[31m\u001b[1mWARNING: This is a development server. Do not use it in a production deployment. Use a production WSGI server instead.\u001b[0m\n",
      " * Running on http://127.0.0.1:8050\n",
      "\u001b[33mPress CTRL+C to quit\u001b[0m\n",
      "127.0.0.1 - - [22/Apr/2023 21:22:24] \"GET / HTTP/1.1\" 200 -\n",
      "127.0.0.1 - - [22/Apr/2023 21:22:25] \"GET /_dash-component-suites/dash_bootstrap_components/_components/dash_bootstrap_components.v1_4_1m1682212359.min.js HTTP/1.1\" 200 -\n",
      "127.0.0.1 - - [22/Apr/2023 21:22:26] \"GET /_dash-layout HTTP/1.1\" 200 -\n",
      "127.0.0.1 - - [22/Apr/2023 21:22:26] \"GET /_dash-dependencies HTTP/1.1\" 200 -\n",
      "127.0.0.1 - - [22/Apr/2023 21:22:26] \"GET /_favicon.ico?v=2.9.2 HTTP/1.1\" 200 -\n"
     ]
    }
   ],
   "source": [
    "import dash_bootstrap_components as dbc\n",
    "\n",
    "app = Dash(external_stylesheets=[dbc.themes.SKETCHY])\n",
    "\n",
    "app.layout = html.Div([\n",
    "    dbc.NavbarSimple(brand=\"Communities in Network Graphs\"),\n",
    "    dbc.Container([\n",
    "        dbc.Row([\n",
    "            dbc.Col(\n",
    "                \"Hello\", width=3\n",
    "            ),\n",
    "            dbc.Col(\"Everyone\", width=9)\n",
    "        ])\n",
    "    ])\n",
    "])\n",
    "\n",
    "app.run()\n"
   ]
  },
  {
   "attachments": {},
   "cell_type": "markdown",
   "metadata": {},
   "source": [
    "## Cytoscape\n",
    "\n",
    "Now we can use the `dash-cytoscape` package to display our graph. Let's start with wireframe layout and then add in the functionality we need:"
   ]
  },
  {
   "cell_type": "code",
   "execution_count": 4,
   "metadata": {},
   "outputs": [
    {
     "name": "stdout",
     "output_type": "stream",
     "text": [
      "Dash is running on http://127.0.0.1:8050/\n",
      "\n",
      " * Serving Flask app '__main__'\n",
      " * Debug mode: off\n"
     ]
    },
    {
     "name": "stderr",
     "output_type": "stream",
     "text": [
      "\u001b[31m\u001b[1mWARNING: This is a development server. Do not use it in a production deployment. Use a production WSGI server instead.\u001b[0m\n",
      " * Running on http://127.0.0.1:8050\n",
      "\u001b[33mPress CTRL+C to quit\u001b[0m\n",
      "127.0.0.1 - - [22/Apr/2023 21:27:00] \"GET / HTTP/1.1\" 200 -\n",
      "127.0.0.1 - - [22/Apr/2023 21:27:00] \"GET /_dash-layout HTTP/1.1\" 200 -\n",
      "127.0.0.1 - - [22/Apr/2023 21:27:00] \"GET /_dash-dependencies HTTP/1.1\" 200 -\n",
      "127.0.0.1 - - [22/Apr/2023 21:27:00] \"GET /_favicon.ico?v=2.9.2 HTTP/1.1\" 200 -\n"
     ]
    }
   ],
   "source": [
    "from dash import dcc\n",
    "\n",
    "app = Dash(external_stylesheets=[dbc.themes.SKETCHY])\n",
    "\n",
    "app.layout = html.Div(\n",
    "    [\n",
    "        dbc.NavbarSimple(brand=\"Communities in Network Graphs\"),\n",
    "        dbc.Container(\n",
    "            [dbc.Row([dbc.Col([\n",
    "    dcc.Dropdown(options=[\"Manager\", \"Languages\", \"Team\"], id=\"attributes\", multi=True),\n",
    "    dcc.Dropdown(options=[\"Team\", \"Job Title\"], id=\"color_by\"),\n",
    "    ])])]\n",
    "        ),\n",
    "    ]\n",
    ")\n",
    "\n",
    "app.run()\n"
   ]
  },
  {
   "cell_type": "code",
   "execution_count": null,
   "metadata": {},
   "outputs": [],
   "source": []
  }
 ],
 "metadata": {
  "kernelspec": {
   "display_name": "peopleanalytics-hP1UcNMM",
   "language": "python",
   "name": "python3"
  },
  "language_info": {
   "codemirror_mode": {
    "name": "ipython",
    "version": 3
   },
   "file_extension": ".py",
   "mimetype": "text/x-python",
   "name": "python",
   "nbconvert_exporter": "python",
   "pygments_lexer": "ipython3",
   "version": "3.11.3"
  },
  "orig_nbformat": 4
 },
 "nbformat": 4,
 "nbformat_minor": 2
}
