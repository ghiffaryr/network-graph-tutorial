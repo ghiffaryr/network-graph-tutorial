{
 "cells": [
  {
   "cell_type": "code",
   "execution_count": null,
   "metadata": {},
   "outputs": [],
   "source": [
    "%run \"../Part 1 - The Graph/Solution.ipynb\""
   ]
  },
  {
   "cell_type": "code",
   "execution_count": null,
   "metadata": {},
   "outputs": [],
   "source": [
    "G = create_graph_of_people_nodes(people_df = people)"
   ]
  },
  {
   "cell_type": "code",
   "execution_count": null,
   "metadata": {},
   "outputs": [],
   "source": [
    "def add_attribute_nodes(G:nx.DiGraph, attributes:list[str]) -> nx.DiGraph:\n",
    "    \"\"\"Add nodes to a people graph given the provided attributes\n",
    "    \n",
    "    Attribute nodes should be flagged differently than people nodes\"\"\"\n",
    "\n",
    "    ...\n",
    "\n",
    "    return G\n",
    "\n",
    "def add_attribute_edges(G:nx.DiGraph) -> nx.DiGraph:\n",
    "    \"\"\"Add edges connecting each person to their attribute nodes\"\"\"\n",
    "\n",
    "    ...\n",
    "\n",
    "    return G"
   ]
  },
  {
   "cell_type": "code",
   "execution_count": null,
   "metadata": {},
   "outputs": [],
   "source": [
    "def generate_graph_from(people:pd.DataFrame, with_attributes:list[str]=[]) -> nx.DiGraph:"
   ]
  }
 ],
 "metadata": {
  "language_info": {
   "name": "python"
  },
  "orig_nbformat": 4
 },
 "nbformat": 4,
 "nbformat_minor": 2
}
