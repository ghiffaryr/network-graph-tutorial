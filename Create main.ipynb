{
 "cells": [
  {
   "attachments": {},
   "cell_type": "markdown",
   "metadata": {},
   "source": [
    "# Create Deployable App\n",
    "\n",
    "Dark paths have brought us here, where we are now combining a bunch of notebooks into a single .py file that we blindly throw at GCP to run. Mistakes were made, people, mistakes were made!"
   ]
  },
  {
   "cell_type": "code",
   "execution_count": 13,
   "metadata": {},
   "outputs": [],
   "source": [
    "import io\n",
    "import os\n",
    "import sys\n",
    "\n",
    "import nbformat\n",
    "\n",
    "def exclude_cells(cells):\n",
    "    return [cell for cell in cells if \"%run\" not in cell[\"source\"]]\n",
    "\n",
    "def merge_notebooks(filenames):\n",
    "    merged = None\n",
    "    for fname in filenames:\n",
    "        with io.open(fname, 'r', encoding='utf-8') as f:\n",
    "            nb = nbformat.read(f, as_version=4)\n",
    "        if merged is None:\n",
    "            merged = nb\n",
    "        else:\n",
    "            # TODO: add an optional marker between joined notebooks\n",
    "            # like an horizontal rule, for example, or some other arbitrary\n",
    "            # (user specified) markdown cell)\n",
    "            merged.cells.extend(exclude_cells(nb.cells))\n",
    "    if not hasattr(merged.metadata, 'name'):\n",
    "        merged.metadata.name = ''\n",
    "    merged.metadata.name += \"_merged\"\n",
    "    #print(nbformat.writes(merged))\n",
    "    return merged"
   ]
  },
  {
   "cell_type": "code",
   "execution_count": 14,
   "metadata": {},
   "outputs": [],
   "source": [
    "bigbook = merge_notebooks([\n",
    "    \"Part 0 - The Data/Solution.ipynb\", \n",
    "    \"Part 1 - The Graph/Solution.ipynb\",\n",
    "    \"Part 2 - Clustered Graph Attributes/Solution.ipynb\",\n",
    "    \"Part 3 - An App/Solution.ipynb\"\n",
    "])\n",
    "\n",
    "with io.open(\"main.ipynb\", \"w\") as nb:\n",
    "    nbformat.write(bigbook, nb)\n"
   ]
  },
  {
   "cell_type": "code",
   "execution_count": 15,
   "metadata": {},
   "outputs": [
    {
     "name": "stdout",
     "output_type": "stream",
     "text": [
      "[NbConvertApp] Converting notebook main.ipynb to script\n",
      "[NbConvertApp] ERROR | Notebook JSON is invalid: Additional properties are not allowed ('id' was unexpected)\n",
      "\n",
      "Failed validating 'additionalProperties' in markdown_cell:\n",
      "\n",
      "On instance['cells'][33]:\n",
      "{'attachments': {},\n",
      " 'cell_type': 'markdown',\n",
      " 'id': 'bb042e3f-caba-44ee-9747-e74d6bebe1e8',\n",
      " 'metadata': {},\n",
      " 'source': '# Understanding People with Network Graphs in Python\\n'\n",
      "           '\\n'\n",
      "           'Now we can...'}\n",
      "[NbConvertApp] Writing 33542 bytes to main.py\n"
     ]
    }
   ],
   "source": [
    "!jupyter nbconvert --to script main.ipynb"
   ]
  },
  {
   "cell_type": "code",
   "execution_count": null,
   "metadata": {},
   "outputs": [],
   "source": []
  }
 ],
 "metadata": {
  "kernelspec": {
   "display_name": "peopleanalytics-hP1UcNMM",
   "language": "python",
   "name": "python3"
  },
  "language_info": {
   "codemirror_mode": {
    "name": "ipython",
    "version": 3
   },
   "file_extension": ".py",
   "mimetype": "text/x-python",
   "name": "python",
   "nbconvert_exporter": "python",
   "pygments_lexer": "ipython3",
   "version": "3.11.3"
  },
  "orig_nbformat": 4
 },
 "nbformat": 4,
 "nbformat_minor": 2
}
