{
 "cells": [
  {
   "attachments": {},
   "cell_type": "markdown",
   "metadata": {},
   "source": [
    "# People\n",
    "\n",
    "What are they? How can we represent people in a meaningful way that doesn't get any of us fired for exfiltrating data?\n",
    "\n",
    "## Faker\n",
    "\n",
    "Let's generate some fake data! https://faker.readthedocs.io/en/master/\n",
    "\n",
    "\n"
   ]
  },
  {
   "cell_type": "code",
   "execution_count": 1,
   "metadata": {},
   "outputs": [
    {
     "data": {
      "text/plain": [
       "[{'job': 'Management consultant',\n",
       "  'company': 'Gonzalez-Raymond',\n",
       "  'ssn': '167-55-3589',\n",
       "  'residence': '3478 Glenn Passage Apt. 509\\nLake Benjamin, DC 35997',\n",
       "  'current_location': (Decimal('-65.340088'), Decimal('-69.778762')),\n",
       "  'blood_group': 'B-',\n",
       "  'website': ['https://www.guerrero.biz/'],\n",
       "  'username': 'david26',\n",
       "  'name': 'Carrie Cunningham',\n",
       "  'sex': 'F',\n",
       "  'address': '96319 Matthew Prairie Suite 478\\nKristinmouth, PA 56396',\n",
       "  'mail': 'ericzhang@hotmail.com',\n",
       "  'birthdate': datetime.date(1991, 3, 15)},\n",
       " {'job': 'Financial trader',\n",
       "  'company': 'Richmond, Perez and Bowman',\n",
       "  'ssn': '240-21-3508',\n",
       "  'residence': '22685 Reid Skyway Apt. 725\\nPort Steven, AS 18494',\n",
       "  'current_location': (Decimal('-21.929913'), Decimal('-29.019485')),\n",
       "  'blood_group': 'B+',\n",
       "  'website': ['http://www.hicks.com/',\n",
       "   'https://www.gomez-reynolds.com/',\n",
       "   'https://craig.com/',\n",
       "   'http://gross-lopez.com/'],\n",
       "  'username': 'pottshayley',\n",
       "  'name': 'Kelly Nguyen',\n",
       "  'sex': 'F',\n",
       "  'address': '35308 Dickerson Turnpike\\nNorth Danaborough, OH 78793',\n",
       "  'mail': 'zmercer@gmail.com',\n",
       "  'birthdate': datetime.date(1977, 2, 1)},\n",
       " {'job': 'Accounting technician',\n",
       "  'company': 'Davis and Sons',\n",
       "  'ssn': '508-68-0912',\n",
       "  'residence': '8058 Williams Shoal\\nPort Jenniferview, NE 66587',\n",
       "  'current_location': (Decimal('34.9135065'), Decimal('-158.408372')),\n",
       "  'blood_group': 'O-',\n",
       "  'website': ['https://www.vega-simpson.com/'],\n",
       "  'username': 'jesus46',\n",
       "  'name': 'Mr. Derek Castro',\n",
       "  'sex': 'M',\n",
       "  'address': '586 Harris Station\\nEast Samanthachester, WY 70546',\n",
       "  'mail': 'arthurcampbell@hotmail.com',\n",
       "  'birthdate': datetime.date(1961, 11, 14)}]"
      ]
     },
     "execution_count": 1,
     "metadata": {},
     "output_type": "execute_result"
    }
   ],
   "source": [
    "from faker import Faker\n",
    "fake = Faker()\n",
    "\n",
    "POPULATION = 3\n",
    "\n",
    "people = [{\n",
    "    **fake.profile() # lots of great stuff in here!\n",
    "} for _ in range(POPULATION)]\n",
    "\n",
    "people"
   ]
  },
  {
   "attachments": {},
   "cell_type": "markdown",
   "metadata": {},
   "source": [
    "This is a good start but ... it's kind of wonky. We have people all over the world with so many different jobs! Let's keep the spirit of this but implement some of our own limitations on fields to ensure things line up with what we'd expect a company org to look like"
   ]
  },
  {
   "cell_type": "code",
   "execution_count": 2,
   "metadata": {},
   "outputs": [],
   "source": [
    "import numpy as np\n",
    "import random\n",
    "\n",
    "\n",
    "def choose_a_few(\n",
    "    options: list[str],\n",
    "    weights: list[int | float] = None,\n",
    "    max_choices: int = None,\n",
    "    min_choices: int = 0,\n",
    ") -> set[str]:\n",
    "    max_choices = np.clip(max_choices or len(options), min_choices, len(options))\n",
    "    \n",
    "    # how many choices will we make this time?\n",
    "    divisor = max_choices * (max_choices + 1) / 2    \n",
    "    k_weights = [int(x) / divisor for x in range(max_choices, min_choices-1, -1)]\n",
    "    n_choices = np.random.choice(list(range(min_choices,max_choices+1)), p=k_weights)\n",
    "    \n",
    "    # make the choices\n",
    "    choices = random.choices(options, weights=weights, k=n_choices)\n",
    "    return set(choices)\n"
   ]
  },
  {
   "cell_type": "code",
   "execution_count": 3,
   "metadata": {},
   "outputs": [
    {
     "data": {
      "text/plain": [
       "{'Name': 'Deborah Johnson',\n",
       " 'Hire Date': datetime.date(2022, 2, 16),\n",
       " 'Status': {'Full Time'},\n",
       " 'Languages': set(),\n",
       " 'Team': None,\n",
       " 'Job': None,\n",
       " 'Country': None}"
      ]
     },
     "execution_count": 3,
     "metadata": {},
     "output_type": "execute_result"
    }
   ],
   "source": [
    "import pandas as pd\n",
    "import numpy as np\n",
    "from faker import Faker\n",
    "import random\n",
    "\n",
    "# create some fake data\n",
    "fake = Faker()\n",
    "\n",
    "employment = {\"Full Time\": 0.7, \"Part Time\": 0.05, \"Contract\": 0.3}\n",
    "languages = {\n",
    "    \"Python\": 0.25,\n",
    "    \"Scala\": 0.1,\n",
    "    \"Go\": 0.08,\n",
    "    \"JavaScript\": 0.3,\n",
    "    \"Java\": 0.3,\n",
    "    \"Typescript\": 0.17,\n",
    "    \"Erlang\": 0.01,\n",
    "    \"Elixir\": 0.001,\n",
    "}\n",
    "\n",
    "def make_person() -> dict[str]:\n",
    "    return {\n",
    "        \"Name\": fake.name(),\n",
    "        \"Hire Date\": fake.date_between(start_date=\"-3y\", end_date=\"today\"),\n",
    "        \"Status\": choose_a_few(list(employment), max_choices=1, min_choices=1),\n",
    "        \"Languages\": choose_a_few(list(languages.keys()), weights=list(languages.values())),\n",
    "        \"Team\": None, # hrmmmm this is harder\n",
    "        \"Job\": None, # let's be smarter with this\n",
    "        \"Country\": None, # let's also be smarter with this\n",
    "    }\n",
    "\n",
    "make_person()"
   ]
  },
  {
   "attachments": {},
   "cell_type": "markdown",
   "metadata": {},
   "source": [
    "Now we can generate more complex attributes in a smart way. Let's set up some rules about where offices are, what teams are in which offices, then pick titles based on other info (e.g. Developers probably know at least one language ... and executives are fulltime?)"
   ]
  },
  {
   "cell_type": "code",
   "execution_count": 4,
   "metadata": {},
   "outputs": [
    {
     "data": {
      "text/plain": [
       "{'City': 'New York',\n",
       " 'Timezone': 'EST',\n",
       " 'Country': 'USA',\n",
       " 'Title': 'Vice President',\n",
       " 'Team': 'Business'}"
      ]
     },
     "execution_count": 4,
     "metadata": {},
     "output_type": "execute_result"
    }
   ],
   "source": [
    "from dataclasses import dataclass\n",
    "from enum import Enum, auto\n",
    "\n",
    "\n",
    "class timezone(str, Enum):\n",
    "    EST = auto()\n",
    "    PST = auto()\n",
    "    UTC = auto()\n",
    "\n",
    "\n",
    "@dataclass\n",
    "class Location:\n",
    "    city: str\n",
    "    tz: timezone\n",
    "    country: str\n",
    "\n",
    "TEAM_TITLES = {\n",
    "    \"DevX\": [\"Engineer\", \"Engineer\", \"Engineer\", \"Engineer\", \"Engineer\", \"AVP\"],\n",
    "    \"DevOps\": [\"Engineer\", \"Senior Engineer\", \"Manager\"],\n",
    "    \"Sales\": [\"Associate\"],\n",
    "    \"Support\": [\"Analyst\", \"Manager\"],\n",
    "    \"Platform\": [\"Engineer\", \"Senior Engineer\",\"Managing Engineer\", \"AVP\", \"VP\"],\n",
    "    \"Product\": [\"Engineer\", \"Manager\", \"Product Owner\", \"AVP\", \"VP\"],\n",
    "    \"Internal Tools\": [\"Engineer\", \"Senior Engineer\", \"Manager\", \"AVP\", \"VP\"],\n",
    "    \"Business\": [\"Analyst\", \"Associate\", \"Vice President\", \"Director\", \"Managing Director\"]\n",
    "}\n",
    "\n",
    "\n",
    "def title_city_team():\n",
    "    # just a few locations\n",
    "    offices = {\n",
    "        location.city: location\n",
    "        for location in [\n",
    "            Location(\"New York\", tz=\"EST\", country=\"USA\"),\n",
    "            Location(\"Seattle\", tz=\"PST\", country=\"USA\"),\n",
    "            Location(\"Toronto\", tz=\"EST\", country=\"CAN\"),\n",
    "            Location(\"London\", tz=\"UTC\", country=\"GBR\"),\n",
    "            Location(\"Fort Lauderdale\", tz=\"EST\", country=\"USA\"),\n",
    "            Location(\"Dublin\", tz=\"UTC\", country=\"IRL\"),\n",
    "        ]\n",
    "    }\n",
    "    # codify the hierarchical structure\n",
    "    allowed_teams_per_office = {\n",
    "        \"New York\": [\"Sales\", \"Product\", \"Business\"],\n",
    "        \"Toronto\": [\"Platform\", \"Product\", \"Internal Tools\", \"Sales\", \"Business\"],\n",
    "        \"Fort Lauderdale\": [\"DevX\"],\n",
    "        \"Dublin\": [\"DevOps\", \"Support\"],\n",
    "        \"London\": [\"Sales\", \"Business\"],\n",
    "        \"Seattle\": [\"Internal Tools\", \"Product\", \"Platform\"],\n",
    "    }\n",
    "    allowed_titles_per_team = TEAM_TITLES\n",
    "\n",
    "    city = random.choice(list(offices))\n",
    "    team = random.choice(allowed_teams_per_office[city])\n",
    "    title = choose_a_few(\n",
    "        allowed_titles_per_team[team], max_choices=1, min_choices=1\n",
    "    ).pop()\n",
    "    return {\n",
    "        \"City\": city,\n",
    "        \"Timezone\": offices[city].tz,\n",
    "        \"Country\": offices[city].country,\n",
    "        \"Title\": title,\n",
    "        \"Team\": team,\n",
    "    }\n",
    "\n",
    "\n",
    "title_city_team()\n"
   ]
  },
  {
   "attachments": {},
   "cell_type": "markdown",
   "metadata": {},
   "source": [
    "After running this we should have a better balanced org in terms of region + titles. Then we just need to add the connections in -- i.e. who's the boss?!"
   ]
  },
  {
   "cell_type": "code",
   "execution_count": 5,
   "metadata": {},
   "outputs": [],
   "source": [
    "def make_person() -> dict[str]:\n",
    "    title_city_team_ = title_city_team()\n",
    "    technical = 1 if \"Engineer\" in title_city_team_[\"Title\"] else 0\n",
    "    return {\n",
    "        \"Name\": fake.name(),\n",
    "        \"Hire Date\": fake.date_between(start_date=\"-3y\", end_date=\"today\"),\n",
    "        \"Status\": choose_a_few(list(employment), max_choices=1, min_choices=1).pop(),\n",
    "        \"Languages\": choose_a_few(list(languages.keys()), weights=list(languages.values()), min_choices=technical),\n",
    "        **title_city_team_,\n",
    "    }\n"
   ]
  },
  {
   "cell_type": "code",
   "execution_count": 6,
   "metadata": {},
   "outputs": [
    {
     "data": {
      "text/html": [
       "<div>\n",
       "<style scoped>\n",
       "    .dataframe tbody tr th:only-of-type {\n",
       "        vertical-align: middle;\n",
       "    }\n",
       "\n",
       "    .dataframe tbody tr th {\n",
       "        vertical-align: top;\n",
       "    }\n",
       "\n",
       "    .dataframe thead th {\n",
       "        text-align: right;\n",
       "    }\n",
       "</style>\n",
       "<table border=\"1\" class=\"dataframe\">\n",
       "  <thead>\n",
       "    <tr style=\"text-align: right;\">\n",
       "      <th></th>\n",
       "      <th>Name</th>\n",
       "      <th>Hire Date</th>\n",
       "      <th>Status</th>\n",
       "      <th>Languages</th>\n",
       "      <th>City</th>\n",
       "      <th>Timezone</th>\n",
       "      <th>Country</th>\n",
       "      <th>Title</th>\n",
       "      <th>Team</th>\n",
       "    </tr>\n",
       "  </thead>\n",
       "  <tbody>\n",
       "    <tr>\n",
       "      <th>0</th>\n",
       "      <td>Beverly Murray</td>\n",
       "      <td>2021-11-30</td>\n",
       "      <td>Contract</td>\n",
       "      <td>{}</td>\n",
       "      <td>Toronto</td>\n",
       "      <td>EST</td>\n",
       "      <td>CAN</td>\n",
       "      <td>Managing Director</td>\n",
       "      <td>Business</td>\n",
       "    </tr>\n",
       "    <tr>\n",
       "      <th>1</th>\n",
       "      <td>Jeanette Lowe</td>\n",
       "      <td>2020-07-19</td>\n",
       "      <td>Part Time</td>\n",
       "      <td>{}</td>\n",
       "      <td>London</td>\n",
       "      <td>UTC</td>\n",
       "      <td>GBR</td>\n",
       "      <td>Managing Director</td>\n",
       "      <td>Business</td>\n",
       "    </tr>\n",
       "    <tr>\n",
       "      <th>2</th>\n",
       "      <td>Melinda Brandt</td>\n",
       "      <td>2021-10-03</td>\n",
       "      <td>Part Time</td>\n",
       "      <td>{}</td>\n",
       "      <td>London</td>\n",
       "      <td>UTC</td>\n",
       "      <td>GBR</td>\n",
       "      <td>Vice President</td>\n",
       "      <td>Business</td>\n",
       "    </tr>\n",
       "    <tr>\n",
       "      <th>3</th>\n",
       "      <td>Jennifer Owen</td>\n",
       "      <td>2022-09-27</td>\n",
       "      <td>Contract</td>\n",
       "      <td>{Python, Java}</td>\n",
       "      <td>Fort Lauderdale</td>\n",
       "      <td>EST</td>\n",
       "      <td>USA</td>\n",
       "      <td>Engineer</td>\n",
       "      <td>DevX</td>\n",
       "    </tr>\n",
       "    <tr>\n",
       "      <th>4</th>\n",
       "      <td>Tracey Noble MD</td>\n",
       "      <td>2021-06-24</td>\n",
       "      <td>Part Time</td>\n",
       "      <td>{JavaScript, Scala, Java, Go, Typescript}</td>\n",
       "      <td>Fort Lauderdale</td>\n",
       "      <td>EST</td>\n",
       "      <td>USA</td>\n",
       "      <td>Engineer</td>\n",
       "      <td>DevX</td>\n",
       "    </tr>\n",
       "  </tbody>\n",
       "</table>\n",
       "</div>"
      ],
      "text/plain": [
       "              Name   Hire Date     Status  \\\n",
       "0   Beverly Murray  2021-11-30   Contract   \n",
       "1    Jeanette Lowe  2020-07-19  Part Time   \n",
       "2   Melinda Brandt  2021-10-03  Part Time   \n",
       "3    Jennifer Owen  2022-09-27   Contract   \n",
       "4  Tracey Noble MD  2021-06-24  Part Time   \n",
       "\n",
       "                                   Languages             City Timezone  \\\n",
       "0                                         {}          Toronto      EST   \n",
       "1                                         {}           London      UTC   \n",
       "2                                         {}           London      UTC   \n",
       "3                             {Python, Java}  Fort Lauderdale      EST   \n",
       "4  {JavaScript, Scala, Java, Go, Typescript}  Fort Lauderdale      EST   \n",
       "\n",
       "  Country              Title      Team  \n",
       "0     CAN  Managing Director  Business  \n",
       "1     GBR  Managing Director  Business  \n",
       "2     GBR     Vice President  Business  \n",
       "3     USA           Engineer      DevX  \n",
       "4     USA           Engineer      DevX  "
      ]
     },
     "execution_count": 6,
     "metadata": {},
     "output_type": "execute_result"
    }
   ],
   "source": [
    "people_df = pd.DataFrame((make_person() for _ in range(150)))\n",
    "people_df.head()"
   ]
  },
  {
   "attachments": {},
   "cell_type": "markdown",
   "metadata": {},
   "source": [
    "So, let's group by Team and then pick a manager for everyone:"
   ]
  },
  {
   "cell_type": "code",
   "execution_count": 7,
   "metadata": {},
   "outputs": [],
   "source": [
    "ranks = {team: {title: rank for rank,title in enumerate(titles)} for team, titles in TEAM_TITLES.items()}\n",
    "for team in ranks:\n",
    "    people_df.loc[people_df.Team==team, \"rank\"] = people_df.loc[people_df.Team==team].Title.map(ranks[team])\n",
    "people_df = people_df.sort_values(by=[\"Team\",\"rank\"])"
   ]
  },
  {
   "cell_type": "code",
   "execution_count": 8,
   "metadata": {},
   "outputs": [
    {
     "data": {
      "text/html": [
       "<div>\n",
       "<style scoped>\n",
       "    .dataframe tbody tr th:only-of-type {\n",
       "        vertical-align: middle;\n",
       "    }\n",
       "\n",
       "    .dataframe tbody tr th {\n",
       "        vertical-align: top;\n",
       "    }\n",
       "\n",
       "    .dataframe thead th {\n",
       "        text-align: right;\n",
       "    }\n",
       "</style>\n",
       "<table border=\"1\" class=\"dataframe\">\n",
       "  <thead>\n",
       "    <tr style=\"text-align: right;\">\n",
       "      <th></th>\n",
       "      <th>Name</th>\n",
       "      <th>Hire Date</th>\n",
       "      <th>Status</th>\n",
       "      <th>Languages</th>\n",
       "      <th>City</th>\n",
       "      <th>Timezone</th>\n",
       "      <th>Country</th>\n",
       "      <th>Title</th>\n",
       "      <th>Team</th>\n",
       "      <th>rank</th>\n",
       "      <th>peoplemanager</th>\n",
       "      <th>manager</th>\n",
       "    </tr>\n",
       "  </thead>\n",
       "  <tbody>\n",
       "    <tr>\n",
       "      <th>0</th>\n",
       "      <td>Terry Sellers DDS</td>\n",
       "      <td>2020-11-19</td>\n",
       "      <td>Part Time</td>\n",
       "      <td>{}</td>\n",
       "      <td>Toronto</td>\n",
       "      <td>EST</td>\n",
       "      <td>CAN</td>\n",
       "      <td>Analyst</td>\n",
       "      <td>Business</td>\n",
       "      <td>0.0</td>\n",
       "      <td>Devin Leonard</td>\n",
       "      <td>Terry Sellers DDS</td>\n",
       "    </tr>\n",
       "    <tr>\n",
       "      <th>1</th>\n",
       "      <td>Adam Lee</td>\n",
       "      <td>2021-03-18</td>\n",
       "      <td>Part Time</td>\n",
       "      <td>{}</td>\n",
       "      <td>London</td>\n",
       "      <td>UTC</td>\n",
       "      <td>GBR</td>\n",
       "      <td>Analyst</td>\n",
       "      <td>Business</td>\n",
       "      <td>0.0</td>\n",
       "      <td>Terry Sellers DDS</td>\n",
       "      <td>Terry Sellers DDS</td>\n",
       "    </tr>\n",
       "    <tr>\n",
       "      <th>2</th>\n",
       "      <td>Joseph Cole</td>\n",
       "      <td>2022-01-08</td>\n",
       "      <td>Part Time</td>\n",
       "      <td>{Python, JavaScript}</td>\n",
       "      <td>New York</td>\n",
       "      <td>EST</td>\n",
       "      <td>USA</td>\n",
       "      <td>Analyst</td>\n",
       "      <td>Business</td>\n",
       "      <td>0.0</td>\n",
       "      <td>Terry Sellers DDS</td>\n",
       "      <td>Terry Sellers DDS</td>\n",
       "    </tr>\n",
       "    <tr>\n",
       "      <th>3</th>\n",
       "      <td>Courtney Carlson</td>\n",
       "      <td>2021-03-25</td>\n",
       "      <td>Part Time</td>\n",
       "      <td>{Java}</td>\n",
       "      <td>London</td>\n",
       "      <td>UTC</td>\n",
       "      <td>GBR</td>\n",
       "      <td>Analyst</td>\n",
       "      <td>Business</td>\n",
       "      <td>0.0</td>\n",
       "      <td>Terry Sellers DDS</td>\n",
       "      <td>Terry Sellers DDS</td>\n",
       "    </tr>\n",
       "    <tr>\n",
       "      <th>4</th>\n",
       "      <td>Sheila Lee</td>\n",
       "      <td>2023-03-13</td>\n",
       "      <td>Full Time</td>\n",
       "      <td>{Python, Typescript, JavaScript}</td>\n",
       "      <td>New York</td>\n",
       "      <td>EST</td>\n",
       "      <td>USA</td>\n",
       "      <td>Analyst</td>\n",
       "      <td>Business</td>\n",
       "      <td>0.0</td>\n",
       "      <td>Terry Sellers DDS</td>\n",
       "      <td>Terry Sellers DDS</td>\n",
       "    </tr>\n",
       "  </tbody>\n",
       "</table>\n",
       "</div>"
      ],
      "text/plain": [
       "                Name   Hire Date     Status                         Languages  \\\n",
       "0  Terry Sellers DDS  2020-11-19  Part Time                                {}   \n",
       "1           Adam Lee  2021-03-18  Part Time                                {}   \n",
       "2        Joseph Cole  2022-01-08  Part Time              {Python, JavaScript}   \n",
       "3   Courtney Carlson  2021-03-25  Part Time                            {Java}   \n",
       "4         Sheila Lee  2023-03-13  Full Time  {Python, Typescript, JavaScript}   \n",
       "\n",
       "       City Timezone Country    Title      Team  rank      peoplemanager  \\\n",
       "0   Toronto      EST     CAN  Analyst  Business   0.0      Devin Leonard   \n",
       "1    London      UTC     GBR  Analyst  Business   0.0  Terry Sellers DDS   \n",
       "2  New York      EST     USA  Analyst  Business   0.0  Terry Sellers DDS   \n",
       "3    London      UTC     GBR  Analyst  Business   0.0  Terry Sellers DDS   \n",
       "4  New York      EST     USA  Analyst  Business   0.0  Terry Sellers DDS   \n",
       "\n",
       "             manager  \n",
       "0  Terry Sellers DDS  \n",
       "1  Terry Sellers DDS  \n",
       "2  Terry Sellers DDS  \n",
       "3  Terry Sellers DDS  \n",
       "4  Terry Sellers DDS  "
      ]
     },
     "execution_count": 8,
     "metadata": {},
     "output_type": "execute_result"
    }
   ],
   "source": [
    "def naivereportsto(row, df):\n",
    "    supervisor = (\n",
    "        df[(df.index < row.name)].query(f\"\"\"rank <= {row[\"rank\"]}-1\"\"\").tail(1).Name\n",
    "    )\n",
    "    supervisor = supervisor.item() if not supervisor.empty else None\n",
    "    peer = df[(df.index < row.name)].query(f\"\"\"rank  == {row[\"rank\"]}\"\"\").head(1).Name\n",
    "    peer = peer.item() if not peer.empty else None\n",
    "    return supervisor or peer or row.Name\n",
    "\n",
    "\n",
    "def reportsto(df):\n",
    "    return df.assign(manager=df.apply(naivereportsto, df=df, axis=1))\n",
    "\n",
    "\n",
    "def supervisors(df):\n",
    "    df[\"peoplemanager\"] = df.apply(naivereportsto, df=df, axis=1)\n",
    "    df = df.groupby(\"Team\", group_keys=False).apply(reportsto).reset_index(drop=True)\n",
    "    return df\n",
    "\n",
    "\n",
    "people_df = people_df.pipe(supervisors)\n",
    "people_df.head(5)\n"
   ]
  },
  {
   "attachments": {},
   "cell_type": "markdown",
   "metadata": {},
   "source": [
    "Now we just need a CEO for all the team leads to report to:"
   ]
  },
  {
   "cell_type": "code",
   "execution_count": 9,
   "metadata": {},
   "outputs": [],
   "source": [
    "CEO = make_person() | {\"Team\":\"CEO\", \"Title\":\"CEO\", \"Status\":\"Full Time\"}\n",
    "people_df = pd.concat([people_df, pd.DataFrame([CEO])])\n",
    "people_df.loc[people_df.manager == people_df.Name,\"manager\"]=CEO[\"Name\"]"
   ]
  },
  {
   "cell_type": "code",
   "execution_count": 12,
   "metadata": {},
   "outputs": [],
   "source": [
    "people_df.to_pickle(\"people.pkl\")"
   ]
  },
  {
   "cell_type": "markdown",
   "metadata": {},
   "source": [
    "Cool .. this seems reasonably distributed?"
   ]
  },
  {
   "cell_type": "code",
   "execution_count": 18,
   "metadata": {},
   "outputs": [
    {
     "data": {
      "application/vnd.plotly.v1+json": {
       "config": {
        "plotlyServerURL": "https://plot.ly"
       },
       "data": [
        {
         "alignmentgroup": "True",
         "bingroup": "x",
         "hovertemplate": "Title=%{x}<br>count=%{y}<extra></extra>",
         "legendgroup": "",
         "marker": {
          "color": "#636efa",
          "pattern": {
           "shape": ""
          }
         },
         "name": "",
         "offsetgroup": "",
         "orientation": "v",
         "showlegend": false,
         "type": "histogram",
         "x": [
          "Analyst",
          "Analyst",
          "Analyst",
          "Analyst",
          "Analyst",
          "Associate",
          "Associate",
          "Associate",
          "Associate",
          "Associate",
          "Associate",
          "Vice President",
          "Vice President",
          "Vice President",
          "Vice President",
          "Vice President",
          "Director",
          "Director",
          "Director",
          "Director",
          "Managing Director",
          "Managing Director",
          "Managing Director",
          "Managing Director",
          "Managing Director",
          "Managing Director",
          "Engineer",
          "Engineer",
          "Senior Engineer",
          "Senior Engineer",
          "Senior Engineer",
          "Manager",
          "Manager",
          "Engineer",
          "Engineer",
          "Engineer",
          "Engineer",
          "Engineer",
          "Engineer",
          "Engineer",
          "Engineer",
          "Engineer",
          "Engineer",
          "Engineer",
          "Engineer",
          "Engineer",
          "Engineer",
          "Engineer",
          "Engineer",
          "Engineer",
          "Engineer",
          "Engineer",
          "AVP",
          "AVP",
          "AVP",
          "Engineer",
          "Engineer",
          "Engineer",
          "Senior Engineer",
          "Senior Engineer",
          "Senior Engineer",
          "Manager",
          "AVP",
          "VP",
          "VP",
          "VP",
          "Engineer",
          "Engineer",
          "Engineer",
          "Senior Engineer",
          "Senior Engineer",
          "Managing Engineer",
          "Managing Engineer",
          "Managing Engineer",
          "Managing Engineer",
          "Managing Engineer",
          "AVP",
          "AVP",
          "VP",
          "VP",
          "Engineer",
          "Engineer",
          "Manager",
          "Manager",
          "Manager",
          "Manager",
          "Manager",
          "Manager",
          "Manager",
          "Manager",
          "Product Owner",
          "Product Owner",
          "Product Owner",
          "AVP",
          "AVP",
          "AVP",
          "AVP",
          "AVP",
          "VP",
          "VP",
          "VP",
          "VP",
          "VP",
          "Associate",
          "Associate",
          "Associate",
          "Associate",
          "Associate",
          "Associate",
          "Associate",
          "Associate",
          "Associate",
          "Associate",
          "Associate",
          "Associate",
          "Associate",
          "Associate",
          "Associate",
          "Associate",
          "Associate",
          "Associate",
          "Associate",
          "Associate",
          "Associate",
          "Associate",
          "Associate",
          "Associate",
          "Associate",
          "Associate",
          "Associate",
          "Associate",
          "Associate",
          "Associate",
          "Associate",
          "Associate",
          "Associate",
          "Associate",
          "Associate",
          "Associate",
          "Associate",
          "Analyst",
          "Analyst",
          "Analyst",
          "Analyst",
          "Analyst",
          "Manager",
          "Manager",
          "Manager",
          "Manager",
          "Manager",
          "CEO"
         ],
         "xaxis": "x",
         "yaxis": "y"
        }
       ],
       "layout": {
        "barmode": "relative",
        "legend": {
         "tracegroupgap": 0
        },
        "margin": {
         "t": 60
        },
        "template": {
         "data": {
          "bar": [
           {
            "error_x": {
             "color": "#f2f5fa"
            },
            "error_y": {
             "color": "#f2f5fa"
            },
            "marker": {
             "line": {
              "color": "rgb(17,17,17)",
              "width": 0.5
             },
             "pattern": {
              "fillmode": "overlay",
              "size": 10,
              "solidity": 0.2
             }
            },
            "type": "bar"
           }
          ],
          "barpolar": [
           {
            "marker": {
             "line": {
              "color": "rgb(17,17,17)",
              "width": 0.5
             },
             "pattern": {
              "fillmode": "overlay",
              "size": 10,
              "solidity": 0.2
             }
            },
            "type": "barpolar"
           }
          ],
          "carpet": [
           {
            "aaxis": {
             "endlinecolor": "#A2B1C6",
             "gridcolor": "#506784",
             "linecolor": "#506784",
             "minorgridcolor": "#506784",
             "startlinecolor": "#A2B1C6"
            },
            "baxis": {
             "endlinecolor": "#A2B1C6",
             "gridcolor": "#506784",
             "linecolor": "#506784",
             "minorgridcolor": "#506784",
             "startlinecolor": "#A2B1C6"
            },
            "type": "carpet"
           }
          ],
          "choropleth": [
           {
            "colorbar": {
             "outlinewidth": 0,
             "ticks": ""
            },
            "type": "choropleth"
           }
          ],
          "contour": [
           {
            "colorbar": {
             "outlinewidth": 0,
             "ticks": ""
            },
            "colorscale": [
             [
              0,
              "#0d0887"
             ],
             [
              0.1111111111111111,
              "#46039f"
             ],
             [
              0.2222222222222222,
              "#7201a8"
             ],
             [
              0.3333333333333333,
              "#9c179e"
             ],
             [
              0.4444444444444444,
              "#bd3786"
             ],
             [
              0.5555555555555556,
              "#d8576b"
             ],
             [
              0.6666666666666666,
              "#ed7953"
             ],
             [
              0.7777777777777778,
              "#fb9f3a"
             ],
             [
              0.8888888888888888,
              "#fdca26"
             ],
             [
              1,
              "#f0f921"
             ]
            ],
            "type": "contour"
           }
          ],
          "contourcarpet": [
           {
            "colorbar": {
             "outlinewidth": 0,
             "ticks": ""
            },
            "type": "contourcarpet"
           }
          ],
          "heatmap": [
           {
            "colorbar": {
             "outlinewidth": 0,
             "ticks": ""
            },
            "colorscale": [
             [
              0,
              "#0d0887"
             ],
             [
              0.1111111111111111,
              "#46039f"
             ],
             [
              0.2222222222222222,
              "#7201a8"
             ],
             [
              0.3333333333333333,
              "#9c179e"
             ],
             [
              0.4444444444444444,
              "#bd3786"
             ],
             [
              0.5555555555555556,
              "#d8576b"
             ],
             [
              0.6666666666666666,
              "#ed7953"
             ],
             [
              0.7777777777777778,
              "#fb9f3a"
             ],
             [
              0.8888888888888888,
              "#fdca26"
             ],
             [
              1,
              "#f0f921"
             ]
            ],
            "type": "heatmap"
           }
          ],
          "heatmapgl": [
           {
            "colorbar": {
             "outlinewidth": 0,
             "ticks": ""
            },
            "colorscale": [
             [
              0,
              "#0d0887"
             ],
             [
              0.1111111111111111,
              "#46039f"
             ],
             [
              0.2222222222222222,
              "#7201a8"
             ],
             [
              0.3333333333333333,
              "#9c179e"
             ],
             [
              0.4444444444444444,
              "#bd3786"
             ],
             [
              0.5555555555555556,
              "#d8576b"
             ],
             [
              0.6666666666666666,
              "#ed7953"
             ],
             [
              0.7777777777777778,
              "#fb9f3a"
             ],
             [
              0.8888888888888888,
              "#fdca26"
             ],
             [
              1,
              "#f0f921"
             ]
            ],
            "type": "heatmapgl"
           }
          ],
          "histogram": [
           {
            "marker": {
             "pattern": {
              "fillmode": "overlay",
              "size": 10,
              "solidity": 0.2
             }
            },
            "type": "histogram"
           }
          ],
          "histogram2d": [
           {
            "colorbar": {
             "outlinewidth": 0,
             "ticks": ""
            },
            "colorscale": [
             [
              0,
              "#0d0887"
             ],
             [
              0.1111111111111111,
              "#46039f"
             ],
             [
              0.2222222222222222,
              "#7201a8"
             ],
             [
              0.3333333333333333,
              "#9c179e"
             ],
             [
              0.4444444444444444,
              "#bd3786"
             ],
             [
              0.5555555555555556,
              "#d8576b"
             ],
             [
              0.6666666666666666,
              "#ed7953"
             ],
             [
              0.7777777777777778,
              "#fb9f3a"
             ],
             [
              0.8888888888888888,
              "#fdca26"
             ],
             [
              1,
              "#f0f921"
             ]
            ],
            "type": "histogram2d"
           }
          ],
          "histogram2dcontour": [
           {
            "colorbar": {
             "outlinewidth": 0,
             "ticks": ""
            },
            "colorscale": [
             [
              0,
              "#0d0887"
             ],
             [
              0.1111111111111111,
              "#46039f"
             ],
             [
              0.2222222222222222,
              "#7201a8"
             ],
             [
              0.3333333333333333,
              "#9c179e"
             ],
             [
              0.4444444444444444,
              "#bd3786"
             ],
             [
              0.5555555555555556,
              "#d8576b"
             ],
             [
              0.6666666666666666,
              "#ed7953"
             ],
             [
              0.7777777777777778,
              "#fb9f3a"
             ],
             [
              0.8888888888888888,
              "#fdca26"
             ],
             [
              1,
              "#f0f921"
             ]
            ],
            "type": "histogram2dcontour"
           }
          ],
          "mesh3d": [
           {
            "colorbar": {
             "outlinewidth": 0,
             "ticks": ""
            },
            "type": "mesh3d"
           }
          ],
          "parcoords": [
           {
            "line": {
             "colorbar": {
              "outlinewidth": 0,
              "ticks": ""
             }
            },
            "type": "parcoords"
           }
          ],
          "pie": [
           {
            "automargin": true,
            "type": "pie"
           }
          ],
          "scatter": [
           {
            "marker": {
             "line": {
              "color": "#283442"
             }
            },
            "type": "scatter"
           }
          ],
          "scatter3d": [
           {
            "line": {
             "colorbar": {
              "outlinewidth": 0,
              "ticks": ""
             }
            },
            "marker": {
             "colorbar": {
              "outlinewidth": 0,
              "ticks": ""
             }
            },
            "type": "scatter3d"
           }
          ],
          "scattercarpet": [
           {
            "marker": {
             "colorbar": {
              "outlinewidth": 0,
              "ticks": ""
             }
            },
            "type": "scattercarpet"
           }
          ],
          "scattergeo": [
           {
            "marker": {
             "colorbar": {
              "outlinewidth": 0,
              "ticks": ""
             }
            },
            "type": "scattergeo"
           }
          ],
          "scattergl": [
           {
            "marker": {
             "line": {
              "color": "#283442"
             }
            },
            "type": "scattergl"
           }
          ],
          "scattermapbox": [
           {
            "marker": {
             "colorbar": {
              "outlinewidth": 0,
              "ticks": ""
             }
            },
            "type": "scattermapbox"
           }
          ],
          "scatterpolar": [
           {
            "marker": {
             "colorbar": {
              "outlinewidth": 0,
              "ticks": ""
             }
            },
            "type": "scatterpolar"
           }
          ],
          "scatterpolargl": [
           {
            "marker": {
             "colorbar": {
              "outlinewidth": 0,
              "ticks": ""
             }
            },
            "type": "scatterpolargl"
           }
          ],
          "scatterternary": [
           {
            "marker": {
             "colorbar": {
              "outlinewidth": 0,
              "ticks": ""
             }
            },
            "type": "scatterternary"
           }
          ],
          "surface": [
           {
            "colorbar": {
             "outlinewidth": 0,
             "ticks": ""
            },
            "colorscale": [
             [
              0,
              "#0d0887"
             ],
             [
              0.1111111111111111,
              "#46039f"
             ],
             [
              0.2222222222222222,
              "#7201a8"
             ],
             [
              0.3333333333333333,
              "#9c179e"
             ],
             [
              0.4444444444444444,
              "#bd3786"
             ],
             [
              0.5555555555555556,
              "#d8576b"
             ],
             [
              0.6666666666666666,
              "#ed7953"
             ],
             [
              0.7777777777777778,
              "#fb9f3a"
             ],
             [
              0.8888888888888888,
              "#fdca26"
             ],
             [
              1,
              "#f0f921"
             ]
            ],
            "type": "surface"
           }
          ],
          "table": [
           {
            "cells": {
             "fill": {
              "color": "#506784"
             },
             "line": {
              "color": "rgb(17,17,17)"
             }
            },
            "header": {
             "fill": {
              "color": "#2a3f5f"
             },
             "line": {
              "color": "rgb(17,17,17)"
             }
            },
            "type": "table"
           }
          ]
         },
         "layout": {
          "annotationdefaults": {
           "arrowcolor": "#f2f5fa",
           "arrowhead": 0,
           "arrowwidth": 1
          },
          "autotypenumbers": "strict",
          "coloraxis": {
           "colorbar": {
            "outlinewidth": 0,
            "ticks": ""
           }
          },
          "colorscale": {
           "diverging": [
            [
             0,
             "#8e0152"
            ],
            [
             0.1,
             "#c51b7d"
            ],
            [
             0.2,
             "#de77ae"
            ],
            [
             0.3,
             "#f1b6da"
            ],
            [
             0.4,
             "#fde0ef"
            ],
            [
             0.5,
             "#f7f7f7"
            ],
            [
             0.6,
             "#e6f5d0"
            ],
            [
             0.7,
             "#b8e186"
            ],
            [
             0.8,
             "#7fbc41"
            ],
            [
             0.9,
             "#4d9221"
            ],
            [
             1,
             "#276419"
            ]
           ],
           "sequential": [
            [
             0,
             "#0d0887"
            ],
            [
             0.1111111111111111,
             "#46039f"
            ],
            [
             0.2222222222222222,
             "#7201a8"
            ],
            [
             0.3333333333333333,
             "#9c179e"
            ],
            [
             0.4444444444444444,
             "#bd3786"
            ],
            [
             0.5555555555555556,
             "#d8576b"
            ],
            [
             0.6666666666666666,
             "#ed7953"
            ],
            [
             0.7777777777777778,
             "#fb9f3a"
            ],
            [
             0.8888888888888888,
             "#fdca26"
            ],
            [
             1,
             "#f0f921"
            ]
           ],
           "sequentialminus": [
            [
             0,
             "#0d0887"
            ],
            [
             0.1111111111111111,
             "#46039f"
            ],
            [
             0.2222222222222222,
             "#7201a8"
            ],
            [
             0.3333333333333333,
             "#9c179e"
            ],
            [
             0.4444444444444444,
             "#bd3786"
            ],
            [
             0.5555555555555556,
             "#d8576b"
            ],
            [
             0.6666666666666666,
             "#ed7953"
            ],
            [
             0.7777777777777778,
             "#fb9f3a"
            ],
            [
             0.8888888888888888,
             "#fdca26"
            ],
            [
             1,
             "#f0f921"
            ]
           ]
          },
          "colorway": [
           "#636efa",
           "#EF553B",
           "#00cc96",
           "#ab63fa",
           "#FFA15A",
           "#19d3f3",
           "#FF6692",
           "#B6E880",
           "#FF97FF",
           "#FECB52"
          ],
          "font": {
           "color": "#f2f5fa"
          },
          "geo": {
           "bgcolor": "rgb(17,17,17)",
           "lakecolor": "rgb(17,17,17)",
           "landcolor": "rgb(17,17,17)",
           "showlakes": true,
           "showland": true,
           "subunitcolor": "#506784"
          },
          "hoverlabel": {
           "align": "left"
          },
          "hovermode": "closest",
          "mapbox": {
           "style": "dark"
          },
          "paper_bgcolor": "rgb(17,17,17)",
          "plot_bgcolor": "rgb(17,17,17)",
          "polar": {
           "angularaxis": {
            "gridcolor": "#506784",
            "linecolor": "#506784",
            "ticks": ""
           },
           "bgcolor": "rgb(17,17,17)",
           "radialaxis": {
            "gridcolor": "#506784",
            "linecolor": "#506784",
            "ticks": ""
           }
          },
          "scene": {
           "xaxis": {
            "backgroundcolor": "rgb(17,17,17)",
            "gridcolor": "#506784",
            "gridwidth": 2,
            "linecolor": "#506784",
            "showbackground": true,
            "ticks": "",
            "zerolinecolor": "#C8D4E3"
           },
           "yaxis": {
            "backgroundcolor": "rgb(17,17,17)",
            "gridcolor": "#506784",
            "gridwidth": 2,
            "linecolor": "#506784",
            "showbackground": true,
            "ticks": "",
            "zerolinecolor": "#C8D4E3"
           },
           "zaxis": {
            "backgroundcolor": "rgb(17,17,17)",
            "gridcolor": "#506784",
            "gridwidth": 2,
            "linecolor": "#506784",
            "showbackground": true,
            "ticks": "",
            "zerolinecolor": "#C8D4E3"
           }
          },
          "shapedefaults": {
           "line": {
            "color": "#f2f5fa"
           }
          },
          "sliderdefaults": {
           "bgcolor": "#C8D4E3",
           "bordercolor": "rgb(17,17,17)",
           "borderwidth": 1,
           "tickwidth": 0
          },
          "ternary": {
           "aaxis": {
            "gridcolor": "#506784",
            "linecolor": "#506784",
            "ticks": ""
           },
           "baxis": {
            "gridcolor": "#506784",
            "linecolor": "#506784",
            "ticks": ""
           },
           "bgcolor": "rgb(17,17,17)",
           "caxis": {
            "gridcolor": "#506784",
            "linecolor": "#506784",
            "ticks": ""
           }
          },
          "title": {
           "x": 0.05
          },
          "updatemenudefaults": {
           "bgcolor": "#506784",
           "borderwidth": 0
          },
          "xaxis": {
           "automargin": true,
           "gridcolor": "#283442",
           "linecolor": "#506784",
           "ticks": "",
           "title": {
            "standoff": 15
           },
           "zerolinecolor": "#283442",
           "zerolinewidth": 2
          },
          "yaxis": {
           "automargin": true,
           "gridcolor": "#283442",
           "linecolor": "#506784",
           "ticks": "",
           "title": {
            "standoff": 15
           },
           "zerolinecolor": "#283442",
           "zerolinewidth": 2
          }
         }
        },
        "xaxis": {
         "anchor": "y",
         "domain": [
          0,
          1
         ],
         "title": {
          "text": "Title"
         }
        },
        "yaxis": {
         "anchor": "x",
         "domain": [
          0,
          1
         ],
         "title": {
          "text": "count"
         }
        }
       }
      }
     },
     "metadata": {},
     "output_type": "display_data"
    }
   ],
   "source": [
    "import plotly.express as px\n",
    "px.histogram(people_df, x=\"Title\", template=\"plotly_dark\")"
   ]
  },
  {
   "attachments": {},
   "cell_type": "markdown",
   "metadata": {},
   "source": [
    "Quick Visualize"
   ]
  },
  {
   "cell_type": "code",
   "execution_count": 19,
   "metadata": {},
   "outputs": [],
   "source": [
    "import networkx as nx\n",
    "G = nx.DiGraph()\n",
    "G.add_nodes_from(((person[\"Name\"], person) for person in people_df.to_dict(orient=\"records\")), attr=\"people\")\n",
    "G.add_edges_from(people_df[[\"Name\",\"manager\"]].dropna().values.tolist())"
   ]
  },
  {
   "attachments": {},
   "cell_type": "markdown",
   "metadata": {},
   "source": [
    "Ya, that's an org chart!"
   ]
  },
  {
   "cell_type": "code",
   "execution_count": 20,
   "metadata": {},
   "outputs": [],
   "source": [
    "colors = dict(zip(people_df.Team.unique(),px.colors.qualitative.Vivid))\n",
    "def rgb_to_hex(r, g, b):\n",
    "    return f'#{r:02x}{g:02x}{b:02x}'\n",
    "def rgb_string_to_tuple(rgb:str) -> tuple[int,int,int]:\n",
    "    return tuple(int(c) for c in rgb.replace(\"rgb(\",\"\").replace(\")\",\"\").split(\",\"))"
   ]
  },
  {
   "cell_type": "code",
   "execution_count": 21,
   "metadata": {},
   "outputs": [],
   "source": [
    "node_colors = [rgb_to_hex(*rgb_string_to_tuple(colors[team])) for _,team in G.nodes(data=\"Team\")]"
   ]
  },
  {
   "cell_type": "code",
   "execution_count": 22,
   "metadata": {},
   "outputs": [
    {
     "data": {
      "image/png": "[encoded data removed]",
      "text/plain": [
       "<Figure size 640x480 with 1 Axes>"
      ]
     },
     "metadata": {},
     "output_type": "display_data"
    }
   ],
   "source": [
    "nx.draw(G, node_color=node_colors)"
   ]
  },
  {
   "cell_type": "markdown",
   "metadata": {},
   "source": [
    "Annoyingly slow viz w/ Plotly. Much faster without the edges"
   ]
  },
  {
   "cell_type": "code",
   "execution_count": 112,
   "metadata": {},
   "outputs": [
    {
     "data": {
      "application/vnd.plotly.v1+json": {
       "config": {
        "plotlyServerURL": "https://plot.ly"
       },
       "data": [
        {
         "hovertemplate": "x=%{x}<br>y=%{y}<extra></extra>",
         "legendgroup": "",
         "line": {
          "color": "grey",
          "dash": "solid"
         },
         "marker": {
          "symbol": "circle"
         },
         "mode": "lines",
         "name": "",
         "orientation": "v",
         "showlegend": false,
         "type": "scatter",
         "x": [
          -0.9116099497731793,
          -0.38640968622912314
         ],
         "xaxis": "x",
         "y": [
          -0.45152919019854837,
          -0.2415495193798792
         ],
         "yaxis": "y"
        },
        {
         "hovertemplate": "x=%{x}<br>y=%{y}<extra></extra>",
         "legendgroup": "",
         "line": {
          "color": "grey",
          "dash": "solid"
         },
         "marker": {
          "symbol": "circle"
         },
         "mode": "lines",
         "name": "",
         "orientation": "v",
         "showlegend": false,
         "type": "scatter",
         "x": [
          -0.28692565226496286,
          -0.12344921252836996
         ],
         "xaxis": "x",
         "y": [
          -0.46240708235908834,
          -0.7858852697710943
         ],
         "yaxis": "y"
        },
        {
         "hovertemplate": "x=%{x}<br>y=%{y}<extra></extra>",
         "legendgroup": "",
         "line": {
          "color": "grey",
          "dash": "solid"
         },
         "marker": {
          "symbol": "circle"
         },
         "mode": "lines",
         "name": "",
         "orientation": "v",
         "showlegend": false,
         "type": "scatter",
         "x": [
          0.24714369614860912,
          -0.12344921252836996
         ],
         "xaxis": "x",
         "y": [
          -0.8489176234537745,
          -0.7858852697710943
         ],
         "yaxis": "y"
        },
        {
         "hovertemplate": "x=%{x}<br>y=%{y}<extra></extra>",
         "legendgroup": "",
         "line": {
          "color": "grey",
          "dash": "solid"
         },
         "marker": {
          "symbol": "circle"
         },
         "mode": "lines",
         "name": "",
         "orientation": "v",
         "showlegend": false,
         "type": "scatter",
         "x": [
          0.657165360754378,
          0.24829632750881758
         ],
         "xaxis": "x",
         "y": [
          -0.1547222326797562,
          -0.1780637352254751
         ],
         "yaxis": "y"
        },
        {
         "hovertemplate": "x=%{x}<br>y=%{y}<extra></extra>",
         "legendgroup": "",
         "line": {
          "color": "grey",
          "dash": "solid"
         },
         "marker": {
          "symbol": "circle"
         },
         "mode": "lines",
         "name": "",
         "orientation": "v",
         "showlegend": false,
         "type": "scatter",
         "x": [
          0.11380648015778697,
          0.6103968419306298
         ],
         "xaxis": "x",
         "y": [
          0.017940932659528997,
          0.6121221088488524
         ],
         "yaxis": "y"
        },
        {
         "hovertemplate": "x=%{x}<br>y=%{y}<extra></extra>",
         "legendgroup": "",
         "line": {
          "color": "grey",
          "dash": "solid"
         },
         "marker": {
          "symbol": "circle"
         },
         "mode": "lines",
         "name": "",
         "orientation": "v",
         "showlegend": false,
         "type": "scatter",
         "x": [
          -0.38640968622912314,
          0.24829632750881758
         ],
         "xaxis": "x",
         "y": [
          -0.2415495193798792,
          -0.1780637352254751
         ],
         "yaxis": "y"
        },
        {
         "hovertemplate": "x=%{x}<br>y=%{y}<extra></extra>",
         "legendgroup": "",
         "line": {
          "color": "grey",
          "dash": "solid"
         },
         "marker": {
          "symbol": "circle"
         },
         "mode": "lines",
         "name": "",
         "orientation": "v",
         "showlegend": false,
         "type": "scatter",
         "x": [
          -0.12344921252836996,
          0.24829632750881758
         ],
         "xaxis": "x",
         "y": [
          -0.7858852697710943,
          -0.1780637352254751
         ],
         "yaxis": "y"
        },
        {
         "hovertemplate": "x=%{x}<br>y=%{y}<extra></extra>",
         "legendgroup": "",
         "line": {
          "color": "grey",
          "dash": "solid"
         },
         "marker": {
          "symbol": "circle"
         },
         "mode": "lines",
         "name": "",
         "orientation": "v",
         "showlegend": false,
         "type": "scatter",
         "x": [
          -0.2509520464355677,
          0.24829632750881758
         ],
         "xaxis": "x",
         "y": [
          -0.16801457747817763,
          -0.1780637352254751
         ],
         "yaxis": "y"
        },
        {
         "hovertemplate": "x=%{x}<br>y=%{y}<extra></extra>",
         "legendgroup": "",
         "line": {
          "color": "grey",
          "dash": "solid"
         },
         "marker": {
          "symbol": "circle"
         },
         "mode": "lines",
         "name": "",
         "orientation": "v",
         "showlegend": false,
         "type": "scatter",
         "x": [
          0.018810406329861532,
          0.24829632750881758
         ],
         "xaxis": "x",
         "y": [
          -0.2688399547419151,
          -0.1780637352254751
         ],
         "yaxis": "y"
        },
        {
         "hovertemplate": "x=%{x}<br>y=%{y}<extra></extra>",
         "legendgroup": "",
         "line": {
          "color": "grey",
          "dash": "solid"
         },
         "marker": {
          "symbol": "circle"
         },
         "mode": "lines",
         "name": "",
         "orientation": "v",
         "showlegend": false,
         "type": "scatter",
         "x": [
          0.24829632750881758,
          0.6103968419306298
         ],
         "xaxis": "x",
         "y": [
          -0.1780637352254751,
          0.6121221088488524
         ],
         "yaxis": "y"
        },
        {
         "hovertemplate": "x=%{x}<br>y=%{y}<extra></extra>",
         "legendgroup": "",
         "line": {
          "color": "grey",
          "dash": "solid"
         },
         "marker": {
          "symbol": "circle"
         },
         "mode": "lines",
         "name": "",
         "orientation": "v",
         "showlegend": false,
         "type": "scatter",
         "x": [
          0.6682451711962699,
          0.23161931080235804
         ],
         "xaxis": "x",
         "y": [
          -0.2385476414256761,
          -0.12183395706771408
         ],
         "yaxis": "y"
        },
        {
         "hovertemplate": "x=%{x}<br>y=%{y}<extra></extra>",
         "legendgroup": "",
         "line": {
          "color": "grey",
          "dash": "solid"
         },
         "marker": {
          "symbol": "circle"
         },
         "mode": "lines",
         "name": "",
         "orientation": "v",
         "showlegend": false,
         "type": "scatter",
         "x": [
          -0.030282168780612354,
          0.23161931080235804
         ],
         "xaxis": "x",
         "y": [
          -0.8118307677487023,
          -0.12183395706771408
         ],
         "yaxis": "y"
        },
        {
         "hovertemplate": "x=%{x}<br>y=%{y}<extra></extra>",
         "legendgroup": "",
         "line": {
          "color": "grey",
          "dash": "solid"
         },
         "marker": {
          "symbol": "circle"
         },
         "mode": "lines",
         "name": "",
         "orientation": "v",
         "showlegend": false,
         "type": "scatter",
         "x": [
          -0.12076457418120491,
          0.23161931080235804
         ],
         "xaxis": "x",
         "y": [
          -0.16192867290989202,
          -0.12183395706771408
         ],
         "yaxis": "y"
        },
        {
         "hovertemplate": "x=%{x}<br>y=%{y}<extra></extra>",
         "legendgroup": "",
         "line": {
          "color": "grey",
          "dash": "solid"
         },
         "marker": {
          "symbol": "circle"
         },
         "mode": "lines",
         "name": "",
         "orientation": "v",
         "showlegend": false,
         "type": "scatter",
         "x": [
          -0.2639447770395857,
          0.23161931080235804
         ],
         "xaxis": "x",
         "y": [
          -0.48129067552867294,
          -0.12183395706771408
         ],
         "yaxis": "y"
        },
        {
         "hovertemplate": "x=%{x}<br>y=%{y}<extra></extra>",
         "legendgroup": "",
         "line": {
          "color": "grey",
          "dash": "solid"
         },
         "marker": {
          "symbol": "circle"
         },
         "mode": "lines",
         "name": "",
         "orientation": "v",
         "showlegend": false,
         "type": "scatter",
         "x": [
          0.29959030688258537,
          0.23161931080235804
         ],
         "xaxis": "x",
         "y": [
          -0.6738348681204415,
          -0.12183395706771408
         ],
         "yaxis": "y"
        },
        {
         "hovertemplate": "x=%{x}<br>y=%{y}<extra></extra>",
         "legendgroup": "",
         "line": {
          "color": "grey",
          "dash": "solid"
         },
         "marker": {
          "symbol": "circle"
         },
         "mode": "lines",
         "name": "",
         "orientation": "v",
         "showlegend": false,
         "type": "scatter",
         "x": [
          -0.2482704745514858,
          0.23161931080235804
         ],
         "xaxis": "x",
         "y": [
          -0.7137495602305255,
          -0.12183395706771408
         ],
         "yaxis": "y"
        },
        {
         "hovertemplate": "x=%{x}<br>y=%{y}<extra></extra>",
         "legendgroup": "",
         "line": {
          "color": "grey",
          "dash": "solid"
         },
         "marker": {
          "symbol": "circle"
         },
         "mode": "lines",
         "name": "",
         "orientation": "v",
         "showlegend": false,
         "type": "scatter",
         "x": [
          0.3314436905160101,
          0.23161931080235804
         ],
         "xaxis": "x",
         "y": [
          -0.7650998793885324,
          -0.12183395706771408
         ],
         "yaxis": "y"
        },
        {
         "hovertemplate": "x=%{x}<br>y=%{y}<extra></extra>",
         "legendgroup": "",
         "line": {
          "color": "grey",
          "dash": "solid"
         },
         "marker": {
          "symbol": "circle"
         },
         "mode": "lines",
         "name": "",
         "orientation": "v",
         "showlegend": false,
         "type": "scatter",
         "x": [
          0.6219199068779064,
          0.23161931080235804
         ],
         "xaxis": "x",
         "y": [
          -0.5762814646265291,
          -0.12183395706771408
         ],
         "yaxis": "y"
        },
        {
         "hovertemplate": "x=%{x}<br>y=%{y}<extra></extra>",
         "legendgroup": "",
         "line": {
          "color": "grey",
          "dash": "solid"
         },
         "marker": {
          "symbol": "circle"
         },
         "mode": "lines",
         "name": "",
         "orientation": "v",
         "showlegend": false,
         "type": "scatter",
         "x": [
          -0.3252029593918059,
          0.23161931080235804
         ],
         "xaxis": "x",
         "y": [
          -0.6342800694561183,
          -0.12183395706771408
         ],
         "yaxis": "y"
        },
        {
         "hovertemplate": "x=%{x}<br>y=%{y}<extra></extra>",
         "legendgroup": "",
         "line": {
          "color": "grey",
          "dash": "solid"
         },
         "marker": {
          "symbol": "circle"
         },
         "mode": "lines",
         "name": "",
         "orientation": "v",
         "showlegend": false,
         "type": "scatter",
         "x": [
          0.46601177888212914,
          0.23161931080235804
         ],
         "xaxis": "x",
         "y": [
          -0.5748526636044958,
          -0.12183395706771408
         ],
         "yaxis": "y"
        },
        {
         "hovertemplate": "x=%{x}<br>y=%{y}<extra></extra>",
         "legendgroup": "",
         "line": {
          "color": "grey",
          "dash": "solid"
         },
         "marker": {
          "symbol": "circle"
         },
         "mode": "lines",
         "name": "",
         "orientation": "v",
         "showlegend": false,
         "type": "scatter",
         "x": [
          -0.20981425676674095,
          0.23161931080235804
         ],
         "xaxis": "x",
         "y": [
          -0.6618569346232388,
          -0.12183395706771408
         ],
         "yaxis": "y"
        },
        {
         "hovertemplate": "x=%{x}<br>y=%{y}<extra></extra>",
         "legendgroup": "",
         "line": {
          "color": "grey",
          "dash": "solid"
         },
         "marker": {
          "symbol": "circle"
         },
         "mode": "lines",
         "name": "",
         "orientation": "v",
         "showlegend": false,
         "type": "scatter",
         "x": [
          -0.13179656450237184,
          0.23161931080235804
         ],
         "xaxis": "x",
         "y": [
          -0.4794265437307877,
          -0.12183395706771408
         ],
         "yaxis": "y"
        },
        {
         "hovertemplate": "x=%{x}<br>y=%{y}<extra></extra>",
         "legendgroup": "",
         "line": {
          "color": "grey",
          "dash": "solid"
         },
         "marker": {
          "symbol": "circle"
         },
         "mode": "lines",
         "name": "",
         "orientation": "v",
         "showlegend": false,
         "type": "scatter",
         "x": [
          0.19756078627455212,
          0.23161931080235804
         ],
         "xaxis": "x",
         "y": [
          -0.7917605568697341,
          -0.12183395706771408
         ],
         "yaxis": "y"
        },
        {
         "hovertemplate": "x=%{x}<br>y=%{y}<extra></extra>",
         "legendgroup": "",
         "line": {
          "color": "grey",
          "dash": "solid"
         },
         "marker": {
          "symbol": "circle"
         },
         "mode": "lines",
         "name": "",
         "orientation": "v",
         "showlegend": false,
         "type": "scatter",
         "x": [
          -0.16168265196770767,
          0.23161931080235804
         ],
         "xaxis": "x",
         "y": [
          -0.5846283695724235,
          -0.12183395706771408
         ],
         "yaxis": "y"
        },
        {
         "hovertemplate": "x=%{x}<br>y=%{y}<extra></extra>",
         "legendgroup": "",
         "line": {
          "color": "grey",
          "dash": "solid"
         },
         "marker": {
          "symbol": "circle"
         },
         "mode": "lines",
         "name": "",
         "orientation": "v",
         "showlegend": false,
         "type": "scatter",
         "x": [
          0.4731230890331543,
          0.23161931080235804
         ],
         "xaxis": "x",
         "y": [
          -0.6887835102518323,
          -0.12183395706771408
         ],
         "yaxis": "y"
        },
        {
         "hovertemplate": "x=%{x}<br>y=%{y}<extra></extra>",
         "legendgroup": "",
         "line": {
          "color": "grey",
          "dash": "solid"
         },
         "marker": {
          "symbol": "circle"
         },
         "mode": "lines",
         "name": "",
         "orientation": "v",
         "showlegend": false,
         "type": "scatter",
         "x": [
          0.5351914853511983,
          0.23161931080235804
         ],
         "xaxis": "x",
         "y": [
          -0.3671272825093556,
          -0.12183395706771408
         ],
         "yaxis": "y"
        },
        {
         "hovertemplate": "x=%{x}<br>y=%{y}<extra></extra>",
         "legendgroup": "",
         "line": {
          "color": "grey",
          "dash": "solid"
         },
         "marker": {
          "symbol": "circle"
         },
         "mode": "lines",
         "name": "",
         "orientation": "v",
         "showlegend": false,
         "type": "scatter",
         "x": [
          -0.3651083489632152,
          0.23161931080235804
         ],
         "xaxis": "x",
         "y": [
          -0.31374020580591544,
          -0.12183395706771408
         ],
         "yaxis": "y"
        },
        {
         "hovertemplate": "x=%{x}<br>y=%{y}<extra></extra>",
         "legendgroup": "",
         "line": {
          "color": "grey",
          "dash": "solid"
         },
         "marker": {
          "symbol": "circle"
         },
         "mode": "lines",
         "name": "",
         "orientation": "v",
         "showlegend": false,
         "type": "scatter",
         "x": [
          0.6877283263765874,
          0.23161931080235804
         ],
         "xaxis": "x",
         "y": [
          -0.3539448007125556,
          -0.12183395706771408
         ],
         "yaxis": "y"
        },
        {
         "hovertemplate": "x=%{x}<br>y=%{y}<extra></extra>",
         "legendgroup": "",
         "line": {
          "color": "grey",
          "dash": "solid"
         },
         "marker": {
          "symbol": "circle"
         },
         "mode": "lines",
         "name": "",
         "orientation": "v",
         "showlegend": false,
         "type": "scatter",
         "x": [
          0.08178352453851827,
          0.23161931080235804
         ],
         "xaxis": "x",
         "y": [
          -0.5166306344726207,
          -0.12183395706771408
         ],
         "yaxis": "y"
        },
        {
         "hovertemplate": "x=%{x}<br>y=%{y}<extra></extra>",
         "legendgroup": "",
         "line": {
          "color": "grey",
          "dash": "solid"
         },
         "marker": {
          "symbol": "circle"
         },
         "mode": "lines",
         "name": "",
         "orientation": "v",
         "showlegend": false,
         "type": "scatter",
         "x": [
          0.004427260519970346,
          0.23161931080235804
         ],
         "xaxis": "x",
         "y": [
          -0.1379980917994419,
          -0.12183395706771408
         ],
         "yaxis": "y"
        },
        {
         "hovertemplate": "x=%{x}<br>y=%{y}<extra></extra>",
         "legendgroup": "",
         "line": {
          "color": "grey",
          "dash": "solid"
         },
         "marker": {
          "symbol": "circle"
         },
         "mode": "lines",
         "name": "",
         "orientation": "v",
         "showlegend": false,
         "type": "scatter",
         "x": [
          0.44158147348562776,
          0.23161931080235804
         ],
         "xaxis": "x",
         "y": [
          -0.1511728072532737,
          -0.12183395706771408
         ],
         "yaxis": "y"
        },
        {
         "hovertemplate": "x=%{x}<br>y=%{y}<extra></extra>",
         "legendgroup": "",
         "line": {
          "color": "grey",
          "dash": "solid"
         },
         "marker": {
          "symbol": "circle"
         },
         "mode": "lines",
         "name": "",
         "orientation": "v",
         "showlegend": false,
         "type": "scatter",
         "x": [
          0.3944042529976037,
          0.23161931080235804
         ],
         "xaxis": "x",
         "y": [
          -0.763221514545531,
          -0.12183395706771408
         ],
         "yaxis": "y"
        },
        {
         "hovertemplate": "x=%{x}<br>y=%{y}<extra></extra>",
         "legendgroup": "",
         "line": {
          "color": "grey",
          "dash": "solid"
         },
         "marker": {
          "symbol": "circle"
         },
         "mode": "lines",
         "name": "",
         "orientation": "v",
         "showlegend": false,
         "type": "scatter",
         "x": [
          0.5097993526106037,
          0.23161931080235804
         ],
         "xaxis": "x",
         "y": [
          -0.5052031609901954,
          -0.12183395706771408
         ],
         "yaxis": "y"
        },
        {
         "hovertemplate": "x=%{x}<br>y=%{y}<extra></extra>",
         "legendgroup": "",
         "line": {
          "color": "grey",
          "dash": "solid"
         },
         "marker": {
          "symbol": "circle"
         },
         "mode": "lines",
         "name": "",
         "orientation": "v",
         "showlegend": false,
         "type": "scatter",
         "x": [
          0.7558755013154499,
          0.23161931080235804
         ],
         "xaxis": "x",
         "y": [
          -0.2030312494601584,
          -0.12183395706771408
         ],
         "yaxis": "y"
        },
        {
         "hovertemplate": "x=%{x}<br>y=%{y}<extra></extra>",
         "legendgroup": "",
         "line": {
          "color": "grey",
          "dash": "solid"
         },
         "marker": {
          "symbol": "circle"
         },
         "mode": "lines",
         "name": "",
         "orientation": "v",
         "showlegend": false,
         "type": "scatter",
         "x": [
          0.7396890856009279,
          0.23161931080235804
         ],
         "xaxis": "x",
         "y": [
          -0.46781091187008045,
          -0.12183395706771408
         ],
         "yaxis": "y"
        },
        {
         "hovertemplate": "x=%{x}<br>y=%{y}<extra></extra>",
         "legendgroup": "",
         "line": {
          "color": "grey",
          "dash": "solid"
         },
         "marker": {
          "symbol": "circle"
         },
         "mode": "lines",
         "name": "",
         "orientation": "v",
         "showlegend": false,
         "type": "scatter",
         "x": [
          0.35160923654174286,
          0.23161931080235804
         ],
         "xaxis": "x",
         "y": [
          0.039764395083407095,
          -0.12183395706771408
         ],
         "yaxis": "y"
        },
        {
         "hovertemplate": "x=%{x}<br>y=%{y}<extra></extra>",
         "legendgroup": "",
         "line": {
          "color": "grey",
          "dash": "solid"
         },
         "marker": {
          "symbol": "circle"
         },
         "mode": "lines",
         "name": "",
         "orientation": "v",
         "showlegend": false,
         "type": "scatter",
         "x": [
          -0.18868995112470524,
          0.23161931080235804
         ],
         "xaxis": "x",
         "y": [
          -0.4627642665055128,
          -0.12183395706771408
         ],
         "yaxis": "y"
        },
        {
         "hovertemplate": "x=%{x}<br>y=%{y}<extra></extra>",
         "legendgroup": "",
         "line": {
          "color": "grey",
          "dash": "solid"
         },
         "marker": {
          "symbol": "circle"
         },
         "mode": "lines",
         "name": "",
         "orientation": "v",
         "showlegend": false,
         "type": "scatter",
         "x": [
          -0.3113612815356192,
          0.23161931080235804
         ],
         "xaxis": "x",
         "y": [
          -0.17340075385402381,
          -0.12183395706771408
         ],
         "yaxis": "y"
        },
        {
         "hovertemplate": "x=%{x}<br>y=%{y}<extra></extra>",
         "legendgroup": "",
         "line": {
          "color": "grey",
          "dash": "solid"
         },
         "marker": {
          "symbol": "circle"
         },
         "mode": "lines",
         "name": "",
         "orientation": "v",
         "showlegend": false,
         "type": "scatter",
         "x": [
          -0.012804891908768648,
          0.23161931080235804
         ],
         "xaxis": "x",
         "y": [
          -0.7354472386314759,
          -0.12183395706771408
         ],
         "yaxis": "y"
        },
        {
         "hovertemplate": "x=%{x}<br>y=%{y}<extra></extra>",
         "legendgroup": "",
         "line": {
          "color": "grey",
          "dash": "solid"
         },
         "marker": {
          "symbol": "circle"
         },
         "mode": "lines",
         "name": "",
         "orientation": "v",
         "showlegend": false,
         "type": "scatter",
         "x": [
          -0.2525235644717462,
          0.23161931080235804
         ],
         "xaxis": "x",
         "y": [
          -0.3289962962580399,
          -0.12183395706771408
         ],
         "yaxis": "y"
        },
        {
         "hovertemplate": "x=%{x}<br>y=%{y}<extra></extra>",
         "legendgroup": "",
         "line": {
          "color": "grey",
          "dash": "solid"
         },
         "marker": {
          "symbol": "circle"
         },
         "mode": "lines",
         "name": "",
         "orientation": "v",
         "showlegend": false,
         "type": "scatter",
         "x": [
          -0.25225388216507044,
          0.23161931080235804
         ],
         "xaxis": "x",
         "y": [
          -0.06477671518579775,
          -0.12183395706771408
         ],
         "yaxis": "y"
        },
        {
         "hovertemplate": "x=%{x}<br>y=%{y}<extra></extra>",
         "legendgroup": "",
         "line": {
          "color": "grey",
          "dash": "solid"
         },
         "marker": {
          "symbol": "circle"
         },
         "mode": "lines",
         "name": "",
         "orientation": "v",
         "showlegend": false,
         "type": "scatter",
         "x": [
          0.21925772477504593,
          0.23161931080235804
         ],
         "xaxis": "x",
         "y": [
          -0.7286672333612011,
          -0.12183395706771408
         ],
         "yaxis": "y"
        },
        {
         "hovertemplate": "x=%{x}<br>y=%{y}<extra></extra>",
         "legendgroup": "",
         "line": {
          "color": "grey",
          "dash": "solid"
         },
         "marker": {
          "symbol": "circle"
         },
         "mode": "lines",
         "name": "",
         "orientation": "v",
         "showlegend": false,
         "type": "scatter",
         "x": [
          0.4846330067305574,
          0.23161931080235804
         ],
         "xaxis": "x",
         "y": [
          -0.263940692404965,
          -0.12183395706771408
         ],
         "yaxis": "y"
        },
        {
         "hovertemplate": "x=%{x}<br>y=%{y}<extra></extra>",
         "legendgroup": "",
         "line": {
          "color": "grey",
          "dash": "solid"
         },
         "marker": {
          "symbol": "circle"
         },
         "mode": "lines",
         "name": "",
         "orientation": "v",
         "showlegend": false,
         "type": "scatter",
         "x": [
          -0.35246339451313136,
          0.23161931080235804
         ],
         "xaxis": "x",
         "y": [
          -0.4285658381644668,
          -0.12183395706771408
         ],
         "yaxis": "y"
        },
        {
         "hovertemplate": "x=%{x}<br>y=%{y}<extra></extra>",
         "legendgroup": "",
         "line": {
          "color": "grey",
          "dash": "solid"
         },
         "marker": {
          "symbol": "circle"
         },
         "mode": "lines",
         "name": "",
         "orientation": "v",
         "showlegend": false,
         "type": "scatter",
         "x": [
          -0.40090696937247366,
          0.23161931080235804
         ],
         "xaxis": "x",
         "y": [
          -0.6003667808216909,
          -0.12183395706771408
         ],
         "yaxis": "y"
        },
        {
         "hovertemplate": "x=%{x}<br>y=%{y}<extra></extra>",
         "legendgroup": "",
         "line": {
          "color": "grey",
          "dash": "solid"
         },
         "marker": {
          "symbol": "circle"
         },
         "mode": "lines",
         "name": "",
         "orientation": "v",
         "showlegend": false,
         "type": "scatter",
         "x": [
          -0.37213558205522623,
          0.23161931080235804
         ],
         "xaxis": "x",
         "y": [
          -0.5331735323527176,
          -0.12183395706771408
         ],
         "yaxis": "y"
        },
        {
         "hovertemplate": "x=%{x}<br>y=%{y}<extra></extra>",
         "legendgroup": "",
         "line": {
          "color": "grey",
          "dash": "solid"
         },
         "marker": {
          "symbol": "circle"
         },
         "mode": "lines",
         "name": "",
         "orientation": "v",
         "showlegend": false,
         "type": "scatter",
         "x": [
          0.23161931080235804,
          0.6103968419306298
         ],
         "xaxis": "x",
         "y": [
          -0.12183395706771408,
          0.6121221088488524
         ],
         "yaxis": "y"
        },
        {
         "hovertemplate": "x=%{x}<br>y=%{y}<extra></extra>",
         "legendgroup": "",
         "line": {
          "color": "grey",
          "dash": "solid"
         },
         "marker": {
          "symbol": "circle"
         },
         "mode": "lines",
         "name": "",
         "orientation": "v",
         "showlegend": false,
         "type": "scatter",
         "x": [
          -0.17711757846727333,
          0.4865268538571384
         ],
         "xaxis": "x",
         "y": [
          0.8357891714614378,
          0.7043432054513578
         ],
         "yaxis": "y"
        },
        {
         "hovertemplate": "x=%{x}<br>y=%{y}<extra></extra>",
         "legendgroup": "",
         "line": {
          "color": "grey",
          "dash": "solid"
         },
         "marker": {
          "symbol": "circle"
         },
         "mode": "lines",
         "name": "",
         "orientation": "v",
         "showlegend": false,
         "type": "scatter",
         "x": [
          -0.4434537676726576,
          -1
         ],
         "xaxis": "x",
         "y": [
          0.4231798744535036,
          -0.0715021505394834
         ],
         "yaxis": "y"
        },
        {
         "hovertemplate": "x=%{x}<br>y=%{y}<extra></extra>",
         "legendgroup": "",
         "line": {
          "color": "grey",
          "dash": "solid"
         },
         "marker": {
          "symbol": "circle"
         },
         "mode": "lines",
         "name": "",
         "orientation": "v",
         "showlegend": false,
         "type": "scatter",
         "x": [
          -0.12088778133218933,
          -0.11320790307196069
         ],
         "xaxis": "x",
         "y": [
          -0.024976212941855477,
          -0.6510484708258307
         ],
         "yaxis": "y"
        },
        {
         "hovertemplate": "x=%{x}<br>y=%{y}<extra></extra>",
         "legendgroup": "",
         "line": {
          "color": "grey",
          "dash": "solid"
         },
         "marker": {
          "symbol": "circle"
         },
         "mode": "lines",
         "name": "",
         "orientation": "v",
         "showlegend": false,
         "type": "scatter",
         "x": [
          -0.510275410191811,
          -0.7567934789639643
         ],
         "xaxis": "x",
         "y": [
          0.0492778562387187,
          -0.5189812675416725
         ],
         "yaxis": "y"
        },
        {
         "hovertemplate": "x=%{x}<br>y=%{y}<extra></extra>",
         "legendgroup": "",
         "line": {
          "color": "grey",
          "dash": "solid"
         },
         "marker": {
          "symbol": "circle"
         },
         "mode": "lines",
         "name": "",
         "orientation": "v",
         "showlegend": false,
         "type": "scatter",
         "x": [
          0.7984106328850727,
          0.6103968419306298
         ],
         "xaxis": "x",
         "y": [
          0.3441253318857048,
          0.6121221088488524
         ],
         "yaxis": "y"
        },
        {
         "hovertemplate": "x=%{x}<br>y=%{y}<extra></extra>",
         "legendgroup": "",
         "line": {
          "color": "grey",
          "dash": "solid"
         },
         "marker": {
          "symbol": "circle"
         },
         "mode": "lines",
         "name": "",
         "orientation": "v",
         "showlegend": false,
         "type": "scatter",
         "x": [
          0.4865268538571384,
          0.704422343279853
         ],
         "xaxis": "x",
         "y": [
          0.7043432054513578,
          0.340260812559393
         ],
         "yaxis": "y"
        },
        {
         "hovertemplate": "x=%{x}<br>y=%{y}<extra></extra>",
         "legendgroup": "",
         "line": {
          "color": "grey",
          "dash": "solid"
         },
         "marker": {
          "symbol": "circle"
         },
         "mode": "lines",
         "name": "",
         "orientation": "v",
         "showlegend": false,
         "type": "scatter",
         "x": [
          0.5532177168586316,
          0.704422343279853
         ],
         "xaxis": "x",
         "y": [
          0.10868835071975985,
          0.340260812559393
         ],
         "yaxis": "y"
        },
        {
         "hovertemplate": "x=%{x}<br>y=%{y}<extra></extra>",
         "legendgroup": "",
         "line": {
          "color": "grey",
          "dash": "solid"
         },
         "marker": {
          "symbol": "circle"
         },
         "mode": "lines",
         "name": "",
         "orientation": "v",
         "showlegend": false,
         "type": "scatter",
         "x": [
          -1,
          -0.7567934789639643
         ],
         "xaxis": "x",
         "y": [
          -0.0715021505394834,
          -0.5189812675416725
         ],
         "yaxis": "y"
        },
        {
         "hovertemplate": "x=%{x}<br>y=%{y}<extra></extra>",
         "legendgroup": "",
         "line": {
          "color": "grey",
          "dash": "solid"
         },
         "marker": {
          "symbol": "circle"
         },
         "mode": "lines",
         "name": "",
         "orientation": "v",
         "showlegend": false,
         "type": "scatter",
         "x": [
          -0.11320790307196069,
          -0.7567934789639643
         ],
         "xaxis": "x",
         "y": [
          -0.6510484708258307,
          -0.5189812675416725
         ],
         "yaxis": "y"
        },
        {
         "hovertemplate": "x=%{x}<br>y=%{y}<extra></extra>",
         "legendgroup": "",
         "line": {
          "color": "grey",
          "dash": "solid"
         },
         "marker": {
          "symbol": "circle"
         },
         "mode": "lines",
         "name": "",
         "orientation": "v",
         "showlegend": false,
         "type": "scatter",
         "x": [
          -0.8537954029433696,
          -0.7567934789639643
         ],
         "xaxis": "x",
         "y": [
          -0.00252363779258295,
          -0.5189812675416725
         ],
         "yaxis": "y"
        },
        {
         "hovertemplate": "x=%{x}<br>y=%{y}<extra></extra>",
         "legendgroup": "",
         "line": {
          "color": "grey",
          "dash": "solid"
         },
         "marker": {
          "symbol": "circle"
         },
         "mode": "lines",
         "name": "",
         "orientation": "v",
         "showlegend": false,
         "type": "scatter",
         "x": [
          0.704422343279853,
          0.39708433792821296
         ],
         "xaxis": "x",
         "y": [
          0.340260812559393,
          0.06839052561221447
         ],
         "yaxis": "y"
        },
        {
         "hovertemplate": "x=%{x}<br>y=%{y}<extra></extra>",
         "legendgroup": "",
         "line": {
          "color": "grey",
          "dash": "solid"
         },
         "marker": {
          "symbol": "circle"
         },
         "mode": "lines",
         "name": "",
         "orientation": "v",
         "showlegend": false,
         "type": "scatter",
         "x": [
          0.6287460718239275,
          0.42587990617927673
         ],
         "xaxis": "x",
         "y": [
          0.23508868861898785,
          0.002223783394966904
         ],
         "yaxis": "y"
        },
        {
         "hovertemplate": "x=%{x}<br>y=%{y}<extra></extra>",
         "legendgroup": "",
         "line": {
          "color": "grey",
          "dash": "solid"
         },
         "marker": {
          "symbol": "circle"
         },
         "mode": "lines",
         "name": "",
         "orientation": "v",
         "showlegend": false,
         "type": "scatter",
         "x": [
          -0.7567934789639643,
          -0.5551334492945836
         ],
         "xaxis": "x",
         "y": [
          -0.5189812675416725,
          -0.27822544655699355
         ],
         "yaxis": "y"
        },
        {
         "hovertemplate": "x=%{x}<br>y=%{y}<extra></extra>",
         "legendgroup": "",
         "line": {
          "color": "grey",
          "dash": "solid"
         },
         "marker": {
          "symbol": "circle"
         },
         "mode": "lines",
         "name": "",
         "orientation": "v",
         "showlegend": false,
         "type": "scatter",
         "x": [
          0.39708433792821296,
          0.05307879668080102
         ],
         "xaxis": "x",
         "y": [
          0.06839052561221447,
          0.3388375392482649
         ],
         "yaxis": "y"
        },
        {
         "hovertemplate": "x=%{x}<br>y=%{y}<extra></extra>",
         "legendgroup": "",
         "line": {
          "color": "grey",
          "dash": "solid"
         },
         "marker": {
          "symbol": "circle"
         },
         "mode": "lines",
         "name": "",
         "orientation": "v",
         "showlegend": false,
         "type": "scatter",
         "x": [
          0.42587990617927673,
          0.05307879668080102
         ],
         "xaxis": "x",
         "y": [
          0.002223783394966904,
          0.3388375392482649
         ],
         "yaxis": "y"
        },
        {
         "hovertemplate": "x=%{x}<br>y=%{y}<extra></extra>",
         "legendgroup": "",
         "line": {
          "color": "grey",
          "dash": "solid"
         },
         "marker": {
          "symbol": "circle"
         },
         "mode": "lines",
         "name": "",
         "orientation": "v",
         "showlegend": false,
         "type": "scatter",
         "x": [
          0.14710078668843998,
          0.05307879668080102
         ],
         "xaxis": "x",
         "y": [
          0.9279048727264059,
          0.3388375392482649
         ],
         "yaxis": "y"
        },
        {
         "hovertemplate": "x=%{x}<br>y=%{y}<extra></extra>",
         "legendgroup": "",
         "line": {
          "color": "grey",
          "dash": "solid"
         },
         "marker": {
          "symbol": "circle"
         },
         "mode": "lines",
         "name": "",
         "orientation": "v",
         "showlegend": false,
         "type": "scatter",
         "x": [
          0.379777862370935,
          0.06000303340487574
         ],
         "xaxis": "x",
         "y": [
          -0.4052533128832272,
          -0.0666970373704195
         ],
         "yaxis": "y"
        },
        {
         "hovertemplate": "x=%{x}<br>y=%{y}<extra></extra>",
         "legendgroup": "",
         "line": {
          "color": "grey",
          "dash": "solid"
         },
         "marker": {
          "symbol": "circle"
         },
         "mode": "lines",
         "name": "",
         "orientation": "v",
         "showlegend": false,
         "type": "scatter",
         "x": [
          0.03767024988876825,
          0.06000303340487574
         ],
         "xaxis": "x",
         "y": [
          -0.7132716000985697,
          -0.0666970373704195
         ],
         "yaxis": "y"
        },
        {
         "hovertemplate": "x=%{x}<br>y=%{y}<extra></extra>",
         "legendgroup": "",
         "line": {
          "color": "grey",
          "dash": "solid"
         },
         "marker": {
          "symbol": "circle"
         },
         "mode": "lines",
         "name": "",
         "orientation": "v",
         "showlegend": false,
         "type": "scatter",
         "x": [
          -0.5551334492945836,
          0.06000303340487574
         ],
         "xaxis": "x",
         "y": [
          -0.27822544655699355,
          -0.0666970373704195
         ],
         "yaxis": "y"
        },
        {
         "hovertemplate": "x=%{x}<br>y=%{y}<extra></extra>",
         "legendgroup": "",
         "line": {
          "color": "grey",
          "dash": "solid"
         },
         "marker": {
          "symbol": "circle"
         },
         "mode": "lines",
         "name": "",
         "orientation": "v",
         "showlegend": false,
         "type": "scatter",
         "x": [
          -0.33922649734541827,
          0.06000303340487574
         ],
         "xaxis": "x",
         "y": [
          -0.5354056175009576,
          -0.0666970373704195
         ],
         "yaxis": "y"
        },
        {
         "hovertemplate": "x=%{x}<br>y=%{y}<extra></extra>",
         "legendgroup": "",
         "line": {
          "color": "grey",
          "dash": "solid"
         },
         "marker": {
          "symbol": "circle"
         },
         "mode": "lines",
         "name": "",
         "orientation": "v",
         "showlegend": false,
         "type": "scatter",
         "x": [
          0.06000303340487574,
          0.6103968419306298
         ],
         "xaxis": "x",
         "y": [
          -0.0666970373704195,
          0.6121221088488524
         ],
         "yaxis": "y"
        },
        {
         "hovertemplate": "x=%{x}<br>y=%{y}<extra></extra>",
         "legendgroup": "",
         "line": {
          "color": "grey",
          "dash": "solid"
         },
         "marker": {
          "symbol": "circle"
         },
         "mode": "lines",
         "name": "",
         "orientation": "v",
         "showlegend": false,
         "type": "scatter",
         "x": [
          -0.5469632217484444,
          0.05307879668080102
         ],
         "xaxis": "x",
         "y": [
          -0.08094051470068152,
          0.3388375392482649
         ],
         "yaxis": "y"
        },
        {
         "hovertemplate": "x=%{x}<br>y=%{y}<extra></extra>",
         "legendgroup": "",
         "line": {
          "color": "grey",
          "dash": "solid"
         },
         "marker": {
          "symbol": "circle"
         },
         "mode": "lines",
         "name": "",
         "orientation": "v",
         "showlegend": false,
         "type": "scatter",
         "x": [
          0.05307879668080102,
          0.6103968419306298
         ],
         "xaxis": "x",
         "y": [
          0.3388375392482649,
          0.6121221088488524
         ],
         "yaxis": "y"
        },
        {
         "hovertemplate": "x=%{x}<br>y=%{y}<extra></extra>",
         "legendgroup": "",
         "line": {
          "color": "grey",
          "dash": "solid"
         },
         "marker": {
          "symbol": "circle"
         },
         "mode": "lines",
         "name": "",
         "orientation": "v",
         "showlegend": false,
         "type": "scatter",
         "x": [
          -0.3515930943183441,
          -0.033706179633232816
         ],
         "xaxis": "x",
         "y": [
          -0.26224350790445966,
          0.3981668904583955
         ],
         "yaxis": "y"
        },
        {
         "hovertemplate": "x=%{x}<br>y=%{y}<extra></extra>",
         "legendgroup": "",
         "line": {
          "color": "grey",
          "dash": "solid"
         },
         "marker": {
          "symbol": "circle"
         },
         "mode": "lines",
         "name": "",
         "orientation": "v",
         "showlegend": false,
         "type": "scatter",
         "x": [
          -0.33476090606739045,
          -0.033706179633232816
         ],
         "xaxis": "x",
         "y": [
          0.1050662195665581,
          0.3981668904583955
         ],
         "yaxis": "y"
        },
        {
         "hovertemplate": "x=%{x}<br>y=%{y}<extra></extra>",
         "legendgroup": "",
         "line": {
          "color": "grey",
          "dash": "solid"
         },
         "marker": {
          "symbol": "circle"
         },
         "mode": "lines",
         "name": "",
         "orientation": "v",
         "showlegend": false,
         "type": "scatter",
         "x": [
          0.030477227460108967,
          0.44692020831985413
         ],
         "xaxis": "x",
         "y": [
          0.7302623209516227,
          0.1682315368708719
         ],
         "yaxis": "y"
        },
        {
         "hovertemplate": "x=%{x}<br>y=%{y}<extra></extra>",
         "legendgroup": "",
         "line": {
          "color": "grey",
          "dash": "solid"
         },
         "marker": {
          "symbol": "circle"
         },
         "mode": "lines",
         "name": "",
         "orientation": "v",
         "showlegend": false,
         "type": "scatter",
         "x": [
          -0.7173076383622143,
          -0.24651389718721783
         ],
         "xaxis": "x",
         "y": [
          0.09853316865048169,
          -0.26636709860174795
         ],
         "yaxis": "y"
        },
        {
         "hovertemplate": "x=%{x}<br>y=%{y}<extra></extra>",
         "legendgroup": "",
         "line": {
          "color": "grey",
          "dash": "solid"
         },
         "marker": {
          "symbol": "circle"
         },
         "mode": "lines",
         "name": "",
         "orientation": "v",
         "showlegend": false,
         "type": "scatter",
         "x": [
          0.44692020831985413,
          0.5143421820465178
         ],
         "xaxis": "x",
         "y": [
          0.1682315368708719,
          -0.45621180997025734
         ],
         "yaxis": "y"
        },
        {
         "hovertemplate": "x=%{x}<br>y=%{y}<extra></extra>",
         "legendgroup": "",
         "line": {
          "color": "grey",
          "dash": "solid"
         },
         "marker": {
          "symbol": "circle"
         },
         "mode": "lines",
         "name": "",
         "orientation": "v",
         "showlegend": false,
         "type": "scatter",
         "x": [
          0.14524184672993778,
          0.5143421820465178
         ],
         "xaxis": "x",
         "y": [
          0.2186551853992051,
          -0.45621180997025734
         ],
         "yaxis": "y"
        },
        {
         "hovertemplate": "x=%{x}<br>y=%{y}<extra></extra>",
         "legendgroup": "",
         "line": {
          "color": "grey",
          "dash": "solid"
         },
         "marker": {
          "symbol": "circle"
         },
         "mode": "lines",
         "name": "",
         "orientation": "v",
         "showlegend": false,
         "type": "scatter",
         "x": [
          -0.24651389718721783,
          0.15542138833655683
         ],
         "xaxis": "x",
         "y": [
          -0.26636709860174795,
          -0.40390741687605414
         ],
         "yaxis": "y"
        },
        {
         "hovertemplate": "x=%{x}<br>y=%{y}<extra></extra>",
         "legendgroup": "",
         "line": {
          "color": "grey",
          "dash": "solid"
         },
         "marker": {
          "symbol": "circle"
         },
         "mode": "lines",
         "name": "",
         "orientation": "v",
         "showlegend": false,
         "type": "scatter",
         "x": [
          0.2589269586540322,
          0.15542138833655683
         ],
         "xaxis": "x",
         "y": [
          -0.4635513930149177,
          -0.40390741687605414
         ],
         "yaxis": "y"
        },
        {
         "hovertemplate": "x=%{x}<br>y=%{y}<extra></extra>",
         "legendgroup": "",
         "line": {
          "color": "grey",
          "dash": "solid"
         },
         "marker": {
          "symbol": "circle"
         },
         "mode": "lines",
         "name": "",
         "orientation": "v",
         "showlegend": false,
         "type": "scatter",
         "x": [
          -0.033706179633232816,
          0.6103968419306298
         ],
         "xaxis": "x",
         "y": [
          0.3981668904583955,
          0.6121221088488524
         ],
         "yaxis": "y"
        },
        {
         "hovertemplate": "x=%{x}<br>y=%{y}<extra></extra>",
         "legendgroup": "",
         "line": {
          "color": "grey",
          "dash": "solid"
         },
         "marker": {
          "symbol": "circle"
         },
         "mode": "lines",
         "name": "",
         "orientation": "v",
         "showlegend": false,
         "type": "scatter",
         "x": [
          -0.08198316635017948,
          0.15542138833655683
         ],
         "xaxis": "x",
         "y": [
          -0.7614071489235568,
          -0.40390741687605414
         ],
         "yaxis": "y"
        },
        {
         "hovertemplate": "x=%{x}<br>y=%{y}<extra></extra>",
         "legendgroup": "",
         "line": {
          "color": "grey",
          "dash": "solid"
         },
         "marker": {
          "symbol": "circle"
         },
         "mode": "lines",
         "name": "",
         "orientation": "v",
         "showlegend": false,
         "type": "scatter",
         "x": [
          0.5143421820465178,
          0.15542138833655683
         ],
         "xaxis": "x",
         "y": [
          -0.45621180997025734,
          -0.40390741687605414
         ],
         "yaxis": "y"
        },
        {
         "hovertemplate": "x=%{x}<br>y=%{y}<extra></extra>",
         "legendgroup": "",
         "line": {
          "color": "grey",
          "dash": "solid"
         },
         "marker": {
          "symbol": "circle"
         },
         "mode": "lines",
         "name": "",
         "orientation": "v",
         "showlegend": false,
         "type": "scatter",
         "x": [
          0.15542138833655683,
          0.22136135660757472
         ],
         "xaxis": "x",
         "y": [
          -0.40390741687605414,
          0.26907070412918643
         ],
         "yaxis": "y"
        },
        {
         "hovertemplate": "x=%{x}<br>y=%{y}<extra></extra>",
         "legendgroup": "",
         "line": {
          "color": "grey",
          "dash": "solid"
         },
         "marker": {
          "symbol": "circle"
         },
         "mode": "lines",
         "name": "",
         "orientation": "v",
         "showlegend": false,
         "type": "scatter",
         "x": [
          -0.07027350254658085,
          0.22136135660757472
         ],
         "xaxis": "x",
         "y": [
          -0.28971514305234536,
          0.26907070412918643
         ],
         "yaxis": "y"
        },
        {
         "hovertemplate": "x=%{x}<br>y=%{y}<extra></extra>",
         "legendgroup": "",
         "line": {
          "color": "grey",
          "dash": "solid"
         },
         "marker": {
          "symbol": "circle"
         },
         "mode": "lines",
         "name": "",
         "orientation": "v",
         "showlegend": false,
         "type": "scatter",
         "x": [
          0.22136135660757472,
          0.6103968419306298
         ],
         "xaxis": "x",
         "y": [
          0.26907070412918643,
          0.6121221088488524
         ],
         "yaxis": "y"
        },
        {
         "hovertemplate": "x=%{x}<br>y=%{y}<extra></extra>",
         "legendgroup": "",
         "line": {
          "color": "grey",
          "dash": "solid"
         },
         "marker": {
          "symbol": "circle"
         },
         "mode": "lines",
         "name": "",
         "orientation": "v",
         "showlegend": false,
         "type": "scatter",
         "x": [
          0.021222546205076888,
          0.17204096118534074
         ],
         "xaxis": "x",
         "y": [
          -0.34949919041133376,
          0.24830476967299614
         ],
         "yaxis": "y"
        },
        {
         "hovertemplate": "x=%{x}<br>y=%{y}<extra></extra>",
         "legendgroup": "",
         "line": {
          "color": "grey",
          "dash": "solid"
         },
         "marker": {
          "symbol": "circle"
         },
         "mode": "lines",
         "name": "",
         "orientation": "v",
         "showlegend": false,
         "type": "scatter",
         "x": [
          0.000846475950736789,
          0.17204096118534074
         ],
         "xaxis": "x",
         "y": [
          -0.494112489092129,
          0.24830476967299614
         ],
         "yaxis": "y"
        },
        {
         "hovertemplate": "x=%{x}<br>y=%{y}<extra></extra>",
         "legendgroup": "",
         "line": {
          "color": "grey",
          "dash": "solid"
         },
         "marker": {
          "symbol": "circle"
         },
         "mode": "lines",
         "name": "",
         "orientation": "v",
         "showlegend": false,
         "type": "scatter",
         "x": [
          0.7564371300791914,
          0.17204096118534074
         ],
         "xaxis": "x",
         "y": [
          0.3926313820072877,
          0.24830476967299614
         ],
         "yaxis": "y"
        },
        {
         "hovertemplate": "x=%{x}<br>y=%{y}<extra></extra>",
         "legendgroup": "",
         "line": {
          "color": "grey",
          "dash": "solid"
         },
         "marker": {
          "symbol": "circle"
         },
         "mode": "lines",
         "name": "",
         "orientation": "v",
         "showlegend": false,
         "type": "scatter",
         "x": [
          0.17204096118534074,
          0.2052409555212517
         ],
         "xaxis": "x",
         "y": [
          0.24830476967299614,
          0.6810820369468527
         ],
         "yaxis": "y"
        },
        {
         "hovertemplate": "x=%{x}<br>y=%{y}<extra></extra>",
         "legendgroup": "",
         "line": {
          "color": "grey",
          "dash": "solid"
         },
         "marker": {
          "symbol": "circle"
         },
         "mode": "lines",
         "name": "",
         "orientation": "v",
         "showlegend": false,
         "type": "scatter",
         "x": [
          0.2052409555212517,
          0.6103968419306298
         ],
         "xaxis": "x",
         "y": [
          0.6810820369468527,
          0.6121221088488524
         ],
         "yaxis": "y"
        },
        {
         "hovertemplate": "x=%{x}<br>y=%{y}<extra></extra>",
         "legendgroup": "",
         "line": {
          "color": "grey",
          "dash": "solid"
         },
         "marker": {
          "symbol": "circle"
         },
         "mode": "lines",
         "name": "",
         "orientation": "v",
         "showlegend": false,
         "type": "scatter",
         "x": [
          -0.6621526857741525,
          -0.5715237205110157
         ],
         "xaxis": "x",
         "y": [
          0.4630611491715289,
          0.6286859935722385
         ],
         "yaxis": "y"
        },
        {
         "hovertemplate": "x=%{x}<br>y=%{y}<extra></extra>",
         "legendgroup": "",
         "line": {
          "color": "grey",
          "dash": "solid"
         },
         "marker": {
          "symbol": "circle"
         },
         "mode": "lines",
         "name": "",
         "orientation": "v",
         "showlegend": false,
         "type": "scatter",
         "x": [
          0.21605916867364758,
          0.08029076578868641
         ],
         "xaxis": "x",
         "y": [
          0.7805038405060728,
          0.7119897896928871
         ],
         "yaxis": "y"
        },
        {
         "hovertemplate": "x=%{x}<br>y=%{y}<extra></extra>",
         "legendgroup": "",
         "line": {
          "color": "grey",
          "dash": "solid"
         },
         "marker": {
          "symbol": "circle"
         },
         "mode": "lines",
         "name": "",
         "orientation": "v",
         "showlegend": false,
         "type": "scatter",
         "x": [
          0.17148724533769447,
          0.6103968419306298
         ],
         "xaxis": "x",
         "y": [
          0.48770816662336425,
          0.6121221088488524
         ],
         "yaxis": "y"
        },
        {
         "hovertemplate": "x=%{x}<br>y=%{y}<extra></extra>",
         "legendgroup": "",
         "line": {
          "color": "grey",
          "dash": "solid"
         },
         "marker": {
          "symbol": "circle"
         },
         "mode": "lines",
         "name": "",
         "orientation": "v",
         "showlegend": false,
         "type": "scatter",
         "x": [
          -0.5715237205110157,
          0.08029076578868641
         ],
         "xaxis": "x",
         "y": [
          0.6286859935722385,
          0.7119897896928871
         ],
         "yaxis": "y"
        },
        {
         "hovertemplate": "x=%{x}<br>y=%{y}<extra></extra>",
         "legendgroup": "",
         "line": {
          "color": "grey",
          "dash": "solid"
         },
         "marker": {
          "symbol": "circle"
         },
         "mode": "lines",
         "name": "",
         "orientation": "v",
         "showlegend": false,
         "type": "scatter",
         "x": [
          0.11836677179736879,
          0.08029076578868641
         ],
         "xaxis": "x",
         "y": [
          0.5263456884271316,
          0.7119897896928871
         ],
         "yaxis": "y"
        },
        {
         "hovertemplate": "x=%{x}<br>y=%{y}<extra></extra>",
         "legendgroup": "",
         "line": {
          "color": "grey",
          "dash": "solid"
         },
         "marker": {
          "symbol": "circle"
         },
         "mode": "lines",
         "name": "",
         "orientation": "v",
         "showlegend": false,
         "type": "scatter",
         "x": [
          0.08029076578868641,
          0.6103968419306298
         ],
         "xaxis": "x",
         "y": [
          0.7119897896928871,
          0.6121221088488524
         ],
         "yaxis": "y"
        },
        {
         "hovertemplate": "x=%{x}<br>y=%{y}<extra></extra>",
         "legendgroup": "",
         "line": {
          "color": "grey",
          "dash": "solid"
         },
         "marker": {
          "symbol": "circle"
         },
         "mode": "lines",
         "name": "",
         "orientation": "v",
         "showlegend": false,
         "type": "scatter",
         "x": [
          0.12076379588451558,
          0.16107365883573244
         ],
         "xaxis": "x",
         "y": [
          -0.11857802962934991,
          0.4675550132269715
         ],
         "yaxis": "y"
        },
        {
         "hovertemplate": "x=%{x}<br>y=%{y}<extra></extra>",
         "legendgroup": "",
         "line": {
          "color": "grey",
          "dash": "solid"
         },
         "marker": {
          "symbol": "circle"
         },
         "mode": "lines",
         "name": "",
         "orientation": "v",
         "showlegend": false,
         "type": "scatter",
         "x": [
          -0.8980248152501726,
          -0.31432426285916754
         ],
         "xaxis": "x",
         "y": [
          0.11354421367324256,
          0.14842717699424904
         ],
         "yaxis": "y"
        },
        {
         "hovertemplate": "x=%{x}<br>y=%{y}<extra></extra>",
         "legendgroup": "",
         "line": {
          "color": "grey",
          "dash": "solid"
         },
         "marker": {
          "symbol": "circle"
         },
         "mode": "lines",
         "name": "",
         "orientation": "v",
         "showlegend": false,
         "type": "scatter",
         "x": [
          -0.042858703852368195,
          -0.31432426285916754
         ],
         "xaxis": "x",
         "y": [
          -0.31137675155334404,
          0.14842717699424904
         ],
         "yaxis": "y"
        },
        {
         "hovertemplate": "x=%{x}<br>y=%{y}<extra></extra>",
         "legendgroup": "",
         "line": {
          "color": "grey",
          "dash": "solid"
         },
         "marker": {
          "symbol": "circle"
         },
         "mode": "lines",
         "name": "",
         "orientation": "v",
         "showlegend": false,
         "type": "scatter",
         "x": [
          -0.4128583174671341,
          0.16696908476023853
         ],
         "xaxis": "x",
         "y": [
          0.7297037740070285,
          0.8672714575323176
         ],
         "yaxis": "y"
        },
        {
         "hovertemplate": "x=%{x}<br>y=%{y}<extra></extra>",
         "legendgroup": "",
         "line": {
          "color": "grey",
          "dash": "solid"
         },
         "marker": {
          "symbol": "circle"
         },
         "mode": "lines",
         "name": "",
         "orientation": "v",
         "showlegend": false,
         "type": "scatter",
         "x": [
          0.042293770627810715,
          0.16696908476023853
         ],
         "xaxis": "x",
         "y": [
          0.24690662317033915,
          0.8672714575323176
         ],
         "yaxis": "y"
        },
        {
         "hovertemplate": "x=%{x}<br>y=%{y}<extra></extra>",
         "legendgroup": "",
         "line": {
          "color": "grey",
          "dash": "solid"
         },
         "marker": {
          "symbol": "circle"
         },
         "mode": "lines",
         "name": "",
         "orientation": "v",
         "showlegend": false,
         "type": "scatter",
         "x": [
          -0.026610360129226667,
          0.16696908476023853
         ],
         "xaxis": "x",
         "y": [
          0.11614176875476805,
          0.8672714575323176
         ],
         "yaxis": "y"
        },
        {
         "hovertemplate": "x=%{x}<br>y=%{y}<extra></extra>",
         "legendgroup": "",
         "line": {
          "color": "grey",
          "dash": "solid"
         },
         "marker": {
          "symbol": "circle"
         },
         "mode": "lines",
         "name": "",
         "orientation": "v",
         "showlegend": false,
         "type": "scatter",
         "x": [
          0.3154310096417572,
          0.16696908476023853
         ],
         "xaxis": "x",
         "y": [
          0.4629530413820137,
          0.8672714575323176
         ],
         "yaxis": "y"
        },
        {
         "hovertemplate": "x=%{x}<br>y=%{y}<extra></extra>",
         "legendgroup": "",
         "line": {
          "color": "grey",
          "dash": "solid"
         },
         "marker": {
          "symbol": "circle"
         },
         "mode": "lines",
         "name": "",
         "orientation": "v",
         "showlegend": false,
         "type": "scatter",
         "x": [
          0.3566680044903517,
          0.16696908476023853
         ],
         "xaxis": "x",
         "y": [
          0.9603270030375199,
          0.8672714575323176
         ],
         "yaxis": "y"
        },
        {
         "hovertemplate": "x=%{x}<br>y=%{y}<extra></extra>",
         "legendgroup": "",
         "line": {
          "color": "grey",
          "dash": "solid"
         },
         "marker": {
          "symbol": "circle"
         },
         "mode": "lines",
         "name": "",
         "orientation": "v",
         "showlegend": false,
         "type": "scatter",
         "x": [
          0.16107365883573244,
          0.16696908476023853
         ],
         "xaxis": "x",
         "y": [
          0.4675550132269715,
          0.8672714575323176
         ],
         "yaxis": "y"
        },
        {
         "hovertemplate": "x=%{x}<br>y=%{y}<extra></extra>",
         "legendgroup": "",
         "line": {
          "color": "grey",
          "dash": "solid"
         },
         "marker": {
          "symbol": "circle"
         },
         "mode": "lines",
         "name": "",
         "orientation": "v",
         "showlegend": false,
         "type": "scatter",
         "x": [
          0.42394530060131336,
          0.16696908476023853
         ],
         "xaxis": "x",
         "y": [
          0.8747112856185412,
          0.8672714575323176
         ],
         "yaxis": "y"
        },
        {
         "hovertemplate": "x=%{x}<br>y=%{y}<extra></extra>",
         "legendgroup": "",
         "line": {
          "color": "grey",
          "dash": "solid"
         },
         "marker": {
          "symbol": "circle"
         },
         "mode": "lines",
         "name": "",
         "orientation": "v",
         "showlegend": false,
         "type": "scatter",
         "x": [
          0.017989156044397055,
          0.16696908476023853
         ],
         "xaxis": "x",
         "y": [
          0.3969547376669279,
          0.8672714575323176
         ],
         "yaxis": "y"
        },
        {
         "hovertemplate": "x=%{x}<br>y=%{y}<extra></extra>",
         "legendgroup": "",
         "line": {
          "color": "grey",
          "dash": "solid"
         },
         "marker": {
          "symbol": "circle"
         },
         "mode": "lines",
         "name": "",
         "orientation": "v",
         "showlegend": false,
         "type": "scatter",
         "x": [
          -0.4331534871687205,
          0.16696908476023853
         ],
         "xaxis": "x",
         "y": [
          0.3609134978620945,
          0.8672714575323176
         ],
         "yaxis": "y"
        },
        {
         "hovertemplate": "x=%{x}<br>y=%{y}<extra></extra>",
         "legendgroup": "",
         "line": {
          "color": "grey",
          "dash": "solid"
         },
         "marker": {
          "symbol": "circle"
         },
         "mode": "lines",
         "name": "",
         "orientation": "v",
         "showlegend": false,
         "type": "scatter",
         "x": [
          -0.31432426285916754,
          0.16696908476023853
         ],
         "xaxis": "x",
         "y": [
          0.14842717699424904,
          0.8672714575323176
         ],
         "yaxis": "y"
        },
        {
         "hovertemplate": "x=%{x}<br>y=%{y}<extra></extra>",
         "legendgroup": "",
         "line": {
          "color": "grey",
          "dash": "solid"
         },
         "marker": {
          "symbol": "circle"
         },
         "mode": "lines",
         "name": "",
         "orientation": "v",
         "showlegend": false,
         "type": "scatter",
         "x": [
          -0.46086296780290725,
          0.16696908476023853
         ],
         "xaxis": "x",
         "y": [
          0.1802158535457435,
          0.8672714575323176
         ],
         "yaxis": "y"
        },
        {
         "hovertemplate": "x=%{x}<br>y=%{y}<extra></extra>",
         "legendgroup": "",
         "line": {
          "color": "grey",
          "dash": "solid"
         },
         "marker": {
          "symbol": "circle"
         },
         "mode": "lines",
         "name": "",
         "orientation": "v",
         "showlegend": false,
         "type": "scatter",
         "x": [
          0.20316795321686937,
          0.16696908476023853
         ],
         "xaxis": "x",
         "y": [
          0.226884748220937,
          0.8672714575323176
         ],
         "yaxis": "y"
        },
        {
         "hovertemplate": "x=%{x}<br>y=%{y}<extra></extra>",
         "legendgroup": "",
         "line": {
          "color": "grey",
          "dash": "solid"
         },
         "marker": {
          "symbol": "circle"
         },
         "mode": "lines",
         "name": "",
         "orientation": "v",
         "showlegend": false,
         "type": "scatter",
         "x": [
          -0.05379011950992771,
          0.16696908476023853
         ],
         "xaxis": "x",
         "y": [
          0.9381577132450372,
          0.8672714575323176
         ],
         "yaxis": "y"
        },
        {
         "hovertemplate": "x=%{x}<br>y=%{y}<extra></extra>",
         "legendgroup": "",
         "line": {
          "color": "grey",
          "dash": "solid"
         },
         "marker": {
          "symbol": "circle"
         },
         "mode": "lines",
         "name": "",
         "orientation": "v",
         "showlegend": false,
         "type": "scatter",
         "x": [
          0.029056657787506882,
          0.16696908476023853
         ],
         "xaxis": "x",
         "y": [
          0.9789217880890229,
          0.8672714575323176
         ],
         "yaxis": "y"
        },
        {
         "hovertemplate": "x=%{x}<br>y=%{y}<extra></extra>",
         "legendgroup": "",
         "line": {
          "color": "grey",
          "dash": "solid"
         },
         "marker": {
          "symbol": "circle"
         },
         "mode": "lines",
         "name": "",
         "orientation": "v",
         "showlegend": false,
         "type": "scatter",
         "x": [
          0.49256144840148053,
          0.16696908476023853
         ],
         "xaxis": "x",
         "y": [
          0.7619798160408117,
          0.8672714575323176
         ],
         "yaxis": "y"
        },
        {
         "hovertemplate": "x=%{x}<br>y=%{y}<extra></extra>",
         "legendgroup": "",
         "line": {
          "color": "grey",
          "dash": "solid"
         },
         "marker": {
          "symbol": "circle"
         },
         "mode": "lines",
         "name": "",
         "orientation": "v",
         "showlegend": false,
         "type": "scatter",
         "x": [
          -0.3220553940084706,
          0.16696908476023853
         ],
         "xaxis": "x",
         "y": [
          0.6802578074345228,
          0.8672714575323176
         ],
         "yaxis": "y"
        },
        {
         "hovertemplate": "x=%{x}<br>y=%{y}<extra></extra>",
         "legendgroup": "",
         "line": {
          "color": "grey",
          "dash": "solid"
         },
         "marker": {
          "symbol": "circle"
         },
         "mode": "lines",
         "name": "",
         "orientation": "v",
         "showlegend": false,
         "type": "scatter",
         "x": [
          0.3150759579857443,
          0.16696908476023853
         ],
         "xaxis": "x",
         "y": [
          0.2257403618368394,
          0.8672714575323176
         ],
         "yaxis": "y"
        },
        {
         "hovertemplate": "x=%{x}<br>y=%{y}<extra></extra>",
         "legendgroup": "",
         "line": {
          "color": "grey",
          "dash": "solid"
         },
         "marker": {
          "symbol": "circle"
         },
         "mode": "lines",
         "name": "",
         "orientation": "v",
         "showlegend": false,
         "type": "scatter",
         "x": [
          -0.11966476935967094,
          0.16696908476023853
         ],
         "xaxis": "x",
         "y": [
          0.5997677684356603,
          0.8672714575323176
         ],
         "yaxis": "y"
        },
        {
         "hovertemplate": "x=%{x}<br>y=%{y}<extra></extra>",
         "legendgroup": "",
         "line": {
          "color": "grey",
          "dash": "solid"
         },
         "marker": {
          "symbol": "circle"
         },
         "mode": "lines",
         "name": "",
         "orientation": "v",
         "showlegend": false,
         "type": "scatter",
         "x": [
          0.16696908476023853,
          0.6103968419306298
         ],
         "xaxis": "x",
         "y": [
          0.8672714575323176,
          0.6121221088488524
         ],
         "yaxis": "y"
        },
        {
         "hovertemplate": "x=%{x}<br>y=%{y}<extra></extra>",
         "legendgroup": "",
         "line": {
          "color": "grey",
          "dash": "solid"
         },
         "marker": {
          "symbol": "circle"
         },
         "mode": "lines",
         "name": "",
         "orientation": "v",
         "showlegend": false,
         "type": "scatter",
         "x": [
          0.6888538466127244,
          0.7430631606092505
         ],
         "xaxis": "x",
         "y": [
          -0.4347920750243584,
          0.1191276086959908
         ],
         "yaxis": "y"
        },
        {
         "hovertemplate": "x=%{x}<br>y=%{y}<extra></extra>",
         "legendgroup": "",
         "line": {
          "color": "grey",
          "dash": "solid"
         },
         "marker": {
          "symbol": "circle"
         },
         "mode": "lines",
         "name": "",
         "orientation": "v",
         "showlegend": false,
         "type": "scatter",
         "x": [
          -0.2289543438638023,
          0.6103968419306298
         ],
         "xaxis": "x",
         "y": [
          0.3765192857871319,
          0.6121221088488524
         ],
         "yaxis": "y"
        },
        {
         "hovertemplate": "x=%{x}<br>y=%{y}<extra></extra>",
         "legendgroup": "",
         "line": {
          "color": "grey",
          "dash": "solid"
         },
         "marker": {
          "symbol": "circle"
         },
         "mode": "lines",
         "name": "",
         "orientation": "v",
         "showlegend": false,
         "type": "scatter",
         "x": [
          -0.1684990992818708,
          0.22884636656073612
         ],
         "xaxis": "x",
         "y": [
          0.4294435138483018,
          -0.0027651773876865354
         ],
         "yaxis": "y"
        },
        {
         "hovertemplate": "x=%{x}<br>y=%{y}<extra></extra>",
         "legendgroup": "",
         "line": {
          "color": "grey",
          "dash": "solid"
         },
         "marker": {
          "symbol": "circle"
         },
         "mode": "lines",
         "name": "",
         "orientation": "v",
         "showlegend": false,
         "type": "scatter",
         "x": [
          0.41598142578450026,
          0.7430631606092505
         ],
         "xaxis": "x",
         "y": [
          0.41306300660413664,
          0.1191276086959908
         ],
         "yaxis": "y"
        },
        {
         "hovertemplate": "x=%{x}<br>y=%{y}<extra></extra>",
         "legendgroup": "",
         "line": {
          "color": "grey",
          "dash": "solid"
         },
         "marker": {
          "symbol": "circle"
         },
         "mode": "lines",
         "name": "",
         "orientation": "v",
         "showlegend": false,
         "type": "scatter",
         "x": [
          0.477388963554628,
          0.7430631606092505
         ],
         "xaxis": "x",
         "y": [
          0.4863122799149132,
          0.1191276086959908
         ],
         "yaxis": "y"
        },
        {
         "hovertemplate": "x=%{x}<br>y=%{y}<extra></extra>",
         "legendgroup": "",
         "line": {
          "color": "grey",
          "dash": "solid"
         },
         "marker": {
          "symbol": "circle"
         },
         "mode": "lines",
         "name": "",
         "orientation": "v",
         "showlegend": false,
         "type": "scatter",
         "x": [
          0.22884636656073612,
          0.7430631606092505
         ],
         "xaxis": "x",
         "y": [
          -0.0027651773876865354,
          0.1191276086959908
         ],
         "yaxis": "y"
        },
        {
         "hovertemplate": "x=%{x}<br>y=%{y}<extra></extra>",
         "legendgroup": "",
         "line": {
          "color": "grey",
          "dash": "solid"
         },
         "marker": {
          "symbol": "circle"
         },
         "mode": "lines",
         "name": "",
         "orientation": "v",
         "showlegend": false,
         "type": "scatter",
         "x": [
          0.7430631606092505,
          0.6103968419306298
         ],
         "xaxis": "x",
         "y": [
          0.1191276086959908,
          0.6121221088488524
         ],
         "yaxis": "y"
        },
        {
         "hovertemplate": "x=%{x}<br>y=%{y}<extra></extra>",
         "legendgroup": "",
         "line": {
          "color": "grey",
          "dash": "solid"
         },
         "marker": {
          "symbol": "circle"
         },
         "mode": "lines",
         "name": "",
         "orientation": "v",
         "showlegend": false,
         "type": "scatter",
         "x": [
          -0.9094166201549999,
          -0.572687539807141
         ],
         "xaxis": "x",
         "y": [
          0.6091833133007254,
          0.7526952990494573
         ],
         "yaxis": "y"
        },
        {
         "hovertemplate": "x=%{x}<br>y=%{y}<extra></extra>",
         "legendgroup": "",
         "line": {
          "color": "grey",
          "dash": "solid"
         },
         "marker": {
          "symbol": "circle"
         },
         "mode": "lines",
         "name": "",
         "orientation": "v",
         "showlegend": false,
         "type": "scatter",
         "x": [
          -0.4599009204529615,
          -0.30961892219346887
         ],
         "xaxis": "x",
         "y": [
          -0.4512330264354023,
          0.10994342191109828
         ],
         "yaxis": "y"
        },
        {
         "hovertemplate": "x=%{x}<br>y=%{y}<extra></extra>",
         "legendgroup": "",
         "line": {
          "color": "grey",
          "dash": "solid"
         },
         "marker": {
          "symbol": "circle"
         },
         "mode": "lines",
         "name": "",
         "orientation": "v",
         "showlegend": false,
         "type": "scatter",
         "x": [
          -0.15166139586792368,
          -0.11200035189776829
         ],
         "xaxis": "x",
         "y": [
          -0.3661255016452301,
          0.17966079555066888
         ],
         "yaxis": "y"
        },
        {
         "hovertemplate": "x=%{x}<br>y=%{y}<extra></extra>",
         "legendgroup": "",
         "line": {
          "color": "grey",
          "dash": "solid"
         },
         "marker": {
          "symbol": "circle"
         },
         "mode": "lines",
         "name": "",
         "orientation": "v",
         "showlegend": false,
         "type": "scatter",
         "x": [
          -0.7302899447290202,
          -0.11200035189776829
         ],
         "xaxis": "x",
         "y": [
          0.035477315069312766,
          0.17966079555066888
         ],
         "yaxis": "y"
        },
        {
         "hovertemplate": "x=%{x}<br>y=%{y}<extra></extra>",
         "legendgroup": "",
         "line": {
          "color": "grey",
          "dash": "solid"
         },
         "marker": {
          "symbol": "circle"
         },
         "mode": "lines",
         "name": "",
         "orientation": "v",
         "showlegend": false,
         "type": "scatter",
         "x": [
          0.6631071566125653,
          0.7697213920023891
         ],
         "xaxis": "x",
         "y": [
          0.28540685663088683,
          0.27325686940469146
         ],
         "yaxis": "y"
        },
        {
         "hovertemplate": "x=%{x}<br>y=%{y}<extra></extra>",
         "legendgroup": "",
         "line": {
          "color": "grey",
          "dash": "solid"
         },
         "marker": {
          "symbol": "circle"
         },
         "mode": "lines",
         "name": "",
         "orientation": "v",
         "showlegend": false,
         "type": "scatter",
         "x": [
          0.7697213920023891,
          0.6103968419306298
         ],
         "xaxis": "x",
         "y": [
          0.27325686940469146,
          0.6121221088488524
         ],
         "yaxis": "y"
        },
        {
         "hovertemplate": "x=%{x}<br>y=%{y}<extra></extra>",
         "legendgroup": "",
         "line": {
          "color": "grey",
          "dash": "solid"
         },
         "marker": {
          "symbol": "circle"
         },
         "mode": "lines",
         "name": "",
         "orientation": "v",
         "showlegend": false,
         "type": "scatter",
         "x": [
          -0.572687539807141,
          -0.127666521549996
         ],
         "xaxis": "x",
         "y": [
          0.7526952990494573,
          0.7148938966541153
         ],
         "yaxis": "y"
        },
        {
         "hovertemplate": "x=%{x}<br>y=%{y}<extra></extra>",
         "legendgroup": "",
         "line": {
          "color": "grey",
          "dash": "solid"
         },
         "marker": {
          "symbol": "circle"
         },
         "mode": "lines",
         "name": "",
         "orientation": "v",
         "showlegend": false,
         "type": "scatter",
         "x": [
          0.5239721482079108,
          0.20210071979824254
         ],
         "xaxis": "x",
         "y": [
          0.3111569139717947,
          0.6033068638482171
         ],
         "yaxis": "y"
        },
        {
         "hovertemplate": "x=%{x}<br>y=%{y}<extra></extra>",
         "legendgroup": "",
         "line": {
          "color": "grey",
          "dash": "solid"
         },
         "marker": {
          "symbol": "circle"
         },
         "mode": "lines",
         "name": "",
         "orientation": "v",
         "showlegend": false,
         "type": "scatter",
         "x": [
          0.712858067240391,
          0.13396091357131035
         ],
         "xaxis": "x",
         "y": [
          -0.04939885378317555,
          0.31909827724887796
         ],
         "yaxis": "y"
        },
        {
         "hovertemplate": "x=%{x}<br>y=%{y}<extra></extra>",
         "legendgroup": "",
         "line": {
          "color": "grey",
          "dash": "solid"
         },
         "marker": {
          "symbol": "circle"
         },
         "mode": "lines",
         "name": "",
         "orientation": "v",
         "showlegend": false,
         "type": "scatter",
         "x": [
          -0.30961892219346887,
          -0.9220460548829746
         ],
         "xaxis": "x",
         "y": [
          0.10994342191109828,
          0.32610129774551866
         ],
         "yaxis": "y"
        },
        {
         "hovertemplate": "x=%{x}<br>y=%{y}<extra></extra>",
         "legendgroup": "",
         "line": {
          "color": "grey",
          "dash": "solid"
         },
         "marker": {
          "symbol": "circle"
         },
         "mode": "lines",
         "name": "",
         "orientation": "v",
         "showlegend": false,
         "type": "scatter",
         "x": [
          -0.127666521549996,
          -0.34697177929728334
         ],
         "xaxis": "x",
         "y": [
          0.7148938966541153,
          0.7744499739350792
         ],
         "yaxis": "y"
        },
        {
         "hovertemplate": "x=%{x}<br>y=%{y}<extra></extra>",
         "legendgroup": "",
         "line": {
          "color": "grey",
          "dash": "solid"
         },
         "marker": {
          "symbol": "circle"
         },
         "mode": "lines",
         "name": "",
         "orientation": "v",
         "showlegend": false,
         "type": "scatter",
         "x": [
          0.20210071979824254,
          -0.34697177929728334
         ],
         "xaxis": "x",
         "y": [
          0.6033068638482171,
          0.7744499739350792
         ],
         "yaxis": "y"
        },
        {
         "hovertemplate": "x=%{x}<br>y=%{y}<extra></extra>",
         "legendgroup": "",
         "line": {
          "color": "grey",
          "dash": "solid"
         },
         "marker": {
          "symbol": "circle"
         },
         "mode": "lines",
         "name": "",
         "orientation": "v",
         "showlegend": false,
         "type": "scatter",
         "x": [
          0.13396091357131035,
          -0.34697177929728334
         ],
         "xaxis": "x",
         "y": [
          0.31909827724887796,
          0.7744499739350792
         ],
         "yaxis": "y"
        },
        {
         "hovertemplate": "x=%{x}<br>y=%{y}<extra></extra>",
         "legendgroup": "",
         "line": {
          "color": "grey",
          "dash": "solid"
         },
         "marker": {
          "symbol": "circle"
         },
         "mode": "lines",
         "name": "",
         "orientation": "v",
         "showlegend": false,
         "type": "scatter",
         "x": [
          -0.9220460548829746,
          -0.8039112022091496
         ],
         "xaxis": "x",
         "y": [
          0.32610129774551866,
          0.010361559764031643
         ],
         "yaxis": "y"
        },
        {
         "hovertemplate": "x=%{x}<br>y=%{y}<extra></extra>",
         "legendgroup": "",
         "line": {
          "color": "grey",
          "dash": "solid"
         },
         "marker": {
          "symbol": "circle"
         },
         "mode": "lines",
         "name": "",
         "orientation": "v",
         "showlegend": false,
         "type": "scatter",
         "x": [
          -0.11200035189776829,
          0.6103968419306298
         ],
         "xaxis": "x",
         "y": [
          0.17966079555066888,
          0.6121221088488524
         ],
         "yaxis": "y"
        },
        {
         "hovertemplate": "x=%{x}<br>y=%{y}<extra></extra>",
         "legendgroup": "",
         "line": {
          "color": "grey",
          "dash": "solid"
         },
         "marker": {
          "symbol": "circle"
         },
         "mode": "lines",
         "name": "",
         "orientation": "v",
         "showlegend": false,
         "type": "scatter",
         "x": [
          -0.34697177929728334,
          -0.08810130320492573
         ],
         "xaxis": "x",
         "y": [
          0.7744499739350792,
          0.6003075461228058
         ],
         "yaxis": "y"
        },
        {
         "hovertemplate": "x=%{x}<br>y=%{y}<extra></extra>",
         "legendgroup": "",
         "line": {
          "color": "grey",
          "dash": "solid"
         },
         "marker": {
          "symbol": "circle"
         },
         "mode": "lines",
         "name": "",
         "orientation": "v",
         "showlegend": false,
         "type": "scatter",
         "x": [
          -0.45427206298699974,
          -0.68078529598231
         ],
         "xaxis": "x",
         "y": [
          -0.6996802560850415,
          -0.30220303844259144
         ],
         "yaxis": "y"
        },
        {
         "hovertemplate": "x=%{x}<br>y=%{y}<extra></extra>",
         "legendgroup": "",
         "line": {
          "color": "grey",
          "dash": "solid"
         },
         "marker": {
          "symbol": "circle"
         },
         "mode": "lines",
         "name": "",
         "orientation": "v",
         "showlegend": false,
         "type": "scatter",
         "x": [
          -0.18471419182527063,
          -0.1757969808984805
         ],
         "xaxis": "x",
         "y": [
          -0.20173984245377774,
          0.324339704363188
         ],
         "yaxis": "y"
        },
        {
         "hovertemplate": "x=%{x}<br>y=%{y}<extra></extra>",
         "legendgroup": "",
         "line": {
          "color": "grey",
          "dash": "solid"
         },
         "marker": {
          "symbol": "circle"
         },
         "mode": "lines",
         "name": "",
         "orientation": "v",
         "showlegend": false,
         "type": "scatter",
         "x": [
          -0.7223349430421827,
          -0.1757969808984805
         ],
         "xaxis": "x",
         "y": [
          -0.019368589129723147,
          0.324339704363188
         ],
         "yaxis": "y"
        },
        {
         "hovertemplate": "x=%{x}<br>y=%{y}<extra></extra>",
         "legendgroup": "",
         "line": {
          "color": "grey",
          "dash": "solid"
         },
         "marker": {
          "symbol": "circle"
         },
         "mode": "lines",
         "name": "",
         "orientation": "v",
         "showlegend": false,
         "type": "scatter",
         "x": [
          -0.8039112022091496,
          -0.1757969808984805
         ],
         "xaxis": "x",
         "y": [
          0.010361559764031643,
          0.324339704363188
         ],
         "yaxis": "y"
        },
        {
         "hovertemplate": "x=%{x}<br>y=%{y}<extra></extra>",
         "legendgroup": "",
         "line": {
          "color": "grey",
          "dash": "solid"
         },
         "marker": {
          "symbol": "circle"
         },
         "mode": "lines",
         "name": "",
         "orientation": "v",
         "showlegend": false,
         "type": "scatter",
         "x": [
          -0.1757969808984805,
          0.6103968419306298
         ],
         "xaxis": "x",
         "y": [
          0.324339704363188,
          0.6121221088488524
         ],
         "yaxis": "y"
        },
        {
         "hovertemplate": "x=%{x}<br>y=%{y}<extra></extra>",
         "legendgroup": "",
         "line": {
          "color": "grey",
          "dash": "solid"
         },
         "marker": {
          "symbol": "circle"
         },
         "mode": "lines",
         "name": "",
         "orientation": "v",
         "showlegend": false,
         "type": "scatter",
         "x": [
          -0.22490555691078187,
          -0.1229456342496306
         ],
         "xaxis": "x",
         "y": [
          -0.1791279000185045,
          0.26038766119231416
         ],
         "yaxis": "y"
        },
        {
         "hovertemplate": "x=%{x}<br>y=%{y}<extra></extra>",
         "legendgroup": "",
         "line": {
          "color": "grey",
          "dash": "solid"
         },
         "marker": {
          "symbol": "circle"
         },
         "mode": "lines",
         "name": "",
         "orientation": "v",
         "showlegend": false,
         "type": "scatter",
         "x": [
          -0.7548591385093851,
          -0.1229456342496306
         ],
         "xaxis": "x",
         "y": [
          0.24405983359226668,
          0.26038766119231416
         ],
         "yaxis": "y"
        },
        {
         "hovertemplate": "x=%{x}<br>y=%{y}<extra></extra>",
         "legendgroup": "",
         "line": {
          "color": "grey",
          "dash": "solid"
         },
         "marker": {
          "symbol": "circle"
         },
         "mode": "lines",
         "name": "",
         "orientation": "v",
         "showlegend": false,
         "type": "scatter",
         "x": [
          -0.08810130320492573,
          -0.1229456342496306
         ],
         "xaxis": "x",
         "y": [
          0.6003075461228058,
          0.26038766119231416
         ],
         "yaxis": "y"
        },
        {
         "hovertemplate": "x=%{x}<br>y=%{y}<extra></extra>",
         "legendgroup": "",
         "line": {
          "color": "grey",
          "dash": "solid"
         },
         "marker": {
          "symbol": "circle"
         },
         "mode": "lines",
         "name": "",
         "orientation": "v",
         "showlegend": false,
         "type": "scatter",
         "x": [
          -0.68078529598231,
          -0.1229456342496306
         ],
         "xaxis": "x",
         "y": [
          -0.30220303844259144,
          0.26038766119231416
         ],
         "yaxis": "y"
        },
        {
         "hovertemplate": "x=%{x}<br>y=%{y}<extra></extra>",
         "legendgroup": "",
         "line": {
          "color": "grey",
          "dash": "solid"
         },
         "marker": {
          "symbol": "circle"
         },
         "mode": "lines",
         "name": "",
         "orientation": "v",
         "showlegend": false,
         "type": "scatter",
         "x": [
          -0.1229456342496306,
          0.6103968419306298
         ],
         "xaxis": "x",
         "y": [
          0.26038766119231416,
          0.6121221088488524
         ],
         "yaxis": "y"
        },
        {
         "customdata": [
          [
           "John Phelps",
           10,
           "people",
           "John Phelps",
           "2023-03-08",
           "Contract",
           [
            "Python",
            "Scala",
            "Java"
           ],
           "Seattle",
           "PST",
           "USA",
           "Engineer",
           "Internal Tools",
           0,
           "Terry Sellers DDS",
           "Tiffany Chavez"
          ],
          [
           "Robert Jefferson",
           10,
           "people",
           "Robert Jefferson",
           "2023-03-20",
           "Part Time",
           [
            "Go",
            "JavaScript"
           ],
           "Seattle",
           "PST",
           "USA",
           "Senior Engineer",
           "Internal Tools",
           1,
           "Donna Velasquez",
           "Tamara Hernandez"
          ],
          [
           "Abigail Love",
           10,
           "people",
           "Abigail Love",
           "2023-04-05",
           "Part Time",
           [
            "Python",
            "JavaScript",
            "Typescript",
            "Java"
           ],
           "Seattle",
           "PST",
           "USA",
           "Senior Engineer",
           "Internal Tools",
           1,
           "Donna Velasquez",
           "Tiffany Chavez"
          ],
          [
           "Crystal Carpenter",
           10,
           "people",
           "Crystal Carpenter",
           "2022-04-02",
           "Full Time",
           [
            "JavaScript",
            "Typescript",
            "Java"
           ],
           "Seattle",
           "PST",
           "USA",
           "Senior Engineer",
           "Internal Tools",
           1,
           "Katherine Osborne",
           "Kim Anderson"
          ],
          [
           "Krystal Wilson",
           10,
           "people",
           "Krystal Wilson",
           "2020-09-20",
           "Full Time",
           [
            "Python",
            "Java"
           ],
           "Seattle",
           "PST",
           "USA",
           "Manager",
           "Internal Tools",
           2,
           "Kimberly Lee",
           "Tamara Hernandez"
          ],
          [
           "Omar Oconnell",
           10,
           "people",
           "Omar Oconnell",
           "2020-09-11",
           "Full Time",
           [
            "Python"
           ],
           "Seattle",
           "PST",
           "USA",
           "AVP",
           "Internal Tools",
           3,
           "Billy Fields",
           "Krystal Wilson"
          ],
          [
           "Christopher West",
           10,
           "people",
           "Christopher West",
           "2020-11-09",
           "Part Time",
           [
            "Python",
            "Typescript",
            "JavaScript"
           ],
           "Seattle",
           "PST",
           "USA",
           "VP",
           "Internal Tools",
           4,
           "Karen Wong",
           "Omar Oconnell"
          ],
          [
           "Jennifer Hernandez",
           10,
           "people",
           "Jennifer Hernandez",
           "2021-11-13",
           "Contract",
           [
            "Scala"
           ],
           "Seattle",
           "PST",
           "USA",
           "VP",
           "Internal Tools",
           4,
           "Karen Wong",
           "Omar Oconnell"
          ],
          [
           "Patrick Bates",
           10,
           "people",
           "Patrick Bates",
           "2022-05-25",
           "Contract",
           [
            "JavaScript",
            "Java",
            "Python",
            "Go",
            "Typescript"
           ],
           "Seattle",
           "PST",
           "USA",
           "Senior Engineer",
           "Platform",
           1,
           "Donna Velasquez",
           "Lisa Keith"
          ],
          [
           "Tiffany Salazar MD",
           10,
           "people",
           "Tiffany Salazar MD",
           "2020-05-30",
           "Part Time",
           [
            "JavaScript",
            "Scala",
            "Java",
            "Python",
            "Typescript"
           ],
           "Seattle",
           "PST",
           "USA",
           "Senior Engineer",
           "Platform",
           1,
           "Donna Velasquez",
           "Lisa Keith"
          ],
          [
           "Glenda Davidson",
           10,
           "people",
           "Glenda Davidson",
           "2022-10-21",
           "Full Time",
           [
            "Scala"
           ],
           "Seattle",
           "PST",
           "USA",
           "Managing Engineer",
           "Platform",
           2,
           "Kenneth Bell",
           "Lisa Keith"
          ],
          [
           "Samantha Mitchell",
           10,
           "people",
           "Samantha Mitchell",
           "2020-11-24",
           "Full Time",
           [
            "Typescript",
            "Java"
           ],
           "Seattle",
           "PST",
           "USA",
           "Managing Engineer",
           "Platform",
           2,
           "Kenneth Bell",
           "Patrick Bates"
          ],
          [
           "Justin Williamson PhD",
           10,
           "people",
           "Justin Williamson PhD",
           "2020-07-31",
           "Contract",
           [
            "Go",
            "Typescript"
           ],
           "Seattle",
           "PST",
           "USA",
           "AVP",
           "Platform",
           3,
           "Kenneth Bell",
           "Anita Torres"
          ],
          [
           "Michael James",
           10,
           "people",
           "Michael James",
           "2021-11-16",
           "Part Time",
           [
            "Java",
            "JavaScript",
            "Typescript"
           ],
           "Seattle",
           "PST",
           "USA",
           "AVP",
           "Platform",
           3,
           "Karen Wong",
           "Beverly Haley"
          ],
          [
           "Mary Campbell",
           10,
           "people",
           "Mary Campbell",
           "2022-09-13",
           "Full Time",
           [
            "Go",
            "Java"
           ],
           "Seattle",
           "PST",
           "USA",
           "VP",
           "Platform",
           4,
           "Billy Fields",
           "Ronald Smith"
          ],
          [
           "Susan Simmons",
           10,
           "people",
           "Susan Simmons",
           "2020-07-15",
           "Contract",
           [
            "Typescript"
           ],
           "Seattle",
           "PST",
           "USA",
           "Engineer",
           "Product",
           0,
           "Terry Sellers DDS",
           "Tamara Hernandez"
          ],
          [
           "Russell Krueger",
           10,
           "people",
           "Russell Krueger",
           "2021-10-31",
           "Contract",
           [
            "Java"
           ],
           "Seattle",
           "PST",
           "USA",
           "Manager",
           "Product",
           1,
           "Donna Velasquez",
           "Kimberly Johnson"
          ],
          [
           "Sarah Mitchell",
           10,
           "people",
           "Sarah Mitchell",
           "2021-07-10",
           "Full Time",
           [
            "Python"
           ],
           "Seattle",
           "PST",
           "USA",
           "Manager",
           "Product",
           1,
           "Katherine Osborne",
           "Susan Simmons"
          ],
          [
           "Lee Hooper",
           10,
           "people",
           "Lee Hooper",
           "2020-06-15",
           "Full Time",
           [
            "Python",
            "Java",
            "JavaScript"
           ],
           "Seattle",
           "PST",
           "USA",
           "Product Owner",
           "Product",
           2,
           "Billy Fields",
           "Russell Krueger"
          ],
          [
           "Sonia Flores",
           10,
           "people",
           "Sonia Flores",
           "2023-04-17",
           "Part Time",
           [
            "Python",
            "JavaScript",
            "Typescript",
            "Java"
           ],
           "Seattle",
           "PST",
           "USA",
           "AVP",
           "Product",
           3,
           "Kenneth Bell",
           "Lee Hooper"
          ],
          [
           "Dennis Hart",
           10,
           "people",
           "Dennis Hart",
           "2022-02-03",
           "Contract",
           [
            "Scala"
           ],
           "Seattle",
           "PST",
           "USA",
           "AVP",
           "Product",
           3,
           "Kenneth Bell",
           "Lee Hooper"
          ],
          [
           "John Stevenson",
           10,
           "people",
           "John Stevenson",
           "2022-09-11",
           "Full Time",
           [
            "Typescript"
           ],
           "Seattle",
           "PST",
           "USA",
           "AVP",
           "Product",
           3,
           "Adrienne Stevenson",
           "Shane Carpenter"
          ],
          [
           "Carla Elliott",
           10,
           "people",
           "Carla Elliott",
           "2021-08-24",
           "Full Time",
           [],
           "Seattle",
           "PST",
           "USA",
           "AVP",
           "Product",
           3,
           "Adrienne Stevenson",
           "Shane Carpenter"
          ],
          [
           "Traci Jones",
           10,
           "people",
           "Traci Jones",
           "2021-04-23",
           "Contract",
           [
            "JavaScript",
            "Python",
            "Typescript",
            "Java"
           ],
           "Seattle",
           "PST",
           "USA",
           "VP",
           "Product",
           4,
           "Adrienne Stevenson",
           "Carla Elliott"
          ],
          [
           "Tamara Hernandez",
           10,
           "people",
           "Tamara Hernandez",
           "2022-08-25",
           "Full Time",
           [
            "Java"
           ],
           "Seattle",
           "PST",
           "USA",
           "CEO",
           "CEO",
           null,
           null,
           null
          ]
         ],
         "hovertemplate": "City=%{customdata[7]}<br>x=%{x}<br>y=%{y}<br>size=%{customdata[1]}<br>label=%{customdata[0]}<br>attr=%{customdata[2]}<br>Name=%{customdata[3]}<br>Hire Date=%{customdata[4]}<br>Status=%{customdata[5]}<br>Languages=%{customdata[6]}<br>Timezone=%{customdata[8]}<br>Country=%{customdata[9]}<br>Title=%{customdata[10]}<br>Team=%{customdata[11]}<br>rank=%{customdata[12]}<br>peoplemanager=%{customdata[13]}<br>manager=%{customdata[14]}<extra></extra>",
         "legendgroup": "Seattle",
         "marker": {
          "color": "#19d3f3",
          "size": [
           10,
           10,
           10,
           10,
           10,
           10,
           10,
           10,
           10,
           10,
           10,
           10,
           10,
           10,
           10,
           10,
           10,
           10,
           10,
           10,
           10,
           10,
           10,
           10,
           10
          ],
          "sizemode": "area",
          "sizeref": 0.025,
          "symbol": "circle"
         },
         "mode": "markers",
         "name": "Seattle",
         "orientation": "v",
         "showlegend": true,
         "type": "scatter",
         "x": [
          0.11836677179736879,
          0.17148724533769447,
          0.21605916867364758,
          -0.6621526857741525,
          0.2052409555212517,
          0.17204096118534074,
          0.000846475950736789,
          0.021222546205076888,
          0.5143421820465178,
          -0.08198316635017948,
          0.2589269586540322,
          0.14524184672993778,
          -0.7173076383622143,
          0.030477227460108967,
          -0.3515930943183441,
          0.05307879668080102,
          -0.5551334492945836,
          0.39708433792821296,
          -0.7567934789639643,
          -0.8537954029433696,
          -0.11320790307196069,
          0.5532177168586316,
          0.4865268538571384,
          -0.17711757846727333,
          0.6103968419306298
         ],
         "xaxis": "x",
         "y": [
          0.5263456884271316,
          0.48770816662336425,
          0.7805038405060728,
          0.4630611491715289,
          0.6810820369468527,
          0.24830476967299614,
          -0.494112489092129,
          -0.34949919041133376,
          -0.45621180997025734,
          -0.7614071489235568,
          -0.4635513930149177,
          0.2186551853992051,
          0.09853316865048169,
          0.7302623209516227,
          -0.26224350790445966,
          0.3388375392482649,
          -0.27822544655699355,
          0.06839052561221447,
          -0.5189812675416725,
          -0.00252363779258295,
          -0.6510484708258307,
          0.10868835071975985,
          0.7043432054513578,
          0.8357891714614378,
          0.6121221088488524
         ],
         "yaxis": "y"
        },
        {
         "customdata": [
          [
           "Jennifer Owen",
           10,
           "people",
           "Jennifer Owen",
           "2022-09-27",
           "Contract",
           [
            "Python",
            "Java"
           ],
           "Fort Lauderdale",
           "EST",
           "USA",
           "Engineer",
           "DevX",
           4,
           "Melinda Brandt",
           "Tamara Hernandez"
          ],
          [
           "Tracey Noble MD",
           10,
           "people",
           "Tracey Noble MD",
           "2021-06-24",
           "Part Time",
           [
            "JavaScript",
            "Scala",
            "Java",
            "Go",
            "Typescript"
           ],
           "Fort Lauderdale",
           "EST",
           "USA",
           "Engineer",
           "DevX",
           4,
           "Melinda Brandt",
           "Jennifer Owen"
          ],
          [
           "Justin Stanley",
           10,
           "people",
           "Justin Stanley",
           "2023-04-07",
           "Contract",
           [
            "Typescript"
           ],
           "Fort Lauderdale",
           "EST",
           "USA",
           "Engineer",
           "DevX",
           4,
           "Melinda Brandt",
           "Jennifer Owen"
          ],
          [
           "Dr. Lauren Wyatt",
           10,
           "people",
           "Dr. Lauren Wyatt",
           "2020-09-17",
           "Full Time",
           [
            "Java"
           ],
           "Fort Lauderdale",
           "EST",
           "USA",
           "Engineer",
           "DevX",
           4,
           "Karen Khan DVM",
           "Jennifer Owen"
          ],
          [
           "Jessica Goodman",
           10,
           "people",
           "Jessica Goodman",
           "2021-02-28",
           "Full Time",
           [
            "JavaScript"
           ],
           "Fort Lauderdale",
           "EST",
           "USA",
           "Engineer",
           "DevX",
           4,
           "Gregory Hayden",
           "Jennifer Owen"
          ],
          [
           "Anita Hubbard",
           10,
           "people",
           "Anita Hubbard",
           "2020-10-23",
           "Full Time",
           [
            "Python"
           ],
           "Fort Lauderdale",
           "EST",
           "USA",
           "Engineer",
           "DevX",
           4,
           "Jesus Reese",
           "Jennifer Owen"
          ],
          [
           "Steven Simon",
           10,
           "people",
           "Steven Simon",
           "2021-06-23",
           "Full Time",
           [
            "Python",
            "JavaScript",
            "Java"
           ],
           "Fort Lauderdale",
           "EST",
           "USA",
           "Engineer",
           "DevX",
           4,
           "Billy Fields",
           "Jennifer Owen"
          ],
          [
           "Daniel Keller",
           10,
           "people",
           "Daniel Keller",
           "2021-02-26",
           "Full Time",
           [
            "Python",
            "Go",
            "Scala"
           ],
           "Fort Lauderdale",
           "EST",
           "USA",
           "Engineer",
           "DevX",
           4,
           "Billy Fields",
           "Jennifer Owen"
          ],
          [
           "Peter Lyons",
           10,
           "people",
           "Peter Lyons",
           "2023-02-17",
           "Part Time",
           [
            "Java"
           ],
           "Fort Lauderdale",
           "EST",
           "USA",
           "Engineer",
           "DevX",
           4,
           "Billy Fields",
           "Jennifer Owen"
          ],
          [
           "Ronald Black",
           10,
           "people",
           "Ronald Black",
           "2022-09-07",
           "Full Time",
           [
            "JavaScript",
            "Python",
            "Typescript",
            "Java"
           ],
           "Fort Lauderdale",
           "EST",
           "USA",
           "Engineer",
           "DevX",
           4,
           "Billy Fields",
           "Jennifer Owen"
          ],
          [
           "Shane Chapman",
           10,
           "people",
           "Shane Chapman",
           "2022-01-12",
           "Contract",
           [
            "JavaScript",
            "Python",
            "Java"
           ],
           "Fort Lauderdale",
           "EST",
           "USA",
           "Engineer",
           "DevX",
           4,
           "Kenneth Bell",
           "Jennifer Owen"
          ],
          [
           "Kevin York",
           10,
           "people",
           "Kevin York",
           "2020-07-03",
           "Full Time",
           [
            "JavaScript",
            "Scala",
            "Typescript",
            "Java"
           ],
           "Fort Lauderdale",
           "EST",
           "USA",
           "Engineer",
           "DevX",
           4,
           "Kenneth Bell",
           "Jennifer Owen"
          ],
          [
           "Amanda Brown",
           10,
           "people",
           "Amanda Brown",
           "2021-04-18",
           "Part Time",
           [
            "Python",
            "Go",
            "Java"
           ],
           "Fort Lauderdale",
           "EST",
           "USA",
           "Engineer",
           "DevX",
           4,
           "Kenneth Bell",
           "Jennifer Owen"
          ],
          [
           "Patrick Gaines",
           10,
           "people",
           "Patrick Gaines",
           "2022-10-09",
           "Contract",
           [
            "Python",
            "JavaScript"
           ],
           "Fort Lauderdale",
           "EST",
           "USA",
           "Engineer",
           "DevX",
           4,
           "Kenneth Bell",
           "Jennifer Owen"
          ],
          [
           "Sharon Carroll",
           10,
           "people",
           "Sharon Carroll",
           "2022-03-08",
           "Contract",
           [
            "Scala"
           ],
           "Fort Lauderdale",
           "EST",
           "USA",
           "Engineer",
           "DevX",
           4,
           "Karen Wong",
           "Jennifer Owen"
          ],
          [
           "Christopher Stone",
           10,
           "people",
           "Christopher Stone",
           "2020-07-15",
           "Contract",
           [
            "Scala",
            "Go",
            "Java"
           ],
           "Fort Lauderdale",
           "EST",
           "USA",
           "Engineer",
           "DevX",
           4,
           "Karen Wong",
           "Jennifer Owen"
          ],
          [
           "Aaron Smith",
           10,
           "people",
           "Aaron Smith",
           "2021-12-04",
           "Part Time",
           [
            "JavaScript",
            "Python",
            "Java"
           ],
           "Fort Lauderdale",
           "EST",
           "USA",
           "Engineer",
           "DevX",
           4,
           "Karen Wong",
           "Jennifer Owen"
          ],
          [
           "Richard Aguilar",
           10,
           "people",
           "Richard Aguilar",
           "2022-05-26",
           "Contract",
           [
            "Java"
           ],
           "Fort Lauderdale",
           "EST",
           "USA",
           "Engineer",
           "DevX",
           4,
           "Karen Wong",
           "Jennifer Owen"
          ],
          [
           "Joe Chapman",
           10,
           "people",
           "Joe Chapman",
           "2022-03-24",
           "Full Time",
           [
            "Scala",
            "Typescript"
           ],
           "Fort Lauderdale",
           "EST",
           "USA",
           "Engineer",
           "DevX",
           4,
           "Adrienne Stevenson",
           "Jennifer Owen"
          ],
          [
           "Randy Cruz",
           10,
           "people",
           "Randy Cruz",
           "2022-07-23",
           "Full Time",
           [
            "JavaScript",
            "Go",
            "Scala",
            "Java"
           ],
           "Fort Lauderdale",
           "EST",
           "USA",
           "AVP",
           "DevX",
           5,
           "Billy Fields",
           "Ronald Black"
          ],
          [
           "David Baker",
           10,
           "people",
           "David Baker",
           "2022-04-02",
           "Full Time",
           [
            "Scala",
            "Java"
           ],
           "Fort Lauderdale",
           "EST",
           "USA",
           "AVP",
           "DevX",
           5,
           "Kenneth Bell",
           "Ronald Black"
          ],
          [
           "Jasmine Rojas",
           10,
           "people",
           "Jasmine Rojas",
           "2020-04-27",
           "Part Time",
           [
            "Python"
           ],
           "Fort Lauderdale",
           "EST",
           "USA",
           "AVP",
           "DevX",
           5,
           "Karen Wong",
           "Patrick Gaines"
          ]
         ],
         "hovertemplate": "City=%{customdata[7]}<br>x=%{x}<br>y=%{y}<br>size=%{customdata[1]}<br>label=%{customdata[0]}<br>attr=%{customdata[2]}<br>Name=%{customdata[3]}<br>Hire Date=%{customdata[4]}<br>Status=%{customdata[5]}<br>Languages=%{customdata[6]}<br>Timezone=%{customdata[8]}<br>Country=%{customdata[9]}<br>Title=%{customdata[10]}<br>Team=%{customdata[11]}<br>rank=%{customdata[12]}<br>peoplemanager=%{customdata[13]}<br>manager=%{customdata[14]}<extra></extra>",
         "legendgroup": "Fort Lauderdale",
         "marker": {
          "color": "#FFA15A",
          "size": [
           10,
           10,
           10,
           10,
           10,
           10,
           10,
           10,
           10,
           10,
           10,
           10,
           10,
           10,
           10,
           10,
           10,
           10,
           10,
           10,
           10,
           10
          ],
          "sizemode": "area",
          "sizeref": 0.025,
          "symbol": "circle"
         },
         "mode": "markers",
         "name": "Fort Lauderdale",
         "orientation": "v",
         "showlegend": true,
         "type": "scatter",
         "x": [
          0.16696908476023853,
          -0.11966476935967094,
          0.3150759579857443,
          -0.3220553940084706,
          0.49256144840148053,
          0.029056657787506882,
          -0.05379011950992771,
          0.20316795321686937,
          -0.46086296780290725,
          -0.31432426285916754,
          -0.4331534871687205,
          0.017989156044397055,
          0.42394530060131336,
          0.16107365883573244,
          0.3566680044903517,
          0.3154310096417572,
          -0.026610360129226667,
          0.042293770627810715,
          -0.4128583174671341,
          -0.042858703852368195,
          -0.8980248152501726,
          0.12076379588451558
         ],
         "xaxis": "x",
         "y": [
          0.8672714575323176,
          0.5997677684356603,
          0.2257403618368394,
          0.6802578074345228,
          0.7619798160408117,
          0.9789217880890229,
          0.9381577132450372,
          0.226884748220937,
          0.1802158535457435,
          0.14842717699424904,
          0.3609134978620945,
          0.3969547376669279,
          0.8747112856185412,
          0.4675550132269715,
          0.9603270030375199,
          0.4629530413820137,
          0.11614176875476805,
          0.24690662317033915,
          0.7297037740070285,
          -0.31137675155334404,
          0.11354421367324256,
          -0.11857802962934991
         ],
         "yaxis": "y"
        },
        {
         "customdata": [
          [
           "Devin Leonard",
           10,
           "people",
           "Devin Leonard",
           "2022-12-09",
           "Full Time",
           [
            "Scala",
            "Typescript"
           ],
           "Dublin",
           "UTC",
           "IRL",
           "Engineer",
           "DevOps",
           0,
           "Jessica Murphy",
           "Tamara Hernandez"
          ],
          [
           "Christina Vasquez",
           10,
           "people",
           "Christina Vasquez",
           "2020-04-28",
           "Part Time",
           [
            "JavaScript",
            "Python",
            "Typescript",
            "Java"
           ],
           "Dublin",
           "UTC",
           "IRL",
           "Engineer",
           "DevOps",
           0,
           "Terry Sellers DDS",
           "Devin Leonard"
          ],
          [
           "Danielle Sloan",
           10,
           "people",
           "Danielle Sloan",
           "2023-04-11",
           "Full Time",
           [
            "Java",
            "JavaScript"
           ],
           "Dublin",
           "UTC",
           "IRL",
           "Senior Engineer",
           "DevOps",
           1,
           "Lisa Richardson",
           "Devin Leonard"
          ],
          [
           "Megan Brown",
           10,
           "people",
           "Megan Brown",
           "2021-09-15",
           "Contract",
           [
            "Python",
            "JavaScript",
            "Typescript",
            "Java"
           ],
           "Dublin",
           "UTC",
           "IRL",
           "Senior Engineer",
           "DevOps",
           1,
           "Donna Velasquez",
           "Devin Leonard"
          ],
          [
           "Ian Jones",
           10,
           "people",
           "Ian Jones",
           "2022-05-13",
           "Full Time",
           [
            "JavaScript"
           ],
           "Dublin",
           "UTC",
           "IRL",
           "Senior Engineer",
           "DevOps",
           1,
           "Katherine Osborne",
           "Christina Vasquez"
          ],
          [
           "Derrick Jones",
           10,
           "people",
           "Derrick Jones",
           "2023-02-19",
           "Part Time",
           [],
           "Dublin",
           "UTC",
           "IRL",
           "Manager",
           "DevOps",
           2,
           "Gregory Hayden",
           "Tamara Hernandez"
          ],
          [
           "Stephanie Floyd",
           10,
           "people",
           "Stephanie Floyd",
           "2021-07-27",
           "Full Time",
           [
            "Python",
            "JavaScript"
           ],
           "Dublin",
           "UTC",
           "IRL",
           "Manager",
           "DevOps",
           2,
           "Gregory Hayden",
           "Devin Leonard"
          ],
          [
           "Michael Peters",
           10,
           "people",
           "Michael Peters",
           "2022-12-23",
           "Full Time",
           [
            "Java"
           ],
           "Dublin",
           "UTC",
           "IRL",
           "Analyst",
           "Support",
           0,
           "Devin Leonard",
           "Tamara Hernandez"
          ],
          [
           "Lisa Richardson",
           10,
           "people",
           "Lisa Richardson",
           "2022-06-29",
           "Contract",
           [],
           "Dublin",
           "UTC",
           "IRL",
           "Analyst",
           "Support",
           0,
           "Devin Leonard",
           "Michael Peters"
          ],
          [
           "Christopher Roberts",
           10,
           "people",
           "Christopher Roberts",
           "2022-01-13",
           "Contract",
           [
            "Python",
            "Typescript",
            "JavaScript"
           ],
           "Dublin",
           "UTC",
           "IRL",
           "Analyst",
           "Support",
           0,
           "Devin Leonard",
           "Michael Peters"
          ],
          [
           "Donna Velasquez",
           10,
           "people",
           "Donna Velasquez",
           "2023-01-11",
           "Part Time",
           [
            "Python",
            "JavaScript"
           ],
           "Dublin",
           "UTC",
           "IRL",
           "Analyst",
           "Support",
           0,
           "Devin Leonard",
           "Michael Peters"
          ],
          [
           "Katherine Osborne",
           10,
           "people",
           "Katherine Osborne",
           "2021-05-11",
           "Contract",
           [
            "Typescript",
            "Java"
           ],
           "Dublin",
           "UTC",
           "IRL",
           "Analyst",
           "Support",
           0,
           "Terry Sellers DDS",
           "Michael Peters"
          ],
          [
           "Kimberly Lee",
           10,
           "people",
           "Kimberly Lee",
           "2021-08-09",
           "Contract",
           [
            "Python",
            "Go",
            "Typescript",
            "Java"
           ],
           "Dublin",
           "UTC",
           "IRL",
           "Manager",
           "Support",
           1,
           "Jesus Reese",
           "Tamara Hernandez"
          ],
          [
           "Billy Fields",
           10,
           "people",
           "Billy Fields",
           "2022-03-07",
           "Part Time",
           [
            "JavaScript",
            "Python",
            "Scala",
            "Java"
           ],
           "Dublin",
           "UTC",
           "IRL",
           "Manager",
           "Support",
           1,
           "Michael Peters",
           "Michael Peters"
          ],
          [
           "Kenneth Bell",
           10,
           "people",
           "Kenneth Bell",
           "2021-03-15",
           "Part Time",
           [
            "Typescript",
            "Java"
           ],
           "Dublin",
           "UTC",
           "IRL",
           "Manager",
           "Support",
           1,
           "Donna Velasquez",
           "Donna Velasquez"
          ],
          [
           "Karen Wong",
           10,
           "people",
           "Karen Wong",
           "2022-05-24",
           "Part Time",
           [
            "Java"
           ],
           "Dublin",
           "UTC",
           "IRL",
           "Manager",
           "Support",
           1,
           "Donna Velasquez",
           "Donna Velasquez"
          ],
          [
           "Adrienne Stevenson",
           10,
           "people",
           "Adrienne Stevenson",
           "2020-12-31",
           "Part Time",
           [],
           "Dublin",
           "UTC",
           "IRL",
           "Manager",
           "Support",
           1,
           "Katherine Osborne",
           "Katherine Osborne"
          ]
         ],
         "hovertemplate": "City=%{customdata[7]}<br>x=%{x}<br>y=%{y}<br>size=%{customdata[1]}<br>label=%{customdata[0]}<br>attr=%{customdata[2]}<br>Name=%{customdata[3]}<br>Hire Date=%{customdata[4]}<br>Status=%{customdata[5]}<br>Languages=%{customdata[6]}<br>Timezone=%{customdata[8]}<br>Country=%{customdata[9]}<br>Title=%{customdata[10]}<br>Team=%{customdata[11]}<br>rank=%{customdata[12]}<br>peoplemanager=%{customdata[13]}<br>manager=%{customdata[14]}<extra></extra>",
         "legendgroup": "Dublin",
         "marker": {
          "color": "#ab63fa",
          "size": [
           10,
           10,
           10,
           10,
           10,
           10,
           10,
           10,
           10,
           10,
           10,
           10,
           10,
           10,
           10,
           10,
           10
          ],
          "sizemode": "area",
          "sizeref": 0.025,
          "symbol": "circle"
         },
         "mode": "markers",
         "name": "Dublin",
         "orientation": "v",
         "showlegend": true,
         "type": "scatter",
         "x": [
          0.7430631606092505,
          0.22884636656073612,
          0.477388963554628,
          0.41598142578450026,
          -0.1684990992818708,
          -0.2289543438638023,
          0.6888538466127244,
          0.24829632750881758,
          0.018810406329861532,
          -0.2509520464355677,
          -0.12344921252836996,
          -0.38640968622912314,
          0.11380648015778697,
          0.657165360754378,
          0.24714369614860912,
          -0.28692565226496286,
          -0.9116099497731793
         ],
         "xaxis": "x",
         "y": [
          0.1191276086959908,
          -0.0027651773876865354,
          0.4863122799149132,
          0.41306300660413664,
          0.4294435138483018,
          0.3765192857871319,
          -0.4347920750243584,
          -0.1780637352254751,
          -0.2688399547419151,
          -0.16801457747817763,
          -0.7858852697710943,
          -0.2415495193798792,
          0.017940932659528997,
          -0.1547222326797562,
          -0.8489176234537745,
          -0.46240708235908834,
          -0.45152919019854837
         ],
         "yaxis": "y"
        },
        {
         "customdata": [
          [
           "Joseph Cole",
           10,
           "people",
           "Joseph Cole",
           "2022-01-08",
           "Part Time",
           [
            "Python",
            "JavaScript"
           ],
           "New York",
           "EST",
           "USA",
           "Analyst",
           "Business",
           0,
           "Terry Sellers DDS",
           "Terry Sellers DDS"
          ],
          [
           "Sheila Lee",
           10,
           "people",
           "Sheila Lee",
           "2023-03-13",
           "Full Time",
           [
            "Python",
            "Typescript",
            "JavaScript"
           ],
           "New York",
           "EST",
           "USA",
           "Analyst",
           "Business",
           0,
           "Terry Sellers DDS",
           "Terry Sellers DDS"
          ],
          [
           "Stephen Hall",
           10,
           "people",
           "Stephen Hall",
           "2020-09-09",
           "Full Time",
           [
            "Go",
            "Typescript",
            "JavaScript",
            "Java"
           ],
           "New York",
           "EST",
           "USA",
           "Associate",
           "Business",
           1,
           "Lisa Richardson",
           "Sandra Hahn"
          ],
          [
           "Patrick Thompson",
           10,
           "people",
           "Patrick Thompson",
           "2021-06-07",
           "Contract",
           [],
           "New York",
           "EST",
           "USA",
           "Associate",
           "Business",
           1,
           "Donna Velasquez",
           "Joseph Cole"
          ],
          [
           "Abigail Reyes",
           10,
           "people",
           "Abigail Reyes",
           "2021-03-29",
           "Full Time",
           [
            "JavaScript",
            "Java"
           ],
           "New York",
           "EST",
           "USA",
           "Vice President",
           "Business",
           2,
           "Karen Wong",
           "Patrick Thompson"
          ],
          [
           "Nathaniel Sparks",
           10,
           "people",
           "Nathaniel Sparks",
           "2022-06-19",
           "Part Time",
           [
            "JavaScript"
           ],
           "New York",
           "EST",
           "USA",
           "Director",
           "Business",
           3,
           "Kenneth Bell",
           "Dana Campos"
          ],
          [
           "Nicole Moreno",
           10,
           "people",
           "Nicole Moreno",
           "2022-03-05",
           "Part Time",
           [
            "Scala",
            "Typescript",
            "Java"
           ],
           "New York",
           "EST",
           "USA",
           "Director",
           "Business",
           3,
           "Karen Wong",
           "Eddie Lewis"
          ],
          [
           "Colin Warren",
           10,
           "people",
           "Colin Warren",
           "2021-12-14",
           "Part Time",
           [],
           "New York",
           "EST",
           "USA",
           "Managing Director",
           "Business",
           4,
           "Karen Khan DVM",
           "Melinda Brandt"
          ],
          [
           "Michael Brown",
           10,
           "people",
           "Michael Brown",
           "2021-12-14",
           "Contract",
           [],
           "New York",
           "EST",
           "USA",
           "Managing Director",
           "Business",
           4,
           "Adrienne Stevenson",
           "Jonathan Krueger"
          ],
          [
           "Jason Miller",
           10,
           "people",
           "Jason Miller",
           "2022-02-09",
           "Contract",
           [
            "Python",
            "Go",
            "Typescript",
            "JavaScript"
           ],
           "New York",
           "EST",
           "USA",
           "Engineer",
           "Product",
           0,
           "Terry Sellers DDS",
           "Susan Simmons"
          ],
          [
           "Nicole Lee",
           10,
           "people",
           "Nicole Lee",
           "2022-07-14",
           "Part Time",
           [
            "Java"
           ],
           "New York",
           "EST",
           "USA",
           "Manager",
           "Product",
           1,
           "Donna Velasquez",
           "Kimberly Johnson"
          ],
          [
           "Aaron Bennett",
           10,
           "people",
           "Aaron Bennett",
           "2020-08-07",
           "Part Time",
           [
            "Python",
            "JavaScript"
           ],
           "New York",
           "EST",
           "USA",
           "Manager",
           "Product",
           1,
           "Donna Velasquez",
           "Kimberly Johnson"
          ],
          [
           "Dr. John King",
           10,
           "people",
           "Dr. John King",
           "2022-06-05",
           "Contract",
           [],
           "New York",
           "EST",
           "USA",
           "Manager",
           "Product",
           1,
           "Donna Velasquez",
           "Susan Simmons"
          ],
          [
           "Jordan Gray",
           10,
           "people",
           "Jordan Gray",
           "2020-09-20",
           "Full Time",
           [],
           "New York",
           "EST",
           "USA",
           "Manager",
           "Product",
           1,
           "Katherine Osborne",
           "Susan Simmons"
          ],
          [
           "Albert Avery",
           10,
           "people",
           "Albert Avery",
           "2020-11-01",
           "Contract",
           [],
           "New York",
           "EST",
           "USA",
           "Product Owner",
           "Product",
           2,
           "Karen Wong",
           "Jordan Gray"
          ],
          [
           "Shane Carpenter",
           10,
           "people",
           "Shane Carpenter",
           "2022-01-29",
           "Part Time",
           [
            "Java"
           ],
           "New York",
           "EST",
           "USA",
           "Product Owner",
           "Product",
           2,
           "Karen Wong",
           "Sarah Mitchell"
          ],
          [
           "Michael Morrow",
           10,
           "people",
           "Michael Morrow",
           "2022-11-28",
           "Part Time",
           [
            "Python",
            "Scala",
            "Go"
           ],
           "New York",
           "EST",
           "USA",
           "AVP",
           "Product",
           3,
           "Karen Wong",
           "Lee Hooper"
          ],
          [
           "Leslie Diaz",
           10,
           "people",
           "Leslie Diaz",
           "2021-11-17",
           "Part Time",
           [],
           "New York",
           "EST",
           "USA",
           "VP",
           "Product",
           4,
           "Jessica Murphy",
           "Tamara Hernandez"
          ],
          [
           "Maria Brown",
           10,
           "people",
           "Maria Brown",
           "2021-06-25",
           "Contract",
           [
            "Go",
            "Java"
           ],
           "New York",
           "EST",
           "USA",
           "VP",
           "Product",
           4,
           "Billy Fields",
           "Lee Hooper"
          ],
          [
           "Dr. Diana Smith",
           10,
           "people",
           "Dr. Diana Smith",
           "2022-03-15",
           "Contract",
           [],
           "New York",
           "EST",
           "USA",
           "VP",
           "Product",
           4,
           "Kenneth Bell",
           "Dennis Hart"
          ],
          [
           "Jessica Murphy",
           10,
           "people",
           "Jessica Murphy",
           "2020-11-12",
           "Part Time",
           [
            "Python",
            "Java",
            "JavaScript",
            "Typescript"
           ],
           "New York",
           "EST",
           "USA",
           "Associate",
           "Sales",
           0,
           "Jessica Murphy",
           "Tamara Hernandez"
          ],
          [
           "Karen Khan DVM",
           10,
           "people",
           "Karen Khan DVM",
           "2021-04-03",
           "Part Time",
           [
            "Java"
           ],
           "New York",
           "EST",
           "USA",
           "Associate",
           "Sales",
           0,
           "Jessica Murphy",
           "Jessica Murphy"
          ],
          [
           "Amy Smith",
           10,
           "people",
           "Amy Smith",
           "2022-11-05",
           "Part Time",
           [
            "Java"
           ],
           "New York",
           "EST",
           "USA",
           "Associate",
           "Sales",
           0,
           "Devin Leonard",
           "Jessica Murphy"
          ],
          [
           "Eric Martin",
           10,
           "people",
           "Eric Martin",
           "2021-05-09",
           "Full Time",
           [],
           "New York",
           "EST",
           "USA",
           "Associate",
           "Sales",
           0,
           "Terry Sellers DDS",
           "Jessica Murphy"
          ],
          [
           "Mark Johnson",
           10,
           "people",
           "Mark Johnson",
           "2020-12-25",
           "Part Time",
           [
            "Python",
            "Typescript",
            "Java"
           ],
           "New York",
           "EST",
           "USA",
           "Associate",
           "Sales",
           0,
           "Terry Sellers DDS",
           "Jessica Murphy"
          ],
          [
           "Regina King",
           10,
           "people",
           "Regina King",
           "2022-11-15",
           "Full Time",
           [
            "Java",
            "JavaScript",
            "Typescript"
           ],
           "New York",
           "EST",
           "USA",
           "Associate",
           "Sales",
           0,
           "Terry Sellers DDS",
           "Jessica Murphy"
          ],
          [
           "Kimberly Kennedy",
           10,
           "people",
           "Kimberly Kennedy",
           "2021-03-11",
           "Full Time",
           [
            "Java"
           ],
           "New York",
           "EST",
           "USA",
           "Associate",
           "Sales",
           0,
           "Terry Sellers DDS",
           "Jessica Murphy"
          ],
          [
           "Jillian Lewis",
           10,
           "people",
           "Jillian Lewis",
           "2022-06-04",
           "Part Time",
           [
            "Python",
            "Typescript",
            "JavaScript"
           ],
           "New York",
           "EST",
           "USA",
           "Associate",
           "Sales",
           0,
           "Terry Sellers DDS",
           "Jessica Murphy"
          ],
          [
           "Stephanie Baker",
           10,
           "people",
           "Stephanie Baker",
           "2020-04-27",
           "Full Time",
           [
            "Erlang"
           ],
           "New York",
           "EST",
           "USA",
           "Associate",
           "Sales",
           0,
           "Terry Sellers DDS",
           "Jessica Murphy"
          ],
          [
           "Robert Jones",
           10,
           "people",
           "Robert Jones",
           "2020-08-17",
           "Full Time",
           [],
           "New York",
           "EST",
           "USA",
           "Associate",
           "Sales",
           0,
           "Terry Sellers DDS",
           "Jessica Murphy"
          ]
         ],
         "hovertemplate": "City=%{customdata[7]}<br>x=%{x}<br>y=%{y}<br>size=%{customdata[1]}<br>label=%{customdata[0]}<br>attr=%{customdata[2]}<br>Name=%{customdata[3]}<br>Hire Date=%{customdata[4]}<br>Status=%{customdata[5]}<br>Languages=%{customdata[6]}<br>Timezone=%{customdata[8]}<br>Country=%{customdata[9]}<br>Title=%{customdata[10]}<br>Team=%{customdata[11]}<br>rank=%{customdata[12]}<br>peoplemanager=%{customdata[13]}<br>manager=%{customdata[14]}<extra></extra>",
         "legendgroup": "New York",
         "marker": {
          "color": "#00cc96",
          "size": [
           10,
           10,
           10,
           10,
           10,
           10,
           10,
           10,
           10,
           10,
           10,
           10,
           10,
           10,
           10,
           10,
           10,
           10,
           10,
           10,
           10,
           10,
           10,
           10,
           10,
           10,
           10,
           10,
           10,
           10
          ],
          "sizemode": "area",
          "sizeref": 0.025,
          "symbol": "circle"
         },
         "mode": "markers",
         "name": "New York",
         "orientation": "v",
         "showlegend": true,
         "type": "scatter",
         "x": [
          -0.08810130320492573,
          -0.22490555691078187,
          -0.8039112022091496,
          -0.34697177929728334,
          0.20210071979824254,
          -0.30961892219346887,
          0.712858067240391,
          -0.7302899447290202,
          -0.9094166201549999,
          -0.5469632217484444,
          0.03767024988876825,
          0.379777862370935,
          0.14710078668843998,
          0.42587990617927673,
          0.6287460718239275,
          0.704422343279853,
          -1,
          0.7984106328850727,
          -0.510275410191811,
          -0.12088778133218933,
          0.23161931080235804,
          -0.37213558205522623,
          0.35160923654174286,
          0.004427260519970346,
          0.08178352453851827,
          0.6877283263765874,
          -0.3651083489632152,
          0.4731230890331543,
          0.3314436905160101,
          -0.030282168780612354
         ],
         "xaxis": "x",
         "y": [
          0.6003075461228058,
          -0.1791279000185045,
          0.010361559764031643,
          0.7744499739350792,
          0.6033068638482171,
          0.10994342191109828,
          -0.04939885378317555,
          0.035477315069312766,
          0.6091833133007254,
          -0.08094051470068152,
          -0.7132716000985697,
          -0.4052533128832272,
          0.9279048727264059,
          0.002223783394966904,
          0.23508868861898785,
          0.340260812559393,
          -0.0715021505394834,
          0.3441253318857048,
          0.0492778562387187,
          -0.024976212941855477,
          -0.12183395706771408,
          -0.5331735323527176,
          0.039764395083407095,
          -0.1379980917994419,
          -0.5166306344726207,
          -0.3539448007125556,
          -0.31374020580591544,
          -0.6887835102518323,
          -0.7650998793885324,
          -0.8118307677487023
         ],
         "yaxis": "y"
        },
        {
         "customdata": [
          [
           "Adam Lee",
           10,
           "people",
           "Adam Lee",
           "2021-03-18",
           "Part Time",
           [],
           "London",
           "UTC",
           "GBR",
           "Analyst",
           "Business",
           0,
           "Terry Sellers DDS",
           "Terry Sellers DDS"
          ],
          [
           "Courtney Carlson",
           10,
           "people",
           "Courtney Carlson",
           "2021-03-25",
           "Part Time",
           [
            "Java"
           ],
           "London",
           "UTC",
           "GBR",
           "Analyst",
           "Business",
           0,
           "Terry Sellers DDS",
           "Terry Sellers DDS"
          ],
          [
           "Sandra Hahn",
           10,
           "people",
           "Sandra Hahn",
           "2023-03-20",
           "Full Time",
           [
            "Scala",
            "Java"
           ],
           "London",
           "UTC",
           "GBR",
           "Associate",
           "Business",
           1,
           "Michael Peters",
           "Tamara Hernandez"
          ],
          [
           "Robert Brown",
           10,
           "people",
           "Robert Brown",
           "2021-03-23",
           "Part Time",
           [
            "Python",
            "Scala",
            "Typescript",
            "JavaScript"
           ],
           "London",
           "UTC",
           "GBR",
           "Associate",
           "Business",
           1,
           "Donna Velasquez",
           "Sandra Hahn"
          ],
          [
           "Rachel Andrews",
           10,
           "people",
           "Rachel Andrews",
           "2022-03-21",
           "Contract",
           [
            "Python",
            "Scala",
            "Java"
           ],
           "London",
           "UTC",
           "GBR",
           "Associate",
           "Business",
           1,
           "Donna Velasquez",
           "Sandra Hahn"
          ],
          [
           "Melinda Brandt",
           10,
           "people",
           "Melinda Brandt",
           "2021-10-03",
           "Part Time",
           [],
           "London",
           "UTC",
           "GBR",
           "Vice President",
           "Business",
           2,
           "Melinda Brandt",
           "Tamara Hernandez"
          ],
          [
           "Rachel Johnson",
           10,
           "people",
           "Rachel Johnson",
           "2023-04-05",
           "Full Time",
           [
            "Python",
            "JavaScript"
           ],
           "London",
           "UTC",
           "GBR",
           "Vice President",
           "Business",
           2,
           "Adrienne Stevenson",
           "Patrick Thompson"
          ],
          [
           "Kimberly Frye",
           10,
           "people",
           "Kimberly Frye",
           "2023-01-06",
           "Full Time",
           [
            "Java"
           ],
           "London",
           "UTC",
           "GBR",
           "Director",
           "Business",
           3,
           "Adrienne Stevenson",
           "Abigail Reyes"
          ],
          [
           "Jonathan Krueger",
           10,
           "people",
           "Jonathan Krueger",
           "2023-01-15",
           "Full Time",
           [
            "JavaScript"
           ],
           "London",
           "UTC",
           "GBR",
           "Director",
           "Business",
           3,
           "Adrienne Stevenson",
           "Rachel Johnson"
          ],
          [
           "Jeanette Lowe",
           10,
           "people",
           "Jeanette Lowe",
           "2020-07-19",
           "Part Time",
           [],
           "London",
           "UTC",
           "GBR",
           "Managing Director",
           "Business",
           4,
           "Beverly Murray",
           "Beverly Murray"
          ],
          [
           "Jenny Davis",
           10,
           "people",
           "Jenny Davis",
           "2020-12-27",
           "Contract",
           [
            "Python",
            "JavaScript"
           ],
           "London",
           "UTC",
           "GBR",
           "Managing Director",
           "Business",
           4,
           "Gregory Hayden",
           "Melinda Brandt"
          ],
          [
           "Crystal Davis",
           10,
           "people",
           "Crystal Davis",
           "2022-07-27",
           "Full Time",
           [
            "Java"
           ],
           "London",
           "UTC",
           "GBR",
           "Managing Director",
           "Business",
           4,
           "Karen Wong",
           "Nathaniel Sparks"
          ],
          [
           "Gregory Hayden",
           10,
           "people",
           "Gregory Hayden",
           "2021-11-11",
           "Part Time",
           [
            "Python",
            "Java"
           ],
           "London",
           "UTC",
           "GBR",
           "Associate",
           "Sales",
           0,
           "Jessica Murphy",
           "Jessica Murphy"
          ],
          [
           "Michelle Lin",
           10,
           "people",
           "Michelle Lin",
           "2023-03-25",
           "Full Time",
           [],
           "London",
           "UTC",
           "GBR",
           "Associate",
           "Sales",
           0,
           "Devin Leonard",
           "Jessica Murphy"
          ],
          [
           "Jesus Reese",
           10,
           "people",
           "Jesus Reese",
           "2020-09-21",
           "Contract",
           [
            "Scala"
           ],
           "London",
           "UTC",
           "GBR",
           "Associate",
           "Sales",
           0,
           "Devin Leonard",
           "Jessica Murphy"
          ],
          [
           "Lindsey Kramer",
           10,
           "people",
           "Lindsey Kramer",
           "2021-03-03",
           "Part Time",
           [
            "Python",
            "JavaScript"
           ],
           "London",
           "UTC",
           "GBR",
           "Associate",
           "Sales",
           0,
           "Devin Leonard",
           "Jessica Murphy"
          ],
          [
           "Nicole Silva",
           10,
           "people",
           "Nicole Silva",
           "2021-12-13",
           "Full Time",
           [],
           "London",
           "UTC",
           "GBR",
           "Associate",
           "Sales",
           0,
           "Devin Leonard",
           "Jessica Murphy"
          ],
          [
           "Alan Oneill",
           10,
           "people",
           "Alan Oneill",
           "2021-01-30",
           "Contract",
           [
            "Python",
            "Java"
           ],
           "London",
           "UTC",
           "GBR",
           "Associate",
           "Sales",
           0,
           "Devin Leonard",
           "Jessica Murphy"
          ],
          [
           "Dr. Kevin Ortiz",
           10,
           "people",
           "Dr. Kevin Ortiz",
           "2021-05-11",
           "Part Time",
           [
            "Python",
            "Go",
            "Typescript",
            "Java"
           ],
           "London",
           "UTC",
           "GBR",
           "Associate",
           "Sales",
           0,
           "Devin Leonard",
           "Jessica Murphy"
          ],
          [
           "Brian James",
           10,
           "people",
           "Brian James",
           "2023-02-25",
           "Full Time",
           [
            "Go",
            "JavaScript"
           ],
           "London",
           "UTC",
           "GBR",
           "Associate",
           "Sales",
           0,
           "Devin Leonard",
           "Jessica Murphy"
          ],
          [
           "Matthew Gillespie",
           10,
           "people",
           "Matthew Gillespie",
           "2022-05-29",
           "Part Time",
           [
            "JavaScript"
           ],
           "London",
           "UTC",
           "GBR",
           "Associate",
           "Sales",
           0,
           "Devin Leonard",
           "Jessica Murphy"
          ],
          [
           "Kim Cochran",
           10,
           "people",
           "Kim Cochran",
           "2023-03-07",
           "Part Time",
           [
            "JavaScript",
            "Scala",
            "Typescript",
            "Java"
           ],
           "London",
           "UTC",
           "GBR",
           "Associate",
           "Sales",
           0,
           "Devin Leonard",
           "Jessica Murphy"
          ],
          [
           "Kristy Glover",
           10,
           "people",
           "Kristy Glover",
           "2022-04-26",
           "Full Time",
           [
            "Typescript",
            "Java"
           ],
           "London",
           "UTC",
           "GBR",
           "Associate",
           "Sales",
           0,
           "Terry Sellers DDS",
           "Jessica Murphy"
          ],
          [
           "Anthony Murphy",
           10,
           "people",
           "Anthony Murphy",
           "2020-05-12",
           "Part Time",
           [
            "JavaScript",
            "Scala",
            "Java",
            "Python",
            "Typescript"
           ],
           "London",
           "UTC",
           "GBR",
           "Associate",
           "Sales",
           0,
           "Terry Sellers DDS",
           "Jessica Murphy"
          ],
          [
           "Sharon Rogers",
           10,
           "people",
           "Sharon Rogers",
           "2022-07-17",
           "Full Time",
           [
            "Python",
            "Scala",
            "JavaScript"
           ],
           "London",
           "UTC",
           "GBR",
           "Associate",
           "Sales",
           0,
           "Terry Sellers DDS",
           "Jessica Murphy"
          ],
          [
           "Michelle Moran",
           10,
           "people",
           "Michelle Moran",
           "2022-10-07",
           "Contract",
           [
            "Python",
            "Typescript"
           ],
           "London",
           "UTC",
           "GBR",
           "Associate",
           "Sales",
           0,
           "Terry Sellers DDS",
           "Jessica Murphy"
          ],
          [
           "Christopher Wang",
           10,
           "people",
           "Christopher Wang",
           "2021-02-01",
           "Contract",
           [
            "Python",
            "Java"
           ],
           "London",
           "UTC",
           "GBR",
           "Associate",
           "Sales",
           0,
           "Terry Sellers DDS",
           "Jessica Murphy"
          ],
          [
           "Eric Bailey",
           10,
           "people",
           "Eric Bailey",
           "2022-10-12",
           "Contract",
           [
            "Typescript",
            "JavaScript"
           ],
           "London",
           "UTC",
           "GBR",
           "Associate",
           "Sales",
           0,
           "Terry Sellers DDS",
           "Jessica Murphy"
          ],
          [
           "Roberta Johnson",
           10,
           "people",
           "Roberta Johnson",
           "2021-02-04",
           "Full Time",
           [
            "Go",
            "Typescript",
            "JavaScript"
           ],
           "London",
           "UTC",
           "GBR",
           "Associate",
           "Sales",
           0,
           "Terry Sellers DDS",
           "Jessica Murphy"
          ],
          [
           "Jeffrey Garza",
           10,
           "people",
           "Jeffrey Garza",
           "2021-12-23",
           "Full Time",
           [
            "JavaScript"
           ],
           "London",
           "UTC",
           "GBR",
           "Associate",
           "Sales",
           0,
           "Terry Sellers DDS",
           "Jessica Murphy"
          ],
          [
           "Brian Hughes",
           10,
           "people",
           "Brian Hughes",
           "2020-12-10",
           "Full Time",
           [
            "Go",
            "JavaScript"
           ],
           "London",
           "UTC",
           "GBR",
           "Associate",
           "Sales",
           0,
           "Terry Sellers DDS",
           "Jessica Murphy"
          ],
          [
           "Shawn Carrillo",
           10,
           "people",
           "Shawn Carrillo",
           "2020-09-24",
           "Contract",
           [
            "Python",
            "Typescript"
           ],
           "London",
           "UTC",
           "GBR",
           "Associate",
           "Sales",
           0,
           "Terry Sellers DDS",
           "Jessica Murphy"
          ],
          [
           "Leroy Rodriguez",
           10,
           "people",
           "Leroy Rodriguez",
           "2020-11-21",
           "Full Time",
           [
            "Python"
           ],
           "London",
           "UTC",
           "GBR",
           "Associate",
           "Sales",
           0,
           "Terry Sellers DDS",
           "Jessica Murphy"
          ]
         ],
         "hovertemplate": "City=%{customdata[7]}<br>x=%{x}<br>y=%{y}<br>size=%{customdata[1]}<br>label=%{customdata[0]}<br>attr=%{customdata[2]}<br>Name=%{customdata[3]}<br>Hire Date=%{customdata[4]}<br>Status=%{customdata[5]}<br>Languages=%{customdata[6]}<br>Timezone=%{customdata[8]}<br>Country=%{customdata[9]}<br>Title=%{customdata[10]}<br>Team=%{customdata[11]}<br>rank=%{customdata[12]}<br>peoplemanager=%{customdata[13]}<br>manager=%{customdata[14]}<extra></extra>",
         "legendgroup": "London",
         "marker": {
          "color": "#EF553B",
          "size": [
           10,
           10,
           10,
           10,
           10,
           10,
           10,
           10,
           10,
           10,
           10,
           10,
           10,
           10,
           10,
           10,
           10,
           10,
           10,
           10,
           10,
           10,
           10,
           10,
           10,
           10,
           10,
           10,
           10,
           10,
           10,
           10,
           10
          ],
          "sizemode": "area",
          "sizeref": 0.025,
          "symbol": "circle"
         },
         "mode": "markers",
         "name": "London",
         "orientation": "v",
         "showlegend": true,
         "type": "scatter",
         "x": [
          -0.68078529598231,
          -0.7548591385093851,
          -0.1757969808984805,
          -0.7223349430421827,
          -0.18471419182527063,
          -0.11200035189776829,
          -0.127666521549996,
          0.5239721482079108,
          -0.572687539807141,
          0.6631071566125653,
          -0.15166139586792368,
          -0.4599009204529615,
          -0.40090696937247366,
          -0.35246339451313136,
          0.4846330067305574,
          0.21925772477504593,
          -0.2525235644717462,
          -0.012804891908768648,
          -0.3113612815356192,
          -0.18868995112470524,
          0.7396890856009279,
          0.5097993526106037,
          0.3944042529976037,
          0.5351914853511983,
          -0.16168265196770767,
          0.19756078627455212,
          -0.13179656450237184,
          0.46601177888212914,
          -0.3252029593918059,
          0.6219199068779064,
          -0.2482704745514858,
          -0.12076457418120491,
          0.6682451711962699
         ],
         "xaxis": "x",
         "y": [
          -0.30220303844259144,
          0.24405983359226668,
          0.324339704363188,
          -0.019368589129723147,
          -0.20173984245377774,
          0.17966079555066888,
          0.7148938966541153,
          0.3111569139717947,
          0.7526952990494573,
          0.28540685663088683,
          -0.3661255016452301,
          -0.4512330264354023,
          -0.6003667808216909,
          -0.4285658381644668,
          -0.263940692404965,
          -0.7286672333612011,
          -0.3289962962580399,
          -0.7354472386314759,
          -0.17340075385402381,
          -0.4627642665055128,
          -0.46781091187008045,
          -0.5052031609901954,
          -0.763221514545531,
          -0.3671272825093556,
          -0.5846283695724235,
          -0.7917605568697341,
          -0.4794265437307877,
          -0.5748526636044958,
          -0.6342800694561183,
          -0.5762814646265291,
          -0.7137495602305255,
          -0.16192867290989202,
          -0.2385476414256761
         ],
         "yaxis": "y"
        },
        {
         "customdata": [
          [
           "Terry Sellers DDS",
           10,
           "people",
           "Terry Sellers DDS",
           "2020-11-19",
           "Part Time",
           [],
           "Toronto",
           "EST",
           "CAN",
           "Analyst",
           "Business",
           0,
           "Devin Leonard",
           "Tamara Hernandez"
          ],
          [
           "Douglas Ellison",
           10,
           "people",
           "Douglas Ellison",
           "2022-05-01",
           "Full Time",
           [
            "JavaScript"
           ],
           "Toronto",
           "EST",
           "CAN",
           "Associate",
           "Business",
           1,
           "Donna Velasquez",
           "Adam Lee"
          ],
          [
           "Dana Campos",
           10,
           "people",
           "Dana Campos",
           "2023-03-01",
           "Contract",
           [
            "Scala",
            "Java"
           ],
           "Toronto",
           "EST",
           "CAN",
           "Vice President",
           "Business",
           2,
           "Billy Fields",
           "Stephen Hall"
          ],
          [
           "Eddie Lewis",
           10,
           "people",
           "Eddie Lewis",
           "2022-03-06",
           "Full Time",
           [
            "JavaScript"
           ],
           "Toronto",
           "EST",
           "CAN",
           "Vice President",
           "Business",
           2,
           "Karen Wong",
           "Patrick Thompson"
          ],
          [
           "Beverly Murray",
           10,
           "people",
           "Beverly Murray",
           "2021-11-30",
           "Contract",
           [],
           "Toronto",
           "EST",
           "CAN",
           "Managing Director",
           "Business",
           4,
           "Beverly Murray",
           "Tamara Hernandez"
          ],
          [
           "Tiffany Chavez",
           10,
           "people",
           "Tiffany Chavez",
           "2022-09-12",
           "Full Time",
           [
            "Python",
            "Scala",
            "Typescript"
           ],
           "Toronto",
           "EST",
           "CAN",
           "Engineer",
           "Internal Tools",
           0,
           "Terry Sellers DDS",
           "Tamara Hernandez"
          ],
          [
           "Kim Anderson",
           10,
           "people",
           "Kim Anderson",
           "2022-09-29",
           "Contract",
           [
            "Scala",
            "Typescript",
            "Java"
           ],
           "Toronto",
           "EST",
           "CAN",
           "Engineer",
           "Internal Tools",
           0,
           "Terry Sellers DDS",
           "Tiffany Chavez"
          ],
          [
           "Laura Brooks MD",
           10,
           "people",
           "Laura Brooks MD",
           "2020-10-28",
           "Part Time",
           [
            "Java"
           ],
           "Toronto",
           "EST",
           "CAN",
           "VP",
           "Internal Tools",
           4,
           "Billy Fields",
           "Omar Oconnell"
          ],
          [
           "Michele Perez",
           10,
           "people",
           "Michele Perez",
           "2021-01-24",
           "Full Time",
           [
            "Typescript",
            "JavaScript"
           ],
           "Toronto",
           "EST",
           "CAN",
           "Engineer",
           "Platform",
           0,
           "Devin Leonard",
           "Tamara Hernandez"
          ],
          [
           "Nicholas Lee",
           10,
           "people",
           "Nicholas Lee",
           "2021-06-04",
           "Part Time",
           [
            "Go",
            "Typescript"
           ],
           "Toronto",
           "EST",
           "CAN",
           "Engineer",
           "Platform",
           0,
           "Devin Leonard",
           "Michele Perez"
          ],
          [
           "Lisa Keith",
           10,
           "people",
           "Lisa Keith",
           "2022-06-21",
           "Full Time",
           [
            "Typescript",
            "Java"
           ],
           "Toronto",
           "EST",
           "CAN",
           "Engineer",
           "Platform",
           0,
           "Devin Leonard",
           "Michele Perez"
          ],
          [
           "Ronald Smith",
           10,
           "people",
           "Ronald Smith",
           "2021-07-17",
           "Contract",
           [
            "JavaScript",
            "Go",
            "Typescript",
            "Java"
           ],
           "Toronto",
           "EST",
           "CAN",
           "Managing Engineer",
           "Platform",
           2,
           "Kimberly Lee",
           "Tamara Hernandez"
          ],
          [
           "Anita Torres",
           10,
           "people",
           "Anita Torres",
           "2022-08-12",
           "Full Time",
           [
            "JavaScript",
            "Python",
            "Java"
           ],
           "Toronto",
           "EST",
           "CAN",
           "Managing Engineer",
           "Platform",
           2,
           "Kenneth Bell",
           "Lisa Keith"
          ],
          [
           "Beverly Haley",
           10,
           "people",
           "Beverly Haley",
           "2021-08-07",
           "Part Time",
           [
            "Python",
            "Scala"
           ],
           "Toronto",
           "EST",
           "CAN",
           "Managing Engineer",
           "Platform",
           2,
           "Kenneth Bell",
           "Patrick Bates"
          ],
          [
           "Catherine Green",
           10,
           "people",
           "Catherine Green",
           "2020-07-31",
           "Contract",
           [],
           "Toronto",
           "EST",
           "CAN",
           "VP",
           "Platform",
           4,
           "Billy Fields",
           "Ronald Smith"
          ],
          [
           "Kimberly Johnson",
           10,
           "people",
           "Kimberly Johnson",
           "2022-09-01",
           "Part Time",
           [
            "Java"
           ],
           "Toronto",
           "EST",
           "CAN",
           "Manager",
           "Product",
           1,
           "Michael Peters",
           "Tamara Hernandez"
          ],
          [
           "Eileen Buck",
           10,
           "people",
           "Eileen Buck",
           "2022-03-09",
           "Full Time",
           [
            "JavaScript",
            "Python",
            "Java"
           ],
           "Toronto",
           "EST",
           "CAN",
           "Manager",
           "Product",
           1,
           "Lisa Richardson",
           "Kimberly Johnson"
          ],
          [
           "Courtney Sims",
           10,
           "people",
           "Courtney Sims",
           "2020-10-24",
           "Part Time",
           [],
           "Toronto",
           "EST",
           "CAN",
           "VP",
           "Product",
           4,
           "Karen Wong",
           "Michael Morrow"
          ],
          [
           "Alisha Owens",
           10,
           "people",
           "Alisha Owens",
           "2021-03-13",
           "Part Time",
           [
            "JavaScript"
           ],
           "Toronto",
           "EST",
           "CAN",
           "Associate",
           "Sales",
           0,
           "Devin Leonard",
           "Jessica Murphy"
          ],
          [
           "Ebony Edwards",
           10,
           "people",
           "Ebony Edwards",
           "2020-07-18",
           "Part Time",
           [],
           "Toronto",
           "EST",
           "CAN",
           "Associate",
           "Sales",
           0,
           "Devin Leonard",
           "Jessica Murphy"
          ],
          [
           "Juan Smith",
           10,
           "people",
           "Juan Smith",
           "2022-08-12",
           "Contract",
           [
            "Go",
            "Java",
            "JavaScript"
           ],
           "Toronto",
           "EST",
           "CAN",
           "Associate",
           "Sales",
           0,
           "Terry Sellers DDS",
           "Jessica Murphy"
          ],
          [
           "Joseph Mendez",
           10,
           "people",
           "Joseph Mendez",
           "2021-04-16",
           "Full Time",
           [
            "Python",
            "JavaScript"
           ],
           "Toronto",
           "EST",
           "CAN",
           "Associate",
           "Sales",
           0,
           "Terry Sellers DDS",
           "Jessica Murphy"
          ],
          [
           "Jose Oliver",
           10,
           "people",
           "Jose Oliver",
           "2020-06-06",
           "Part Time",
           [],
           "Toronto",
           "EST",
           "CAN",
           "Associate",
           "Sales",
           0,
           "Terry Sellers DDS",
           "Jessica Murphy"
          ],
          [
           "Edward Walker",
           10,
           "people",
           "Edward Walker",
           "2020-11-22",
           "Contract",
           [
            "JavaScript"
           ],
           "Toronto",
           "EST",
           "CAN",
           "Associate",
           "Sales",
           0,
           "Terry Sellers DDS",
           "Jessica Murphy"
          ]
         ],
         "hovertemplate": "City=%{customdata[7]}<br>x=%{x}<br>y=%{y}<br>size=%{customdata[1]}<br>label=%{customdata[0]}<br>attr=%{customdata[2]}<br>Name=%{customdata[3]}<br>Hire Date=%{customdata[4]}<br>Status=%{customdata[5]}<br>Languages=%{customdata[6]}<br>Timezone=%{customdata[8]}<br>Country=%{customdata[9]}<br>Title=%{customdata[10]}<br>Team=%{customdata[11]}<br>rank=%{customdata[12]}<br>peoplemanager=%{customdata[13]}<br>manager=%{customdata[14]}<extra></extra>",
         "legendgroup": "Toronto",
         "marker": {
          "color": "#636efa",
          "size": [
           10,
           10,
           10,
           10,
           10,
           10,
           10,
           10,
           10,
           10,
           10,
           10,
           10,
           10,
           10,
           10,
           10,
           10,
           10,
           10,
           10,
           10,
           10,
           10
          ],
          "sizemode": "area",
          "sizeref": 0.025,
          "symbol": "circle"
         },
         "mode": "markers",
         "name": "Toronto",
         "orientation": "v",
         "showlegend": true,
         "type": "scatter",
         "x": [
          -0.1229456342496306,
          -0.45427206298699974,
          -0.9220460548829746,
          0.13396091357131035,
          0.7697213920023891,
          0.08029076578868641,
          -0.5715237205110157,
          0.7564371300791914,
          0.22136135660757472,
          -0.07027350254658085,
          0.15542138833655683,
          -0.033706179633232816,
          -0.24651389718721783,
          0.44692020831985413,
          -0.33476090606739045,
          0.06000303340487574,
          -0.33922649734541827,
          -0.4434537676726576,
          -0.25225388216507044,
          0.7558755013154499,
          0.44158147348562776,
          -0.20981425676674095,
          0.29959030688258537,
          -0.2639447770395857
         ],
         "xaxis": "x",
         "y": [
          0.26038766119231416,
          -0.6996802560850415,
          0.32610129774551866,
          0.31909827724887796,
          0.27325686940469146,
          0.7119897896928871,
          0.6286859935722385,
          0.3926313820072877,
          0.26907070412918643,
          -0.28971514305234536,
          -0.40390741687605414,
          0.3981668904583955,
          -0.26636709860174795,
          0.1682315368708719,
          0.1050662195665581,
          -0.0666970373704195,
          -0.5354056175009576,
          0.4231798744535036,
          -0.06477671518579775,
          -0.2030312494601584,
          -0.1511728072532737,
          -0.6618569346232388,
          -0.6738348681204415,
          -0.48129067552867294
         ],
         "yaxis": "y"
        }
       ],
       "layout": {
        "legend": {
         "itemsizing": "constant",
         "title": {
          "text": "City"
         },
         "tracegroupgap": 0
        },
        "margin": {
         "t": 60
        },
        "template": {
         "data": {
          "bar": [
           {
            "error_x": {
             "color": "#f2f5fa"
            },
            "error_y": {
             "color": "#f2f5fa"
            },
            "marker": {
             "line": {
              "color": "rgb(17,17,17)",
              "width": 0.5
             },
             "pattern": {
              "fillmode": "overlay",
              "size": 10,
              "solidity": 0.2
             }
            },
            "type": "bar"
           }
          ],
          "barpolar": [
           {
            "marker": {
             "line": {
              "color": "rgb(17,17,17)",
              "width": 0.5
             },
             "pattern": {
              "fillmode": "overlay",
              "size": 10,
              "solidity": 0.2
             }
            },
            "type": "barpolar"
           }
          ],
          "carpet": [
           {
            "aaxis": {
             "endlinecolor": "#A2B1C6",
             "gridcolor": "#506784",
             "linecolor": "#506784",
             "minorgridcolor": "#506784",
             "startlinecolor": "#A2B1C6"
            },
            "baxis": {
             "endlinecolor": "#A2B1C6",
             "gridcolor": "#506784",
             "linecolor": "#506784",
             "minorgridcolor": "#506784",
             "startlinecolor": "#A2B1C6"
            },
            "type": "carpet"
           }
          ],
          "choropleth": [
           {
            "colorbar": {
             "outlinewidth": 0,
             "ticks": ""
            },
            "type": "choropleth"
           }
          ],
          "contour": [
           {
            "colorbar": {
             "outlinewidth": 0,
             "ticks": ""
            },
            "colorscale": [
             [
              0,
              "#0d0887"
             ],
             [
              0.1111111111111111,
              "#46039f"
             ],
             [
              0.2222222222222222,
              "#7201a8"
             ],
             [
              0.3333333333333333,
              "#9c179e"
             ],
             [
              0.4444444444444444,
              "#bd3786"
             ],
             [
              0.5555555555555556,
              "#d8576b"
             ],
             [
              0.6666666666666666,
              "#ed7953"
             ],
             [
              0.7777777777777778,
              "#fb9f3a"
             ],
             [
              0.8888888888888888,
              "#fdca26"
             ],
             [
              1,
              "#f0f921"
             ]
            ],
            "type": "contour"
           }
          ],
          "contourcarpet": [
           {
            "colorbar": {
             "outlinewidth": 0,
             "ticks": ""
            },
            "type": "contourcarpet"
           }
          ],
          "heatmap": [
           {
            "colorbar": {
             "outlinewidth": 0,
             "ticks": ""
            },
            "colorscale": [
             [
              0,
              "#0d0887"
             ],
             [
              0.1111111111111111,
              "#46039f"
             ],
             [
              0.2222222222222222,
              "#7201a8"
             ],
             [
              0.3333333333333333,
              "#9c179e"
             ],
             [
              0.4444444444444444,
              "#bd3786"
             ],
             [
              0.5555555555555556,
              "#d8576b"
             ],
             [
              0.6666666666666666,
              "#ed7953"
             ],
             [
              0.7777777777777778,
              "#fb9f3a"
             ],
             [
              0.8888888888888888,
              "#fdca26"
             ],
             [
              1,
              "#f0f921"
             ]
            ],
            "type": "heatmap"
           }
          ],
          "heatmapgl": [
           {
            "colorbar": {
             "outlinewidth": 0,
             "ticks": ""
            },
            "colorscale": [
             [
              0,
              "#0d0887"
             ],
             [
              0.1111111111111111,
              "#46039f"
             ],
             [
              0.2222222222222222,
              "#7201a8"
             ],
             [
              0.3333333333333333,
              "#9c179e"
             ],
             [
              0.4444444444444444,
              "#bd3786"
             ],
             [
              0.5555555555555556,
              "#d8576b"
             ],
             [
              0.6666666666666666,
              "#ed7953"
             ],
             [
              0.7777777777777778,
              "#fb9f3a"
             ],
             [
              0.8888888888888888,
              "#fdca26"
             ],
             [
              1,
              "#f0f921"
             ]
            ],
            "type": "heatmapgl"
           }
          ],
          "histogram": [
           {
            "marker": {
             "pattern": {
              "fillmode": "overlay",
              "size": 10,
              "solidity": 0.2
             }
            },
            "type": "histogram"
           }
          ],
          "histogram2d": [
           {
            "colorbar": {
             "outlinewidth": 0,
             "ticks": ""
            },
            "colorscale": [
             [
              0,
              "#0d0887"
             ],
             [
              0.1111111111111111,
              "#46039f"
             ],
             [
              0.2222222222222222,
              "#7201a8"
             ],
             [
              0.3333333333333333,
              "#9c179e"
             ],
             [
              0.4444444444444444,
              "#bd3786"
             ],
             [
              0.5555555555555556,
              "#d8576b"
             ],
             [
              0.6666666666666666,
              "#ed7953"
             ],
             [
              0.7777777777777778,
              "#fb9f3a"
             ],
             [
              0.8888888888888888,
              "#fdca26"
             ],
             [
              1,
              "#f0f921"
             ]
            ],
            "type": "histogram2d"
           }
          ],
          "histogram2dcontour": [
           {
            "colorbar": {
             "outlinewidth": 0,
             "ticks": ""
            },
            "colorscale": [
             [
              0,
              "#0d0887"
             ],
             [
              0.1111111111111111,
              "#46039f"
             ],
             [
              0.2222222222222222,
              "#7201a8"
             ],
             [
              0.3333333333333333,
              "#9c179e"
             ],
             [
              0.4444444444444444,
              "#bd3786"
             ],
             [
              0.5555555555555556,
              "#d8576b"
             ],
             [
              0.6666666666666666,
              "#ed7953"
             ],
             [
              0.7777777777777778,
              "#fb9f3a"
             ],
             [
              0.8888888888888888,
              "#fdca26"
             ],
             [
              1,
              "#f0f921"
             ]
            ],
            "type": "histogram2dcontour"
           }
          ],
          "mesh3d": [
           {
            "colorbar": {
             "outlinewidth": 0,
             "ticks": ""
            },
            "type": "mesh3d"
           }
          ],
          "parcoords": [
           {
            "line": {
             "colorbar": {
              "outlinewidth": 0,
              "ticks": ""
             }
            },
            "type": "parcoords"
           }
          ],
          "pie": [
           {
            "automargin": true,
            "type": "pie"
           }
          ],
          "scatter": [
           {
            "marker": {
             "line": {
              "color": "#283442"
             }
            },
            "type": "scatter"
           }
          ],
          "scatter3d": [
           {
            "line": {
             "colorbar": {
              "outlinewidth": 0,
              "ticks": ""
             }
            },
            "marker": {
             "colorbar": {
              "outlinewidth": 0,
              "ticks": ""
             }
            },
            "type": "scatter3d"
           }
          ],
          "scattercarpet": [
           {
            "marker": {
             "colorbar": {
              "outlinewidth": 0,
              "ticks": ""
             }
            },
            "type": "scattercarpet"
           }
          ],
          "scattergeo": [
           {
            "marker": {
             "colorbar": {
              "outlinewidth": 0,
              "ticks": ""
             }
            },
            "type": "scattergeo"
           }
          ],
          "scattergl": [
           {
            "marker": {
             "line": {
              "color": "#283442"
             }
            },
            "type": "scattergl"
           }
          ],
          "scattermapbox": [
           {
            "marker": {
             "colorbar": {
              "outlinewidth": 0,
              "ticks": ""
             }
            },
            "type": "scattermapbox"
           }
          ],
          "scatterpolar": [
           {
            "marker": {
             "colorbar": {
              "outlinewidth": 0,
              "ticks": ""
             }
            },
            "type": "scatterpolar"
           }
          ],
          "scatterpolargl": [
           {
            "marker": {
             "colorbar": {
              "outlinewidth": 0,
              "ticks": ""
             }
            },
            "type": "scatterpolargl"
           }
          ],
          "scatterternary": [
           {
            "marker": {
             "colorbar": {
              "outlinewidth": 0,
              "ticks": ""
             }
            },
            "type": "scatterternary"
           }
          ],
          "surface": [
           {
            "colorbar": {
             "outlinewidth": 0,
             "ticks": ""
            },
            "colorscale": [
             [
              0,
              "#0d0887"
             ],
             [
              0.1111111111111111,
              "#46039f"
             ],
             [
              0.2222222222222222,
              "#7201a8"
             ],
             [
              0.3333333333333333,
              "#9c179e"
             ],
             [
              0.4444444444444444,
              "#bd3786"
             ],
             [
              0.5555555555555556,
              "#d8576b"
             ],
             [
              0.6666666666666666,
              "#ed7953"
             ],
             [
              0.7777777777777778,
              "#fb9f3a"
             ],
             [
              0.8888888888888888,
              "#fdca26"
             ],
             [
              1,
              "#f0f921"
             ]
            ],
            "type": "surface"
           }
          ],
          "table": [
           {
            "cells": {
             "fill": {
              "color": "#506784"
             },
             "line": {
              "color": "rgb(17,17,17)"
             }
            },
            "header": {
             "fill": {
              "color": "#2a3f5f"
             },
             "line": {
              "color": "rgb(17,17,17)"
             }
            },
            "type": "table"
           }
          ]
         },
         "layout": {
          "annotationdefaults": {
           "arrowcolor": "#f2f5fa",
           "arrowhead": 0,
           "arrowwidth": 1
          },
          "autotypenumbers": "strict",
          "coloraxis": {
           "colorbar": {
            "outlinewidth": 0,
            "ticks": ""
           }
          },
          "colorscale": {
           "diverging": [
            [
             0,
             "#8e0152"
            ],
            [
             0.1,
             "#c51b7d"
            ],
            [
             0.2,
             "#de77ae"
            ],
            [
             0.3,
             "#f1b6da"
            ],
            [
             0.4,
             "#fde0ef"
            ],
            [
             0.5,
             "#f7f7f7"
            ],
            [
             0.6,
             "#e6f5d0"
            ],
            [
             0.7,
             "#b8e186"
            ],
            [
             0.8,
             "#7fbc41"
            ],
            [
             0.9,
             "#4d9221"
            ],
            [
             1,
             "#276419"
            ]
           ],
           "sequential": [
            [
             0,
             "#0d0887"
            ],
            [
             0.1111111111111111,
             "#46039f"
            ],
            [
             0.2222222222222222,
             "#7201a8"
            ],
            [
             0.3333333333333333,
             "#9c179e"
            ],
            [
             0.4444444444444444,
             "#bd3786"
            ],
            [
             0.5555555555555556,
             "#d8576b"
            ],
            [
             0.6666666666666666,
             "#ed7953"
            ],
            [
             0.7777777777777778,
             "#fb9f3a"
            ],
            [
             0.8888888888888888,
             "#fdca26"
            ],
            [
             1,
             "#f0f921"
            ]
           ],
           "sequentialminus": [
            [
             0,
             "#0d0887"
            ],
            [
             0.1111111111111111,
             "#46039f"
            ],
            [
             0.2222222222222222,
             "#7201a8"
            ],
            [
             0.3333333333333333,
             "#9c179e"
            ],
            [
             0.4444444444444444,
             "#bd3786"
            ],
            [
             0.5555555555555556,
             "#d8576b"
            ],
            [
             0.6666666666666666,
             "#ed7953"
            ],
            [
             0.7777777777777778,
             "#fb9f3a"
            ],
            [
             0.8888888888888888,
             "#fdca26"
            ],
            [
             1,
             "#f0f921"
            ]
           ]
          },
          "colorway": [
           "#636efa",
           "#EF553B",
           "#00cc96",
           "#ab63fa",
           "#FFA15A",
           "#19d3f3",
           "#FF6692",
           "#B6E880",
           "#FF97FF",
           "#FECB52"
          ],
          "font": {
           "color": "#f2f5fa"
          },
          "geo": {
           "bgcolor": "rgb(17,17,17)",
           "lakecolor": "rgb(17,17,17)",
           "landcolor": "rgb(17,17,17)",
           "showlakes": true,
           "showland": true,
           "subunitcolor": "#506784"
          },
          "hoverlabel": {
           "align": "left"
          },
          "hovermode": "closest",
          "mapbox": {
           "style": "dark"
          },
          "paper_bgcolor": "rgb(17,17,17)",
          "plot_bgcolor": "rgb(17,17,17)",
          "polar": {
           "angularaxis": {
            "gridcolor": "#506784",
            "linecolor": "#506784",
            "ticks": ""
           },
           "bgcolor": "rgb(17,17,17)",
           "radialaxis": {
            "gridcolor": "#506784",
            "linecolor": "#506784",
            "ticks": ""
           }
          },
          "scene": {
           "xaxis": {
            "backgroundcolor": "rgb(17,17,17)",
            "gridcolor": "#506784",
            "gridwidth": 2,
            "linecolor": "#506784",
            "showbackground": true,
            "ticks": "",
            "zerolinecolor": "#C8D4E3"
           },
           "yaxis": {
            "backgroundcolor": "rgb(17,17,17)",
            "gridcolor": "#506784",
            "gridwidth": 2,
            "linecolor": "#506784",
            "showbackground": true,
            "ticks": "",
            "zerolinecolor": "#C8D4E3"
           },
           "zaxis": {
            "backgroundcolor": "rgb(17,17,17)",
            "gridcolor": "#506784",
            "gridwidth": 2,
            "linecolor": "#506784",
            "showbackground": true,
            "ticks": "",
            "zerolinecolor": "#C8D4E3"
           }
          },
          "shapedefaults": {
           "line": {
            "color": "#f2f5fa"
           }
          },
          "sliderdefaults": {
           "bgcolor": "#C8D4E3",
           "bordercolor": "rgb(17,17,17)",
           "borderwidth": 1,
           "tickwidth": 0
          },
          "ternary": {
           "aaxis": {
            "gridcolor": "#506784",
            "linecolor": "#506784",
            "ticks": ""
           },
           "baxis": {
            "gridcolor": "#506784",
            "linecolor": "#506784",
            "ticks": ""
           },
           "bgcolor": "rgb(17,17,17)",
           "caxis": {
            "gridcolor": "#506784",
            "linecolor": "#506784",
            "ticks": ""
           }
          },
          "title": {
           "x": 0.05
          },
          "updatemenudefaults": {
           "bgcolor": "#506784",
           "borderwidth": 0
          },
          "xaxis": {
           "automargin": true,
           "gridcolor": "#283442",
           "linecolor": "#506784",
           "ticks": "",
           "title": {
            "standoff": 15
           },
           "zerolinecolor": "#283442",
           "zerolinewidth": 2
          },
          "yaxis": {
           "automargin": true,
           "gridcolor": "#283442",
           "linecolor": "#506784",
           "ticks": "",
           "title": {
            "standoff": 15
           },
           "zerolinecolor": "#283442",
           "zerolinewidth": 2
          }
         }
        },
        "xaxis": {
         "visible": false
        },
        "yaxis": {
         "visible": false
        }
       }
      }
     },
     "metadata": {},
     "output_type": "display_data"
    }
   ],
   "source": [
    "import plotly.graph_objects as go\n",
    "def px_plot_network_graph_nodes(G:nx.Graph, *, layout=None, **pxkwargs) -> go.Figure:\n",
    "    positions = (layout or nx.spring_layout(G))\n",
    "    df = pd.DataFrame([{\"label\": k, \"x\": v[0], \"y\": v[1], \"size\":10, **G.nodes(data=True)[k]} for k,v in positions.items()])\n",
    "    for column in df.columns[(df.sample(100).applymap(type) == set).any(axis=0)]:\n",
    "        df[column] = df[column].apply(list)\n",
    "    fig = px.scatter(df, x=\"x\", y=\"y\", hover_data=df.columns, size=\"size\", **pxkwargs)\n",
    "    fig.update_layout(\n",
    "        xaxis=go.layout.XAxis(visible=False),\n",
    "        yaxis=go.layout.YAxis(visible=False)\n",
    "    )\n",
    "    return fig\n",
    "\n",
    "def px_plot_nx(G:nx.Graph, *, layout=nx.spring_layout, **nodekwargs) -> go.Figure:\n",
    "    # Generate positions, edges \n",
    "    nodes = layout(G)\n",
    "    edges = [{\n",
    "        \"x\": [nodes[source][0],nodes[target][0]], \n",
    "        \"y\": [nodes[source][1],nodes[target][1]]} for source, target in G.edges()\n",
    "    ]\n",
    "    # Plot nodes\n",
    "    figure = px_plot_network_graph_nodes(G, layout=nodes, **nodekwargs)\n",
    "    # Add edges to nodes\n",
    "    figure.add_traces([\n",
    "        px.line(\n",
    "            x=edge[\"x\"],\n",
    "            y=edge[\"y\"],\n",
    "            color_discrete_sequence=[\"grey\"],\n",
    "        ).data[0] for edge in edges\n",
    "    ])\n",
    "    figure.data = figure.data[::-1] # shuffle edges behind nodes\n",
    "    return figure\n",
    "from functools import partial\n",
    "layout = partial(nx.spring_layout,k=0.2, iterations=20)\n",
    "px_plot_nx(G, color=\"City\", layout=layout, hover_name=None, template=\"plotly_dark\")#,text=\"label\")"
   ]
  },
  {
   "cell_type": "code",
   "execution_count": 25,
   "metadata": {},
   "outputs": [],
   "source": [
    "def plot_cytoscape(cytoscape_data: dict):\n",
    "    pass"
   ]
  },
  {
   "cell_type": "code",
   "execution_count": 26,
   "metadata": {},
   "outputs": [],
   "source": [
    "cytoscape_data = nx.cytoscape.cytoscape_data(G)"
   ]
  },
  {
   "cell_type": "code",
   "execution_count": 113,
   "metadata": {},
   "outputs": [],
   "source": [
    "elements = cytoscape_data.get(\"elements\",{})\n",
    "nodes, edges = elements.get(\"nodes\",[]), elements.get(\"edges\",[])"
   ]
  },
  {
   "cell_type": "code",
   "execution_count": null,
   "metadata": {},
   "outputs": [],
   "source": []
  }
 ],
 "metadata": {
  "kernelspec": {
   "display_name": "peopleanalytics-hP1UcNMM",
   "language": "python",
   "name": "python3"
  },
  "language_info": {
   "codemirror_mode": {
    "name": "ipython",
    "version": 3
   },
   "file_extension": ".py",
   "mimetype": "text/x-python",
   "name": "python",
   "nbconvert_exporter": "python",
   "pygments_lexer": "ipython3",
   "version": "3.11.3"
  },
  "orig_nbformat": 4,
  "vscode": {
   "interpreter": {
    "hash": "a79ebb34bd880ae1609598d91f5437f974a2fc812a889a38194f0c3042249b1f"
   }
  }
 },
 "nbformat": 4,
 "nbformat_minor": 2
}
