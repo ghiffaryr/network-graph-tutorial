{
 "cells": [
  {
   "attachments": {},
   "cell_type": "markdown",
   "metadata": {},
   "source": [
    "# People\n",
    "\n",
    "What are they? How can we represent people in a meaningful way that doesn't get any of us fired for exfiltrating data?\n",
    "\n",
    "## Faker\n",
    "\n",
    "Let's generate some fake data! https://faker.readthedocs.io/en/master/\n",
    "\n",
    "\n"
   ]
  },
  {
   "cell_type": "code",
   "execution_count": 78,
   "metadata": {},
   "outputs": [
    {
     "data": {
      "text/plain": [
       "[{'job': 'Magazine journalist',\n",
       "  'company': 'Vasquez PLC',\n",
       "  'ssn': '231-97-4534',\n",
       "  'residence': 'PSC 1762, Box 0888\\nAPO AE 38306',\n",
       "  'current_location': (Decimal('61.3158685'), Decimal('70.862564')),\n",
       "  'blood_group': 'A-',\n",
       "  'website': ['https://www.malone.biz/'],\n",
       "  'username': 'johnsonsteven',\n",
       "  'name': 'Elizabeth Gonzalez',\n",
       "  'sex': 'F',\n",
       "  'address': '84650 Gomez Stravenue\\nReeseton, AS 68595',\n",
       "  'mail': 'sean29@gmail.com',\n",
       "  'birthdate': datetime.date(1948, 7, 25)},\n",
       " {'job': 'Environmental consultant',\n",
       "  'company': 'Blevins, Davis and Mercer',\n",
       "  'ssn': '490-18-4531',\n",
       "  'residence': '5135 Daniel Mall Apt. 591\\nLake James, UT 32433',\n",
       "  'current_location': (Decimal('-80.725110'), Decimal('-46.800265')),\n",
       "  'blood_group': 'A-',\n",
       "  'website': ['https://www.garza-lee.org/'],\n",
       "  'username': 'vhull',\n",
       "  'name': 'Miss Katrina Reed',\n",
       "  'sex': 'F',\n",
       "  'address': '6933 Heidi Walk Apt. 979\\nNorth Karen, VI 25420',\n",
       "  'mail': 'rodonnell@hotmail.com',\n",
       "  'birthdate': datetime.date(2019, 3, 5)},\n",
       " {'job': 'Administrator',\n",
       "  'company': 'Lewis, Garcia and Ortiz',\n",
       "  'ssn': '263-42-1327',\n",
       "  'residence': '30896 Mccall Plains Apt. 144\\nSusantown, CO 74215',\n",
       "  'current_location': (Decimal('-49.7574355'), Decimal('-113.071159')),\n",
       "  'blood_group': 'A+',\n",
       "  'website': ['http://jones.com/',\n",
       "   'http://www.farmer-wolfe.info/',\n",
       "   'https://www.leach-smith.com/'],\n",
       "  'username': 'amandaperez',\n",
       "  'name': 'Paul Lopez',\n",
       "  'sex': 'M',\n",
       "  'address': '2195 Victoria Plain Suite 214\\nPort Lanceland, HI 56267',\n",
       "  'mail': 'zward@hotmail.com',\n",
       "  'birthdate': datetime.date(1938, 5, 2)}]"
      ]
     },
     "execution_count": 78,
     "metadata": {},
     "output_type": "execute_result"
    }
   ],
   "source": [
    "from faker import Faker\n",
    "fake = Faker()\n",
    "\n",
    "POPULATION = 3\n",
    "\n",
    "people = [{\n",
    "    **fake.profile() # lots of great stuff in here!\n",
    "} for _ in range(POPULATION)]\n",
    "\n",
    "people"
   ]
  },
  {
   "attachments": {},
   "cell_type": "markdown",
   "metadata": {},
   "source": [
    "This is a good start but ... it's kind of wonky. We have people all over the world with so many different jobs! Let's keep the spirit of this but implement some of our own limitations on fields to ensure things line up with what we'd expect a company org to look like"
   ]
  },
  {
   "cell_type": "code",
   "execution_count": 260,
   "metadata": {},
   "outputs": [],
   "source": [
    "import numpy as np\n",
    "import random\n",
    "\n",
    "\n",
    "def choose_a_few(\n",
    "    options: list[str],\n",
    "    weights: list[int | float] = None,\n",
    "    max_choices: int = None,\n",
    "    min_choices: int = 0,\n",
    ") -> set[str]:\n",
    "    max_choices = np.clip(max_choices or len(options), min_choices, len(options))\n",
    "    \n",
    "    # how many choices will we make this time?\n",
    "    divisor = max_choices * (max_choices + 1) / 2    \n",
    "    k_weights = [int(x) / divisor for x in range(max_choices, min_choices-1, -1)]\n",
    "    n_choices = np.random.choice(list(range(min_choices,max_choices+1)), p=k_weights)\n",
    "    \n",
    "    # make the choices\n",
    "    choices = random.choices(options, weights=weights, k=n_choices)\n",
    "    return set(choices)\n"
   ]
  },
  {
   "cell_type": "code",
   "execution_count": 374,
   "metadata": {},
   "outputs": [
    {
     "data": {
      "text/plain": [
       "{'Name': 'Carol Thompson',\n",
       " 'Hire Date': datetime.date(2022, 11, 2),\n",
       " 'Status': {'Contract'},\n",
       " 'Languages': set(),\n",
       " 'Team': None,\n",
       " 'Job': None,\n",
       " 'Country': None}"
      ]
     },
     "execution_count": 374,
     "metadata": {},
     "output_type": "execute_result"
    }
   ],
   "source": [
    "import pandas as pd\n",
    "import numpy as np\n",
    "from faker import Faker\n",
    "import random\n",
    "\n",
    "# create some fake data\n",
    "fake = Faker()\n",
    "\n",
    "employment = {\"Full Time\": 0.7, \"Part Time\": 0.05, \"Contract\": 0.3}\n",
    "languages = {\n",
    "    \"Python\": 0.25,\n",
    "    \"Scala\": 0.1,\n",
    "    \"Go\": 0.08,\n",
    "    \"JavaScript\": 0.3,\n",
    "    \"Java\": 0.3,\n",
    "    \"Typescript\": 0.17,\n",
    "    \"Erlang\": 0.01,\n",
    "    \"Elixir\": 0.001,\n",
    "}\n",
    "\n",
    "def make_person() -> dict[str]:\n",
    "    return {\n",
    "        \"Name\": fake.name(),\n",
    "        \"Hire Date\": fake.date_between(start_date=\"-3y\", end_date=\"today\"),\n",
    "        \"Status\": choose_a_few(list(employment), max_choices=1, min_choices=1),\n",
    "        \"Languages\": choose_a_few(list(languages.keys()), weights=list(languages.values())),\n",
    "        \"Team\": None, # hrmmmm this is harder\n",
    "        \"Job\": None, # let's be smarter with this\n",
    "        \"Country\": None, # let's also be smarter with this\n",
    "    }\n",
    "\n",
    "make_person()"
   ]
  },
  {
   "attachments": {},
   "cell_type": "markdown",
   "metadata": {},
   "source": [
    "Now we can generate more complex attributes in a smart way. Let's set up some rules about where offices are, what teams are in which offices, then pick titles based on other info (e.g. Developers probably know at least one language ... and executives are fulltime?)"
   ]
  },
  {
   "cell_type": "code",
   "execution_count": 409,
   "metadata": {},
   "outputs": [
    {
     "data": {
      "text/plain": [
       "{'City': 'London',\n",
       " 'Timezone': 'UTC',\n",
       " 'Country': 'GBR',\n",
       " 'Title': 'Associate',\n",
       " 'Team': 'Sales'}"
      ]
     },
     "execution_count": 409,
     "metadata": {},
     "output_type": "execute_result"
    }
   ],
   "source": [
    "from dataclasses import dataclass\n",
    "from enum import Enum, auto\n",
    "\n",
    "\n",
    "class timezone(str, Enum):\n",
    "    EST = auto()\n",
    "    PST = auto()\n",
    "    UTC = auto()\n",
    "\n",
    "\n",
    "@dataclass\n",
    "class Location:\n",
    "    city: str\n",
    "    tz: timezone\n",
    "    country: str\n",
    "\n",
    "TEAM_TITLES = {\n",
    "    \"DevX\": [\"Engineer\", \"Engineer\", \"Engineer\", \"Engineer\", \"Engineer\", \"AVP\"],\n",
    "    \"DevOps\": [\"Engineer\", \"Senior Engineer\", \"Manager\"],\n",
    "    \"Sales\": [\"Associate\"],\n",
    "    \"Support\": [\"Analyst\", \"Manager\"],\n",
    "    \"Platform\": [\"Engineer\", \"Senior Engineer\",\"Managing Engineer\", \"AVP\", \"VP\"],\n",
    "    \"Product\": [\"Engineer\", \"Manager\", \"Product Owner\", \"AVP\", \"VP\"],\n",
    "    \"Internal Tools\": [\"Engineer\", \"Senior Engineer\", \"Manager\", \"AVP\", \"VP\"],\n",
    "    \"Business\": [\"Analyst\", \"Associate\", \"Vice President\", \"Director\", \"Managing Director\"]\n",
    "}\n",
    "\n",
    "\n",
    "def title_city_team():\n",
    "    # just a few locations\n",
    "    offices = {\n",
    "        location.city: location\n",
    "        for location in [\n",
    "            Location(\"New York\", tz=\"EST\", country=\"USA\"),\n",
    "            Location(\"Seattle\", tz=\"PST\", country=\"USA\"),\n",
    "            Location(\"Toronto\", tz=\"EST\", country=\"CAN\"),\n",
    "            Location(\"London\", tz=\"UTC\", country=\"GBR\"),\n",
    "            Location(\"Fort Lauderdale\", tz=\"EST\", country=\"USA\"),\n",
    "            Location(\"Dublin\", tz=\"UTC\", country=\"IRL\"),\n",
    "        ]\n",
    "    }\n",
    "    # codify the hierarchical structure\n",
    "    allowed_teams_per_office = {\n",
    "        \"New York\": [\"Sales\", \"Product\", \"Business\"],\n",
    "        \"Toronto\": [\"Platform\", \"Product\", \"Internal Tools\", \"Sales\", \"Business\"],\n",
    "        \"Fort Lauderdale\": [\"DevX\"],\n",
    "        \"Dublin\": [\"DevOps\", \"Support\"],\n",
    "        \"London\": [\"Sales\", \"Business\"],\n",
    "        \"Seattle\": [\"Internal Tools\", \"Product\", \"Platform\"],\n",
    "    }\n",
    "    allowed_titles_per_team = TEAM_TITLES\n",
    "\n",
    "    city = random.choice(list(offices))\n",
    "    team = random.choice(allowed_teams_per_office[city])\n",
    "    title = choose_a_few(\n",
    "        allowed_titles_per_team[team], max_choices=1, min_choices=1\n",
    "    ).pop()\n",
    "    return {\n",
    "        \"City\": city,\n",
    "        \"Timezone\": offices[city].tz,\n",
    "        \"Country\": offices[city].country,\n",
    "        \"Title\": title,\n",
    "        \"Team\": team,\n",
    "    }\n",
    "\n",
    "\n",
    "title_city_team()\n"
   ]
  },
  {
   "attachments": {},
   "cell_type": "markdown",
   "metadata": {},
   "source": [
    "After running this we should have a better balanced org in terms of region + titles. Then we just need to add the connections in -- i.e. who's the boss?!"
   ]
  },
  {
   "cell_type": "code",
   "execution_count": 410,
   "metadata": {},
   "outputs": [],
   "source": [
    "def make_person() -> dict[str]:\n",
    "    title_city_team_ = title_city_team()\n",
    "    technical = 1 if \"Engineer\" in title_city_team_[\"Title\"] else 0\n",
    "    return {\n",
    "        \"Name\": fake.name(),\n",
    "        \"Hire Date\": fake.date_between(start_date=\"-3y\", end_date=\"today\"),\n",
    "        \"Status\": choose_a_few(list(employment), max_choices=1, min_choices=1).pop(),\n",
    "        \"Languages\": choose_a_few(list(languages.keys()), weights=list(languages.values()), min_choices=technical),\n",
    "        **title_city_team_,\n",
    "    }\n"
   ]
  },
  {
   "cell_type": "code",
   "execution_count": 510,
   "metadata": {},
   "outputs": [
    {
     "data": {
      "text/html": [
       "<div>\n",
       "<style scoped>\n",
       "    .dataframe tbody tr th:only-of-type {\n",
       "        vertical-align: middle;\n",
       "    }\n",
       "\n",
       "    .dataframe tbody tr th {\n",
       "        vertical-align: top;\n",
       "    }\n",
       "\n",
       "    .dataframe thead th {\n",
       "        text-align: right;\n",
       "    }\n",
       "</style>\n",
       "<table border=\"1\" class=\"dataframe\">\n",
       "  <thead>\n",
       "    <tr style=\"text-align: right;\">\n",
       "      <th></th>\n",
       "      <th>Name</th>\n",
       "      <th>Hire Date</th>\n",
       "      <th>Status</th>\n",
       "      <th>Languages</th>\n",
       "      <th>City</th>\n",
       "      <th>Timezone</th>\n",
       "      <th>Country</th>\n",
       "      <th>Title</th>\n",
       "      <th>Team</th>\n",
       "    </tr>\n",
       "  </thead>\n",
       "  <tbody>\n",
       "    <tr>\n",
       "      <th>0</th>\n",
       "      <td>Rachel Jordan</td>\n",
       "      <td>2023-01-25</td>\n",
       "      <td>Part Time</td>\n",
       "      <td>{Typescript}</td>\n",
       "      <td>London</td>\n",
       "      <td>UTC</td>\n",
       "      <td>GBR</td>\n",
       "      <td>Associate</td>\n",
       "      <td>Business</td>\n",
       "    </tr>\n",
       "    <tr>\n",
       "      <th>1</th>\n",
       "      <td>Vanessa Miles</td>\n",
       "      <td>2021-09-01</td>\n",
       "      <td>Part Time</td>\n",
       "      <td>{Java}</td>\n",
       "      <td>Toronto</td>\n",
       "      <td>EST</td>\n",
       "      <td>CAN</td>\n",
       "      <td>Associate</td>\n",
       "      <td>Business</td>\n",
       "    </tr>\n",
       "    <tr>\n",
       "      <th>2</th>\n",
       "      <td>Vanessa Walker</td>\n",
       "      <td>2020-09-15</td>\n",
       "      <td>Full Time</td>\n",
       "      <td>{JavaScript, Python}</td>\n",
       "      <td>Dublin</td>\n",
       "      <td>UTC</td>\n",
       "      <td>IRL</td>\n",
       "      <td>Engineer</td>\n",
       "      <td>DevOps</td>\n",
       "    </tr>\n",
       "    <tr>\n",
       "      <th>3</th>\n",
       "      <td>Rachel Sandoval</td>\n",
       "      <td>2021-03-25</td>\n",
       "      <td>Contract</td>\n",
       "      <td>{Go, Java, JavaScript, Python}</td>\n",
       "      <td>New York</td>\n",
       "      <td>EST</td>\n",
       "      <td>USA</td>\n",
       "      <td>Analyst</td>\n",
       "      <td>Business</td>\n",
       "    </tr>\n",
       "    <tr>\n",
       "      <th>4</th>\n",
       "      <td>Brian Carlson</td>\n",
       "      <td>2021-05-08</td>\n",
       "      <td>Part Time</td>\n",
       "      <td>{JavaScript, Scala, Java}</td>\n",
       "      <td>Toronto</td>\n",
       "      <td>EST</td>\n",
       "      <td>CAN</td>\n",
       "      <td>Senior Engineer</td>\n",
       "      <td>Internal Tools</td>\n",
       "    </tr>\n",
       "  </tbody>\n",
       "</table>\n",
       "</div>"
      ],
      "text/plain": [
       "              Name   Hire Date     Status                       Languages  \\\n",
       "0    Rachel Jordan  2023-01-25  Part Time                    {Typescript}   \n",
       "1    Vanessa Miles  2021-09-01  Part Time                          {Java}   \n",
       "2   Vanessa Walker  2020-09-15  Full Time            {JavaScript, Python}   \n",
       "3  Rachel Sandoval  2021-03-25   Contract  {Go, Java, JavaScript, Python}   \n",
       "4    Brian Carlson  2021-05-08  Part Time       {JavaScript, Scala, Java}   \n",
       "\n",
       "       City Timezone Country            Title            Team  \n",
       "0    London      UTC     GBR        Associate        Business  \n",
       "1   Toronto      EST     CAN        Associate        Business  \n",
       "2    Dublin      UTC     IRL         Engineer          DevOps  \n",
       "3  New York      EST     USA          Analyst        Business  \n",
       "4   Toronto      EST     CAN  Senior Engineer  Internal Tools  "
      ]
     },
     "execution_count": 510,
     "metadata": {},
     "output_type": "execute_result"
    }
   ],
   "source": [
    "people_df = pd.DataFrame((make_person() for _ in range(150)))\n",
    "people_df.head()"
   ]
  },
  {
   "attachments": {},
   "cell_type": "markdown",
   "metadata": {},
   "source": [
    "So, let's group by Team and then pick a manager for everyone:"
   ]
  },
  {
   "cell_type": "code",
   "execution_count": 511,
   "metadata": {},
   "outputs": [],
   "source": [
    "ranks = {team: {title: rank for rank,title in enumerate(titles)} for team, titles in TEAM_TITLES.items()}\n",
    "for team in ranks:\n",
    "    people_df.loc[people_df.Team==team, \"rank\"] = people_df.loc[people_df.Team==team].Title.map(ranks[team])\n",
    "people_df = people_df.sort_values(by=[\"Team\",\"rank\"])"
   ]
  },
  {
   "cell_type": "code",
   "execution_count": 512,
   "metadata": {},
   "outputs": [
    {
     "data": {
      "text/html": [
       "<div>\n",
       "<style scoped>\n",
       "    .dataframe tbody tr th:only-of-type {\n",
       "        vertical-align: middle;\n",
       "    }\n",
       "\n",
       "    .dataframe tbody tr th {\n",
       "        vertical-align: top;\n",
       "    }\n",
       "\n",
       "    .dataframe thead th {\n",
       "        text-align: right;\n",
       "    }\n",
       "</style>\n",
       "<table border=\"1\" class=\"dataframe\">\n",
       "  <thead>\n",
       "    <tr style=\"text-align: right;\">\n",
       "      <th></th>\n",
       "      <th>Name</th>\n",
       "      <th>Hire Date</th>\n",
       "      <th>Status</th>\n",
       "      <th>Languages</th>\n",
       "      <th>City</th>\n",
       "      <th>Timezone</th>\n",
       "      <th>Country</th>\n",
       "      <th>Title</th>\n",
       "      <th>Team</th>\n",
       "      <th>rank</th>\n",
       "      <th>peoplemanager</th>\n",
       "      <th>manager</th>\n",
       "    </tr>\n",
       "  </thead>\n",
       "  <tbody>\n",
       "    <tr>\n",
       "      <th>0</th>\n",
       "      <td>Rachel Sandoval</td>\n",
       "      <td>2021-03-25</td>\n",
       "      <td>Contract</td>\n",
       "      <td>{Go, Java, JavaScript, Python}</td>\n",
       "      <td>New York</td>\n",
       "      <td>EST</td>\n",
       "      <td>USA</td>\n",
       "      <td>Analyst</td>\n",
       "      <td>Business</td>\n",
       "      <td>0.0</td>\n",
       "      <td>Vanessa Walker</td>\n",
       "      <td>Rachel Sandoval</td>\n",
       "    </tr>\n",
       "    <tr>\n",
       "      <th>1</th>\n",
       "      <td>Michael Sloan</td>\n",
       "      <td>2022-11-09</td>\n",
       "      <td>Contract</td>\n",
       "      <td>{JavaScript}</td>\n",
       "      <td>London</td>\n",
       "      <td>UTC</td>\n",
       "      <td>GBR</td>\n",
       "      <td>Analyst</td>\n",
       "      <td>Business</td>\n",
       "      <td>0.0</td>\n",
       "      <td>Rachel Sandoval</td>\n",
       "      <td>Rachel Sandoval</td>\n",
       "    </tr>\n",
       "    <tr>\n",
       "      <th>2</th>\n",
       "      <td>Isaac Bowers</td>\n",
       "      <td>2020-12-29</td>\n",
       "      <td>Full Time</td>\n",
       "      <td>{Go, Scala, JavaScript, Python, Typescript, Java}</td>\n",
       "      <td>London</td>\n",
       "      <td>UTC</td>\n",
       "      <td>GBR</td>\n",
       "      <td>Analyst</td>\n",
       "      <td>Business</td>\n",
       "      <td>0.0</td>\n",
       "      <td>Rachel Sandoval</td>\n",
       "      <td>Rachel Sandoval</td>\n",
       "    </tr>\n",
       "    <tr>\n",
       "      <th>3</th>\n",
       "      <td>Christopher Gonzalez</td>\n",
       "      <td>2022-02-12</td>\n",
       "      <td>Full Time</td>\n",
       "      <td>{Typescript}</td>\n",
       "      <td>New York</td>\n",
       "      <td>EST</td>\n",
       "      <td>USA</td>\n",
       "      <td>Analyst</td>\n",
       "      <td>Business</td>\n",
       "      <td>0.0</td>\n",
       "      <td>Rachel Sandoval</td>\n",
       "      <td>Rachel Sandoval</td>\n",
       "    </tr>\n",
       "    <tr>\n",
       "      <th>4</th>\n",
       "      <td>Douglas Oconnor</td>\n",
       "      <td>2023-03-06</td>\n",
       "      <td>Part Time</td>\n",
       "      <td>{Java, JavaScript, Python}</td>\n",
       "      <td>New York</td>\n",
       "      <td>EST</td>\n",
       "      <td>USA</td>\n",
       "      <td>Analyst</td>\n",
       "      <td>Business</td>\n",
       "      <td>0.0</td>\n",
       "      <td>Rachel Sandoval</td>\n",
       "      <td>Rachel Sandoval</td>\n",
       "    </tr>\n",
       "  </tbody>\n",
       "</table>\n",
       "</div>"
      ],
      "text/plain": [
       "                   Name   Hire Date     Status  \\\n",
       "0       Rachel Sandoval  2021-03-25   Contract   \n",
       "1         Michael Sloan  2022-11-09   Contract   \n",
       "2          Isaac Bowers  2020-12-29  Full Time   \n",
       "3  Christopher Gonzalez  2022-02-12  Full Time   \n",
       "4       Douglas Oconnor  2023-03-06  Part Time   \n",
       "\n",
       "                                           Languages      City Timezone  \\\n",
       "0                     {Go, Java, JavaScript, Python}  New York      EST   \n",
       "1                                       {JavaScript}    London      UTC   \n",
       "2  {Go, Scala, JavaScript, Python, Typescript, Java}    London      UTC   \n",
       "3                                       {Typescript}  New York      EST   \n",
       "4                         {Java, JavaScript, Python}  New York      EST   \n",
       "\n",
       "  Country    Title      Team  rank    peoplemanager          manager  \n",
       "0     USA  Analyst  Business   0.0   Vanessa Walker  Rachel Sandoval  \n",
       "1     GBR  Analyst  Business   0.0  Rachel Sandoval  Rachel Sandoval  \n",
       "2     GBR  Analyst  Business   0.0  Rachel Sandoval  Rachel Sandoval  \n",
       "3     USA  Analyst  Business   0.0  Rachel Sandoval  Rachel Sandoval  \n",
       "4     USA  Analyst  Business   0.0  Rachel Sandoval  Rachel Sandoval  "
      ]
     },
     "execution_count": 512,
     "metadata": {},
     "output_type": "execute_result"
    }
   ],
   "source": [
    "def naivereportsto(row, df):\n",
    "    supervisor = (\n",
    "        df[(df.index < row.name)].query(f\"\"\"rank <= {row[\"rank\"]}-1\"\"\").tail(1).Name\n",
    "    )\n",
    "    supervisor = supervisor.item() if not supervisor.empty else None\n",
    "    peer = df[(df.index < row.name)].query(f\"\"\"rank  == {row[\"rank\"]}\"\"\").head(1).Name\n",
    "    peer = peer.item() if not peer.empty else None\n",
    "    return supervisor or peer or row.Name\n",
    "\n",
    "\n",
    "def reportsto(df):\n",
    "    return df.assign(manager=df.apply(naivereportsto, df=df, axis=1))\n",
    "\n",
    "\n",
    "def supervisors(df):\n",
    "    df[\"peoplemanager\"] = df.apply(naivereportsto, df=df, axis=1)\n",
    "    df = df.groupby(\"Team\", group_keys=False).apply(reportsto).reset_index(drop=True)\n",
    "    return df\n",
    "\n",
    "\n",
    "people_df = people_df.pipe(supervisors)\n",
    "people_df.head(5)\n"
   ]
  },
  {
   "attachments": {},
   "cell_type": "markdown",
   "metadata": {},
   "source": [
    "Now we just need a CEO for all the team leads to report to:"
   ]
  },
  {
   "cell_type": "code",
   "execution_count": 513,
   "metadata": {},
   "outputs": [],
   "source": [
    "CEO = make_person() | {\"Team\":\"CEO\", \"Title\":\"CEO\", \"Status\":\"Full Time\"}\n",
    "people_df = pd.concat([people_df, pd.DataFrame([CEO])])\n",
    "people_df.loc[people_df.manager == people_df.Name,\"manager\"]=CEO[\"Name\"]"
   ]
  },
  {
   "cell_type": "code",
   "execution_count": 514,
   "metadata": {},
   "outputs": [
    {
     "name": "stdout",
     "output_type": "stream",
     "text": [
      "Object `distributed` not found.\n"
     ]
    }
   ],
   "source": [
    "Cool .. this seems reasonably distributed?"
   ]
  },
  {
   "cell_type": "code",
   "execution_count": 515,
   "metadata": {},
   "outputs": [
    {
     "data": {
      "application/vnd.plotly.v1+json": {
       "config": {
        "plotlyServerURL": "https://plot.ly"
       },
       "data": [
        {
         "alignmentgroup": "True",
         "bingroup": "x",
         "hovertemplate": "Title=%{x}<br>count=%{y}<extra></extra>",
         "legendgroup": "",
         "marker": {
          "color": "#636efa",
          "pattern": {
           "shape": ""
          }
         },
         "name": "",
         "offsetgroup": "",
         "orientation": "v",
         "showlegend": false,
         "type": "histogram",
         "x": [
          "Analyst",
          "Analyst",
          "Analyst",
          "Analyst",
          "Analyst",
          "Analyst",
          "Analyst",
          "Associate",
          "Associate",
          "Associate",
          "Associate",
          "Associate",
          "Associate",
          "Associate",
          "Associate",
          "Associate",
          "Associate",
          "Associate",
          "Associate",
          "Associate",
          "Vice President",
          "Vice President",
          "Vice President",
          "Vice President",
          "Vice President",
          "Director",
          "Director",
          "Director",
          "Managing Director",
          "Managing Director",
          "Managing Director",
          "Engineer",
          "Engineer",
          "Engineer",
          "Engineer",
          "Engineer",
          "Engineer",
          "Engineer",
          "Engineer",
          "Engineer",
          "Senior Engineer",
          "Senior Engineer",
          "Manager",
          "Manager",
          "Manager",
          "Manager",
          "Manager",
          "Manager",
          "Engineer",
          "Engineer",
          "Engineer",
          "Engineer",
          "Engineer",
          "Engineer",
          "Engineer",
          "Engineer",
          "Engineer",
          "Engineer",
          "Engineer",
          "Engineer",
          "Engineer",
          "Engineer",
          "Engineer",
          "Engineer",
          "Engineer",
          "Engineer",
          "AVP",
          "AVP",
          "AVP",
          "AVP",
          "Engineer",
          "Engineer",
          "Senior Engineer",
          "Senior Engineer",
          "AVP",
          "VP",
          "VP",
          "VP",
          "VP",
          "Engineer",
          "Engineer",
          "Engineer",
          "Engineer",
          "Senior Engineer",
          "Senior Engineer",
          "Senior Engineer",
          "Managing Engineer",
          "Managing Engineer",
          "Managing Engineer",
          "VP",
          "VP",
          "Engineer",
          "Engineer",
          "Engineer",
          "Engineer",
          "Manager",
          "Manager",
          "Manager",
          "Manager",
          "Product Owner",
          "Product Owner",
          "AVP",
          "AVP",
          "AVP",
          "AVP",
          "AVP",
          "VP",
          "VP",
          "VP",
          "VP",
          "VP",
          "Associate",
          "Associate",
          "Associate",
          "Associate",
          "Associate",
          "Associate",
          "Associate",
          "Associate",
          "Associate",
          "Associate",
          "Associate",
          "Associate",
          "Associate",
          "Associate",
          "Associate",
          "Associate",
          "Associate",
          "Associate",
          "Associate",
          "Analyst",
          "Analyst",
          "Analyst",
          "Analyst",
          "Analyst",
          "Analyst",
          "Analyst",
          "Analyst",
          "Analyst",
          "Analyst",
          "Manager",
          "Manager",
          "Manager",
          "Manager",
          "Manager",
          "Manager",
          "Manager",
          "Manager",
          "Manager",
          "Manager",
          "CEO"
         ],
         "xaxis": "x",
         "yaxis": "y"
        }
       ],
       "layout": {
        "barmode": "relative",
        "legend": {
         "tracegroupgap": 0
        },
        "margin": {
         "t": 60
        },
        "template": {
         "data": {
          "bar": [
           {
            "error_x": {
             "color": "#f2f5fa"
            },
            "error_y": {
             "color": "#f2f5fa"
            },
            "marker": {
             "line": {
              "color": "rgb(17,17,17)",
              "width": 0.5
             },
             "pattern": {
              "fillmode": "overlay",
              "size": 10,
              "solidity": 0.2
             }
            },
            "type": "bar"
           }
          ],
          "barpolar": [
           {
            "marker": {
             "line": {
              "color": "rgb(17,17,17)",
              "width": 0.5
             },
             "pattern": {
              "fillmode": "overlay",
              "size": 10,
              "solidity": 0.2
             }
            },
            "type": "barpolar"
           }
          ],
          "carpet": [
           {
            "aaxis": {
             "endlinecolor": "#A2B1C6",
             "gridcolor": "#506784",
             "linecolor": "#506784",
             "minorgridcolor": "#506784",
             "startlinecolor": "#A2B1C6"
            },
            "baxis": {
             "endlinecolor": "#A2B1C6",
             "gridcolor": "#506784",
             "linecolor": "#506784",
             "minorgridcolor": "#506784",
             "startlinecolor": "#A2B1C6"
            },
            "type": "carpet"
           }
          ],
          "choropleth": [
           {
            "colorbar": {
             "outlinewidth": 0,
             "ticks": ""
            },
            "type": "choropleth"
           }
          ],
          "contour": [
           {
            "colorbar": {
             "outlinewidth": 0,
             "ticks": ""
            },
            "colorscale": [
             [
              0,
              "#0d0887"
             ],
             [
              0.1111111111111111,
              "#46039f"
             ],
             [
              0.2222222222222222,
              "#7201a8"
             ],
             [
              0.3333333333333333,
              "#9c179e"
             ],
             [
              0.4444444444444444,
              "#bd3786"
             ],
             [
              0.5555555555555556,
              "#d8576b"
             ],
             [
              0.6666666666666666,
              "#ed7953"
             ],
             [
              0.7777777777777778,
              "#fb9f3a"
             ],
             [
              0.8888888888888888,
              "#fdca26"
             ],
             [
              1,
              "#f0f921"
             ]
            ],
            "type": "contour"
           }
          ],
          "contourcarpet": [
           {
            "colorbar": {
             "outlinewidth": 0,
             "ticks": ""
            },
            "type": "contourcarpet"
           }
          ],
          "heatmap": [
           {
            "colorbar": {
             "outlinewidth": 0,
             "ticks": ""
            },
            "colorscale": [
             [
              0,
              "#0d0887"
             ],
             [
              0.1111111111111111,
              "#46039f"
             ],
             [
              0.2222222222222222,
              "#7201a8"
             ],
             [
              0.3333333333333333,
              "#9c179e"
             ],
             [
              0.4444444444444444,
              "#bd3786"
             ],
             [
              0.5555555555555556,
              "#d8576b"
             ],
             [
              0.6666666666666666,
              "#ed7953"
             ],
             [
              0.7777777777777778,
              "#fb9f3a"
             ],
             [
              0.8888888888888888,
              "#fdca26"
             ],
             [
              1,
              "#f0f921"
             ]
            ],
            "type": "heatmap"
           }
          ],
          "heatmapgl": [
           {
            "colorbar": {
             "outlinewidth": 0,
             "ticks": ""
            },
            "colorscale": [
             [
              0,
              "#0d0887"
             ],
             [
              0.1111111111111111,
              "#46039f"
             ],
             [
              0.2222222222222222,
              "#7201a8"
             ],
             [
              0.3333333333333333,
              "#9c179e"
             ],
             [
              0.4444444444444444,
              "#bd3786"
             ],
             [
              0.5555555555555556,
              "#d8576b"
             ],
             [
              0.6666666666666666,
              "#ed7953"
             ],
             [
              0.7777777777777778,
              "#fb9f3a"
             ],
             [
              0.8888888888888888,
              "#fdca26"
             ],
             [
              1,
              "#f0f921"
             ]
            ],
            "type": "heatmapgl"
           }
          ],
          "histogram": [
           {
            "marker": {
             "pattern": {
              "fillmode": "overlay",
              "size": 10,
              "solidity": 0.2
             }
            },
            "type": "histogram"
           }
          ],
          "histogram2d": [
           {
            "colorbar": {
             "outlinewidth": 0,
             "ticks": ""
            },
            "colorscale": [
             [
              0,
              "#0d0887"
             ],
             [
              0.1111111111111111,
              "#46039f"
             ],
             [
              0.2222222222222222,
              "#7201a8"
             ],
             [
              0.3333333333333333,
              "#9c179e"
             ],
             [
              0.4444444444444444,
              "#bd3786"
             ],
             [
              0.5555555555555556,
              "#d8576b"
             ],
             [
              0.6666666666666666,
              "#ed7953"
             ],
             [
              0.7777777777777778,
              "#fb9f3a"
             ],
             [
              0.8888888888888888,
              "#fdca26"
             ],
             [
              1,
              "#f0f921"
             ]
            ],
            "type": "histogram2d"
           }
          ],
          "histogram2dcontour": [
           {
            "colorbar": {
             "outlinewidth": 0,
             "ticks": ""
            },
            "colorscale": [
             [
              0,
              "#0d0887"
             ],
             [
              0.1111111111111111,
              "#46039f"
             ],
             [
              0.2222222222222222,
              "#7201a8"
             ],
             [
              0.3333333333333333,
              "#9c179e"
             ],
             [
              0.4444444444444444,
              "#bd3786"
             ],
             [
              0.5555555555555556,
              "#d8576b"
             ],
             [
              0.6666666666666666,
              "#ed7953"
             ],
             [
              0.7777777777777778,
              "#fb9f3a"
             ],
             [
              0.8888888888888888,
              "#fdca26"
             ],
             [
              1,
              "#f0f921"
             ]
            ],
            "type": "histogram2dcontour"
           }
          ],
          "mesh3d": [
           {
            "colorbar": {
             "outlinewidth": 0,
             "ticks": ""
            },
            "type": "mesh3d"
           }
          ],
          "parcoords": [
           {
            "line": {
             "colorbar": {
              "outlinewidth": 0,
              "ticks": ""
             }
            },
            "type": "parcoords"
           }
          ],
          "pie": [
           {
            "automargin": true,
            "type": "pie"
           }
          ],
          "scatter": [
           {
            "marker": {
             "line": {
              "color": "#283442"
             }
            },
            "type": "scatter"
           }
          ],
          "scatter3d": [
           {
            "line": {
             "colorbar": {
              "outlinewidth": 0,
              "ticks": ""
             }
            },
            "marker": {
             "colorbar": {
              "outlinewidth": 0,
              "ticks": ""
             }
            },
            "type": "scatter3d"
           }
          ],
          "scattercarpet": [
           {
            "marker": {
             "colorbar": {
              "outlinewidth": 0,
              "ticks": ""
             }
            },
            "type": "scattercarpet"
           }
          ],
          "scattergeo": [
           {
            "marker": {
             "colorbar": {
              "outlinewidth": 0,
              "ticks": ""
             }
            },
            "type": "scattergeo"
           }
          ],
          "scattergl": [
           {
            "marker": {
             "line": {
              "color": "#283442"
             }
            },
            "type": "scattergl"
           }
          ],
          "scattermapbox": [
           {
            "marker": {
             "colorbar": {
              "outlinewidth": 0,
              "ticks": ""
             }
            },
            "type": "scattermapbox"
           }
          ],
          "scatterpolar": [
           {
            "marker": {
             "colorbar": {
              "outlinewidth": 0,
              "ticks": ""
             }
            },
            "type": "scatterpolar"
           }
          ],
          "scatterpolargl": [
           {
            "marker": {
             "colorbar": {
              "outlinewidth": 0,
              "ticks": ""
             }
            },
            "type": "scatterpolargl"
           }
          ],
          "scatterternary": [
           {
            "marker": {
             "colorbar": {
              "outlinewidth": 0,
              "ticks": ""
             }
            },
            "type": "scatterternary"
           }
          ],
          "surface": [
           {
            "colorbar": {
             "outlinewidth": 0,
             "ticks": ""
            },
            "colorscale": [
             [
              0,
              "#0d0887"
             ],
             [
              0.1111111111111111,
              "#46039f"
             ],
             [
              0.2222222222222222,
              "#7201a8"
             ],
             [
              0.3333333333333333,
              "#9c179e"
             ],
             [
              0.4444444444444444,
              "#bd3786"
             ],
             [
              0.5555555555555556,
              "#d8576b"
             ],
             [
              0.6666666666666666,
              "#ed7953"
             ],
             [
              0.7777777777777778,
              "#fb9f3a"
             ],
             [
              0.8888888888888888,
              "#fdca26"
             ],
             [
              1,
              "#f0f921"
             ]
            ],
            "type": "surface"
           }
          ],
          "table": [
           {
            "cells": {
             "fill": {
              "color": "#506784"
             },
             "line": {
              "color": "rgb(17,17,17)"
             }
            },
            "header": {
             "fill": {
              "color": "#2a3f5f"
             },
             "line": {
              "color": "rgb(17,17,17)"
             }
            },
            "type": "table"
           }
          ]
         },
         "layout": {
          "annotationdefaults": {
           "arrowcolor": "#f2f5fa",
           "arrowhead": 0,
           "arrowwidth": 1
          },
          "autotypenumbers": "strict",
          "coloraxis": {
           "colorbar": {
            "outlinewidth": 0,
            "ticks": ""
           }
          },
          "colorscale": {
           "diverging": [
            [
             0,
             "#8e0152"
            ],
            [
             0.1,
             "#c51b7d"
            ],
            [
             0.2,
             "#de77ae"
            ],
            [
             0.3,
             "#f1b6da"
            ],
            [
             0.4,
             "#fde0ef"
            ],
            [
             0.5,
             "#f7f7f7"
            ],
            [
             0.6,
             "#e6f5d0"
            ],
            [
             0.7,
             "#b8e186"
            ],
            [
             0.8,
             "#7fbc41"
            ],
            [
             0.9,
             "#4d9221"
            ],
            [
             1,
             "#276419"
            ]
           ],
           "sequential": [
            [
             0,
             "#0d0887"
            ],
            [
             0.1111111111111111,
             "#46039f"
            ],
            [
             0.2222222222222222,
             "#7201a8"
            ],
            [
             0.3333333333333333,
             "#9c179e"
            ],
            [
             0.4444444444444444,
             "#bd3786"
            ],
            [
             0.5555555555555556,
             "#d8576b"
            ],
            [
             0.6666666666666666,
             "#ed7953"
            ],
            [
             0.7777777777777778,
             "#fb9f3a"
            ],
            [
             0.8888888888888888,
             "#fdca26"
            ],
            [
             1,
             "#f0f921"
            ]
           ],
           "sequentialminus": [
            [
             0,
             "#0d0887"
            ],
            [
             0.1111111111111111,
             "#46039f"
            ],
            [
             0.2222222222222222,
             "#7201a8"
            ],
            [
             0.3333333333333333,
             "#9c179e"
            ],
            [
             0.4444444444444444,
             "#bd3786"
            ],
            [
             0.5555555555555556,
             "#d8576b"
            ],
            [
             0.6666666666666666,
             "#ed7953"
            ],
            [
             0.7777777777777778,
             "#fb9f3a"
            ],
            [
             0.8888888888888888,
             "#fdca26"
            ],
            [
             1,
             "#f0f921"
            ]
           ]
          },
          "colorway": [
           "#636efa",
           "#EF553B",
           "#00cc96",
           "#ab63fa",
           "#FFA15A",
           "#19d3f3",
           "#FF6692",
           "#B6E880",
           "#FF97FF",
           "#FECB52"
          ],
          "font": {
           "color": "#f2f5fa"
          },
          "geo": {
           "bgcolor": "rgb(17,17,17)",
           "lakecolor": "rgb(17,17,17)",
           "landcolor": "rgb(17,17,17)",
           "showlakes": true,
           "showland": true,
           "subunitcolor": "#506784"
          },
          "hoverlabel": {
           "align": "left"
          },
          "hovermode": "closest",
          "mapbox": {
           "style": "dark"
          },
          "paper_bgcolor": "rgb(17,17,17)",
          "plot_bgcolor": "rgb(17,17,17)",
          "polar": {
           "angularaxis": {
            "gridcolor": "#506784",
            "linecolor": "#506784",
            "ticks": ""
           },
           "bgcolor": "rgb(17,17,17)",
           "radialaxis": {
            "gridcolor": "#506784",
            "linecolor": "#506784",
            "ticks": ""
           }
          },
          "scene": {
           "xaxis": {
            "backgroundcolor": "rgb(17,17,17)",
            "gridcolor": "#506784",
            "gridwidth": 2,
            "linecolor": "#506784",
            "showbackground": true,
            "ticks": "",
            "zerolinecolor": "#C8D4E3"
           },
           "yaxis": {
            "backgroundcolor": "rgb(17,17,17)",
            "gridcolor": "#506784",
            "gridwidth": 2,
            "linecolor": "#506784",
            "showbackground": true,
            "ticks": "",
            "zerolinecolor": "#C8D4E3"
           },
           "zaxis": {
            "backgroundcolor": "rgb(17,17,17)",
            "gridcolor": "#506784",
            "gridwidth": 2,
            "linecolor": "#506784",
            "showbackground": true,
            "ticks": "",
            "zerolinecolor": "#C8D4E3"
           }
          },
          "shapedefaults": {
           "line": {
            "color": "#f2f5fa"
           }
          },
          "sliderdefaults": {
           "bgcolor": "#C8D4E3",
           "bordercolor": "rgb(17,17,17)",
           "borderwidth": 1,
           "tickwidth": 0
          },
          "ternary": {
           "aaxis": {
            "gridcolor": "#506784",
            "linecolor": "#506784",
            "ticks": ""
           },
           "baxis": {
            "gridcolor": "#506784",
            "linecolor": "#506784",
            "ticks": ""
           },
           "bgcolor": "rgb(17,17,17)",
           "caxis": {
            "gridcolor": "#506784",
            "linecolor": "#506784",
            "ticks": ""
           }
          },
          "title": {
           "x": 0.05
          },
          "updatemenudefaults": {
           "bgcolor": "#506784",
           "borderwidth": 0
          },
          "xaxis": {
           "automargin": true,
           "gridcolor": "#283442",
           "linecolor": "#506784",
           "ticks": "",
           "title": {
            "standoff": 15
           },
           "zerolinecolor": "#283442",
           "zerolinewidth": 2
          },
          "yaxis": {
           "automargin": true,
           "gridcolor": "#283442",
           "linecolor": "#506784",
           "ticks": "",
           "title": {
            "standoff": 15
           },
           "zerolinecolor": "#283442",
           "zerolinewidth": 2
          }
         }
        },
        "xaxis": {
         "anchor": "y",
         "domain": [
          0,
          1
         ],
         "title": {
          "text": "Title"
         }
        },
        "yaxis": {
         "anchor": "x",
         "domain": [
          0,
          1
         ],
         "title": {
          "text": "count"
         }
        }
       }
      }
     },
     "metadata": {},
     "output_type": "display_data"
    }
   ],
   "source": [
    "import plotly.express as px\n",
    "px.histogram(people_df, x=\"Title\", template=\"plotly_dark\")"
   ]
  },
  {
   "attachments": {},
   "cell_type": "markdown",
   "metadata": {},
   "source": [
    "Quick Visualize"
   ]
  },
  {
   "cell_type": "code",
   "execution_count": 526,
   "metadata": {},
   "outputs": [],
   "source": [
    "import networkx as nx\n",
    "G = nx.DiGraph()\n",
    "G.add_nodes_from(((person[\"Name\"], person) for person in people_df.to_dict(orient=\"records\")), attr=\"people\")\n",
    "G.add_edges_from(people_df[[\"Name\",\"manager\"]].dropna().values.tolist())"
   ]
  },
  {
   "attachments": {},
   "cell_type": "markdown",
   "metadata": {},
   "source": [
    "Ya, that's an org chart!"
   ]
  },
  {
   "cell_type": "code",
   "execution_count": 545,
   "metadata": {},
   "outputs": [],
   "source": [
    "colors = dict(zip(people_df.Team.unique(),px.colors.qualitative.Vivid))\n",
    "def rgb_to_hex(r, g, b):\n",
    "    return f'#{r:02x}{g:02x}{b:02x}'\n",
    "def rgb_string_to_tuple(rgb:str) -> tuple[int,int,int]:\n",
    "    return tuple(int(c) for c in rgb.replace(\"rgb(\",\"\").replace(\")\",\"\").split(\",\"))"
   ]
  },
  {
   "cell_type": "code",
   "execution_count": 549,
   "metadata": {},
   "outputs": [],
   "source": [
    "node_colors = [rgb_to_hex(*rgb_string_to_tuple(colors[team])) for _,team in G.nodes(data=\"Team\")]"
   ]
  },
  {
   "cell_type": "code",
   "execution_count": 551,
   "metadata": {},
   "outputs": [
    {
     "data": {
      "image/png": "[encoded data removed]",
      "text/plain": [
       "<Figure size 640x480 with 1 Axes>"
      ]
     },
     "metadata": {},
     "output_type": "display_data"
    }
   ],
   "source": [
    "nx.draw(G, node_color=node_colors)"
   ]
  },
  {
   "cell_type": "code",
   "execution_count": null,
   "metadata": {},
   "outputs": [],
   "source": []
  }
 ],
 "metadata": {
  "kernelspec": {
   "display_name": "peopleanalytics-hP1UcNMM",
   "language": "python",
   "name": "python3"
  },
  "language_info": {
   "codemirror_mode": {
    "name": "ipython",
    "version": 3
   },
   "file_extension": ".py",
   "mimetype": "text/x-python",
   "name": "python",
   "nbconvert_exporter": "python",
   "pygments_lexer": "ipython3",
   "version": "3.11.3"
  },
  "orig_nbformat": 4,
  "vscode": {
   "interpreter": {
    "hash": "a79ebb34bd880ae1609598d91f5437f974a2fc812a889a38194f0c3042249b1f"
   }
  }
 },
 "nbformat": 4,
 "nbformat_minor": 2
}
