{
 "cells": [
  {
   "attachments": {},
   "cell_type": "markdown",
   "id": "bb042e3f-caba-44ee-9747-e74d6bebe1e8",
   "metadata": {},
   "source": [
    "# Understanding People with Network Graphs in Python\n",
    "\n",
    "Now we can really start"
   ]
  },
  {
   "cell_type": "markdown",
   "id": "97967b91-a222-4690-98f2-e1a8812b4436",
   "metadata": {},
   "source": [
    "## NetworkX\n",
    "\n",
    "> NetworkX is a Python package for the creation, manipulation, and study of the structure, dynamics, and functions of complex networks - https://networkx.org/\n",
    "\n",
    "NetworkX provides an easy-to-use, *fast*, graph framework to represent relationships in-memory"
   ]
  },
  {
   "cell_type": "code",
   "execution_count": 37,
   "id": "1658990e-5928-448b-b2e4-37dda46b087d",
   "metadata": {
    "execution": {
     "iopub.execute_input": "2023-01-17T18:44:00.986929Z",
     "iopub.status.busy": "2023-01-17T18:44:00.986472Z",
     "iopub.status.idle": "2023-01-17T18:44:00.993341Z",
     "shell.execute_reply": "2023-01-17T18:44:00.992498Z",
     "shell.execute_reply.started": "2023-01-17T18:44:00.986900Z"
    },
    "tags": []
   },
   "outputs": [],
   "source": [
    "import networkx as nx\n",
    "\n",
    "G = nx.Graph()"
   ]
  },
  {
   "cell_type": "markdown",
   "id": "13562879",
   "metadata": {},
   "source": [
    "It's easy to load in data one at a time"
   ]
  },
  {
   "cell_type": "code",
   "execution_count": 38,
   "id": "471e74f0",
   "metadata": {},
   "outputs": [],
   "source": [
    "G.add_node(\"Me\", type=\"person\", languages=[\"Python\"])"
   ]
  },
  {
   "attachments": {},
   "cell_type": "markdown",
   "id": "e012926e",
   "metadata": {},
   "source": [
    "Or from an iterable object"
   ]
  },
  {
   "cell_type": "code",
   "execution_count": 39,
   "id": "2a9211a0",
   "metadata": {},
   "outputs": [],
   "source": [
    "G.add_nodes_from((\n",
    "    (\"You\",dict(languages=[\"Python\",\"Scala\"])),\n",
    "    (\"Them\",dict(languages=[\"Python\",\"Javascript\"]))\n",
    "), type=\"person\")"
   ]
  },
  {
   "attachments": {},
   "cell_type": "markdown",
   "id": "ef360a75",
   "metadata": {},
   "source": [
    "Now we can look at the new data structure and play around with it:"
   ]
  },
  {
   "cell_type": "code",
   "execution_count": 40,
   "id": "b01d9d99",
   "metadata": {},
   "outputs": [
    {
     "data": {
      "text/plain": [
       "NodeView(('Me', 'You', 'Them'))"
      ]
     },
     "execution_count": 40,
     "metadata": {},
     "output_type": "execute_result"
    }
   ],
   "source": [
    "G.nodes() # show all the node labels"
   ]
  },
  {
   "cell_type": "code",
   "execution_count": 41,
   "id": "ec14eaae",
   "metadata": {},
   "outputs": [
    {
     "data": {
      "text/plain": [
       "NodeDataView({'Me': {'type': 'person', 'languages': ['Python']}, 'You': {'type': 'person', 'languages': ['Python', 'Scala']}, 'Them': {'type': 'person', 'languages': ['Python', 'Javascript']}})"
      ]
     },
     "execution_count": 41,
     "metadata": {},
     "output_type": "execute_result"
    }
   ],
   "source": [
    "G.nodes(data=True) # show all attributes in nodes"
   ]
  },
  {
   "cell_type": "code",
   "execution_count": 42,
   "id": "db49b4d1",
   "metadata": {},
   "outputs": [
    {
     "data": {
      "text/plain": [
       "NodeDataView({'Me': ['Python'], 'You': ['Python', 'Scala'], 'Them': ['Python', 'Javascript']}, data='languages')"
      ]
     },
     "execution_count": 42,
     "metadata": {},
     "output_type": "execute_result"
    }
   ],
   "source": [
    "G.nodes(data=\"languages\") # show a specific attribute"
   ]
  },
  {
   "cell_type": "code",
   "execution_count": 43,
   "id": "953812ea",
   "metadata": {},
   "outputs": [],
   "source": [
    "G.add_edge(\"Me\",\"You\", label=\"friends\") # add an edge connecting two nodes ...\n",
    "G.add_edge(\"You\",\"Them\", label=\"friends\") # add an edge connecting two nodes ..."
   ]
  },
  {
   "attachments": {},
   "cell_type": "markdown",
   "id": "8b03bdaa",
   "metadata": {},
   "source": [
    "There are lots of common and complex graph analysis functions available to make the most of the data structure "
   ]
  },
  {
   "cell_type": "code",
   "execution_count": 44,
   "id": "6cc3e239",
   "metadata": {},
   "outputs": [
    {
     "data": {
      "text/plain": [
       "['Me', 'You', 'Them']"
      ]
     },
     "execution_count": 44,
     "metadata": {},
     "output_type": "execute_result"
    }
   ],
   "source": [
    "nx.shortest_path(G, source=\"Me\", target=\"Them\") # find paths between nodes through edges"
   ]
  },
  {
   "cell_type": "code",
   "execution_count": 45,
   "id": "687da67f",
   "metadata": {},
   "outputs": [
    {
     "data": {
      "text/plain": [
       "AdjacencyView({'Me': {'You': {'label': 'friends'}}, 'You': {'Me': {'label': 'friends'}, 'Them': {'label': 'friends'}}, 'Them': {'You': {'label': 'friends'}}})"
      ]
     },
     "execution_count": 45,
     "metadata": {},
     "output_type": "execute_result"
    }
   ],
   "source": [
    "G.adj # find adjacent nodes"
   ]
  },
  {
   "attachments": {},
   "cell_type": "markdown",
   "id": "e0e5f833",
   "metadata": {},
   "source": [
    "And visualizing is built-in with `matplotlib`. We will pretty this up later with `plotly`"
   ]
  },
  {
   "cell_type": "code",
   "execution_count": 46,
   "id": "ca619931",
   "metadata": {},
   "outputs": [
    {
     "data": {
      "image/png": "[encoded data removed]",
      "text/plain": [
       "<Figure size 640x480 with 1 Axes>"
      ]
     },
     "metadata": {},
     "output_type": "display_data"
    }
   ],
   "source": [
    "nx.draw(G, with_labels=True)"
   ]
  },
  {
   "attachments": {},
   "cell_type": "markdown",
   "id": "db1c0d52-e90b-4350-8305-100509d6a35a",
   "metadata": {},
   "source": [
    "### Some People Data\n",
    "\n",
    "Let's re-use what we made before:"
   ]
  },
  {
   "cell_type": "code",
   "execution_count": 47,
   "id": "df1be6be-eea6-4d90-ba02-0272178b4a20",
   "metadata": {
    "execution": {
     "iopub.execute_input": "2023-01-10T16:24:10.124771Z",
     "iopub.status.busy": "2023-01-10T16:24:10.124487Z",
     "iopub.status.idle": "2023-01-10T16:24:10.147905Z",
     "shell.execute_reply": "2023-01-10T16:24:10.140943Z",
     "shell.execute_reply.started": "2023-01-10T16:24:10.124743Z"
    },
    "tags": []
   },
   "outputs": [
    {
     "name": "stdout",
     "output_type": "stream",
     "text": [
      "Mrs.\n",
      "Mr.\n",
      "Mx.\n",
      "Ms.\n",
      "Ind.\n",
      "Misc.\n",
      "Dr.\n",
      "Miss\n",
      "😟\n"
     ]
    }
   ],
   "source": [
    "%run \"../Part 0 - The Data/Solution.ipynb\""
   ]
  },
  {
   "cell_type": "markdown",
   "id": "445abc61-e1f7-4d41-9417-bd6824682de0",
   "metadata": {},
   "source": [
    "## The Graph\n",
    "\n",
    "Now we're ready to define and populate the network graph. NetworkX provides helpful methods to populate the structure from an iterable. Here we massage our list of `people` a bit in order to give a unique name to each *node* in the graph:"
   ]
  },
  {
   "cell_type": "code",
   "execution_count": 48,
   "id": "36bd1b93-0a4f-404b-aa83-ad91beb2f7df",
   "metadata": {
    "execution": {
     "iopub.execute_input": "2023-01-10T16:24:10.195816Z",
     "iopub.status.busy": "2023-01-10T16:24:10.195488Z",
     "iopub.status.idle": "2023-01-10T16:24:10.213653Z",
     "shell.execute_reply": "2023-01-10T16:24:10.212633Z",
     "shell.execute_reply.started": "2023-01-10T16:24:10.195788Z"
    },
    "tags": []
   },
   "outputs": [
    {
     "data": {
      "text/plain": [
       "NodeDataView({'Edward Jones': {'person': True, 'type': 'person', 'name': 'Edward Jones', 'hire_date': datetime.date(2021, 5, 4), 'status': 'Full Time', 'languages': ['Typescript', 'JavaScript', 'Java'], 'manager': 'Jennifer Willis', 'team': 'Business', 'title': 'Analyst', 'location': {'city': 'London', 'tz': 'UTC', 'country': 'GBR'}, 'rank': 1.0, 'city': 'London', 'tz': 'UTC', 'country': 'GBR'}, 'Laura Miles': {'person': True, 'type': 'person', 'name': 'Laura Miles', 'hire_date': datetime.date(2022, 3, 8), 'status': 'Full Time', 'languages': ['Python', 'Typescript', 'JavaScript', 'Java'], 'manager': 'Edward Jones', 'team': 'Business', 'title': 'Analyst', 'location': {'city': 'Toronto', 'tz': 'EST', 'country': 'CAN'}, 'rank': 1.0, 'city': 'Toronto', 'tz': 'EST', 'country': 'CAN'}, 'Andrew Townsend': {'person': True, 'type': 'person', 'name': 'Andrew Townsend', 'hire_date': datetime.date(2022, 6, 29), 'status': 'Full Time', 'languages': ['Java'], 'manager': 'Edward Jones', 'team': 'Business', 'title': 'Analyst', 'location': {'city': 'New York', 'tz': 'EST', 'country': 'USA'}, 'rank': 1.0, 'city': 'New York', 'tz': 'EST', 'country': 'USA'}, 'Joseph Lowe': {'person': True, 'type': 'person', 'name': 'Joseph Lowe', 'hire_date': datetime.date(2021, 2, 3), 'status': 'Full Time', 'languages': ['Python', 'Java'], 'manager': 'Edward Jones', 'team': 'Business', 'title': 'Analyst', 'location': {'city': 'Toronto', 'tz': 'EST', 'country': 'CAN'}, 'rank': 1.0, 'city': 'Toronto', 'tz': 'EST', 'country': 'CAN'}, 'Michael Richardson': {'person': True, 'type': 'person', 'name': 'Michael Richardson', 'hire_date': datetime.date(2020, 9, 14), 'status': 'Contract', 'languages': [], 'manager': 'Edward Jones', 'team': 'Business', 'title': 'Analyst', 'location': {'city': 'London', 'tz': 'UTC', 'country': 'GBR'}, 'rank': 1.0, 'city': 'London', 'tz': 'UTC', 'country': 'GBR'}, 'Susan Boyd': {'person': True, 'type': 'person', 'name': 'Susan Boyd', 'hire_date': datetime.date(2022, 4, 16), 'status': 'Full Time', 'languages': ['JavaScript', 'Go'], 'manager': 'Edward Jones', 'team': 'Business', 'title': 'Associate', 'location': {'city': 'Toronto', 'tz': 'EST', 'country': 'CAN'}, 'rank': 2.0, 'city': 'Toronto', 'tz': 'EST', 'country': 'CAN'}, 'Gloria Black': {'person': True, 'type': 'person', 'name': 'Gloria Black', 'hire_date': datetime.date(2022, 11, 4), 'status': 'Full Time', 'languages': ['Python', 'JavaScript', 'Scala'], 'manager': 'Andrew Townsend', 'team': 'Business', 'title': 'Associate', 'location': {'city': 'Toronto', 'tz': 'EST', 'country': 'CAN'}, 'rank': 2.0, 'city': 'Toronto', 'tz': 'EST', 'country': 'CAN'}, 'Christopher Harrison': {'person': True, 'type': 'person', 'name': 'Christopher Harrison', 'hire_date': datetime.date(2023, 3, 25), 'status': 'Full Time', 'languages': ['Python', 'JavaScript'], 'manager': 'Andrew Townsend', 'team': 'Business', 'title': 'Associate', 'location': {'city': 'London', 'tz': 'UTC', 'country': 'GBR'}, 'rank': 2.0, 'city': 'London', 'tz': 'UTC', 'country': 'GBR'}, 'Allison Sanchez': {'person': True, 'type': 'person', 'name': 'Allison Sanchez', 'hire_date': datetime.date(2022, 1, 22), 'status': 'Full Time', 'languages': [], 'manager': 'Michael Richardson', 'team': 'Business', 'title': 'Associate', 'location': {'city': 'London', 'tz': 'UTC', 'country': 'GBR'}, 'rank': 2.0, 'city': 'London', 'tz': 'UTC', 'country': 'GBR'}, 'Victor Smith': {'person': True, 'type': 'person', 'name': 'Victor Smith', 'hire_date': datetime.date(2023, 4, 19), 'status': 'Contract', 'languages': ['Python', 'Typescript', 'JavaScript', 'Java'], 'manager': 'Michael Richardson', 'team': 'Business', 'title': 'Associate', 'location': {'city': 'London', 'tz': 'UTC', 'country': 'GBR'}, 'rank': 2.0, 'city': 'London', 'tz': 'UTC', 'country': 'GBR'}, 'Renee Edwards': {'person': True, 'type': 'person', 'name': 'Renee Edwards', 'hire_date': datetime.date(2020, 9, 18), 'status': 'Contract', 'languages': ['Java', 'Python', 'Typescript', 'JavaScript', 'Scala'], 'manager': 'Michael Richardson', 'team': 'Business', 'title': 'Associate', 'location': {'city': 'London', 'tz': 'UTC', 'country': 'GBR'}, 'rank': 2.0, 'city': 'London', 'tz': 'UTC', 'country': 'GBR'}, 'Taylor Blair': {'person': True, 'type': 'person', 'name': 'Taylor Blair', 'hire_date': datetime.date(2020, 11, 5), 'status': 'Full Time', 'languages': ['Python', 'Scala', 'Java'], 'manager': 'Susan Boyd', 'team': 'Business', 'title': 'Vice President', 'location': {'city': 'London', 'tz': 'UTC', 'country': 'GBR'}, 'rank': 3.0, 'city': 'London', 'tz': 'UTC', 'country': 'GBR'}, 'Erin Lyons': {'person': True, 'type': 'person', 'name': 'Erin Lyons', 'hire_date': datetime.date(2023, 3, 11), 'status': 'Full Time', 'languages': ['JavaScript', 'Java'], 'manager': 'Susan Boyd', 'team': 'Business', 'title': 'Vice President', 'location': {'city': 'London', 'tz': 'UTC', 'country': 'GBR'}, 'rank': 3.0, 'city': 'London', 'tz': 'UTC', 'country': 'GBR'}, 'Marc Thompson': {'person': True, 'type': 'person', 'name': 'Marc Thompson', 'hire_date': datetime.date(2020, 9, 22), 'status': 'Part Time', 'languages': [], 'manager': 'Susan Boyd', 'team': 'Business', 'title': 'Vice President', 'location': {'city': 'London', 'tz': 'UTC', 'country': 'GBR'}, 'rank': 3.0, 'city': 'London', 'tz': 'UTC', 'country': 'GBR'}, 'Sean Ferguson': {'person': True, 'type': 'person', 'name': 'Sean Ferguson', 'hire_date': datetime.date(2023, 1, 13), 'status': 'Full Time', 'languages': [], 'manager': 'Gloria Black', 'team': 'Business', 'title': 'Vice President', 'location': {'city': 'New York', 'tz': 'EST', 'country': 'USA'}, 'rank': 3.0, 'city': 'New York', 'tz': 'EST', 'country': 'USA'}, 'Yolanda Huber': {'person': True, 'type': 'person', 'name': 'Yolanda Huber', 'hire_date': datetime.date(2021, 7, 17), 'status': 'Full Time', 'languages': ['Scala'], 'manager': 'Susan Boyd', 'team': 'Business', 'title': 'Director', 'location': {'city': 'New York', 'tz': 'EST', 'country': 'USA'}, 'rank': 4.0, 'city': 'New York', 'tz': 'EST', 'country': 'USA'}, 'Dale Caldwell': {'person': True, 'type': 'person', 'name': 'Dale Caldwell', 'hire_date': datetime.date(2022, 1, 27), 'status': 'Full Time', 'languages': ['Typescript', 'JavaScript', 'Java'], 'manager': 'Susan Boyd', 'team': 'Business', 'title': 'Director', 'location': {'city': 'New York', 'tz': 'EST', 'country': 'USA'}, 'rank': 4.0, 'city': 'New York', 'tz': 'EST', 'country': 'USA'}, 'Robert Stevens': {'person': True, 'type': 'person', 'name': 'Robert Stevens', 'hire_date': datetime.date(2020, 11, 14), 'status': 'Contract', 'languages': ['Typescript', 'Java'], 'manager': 'Natalie Gonzalez', 'team': 'DevX', 'title': 'Engineer', 'location': {'city': 'Fort Lauderdale', 'tz': 'EST', 'country': 'USA'}, 'rank': 5.0, 'city': 'Fort Lauderdale', 'tz': 'EST', 'country': 'USA'}, 'Melissa Moore': {'person': True, 'type': 'person', 'name': 'Melissa Moore', 'hire_date': datetime.date(2022, 8, 16), 'status': 'Full Time', 'languages': ['JavaScript'], 'manager': 'Marc Thompson', 'team': 'Business', 'title': 'Director', 'location': {'city': 'New York', 'tz': 'EST', 'country': 'USA'}, 'rank': 4.0, 'city': 'New York', 'tz': 'EST', 'country': 'USA'}, 'Kyle Saunders': {'person': True, 'type': 'person', 'name': 'Kyle Saunders', 'hire_date': datetime.date(2020, 10, 22), 'status': 'Full Time', 'languages': ['Python', 'Typescript'], 'manager': 'Melissa Moore', 'team': 'Business', 'title': 'Managing Director', 'location': {'city': 'London', 'tz': 'UTC', 'country': 'GBR'}, 'rank': 5.0, 'city': 'London', 'tz': 'UTC', 'country': 'GBR'}, 'Jared Kramer': {'person': True, 'type': 'person', 'name': 'Jared Kramer', 'hire_date': datetime.date(2023, 2, 10), 'status': 'Full Time', 'languages': [], 'manager': 'Melissa Moore', 'team': 'Business', 'title': 'Managing Director', 'location': {'city': 'London', 'tz': 'UTC', 'country': 'GBR'}, 'rank': 5.0, 'city': 'London', 'tz': 'UTC', 'country': 'GBR'}, 'Dana Frazier': {'person': True, 'type': 'person', 'name': 'Dana Frazier', 'hire_date': datetime.date(2020, 9, 3), 'status': 'Contract', 'languages': [], 'manager': 'Jennifer Willis', 'team': 'DevOps', 'title': 'Engineer', 'location': {'city': 'Dublin', 'tz': 'UTC', 'country': 'IRL'}, 'rank': 1.0, 'city': 'Dublin', 'tz': 'UTC', 'country': 'IRL'}, 'Amanda Moore': {'person': True, 'type': 'person', 'name': 'Amanda Moore', 'hire_date': datetime.date(2020, 8, 6), 'status': 'Full Time', 'languages': ['Python', 'Go', 'Scala', 'Java'], 'manager': 'Dana Frazier', 'team': 'DevOps', 'title': 'Engineer', 'location': {'city': 'Dublin', 'tz': 'UTC', 'country': 'IRL'}, 'rank': 1.0, 'city': 'Dublin', 'tz': 'UTC', 'country': 'IRL'}, 'Jessica Lara': {'person': True, 'type': 'person', 'name': 'Jessica Lara', 'hire_date': datetime.date(2023, 3, 16), 'status': 'Full Time', 'languages': ['Typescript'], 'manager': 'Dana Frazier', 'team': 'DevOps', 'title': 'Engineer', 'location': {'city': 'Dublin', 'tz': 'UTC', 'country': 'IRL'}, 'rank': 1.0, 'city': 'Dublin', 'tz': 'UTC', 'country': 'IRL'}, 'Jason Williams': {'person': True, 'type': 'person', 'name': 'Jason Williams', 'hire_date': datetime.date(2021, 11, 1), 'status': 'Contract', 'languages': ['Typescript', 'Java'], 'manager': 'Dana Frazier', 'team': 'DevOps', 'title': 'Engineer', 'location': {'city': 'Dublin', 'tz': 'UTC', 'country': 'IRL'}, 'rank': 1.0, 'city': 'Dublin', 'tz': 'UTC', 'country': 'IRL'}, 'Larry Riley': {'person': True, 'type': 'person', 'name': 'Larry Riley', 'hire_date': datetime.date(2023, 4, 2), 'status': 'Contract', 'languages': [], 'manager': 'Dana Frazier', 'team': 'DevOps', 'title': 'Senior Engineer', 'location': {'city': 'Dublin', 'tz': 'UTC', 'country': 'IRL'}, 'rank': 2.0, 'city': 'Dublin', 'tz': 'UTC', 'country': 'IRL'}, 'Brian Martinez': {'person': True, 'type': 'person', 'name': 'Brian Martinez', 'hire_date': datetime.date(2021, 2, 24), 'status': 'Full Time', 'languages': ['JavaScript'], 'manager': 'Dana Frazier', 'team': 'DevOps', 'title': 'Senior Engineer', 'location': {'city': 'Dublin', 'tz': 'UTC', 'country': 'IRL'}, 'rank': 2.0, 'city': 'Dublin', 'tz': 'UTC', 'country': 'IRL'}, 'Amanda Trevino': {'person': True, 'type': 'person', 'name': 'Amanda Trevino', 'hire_date': datetime.date(2020, 11, 1), 'status': 'Full Time', 'languages': ['Python', 'Go', 'Java'], 'manager': 'Dana Frazier', 'team': 'DevOps', 'title': 'Senior Engineer', 'location': {'city': 'Dublin', 'tz': 'UTC', 'country': 'IRL'}, 'rank': 2.0, 'city': 'Dublin', 'tz': 'UTC', 'country': 'IRL'}, 'Michael Howard': {'person': True, 'type': 'person', 'name': 'Michael Howard', 'hire_date': datetime.date(2021, 6, 12), 'status': 'Contract', 'languages': ['Python', 'Java'], 'manager': 'Amanda Moore', 'team': 'DevOps', 'title': 'Senior Engineer', 'location': {'city': 'Dublin', 'tz': 'UTC', 'country': 'IRL'}, 'rank': 2.0, 'city': 'Dublin', 'tz': 'UTC', 'country': 'IRL'}, 'Bobby Watson': {'person': True, 'type': 'person', 'name': 'Bobby Watson', 'hire_date': datetime.date(2020, 7, 17), 'status': 'Full Time', 'languages': ['Scala'], 'manager': 'Amanda Moore', 'team': 'DevOps', 'title': 'Senior Engineer', 'location': {'city': 'Dublin', 'tz': 'UTC', 'country': 'IRL'}, 'rank': 2.0, 'city': 'Dublin', 'tz': 'UTC', 'country': 'IRL'}, 'Debra Smith': {'person': True, 'type': 'person', 'name': 'Debra Smith', 'hire_date': datetime.date(2022, 9, 28), 'status': 'Full Time', 'languages': [], 'manager': 'Jessica Lara', 'team': 'DevOps', 'title': 'Senior Engineer', 'location': {'city': 'Dublin', 'tz': 'UTC', 'country': 'IRL'}, 'rank': 2.0, 'city': 'Dublin', 'tz': 'UTC', 'country': 'IRL'}, 'Jesse Sullivan DVM': {'person': True, 'type': 'person', 'name': 'Jesse Sullivan DVM', 'hire_date': datetime.date(2022, 12, 15), 'status': 'Full Time', 'languages': ['JavaScript'], 'manager': 'Jessica Lara', 'team': 'DevOps', 'title': 'Senior Engineer', 'location': {'city': 'Dublin', 'tz': 'UTC', 'country': 'IRL'}, 'rank': 2.0, 'city': 'Dublin', 'tz': 'UTC', 'country': 'IRL'}, 'Alexandra Sullivan': {'person': True, 'type': 'person', 'name': 'Alexandra Sullivan', 'hire_date': datetime.date(2022, 8, 31), 'status': 'Full Time', 'languages': ['Python'], 'manager': 'Jason Williams', 'team': 'DevOps', 'title': 'Senior Engineer', 'location': {'city': 'Dublin', 'tz': 'UTC', 'country': 'IRL'}, 'rank': 2.0, 'city': 'Dublin', 'tz': 'UTC', 'country': 'IRL'}, 'Wendy Ponce': {'person': True, 'type': 'person', 'name': 'Wendy Ponce', 'hire_date': datetime.date(2021, 8, 26), 'status': 'Full Time', 'languages': [], 'manager': 'Jason Williams', 'team': 'DevOps', 'title': 'Senior Engineer', 'location': {'city': 'Dublin', 'tz': 'UTC', 'country': 'IRL'}, 'rank': 2.0, 'city': 'Dublin', 'tz': 'UTC', 'country': 'IRL'}, 'Gabrielle Lozano': {'person': True, 'type': 'person', 'name': 'Gabrielle Lozano', 'hire_date': datetime.date(2021, 9, 15), 'status': 'Full Time', 'languages': [], 'manager': 'Jennifer Willis', 'team': 'DevOps', 'title': 'Manager', 'location': {'city': 'Dublin', 'tz': 'UTC', 'country': 'IRL'}, 'rank': 3.0, 'city': 'Dublin', 'tz': 'UTC', 'country': 'IRL'}, 'Anthony Moreno': {'person': True, 'type': 'person', 'name': 'Anthony Moreno', 'hire_date': datetime.date(2021, 6, 24), 'status': 'Contract', 'languages': [], 'manager': 'Gabrielle Lozano', 'team': 'DevOps', 'title': 'Manager', 'location': {'city': 'Dublin', 'tz': 'UTC', 'country': 'IRL'}, 'rank': 3.0, 'city': 'Dublin', 'tz': 'UTC', 'country': 'IRL'}, 'Karen Beck': {'person': True, 'type': 'person', 'name': 'Karen Beck', 'hire_date': datetime.date(2022, 9, 13), 'status': 'Full Time', 'languages': [], 'manager': 'Brian Martinez', 'team': 'DevOps', 'title': 'Manager', 'location': {'city': 'Dublin', 'tz': 'UTC', 'country': 'IRL'}, 'rank': 3.0, 'city': 'Dublin', 'tz': 'UTC', 'country': 'IRL'}, 'Sherry Carter': {'person': True, 'type': 'person', 'name': 'Sherry Carter', 'hire_date': datetime.date(2023, 1, 9), 'status': 'Full Time', 'languages': ['Erlang', 'Go'], 'manager': 'Amanda Trevino', 'team': 'DevOps', 'title': 'Manager', 'location': {'city': 'Dublin', 'tz': 'UTC', 'country': 'IRL'}, 'rank': 3.0, 'city': 'Dublin', 'tz': 'UTC', 'country': 'IRL'}, 'Linda Matthews': {'person': True, 'type': 'person', 'name': 'Linda Matthews', 'hire_date': datetime.date(2023, 3, 5), 'status': 'Contract', 'languages': ['Python', 'Typescript', 'JavaScript'], 'manager': 'Jesse Sullivan DVM', 'team': 'DevOps', 'title': 'Manager', 'location': {'city': 'Dublin', 'tz': 'UTC', 'country': 'IRL'}, 'rank': 3.0, 'city': 'Dublin', 'tz': 'UTC', 'country': 'IRL'}, 'Natalie Gonzalez': {'person': True, 'type': 'person', 'name': 'Natalie Gonzalez', 'hire_date': datetime.date(2022, 3, 18), 'status': 'Full Time', 'languages': ['Python', 'Scala', 'Java'], 'manager': 'Jennifer Willis', 'team': 'DevX', 'title': 'Engineer', 'location': {'city': 'Fort Lauderdale', 'tz': 'EST', 'country': 'USA'}, 'rank': 5.0, 'city': 'Fort Lauderdale', 'tz': 'EST', 'country': 'USA'}, 'Ricky Lee': {'person': True, 'type': 'person', 'name': 'Ricky Lee', 'hire_date': datetime.date(2020, 11, 21), 'status': 'Part Time', 'languages': ['Python', 'Typescript'], 'manager': 'Natalie Gonzalez', 'team': 'DevX', 'title': 'Engineer', 'location': {'city': 'Fort Lauderdale', 'tz': 'EST', 'country': 'USA'}, 'rank': 5.0, 'city': 'Fort Lauderdale', 'tz': 'EST', 'country': 'USA'}, 'Jon Dyer': {'person': True, 'type': 'person', 'name': 'Jon Dyer', 'hire_date': datetime.date(2022, 2, 22), 'status': 'Full Time', 'languages': ['Python', 'Typescript', 'JavaScript', 'Scala'], 'manager': 'Natalie Gonzalez', 'team': 'DevX', 'title': 'Engineer', 'location': {'city': 'Fort Lauderdale', 'tz': 'EST', 'country': 'USA'}, 'rank': 5.0, 'city': 'Fort Lauderdale', 'tz': 'EST', 'country': 'USA'}, 'Ann Bowman': {'person': True, 'type': 'person', 'name': 'Ann Bowman', 'hire_date': datetime.date(2022, 6, 3), 'status': 'Contract', 'languages': ['Python', 'Typescript', 'JavaScript', 'Java'], 'manager': 'Natalie Gonzalez', 'team': 'DevX', 'title': 'Engineer', 'location': {'city': 'Fort Lauderdale', 'tz': 'EST', 'country': 'USA'}, 'rank': 5.0, 'city': 'Fort Lauderdale', 'tz': 'EST', 'country': 'USA'}, 'Janet Flynn': {'person': True, 'type': 'person', 'name': 'Janet Flynn', 'hire_date': datetime.date(2022, 10, 4), 'status': 'Full Time', 'languages': ['Python', 'Typescript', 'JavaScript', 'Java'], 'manager': 'Natalie Gonzalez', 'team': 'DevX', 'title': 'Engineer', 'location': {'city': 'Fort Lauderdale', 'tz': 'EST', 'country': 'USA'}, 'rank': 5.0, 'city': 'Fort Lauderdale', 'tz': 'EST', 'country': 'USA'}, 'Michael Baxter': {'person': True, 'type': 'person', 'name': 'Michael Baxter', 'hire_date': datetime.date(2021, 2, 18), 'status': 'Full Time', 'languages': ['Python', 'JavaScript', 'Scala', 'Java'], 'manager': 'Natalie Gonzalez', 'team': 'DevX', 'title': 'Engineer', 'location': {'city': 'Fort Lauderdale', 'tz': 'EST', 'country': 'USA'}, 'rank': 5.0, 'city': 'Fort Lauderdale', 'tz': 'EST', 'country': 'USA'}, 'Sara Booth': {'person': True, 'type': 'person', 'name': 'Sara Booth', 'hire_date': datetime.date(2021, 10, 31), 'status': 'Full Time', 'languages': ['Python', 'Typescript', 'JavaScript', 'Go'], 'manager': 'Natalie Gonzalez', 'team': 'DevX', 'title': 'Engineer', 'location': {'city': 'Fort Lauderdale', 'tz': 'EST', 'country': 'USA'}, 'rank': 5.0, 'city': 'Fort Lauderdale', 'tz': 'EST', 'country': 'USA'}, 'Lisa Evans': {'person': True, 'type': 'person', 'name': 'Lisa Evans', 'hire_date': datetime.date(2021, 1, 24), 'status': 'Part Time', 'languages': [], 'manager': 'Natalie Gonzalez', 'team': 'DevX', 'title': 'Engineer', 'location': {'city': 'Fort Lauderdale', 'tz': 'EST', 'country': 'USA'}, 'rank': 5.0, 'city': 'Fort Lauderdale', 'tz': 'EST', 'country': 'USA'}, 'Mark Patton': {'person': True, 'type': 'person', 'name': 'Mark Patton', 'hire_date': datetime.date(2021, 4, 20), 'status': 'Full Time', 'languages': ['Python', 'JavaScript', 'Go'], 'manager': 'Natalie Gonzalez', 'team': 'DevX', 'title': 'Engineer', 'location': {'city': 'Fort Lauderdale', 'tz': 'EST', 'country': 'USA'}, 'rank': 5.0, 'city': 'Fort Lauderdale', 'tz': 'EST', 'country': 'USA'}, 'Ashlee Thomas': {'person': True, 'type': 'person', 'name': 'Ashlee Thomas', 'hire_date': datetime.date(2022, 4, 13), 'status': 'Full Time', 'languages': ['Go'], 'manager': 'Natalie Gonzalez', 'team': 'DevX', 'title': 'Engineer', 'location': {'city': 'Fort Lauderdale', 'tz': 'EST', 'country': 'USA'}, 'rank': 5.0, 'city': 'Fort Lauderdale', 'tz': 'EST', 'country': 'USA'}, 'Paula Jordan': {'person': True, 'type': 'person', 'name': 'Paula Jordan', 'hire_date': datetime.date(2022, 9, 5), 'status': 'Full Time', 'languages': [], 'manager': 'Natalie Gonzalez', 'team': 'DevX', 'title': 'Engineer', 'location': {'city': 'Fort Lauderdale', 'tz': 'EST', 'country': 'USA'}, 'rank': 5.0, 'city': 'Fort Lauderdale', 'tz': 'EST', 'country': 'USA'}, 'Julie Ross': {'person': True, 'type': 'person', 'name': 'Julie Ross', 'hire_date': datetime.date(2021, 11, 6), 'status': 'Full Time', 'languages': ['Python', 'Typescript'], 'manager': 'Natalie Gonzalez', 'team': 'DevX', 'title': 'Engineer', 'location': {'city': 'Fort Lauderdale', 'tz': 'EST', 'country': 'USA'}, 'rank': 5.0, 'city': 'Fort Lauderdale', 'tz': 'EST', 'country': 'USA'}, 'Christine Mcdowell': {'person': True, 'type': 'person', 'name': 'Christine Mcdowell', 'hire_date': datetime.date(2020, 7, 21), 'status': 'Part Time', 'languages': ['Java'], 'manager': 'Jennifer Willis', 'team': 'DevX', 'title': 'AVP', 'location': {'city': 'Fort Lauderdale', 'tz': 'EST', 'country': 'USA'}, 'rank': 6.0, 'city': 'Fort Lauderdale', 'tz': 'EST', 'country': 'USA'}, 'Jeffrey Little': {'person': True, 'type': 'person', 'name': 'Jeffrey Little', 'hire_date': datetime.date(2021, 10, 22), 'status': 'Contract', 'languages': ['Elixir', 'Java'], 'manager': 'Natalie Gonzalez', 'team': 'DevX', 'title': 'AVP', 'location': {'city': 'Fort Lauderdale', 'tz': 'EST', 'country': 'USA'}, 'rank': 6.0, 'city': 'Fort Lauderdale', 'tz': 'EST', 'country': 'USA'}, 'Grace Williams': {'person': True, 'type': 'person', 'name': 'Grace Williams', 'hire_date': datetime.date(2021, 4, 20), 'status': 'Full Time', 'languages': ['Python', 'Typescript'], 'manager': 'Ricky Lee', 'team': 'DevX', 'title': 'AVP', 'location': {'city': 'Fort Lauderdale', 'tz': 'EST', 'country': 'USA'}, 'rank': 6.0, 'city': 'Fort Lauderdale', 'tz': 'EST', 'country': 'USA'}, 'Kenneth Wright': {'person': True, 'type': 'person', 'name': 'Kenneth Wright', 'hire_date': datetime.date(2022, 10, 9), 'status': 'Contract', 'languages': ['Java'], 'manager': 'Ann Bowman', 'team': 'DevX', 'title': 'AVP', 'location': {'city': 'Fort Lauderdale', 'tz': 'EST', 'country': 'USA'}, 'rank': 6.0, 'city': 'Fort Lauderdale', 'tz': 'EST', 'country': 'USA'}, 'Cameron Lawson': {'person': True, 'type': 'person', 'name': 'Cameron Lawson', 'hire_date': datetime.date(2021, 7, 30), 'status': 'Contract', 'languages': [], 'manager': 'Ann Bowman', 'team': 'DevX', 'title': 'AVP', 'location': {'city': 'Fort Lauderdale', 'tz': 'EST', 'country': 'USA'}, 'rank': 6.0, 'city': 'Fort Lauderdale', 'tz': 'EST', 'country': 'USA'}, 'Laura Joseph': {'person': True, 'type': 'person', 'name': 'Laura Joseph', 'hire_date': datetime.date(2022, 8, 21), 'status': 'Full Time', 'languages': [], 'manager': 'Ann Bowman', 'team': 'DevX', 'title': 'AVP', 'location': {'city': 'Fort Lauderdale', 'tz': 'EST', 'country': 'USA'}, 'rank': 6.0, 'city': 'Fort Lauderdale', 'tz': 'EST', 'country': 'USA'}, 'Felicia Lopez': {'person': True, 'type': 'person', 'name': 'Felicia Lopez', 'hire_date': datetime.date(2021, 10, 1), 'status': 'Contract', 'languages': ['Scala'], 'manager': 'Janet Flynn', 'team': 'DevX', 'title': 'AVP', 'location': {'city': 'Fort Lauderdale', 'tz': 'EST', 'country': 'USA'}, 'rank': 6.0, 'city': 'Fort Lauderdale', 'tz': 'EST', 'country': 'USA'}, 'Danielle Osborn': {'person': True, 'type': 'person', 'name': 'Danielle Osborn', 'hire_date': datetime.date(2021, 5, 24), 'status': 'Contract', 'languages': ['Erlang'], 'manager': 'Jennifer Willis', 'team': 'Internal Tools', 'title': 'Engineer', 'location': {'city': 'Seattle', 'tz': 'PST', 'country': 'USA'}, 'rank': 1.0, 'city': 'Seattle', 'tz': 'PST', 'country': 'USA'}, 'Timothy Shelton': {'person': True, 'type': 'person', 'name': 'Timothy Shelton', 'hire_date': datetime.date(2023, 2, 28), 'status': 'Full Time', 'languages': ['Python', 'JavaScript', 'Scala', 'Java'], 'manager': 'Jennifer Willis', 'team': 'Internal Tools', 'title': 'Senior Engineer', 'location': {'city': 'Toronto', 'tz': 'EST', 'country': 'CAN'}, 'rank': 2.0, 'city': 'Toronto', 'tz': 'EST', 'country': 'CAN'}, 'Logan Dillon': {'person': True, 'type': 'person', 'name': 'Logan Dillon', 'hire_date': datetime.date(2022, 2, 12), 'status': 'Part Time', 'languages': ['Python', 'Java'], 'manager': 'Timothy Shelton', 'team': 'Internal Tools', 'title': 'Senior Engineer', 'location': {'city': 'Seattle', 'tz': 'PST', 'country': 'USA'}, 'rank': 2.0, 'city': 'Seattle', 'tz': 'PST', 'country': 'USA'}, 'Michelle Levine': {'person': True, 'type': 'person', 'name': 'Michelle Levine', 'hire_date': datetime.date(2022, 3, 11), 'status': 'Contract', 'languages': ['Python', 'JavaScript'], 'manager': 'Timothy Shelton', 'team': 'Internal Tools', 'title': 'Senior Engineer', 'location': {'city': 'Seattle', 'tz': 'PST', 'country': 'USA'}, 'rank': 2.0, 'city': 'Seattle', 'tz': 'PST', 'country': 'USA'}, 'Lindsey Barrera': {'person': True, 'type': 'person', 'name': 'Lindsey Barrera', 'hire_date': datetime.date(2022, 6, 15), 'status': 'Full Time', 'languages': ['Python', 'Java'], 'manager': 'Danielle Osborn', 'team': 'Internal Tools', 'title': 'Senior Engineer', 'location': {'city': 'Toronto', 'tz': 'EST', 'country': 'CAN'}, 'rank': 2.0, 'city': 'Toronto', 'tz': 'EST', 'country': 'CAN'}, 'Jeanette Lozano': {'person': True, 'type': 'person', 'name': 'Jeanette Lozano', 'hire_date': datetime.date(2023, 1, 10), 'status': 'Full Time', 'languages': ['Java'], 'manager': 'Danielle Osborn', 'team': 'Internal Tools', 'title': 'Senior Engineer', 'location': {'city': 'Toronto', 'tz': 'EST', 'country': 'CAN'}, 'rank': 2.0, 'city': 'Toronto', 'tz': 'EST', 'country': 'CAN'}, 'Vanessa Brewer': {'person': True, 'type': 'person', 'name': 'Vanessa Brewer', 'hire_date': datetime.date(2022, 4, 9), 'status': 'Full Time', 'languages': ['Python'], 'manager': 'Timothy Shelton', 'team': 'Internal Tools', 'title': 'Manager', 'location': {'city': 'Seattle', 'tz': 'PST', 'country': 'USA'}, 'rank': 3.0, 'city': 'Seattle', 'tz': 'PST', 'country': 'USA'}, 'Mary Chavez DDS': {'person': True, 'type': 'person', 'name': 'Mary Chavez DDS', 'hire_date': datetime.date(2022, 12, 28), 'status': 'Full Time', 'languages': ['JavaScript'], 'manager': 'Timothy Shelton', 'team': 'Internal Tools', 'title': 'Manager', 'location': {'city': 'Seattle', 'tz': 'PST', 'country': 'USA'}, 'rank': 3.0, 'city': 'Seattle', 'tz': 'PST', 'country': 'USA'}, 'Douglas Ponce': {'person': True, 'type': 'person', 'name': 'Douglas Ponce', 'hire_date': datetime.date(2022, 4, 5), 'status': 'Contract', 'languages': [], 'manager': 'Logan Dillon', 'team': 'Internal Tools', 'title': 'Manager', 'location': {'city': 'Toronto', 'tz': 'EST', 'country': 'CAN'}, 'rank': 3.0, 'city': 'Toronto', 'tz': 'EST', 'country': 'CAN'}, 'Calvin Stout': {'person': True, 'type': 'person', 'name': 'Calvin Stout', 'hire_date': datetime.date(2022, 8, 14), 'status': 'Full Time', 'languages': ['Typescript', 'JavaScript', 'Scala'], 'manager': 'Lindsey Barrera', 'team': 'Internal Tools', 'title': 'Manager', 'location': {'city': 'Toronto', 'tz': 'EST', 'country': 'CAN'}, 'rank': 3.0, 'city': 'Toronto', 'tz': 'EST', 'country': 'CAN'}, 'Michael Vega': {'person': True, 'type': 'person', 'name': 'Michael Vega', 'hire_date': datetime.date(2021, 7, 21), 'status': 'Part Time', 'languages': ['Elixir'], 'manager': 'Jennifer Willis', 'team': 'Internal Tools', 'title': 'AVP', 'location': {'city': 'Seattle', 'tz': 'PST', 'country': 'USA'}, 'rank': 4.0, 'city': 'Seattle', 'tz': 'PST', 'country': 'USA'}, 'Michael Robinson': {'person': True, 'type': 'person', 'name': 'Michael Robinson', 'hire_date': datetime.date(2023, 2, 13), 'status': 'Full Time', 'languages': ['Java', 'Python', 'Typescript', 'JavaScript', 'Scala'], 'manager': 'Douglas Ponce', 'team': 'Internal Tools', 'title': 'AVP', 'location': {'city': 'Toronto', 'tz': 'EST', 'country': 'CAN'}, 'rank': 4.0, 'city': 'Toronto', 'tz': 'EST', 'country': 'CAN'}, 'Joseph Garcia': {'person': True, 'type': 'person', 'name': 'Joseph Garcia', 'hire_date': datetime.date(2023, 1, 3), 'status': 'Full Time', 'languages': ['Python'], 'manager': 'Jennifer Willis', 'team': 'Internal Tools', 'title': 'VP', 'location': {'city': 'Toronto', 'tz': 'EST', 'country': 'CAN'}, 'rank': 5.0, 'city': 'Toronto', 'tz': 'EST', 'country': 'CAN'}, 'Gregory Mcdaniel': {'person': True, 'type': 'person', 'name': 'Gregory Mcdaniel', 'hire_date': datetime.date(2020, 9, 10), 'status': 'Full Time', 'languages': ['Typescript'], 'manager': 'Michael Vega', 'team': 'Internal Tools', 'title': 'VP', 'location': {'city': 'Seattle', 'tz': 'PST', 'country': 'USA'}, 'rank': 5.0, 'city': 'Seattle', 'tz': 'PST', 'country': 'USA'}, 'Andrea Gilmore': {'person': True, 'type': 'person', 'name': 'Andrea Gilmore', 'hire_date': datetime.date(2022, 1, 19), 'status': 'Full Time', 'languages': ['Scala', 'Java'], 'manager': 'Michael Robinson', 'team': 'Internal Tools', 'title': 'VP', 'location': {'city': 'Seattle', 'tz': 'PST', 'country': 'USA'}, 'rank': 5.0, 'city': 'Seattle', 'tz': 'PST', 'country': 'USA'}, 'Hannah Morales': {'person': True, 'type': 'person', 'name': 'Hannah Morales', 'hire_date': datetime.date(2023, 3, 8), 'status': 'Full Time', 'languages': ['Python'], 'manager': 'Jennifer Willis', 'team': 'Platform', 'title': 'Engineer', 'location': {'city': 'Toronto', 'tz': 'EST', 'country': 'CAN'}, 'rank': 1.0, 'city': 'Toronto', 'tz': 'EST', 'country': 'CAN'}, 'Jonathan Terrell': {'person': True, 'type': 'person', 'name': 'Jonathan Terrell', 'hire_date': datetime.date(2022, 6, 21), 'status': 'Full Time', 'languages': ['Python', 'JavaScript'], 'manager': 'Hannah Morales', 'team': 'Platform', 'title': 'Engineer', 'location': {'city': 'Seattle', 'tz': 'PST', 'country': 'USA'}, 'rank': 1.0, 'city': 'Seattle', 'tz': 'PST', 'country': 'USA'}, 'Janet Chambers': {'person': True, 'type': 'person', 'name': 'Janet Chambers', 'hire_date': datetime.date(2022, 2, 25), 'status': 'Full Time', 'languages': ['JavaScript', 'Go', 'Scala', 'Java'], 'manager': 'Hannah Morales', 'team': 'Platform', 'title': 'Engineer', 'location': {'city': 'Seattle', 'tz': 'PST', 'country': 'USA'}, 'rank': 1.0, 'city': 'Seattle', 'tz': 'PST', 'country': 'USA'}, 'Melissa Todd': {'person': True, 'type': 'person', 'name': 'Melissa Todd', 'hire_date': datetime.date(2023, 3, 23), 'status': 'Full Time', 'languages': ['Go', 'Java'], 'manager': 'Janet Chambers', 'team': 'Platform', 'title': 'Senior Engineer', 'location': {'city': 'Seattle', 'tz': 'PST', 'country': 'USA'}, 'rank': 2.0, 'city': 'Seattle', 'tz': 'PST', 'country': 'USA'}, 'Thomas Fisher': {'person': True, 'type': 'person', 'name': 'Thomas Fisher', 'hire_date': datetime.date(2020, 9, 26), 'status': 'Full Time', 'languages': ['Go', 'Java'], 'manager': 'Jonathan Terrell', 'team': 'Platform', 'title': 'Managing Engineer', 'location': {'city': 'Seattle', 'tz': 'PST', 'country': 'USA'}, 'rank': 3.0, 'city': 'Seattle', 'tz': 'PST', 'country': 'USA'}, 'Gary Maldonado': {'person': True, 'type': 'person', 'name': 'Gary Maldonado', 'hire_date': datetime.date(2021, 1, 25), 'status': 'Contract', 'languages': ['Scala'], 'manager': 'Jonathan Terrell', 'team': 'Platform', 'title': 'Managing Engineer', 'location': {'city': 'Seattle', 'tz': 'PST', 'country': 'USA'}, 'rank': 3.0, 'city': 'Seattle', 'tz': 'PST', 'country': 'USA'}, 'Lawrence Jackson': {'person': True, 'type': 'person', 'name': 'Lawrence Jackson', 'hire_date': datetime.date(2021, 1, 29), 'status': 'Full Time', 'languages': ['JavaScript', 'Java'], 'manager': 'Hannah Morales', 'team': 'Platform', 'title': 'AVP', 'location': {'city': 'Toronto', 'tz': 'EST', 'country': 'CAN'}, 'rank': 4.0, 'city': 'Toronto', 'tz': 'EST', 'country': 'CAN'}, 'Carlos Johnson': {'person': True, 'type': 'person', 'name': 'Carlos Johnson', 'hire_date': datetime.date(2021, 8, 8), 'status': 'Contract', 'languages': ['Typescript', 'JavaScript'], 'manager': 'Hannah Morales', 'team': 'Platform', 'title': 'AVP', 'location': {'city': 'Seattle', 'tz': 'PST', 'country': 'USA'}, 'rank': 4.0, 'city': 'Seattle', 'tz': 'PST', 'country': 'USA'}, 'William Robertson': {'person': True, 'type': 'person', 'name': 'William Robertson', 'hire_date': datetime.date(2022, 4, 27), 'status': 'Full Time', 'languages': [], 'manager': 'Hannah Morales', 'team': 'Platform', 'title': 'AVP', 'location': {'city': 'Seattle', 'tz': 'PST', 'country': 'USA'}, 'rank': 4.0, 'city': 'Seattle', 'tz': 'PST', 'country': 'USA'}, 'Elizabeth Cuevas': {'person': True, 'type': 'person', 'name': 'Elizabeth Cuevas', 'hire_date': datetime.date(2020, 8, 18), 'status': 'Contract', 'languages': ['Typescript', 'JavaScript'], 'manager': 'Gary Maldonado', 'team': 'Platform', 'title': 'AVP', 'location': {'city': 'Seattle', 'tz': 'PST', 'country': 'USA'}, 'rank': 4.0, 'city': 'Seattle', 'tz': 'PST', 'country': 'USA'}, 'Crystal Bender': {'person': True, 'type': 'person', 'name': 'Crystal Bender', 'hire_date': datetime.date(2021, 8, 25), 'status': 'Contract', 'languages': ['JavaScript', 'Java'], 'manager': 'William Robertson', 'team': 'Platform', 'title': 'VP', 'location': {'city': 'Toronto', 'tz': 'EST', 'country': 'CAN'}, 'rank': 5.0, 'city': 'Toronto', 'tz': 'EST', 'country': 'CAN'}, 'Kathleen Mcfarland': {'person': True, 'type': 'person', 'name': 'Kathleen Mcfarland', 'hire_date': datetime.date(2020, 8, 30), 'status': 'Contract', 'languages': ['Python', 'Typescript', 'JavaScript', 'Java'], 'manager': 'William Robertson', 'team': 'Platform', 'title': 'VP', 'location': {'city': 'Toronto', 'tz': 'EST', 'country': 'CAN'}, 'rank': 5.0, 'city': 'Toronto', 'tz': 'EST', 'country': 'CAN'}, 'Katrina Fritz': {'person': True, 'type': 'person', 'name': 'Katrina Fritz', 'hire_date': datetime.date(2022, 8, 10), 'status': 'Full Time', 'languages': ['Java'], 'manager': 'William Robertson', 'team': 'Platform', 'title': 'VP', 'location': {'city': 'Toronto', 'tz': 'EST', 'country': 'CAN'}, 'rank': 5.0, 'city': 'Toronto', 'tz': 'EST', 'country': 'CAN'}, 'Amy Hernandez': {'person': True, 'type': 'person', 'name': 'Amy Hernandez', 'hire_date': datetime.date(2023, 4, 16), 'status': 'Contract', 'languages': ['Java'], 'manager': 'William Robertson', 'team': 'Platform', 'title': 'VP', 'location': {'city': 'Seattle', 'tz': 'PST', 'country': 'USA'}, 'rank': 5.0, 'city': 'Seattle', 'tz': 'PST', 'country': 'USA'}, 'Jennifer Allen': {'person': True, 'type': 'person', 'name': 'Jennifer Allen', 'hire_date': datetime.date(2022, 1, 20), 'status': 'Full Time', 'languages': ['Java'], 'manager': 'Jennifer Willis', 'team': 'Product', 'title': 'Engineer', 'location': {'city': 'Toronto', 'tz': 'EST', 'country': 'CAN'}, 'rank': 1.0, 'city': 'Toronto', 'tz': 'EST', 'country': 'CAN'}, 'Javier Andrews': {'person': True, 'type': 'person', 'name': 'Javier Andrews', 'hire_date': datetime.date(2021, 4, 4), 'status': 'Part Time', 'languages': ['Python', 'Go', 'Java'], 'manager': 'Jennifer Allen', 'team': 'Product', 'title': 'Engineer', 'location': {'city': 'New York', 'tz': 'EST', 'country': 'USA'}, 'rank': 1.0, 'city': 'New York', 'tz': 'EST', 'country': 'USA'}, 'Martha Spencer': {'person': True, 'type': 'person', 'name': 'Martha Spencer', 'hire_date': datetime.date(2020, 11, 30), 'status': 'Full Time', 'languages': ['Typescript', 'Scala', 'Java'], 'manager': 'Jennifer Allen', 'team': 'Product', 'title': 'Engineer', 'location': {'city': 'New York', 'tz': 'EST', 'country': 'USA'}, 'rank': 1.0, 'city': 'New York', 'tz': 'EST', 'country': 'USA'}, 'Anthony Jackson': {'person': True, 'type': 'person', 'name': 'Anthony Jackson', 'hire_date': datetime.date(2023, 2, 6), 'status': 'Contract', 'languages': [], 'manager': 'Jennifer Willis', 'team': 'Product', 'title': 'Manager', 'location': {'city': 'New York', 'tz': 'EST', 'country': 'USA'}, 'rank': 2.0, 'city': 'New York', 'tz': 'EST', 'country': 'USA'}, 'Thomas Davila': {'person': True, 'type': 'person', 'name': 'Thomas Davila', 'hire_date': datetime.date(2022, 12, 6), 'status': 'Full Time', 'languages': ['Python', 'Java'], 'manager': 'Jennifer Allen', 'team': 'Product', 'title': 'Manager', 'location': {'city': 'Toronto', 'tz': 'EST', 'country': 'CAN'}, 'rank': 2.0, 'city': 'Toronto', 'tz': 'EST', 'country': 'CAN'}, 'Micheal Salas': {'person': True, 'type': 'person', 'name': 'Micheal Salas', 'hire_date': datetime.date(2020, 6, 11), 'status': 'Contract', 'languages': ['Python', 'Java'], 'manager': 'Javier Andrews', 'team': 'Product', 'title': 'Manager', 'location': {'city': 'New York', 'tz': 'EST', 'country': 'USA'}, 'rank': 2.0, 'city': 'New York', 'tz': 'EST', 'country': 'USA'}, 'Dean Olson': {'person': True, 'type': 'person', 'name': 'Dean Olson', 'hire_date': datetime.date(2020, 12, 24), 'status': 'Full Time', 'languages': [], 'manager': 'Martha Spencer', 'team': 'Product', 'title': 'Manager', 'location': {'city': 'Seattle', 'tz': 'PST', 'country': 'USA'}, 'rank': 2.0, 'city': 'Seattle', 'tz': 'PST', 'country': 'USA'}, 'Anita Salazar': {'person': True, 'type': 'person', 'name': 'Anita Salazar', 'hire_date': datetime.date(2020, 9, 17), 'status': 'Contract', 'languages': [], 'manager': 'Thomas Davila', 'team': 'Product', 'title': 'Product Owner', 'location': {'city': 'Seattle', 'tz': 'PST', 'country': 'USA'}, 'rank': 3.0, 'city': 'Seattle', 'tz': 'PST', 'country': 'USA'}, 'Brenda Bradley': {'person': True, 'type': 'person', 'name': 'Brenda Bradley', 'hire_date': datetime.date(2022, 1, 25), 'status': 'Full Time', 'languages': ['Python', 'Go', 'Java'], 'manager': 'Micheal Salas', 'team': 'Product', 'title': 'Product Owner', 'location': {'city': 'New York', 'tz': 'EST', 'country': 'USA'}, 'rank': 3.0, 'city': 'New York', 'tz': 'EST', 'country': 'USA'}, 'Alicia Malone': {'person': True, 'type': 'person', 'name': 'Alicia Malone', 'hire_date': datetime.date(2020, 10, 18), 'status': 'Full Time', 'languages': ['Typescript', 'JavaScript', 'Scala', 'Java'], 'manager': 'Micheal Salas', 'team': 'Product', 'title': 'Product Owner', 'location': {'city': 'New York', 'tz': 'EST', 'country': 'USA'}, 'rank': 3.0, 'city': 'New York', 'tz': 'EST', 'country': 'USA'}, 'Sandra Robertson': {'person': True, 'type': 'person', 'name': 'Sandra Robertson', 'hire_date': datetime.date(2021, 6, 15), 'status': 'Full Time', 'languages': ['JavaScript'], 'manager': 'Micheal Salas', 'team': 'Product', 'title': 'Product Owner', 'location': {'city': 'Seattle', 'tz': 'PST', 'country': 'USA'}, 'rank': 3.0, 'city': 'Seattle', 'tz': 'PST', 'country': 'USA'}, 'Kaitlin Ryan': {'person': True, 'type': 'person', 'name': 'Kaitlin Ryan', 'hire_date': datetime.date(2021, 11, 4), 'status': 'Contract', 'languages': ['Go', 'Java', 'Python', 'Typescript', 'JavaScript'], 'manager': 'Micheal Salas', 'team': 'Product', 'title': 'Product Owner', 'location': {'city': 'New York', 'tz': 'EST', 'country': 'USA'}, 'rank': 3.0, 'city': 'New York', 'tz': 'EST', 'country': 'USA'}, 'Ashley Drake': {'person': True, 'type': 'person', 'name': 'Ashley Drake', 'hire_date': datetime.date(2021, 3, 2), 'status': 'Part Time', 'languages': ['Typescript'], 'manager': 'Thomas Davila', 'team': 'Product', 'title': 'AVP', 'location': {'city': 'New York', 'tz': 'EST', 'country': 'USA'}, 'rank': 4.0, 'city': 'New York', 'tz': 'EST', 'country': 'USA'}, 'Stephanie Malone DDS': {'person': True, 'type': 'person', 'name': 'Stephanie Malone DDS', 'hire_date': datetime.date(2021, 7, 11), 'status': 'Part Time', 'languages': [], 'manager': 'Anita Salazar', 'team': 'Product', 'title': 'AVP', 'location': {'city': 'New York', 'tz': 'EST', 'country': 'USA'}, 'rank': 4.0, 'city': 'New York', 'tz': 'EST', 'country': 'USA'}, 'Wendy Allen': {'person': True, 'type': 'person', 'name': 'Wendy Allen', 'hire_date': datetime.date(2022, 6, 9), 'status': 'Full Time', 'languages': ['Python'], 'manager': 'Jennifer Willis', 'team': 'Product', 'title': 'VP', 'location': {'city': 'New York', 'tz': 'EST', 'country': 'USA'}, 'rank': 5.0, 'city': 'New York', 'tz': 'EST', 'country': 'USA'}, 'Walter Martin': {'person': True, 'type': 'person', 'name': 'Walter Martin', 'hire_date': datetime.date(2022, 10, 13), 'status': 'Contract', 'languages': ['Python', 'Go', 'Scala'], 'manager': 'Anthony Jackson', 'team': 'Product', 'title': 'VP', 'location': {'city': 'New York', 'tz': 'EST', 'country': 'USA'}, 'rank': 5.0, 'city': 'New York', 'tz': 'EST', 'country': 'USA'}, 'Brittany Murphy': {'person': True, 'type': 'person', 'name': 'Brittany Murphy', 'hire_date': datetime.date(2020, 9, 18), 'status': 'Full Time', 'languages': [], 'manager': 'Stephanie Malone DDS', 'team': 'Product', 'title': 'VP', 'location': {'city': 'Toronto', 'tz': 'EST', 'country': 'CAN'}, 'rank': 5.0, 'city': 'Toronto', 'tz': 'EST', 'country': 'CAN'}, 'Dakota Underwood': {'person': True, 'type': 'person', 'name': 'Dakota Underwood', 'hire_date': datetime.date(2022, 8, 10), 'status': 'Full Time', 'languages': ['Go'], 'manager': 'Stephanie Malone DDS', 'team': 'Product', 'title': 'VP', 'location': {'city': 'Seattle', 'tz': 'PST', 'country': 'USA'}, 'rank': 5.0, 'city': 'Seattle', 'tz': 'PST', 'country': 'USA'}, 'Heather Lee': {'person': True, 'type': 'person', 'name': 'Heather Lee', 'hire_date': datetime.date(2020, 7, 17), 'status': 'Contract', 'languages': ['Go', 'Java', 'Python', 'JavaScript', 'Scala'], 'manager': 'Stephanie Malone DDS', 'team': 'Product', 'title': 'VP', 'location': {'city': 'New York', 'tz': 'EST', 'country': 'USA'}, 'rank': 5.0, 'city': 'New York', 'tz': 'EST', 'country': 'USA'}, 'Shelley Elliott': {'person': True, 'type': 'person', 'name': 'Shelley Elliott', 'hire_date': datetime.date(2023, 1, 22), 'status': 'Full Time', 'languages': ['Typescript', 'JavaScript', 'Java'], 'manager': 'Jennifer Willis', 'team': 'Sales', 'title': 'Associate', 'location': {'city': 'New York', 'tz': 'EST', 'country': 'USA'}, 'rank': 1.0, 'city': 'New York', 'tz': 'EST', 'country': 'USA'}, 'Joe Jackson': {'person': True, 'type': 'person', 'name': 'Joe Jackson', 'hire_date': datetime.date(2023, 3, 13), 'status': 'Full Time', 'languages': ['Python', 'Typescript'], 'manager': 'Shelley Elliott', 'team': 'Sales', 'title': 'Associate', 'location': {'city': 'London', 'tz': 'UTC', 'country': 'GBR'}, 'rank': 1.0, 'city': 'London', 'tz': 'UTC', 'country': 'GBR'}, 'Nathan Ruiz': {'person': True, 'type': 'person', 'name': 'Nathan Ruiz', 'hire_date': datetime.date(2021, 1, 6), 'status': 'Part Time', 'languages': ['Typescript', 'JavaScript'], 'manager': 'Shelley Elliott', 'team': 'Sales', 'title': 'Associate', 'location': {'city': 'New York', 'tz': 'EST', 'country': 'USA'}, 'rank': 1.0, 'city': 'New York', 'tz': 'EST', 'country': 'USA'}, 'Jared Rose': {'person': True, 'type': 'person', 'name': 'Jared Rose', 'hire_date': datetime.date(2023, 1, 7), 'status': 'Full Time', 'languages': ['Python', 'JavaScript'], 'manager': 'Shelley Elliott', 'team': 'Sales', 'title': 'Associate', 'location': {'city': 'Toronto', 'tz': 'EST', 'country': 'CAN'}, 'rank': 1.0, 'city': 'Toronto', 'tz': 'EST', 'country': 'CAN'}, 'Todd Aguilar': {'person': True, 'type': 'person', 'name': 'Todd Aguilar', 'hire_date': datetime.date(2020, 4, 24), 'status': 'Full Time', 'languages': [], 'manager': 'Shelley Elliott', 'team': 'Sales', 'title': 'Associate', 'location': {'city': 'Toronto', 'tz': 'EST', 'country': 'CAN'}, 'rank': 1.0, 'city': 'Toronto', 'tz': 'EST', 'country': 'CAN'}, 'Kevin Smith': {'person': True, 'type': 'person', 'name': 'Kevin Smith', 'hire_date': datetime.date(2021, 9, 13), 'status': 'Full Time', 'languages': ['Python', 'Typescript', 'JavaScript', 'Go'], 'manager': 'Shelley Elliott', 'team': 'Sales', 'title': 'Associate', 'location': {'city': 'New York', 'tz': 'EST', 'country': 'USA'}, 'rank': 1.0, 'city': 'New York', 'tz': 'EST', 'country': 'USA'}, 'James Lindsey': {'person': True, 'type': 'person', 'name': 'James Lindsey', 'hire_date': datetime.date(2021, 11, 28), 'status': 'Contract', 'languages': ['Java', 'Python', 'Typescript', 'JavaScript', 'Scala'], 'manager': 'Shelley Elliott', 'team': 'Sales', 'title': 'Associate', 'location': {'city': 'Toronto', 'tz': 'EST', 'country': 'CAN'}, 'rank': 1.0, 'city': 'Toronto', 'tz': 'EST', 'country': 'CAN'}, 'Sara Andrews': {'person': True, 'type': 'person', 'name': 'Sara Andrews', 'hire_date': datetime.date(2022, 4, 15), 'status': 'Contract', 'languages': ['Typescript', 'Java'], 'manager': 'Shelley Elliott', 'team': 'Sales', 'title': 'Associate', 'location': {'city': 'London', 'tz': 'UTC', 'country': 'GBR'}, 'rank': 1.0, 'city': 'London', 'tz': 'UTC', 'country': 'GBR'}, 'Michelle Johnson': {'person': True, 'type': 'person', 'name': 'Michelle Johnson', 'hire_date': datetime.date(2022, 5, 16), 'status': 'Full Time', 'languages': ['Python', 'Typescript', 'Go', 'Java'], 'manager': 'Shelley Elliott', 'team': 'Sales', 'title': 'Associate', 'location': {'city': 'Toronto', 'tz': 'EST', 'country': 'CAN'}, 'rank': 1.0, 'city': 'Toronto', 'tz': 'EST', 'country': 'CAN'}, 'Whitney Jenkins': {'person': True, 'type': 'person', 'name': 'Whitney Jenkins', 'hire_date': datetime.date(2021, 6, 1), 'status': 'Full Time', 'languages': ['Python', 'JavaScript'], 'manager': 'Shelley Elliott', 'team': 'Sales', 'title': 'Associate', 'location': {'city': 'London', 'tz': 'UTC', 'country': 'GBR'}, 'rank': 1.0, 'city': 'London', 'tz': 'UTC', 'country': 'GBR'}, 'Robin Sparks': {'person': True, 'type': 'person', 'name': 'Robin Sparks', 'hire_date': datetime.date(2021, 8, 3), 'status': 'Full Time', 'languages': ['Python', 'Go', 'Java'], 'manager': 'Shelley Elliott', 'team': 'Sales', 'title': 'Associate', 'location': {'city': 'London', 'tz': 'UTC', 'country': 'GBR'}, 'rank': 1.0, 'city': 'London', 'tz': 'UTC', 'country': 'GBR'}, 'Rebecca Williams': {'person': True, 'type': 'person', 'name': 'Rebecca Williams', 'hire_date': datetime.date(2022, 4, 5), 'status': 'Part Time', 'languages': ['Python', 'Typescript'], 'manager': 'Shelley Elliott', 'team': 'Sales', 'title': 'Associate', 'location': {'city': 'New York', 'tz': 'EST', 'country': 'USA'}, 'rank': 1.0, 'city': 'New York', 'tz': 'EST', 'country': 'USA'}, 'Mrs. Christina Molina MD': {'person': True, 'type': 'person', 'name': 'Mrs. Christina Molina MD', 'hire_date': datetime.date(2022, 1, 26), 'status': 'Full Time', 'languages': ['JavaScript', 'Go', 'Java'], 'manager': 'Shelley Elliott', 'team': 'Sales', 'title': 'Associate', 'location': {'city': 'Toronto', 'tz': 'EST', 'country': 'CAN'}, 'rank': 1.0, 'city': 'Toronto', 'tz': 'EST', 'country': 'CAN'}, 'Maria Young': {'person': True, 'type': 'person', 'name': 'Maria Young', 'hire_date': datetime.date(2022, 11, 25), 'status': 'Full Time', 'languages': ['Typescript', 'JavaScript', 'Java'], 'manager': 'Shelley Elliott', 'team': 'Sales', 'title': 'Associate', 'location': {'city': 'New York', 'tz': 'EST', 'country': 'USA'}, 'rank': 1.0, 'city': 'New York', 'tz': 'EST', 'country': 'USA'}, 'Jessica Fuller': {'person': True, 'type': 'person', 'name': 'Jessica Fuller', 'hire_date': datetime.date(2021, 1, 29), 'status': 'Full Time', 'languages': [], 'manager': 'Shelley Elliott', 'team': 'Sales', 'title': 'Associate', 'location': {'city': 'New York', 'tz': 'EST', 'country': 'USA'}, 'rank': 1.0, 'city': 'New York', 'tz': 'EST', 'country': 'USA'}, 'Robert Roth': {'person': True, 'type': 'person', 'name': 'Robert Roth', 'hire_date': datetime.date(2022, 7, 3), 'status': 'Full Time', 'languages': [], 'manager': 'Shelley Elliott', 'team': 'Sales', 'title': 'Associate', 'location': {'city': 'New York', 'tz': 'EST', 'country': 'USA'}, 'rank': 1.0, 'city': 'New York', 'tz': 'EST', 'country': 'USA'}, 'Shawn Bowers': {'person': True, 'type': 'person', 'name': 'Shawn Bowers', 'hire_date': datetime.date(2021, 11, 20), 'status': 'Full Time', 'languages': ['Typescript', 'JavaScript', 'Go'], 'manager': 'Shelley Elliott', 'team': 'Sales', 'title': 'Associate', 'location': {'city': 'London', 'tz': 'UTC', 'country': 'GBR'}, 'rank': 1.0, 'city': 'London', 'tz': 'UTC', 'country': 'GBR'}, 'Kelly Wells': {'person': True, 'type': 'person', 'name': 'Kelly Wells', 'hire_date': datetime.date(2021, 5, 5), 'status': 'Full Time', 'languages': ['Python', 'Scala', 'JavaScript', 'Go'], 'manager': 'Shelley Elliott', 'team': 'Sales', 'title': 'Associate', 'location': {'city': 'London', 'tz': 'UTC', 'country': 'GBR'}, 'rank': 1.0, 'city': 'London', 'tz': 'UTC', 'country': 'GBR'}, 'Steven Deleon': {'person': True, 'type': 'person', 'name': 'Steven Deleon', 'hire_date': datetime.date(2023, 1, 18), 'status': 'Full Time', 'languages': [], 'manager': 'Shelley Elliott', 'team': 'Sales', 'title': 'Associate', 'location': {'city': 'New York', 'tz': 'EST', 'country': 'USA'}, 'rank': 1.0, 'city': 'New York', 'tz': 'EST', 'country': 'USA'}, 'Samantha Thompson': {'person': True, 'type': 'person', 'name': 'Samantha Thompson', 'hire_date': datetime.date(2023, 4, 18), 'status': 'Full Time', 'languages': ['Python'], 'manager': 'Shelley Elliott', 'team': 'Sales', 'title': 'Associate', 'location': {'city': 'New York', 'tz': 'EST', 'country': 'USA'}, 'rank': 1.0, 'city': 'New York', 'tz': 'EST', 'country': 'USA'}, 'Sandra Lamb': {'person': True, 'type': 'person', 'name': 'Sandra Lamb', 'hire_date': datetime.date(2021, 12, 20), 'status': 'Full Time', 'languages': ['JavaScript'], 'manager': 'Shelley Elliott', 'team': 'Sales', 'title': 'Associate', 'location': {'city': 'London', 'tz': 'UTC', 'country': 'GBR'}, 'rank': 1.0, 'city': 'London', 'tz': 'UTC', 'country': 'GBR'}, 'Mike Page': {'person': True, 'type': 'person', 'name': 'Mike Page', 'hire_date': datetime.date(2023, 1, 25), 'status': 'Part Time', 'languages': ['Python', 'JavaScript', 'Java'], 'manager': 'Shelley Elliott', 'team': 'Sales', 'title': 'Associate', 'location': {'city': 'Toronto', 'tz': 'EST', 'country': 'CAN'}, 'rank': 1.0, 'city': 'Toronto', 'tz': 'EST', 'country': 'CAN'}, 'Eric Williamson': {'person': True, 'type': 'person', 'name': 'Eric Williamson', 'hire_date': datetime.date(2020, 5, 18), 'status': 'Full Time', 'languages': ['Python', 'JavaScript'], 'manager': 'Shelley Elliott', 'team': 'Sales', 'title': 'Associate', 'location': {'city': 'New York', 'tz': 'EST', 'country': 'USA'}, 'rank': 1.0, 'city': 'New York', 'tz': 'EST', 'country': 'USA'}, 'Kyle Smith': {'person': True, 'type': 'person', 'name': 'Kyle Smith', 'hire_date': datetime.date(2020, 9, 26), 'status': 'Full Time', 'languages': ['JavaScript'], 'manager': 'Shelley Elliott', 'team': 'Sales', 'title': 'Associate', 'location': {'city': 'London', 'tz': 'UTC', 'country': 'GBR'}, 'rank': 1.0, 'city': 'London', 'tz': 'UTC', 'country': 'GBR'}, 'Scott Johnson': {'person': True, 'type': 'person', 'name': 'Scott Johnson', 'hire_date': datetime.date(2023, 3, 17), 'status': 'Full Time', 'languages': ['Go', 'Java', 'Python', 'JavaScript', 'Scala'], 'manager': 'Shelley Elliott', 'team': 'Sales', 'title': 'Associate', 'location': {'city': 'London', 'tz': 'UTC', 'country': 'GBR'}, 'rank': 1.0, 'city': 'London', 'tz': 'UTC', 'country': 'GBR'}, 'Zachary Johnson': {'person': True, 'type': 'person', 'name': 'Zachary Johnson', 'hire_date': datetime.date(2021, 10, 9), 'status': 'Full Time', 'languages': ['Python', 'Typescript', 'Go'], 'manager': 'Shelley Elliott', 'team': 'Sales', 'title': 'Associate', 'location': {'city': 'New York', 'tz': 'EST', 'country': 'USA'}, 'rank': 1.0, 'city': 'New York', 'tz': 'EST', 'country': 'USA'}, 'Nicholas Short': {'person': True, 'type': 'person', 'name': 'Nicholas Short', 'hire_date': datetime.date(2021, 11, 13), 'status': 'Contract', 'languages': ['JavaScript', 'Java'], 'manager': 'Shelley Elliott', 'team': 'Sales', 'title': 'Associate', 'location': {'city': 'New York', 'tz': 'EST', 'country': 'USA'}, 'rank': 1.0, 'city': 'New York', 'tz': 'EST', 'country': 'USA'}, 'Robert Harris': {'person': True, 'type': 'person', 'name': 'Robert Harris', 'hire_date': datetime.date(2022, 7, 4), 'status': 'Full Time', 'languages': ['Typescript', 'JavaScript', 'Java'], 'manager': 'Shelley Elliott', 'team': 'Sales', 'title': 'Associate', 'location': {'city': 'London', 'tz': 'UTC', 'country': 'GBR'}, 'rank': 1.0, 'city': 'London', 'tz': 'UTC', 'country': 'GBR'}, 'Elizabeth Weaver': {'person': True, 'type': 'person', 'name': 'Elizabeth Weaver', 'hire_date': datetime.date(2022, 3, 13), 'status': 'Full Time', 'languages': [], 'manager': 'Shelley Elliott', 'team': 'Sales', 'title': 'Associate', 'location': {'city': 'Toronto', 'tz': 'EST', 'country': 'CAN'}, 'rank': 1.0, 'city': 'Toronto', 'tz': 'EST', 'country': 'CAN'}, 'Whitney Smith': {'person': True, 'type': 'person', 'name': 'Whitney Smith', 'hire_date': datetime.date(2020, 11, 26), 'status': 'Contract', 'languages': ['Typescript'], 'manager': 'Shelley Elliott', 'team': 'Sales', 'title': 'Associate', 'location': {'city': 'New York', 'tz': 'EST', 'country': 'USA'}, 'rank': 1.0, 'city': 'New York', 'tz': 'EST', 'country': 'USA'}, 'Derek Knight': {'person': True, 'type': 'person', 'name': 'Derek Knight', 'hire_date': datetime.date(2022, 1, 4), 'status': 'Full Time', 'languages': ['Go', 'Scala'], 'manager': 'Shelley Elliott', 'team': 'Sales', 'title': 'Associate', 'location': {'city': 'London', 'tz': 'UTC', 'country': 'GBR'}, 'rank': 1.0, 'city': 'London', 'tz': 'UTC', 'country': 'GBR'}, 'Ashley Santiago': {'person': True, 'type': 'person', 'name': 'Ashley Santiago', 'hire_date': datetime.date(2020, 8, 17), 'status': 'Contract', 'languages': ['Scala'], 'manager': 'Shelley Elliott', 'team': 'Sales', 'title': 'Associate', 'location': {'city': 'Toronto', 'tz': 'EST', 'country': 'CAN'}, 'rank': 1.0, 'city': 'Toronto', 'tz': 'EST', 'country': 'CAN'}, 'Brianna Shaw': {'person': True, 'type': 'person', 'name': 'Brianna Shaw', 'hire_date': datetime.date(2021, 10, 25), 'status': 'Contract', 'languages': ['JavaScript', 'Java'], 'manager': 'Shelley Elliott', 'team': 'Sales', 'title': 'Associate', 'location': {'city': 'London', 'tz': 'UTC', 'country': 'GBR'}, 'rank': 1.0, 'city': 'London', 'tz': 'UTC', 'country': 'GBR'}, 'Brittany Harrison': {'person': True, 'type': 'person', 'name': 'Brittany Harrison', 'hire_date': datetime.date(2022, 3, 3), 'status': 'Contract', 'languages': ['Python', 'Java'], 'manager': 'Shelley Elliott', 'team': 'Sales', 'title': 'Associate', 'location': {'city': 'New York', 'tz': 'EST', 'country': 'USA'}, 'rank': 1.0, 'city': 'New York', 'tz': 'EST', 'country': 'USA'}, 'Michael Watkins': {'person': True, 'type': 'person', 'name': 'Michael Watkins', 'hire_date': datetime.date(2023, 4, 22), 'status': 'Full Time', 'languages': [], 'manager': 'Shelley Elliott', 'team': 'Sales', 'title': 'Associate', 'location': {'city': 'New York', 'tz': 'EST', 'country': 'USA'}, 'rank': 1.0, 'city': 'New York', 'tz': 'EST', 'country': 'USA'}, 'Jeremy Oneill': {'person': True, 'type': 'person', 'name': 'Jeremy Oneill', 'hire_date': datetime.date(2022, 10, 11), 'status': 'Contract', 'languages': ['Typescript'], 'manager': 'Jennifer Willis', 'team': 'Support', 'title': 'Analyst', 'location': {'city': 'Dublin', 'tz': 'UTC', 'country': 'IRL'}, 'rank': 1.0, 'city': 'Dublin', 'tz': 'UTC', 'country': 'IRL'}, 'Christopher Waters': {'person': True, 'type': 'person', 'name': 'Christopher Waters', 'hire_date': datetime.date(2023, 2, 18), 'status': 'Part Time', 'languages': ['Python', 'Typescript', 'Java'], 'manager': 'Jeremy Oneill', 'team': 'Support', 'title': 'Analyst', 'location': {'city': 'Dublin', 'tz': 'UTC', 'country': 'IRL'}, 'rank': 1.0, 'city': 'Dublin', 'tz': 'UTC', 'country': 'IRL'}, 'Steven Stuart': {'person': True, 'type': 'person', 'name': 'Steven Stuart', 'hire_date': datetime.date(2022, 4, 25), 'status': 'Part Time', 'languages': ['Python'], 'manager': 'Jeremy Oneill', 'team': 'Support', 'title': 'Analyst', 'location': {'city': 'Dublin', 'tz': 'UTC', 'country': 'IRL'}, 'rank': 1.0, 'city': 'Dublin', 'tz': 'UTC', 'country': 'IRL'}, 'Jamie Adams': {'person': True, 'type': 'person', 'name': 'Jamie Adams', 'hire_date': datetime.date(2023, 3, 2), 'status': 'Full Time', 'languages': ['Python', 'Typescript', 'Java'], 'manager': 'Jeremy Oneill', 'team': 'Support', 'title': 'Analyst', 'location': {'city': 'Dublin', 'tz': 'UTC', 'country': 'IRL'}, 'rank': 1.0, 'city': 'Dublin', 'tz': 'UTC', 'country': 'IRL'}, 'Heather Weeks': {'person': True, 'type': 'person', 'name': 'Heather Weeks', 'hire_date': datetime.date(2020, 8, 27), 'status': 'Contract', 'languages': ['Java'], 'manager': 'Jeremy Oneill', 'team': 'Support', 'title': 'Analyst', 'location': {'city': 'Dublin', 'tz': 'UTC', 'country': 'IRL'}, 'rank': 1.0, 'city': 'Dublin', 'tz': 'UTC', 'country': 'IRL'}, 'Mary Graham': {'person': True, 'type': 'person', 'name': 'Mary Graham', 'hire_date': datetime.date(2021, 4, 15), 'status': 'Full Time', 'languages': [], 'manager': 'Jeremy Oneill', 'team': 'Support', 'title': 'Analyst', 'location': {'city': 'Dublin', 'tz': 'UTC', 'country': 'IRL'}, 'rank': 1.0, 'city': 'Dublin', 'tz': 'UTC', 'country': 'IRL'}, 'Cody Parker': {'person': True, 'type': 'person', 'name': 'Cody Parker', 'hire_date': datetime.date(2021, 12, 17), 'status': 'Full Time', 'languages': [], 'manager': 'Christopher Waters', 'team': 'Support', 'title': 'Manager', 'location': {'city': 'Dublin', 'tz': 'UTC', 'country': 'IRL'}, 'rank': 2.0, 'city': 'Dublin', 'tz': 'UTC', 'country': 'IRL'}, 'Nicole Wallace': {'person': True, 'type': 'person', 'name': 'Nicole Wallace', 'hire_date': datetime.date(2022, 1, 3), 'status': 'Full Time', 'languages': [], 'manager': 'Mary Graham', 'team': 'Support', 'title': 'Manager', 'location': {'city': 'Dublin', 'tz': 'UTC', 'country': 'IRL'}, 'rank': 2.0, 'city': 'Dublin', 'tz': 'UTC', 'country': 'IRL'}, 'Jennifer Willis': {'person': True, 'type': 'person', 'name': 'Jennifer Willis', 'hire_date': datetime.date(2020, 11, 19), 'status': 'Full Time', 'languages': ['JavaScript'], 'manager': 'Jennifer Willis', 'team': 'CEO', 'title': 'CEO', 'location': {'city': 'New York', 'tz': 'EST', 'country': 'USA'}, 'rank': 7.0, 'city': 'New York', 'tz': 'EST', 'country': 'USA'}})"
      ]
     },
     "execution_count": 48,
     "metadata": {},
     "output_type": "execute_result"
    }
   ],
   "source": [
    "G = nx.Graph() # a simple undirected graph\n",
    "G.add_nodes_from(((person[\"name\"], person) for person in expanded_df.to_dict(orient=\"records\")), person=True, type=\"person\")\n",
    "G.nodes(data=True) # we can look at the contents (which should be very familiar!)"
   ]
  },
  {
   "attachments": {},
   "cell_type": "markdown",
   "id": "bb8b31bf-8f76-4b64-8251-15f9cd1fbd3f",
   "metadata": {},
   "source": [
    "### Visualizing\n",
    "\n",
    "Graphs lends themselves well to visual representations. NetworkX also makes this easy to do by tapping into Python's workhorse plotting library, `matplotlib`. We will revisit this later with a more dynamic + interactive approach to visualizing, but for the moment this is the fastest way to get things on paper"
   ]
  },
  {
   "cell_type": "code",
   "execution_count": 49,
   "id": "7f9eafe1-d5d1-43b5-a2ca-1e945edf4487",
   "metadata": {
    "execution": {
     "iopub.execute_input": "2023-01-10T16:24:10.215601Z",
     "iopub.status.busy": "2023-01-10T16:24:10.215121Z",
     "iopub.status.idle": "2023-01-10T16:24:11.051765Z",
     "shell.execute_reply": "2023-01-10T16:24:11.050817Z",
     "shell.execute_reply.started": "2023-01-10T16:24:10.215570Z"
    },
    "tags": []
   },
   "outputs": [
    {
     "data": {
      "image/png": "[encoded data removed]",
      "text/plain": [
       "<Figure size 640x480 with 1 Axes>"
      ]
     },
     "metadata": {},
     "output_type": "display_data"
    }
   ],
   "source": [
    "import matplotlib.pyplot as plt\n",
    "nx.draw(G, with_labels=False)"
   ]
  },
  {
   "attachments": {},
   "cell_type": "markdown",
   "id": "f4119b00",
   "metadata": {},
   "source": [
    "Let's add a bit of color to this by mapping colors to the `person.team`. Pick any colorscale from `px.colors` (or make your own!). Generally the *qualitative* colors look nice, anything designed for *categorical* data "
   ]
  },
  {
   "cell_type": "code",
   "execution_count": 50,
   "id": "8e172563",
   "metadata": {},
   "outputs": [
    {
     "data": {
      "text/plain": [
       "{'Business': 'rgb(229, 134, 6)',\n",
       " 'DevOps': 'rgb(93, 105, 177)',\n",
       " 'DevX': 'rgb(82, 188, 163)',\n",
       " 'Internal Tools': 'rgb(153, 201, 69)',\n",
       " 'Platform': 'rgb(204, 97, 176)',\n",
       " 'Product': 'rgb(36, 121, 108)',\n",
       " 'Sales': 'rgb(218, 165, 27)',\n",
       " 'Support': 'rgb(47, 138, 196)',\n",
       " 'CEO': 'rgb(118, 78, 159)'}"
      ]
     },
     "execution_count": 50,
     "metadata": {},
     "output_type": "execute_result"
    }
   ],
   "source": [
    "colors = dict(zip(people_df.team.unique(),px.colors.qualitative.Vivid))\n",
    "colors"
   ]
  },
  {
   "cell_type": "code",
   "execution_count": 53,
   "id": "e46f2526",
   "metadata": {},
   "outputs": [],
   "source": [
    "# here are some helpful helpers to translate colors\n",
    "def rgb_to_hex(r, g, b):\n",
    "    return f'#{r:02x}{g:02x}{b:02x}'\n",
    "def rgb_string_to_tuple(rgb:str) -> tuple[int,int,int]:\n",
    "    return tuple(int(c) for c in rgb.replace(\"rgb(\",\"\").replace(\")\",\"\").split(\",\"))\n"
   ]
  },
  {
   "attachments": {},
   "cell_type": "markdown",
   "id": "e3bf88ef",
   "metadata": {},
   "source": [
    "Now we can determine what the color should be for each node and pass that into the `nx.draw` call as a list of `node_color`. The easiest way to do this is to use `G.nodes(data=...)` for the attribute you want to extract, which will give you a map from each node to that attribute. `nx` allows you to iterate"
   ]
  },
  {
   "cell_type": "code",
   "execution_count": 54,
   "id": "ce833882",
   "metadata": {},
   "outputs": [
    {
     "data": {
      "image/png": "[encoded data removed]",
      "text/plain": [
       "<Figure size 640x480 with 1 Axes>"
      ]
     },
     "metadata": {},
     "output_type": "display_data"
    }
   ],
   "source": [
    "node_colors = [rgb_to_hex(*rgb_string_to_tuple(colors[team])) for _,team in G.nodes(data=\"team\")]\n",
    "nx.draw(G, node_color=node_colors)"
   ]
  },
  {
   "attachments": {},
   "cell_type": "markdown",
   "id": "40904b83",
   "metadata": {},
   "source": [
    "If this doesn't make much sense yet, it's because we haven't connected any of the nodes together. Adding *edges* to the graph will give shape and meaning to the arrangement of nodes. We can do this similarly to how we added edges. Let's start by connecting nodes by the `manager` attribute.\n",
    "\n",
    "Be sure to only add edges that reference nodes that exist"
   ]
  },
  {
   "cell_type": "code",
   "execution_count": 55,
   "id": "f3b7a761",
   "metadata": {},
   "outputs": [],
   "source": [
    "G.add_edges_from(G.nodes(data=\"manager\"), label=\"manager\", manager=True)"
   ]
  },
  {
   "cell_type": "markdown",
   "id": "1905d207",
   "metadata": {},
   "source": [
    "Now this should look a bit more sensible"
   ]
  },
  {
   "cell_type": "code",
   "execution_count": 58,
   "id": "32ff0651",
   "metadata": {},
   "outputs": [
    {
     "data": {
      "image/png": "[encoded data removed]",
      "text/plain": [
       "<Figure size 640x480 with 1 Axes>"
      ]
     },
     "metadata": {},
     "output_type": "display_data"
    }
   ],
   "source": [
    "nx.draw(G, node_color=node_colors)"
   ]
  },
  {
   "attachments": {},
   "cell_type": "markdown",
   "id": "63c42ae8-b201-4ae1-ad9d-d0e8f0817fb3",
   "metadata": {},
   "source": [
    "To view more details of the plot, it's useful to switch to an interactive plotting library like `plotly`. Here we provide a helper function for this, but by no means is this perfect/optimized"
   ]
  },
  {
   "cell_type": "code",
   "execution_count": 60,
   "id": "e1b55f08-5647-4290-86da-3197aa150b7d",
   "metadata": {
    "execution": {
     "iopub.execute_input": "2023-01-10T16:24:11.053653Z",
     "iopub.status.busy": "2023-01-10T16:24:11.053102Z",
     "iopub.status.idle": "2023-01-10T16:24:11.845945Z",
     "shell.execute_reply": "2023-01-10T16:24:11.844975Z",
     "shell.execute_reply.started": "2023-01-10T16:24:11.053625Z"
    },
    "tags": []
   },
   "outputs": [],
   "source": [
    "import pandas as pd\n",
    "import plotly.express as px"
   ]
  },
  {
   "cell_type": "code",
   "execution_count": 61,
   "id": "1321e788-fb20-4b9d-b26f-6d929df03870",
   "metadata": {
    "execution": {
     "iopub.execute_input": "2023-01-10T16:24:11.864634Z",
     "iopub.status.busy": "2023-01-10T16:24:11.849967Z",
     "iopub.status.idle": "2023-01-10T16:24:11.884647Z",
     "shell.execute_reply": "2023-01-10T16:24:11.883535Z",
     "shell.execute_reply.started": "2023-01-10T16:24:11.864563Z"
    },
    "tags": []
   },
   "outputs": [],
   "source": [
    "import plotly.graph_objects as go\n",
    "def px_plot_network_graph_nodes(G:nx.Graph, *, layout=None, **pxkwargs) -> go.Figure:\n",
    "    # generate the x/y coordinates to represent the graph\n",
    "    positions = (layout or nx.spring_layout(G))\n",
    "    # prepare as DataFrame for plotly\n",
    "    df = pd.DataFrame([{\"label\": k, \"x\": v[0], \"y\": v[1], \"size\":10, **G.nodes(data=True)[k]} for k,v in positions.items()])\n",
    "    for column in df.columns[(df.sample(100, replace=True).applymap(type) == set).any(axis=0)]:\n",
    "        print(f\"Coercing column '{column}' to `list`\")\n",
    "        df.loc[~df[column].isna(), column] = df.loc[~df[column].isna(),column].apply(list)\n",
    "    # handle missing values for size/color parameter\n",
    "    size = pxkwargs.pop(\"size\", \"size\")\n",
    "    df[size] = df[size].fillna(df[size].max())\n",
    "    color = pxkwargs.get(\"color\")\n",
    "    df[color] = df[color].fillna(df[\"type\"])\n",
    "    # create figure\n",
    "    fig = px.scatter(df, x=\"x\", y=\"y\", hover_data=df.columns, size=size, **pxkwargs)\n",
    "    fig.update_layout(\n",
    "        xaxis=go.layout.XAxis(visible=False),\n",
    "        yaxis=go.layout.YAxis(visible=False)\n",
    "    )\n",
    "    return fig\n",
    "\n",
    "\n",
    "def px_plot_nx(G:nx.Graph, *, layout=nx.spring_layout, with_edges=False, **nodekwargs) -> go.Figure:\n",
    "    \"\"\"Draw a graph using ``plotly``\n",
    "\n",
    "    Kwargs are passed through to `px.scatter` and can be used to control the attributes that \n",
    "    map ``color``, ``size``, ``facet_row``, ... to attributes in the graph nodes\n",
    "    \n",
    "    Notes\n",
    "    -----\n",
    "    Rendering ``with_edges`` is expensive and should be avoided during exploratory plotting\n",
    "    \"\"\"\n",
    "    # Generate positions, edges \n",
    "    nodes = layout(G)\n",
    "    edges = [{\n",
    "        \"x\": [nodes[source][0],nodes[target][0]], \n",
    "        \"y\": [nodes[source][1],nodes[target][1]]} for source, target in G.edges()\n",
    "    ]\n",
    "    # Plot nodes\n",
    "    figure = px_plot_network_graph_nodes(G, layout=nodes, **nodekwargs)\n",
    "    if with_edges: # Add edges to nodes\n",
    "        figure.add_traces([\n",
    "            px.line(\n",
    "                x=edge[\"x\"],\n",
    "                y=edge[\"y\"],\n",
    "                color_discrete_sequence=[\"grey\"],\n",
    "            ).data[0] for edge in edges\n",
    "        ])\n",
    "        figure.data = figure.data[::-1] # shuffle edges behind nodes\n",
    "    return figure"
   ]
  },
  {
   "attachments": {},
   "cell_type": "markdown",
   "id": "e6b1dd13",
   "metadata": {},
   "source": [
    "Use this to make a few plots of the graph and verify that:\n",
    "\n",
    "* The reporting structure makes sense\n",
    "* The job titles are distributed as you'd expect\n",
    "* The locations make sense\n",
    "\n",
    "**Note: plotting `with_edges=True` is quite expensive, try toggling it off if you find it bothersome**"
   ]
  },
  {
   "cell_type": "code",
   "execution_count": 74,
   "id": "07e22436",
   "metadata": {},
   "outputs": [
    {
     "data": {
      "application/vnd.plotly.v1+json": {
       "config": {
        "plotlyServerURL": "https://plot.ly"
       },
       "data": [
        {
         "hovertemplate": "x=%{x}<br>y=%{y}<extra></extra>",
         "legendgroup": "",
         "line": {
          "color": "grey",
          "dash": "solid"
         },
         "marker": {
          "symbol": "circle"
         },
         "mode": "lines",
         "name": "",
         "orientation": "v",
         "showlegend": false,
         "type": "scatter",
         "x": [
          -0.04984870881439013,
          -0.04984870881439013
         ],
         "xaxis": "x",
         "y": [
          -0.016369851063875538,
          -0.016369851063875538
         ],
         "yaxis": "y"
        },
        {
         "hovertemplate": "x=%{x}<br>y=%{y}<extra></extra>",
         "legendgroup": "",
         "line": {
          "color": "grey",
          "dash": "solid"
         },
         "marker": {
          "symbol": "circle"
         },
         "mode": "lines",
         "name": "",
         "orientation": "v",
         "showlegend": false,
         "type": "scatter",
         "x": [
          -0.3010902685127272,
          -0.35605173935835943
         ],
         "xaxis": "x",
         "y": [
          0.20555940976497822,
          0.2782481416890691
         ],
         "yaxis": "y"
        },
        {
         "hovertemplate": "x=%{x}<br>y=%{y}<extra></extra>",
         "legendgroup": "",
         "line": {
          "color": "grey",
          "dash": "solid"
         },
         "marker": {
          "symbol": "circle"
         },
         "mode": "lines",
         "name": "",
         "orientation": "v",
         "showlegend": false,
         "type": "scatter",
         "x": [
          -0.3587919412569691,
          -0.44822686303877063
         ],
         "xaxis": "x",
         "y": [
          0.17727924176414653,
          0.23476090958579987
         ],
         "yaxis": "y"
        },
        {
         "hovertemplate": "x=%{x}<br>y=%{y}<extra></extra>",
         "legendgroup": "",
         "line": {
          "color": "grey",
          "dash": "solid"
         },
         "marker": {
          "symbol": "circle"
         },
         "mode": "lines",
         "name": "",
         "orientation": "v",
         "showlegend": false,
         "type": "scatter",
         "x": [
          -0.23641663923076528,
          -0.3010902685127272
         ],
         "xaxis": "x",
         "y": [
          0.10376057277453078,
          0.20555940976497822
         ],
         "yaxis": "y"
        },
        {
         "hovertemplate": "x=%{x}<br>y=%{y}<extra></extra>",
         "legendgroup": "",
         "line": {
          "color": "grey",
          "dash": "solid"
         },
         "marker": {
          "symbol": "circle"
         },
         "mode": "lines",
         "name": "",
         "orientation": "v",
         "showlegend": false,
         "type": "scatter",
         "x": [
          -0.23641663923076528,
          -0.28122108214460606
         ],
         "xaxis": "x",
         "y": [
          0.10376057277453078,
          0.15286393524316186
         ],
         "yaxis": "y"
        },
        {
         "hovertemplate": "x=%{x}<br>y=%{y}<extra></extra>",
         "legendgroup": "",
         "line": {
          "color": "grey",
          "dash": "solid"
         },
         "marker": {
          "symbol": "circle"
         },
         "mode": "lines",
         "name": "",
         "orientation": "v",
         "showlegend": false,
         "type": "scatter",
         "x": [
          -0.23641663923076528,
          -0.3222505691533614
         ],
         "xaxis": "x",
         "y": [
          0.10376057277453078,
          0.12264920448838709
         ],
         "yaxis": "y"
        },
        {
         "hovertemplate": "x=%{x}<br>y=%{y}<extra></extra>",
         "legendgroup": "",
         "line": {
          "color": "grey",
          "dash": "solid"
         },
         "marker": {
          "symbol": "circle"
         },
         "mode": "lines",
         "name": "",
         "orientation": "v",
         "showlegend": false,
         "type": "scatter",
         "x": [
          -0.23641663923076528,
          -0.3081005773068808
         ],
         "xaxis": "x",
         "y": [
          0.10376057277453078,
          0.08150709008056252
         ],
         "yaxis": "y"
        },
        {
         "hovertemplate": "x=%{x}<br>y=%{y}<extra></extra>",
         "legendgroup": "",
         "line": {
          "color": "grey",
          "dash": "solid"
         },
         "marker": {
          "symbol": "circle"
         },
         "mode": "lines",
         "name": "",
         "orientation": "v",
         "showlegend": false,
         "type": "scatter",
         "x": [
          -0.23641663923076528,
          -0.3587919412569691
         ],
         "xaxis": "x",
         "y": [
          0.10376057277453078,
          0.17727924176414653
         ],
         "yaxis": "y"
        },
        {
         "hovertemplate": "x=%{x}<br>y=%{y}<extra></extra>",
         "legendgroup": "",
         "line": {
          "color": "grey",
          "dash": "solid"
         },
         "marker": {
          "symbol": "circle"
         },
         "mode": "lines",
         "name": "",
         "orientation": "v",
         "showlegend": false,
         "type": "scatter",
         "x": [
          -0.23641663923076528,
          -0.04984870881439013
         ],
         "xaxis": "x",
         "y": [
          0.10376057277453078,
          -0.016369851063875538
         ],
         "yaxis": "y"
        },
        {
         "hovertemplate": "x=%{x}<br>y=%{y}<extra></extra>",
         "legendgroup": "",
         "line": {
          "color": "grey",
          "dash": "solid"
         },
         "marker": {
          "symbol": "circle"
         },
         "mode": "lines",
         "name": "",
         "orientation": "v",
         "showlegend": false,
         "type": "scatter",
         "x": [
          -0.07496221022066786,
          0.02094465042435399
         ],
         "xaxis": "x",
         "y": [
          0.5189981581460983,
          0.558577732797708
         ],
         "yaxis": "y"
        },
        {
         "hovertemplate": "x=%{x}<br>y=%{y}<extra></extra>",
         "legendgroup": "",
         "line": {
          "color": "grey",
          "dash": "solid"
         },
         "marker": {
          "symbol": "circle"
         },
         "mode": "lines",
         "name": "",
         "orientation": "v",
         "showlegend": false,
         "type": "scatter",
         "x": [
          -0.07496221022066786,
          0.02094046769426403
         ],
         "xaxis": "x",
         "y": [
          0.5189981581460983,
          0.6397255274512049
         ],
         "yaxis": "y"
        },
        {
         "hovertemplate": "x=%{x}<br>y=%{y}<extra></extra>",
         "legendgroup": "",
         "line": {
          "color": "grey",
          "dash": "solid"
         },
         "marker": {
          "symbol": "circle"
         },
         "mode": "lines",
         "name": "",
         "orientation": "v",
         "showlegend": false,
         "type": "scatter",
         "x": [
          -0.07496221022066786,
          -0.19491823476736353
         ],
         "xaxis": "x",
         "y": [
          0.5189981581460983,
          0.6043653015370065
         ],
         "yaxis": "y"
        },
        {
         "hovertemplate": "x=%{x}<br>y=%{y}<extra></extra>",
         "legendgroup": "",
         "line": {
          "color": "grey",
          "dash": "solid"
         },
         "marker": {
          "symbol": "circle"
         },
         "mode": "lines",
         "name": "",
         "orientation": "v",
         "showlegend": false,
         "type": "scatter",
         "x": [
          -0.07496221022066786,
          -0.014518087564380174
         ],
         "xaxis": "x",
         "y": [
          0.5189981581460983,
          0.5809912845112885
         ],
         "yaxis": "y"
        },
        {
         "hovertemplate": "x=%{x}<br>y=%{y}<extra></extra>",
         "legendgroup": "",
         "line": {
          "color": "grey",
          "dash": "solid"
         },
         "marker": {
          "symbol": "circle"
         },
         "mode": "lines",
         "name": "",
         "orientation": "v",
         "showlegend": false,
         "type": "scatter",
         "x": [
          -0.07496221022066786,
          -0.14961186711074975
         ],
         "xaxis": "x",
         "y": [
          0.5189981581460983,
          0.5084501932726303
         ],
         "yaxis": "y"
        },
        {
         "hovertemplate": "x=%{x}<br>y=%{y}<extra></extra>",
         "legendgroup": "",
         "line": {
          "color": "grey",
          "dash": "solid"
         },
         "marker": {
          "symbol": "circle"
         },
         "mode": "lines",
         "name": "",
         "orientation": "v",
         "showlegend": false,
         "type": "scatter",
         "x": [
          -0.07496221022066786,
          0.05091075227929752
         ],
         "xaxis": "x",
         "y": [
          0.5189981581460983,
          0.5481563297689357
         ],
         "yaxis": "y"
        },
        {
         "hovertemplate": "x=%{x}<br>y=%{y}<extra></extra>",
         "legendgroup": "",
         "line": {
          "color": "grey",
          "dash": "solid"
         },
         "marker": {
          "symbol": "circle"
         },
         "mode": "lines",
         "name": "",
         "orientation": "v",
         "showlegend": false,
         "type": "scatter",
         "x": [
          -0.07496221022066786,
          -0.004183173839234998
         ],
         "xaxis": "x",
         "y": [
          0.5189981581460983,
          0.6224753209494055
         ],
         "yaxis": "y"
        },
        {
         "hovertemplate": "x=%{x}<br>y=%{y}<extra></extra>",
         "legendgroup": "",
         "line": {
          "color": "grey",
          "dash": "solid"
         },
         "marker": {
          "symbol": "circle"
         },
         "mode": "lines",
         "name": "",
         "orientation": "v",
         "showlegend": false,
         "type": "scatter",
         "x": [
          -0.07496221022066786,
          -0.09295322575548268
         ],
         "xaxis": "x",
         "y": [
          0.5189981581460983,
          0.6105574580969167
         ],
         "yaxis": "y"
        },
        {
         "hovertemplate": "x=%{x}<br>y=%{y}<extra></extra>",
         "legendgroup": "",
         "line": {
          "color": "grey",
          "dash": "solid"
         },
         "marker": {
          "symbol": "circle"
         },
         "mode": "lines",
         "name": "",
         "orientation": "v",
         "showlegend": false,
         "type": "scatter",
         "x": [
          -0.07496221022066786,
          -0.12020495669497301
         ],
         "xaxis": "x",
         "y": [
          0.5189981581460983,
          0.6696079289054193
         ],
         "yaxis": "y"
        },
        {
         "hovertemplate": "x=%{x}<br>y=%{y}<extra></extra>",
         "legendgroup": "",
         "line": {
          "color": "grey",
          "dash": "solid"
         },
         "marker": {
          "symbol": "circle"
         },
         "mode": "lines",
         "name": "",
         "orientation": "v",
         "showlegend": false,
         "type": "scatter",
         "x": [
          -0.07496221022066786,
          -0.20724479593036715
         ],
         "xaxis": "x",
         "y": [
          0.5189981581460983,
          0.541191368555263
         ],
         "yaxis": "y"
        },
        {
         "hovertemplate": "x=%{x}<br>y=%{y}<extra></extra>",
         "legendgroup": "",
         "line": {
          "color": "grey",
          "dash": "solid"
         },
         "marker": {
          "symbol": "circle"
         },
         "mode": "lines",
         "name": "",
         "orientation": "v",
         "showlegend": false,
         "type": "scatter",
         "x": [
          -0.07496221022066786,
          -0.04409522205817965
         ],
         "xaxis": "x",
         "y": [
          0.5189981581460983,
          0.6707720598069267
         ],
         "yaxis": "y"
        },
        {
         "hovertemplate": "x=%{x}<br>y=%{y}<extra></extra>",
         "legendgroup": "",
         "line": {
          "color": "grey",
          "dash": "solid"
         },
         "marker": {
          "symbol": "circle"
         },
         "mode": "lines",
         "name": "",
         "orientation": "v",
         "showlegend": false,
         "type": "scatter",
         "x": [
          -0.07496221022066786,
          0.03441207287632328
         ],
         "xaxis": "x",
         "y": [
          0.5189981581460983,
          0.5103816400363714
         ],
         "yaxis": "y"
        },
        {
         "hovertemplate": "x=%{x}<br>y=%{y}<extra></extra>",
         "legendgroup": "",
         "line": {
          "color": "grey",
          "dash": "solid"
         },
         "marker": {
          "symbol": "circle"
         },
         "mode": "lines",
         "name": "",
         "orientation": "v",
         "showlegend": false,
         "type": "scatter",
         "x": [
          -0.07496221022066786,
          -0.1213087080866873
         ],
         "xaxis": "x",
         "y": [
          0.5189981581460983,
          0.6250027610811204
         ],
         "yaxis": "y"
        },
        {
         "hovertemplate": "x=%{x}<br>y=%{y}<extra></extra>",
         "legendgroup": "",
         "line": {
          "color": "grey",
          "dash": "solid"
         },
         "marker": {
          "symbol": "circle"
         },
         "mode": "lines",
         "name": "",
         "orientation": "v",
         "showlegend": false,
         "type": "scatter",
         "x": [
          -0.07496221022066786,
          -0.17784490081346804
         ],
         "xaxis": "x",
         "y": [
          0.5189981581460983,
          0.6345791697968429
         ],
         "yaxis": "y"
        },
        {
         "hovertemplate": "x=%{x}<br>y=%{y}<extra></extra>",
         "legendgroup": "",
         "line": {
          "color": "grey",
          "dash": "solid"
         },
         "marker": {
          "symbol": "circle"
         },
         "mode": "lines",
         "name": "",
         "orientation": "v",
         "showlegend": false,
         "type": "scatter",
         "x": [
          -0.07496221022066786,
          -0.11902373653833695
         ],
         "xaxis": "x",
         "y": [
          0.5189981581460983,
          0.5685306928055452
         ],
         "yaxis": "y"
        },
        {
         "hovertemplate": "x=%{x}<br>y=%{y}<extra></extra>",
         "legendgroup": "",
         "line": {
          "color": "grey",
          "dash": "solid"
         },
         "marker": {
          "symbol": "circle"
         },
         "mode": "lines",
         "name": "",
         "orientation": "v",
         "showlegend": false,
         "type": "scatter",
         "x": [
          -0.07496221022066786,
          0.0029258303411427203
         ],
         "xaxis": "x",
         "y": [
          0.5189981581460983,
          0.4788350398573944
         ],
         "yaxis": "y"
        },
        {
         "hovertemplate": "x=%{x}<br>y=%{y}<extra></extra>",
         "legendgroup": "",
         "line": {
          "color": "grey",
          "dash": "solid"
         },
         "marker": {
          "symbol": "circle"
         },
         "mode": "lines",
         "name": "",
         "orientation": "v",
         "showlegend": false,
         "type": "scatter",
         "x": [
          -0.07496221022066786,
          -0.14871283424344608
         ],
         "xaxis": "x",
         "y": [
          0.5189981581460983,
          0.6550573523172698
         ],
         "yaxis": "y"
        },
        {
         "hovertemplate": "x=%{x}<br>y=%{y}<extra></extra>",
         "legendgroup": "",
         "line": {
          "color": "grey",
          "dash": "solid"
         },
         "marker": {
          "symbol": "circle"
         },
         "mode": "lines",
         "name": "",
         "orientation": "v",
         "showlegend": false,
         "type": "scatter",
         "x": [
          -0.07496221022066786,
          -0.10475050251123084
         ],
         "xaxis": "x",
         "y": [
          0.5189981581460983,
          0.45705378018819187
         ],
         "yaxis": "y"
        },
        {
         "hovertemplate": "x=%{x}<br>y=%{y}<extra></extra>",
         "legendgroup": "",
         "line": {
          "color": "grey",
          "dash": "solid"
         },
         "marker": {
          "symbol": "circle"
         },
         "mode": "lines",
         "name": "",
         "orientation": "v",
         "showlegend": false,
         "type": "scatter",
         "x": [
          -0.07496221022066786,
          -0.04226672090177759
         ],
         "xaxis": "x",
         "y": [
          0.5189981581460983,
          0.45982335069320107
         ],
         "yaxis": "y"
        },
        {
         "hovertemplate": "x=%{x}<br>y=%{y}<extra></extra>",
         "legendgroup": "",
         "line": {
          "color": "grey",
          "dash": "solid"
         },
         "marker": {
          "symbol": "circle"
         },
         "mode": "lines",
         "name": "",
         "orientation": "v",
         "showlegend": false,
         "type": "scatter",
         "x": [
          -0.07496221022066786,
          -0.05619847378338617
         ],
         "xaxis": "x",
         "y": [
          0.5189981581460983,
          0.576921329729018
         ],
         "yaxis": "y"
        },
        {
         "hovertemplate": "x=%{x}<br>y=%{y}<extra></extra>",
         "legendgroup": "",
         "line": {
          "color": "grey",
          "dash": "solid"
         },
         "marker": {
          "symbol": "circle"
         },
         "mode": "lines",
         "name": "",
         "orientation": "v",
         "showlegend": false,
         "type": "scatter",
         "x": [
          -0.07496221022066786,
          -0.09555501367242032
         ],
         "xaxis": "x",
         "y": [
          0.5189981581460983,
          0.6575625660166101
         ],
         "yaxis": "y"
        },
        {
         "hovertemplate": "x=%{x}<br>y=%{y}<extra></extra>",
         "legendgroup": "",
         "line": {
          "color": "grey",
          "dash": "solid"
         },
         "marker": {
          "symbol": "circle"
         },
         "mode": "lines",
         "name": "",
         "orientation": "v",
         "showlegend": false,
         "type": "scatter",
         "x": [
          -0.07496221022066786,
          -0.07319193059394424
         ],
         "xaxis": "x",
         "y": [
          0.5189981581460983,
          0.6751460629724596
         ],
         "yaxis": "y"
        },
        {
         "hovertemplate": "x=%{x}<br>y=%{y}<extra></extra>",
         "legendgroup": "",
         "line": {
          "color": "grey",
          "dash": "solid"
         },
         "marker": {
          "symbol": "circle"
         },
         "mode": "lines",
         "name": "",
         "orientation": "v",
         "showlegend": false,
         "type": "scatter",
         "x": [
          -0.07496221022066786,
          0.022692002724059575
         ],
         "xaxis": "x",
         "y": [
          0.5189981581460983,
          0.6029219492627583
         ],
         "yaxis": "y"
        },
        {
         "hovertemplate": "x=%{x}<br>y=%{y}<extra></extra>",
         "legendgroup": "",
         "line": {
          "color": "grey",
          "dash": "solid"
         },
         "marker": {
          "symbol": "circle"
         },
         "mode": "lines",
         "name": "",
         "orientation": "v",
         "showlegend": false,
         "type": "scatter",
         "x": [
          -0.07496221022066786,
          -0.15437080450314963
         ],
         "xaxis": "x",
         "y": [
          0.5189981581460983,
          0.4694197316929108
         ],
         "yaxis": "y"
        },
        {
         "hovertemplate": "x=%{x}<br>y=%{y}<extra></extra>",
         "legendgroup": "",
         "line": {
          "color": "grey",
          "dash": "solid"
         },
         "marker": {
          "symbol": "circle"
         },
         "mode": "lines",
         "name": "",
         "orientation": "v",
         "showlegend": false,
         "type": "scatter",
         "x": [
          -0.07496221022066786,
          -0.005418710153343355
         ],
         "xaxis": "x",
         "y": [
          0.5189981581460983,
          0.5233192139878508
         ],
         "yaxis": "y"
        },
        {
         "hovertemplate": "x=%{x}<br>y=%{y}<extra></extra>",
         "legendgroup": "",
         "line": {
          "color": "grey",
          "dash": "solid"
         },
         "marker": {
          "symbol": "circle"
         },
         "mode": "lines",
         "name": "",
         "orientation": "v",
         "showlegend": false,
         "type": "scatter",
         "x": [
          -0.07496221022066786,
          -0.013512089941845546
         ],
         "xaxis": "x",
         "y": [
          0.5189981581460983,
          0.6591858327503765
         ],
         "yaxis": "y"
        },
        {
         "hovertemplate": "x=%{x}<br>y=%{y}<extra></extra>",
         "legendgroup": "",
         "line": {
          "color": "grey",
          "dash": "solid"
         },
         "marker": {
          "symbol": "circle"
         },
         "mode": "lines",
         "name": "",
         "orientation": "v",
         "showlegend": false,
         "type": "scatter",
         "x": [
          -0.07496221022066786,
          -0.16022816618869293
         ],
         "xaxis": "x",
         "y": [
          0.5189981581460983,
          0.5819458512803458
         ],
         "yaxis": "y"
        },
        {
         "hovertemplate": "x=%{x}<br>y=%{y}<extra></extra>",
         "legendgroup": "",
         "line": {
          "color": "grey",
          "dash": "solid"
         },
         "marker": {
          "symbol": "circle"
         },
         "mode": "lines",
         "name": "",
         "orientation": "v",
         "showlegend": false,
         "type": "scatter",
         "x": [
          -0.07496221022066786,
          -0.16625271492210783
         ],
         "xaxis": "x",
         "y": [
          0.5189981581460983,
          0.5443897855037793
         ],
         "yaxis": "y"
        },
        {
         "hovertemplate": "x=%{x}<br>y=%{y}<extra></extra>",
         "legendgroup": "",
         "line": {
          "color": "grey",
          "dash": "solid"
         },
         "marker": {
          "symbol": "circle"
         },
         "mode": "lines",
         "name": "",
         "orientation": "v",
         "showlegend": false,
         "type": "scatter",
         "x": [
          -0.07496221022066786,
          -0.20038333061460276
         ],
         "xaxis": "x",
         "y": [
          0.5189981581460983,
          0.5729443919356022
         ],
         "yaxis": "y"
        },
        {
         "hovertemplate": "x=%{x}<br>y=%{y}<extra></extra>",
         "legendgroup": "",
         "line": {
          "color": "grey",
          "dash": "solid"
         },
         "marker": {
          "symbol": "circle"
         },
         "mode": "lines",
         "name": "",
         "orientation": "v",
         "showlegend": false,
         "type": "scatter",
         "x": [
          -0.07496221022066786,
          -0.1919659059444525
         ],
         "xaxis": "x",
         "y": [
          0.5189981581460983,
          0.50468890326857
         ],
         "yaxis": "y"
        },
        {
         "hovertemplate": "x=%{x}<br>y=%{y}<extra></extra>",
         "legendgroup": "",
         "line": {
          "color": "grey",
          "dash": "solid"
         },
         "marker": {
          "symbol": "circle"
         },
         "mode": "lines",
         "name": "",
         "orientation": "v",
         "showlegend": false,
         "type": "scatter",
         "x": [
          -0.07496221022066786,
          0.04790394422340642
         ],
         "xaxis": "x",
         "y": [
          0.5189981581460983,
          0.5896585480733048
         ],
         "yaxis": "y"
        },
        {
         "hovertemplate": "x=%{x}<br>y=%{y}<extra></extra>",
         "legendgroup": "",
         "line": {
          "color": "grey",
          "dash": "solid"
         },
         "marker": {
          "symbol": "circle"
         },
         "mode": "lines",
         "name": "",
         "orientation": "v",
         "showlegend": false,
         "type": "scatter",
         "x": [
          -0.07496221022066786,
          -0.15257322362214007
         ],
         "xaxis": "x",
         "y": [
          0.5189981581460983,
          0.6157117623730876
         ],
         "yaxis": "y"
        },
        {
         "hovertemplate": "x=%{x}<br>y=%{y}<extra></extra>",
         "legendgroup": "",
         "line": {
          "color": "grey",
          "dash": "solid"
         },
         "marker": {
          "symbol": "circle"
         },
         "mode": "lines",
         "name": "",
         "orientation": "v",
         "showlegend": false,
         "type": "scatter",
         "x": [
          -0.07496221022066786,
          -0.06389986123661477
         ],
         "xaxis": "x",
         "y": [
          0.5189981581460983,
          0.6292734902483592
         ],
         "yaxis": "y"
        },
        {
         "hovertemplate": "x=%{x}<br>y=%{y}<extra></extra>",
         "legendgroup": "",
         "line": {
          "color": "grey",
          "dash": "solid"
         },
         "marker": {
          "symbol": "circle"
         },
         "mode": "lines",
         "name": "",
         "orientation": "v",
         "showlegend": false,
         "type": "scatter",
         "x": [
          -0.07496221022066786,
          -0.03488966215834933
         ],
         "xaxis": "x",
         "y": [
          0.5189981581460983,
          0.6299193442453521
         ],
         "yaxis": "y"
        },
        {
         "hovertemplate": "x=%{x}<br>y=%{y}<extra></extra>",
         "legendgroup": "",
         "line": {
          "color": "grey",
          "dash": "solid"
         },
         "marker": {
          "symbol": "circle"
         },
         "mode": "lines",
         "name": "",
         "orientation": "v",
         "showlegend": false,
         "type": "scatter",
         "x": [
          -0.07496221022066786,
          -0.04984870881439013
         ],
         "xaxis": "x",
         "y": [
          0.5189981581460983,
          -0.016369851063875538
         ],
         "yaxis": "y"
        },
        {
         "hovertemplate": "x=%{x}<br>y=%{y}<extra></extra>",
         "legendgroup": "",
         "line": {
          "color": "grey",
          "dash": "solid"
         },
         "marker": {
          "symbol": "circle"
         },
         "mode": "lines",
         "name": "",
         "orientation": "v",
         "showlegend": false,
         "type": "scatter",
         "x": [
          -0.10505508732147988,
          -0.04984870881439013
         ],
         "xaxis": "x",
         "y": [
          0.009942239445360091,
          -0.016369851063875538
         ],
         "yaxis": "y"
        },
        {
         "hovertemplate": "x=%{x}<br>y=%{y}<extra></extra>",
         "legendgroup": "",
         "line": {
          "color": "grey",
          "dash": "solid"
         },
         "marker": {
          "symbol": "circle"
         },
         "mode": "lines",
         "name": "",
         "orientation": "v",
         "showlegend": false,
         "type": "scatter",
         "x": [
          0.5504206930184504,
          0.6005466569036102
         ],
         "xaxis": "x",
         "y": [
          -0.61859325097721,
          -0.5924984961933413
         ],
         "yaxis": "y"
        },
        {
         "hovertemplate": "x=%{x}<br>y=%{y}<extra></extra>",
         "legendgroup": "",
         "line": {
          "color": "grey",
          "dash": "solid"
         },
         "marker": {
          "symbol": "circle"
         },
         "mode": "lines",
         "name": "",
         "orientation": "v",
         "showlegend": false,
         "type": "scatter",
         "x": [
          0.5504206930184504,
          0.6069086542945734
         ],
         "xaxis": "x",
         "y": [
          -0.61859325097721,
          -0.7084187394197365
         ],
         "yaxis": "y"
        },
        {
         "hovertemplate": "x=%{x}<br>y=%{y}<extra></extra>",
         "legendgroup": "",
         "line": {
          "color": "grey",
          "dash": "solid"
         },
         "marker": {
          "symbol": "circle"
         },
         "mode": "lines",
         "name": "",
         "orientation": "v",
         "showlegend": false,
         "type": "scatter",
         "x": [
          0.5504206930184504,
          0.5908673000652562
         ],
         "xaxis": "x",
         "y": [
          -0.61859325097721,
          -0.6383130984461901
         ],
         "yaxis": "y"
        },
        {
         "hovertemplate": "x=%{x}<br>y=%{y}<extra></extra>",
         "legendgroup": "",
         "line": {
          "color": "grey",
          "dash": "solid"
         },
         "marker": {
          "symbol": "circle"
         },
         "mode": "lines",
         "name": "",
         "orientation": "v",
         "showlegend": false,
         "type": "scatter",
         "x": [
          0.45981854956855633,
          0.5504206930184504
         ],
         "xaxis": "x",
         "y": [
          -0.5097909038614881,
          -0.61859325097721
         ],
         "yaxis": "y"
        },
        {
         "hovertemplate": "x=%{x}<br>y=%{y}<extra></extra>",
         "legendgroup": "",
         "line": {
          "color": "grey",
          "dash": "solid"
         },
         "marker": {
          "symbol": "circle"
         },
         "mode": "lines",
         "name": "",
         "orientation": "v",
         "showlegend": false,
         "type": "scatter",
         "x": [
          0.6803071408257559,
          0.7789343287120167
         ],
         "xaxis": "x",
         "y": [
          -0.3711439713838873,
          -0.42780642661402557
         ],
         "yaxis": "y"
        },
        {
         "hovertemplate": "x=%{x}<br>y=%{y}<extra></extra>",
         "legendgroup": "",
         "line": {
          "color": "grey",
          "dash": "solid"
         },
         "marker": {
          "symbol": "circle"
         },
         "mode": "lines",
         "name": "",
         "orientation": "v",
         "showlegend": false,
         "type": "scatter",
         "x": [
          0.6803071408257559,
          0.7881870000148729
         ],
         "xaxis": "x",
         "y": [
          -0.3711439713838873,
          -0.39644495384544337
         ],
         "yaxis": "y"
        },
        {
         "hovertemplate": "x=%{x}<br>y=%{y}<extra></extra>",
         "legendgroup": "",
         "line": {
          "color": "grey",
          "dash": "solid"
         },
         "marker": {
          "symbol": "circle"
         },
         "mode": "lines",
         "name": "",
         "orientation": "v",
         "showlegend": false,
         "type": "scatter",
         "x": [
          0.6803071408257559,
          0.7504559290151379
         ],
         "xaxis": "x",
         "y": [
          -0.3711439713838873,
          -0.44558312209242185
         ],
         "yaxis": "y"
        },
        {
         "hovertemplate": "x=%{x}<br>y=%{y}<extra></extra>",
         "legendgroup": "",
         "line": {
          "color": "grey",
          "dash": "solid"
         },
         "marker": {
          "symbol": "circle"
         },
         "mode": "lines",
         "name": "",
         "orientation": "v",
         "showlegend": false,
         "type": "scatter",
         "x": [
          0.6803071408257559,
          0.7828997772253241
         ],
         "xaxis": "x",
         "y": [
          -0.3711439713838873,
          -0.36289841383895605
         ],
         "yaxis": "y"
        },
        {
         "hovertemplate": "x=%{x}<br>y=%{y}<extra></extra>",
         "legendgroup": "",
         "line": {
          "color": "grey",
          "dash": "solid"
         },
         "marker": {
          "symbol": "circle"
         },
         "mode": "lines",
         "name": "",
         "orientation": "v",
         "showlegend": false,
         "type": "scatter",
         "x": [
          0.3464825610676745,
          0.34004336162049953
         ],
         "xaxis": "x",
         "y": [
          -0.37787188188681975,
          -0.46749566487213273
         ],
         "yaxis": "y"
        },
        {
         "hovertemplate": "x=%{x}<br>y=%{y}<extra></extra>",
         "legendgroup": "",
         "line": {
          "color": "grey",
          "dash": "solid"
         },
         "marker": {
          "symbol": "circle"
         },
         "mode": "lines",
         "name": "",
         "orientation": "v",
         "showlegend": false,
         "type": "scatter",
         "x": [
          0.3464825610676745,
          0.45981854956855633
         ],
         "xaxis": "x",
         "y": [
          -0.37787188188681975,
          -0.5097909038614881
         ],
         "yaxis": "y"
        },
        {
         "hovertemplate": "x=%{x}<br>y=%{y}<extra></extra>",
         "legendgroup": "",
         "line": {
          "color": "grey",
          "dash": "solid"
         },
         "marker": {
          "symbol": "circle"
         },
         "mode": "lines",
         "name": "",
         "orientation": "v",
         "showlegend": false,
         "type": "scatter",
         "x": [
          0.023317066155789205,
          0.08226265132993837
         ],
         "xaxis": "x",
         "y": [
          -0.07119330833971042,
          -0.11420521909774088
         ],
         "yaxis": "y"
        },
        {
         "hovertemplate": "x=%{x}<br>y=%{y}<extra></extra>",
         "legendgroup": "",
         "line": {
          "color": "grey",
          "dash": "solid"
         },
         "marker": {
          "symbol": "circle"
         },
         "mode": "lines",
         "name": "",
         "orientation": "v",
         "showlegend": false,
         "type": "scatter",
         "x": [
          0.023317066155789205,
          -0.04984870881439013
         ],
         "xaxis": "x",
         "y": [
          -0.07119330833971042,
          -0.016369851063875538
         ],
         "yaxis": "y"
        },
        {
         "hovertemplate": "x=%{x}<br>y=%{y}<extra></extra>",
         "legendgroup": "",
         "line": {
          "color": "grey",
          "dash": "solid"
         },
         "marker": {
          "symbol": "circle"
         },
         "mode": "lines",
         "name": "",
         "orientation": "v",
         "showlegend": false,
         "type": "scatter",
         "x": [
          0.33515824118335386,
          0.4076191099346691
         ],
         "xaxis": "x",
         "y": [
          -0.2737655791730787,
          -0.3321839029130925
         ],
         "yaxis": "y"
        },
        {
         "hovertemplate": "x=%{x}<br>y=%{y}<extra></extra>",
         "legendgroup": "",
         "line": {
          "color": "grey",
          "dash": "solid"
         },
         "marker": {
          "symbol": "circle"
         },
         "mode": "lines",
         "name": "",
         "orientation": "v",
         "showlegend": false,
         "type": "scatter",
         "x": [
          0.470206890322442,
          0.6803071408257559
         ],
         "xaxis": "x",
         "y": [
          -0.2894889779301228,
          -0.3711439713838873
         ],
         "yaxis": "y"
        },
        {
         "hovertemplate": "x=%{x}<br>y=%{y}<extra></extra>",
         "legendgroup": "",
         "line": {
          "color": "grey",
          "dash": "solid"
         },
         "marker": {
          "symbol": "circle"
         },
         "mode": "lines",
         "name": "",
         "orientation": "v",
         "showlegend": false,
         "type": "scatter",
         "x": [
          0.2347204141217865,
          0.3464825610676745
         ],
         "xaxis": "x",
         "y": [
          -0.20535137260740519,
          -0.37787188188681975
         ],
         "yaxis": "y"
        },
        {
         "hovertemplate": "x=%{x}<br>y=%{y}<extra></extra>",
         "legendgroup": "",
         "line": {
          "color": "grey",
          "dash": "solid"
         },
         "marker": {
          "symbol": "circle"
         },
         "mode": "lines",
         "name": "",
         "orientation": "v",
         "showlegend": false,
         "type": "scatter",
         "x": [
          0.2347204141217865,
          0.33515824118335386
         ],
         "xaxis": "x",
         "y": [
          -0.20535137260740519,
          -0.2737655791730787
         ],
         "yaxis": "y"
        },
        {
         "hovertemplate": "x=%{x}<br>y=%{y}<extra></extra>",
         "legendgroup": "",
         "line": {
          "color": "grey",
          "dash": "solid"
         },
         "marker": {
          "symbol": "circle"
         },
         "mode": "lines",
         "name": "",
         "orientation": "v",
         "showlegend": false,
         "type": "scatter",
         "x": [
          0.2347204141217865,
          0.470206890322442
         ],
         "xaxis": "x",
         "y": [
          -0.20535137260740519,
          -0.2894889779301228
         ],
         "yaxis": "y"
        },
        {
         "hovertemplate": "x=%{x}<br>y=%{y}<extra></extra>",
         "legendgroup": "",
         "line": {
          "color": "grey",
          "dash": "solid"
         },
         "marker": {
          "symbol": "circle"
         },
         "mode": "lines",
         "name": "",
         "orientation": "v",
         "showlegend": false,
         "type": "scatter",
         "x": [
          0.2347204141217865,
          -0.04984870881439013
         ],
         "xaxis": "x",
         "y": [
          -0.20535137260740519,
          -0.016369851063875538
         ],
         "yaxis": "y"
        },
        {
         "hovertemplate": "x=%{x}<br>y=%{y}<extra></extra>",
         "legendgroup": "",
         "line": {
          "color": "grey",
          "dash": "solid"
         },
         "marker": {
          "symbol": "circle"
         },
         "mode": "lines",
         "name": "",
         "orientation": "v",
         "showlegend": false,
         "type": "scatter",
         "x": [
          -0.6268117129970348,
          -0.7203224855493289
         ],
         "xaxis": "x",
         "y": [
          0.04656846039742705,
          0.11371291683307604
         ],
         "yaxis": "y"
        },
        {
         "hovertemplate": "x=%{x}<br>y=%{y}<extra></extra>",
         "legendgroup": "",
         "line": {
          "color": "grey",
          "dash": "solid"
         },
         "marker": {
          "symbol": "circle"
         },
         "mode": "lines",
         "name": "",
         "orientation": "v",
         "showlegend": false,
         "type": "scatter",
         "x": [
          -0.6268117129970348,
          -0.7174374858866894
         ],
         "xaxis": "x",
         "y": [
          0.04656846039742705,
          0.028074438493638068
         ],
         "yaxis": "y"
        },
        {
         "hovertemplate": "x=%{x}<br>y=%{y}<extra></extra>",
         "legendgroup": "",
         "line": {
          "color": "grey",
          "dash": "solid"
         },
         "marker": {
          "symbol": "circle"
         },
         "mode": "lines",
         "name": "",
         "orientation": "v",
         "showlegend": false,
         "type": "scatter",
         "x": [
          -0.6268117129970348,
          -0.741542259099848
         ],
         "xaxis": "x",
         "y": [
          0.04656846039742705,
          0.05246135805108304
         ],
         "yaxis": "y"
        },
        {
         "hovertemplate": "x=%{x}<br>y=%{y}<extra></extra>",
         "legendgroup": "",
         "line": {
          "color": "grey",
          "dash": "solid"
         },
         "marker": {
          "symbol": "circle"
         },
         "mode": "lines",
         "name": "",
         "orientation": "v",
         "showlegend": false,
         "type": "scatter",
         "x": [
          -0.6268117129970348,
          -0.7309302339603031
         ],
         "xaxis": "x",
         "y": [
          0.04656846039742705,
          0.08358543479834313
         ],
         "yaxis": "y"
        },
        {
         "hovertemplate": "x=%{x}<br>y=%{y}<extra></extra>",
         "legendgroup": "",
         "line": {
          "color": "grey",
          "dash": "solid"
         },
         "marker": {
          "symbol": "circle"
         },
         "mode": "lines",
         "name": "",
         "orientation": "v",
         "showlegend": false,
         "type": "scatter",
         "x": [
          -0.7391960894079468,
          -0.8404031304060711
         ],
         "xaxis": "x",
         "y": [
          -0.11006185797127521,
          -0.13918319185505654
         ],
         "yaxis": "y"
        },
        {
         "hovertemplate": "x=%{x}<br>y=%{y}<extra></extra>",
         "legendgroup": "",
         "line": {
          "color": "grey",
          "dash": "solid"
         },
         "marker": {
          "symbol": "circle"
         },
         "mode": "lines",
         "name": "",
         "orientation": "v",
         "showlegend": false,
         "type": "scatter",
         "x": [
          -0.5253644469420979,
          -0.6112173738021214
         ],
         "xaxis": "x",
         "y": [
          0.056788632133385,
          0.1098779929110372
         ],
         "yaxis": "y"
        },
        {
         "hovertemplate": "x=%{x}<br>y=%{y}<extra></extra>",
         "legendgroup": "",
         "line": {
          "color": "grey",
          "dash": "solid"
         },
         "marker": {
          "symbol": "circle"
         },
         "mode": "lines",
         "name": "",
         "orientation": "v",
         "showlegend": false,
         "type": "scatter",
         "x": [
          -0.5969336822632402,
          -0.7391960894079468
         ],
         "xaxis": "x",
         "y": [
          -0.06395731937426041,
          -0.11006185797127521
         ],
         "yaxis": "y"
        },
        {
         "hovertemplate": "x=%{x}<br>y=%{y}<extra></extra>",
         "legendgroup": "",
         "line": {
          "color": "grey",
          "dash": "solid"
         },
         "marker": {
          "symbol": "circle"
         },
         "mode": "lines",
         "name": "",
         "orientation": "v",
         "showlegend": false,
         "type": "scatter",
         "x": [
          -0.5969336822632402,
          -0.6941242258577323
         ],
         "xaxis": "x",
         "y": [
          -0.06395731937426041,
          -0.08602572283615836
         ],
         "yaxis": "y"
        },
        {
         "hovertemplate": "x=%{x}<br>y=%{y}<extra></extra>",
         "legendgroup": "",
         "line": {
          "color": "grey",
          "dash": "solid"
         },
         "marker": {
          "symbol": "circle"
         },
         "mode": "lines",
         "name": "",
         "orientation": "v",
         "showlegend": false,
         "type": "scatter",
         "x": [
          -0.40365784660710513,
          -0.6268117129970348
         ],
         "xaxis": "x",
         "y": [
          -0.004275890775212615,
          0.04656846039742705
         ],
         "yaxis": "y"
        },
        {
         "hovertemplate": "x=%{x}<br>y=%{y}<extra></extra>",
         "legendgroup": "",
         "line": {
          "color": "grey",
          "dash": "solid"
         },
         "marker": {
          "symbol": "circle"
         },
         "mode": "lines",
         "name": "",
         "orientation": "v",
         "showlegend": false,
         "type": "scatter",
         "x": [
          -0.40365784660710513,
          -0.48828843551059103
         ],
         "xaxis": "x",
         "y": [
          -0.004275890775212615,
          -0.039465554686610296
         ],
         "yaxis": "y"
        },
        {
         "hovertemplate": "x=%{x}<br>y=%{y}<extra></extra>",
         "legendgroup": "",
         "line": {
          "color": "grey",
          "dash": "solid"
         },
         "marker": {
          "symbol": "circle"
         },
         "mode": "lines",
         "name": "",
         "orientation": "v",
         "showlegend": false,
         "type": "scatter",
         "x": [
          -0.40365784660710513,
          -0.49231304853488406
         ],
         "xaxis": "x",
         "y": [
          -0.004275890775212615,
          0.004889017552844192
         ],
         "yaxis": "y"
        },
        {
         "hovertemplate": "x=%{x}<br>y=%{y}<extra></extra>",
         "legendgroup": "",
         "line": {
          "color": "grey",
          "dash": "solid"
         },
         "marker": {
          "symbol": "circle"
         },
         "mode": "lines",
         "name": "",
         "orientation": "v",
         "showlegend": false,
         "type": "scatter",
         "x": [
          -0.40365784660710513,
          -0.5253644469420979
         ],
         "xaxis": "x",
         "y": [
          -0.004275890775212615,
          0.056788632133385
         ],
         "yaxis": "y"
        },
        {
         "hovertemplate": "x=%{x}<br>y=%{y}<extra></extra>",
         "legendgroup": "",
         "line": {
          "color": "grey",
          "dash": "solid"
         },
         "marker": {
          "symbol": "circle"
         },
         "mode": "lines",
         "name": "",
         "orientation": "v",
         "showlegend": false,
         "type": "scatter",
         "x": [
          -0.40365784660710513,
          -0.5969336822632402
         ],
         "xaxis": "x",
         "y": [
          -0.004275890775212615,
          -0.06395731937426041
         ],
         "yaxis": "y"
        },
        {
         "hovertemplate": "x=%{x}<br>y=%{y}<extra></extra>",
         "legendgroup": "",
         "line": {
          "color": "grey",
          "dash": "solid"
         },
         "marker": {
          "symbol": "circle"
         },
         "mode": "lines",
         "name": "",
         "orientation": "v",
         "showlegend": false,
         "type": "scatter",
         "x": [
          -0.40365784660710513,
          -0.04984870881439013
         ],
         "xaxis": "x",
         "y": [
          -0.004275890775212615,
          -0.016369851063875538
         ],
         "yaxis": "y"
        },
        {
         "hovertemplate": "x=%{x}<br>y=%{y}<extra></extra>",
         "legendgroup": "",
         "line": {
          "color": "grey",
          "dash": "solid"
         },
         "marker": {
          "symbol": "circle"
         },
         "mode": "lines",
         "name": "",
         "orientation": "v",
         "showlegend": false,
         "type": "scatter",
         "x": [
          -0.07456290888215958,
          -0.04984870881439013
         ],
         "xaxis": "x",
         "y": [
          -0.07467601817331494,
          -0.016369851063875538
         ],
         "yaxis": "y"
        },
        {
         "hovertemplate": "x=%{x}<br>y=%{y}<extra></extra>",
         "legendgroup": "",
         "line": {
          "color": "grey",
          "dash": "solid"
         },
         "marker": {
          "symbol": "circle"
         },
         "mode": "lines",
         "name": "",
         "orientation": "v",
         "showlegend": false,
         "type": "scatter",
         "x": [
          -0.7768884739020843,
          -0.884809975506451
         ],
         "xaxis": "x",
         "y": [
          -0.18873564472663515,
          -0.17913314648597697
         ],
         "yaxis": "y"
        },
        {
         "hovertemplate": "x=%{x}<br>y=%{y}<extra></extra>",
         "legendgroup": "",
         "line": {
          "color": "grey",
          "dash": "solid"
         },
         "marker": {
          "symbol": "circle"
         },
         "mode": "lines",
         "name": "",
         "orientation": "v",
         "showlegend": false,
         "type": "scatter",
         "x": [
          -0.0528415990420343,
          -0.06321247421294905
         ],
         "xaxis": "x",
         "y": [
          -0.12144137048746455,
          -0.19799434680434838
         ],
         "yaxis": "y"
        },
        {
         "hovertemplate": "x=%{x}<br>y=%{y}<extra></extra>",
         "legendgroup": "",
         "line": {
          "color": "grey",
          "dash": "solid"
         },
         "marker": {
          "symbol": "circle"
         },
         "mode": "lines",
         "name": "",
         "orientation": "v",
         "showlegend": false,
         "type": "scatter",
         "x": [
          -0.0528415990420343,
          -0.04984870881439013
         ],
         "xaxis": "x",
         "y": [
          -0.12144137048746455,
          -0.016369851063875538
         ],
         "yaxis": "y"
        },
        {
         "hovertemplate": "x=%{x}<br>y=%{y}<extra></extra>",
         "legendgroup": "",
         "line": {
          "color": "grey",
          "dash": "solid"
         },
         "marker": {
          "symbol": "circle"
         },
         "mode": "lines",
         "name": "",
         "orientation": "v",
         "showlegend": false,
         "type": "scatter",
         "x": [
          -0.6333266849984981,
          -0.7768884739020843
         ],
         "xaxis": "x",
         "y": [
          -0.19029733095953463,
          -0.18873564472663515
         ],
         "yaxis": "y"
        },
        {
         "hovertemplate": "x=%{x}<br>y=%{y}<extra></extra>",
         "legendgroup": "",
         "line": {
          "color": "grey",
          "dash": "solid"
         },
         "marker": {
          "symbol": "circle"
         },
         "mode": "lines",
         "name": "",
         "orientation": "v",
         "showlegend": false,
         "type": "scatter",
         "x": [
          0.26535443042796003,
          0.3705659404562296
         ],
         "xaxis": "x",
         "y": [
          -0.0005278633241424373,
          0.007556503842702104
         ],
         "yaxis": "y"
        },
        {
         "hovertemplate": "x=%{x}<br>y=%{y}<extra></extra>",
         "legendgroup": "",
         "line": {
          "color": "grey",
          "dash": "solid"
         },
         "marker": {
          "symbol": "circle"
         },
         "mode": "lines",
         "name": "",
         "orientation": "v",
         "showlegend": false,
         "type": "scatter",
         "x": [
          -0.4635444999130868,
          -0.6333266849984981
         ],
         "xaxis": "x",
         "y": [
          -0.1616124448574933,
          -0.19029733095953463
         ],
         "yaxis": "y"
        },
        {
         "hovertemplate": "x=%{x}<br>y=%{y}<extra></extra>",
         "legendgroup": "",
         "line": {
          "color": "grey",
          "dash": "solid"
         },
         "marker": {
          "symbol": "circle"
         },
         "mode": "lines",
         "name": "",
         "orientation": "v",
         "showlegend": false,
         "type": "scatter",
         "x": [
          -0.2752939371698346,
          -0.35382182033795895
         ],
         "xaxis": "x",
         "y": [
          -0.11459976902444674,
          -0.13115716382960196
         ],
         "yaxis": "y"
        },
        {
         "hovertemplate": "x=%{x}<br>y=%{y}<extra></extra>",
         "legendgroup": "",
         "line": {
          "color": "grey",
          "dash": "solid"
         },
         "marker": {
          "symbol": "circle"
         },
         "mode": "lines",
         "name": "",
         "orientation": "v",
         "showlegend": false,
         "type": "scatter",
         "x": [
          -0.2752939371698346,
          -0.3156240866174043
         ],
         "xaxis": "x",
         "y": [
          -0.11459976902444674,
          -0.18808365977831518
         ],
         "yaxis": "y"
        },
        {
         "hovertemplate": "x=%{x}<br>y=%{y}<extra></extra>",
         "legendgroup": "",
         "line": {
          "color": "grey",
          "dash": "solid"
         },
         "marker": {
          "symbol": "circle"
         },
         "mode": "lines",
         "name": "",
         "orientation": "v",
         "showlegend": false,
         "type": "scatter",
         "x": [
          -0.2752939371698346,
          -0.352674031334194
         ],
         "xaxis": "x",
         "y": [
          -0.11459976902444674,
          -0.17268985320484
         ],
         "yaxis": "y"
        },
        {
         "hovertemplate": "x=%{x}<br>y=%{y}<extra></extra>",
         "legendgroup": "",
         "line": {
          "color": "grey",
          "dash": "solid"
         },
         "marker": {
          "symbol": "circle"
         },
         "mode": "lines",
         "name": "",
         "orientation": "v",
         "showlegend": false,
         "type": "scatter",
         "x": [
          -0.2752939371698346,
          -0.4635444999130868
         ],
         "xaxis": "x",
         "y": [
          -0.11459976902444674,
          -0.1616124448574933
         ],
         "yaxis": "y"
        },
        {
         "hovertemplate": "x=%{x}<br>y=%{y}<extra></extra>",
         "legendgroup": "",
         "line": {
          "color": "grey",
          "dash": "solid"
         },
         "marker": {
          "symbol": "circle"
         },
         "mode": "lines",
         "name": "",
         "orientation": "v",
         "showlegend": false,
         "type": "scatter",
         "x": [
          -0.2752939371698346,
          -0.04984870881439013
         ],
         "xaxis": "x",
         "y": [
          -0.11459976902444674,
          -0.016369851063875538
         ],
         "yaxis": "y"
        },
        {
         "hovertemplate": "x=%{x}<br>y=%{y}<extra></extra>",
         "legendgroup": "",
         "line": {
          "color": "grey",
          "dash": "solid"
         },
         "marker": {
          "symbol": "circle"
         },
         "mode": "lines",
         "name": "",
         "orientation": "v",
         "showlegend": false,
         "type": "scatter",
         "x": [
          0.125011755752775,
          0.20055955272712245
         ],
         "xaxis": "x",
         "y": [
          -0.01157948386687148,
          -0.017994866159917525
         ],
         "yaxis": "y"
        },
        {
         "hovertemplate": "x=%{x}<br>y=%{y}<extra></extra>",
         "legendgroup": "",
         "line": {
          "color": "grey",
          "dash": "solid"
         },
         "marker": {
          "symbol": "circle"
         },
         "mode": "lines",
         "name": "",
         "orientation": "v",
         "showlegend": false,
         "type": "scatter",
         "x": [
          0.125011755752775,
          0.26535443042796003
         ],
         "xaxis": "x",
         "y": [
          -0.01157948386687148,
          -0.0005278633241424373
         ],
         "yaxis": "y"
        },
        {
         "hovertemplate": "x=%{x}<br>y=%{y}<extra></extra>",
         "legendgroup": "",
         "line": {
          "color": "grey",
          "dash": "solid"
         },
         "marker": {
          "symbol": "circle"
         },
         "mode": "lines",
         "name": "",
         "orientation": "v",
         "showlegend": false,
         "type": "scatter",
         "x": [
          0.125011755752775,
          -0.04984870881439013
         ],
         "xaxis": "x",
         "y": [
          -0.01157948386687148,
          -0.016369851063875538
         ],
         "yaxis": "y"
        },
        {
         "hovertemplate": "x=%{x}<br>y=%{y}<extra></extra>",
         "legendgroup": "",
         "line": {
          "color": "grey",
          "dash": "solid"
         },
         "marker": {
          "symbol": "circle"
         },
         "mode": "lines",
         "name": "",
         "orientation": "v",
         "showlegend": false,
         "type": "scatter",
         "x": [
          -0.11460502830688352,
          -0.04984870881439013
         ],
         "xaxis": "x",
         "y": [
          -0.04595333904223306,
          -0.016369851063875538
         ],
         "yaxis": "y"
        },
        {
         "hovertemplate": "x=%{x}<br>y=%{y}<extra></extra>",
         "legendgroup": "",
         "line": {
          "color": "grey",
          "dash": "solid"
         },
         "marker": {
          "symbol": "circle"
         },
         "mode": "lines",
         "name": "",
         "orientation": "v",
         "showlegend": false,
         "type": "scatter",
         "x": [
          -0.330591551120827,
          -0.4149389345697224
         ],
         "xaxis": "x",
         "y": [
          -0.5307993465052222,
          -0.6123870510706736
         ],
         "yaxis": "y"
        },
        {
         "hovertemplate": "x=%{x}<br>y=%{y}<extra></extra>",
         "legendgroup": "",
         "line": {
          "color": "grey",
          "dash": "solid"
         },
         "marker": {
          "symbol": "circle"
         },
         "mode": "lines",
         "name": "",
         "orientation": "v",
         "showlegend": false,
         "type": "scatter",
         "x": [
          -0.2423998162132219,
          -0.2665428056136452
         ],
         "xaxis": "x",
         "y": [
          -0.6456012665066526,
          -0.7633480243335681
         ],
         "yaxis": "y"
        },
        {
         "hovertemplate": "x=%{x}<br>y=%{y}<extra></extra>",
         "legendgroup": "",
         "line": {
          "color": "grey",
          "dash": "solid"
         },
         "marker": {
          "symbol": "circle"
         },
         "mode": "lines",
         "name": "",
         "orientation": "v",
         "showlegend": false,
         "type": "scatter",
         "x": [
          -0.2423998162132219,
          -0.2989202399507893
         ],
         "xaxis": "x",
         "y": [
          -0.6456012665066526,
          -0.7486594530482933
         ],
         "yaxis": "y"
        },
        {
         "hovertemplate": "x=%{x}<br>y=%{y}<extra></extra>",
         "legendgroup": "",
         "line": {
          "color": "grey",
          "dash": "solid"
         },
         "marker": {
          "symbol": "circle"
         },
         "mode": "lines",
         "name": "",
         "orientation": "v",
         "showlegend": false,
         "type": "scatter",
         "x": [
          -0.2423998162132219,
          -0.23091829157802285
         ],
         "xaxis": "x",
         "y": [
          -0.6456012665066526,
          -0.7601483933253604
         ],
         "yaxis": "y"
        },
        {
         "hovertemplate": "x=%{x}<br>y=%{y}<extra></extra>",
         "legendgroup": "",
         "line": {
          "color": "grey",
          "dash": "solid"
         },
         "marker": {
          "symbol": "circle"
         },
         "mode": "lines",
         "name": "",
         "orientation": "v",
         "showlegend": false,
         "type": "scatter",
         "x": [
          -0.2885049560920869,
          -0.3507378856383688
         ],
         "xaxis": "x",
         "y": [
          -0.5642570580562092,
          -0.6633245035608704
         ],
         "yaxis": "y"
        },
        {
         "hovertemplate": "x=%{x}<br>y=%{y}<extra></extra>",
         "legendgroup": "",
         "line": {
          "color": "grey",
          "dash": "solid"
         },
         "marker": {
          "symbol": "circle"
         },
         "mode": "lines",
         "name": "",
         "orientation": "v",
         "showlegend": false,
         "type": "scatter",
         "x": [
          -0.20701429379341407,
          -0.2183063720097797
         ],
         "xaxis": "x",
         "y": [
          -0.4168513610174737,
          -0.5362133656430267
         ],
         "yaxis": "y"
        },
        {
         "hovertemplate": "x=%{x}<br>y=%{y}<extra></extra>",
         "legendgroup": "",
         "line": {
          "color": "grey",
          "dash": "solid"
         },
         "marker": {
          "symbol": "circle"
         },
         "mode": "lines",
         "name": "",
         "orientation": "v",
         "showlegend": false,
         "type": "scatter",
         "x": [
          -0.20701429379341407,
          -0.2810405661959041
         ],
         "xaxis": "x",
         "y": [
          -0.4168513610174737,
          -0.41901005404728725
         ],
         "yaxis": "y"
        },
        {
         "hovertemplate": "x=%{x}<br>y=%{y}<extra></extra>",
         "legendgroup": "",
         "line": {
          "color": "grey",
          "dash": "solid"
         },
         "marker": {
          "symbol": "circle"
         },
         "mode": "lines",
         "name": "",
         "orientation": "v",
         "showlegend": false,
         "type": "scatter",
         "x": [
          -0.20701429379341407,
          -0.2493827043481188
         ],
         "xaxis": "x",
         "y": [
          -0.4168513610174737,
          -0.5161843234225514
         ],
         "yaxis": "y"
        },
        {
         "hovertemplate": "x=%{x}<br>y=%{y}<extra></extra>",
         "legendgroup": "",
         "line": {
          "color": "grey",
          "dash": "solid"
         },
         "marker": {
          "symbol": "circle"
         },
         "mode": "lines",
         "name": "",
         "orientation": "v",
         "showlegend": false,
         "type": "scatter",
         "x": [
          -0.20701429379341407,
          -0.3144795641537963
         ],
         "xaxis": "x",
         "y": [
          -0.4168513610174737,
          -0.4419666278506866
         ],
         "yaxis": "y"
        },
        {
         "hovertemplate": "x=%{x}<br>y=%{y}<extra></extra>",
         "legendgroup": "",
         "line": {
          "color": "grey",
          "dash": "solid"
         },
         "marker": {
          "symbol": "circle"
         },
         "mode": "lines",
         "name": "",
         "orientation": "v",
         "showlegend": false,
         "type": "scatter",
         "x": [
          -0.20701429379341407,
          -0.2303215703030861
         ],
         "xaxis": "x",
         "y": [
          -0.4168513610174737,
          -0.48138707453587964
         ],
         "yaxis": "y"
        },
        {
         "hovertemplate": "x=%{x}<br>y=%{y}<extra></extra>",
         "legendgroup": "",
         "line": {
          "color": "grey",
          "dash": "solid"
         },
         "marker": {
          "symbol": "circle"
         },
         "mode": "lines",
         "name": "",
         "orientation": "v",
         "showlegend": false,
         "type": "scatter",
         "x": [
          -0.20701429379341407,
          -0.1891177975967976
         ],
         "xaxis": "x",
         "y": [
          -0.4168513610174737,
          -0.4987285642814683
         ],
         "yaxis": "y"
        },
        {
         "hovertemplate": "x=%{x}<br>y=%{y}<extra></extra>",
         "legendgroup": "",
         "line": {
          "color": "grey",
          "dash": "solid"
         },
         "marker": {
          "symbol": "circle"
         },
         "mode": "lines",
         "name": "",
         "orientation": "v",
         "showlegend": false,
         "type": "scatter",
         "x": [
          -0.20701429379341407,
          -0.2821516111883376
         ],
         "xaxis": "x",
         "y": [
          -0.4168513610174737,
          -0.4965522053362977
         ],
         "yaxis": "y"
        },
        {
         "hovertemplate": "x=%{x}<br>y=%{y}<extra></extra>",
         "legendgroup": "",
         "line": {
          "color": "grey",
          "dash": "solid"
         },
         "marker": {
          "symbol": "circle"
         },
         "mode": "lines",
         "name": "",
         "orientation": "v",
         "showlegend": false,
         "type": "scatter",
         "x": [
          -0.20701429379341407,
          -0.28889106073454235
         ],
         "xaxis": "x",
         "y": [
          -0.4168513610174737,
          -0.4649915993391571
         ],
         "yaxis": "y"
        },
        {
         "hovertemplate": "x=%{x}<br>y=%{y}<extra></extra>",
         "legendgroup": "",
         "line": {
          "color": "grey",
          "dash": "solid"
         },
         "marker": {
          "symbol": "circle"
         },
         "mode": "lines",
         "name": "",
         "orientation": "v",
         "showlegend": false,
         "type": "scatter",
         "x": [
          -0.20701429379341407,
          -0.330591551120827
         ],
         "xaxis": "x",
         "y": [
          -0.4168513610174737,
          -0.5307993465052222
         ],
         "yaxis": "y"
        },
        {
         "hovertemplate": "x=%{x}<br>y=%{y}<extra></extra>",
         "legendgroup": "",
         "line": {
          "color": "grey",
          "dash": "solid"
         },
         "marker": {
          "symbol": "circle"
         },
         "mode": "lines",
         "name": "",
         "orientation": "v",
         "showlegend": false,
         "type": "scatter",
         "x": [
          -0.20701429379341407,
          -0.2423998162132219
         ],
         "xaxis": "x",
         "y": [
          -0.4168513610174737,
          -0.6456012665066526
         ],
         "yaxis": "y"
        },
        {
         "hovertemplate": "x=%{x}<br>y=%{y}<extra></extra>",
         "legendgroup": "",
         "line": {
          "color": "grey",
          "dash": "solid"
         },
         "marker": {
          "symbol": "circle"
         },
         "mode": "lines",
         "name": "",
         "orientation": "v",
         "showlegend": false,
         "type": "scatter",
         "x": [
          -0.20701429379341407,
          -0.15122557195687436
         ],
         "xaxis": "x",
         "y": [
          -0.4168513610174737,
          -0.4887254136518349
         ],
         "yaxis": "y"
        },
        {
         "hovertemplate": "x=%{x}<br>y=%{y}<extra></extra>",
         "legendgroup": "",
         "line": {
          "color": "grey",
          "dash": "solid"
         },
         "marker": {
          "symbol": "circle"
         },
         "mode": "lines",
         "name": "",
         "orientation": "v",
         "showlegend": false,
         "type": "scatter",
         "x": [
          -0.20701429379341407,
          -0.2885049560920869
         ],
         "xaxis": "x",
         "y": [
          -0.4168513610174737,
          -0.5642570580562092
         ],
         "yaxis": "y"
        },
        {
         "hovertemplate": "x=%{x}<br>y=%{y}<extra></extra>",
         "legendgroup": "",
         "line": {
          "color": "grey",
          "dash": "solid"
         },
         "marker": {
          "symbol": "circle"
         },
         "mode": "lines",
         "name": "",
         "orientation": "v",
         "showlegend": false,
         "type": "scatter",
         "x": [
          -0.20701429379341407,
          -0.04984870881439013
         ],
         "xaxis": "x",
         "y": [
          -0.4168513610174737,
          -0.016369851063875538
         ],
         "yaxis": "y"
        },
        {
         "hovertemplate": "x=%{x}<br>y=%{y}<extra></extra>",
         "legendgroup": "",
         "line": {
          "color": "grey",
          "dash": "solid"
         },
         "marker": {
          "symbol": "circle"
         },
         "mode": "lines",
         "name": "",
         "orientation": "v",
         "showlegend": false,
         "type": "scatter",
         "x": [
          -0.029593312780175636,
          -0.020494383861592996
         ],
         "xaxis": "x",
         "y": [
          0.04728262221991268,
          0.10325267185095229
         ],
         "yaxis": "y"
        },
        {
         "hovertemplate": "x=%{x}<br>y=%{y}<extra></extra>",
         "legendgroup": "",
         "line": {
          "color": "grey",
          "dash": "solid"
         },
         "marker": {
          "symbol": "circle"
         },
         "mode": "lines",
         "name": "",
         "orientation": "v",
         "showlegend": false,
         "type": "scatter",
         "x": [
          -0.029593312780175636,
          -0.04984870881439013
         ],
         "xaxis": "x",
         "y": [
          0.04728262221991268,
          -0.016369851063875538
         ],
         "yaxis": "y"
        },
        {
         "hovertemplate": "x=%{x}<br>y=%{y}<extra></extra>",
         "legendgroup": "",
         "line": {
          "color": "grey",
          "dash": "solid"
         },
         "marker": {
          "symbol": "circle"
         },
         "mode": "lines",
         "name": "",
         "orientation": "v",
         "showlegend": false,
         "type": "scatter",
         "x": [
          0.2212231520338583,
          0.25047926930828074
         ],
         "xaxis": "x",
         "y": [
          -0.6396319592339276,
          -0.7427174035683983
         ],
         "yaxis": "y"
        },
        {
         "hovertemplate": "x=%{x}<br>y=%{y}<extra></extra>",
         "legendgroup": "",
         "line": {
          "color": "grey",
          "dash": "solid"
         },
         "marker": {
          "symbol": "circle"
         },
         "mode": "lines",
         "name": "",
         "orientation": "v",
         "showlegend": false,
         "type": "scatter",
         "x": [
          0.12417601590843219,
          0.11121788249081879
         ],
         "xaxis": "x",
         "y": [
          -0.4094381115654117,
          -0.5065656204915132
         ],
         "yaxis": "y"
        },
        {
         "hovertemplate": "x=%{x}<br>y=%{y}<extra></extra>",
         "legendgroup": "",
         "line": {
          "color": "grey",
          "dash": "solid"
         },
         "marker": {
          "symbol": "circle"
         },
         "mode": "lines",
         "name": "",
         "orientation": "v",
         "showlegend": false,
         "type": "scatter",
         "x": [
          0.24982746197254257,
          0.3418189584235303
         ],
         "xaxis": "x",
         "y": [
          -0.36289130346349363,
          -0.41733726374362207
         ],
         "yaxis": "y"
        },
        {
         "hovertemplate": "x=%{x}<br>y=%{y}<extra></extra>",
         "legendgroup": "",
         "line": {
          "color": "grey",
          "dash": "solid"
         },
         "marker": {
          "symbol": "circle"
         },
         "mode": "lines",
         "name": "",
         "orientation": "v",
         "showlegend": false,
         "type": "scatter",
         "x": [
          0.29870493866832415,
          0.39831185020653015
         ],
         "xaxis": "x",
         "y": [
          -0.2711257734615915,
          -0.24454847776483418
         ],
         "yaxis": "y"
        },
        {
         "hovertemplate": "x=%{x}<br>y=%{y}<extra></extra>",
         "legendgroup": "",
         "line": {
          "color": "grey",
          "dash": "solid"
         },
         "marker": {
          "symbol": "circle"
         },
         "mode": "lines",
         "name": "",
         "orientation": "v",
         "showlegend": false,
         "type": "scatter",
         "x": [
          0.29870493866832415,
          0.3974017863620907
         ],
         "xaxis": "x",
         "y": [
          -0.2711257734615915,
          -0.2865059849048852
         ],
         "yaxis": "y"
        },
        {
         "hovertemplate": "x=%{x}<br>y=%{y}<extra></extra>",
         "legendgroup": "",
         "line": {
          "color": "grey",
          "dash": "solid"
         },
         "marker": {
          "symbol": "circle"
         },
         "mode": "lines",
         "name": "",
         "orientation": "v",
         "showlegend": false,
         "type": "scatter",
         "x": [
          0.18088039980947684,
          0.2212231520338583
         ],
         "xaxis": "x",
         "y": [
          -0.4898267038900588,
          -0.6396319592339276
         ],
         "yaxis": "y"
        },
        {
         "hovertemplate": "x=%{x}<br>y=%{y}<extra></extra>",
         "legendgroup": "",
         "line": {
          "color": "grey",
          "dash": "solid"
         },
         "marker": {
          "symbol": "circle"
         },
         "mode": "lines",
         "name": "",
         "orientation": "v",
         "showlegend": false,
         "type": "scatter",
         "x": [
          0.18088039980947684,
          0.18569305795641877
         ],
         "xaxis": "x",
         "y": [
          -0.4898267038900588,
          -0.5926143871707885
         ],
         "yaxis": "y"
        },
        {
         "hovertemplate": "x=%{x}<br>y=%{y}<extra></extra>",
         "legendgroup": "",
         "line": {
          "color": "grey",
          "dash": "solid"
         },
         "marker": {
          "symbol": "circle"
         },
         "mode": "lines",
         "name": "",
         "orientation": "v",
         "showlegend": false,
         "type": "scatter",
         "x": [
          0.2222537228062517,
          0.28699767498193457
         ],
         "xaxis": "x",
         "y": [
          -0.4414718474340596,
          -0.531635298684849
         ],
         "yaxis": "y"
        },
        {
         "hovertemplate": "x=%{x}<br>y=%{y}<extra></extra>",
         "legendgroup": "",
         "line": {
          "color": "grey",
          "dash": "solid"
         },
         "marker": {
          "symbol": "circle"
         },
         "mode": "lines",
         "name": "",
         "orientation": "v",
         "showlegend": false,
         "type": "scatter",
         "x": [
          0.2222537228062517,
          0.25174927185440954
         ],
         "xaxis": "x",
         "y": [
          -0.4414718474340596,
          -0.5420528937877309
         ],
         "yaxis": "y"
        },
        {
         "hovertemplate": "x=%{x}<br>y=%{y}<extra></extra>",
         "legendgroup": "",
         "line": {
          "color": "grey",
          "dash": "solid"
         },
         "marker": {
          "symbol": "circle"
         },
         "mode": "lines",
         "name": "",
         "orientation": "v",
         "showlegend": false,
         "type": "scatter",
         "x": [
          0.14079420020417585,
          0.12417601590843219
         ],
         "xaxis": "x",
         "y": [
          -0.29061259712393533,
          -0.4094381115654117
         ],
         "yaxis": "y"
        },
        {
         "hovertemplate": "x=%{x}<br>y=%{y}<extra></extra>",
         "legendgroup": "",
         "line": {
          "color": "grey",
          "dash": "solid"
         },
         "marker": {
          "symbol": "circle"
         },
         "mode": "lines",
         "name": "",
         "orientation": "v",
         "showlegend": false,
         "type": "scatter",
         "x": [
          0.14079420020417585,
          0.24982746197254257
         ],
         "xaxis": "x",
         "y": [
          -0.29061259712393533,
          -0.36289130346349363
         ],
         "yaxis": "y"
        },
        {
         "hovertemplate": "x=%{x}<br>y=%{y}<extra></extra>",
         "legendgroup": "",
         "line": {
          "color": "grey",
          "dash": "solid"
         },
         "marker": {
          "symbol": "circle"
         },
         "mode": "lines",
         "name": "",
         "orientation": "v",
         "showlegend": false,
         "type": "scatter",
         "x": [
          0.14079420020417585,
          0.15972604231496607
         ],
         "xaxis": "x",
         "y": [
          -0.29061259712393533,
          -0.35373515506194797
         ],
         "yaxis": "y"
        },
        {
         "hovertemplate": "x=%{x}<br>y=%{y}<extra></extra>",
         "legendgroup": "",
         "line": {
          "color": "grey",
          "dash": "solid"
         },
         "marker": {
          "symbol": "circle"
         },
         "mode": "lines",
         "name": "",
         "orientation": "v",
         "showlegend": false,
         "type": "scatter",
         "x": [
          0.14079420020417585,
          0.29870493866832415
         ],
         "xaxis": "x",
         "y": [
          -0.29061259712393533,
          -0.2711257734615915
         ],
         "yaxis": "y"
        },
        {
         "hovertemplate": "x=%{x}<br>y=%{y}<extra></extra>",
         "legendgroup": "",
         "line": {
          "color": "grey",
          "dash": "solid"
         },
         "marker": {
          "symbol": "circle"
         },
         "mode": "lines",
         "name": "",
         "orientation": "v",
         "showlegend": false,
         "type": "scatter",
         "x": [
          0.14079420020417585,
          0.18088039980947684
         ],
         "xaxis": "x",
         "y": [
          -0.29061259712393533,
          -0.4898267038900588
         ],
         "yaxis": "y"
        },
        {
         "hovertemplate": "x=%{x}<br>y=%{y}<extra></extra>",
         "legendgroup": "",
         "line": {
          "color": "grey",
          "dash": "solid"
         },
         "marker": {
          "symbol": "circle"
         },
         "mode": "lines",
         "name": "",
         "orientation": "v",
         "showlegend": false,
         "type": "scatter",
         "x": [
          0.14079420020417585,
          0.2222537228062517
         ],
         "xaxis": "x",
         "y": [
          -0.29061259712393533,
          -0.4414718474340596
         ],
         "yaxis": "y"
        },
        {
         "hovertemplate": "x=%{x}<br>y=%{y}<extra></extra>",
         "legendgroup": "",
         "line": {
          "color": "grey",
          "dash": "solid"
         },
         "marker": {
          "symbol": "circle"
         },
         "mode": "lines",
         "name": "",
         "orientation": "v",
         "showlegend": false,
         "type": "scatter",
         "x": [
          0.14079420020417585,
          -0.04984870881439013
         ],
         "xaxis": "x",
         "y": [
          -0.29061259712393533,
          -0.016369851063875538
         ],
         "yaxis": "y"
        },
        {
         "hovertemplate": "x=%{x}<br>y=%{y}<extra></extra>",
         "legendgroup": "",
         "line": {
          "color": "grey",
          "dash": "solid"
         },
         "marker": {
          "symbol": "circle"
         },
         "mode": "lines",
         "name": "",
         "orientation": "v",
         "showlegend": false,
         "type": "scatter",
         "x": [
          0.9014273533705297,
          0.9907719167480598
         ],
         "xaxis": "x",
         "y": [
          0.30898328300728223,
          0.35963907571295456
         ],
         "yaxis": "y"
        },
        {
         "hovertemplate": "x=%{x}<br>y=%{y}<extra></extra>",
         "legendgroup": "",
         "line": {
          "color": "grey",
          "dash": "solid"
         },
         "marker": {
          "symbol": "circle"
         },
         "mode": "lines",
         "name": "",
         "orientation": "v",
         "showlegend": false,
         "type": "scatter",
         "x": [
          0.9014273533705297,
          1
         ],
         "xaxis": "x",
         "y": [
          0.30898328300728223,
          0.31729919754298147
         ],
         "yaxis": "y"
        },
        {
         "hovertemplate": "x=%{x}<br>y=%{y}<extra></extra>",
         "legendgroup": "",
         "line": {
          "color": "grey",
          "dash": "solid"
         },
         "marker": {
          "symbol": "circle"
         },
         "mode": "lines",
         "name": "",
         "orientation": "v",
         "showlegend": false,
         "type": "scatter",
         "x": [
          -0.17614731967137442,
          -0.20701429379341407
         ],
         "xaxis": "x",
         "y": [
          -0.5319968050977546,
          -0.4168513610174737
         ],
         "yaxis": "y"
        },
        {
         "hovertemplate": "x=%{x}<br>y=%{y}<extra></extra>",
         "legendgroup": "",
         "line": {
          "color": "grey",
          "dash": "solid"
         },
         "marker": {
          "symbol": "circle"
         },
         "mode": "lines",
         "name": "",
         "orientation": "v",
         "showlegend": false,
         "type": "scatter",
         "x": [
          0.7440511908177986,
          0.9014273533705297
         ],
         "xaxis": "x",
         "y": [
          0.26078935694729233,
          0.30898328300728223
         ],
         "yaxis": "y"
        },
        {
         "hovertemplate": "x=%{x}<br>y=%{y}<extra></extra>",
         "legendgroup": "",
         "line": {
          "color": "grey",
          "dash": "solid"
         },
         "marker": {
          "symbol": "circle"
         },
         "mode": "lines",
         "name": "",
         "orientation": "v",
         "showlegend": false,
         "type": "scatter",
         "x": [
          0.5187249536423474,
          0.5947608231730531
         ],
         "xaxis": "x",
         "y": [
          0.36036982303912884,
          0.4335881451643661
         ],
         "yaxis": "y"
        },
        {
         "hovertemplate": "x=%{x}<br>y=%{y}<extra></extra>",
         "legendgroup": "",
         "line": {
          "color": "grey",
          "dash": "solid"
         },
         "marker": {
          "symbol": "circle"
         },
         "mode": "lines",
         "name": "",
         "orientation": "v",
         "showlegend": false,
         "type": "scatter",
         "x": [
          0.5562267517736644,
          0.6311282272189911
         ],
         "xaxis": "x",
         "y": [
          0.2045323201876112,
          0.27108983393240793
         ],
         "yaxis": "y"
        },
        {
         "hovertemplate": "x=%{x}<br>y=%{y}<extra></extra>",
         "legendgroup": "",
         "line": {
          "color": "grey",
          "dash": "solid"
         },
         "marker": {
          "symbol": "circle"
         },
         "mode": "lines",
         "name": "",
         "orientation": "v",
         "showlegend": false,
         "type": "scatter",
         "x": [
          0.5562267517736644,
          0.6627326871454887
         ],
         "xaxis": "x",
         "y": [
          0.2045323201876112,
          0.211571643897464
         ],
         "yaxis": "y"
        },
        {
         "hovertemplate": "x=%{x}<br>y=%{y}<extra></extra>",
         "legendgroup": "",
         "line": {
          "color": "grey",
          "dash": "solid"
         },
         "marker": {
          "symbol": "circle"
         },
         "mode": "lines",
         "name": "",
         "orientation": "v",
         "showlegend": false,
         "type": "scatter",
         "x": [
          0.5562267517736644,
          0.7440511908177986
         ],
         "xaxis": "x",
         "y": [
          0.2045323201876112,
          0.26078935694729233
         ],
         "yaxis": "y"
        },
        {
         "hovertemplate": "x=%{x}<br>y=%{y}<extra></extra>",
         "legendgroup": "",
         "line": {
          "color": "grey",
          "dash": "solid"
         },
         "marker": {
          "symbol": "circle"
         },
         "mode": "lines",
         "name": "",
         "orientation": "v",
         "showlegend": false,
         "type": "scatter",
         "x": [
          0.5562267517736644,
          0.6511772793326468
         ],
         "xaxis": "x",
         "y": [
          0.2045323201876112,
          0.1781294452913792
         ],
         "yaxis": "y"
        },
        {
         "hovertemplate": "x=%{x}<br>y=%{y}<extra></extra>",
         "legendgroup": "",
         "line": {
          "color": "grey",
          "dash": "solid"
         },
         "marker": {
          "symbol": "circle"
         },
         "mode": "lines",
         "name": "",
         "orientation": "v",
         "showlegend": false,
         "type": "scatter",
         "x": [
          0.5562267517736644,
          0.655309820381091
         ],
         "xaxis": "x",
         "y": [
          0.2045323201876112,
          0.24543388570303462
         ],
         "yaxis": "y"
        },
        {
         "hovertemplate": "x=%{x}<br>y=%{y}<extra></extra>",
         "legendgroup": "",
         "line": {
          "color": "grey",
          "dash": "solid"
         },
         "marker": {
          "symbol": "circle"
         },
         "mode": "lines",
         "name": "",
         "orientation": "v",
         "showlegend": false,
         "type": "scatter",
         "x": [
          0.17362621954911966,
          0.09364575490098155
         ],
         "xaxis": "x",
         "y": [
          0.167951204816846,
          0.19811836132710753
         ],
         "yaxis": "y"
        },
        {
         "hovertemplate": "x=%{x}<br>y=%{y}<extra></extra>",
         "legendgroup": "",
         "line": {
          "color": "grey",
          "dash": "solid"
         },
         "marker": {
          "symbol": "circle"
         },
         "mode": "lines",
         "name": "",
         "orientation": "v",
         "showlegend": false,
         "type": "scatter",
         "x": [
          0.17362621954911966,
          0.1337431082336443
         ],
         "xaxis": "x",
         "y": [
          0.167951204816846,
          0.13223888382984203
         ],
         "yaxis": "y"
        },
        {
         "hovertemplate": "x=%{x}<br>y=%{y}<extra></extra>",
         "legendgroup": "",
         "line": {
          "color": "grey",
          "dash": "solid"
         },
         "marker": {
          "symbol": "circle"
         },
         "mode": "lines",
         "name": "",
         "orientation": "v",
         "showlegend": false,
         "type": "scatter",
         "x": [
          0.17362621954911966,
          0.08729463761715149
         ],
         "xaxis": "x",
         "y": [
          0.167951204816846,
          0.1596926199924102
         ],
         "yaxis": "y"
        },
        {
         "hovertemplate": "x=%{x}<br>y=%{y}<extra></extra>",
         "legendgroup": "",
         "line": {
          "color": "grey",
          "dash": "solid"
         },
         "marker": {
          "symbol": "circle"
         },
         "mode": "lines",
         "name": "",
         "orientation": "v",
         "showlegend": false,
         "type": "scatter",
         "x": [
          0.416775795049919,
          0.4869399005074783
         ],
         "xaxis": "x",
         "y": [
          0.258271243598251,
          0.3134596048708209
         ],
         "yaxis": "y"
        },
        {
         "hovertemplate": "x=%{x}<br>y=%{y}<extra></extra>",
         "legendgroup": "",
         "line": {
          "color": "grey",
          "dash": "solid"
         },
         "marker": {
          "symbol": "circle"
         },
         "mode": "lines",
         "name": "",
         "orientation": "v",
         "showlegend": false,
         "type": "scatter",
         "x": [
          0.416775795049919,
          0.5187249536423474
         ],
         "xaxis": "x",
         "y": [
          0.258271243598251,
          0.36036982303912884
         ],
         "yaxis": "y"
        },
        {
         "hovertemplate": "x=%{x}<br>y=%{y}<extra></extra>",
         "legendgroup": "",
         "line": {
          "color": "grey",
          "dash": "solid"
         },
         "marker": {
          "symbol": "circle"
         },
         "mode": "lines",
         "name": "",
         "orientation": "v",
         "showlegend": false,
         "type": "scatter",
         "x": [
          0.2760954592735916,
          0.5562267517736644
         ],
         "xaxis": "x",
         "y": [
          0.13417554390896114,
          0.2045323201876112
         ],
         "yaxis": "y"
        },
        {
         "hovertemplate": "x=%{x}<br>y=%{y}<extra></extra>",
         "legendgroup": "",
         "line": {
          "color": "grey",
          "dash": "solid"
         },
         "marker": {
          "symbol": "circle"
         },
         "mode": "lines",
         "name": "",
         "orientation": "v",
         "showlegend": false,
         "type": "scatter",
         "x": [
          0.2760954592735916,
          0.17362621954911966
         ],
         "xaxis": "x",
         "y": [
          0.13417554390896114,
          0.167951204816846
         ],
         "yaxis": "y"
        },
        {
         "hovertemplate": "x=%{x}<br>y=%{y}<extra></extra>",
         "legendgroup": "",
         "line": {
          "color": "grey",
          "dash": "solid"
         },
         "marker": {
          "symbol": "circle"
         },
         "mode": "lines",
         "name": "",
         "orientation": "v",
         "showlegend": false,
         "type": "scatter",
         "x": [
          0.2760954592735916,
          0.3694878803200301
         ],
         "xaxis": "x",
         "y": [
          0.13417554390896114,
          0.1445181241158191
         ],
         "yaxis": "y"
        },
        {
         "hovertemplate": "x=%{x}<br>y=%{y}<extra></extra>",
         "legendgroup": "",
         "line": {
          "color": "grey",
          "dash": "solid"
         },
         "marker": {
          "symbol": "circle"
         },
         "mode": "lines",
         "name": "",
         "orientation": "v",
         "showlegend": false,
         "type": "scatter",
         "x": [
          0.2760954592735916,
          0.416775795049919
         ],
         "xaxis": "x",
         "y": [
          0.13417554390896114,
          0.258271243598251
         ],
         "yaxis": "y"
        },
        {
         "hovertemplate": "x=%{x}<br>y=%{y}<extra></extra>",
         "legendgroup": "",
         "line": {
          "color": "grey",
          "dash": "solid"
         },
         "marker": {
          "symbol": "circle"
         },
         "mode": "lines",
         "name": "",
         "orientation": "v",
         "showlegend": false,
         "type": "scatter",
         "x": [
          0.2760954592735916,
          0.34700795726445216
         ],
         "xaxis": "x",
         "y": [
          0.13417554390896114,
          0.18609264004021603
         ],
         "yaxis": "y"
        },
        {
         "hovertemplate": "x=%{x}<br>y=%{y}<extra></extra>",
         "legendgroup": "",
         "line": {
          "color": "grey",
          "dash": "solid"
         },
         "marker": {
          "symbol": "circle"
         },
         "mode": "lines",
         "name": "",
         "orientation": "v",
         "showlegend": false,
         "type": "scatter",
         "x": [
          0.2760954592735916,
          -0.04984870881439013
         ],
         "xaxis": "x",
         "y": [
          0.13417554390896114,
          -0.016369851063875538
         ],
         "yaxis": "y"
        },
        {
         "customdata": [
          [
           "Dana Frazier",
           10,
           true,
           "person",
           "Dana Frazier",
           "2020-09-03",
           "Contract",
           [],
           "Jennifer Willis",
           "DevOps",
           "Engineer",
           {
            "city": "Dublin",
            "country": "IRL",
            "tz": "UTC"
           },
           1,
           "Dublin",
           "UTC",
           "IRL"
          ],
          [
           "Amanda Moore",
           10,
           true,
           "person",
           "Amanda Moore",
           "2020-08-06",
           "Full Time",
           [
            "Python",
            "Go",
            "Scala",
            "Java"
           ],
           "Dana Frazier",
           "DevOps",
           "Engineer",
           {
            "city": "Dublin",
            "country": "IRL",
            "tz": "UTC"
           },
           1,
           "Dublin",
           "UTC",
           "IRL"
          ],
          [
           "Jessica Lara",
           10,
           true,
           "person",
           "Jessica Lara",
           "2023-03-16",
           "Full Time",
           [
            "Typescript"
           ],
           "Dana Frazier",
           "DevOps",
           "Engineer",
           {
            "city": "Dublin",
            "country": "IRL",
            "tz": "UTC"
           },
           1,
           "Dublin",
           "UTC",
           "IRL"
          ],
          [
           "Jason Williams",
           10,
           true,
           "person",
           "Jason Williams",
           "2021-11-01",
           "Contract",
           [
            "Typescript",
            "Java"
           ],
           "Dana Frazier",
           "DevOps",
           "Engineer",
           {
            "city": "Dublin",
            "country": "IRL",
            "tz": "UTC"
           },
           1,
           "Dublin",
           "UTC",
           "IRL"
          ],
          [
           "Larry Riley",
           10,
           true,
           "person",
           "Larry Riley",
           "2023-04-02",
           "Contract",
           [],
           "Dana Frazier",
           "DevOps",
           "Senior Engineer",
           {
            "city": "Dublin",
            "country": "IRL",
            "tz": "UTC"
           },
           2,
           "Dublin",
           "UTC",
           "IRL"
          ],
          [
           "Brian Martinez",
           10,
           true,
           "person",
           "Brian Martinez",
           "2021-02-24",
           "Full Time",
           [
            "JavaScript"
           ],
           "Dana Frazier",
           "DevOps",
           "Senior Engineer",
           {
            "city": "Dublin",
            "country": "IRL",
            "tz": "UTC"
           },
           2,
           "Dublin",
           "UTC",
           "IRL"
          ],
          [
           "Amanda Trevino",
           10,
           true,
           "person",
           "Amanda Trevino",
           "2020-11-01",
           "Full Time",
           [
            "Python",
            "Go",
            "Java"
           ],
           "Dana Frazier",
           "DevOps",
           "Senior Engineer",
           {
            "city": "Dublin",
            "country": "IRL",
            "tz": "UTC"
           },
           2,
           "Dublin",
           "UTC",
           "IRL"
          ],
          [
           "Michael Howard",
           10,
           true,
           "person",
           "Michael Howard",
           "2021-06-12",
           "Contract",
           [
            "Python",
            "Java"
           ],
           "Amanda Moore",
           "DevOps",
           "Senior Engineer",
           {
            "city": "Dublin",
            "country": "IRL",
            "tz": "UTC"
           },
           2,
           "Dublin",
           "UTC",
           "IRL"
          ],
          [
           "Bobby Watson",
           10,
           true,
           "person",
           "Bobby Watson",
           "2020-07-17",
           "Full Time",
           [
            "Scala"
           ],
           "Amanda Moore",
           "DevOps",
           "Senior Engineer",
           {
            "city": "Dublin",
            "country": "IRL",
            "tz": "UTC"
           },
           2,
           "Dublin",
           "UTC",
           "IRL"
          ],
          [
           "Debra Smith",
           10,
           true,
           "person",
           "Debra Smith",
           "2022-09-28",
           "Full Time",
           [],
           "Jessica Lara",
           "DevOps",
           "Senior Engineer",
           {
            "city": "Dublin",
            "country": "IRL",
            "tz": "UTC"
           },
           2,
           "Dublin",
           "UTC",
           "IRL"
          ],
          [
           "Jesse Sullivan DVM",
           10,
           true,
           "person",
           "Jesse Sullivan DVM",
           "2022-12-15",
           "Full Time",
           [
            "JavaScript"
           ],
           "Jessica Lara",
           "DevOps",
           "Senior Engineer",
           {
            "city": "Dublin",
            "country": "IRL",
            "tz": "UTC"
           },
           2,
           "Dublin",
           "UTC",
           "IRL"
          ],
          [
           "Alexandra Sullivan",
           10,
           true,
           "person",
           "Alexandra Sullivan",
           "2022-08-31",
           "Full Time",
           [
            "Python"
           ],
           "Jason Williams",
           "DevOps",
           "Senior Engineer",
           {
            "city": "Dublin",
            "country": "IRL",
            "tz": "UTC"
           },
           2,
           "Dublin",
           "UTC",
           "IRL"
          ],
          [
           "Wendy Ponce",
           10,
           true,
           "person",
           "Wendy Ponce",
           "2021-08-26",
           "Full Time",
           [],
           "Jason Williams",
           "DevOps",
           "Senior Engineer",
           {
            "city": "Dublin",
            "country": "IRL",
            "tz": "UTC"
           },
           2,
           "Dublin",
           "UTC",
           "IRL"
          ],
          [
           "Gabrielle Lozano",
           10,
           true,
           "person",
           "Gabrielle Lozano",
           "2021-09-15",
           "Full Time",
           [],
           "Jennifer Willis",
           "DevOps",
           "Manager",
           {
            "city": "Dublin",
            "country": "IRL",
            "tz": "UTC"
           },
           3,
           "Dublin",
           "UTC",
           "IRL"
          ],
          [
           "Anthony Moreno",
           10,
           true,
           "person",
           "Anthony Moreno",
           "2021-06-24",
           "Contract",
           [],
           "Gabrielle Lozano",
           "DevOps",
           "Manager",
           {
            "city": "Dublin",
            "country": "IRL",
            "tz": "UTC"
           },
           3,
           "Dublin",
           "UTC",
           "IRL"
          ],
          [
           "Karen Beck",
           10,
           true,
           "person",
           "Karen Beck",
           "2022-09-13",
           "Full Time",
           [],
           "Brian Martinez",
           "DevOps",
           "Manager",
           {
            "city": "Dublin",
            "country": "IRL",
            "tz": "UTC"
           },
           3,
           "Dublin",
           "UTC",
           "IRL"
          ],
          [
           "Sherry Carter",
           10,
           true,
           "person",
           "Sherry Carter",
           "2023-01-09",
           "Full Time",
           [
            "Erlang",
            "Go"
           ],
           "Amanda Trevino",
           "DevOps",
           "Manager",
           {
            "city": "Dublin",
            "country": "IRL",
            "tz": "UTC"
           },
           3,
           "Dublin",
           "UTC",
           "IRL"
          ],
          [
           "Linda Matthews",
           10,
           true,
           "person",
           "Linda Matthews",
           "2023-03-05",
           "Contract",
           [
            "Python",
            "Typescript",
            "JavaScript"
           ],
           "Jesse Sullivan DVM",
           "DevOps",
           "Manager",
           {
            "city": "Dublin",
            "country": "IRL",
            "tz": "UTC"
           },
           3,
           "Dublin",
           "UTC",
           "IRL"
          ],
          [
           "Jeremy Oneill",
           10,
           true,
           "person",
           "Jeremy Oneill",
           "2022-10-11",
           "Contract",
           [
            "Typescript"
           ],
           "Jennifer Willis",
           "Support",
           "Analyst",
           {
            "city": "Dublin",
            "country": "IRL",
            "tz": "UTC"
           },
           1,
           "Dublin",
           "UTC",
           "IRL"
          ],
          [
           "Christopher Waters",
           10,
           true,
           "person",
           "Christopher Waters",
           "2023-02-18",
           "Part Time",
           [
            "Python",
            "Typescript",
            "Java"
           ],
           "Jeremy Oneill",
           "Support",
           "Analyst",
           {
            "city": "Dublin",
            "country": "IRL",
            "tz": "UTC"
           },
           1,
           "Dublin",
           "UTC",
           "IRL"
          ],
          [
           "Steven Stuart",
           10,
           true,
           "person",
           "Steven Stuart",
           "2022-04-25",
           "Part Time",
           [
            "Python"
           ],
           "Jeremy Oneill",
           "Support",
           "Analyst",
           {
            "city": "Dublin",
            "country": "IRL",
            "tz": "UTC"
           },
           1,
           "Dublin",
           "UTC",
           "IRL"
          ],
          [
           "Jamie Adams",
           10,
           true,
           "person",
           "Jamie Adams",
           "2023-03-02",
           "Full Time",
           [
            "Python",
            "Typescript",
            "Java"
           ],
           "Jeremy Oneill",
           "Support",
           "Analyst",
           {
            "city": "Dublin",
            "country": "IRL",
            "tz": "UTC"
           },
           1,
           "Dublin",
           "UTC",
           "IRL"
          ],
          [
           "Heather Weeks",
           10,
           true,
           "person",
           "Heather Weeks",
           "2020-08-27",
           "Contract",
           [
            "Java"
           ],
           "Jeremy Oneill",
           "Support",
           "Analyst",
           {
            "city": "Dublin",
            "country": "IRL",
            "tz": "UTC"
           },
           1,
           "Dublin",
           "UTC",
           "IRL"
          ],
          [
           "Mary Graham",
           10,
           true,
           "person",
           "Mary Graham",
           "2021-04-15",
           "Full Time",
           [],
           "Jeremy Oneill",
           "Support",
           "Analyst",
           {
            "city": "Dublin",
            "country": "IRL",
            "tz": "UTC"
           },
           1,
           "Dublin",
           "UTC",
           "IRL"
          ],
          [
           "Cody Parker",
           10,
           true,
           "person",
           "Cody Parker",
           "2021-12-17",
           "Full Time",
           [],
           "Christopher Waters",
           "Support",
           "Manager",
           {
            "city": "Dublin",
            "country": "IRL",
            "tz": "UTC"
           },
           2,
           "Dublin",
           "UTC",
           "IRL"
          ],
          [
           "Nicole Wallace",
           10,
           true,
           "person",
           "Nicole Wallace",
           "2022-01-03",
           "Full Time",
           [],
           "Mary Graham",
           "Support",
           "Manager",
           {
            "city": "Dublin",
            "country": "IRL",
            "tz": "UTC"
           },
           2,
           "Dublin",
           "UTC",
           "IRL"
          ]
         ],
         "hovertemplate": "<b>%{hovertext}</b><br><br>country=%{customdata[15]}<br>x=%{x}<br>y=%{y}<br>rank=%{customdata[12]}<br>label=%{customdata[0]}<br>size=%{customdata[1]}<br>person=%{customdata[2]}<br>type=%{customdata[3]}<br>name=%{customdata[4]}<br>hire_date=%{customdata[5]}<br>status=%{customdata[6]}<br>languages=%{customdata[7]}<br>manager=%{customdata[8]}<br>team=%{customdata[9]}<br>title=%{customdata[10]}<br>location=%{customdata[11]}<br>city=%{customdata[13]}<br>tz=%{customdata[14]}<extra></extra>",
         "hovertext": [
          "Dana Frazier",
          "Amanda Moore",
          "Jessica Lara",
          "Jason Williams",
          "Larry Riley",
          "Brian Martinez",
          "Amanda Trevino",
          "Michael Howard",
          "Bobby Watson",
          "Debra Smith",
          "Jesse Sullivan DVM",
          "Alexandra Sullivan",
          "Wendy Ponce",
          "Gabrielle Lozano",
          "Anthony Moreno",
          "Karen Beck",
          "Sherry Carter",
          "Linda Matthews",
          "Jeremy Oneill",
          "Christopher Waters",
          "Steven Stuart",
          "Jamie Adams",
          "Heather Weeks",
          "Mary Graham",
          "Cody Parker",
          "Nicole Wallace"
         ],
         "legendgroup": "IRL",
         "marker": {
          "color": "#ab63fa",
          "size": [
           1,
           1,
           1,
           1,
           2,
           2,
           2,
           2,
           2,
           2,
           2,
           2,
           2,
           3,
           3,
           3,
           3,
           3,
           1,
           1,
           1,
           1,
           1,
           1,
           2,
           2
          ],
          "sizemode": "area",
          "sizeref": 0.0175,
          "symbol": "circle"
         },
         "mode": "markers",
         "name": "IRL",
         "orientation": "v",
         "showlegend": true,
         "type": "scatter",
         "x": [
          0.14079420020417585,
          0.2222537228062517,
          0.18088039980947684,
          0.29870493866832415,
          0.15972604231496607,
          0.24982746197254257,
          0.12417601590843219,
          0.25174927185440954,
          0.28699767498193457,
          0.18569305795641877,
          0.2212231520338583,
          0.3974017863620907,
          0.39831185020653015,
          -0.029593312780175636,
          -0.020494383861592996,
          0.3418189584235303,
          0.11121788249081879,
          0.25047926930828074,
          -0.23641663923076528,
          -0.3587919412569691,
          -0.3081005773068808,
          -0.3222505691533614,
          -0.28122108214460606,
          -0.3010902685127272,
          -0.44822686303877063,
          -0.35605173935835943
         ],
         "xaxis": "x",
         "y": [
          -0.29061259712393533,
          -0.4414718474340596,
          -0.4898267038900588,
          -0.2711257734615915,
          -0.35373515506194797,
          -0.36289130346349363,
          -0.4094381115654117,
          -0.5420528937877309,
          -0.531635298684849,
          -0.5926143871707885,
          -0.6396319592339276,
          -0.2865059849048852,
          -0.24454847776483418,
          0.04728262221991268,
          0.10325267185095229,
          -0.41733726374362207,
          -0.5065656204915132,
          -0.7427174035683983,
          0.10376057277453078,
          0.17727924176414653,
          0.08150709008056252,
          0.12264920448838709,
          0.15286393524316186,
          0.20555940976497822,
          0.23476090958579987,
          0.2782481416890691
         ],
         "yaxis": "y"
        },
        {
         "customdata": [
          [
           "Andrew Townsend",
           10,
           true,
           "person",
           "Andrew Townsend",
           "2022-06-29",
           "Full Time",
           [
            "Java"
           ],
           "Edward Jones",
           "Business",
           "Analyst",
           {
            "city": "New York",
            "country": "USA",
            "tz": "EST"
           },
           1,
           "New York",
           "EST",
           "USA"
          ],
          [
           "Sean Ferguson",
           10,
           true,
           "person",
           "Sean Ferguson",
           "2023-01-13",
           "Full Time",
           [],
           "Gloria Black",
           "Business",
           "Vice President",
           {
            "city": "New York",
            "country": "USA",
            "tz": "EST"
           },
           3,
           "New York",
           "EST",
           "USA"
          ],
          [
           "Yolanda Huber",
           10,
           true,
           "person",
           "Yolanda Huber",
           "2021-07-17",
           "Full Time",
           [
            "Scala"
           ],
           "Susan Boyd",
           "Business",
           "Director",
           {
            "city": "New York",
            "country": "USA",
            "tz": "EST"
           },
           4,
           "New York",
           "EST",
           "USA"
          ],
          [
           "Dale Caldwell",
           10,
           true,
           "person",
           "Dale Caldwell",
           "2022-01-27",
           "Full Time",
           [
            "Typescript",
            "JavaScript",
            "Java"
           ],
           "Susan Boyd",
           "Business",
           "Director",
           {
            "city": "New York",
            "country": "USA",
            "tz": "EST"
           },
           4,
           "New York",
           "EST",
           "USA"
          ],
          [
           "Robert Stevens",
           10,
           true,
           "person",
           "Robert Stevens",
           "2020-11-14",
           "Contract",
           [
            "Typescript",
            "Java"
           ],
           "Natalie Gonzalez",
           "DevX",
           "Engineer",
           {
            "city": "Fort Lauderdale",
            "country": "USA",
            "tz": "EST"
           },
           5,
           "Fort Lauderdale",
           "EST",
           "USA"
          ],
          [
           "Melissa Moore",
           10,
           true,
           "person",
           "Melissa Moore",
           "2022-08-16",
           "Full Time",
           [
            "JavaScript"
           ],
           "Marc Thompson",
           "Business",
           "Director",
           {
            "city": "New York",
            "country": "USA",
            "tz": "EST"
           },
           4,
           "New York",
           "EST",
           "USA"
          ],
          [
           "Natalie Gonzalez",
           10,
           true,
           "person",
           "Natalie Gonzalez",
           "2022-03-18",
           "Full Time",
           [
            "Python",
            "Scala",
            "Java"
           ],
           "Jennifer Willis",
           "DevX",
           "Engineer",
           {
            "city": "Fort Lauderdale",
            "country": "USA",
            "tz": "EST"
           },
           5,
           "Fort Lauderdale",
           "EST",
           "USA"
          ],
          [
           "Ricky Lee",
           10,
           true,
           "person",
           "Ricky Lee",
           "2020-11-21",
           "Part Time",
           [
            "Python",
            "Typescript"
           ],
           "Natalie Gonzalez",
           "DevX",
           "Engineer",
           {
            "city": "Fort Lauderdale",
            "country": "USA",
            "tz": "EST"
           },
           5,
           "Fort Lauderdale",
           "EST",
           "USA"
          ],
          [
           "Jon Dyer",
           10,
           true,
           "person",
           "Jon Dyer",
           "2022-02-22",
           "Full Time",
           [
            "Python",
            "Typescript",
            "JavaScript",
            "Scala"
           ],
           "Natalie Gonzalez",
           "DevX",
           "Engineer",
           {
            "city": "Fort Lauderdale",
            "country": "USA",
            "tz": "EST"
           },
           5,
           "Fort Lauderdale",
           "EST",
           "USA"
          ],
          [
           "Ann Bowman",
           10,
           true,
           "person",
           "Ann Bowman",
           "2022-06-03",
           "Contract",
           [
            "Python",
            "Typescript",
            "JavaScript",
            "Java"
           ],
           "Natalie Gonzalez",
           "DevX",
           "Engineer",
           {
            "city": "Fort Lauderdale",
            "country": "USA",
            "tz": "EST"
           },
           5,
           "Fort Lauderdale",
           "EST",
           "USA"
          ],
          [
           "Janet Flynn",
           10,
           true,
           "person",
           "Janet Flynn",
           "2022-10-04",
           "Full Time",
           [
            "Python",
            "Typescript",
            "JavaScript",
            "Java"
           ],
           "Natalie Gonzalez",
           "DevX",
           "Engineer",
           {
            "city": "Fort Lauderdale",
            "country": "USA",
            "tz": "EST"
           },
           5,
           "Fort Lauderdale",
           "EST",
           "USA"
          ],
          [
           "Michael Baxter",
           10,
           true,
           "person",
           "Michael Baxter",
           "2021-02-18",
           "Full Time",
           [
            "Python",
            "JavaScript",
            "Scala",
            "Java"
           ],
           "Natalie Gonzalez",
           "DevX",
           "Engineer",
           {
            "city": "Fort Lauderdale",
            "country": "USA",
            "tz": "EST"
           },
           5,
           "Fort Lauderdale",
           "EST",
           "USA"
          ],
          [
           "Sara Booth",
           10,
           true,
           "person",
           "Sara Booth",
           "2021-10-31",
           "Full Time",
           [
            "Python",
            "Typescript",
            "JavaScript",
            "Go"
           ],
           "Natalie Gonzalez",
           "DevX",
           "Engineer",
           {
            "city": "Fort Lauderdale",
            "country": "USA",
            "tz": "EST"
           },
           5,
           "Fort Lauderdale",
           "EST",
           "USA"
          ],
          [
           "Lisa Evans",
           10,
           true,
           "person",
           "Lisa Evans",
           "2021-01-24",
           "Part Time",
           [],
           "Natalie Gonzalez",
           "DevX",
           "Engineer",
           {
            "city": "Fort Lauderdale",
            "country": "USA",
            "tz": "EST"
           },
           5,
           "Fort Lauderdale",
           "EST",
           "USA"
          ],
          [
           "Mark Patton",
           10,
           true,
           "person",
           "Mark Patton",
           "2021-04-20",
           "Full Time",
           [
            "Python",
            "JavaScript",
            "Go"
           ],
           "Natalie Gonzalez",
           "DevX",
           "Engineer",
           {
            "city": "Fort Lauderdale",
            "country": "USA",
            "tz": "EST"
           },
           5,
           "Fort Lauderdale",
           "EST",
           "USA"
          ],
          [
           "Ashlee Thomas",
           10,
           true,
           "person",
           "Ashlee Thomas",
           "2022-04-13",
           "Full Time",
           [
            "Go"
           ],
           "Natalie Gonzalez",
           "DevX",
           "Engineer",
           {
            "city": "Fort Lauderdale",
            "country": "USA",
            "tz": "EST"
           },
           5,
           "Fort Lauderdale",
           "EST",
           "USA"
          ],
          [
           "Paula Jordan",
           10,
           true,
           "person",
           "Paula Jordan",
           "2022-09-05",
           "Full Time",
           [],
           "Natalie Gonzalez",
           "DevX",
           "Engineer",
           {
            "city": "Fort Lauderdale",
            "country": "USA",
            "tz": "EST"
           },
           5,
           "Fort Lauderdale",
           "EST",
           "USA"
          ],
          [
           "Julie Ross",
           10,
           true,
           "person",
           "Julie Ross",
           "2021-11-06",
           "Full Time",
           [
            "Python",
            "Typescript"
           ],
           "Natalie Gonzalez",
           "DevX",
           "Engineer",
           {
            "city": "Fort Lauderdale",
            "country": "USA",
            "tz": "EST"
           },
           5,
           "Fort Lauderdale",
           "EST",
           "USA"
          ],
          [
           "Christine Mcdowell",
           10,
           true,
           "person",
           "Christine Mcdowell",
           "2020-07-21",
           "Part Time",
           [
            "Java"
           ],
           "Jennifer Willis",
           "DevX",
           "AVP",
           {
            "city": "Fort Lauderdale",
            "country": "USA",
            "tz": "EST"
           },
           6,
           "Fort Lauderdale",
           "EST",
           "USA"
          ],
          [
           "Jeffrey Little",
           10,
           true,
           "person",
           "Jeffrey Little",
           "2021-10-22",
           "Contract",
           [
            "Elixir",
            "Java"
           ],
           "Natalie Gonzalez",
           "DevX",
           "AVP",
           {
            "city": "Fort Lauderdale",
            "country": "USA",
            "tz": "EST"
           },
           6,
           "Fort Lauderdale",
           "EST",
           "USA"
          ],
          [
           "Grace Williams",
           10,
           true,
           "person",
           "Grace Williams",
           "2021-04-20",
           "Full Time",
           [
            "Python",
            "Typescript"
           ],
           "Ricky Lee",
           "DevX",
           "AVP",
           {
            "city": "Fort Lauderdale",
            "country": "USA",
            "tz": "EST"
           },
           6,
           "Fort Lauderdale",
           "EST",
           "USA"
          ],
          [
           "Kenneth Wright",
           10,
           true,
           "person",
           "Kenneth Wright",
           "2022-10-09",
           "Contract",
           [
            "Java"
           ],
           "Ann Bowman",
           "DevX",
           "AVP",
           {
            "city": "Fort Lauderdale",
            "country": "USA",
            "tz": "EST"
           },
           6,
           "Fort Lauderdale",
           "EST",
           "USA"
          ],
          [
           "Cameron Lawson",
           10,
           true,
           "person",
           "Cameron Lawson",
           "2021-07-30",
           "Contract",
           [],
           "Ann Bowman",
           "DevX",
           "AVP",
           {
            "city": "Fort Lauderdale",
            "country": "USA",
            "tz": "EST"
           },
           6,
           "Fort Lauderdale",
           "EST",
           "USA"
          ],
          [
           "Laura Joseph",
           10,
           true,
           "person",
           "Laura Joseph",
           "2022-08-21",
           "Full Time",
           [],
           "Ann Bowman",
           "DevX",
           "AVP",
           {
            "city": "Fort Lauderdale",
            "country": "USA",
            "tz": "EST"
           },
           6,
           "Fort Lauderdale",
           "EST",
           "USA"
          ],
          [
           "Felicia Lopez",
           10,
           true,
           "person",
           "Felicia Lopez",
           "2021-10-01",
           "Contract",
           [
            "Scala"
           ],
           "Janet Flynn",
           "DevX",
           "AVP",
           {
            "city": "Fort Lauderdale",
            "country": "USA",
            "tz": "EST"
           },
           6,
           "Fort Lauderdale",
           "EST",
           "USA"
          ],
          [
           "Danielle Osborn",
           10,
           true,
           "person",
           "Danielle Osborn",
           "2021-05-24",
           "Contract",
           [
            "Erlang"
           ],
           "Jennifer Willis",
           "Internal Tools",
           "Engineer",
           {
            "city": "Seattle",
            "country": "USA",
            "tz": "PST"
           },
           1,
           "Seattle",
           "PST",
           "USA"
          ],
          [
           "Logan Dillon",
           10,
           true,
           "person",
           "Logan Dillon",
           "2022-02-12",
           "Part Time",
           [
            "Python",
            "Java"
           ],
           "Timothy Shelton",
           "Internal Tools",
           "Senior Engineer",
           {
            "city": "Seattle",
            "country": "USA",
            "tz": "PST"
           },
           2,
           "Seattle",
           "PST",
           "USA"
          ],
          [
           "Michelle Levine",
           10,
           true,
           "person",
           "Michelle Levine",
           "2022-03-11",
           "Contract",
           [
            "Python",
            "JavaScript"
           ],
           "Timothy Shelton",
           "Internal Tools",
           "Senior Engineer",
           {
            "city": "Seattle",
            "country": "USA",
            "tz": "PST"
           },
           2,
           "Seattle",
           "PST",
           "USA"
          ],
          [
           "Vanessa Brewer",
           10,
           true,
           "person",
           "Vanessa Brewer",
           "2022-04-09",
           "Full Time",
           [
            "Python"
           ],
           "Timothy Shelton",
           "Internal Tools",
           "Manager",
           {
            "city": "Seattle",
            "country": "USA",
            "tz": "PST"
           },
           3,
           "Seattle",
           "PST",
           "USA"
          ],
          [
           "Mary Chavez DDS",
           10,
           true,
           "person",
           "Mary Chavez DDS",
           "2022-12-28",
           "Full Time",
           [
            "JavaScript"
           ],
           "Timothy Shelton",
           "Internal Tools",
           "Manager",
           {
            "city": "Seattle",
            "country": "USA",
            "tz": "PST"
           },
           3,
           "Seattle",
           "PST",
           "USA"
          ],
          [
           "Michael Vega",
           10,
           true,
           "person",
           "Michael Vega",
           "2021-07-21",
           "Part Time",
           [
            "Elixir"
           ],
           "Jennifer Willis",
           "Internal Tools",
           "AVP",
           {
            "city": "Seattle",
            "country": "USA",
            "tz": "PST"
           },
           4,
           "Seattle",
           "PST",
           "USA"
          ],
          [
           "Gregory Mcdaniel",
           10,
           true,
           "person",
           "Gregory Mcdaniel",
           "2020-09-10",
           "Full Time",
           [
            "Typescript"
           ],
           "Michael Vega",
           "Internal Tools",
           "VP",
           {
            "city": "Seattle",
            "country": "USA",
            "tz": "PST"
           },
           5,
           "Seattle",
           "PST",
           "USA"
          ],
          [
           "Andrea Gilmore",
           10,
           true,
           "person",
           "Andrea Gilmore",
           "2022-01-19",
           "Full Time",
           [
            "Scala",
            "Java"
           ],
           "Michael Robinson",
           "Internal Tools",
           "VP",
           {
            "city": "Seattle",
            "country": "USA",
            "tz": "PST"
           },
           5,
           "Seattle",
           "PST",
           "USA"
          ],
          [
           "Jonathan Terrell",
           10,
           true,
           "person",
           "Jonathan Terrell",
           "2022-06-21",
           "Full Time",
           [
            "Python",
            "JavaScript"
           ],
           "Hannah Morales",
           "Platform",
           "Engineer",
           {
            "city": "Seattle",
            "country": "USA",
            "tz": "PST"
           },
           1,
           "Seattle",
           "PST",
           "USA"
          ],
          [
           "Janet Chambers",
           10,
           true,
           "person",
           "Janet Chambers",
           "2022-02-25",
           "Full Time",
           [
            "JavaScript",
            "Go",
            "Scala",
            "Java"
           ],
           "Hannah Morales",
           "Platform",
           "Engineer",
           {
            "city": "Seattle",
            "country": "USA",
            "tz": "PST"
           },
           1,
           "Seattle",
           "PST",
           "USA"
          ],
          [
           "Melissa Todd",
           10,
           true,
           "person",
           "Melissa Todd",
           "2023-03-23",
           "Full Time",
           [
            "Go",
            "Java"
           ],
           "Janet Chambers",
           "Platform",
           "Senior Engineer",
           {
            "city": "Seattle",
            "country": "USA",
            "tz": "PST"
           },
           2,
           "Seattle",
           "PST",
           "USA"
          ],
          [
           "Thomas Fisher",
           10,
           true,
           "person",
           "Thomas Fisher",
           "2020-09-26",
           "Full Time",
           [
            "Go",
            "Java"
           ],
           "Jonathan Terrell",
           "Platform",
           "Managing Engineer",
           {
            "city": "Seattle",
            "country": "USA",
            "tz": "PST"
           },
           3,
           "Seattle",
           "PST",
           "USA"
          ],
          [
           "Gary Maldonado",
           10,
           true,
           "person",
           "Gary Maldonado",
           "2021-01-25",
           "Contract",
           [
            "Scala"
           ],
           "Jonathan Terrell",
           "Platform",
           "Managing Engineer",
           {
            "city": "Seattle",
            "country": "USA",
            "tz": "PST"
           },
           3,
           "Seattle",
           "PST",
           "USA"
          ],
          [
           "Carlos Johnson",
           10,
           true,
           "person",
           "Carlos Johnson",
           "2021-08-08",
           "Contract",
           [
            "Typescript",
            "JavaScript"
           ],
           "Hannah Morales",
           "Platform",
           "AVP",
           {
            "city": "Seattle",
            "country": "USA",
            "tz": "PST"
           },
           4,
           "Seattle",
           "PST",
           "USA"
          ],
          [
           "William Robertson",
           10,
           true,
           "person",
           "William Robertson",
           "2022-04-27",
           "Full Time",
           [],
           "Hannah Morales",
           "Platform",
           "AVP",
           {
            "city": "Seattle",
            "country": "USA",
            "tz": "PST"
           },
           4,
           "Seattle",
           "PST",
           "USA"
          ],
          [
           "Elizabeth Cuevas",
           10,
           true,
           "person",
           "Elizabeth Cuevas",
           "2020-08-18",
           "Contract",
           [
            "Typescript",
            "JavaScript"
           ],
           "Gary Maldonado",
           "Platform",
           "AVP",
           {
            "city": "Seattle",
            "country": "USA",
            "tz": "PST"
           },
           4,
           "Seattle",
           "PST",
           "USA"
          ],
          [
           "Amy Hernandez",
           10,
           true,
           "person",
           "Amy Hernandez",
           "2023-04-16",
           "Contract",
           [
            "Java"
           ],
           "William Robertson",
           "Platform",
           "VP",
           {
            "city": "Seattle",
            "country": "USA",
            "tz": "PST"
           },
           5,
           "Seattle",
           "PST",
           "USA"
          ],
          [
           "Javier Andrews",
           10,
           true,
           "person",
           "Javier Andrews",
           "2021-04-04",
           "Part Time",
           [
            "Python",
            "Go",
            "Java"
           ],
           "Jennifer Allen",
           "Product",
           "Engineer",
           {
            "city": "New York",
            "country": "USA",
            "tz": "EST"
           },
           1,
           "New York",
           "EST",
           "USA"
          ],
          [
           "Martha Spencer",
           10,
           true,
           "person",
           "Martha Spencer",
           "2020-11-30",
           "Full Time",
           [
            "Typescript",
            "Scala",
            "Java"
           ],
           "Jennifer Allen",
           "Product",
           "Engineer",
           {
            "city": "New York",
            "country": "USA",
            "tz": "EST"
           },
           1,
           "New York",
           "EST",
           "USA"
          ],
          [
           "Anthony Jackson",
           10,
           true,
           "person",
           "Anthony Jackson",
           "2023-02-06",
           "Contract",
           [],
           "Jennifer Willis",
           "Product",
           "Manager",
           {
            "city": "New York",
            "country": "USA",
            "tz": "EST"
           },
           2,
           "New York",
           "EST",
           "USA"
          ],
          [
           "Micheal Salas",
           10,
           true,
           "person",
           "Micheal Salas",
           "2020-06-11",
           "Contract",
           [
            "Python",
            "Java"
           ],
           "Javier Andrews",
           "Product",
           "Manager",
           {
            "city": "New York",
            "country": "USA",
            "tz": "EST"
           },
           2,
           "New York",
           "EST",
           "USA"
          ],
          [
           "Dean Olson",
           10,
           true,
           "person",
           "Dean Olson",
           "2020-12-24",
           "Full Time",
           [],
           "Martha Spencer",
           "Product",
           "Manager",
           {
            "city": "Seattle",
            "country": "USA",
            "tz": "PST"
           },
           2,
           "Seattle",
           "PST",
           "USA"
          ],
          [
           "Anita Salazar",
           10,
           true,
           "person",
           "Anita Salazar",
           "2020-09-17",
           "Contract",
           [],
           "Thomas Davila",
           "Product",
           "Product Owner",
           {
            "city": "Seattle",
            "country": "USA",
            "tz": "PST"
           },
           3,
           "Seattle",
           "PST",
           "USA"
          ],
          [
           "Brenda Bradley",
           10,
           true,
           "person",
           "Brenda Bradley",
           "2022-01-25",
           "Full Time",
           [
            "Python",
            "Go",
            "Java"
           ],
           "Micheal Salas",
           "Product",
           "Product Owner",
           {
            "city": "New York",
            "country": "USA",
            "tz": "EST"
           },
           3,
           "New York",
           "EST",
           "USA"
          ],
          [
           "Alicia Malone",
           10,
           true,
           "person",
           "Alicia Malone",
           "2020-10-18",
           "Full Time",
           [
            "Typescript",
            "JavaScript",
            "Scala",
            "Java"
           ],
           "Micheal Salas",
           "Product",
           "Product Owner",
           {
            "city": "New York",
            "country": "USA",
            "tz": "EST"
           },
           3,
           "New York",
           "EST",
           "USA"
          ],
          [
           "Sandra Robertson",
           10,
           true,
           "person",
           "Sandra Robertson",
           "2021-06-15",
           "Full Time",
           [
            "JavaScript"
           ],
           "Micheal Salas",
           "Product",
           "Product Owner",
           {
            "city": "Seattle",
            "country": "USA",
            "tz": "PST"
           },
           3,
           "Seattle",
           "PST",
           "USA"
          ],
          [
           "Kaitlin Ryan",
           10,
           true,
           "person",
           "Kaitlin Ryan",
           "2021-11-04",
           "Contract",
           [
            "Go",
            "Java",
            "Python",
            "Typescript",
            "JavaScript"
           ],
           "Micheal Salas",
           "Product",
           "Product Owner",
           {
            "city": "New York",
            "country": "USA",
            "tz": "EST"
           },
           3,
           "New York",
           "EST",
           "USA"
          ],
          [
           "Ashley Drake",
           10,
           true,
           "person",
           "Ashley Drake",
           "2021-03-02",
           "Part Time",
           [
            "Typescript"
           ],
           "Thomas Davila",
           "Product",
           "AVP",
           {
            "city": "New York",
            "country": "USA",
            "tz": "EST"
           },
           4,
           "New York",
           "EST",
           "USA"
          ],
          [
           "Stephanie Malone DDS",
           10,
           true,
           "person",
           "Stephanie Malone DDS",
           "2021-07-11",
           "Part Time",
           [],
           "Anita Salazar",
           "Product",
           "AVP",
           {
            "city": "New York",
            "country": "USA",
            "tz": "EST"
           },
           4,
           "New York",
           "EST",
           "USA"
          ],
          [
           "Wendy Allen",
           10,
           true,
           "person",
           "Wendy Allen",
           "2022-06-09",
           "Full Time",
           [
            "Python"
           ],
           "Jennifer Willis",
           "Product",
           "VP",
           {
            "city": "New York",
            "country": "USA",
            "tz": "EST"
           },
           5,
           "New York",
           "EST",
           "USA"
          ],
          [
           "Walter Martin",
           10,
           true,
           "person",
           "Walter Martin",
           "2022-10-13",
           "Contract",
           [
            "Python",
            "Go",
            "Scala"
           ],
           "Anthony Jackson",
           "Product",
           "VP",
           {
            "city": "New York",
            "country": "USA",
            "tz": "EST"
           },
           5,
           "New York",
           "EST",
           "USA"
          ],
          [
           "Dakota Underwood",
           10,
           true,
           "person",
           "Dakota Underwood",
           "2022-08-10",
           "Full Time",
           [
            "Go"
           ],
           "Stephanie Malone DDS",
           "Product",
           "VP",
           {
            "city": "Seattle",
            "country": "USA",
            "tz": "PST"
           },
           5,
           "Seattle",
           "PST",
           "USA"
          ],
          [
           "Heather Lee",
           10,
           true,
           "person",
           "Heather Lee",
           "2020-07-17",
           "Contract",
           [
            "Go",
            "Java",
            "Python",
            "JavaScript",
            "Scala"
           ],
           "Stephanie Malone DDS",
           "Product",
           "VP",
           {
            "city": "New York",
            "country": "USA",
            "tz": "EST"
           },
           5,
           "New York",
           "EST",
           "USA"
          ],
          [
           "Shelley Elliott",
           10,
           true,
           "person",
           "Shelley Elliott",
           "2023-01-22",
           "Full Time",
           [
            "Typescript",
            "JavaScript",
            "Java"
           ],
           "Jennifer Willis",
           "Sales",
           "Associate",
           {
            "city": "New York",
            "country": "USA",
            "tz": "EST"
           },
           1,
           "New York",
           "EST",
           "USA"
          ],
          [
           "Nathan Ruiz",
           10,
           true,
           "person",
           "Nathan Ruiz",
           "2021-01-06",
           "Part Time",
           [
            "Typescript",
            "JavaScript"
           ],
           "Shelley Elliott",
           "Sales",
           "Associate",
           {
            "city": "New York",
            "country": "USA",
            "tz": "EST"
           },
           1,
           "New York",
           "EST",
           "USA"
          ],
          [
           "Kevin Smith",
           10,
           true,
           "person",
           "Kevin Smith",
           "2021-09-13",
           "Full Time",
           [
            "Python",
            "Typescript",
            "JavaScript",
            "Go"
           ],
           "Shelley Elliott",
           "Sales",
           "Associate",
           {
            "city": "New York",
            "country": "USA",
            "tz": "EST"
           },
           1,
           "New York",
           "EST",
           "USA"
          ],
          [
           "Rebecca Williams",
           10,
           true,
           "person",
           "Rebecca Williams",
           "2022-04-05",
           "Part Time",
           [
            "Python",
            "Typescript"
           ],
           "Shelley Elliott",
           "Sales",
           "Associate",
           {
            "city": "New York",
            "country": "USA",
            "tz": "EST"
           },
           1,
           "New York",
           "EST",
           "USA"
          ],
          [
           "Maria Young",
           10,
           true,
           "person",
           "Maria Young",
           "2022-11-25",
           "Full Time",
           [
            "Typescript",
            "JavaScript",
            "Java"
           ],
           "Shelley Elliott",
           "Sales",
           "Associate",
           {
            "city": "New York",
            "country": "USA",
            "tz": "EST"
           },
           1,
           "New York",
           "EST",
           "USA"
          ],
          [
           "Jessica Fuller",
           10,
           true,
           "person",
           "Jessica Fuller",
           "2021-01-29",
           "Full Time",
           [],
           "Shelley Elliott",
           "Sales",
           "Associate",
           {
            "city": "New York",
            "country": "USA",
            "tz": "EST"
           },
           1,
           "New York",
           "EST",
           "USA"
          ],
          [
           "Robert Roth",
           10,
           true,
           "person",
           "Robert Roth",
           "2022-07-03",
           "Full Time",
           [],
           "Shelley Elliott",
           "Sales",
           "Associate",
           {
            "city": "New York",
            "country": "USA",
            "tz": "EST"
           },
           1,
           "New York",
           "EST",
           "USA"
          ],
          [
           "Steven Deleon",
           10,
           true,
           "person",
           "Steven Deleon",
           "2023-01-18",
           "Full Time",
           [],
           "Shelley Elliott",
           "Sales",
           "Associate",
           {
            "city": "New York",
            "country": "USA",
            "tz": "EST"
           },
           1,
           "New York",
           "EST",
           "USA"
          ],
          [
           "Samantha Thompson",
           10,
           true,
           "person",
           "Samantha Thompson",
           "2023-04-18",
           "Full Time",
           [
            "Python"
           ],
           "Shelley Elliott",
           "Sales",
           "Associate",
           {
            "city": "New York",
            "country": "USA",
            "tz": "EST"
           },
           1,
           "New York",
           "EST",
           "USA"
          ],
          [
           "Eric Williamson",
           10,
           true,
           "person",
           "Eric Williamson",
           "2020-05-18",
           "Full Time",
           [
            "Python",
            "JavaScript"
           ],
           "Shelley Elliott",
           "Sales",
           "Associate",
           {
            "city": "New York",
            "country": "USA",
            "tz": "EST"
           },
           1,
           "New York",
           "EST",
           "USA"
          ],
          [
           "Zachary Johnson",
           10,
           true,
           "person",
           "Zachary Johnson",
           "2021-10-09",
           "Full Time",
           [
            "Python",
            "Typescript",
            "Go"
           ],
           "Shelley Elliott",
           "Sales",
           "Associate",
           {
            "city": "New York",
            "country": "USA",
            "tz": "EST"
           },
           1,
           "New York",
           "EST",
           "USA"
          ],
          [
           "Nicholas Short",
           10,
           true,
           "person",
           "Nicholas Short",
           "2021-11-13",
           "Contract",
           [
            "JavaScript",
            "Java"
           ],
           "Shelley Elliott",
           "Sales",
           "Associate",
           {
            "city": "New York",
            "country": "USA",
            "tz": "EST"
           },
           1,
           "New York",
           "EST",
           "USA"
          ],
          [
           "Whitney Smith",
           10,
           true,
           "person",
           "Whitney Smith",
           "2020-11-26",
           "Contract",
           [
            "Typescript"
           ],
           "Shelley Elliott",
           "Sales",
           "Associate",
           {
            "city": "New York",
            "country": "USA",
            "tz": "EST"
           },
           1,
           "New York",
           "EST",
           "USA"
          ],
          [
           "Brittany Harrison",
           10,
           true,
           "person",
           "Brittany Harrison",
           "2022-03-03",
           "Contract",
           [
            "Python",
            "Java"
           ],
           "Shelley Elliott",
           "Sales",
           "Associate",
           {
            "city": "New York",
            "country": "USA",
            "tz": "EST"
           },
           1,
           "New York",
           "EST",
           "USA"
          ],
          [
           "Michael Watkins",
           10,
           true,
           "person",
           "Michael Watkins",
           "2023-04-22",
           "Full Time",
           [],
           "Shelley Elliott",
           "Sales",
           "Associate",
           {
            "city": "New York",
            "country": "USA",
            "tz": "EST"
           },
           1,
           "New York",
           "EST",
           "USA"
          ],
          [
           "Jennifer Willis",
           10,
           true,
           "person",
           "Jennifer Willis",
           "2020-11-19",
           "Full Time",
           [
            "JavaScript"
           ],
           "Jennifer Willis",
           "CEO",
           "CEO",
           {
            "city": "New York",
            "country": "USA",
            "tz": "EST"
           },
           7,
           "New York",
           "EST",
           "USA"
          ]
         ],
         "hovertemplate": "<b>%{hovertext}</b><br><br>country=%{customdata[15]}<br>x=%{x}<br>y=%{y}<br>rank=%{customdata[12]}<br>label=%{customdata[0]}<br>size=%{customdata[1]}<br>person=%{customdata[2]}<br>type=%{customdata[3]}<br>name=%{customdata[4]}<br>hire_date=%{customdata[5]}<br>status=%{customdata[6]}<br>languages=%{customdata[7]}<br>manager=%{customdata[8]}<br>team=%{customdata[9]}<br>title=%{customdata[10]}<br>location=%{customdata[11]}<br>city=%{customdata[13]}<br>tz=%{customdata[14]}<extra></extra>",
         "hovertext": [
          "Andrew Townsend",
          "Sean Ferguson",
          "Yolanda Huber",
          "Dale Caldwell",
          "Robert Stevens",
          "Melissa Moore",
          "Natalie Gonzalez",
          "Ricky Lee",
          "Jon Dyer",
          "Ann Bowman",
          "Janet Flynn",
          "Michael Baxter",
          "Sara Booth",
          "Lisa Evans",
          "Mark Patton",
          "Ashlee Thomas",
          "Paula Jordan",
          "Julie Ross",
          "Christine Mcdowell",
          "Jeffrey Little",
          "Grace Williams",
          "Kenneth Wright",
          "Cameron Lawson",
          "Laura Joseph",
          "Felicia Lopez",
          "Danielle Osborn",
          "Logan Dillon",
          "Michelle Levine",
          "Vanessa Brewer",
          "Mary Chavez DDS",
          "Michael Vega",
          "Gregory Mcdaniel",
          "Andrea Gilmore",
          "Jonathan Terrell",
          "Janet Chambers",
          "Melissa Todd",
          "Thomas Fisher",
          "Gary Maldonado",
          "Carlos Johnson",
          "William Robertson",
          "Elizabeth Cuevas",
          "Amy Hernandez",
          "Javier Andrews",
          "Martha Spencer",
          "Anthony Jackson",
          "Micheal Salas",
          "Dean Olson",
          "Anita Salazar",
          "Brenda Bradley",
          "Alicia Malone",
          "Sandra Robertson",
          "Kaitlin Ryan",
          "Ashley Drake",
          "Stephanie Malone DDS",
          "Wendy Allen",
          "Walter Martin",
          "Dakota Underwood",
          "Heather Lee",
          "Shelley Elliott",
          "Nathan Ruiz",
          "Kevin Smith",
          "Rebecca Williams",
          "Maria Young",
          "Jessica Fuller",
          "Robert Roth",
          "Steven Deleon",
          "Samantha Thompson",
          "Eric Williamson",
          "Zachary Johnson",
          "Nicholas Short",
          "Whitney Smith",
          "Brittany Harrison",
          "Michael Watkins",
          "Jennifer Willis"
         ],
         "legendgroup": "USA",
         "marker": {
          "color": "#00cc96",
          "size": [
           1,
           3,
           4,
           4,
           5,
           4,
           5,
           5,
           5,
           5,
           5,
           5,
           5,
           5,
           5,
           5,
           5,
           5,
           6,
           6,
           6,
           6,
           6,
           6,
           6,
           1,
           2,
           2,
           3,
           3,
           4,
           5,
           5,
           1,
           1,
           2,
           3,
           3,
           4,
           4,
           4,
           5,
           1,
           1,
           2,
           2,
           2,
           3,
           3,
           3,
           3,
           3,
           4,
           4,
           5,
           5,
           5,
           5,
           1,
           1,
           1,
           1,
           1,
           1,
           1,
           1,
           1,
           1,
           1,
           1,
           1,
           1,
           1,
           7
          ],
          "sizemode": "area",
          "sizeref": 0.0175,
          "symbol": "circle"
         },
         "mode": "markers",
         "name": "USA",
         "orientation": "v",
         "showlegend": true,
         "type": "scatter",
         "x": [
          0.416775795049919,
          0.5947608231730531,
          0.6627326871454887,
          0.6311282272189911,
          -0.17614731967137442,
          0.9014273533705297,
          -0.20701429379341407,
          -0.2885049560920869,
          -0.15122557195687436,
          -0.2423998162132219,
          -0.330591551120827,
          -0.28889106073454235,
          -0.2821516111883376,
          -0.1891177975967976,
          -0.2303215703030861,
          -0.3144795641537963,
          -0.2493827043481188,
          -0.2810405661959041,
          -0.11460502830688352,
          -0.2183063720097797,
          -0.3507378856383688,
          -0.23091829157802285,
          -0.2989202399507893,
          -0.2665428056136452,
          -0.4149389345697224,
          0.125011755752775,
          -0.4635444999130868,
          -0.352674031334194,
          -0.3156240866174043,
          -0.35382182033795895,
          -0.0528415990420343,
          -0.06321247421294905,
          -0.884809975506451,
          -0.5969336822632402,
          -0.5253644469420979,
          -0.6112173738021214,
          -0.6941242258577323,
          -0.7391960894079468,
          -0.48828843551059103,
          -0.6268117129970348,
          -0.8404031304060711,
          -0.7203224855493289,
          0.470206890322442,
          0.33515824118335386,
          0.023317066155789205,
          0.6803071408257559,
          0.4076191099346691,
          0.45981854956855633,
          0.7828997772253241,
          0.7504559290151379,
          0.7881870000148729,
          0.7789343287120167,
          0.34004336162049953,
          0.5504206930184504,
          -0.10505508732147988,
          0.08226265132993837,
          0.6069086542945734,
          0.6005466569036102,
          -0.07496221022066786,
          -0.06389986123661477,
          -0.1919659059444525,
          -0.15437080450314963,
          -0.07319193059394424,
          -0.09555501367242032,
          -0.05619847378338617,
          -0.14871283424344608,
          0.0029258303411427203,
          -0.1213087080866873,
          -0.20724479593036715,
          -0.12020495669497301,
          0.05091075227929752,
          0.02094046769426403,
          0.02094465042435399,
          -0.04984870881439013
         ],
         "xaxis": "x",
         "y": [
          0.258271243598251,
          0.4335881451643661,
          0.211571643897464,
          0.27108983393240793,
          -0.5319968050977546,
          0.30898328300728223,
          -0.4168513610174737,
          -0.5642570580562092,
          -0.4887254136518349,
          -0.6456012665066526,
          -0.5307993465052222,
          -0.4649915993391571,
          -0.4965522053362977,
          -0.4987285642814683,
          -0.48138707453587964,
          -0.4419666278506866,
          -0.5161843234225514,
          -0.41901005404728725,
          -0.04595333904223306,
          -0.5362133656430267,
          -0.6633245035608704,
          -0.7601483933253604,
          -0.7486594530482933,
          -0.7633480243335681,
          -0.6123870510706736,
          -0.01157948386687148,
          -0.1616124448574933,
          -0.17268985320484,
          -0.18808365977831518,
          -0.13115716382960196,
          -0.12144137048746455,
          -0.19799434680434838,
          -0.17913314648597697,
          -0.06395731937426041,
          0.056788632133385,
          0.1098779929110372,
          -0.08602572283615836,
          -0.11006185797127521,
          -0.039465554686610296,
          0.04656846039742705,
          -0.13918319185505654,
          0.11371291683307604,
          -0.2894889779301228,
          -0.2737655791730787,
          -0.07119330833971042,
          -0.3711439713838873,
          -0.3321839029130925,
          -0.5097909038614881,
          -0.36289841383895605,
          -0.44558312209242185,
          -0.39644495384544337,
          -0.42780642661402557,
          -0.46749566487213273,
          -0.61859325097721,
          0.009942239445360091,
          -0.11420521909774088,
          -0.7084187394197365,
          -0.5924984961933413,
          0.5189981581460983,
          0.6292734902483592,
          0.50468890326857,
          0.4694197316929108,
          0.6751460629724596,
          0.6575625660166101,
          0.576921329729018,
          0.6550573523172698,
          0.4788350398573944,
          0.6250027610811204,
          0.541191368555263,
          0.6696079289054193,
          0.5481563297689357,
          0.6397255274512049,
          0.558577732797708,
          -0.016369851063875538
         ],
         "yaxis": "y"
        },
        {
         "customdata": [
          [
           "Laura Miles",
           10,
           true,
           "person",
           "Laura Miles",
           "2022-03-08",
           "Full Time",
           [
            "Python",
            "Typescript",
            "JavaScript",
            "Java"
           ],
           "Edward Jones",
           "Business",
           "Analyst",
           {
            "city": "Toronto",
            "country": "CAN",
            "tz": "EST"
           },
           1,
           "Toronto",
           "EST",
           "CAN"
          ],
          [
           "Joseph Lowe",
           10,
           true,
           "person",
           "Joseph Lowe",
           "2021-02-03",
           "Full Time",
           [
            "Python",
            "Java"
           ],
           "Edward Jones",
           "Business",
           "Analyst",
           {
            "city": "Toronto",
            "country": "CAN",
            "tz": "EST"
           },
           1,
           "Toronto",
           "EST",
           "CAN"
          ],
          [
           "Susan Boyd",
           10,
           true,
           "person",
           "Susan Boyd",
           "2022-04-16",
           "Full Time",
           [
            "JavaScript",
            "Go"
           ],
           "Edward Jones",
           "Business",
           "Associate",
           {
            "city": "Toronto",
            "country": "CAN",
            "tz": "EST"
           },
           2,
           "Toronto",
           "EST",
           "CAN"
          ],
          [
           "Gloria Black",
           10,
           true,
           "person",
           "Gloria Black",
           "2022-11-04",
           "Full Time",
           [
            "Python",
            "JavaScript",
            "Scala"
           ],
           "Andrew Townsend",
           "Business",
           "Associate",
           {
            "city": "Toronto",
            "country": "CAN",
            "tz": "EST"
           },
           2,
           "Toronto",
           "EST",
           "CAN"
          ],
          [
           "Timothy Shelton",
           10,
           true,
           "person",
           "Timothy Shelton",
           "2023-02-28",
           "Full Time",
           [
            "Python",
            "JavaScript",
            "Scala",
            "Java"
           ],
           "Jennifer Willis",
           "Internal Tools",
           "Senior Engineer",
           {
            "city": "Toronto",
            "country": "CAN",
            "tz": "EST"
           },
           2,
           "Toronto",
           "EST",
           "CAN"
          ],
          [
           "Lindsey Barrera",
           10,
           true,
           "person",
           "Lindsey Barrera",
           "2022-06-15",
           "Full Time",
           [
            "Python",
            "Java"
           ],
           "Danielle Osborn",
           "Internal Tools",
           "Senior Engineer",
           {
            "city": "Toronto",
            "country": "CAN",
            "tz": "EST"
           },
           2,
           "Toronto",
           "EST",
           "CAN"
          ],
          [
           "Jeanette Lozano",
           10,
           true,
           "person",
           "Jeanette Lozano",
           "2023-01-10",
           "Full Time",
           [
            "Java"
           ],
           "Danielle Osborn",
           "Internal Tools",
           "Senior Engineer",
           {
            "city": "Toronto",
            "country": "CAN",
            "tz": "EST"
           },
           2,
           "Toronto",
           "EST",
           "CAN"
          ],
          [
           "Douglas Ponce",
           10,
           true,
           "person",
           "Douglas Ponce",
           "2022-04-05",
           "Contract",
           [],
           "Logan Dillon",
           "Internal Tools",
           "Manager",
           {
            "city": "Toronto",
            "country": "CAN",
            "tz": "EST"
           },
           3,
           "Toronto",
           "EST",
           "CAN"
          ],
          [
           "Calvin Stout",
           10,
           true,
           "person",
           "Calvin Stout",
           "2022-08-14",
           "Full Time",
           [
            "Typescript",
            "JavaScript",
            "Scala"
           ],
           "Lindsey Barrera",
           "Internal Tools",
           "Manager",
           {
            "city": "Toronto",
            "country": "CAN",
            "tz": "EST"
           },
           3,
           "Toronto",
           "EST",
           "CAN"
          ],
          [
           "Michael Robinson",
           10,
           true,
           "person",
           "Michael Robinson",
           "2023-02-13",
           "Full Time",
           [
            "Java",
            "Python",
            "Typescript",
            "JavaScript",
            "Scala"
           ],
           "Douglas Ponce",
           "Internal Tools",
           "AVP",
           {
            "city": "Toronto",
            "country": "CAN",
            "tz": "EST"
           },
           4,
           "Toronto",
           "EST",
           "CAN"
          ],
          [
           "Joseph Garcia",
           10,
           true,
           "person",
           "Joseph Garcia",
           "2023-01-03",
           "Full Time",
           [
            "Python"
           ],
           "Jennifer Willis",
           "Internal Tools",
           "VP",
           {
            "city": "Toronto",
            "country": "CAN",
            "tz": "EST"
           },
           5,
           "Toronto",
           "EST",
           "CAN"
          ],
          [
           "Hannah Morales",
           10,
           true,
           "person",
           "Hannah Morales",
           "2023-03-08",
           "Full Time",
           [
            "Python"
           ],
           "Jennifer Willis",
           "Platform",
           "Engineer",
           {
            "city": "Toronto",
            "country": "CAN",
            "tz": "EST"
           },
           1,
           "Toronto",
           "EST",
           "CAN"
          ],
          [
           "Lawrence Jackson",
           10,
           true,
           "person",
           "Lawrence Jackson",
           "2021-01-29",
           "Full Time",
           [
            "JavaScript",
            "Java"
           ],
           "Hannah Morales",
           "Platform",
           "AVP",
           {
            "city": "Toronto",
            "country": "CAN",
            "tz": "EST"
           },
           4,
           "Toronto",
           "EST",
           "CAN"
          ],
          [
           "Crystal Bender",
           10,
           true,
           "person",
           "Crystal Bender",
           "2021-08-25",
           "Contract",
           [
            "JavaScript",
            "Java"
           ],
           "William Robertson",
           "Platform",
           "VP",
           {
            "city": "Toronto",
            "country": "CAN",
            "tz": "EST"
           },
           5,
           "Toronto",
           "EST",
           "CAN"
          ],
          [
           "Kathleen Mcfarland",
           10,
           true,
           "person",
           "Kathleen Mcfarland",
           "2020-08-30",
           "Contract",
           [
            "Python",
            "Typescript",
            "JavaScript",
            "Java"
           ],
           "William Robertson",
           "Platform",
           "VP",
           {
            "city": "Toronto",
            "country": "CAN",
            "tz": "EST"
           },
           5,
           "Toronto",
           "EST",
           "CAN"
          ],
          [
           "Katrina Fritz",
           10,
           true,
           "person",
           "Katrina Fritz",
           "2022-08-10",
           "Full Time",
           [
            "Java"
           ],
           "William Robertson",
           "Platform",
           "VP",
           {
            "city": "Toronto",
            "country": "CAN",
            "tz": "EST"
           },
           5,
           "Toronto",
           "EST",
           "CAN"
          ],
          [
           "Jennifer Allen",
           10,
           true,
           "person",
           "Jennifer Allen",
           "2022-01-20",
           "Full Time",
           [
            "Java"
           ],
           "Jennifer Willis",
           "Product",
           "Engineer",
           {
            "city": "Toronto",
            "country": "CAN",
            "tz": "EST"
           },
           1,
           "Toronto",
           "EST",
           "CAN"
          ],
          [
           "Thomas Davila",
           10,
           true,
           "person",
           "Thomas Davila",
           "2022-12-06",
           "Full Time",
           [
            "Python",
            "Java"
           ],
           "Jennifer Allen",
           "Product",
           "Manager",
           {
            "city": "Toronto",
            "country": "CAN",
            "tz": "EST"
           },
           2,
           "Toronto",
           "EST",
           "CAN"
          ],
          [
           "Brittany Murphy",
           10,
           true,
           "person",
           "Brittany Murphy",
           "2020-09-18",
           "Full Time",
           [],
           "Stephanie Malone DDS",
           "Product",
           "VP",
           {
            "city": "Toronto",
            "country": "CAN",
            "tz": "EST"
           },
           5,
           "Toronto",
           "EST",
           "CAN"
          ],
          [
           "Jared Rose",
           10,
           true,
           "person",
           "Jared Rose",
           "2023-01-07",
           "Full Time",
           [
            "Python",
            "JavaScript"
           ],
           "Shelley Elliott",
           "Sales",
           "Associate",
           {
            "city": "Toronto",
            "country": "CAN",
            "tz": "EST"
           },
           1,
           "Toronto",
           "EST",
           "CAN"
          ],
          [
           "Todd Aguilar",
           10,
           true,
           "person",
           "Todd Aguilar",
           "2020-04-24",
           "Full Time",
           [],
           "Shelley Elliott",
           "Sales",
           "Associate",
           {
            "city": "Toronto",
            "country": "CAN",
            "tz": "EST"
           },
           1,
           "Toronto",
           "EST",
           "CAN"
          ],
          [
           "James Lindsey",
           10,
           true,
           "person",
           "James Lindsey",
           "2021-11-28",
           "Contract",
           [
            "Java",
            "Python",
            "Typescript",
            "JavaScript",
            "Scala"
           ],
           "Shelley Elliott",
           "Sales",
           "Associate",
           {
            "city": "Toronto",
            "country": "CAN",
            "tz": "EST"
           },
           1,
           "Toronto",
           "EST",
           "CAN"
          ],
          [
           "Michelle Johnson",
           10,
           true,
           "person",
           "Michelle Johnson",
           "2022-05-16",
           "Full Time",
           [
            "Python",
            "Typescript",
            "Go",
            "Java"
           ],
           "Shelley Elliott",
           "Sales",
           "Associate",
           {
            "city": "Toronto",
            "country": "CAN",
            "tz": "EST"
           },
           1,
           "Toronto",
           "EST",
           "CAN"
          ],
          [
           "Mrs. Christina Molina MD",
           10,
           true,
           "person",
           "Mrs. Christina Molina MD",
           "2022-01-26",
           "Full Time",
           [
            "JavaScript",
            "Go",
            "Java"
           ],
           "Shelley Elliott",
           "Sales",
           "Associate",
           {
            "city": "Toronto",
            "country": "CAN",
            "tz": "EST"
           },
           1,
           "Toronto",
           "EST",
           "CAN"
          ],
          [
           "Mike Page",
           10,
           true,
           "person",
           "Mike Page",
           "2023-01-25",
           "Part Time",
           [
            "Python",
            "JavaScript",
            "Java"
           ],
           "Shelley Elliott",
           "Sales",
           "Associate",
           {
            "city": "Toronto",
            "country": "CAN",
            "tz": "EST"
           },
           1,
           "Toronto",
           "EST",
           "CAN"
          ],
          [
           "Elizabeth Weaver",
           10,
           true,
           "person",
           "Elizabeth Weaver",
           "2022-03-13",
           "Full Time",
           [],
           "Shelley Elliott",
           "Sales",
           "Associate",
           {
            "city": "Toronto",
            "country": "CAN",
            "tz": "EST"
           },
           1,
           "Toronto",
           "EST",
           "CAN"
          ],
          [
           "Ashley Santiago",
           10,
           true,
           "person",
           "Ashley Santiago",
           "2020-08-17",
           "Contract",
           [
            "Scala"
           ],
           "Shelley Elliott",
           "Sales",
           "Associate",
           {
            "city": "Toronto",
            "country": "CAN",
            "tz": "EST"
           },
           1,
           "Toronto",
           "EST",
           "CAN"
          ]
         ],
         "hovertemplate": "<b>%{hovertext}</b><br><br>country=%{customdata[15]}<br>x=%{x}<br>y=%{y}<br>rank=%{customdata[12]}<br>label=%{customdata[0]}<br>size=%{customdata[1]}<br>person=%{customdata[2]}<br>type=%{customdata[3]}<br>name=%{customdata[4]}<br>hire_date=%{customdata[5]}<br>status=%{customdata[6]}<br>languages=%{customdata[7]}<br>manager=%{customdata[8]}<br>team=%{customdata[9]}<br>title=%{customdata[10]}<br>location=%{customdata[11]}<br>city=%{customdata[13]}<br>tz=%{customdata[14]}<extra></extra>",
         "hovertext": [
          "Laura Miles",
          "Joseph Lowe",
          "Susan Boyd",
          "Gloria Black",
          "Timothy Shelton",
          "Lindsey Barrera",
          "Jeanette Lozano",
          "Douglas Ponce",
          "Calvin Stout",
          "Michael Robinson",
          "Joseph Garcia",
          "Hannah Morales",
          "Lawrence Jackson",
          "Crystal Bender",
          "Kathleen Mcfarland",
          "Katrina Fritz",
          "Jennifer Allen",
          "Thomas Davila",
          "Brittany Murphy",
          "Jared Rose",
          "Todd Aguilar",
          "James Lindsey",
          "Michelle Johnson",
          "Mrs. Christina Molina MD",
          "Mike Page",
          "Elizabeth Weaver",
          "Ashley Santiago"
         ],
         "legendgroup": "CAN",
         "marker": {
          "color": "#EF553B",
          "size": [
           1,
           1,
           2,
           2,
           2,
           2,
           2,
           3,
           3,
           4,
           5,
           1,
           4,
           5,
           5,
           5,
           1,
           2,
           5,
           1,
           1,
           1,
           1,
           1,
           1,
           1,
           1
          ],
          "sizemode": "area",
          "sizeref": 0.0175,
          "symbol": "circle"
         },
         "mode": "markers",
         "name": "CAN",
         "orientation": "v",
         "showlegend": true,
         "type": "scatter",
         "x": [
          0.34700795726445216,
          0.3694878803200301,
          0.5562267517736644,
          0.5187249536423474,
          -0.2752939371698346,
          0.26535443042796003,
          0.20055955272712245,
          -0.6333266849984981,
          0.3705659404562296,
          -0.7768884739020843,
          -0.07456290888215958,
          -0.40365784660710513,
          -0.49231304853488406,
          -0.7309302339603031,
          -0.741542259099848,
          -0.7174374858866894,
          0.2347204141217865,
          0.3464825610676745,
          0.5908673000652562,
          -0.15257322362214007,
          0.04790394422340642,
          -0.20038333061460276,
          -0.16022816618869293,
          0.022692002724059575,
          -0.17784490081346804,
          -0.004183173839234998,
          -0.014518087564380174
         ],
         "xaxis": "x",
         "y": [
          0.18609264004021603,
          0.1445181241158191,
          0.2045323201876112,
          0.36036982303912884,
          -0.11459976902444674,
          -0.0005278633241424373,
          -0.017994866159917525,
          -0.19029733095953463,
          0.007556503842702104,
          -0.18873564472663515,
          -0.07467601817331494,
          -0.004275890775212615,
          0.004889017552844192,
          0.08358543479834313,
          0.05246135805108304,
          0.028074438493638068,
          -0.20535137260740519,
          -0.37787188188681975,
          -0.6383130984461901,
          0.6157117623730876,
          0.5896585480733048,
          0.5729443919356022,
          0.5819458512803458,
          0.6029219492627583,
          0.6345791697968429,
          0.6224753209494055,
          0.5809912845112885
         ],
         "yaxis": "y"
        },
        {
         "customdata": [
          [
           "Edward Jones",
           10,
           true,
           "person",
           "Edward Jones",
           "2021-05-04",
           "Full Time",
           [
            "Typescript",
            "JavaScript",
            "Java"
           ],
           "Jennifer Willis",
           "Business",
           "Analyst",
           {
            "city": "London",
            "country": "GBR",
            "tz": "UTC"
           },
           1,
           "London",
           "UTC",
           "GBR"
          ],
          [
           "Michael Richardson",
           10,
           true,
           "person",
           "Michael Richardson",
           "2020-09-14",
           "Contract",
           [],
           "Edward Jones",
           "Business",
           "Analyst",
           {
            "city": "London",
            "country": "GBR",
            "tz": "UTC"
           },
           1,
           "London",
           "UTC",
           "GBR"
          ],
          [
           "Christopher Harrison",
           10,
           true,
           "person",
           "Christopher Harrison",
           "2023-03-25",
           "Full Time",
           [
            "Python",
            "JavaScript"
           ],
           "Andrew Townsend",
           "Business",
           "Associate",
           {
            "city": "London",
            "country": "GBR",
            "tz": "UTC"
           },
           2,
           "London",
           "UTC",
           "GBR"
          ],
          [
           "Allison Sanchez",
           10,
           true,
           "person",
           "Allison Sanchez",
           "2022-01-22",
           "Full Time",
           [],
           "Michael Richardson",
           "Business",
           "Associate",
           {
            "city": "London",
            "country": "GBR",
            "tz": "UTC"
           },
           2,
           "London",
           "UTC",
           "GBR"
          ],
          [
           "Victor Smith",
           10,
           true,
           "person",
           "Victor Smith",
           "2023-04-19",
           "Contract",
           [
            "Python",
            "Typescript",
            "JavaScript",
            "Java"
           ],
           "Michael Richardson",
           "Business",
           "Associate",
           {
            "city": "London",
            "country": "GBR",
            "tz": "UTC"
           },
           2,
           "London",
           "UTC",
           "GBR"
          ],
          [
           "Renee Edwards",
           10,
           true,
           "person",
           "Renee Edwards",
           "2020-09-18",
           "Contract",
           [
            "Java",
            "Python",
            "Typescript",
            "JavaScript",
            "Scala"
           ],
           "Michael Richardson",
           "Business",
           "Associate",
           {
            "city": "London",
            "country": "GBR",
            "tz": "UTC"
           },
           2,
           "London",
           "UTC",
           "GBR"
          ],
          [
           "Taylor Blair",
           10,
           true,
           "person",
           "Taylor Blair",
           "2020-11-05",
           "Full Time",
           [
            "Python",
            "Scala",
            "Java"
           ],
           "Susan Boyd",
           "Business",
           "Vice President",
           {
            "city": "London",
            "country": "GBR",
            "tz": "UTC"
           },
           3,
           "London",
           "UTC",
           "GBR"
          ],
          [
           "Erin Lyons",
           10,
           true,
           "person",
           "Erin Lyons",
           "2023-03-11",
           "Full Time",
           [
            "JavaScript",
            "Java"
           ],
           "Susan Boyd",
           "Business",
           "Vice President",
           {
            "city": "London",
            "country": "GBR",
            "tz": "UTC"
           },
           3,
           "London",
           "UTC",
           "GBR"
          ],
          [
           "Marc Thompson",
           10,
           true,
           "person",
           "Marc Thompson",
           "2020-09-22",
           "Part Time",
           [],
           "Susan Boyd",
           "Business",
           "Vice President",
           {
            "city": "London",
            "country": "GBR",
            "tz": "UTC"
           },
           3,
           "London",
           "UTC",
           "GBR"
          ],
          [
           "Kyle Saunders",
           10,
           true,
           "person",
           "Kyle Saunders",
           "2020-10-22",
           "Full Time",
           [
            "Python",
            "Typescript"
           ],
           "Melissa Moore",
           "Business",
           "Managing Director",
           {
            "city": "London",
            "country": "GBR",
            "tz": "UTC"
           },
           5,
           "London",
           "UTC",
           "GBR"
          ],
          [
           "Jared Kramer",
           10,
           true,
           "person",
           "Jared Kramer",
           "2023-02-10",
           "Full Time",
           [],
           "Melissa Moore",
           "Business",
           "Managing Director",
           {
            "city": "London",
            "country": "GBR",
            "tz": "UTC"
           },
           5,
           "London",
           "UTC",
           "GBR"
          ],
          [
           "Joe Jackson",
           10,
           true,
           "person",
           "Joe Jackson",
           "2023-03-13",
           "Full Time",
           [
            "Python",
            "Typescript"
           ],
           "Shelley Elliott",
           "Sales",
           "Associate",
           {
            "city": "London",
            "country": "GBR",
            "tz": "UTC"
           },
           1,
           "London",
           "UTC",
           "GBR"
          ],
          [
           "Sara Andrews",
           10,
           true,
           "person",
           "Sara Andrews",
           "2022-04-15",
           "Contract",
           [
            "Typescript",
            "Java"
           ],
           "Shelley Elliott",
           "Sales",
           "Associate",
           {
            "city": "London",
            "country": "GBR",
            "tz": "UTC"
           },
           1,
           "London",
           "UTC",
           "GBR"
          ],
          [
           "Whitney Jenkins",
           10,
           true,
           "person",
           "Whitney Jenkins",
           "2021-06-01",
           "Full Time",
           [
            "Python",
            "JavaScript"
           ],
           "Shelley Elliott",
           "Sales",
           "Associate",
           {
            "city": "London",
            "country": "GBR",
            "tz": "UTC"
           },
           1,
           "London",
           "UTC",
           "GBR"
          ],
          [
           "Robin Sparks",
           10,
           true,
           "person",
           "Robin Sparks",
           "2021-08-03",
           "Full Time",
           [
            "Python",
            "Go",
            "Java"
           ],
           "Shelley Elliott",
           "Sales",
           "Associate",
           {
            "city": "London",
            "country": "GBR",
            "tz": "UTC"
           },
           1,
           "London",
           "UTC",
           "GBR"
          ],
          [
           "Shawn Bowers",
           10,
           true,
           "person",
           "Shawn Bowers",
           "2021-11-20",
           "Full Time",
           [
            "Typescript",
            "JavaScript",
            "Go"
           ],
           "Shelley Elliott",
           "Sales",
           "Associate",
           {
            "city": "London",
            "country": "GBR",
            "tz": "UTC"
           },
           1,
           "London",
           "UTC",
           "GBR"
          ],
          [
           "Kelly Wells",
           10,
           true,
           "person",
           "Kelly Wells",
           "2021-05-05",
           "Full Time",
           [
            "Python",
            "Scala",
            "JavaScript",
            "Go"
           ],
           "Shelley Elliott",
           "Sales",
           "Associate",
           {
            "city": "London",
            "country": "GBR",
            "tz": "UTC"
           },
           1,
           "London",
           "UTC",
           "GBR"
          ],
          [
           "Sandra Lamb",
           10,
           true,
           "person",
           "Sandra Lamb",
           "2021-12-20",
           "Full Time",
           [
            "JavaScript"
           ],
           "Shelley Elliott",
           "Sales",
           "Associate",
           {
            "city": "London",
            "country": "GBR",
            "tz": "UTC"
           },
           1,
           "London",
           "UTC",
           "GBR"
          ],
          [
           "Kyle Smith",
           10,
           true,
           "person",
           "Kyle Smith",
           "2020-09-26",
           "Full Time",
           [
            "JavaScript"
           ],
           "Shelley Elliott",
           "Sales",
           "Associate",
           {
            "city": "London",
            "country": "GBR",
            "tz": "UTC"
           },
           1,
           "London",
           "UTC",
           "GBR"
          ],
          [
           "Scott Johnson",
           10,
           true,
           "person",
           "Scott Johnson",
           "2023-03-17",
           "Full Time",
           [
            "Go",
            "Java",
            "Python",
            "JavaScript",
            "Scala"
           ],
           "Shelley Elliott",
           "Sales",
           "Associate",
           {
            "city": "London",
            "country": "GBR",
            "tz": "UTC"
           },
           1,
           "London",
           "UTC",
           "GBR"
          ],
          [
           "Robert Harris",
           10,
           true,
           "person",
           "Robert Harris",
           "2022-07-04",
           "Full Time",
           [
            "Typescript",
            "JavaScript",
            "Java"
           ],
           "Shelley Elliott",
           "Sales",
           "Associate",
           {
            "city": "London",
            "country": "GBR",
            "tz": "UTC"
           },
           1,
           "London",
           "UTC",
           "GBR"
          ],
          [
           "Derek Knight",
           10,
           true,
           "person",
           "Derek Knight",
           "2022-01-04",
           "Full Time",
           [
            "Go",
            "Scala"
           ],
           "Shelley Elliott",
           "Sales",
           "Associate",
           {
            "city": "London",
            "country": "GBR",
            "tz": "UTC"
           },
           1,
           "London",
           "UTC",
           "GBR"
          ],
          [
           "Brianna Shaw",
           10,
           true,
           "person",
           "Brianna Shaw",
           "2021-10-25",
           "Contract",
           [
            "JavaScript",
            "Java"
           ],
           "Shelley Elliott",
           "Sales",
           "Associate",
           {
            "city": "London",
            "country": "GBR",
            "tz": "UTC"
           },
           1,
           "London",
           "UTC",
           "GBR"
          ]
         ],
         "hovertemplate": "<b>%{hovertext}</b><br><br>country=%{customdata[15]}<br>x=%{x}<br>y=%{y}<br>rank=%{customdata[12]}<br>label=%{customdata[0]}<br>size=%{customdata[1]}<br>person=%{customdata[2]}<br>type=%{customdata[3]}<br>name=%{customdata[4]}<br>hire_date=%{customdata[5]}<br>status=%{customdata[6]}<br>languages=%{customdata[7]}<br>manager=%{customdata[8]}<br>team=%{customdata[9]}<br>title=%{customdata[10]}<br>location=%{customdata[11]}<br>city=%{customdata[13]}<br>tz=%{customdata[14]}<extra></extra>",
         "hovertext": [
          "Edward Jones",
          "Michael Richardson",
          "Christopher Harrison",
          "Allison Sanchez",
          "Victor Smith",
          "Renee Edwards",
          "Taylor Blair",
          "Erin Lyons",
          "Marc Thompson",
          "Kyle Saunders",
          "Jared Kramer",
          "Joe Jackson",
          "Sara Andrews",
          "Whitney Jenkins",
          "Robin Sparks",
          "Shawn Bowers",
          "Kelly Wells",
          "Sandra Lamb",
          "Kyle Smith",
          "Scott Johnson",
          "Robert Harris",
          "Derek Knight",
          "Brianna Shaw"
         ],
         "legendgroup": "GBR",
         "marker": {
          "color": "#636efa",
          "size": [
           1,
           1,
           2,
           2,
           2,
           2,
           3,
           3,
           3,
           5,
           5,
           1,
           1,
           1,
           1,
           1,
           1,
           1,
           1,
           1,
           1,
           1,
           1
          ],
          "sizemode": "area",
          "sizeref": 0.0175,
          "symbol": "circle"
         },
         "mode": "markers",
         "name": "GBR",
         "orientation": "v",
         "showlegend": true,
         "type": "scatter",
         "x": [
          0.2760954592735916,
          0.17362621954911966,
          0.4869399005074783,
          0.08729463761715149,
          0.1337431082336443,
          0.09364575490098155,
          0.655309820381091,
          0.6511772793326468,
          0.7440511908177986,
          1,
          0.9907719167480598,
          -0.03488966215834933,
          -0.16625271492210783,
          -0.013512089941845546,
          -0.005418710153343355,
          -0.04226672090177759,
          -0.10475050251123084,
          -0.11902373653833695,
          0.03441207287632328,
          -0.04409522205817965,
          -0.09295322575548268,
          -0.14961186711074975,
          -0.19491823476736353
         ],
         "xaxis": "x",
         "y": [
          0.13417554390896114,
          0.167951204816846,
          0.3134596048708209,
          0.1596926199924102,
          0.13223888382984203,
          0.19811836132710753,
          0.24543388570303462,
          0.1781294452913792,
          0.26078935694729233,
          0.31729919754298147,
          0.35963907571295456,
          0.6299193442453521,
          0.5443897855037793,
          0.6591858327503765,
          0.5233192139878508,
          0.45982335069320107,
          0.45705378018819187,
          0.5685306928055452,
          0.5103816400363714,
          0.6707720598069267,
          0.6105574580969167,
          0.5084501932726303,
          0.6043653015370065
         ],
         "yaxis": "y"
        }
       ],
       "layout": {
        "legend": {
         "itemsizing": "constant",
         "title": {
          "text": "country"
         },
         "tracegroupgap": 0
        },
        "margin": {
         "t": 60
        },
        "template": {
         "data": {
          "bar": [
           {
            "error_x": {
             "color": "#f2f5fa"
            },
            "error_y": {
             "color": "#f2f5fa"
            },
            "marker": {
             "line": {
              "color": "rgb(17,17,17)",
              "width": 0.5
             },
             "pattern": {
              "fillmode": "overlay",
              "size": 10,
              "solidity": 0.2
             }
            },
            "type": "bar"
           }
          ],
          "barpolar": [
           {
            "marker": {
             "line": {
              "color": "rgb(17,17,17)",
              "width": 0.5
             },
             "pattern": {
              "fillmode": "overlay",
              "size": 10,
              "solidity": 0.2
             }
            },
            "type": "barpolar"
           }
          ],
          "carpet": [
           {
            "aaxis": {
             "endlinecolor": "#A2B1C6",
             "gridcolor": "#506784",
             "linecolor": "#506784",
             "minorgridcolor": "#506784",
             "startlinecolor": "#A2B1C6"
            },
            "baxis": {
             "endlinecolor": "#A2B1C6",
             "gridcolor": "#506784",
             "linecolor": "#506784",
             "minorgridcolor": "#506784",
             "startlinecolor": "#A2B1C6"
            },
            "type": "carpet"
           }
          ],
          "choropleth": [
           {
            "colorbar": {
             "outlinewidth": 0,
             "ticks": ""
            },
            "type": "choropleth"
           }
          ],
          "contour": [
           {
            "colorbar": {
             "outlinewidth": 0,
             "ticks": ""
            },
            "colorscale": [
             [
              0,
              "#0d0887"
             ],
             [
              0.1111111111111111,
              "#46039f"
             ],
             [
              0.2222222222222222,
              "#7201a8"
             ],
             [
              0.3333333333333333,
              "#9c179e"
             ],
             [
              0.4444444444444444,
              "#bd3786"
             ],
             [
              0.5555555555555556,
              "#d8576b"
             ],
             [
              0.6666666666666666,
              "#ed7953"
             ],
             [
              0.7777777777777778,
              "#fb9f3a"
             ],
             [
              0.8888888888888888,
              "#fdca26"
             ],
             [
              1,
              "#f0f921"
             ]
            ],
            "type": "contour"
           }
          ],
          "contourcarpet": [
           {
            "colorbar": {
             "outlinewidth": 0,
             "ticks": ""
            },
            "type": "contourcarpet"
           }
          ],
          "heatmap": [
           {
            "colorbar": {
             "outlinewidth": 0,
             "ticks": ""
            },
            "colorscale": [
             [
              0,
              "#0d0887"
             ],
             [
              0.1111111111111111,
              "#46039f"
             ],
             [
              0.2222222222222222,
              "#7201a8"
             ],
             [
              0.3333333333333333,
              "#9c179e"
             ],
             [
              0.4444444444444444,
              "#bd3786"
             ],
             [
              0.5555555555555556,
              "#d8576b"
             ],
             [
              0.6666666666666666,
              "#ed7953"
             ],
             [
              0.7777777777777778,
              "#fb9f3a"
             ],
             [
              0.8888888888888888,
              "#fdca26"
             ],
             [
              1,
              "#f0f921"
             ]
            ],
            "type": "heatmap"
           }
          ],
          "heatmapgl": [
           {
            "colorbar": {
             "outlinewidth": 0,
             "ticks": ""
            },
            "colorscale": [
             [
              0,
              "#0d0887"
             ],
             [
              0.1111111111111111,
              "#46039f"
             ],
             [
              0.2222222222222222,
              "#7201a8"
             ],
             [
              0.3333333333333333,
              "#9c179e"
             ],
             [
              0.4444444444444444,
              "#bd3786"
             ],
             [
              0.5555555555555556,
              "#d8576b"
             ],
             [
              0.6666666666666666,
              "#ed7953"
             ],
             [
              0.7777777777777778,
              "#fb9f3a"
             ],
             [
              0.8888888888888888,
              "#fdca26"
             ],
             [
              1,
              "#f0f921"
             ]
            ],
            "type": "heatmapgl"
           }
          ],
          "histogram": [
           {
            "marker": {
             "pattern": {
              "fillmode": "overlay",
              "size": 10,
              "solidity": 0.2
             }
            },
            "type": "histogram"
           }
          ],
          "histogram2d": [
           {
            "colorbar": {
             "outlinewidth": 0,
             "ticks": ""
            },
            "colorscale": [
             [
              0,
              "#0d0887"
             ],
             [
              0.1111111111111111,
              "#46039f"
             ],
             [
              0.2222222222222222,
              "#7201a8"
             ],
             [
              0.3333333333333333,
              "#9c179e"
             ],
             [
              0.4444444444444444,
              "#bd3786"
             ],
             [
              0.5555555555555556,
              "#d8576b"
             ],
             [
              0.6666666666666666,
              "#ed7953"
             ],
             [
              0.7777777777777778,
              "#fb9f3a"
             ],
             [
              0.8888888888888888,
              "#fdca26"
             ],
             [
              1,
              "#f0f921"
             ]
            ],
            "type": "histogram2d"
           }
          ],
          "histogram2dcontour": [
           {
            "colorbar": {
             "outlinewidth": 0,
             "ticks": ""
            },
            "colorscale": [
             [
              0,
              "#0d0887"
             ],
             [
              0.1111111111111111,
              "#46039f"
             ],
             [
              0.2222222222222222,
              "#7201a8"
             ],
             [
              0.3333333333333333,
              "#9c179e"
             ],
             [
              0.4444444444444444,
              "#bd3786"
             ],
             [
              0.5555555555555556,
              "#d8576b"
             ],
             [
              0.6666666666666666,
              "#ed7953"
             ],
             [
              0.7777777777777778,
              "#fb9f3a"
             ],
             [
              0.8888888888888888,
              "#fdca26"
             ],
             [
              1,
              "#f0f921"
             ]
            ],
            "type": "histogram2dcontour"
           }
          ],
          "mesh3d": [
           {
            "colorbar": {
             "outlinewidth": 0,
             "ticks": ""
            },
            "type": "mesh3d"
           }
          ],
          "parcoords": [
           {
            "line": {
             "colorbar": {
              "outlinewidth": 0,
              "ticks": ""
             }
            },
            "type": "parcoords"
           }
          ],
          "pie": [
           {
            "automargin": true,
            "type": "pie"
           }
          ],
          "scatter": [
           {
            "marker": {
             "line": {
              "color": "#283442"
             }
            },
            "type": "scatter"
           }
          ],
          "scatter3d": [
           {
            "line": {
             "colorbar": {
              "outlinewidth": 0,
              "ticks": ""
             }
            },
            "marker": {
             "colorbar": {
              "outlinewidth": 0,
              "ticks": ""
             }
            },
            "type": "scatter3d"
           }
          ],
          "scattercarpet": [
           {
            "marker": {
             "colorbar": {
              "outlinewidth": 0,
              "ticks": ""
             }
            },
            "type": "scattercarpet"
           }
          ],
          "scattergeo": [
           {
            "marker": {
             "colorbar": {
              "outlinewidth": 0,
              "ticks": ""
             }
            },
            "type": "scattergeo"
           }
          ],
          "scattergl": [
           {
            "marker": {
             "line": {
              "color": "#283442"
             }
            },
            "type": "scattergl"
           }
          ],
          "scattermapbox": [
           {
            "marker": {
             "colorbar": {
              "outlinewidth": 0,
              "ticks": ""
             }
            },
            "type": "scattermapbox"
           }
          ],
          "scatterpolar": [
           {
            "marker": {
             "colorbar": {
              "outlinewidth": 0,
              "ticks": ""
             }
            },
            "type": "scatterpolar"
           }
          ],
          "scatterpolargl": [
           {
            "marker": {
             "colorbar": {
              "outlinewidth": 0,
              "ticks": ""
             }
            },
            "type": "scatterpolargl"
           }
          ],
          "scatterternary": [
           {
            "marker": {
             "colorbar": {
              "outlinewidth": 0,
              "ticks": ""
             }
            },
            "type": "scatterternary"
           }
          ],
          "surface": [
           {
            "colorbar": {
             "outlinewidth": 0,
             "ticks": ""
            },
            "colorscale": [
             [
              0,
              "#0d0887"
             ],
             [
              0.1111111111111111,
              "#46039f"
             ],
             [
              0.2222222222222222,
              "#7201a8"
             ],
             [
              0.3333333333333333,
              "#9c179e"
             ],
             [
              0.4444444444444444,
              "#bd3786"
             ],
             [
              0.5555555555555556,
              "#d8576b"
             ],
             [
              0.6666666666666666,
              "#ed7953"
             ],
             [
              0.7777777777777778,
              "#fb9f3a"
             ],
             [
              0.8888888888888888,
              "#fdca26"
             ],
             [
              1,
              "#f0f921"
             ]
            ],
            "type": "surface"
           }
          ],
          "table": [
           {
            "cells": {
             "fill": {
              "color": "#506784"
             },
             "line": {
              "color": "rgb(17,17,17)"
             }
            },
            "header": {
             "fill": {
              "color": "#2a3f5f"
             },
             "line": {
              "color": "rgb(17,17,17)"
             }
            },
            "type": "table"
           }
          ]
         },
         "layout": {
          "annotationdefaults": {
           "arrowcolor": "#f2f5fa",
           "arrowhead": 0,
           "arrowwidth": 1
          },
          "autotypenumbers": "strict",
          "coloraxis": {
           "colorbar": {
            "outlinewidth": 0,
            "ticks": ""
           }
          },
          "colorscale": {
           "diverging": [
            [
             0,
             "#8e0152"
            ],
            [
             0.1,
             "#c51b7d"
            ],
            [
             0.2,
             "#de77ae"
            ],
            [
             0.3,
             "#f1b6da"
            ],
            [
             0.4,
             "#fde0ef"
            ],
            [
             0.5,
             "#f7f7f7"
            ],
            [
             0.6,
             "#e6f5d0"
            ],
            [
             0.7,
             "#b8e186"
            ],
            [
             0.8,
             "#7fbc41"
            ],
            [
             0.9,
             "#4d9221"
            ],
            [
             1,
             "#276419"
            ]
           ],
           "sequential": [
            [
             0,
             "#0d0887"
            ],
            [
             0.1111111111111111,
             "#46039f"
            ],
            [
             0.2222222222222222,
             "#7201a8"
            ],
            [
             0.3333333333333333,
             "#9c179e"
            ],
            [
             0.4444444444444444,
             "#bd3786"
            ],
            [
             0.5555555555555556,
             "#d8576b"
            ],
            [
             0.6666666666666666,
             "#ed7953"
            ],
            [
             0.7777777777777778,
             "#fb9f3a"
            ],
            [
             0.8888888888888888,
             "#fdca26"
            ],
            [
             1,
             "#f0f921"
            ]
           ],
           "sequentialminus": [
            [
             0,
             "#0d0887"
            ],
            [
             0.1111111111111111,
             "#46039f"
            ],
            [
             0.2222222222222222,
             "#7201a8"
            ],
            [
             0.3333333333333333,
             "#9c179e"
            ],
            [
             0.4444444444444444,
             "#bd3786"
            ],
            [
             0.5555555555555556,
             "#d8576b"
            ],
            [
             0.6666666666666666,
             "#ed7953"
            ],
            [
             0.7777777777777778,
             "#fb9f3a"
            ],
            [
             0.8888888888888888,
             "#fdca26"
            ],
            [
             1,
             "#f0f921"
            ]
           ]
          },
          "colorway": [
           "#636efa",
           "#EF553B",
           "#00cc96",
           "#ab63fa",
           "#FFA15A",
           "#19d3f3",
           "#FF6692",
           "#B6E880",
           "#FF97FF",
           "#FECB52"
          ],
          "font": {
           "color": "#f2f5fa"
          },
          "geo": {
           "bgcolor": "rgb(17,17,17)",
           "lakecolor": "rgb(17,17,17)",
           "landcolor": "rgb(17,17,17)",
           "showlakes": true,
           "showland": true,
           "subunitcolor": "#506784"
          },
          "hoverlabel": {
           "align": "left"
          },
          "hovermode": "closest",
          "mapbox": {
           "style": "dark"
          },
          "paper_bgcolor": "rgb(17,17,17)",
          "plot_bgcolor": "rgb(17,17,17)",
          "polar": {
           "angularaxis": {
            "gridcolor": "#506784",
            "linecolor": "#506784",
            "ticks": ""
           },
           "bgcolor": "rgb(17,17,17)",
           "radialaxis": {
            "gridcolor": "#506784",
            "linecolor": "#506784",
            "ticks": ""
           }
          },
          "scene": {
           "xaxis": {
            "backgroundcolor": "rgb(17,17,17)",
            "gridcolor": "#506784",
            "gridwidth": 2,
            "linecolor": "#506784",
            "showbackground": true,
            "ticks": "",
            "zerolinecolor": "#C8D4E3"
           },
           "yaxis": {
            "backgroundcolor": "rgb(17,17,17)",
            "gridcolor": "#506784",
            "gridwidth": 2,
            "linecolor": "#506784",
            "showbackground": true,
            "ticks": "",
            "zerolinecolor": "#C8D4E3"
           },
           "zaxis": {
            "backgroundcolor": "rgb(17,17,17)",
            "gridcolor": "#506784",
            "gridwidth": 2,
            "linecolor": "#506784",
            "showbackground": true,
            "ticks": "",
            "zerolinecolor": "#C8D4E3"
           }
          },
          "shapedefaults": {
           "line": {
            "color": "#f2f5fa"
           }
          },
          "sliderdefaults": {
           "bgcolor": "#C8D4E3",
           "bordercolor": "rgb(17,17,17)",
           "borderwidth": 1,
           "tickwidth": 0
          },
          "ternary": {
           "aaxis": {
            "gridcolor": "#506784",
            "linecolor": "#506784",
            "ticks": ""
           },
           "baxis": {
            "gridcolor": "#506784",
            "linecolor": "#506784",
            "ticks": ""
           },
           "bgcolor": "rgb(17,17,17)",
           "caxis": {
            "gridcolor": "#506784",
            "linecolor": "#506784",
            "ticks": ""
           }
          },
          "title": {
           "x": 0.05
          },
          "updatemenudefaults": {
           "bgcolor": "#506784",
           "borderwidth": 0
          },
          "xaxis": {
           "automargin": true,
           "gridcolor": "#283442",
           "linecolor": "#506784",
           "ticks": "",
           "title": {
            "standoff": 15
           },
           "zerolinecolor": "#283442",
           "zerolinewidth": 2
          },
          "yaxis": {
           "automargin": true,
           "gridcolor": "#283442",
           "linecolor": "#506784",
           "ticks": "",
           "title": {
            "standoff": 15
           },
           "zerolinecolor": "#283442",
           "zerolinewidth": 2
          }
         }
        },
        "xaxis": {
         "visible": false
        },
        "yaxis": {
         "visible": false
        }
       }
      }
     },
     "metadata": {},
     "output_type": "display_data"
    }
   ],
   "source": [
    "from functools import partial\n",
    "layout = nx.spring_layout # partial(nx.spring_layout,k=0.1, iterations=20) # or customize how the layout is generated\n",
    "px_plot_nx(G, color=\"country\", layout=layout, with_edges=True, hover_name=\"name\", size=\"rank\", template=\"plotly_dark\")#,text=\"label\")"
   ]
  }
 ],
 "metadata": {
  "jupytext": {
   "formats": "ipynb,py:percent"
  },
  "kernelspec": {
   "display_name": "peopleanalytics-hP1UcNMM",
   "language": "python",
   "name": "python3"
  },
  "language_info": {
   "codemirror_mode": {
    "name": "ipython",
    "version": 3
   },
   "file_extension": ".py",
   "mimetype": "text/x-python",
   "name": "python",
   "nbconvert_exporter": "python",
   "pygments_lexer": "ipython3",
   "version": "3.11.3"
  },
  "vscode": {
   "interpreter": {
    "hash": "a79ebb34bd880ae1609598d91f5437f974a2fc812a889a38194f0c3042249b1f"
   }
  }
 },
 "nbformat": 4,
 "nbformat_minor": 5
}
