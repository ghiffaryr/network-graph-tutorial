{
 "cells": [
  {
   "attachments": {},
   "cell_type": "markdown",
   "id": "bb042e3f-caba-44ee-9747-e74d6bebe1e8",
   "metadata": {},
   "source": [
    "# Understanding People with Network Graphs in Python\n",
    "\n",
    "Now we can really start"
   ]
  },
  {
   "cell_type": "markdown",
   "id": "97967b91-a222-4690-98f2-e1a8812b4436",
   "metadata": {},
   "source": [
    "## NetworkX\n",
    "\n",
    "> NetworkX is a Python package for the creation, manipulation, and study of the structure, dynamics, and functions of complex networks - https://networkx.org/\n",
    "\n",
    "NetworkX provides an easy-to-use, *fast*, graph framework to represent relationships in-memory"
   ]
  },
  {
   "cell_type": "code",
   "execution_count": 109,
   "id": "1658990e-5928-448b-b2e4-37dda46b087d",
   "metadata": {
    "execution": {
     "iopub.execute_input": "2023-01-17T18:44:00.986929Z",
     "iopub.status.busy": "2023-01-17T18:44:00.986472Z",
     "iopub.status.idle": "2023-01-17T18:44:00.993341Z",
     "shell.execute_reply": "2023-01-17T18:44:00.992498Z",
     "shell.execute_reply.started": "2023-01-17T18:44:00.986900Z"
    },
    "tags": []
   },
   "outputs": [],
   "source": [
    "import networkx as nx\n",
    "\n",
    "G = nx.Graph()"
   ]
  },
  {
   "cell_type": "markdown",
   "id": "13562879",
   "metadata": {},
   "source": [
    "It's easy to load in data one at a time"
   ]
  },
  {
   "cell_type": "code",
   "execution_count": 110,
   "id": "471e74f0",
   "metadata": {},
   "outputs": [],
   "source": [
    "G.add_node(\"Me\", type=\"person\", languages=[\"Python\"])"
   ]
  },
  {
   "attachments": {},
   "cell_type": "markdown",
   "id": "e012926e",
   "metadata": {},
   "source": [
    "Or from an iterable object"
   ]
  },
  {
   "cell_type": "code",
   "execution_count": 111,
   "id": "2a9211a0",
   "metadata": {},
   "outputs": [],
   "source": [
    "G.add_nodes_from((\n",
    "    (\"You\",dict(languages=[\"Python\",\"Scala\"])),\n",
    "    (\"Them\",dict(languages=[\"Python\",\"Javascript\"]))\n",
    "), type=\"person\")"
   ]
  },
  {
   "attachments": {},
   "cell_type": "markdown",
   "id": "ef360a75",
   "metadata": {},
   "source": [
    "Now we can look at the new data structure and play around with it:"
   ]
  },
  {
   "cell_type": "code",
   "execution_count": 112,
   "id": "b01d9d99",
   "metadata": {},
   "outputs": [
    {
     "data": {
      "text/plain": [
       "NodeView(('Me', 'You', 'Them'))"
      ]
     },
     "execution_count": 112,
     "metadata": {},
     "output_type": "execute_result"
    }
   ],
   "source": [
    "G.nodes() # show all the node labels"
   ]
  },
  {
   "cell_type": "code",
   "execution_count": 113,
   "id": "ec14eaae",
   "metadata": {},
   "outputs": [
    {
     "data": {
      "text/plain": [
       "NodeDataView({'Me': {'type': 'person', 'languages': ['Python']}, 'You': {'type': 'person', 'languages': ['Python', 'Scala']}, 'Them': {'type': 'person', 'languages': ['Python', 'Javascript']}})"
      ]
     },
     "execution_count": 113,
     "metadata": {},
     "output_type": "execute_result"
    }
   ],
   "source": [
    "G.nodes(data=True) # show all attributes in nodes"
   ]
  },
  {
   "cell_type": "code",
   "execution_count": 114,
   "id": "db49b4d1",
   "metadata": {},
   "outputs": [
    {
     "data": {
      "text/plain": [
       "NodeDataView({'Me': ['Python'], 'You': ['Python', 'Scala'], 'Them': ['Python', 'Javascript']}, data='languages')"
      ]
     },
     "execution_count": 114,
     "metadata": {},
     "output_type": "execute_result"
    }
   ],
   "source": [
    "G.nodes(data=\"languages\") # show a specific attribute"
   ]
  },
  {
   "cell_type": "code",
   "execution_count": 115,
   "id": "953812ea",
   "metadata": {},
   "outputs": [],
   "source": [
    "G.add_edge(\"Me\",\"You\", label=\"friends\") # add an edge connecting two nodes ...\n",
    "G.add_edge(\"You\",\"Them\", label=\"friends\") # add an edge connecting two nodes ..."
   ]
  },
  {
   "attachments": {},
   "cell_type": "markdown",
   "id": "8b03bdaa",
   "metadata": {},
   "source": [
    "There are lots of common and complex graph analysis functions available to make the most of the data structure "
   ]
  },
  {
   "cell_type": "code",
   "execution_count": 116,
   "id": "6cc3e239",
   "metadata": {},
   "outputs": [
    {
     "data": {
      "text/plain": [
       "['Me', 'You', 'Them']"
      ]
     },
     "execution_count": 116,
     "metadata": {},
     "output_type": "execute_result"
    }
   ],
   "source": [
    "nx.shortest_path(G, source=\"Me\", target=\"Them\") # find paths between nodes through edges"
   ]
  },
  {
   "cell_type": "code",
   "execution_count": 117,
   "id": "687da67f",
   "metadata": {},
   "outputs": [
    {
     "data": {
      "text/plain": [
       "AdjacencyView({'Me': {'You': {'label': 'friends'}}, 'You': {'Me': {'label': 'friends'}, 'Them': {'label': 'friends'}}, 'Them': {'You': {'label': 'friends'}}})"
      ]
     },
     "execution_count": 117,
     "metadata": {},
     "output_type": "execute_result"
    }
   ],
   "source": [
    "G.adj # find adjacent nodes"
   ]
  },
  {
   "attachments": {},
   "cell_type": "markdown",
   "id": "e0e5f833",
   "metadata": {},
   "source": [
    "And visualizing is built-in with `matplotlib`. We will pretty this up later with `plotly`"
   ]
  },
  {
   "cell_type": "code",
   "execution_count": 118,
   "id": "ca619931",
   "metadata": {},
   "outputs": [
    {
     "data": {
      "image/png": "[encoded data removed]",
      "text/plain": [
       "<Figure size 640x480 with 1 Axes>"
      ]
     },
     "metadata": {},
     "output_type": "display_data"
    }
   ],
   "source": [
    "nx.draw(G, with_labels=True)"
   ]
  },
  {
   "attachments": {},
   "cell_type": "markdown",
   "id": "db1c0d52-e90b-4350-8305-100509d6a35a",
   "metadata": {},
   "source": [
    "### Some People Data\n",
    "\n",
    "Let's re-use what we made before:"
   ]
  },
  {
   "cell_type": "code",
   "execution_count": 120,
   "id": "df1be6be-eea6-4d90-ba02-0272178b4a20",
   "metadata": {
    "execution": {
     "iopub.execute_input": "2023-01-10T16:24:10.124771Z",
     "iopub.status.busy": "2023-01-10T16:24:10.124487Z",
     "iopub.status.idle": "2023-01-10T16:24:10.147905Z",
     "shell.execute_reply": "2023-01-10T16:24:10.140943Z",
     "shell.execute_reply.started": "2023-01-10T16:24:10.124743Z"
    },
    "tags": []
   },
   "outputs": [
    {
     "name": "stdout",
     "output_type": "stream",
     "text": [
      "Dr.\n",
      "Mx.\n",
      "Mr.\n",
      "Ms.\n",
      "Miss\n",
      "Mrs.\n",
      "Ind.\n",
      "Misc.\n",
      "😟\n"
     ]
    }
   ],
   "source": [
    "%run \"../Part 0 - The Data/Solution.ipynb\""
   ]
  },
  {
   "cell_type": "markdown",
   "id": "445abc61-e1f7-4d41-9417-bd6824682de0",
   "metadata": {},
   "source": [
    "## The Graph\n",
    "\n",
    "Now we're ready to define and populate the network graph. NetworkX provides helpful methods to populate the structure from an iterable. Here we massage our list of `people` a bit in order to give a unique name to each *node* in the graph:"
   ]
  },
  {
   "cell_type": "code",
   "execution_count": 121,
   "id": "36bd1b93-0a4f-404b-aa83-ad91beb2f7df",
   "metadata": {
    "execution": {
     "iopub.execute_input": "2023-01-10T16:24:10.195816Z",
     "iopub.status.busy": "2023-01-10T16:24:10.195488Z",
     "iopub.status.idle": "2023-01-10T16:24:10.213653Z",
     "shell.execute_reply": "2023-01-10T16:24:10.212633Z",
     "shell.execute_reply.started": "2023-01-10T16:24:10.195788Z"
    },
    "tags": []
   },
   "outputs": [
    {
     "data": {
      "text/plain": [
       "NodeDataView({'Jason James': {'person': True, 'type': 'person', 'name': 'Jason James', 'hire_date': datetime.date(2021, 9, 7), 'status': 'Contract', 'languages': [], 'manager': 'Lauren Berry', 'team': 'Business', 'title': 'Analyst', 'location': {'city': 'London', 'tz': 'UTC', 'country': 'GBR'}, 'rank': 1.0, 'city': 'London', 'tz': 'UTC', 'country': 'GBR'}, 'Robert Dorsey': {'person': True, 'type': 'person', 'name': 'Robert Dorsey', 'hire_date': datetime.date(2020, 6, 19), 'status': 'Full Time', 'languages': ['Python', 'Typescript', 'JavaScript', 'Java'], 'manager': 'Cathy Johnson', 'team': 'Business', 'title': 'Analyst', 'location': {'city': 'New York', 'tz': 'EST', 'country': 'USA'}, 'rank': 1.0, 'city': 'New York', 'tz': 'EST', 'country': 'USA'}, 'Andrea Williams': {'person': True, 'type': 'person', 'name': 'Andrea Williams', 'hire_date': datetime.date(2020, 6, 9), 'status': 'Part Time', 'languages': ['JavaScript', 'Go'], 'manager': 'Jordan Owens', 'team': 'Business', 'title': 'Analyst', 'location': {'city': 'London', 'tz': 'UTC', 'country': 'GBR'}, 'rank': 1.0, 'city': 'London', 'tz': 'UTC', 'country': 'GBR'}, 'Kevin Martin': {'person': True, 'type': 'person', 'name': 'Kevin Martin', 'hire_date': datetime.date(2022, 9, 26), 'status': 'Full Time', 'languages': ['Python', 'JavaScript', 'Java'], 'manager': 'Jordan Owens', 'team': 'Business', 'title': 'Analyst', 'location': {'city': 'London', 'tz': 'UTC', 'country': 'GBR'}, 'rank': 1.0, 'city': 'London', 'tz': 'UTC', 'country': 'GBR'}, 'Sherry Thompson': {'person': True, 'type': 'person', 'name': 'Sherry Thompson', 'hire_date': datetime.date(2020, 5, 19), 'status': 'Full Time', 'languages': [], 'manager': 'Jordan Harper', 'team': 'Business', 'title': 'Associate', 'location': {'city': 'London', 'tz': 'UTC', 'country': 'GBR'}, 'rank': 2.0, 'city': 'London', 'tz': 'UTC', 'country': 'GBR'}, 'Katelyn Cross': {'person': True, 'type': 'person', 'name': 'Katelyn Cross', 'hire_date': datetime.date(2022, 10, 29), 'status': 'Full Time', 'languages': [], 'manager': 'Lauren Berry', 'team': 'Business', 'title': 'Associate', 'location': {'city': 'New York', 'tz': 'EST', 'country': 'USA'}, 'rank': 2.0, 'city': 'New York', 'tz': 'EST', 'country': 'USA'}, 'Rebekah Jackson': {'person': True, 'type': 'person', 'name': 'Rebekah Jackson', 'hire_date': datetime.date(2022, 4, 6), 'status': 'Contract', 'languages': ['Python'], 'manager': 'Cathy Johnson', 'team': 'Business', 'title': 'Associate', 'location': {'city': 'London', 'tz': 'UTC', 'country': 'GBR'}, 'rank': 2.0, 'city': 'London', 'tz': 'UTC', 'country': 'GBR'}, 'Krista Brooks': {'person': True, 'type': 'person', 'name': 'Krista Brooks', 'hire_date': datetime.date(2022, 1, 23), 'status': 'Full Time', 'languages': [], 'manager': 'Cathy Johnson', 'team': 'Business', 'title': 'Associate', 'location': {'city': 'New York', 'tz': 'EST', 'country': 'USA'}, 'rank': 2.0, 'city': 'New York', 'tz': 'EST', 'country': 'USA'}, 'Theresa Parker': {'person': True, 'type': 'person', 'name': 'Theresa Parker', 'hire_date': datetime.date(2020, 9, 2), 'status': 'Contract', 'languages': [], 'manager': 'Cathy Johnson', 'team': 'Business', 'title': 'Associate', 'location': {'city': 'New York', 'tz': 'EST', 'country': 'USA'}, 'rank': 2.0, 'city': 'New York', 'tz': 'EST', 'country': 'USA'}, 'Teresa David': {'person': True, 'type': 'person', 'name': 'Teresa David', 'hire_date': datetime.date(2023, 3, 16), 'status': 'Contract', 'languages': [], 'manager': 'Cathy Johnson', 'team': 'Business', 'title': 'Associate', 'location': {'city': 'London', 'tz': 'UTC', 'country': 'GBR'}, 'rank': 2.0, 'city': 'London', 'tz': 'UTC', 'country': 'GBR'}, 'Tara Douglas': {'person': True, 'type': 'person', 'name': 'Tara Douglas', 'hire_date': datetime.date(2022, 2, 3), 'status': 'Full Time', 'languages': ['Python', 'Go', 'Java'], 'manager': 'Steven Edwards', 'team': 'Business', 'title': 'Associate', 'location': {'city': 'London', 'tz': 'UTC', 'country': 'GBR'}, 'rank': 2.0, 'city': 'London', 'tz': 'UTC', 'country': 'GBR'}, 'Lisa Hoover': {'person': True, 'type': 'person', 'name': 'Lisa Hoover', 'hire_date': datetime.date(2021, 11, 6), 'status': 'Contract', 'languages': [], 'manager': 'Steven Edwards', 'team': 'Business', 'title': 'Associate', 'location': {'city': 'Toronto', 'tz': 'EST', 'country': 'CAN'}, 'rank': 2.0, 'city': 'Toronto', 'tz': 'EST', 'country': 'CAN'}, 'Mason Chase': {'person': True, 'type': 'person', 'name': 'Mason Chase', 'hire_date': datetime.date(2021, 9, 20), 'status': 'Full Time', 'languages': ['Java', 'Python', 'Typescript', 'JavaScript', 'Scala'], 'manager': 'Christopher Griffin', 'team': 'Business', 'title': 'Vice President', 'location': {'city': 'Toronto', 'tz': 'EST', 'country': 'CAN'}, 'rank': 3.0, 'city': 'Toronto', 'tz': 'EST', 'country': 'CAN'}, 'Meagan Dyer': {'person': True, 'type': 'person', 'name': 'Meagan Dyer', 'hire_date': datetime.date(2020, 7, 28), 'status': 'Contract', 'languages': ['JavaScript'], 'manager': 'Austin Wang', 'team': 'Business', 'title': 'Vice President', 'location': {'city': 'New York', 'tz': 'EST', 'country': 'USA'}, 'rank': 3.0, 'city': 'New York', 'tz': 'EST', 'country': 'USA'}, 'Lauren Berry': {'person': True, 'type': 'person', 'name': 'Lauren Berry', 'hire_date': datetime.date(2023, 1, 16), 'status': 'Full Time', 'languages': [], 'manager': 'Jordan Harper', 'team': 'Business', 'title': 'Director', 'location': {'city': 'New York', 'tz': 'EST', 'country': 'USA'}, 'rank': 4.0, 'city': 'New York', 'tz': 'EST', 'country': 'USA'}, 'Cathy Johnson': {'person': True, 'type': 'person', 'name': 'Cathy Johnson', 'hire_date': datetime.date(2023, 1, 16), 'status': 'Contract', 'languages': ['Typescript'], 'manager': 'Lauren Berry', 'team': 'Business', 'title': 'Director', 'location': {'city': 'New York', 'tz': 'EST', 'country': 'USA'}, 'rank': 4.0, 'city': 'New York', 'tz': 'EST', 'country': 'USA'}, 'Adam Jackson': {'person': True, 'type': 'person', 'name': 'Adam Jackson', 'hire_date': datetime.date(2021, 1, 2), 'status': 'Part Time', 'languages': [], 'manager': 'Lauren Berry', 'team': 'Business', 'title': 'Director', 'location': {'city': 'Toronto', 'tz': 'EST', 'country': 'CAN'}, 'rank': 4.0, 'city': 'Toronto', 'tz': 'EST', 'country': 'CAN'}, 'Christopher Griffin': {'person': True, 'type': 'person', 'name': 'Christopher Griffin', 'hire_date': datetime.date(2022, 7, 26), 'status': 'Contract', 'languages': ['JavaScript', 'Go', 'Java'], 'manager': 'Lauren Berry', 'team': 'Business', 'title': 'Director', 'location': {'city': 'New York', 'tz': 'EST', 'country': 'USA'}, 'rank': 4.0, 'city': 'New York', 'tz': 'EST', 'country': 'USA'}, 'Steven Edwards': {'person': True, 'type': 'person', 'name': 'Steven Edwards', 'hire_date': datetime.date(2021, 8, 18), 'status': 'Full Time', 'languages': ['Python', 'JavaScript'], 'manager': 'Lauren Berry', 'team': 'Business', 'title': 'Director', 'location': {'city': 'London', 'tz': 'UTC', 'country': 'GBR'}, 'rank': 4.0, 'city': 'London', 'tz': 'UTC', 'country': 'GBR'}, 'Christopher Smith': {'person': True, 'type': 'person', 'name': 'Christopher Smith', 'hire_date': datetime.date(2021, 1, 29), 'status': 'Full Time', 'languages': ['JavaScript', 'Java'], 'manager': 'Lauren Berry', 'team': 'Business', 'title': 'Director', 'location': {'city': 'New York', 'tz': 'EST', 'country': 'USA'}, 'rank': 4.0, 'city': 'New York', 'tz': 'EST', 'country': 'USA'}, 'Kevin Gonzalez': {'person': True, 'type': 'person', 'name': 'Kevin Gonzalez', 'hire_date': datetime.date(2021, 3, 3), 'status': 'Contract', 'languages': [], 'manager': 'Lauren Berry', 'team': 'Business', 'title': 'Director', 'location': {'city': 'London', 'tz': 'UTC', 'country': 'GBR'}, 'rank': 4.0, 'city': 'London', 'tz': 'UTC', 'country': 'GBR'}, 'Barbara Gomez': {'person': True, 'type': 'person', 'name': 'Barbara Gomez', 'hire_date': datetime.date(2022, 7, 17), 'status': 'Full Time', 'languages': ['Python', 'JavaScript', 'Scala'], 'manager': 'Jordan Owens', 'team': 'Business', 'title': 'Director', 'location': {'city': 'London', 'tz': 'UTC', 'country': 'GBR'}, 'rank': 4.0, 'city': 'London', 'tz': 'UTC', 'country': 'GBR'}, 'Julia Chen': {'person': True, 'type': 'person', 'name': 'Julia Chen', 'hire_date': datetime.date(2021, 2, 28), 'status': 'Full Time', 'languages': [], 'manager': 'Austin Wang', 'team': 'Business', 'title': 'Director', 'location': {'city': 'New York', 'tz': 'EST', 'country': 'USA'}, 'rank': 4.0, 'city': 'New York', 'tz': 'EST', 'country': 'USA'}, 'Jordan Owens': {'person': True, 'type': 'person', 'name': 'Jordan Owens', 'hire_date': datetime.date(2022, 8, 13), 'status': 'Contract', 'languages': ['JavaScript'], 'manager': 'Jordan Harper', 'team': 'Business', 'title': 'Managing Director', 'location': {'city': 'New York', 'tz': 'EST', 'country': 'USA'}, 'rank': 5.0, 'city': 'New York', 'tz': 'EST', 'country': 'USA'}, 'Terry Morrison': {'person': True, 'type': 'person', 'name': 'Terry Morrison', 'hire_date': datetime.date(2022, 5, 9), 'status': 'Full Time', 'languages': ['Typescript'], 'manager': 'Jordan Owens', 'team': 'Business', 'title': 'Managing Director', 'location': {'city': 'New York', 'tz': 'EST', 'country': 'USA'}, 'rank': 5.0, 'city': 'New York', 'tz': 'EST', 'country': 'USA'}, 'Austin Wang': {'person': True, 'type': 'person', 'name': 'Austin Wang', 'hire_date': datetime.date(2020, 12, 30), 'status': 'Full Time', 'languages': [], 'manager': 'Jordan Owens', 'team': 'Business', 'title': 'Managing Director', 'location': {'city': 'New York', 'tz': 'EST', 'country': 'USA'}, 'rank': 5.0, 'city': 'New York', 'tz': 'EST', 'country': 'USA'}, 'Zachary Ibarra': {'person': True, 'type': 'person', 'name': 'Zachary Ibarra', 'hire_date': datetime.date(2021, 1, 27), 'status': 'Contract', 'languages': ['Python', 'Typescript', 'Java'], 'manager': 'Lauren Webb', 'team': 'DevOps', 'title': 'Engineer', 'location': {'city': 'Dublin', 'tz': 'UTC', 'country': 'IRL'}, 'rank': 1.0, 'city': 'Dublin', 'tz': 'UTC', 'country': 'IRL'}, 'Jessica Robertson': {'person': True, 'type': 'person', 'name': 'Jessica Robertson', 'hire_date': datetime.date(2021, 1, 20), 'status': 'Contract', 'languages': ['Java'], 'manager': 'Lauren Webb', 'team': 'DevOps', 'title': 'Engineer', 'location': {'city': 'Dublin', 'tz': 'UTC', 'country': 'IRL'}, 'rank': 1.0, 'city': 'Dublin', 'tz': 'UTC', 'country': 'IRL'}, 'Kyle Ross': {'person': True, 'type': 'person', 'name': 'Kyle Ross', 'hire_date': datetime.date(2023, 2, 27), 'status': 'Full Time', 'languages': ['Python', 'Typescript', 'Scala'], 'manager': 'Crystal Ayers', 'team': 'DevOps', 'title': 'Engineer', 'location': {'city': 'Dublin', 'tz': 'UTC', 'country': 'IRL'}, 'rank': 1.0, 'city': 'Dublin', 'tz': 'UTC', 'country': 'IRL'}, 'Donna Baird': {'person': True, 'type': 'person', 'name': 'Donna Baird', 'hire_date': datetime.date(2022, 7, 20), 'status': 'Contract', 'languages': [], 'manager': 'Heather Rojas', 'team': 'DevOps', 'title': 'Engineer', 'location': {'city': 'Dublin', 'tz': 'UTC', 'country': 'IRL'}, 'rank': 1.0, 'city': 'Dublin', 'tz': 'UTC', 'country': 'IRL'}, 'Austin Alexander': {'person': True, 'type': 'person', 'name': 'Austin Alexander', 'hire_date': datetime.date(2022, 3, 6), 'status': 'Full Time', 'languages': [], 'manager': 'Heather Rojas', 'team': 'DevOps', 'title': 'Engineer', 'location': {'city': 'Dublin', 'tz': 'UTC', 'country': 'IRL'}, 'rank': 1.0, 'city': 'Dublin', 'tz': 'UTC', 'country': 'IRL'}, 'Pamela Austin': {'person': True, 'type': 'person', 'name': 'Pamela Austin', 'hire_date': datetime.date(2022, 2, 7), 'status': 'Contract', 'languages': [], 'manager': 'Heather Rojas', 'team': 'DevOps', 'title': 'Engineer', 'location': {'city': 'Dublin', 'tz': 'UTC', 'country': 'IRL'}, 'rank': 1.0, 'city': 'Dublin', 'tz': 'UTC', 'country': 'IRL'}, 'Lauren Webb': {'person': True, 'type': 'person', 'name': 'Lauren Webb', 'hire_date': datetime.date(2021, 3, 24), 'status': 'Part Time', 'languages': ['Go'], 'manager': 'Jordan Harper', 'team': 'DevOps', 'title': 'Senior Engineer', 'location': {'city': 'Dublin', 'tz': 'UTC', 'country': 'IRL'}, 'rank': 2.0, 'city': 'Dublin', 'tz': 'UTC', 'country': 'IRL'}, 'Todd Olson': {'person': True, 'type': 'person', 'name': 'Todd Olson', 'hire_date': datetime.date(2022, 8, 5), 'status': 'Full Time', 'languages': [], 'manager': 'Crystal Ayers', 'team': 'DevOps', 'title': 'Senior Engineer', 'location': {'city': 'Dublin', 'tz': 'UTC', 'country': 'IRL'}, 'rank': 2.0, 'city': 'Dublin', 'tz': 'UTC', 'country': 'IRL'}, 'Katrina Crosby': {'person': True, 'type': 'person', 'name': 'Katrina Crosby', 'hire_date': datetime.date(2022, 4, 26), 'status': 'Full Time', 'languages': ['Java'], 'manager': 'Crystal Ayers', 'team': 'DevOps', 'title': 'Senior Engineer', 'location': {'city': 'Dublin', 'tz': 'UTC', 'country': 'IRL'}, 'rank': 2.0, 'city': 'Dublin', 'tz': 'UTC', 'country': 'IRL'}, 'Jerome Lutz': {'person': True, 'type': 'person', 'name': 'Jerome Lutz', 'hire_date': datetime.date(2020, 10, 25), 'status': 'Contract', 'languages': [], 'manager': 'Crystal Ayers', 'team': 'DevOps', 'title': 'Senior Engineer', 'location': {'city': 'Dublin', 'tz': 'UTC', 'country': 'IRL'}, 'rank': 2.0, 'city': 'Dublin', 'tz': 'UTC', 'country': 'IRL'}, 'Crystal Ayers': {'person': True, 'type': 'person', 'name': 'Crystal Ayers', 'hire_date': datetime.date(2021, 12, 25), 'status': 'Full Time', 'languages': ['Python', 'JavaScript'], 'manager': 'Jordan Harper', 'team': 'DevOps', 'title': 'Manager', 'location': {'city': 'Dublin', 'tz': 'UTC', 'country': 'IRL'}, 'rank': 3.0, 'city': 'Dublin', 'tz': 'UTC', 'country': 'IRL'}, 'Heather Rojas': {'person': True, 'type': 'person', 'name': 'Heather Rojas', 'hire_date': datetime.date(2021, 10, 13), 'status': 'Full Time', 'languages': ['JavaScript', 'Java'], 'manager': 'Crystal Ayers', 'team': 'DevOps', 'title': 'Manager', 'location': {'city': 'Dublin', 'tz': 'UTC', 'country': 'IRL'}, 'rank': 3.0, 'city': 'Dublin', 'tz': 'UTC', 'country': 'IRL'}, 'Michael Mayo': {'person': True, 'type': 'person', 'name': 'Michael Mayo', 'hire_date': datetime.date(2022, 5, 29), 'status': 'Full Time', 'languages': ['Typescript', 'Java'], 'manager': 'Crystal Ayers', 'team': 'DevOps', 'title': 'Manager', 'location': {'city': 'Dublin', 'tz': 'UTC', 'country': 'IRL'}, 'rank': 3.0, 'city': 'Dublin', 'tz': 'UTC', 'country': 'IRL'}, 'Shelby Robinson': {'person': True, 'type': 'person', 'name': 'Shelby Robinson', 'hire_date': datetime.date(2022, 5, 27), 'status': 'Part Time', 'languages': ['Python', 'JavaScript', 'Scala'], 'manager': 'Crystal Ayers', 'team': 'DevOps', 'title': 'Manager', 'location': {'city': 'Dublin', 'tz': 'UTC', 'country': 'IRL'}, 'rank': 3.0, 'city': 'Dublin', 'tz': 'UTC', 'country': 'IRL'}, 'Nicholas Campbell': {'person': True, 'type': 'person', 'name': 'Nicholas Campbell', 'hire_date': datetime.date(2020, 12, 7), 'status': 'Full Time', 'languages': ['Python', 'JavaScript'], 'manager': 'Jose Williams', 'team': 'DevX', 'title': 'Engineer', 'location': {'city': 'Fort Lauderdale', 'tz': 'EST', 'country': 'USA'}, 'rank': 5.0, 'city': 'Fort Lauderdale', 'tz': 'EST', 'country': 'USA'}, 'David Sullivan': {'person': True, 'type': 'person', 'name': 'David Sullivan', 'hire_date': datetime.date(2020, 6, 23), 'status': 'Full Time', 'languages': ['Go'], 'manager': 'Christopher Taylor', 'team': 'DevX', 'title': 'Engineer', 'location': {'city': 'Fort Lauderdale', 'tz': 'EST', 'country': 'USA'}, 'rank': 5.0, 'city': 'Fort Lauderdale', 'tz': 'EST', 'country': 'USA'}, 'Derek White': {'person': True, 'type': 'person', 'name': 'Derek White', 'hire_date': datetime.date(2021, 3, 6), 'status': 'Contract', 'languages': [], 'manager': 'Christopher Taylor', 'team': 'DevX', 'title': 'Engineer', 'location': {'city': 'Fort Lauderdale', 'tz': 'EST', 'country': 'USA'}, 'rank': 5.0, 'city': 'Fort Lauderdale', 'tz': 'EST', 'country': 'USA'}, 'Mark Munoz': {'person': True, 'type': 'person', 'name': 'Mark Munoz', 'hire_date': datetime.date(2022, 12, 6), 'status': 'Part Time', 'languages': ['Java'], 'manager': 'Christopher Taylor', 'team': 'DevX', 'title': 'Engineer', 'location': {'city': 'Fort Lauderdale', 'tz': 'EST', 'country': 'USA'}, 'rank': 5.0, 'city': 'Fort Lauderdale', 'tz': 'EST', 'country': 'USA'}, 'Kenneth Bryant': {'person': True, 'type': 'person', 'name': 'Kenneth Bryant', 'hire_date': datetime.date(2020, 10, 30), 'status': 'Full Time', 'languages': ['Python', 'Typescript'], 'manager': 'Christopher Taylor', 'team': 'DevX', 'title': 'Engineer', 'location': {'city': 'Fort Lauderdale', 'tz': 'EST', 'country': 'USA'}, 'rank': 5.0, 'city': 'Fort Lauderdale', 'tz': 'EST', 'country': 'USA'}, 'Jessica Edwards': {'person': True, 'type': 'person', 'name': 'Jessica Edwards', 'hire_date': datetime.date(2021, 11, 25), 'status': 'Contract', 'languages': ['Python', 'JavaScript'], 'manager': 'Christopher Taylor', 'team': 'DevX', 'title': 'Engineer', 'location': {'city': 'Fort Lauderdale', 'tz': 'EST', 'country': 'USA'}, 'rank': 5.0, 'city': 'Fort Lauderdale', 'tz': 'EST', 'country': 'USA'}, 'Kelly Huff': {'person': True, 'type': 'person', 'name': 'Kelly Huff', 'hire_date': datetime.date(2020, 9, 17), 'status': 'Contract', 'languages': ['Python', 'Typescript', 'JavaScript', 'Java'], 'manager': 'Christopher Taylor', 'team': 'DevX', 'title': 'Engineer', 'location': {'city': 'Fort Lauderdale', 'tz': 'EST', 'country': 'USA'}, 'rank': 5.0, 'city': 'Fort Lauderdale', 'tz': 'EST', 'country': 'USA'}, 'James Elliott': {'person': True, 'type': 'person', 'name': 'James Elliott', 'hire_date': datetime.date(2021, 7, 31), 'status': 'Full Time', 'languages': ['Python', 'Go'], 'manager': 'Kaitlin Little', 'team': 'DevX', 'title': 'Engineer', 'location': {'city': 'Fort Lauderdale', 'tz': 'EST', 'country': 'USA'}, 'rank': 5.0, 'city': 'Fort Lauderdale', 'tz': 'EST', 'country': 'USA'}, 'Marissa Martinez': {'person': True, 'type': 'person', 'name': 'Marissa Martinez', 'hire_date': datetime.date(2022, 6, 7), 'status': 'Contract', 'languages': ['Python', 'Typescript', 'JavaScript', 'Go'], 'manager': 'Kaitlin Little', 'team': 'DevX', 'title': 'Engineer', 'location': {'city': 'Fort Lauderdale', 'tz': 'EST', 'country': 'USA'}, 'rank': 5.0, 'city': 'Fort Lauderdale', 'tz': 'EST', 'country': 'USA'}, 'James Moore': {'person': True, 'type': 'person', 'name': 'James Moore', 'hire_date': datetime.date(2020, 8, 20), 'status': 'Full Time', 'languages': ['Python', 'Typescript'], 'manager': 'Kaitlin Little', 'team': 'DevX', 'title': 'Engineer', 'location': {'city': 'Fort Lauderdale', 'tz': 'EST', 'country': 'USA'}, 'rank': 5.0, 'city': 'Fort Lauderdale', 'tz': 'EST', 'country': 'USA'}, 'Marissa Johnson': {'person': True, 'type': 'person', 'name': 'Marissa Johnson', 'hire_date': datetime.date(2021, 5, 16), 'status': 'Full Time', 'languages': ['Python'], 'manager': 'Kaitlin Little', 'team': 'DevX', 'title': 'Engineer', 'location': {'city': 'Fort Lauderdale', 'tz': 'EST', 'country': 'USA'}, 'rank': 5.0, 'city': 'Fort Lauderdale', 'tz': 'EST', 'country': 'USA'}, 'Bonnie Nash': {'person': True, 'type': 'person', 'name': 'Bonnie Nash', 'hire_date': datetime.date(2021, 6, 22), 'status': 'Full Time', 'languages': ['Typescript', 'JavaScript', 'Scala'], 'manager': 'Kaitlin Little', 'team': 'DevX', 'title': 'Engineer', 'location': {'city': 'Fort Lauderdale', 'tz': 'EST', 'country': 'USA'}, 'rank': 5.0, 'city': 'Fort Lauderdale', 'tz': 'EST', 'country': 'USA'}, 'Cody Holland': {'person': True, 'type': 'person', 'name': 'Cody Holland', 'hire_date': datetime.date(2021, 1, 29), 'status': 'Full Time', 'languages': ['Scala'], 'manager': 'Kaitlin Little', 'team': 'DevX', 'title': 'Engineer', 'location': {'city': 'Fort Lauderdale', 'tz': 'EST', 'country': 'USA'}, 'rank': 5.0, 'city': 'Fort Lauderdale', 'tz': 'EST', 'country': 'USA'}, 'Mark Crawford': {'person': True, 'type': 'person', 'name': 'Mark Crawford', 'hire_date': datetime.date(2020, 11, 1), 'status': 'Contract', 'languages': ['Typescript', 'JavaScript'], 'manager': 'Kaitlin Little', 'team': 'DevX', 'title': 'Engineer', 'location': {'city': 'Fort Lauderdale', 'tz': 'EST', 'country': 'USA'}, 'rank': 5.0, 'city': 'Fort Lauderdale', 'tz': 'EST', 'country': 'USA'}, 'Carolyn Roth': {'person': True, 'type': 'person', 'name': 'Carolyn Roth', 'hire_date': datetime.date(2020, 12, 29), 'status': 'Contract', 'languages': ['JavaScript'], 'manager': 'Kaitlin Little', 'team': 'DevX', 'title': 'Engineer', 'location': {'city': 'Fort Lauderdale', 'tz': 'EST', 'country': 'USA'}, 'rank': 5.0, 'city': 'Fort Lauderdale', 'tz': 'EST', 'country': 'USA'}, 'Jake Barber': {'person': True, 'type': 'person', 'name': 'Jake Barber', 'hire_date': datetime.date(2021, 8, 29), 'status': 'Full Time', 'languages': ['Python'], 'manager': 'Todd Peterson', 'team': 'DevX', 'title': 'Engineer', 'location': {'city': 'Fort Lauderdale', 'tz': 'EST', 'country': 'USA'}, 'rank': 5.0, 'city': 'Fort Lauderdale', 'tz': 'EST', 'country': 'USA'}, 'Samantha Jordan': {'person': True, 'type': 'person', 'name': 'Samantha Jordan', 'hire_date': datetime.date(2021, 3, 13), 'status': 'Full Time', 'languages': [], 'manager': 'Todd Peterson', 'team': 'DevX', 'title': 'Engineer', 'location': {'city': 'Fort Lauderdale', 'tz': 'EST', 'country': 'USA'}, 'rank': 5.0, 'city': 'Fort Lauderdale', 'tz': 'EST', 'country': 'USA'}, 'Christina Graves': {'person': True, 'type': 'person', 'name': 'Christina Graves', 'hire_date': datetime.date(2023, 2, 5), 'status': 'Full Time', 'languages': ['Typescript', 'JavaScript', 'Scala', 'Java'], 'manager': 'Todd Peterson', 'team': 'DevX', 'title': 'Engineer', 'location': {'city': 'Fort Lauderdale', 'tz': 'EST', 'country': 'USA'}, 'rank': 5.0, 'city': 'Fort Lauderdale', 'tz': 'EST', 'country': 'USA'}, 'Sarah Little': {'person': True, 'type': 'person', 'name': 'Sarah Little', 'hire_date': datetime.date(2022, 5, 22), 'status': 'Full Time', 'languages': ['Go'], 'manager': 'Todd Peterson', 'team': 'DevX', 'title': 'Engineer', 'location': {'city': 'Fort Lauderdale', 'tz': 'EST', 'country': 'USA'}, 'rank': 5.0, 'city': 'Fort Lauderdale', 'tz': 'EST', 'country': 'USA'}, 'Lisa Robbins': {'person': True, 'type': 'person', 'name': 'Lisa Robbins', 'hire_date': datetime.date(2022, 6, 1), 'status': 'Full Time', 'languages': ['Erlang'], 'manager': 'Todd Peterson', 'team': 'DevX', 'title': 'Engineer', 'location': {'city': 'Fort Lauderdale', 'tz': 'EST', 'country': 'USA'}, 'rank': 5.0, 'city': 'Fort Lauderdale', 'tz': 'EST', 'country': 'USA'}, 'Mary Gonzalez': {'person': True, 'type': 'person', 'name': 'Mary Gonzalez', 'hire_date': datetime.date(2022, 9, 30), 'status': 'Full Time', 'languages': ['Python', 'Java'], 'manager': 'Todd Peterson', 'team': 'DevX', 'title': 'Engineer', 'location': {'city': 'Fort Lauderdale', 'tz': 'EST', 'country': 'USA'}, 'rank': 5.0, 'city': 'Fort Lauderdale', 'tz': 'EST', 'country': 'USA'}, 'Vickie Barrett': {'person': True, 'type': 'person', 'name': 'Vickie Barrett', 'hire_date': datetime.date(2021, 11, 22), 'status': 'Full Time', 'languages': ['Typescript'], 'manager': 'Todd Peterson', 'team': 'DevX', 'title': 'Engineer', 'location': {'city': 'Fort Lauderdale', 'tz': 'EST', 'country': 'USA'}, 'rank': 5.0, 'city': 'Fort Lauderdale', 'tz': 'EST', 'country': 'USA'}, 'Jose Williams': {'person': True, 'type': 'person', 'name': 'Jose Williams', 'hire_date': datetime.date(2023, 2, 14), 'status': 'Full Time', 'languages': ['Python'], 'manager': 'Jordan Harper', 'team': 'DevX', 'title': 'AVP', 'location': {'city': 'Fort Lauderdale', 'tz': 'EST', 'country': 'USA'}, 'rank': 6.0, 'city': 'Fort Lauderdale', 'tz': 'EST', 'country': 'USA'}, 'Christopher Taylor': {'person': True, 'type': 'person', 'name': 'Christopher Taylor', 'hire_date': datetime.date(2022, 11, 11), 'status': 'Full Time', 'languages': ['Python'], 'manager': 'Jose Williams', 'team': 'DevX', 'title': 'AVP', 'location': {'city': 'Fort Lauderdale', 'tz': 'EST', 'country': 'USA'}, 'rank': 6.0, 'city': 'Fort Lauderdale', 'tz': 'EST', 'country': 'USA'}, 'Kaitlin Little': {'person': True, 'type': 'person', 'name': 'Kaitlin Little', 'hire_date': datetime.date(2022, 7, 23), 'status': 'Full Time', 'languages': ['JavaScript'], 'manager': 'Jose Williams', 'team': 'DevX', 'title': 'AVP', 'location': {'city': 'Fort Lauderdale', 'tz': 'EST', 'country': 'USA'}, 'rank': 6.0, 'city': 'Fort Lauderdale', 'tz': 'EST', 'country': 'USA'}, 'Todd Peterson': {'person': True, 'type': 'person', 'name': 'Todd Peterson', 'hire_date': datetime.date(2021, 1, 19), 'status': 'Contract', 'languages': [], 'manager': 'Jose Williams', 'team': 'DevX', 'title': 'AVP', 'location': {'city': 'Fort Lauderdale', 'tz': 'EST', 'country': 'USA'}, 'rank': 6.0, 'city': 'Fort Lauderdale', 'tz': 'EST', 'country': 'USA'}, 'Hannah Young': {'person': True, 'type': 'person', 'name': 'Hannah Young', 'hire_date': datetime.date(2022, 10, 12), 'status': 'Full Time', 'languages': ['Java', 'Python', 'Typescript', 'JavaScript', 'Scala'], 'manager': 'Dustin Cantrell', 'team': 'Internal Tools', 'title': 'Engineer', 'location': {'city': 'Toronto', 'tz': 'EST', 'country': 'CAN'}, 'rank': 1.0, 'city': 'Toronto', 'tz': 'EST', 'country': 'CAN'}, 'Sandra Buckley': {'person': True, 'type': 'person', 'name': 'Sandra Buckley', 'hire_date': datetime.date(2022, 8, 1), 'status': 'Full Time', 'languages': ['JavaScript', 'Java'], 'manager': 'Dustin Cantrell', 'team': 'Internal Tools', 'title': 'Engineer', 'location': {'city': 'Seattle', 'tz': 'PST', 'country': 'USA'}, 'rank': 1.0, 'city': 'Seattle', 'tz': 'PST', 'country': 'USA'}, 'Gregory Colon': {'person': True, 'type': 'person', 'name': 'Gregory Colon', 'hire_date': datetime.date(2020, 8, 18), 'status': 'Full Time', 'languages': ['Scala'], 'manager': 'Sonya Marshall', 'team': 'Internal Tools', 'title': 'Engineer', 'location': {'city': 'Seattle', 'tz': 'PST', 'country': 'USA'}, 'rank': 1.0, 'city': 'Seattle', 'tz': 'PST', 'country': 'USA'}, 'Cynthia Brown': {'person': True, 'type': 'person', 'name': 'Cynthia Brown', 'hire_date': datetime.date(2023, 3, 11), 'status': 'Full Time', 'languages': ['JavaScript'], 'manager': 'Dustin Cantrell', 'team': 'Internal Tools', 'title': 'Senior Engineer', 'location': {'city': 'Toronto', 'tz': 'EST', 'country': 'CAN'}, 'rank': 2.0, 'city': 'Toronto', 'tz': 'EST', 'country': 'CAN'}, 'Eric Clark': {'person': True, 'type': 'person', 'name': 'Eric Clark', 'hire_date': datetime.date(2021, 6, 16), 'status': 'Full Time', 'languages': ['Python', 'JavaScript'], 'manager': 'Dustin Cantrell', 'team': 'Internal Tools', 'title': 'Senior Engineer', 'location': {'city': 'Seattle', 'tz': 'PST', 'country': 'USA'}, 'rank': 2.0, 'city': 'Seattle', 'tz': 'PST', 'country': 'USA'}, 'Brent Harris': {'person': True, 'type': 'person', 'name': 'Brent Harris', 'hire_date': datetime.date(2022, 4, 30), 'status': 'Contract', 'languages': ['Scala'], 'manager': 'Dustin Cantrell', 'team': 'Internal Tools', 'title': 'Senior Engineer', 'location': {'city': 'Seattle', 'tz': 'PST', 'country': 'USA'}, 'rank': 2.0, 'city': 'Seattle', 'tz': 'PST', 'country': 'USA'}, 'Vicki Lambert': {'person': True, 'type': 'person', 'name': 'Vicki Lambert', 'hire_date': datetime.date(2021, 11, 25), 'status': 'Full Time', 'languages': ['JavaScript', 'Go', 'Scala'], 'manager': 'Dustin Cantrell', 'team': 'Internal Tools', 'title': 'Senior Engineer', 'location': {'city': 'Toronto', 'tz': 'EST', 'country': 'CAN'}, 'rank': 2.0, 'city': 'Toronto', 'tz': 'EST', 'country': 'CAN'}, 'Kristen Cohen': {'person': True, 'type': 'person', 'name': 'Kristen Cohen', 'hire_date': datetime.date(2020, 12, 28), 'status': 'Contract', 'languages': ['Typescript'], 'manager': 'Dustin Cantrell', 'team': 'Internal Tools', 'title': 'Senior Engineer', 'location': {'city': 'Seattle', 'tz': 'PST', 'country': 'USA'}, 'rank': 2.0, 'city': 'Seattle', 'tz': 'PST', 'country': 'USA'}, 'Bruce Torres': {'person': True, 'type': 'person', 'name': 'Bruce Torres', 'hire_date': datetime.date(2022, 8, 23), 'status': 'Full Time', 'languages': ['JavaScript'], 'manager': 'Dustin Cantrell', 'team': 'Internal Tools', 'title': 'Manager', 'location': {'city': 'Seattle', 'tz': 'PST', 'country': 'USA'}, 'rank': 3.0, 'city': 'Seattle', 'tz': 'PST', 'country': 'USA'}, 'Carrie Cunningham': {'person': True, 'type': 'person', 'name': 'Carrie Cunningham', 'hire_date': datetime.date(2020, 10, 11), 'status': 'Full Time', 'languages': ['JavaScript'], 'manager': 'Dustin Cantrell', 'team': 'Internal Tools', 'title': 'Manager', 'location': {'city': 'Toronto', 'tz': 'EST', 'country': 'CAN'}, 'rank': 3.0, 'city': 'Toronto', 'tz': 'EST', 'country': 'CAN'}, 'Brittney Watkins': {'person': True, 'type': 'person', 'name': 'Brittney Watkins', 'hire_date': datetime.date(2022, 8, 6), 'status': 'Full Time', 'languages': ['Erlang', 'JavaScript'], 'manager': 'Dustin Cantrell', 'team': 'Internal Tools', 'title': 'AVP', 'location': {'city': 'Seattle', 'tz': 'PST', 'country': 'USA'}, 'rank': 4.0, 'city': 'Seattle', 'tz': 'PST', 'country': 'USA'}, 'Dr. Melissa Hernandez': {'person': True, 'type': 'person', 'name': 'Dr. Melissa Hernandez', 'hire_date': datetime.date(2020, 6, 28), 'status': 'Contract', 'languages': ['JavaScript'], 'manager': 'Jordan Harper', 'team': 'Internal Tools', 'title': 'VP', 'location': {'city': 'Toronto', 'tz': 'EST', 'country': 'CAN'}, 'rank': 5.0, 'city': 'Toronto', 'tz': 'EST', 'country': 'CAN'}, 'Dustin Cantrell': {'person': True, 'type': 'person', 'name': 'Dustin Cantrell', 'hire_date': datetime.date(2020, 5, 4), 'status': 'Full Time', 'languages': [], 'manager': 'Dr. Melissa Hernandez', 'team': 'Internal Tools', 'title': 'VP', 'location': {'city': 'Seattle', 'tz': 'PST', 'country': 'USA'}, 'rank': 5.0, 'city': 'Seattle', 'tz': 'PST', 'country': 'USA'}, 'Sonya Marshall': {'person': True, 'type': 'person', 'name': 'Sonya Marshall', 'hire_date': datetime.date(2021, 8, 4), 'status': 'Contract', 'languages': ['Python', 'Erlang', 'JavaScript'], 'manager': 'Dr. Melissa Hernandez', 'team': 'Internal Tools', 'title': 'VP', 'location': {'city': 'Toronto', 'tz': 'EST', 'country': 'CAN'}, 'rank': 5.0, 'city': 'Toronto', 'tz': 'EST', 'country': 'CAN'}, 'Ashley Fleming': {'person': True, 'type': 'person', 'name': 'Ashley Fleming', 'hire_date': datetime.date(2023, 3, 7), 'status': 'Full Time', 'languages': ['Go'], 'manager': 'Dr. Melissa Hernandez', 'team': 'Internal Tools', 'title': 'VP', 'location': {'city': 'Seattle', 'tz': 'PST', 'country': 'USA'}, 'rank': 5.0, 'city': 'Seattle', 'tz': 'PST', 'country': 'USA'}, 'Debbie Sweeney': {'person': True, 'type': 'person', 'name': 'Debbie Sweeney', 'hire_date': datetime.date(2020, 11, 18), 'status': 'Full Time', 'languages': ['Python', 'Typescript', 'Go', 'Java'], 'manager': 'Eric Davis', 'team': 'Platform', 'title': 'Engineer', 'location': {'city': 'Seattle', 'tz': 'PST', 'country': 'USA'}, 'rank': 1.0, 'city': 'Seattle', 'tz': 'PST', 'country': 'USA'}, 'Susan Beasley': {'person': True, 'type': 'person', 'name': 'Susan Beasley', 'hire_date': datetime.date(2020, 7, 3), 'status': 'Full Time', 'languages': ['Erlang', 'Typescript', 'JavaScript', 'Go'], 'manager': 'Eric Davis', 'team': 'Platform', 'title': 'Senior Engineer', 'location': {'city': 'Toronto', 'tz': 'EST', 'country': 'CAN'}, 'rank': 2.0, 'city': 'Toronto', 'tz': 'EST', 'country': 'CAN'}, 'Sarah Robertson': {'person': True, 'type': 'person', 'name': 'Sarah Robertson', 'hire_date': datetime.date(2021, 7, 26), 'status': 'Full Time', 'languages': ['Java'], 'manager': 'Andrew Peterson', 'team': 'Platform', 'title': 'Senior Engineer', 'location': {'city': 'Toronto', 'tz': 'EST', 'country': 'CAN'}, 'rank': 2.0, 'city': 'Toronto', 'tz': 'EST', 'country': 'CAN'}, 'Belinda Davis': {'person': True, 'type': 'person', 'name': 'Belinda Davis', 'hire_date': datetime.date(2021, 7, 8), 'status': 'Contract', 'languages': ['Typescript', 'JavaScript', 'Scala', 'Java'], 'manager': 'Colleen Williamson', 'team': 'Platform', 'title': 'Managing Engineer', 'location': {'city': 'Toronto', 'tz': 'EST', 'country': 'CAN'}, 'rank': 3.0, 'city': 'Toronto', 'tz': 'EST', 'country': 'CAN'}, 'Mary Wright': {'person': True, 'type': 'person', 'name': 'Mary Wright', 'hire_date': datetime.date(2023, 2, 25), 'status': 'Part Time', 'languages': ['JavaScript'], 'manager': 'Eric Davis', 'team': 'Platform', 'title': 'Managing Engineer', 'location': {'city': 'Toronto', 'tz': 'EST', 'country': 'CAN'}, 'rank': 3.0, 'city': 'Toronto', 'tz': 'EST', 'country': 'CAN'}, 'Robert Rodriguez': {'person': True, 'type': 'person', 'name': 'Robert Rodriguez', 'hire_date': datetime.date(2022, 1, 19), 'status': 'Full Time', 'languages': [], 'manager': 'Eric Davis', 'team': 'Platform', 'title': 'Managing Engineer', 'location': {'city': 'Seattle', 'tz': 'PST', 'country': 'USA'}, 'rank': 3.0, 'city': 'Seattle', 'tz': 'PST', 'country': 'USA'}, 'Mike Watkins': {'person': True, 'type': 'person', 'name': 'Mike Watkins', 'hire_date': datetime.date(2021, 6, 30), 'status': 'Contract', 'languages': ['Python', 'Typescript', 'Java'], 'manager': 'Eric Davis', 'team': 'Platform', 'title': 'AVP', 'location': {'city': 'Toronto', 'tz': 'EST', 'country': 'CAN'}, 'rank': 4.0, 'city': 'Toronto', 'tz': 'EST', 'country': 'CAN'}, 'Matthew Robinson': {'person': True, 'type': 'person', 'name': 'Matthew Robinson', 'hire_date': datetime.date(2023, 1, 31), 'status': 'Full Time', 'languages': ['Python', 'Typescript', 'Java'], 'manager': 'Eric Davis', 'team': 'Platform', 'title': 'AVP', 'location': {'city': 'Toronto', 'tz': 'EST', 'country': 'CAN'}, 'rank': 4.0, 'city': 'Toronto', 'tz': 'EST', 'country': 'CAN'}, 'Brandon Martinez': {'person': True, 'type': 'person', 'name': 'Brandon Martinez', 'hire_date': datetime.date(2020, 9, 6), 'status': 'Full Time', 'languages': ['JavaScript'], 'manager': 'Eric Davis', 'team': 'Platform', 'title': 'AVP', 'location': {'city': 'Seattle', 'tz': 'PST', 'country': 'USA'}, 'rank': 4.0, 'city': 'Seattle', 'tz': 'PST', 'country': 'USA'}, 'Colleen Williamson': {'person': True, 'type': 'person', 'name': 'Colleen Williamson', 'hire_date': datetime.date(2021, 8, 9), 'status': 'Full Time', 'languages': ['Scala'], 'manager': 'Jordan Harper', 'team': 'Platform', 'title': 'VP', 'location': {'city': 'Toronto', 'tz': 'EST', 'country': 'CAN'}, 'rank': 5.0, 'city': 'Toronto', 'tz': 'EST', 'country': 'CAN'}, 'Eric Davis': {'person': True, 'type': 'person', 'name': 'Eric Davis', 'hire_date': datetime.date(2021, 3, 3), 'status': 'Full Time', 'languages': ['Java'], 'manager': 'Colleen Williamson', 'team': 'Platform', 'title': 'VP', 'location': {'city': 'Seattle', 'tz': 'PST', 'country': 'USA'}, 'rank': 5.0, 'city': 'Seattle', 'tz': 'PST', 'country': 'USA'}, 'Andrew Peterson': {'person': True, 'type': 'person', 'name': 'Andrew Peterson', 'hire_date': datetime.date(2021, 3, 16), 'status': 'Full Time', 'languages': ['Go', 'Java'], 'manager': 'Colleen Williamson', 'team': 'Platform', 'title': 'VP', 'location': {'city': 'Seattle', 'tz': 'PST', 'country': 'USA'}, 'rank': 5.0, 'city': 'Seattle', 'tz': 'PST', 'country': 'USA'}, 'Rebecca Perry': {'person': True, 'type': 'person', 'name': 'Rebecca Perry', 'hire_date': datetime.date(2022, 10, 20), 'status': 'Full Time', 'languages': ['Typescript', 'Go'], 'manager': 'Michelle Marshall', 'team': 'Product', 'title': 'Engineer', 'location': {'city': 'Seattle', 'tz': 'PST', 'country': 'USA'}, 'rank': 1.0, 'city': 'Seattle', 'tz': 'PST', 'country': 'USA'}, 'Yvonne Delacruz': {'person': True, 'type': 'person', 'name': 'Yvonne Delacruz', 'hire_date': datetime.date(2021, 5, 12), 'status': 'Full Time', 'languages': ['JavaScript', 'Java'], 'manager': 'Michelle Marshall', 'team': 'Product', 'title': 'Engineer', 'location': {'city': 'Toronto', 'tz': 'EST', 'country': 'CAN'}, 'rank': 1.0, 'city': 'Toronto', 'tz': 'EST', 'country': 'CAN'}, 'Katie Huff': {'person': True, 'type': 'person', 'name': 'Katie Huff', 'hire_date': datetime.date(2020, 5, 3), 'status': 'Full Time', 'languages': ['Python', 'Java'], 'manager': 'Heidi Mullins', 'team': 'Product', 'title': 'Engineer', 'location': {'city': 'Seattle', 'tz': 'PST', 'country': 'USA'}, 'rank': 1.0, 'city': 'Seattle', 'tz': 'PST', 'country': 'USA'}, 'Raymond Hess': {'person': True, 'type': 'person', 'name': 'Raymond Hess', 'hire_date': datetime.date(2021, 6, 27), 'status': 'Part Time', 'languages': ['Python', 'Typescript', 'Go', 'Java'], 'manager': 'Jordan Harper', 'team': 'Product', 'title': 'Manager', 'location': {'city': 'New York', 'tz': 'EST', 'country': 'USA'}, 'rank': 2.0, 'city': 'New York', 'tz': 'EST', 'country': 'USA'}, 'Antonio Flynn': {'person': True, 'type': 'person', 'name': 'Antonio Flynn', 'hire_date': datetime.date(2022, 4, 4), 'status': 'Full Time', 'languages': ['Python', 'JavaScript', 'Java'], 'manager': 'Michelle Marshall', 'team': 'Product', 'title': 'Manager', 'location': {'city': 'New York', 'tz': 'EST', 'country': 'USA'}, 'rank': 2.0, 'city': 'New York', 'tz': 'EST', 'country': 'USA'}, 'Jessica Cruz': {'person': True, 'type': 'person', 'name': 'Jessica Cruz', 'hire_date': datetime.date(2021, 7, 15), 'status': 'Contract', 'languages': ['Erlang', 'Java'], 'manager': 'Michelle Marshall', 'team': 'Product', 'title': 'Manager', 'location': {'city': 'New York', 'tz': 'EST', 'country': 'USA'}, 'rank': 2.0, 'city': 'New York', 'tz': 'EST', 'country': 'USA'}, 'Michael Hansen': {'person': True, 'type': 'person', 'name': 'Michael Hansen', 'hire_date': datetime.date(2021, 1, 29), 'status': 'Contract', 'languages': [], 'manager': 'Michelle Marshall', 'team': 'Product', 'title': 'Manager', 'location': {'city': 'New York', 'tz': 'EST', 'country': 'USA'}, 'rank': 2.0, 'city': 'New York', 'tz': 'EST', 'country': 'USA'}, 'Chelsea Navarro': {'person': True, 'type': 'person', 'name': 'Chelsea Navarro', 'hire_date': datetime.date(2020, 9, 1), 'status': 'Contract', 'languages': ['Python', 'JavaScript', 'Java'], 'manager': 'Heidi Mullins', 'team': 'Product', 'title': 'Manager', 'location': {'city': 'Toronto', 'tz': 'EST', 'country': 'CAN'}, 'rank': 2.0, 'city': 'Toronto', 'tz': 'EST', 'country': 'CAN'}, 'Holly Flores': {'person': True, 'type': 'person', 'name': 'Holly Flores', 'hire_date': datetime.date(2020, 11, 18), 'status': 'Full Time', 'languages': ['Python', 'Typescript', 'Java'], 'manager': 'Heidi Mullins', 'team': 'Product', 'title': 'Manager', 'location': {'city': 'New York', 'tz': 'EST', 'country': 'USA'}, 'rank': 2.0, 'city': 'New York', 'tz': 'EST', 'country': 'USA'}, 'Melissa Webb': {'person': True, 'type': 'person', 'name': 'Melissa Webb', 'hire_date': datetime.date(2020, 5, 12), 'status': 'Full Time', 'languages': [], 'manager': 'Tyler Figueroa', 'team': 'Product', 'title': 'Manager', 'location': {'city': 'Seattle', 'tz': 'PST', 'country': 'USA'}, 'rank': 2.0, 'city': 'Seattle', 'tz': 'PST', 'country': 'USA'}, 'James Vasquez': {'person': True, 'type': 'person', 'name': 'James Vasquez', 'hire_date': datetime.date(2020, 9, 20), 'status': 'Full Time', 'languages': [], 'manager': 'Michelle Marshall', 'team': 'Product', 'title': 'Product Owner', 'location': {'city': 'Seattle', 'tz': 'PST', 'country': 'USA'}, 'rank': 3.0, 'city': 'Seattle', 'tz': 'PST', 'country': 'USA'}, 'Nicholas Hughes': {'person': True, 'type': 'person', 'name': 'Nicholas Hughes', 'hire_date': datetime.date(2022, 4, 15), 'status': 'Full Time', 'languages': ['JavaScript'], 'manager': 'Michelle Marshall', 'team': 'Product', 'title': 'Product Owner', 'location': {'city': 'Toronto', 'tz': 'EST', 'country': 'CAN'}, 'rank': 3.0, 'city': 'Toronto', 'tz': 'EST', 'country': 'CAN'}, 'Jennifer Hamilton': {'person': True, 'type': 'person', 'name': 'Jennifer Hamilton', 'hire_date': datetime.date(2021, 10, 17), 'status': 'Full Time', 'languages': ['Python', 'JavaScript', 'Scala', 'Java'], 'manager': 'Michelle Marshall', 'team': 'Product', 'title': 'Product Owner', 'location': {'city': 'Toronto', 'tz': 'EST', 'country': 'CAN'}, 'rank': 3.0, 'city': 'Toronto', 'tz': 'EST', 'country': 'CAN'}, 'Jessica Lewis': {'person': True, 'type': 'person', 'name': 'Jessica Lewis', 'hire_date': datetime.date(2020, 5, 15), 'status': 'Part Time', 'languages': ['Python', 'Go', 'Java'], 'manager': 'Michelle Marshall', 'team': 'Product', 'title': 'Product Owner', 'location': {'city': 'Seattle', 'tz': 'PST', 'country': 'USA'}, 'rank': 3.0, 'city': 'Seattle', 'tz': 'PST', 'country': 'USA'}, 'Elizabeth Friedman': {'person': True, 'type': 'person', 'name': 'Elizabeth Friedman', 'hire_date': datetime.date(2021, 9, 2), 'status': 'Full Time', 'languages': ['Python'], 'manager': 'Michelle Marshall', 'team': 'Product', 'title': 'Product Owner', 'location': {'city': 'Toronto', 'tz': 'EST', 'country': 'CAN'}, 'rank': 3.0, 'city': 'Toronto', 'tz': 'EST', 'country': 'CAN'}, 'Michelle Johnson': {'person': True, 'type': 'person', 'name': 'Michelle Johnson', 'hire_date': datetime.date(2022, 3, 16), 'status': 'Full Time', 'languages': ['JavaScript'], 'manager': 'Michelle Marshall', 'team': 'Product', 'title': 'Product Owner', 'location': {'city': 'New York', 'tz': 'EST', 'country': 'USA'}, 'rank': 3.0, 'city': 'New York', 'tz': 'EST', 'country': 'USA'}, 'Lucas Burns': {'person': True, 'type': 'person', 'name': 'Lucas Burns', 'hire_date': datetime.date(2023, 3, 6), 'status': 'Contract', 'languages': ['Python', 'Typescript', 'JavaScript'], 'manager': 'Heidi Mullins', 'team': 'Product', 'title': 'Product Owner', 'location': {'city': 'New York', 'tz': 'EST', 'country': 'USA'}, 'rank': 3.0, 'city': 'New York', 'tz': 'EST', 'country': 'USA'}, 'Robert Houston': {'person': True, 'type': 'person', 'name': 'Robert Houston', 'hire_date': datetime.date(2021, 9, 30), 'status': 'Full Time', 'languages': ['Python', 'Typescript'], 'manager': 'Michelle Marshall', 'team': 'Product', 'title': 'AVP', 'location': {'city': 'Seattle', 'tz': 'PST', 'country': 'USA'}, 'rank': 4.0, 'city': 'Seattle', 'tz': 'PST', 'country': 'USA'}, 'Elizabeth Ross': {'person': True, 'type': 'person', 'name': 'Elizabeth Ross', 'hire_date': datetime.date(2022, 5, 1), 'status': 'Full Time', 'languages': ['JavaScript'], 'manager': 'Michelle Marshall', 'team': 'Product', 'title': 'AVP', 'location': {'city': 'New York', 'tz': 'EST', 'country': 'USA'}, 'rank': 4.0, 'city': 'New York', 'tz': 'EST', 'country': 'USA'}, 'Miss Sarah Bradshaw': {'person': True, 'type': 'person', 'name': 'Miss Sarah Bradshaw', 'hire_date': datetime.date(2021, 7, 14), 'status': 'Full Time', 'languages': ['JavaScript', 'Java'], 'manager': 'Michelle Marshall', 'team': 'Product', 'title': 'AVP', 'location': {'city': 'New York', 'tz': 'EST', 'country': 'USA'}, 'rank': 4.0, 'city': 'New York', 'tz': 'EST', 'country': 'USA'}, 'Sara Hill': {'person': True, 'type': 'person', 'name': 'Sara Hill', 'hire_date': datetime.date(2022, 12, 10), 'status': 'Full Time', 'languages': ['Python', 'Go', 'Scala', 'Java'], 'manager': 'Heidi Mullins', 'team': 'Product', 'title': 'AVP', 'location': {'city': 'New York', 'tz': 'EST', 'country': 'USA'}, 'rank': 4.0, 'city': 'New York', 'tz': 'EST', 'country': 'USA'}, 'Michelle Marshall': {'person': True, 'type': 'person', 'name': 'Michelle Marshall', 'hire_date': datetime.date(2022, 1, 16), 'status': 'Full Time', 'languages': ['Typescript'], 'manager': 'Jordan Harper', 'team': 'Product', 'title': 'VP', 'location': {'city': 'Toronto', 'tz': 'EST', 'country': 'CAN'}, 'rank': 5.0, 'city': 'Toronto', 'tz': 'EST', 'country': 'CAN'}, 'Heidi Mullins': {'person': True, 'type': 'person', 'name': 'Heidi Mullins', 'hire_date': datetime.date(2020, 10, 21), 'status': 'Full Time', 'languages': ['Typescript', 'JavaScript', 'Java'], 'manager': 'Michelle Marshall', 'team': 'Product', 'title': 'VP', 'location': {'city': 'Seattle', 'tz': 'PST', 'country': 'USA'}, 'rank': 5.0, 'city': 'Seattle', 'tz': 'PST', 'country': 'USA'}, 'Tyler Figueroa': {'person': True, 'type': 'person', 'name': 'Tyler Figueroa', 'hire_date': datetime.date(2021, 12, 12), 'status': 'Contract', 'languages': [], 'manager': 'Michelle Marshall', 'team': 'Product', 'title': 'VP', 'location': {'city': 'Seattle', 'tz': 'PST', 'country': 'USA'}, 'rank': 5.0, 'city': 'Seattle', 'tz': 'PST', 'country': 'USA'}, 'Andrew Pruitt': {'person': True, 'type': 'person', 'name': 'Andrew Pruitt', 'hire_date': datetime.date(2021, 8, 7), 'status': 'Full Time', 'languages': ['JavaScript', 'Elixir', 'Scala'], 'manager': 'Jordan Harper', 'team': 'Sales', 'title': 'Associate', 'location': {'city': 'London', 'tz': 'UTC', 'country': 'GBR'}, 'rank': 1.0, 'city': 'London', 'tz': 'UTC', 'country': 'GBR'}, 'Timothy Schultz': {'person': True, 'type': 'person', 'name': 'Timothy Schultz', 'hire_date': datetime.date(2020, 11, 17), 'status': 'Contract', 'languages': ['Java'], 'manager': 'Andrew Pruitt', 'team': 'Sales', 'title': 'Associate', 'location': {'city': 'Toronto', 'tz': 'EST', 'country': 'CAN'}, 'rank': 1.0, 'city': 'Toronto', 'tz': 'EST', 'country': 'CAN'}, 'Brandon Kaufman MD': {'person': True, 'type': 'person', 'name': 'Brandon Kaufman MD', 'hire_date': datetime.date(2021, 2, 10), 'status': 'Full Time', 'languages': [], 'manager': 'Andrew Pruitt', 'team': 'Sales', 'title': 'Associate', 'location': {'city': 'London', 'tz': 'UTC', 'country': 'GBR'}, 'rank': 1.0, 'city': 'London', 'tz': 'UTC', 'country': 'GBR'}, 'Samantha Williams': {'person': True, 'type': 'person', 'name': 'Samantha Williams', 'hire_date': datetime.date(2020, 6, 17), 'status': 'Full Time', 'languages': ['JavaScript', 'Java'], 'manager': 'Andrew Pruitt', 'team': 'Sales', 'title': 'Associate', 'location': {'city': 'New York', 'tz': 'EST', 'country': 'USA'}, 'rank': 1.0, 'city': 'New York', 'tz': 'EST', 'country': 'USA'}, 'Theresa Bradshaw': {'person': True, 'type': 'person', 'name': 'Theresa Bradshaw', 'hire_date': datetime.date(2023, 1, 10), 'status': 'Part Time', 'languages': ['Python', 'Typescript'], 'manager': 'Andrew Pruitt', 'team': 'Sales', 'title': 'Associate', 'location': {'city': 'London', 'tz': 'UTC', 'country': 'GBR'}, 'rank': 1.0, 'city': 'London', 'tz': 'UTC', 'country': 'GBR'}, 'Carl Adams': {'person': True, 'type': 'person', 'name': 'Carl Adams', 'hire_date': datetime.date(2023, 4, 2), 'status': 'Contract', 'languages': ['Scala'], 'manager': 'Andrew Pruitt', 'team': 'Sales', 'title': 'Associate', 'location': {'city': 'Toronto', 'tz': 'EST', 'country': 'CAN'}, 'rank': 1.0, 'city': 'Toronto', 'tz': 'EST', 'country': 'CAN'}, 'Justin Lewis': {'person': True, 'type': 'person', 'name': 'Justin Lewis', 'hire_date': datetime.date(2021, 4, 24), 'status': 'Full Time', 'languages': [], 'manager': 'Andrew Pruitt', 'team': 'Sales', 'title': 'Associate', 'location': {'city': 'London', 'tz': 'UTC', 'country': 'GBR'}, 'rank': 1.0, 'city': 'London', 'tz': 'UTC', 'country': 'GBR'}, 'William Diaz': {'person': True, 'type': 'person', 'name': 'William Diaz', 'hire_date': datetime.date(2022, 8, 31), 'status': 'Full Time', 'languages': ['Typescript', 'Java'], 'manager': 'Andrew Pruitt', 'team': 'Sales', 'title': 'Associate', 'location': {'city': 'London', 'tz': 'UTC', 'country': 'GBR'}, 'rank': 1.0, 'city': 'London', 'tz': 'UTC', 'country': 'GBR'}, 'James Adams': {'person': True, 'type': 'person', 'name': 'James Adams', 'hire_date': datetime.date(2021, 10, 1), 'status': 'Full Time', 'languages': ['Java'], 'manager': 'Andrew Pruitt', 'team': 'Sales', 'title': 'Associate', 'location': {'city': 'New York', 'tz': 'EST', 'country': 'USA'}, 'rank': 1.0, 'city': 'New York', 'tz': 'EST', 'country': 'USA'}, 'Michael Adams': {'person': True, 'type': 'person', 'name': 'Michael Adams', 'hire_date': datetime.date(2022, 4, 8), 'status': 'Contract', 'languages': [], 'manager': 'Andrew Pruitt', 'team': 'Sales', 'title': 'Associate', 'location': {'city': 'Toronto', 'tz': 'EST', 'country': 'CAN'}, 'rank': 1.0, 'city': 'Toronto', 'tz': 'EST', 'country': 'CAN'}, 'Ashley Russell': {'person': True, 'type': 'person', 'name': 'Ashley Russell', 'hire_date': datetime.date(2020, 5, 21), 'status': 'Full Time', 'languages': ['Typescript', 'Java'], 'manager': 'Andrew Pruitt', 'team': 'Sales', 'title': 'Associate', 'location': {'city': 'London', 'tz': 'UTC', 'country': 'GBR'}, 'rank': 1.0, 'city': 'London', 'tz': 'UTC', 'country': 'GBR'}, 'Karen Smith': {'person': True, 'type': 'person', 'name': 'Karen Smith', 'hire_date': datetime.date(2022, 1, 29), 'status': 'Full Time', 'languages': ['JavaScript'], 'manager': 'Andrew Pruitt', 'team': 'Sales', 'title': 'Associate', 'location': {'city': 'London', 'tz': 'UTC', 'country': 'GBR'}, 'rank': 1.0, 'city': 'London', 'tz': 'UTC', 'country': 'GBR'}, 'Mr. David Walters': {'person': True, 'type': 'person', 'name': 'Mr. David Walters', 'hire_date': datetime.date(2023, 1, 1), 'status': 'Full Time', 'languages': [], 'manager': 'Andrew Pruitt', 'team': 'Sales', 'title': 'Associate', 'location': {'city': 'New York', 'tz': 'EST', 'country': 'USA'}, 'rank': 1.0, 'city': 'New York', 'tz': 'EST', 'country': 'USA'}, 'Kenneth Mcguire': {'person': True, 'type': 'person', 'name': 'Kenneth Mcguire', 'hire_date': datetime.date(2020, 6, 23), 'status': 'Full Time', 'languages': ['Python', 'Scala'], 'manager': 'Andrew Pruitt', 'team': 'Sales', 'title': 'Associate', 'location': {'city': 'New York', 'tz': 'EST', 'country': 'USA'}, 'rank': 1.0, 'city': 'New York', 'tz': 'EST', 'country': 'USA'}, 'Jacqueline White': {'person': True, 'type': 'person', 'name': 'Jacqueline White', 'hire_date': datetime.date(2022, 7, 18), 'status': 'Full Time', 'languages': ['JavaScript'], 'manager': 'Andrew Pruitt', 'team': 'Sales', 'title': 'Associate', 'location': {'city': 'London', 'tz': 'UTC', 'country': 'GBR'}, 'rank': 1.0, 'city': 'London', 'tz': 'UTC', 'country': 'GBR'}, 'Amanda Johnson': {'person': True, 'type': 'person', 'name': 'Amanda Johnson', 'hire_date': datetime.date(2022, 9, 9), 'status': 'Part Time', 'languages': ['JavaScript', 'Java'], 'manager': 'Andrew Pruitt', 'team': 'Sales', 'title': 'Associate', 'location': {'city': 'London', 'tz': 'UTC', 'country': 'GBR'}, 'rank': 1.0, 'city': 'London', 'tz': 'UTC', 'country': 'GBR'}, 'Stephen Randolph': {'person': True, 'type': 'person', 'name': 'Stephen Randolph', 'hire_date': datetime.date(2021, 3, 23), 'status': 'Contract', 'languages': ['Python'], 'manager': 'Andrew Pruitt', 'team': 'Sales', 'title': 'Associate', 'location': {'city': 'London', 'tz': 'UTC', 'country': 'GBR'}, 'rank': 1.0, 'city': 'London', 'tz': 'UTC', 'country': 'GBR'}, 'Kenneth Montoya': {'person': True, 'type': 'person', 'name': 'Kenneth Montoya', 'hire_date': datetime.date(2021, 10, 14), 'status': 'Full Time', 'languages': ['Java'], 'manager': 'Andrew Pruitt', 'team': 'Sales', 'title': 'Associate', 'location': {'city': 'London', 'tz': 'UTC', 'country': 'GBR'}, 'rank': 1.0, 'city': 'London', 'tz': 'UTC', 'country': 'GBR'}, 'Marie Smith': {'person': True, 'type': 'person', 'name': 'Marie Smith', 'hire_date': datetime.date(2020, 10, 3), 'status': 'Part Time', 'languages': ['JavaScript'], 'manager': 'Andrew Pruitt', 'team': 'Sales', 'title': 'Associate', 'location': {'city': 'London', 'tz': 'UTC', 'country': 'GBR'}, 'rank': 1.0, 'city': 'London', 'tz': 'UTC', 'country': 'GBR'}, 'Daryl Gillespie': {'person': True, 'type': 'person', 'name': 'Daryl Gillespie', 'hire_date': datetime.date(2020, 11, 29), 'status': 'Full Time', 'languages': ['Typescript', 'JavaScript', 'Java'], 'manager': 'Andrew Pruitt', 'team': 'Sales', 'title': 'Associate', 'location': {'city': 'London', 'tz': 'UTC', 'country': 'GBR'}, 'rank': 1.0, 'city': 'London', 'tz': 'UTC', 'country': 'GBR'}, 'Stephanie Peterson': {'person': True, 'type': 'person', 'name': 'Stephanie Peterson', 'hire_date': datetime.date(2021, 12, 29), 'status': 'Full Time', 'languages': ['Python', 'JavaScript', 'Scala', 'Java'], 'manager': 'Andrew Pruitt', 'team': 'Sales', 'title': 'Associate', 'location': {'city': 'London', 'tz': 'UTC', 'country': 'GBR'}, 'rank': 1.0, 'city': 'London', 'tz': 'UTC', 'country': 'GBR'}, 'Linda Cortez': {'person': True, 'type': 'person', 'name': 'Linda Cortez', 'hire_date': datetime.date(2020, 7, 4), 'status': 'Full Time', 'languages': [], 'manager': 'Andrew Pruitt', 'team': 'Sales', 'title': 'Associate', 'location': {'city': 'Toronto', 'tz': 'EST', 'country': 'CAN'}, 'rank': 1.0, 'city': 'Toronto', 'tz': 'EST', 'country': 'CAN'}, 'Mario Meyers': {'person': True, 'type': 'person', 'name': 'Mario Meyers', 'hire_date': datetime.date(2020, 8, 9), 'status': 'Full Time', 'languages': [], 'manager': 'Andrew Pruitt', 'team': 'Sales', 'title': 'Associate', 'location': {'city': 'New York', 'tz': 'EST', 'country': 'USA'}, 'rank': 1.0, 'city': 'New York', 'tz': 'EST', 'country': 'USA'}, 'Sandra Brown': {'person': True, 'type': 'person', 'name': 'Sandra Brown', 'hire_date': datetime.date(2022, 4, 21), 'status': 'Full Time', 'languages': [], 'manager': 'Andrew Pruitt', 'team': 'Sales', 'title': 'Associate', 'location': {'city': 'London', 'tz': 'UTC', 'country': 'GBR'}, 'rank': 1.0, 'city': 'London', 'tz': 'UTC', 'country': 'GBR'}, 'Shane Nguyen': {'person': True, 'type': 'person', 'name': 'Shane Nguyen', 'hire_date': datetime.date(2022, 11, 26), 'status': 'Part Time', 'languages': ['Python', 'Typescript', 'JavaScript', 'Java'], 'manager': 'Richard Alvarez', 'team': 'Support', 'title': 'Analyst', 'location': {'city': 'Dublin', 'tz': 'UTC', 'country': 'IRL'}, 'rank': 1.0, 'city': 'Dublin', 'tz': 'UTC', 'country': 'IRL'}, 'Aaron Myers': {'person': True, 'type': 'person', 'name': 'Aaron Myers', 'hire_date': datetime.date(2023, 1, 23), 'status': 'Full Time', 'languages': ['Typescript', 'JavaScript', 'Java'], 'manager': 'Lisa Boyer', 'team': 'Support', 'title': 'Analyst', 'location': {'city': 'Dublin', 'tz': 'UTC', 'country': 'IRL'}, 'rank': 1.0, 'city': 'Dublin', 'tz': 'UTC', 'country': 'IRL'}, 'Virginia Avila': {'person': True, 'type': 'person', 'name': 'Virginia Avila', 'hire_date': datetime.date(2021, 5, 9), 'status': 'Full Time', 'languages': ['Python', 'Typescript', 'JavaScript', 'Scala'], 'manager': 'Jordan Harper', 'team': 'Support', 'title': 'Manager', 'location': {'city': 'Dublin', 'tz': 'UTC', 'country': 'IRL'}, 'rank': 2.0, 'city': 'Dublin', 'tz': 'UTC', 'country': 'IRL'}, 'Richard Alvarez': {'person': True, 'type': 'person', 'name': 'Richard Alvarez', 'hire_date': datetime.date(2021, 5, 12), 'status': 'Contract', 'languages': [], 'manager': 'Virginia Avila', 'team': 'Support', 'title': 'Manager', 'location': {'city': 'Dublin', 'tz': 'UTC', 'country': 'IRL'}, 'rank': 2.0, 'city': 'Dublin', 'tz': 'UTC', 'country': 'IRL'}, 'Sarah Bennett': {'person': True, 'type': 'person', 'name': 'Sarah Bennett', 'hire_date': datetime.date(2022, 5, 16), 'status': 'Contract', 'languages': [], 'manager': 'Virginia Avila', 'team': 'Support', 'title': 'Manager', 'location': {'city': 'Dublin', 'tz': 'UTC', 'country': 'IRL'}, 'rank': 2.0, 'city': 'Dublin', 'tz': 'UTC', 'country': 'IRL'}, 'Holly Mcdonald': {'person': True, 'type': 'person', 'name': 'Holly Mcdonald', 'hire_date': datetime.date(2022, 5, 29), 'status': 'Full Time', 'languages': ['Typescript'], 'manager': 'Virginia Avila', 'team': 'Support', 'title': 'Manager', 'location': {'city': 'Dublin', 'tz': 'UTC', 'country': 'IRL'}, 'rank': 2.0, 'city': 'Dublin', 'tz': 'UTC', 'country': 'IRL'}, 'Lisa Boyer': {'person': True, 'type': 'person', 'name': 'Lisa Boyer', 'hire_date': datetime.date(2021, 2, 9), 'status': 'Full Time', 'languages': ['Python', 'Typescript', 'Java'], 'manager': 'Virginia Avila', 'team': 'Support', 'title': 'Manager', 'location': {'city': 'Dublin', 'tz': 'UTC', 'country': 'IRL'}, 'rank': 2.0, 'city': 'Dublin', 'tz': 'UTC', 'country': 'IRL'}, 'Curtis Brown': {'person': True, 'type': 'person', 'name': 'Curtis Brown', 'hire_date': datetime.date(2022, 11, 27), 'status': 'Full Time', 'languages': ['Python', 'JavaScript', 'Scala', 'Java'], 'manager': 'Virginia Avila', 'team': 'Support', 'title': 'Manager', 'location': {'city': 'Dublin', 'tz': 'UTC', 'country': 'IRL'}, 'rank': 2.0, 'city': 'Dublin', 'tz': 'UTC', 'country': 'IRL'}, 'Brianna Brown': {'person': True, 'type': 'person', 'name': 'Brianna Brown', 'hire_date': datetime.date(2023, 1, 26), 'status': 'Contract', 'languages': [], 'manager': 'Virginia Avila', 'team': 'Support', 'title': 'Manager', 'location': {'city': 'Dublin', 'tz': 'UTC', 'country': 'IRL'}, 'rank': 2.0, 'city': 'Dublin', 'tz': 'UTC', 'country': 'IRL'}, 'Jordan Harper': {'person': True, 'type': 'person', 'name': 'Jordan Harper', 'hire_date': datetime.date(2022, 7, 20), 'status': 'Full Time', 'languages': ['Scala', 'Java'], 'manager': 'Jordan Harper', 'team': 'CEO', 'title': 'CEO', 'location': {'city': 'Fort Lauderdale', 'tz': 'EST', 'country': 'USA'}, 'rank': 7.0, 'city': 'Fort Lauderdale', 'tz': 'EST', 'country': 'USA'}})"
      ]
     },
     "execution_count": 121,
     "metadata": {},
     "output_type": "execute_result"
    }
   ],
   "source": [
    "G = nx.Graph() # a simple undirected graph\n",
    "G.add_nodes_from(((person[\"name\"], person) for person in expanded_df.to_dict(orient=\"records\")), person=True, type=\"person\")\n",
    "G.nodes(data=True) # we can look at the contents (which should be very familiar!)"
   ]
  },
  {
   "attachments": {},
   "cell_type": "markdown",
   "id": "bb8b31bf-8f76-4b64-8251-15f9cd1fbd3f",
   "metadata": {},
   "source": [
    "### Visualizing\n",
    "\n",
    "Graphs lends themselves well to visual representations. NetworkX also makes this easy to do by tapping into Python's workhorse plotting library, `matplotlib`. We will revisit this later with a more dynamic + interactive approach to visualizing, but for the moment this is the fastest way to get things on paper"
   ]
  },
  {
   "cell_type": "code",
   "execution_count": 122,
   "id": "7f9eafe1-d5d1-43b5-a2ca-1e945edf4487",
   "metadata": {
    "execution": {
     "iopub.execute_input": "2023-01-10T16:24:10.215601Z",
     "iopub.status.busy": "2023-01-10T16:24:10.215121Z",
     "iopub.status.idle": "2023-01-10T16:24:11.051765Z",
     "shell.execute_reply": "2023-01-10T16:24:11.050817Z",
     "shell.execute_reply.started": "2023-01-10T16:24:10.215570Z"
    },
    "tags": []
   },
   "outputs": [
    {
     "data": {
      "image/png": "[encoded data removed]",
      "text/plain": [
       "<Figure size 640x480 with 1 Axes>"
      ]
     },
     "metadata": {},
     "output_type": "display_data"
    }
   ],
   "source": [
    "import matplotlib.pyplot as plt\n",
    "nx.draw(G, with_labels=False)"
   ]
  },
  {
   "attachments": {},
   "cell_type": "markdown",
   "id": "f4119b00",
   "metadata": {},
   "source": [
    "Let's add a bit of color to this by mapping colors to the `person.team`. Pick any colorscale from `px.colors` (or make your own!). Generally the *qualitative* colors look nice, anything designed for *categorical* data "
   ]
  },
  {
   "cell_type": "code",
   "execution_count": 123,
   "id": "8e172563",
   "metadata": {},
   "outputs": [
    {
     "data": {
      "text/plain": [
       "{'Business': 'rgb(229, 134, 6)',\n",
       " 'DevOps': 'rgb(93, 105, 177)',\n",
       " 'DevX': 'rgb(82, 188, 163)',\n",
       " 'Internal Tools': 'rgb(153, 201, 69)',\n",
       " 'Platform': 'rgb(204, 97, 176)',\n",
       " 'Product': 'rgb(36, 121, 108)',\n",
       " 'Sales': 'rgb(218, 165, 27)',\n",
       " 'Support': 'rgb(47, 138, 196)',\n",
       " 'CEO': 'rgb(118, 78, 159)'}"
      ]
     },
     "execution_count": 123,
     "metadata": {},
     "output_type": "execute_result"
    }
   ],
   "source": [
    "colors = dict(zip(people_df.team.unique(),px.colors.qualitative.Vivid))\n",
    "colors"
   ]
  },
  {
   "cell_type": "code",
   "execution_count": 124,
   "id": "e46f2526",
   "metadata": {},
   "outputs": [],
   "source": [
    "# here are some helpful helpers to translate colors\n",
    "def rgb_to_hex(r, g, b):\n",
    "    return f'#{r:02x}{g:02x}{b:02x}'\n",
    "def rgb_string_to_tuple(rgb:str) -> tuple[int,int,int]:\n",
    "    return tuple(int(c) for c in rgb.replace(\"rgb(\",\"\").replace(\")\",\"\").split(\",\"))\n"
   ]
  },
  {
   "attachments": {},
   "cell_type": "markdown",
   "id": "e3bf88ef",
   "metadata": {},
   "source": [
    "Now we can determine what the color should be for each node and pass that into the `nx.draw` call as a list of `node_color`. The easiest way to do this is to use `G.nodes(data=...)` for the attribute you want to extract, which will give you a map from each node to that attribute. `nx` allows you to iterate"
   ]
  },
  {
   "cell_type": "code",
   "execution_count": 125,
   "id": "ce833882",
   "metadata": {},
   "outputs": [
    {
     "data": {
      "image/png": "[encoded data removed]",
      "text/plain": [
       "<Figure size 640x480 with 1 Axes>"
      ]
     },
     "metadata": {},
     "output_type": "display_data"
    }
   ],
   "source": [
    "node_colors = [rgb_to_hex(*rgb_string_to_tuple(colors[team])) for _,team in G.nodes(data=\"team\")]\n",
    "nx.draw(G, node_color=node_colors)"
   ]
  },
  {
   "attachments": {},
   "cell_type": "markdown",
   "id": "40904b83",
   "metadata": {},
   "source": [
    "If this doesn't make much sense yet, it's because we haven't connected any of the nodes together. Adding *edges* to the graph will give shape and meaning to the arrangement of nodes. We can do this similarly to how we added edges. Let's start by connecting nodes by the `manager` attribute.\n",
    "\n",
    "Be sure to only add edges that reference nodes that exist"
   ]
  },
  {
   "cell_type": "code",
   "execution_count": 126,
   "id": "f3b7a761",
   "metadata": {},
   "outputs": [],
   "source": [
    "G.add_edges_from(G.nodes(data=\"manager\"), label=\"manager\", manager=True)"
   ]
  },
  {
   "cell_type": "markdown",
   "id": "1905d207",
   "metadata": {},
   "source": [
    "Now this should look a bit more sensible"
   ]
  },
  {
   "cell_type": "code",
   "execution_count": 127,
   "id": "32ff0651",
   "metadata": {},
   "outputs": [
    {
     "data": {
      "image/png": "[encoded data removed]",
      "text/plain": [
       "<Figure size 640x480 with 1 Axes>"
      ]
     },
     "metadata": {},
     "output_type": "display_data"
    }
   ],
   "source": [
    "nx.draw(G, node_color=node_colors)"
   ]
  },
  {
   "attachments": {},
   "cell_type": "markdown",
   "id": "63c42ae8-b201-4ae1-ad9d-d0e8f0817fb3",
   "metadata": {},
   "source": [
    "To view more details of the plot, it's useful to switch to an interactive plotting library like `plotly`. Here we provide a helper function for this, but by no means is this perfect/optimized"
   ]
  },
  {
   "cell_type": "code",
   "execution_count": 128,
   "id": "e1b55f08-5647-4290-86da-3197aa150b7d",
   "metadata": {
    "execution": {
     "iopub.execute_input": "2023-01-10T16:24:11.053653Z",
     "iopub.status.busy": "2023-01-10T16:24:11.053102Z",
     "iopub.status.idle": "2023-01-10T16:24:11.845945Z",
     "shell.execute_reply": "2023-01-10T16:24:11.844975Z",
     "shell.execute_reply.started": "2023-01-10T16:24:11.053625Z"
    },
    "tags": []
   },
   "outputs": [],
   "source": [
    "import pandas as pd\n",
    "import plotly.express as px"
   ]
  },
  {
   "cell_type": "code",
   "execution_count": 129,
   "id": "1321e788-fb20-4b9d-b26f-6d929df03870",
   "metadata": {
    "execution": {
     "iopub.execute_input": "2023-01-10T16:24:11.864634Z",
     "iopub.status.busy": "2023-01-10T16:24:11.849967Z",
     "iopub.status.idle": "2023-01-10T16:24:11.884647Z",
     "shell.execute_reply": "2023-01-10T16:24:11.883535Z",
     "shell.execute_reply.started": "2023-01-10T16:24:11.864563Z"
    },
    "tags": []
   },
   "outputs": [],
   "source": [
    "import plotly.graph_objects as go\n",
    "def px_plot_network_graph_nodes(G:nx.Graph, *, layout=None, **pxkwargs) -> go.Figure:\n",
    "    # generate the x/y coordinates to represent the graph\n",
    "    positions = (layout or nx.spring_layout(G))\n",
    "    # prepare as DataFrame for plotly\n",
    "    df = pd.DataFrame([{\"label\": k, \"x\": v[0], \"y\": v[1], \"size\":10, **G.nodes(data=True)[k]} for k,v in positions.items()])\n",
    "    for column in df.columns[(df.sample(100, replace=True).applymap(type) == set).any(axis=0)]:\n",
    "        print(f\"Coercing column '{column}' to `list`\")\n",
    "        df.loc[~df[column].isna(), column] = df.loc[~df[column].isna(),column].apply(list)\n",
    "    # handle missing values for size/color parameter\n",
    "    size = pxkwargs.pop(\"size\", \"size\")\n",
    "    df[size] = df[size].fillna(df[size].max())\n",
    "    color = pxkwargs.get(\"color\")\n",
    "    df[color] = df[color].fillna(df[\"type\"])\n",
    "    # create figure\n",
    "    fig = px.scatter(df, x=\"x\", y=\"y\", hover_data=df.columns, size=size, **pxkwargs)\n",
    "    fig.update_layout(\n",
    "        xaxis=go.layout.XAxis(visible=False),\n",
    "        yaxis=go.layout.YAxis(visible=False)\n",
    "    )\n",
    "    return fig\n",
    "\n",
    "\n",
    "def px_plot_nx(G:nx.Graph, *, layout=nx.spring_layout, with_edges=False, **nodekwargs) -> go.Figure:\n",
    "    \"\"\"Draw a graph using ``plotly``\n",
    "\n",
    "    Kwargs are passed through to `px.scatter` and can be used to control the attributes that \n",
    "    map ``color``, ``size``, ``facet_row``, ... to attributes in the graph nodes\n",
    "    \n",
    "    Notes\n",
    "    -----\n",
    "    Rendering ``with_edges`` is expensive and should be avoided during exploratory plotting\n",
    "    \"\"\"\n",
    "    # Generate positions, edges \n",
    "    nodes = layout(G)\n",
    "    edges = [{\n",
    "        \"x\": [nodes[source][0],nodes[target][0]], \n",
    "        \"y\": [nodes[source][1],nodes[target][1]]} for source, target in G.edges()\n",
    "    ]\n",
    "    # Plot nodes\n",
    "    figure = px_plot_network_graph_nodes(G, layout=nodes, **nodekwargs)\n",
    "    if with_edges: # Add edges to nodes\n",
    "        figure.add_traces([\n",
    "            px.line(\n",
    "                x=edge[\"x\"],\n",
    "                y=edge[\"y\"],\n",
    "                color_discrete_sequence=[\"grey\"],\n",
    "            ).data[0] for edge in edges\n",
    "        ])\n",
    "        figure.data = figure.data[::-1] # shuffle edges behind nodes\n",
    "    return figure"
   ]
  },
  {
   "attachments": {},
   "cell_type": "markdown",
   "id": "e6b1dd13",
   "metadata": {},
   "source": [
    "Use this to make a few plots of the graph and verify that:\n",
    "\n",
    "* The reporting structure makes sense\n",
    "* The job titles are distributed as you'd expect\n",
    "* The locations make sense\n",
    "\n",
    "**Note: plotting `with_edges=True` is quite expensive, try toggling it off if you find it bothersome**"
   ]
  },
  {
   "cell_type": "code",
   "execution_count": 130,
   "id": "07e22436",
   "metadata": {},
   "outputs": [
    {
     "data": {
      "application/vnd.plotly.v1+json": {
       "config": {
        "plotlyServerURL": "https://plot.ly"
       },
       "data": [
        {
         "hovertemplate": "x=%{x}<br>y=%{y}<extra></extra>",
         "legendgroup": "",
         "line": {
          "color": "grey",
          "dash": "solid"
         },
         "marker": {
          "symbol": "circle"
         },
         "mode": "lines",
         "name": "",
         "orientation": "v",
         "showlegend": false,
         "type": "scatter",
         "x": [
          0.02154341965310638,
          0.02154341965310638
         ],
         "xaxis": "x",
         "y": [
          0.03859667592781471,
          0.03859667592781471
         ],
         "yaxis": "y"
        },
        {
         "hovertemplate": "x=%{x}<br>y=%{y}<extra></extra>",
         "legendgroup": "",
         "line": {
          "color": "grey",
          "dash": "solid"
         },
         "marker": {
          "symbol": "circle"
         },
         "mode": "lines",
         "name": "",
         "orientation": "v",
         "showlegend": false,
         "type": "scatter",
         "x": [
          0.2938702726187548,
          0.40400329729492435
         ],
         "xaxis": "x",
         "y": [
          -0.24253721120761765,
          -0.24756945429324467
         ],
         "yaxis": "y"
        },
        {
         "hovertemplate": "x=%{x}<br>y=%{y}<extra></extra>",
         "legendgroup": "",
         "line": {
          "color": "grey",
          "dash": "solid"
         },
         "marker": {
          "symbol": "circle"
         },
         "mode": "lines",
         "name": "",
         "orientation": "v",
         "showlegend": false,
         "type": "scatter",
         "x": [
          0.2938702726187548,
          0.3750905543149955
         ],
         "xaxis": "x",
         "y": [
          -0.24253721120761765,
          -0.294786234223895
         ],
         "yaxis": "y"
        },
        {
         "hovertemplate": "x=%{x}<br>y=%{y}<extra></extra>",
         "legendgroup": "",
         "line": {
          "color": "grey",
          "dash": "solid"
         },
         "marker": {
          "symbol": "circle"
         },
         "mode": "lines",
         "name": "",
         "orientation": "v",
         "showlegend": false,
         "type": "scatter",
         "x": [
          0.2938702726187548,
          0.4668247173668308
         ],
         "xaxis": "x",
         "y": [
          -0.24253721120761765,
          -0.37227432721368364
         ],
         "yaxis": "y"
        },
        {
         "hovertemplate": "x=%{x}<br>y=%{y}<extra></extra>",
         "legendgroup": "",
         "line": {
          "color": "grey",
          "dash": "solid"
         },
         "marker": {
          "symbol": "circle"
         },
         "mode": "lines",
         "name": "",
         "orientation": "v",
         "showlegend": false,
         "type": "scatter",
         "x": [
          0.2938702726187548,
          0.39180603300848715
         ],
         "xaxis": "x",
         "y": [
          -0.24253721120761765,
          -0.3458884337457171
         ],
         "yaxis": "y"
        },
        {
         "hovertemplate": "x=%{x}<br>y=%{y}<extra></extra>",
         "legendgroup": "",
         "line": {
          "color": "grey",
          "dash": "solid"
         },
         "marker": {
          "symbol": "circle"
         },
         "mode": "lines",
         "name": "",
         "orientation": "v",
         "showlegend": false,
         "type": "scatter",
         "x": [
          0.2938702726187548,
          0.3391747509014339
         ],
         "xaxis": "x",
         "y": [
          -0.24253721120761765,
          -0.36419571366523007
         ],
         "yaxis": "y"
        },
        {
         "hovertemplate": "x=%{x}<br>y=%{y}<extra></extra>",
         "legendgroup": "",
         "line": {
          "color": "grey",
          "dash": "solid"
         },
         "marker": {
          "symbol": "circle"
         },
         "mode": "lines",
         "name": "",
         "orientation": "v",
         "showlegend": false,
         "type": "scatter",
         "x": [
          0.2938702726187548,
          0.39938500944810734
         ],
         "xaxis": "x",
         "y": [
          -0.24253721120761765,
          -0.44241537708170453
         ],
         "yaxis": "y"
        },
        {
         "hovertemplate": "x=%{x}<br>y=%{y}<extra></extra>",
         "legendgroup": "",
         "line": {
          "color": "grey",
          "dash": "solid"
         },
         "marker": {
          "symbol": "circle"
         },
         "mode": "lines",
         "name": "",
         "orientation": "v",
         "showlegend": false,
         "type": "scatter",
         "x": [
          0.2938702726187548,
          0.02154341965310638
         ],
         "xaxis": "x",
         "y": [
          -0.24253721120761765,
          0.03859667592781471
         ],
         "yaxis": "y"
        },
        {
         "hovertemplate": "x=%{x}<br>y=%{y}<extra></extra>",
         "legendgroup": "",
         "line": {
          "color": "grey",
          "dash": "solid"
         },
         "marker": {
          "symbol": "circle"
         },
         "mode": "lines",
         "name": "",
         "orientation": "v",
         "showlegend": false,
         "type": "scatter",
         "x": [
          0.5951419654023237,
          0.4668247173668308
         ],
         "xaxis": "x",
         "y": [
          -0.4678448718992556,
          -0.37227432721368364
         ],
         "yaxis": "y"
        },
        {
         "hovertemplate": "x=%{x}<br>y=%{y}<extra></extra>",
         "legendgroup": "",
         "line": {
          "color": "grey",
          "dash": "solid"
         },
         "marker": {
          "symbol": "circle"
         },
         "mode": "lines",
         "name": "",
         "orientation": "v",
         "showlegend": false,
         "type": "scatter",
         "x": [
          0.47492723356257566,
          0.39938500944810734
         ],
         "xaxis": "x",
         "y": [
          -0.5881813916626967,
          -0.44241537708170453
         ],
         "yaxis": "y"
        },
        {
         "hovertemplate": "x=%{x}<br>y=%{y}<extra></extra>",
         "legendgroup": "",
         "line": {
          "color": "grey",
          "dash": "solid"
         },
         "marker": {
          "symbol": "circle"
         },
         "mode": "lines",
         "name": "",
         "orientation": "v",
         "showlegend": false,
         "type": "scatter",
         "x": [
          0.2334768336163717,
          0.1691001417286808
         ],
         "xaxis": "x",
         "y": [
          0.6589869943342828,
          0.7212995882874726
         ],
         "yaxis": "y"
        },
        {
         "hovertemplate": "x=%{x}<br>y=%{y}<extra></extra>",
         "legendgroup": "",
         "line": {
          "color": "grey",
          "dash": "solid"
         },
         "marker": {
          "symbol": "circle"
         },
         "mode": "lines",
         "name": "",
         "orientation": "v",
         "showlegend": false,
         "type": "scatter",
         "x": [
          0.2334768336163717,
          0.13545637570405467
         ],
         "xaxis": "x",
         "y": [
          0.6589869943342828,
          0.6650126001290529
         ],
         "yaxis": "y"
        },
        {
         "hovertemplate": "x=%{x}<br>y=%{y}<extra></extra>",
         "legendgroup": "",
         "line": {
          "color": "grey",
          "dash": "solid"
         },
         "marker": {
          "symbol": "circle"
         },
         "mode": "lines",
         "name": "",
         "orientation": "v",
         "showlegend": false,
         "type": "scatter",
         "x": [
          0.2334768336163717,
          0.39595807876201683
         ],
         "xaxis": "x",
         "y": [
          0.6589869943342828,
          0.6873268128774023
         ],
         "yaxis": "y"
        },
        {
         "hovertemplate": "x=%{x}<br>y=%{y}<extra></extra>",
         "legendgroup": "",
         "line": {
          "color": "grey",
          "dash": "solid"
         },
         "marker": {
          "symbol": "circle"
         },
         "mode": "lines",
         "name": "",
         "orientation": "v",
         "showlegend": false,
         "type": "scatter",
         "x": [
          0.2334768336163717,
          0.325300385303248
         ],
         "xaxis": "x",
         "y": [
          0.6589869943342828,
          0.7543721333241491
         ],
         "yaxis": "y"
        },
        {
         "hovertemplate": "x=%{x}<br>y=%{y}<extra></extra>",
         "legendgroup": "",
         "line": {
          "color": "grey",
          "dash": "solid"
         },
         "marker": {
          "symbol": "circle"
         },
         "mode": "lines",
         "name": "",
         "orientation": "v",
         "showlegend": false,
         "type": "scatter",
         "x": [
          0.2334768336163717,
          0.22297708215302622
         ],
         "xaxis": "x",
         "y": [
          0.6589869943342828,
          0.8644649806673009
         ],
         "yaxis": "y"
        },
        {
         "hovertemplate": "x=%{x}<br>y=%{y}<extra></extra>",
         "legendgroup": "",
         "line": {
          "color": "grey",
          "dash": "solid"
         },
         "marker": {
          "symbol": "circle"
         },
         "mode": "lines",
         "name": "",
         "orientation": "v",
         "showlegend": false,
         "type": "scatter",
         "x": [
          0.2334768336163717,
          0.2723675444308404
         ],
         "xaxis": "x",
         "y": [
          0.6589869943342828,
          0.812980651602192
         ],
         "yaxis": "y"
        },
        {
         "hovertemplate": "x=%{x}<br>y=%{y}<extra></extra>",
         "legendgroup": "",
         "line": {
          "color": "grey",
          "dash": "solid"
         },
         "marker": {
          "symbol": "circle"
         },
         "mode": "lines",
         "name": "",
         "orientation": "v",
         "showlegend": false,
         "type": "scatter",
         "x": [
          0.2334768336163717,
          0.23517662712442425
         ],
         "xaxis": "x",
         "y": [
          0.6589869943342828,
          0.829158737116137
         ],
         "yaxis": "y"
        },
        {
         "hovertemplate": "x=%{x}<br>y=%{y}<extra></extra>",
         "legendgroup": "",
         "line": {
          "color": "grey",
          "dash": "solid"
         },
         "marker": {
          "symbol": "circle"
         },
         "mode": "lines",
         "name": "",
         "orientation": "v",
         "showlegend": false,
         "type": "scatter",
         "x": [
          0.2334768336163717,
          0.17662450927030893
         ],
         "xaxis": "x",
         "y": [
          0.6589869943342828,
          0.8389416274043786
         ],
         "yaxis": "y"
        },
        {
         "hovertemplate": "x=%{x}<br>y=%{y}<extra></extra>",
         "legendgroup": "",
         "line": {
          "color": "grey",
          "dash": "solid"
         },
         "marker": {
          "symbol": "circle"
         },
         "mode": "lines",
         "name": "",
         "orientation": "v",
         "showlegend": false,
         "type": "scatter",
         "x": [
          0.2334768336163717,
          0.19528452047721204
         ],
         "xaxis": "x",
         "y": [
          0.6589869943342828,
          0.7951894590248143
         ],
         "yaxis": "y"
        },
        {
         "hovertemplate": "x=%{x}<br>y=%{y}<extra></extra>",
         "legendgroup": "",
         "line": {
          "color": "grey",
          "dash": "solid"
         },
         "marker": {
          "symbol": "circle"
         },
         "mode": "lines",
         "name": "",
         "orientation": "v",
         "showlegend": false,
         "type": "scatter",
         "x": [
          0.2334768336163717,
          0.35125261521914475
         ],
         "xaxis": "x",
         "y": [
          0.6589869943342828,
          0.711425521564461
         ],
         "yaxis": "y"
        },
        {
         "hovertemplate": "x=%{x}<br>y=%{y}<extra></extra>",
         "legendgroup": "",
         "line": {
          "color": "grey",
          "dash": "solid"
         },
         "marker": {
          "symbol": "circle"
         },
         "mode": "lines",
         "name": "",
         "orientation": "v",
         "showlegend": false,
         "type": "scatter",
         "x": [
          0.2334768336163717,
          0.282117838314936
         ],
         "xaxis": "x",
         "y": [
          0.6589869943342828,
          0.7192028642594729
         ],
         "yaxis": "y"
        },
        {
         "hovertemplate": "x=%{x}<br>y=%{y}<extra></extra>",
         "legendgroup": "",
         "line": {
          "color": "grey",
          "dash": "solid"
         },
         "marker": {
          "symbol": "circle"
         },
         "mode": "lines",
         "name": "",
         "orientation": "v",
         "showlegend": false,
         "type": "scatter",
         "x": [
          0.2334768336163717,
          0.13833258885192884
         ],
         "xaxis": "x",
         "y": [
          0.6589869943342828,
          0.7669749190183459
         ],
         "yaxis": "y"
        },
        {
         "hovertemplate": "x=%{x}<br>y=%{y}<extra></extra>",
         "legendgroup": "",
         "line": {
          "color": "grey",
          "dash": "solid"
         },
         "marker": {
          "symbol": "circle"
         },
         "mode": "lines",
         "name": "",
         "orientation": "v",
         "showlegend": false,
         "type": "scatter",
         "x": [
          0.2334768336163717,
          0.23268976870147723
         ],
         "xaxis": "x",
         "y": [
          0.6589869943342828,
          0.7600603132005426
         ],
         "yaxis": "y"
        },
        {
         "hovertemplate": "x=%{x}<br>y=%{y}<extra></extra>",
         "legendgroup": "",
         "line": {
          "color": "grey",
          "dash": "solid"
         },
         "marker": {
          "symbol": "circle"
         },
         "mode": "lines",
         "name": "",
         "orientation": "v",
         "showlegend": false,
         "type": "scatter",
         "x": [
          0.2334768336163717,
          0.33238472469258534
         ],
         "xaxis": "x",
         "y": [
          0.6589869943342828,
          0.8359719857239734
         ],
         "yaxis": "y"
        },
        {
         "hovertemplate": "x=%{x}<br>y=%{y}<extra></extra>",
         "legendgroup": "",
         "line": {
          "color": "grey",
          "dash": "solid"
         },
         "marker": {
          "symbol": "circle"
         },
         "mode": "lines",
         "name": "",
         "orientation": "v",
         "showlegend": false,
         "type": "scatter",
         "x": [
          0.2334768336163717,
          0.1398755130829909
         ],
         "xaxis": "x",
         "y": [
          0.6589869943342828,
          0.8087345207563238
         ],
         "yaxis": "y"
        },
        {
         "hovertemplate": "x=%{x}<br>y=%{y}<extra></extra>",
         "legendgroup": "",
         "line": {
          "color": "grey",
          "dash": "solid"
         },
         "marker": {
          "symbol": "circle"
         },
         "mode": "lines",
         "name": "",
         "orientation": "v",
         "showlegend": false,
         "type": "scatter",
         "x": [
          0.2334768336163717,
          0.2880116867039557
         ],
         "xaxis": "x",
         "y": [
          0.6589869943342828,
          0.8566447446352222
         ],
         "yaxis": "y"
        },
        {
         "hovertemplate": "x=%{x}<br>y=%{y}<extra></extra>",
         "legendgroup": "",
         "line": {
          "color": "grey",
          "dash": "solid"
         },
         "marker": {
          "symbol": "circle"
         },
         "mode": "lines",
         "name": "",
         "orientation": "v",
         "showlegend": false,
         "type": "scatter",
         "x": [
          0.2334768336163717,
          0.30517688711815316
         ],
         "xaxis": "x",
         "y": [
          0.6589869943342828,
          0.619489003891163
         ],
         "yaxis": "y"
        },
        {
         "hovertemplate": "x=%{x}<br>y=%{y}<extra></extra>",
         "legendgroup": "",
         "line": {
          "color": "grey",
          "dash": "solid"
         },
         "marker": {
          "symbol": "circle"
         },
         "mode": "lines",
         "name": "",
         "orientation": "v",
         "showlegend": false,
         "type": "scatter",
         "x": [
          0.2334768336163717,
          0.3109193664725026
         ],
         "xaxis": "x",
         "y": [
          0.6589869943342828,
          0.7962840431056872
         ],
         "yaxis": "y"
        },
        {
         "hovertemplate": "x=%{x}<br>y=%{y}<extra></extra>",
         "legendgroup": "",
         "line": {
          "color": "grey",
          "dash": "solid"
         },
         "marker": {
          "symbol": "circle"
         },
         "mode": "lines",
         "name": "",
         "orientation": "v",
         "showlegend": false,
         "type": "scatter",
         "x": [
          0.2334768336163717,
          0.40171376455470564
         ],
         "xaxis": "x",
         "y": [
          0.6589869943342828,
          0.7373214436001505
         ],
         "yaxis": "y"
        },
        {
         "hovertemplate": "x=%{x}<br>y=%{y}<extra></extra>",
         "legendgroup": "",
         "line": {
          "color": "grey",
          "dash": "solid"
         },
         "marker": {
          "symbol": "circle"
         },
         "mode": "lines",
         "name": "",
         "orientation": "v",
         "showlegend": false,
         "type": "scatter",
         "x": [
          0.2334768336163717,
          0.38076974472103897
         ],
         "xaxis": "x",
         "y": [
          0.6589869943342828,
          0.7721384722498357
         ],
         "yaxis": "y"
        },
        {
         "hovertemplate": "x=%{x}<br>y=%{y}<extra></extra>",
         "legendgroup": "",
         "line": {
          "color": "grey",
          "dash": "solid"
         },
         "marker": {
          "symbol": "circle"
         },
         "mode": "lines",
         "name": "",
         "orientation": "v",
         "showlegend": false,
         "type": "scatter",
         "x": [
          0.2334768336163717,
          0.36625332091117696
         ],
         "xaxis": "x",
         "y": [
          0.6589869943342828,
          0.8085671423757078
         ],
         "yaxis": "y"
        },
        {
         "hovertemplate": "x=%{x}<br>y=%{y}<extra></extra>",
         "legendgroup": "",
         "line": {
          "color": "grey",
          "dash": "solid"
         },
         "marker": {
          "symbol": "circle"
         },
         "mode": "lines",
         "name": "",
         "orientation": "v",
         "showlegend": false,
         "type": "scatter",
         "x": [
          0.2334768336163717,
          0.3564098436988063
         ],
         "xaxis": "x",
         "y": [
          0.6589869943342828,
          0.6505123079576763
         ],
         "yaxis": "y"
        },
        {
         "hovertemplate": "x=%{x}<br>y=%{y}<extra></extra>",
         "legendgroup": "",
         "line": {
          "color": "grey",
          "dash": "solid"
         },
         "marker": {
          "symbol": "circle"
         },
         "mode": "lines",
         "name": "",
         "orientation": "v",
         "showlegend": false,
         "type": "scatter",
         "x": [
          0.2334768336163717,
          0.10889021471259792
         ],
         "xaxis": "x",
         "y": [
          0.6589869943342828,
          0.7301006976600085
         ],
         "yaxis": "y"
        },
        {
         "hovertemplate": "x=%{x}<br>y=%{y}<extra></extra>",
         "legendgroup": "",
         "line": {
          "color": "grey",
          "dash": "solid"
         },
         "marker": {
          "symbol": "circle"
         },
         "mode": "lines",
         "name": "",
         "orientation": "v",
         "showlegend": false,
         "type": "scatter",
         "x": [
          0.2334768336163717,
          0.02154341965310638
         ],
         "xaxis": "x",
         "y": [
          0.6589869943342828,
          0.03859667592781471
         ],
         "yaxis": "y"
        },
        {
         "hovertemplate": "x=%{x}<br>y=%{y}<extra></extra>",
         "legendgroup": "",
         "line": {
          "color": "grey",
          "dash": "solid"
         },
         "marker": {
          "symbol": "circle"
         },
         "mode": "lines",
         "name": "",
         "orientation": "v",
         "showlegend": false,
         "type": "scatter",
         "x": [
          -0.48920961177775074,
          -0.7247371407638229
         ],
         "xaxis": "x",
         "y": [
          -0.11326764578398872,
          -0.1282390010085854
         ],
         "yaxis": "y"
        },
        {
         "hovertemplate": "x=%{x}<br>y=%{y}<extra></extra>",
         "legendgroup": "",
         "line": {
          "color": "grey",
          "dash": "solid"
         },
         "marker": {
          "symbol": "circle"
         },
         "mode": "lines",
         "name": "",
         "orientation": "v",
         "showlegend": false,
         "type": "scatter",
         "x": [
          -0.48920961177775074,
          -0.6049097164560514
         ],
         "xaxis": "x",
         "y": [
          -0.11326764578398872,
          -0.3759080108557683
         ],
         "yaxis": "y"
        },
        {
         "hovertemplate": "x=%{x}<br>y=%{y}<extra></extra>",
         "legendgroup": "",
         "line": {
          "color": "grey",
          "dash": "solid"
         },
         "marker": {
          "symbol": "circle"
         },
         "mode": "lines",
         "name": "",
         "orientation": "v",
         "showlegend": false,
         "type": "scatter",
         "x": [
          -0.48920961177775074,
          0.02154341965310638
         ],
         "xaxis": "x",
         "y": [
          -0.11326764578398872,
          0.03859667592781471
         ],
         "yaxis": "y"
        },
        {
         "hovertemplate": "x=%{x}<br>y=%{y}<extra></extra>",
         "legendgroup": "",
         "line": {
          "color": "grey",
          "dash": "solid"
         },
         "marker": {
          "symbol": "circle"
         },
         "mode": "lines",
         "name": "",
         "orientation": "v",
         "showlegend": false,
         "type": "scatter",
         "x": [
          -0.6748722236229763,
          -0.6049097164560514
         ],
         "xaxis": "x",
         "y": [
          -0.49348130733109263,
          -0.3759080108557683
         ],
         "yaxis": "y"
        },
        {
         "hovertemplate": "x=%{x}<br>y=%{y}<extra></extra>",
         "legendgroup": "",
         "line": {
          "color": "grey",
          "dash": "solid"
         },
         "marker": {
          "symbol": "circle"
         },
         "mode": "lines",
         "name": "",
         "orientation": "v",
         "showlegend": false,
         "type": "scatter",
         "x": [
          -0.5922736656670693,
          -0.48920961177775074
         ],
         "xaxis": "x",
         "y": [
          -0.21611617213214632,
          -0.11326764578398872
         ],
         "yaxis": "y"
        },
        {
         "hovertemplate": "x=%{x}<br>y=%{y}<extra></extra>",
         "legendgroup": "",
         "line": {
          "color": "grey",
          "dash": "solid"
         },
         "marker": {
          "symbol": "circle"
         },
         "mode": "lines",
         "name": "",
         "orientation": "v",
         "showlegend": false,
         "type": "scatter",
         "x": [
          -0.6160254806389855,
          -0.48920961177775074
         ],
         "xaxis": "x",
         "y": [
          -0.07592806152028506,
          -0.11326764578398872
         ],
         "yaxis": "y"
        },
        {
         "hovertemplate": "x=%{x}<br>y=%{y}<extra></extra>",
         "legendgroup": "",
         "line": {
          "color": "grey",
          "dash": "solid"
         },
         "marker": {
          "symbol": "circle"
         },
         "mode": "lines",
         "name": "",
         "orientation": "v",
         "showlegend": false,
         "type": "scatter",
         "x": [
          -0.6520224970334982,
          -0.48920961177775074
         ],
         "xaxis": "x",
         "y": [
          -0.04759093261137548,
          -0.11326764578398872
         ],
         "yaxis": "y"
        },
        {
         "hovertemplate": "x=%{x}<br>y=%{y}<extra></extra>",
         "legendgroup": "",
         "line": {
          "color": "grey",
          "dash": "solid"
         },
         "marker": {
          "symbol": "circle"
         },
         "mode": "lines",
         "name": "",
         "orientation": "v",
         "showlegend": false,
         "type": "scatter",
         "x": [
          -0.642894814619572,
          -0.6049097164560514
         ],
         "xaxis": "x",
         "y": [
          -0.46191738298433216,
          -0.3759080108557683
         ],
         "yaxis": "y"
        },
        {
         "hovertemplate": "x=%{x}<br>y=%{y}<extra></extra>",
         "legendgroup": "",
         "line": {
          "color": "grey",
          "dash": "solid"
         },
         "marker": {
          "symbol": "circle"
         },
         "mode": "lines",
         "name": "",
         "orientation": "v",
         "showlegend": false,
         "type": "scatter",
         "x": [
          -0.5573491447570833,
          -0.48920961177775074
         ],
         "xaxis": "x",
         "y": [
          -0.17547784452556486,
          -0.11326764578398872
         ],
         "yaxis": "y"
        },
        {
         "hovertemplate": "x=%{x}<br>y=%{y}<extra></extra>",
         "legendgroup": "",
         "line": {
          "color": "grey",
          "dash": "solid"
         },
         "marker": {
          "symbol": "circle"
         },
         "mode": "lines",
         "name": "",
         "orientation": "v",
         "showlegend": false,
         "type": "scatter",
         "x": [
          -0.657929067079904,
          -0.48920961177775074
         ],
         "xaxis": "x",
         "y": [
          -0.10560273950452363,
          -0.11326764578398872
         ],
         "yaxis": "y"
        },
        {
         "hovertemplate": "x=%{x}<br>y=%{y}<extra></extra>",
         "legendgroup": "",
         "line": {
          "color": "grey",
          "dash": "solid"
         },
         "marker": {
          "symbol": "circle"
         },
         "mode": "lines",
         "name": "",
         "orientation": "v",
         "showlegend": false,
         "type": "scatter",
         "x": [
          -0.49535639356141054,
          -0.48920961177775074
         ],
         "xaxis": "x",
         "y": [
          -0.02391055065857383,
          -0.11326764578398872
         ],
         "yaxis": "y"
        },
        {
         "hovertemplate": "x=%{x}<br>y=%{y}<extra></extra>",
         "legendgroup": "",
         "line": {
          "color": "grey",
          "dash": "solid"
         },
         "marker": {
          "symbol": "circle"
         },
         "mode": "lines",
         "name": "",
         "orientation": "v",
         "showlegend": false,
         "type": "scatter",
         "x": [
          -0.6350723719436527,
          -0.48920961177775074
         ],
         "xaxis": "x",
         "y": [
          -0.14823440798634388,
          -0.11326764578398872
         ],
         "yaxis": "y"
        },
        {
         "hovertemplate": "x=%{x}<br>y=%{y}<extra></extra>",
         "legendgroup": "",
         "line": {
          "color": "grey",
          "dash": "solid"
         },
         "marker": {
          "symbol": "circle"
         },
         "mode": "lines",
         "name": "",
         "orientation": "v",
         "showlegend": false,
         "type": "scatter",
         "x": [
          -0.6109142604929322,
          -0.48920961177775074
         ],
         "xaxis": "x",
         "y": [
          -0.016284349746266552,
          -0.11326764578398872
         ],
         "yaxis": "y"
        },
        {
         "hovertemplate": "x=%{x}<br>y=%{y}<extra></extra>",
         "legendgroup": "",
         "line": {
          "color": "grey",
          "dash": "solid"
         },
         "marker": {
          "symbol": "circle"
         },
         "mode": "lines",
         "name": "",
         "orientation": "v",
         "showlegend": false,
         "type": "scatter",
         "x": [
          -0.5594099756402614,
          -0.48920961177775074
         ],
         "xaxis": "x",
         "y": [
          -0.05123559817591812,
          -0.11326764578398872
         ],
         "yaxis": "y"
        },
        {
         "hovertemplate": "x=%{x}<br>y=%{y}<extra></extra>",
         "legendgroup": "",
         "line": {
          "color": "grey",
          "dash": "solid"
         },
         "marker": {
          "symbol": "circle"
         },
         "mode": "lines",
         "name": "",
         "orientation": "v",
         "showlegend": false,
         "type": "scatter",
         "x": [
          -0.8845638043246663,
          -0.7247371407638229
         ],
         "xaxis": "x",
         "y": [
          -0.135494757283373,
          -0.1282390010085854
         ],
         "yaxis": "y"
        },
        {
         "hovertemplate": "x=%{x}<br>y=%{y}<extra></extra>",
         "legendgroup": "",
         "line": {
          "color": "grey",
          "dash": "solid"
         },
         "marker": {
          "symbol": "circle"
         },
         "mode": "lines",
         "name": "",
         "orientation": "v",
         "showlegend": false,
         "type": "scatter",
         "x": [
          -0.7428993421957368,
          -0.6049097164560514
         ],
         "xaxis": "x",
         "y": [
          -0.4310604745057232,
          -0.3759080108557683
         ],
         "yaxis": "y"
        },
        {
         "hovertemplate": "x=%{x}<br>y=%{y}<extra></extra>",
         "legendgroup": "",
         "line": {
          "color": "grey",
          "dash": "solid"
         },
         "marker": {
          "symbol": "circle"
         },
         "mode": "lines",
         "name": "",
         "orientation": "v",
         "showlegend": false,
         "type": "scatter",
         "x": [
          -0.5872656716783599,
          -0.6049097164560514
         ],
         "xaxis": "x",
         "y": [
          -0.4856061361964533,
          -0.3759080108557683
         ],
         "yaxis": "y"
        },
        {
         "hovertemplate": "x=%{x}<br>y=%{y}<extra></extra>",
         "legendgroup": "",
         "line": {
          "color": "grey",
          "dash": "solid"
         },
         "marker": {
          "symbol": "circle"
         },
         "mode": "lines",
         "name": "",
         "orientation": "v",
         "showlegend": false,
         "type": "scatter",
         "x": [
          -0.6355524177332191,
          -0.48920961177775074
         ],
         "xaxis": "x",
         "y": [
          -0.19003193833002502,
          -0.11326764578398872
         ],
         "yaxis": "y"
        },
        {
         "hovertemplate": "x=%{x}<br>y=%{y}<extra></extra>",
         "legendgroup": "",
         "line": {
          "color": "grey",
          "dash": "solid"
         },
         "marker": {
          "symbol": "circle"
         },
         "mode": "lines",
         "name": "",
         "orientation": "v",
         "showlegend": false,
         "type": "scatter",
         "x": [
          -0.4736771253817354,
          -0.48920961177775074
         ],
         "xaxis": "x",
         "y": [
          -0.202367885478415,
          -0.11326764578398872
         ],
         "yaxis": "y"
        },
        {
         "hovertemplate": "x=%{x}<br>y=%{y}<extra></extra>",
         "legendgroup": "",
         "line": {
          "color": "grey",
          "dash": "solid"
         },
         "marker": {
          "symbol": "circle"
         },
         "mode": "lines",
         "name": "",
         "orientation": "v",
         "showlegend": false,
         "type": "scatter",
         "x": [
          -0.5622106772188112,
          -0.48920961177775074
         ],
         "xaxis": "x",
         "y": [
          0.0034188902243851528,
          -0.11326764578398872
         ],
         "yaxis": "y"
        },
        {
         "hovertemplate": "x=%{x}<br>y=%{y}<extra></extra>",
         "legendgroup": "",
         "line": {
          "color": "grey",
          "dash": "solid"
         },
         "marker": {
          "symbol": "circle"
         },
         "mode": "lines",
         "name": "",
         "orientation": "v",
         "showlegend": false,
         "type": "scatter",
         "x": [
          0.05012246387482738,
          0.02154341965310638
         ],
         "xaxis": "x",
         "y": [
          0.11823141719894564,
          0.03859667592781471
         ],
         "yaxis": "y"
        },
        {
         "hovertemplate": "x=%{x}<br>y=%{y}<extra></extra>",
         "legendgroup": "",
         "line": {
          "color": "grey",
          "dash": "solid"
         },
         "marker": {
          "symbol": "circle"
         },
         "mode": "lines",
         "name": "",
         "orientation": "v",
         "showlegend": false,
         "type": "scatter",
         "x": [
          -0.6256754174898457,
          -0.6049097164560514
         ],
         "xaxis": "x",
         "y": [
          -0.5154121335119806,
          -0.3759080108557683
         ],
         "yaxis": "y"
        },
        {
         "hovertemplate": "x=%{x}<br>y=%{y}<extra></extra>",
         "legendgroup": "",
         "line": {
          "color": "grey",
          "dash": "solid"
         },
         "marker": {
          "symbol": "circle"
         },
         "mode": "lines",
         "name": "",
         "orientation": "v",
         "showlegend": false,
         "type": "scatter",
         "x": [
          -0.5875598033385451,
          -0.48920961177775074
         ],
         "xaxis": "x",
         "y": [
          -0.12240169965425458,
          -0.11326764578398872
         ],
         "yaxis": "y"
        },
        {
         "hovertemplate": "x=%{x}<br>y=%{y}<extra></extra>",
         "legendgroup": "",
         "line": {
          "color": "grey",
          "dash": "solid"
         },
         "marker": {
          "symbol": "circle"
         },
         "mode": "lines",
         "name": "",
         "orientation": "v",
         "showlegend": false,
         "type": "scatter",
         "x": [
          -0.5318148355974316,
          -0.48920961177775074
         ],
         "xaxis": "x",
         "y": [
          -0.22891380306333986,
          -0.11326764578398872
         ],
         "yaxis": "y"
        },
        {
         "hovertemplate": "x=%{x}<br>y=%{y}<extra></extra>",
         "legendgroup": "",
         "line": {
          "color": "grey",
          "dash": "solid"
         },
         "marker": {
          "symbol": "circle"
         },
         "mode": "lines",
         "name": "",
         "orientation": "v",
         "showlegend": false,
         "type": "scatter",
         "x": [
          -0.1661863636516834,
          -0.2346710446659668
         ],
         "xaxis": "x",
         "y": [
          0.41993322793748317,
          0.5518210818715206
         ],
         "yaxis": "y"
        },
        {
         "hovertemplate": "x=%{x}<br>y=%{y}<extra></extra>",
         "legendgroup": "",
         "line": {
          "color": "grey",
          "dash": "solid"
         },
         "marker": {
          "symbol": "circle"
         },
         "mode": "lines",
         "name": "",
         "orientation": "v",
         "showlegend": false,
         "type": "scatter",
         "x": [
          -0.1661863636516834,
          -0.34660973966456826
         ],
         "xaxis": "x",
         "y": [
          0.41993322793748317,
          0.7554165972935936
         ],
         "yaxis": "y"
        },
        {
         "hovertemplate": "x=%{x}<br>y=%{y}<extra></extra>",
         "legendgroup": "",
         "line": {
          "color": "grey",
          "dash": "solid"
         },
         "marker": {
          "symbol": "circle"
         },
         "mode": "lines",
         "name": "",
         "orientation": "v",
         "showlegend": false,
         "type": "scatter",
         "x": [
          -0.1661863636516834,
          0.02154341965310638
         ],
         "xaxis": "x",
         "y": [
          0.41993322793748317,
          0.03859667592781471
         ],
         "yaxis": "y"
        },
        {
         "hovertemplate": "x=%{x}<br>y=%{y}<extra></extra>",
         "legendgroup": "",
         "line": {
          "color": "grey",
          "dash": "solid"
         },
         "marker": {
          "symbol": "circle"
         },
         "mode": "lines",
         "name": "",
         "orientation": "v",
         "showlegend": false,
         "type": "scatter",
         "x": [
          -0.37564785367465064,
          -0.34660973966456826
         ],
         "xaxis": "x",
         "y": [
          0.9217670239788418,
          0.7554165972935936
         ],
         "yaxis": "y"
        },
        {
         "hovertemplate": "x=%{x}<br>y=%{y}<extra></extra>",
         "legendgroup": "",
         "line": {
          "color": "grey",
          "dash": "solid"
         },
         "marker": {
          "symbol": "circle"
         },
         "mode": "lines",
         "name": "",
         "orientation": "v",
         "showlegend": false,
         "type": "scatter",
         "x": [
          -0.37975587884127227,
          -0.34660973966456826
         ],
         "xaxis": "x",
         "y": [
          0.8726689112598539,
          0.7554165972935936
         ],
         "yaxis": "y"
        },
        {
         "hovertemplate": "x=%{x}<br>y=%{y}<extra></extra>",
         "legendgroup": "",
         "line": {
          "color": "grey",
          "dash": "solid"
         },
         "marker": {
          "symbol": "circle"
         },
         "mode": "lines",
         "name": "",
         "orientation": "v",
         "showlegend": false,
         "type": "scatter",
         "x": [
          -0.3269429257036466,
          -0.34660973966456826
         ],
         "xaxis": "x",
         "y": [
          0.8948310637819791,
          0.7554165972935936
         ],
         "yaxis": "y"
        },
        {
         "hovertemplate": "x=%{x}<br>y=%{y}<extra></extra>",
         "legendgroup": "",
         "line": {
          "color": "grey",
          "dash": "solid"
         },
         "marker": {
          "symbol": "circle"
         },
         "mode": "lines",
         "name": "",
         "orientation": "v",
         "showlegend": false,
         "type": "scatter",
         "x": [
          -0.42493960604964515,
          -0.34660973966456826
         ],
         "xaxis": "x",
         "y": [
          0.9031982168784515,
          0.7554165972935936
         ],
         "yaxis": "y"
        },
        {
         "hovertemplate": "x=%{x}<br>y=%{y}<extra></extra>",
         "legendgroup": "",
         "line": {
          "color": "grey",
          "dash": "solid"
         },
         "marker": {
          "symbol": "circle"
         },
         "mode": "lines",
         "name": "",
         "orientation": "v",
         "showlegend": false,
         "type": "scatter",
         "x": [
          -0.4800447483790763,
          -0.34660973966456826
         ],
         "xaxis": "x",
         "y": [
          0.8178997899795967,
          0.7554165972935936
         ],
         "yaxis": "y"
        },
        {
         "hovertemplate": "x=%{x}<br>y=%{y}<extra></extra>",
         "legendgroup": "",
         "line": {
          "color": "grey",
          "dash": "solid"
         },
         "marker": {
          "symbol": "circle"
         },
         "mode": "lines",
         "name": "",
         "orientation": "v",
         "showlegend": false,
         "type": "scatter",
         "x": [
          -0.1727540231224697,
          -0.1661863636516834
         ],
         "xaxis": "x",
         "y": [
          0.5138974629372998,
          0.41993322793748317
         ],
         "yaxis": "y"
        },
        {
         "hovertemplate": "x=%{x}<br>y=%{y}<extra></extra>",
         "legendgroup": "",
         "line": {
          "color": "grey",
          "dash": "solid"
         },
         "marker": {
          "symbol": "circle"
         },
         "mode": "lines",
         "name": "",
         "orientation": "v",
         "showlegend": false,
         "type": "scatter",
         "x": [
          -0.28616812477400455,
          -0.2346710446659668
         ],
         "xaxis": "x",
         "y": [
          0.6488133532048304,
          0.5518210818715206
         ],
         "yaxis": "y"
        },
        {
         "hovertemplate": "x=%{x}<br>y=%{y}<extra></extra>",
         "legendgroup": "",
         "line": {
          "color": "grey",
          "dash": "solid"
         },
         "marker": {
          "symbol": "circle"
         },
         "mode": "lines",
         "name": "",
         "orientation": "v",
         "showlegend": false,
         "type": "scatter",
         "x": [
          -0.4335175058240548,
          -0.34660973966456826
         ],
         "xaxis": "x",
         "y": [
          0.8482607189916154,
          0.7554165972935936
         ],
         "yaxis": "y"
        },
        {
         "hovertemplate": "x=%{x}<br>y=%{y}<extra></extra>",
         "legendgroup": "",
         "line": {
          "color": "grey",
          "dash": "solid"
         },
         "marker": {
          "symbol": "circle"
         },
         "mode": "lines",
         "name": "",
         "orientation": "v",
         "showlegend": false,
         "type": "scatter",
         "x": [
          -0.46922182202584645,
          -0.34660973966456826
         ],
         "xaxis": "x",
         "y": [
          0.8703503819165739,
          0.7554165972935936
         ],
         "yaxis": "y"
        },
        {
         "hovertemplate": "x=%{x}<br>y=%{y}<extra></extra>",
         "legendgroup": "",
         "line": {
          "color": "grey",
          "dash": "solid"
         },
         "marker": {
          "symbol": "circle"
         },
         "mode": "lines",
         "name": "",
         "orientation": "v",
         "showlegend": false,
         "type": "scatter",
         "x": [
          0.3353016595989065,
          0.4219819286894175
         ],
         "xaxis": "x",
         "y": [
          0.19067225490967318,
          0.1796278816135691
         ],
         "yaxis": "y"
        },
        {
         "hovertemplate": "x=%{x}<br>y=%{y}<extra></extra>",
         "legendgroup": "",
         "line": {
          "color": "grey",
          "dash": "solid"
         },
         "marker": {
          "symbol": "circle"
         },
         "mode": "lines",
         "name": "",
         "orientation": "v",
         "showlegend": false,
         "type": "scatter",
         "x": [
          0.3353016595989065,
          0.5171093018121277
         ],
         "xaxis": "x",
         "y": [
          0.19067225490967318,
          0.17744714566876338
         ],
         "yaxis": "y"
        },
        {
         "hovertemplate": "x=%{x}<br>y=%{y}<extra></extra>",
         "legendgroup": "",
         "line": {
          "color": "grey",
          "dash": "solid"
         },
         "marker": {
          "symbol": "circle"
         },
         "mode": "lines",
         "name": "",
         "orientation": "v",
         "showlegend": false,
         "type": "scatter",
         "x": [
          0.3353016595989065,
          0.5582654821611321
         ],
         "xaxis": "x",
         "y": [
          0.19067225490967318,
          0.37880946531890375
         ],
         "yaxis": "y"
        },
        {
         "hovertemplate": "x=%{x}<br>y=%{y}<extra></extra>",
         "legendgroup": "",
         "line": {
          "color": "grey",
          "dash": "solid"
         },
         "marker": {
          "symbol": "circle"
         },
         "mode": "lines",
         "name": "",
         "orientation": "v",
         "showlegend": false,
         "type": "scatter",
         "x": [
          0.3353016595989065,
          0.02154341965310638
         ],
         "xaxis": "x",
         "y": [
          0.19067225490967318,
          0.03859667592781471
         ],
         "yaxis": "y"
        },
        {
         "hovertemplate": "x=%{x}<br>y=%{y}<extra></extra>",
         "legendgroup": "",
         "line": {
          "color": "grey",
          "dash": "solid"
         },
         "marker": {
          "symbol": "circle"
         },
         "mode": "lines",
         "name": "",
         "orientation": "v",
         "showlegend": false,
         "type": "scatter",
         "x": [
          0.6508274174425112,
          0.5582654821611321
         ],
         "xaxis": "x",
         "y": [
          0.3752668078528502,
          0.37880946531890375
         ],
         "yaxis": "y"
        },
        {
         "hovertemplate": "x=%{x}<br>y=%{y}<extra></extra>",
         "legendgroup": "",
         "line": {
          "color": "grey",
          "dash": "solid"
         },
         "marker": {
          "symbol": "circle"
         },
         "mode": "lines",
         "name": "",
         "orientation": "v",
         "showlegend": false,
         "type": "scatter",
         "x": [
          0.6001965109124667,
          0.5582654821611321
         ],
         "xaxis": "x",
         "y": [
          0.3201860333734362,
          0.37880946531890375
         ],
         "yaxis": "y"
        },
        {
         "hovertemplate": "x=%{x}<br>y=%{y}<extra></extra>",
         "legendgroup": "",
         "line": {
          "color": "grey",
          "dash": "solid"
         },
         "marker": {
          "symbol": "circle"
         },
         "mode": "lines",
         "name": "",
         "orientation": "v",
         "showlegend": false,
         "type": "scatter",
         "x": [
          0.7039637615900437,
          0.5582654821611321
         ],
         "xaxis": "x",
         "y": [
          0.44708328699772126,
          0.37880946531890375
         ],
         "yaxis": "y"
        },
        {
         "hovertemplate": "x=%{x}<br>y=%{y}<extra></extra>",
         "legendgroup": "",
         "line": {
          "color": "grey",
          "dash": "solid"
         },
         "marker": {
          "symbol": "circle"
         },
         "mode": "lines",
         "name": "",
         "orientation": "v",
         "showlegend": false,
         "type": "scatter",
         "x": [
          0.7112881569805121,
          0.5582654821611321
         ],
         "xaxis": "x",
         "y": [
          0.3951821295300481,
          0.37880946531890375
         ],
         "yaxis": "y"
        },
        {
         "hovertemplate": "x=%{x}<br>y=%{y}<extra></extra>",
         "legendgroup": "",
         "line": {
          "color": "grey",
          "dash": "solid"
         },
         "marker": {
          "symbol": "circle"
         },
         "mode": "lines",
         "name": "",
         "orientation": "v",
         "showlegend": false,
         "type": "scatter",
         "x": [
          0.6063529462976708,
          0.5582654821611321
         ],
         "xaxis": "x",
         "y": [
          0.4855097192526738,
          0.37880946531890375
         ],
         "yaxis": "y"
        },
        {
         "hovertemplate": "x=%{x}<br>y=%{y}<extra></extra>",
         "legendgroup": "",
         "line": {
          "color": "grey",
          "dash": "solid"
         },
         "marker": {
          "symbol": "circle"
         },
         "mode": "lines",
         "name": "",
         "orientation": "v",
         "showlegend": false,
         "type": "scatter",
         "x": [
          0.5216925708992931,
          0.5582654821611321
         ],
         "xaxis": "x",
         "y": [
          0.339736810680224,
          0.37880946531890375
         ],
         "yaxis": "y"
        },
        {
         "hovertemplate": "x=%{x}<br>y=%{y}<extra></extra>",
         "legendgroup": "",
         "line": {
          "color": "grey",
          "dash": "solid"
         },
         "marker": {
          "symbol": "circle"
         },
         "mode": "lines",
         "name": "",
         "orientation": "v",
         "showlegend": false,
         "type": "scatter",
         "x": [
          0.53281283204236,
          0.5582654821611321
         ],
         "xaxis": "x",
         "y": [
          0.476827348971223,
          0.37880946531890375
         ],
         "yaxis": "y"
        },
        {
         "hovertemplate": "x=%{x}<br>y=%{y}<extra></extra>",
         "legendgroup": "",
         "line": {
          "color": "grey",
          "dash": "solid"
         },
         "marker": {
          "symbol": "circle"
         },
         "mode": "lines",
         "name": "",
         "orientation": "v",
         "showlegend": false,
         "type": "scatter",
         "x": [
          0.46579069869940387,
          0.5582654821611321
         ],
         "xaxis": "x",
         "y": [
          0.3875700524300328,
          0.37880946531890375
         ],
         "yaxis": "y"
        },
        {
         "hovertemplate": "x=%{x}<br>y=%{y}<extra></extra>",
         "legendgroup": "",
         "line": {
          "color": "grey",
          "dash": "solid"
         },
         "marker": {
          "symbol": "circle"
         },
         "mode": "lines",
         "name": "",
         "orientation": "v",
         "showlegend": false,
         "type": "scatter",
         "x": [
          0.659720638215432,
          0.5171093018121277
         ],
         "xaxis": "x",
         "y": [
          0.17072046531308277,
          0.17744714566876338
         ],
         "yaxis": "y"
        },
        {
         "hovertemplate": "x=%{x}<br>y=%{y}<extra></extra>",
         "legendgroup": "",
         "line": {
          "color": "grey",
          "dash": "solid"
         },
         "marker": {
          "symbol": "circle"
         },
         "mode": "lines",
         "name": "",
         "orientation": "v",
         "showlegend": false,
         "type": "scatter",
         "x": [
          0.6616401323324914,
          0.5582654821611321
         ],
         "xaxis": "x",
         "y": [
          0.47609782977484844,
          0.37880946531890375
         ],
         "yaxis": "y"
        },
        {
         "hovertemplate": "x=%{x}<br>y=%{y}<extra></extra>",
         "legendgroup": "",
         "line": {
          "color": "grey",
          "dash": "solid"
         },
         "marker": {
          "symbol": "circle"
         },
         "mode": "lines",
         "name": "",
         "orientation": "v",
         "showlegend": false,
         "type": "scatter",
         "x": [
          0.47407017807159163,
          0.5582654821611321
         ],
         "xaxis": "x",
         "y": [
          0.4446934412273397,
          0.37880946531890375
         ],
         "yaxis": "y"
        },
        {
         "hovertemplate": "x=%{x}<br>y=%{y}<extra></extra>",
         "legendgroup": "",
         "line": {
          "color": "grey",
          "dash": "solid"
         },
         "marker": {
          "symbol": "circle"
         },
         "mode": "lines",
         "name": "",
         "orientation": "v",
         "showlegend": false,
         "type": "scatter",
         "x": [
          -0.19614276739897182,
          -0.24145094546780752
         ],
         "xaxis": "x",
         "y": [
          -0.4591386471065106,
          -0.8382221022893459
         ],
         "yaxis": "y"
        },
        {
         "hovertemplate": "x=%{x}<br>y=%{y}<extra></extra>",
         "legendgroup": "",
         "line": {
          "color": "grey",
          "dash": "solid"
         },
         "marker": {
          "symbol": "circle"
         },
         "mode": "lines",
         "name": "",
         "orientation": "v",
         "showlegend": false,
         "type": "scatter",
         "x": [
          -0.19614276739897182,
          -0.5382783304697094
         ],
         "xaxis": "x",
         "y": [
          -0.4591386471065106,
          -0.7124349328651302
         ],
         "yaxis": "y"
        },
        {
         "hovertemplate": "x=%{x}<br>y=%{y}<extra></extra>",
         "legendgroup": "",
         "line": {
          "color": "grey",
          "dash": "solid"
         },
         "marker": {
          "symbol": "circle"
         },
         "mode": "lines",
         "name": "",
         "orientation": "v",
         "showlegend": false,
         "type": "scatter",
         "x": [
          -0.19614276739897182,
          0.03745676818706103
         ],
         "xaxis": "x",
         "y": [
          -0.4591386471065106,
          -0.4591375442783916
         ],
         "yaxis": "y"
        },
        {
         "hovertemplate": "x=%{x}<br>y=%{y}<extra></extra>",
         "legendgroup": "",
         "line": {
          "color": "grey",
          "dash": "solid"
         },
         "marker": {
          "symbol": "circle"
         },
         "mode": "lines",
         "name": "",
         "orientation": "v",
         "showlegend": false,
         "type": "scatter",
         "x": [
          -0.19614276739897182,
          0.02154341965310638
         ],
         "xaxis": "x",
         "y": [
          -0.4591386471065106,
          0.03859667592781471
         ],
         "yaxis": "y"
        },
        {
         "hovertemplate": "x=%{x}<br>y=%{y}<extra></extra>",
         "legendgroup": "",
         "line": {
          "color": "grey",
          "dash": "solid"
         },
         "marker": {
          "symbol": "circle"
         },
         "mode": "lines",
         "name": "",
         "orientation": "v",
         "showlegend": false,
         "type": "scatter",
         "x": [
          -0.22636183870805712,
          -0.24145094546780752
         ],
         "xaxis": "x",
         "y": [
          -0.999235319303167,
          -0.8382221022893459
         ],
         "yaxis": "y"
        },
        {
         "hovertemplate": "x=%{x}<br>y=%{y}<extra></extra>",
         "legendgroup": "",
         "line": {
          "color": "grey",
          "dash": "solid"
         },
         "marker": {
          "symbol": "circle"
         },
         "mode": "lines",
         "name": "",
         "orientation": "v",
         "showlegend": false,
         "type": "scatter",
         "x": [
          -0.2742550801139485,
          -0.24145094546780752
         ],
         "xaxis": "x",
         "y": [
          -1,
          -0.8382221022893459
         ],
         "yaxis": "y"
        },
        {
         "hovertemplate": "x=%{x}<br>y=%{y}<extra></extra>",
         "legendgroup": "",
         "line": {
          "color": "grey",
          "dash": "solid"
         },
         "marker": {
          "symbol": "circle"
         },
         "mode": "lines",
         "name": "",
         "orientation": "v",
         "showlegend": false,
         "type": "scatter",
         "x": [
          -0.26633889637290087,
          -0.24145094546780752
         ],
         "xaxis": "x",
         "y": [
          -0.9486629341691273,
          -0.8382221022893459
         ],
         "yaxis": "y"
        },
        {
         "hovertemplate": "x=%{x}<br>y=%{y}<extra></extra>",
         "legendgroup": "",
         "line": {
          "color": "grey",
          "dash": "solid"
         },
         "marker": {
          "symbol": "circle"
         },
         "mode": "lines",
         "name": "",
         "orientation": "v",
         "showlegend": false,
         "type": "scatter",
         "x": [
          -0.3176562260751893,
          -0.24145094546780752
         ],
         "xaxis": "x",
         "y": [
          -0.9771804686966674,
          -0.8382221022893459
         ],
         "yaxis": "y"
        },
        {
         "hovertemplate": "x=%{x}<br>y=%{y}<extra></extra>",
         "legendgroup": "",
         "line": {
          "color": "grey",
          "dash": "solid"
         },
         "marker": {
          "symbol": "circle"
         },
         "mode": "lines",
         "name": "",
         "orientation": "v",
         "showlegend": false,
         "type": "scatter",
         "x": [
          -0.20010273226508554,
          -0.24145094546780752
         ],
         "xaxis": "x",
         "y": [
          -0.9469186410383512,
          -0.8382221022893459
         ],
         "yaxis": "y"
        },
        {
         "hovertemplate": "x=%{x}<br>y=%{y}<extra></extra>",
         "legendgroup": "",
         "line": {
          "color": "grey",
          "dash": "solid"
         },
         "marker": {
          "symbol": "circle"
         },
         "mode": "lines",
         "name": "",
         "orientation": "v",
         "showlegend": false,
         "type": "scatter",
         "x": [
          -0.1747502959090054,
          -0.24145094546780752
         ],
         "xaxis": "x",
         "y": [
          -0.9816269278555052,
          -0.8382221022893459
         ],
         "yaxis": "y"
        },
        {
         "hovertemplate": "x=%{x}<br>y=%{y}<extra></extra>",
         "legendgroup": "",
         "line": {
          "color": "grey",
          "dash": "solid"
         },
         "marker": {
          "symbol": "circle"
         },
         "mode": "lines",
         "name": "",
         "orientation": "v",
         "showlegend": false,
         "type": "scatter",
         "x": [
          -0.3330637139748596,
          -0.24145094546780752
         ],
         "xaxis": "x",
         "y": [
          -0.9344166547959555,
          -0.8382221022893459
         ],
         "yaxis": "y"
        },
        {
         "hovertemplate": "x=%{x}<br>y=%{y}<extra></extra>",
         "legendgroup": "",
         "line": {
          "color": "grey",
          "dash": "solid"
         },
         "marker": {
          "symbol": "circle"
         },
         "mode": "lines",
         "name": "",
         "orientation": "v",
         "showlegend": false,
         "type": "scatter",
         "x": [
          -0.69200658988589,
          -0.5382783304697094
         ],
         "xaxis": "x",
         "y": [
          -0.7493421107031196,
          -0.7124349328651302
         ],
         "yaxis": "y"
        },
        {
         "hovertemplate": "x=%{x}<br>y=%{y}<extra></extra>",
         "legendgroup": "",
         "line": {
          "color": "grey",
          "dash": "solid"
         },
         "marker": {
          "symbol": "circle"
         },
         "mode": "lines",
         "name": "",
         "orientation": "v",
         "showlegend": false,
         "type": "scatter",
         "x": [
          -0.5657176857102177,
          -0.5382783304697094
         ],
         "xaxis": "x",
         "y": [
          -0.863962271464483,
          -0.7124349328651302
         ],
         "yaxis": "y"
        },
        {
         "hovertemplate": "x=%{x}<br>y=%{y}<extra></extra>",
         "legendgroup": "",
         "line": {
          "color": "grey",
          "dash": "solid"
         },
         "marker": {
          "symbol": "circle"
         },
         "mode": "lines",
         "name": "",
         "orientation": "v",
         "showlegend": false,
         "type": "scatter",
         "x": [
          -0.6817335992590261,
          -0.5382783304697094
         ],
         "xaxis": "x",
         "y": [
          -0.7100176393097004,
          -0.7124349328651302
         ],
         "yaxis": "y"
        },
        {
         "hovertemplate": "x=%{x}<br>y=%{y}<extra></extra>",
         "legendgroup": "",
         "line": {
          "color": "grey",
          "dash": "solid"
         },
         "marker": {
          "symbol": "circle"
         },
         "mode": "lines",
         "name": "",
         "orientation": "v",
         "showlegend": false,
         "type": "scatter",
         "x": [
          -0.6674734964547877,
          -0.5382783304697094
         ],
         "xaxis": "x",
         "y": [
          -0.826678238938725,
          -0.7124349328651302
         ],
         "yaxis": "y"
        },
        {
         "hovertemplate": "x=%{x}<br>y=%{y}<extra></extra>",
         "legendgroup": "",
         "line": {
          "color": "grey",
          "dash": "solid"
         },
         "marker": {
          "symbol": "circle"
         },
         "mode": "lines",
         "name": "",
         "orientation": "v",
         "showlegend": false,
         "type": "scatter",
         "x": [
          -0.6306232876956268,
          -0.5382783304697094
         ],
         "xaxis": "x",
         "y": [
          -0.8572000060416809,
          -0.7124349328651302
         ],
         "yaxis": "y"
        },
        {
         "hovertemplate": "x=%{x}<br>y=%{y}<extra></extra>",
         "legendgroup": "",
         "line": {
          "color": "grey",
          "dash": "solid"
         },
         "marker": {
          "symbol": "circle"
         },
         "mode": "lines",
         "name": "",
         "orientation": "v",
         "showlegend": false,
         "type": "scatter",
         "x": [
          -0.5907667947264291,
          -0.5382783304697094
         ],
         "xaxis": "x",
         "y": [
          -0.8291361607636577,
          -0.7124349328651302
         ],
         "yaxis": "y"
        },
        {
         "hovertemplate": "x=%{x}<br>y=%{y}<extra></extra>",
         "legendgroup": "",
         "line": {
          "color": "grey",
          "dash": "solid"
         },
         "marker": {
          "symbol": "circle"
         },
         "mode": "lines",
         "name": "",
         "orientation": "v",
         "showlegend": false,
         "type": "scatter",
         "x": [
          -0.6339796000752751,
          -0.5382783304697094
         ],
         "xaxis": "x",
         "y": [
          -0.7861585946243984,
          -0.7124349328651302
         ],
         "yaxis": "y"
        },
        {
         "hovertemplate": "x=%{x}<br>y=%{y}<extra></extra>",
         "legendgroup": "",
         "line": {
          "color": "grey",
          "dash": "solid"
         },
         "marker": {
          "symbol": "circle"
         },
         "mode": "lines",
         "name": "",
         "orientation": "v",
         "showlegend": false,
         "type": "scatter",
         "x": [
          -0.6951110839192957,
          -0.5382783304697094
         ],
         "xaxis": "x",
         "y": [
          -0.7887122932620027,
          -0.7124349328651302
         ],
         "yaxis": "y"
        },
        {
         "hovertemplate": "x=%{x}<br>y=%{y}<extra></extra>",
         "legendgroup": "",
         "line": {
          "color": "grey",
          "dash": "solid"
         },
         "marker": {
          "symbol": "circle"
         },
         "mode": "lines",
         "name": "",
         "orientation": "v",
         "showlegend": false,
         "type": "scatter",
         "x": [
          0.09542507964247826,
          0.03745676818706103
         ],
         "xaxis": "x",
         "y": [
          -0.5767550444964081,
          -0.4591375442783916
         ],
         "yaxis": "y"
        },
        {
         "hovertemplate": "x=%{x}<br>y=%{y}<extra></extra>",
         "legendgroup": "",
         "line": {
          "color": "grey",
          "dash": "solid"
         },
         "marker": {
          "symbol": "circle"
         },
         "mode": "lines",
         "name": "",
         "orientation": "v",
         "showlegend": false,
         "type": "scatter",
         "x": [
          0.06570029453296161,
          0.03745676818706103
         ],
         "xaxis": "x",
         "y": [
          -0.37653525601570603,
          -0.4591375442783916
         ],
         "yaxis": "y"
        },
        {
         "hovertemplate": "x=%{x}<br>y=%{y}<extra></extra>",
         "legendgroup": "",
         "line": {
          "color": "grey",
          "dash": "solid"
         },
         "marker": {
          "symbol": "circle"
         },
         "mode": "lines",
         "name": "",
         "orientation": "v",
         "showlegend": false,
         "type": "scatter",
         "x": [
          0.1163818194794995,
          0.03745676818706103
         ],
         "xaxis": "x",
         "y": [
          -0.47041013862059944,
          -0.4591375442783916
         ],
         "yaxis": "y"
        },
        {
         "hovertemplate": "x=%{x}<br>y=%{y}<extra></extra>",
         "legendgroup": "",
         "line": {
          "color": "grey",
          "dash": "solid"
         },
         "marker": {
          "symbol": "circle"
         },
         "mode": "lines",
         "name": "",
         "orientation": "v",
         "showlegend": false,
         "type": "scatter",
         "x": [
          0.14819776633423445,
          0.03745676818706103
         ],
         "xaxis": "x",
         "y": [
          -0.5109786793984069,
          -0.4591375442783916
         ],
         "yaxis": "y"
        },
        {
         "hovertemplate": "x=%{x}<br>y=%{y}<extra></extra>",
         "legendgroup": "",
         "line": {
          "color": "grey",
          "dash": "solid"
         },
         "marker": {
          "symbol": "circle"
         },
         "mode": "lines",
         "name": "",
         "orientation": "v",
         "showlegend": false,
         "type": "scatter",
         "x": [
          0.15419155435411436,
          0.03745676818706103
         ],
         "xaxis": "x",
         "y": [
          -0.4393290741948384,
          -0.4591375442783916
         ],
         "yaxis": "y"
        },
        {
         "hovertemplate": "x=%{x}<br>y=%{y}<extra></extra>",
         "legendgroup": "",
         "line": {
          "color": "grey",
          "dash": "solid"
         },
         "marker": {
          "symbol": "circle"
         },
         "mode": "lines",
         "name": "",
         "orientation": "v",
         "showlegend": false,
         "type": "scatter",
         "x": [
          0.11946639461879711,
          0.03745676818706103
         ],
         "xaxis": "x",
         "y": [
          -0.38044941390560205,
          -0.4591375442783916
         ],
         "yaxis": "y"
        },
        {
         "hovertemplate": "x=%{x}<br>y=%{y}<extra></extra>",
         "legendgroup": "",
         "line": {
          "color": "grey",
          "dash": "solid"
         },
         "marker": {
          "symbol": "circle"
         },
         "mode": "lines",
         "name": "",
         "orientation": "v",
         "showlegend": false,
         "type": "scatter",
         "x": [
          -0.2478492384540272,
          -0.19614276739897182
         ],
         "xaxis": "x",
         "y": [
          -0.5701832341659763,
          -0.4591386471065106
         ],
         "yaxis": "y"
        },
        {
         "hovertemplate": "x=%{x}<br>y=%{y}<extra></extra>",
         "legendgroup": "",
         "line": {
          "color": "grey",
          "dash": "solid"
         },
         "marker": {
          "symbol": "circle"
         },
         "mode": "lines",
         "name": "",
         "orientation": "v",
         "showlegend": false,
         "type": "scatter",
         "x": [
          -0.32647376543380646,
          -0.44772327767933656
         ],
         "xaxis": "x",
         "y": [
          0.28556134077132456,
          0.3727006973405025
         ],
         "yaxis": "y"
        },
        {
         "hovertemplate": "x=%{x}<br>y=%{y}<extra></extra>",
         "legendgroup": "",
         "line": {
          "color": "grey",
          "dash": "solid"
         },
         "marker": {
          "symbol": "circle"
         },
         "mode": "lines",
         "name": "",
         "orientation": "v",
         "showlegend": false,
         "type": "scatter",
         "x": [
          -0.32647376543380646,
          -0.40118805823314896
         ],
         "xaxis": "x",
         "y": [
          0.28556134077132456,
          0.40294406243276865
         ],
         "yaxis": "y"
        },
        {
         "hovertemplate": "x=%{x}<br>y=%{y}<extra></extra>",
         "legendgroup": "",
         "line": {
          "color": "grey",
          "dash": "solid"
         },
         "marker": {
          "symbol": "circle"
         },
         "mode": "lines",
         "name": "",
         "orientation": "v",
         "showlegend": false,
         "type": "scatter",
         "x": [
          -0.32647376543380646,
          -0.5703208040367115
         ],
         "xaxis": "x",
         "y": [
          0.28556134077132456,
          0.45278587978696533
         ],
         "yaxis": "y"
        },
        {
         "hovertemplate": "x=%{x}<br>y=%{y}<extra></extra>",
         "legendgroup": "",
         "line": {
          "color": "grey",
          "dash": "solid"
         },
         "marker": {
          "symbol": "circle"
         },
         "mode": "lines",
         "name": "",
         "orientation": "v",
         "showlegend": false,
         "type": "scatter",
         "x": [
          -0.32647376543380646,
          0.02154341965310638
         ],
         "xaxis": "x",
         "y": [
          0.28556134077132456,
          0.03859667592781471
         ],
         "yaxis": "y"
        },
        {
         "hovertemplate": "x=%{x}<br>y=%{y}<extra></extra>",
         "legendgroup": "",
         "line": {
          "color": "grey",
          "dash": "solid"
         },
         "marker": {
          "symbol": "circle"
         },
         "mode": "lines",
         "name": "",
         "orientation": "v",
         "showlegend": false,
         "type": "scatter",
         "x": [
          -0.4063014747342403,
          -0.32647376543380646
         ],
         "xaxis": "x",
         "y": [
          0.3383614829248541,
          0.28556134077132456
         ],
         "yaxis": "y"
        },
        {
         "hovertemplate": "x=%{x}<br>y=%{y}<extra></extra>",
         "legendgroup": "",
         "line": {
          "color": "grey",
          "dash": "solid"
         },
         "marker": {
          "symbol": "circle"
         },
         "mode": "lines",
         "name": "",
         "orientation": "v",
         "showlegend": false,
         "type": "scatter",
         "x": [
          -0.34925482001880226,
          -0.32647376543380646
         ],
         "xaxis": "x",
         "y": [
          0.39055617535944864,
          0.28556134077132456
         ],
         "yaxis": "y"
        },
        {
         "hovertemplate": "x=%{x}<br>y=%{y}<extra></extra>",
         "legendgroup": "",
         "line": {
          "color": "grey",
          "dash": "solid"
         },
         "marker": {
          "symbol": "circle"
         },
         "mode": "lines",
         "name": "",
         "orientation": "v",
         "showlegend": false,
         "type": "scatter",
         "x": [
          -0.43838104731084465,
          -0.32647376543380646
         ],
         "xaxis": "x",
         "y": [
          0.2762350796714665,
          0.28556134077132456
         ],
         "yaxis": "y"
        },
        {
         "hovertemplate": "x=%{x}<br>y=%{y}<extra></extra>",
         "legendgroup": "",
         "line": {
          "color": "grey",
          "dash": "solid"
         },
         "marker": {
          "symbol": "circle"
         },
         "mode": "lines",
         "name": "",
         "orientation": "v",
         "showlegend": false,
         "type": "scatter",
         "x": [
          -0.07689481023401226,
          0.02154341965310638
         ],
         "xaxis": "x",
         "y": [
          0.05237544945597163,
          0.03859667592781471
         ],
         "yaxis": "y"
        },
        {
         "hovertemplate": "x=%{x}<br>y=%{y}<extra></extra>",
         "legendgroup": "",
         "line": {
          "color": "grey",
          "dash": "solid"
         },
         "marker": {
          "symbol": "circle"
         },
         "mode": "lines",
         "name": "",
         "orientation": "v",
         "showlegend": false,
         "type": "scatter",
         "x": [
          -0.6708986771635964,
          -0.5703208040367115
         ],
         "xaxis": "x",
         "y": [
          0.5691338585090632,
          0.45278587978696533
         ],
         "yaxis": "y"
        },
        {
         "hovertemplate": "x=%{x}<br>y=%{y}<extra></extra>",
         "legendgroup": "",
         "line": {
          "color": "grey",
          "dash": "solid"
         },
         "marker": {
          "symbol": "circle"
         },
         "mode": "lines",
         "name": "",
         "orientation": "v",
         "showlegend": false,
         "type": "scatter",
         "x": [
          -0.7168658240013271,
          -0.5703208040367115
         ],
         "xaxis": "x",
         "y": [
          0.4928235764578553,
          0.45278587978696533
         ],
         "yaxis": "y"
        },
        {
         "hovertemplate": "x=%{x}<br>y=%{y}<extra></extra>",
         "legendgroup": "",
         "line": {
          "color": "grey",
          "dash": "solid"
         },
         "marker": {
          "symbol": "circle"
         },
         "mode": "lines",
         "name": "",
         "orientation": "v",
         "showlegend": false,
         "type": "scatter",
         "x": [
          -0.7041859364483877,
          -0.5703208040367115
         ],
         "xaxis": "x",
         "y": [
          0.537539593045254,
          0.45278587978696533
         ],
         "yaxis": "y"
        },
        {
         "hovertemplate": "x=%{x}<br>y=%{y}<extra></extra>",
         "legendgroup": "",
         "line": {
          "color": "grey",
          "dash": "solid"
         },
         "marker": {
          "symbol": "circle"
         },
         "mode": "lines",
         "name": "",
         "orientation": "v",
         "showlegend": false,
         "type": "scatter",
         "x": [
          -0.46866091579311137,
          -0.32647376543380646
         ],
         "xaxis": "x",
         "y": [
          0.3204118193169208,
          0.28556134077132456
         ],
         "yaxis": "y"
        },
        {
         "hovertemplate": "x=%{x}<br>y=%{y}<extra></extra>",
         "legendgroup": "",
         "line": {
          "color": "grey",
          "dash": "solid"
         },
         "marker": {
          "symbol": "circle"
         },
         "mode": "lines",
         "name": "",
         "orientation": "v",
         "showlegend": false,
         "type": "scatter",
         "x": [
          -0.14319226229137832,
          -0.07689481023401226
         ],
         "xaxis": "x",
         "y": [
          0.01248831268348642,
          0.05237544945597163
         ],
         "yaxis": "y"
        },
        {
         "hovertemplate": "x=%{x}<br>y=%{y}<extra></extra>",
         "legendgroup": "",
         "line": {
          "color": "grey",
          "dash": "solid"
         },
         "marker": {
          "symbol": "circle"
         },
         "mode": "lines",
         "name": "",
         "orientation": "v",
         "showlegend": false,
         "type": "scatter",
         "x": [
          -0.13449509695478531,
          -0.07689481023401226
         ],
         "xaxis": "x",
         "y": [
          0.10602970145305766,
          0.05237544945597163
         ],
         "yaxis": "y"
        },
        {
         "hovertemplate": "x=%{x}<br>y=%{y}<extra></extra>",
         "legendgroup": "",
         "line": {
          "color": "grey",
          "dash": "solid"
         },
         "marker": {
          "symbol": "circle"
         },
         "mode": "lines",
         "name": "",
         "orientation": "v",
         "showlegend": false,
         "type": "scatter",
         "x": [
          -0.00034228055072478173,
          0.046695191171902406
         ],
         "xaxis": "x",
         "y": [
          -0.29696026636179046,
          -0.5668730494697307
         ],
         "yaxis": "y"
        },
        {
         "hovertemplate": "x=%{x}<br>y=%{y}<extra></extra>",
         "legendgroup": "",
         "line": {
          "color": "grey",
          "dash": "solid"
         },
         "marker": {
          "symbol": "circle"
         },
         "mode": "lines",
         "name": "",
         "orientation": "v",
         "showlegend": false,
         "type": "scatter",
         "x": [
          -0.00034228055072478173,
          -0.0785382308113446
         ],
         "xaxis": "x",
         "y": [
          -0.29696026636179046,
          -0.3841543953907544
         ],
         "yaxis": "y"
        },
        {
         "hovertemplate": "x=%{x}<br>y=%{y}<extra></extra>",
         "legendgroup": "",
         "line": {
          "color": "grey",
          "dash": "solid"
         },
         "marker": {
          "symbol": "circle"
         },
         "mode": "lines",
         "name": "",
         "orientation": "v",
         "showlegend": false,
         "type": "scatter",
         "x": [
          -0.00034228055072478173,
          0.02154341965310638
         ],
         "xaxis": "x",
         "y": [
          -0.29696026636179046,
          0.03859667592781471
         ],
         "yaxis": "y"
        },
        {
         "hovertemplate": "x=%{x}<br>y=%{y}<extra></extra>",
         "legendgroup": "",
         "line": {
          "color": "grey",
          "dash": "solid"
         },
         "marker": {
          "symbol": "circle"
         },
         "mode": "lines",
         "name": "",
         "orientation": "v",
         "showlegend": false,
         "type": "scatter",
         "x": [
          0.060889504407550046,
          0.046695191171902406
         ],
         "xaxis": "x",
         "y": [
          -0.7246268543112655,
          -0.5668730494697307
         ],
         "yaxis": "y"
        },
        {
         "hovertemplate": "x=%{x}<br>y=%{y}<extra></extra>",
         "legendgroup": "",
         "line": {
          "color": "grey",
          "dash": "solid"
         },
         "marker": {
          "symbol": "circle"
         },
         "mode": "lines",
         "name": "",
         "orientation": "v",
         "showlegend": false,
         "type": "scatter",
         "x": [
          -0.018073091870867905,
          -0.00034228055072478173
         ],
         "xaxis": "x",
         "y": [
          -0.38475057480921865,
          -0.29696026636179046
         ],
         "yaxis": "y"
        },
        {
         "hovertemplate": "x=%{x}<br>y=%{y}<extra></extra>",
         "legendgroup": "",
         "line": {
          "color": "grey",
          "dash": "solid"
         },
         "marker": {
          "symbol": "circle"
         },
         "mode": "lines",
         "name": "",
         "orientation": "v",
         "showlegend": false,
         "type": "scatter",
         "x": [
          0.5171007537369532,
          0.6585829197285591
         ],
         "xaxis": "x",
         "y": [
          -0.21441698079761806,
          -0.25621302921273403
         ],
         "yaxis": "y"
        },
        {
         "hovertemplate": "x=%{x}<br>y=%{y}<extra></extra>",
         "legendgroup": "",
         "line": {
          "color": "grey",
          "dash": "solid"
         },
         "marker": {
          "symbol": "circle"
         },
         "mode": "lines",
         "name": "",
         "orientation": "v",
         "showlegend": false,
         "type": "scatter",
         "x": [
          0.5171007537369532,
          0.6390458283087947
         ],
         "xaxis": "x",
         "y": [
          -0.21441698079761806,
          -0.15137463435347218
         ],
         "yaxis": "y"
        },
        {
         "hovertemplate": "x=%{x}<br>y=%{y}<extra></extra>",
         "legendgroup": "",
         "line": {
          "color": "grey",
          "dash": "solid"
         },
         "marker": {
          "symbol": "circle"
         },
         "mode": "lines",
         "name": "",
         "orientation": "v",
         "showlegend": false,
         "type": "scatter",
         "x": [
          0.5171007537369532,
          0.7784427753163974
         ],
         "xaxis": "x",
         "y": [
          -0.21441698079761806,
          -0.24463680560626966
         ],
         "yaxis": "y"
        },
        {
         "hovertemplate": "x=%{x}<br>y=%{y}<extra></extra>",
         "legendgroup": "",
         "line": {
          "color": "grey",
          "dash": "solid"
         },
         "marker": {
          "symbol": "circle"
         },
         "mode": "lines",
         "name": "",
         "orientation": "v",
         "showlegend": false,
         "type": "scatter",
         "x": [
          0.5171007537369532,
          0.6435721634619396
         ],
         "xaxis": "x",
         "y": [
          -0.21441698079761806,
          -0.3658056365862044
         ],
         "yaxis": "y"
        },
        {
         "hovertemplate": "x=%{x}<br>y=%{y}<extra></extra>",
         "legendgroup": "",
         "line": {
          "color": "grey",
          "dash": "solid"
         },
         "marker": {
          "symbol": "circle"
         },
         "mode": "lines",
         "name": "",
         "orientation": "v",
         "showlegend": false,
         "type": "scatter",
         "x": [
          0.5171007537369532,
          0.6212236425329655
         ],
         "xaxis": "x",
         "y": [
          -0.21441698079761806,
          -0.288377669913657
         ],
         "yaxis": "y"
        },
        {
         "hovertemplate": "x=%{x}<br>y=%{y}<extra></extra>",
         "legendgroup": "",
         "line": {
          "color": "grey",
          "dash": "solid"
         },
         "marker": {
          "symbol": "circle"
         },
         "mode": "lines",
         "name": "",
         "orientation": "v",
         "showlegend": false,
         "type": "scatter",
         "x": [
          0.5171007537369532,
          0.7657049067280375
         ],
         "xaxis": "x",
         "y": [
          -0.21441698079761806,
          -0.48380654047963
         ],
         "yaxis": "y"
        },
        {
         "hovertemplate": "x=%{x}<br>y=%{y}<extra></extra>",
         "legendgroup": "",
         "line": {
          "color": "grey",
          "dash": "solid"
         },
         "marker": {
          "symbol": "circle"
         },
         "mode": "lines",
         "name": "",
         "orientation": "v",
         "showlegend": false,
         "type": "scatter",
         "x": [
          0.5171007537369532,
          0.02154341965310638
         ],
         "xaxis": "x",
         "y": [
          -0.21441698079761806,
          0.03859667592781471
         ],
         "yaxis": "y"
        },
        {
         "hovertemplate": "x=%{x}<br>y=%{y}<extra></extra>",
         "legendgroup": "",
         "line": {
          "color": "grey",
          "dash": "solid"
         },
         "marker": {
          "symbol": "circle"
         },
         "mode": "lines",
         "name": "",
         "orientation": "v",
         "showlegend": false,
         "type": "scatter",
         "x": [
          0.11099780867891172,
          0.046695191171902406
         ],
         "xaxis": "x",
         "y": [
          -0.7149169825780307,
          -0.5668730494697307
         ],
         "yaxis": "y"
        },
        {
         "hovertemplate": "x=%{x}<br>y=%{y}<extra></extra>",
         "legendgroup": "",
         "line": {
          "color": "grey",
          "dash": "solid"
         },
         "marker": {
          "symbol": "circle"
         },
         "mode": "lines",
         "name": "",
         "orientation": "v",
         "showlegend": false,
         "type": "scatter",
         "x": [
          0.7137065031866221,
          0.6435721634619396
         ],
         "xaxis": "x",
         "y": [
          -0.4853555933678276,
          -0.3658056365862044
         ],
         "yaxis": "y"
        },
        {
         "hovertemplate": "x=%{x}<br>y=%{y}<extra></extra>",
         "legendgroup": "",
         "line": {
          "color": "grey",
          "dash": "solid"
         },
         "marker": {
          "symbol": "circle"
         },
         "mode": "lines",
         "name": "",
         "orientation": "v",
         "showlegend": false,
         "type": "scatter",
         "x": [
          0.9283779751834075,
          0.7784427753163974
         ],
         "xaxis": "x",
         "y": [
          -0.23494241511075187,
          -0.24463680560626966
         ],
         "yaxis": "y"
        },
        {
         "hovertemplate": "x=%{x}<br>y=%{y}<extra></extra>",
         "legendgroup": "",
         "line": {
          "color": "grey",
          "dash": "solid"
         },
         "marker": {
          "symbol": "circle"
         },
         "mode": "lines",
         "name": "",
         "orientation": "v",
         "showlegend": false,
         "type": "scatter",
         "x": [
          0.9258936750876703,
          0.7784427753163974
         ],
         "xaxis": "x",
         "y": [
          -0.2875220170366119,
          -0.24463680560626966
         ],
         "yaxis": "y"
        },
        {
         "hovertemplate": "x=%{x}<br>y=%{y}<extra></extra>",
         "legendgroup": "",
         "line": {
          "color": "grey",
          "dash": "solid"
         },
         "marker": {
          "symbol": "circle"
         },
         "mode": "lines",
         "name": "",
         "orientation": "v",
         "showlegend": false,
         "type": "scatter",
         "x": [
          0.8732482842776773,
          0.7657049067280375
         ],
         "xaxis": "x",
         "y": [
          -0.5926686811735169,
          -0.48380654047963
         ],
         "yaxis": "y"
        },
        {
         "hovertemplate": "x=%{x}<br>y=%{y}<extra></extra>",
         "legendgroup": "",
         "line": {
          "color": "grey",
          "dash": "solid"
         },
         "marker": {
          "symbol": "circle"
         },
         "mode": "lines",
         "name": "",
         "orientation": "v",
         "showlegend": false,
         "type": "scatter",
         "x": [
          0.913815763937291,
          0.7657049067280375
         ],
         "xaxis": "x",
         "y": [
          -0.5232759990880547,
          -0.48380654047963
         ],
         "yaxis": "y"
        },
        {
         "hovertemplate": "x=%{x}<br>y=%{y}<extra></extra>",
         "legendgroup": "",
         "line": {
          "color": "grey",
          "dash": "solid"
         },
         "marker": {
          "symbol": "circle"
         },
         "mode": "lines",
         "name": "",
         "orientation": "v",
         "showlegend": false,
         "type": "scatter",
         "x": [
          0.8486590992807156,
          0.7657049067280375
         ],
         "xaxis": "x",
         "y": [
          -0.6271583271720099,
          -0.48380654047963
         ],
         "yaxis": "y"
        },
        {
         "hovertemplate": "x=%{x}<br>y=%{y}<extra></extra>",
         "legendgroup": "",
         "line": {
          "color": "grey",
          "dash": "solid"
         },
         "marker": {
          "symbol": "circle"
         },
         "mode": "lines",
         "name": "",
         "orientation": "v",
         "showlegend": false,
         "type": "scatter",
         "x": [
          0.8052587016896158,
          0.7657049067280375
         ],
         "xaxis": "x",
         "y": [
          -0.6277686061967197,
          -0.48380654047963
         ],
         "yaxis": "y"
        },
        {
         "hovertemplate": "x=%{x}<br>y=%{y}<extra></extra>",
         "legendgroup": "",
         "line": {
          "color": "grey",
          "dash": "solid"
         },
         "marker": {
          "symbol": "circle"
         },
         "mode": "lines",
         "name": "",
         "orientation": "v",
         "showlegend": false,
         "type": "scatter",
         "x": [
          0.6236921225853221,
          0.5171007537369532
         ],
         "xaxis": "x",
         "y": [
          -0.20374603458509158,
          -0.21441698079761806
         ],
         "yaxis": "y"
        },
        {
         "hovertemplate": "x=%{x}<br>y=%{y}<extra></extra>",
         "legendgroup": "",
         "line": {
          "color": "grey",
          "dash": "solid"
         },
         "marker": {
          "symbol": "circle"
         },
         "mode": "lines",
         "name": "",
         "orientation": "v",
         "showlegend": false,
         "type": "scatter",
         "x": [
          0.103720423473183,
          0.02154341965310638
         ],
         "xaxis": "x",
         "y": [
          0.04812604107922524,
          0.03859667592781471
         ],
         "yaxis": "y"
        },
        {
         "hovertemplate": "x=%{x}<br>y=%{y}<extra></extra>",
         "legendgroup": "",
         "line": {
          "color": "grey",
          "dash": "solid"
         },
         "marker": {
          "symbol": "circle"
         },
         "mode": "lines",
         "name": "",
         "orientation": "v",
         "showlegend": false,
         "type": "scatter",
         "x": [
          -0.03045843355478438,
          -0.00034228055072478173
         ],
         "xaxis": "x",
         "y": [
          -0.4368086517097308,
          -0.29696026636179046
         ],
         "yaxis": "y"
        },
        {
         "hovertemplate": "x=%{x}<br>y=%{y}<extra></extra>",
         "legendgroup": "",
         "line": {
          "color": "grey",
          "dash": "solid"
         },
         "marker": {
          "symbol": "circle"
         },
         "mode": "lines",
         "name": "",
         "orientation": "v",
         "showlegend": false,
         "type": "scatter",
         "x": [
          -0.08513410877302444,
          -0.00034228055072478173
         ],
         "xaxis": "x",
         "y": [
          -0.3132255727514528,
          -0.29696026636179046
         ],
         "yaxis": "y"
        },
        {
         "hovertemplate": "x=%{x}<br>y=%{y}<extra></extra>",
         "legendgroup": "",
         "line": {
          "color": "grey",
          "dash": "solid"
         },
         "marker": {
          "symbol": "circle"
         },
         "mode": "lines",
         "name": "",
         "orientation": "v",
         "showlegend": false,
         "type": "scatter",
         "x": [
          0.9033896569981527,
          0.7657049067280375
         ],
         "xaxis": "x",
         "y": [
          -0.5684273217515532,
          -0.48380654047963
         ],
         "yaxis": "y"
        },
        {
         "hovertemplate": "x=%{x}<br>y=%{y}<extra></extra>",
         "legendgroup": "",
         "line": {
          "color": "grey",
          "dash": "solid"
         },
         "marker": {
          "symbol": "circle"
         },
         "mode": "lines",
         "name": "",
         "orientation": "v",
         "showlegend": false,
         "type": "scatter",
         "x": [
          0.6734389277818221,
          0.5171007537369532
         ],
         "xaxis": "x",
         "y": [
          -0.20295930539255386,
          -0.21441698079761806
         ],
         "yaxis": "y"
        },
        {
         "customdata": [
          [
           "Zachary Ibarra",
           10,
           true,
           "person",
           "Zachary Ibarra",
           "2021-01-27",
           "Contract",
           [
            "Python",
            "Typescript",
            "Java"
           ],
           "Lauren Webb",
           "DevOps",
           "Engineer",
           {
            "city": "Dublin",
            "country": "IRL",
            "tz": "UTC"
           },
           1,
           "Dublin",
           "UTC",
           "IRL"
          ],
          [
           "Jessica Robertson",
           10,
           true,
           "person",
           "Jessica Robertson",
           "2021-01-20",
           "Contract",
           [
            "Java"
           ],
           "Lauren Webb",
           "DevOps",
           "Engineer",
           {
            "city": "Dublin",
            "country": "IRL",
            "tz": "UTC"
           },
           1,
           "Dublin",
           "UTC",
           "IRL"
          ],
          [
           "Kyle Ross",
           10,
           true,
           "person",
           "Kyle Ross",
           "2023-02-27",
           "Full Time",
           [
            "Python",
            "Typescript",
            "Scala"
           ],
           "Crystal Ayers",
           "DevOps",
           "Engineer",
           {
            "city": "Dublin",
            "country": "IRL",
            "tz": "UTC"
           },
           1,
           "Dublin",
           "UTC",
           "IRL"
          ],
          [
           "Donna Baird",
           10,
           true,
           "person",
           "Donna Baird",
           "2022-07-20",
           "Contract",
           [],
           "Heather Rojas",
           "DevOps",
           "Engineer",
           {
            "city": "Dublin",
            "country": "IRL",
            "tz": "UTC"
           },
           1,
           "Dublin",
           "UTC",
           "IRL"
          ],
          [
           "Austin Alexander",
           10,
           true,
           "person",
           "Austin Alexander",
           "2022-03-06",
           "Full Time",
           [],
           "Heather Rojas",
           "DevOps",
           "Engineer",
           {
            "city": "Dublin",
            "country": "IRL",
            "tz": "UTC"
           },
           1,
           "Dublin",
           "UTC",
           "IRL"
          ],
          [
           "Pamela Austin",
           10,
           true,
           "person",
           "Pamela Austin",
           "2022-02-07",
           "Contract",
           [],
           "Heather Rojas",
           "DevOps",
           "Engineer",
           {
            "city": "Dublin",
            "country": "IRL",
            "tz": "UTC"
           },
           1,
           "Dublin",
           "UTC",
           "IRL"
          ],
          [
           "Lauren Webb",
           10,
           true,
           "person",
           "Lauren Webb",
           "2021-03-24",
           "Part Time",
           [
            "Go"
           ],
           "Jordan Harper",
           "DevOps",
           "Senior Engineer",
           {
            "city": "Dublin",
            "country": "IRL",
            "tz": "UTC"
           },
           2,
           "Dublin",
           "UTC",
           "IRL"
          ],
          [
           "Todd Olson",
           10,
           true,
           "person",
           "Todd Olson",
           "2022-08-05",
           "Full Time",
           [],
           "Crystal Ayers",
           "DevOps",
           "Senior Engineer",
           {
            "city": "Dublin",
            "country": "IRL",
            "tz": "UTC"
           },
           2,
           "Dublin",
           "UTC",
           "IRL"
          ],
          [
           "Katrina Crosby",
           10,
           true,
           "person",
           "Katrina Crosby",
           "2022-04-26",
           "Full Time",
           [
            "Java"
           ],
           "Crystal Ayers",
           "DevOps",
           "Senior Engineer",
           {
            "city": "Dublin",
            "country": "IRL",
            "tz": "UTC"
           },
           2,
           "Dublin",
           "UTC",
           "IRL"
          ],
          [
           "Jerome Lutz",
           10,
           true,
           "person",
           "Jerome Lutz",
           "2020-10-25",
           "Contract",
           [],
           "Crystal Ayers",
           "DevOps",
           "Senior Engineer",
           {
            "city": "Dublin",
            "country": "IRL",
            "tz": "UTC"
           },
           2,
           "Dublin",
           "UTC",
           "IRL"
          ],
          [
           "Crystal Ayers",
           10,
           true,
           "person",
           "Crystal Ayers",
           "2021-12-25",
           "Full Time",
           [
            "Python",
            "JavaScript"
           ],
           "Jordan Harper",
           "DevOps",
           "Manager",
           {
            "city": "Dublin",
            "country": "IRL",
            "tz": "UTC"
           },
           3,
           "Dublin",
           "UTC",
           "IRL"
          ],
          [
           "Heather Rojas",
           10,
           true,
           "person",
           "Heather Rojas",
           "2021-10-13",
           "Full Time",
           [
            "JavaScript",
            "Java"
           ],
           "Crystal Ayers",
           "DevOps",
           "Manager",
           {
            "city": "Dublin",
            "country": "IRL",
            "tz": "UTC"
           },
           3,
           "Dublin",
           "UTC",
           "IRL"
          ],
          [
           "Michael Mayo",
           10,
           true,
           "person",
           "Michael Mayo",
           "2022-05-29",
           "Full Time",
           [
            "Typescript",
            "Java"
           ],
           "Crystal Ayers",
           "DevOps",
           "Manager",
           {
            "city": "Dublin",
            "country": "IRL",
            "tz": "UTC"
           },
           3,
           "Dublin",
           "UTC",
           "IRL"
          ],
          [
           "Shelby Robinson",
           10,
           true,
           "person",
           "Shelby Robinson",
           "2022-05-27",
           "Part Time",
           [
            "Python",
            "JavaScript",
            "Scala"
           ],
           "Crystal Ayers",
           "DevOps",
           "Manager",
           {
            "city": "Dublin",
            "country": "IRL",
            "tz": "UTC"
           },
           3,
           "Dublin",
           "UTC",
           "IRL"
          ],
          [
           "Shane Nguyen",
           10,
           true,
           "person",
           "Shane Nguyen",
           "2022-11-26",
           "Part Time",
           [
            "Python",
            "Typescript",
            "JavaScript",
            "Java"
           ],
           "Richard Alvarez",
           "Support",
           "Analyst",
           {
            "city": "Dublin",
            "country": "IRL",
            "tz": "UTC"
           },
           1,
           "Dublin",
           "UTC",
           "IRL"
          ],
          [
           "Aaron Myers",
           10,
           true,
           "person",
           "Aaron Myers",
           "2023-01-23",
           "Full Time",
           [
            "Typescript",
            "JavaScript",
            "Java"
           ],
           "Lisa Boyer",
           "Support",
           "Analyst",
           {
            "city": "Dublin",
            "country": "IRL",
            "tz": "UTC"
           },
           1,
           "Dublin",
           "UTC",
           "IRL"
          ],
          [
           "Virginia Avila",
           10,
           true,
           "person",
           "Virginia Avila",
           "2021-05-09",
           "Full Time",
           [
            "Python",
            "Typescript",
            "JavaScript",
            "Scala"
           ],
           "Jordan Harper",
           "Support",
           "Manager",
           {
            "city": "Dublin",
            "country": "IRL",
            "tz": "UTC"
           },
           2,
           "Dublin",
           "UTC",
           "IRL"
          ],
          [
           "Richard Alvarez",
           10,
           true,
           "person",
           "Richard Alvarez",
           "2021-05-12",
           "Contract",
           [],
           "Virginia Avila",
           "Support",
           "Manager",
           {
            "city": "Dublin",
            "country": "IRL",
            "tz": "UTC"
           },
           2,
           "Dublin",
           "UTC",
           "IRL"
          ],
          [
           "Sarah Bennett",
           10,
           true,
           "person",
           "Sarah Bennett",
           "2022-05-16",
           "Contract",
           [],
           "Virginia Avila",
           "Support",
           "Manager",
           {
            "city": "Dublin",
            "country": "IRL",
            "tz": "UTC"
           },
           2,
           "Dublin",
           "UTC",
           "IRL"
          ],
          [
           "Holly Mcdonald",
           10,
           true,
           "person",
           "Holly Mcdonald",
           "2022-05-29",
           "Full Time",
           [
            "Typescript"
           ],
           "Virginia Avila",
           "Support",
           "Manager",
           {
            "city": "Dublin",
            "country": "IRL",
            "tz": "UTC"
           },
           2,
           "Dublin",
           "UTC",
           "IRL"
          ],
          [
           "Lisa Boyer",
           10,
           true,
           "person",
           "Lisa Boyer",
           "2021-02-09",
           "Full Time",
           [
            "Python",
            "Typescript",
            "Java"
           ],
           "Virginia Avila",
           "Support",
           "Manager",
           {
            "city": "Dublin",
            "country": "IRL",
            "tz": "UTC"
           },
           2,
           "Dublin",
           "UTC",
           "IRL"
          ],
          [
           "Curtis Brown",
           10,
           true,
           "person",
           "Curtis Brown",
           "2022-11-27",
           "Full Time",
           [
            "Python",
            "JavaScript",
            "Scala",
            "Java"
           ],
           "Virginia Avila",
           "Support",
           "Manager",
           {
            "city": "Dublin",
            "country": "IRL",
            "tz": "UTC"
           },
           2,
           "Dublin",
           "UTC",
           "IRL"
          ],
          [
           "Brianna Brown",
           10,
           true,
           "person",
           "Brianna Brown",
           "2023-01-26",
           "Contract",
           [],
           "Virginia Avila",
           "Support",
           "Manager",
           {
            "city": "Dublin",
            "country": "IRL",
            "tz": "UTC"
           },
           2,
           "Dublin",
           "UTC",
           "IRL"
          ]
         ],
         "hovertemplate": "<b>%{hovertext}</b><br><br>country=%{customdata[15]}<br>x=%{x}<br>y=%{y}<br>rank=%{customdata[12]}<br>label=%{customdata[0]}<br>size=%{customdata[1]}<br>person=%{customdata[2]}<br>type=%{customdata[3]}<br>name=%{customdata[4]}<br>hire_date=%{customdata[5]}<br>status=%{customdata[6]}<br>languages=%{customdata[7]}<br>manager=%{customdata[8]}<br>team=%{customdata[9]}<br>title=%{customdata[10]}<br>location=%{customdata[11]}<br>city=%{customdata[13]}<br>tz=%{customdata[14]}<extra></extra>",
         "hovertext": [
          "Zachary Ibarra",
          "Jessica Robertson",
          "Kyle Ross",
          "Donna Baird",
          "Austin Alexander",
          "Pamela Austin",
          "Lauren Webb",
          "Todd Olson",
          "Katrina Crosby",
          "Jerome Lutz",
          "Crystal Ayers",
          "Heather Rojas",
          "Michael Mayo",
          "Shelby Robinson",
          "Shane Nguyen",
          "Aaron Myers",
          "Virginia Avila",
          "Richard Alvarez",
          "Sarah Bennett",
          "Holly Mcdonald",
          "Lisa Boyer",
          "Curtis Brown",
          "Brianna Brown"
         ],
         "legendgroup": "IRL",
         "marker": {
          "color": "#ab63fa",
          "size": [
           1,
           1,
           1,
           1,
           1,
           1,
           2,
           2,
           2,
           2,
           3,
           3,
           3,
           3,
           1,
           1,
           2,
           2,
           2,
           2,
           2,
           2,
           2
          ],
          "sizemode": "area",
          "sizeref": 0.0175,
          "symbol": "circle"
         },
         "mode": "markers",
         "name": "IRL",
         "orientation": "v",
         "showlegend": true,
         "type": "scatter",
         "x": [
          -0.13449509695478531,
          -0.14319226229137832,
          -0.46866091579311137,
          -0.7041859364483877,
          -0.7168658240013271,
          -0.6708986771635964,
          -0.07689481023401226,
          -0.43838104731084465,
          -0.34925482001880226,
          -0.4063014747342403,
          -0.32647376543380646,
          -0.5703208040367115,
          -0.40118805823314896,
          -0.44772327767933656,
          0.47492723356257566,
          0.5951419654023237,
          0.2938702726187548,
          0.39938500944810734,
          0.3391747509014339,
          0.39180603300848715,
          0.4668247173668308,
          0.3750905543149955,
          0.40400329729492435
         ],
         "xaxis": "x",
         "y": [
          0.10602970145305766,
          0.01248831268348642,
          0.3204118193169208,
          0.537539593045254,
          0.4928235764578553,
          0.5691338585090632,
          0.05237544945597163,
          0.2762350796714665,
          0.39055617535944864,
          0.3383614829248541,
          0.28556134077132456,
          0.45278587978696533,
          0.40294406243276865,
          0.3727006973405025,
          -0.5881813916626967,
          -0.4678448718992556,
          -0.24253721120761765,
          -0.44241537708170453,
          -0.36419571366523007,
          -0.3458884337457171,
          -0.37227432721368364,
          -0.294786234223895,
          -0.24756945429324467
         ],
         "yaxis": "y"
        },
        {
         "customdata": [
          [
           "Lisa Hoover",
           10,
           true,
           "person",
           "Lisa Hoover",
           "2021-11-06",
           "Contract",
           [],
           "Steven Edwards",
           "Business",
           "Associate",
           {
            "city": "Toronto",
            "country": "CAN",
            "tz": "EST"
           },
           2,
           "Toronto",
           "EST",
           "CAN"
          ],
          [
           "Mason Chase",
           10,
           true,
           "person",
           "Mason Chase",
           "2021-09-20",
           "Full Time",
           [
            "Java",
            "Python",
            "Typescript",
            "JavaScript",
            "Scala"
           ],
           "Christopher Griffin",
           "Business",
           "Vice President",
           {
            "city": "Toronto",
            "country": "CAN",
            "tz": "EST"
           },
           3,
           "Toronto",
           "EST",
           "CAN"
          ],
          [
           "Adam Jackson",
           10,
           true,
           "person",
           "Adam Jackson",
           "2021-01-02",
           "Part Time",
           [],
           "Lauren Berry",
           "Business",
           "Director",
           {
            "city": "Toronto",
            "country": "CAN",
            "tz": "EST"
           },
           4,
           "Toronto",
           "EST",
           "CAN"
          ],
          [
           "Hannah Young",
           10,
           true,
           "person",
           "Hannah Young",
           "2022-10-12",
           "Full Time",
           [
            "Java",
            "Python",
            "Typescript",
            "JavaScript",
            "Scala"
           ],
           "Dustin Cantrell",
           "Internal Tools",
           "Engineer",
           {
            "city": "Toronto",
            "country": "CAN",
            "tz": "EST"
           },
           1,
           "Toronto",
           "EST",
           "CAN"
          ],
          [
           "Cynthia Brown",
           10,
           true,
           "person",
           "Cynthia Brown",
           "2023-03-11",
           "Full Time",
           [
            "JavaScript"
           ],
           "Dustin Cantrell",
           "Internal Tools",
           "Senior Engineer",
           {
            "city": "Toronto",
            "country": "CAN",
            "tz": "EST"
           },
           2,
           "Toronto",
           "EST",
           "CAN"
          ],
          [
           "Vicki Lambert",
           10,
           true,
           "person",
           "Vicki Lambert",
           "2021-11-25",
           "Full Time",
           [
            "JavaScript",
            "Go",
            "Scala"
           ],
           "Dustin Cantrell",
           "Internal Tools",
           "Senior Engineer",
           {
            "city": "Toronto",
            "country": "CAN",
            "tz": "EST"
           },
           2,
           "Toronto",
           "EST",
           "CAN"
          ],
          [
           "Carrie Cunningham",
           10,
           true,
           "person",
           "Carrie Cunningham",
           "2020-10-11",
           "Full Time",
           [
            "JavaScript"
           ],
           "Dustin Cantrell",
           "Internal Tools",
           "Manager",
           {
            "city": "Toronto",
            "country": "CAN",
            "tz": "EST"
           },
           3,
           "Toronto",
           "EST",
           "CAN"
          ],
          [
           "Dr. Melissa Hernandez",
           10,
           true,
           "person",
           "Dr. Melissa Hernandez",
           "2020-06-28",
           "Contract",
           [
            "JavaScript"
           ],
           "Jordan Harper",
           "Internal Tools",
           "VP",
           {
            "city": "Toronto",
            "country": "CAN",
            "tz": "EST"
           },
           5,
           "Toronto",
           "EST",
           "CAN"
          ],
          [
           "Sonya Marshall",
           10,
           true,
           "person",
           "Sonya Marshall",
           "2021-08-04",
           "Contract",
           [
            "Python",
            "Erlang",
            "JavaScript"
           ],
           "Dr. Melissa Hernandez",
           "Internal Tools",
           "VP",
           {
            "city": "Toronto",
            "country": "CAN",
            "tz": "EST"
           },
           5,
           "Toronto",
           "EST",
           "CAN"
          ],
          [
           "Susan Beasley",
           10,
           true,
           "person",
           "Susan Beasley",
           "2020-07-03",
           "Full Time",
           [
            "Erlang",
            "Typescript",
            "JavaScript",
            "Go"
           ],
           "Eric Davis",
           "Platform",
           "Senior Engineer",
           {
            "city": "Toronto",
            "country": "CAN",
            "tz": "EST"
           },
           2,
           "Toronto",
           "EST",
           "CAN"
          ],
          [
           "Sarah Robertson",
           10,
           true,
           "person",
           "Sarah Robertson",
           "2021-07-26",
           "Full Time",
           [
            "Java"
           ],
           "Andrew Peterson",
           "Platform",
           "Senior Engineer",
           {
            "city": "Toronto",
            "country": "CAN",
            "tz": "EST"
           },
           2,
           "Toronto",
           "EST",
           "CAN"
          ],
          [
           "Belinda Davis",
           10,
           true,
           "person",
           "Belinda Davis",
           "2021-07-08",
           "Contract",
           [
            "Typescript",
            "JavaScript",
            "Scala",
            "Java"
           ],
           "Colleen Williamson",
           "Platform",
           "Managing Engineer",
           {
            "city": "Toronto",
            "country": "CAN",
            "tz": "EST"
           },
           3,
           "Toronto",
           "EST",
           "CAN"
          ],
          [
           "Mary Wright",
           10,
           true,
           "person",
           "Mary Wright",
           "2023-02-25",
           "Part Time",
           [
            "JavaScript"
           ],
           "Eric Davis",
           "Platform",
           "Managing Engineer",
           {
            "city": "Toronto",
            "country": "CAN",
            "tz": "EST"
           },
           3,
           "Toronto",
           "EST",
           "CAN"
          ],
          [
           "Mike Watkins",
           10,
           true,
           "person",
           "Mike Watkins",
           "2021-06-30",
           "Contract",
           [
            "Python",
            "Typescript",
            "Java"
           ],
           "Eric Davis",
           "Platform",
           "AVP",
           {
            "city": "Toronto",
            "country": "CAN",
            "tz": "EST"
           },
           4,
           "Toronto",
           "EST",
           "CAN"
          ],
          [
           "Matthew Robinson",
           10,
           true,
           "person",
           "Matthew Robinson",
           "2023-01-31",
           "Full Time",
           [
            "Python",
            "Typescript",
            "Java"
           ],
           "Eric Davis",
           "Platform",
           "AVP",
           {
            "city": "Toronto",
            "country": "CAN",
            "tz": "EST"
           },
           4,
           "Toronto",
           "EST",
           "CAN"
          ],
          [
           "Colleen Williamson",
           10,
           true,
           "person",
           "Colleen Williamson",
           "2021-08-09",
           "Full Time",
           [
            "Scala"
           ],
           "Jordan Harper",
           "Platform",
           "VP",
           {
            "city": "Toronto",
            "country": "CAN",
            "tz": "EST"
           },
           5,
           "Toronto",
           "EST",
           "CAN"
          ],
          [
           "Yvonne Delacruz",
           10,
           true,
           "person",
           "Yvonne Delacruz",
           "2021-05-12",
           "Full Time",
           [
            "JavaScript",
            "Java"
           ],
           "Michelle Marshall",
           "Product",
           "Engineer",
           {
            "city": "Toronto",
            "country": "CAN",
            "tz": "EST"
           },
           1,
           "Toronto",
           "EST",
           "CAN"
          ],
          [
           "Chelsea Navarro",
           10,
           true,
           "person",
           "Chelsea Navarro",
           "2020-09-01",
           "Contract",
           [
            "Python",
            "JavaScript",
            "Java"
           ],
           "Heidi Mullins",
           "Product",
           "Manager",
           {
            "city": "Toronto",
            "country": "CAN",
            "tz": "EST"
           },
           2,
           "Toronto",
           "EST",
           "CAN"
          ],
          [
           "Nicholas Hughes",
           10,
           true,
           "person",
           "Nicholas Hughes",
           "2022-04-15",
           "Full Time",
           [
            "JavaScript"
           ],
           "Michelle Marshall",
           "Product",
           "Product Owner",
           {
            "city": "Toronto",
            "country": "CAN",
            "tz": "EST"
           },
           3,
           "Toronto",
           "EST",
           "CAN"
          ],
          [
           "Jennifer Hamilton",
           10,
           true,
           "person",
           "Jennifer Hamilton",
           "2021-10-17",
           "Full Time",
           [
            "Python",
            "JavaScript",
            "Scala",
            "Java"
           ],
           "Michelle Marshall",
           "Product",
           "Product Owner",
           {
            "city": "Toronto",
            "country": "CAN",
            "tz": "EST"
           },
           3,
           "Toronto",
           "EST",
           "CAN"
          ],
          [
           "Elizabeth Friedman",
           10,
           true,
           "person",
           "Elizabeth Friedman",
           "2021-09-02",
           "Full Time",
           [
            "Python"
           ],
           "Michelle Marshall",
           "Product",
           "Product Owner",
           {
            "city": "Toronto",
            "country": "CAN",
            "tz": "EST"
           },
           3,
           "Toronto",
           "EST",
           "CAN"
          ],
          [
           "Michelle Marshall",
           10,
           true,
           "person",
           "Michelle Marshall",
           "2022-01-16",
           "Full Time",
           [
            "Typescript"
           ],
           "Jordan Harper",
           "Product",
           "VP",
           {
            "city": "Toronto",
            "country": "CAN",
            "tz": "EST"
           },
           5,
           "Toronto",
           "EST",
           "CAN"
          ],
          [
           "Timothy Schultz",
           10,
           true,
           "person",
           "Timothy Schultz",
           "2020-11-17",
           "Contract",
           [
            "Java"
           ],
           "Andrew Pruitt",
           "Sales",
           "Associate",
           {
            "city": "Toronto",
            "country": "CAN",
            "tz": "EST"
           },
           1,
           "Toronto",
           "EST",
           "CAN"
          ],
          [
           "Carl Adams",
           10,
           true,
           "person",
           "Carl Adams",
           "2023-04-02",
           "Contract",
           [
            "Scala"
           ],
           "Andrew Pruitt",
           "Sales",
           "Associate",
           {
            "city": "Toronto",
            "country": "CAN",
            "tz": "EST"
           },
           1,
           "Toronto",
           "EST",
           "CAN"
          ],
          [
           "Michael Adams",
           10,
           true,
           "person",
           "Michael Adams",
           "2022-04-08",
           "Contract",
           [],
           "Andrew Pruitt",
           "Sales",
           "Associate",
           {
            "city": "Toronto",
            "country": "CAN",
            "tz": "EST"
           },
           1,
           "Toronto",
           "EST",
           "CAN"
          ],
          [
           "Linda Cortez",
           10,
           true,
           "person",
           "Linda Cortez",
           "2020-07-04",
           "Full Time",
           [],
           "Andrew Pruitt",
           "Sales",
           "Associate",
           {
            "city": "Toronto",
            "country": "CAN",
            "tz": "EST"
           },
           1,
           "Toronto",
           "EST",
           "CAN"
          ]
         ],
         "hovertemplate": "<b>%{hovertext}</b><br><br>country=%{customdata[15]}<br>x=%{x}<br>y=%{y}<br>rank=%{customdata[12]}<br>label=%{customdata[0]}<br>size=%{customdata[1]}<br>person=%{customdata[2]}<br>type=%{customdata[3]}<br>name=%{customdata[4]}<br>hire_date=%{customdata[5]}<br>status=%{customdata[6]}<br>languages=%{customdata[7]}<br>manager=%{customdata[8]}<br>team=%{customdata[9]}<br>title=%{customdata[10]}<br>location=%{customdata[11]}<br>city=%{customdata[13]}<br>tz=%{customdata[14]}<extra></extra>",
         "hovertext": [
          "Lisa Hoover",
          "Mason Chase",
          "Adam Jackson",
          "Hannah Young",
          "Cynthia Brown",
          "Vicki Lambert",
          "Carrie Cunningham",
          "Dr. Melissa Hernandez",
          "Sonya Marshall",
          "Susan Beasley",
          "Sarah Robertson",
          "Belinda Davis",
          "Mary Wright",
          "Mike Watkins",
          "Matthew Robinson",
          "Colleen Williamson",
          "Yvonne Delacruz",
          "Chelsea Navarro",
          "Nicholas Hughes",
          "Jennifer Hamilton",
          "Elizabeth Friedman",
          "Michelle Marshall",
          "Timothy Schultz",
          "Carl Adams",
          "Michael Adams",
          "Linda Cortez"
         ],
         "legendgroup": "CAN",
         "marker": {
          "color": "#00cc96",
          "size": [
           2,
           3,
           4,
           1,
           2,
           2,
           3,
           5,
           5,
           2,
           2,
           3,
           3,
           4,
           4,
           5,
           1,
           2,
           3,
           3,
           3,
           5,
           1,
           1,
           1,
           1
          ],
          "sizemode": "area",
          "sizeref": 0.0175,
          "symbol": "circle"
         },
         "mode": "markers",
         "name": "CAN",
         "orientation": "v",
         "showlegend": true,
         "type": "scatter",
         "x": [
          0.9283779751834075,
          0.7137065031866221,
          0.6212236425329655,
          0.47407017807159163,
          0.46579069869940387,
          0.6063529462976708,
          0.6001965109124667,
          0.3353016595989065,
          0.5171093018121277,
          -0.4335175058240548,
          -0.28616812477400455,
          -0.1727540231224697,
          -0.4800447483790763,
          -0.3269429257036466,
          -0.37975587884127227,
          -0.1661863636516834,
          -0.5875598033385451,
          -0.5872656716783599,
          -0.6109142604929322,
          -0.6350723719436527,
          -0.657929067079904,
          -0.48920961177775074,
          0.10889021471259792,
          0.40171376455470564,
          0.1398755130829909,
          0.39595807876201683
         ],
         "xaxis": "x",
         "y": [
          -0.23494241511075187,
          -0.4853555933678276,
          -0.288377669913657,
          0.4446934412273397,
          0.3875700524300328,
          0.4855097192526738,
          0.3201860333734362,
          0.19067225490967318,
          0.17744714566876338,
          0.8482607189916154,
          0.6488133532048304,
          0.5138974629372998,
          0.8178997899795967,
          0.8948310637819791,
          0.8726689112598539,
          0.41993322793748317,
          -0.12240169965425458,
          -0.4856061361964533,
          -0.016284349746266552,
          -0.14823440798634388,
          -0.10560273950452363,
          -0.11326764578398872,
          0.7301006976600085,
          0.7373214436001505,
          0.8087345207563238,
          0.6873268128774023
         ],
         "yaxis": "y"
        },
        {
         "customdata": [
          [
           "Robert Dorsey",
           10,
           true,
           "person",
           "Robert Dorsey",
           "2020-06-19",
           "Full Time",
           [
            "Python",
            "Typescript",
            "JavaScript",
            "Java"
           ],
           "Cathy Johnson",
           "Business",
           "Analyst",
           {
            "city": "New York",
            "country": "USA",
            "tz": "EST"
           },
           1,
           "New York",
           "EST",
           "USA"
          ],
          [
           "Katelyn Cross",
           10,
           true,
           "person",
           "Katelyn Cross",
           "2022-10-29",
           "Full Time",
           [],
           "Lauren Berry",
           "Business",
           "Associate",
           {
            "city": "New York",
            "country": "USA",
            "tz": "EST"
           },
           2,
           "New York",
           "EST",
           "USA"
          ],
          [
           "Krista Brooks",
           10,
           true,
           "person",
           "Krista Brooks",
           "2022-01-23",
           "Full Time",
           [],
           "Cathy Johnson",
           "Business",
           "Associate",
           {
            "city": "New York",
            "country": "USA",
            "tz": "EST"
           },
           2,
           "New York",
           "EST",
           "USA"
          ],
          [
           "Theresa Parker",
           10,
           true,
           "person",
           "Theresa Parker",
           "2020-09-02",
           "Contract",
           [],
           "Cathy Johnson",
           "Business",
           "Associate",
           {
            "city": "New York",
            "country": "USA",
            "tz": "EST"
           },
           2,
           "New York",
           "EST",
           "USA"
          ],
          [
           "Meagan Dyer",
           10,
           true,
           "person",
           "Meagan Dyer",
           "2020-07-28",
           "Contract",
           [
            "JavaScript"
           ],
           "Austin Wang",
           "Business",
           "Vice President",
           {
            "city": "New York",
            "country": "USA",
            "tz": "EST"
           },
           3,
           "New York",
           "EST",
           "USA"
          ],
          [
           "Lauren Berry",
           10,
           true,
           "person",
           "Lauren Berry",
           "2023-01-16",
           "Full Time",
           [],
           "Jordan Harper",
           "Business",
           "Director",
           {
            "city": "New York",
            "country": "USA",
            "tz": "EST"
           },
           4,
           "New York",
           "EST",
           "USA"
          ],
          [
           "Cathy Johnson",
           10,
           true,
           "person",
           "Cathy Johnson",
           "2023-01-16",
           "Contract",
           [
            "Typescript"
           ],
           "Lauren Berry",
           "Business",
           "Director",
           {
            "city": "New York",
            "country": "USA",
            "tz": "EST"
           },
           4,
           "New York",
           "EST",
           "USA"
          ],
          [
           "Christopher Griffin",
           10,
           true,
           "person",
           "Christopher Griffin",
           "2022-07-26",
           "Contract",
           [
            "JavaScript",
            "Go",
            "Java"
           ],
           "Lauren Berry",
           "Business",
           "Director",
           {
            "city": "New York",
            "country": "USA",
            "tz": "EST"
           },
           4,
           "New York",
           "EST",
           "USA"
          ],
          [
           "Christopher Smith",
           10,
           true,
           "person",
           "Christopher Smith",
           "2021-01-29",
           "Full Time",
           [
            "JavaScript",
            "Java"
           ],
           "Lauren Berry",
           "Business",
           "Director",
           {
            "city": "New York",
            "country": "USA",
            "tz": "EST"
           },
           4,
           "New York",
           "EST",
           "USA"
          ],
          [
           "Julia Chen",
           10,
           true,
           "person",
           "Julia Chen",
           "2021-02-28",
           "Full Time",
           [],
           "Austin Wang",
           "Business",
           "Director",
           {
            "city": "New York",
            "country": "USA",
            "tz": "EST"
           },
           4,
           "New York",
           "EST",
           "USA"
          ],
          [
           "Jordan Owens",
           10,
           true,
           "person",
           "Jordan Owens",
           "2022-08-13",
           "Contract",
           [
            "JavaScript"
           ],
           "Jordan Harper",
           "Business",
           "Managing Director",
           {
            "city": "New York",
            "country": "USA",
            "tz": "EST"
           },
           5,
           "New York",
           "EST",
           "USA"
          ],
          [
           "Terry Morrison",
           10,
           true,
           "person",
           "Terry Morrison",
           "2022-05-09",
           "Full Time",
           [
            "Typescript"
           ],
           "Jordan Owens",
           "Business",
           "Managing Director",
           {
            "city": "New York",
            "country": "USA",
            "tz": "EST"
           },
           5,
           "New York",
           "EST",
           "USA"
          ],
          [
           "Austin Wang",
           10,
           true,
           "person",
           "Austin Wang",
           "2020-12-30",
           "Full Time",
           [],
           "Jordan Owens",
           "Business",
           "Managing Director",
           {
            "city": "New York",
            "country": "USA",
            "tz": "EST"
           },
           5,
           "New York",
           "EST",
           "USA"
          ],
          [
           "Nicholas Campbell",
           10,
           true,
           "person",
           "Nicholas Campbell",
           "2020-12-07",
           "Full Time",
           [
            "Python",
            "JavaScript"
           ],
           "Jose Williams",
           "DevX",
           "Engineer",
           {
            "city": "Fort Lauderdale",
            "country": "USA",
            "tz": "EST"
           },
           5,
           "Fort Lauderdale",
           "EST",
           "USA"
          ],
          [
           "David Sullivan",
           10,
           true,
           "person",
           "David Sullivan",
           "2020-06-23",
           "Full Time",
           [
            "Go"
           ],
           "Christopher Taylor",
           "DevX",
           "Engineer",
           {
            "city": "Fort Lauderdale",
            "country": "USA",
            "tz": "EST"
           },
           5,
           "Fort Lauderdale",
           "EST",
           "USA"
          ],
          [
           "Derek White",
           10,
           true,
           "person",
           "Derek White",
           "2021-03-06",
           "Contract",
           [],
           "Christopher Taylor",
           "DevX",
           "Engineer",
           {
            "city": "Fort Lauderdale",
            "country": "USA",
            "tz": "EST"
           },
           5,
           "Fort Lauderdale",
           "EST",
           "USA"
          ],
          [
           "Mark Munoz",
           10,
           true,
           "person",
           "Mark Munoz",
           "2022-12-06",
           "Part Time",
           [
            "Java"
           ],
           "Christopher Taylor",
           "DevX",
           "Engineer",
           {
            "city": "Fort Lauderdale",
            "country": "USA",
            "tz": "EST"
           },
           5,
           "Fort Lauderdale",
           "EST",
           "USA"
          ],
          [
           "Kenneth Bryant",
           10,
           true,
           "person",
           "Kenneth Bryant",
           "2020-10-30",
           "Full Time",
           [
            "Python",
            "Typescript"
           ],
           "Christopher Taylor",
           "DevX",
           "Engineer",
           {
            "city": "Fort Lauderdale",
            "country": "USA",
            "tz": "EST"
           },
           5,
           "Fort Lauderdale",
           "EST",
           "USA"
          ],
          [
           "Jessica Edwards",
           10,
           true,
           "person",
           "Jessica Edwards",
           "2021-11-25",
           "Contract",
           [
            "Python",
            "JavaScript"
           ],
           "Christopher Taylor",
           "DevX",
           "Engineer",
           {
            "city": "Fort Lauderdale",
            "country": "USA",
            "tz": "EST"
           },
           5,
           "Fort Lauderdale",
           "EST",
           "USA"
          ],
          [
           "Kelly Huff",
           10,
           true,
           "person",
           "Kelly Huff",
           "2020-09-17",
           "Contract",
           [
            "Python",
            "Typescript",
            "JavaScript",
            "Java"
           ],
           "Christopher Taylor",
           "DevX",
           "Engineer",
           {
            "city": "Fort Lauderdale",
            "country": "USA",
            "tz": "EST"
           },
           5,
           "Fort Lauderdale",
           "EST",
           "USA"
          ],
          [
           "James Elliott",
           10,
           true,
           "person",
           "James Elliott",
           "2021-07-31",
           "Full Time",
           [
            "Python",
            "Go"
           ],
           "Kaitlin Little",
           "DevX",
           "Engineer",
           {
            "city": "Fort Lauderdale",
            "country": "USA",
            "tz": "EST"
           },
           5,
           "Fort Lauderdale",
           "EST",
           "USA"
          ],
          [
           "Marissa Martinez",
           10,
           true,
           "person",
           "Marissa Martinez",
           "2022-06-07",
           "Contract",
           [
            "Python",
            "Typescript",
            "JavaScript",
            "Go"
           ],
           "Kaitlin Little",
           "DevX",
           "Engineer",
           {
            "city": "Fort Lauderdale",
            "country": "USA",
            "tz": "EST"
           },
           5,
           "Fort Lauderdale",
           "EST",
           "USA"
          ],
          [
           "James Moore",
           10,
           true,
           "person",
           "James Moore",
           "2020-08-20",
           "Full Time",
           [
            "Python",
            "Typescript"
           ],
           "Kaitlin Little",
           "DevX",
           "Engineer",
           {
            "city": "Fort Lauderdale",
            "country": "USA",
            "tz": "EST"
           },
           5,
           "Fort Lauderdale",
           "EST",
           "USA"
          ],
          [
           "Marissa Johnson",
           10,
           true,
           "person",
           "Marissa Johnson",
           "2021-05-16",
           "Full Time",
           [
            "Python"
           ],
           "Kaitlin Little",
           "DevX",
           "Engineer",
           {
            "city": "Fort Lauderdale",
            "country": "USA",
            "tz": "EST"
           },
           5,
           "Fort Lauderdale",
           "EST",
           "USA"
          ],
          [
           "Bonnie Nash",
           10,
           true,
           "person",
           "Bonnie Nash",
           "2021-06-22",
           "Full Time",
           [
            "Typescript",
            "JavaScript",
            "Scala"
           ],
           "Kaitlin Little",
           "DevX",
           "Engineer",
           {
            "city": "Fort Lauderdale",
            "country": "USA",
            "tz": "EST"
           },
           5,
           "Fort Lauderdale",
           "EST",
           "USA"
          ],
          [
           "Cody Holland",
           10,
           true,
           "person",
           "Cody Holland",
           "2021-01-29",
           "Full Time",
           [
            "Scala"
           ],
           "Kaitlin Little",
           "DevX",
           "Engineer",
           {
            "city": "Fort Lauderdale",
            "country": "USA",
            "tz": "EST"
           },
           5,
           "Fort Lauderdale",
           "EST",
           "USA"
          ],
          [
           "Mark Crawford",
           10,
           true,
           "person",
           "Mark Crawford",
           "2020-11-01",
           "Contract",
           [
            "Typescript",
            "JavaScript"
           ],
           "Kaitlin Little",
           "DevX",
           "Engineer",
           {
            "city": "Fort Lauderdale",
            "country": "USA",
            "tz": "EST"
           },
           5,
           "Fort Lauderdale",
           "EST",
           "USA"
          ],
          [
           "Carolyn Roth",
           10,
           true,
           "person",
           "Carolyn Roth",
           "2020-12-29",
           "Contract",
           [
            "JavaScript"
           ],
           "Kaitlin Little",
           "DevX",
           "Engineer",
           {
            "city": "Fort Lauderdale",
            "country": "USA",
            "tz": "EST"
           },
           5,
           "Fort Lauderdale",
           "EST",
           "USA"
          ],
          [
           "Jake Barber",
           10,
           true,
           "person",
           "Jake Barber",
           "2021-08-29",
           "Full Time",
           [
            "Python"
           ],
           "Todd Peterson",
           "DevX",
           "Engineer",
           {
            "city": "Fort Lauderdale",
            "country": "USA",
            "tz": "EST"
           },
           5,
           "Fort Lauderdale",
           "EST",
           "USA"
          ],
          [
           "Samantha Jordan",
           10,
           true,
           "person",
           "Samantha Jordan",
           "2021-03-13",
           "Full Time",
           [],
           "Todd Peterson",
           "DevX",
           "Engineer",
           {
            "city": "Fort Lauderdale",
            "country": "USA",
            "tz": "EST"
           },
           5,
           "Fort Lauderdale",
           "EST",
           "USA"
          ],
          [
           "Christina Graves",
           10,
           true,
           "person",
           "Christina Graves",
           "2023-02-05",
           "Full Time",
           [
            "Typescript",
            "JavaScript",
            "Scala",
            "Java"
           ],
           "Todd Peterson",
           "DevX",
           "Engineer",
           {
            "city": "Fort Lauderdale",
            "country": "USA",
            "tz": "EST"
           },
           5,
           "Fort Lauderdale",
           "EST",
           "USA"
          ],
          [
           "Sarah Little",
           10,
           true,
           "person",
           "Sarah Little",
           "2022-05-22",
           "Full Time",
           [
            "Go"
           ],
           "Todd Peterson",
           "DevX",
           "Engineer",
           {
            "city": "Fort Lauderdale",
            "country": "USA",
            "tz": "EST"
           },
           5,
           "Fort Lauderdale",
           "EST",
           "USA"
          ],
          [
           "Lisa Robbins",
           10,
           true,
           "person",
           "Lisa Robbins",
           "2022-06-01",
           "Full Time",
           [
            "Erlang"
           ],
           "Todd Peterson",
           "DevX",
           "Engineer",
           {
            "city": "Fort Lauderdale",
            "country": "USA",
            "tz": "EST"
           },
           5,
           "Fort Lauderdale",
           "EST",
           "USA"
          ],
          [
           "Mary Gonzalez",
           10,
           true,
           "person",
           "Mary Gonzalez",
           "2022-09-30",
           "Full Time",
           [
            "Python",
            "Java"
           ],
           "Todd Peterson",
           "DevX",
           "Engineer",
           {
            "city": "Fort Lauderdale",
            "country": "USA",
            "tz": "EST"
           },
           5,
           "Fort Lauderdale",
           "EST",
           "USA"
          ],
          [
           "Vickie Barrett",
           10,
           true,
           "person",
           "Vickie Barrett",
           "2021-11-22",
           "Full Time",
           [
            "Typescript"
           ],
           "Todd Peterson",
           "DevX",
           "Engineer",
           {
            "city": "Fort Lauderdale",
            "country": "USA",
            "tz": "EST"
           },
           5,
           "Fort Lauderdale",
           "EST",
           "USA"
          ],
          [
           "Jose Williams",
           10,
           true,
           "person",
           "Jose Williams",
           "2023-02-14",
           "Full Time",
           [
            "Python"
           ],
           "Jordan Harper",
           "DevX",
           "AVP",
           {
            "city": "Fort Lauderdale",
            "country": "USA",
            "tz": "EST"
           },
           6,
           "Fort Lauderdale",
           "EST",
           "USA"
          ],
          [
           "Christopher Taylor",
           10,
           true,
           "person",
           "Christopher Taylor",
           "2022-11-11",
           "Full Time",
           [
            "Python"
           ],
           "Jose Williams",
           "DevX",
           "AVP",
           {
            "city": "Fort Lauderdale",
            "country": "USA",
            "tz": "EST"
           },
           6,
           "Fort Lauderdale",
           "EST",
           "USA"
          ],
          [
           "Kaitlin Little",
           10,
           true,
           "person",
           "Kaitlin Little",
           "2022-07-23",
           "Full Time",
           [
            "JavaScript"
           ],
           "Jose Williams",
           "DevX",
           "AVP",
           {
            "city": "Fort Lauderdale",
            "country": "USA",
            "tz": "EST"
           },
           6,
           "Fort Lauderdale",
           "EST",
           "USA"
          ],
          [
           "Todd Peterson",
           10,
           true,
           "person",
           "Todd Peterson",
           "2021-01-19",
           "Contract",
           [],
           "Jose Williams",
           "DevX",
           "AVP",
           {
            "city": "Fort Lauderdale",
            "country": "USA",
            "tz": "EST"
           },
           6,
           "Fort Lauderdale",
           "EST",
           "USA"
          ],
          [
           "Sandra Buckley",
           10,
           true,
           "person",
           "Sandra Buckley",
           "2022-08-01",
           "Full Time",
           [
            "JavaScript",
            "Java"
           ],
           "Dustin Cantrell",
           "Internal Tools",
           "Engineer",
           {
            "city": "Seattle",
            "country": "USA",
            "tz": "PST"
           },
           1,
           "Seattle",
           "PST",
           "USA"
          ],
          [
           "Gregory Colon",
           10,
           true,
           "person",
           "Gregory Colon",
           "2020-08-18",
           "Full Time",
           [
            "Scala"
           ],
           "Sonya Marshall",
           "Internal Tools",
           "Engineer",
           {
            "city": "Seattle",
            "country": "USA",
            "tz": "PST"
           },
           1,
           "Seattle",
           "PST",
           "USA"
          ],
          [
           "Eric Clark",
           10,
           true,
           "person",
           "Eric Clark",
           "2021-06-16",
           "Full Time",
           [
            "Python",
            "JavaScript"
           ],
           "Dustin Cantrell",
           "Internal Tools",
           "Senior Engineer",
           {
            "city": "Seattle",
            "country": "USA",
            "tz": "PST"
           },
           2,
           "Seattle",
           "PST",
           "USA"
          ],
          [
           "Brent Harris",
           10,
           true,
           "person",
           "Brent Harris",
           "2022-04-30",
           "Contract",
           [
            "Scala"
           ],
           "Dustin Cantrell",
           "Internal Tools",
           "Senior Engineer",
           {
            "city": "Seattle",
            "country": "USA",
            "tz": "PST"
           },
           2,
           "Seattle",
           "PST",
           "USA"
          ],
          [
           "Kristen Cohen",
           10,
           true,
           "person",
           "Kristen Cohen",
           "2020-12-28",
           "Contract",
           [
            "Typescript"
           ],
           "Dustin Cantrell",
           "Internal Tools",
           "Senior Engineer",
           {
            "city": "Seattle",
            "country": "USA",
            "tz": "PST"
           },
           2,
           "Seattle",
           "PST",
           "USA"
          ],
          [
           "Bruce Torres",
           10,
           true,
           "person",
           "Bruce Torres",
           "2022-08-23",
           "Full Time",
           [
            "JavaScript"
           ],
           "Dustin Cantrell",
           "Internal Tools",
           "Manager",
           {
            "city": "Seattle",
            "country": "USA",
            "tz": "PST"
           },
           3,
           "Seattle",
           "PST",
           "USA"
          ],
          [
           "Brittney Watkins",
           10,
           true,
           "person",
           "Brittney Watkins",
           "2022-08-06",
           "Full Time",
           [
            "Erlang",
            "JavaScript"
           ],
           "Dustin Cantrell",
           "Internal Tools",
           "AVP",
           {
            "city": "Seattle",
            "country": "USA",
            "tz": "PST"
           },
           4,
           "Seattle",
           "PST",
           "USA"
          ],
          [
           "Dustin Cantrell",
           10,
           true,
           "person",
           "Dustin Cantrell",
           "2020-05-04",
           "Full Time",
           [],
           "Dr. Melissa Hernandez",
           "Internal Tools",
           "VP",
           {
            "city": "Seattle",
            "country": "USA",
            "tz": "PST"
           },
           5,
           "Seattle",
           "PST",
           "USA"
          ],
          [
           "Ashley Fleming",
           10,
           true,
           "person",
           "Ashley Fleming",
           "2023-03-07",
           "Full Time",
           [
            "Go"
           ],
           "Dr. Melissa Hernandez",
           "Internal Tools",
           "VP",
           {
            "city": "Seattle",
            "country": "USA",
            "tz": "PST"
           },
           5,
           "Seattle",
           "PST",
           "USA"
          ],
          [
           "Debbie Sweeney",
           10,
           true,
           "person",
           "Debbie Sweeney",
           "2020-11-18",
           "Full Time",
           [
            "Python",
            "Typescript",
            "Go",
            "Java"
           ],
           "Eric Davis",
           "Platform",
           "Engineer",
           {
            "city": "Seattle",
            "country": "USA",
            "tz": "PST"
           },
           1,
           "Seattle",
           "PST",
           "USA"
          ],
          [
           "Robert Rodriguez",
           10,
           true,
           "person",
           "Robert Rodriguez",
           "2022-01-19",
           "Full Time",
           [],
           "Eric Davis",
           "Platform",
           "Managing Engineer",
           {
            "city": "Seattle",
            "country": "USA",
            "tz": "PST"
           },
           3,
           "Seattle",
           "PST",
           "USA"
          ],
          [
           "Brandon Martinez",
           10,
           true,
           "person",
           "Brandon Martinez",
           "2020-09-06",
           "Full Time",
           [
            "JavaScript"
           ],
           "Eric Davis",
           "Platform",
           "AVP",
           {
            "city": "Seattle",
            "country": "USA",
            "tz": "PST"
           },
           4,
           "Seattle",
           "PST",
           "USA"
          ],
          [
           "Eric Davis",
           10,
           true,
           "person",
           "Eric Davis",
           "2021-03-03",
           "Full Time",
           [
            "Java"
           ],
           "Colleen Williamson",
           "Platform",
           "VP",
           {
            "city": "Seattle",
            "country": "USA",
            "tz": "PST"
           },
           5,
           "Seattle",
           "PST",
           "USA"
          ],
          [
           "Andrew Peterson",
           10,
           true,
           "person",
           "Andrew Peterson",
           "2021-03-16",
           "Full Time",
           [
            "Go",
            "Java"
           ],
           "Colleen Williamson",
           "Platform",
           "VP",
           {
            "city": "Seattle",
            "country": "USA",
            "tz": "PST"
           },
           5,
           "Seattle",
           "PST",
           "USA"
          ],
          [
           "Rebecca Perry",
           10,
           true,
           "person",
           "Rebecca Perry",
           "2022-10-20",
           "Full Time",
           [
            "Typescript",
            "Go"
           ],
           "Michelle Marshall",
           "Product",
           "Engineer",
           {
            "city": "Seattle",
            "country": "USA",
            "tz": "PST"
           },
           1,
           "Seattle",
           "PST",
           "USA"
          ],
          [
           "Katie Huff",
           10,
           true,
           "person",
           "Katie Huff",
           "2020-05-03",
           "Full Time",
           [
            "Python",
            "Java"
           ],
           "Heidi Mullins",
           "Product",
           "Engineer",
           {
            "city": "Seattle",
            "country": "USA",
            "tz": "PST"
           },
           1,
           "Seattle",
           "PST",
           "USA"
          ],
          [
           "Raymond Hess",
           10,
           true,
           "person",
           "Raymond Hess",
           "2021-06-27",
           "Part Time",
           [
            "Python",
            "Typescript",
            "Go",
            "Java"
           ],
           "Jordan Harper",
           "Product",
           "Manager",
           {
            "city": "New York",
            "country": "USA",
            "tz": "EST"
           },
           2,
           "New York",
           "EST",
           "USA"
          ],
          [
           "Antonio Flynn",
           10,
           true,
           "person",
           "Antonio Flynn",
           "2022-04-04",
           "Full Time",
           [
            "Python",
            "JavaScript",
            "Java"
           ],
           "Michelle Marshall",
           "Product",
           "Manager",
           {
            "city": "New York",
            "country": "USA",
            "tz": "EST"
           },
           2,
           "New York",
           "EST",
           "USA"
          ],
          [
           "Jessica Cruz",
           10,
           true,
           "person",
           "Jessica Cruz",
           "2021-07-15",
           "Contract",
           [
            "Erlang",
            "Java"
           ],
           "Michelle Marshall",
           "Product",
           "Manager",
           {
            "city": "New York",
            "country": "USA",
            "tz": "EST"
           },
           2,
           "New York",
           "EST",
           "USA"
          ],
          [
           "Michael Hansen",
           10,
           true,
           "person",
           "Michael Hansen",
           "2021-01-29",
           "Contract",
           [],
           "Michelle Marshall",
           "Product",
           "Manager",
           {
            "city": "New York",
            "country": "USA",
            "tz": "EST"
           },
           2,
           "New York",
           "EST",
           "USA"
          ],
          [
           "Holly Flores",
           10,
           true,
           "person",
           "Holly Flores",
           "2020-11-18",
           "Full Time",
           [
            "Python",
            "Typescript",
            "Java"
           ],
           "Heidi Mullins",
           "Product",
           "Manager",
           {
            "city": "New York",
            "country": "USA",
            "tz": "EST"
           },
           2,
           "New York",
           "EST",
           "USA"
          ],
          [
           "Melissa Webb",
           10,
           true,
           "person",
           "Melissa Webb",
           "2020-05-12",
           "Full Time",
           [],
           "Tyler Figueroa",
           "Product",
           "Manager",
           {
            "city": "Seattle",
            "country": "USA",
            "tz": "PST"
           },
           2,
           "Seattle",
           "PST",
           "USA"
          ],
          [
           "James Vasquez",
           10,
           true,
           "person",
           "James Vasquez",
           "2020-09-20",
           "Full Time",
           [],
           "Michelle Marshall",
           "Product",
           "Product Owner",
           {
            "city": "Seattle",
            "country": "USA",
            "tz": "PST"
           },
           3,
           "Seattle",
           "PST",
           "USA"
          ],
          [
           "Jessica Lewis",
           10,
           true,
           "person",
           "Jessica Lewis",
           "2020-05-15",
           "Part Time",
           [
            "Python",
            "Go",
            "Java"
           ],
           "Michelle Marshall",
           "Product",
           "Product Owner",
           {
            "city": "Seattle",
            "country": "USA",
            "tz": "PST"
           },
           3,
           "Seattle",
           "PST",
           "USA"
          ],
          [
           "Michelle Johnson",
           10,
           true,
           "person",
           "Michelle Johnson",
           "2022-03-16",
           "Full Time",
           [
            "JavaScript"
           ],
           "Michelle Marshall",
           "Product",
           "Product Owner",
           {
            "city": "New York",
            "country": "USA",
            "tz": "EST"
           },
           3,
           "New York",
           "EST",
           "USA"
          ],
          [
           "Lucas Burns",
           10,
           true,
           "person",
           "Lucas Burns",
           "2023-03-06",
           "Contract",
           [
            "Python",
            "Typescript",
            "JavaScript"
           ],
           "Heidi Mullins",
           "Product",
           "Product Owner",
           {
            "city": "New York",
            "country": "USA",
            "tz": "EST"
           },
           3,
           "New York",
           "EST",
           "USA"
          ],
          [
           "Robert Houston",
           10,
           true,
           "person",
           "Robert Houston",
           "2021-09-30",
           "Full Time",
           [
            "Python",
            "Typescript"
           ],
           "Michelle Marshall",
           "Product",
           "AVP",
           {
            "city": "Seattle",
            "country": "USA",
            "tz": "PST"
           },
           4,
           "Seattle",
           "PST",
           "USA"
          ],
          [
           "Elizabeth Ross",
           10,
           true,
           "person",
           "Elizabeth Ross",
           "2022-05-01",
           "Full Time",
           [
            "JavaScript"
           ],
           "Michelle Marshall",
           "Product",
           "AVP",
           {
            "city": "New York",
            "country": "USA",
            "tz": "EST"
           },
           4,
           "New York",
           "EST",
           "USA"
          ],
          [
           "Miss Sarah Bradshaw",
           10,
           true,
           "person",
           "Miss Sarah Bradshaw",
           "2021-07-14",
           "Full Time",
           [
            "JavaScript",
            "Java"
           ],
           "Michelle Marshall",
           "Product",
           "AVP",
           {
            "city": "New York",
            "country": "USA",
            "tz": "EST"
           },
           4,
           "New York",
           "EST",
           "USA"
          ],
          [
           "Sara Hill",
           10,
           true,
           "person",
           "Sara Hill",
           "2022-12-10",
           "Full Time",
           [
            "Python",
            "Go",
            "Scala",
            "Java"
           ],
           "Heidi Mullins",
           "Product",
           "AVP",
           {
            "city": "New York",
            "country": "USA",
            "tz": "EST"
           },
           4,
           "New York",
           "EST",
           "USA"
          ],
          [
           "Heidi Mullins",
           10,
           true,
           "person",
           "Heidi Mullins",
           "2020-10-21",
           "Full Time",
           [
            "Typescript",
            "JavaScript",
            "Java"
           ],
           "Michelle Marshall",
           "Product",
           "VP",
           {
            "city": "Seattle",
            "country": "USA",
            "tz": "PST"
           },
           5,
           "Seattle",
           "PST",
           "USA"
          ],
          [
           "Tyler Figueroa",
           10,
           true,
           "person",
           "Tyler Figueroa",
           "2021-12-12",
           "Contract",
           [],
           "Michelle Marshall",
           "Product",
           "VP",
           {
            "city": "Seattle",
            "country": "USA",
            "tz": "PST"
           },
           5,
           "Seattle",
           "PST",
           "USA"
          ],
          [
           "Samantha Williams",
           10,
           true,
           "person",
           "Samantha Williams",
           "2020-06-17",
           "Full Time",
           [
            "JavaScript",
            "Java"
           ],
           "Andrew Pruitt",
           "Sales",
           "Associate",
           {
            "city": "New York",
            "country": "USA",
            "tz": "EST"
           },
           1,
           "New York",
           "EST",
           "USA"
          ],
          [
           "James Adams",
           10,
           true,
           "person",
           "James Adams",
           "2021-10-01",
           "Full Time",
           [
            "Java"
           ],
           "Andrew Pruitt",
           "Sales",
           "Associate",
           {
            "city": "New York",
            "country": "USA",
            "tz": "EST"
           },
           1,
           "New York",
           "EST",
           "USA"
          ],
          [
           "Mr. David Walters",
           10,
           true,
           "person",
           "Mr. David Walters",
           "2023-01-01",
           "Full Time",
           [],
           "Andrew Pruitt",
           "Sales",
           "Associate",
           {
            "city": "New York",
            "country": "USA",
            "tz": "EST"
           },
           1,
           "New York",
           "EST",
           "USA"
          ],
          [
           "Kenneth Mcguire",
           10,
           true,
           "person",
           "Kenneth Mcguire",
           "2020-06-23",
           "Full Time",
           [
            "Python",
            "Scala"
           ],
           "Andrew Pruitt",
           "Sales",
           "Associate",
           {
            "city": "New York",
            "country": "USA",
            "tz": "EST"
           },
           1,
           "New York",
           "EST",
           "USA"
          ],
          [
           "Mario Meyers",
           10,
           true,
           "person",
           "Mario Meyers",
           "2020-08-09",
           "Full Time",
           [],
           "Andrew Pruitt",
           "Sales",
           "Associate",
           {
            "city": "New York",
            "country": "USA",
            "tz": "EST"
           },
           1,
           "New York",
           "EST",
           "USA"
          ],
          [
           "Jordan Harper",
           10,
           true,
           "person",
           "Jordan Harper",
           "2022-07-20",
           "Full Time",
           [
            "Scala",
            "Java"
           ],
           "Jordan Harper",
           "CEO",
           "CEO",
           {
            "city": "Fort Lauderdale",
            "country": "USA",
            "tz": "EST"
           },
           7,
           "Fort Lauderdale",
           "EST",
           "USA"
          ]
         ],
         "hovertemplate": "<b>%{hovertext}</b><br><br>country=%{customdata[15]}<br>x=%{x}<br>y=%{y}<br>rank=%{customdata[12]}<br>label=%{customdata[0]}<br>size=%{customdata[1]}<br>person=%{customdata[2]}<br>type=%{customdata[3]}<br>name=%{customdata[4]}<br>hire_date=%{customdata[5]}<br>status=%{customdata[6]}<br>languages=%{customdata[7]}<br>manager=%{customdata[8]}<br>team=%{customdata[9]}<br>title=%{customdata[10]}<br>location=%{customdata[11]}<br>city=%{customdata[13]}<br>tz=%{customdata[14]}<extra></extra>",
         "hovertext": [
          "Robert Dorsey",
          "Katelyn Cross",
          "Krista Brooks",
          "Theresa Parker",
          "Meagan Dyer",
          "Lauren Berry",
          "Cathy Johnson",
          "Christopher Griffin",
          "Christopher Smith",
          "Julia Chen",
          "Jordan Owens",
          "Terry Morrison",
          "Austin Wang",
          "Nicholas Campbell",
          "David Sullivan",
          "Derek White",
          "Mark Munoz",
          "Kenneth Bryant",
          "Jessica Edwards",
          "Kelly Huff",
          "James Elliott",
          "Marissa Martinez",
          "James Moore",
          "Marissa Johnson",
          "Bonnie Nash",
          "Cody Holland",
          "Mark Crawford",
          "Carolyn Roth",
          "Jake Barber",
          "Samantha Jordan",
          "Christina Graves",
          "Sarah Little",
          "Lisa Robbins",
          "Mary Gonzalez",
          "Vickie Barrett",
          "Jose Williams",
          "Christopher Taylor",
          "Kaitlin Little",
          "Todd Peterson",
          "Sandra Buckley",
          "Gregory Colon",
          "Eric Clark",
          "Brent Harris",
          "Kristen Cohen",
          "Bruce Torres",
          "Brittney Watkins",
          "Dustin Cantrell",
          "Ashley Fleming",
          "Debbie Sweeney",
          "Robert Rodriguez",
          "Brandon Martinez",
          "Eric Davis",
          "Andrew Peterson",
          "Rebecca Perry",
          "Katie Huff",
          "Raymond Hess",
          "Antonio Flynn",
          "Jessica Cruz",
          "Michael Hansen",
          "Holly Flores",
          "Melissa Webb",
          "James Vasquez",
          "Jessica Lewis",
          "Michelle Johnson",
          "Lucas Burns",
          "Robert Houston",
          "Elizabeth Ross",
          "Miss Sarah Bradshaw",
          "Sara Hill",
          "Heidi Mullins",
          "Tyler Figueroa",
          "Samantha Williams",
          "James Adams",
          "Mr. David Walters",
          "Kenneth Mcguire",
          "Mario Meyers",
          "Jordan Harper"
         ],
         "legendgroup": "USA",
         "marker": {
          "color": "#EF553B",
          "size": [
           1,
           2,
           2,
           2,
           3,
           4,
           4,
           4,
           4,
           4,
           5,
           5,
           5,
           5,
           5,
           5,
           5,
           5,
           5,
           5,
           5,
           5,
           5,
           5,
           5,
           5,
           5,
           5,
           5,
           5,
           5,
           5,
           5,
           5,
           5,
           6,
           6,
           6,
           6,
           1,
           1,
           2,
           2,
           2,
           3,
           4,
           5,
           5,
           1,
           3,
           4,
           5,
           5,
           1,
           1,
           2,
           2,
           2,
           2,
           2,
           2,
           3,
           3,
           3,
           3,
           4,
           4,
           4,
           4,
           5,
           5,
           1,
           1,
           1,
           1,
           1,
           7
          ],
          "sizemode": "area",
          "sizeref": 0.0175,
          "symbol": "circle"
         },
         "mode": "markers",
         "name": "USA",
         "orientation": "v",
         "showlegend": true,
         "type": "scatter",
         "x": [
          0.9033896569981527,
          0.6236921225853221,
          0.8486590992807156,
          0.913815763937291,
          0.11099780867891172,
          0.5171007537369532,
          0.7657049067280375,
          0.6435721634619396,
          0.6390458283087947,
          0.060889504407550046,
          -0.00034228055072478173,
          -0.0785382308113446,
          0.046695191171902406,
          -0.2478492384540272,
          0.11946639461879711,
          0.15419155435411436,
          0.14819776633423445,
          0.1163818194794995,
          0.06570029453296161,
          0.09542507964247826,
          -0.6951110839192957,
          -0.6339796000752751,
          -0.5907667947264291,
          -0.6306232876956268,
          -0.6674734964547877,
          -0.6817335992590261,
          -0.5657176857102177,
          -0.69200658988589,
          -0.3330637139748596,
          -0.1747502959090054,
          -0.20010273226508554,
          -0.3176562260751893,
          -0.26633889637290087,
          -0.2742550801139485,
          -0.22636183870805712,
          -0.19614276739897182,
          0.03745676818706103,
          -0.5382783304697094,
          -0.24145094546780752,
          0.6616401323324914,
          0.659720638215432,
          0.53281283204236,
          0.5216925708992931,
          0.7112881569805121,
          0.7039637615900437,
          0.6508274174425112,
          0.5582654821611321,
          0.4219819286894175,
          -0.46922182202584645,
          -0.42493960604964515,
          -0.37564785367465064,
          -0.34660973966456826,
          -0.2346710446659668,
          -0.5318148355974316,
          -0.6256754174898457,
          0.05012246387482738,
          -0.5622106772188112,
          -0.4736771253817354,
          -0.6355524177332191,
          -0.7428993421957368,
          -0.8845638043246663,
          -0.5594099756402614,
          -0.49535639356141054,
          -0.5573491447570833,
          -0.642894814619572,
          -0.6520224970334982,
          -0.6160254806389855,
          -0.5922736656670693,
          -0.6748722236229763,
          -0.6049097164560514,
          -0.7247371407638229,
          0.36625332091117696,
          0.2880116867039557,
          0.13833258885192884,
          0.282117838314936,
          0.13545637570405467,
          0.02154341965310638
         ],
         "xaxis": "x",
         "y": [
          -0.5684273217515532,
          -0.20374603458509158,
          -0.6271583271720099,
          -0.5232759990880547,
          -0.7149169825780307,
          -0.21441698079761806,
          -0.48380654047963,
          -0.3658056365862044,
          -0.15137463435347218,
          -0.7246268543112655,
          -0.29696026636179046,
          -0.3841543953907544,
          -0.5668730494697307,
          -0.5701832341659763,
          -0.38044941390560205,
          -0.4393290741948384,
          -0.5109786793984069,
          -0.47041013862059944,
          -0.37653525601570603,
          -0.5767550444964081,
          -0.7887122932620027,
          -0.7861585946243984,
          -0.8291361607636577,
          -0.8572000060416809,
          -0.826678238938725,
          -0.7100176393097004,
          -0.863962271464483,
          -0.7493421107031196,
          -0.9344166547959555,
          -0.9816269278555052,
          -0.9469186410383512,
          -0.9771804686966674,
          -0.9486629341691273,
          -1,
          -0.999235319303167,
          -0.4591386471065106,
          -0.4591375442783916,
          -0.7124349328651302,
          -0.8382221022893459,
          0.47609782977484844,
          0.17072046531308277,
          0.476827348971223,
          0.339736810680224,
          0.3951821295300481,
          0.44708328699772126,
          0.3752668078528502,
          0.37880946531890375,
          0.1796278816135691,
          0.8703503819165739,
          0.9031982168784515,
          0.9217670239788418,
          0.7554165972935936,
          0.5518210818715206,
          -0.22891380306333986,
          -0.5154121335119806,
          0.11823141719894564,
          0.0034188902243851528,
          -0.202367885478415,
          -0.19003193833002502,
          -0.4310604745057232,
          -0.135494757283373,
          -0.05123559817591812,
          -0.02391055065857383,
          -0.17547784452556486,
          -0.46191738298433216,
          -0.04759093261137548,
          -0.07592806152028506,
          -0.21611617213214632,
          -0.49348130733109263,
          -0.3759080108557683,
          -0.1282390010085854,
          0.8085671423757078,
          0.8566447446352222,
          0.7669749190183459,
          0.7192028642594729,
          0.6650126001290529,
          0.03859667592781471
         ],
         "yaxis": "y"
        },
        {
         "customdata": [
          [
           "Jason James",
           10,
           true,
           "person",
           "Jason James",
           "2021-09-07",
           "Contract",
           [],
           "Lauren Berry",
           "Business",
           "Analyst",
           {
            "city": "London",
            "country": "GBR",
            "tz": "UTC"
           },
           1,
           "London",
           "UTC",
           "GBR"
          ],
          [
           "Andrea Williams",
           10,
           true,
           "person",
           "Andrea Williams",
           "2020-06-09",
           "Part Time",
           [
            "JavaScript",
            "Go"
           ],
           "Jordan Owens",
           "Business",
           "Analyst",
           {
            "city": "London",
            "country": "GBR",
            "tz": "UTC"
           },
           1,
           "London",
           "UTC",
           "GBR"
          ],
          [
           "Kevin Martin",
           10,
           true,
           "person",
           "Kevin Martin",
           "2022-09-26",
           "Full Time",
           [
            "Python",
            "JavaScript",
            "Java"
           ],
           "Jordan Owens",
           "Business",
           "Analyst",
           {
            "city": "London",
            "country": "GBR",
            "tz": "UTC"
           },
           1,
           "London",
           "UTC",
           "GBR"
          ],
          [
           "Sherry Thompson",
           10,
           true,
           "person",
           "Sherry Thompson",
           "2020-05-19",
           "Full Time",
           [],
           "Jordan Harper",
           "Business",
           "Associate",
           {
            "city": "London",
            "country": "GBR",
            "tz": "UTC"
           },
           2,
           "London",
           "UTC",
           "GBR"
          ],
          [
           "Rebekah Jackson",
           10,
           true,
           "person",
           "Rebekah Jackson",
           "2022-04-06",
           "Contract",
           [
            "Python"
           ],
           "Cathy Johnson",
           "Business",
           "Associate",
           {
            "city": "London",
            "country": "GBR",
            "tz": "UTC"
           },
           2,
           "London",
           "UTC",
           "GBR"
          ],
          [
           "Teresa David",
           10,
           true,
           "person",
           "Teresa David",
           "2023-03-16",
           "Contract",
           [],
           "Cathy Johnson",
           "Business",
           "Associate",
           {
            "city": "London",
            "country": "GBR",
            "tz": "UTC"
           },
           2,
           "London",
           "UTC",
           "GBR"
          ],
          [
           "Tara Douglas",
           10,
           true,
           "person",
           "Tara Douglas",
           "2022-02-03",
           "Full Time",
           [
            "Python",
            "Go",
            "Java"
           ],
           "Steven Edwards",
           "Business",
           "Associate",
           {
            "city": "London",
            "country": "GBR",
            "tz": "UTC"
           },
           2,
           "London",
           "UTC",
           "GBR"
          ],
          [
           "Steven Edwards",
           10,
           true,
           "person",
           "Steven Edwards",
           "2021-08-18",
           "Full Time",
           [
            "Python",
            "JavaScript"
           ],
           "Lauren Berry",
           "Business",
           "Director",
           {
            "city": "London",
            "country": "GBR",
            "tz": "UTC"
           },
           4,
           "London",
           "UTC",
           "GBR"
          ],
          [
           "Kevin Gonzalez",
           10,
           true,
           "person",
           "Kevin Gonzalez",
           "2021-03-03",
           "Contract",
           [],
           "Lauren Berry",
           "Business",
           "Director",
           {
            "city": "London",
            "country": "GBR",
            "tz": "UTC"
           },
           4,
           "London",
           "UTC",
           "GBR"
          ],
          [
           "Barbara Gomez",
           10,
           true,
           "person",
           "Barbara Gomez",
           "2022-07-17",
           "Full Time",
           [
            "Python",
            "JavaScript",
            "Scala"
           ],
           "Jordan Owens",
           "Business",
           "Director",
           {
            "city": "London",
            "country": "GBR",
            "tz": "UTC"
           },
           4,
           "London",
           "UTC",
           "GBR"
          ],
          [
           "Andrew Pruitt",
           10,
           true,
           "person",
           "Andrew Pruitt",
           "2021-08-07",
           "Full Time",
           [
            "JavaScript",
            "Elixir",
            "Scala"
           ],
           "Jordan Harper",
           "Sales",
           "Associate",
           {
            "city": "London",
            "country": "GBR",
            "tz": "UTC"
           },
           1,
           "London",
           "UTC",
           "GBR"
          ],
          [
           "Brandon Kaufman MD",
           10,
           true,
           "person",
           "Brandon Kaufman MD",
           "2021-02-10",
           "Full Time",
           [],
           "Andrew Pruitt",
           "Sales",
           "Associate",
           {
            "city": "London",
            "country": "GBR",
            "tz": "UTC"
           },
           1,
           "London",
           "UTC",
           "GBR"
          ],
          [
           "Theresa Bradshaw",
           10,
           true,
           "person",
           "Theresa Bradshaw",
           "2023-01-10",
           "Part Time",
           [
            "Python",
            "Typescript"
           ],
           "Andrew Pruitt",
           "Sales",
           "Associate",
           {
            "city": "London",
            "country": "GBR",
            "tz": "UTC"
           },
           1,
           "London",
           "UTC",
           "GBR"
          ],
          [
           "Justin Lewis",
           10,
           true,
           "person",
           "Justin Lewis",
           "2021-04-24",
           "Full Time",
           [],
           "Andrew Pruitt",
           "Sales",
           "Associate",
           {
            "city": "London",
            "country": "GBR",
            "tz": "UTC"
           },
           1,
           "London",
           "UTC",
           "GBR"
          ],
          [
           "William Diaz",
           10,
           true,
           "person",
           "William Diaz",
           "2022-08-31",
           "Full Time",
           [
            "Typescript",
            "Java"
           ],
           "Andrew Pruitt",
           "Sales",
           "Associate",
           {
            "city": "London",
            "country": "GBR",
            "tz": "UTC"
           },
           1,
           "London",
           "UTC",
           "GBR"
          ],
          [
           "Ashley Russell",
           10,
           true,
           "person",
           "Ashley Russell",
           "2020-05-21",
           "Full Time",
           [
            "Typescript",
            "Java"
           ],
           "Andrew Pruitt",
           "Sales",
           "Associate",
           {
            "city": "London",
            "country": "GBR",
            "tz": "UTC"
           },
           1,
           "London",
           "UTC",
           "GBR"
          ],
          [
           "Karen Smith",
           10,
           true,
           "person",
           "Karen Smith",
           "2022-01-29",
           "Full Time",
           [
            "JavaScript"
           ],
           "Andrew Pruitt",
           "Sales",
           "Associate",
           {
            "city": "London",
            "country": "GBR",
            "tz": "UTC"
           },
           1,
           "London",
           "UTC",
           "GBR"
          ],
          [
           "Jacqueline White",
           10,
           true,
           "person",
           "Jacqueline White",
           "2022-07-18",
           "Full Time",
           [
            "JavaScript"
           ],
           "Andrew Pruitt",
           "Sales",
           "Associate",
           {
            "city": "London",
            "country": "GBR",
            "tz": "UTC"
           },
           1,
           "London",
           "UTC",
           "GBR"
          ],
          [
           "Amanda Johnson",
           10,
           true,
           "person",
           "Amanda Johnson",
           "2022-09-09",
           "Part Time",
           [
            "JavaScript",
            "Java"
           ],
           "Andrew Pruitt",
           "Sales",
           "Associate",
           {
            "city": "London",
            "country": "GBR",
            "tz": "UTC"
           },
           1,
           "London",
           "UTC",
           "GBR"
          ],
          [
           "Stephen Randolph",
           10,
           true,
           "person",
           "Stephen Randolph",
           "2021-03-23",
           "Contract",
           [
            "Python"
           ],
           "Andrew Pruitt",
           "Sales",
           "Associate",
           {
            "city": "London",
            "country": "GBR",
            "tz": "UTC"
           },
           1,
           "London",
           "UTC",
           "GBR"
          ],
          [
           "Kenneth Montoya",
           10,
           true,
           "person",
           "Kenneth Montoya",
           "2021-10-14",
           "Full Time",
           [
            "Java"
           ],
           "Andrew Pruitt",
           "Sales",
           "Associate",
           {
            "city": "London",
            "country": "GBR",
            "tz": "UTC"
           },
           1,
           "London",
           "UTC",
           "GBR"
          ],
          [
           "Marie Smith",
           10,
           true,
           "person",
           "Marie Smith",
           "2020-10-03",
           "Part Time",
           [
            "JavaScript"
           ],
           "Andrew Pruitt",
           "Sales",
           "Associate",
           {
            "city": "London",
            "country": "GBR",
            "tz": "UTC"
           },
           1,
           "London",
           "UTC",
           "GBR"
          ],
          [
           "Daryl Gillespie",
           10,
           true,
           "person",
           "Daryl Gillespie",
           "2020-11-29",
           "Full Time",
           [
            "Typescript",
            "JavaScript",
            "Java"
           ],
           "Andrew Pruitt",
           "Sales",
           "Associate",
           {
            "city": "London",
            "country": "GBR",
            "tz": "UTC"
           },
           1,
           "London",
           "UTC",
           "GBR"
          ],
          [
           "Stephanie Peterson",
           10,
           true,
           "person",
           "Stephanie Peterson",
           "2021-12-29",
           "Full Time",
           [
            "Python",
            "JavaScript",
            "Scala",
            "Java"
           ],
           "Andrew Pruitt",
           "Sales",
           "Associate",
           {
            "city": "London",
            "country": "GBR",
            "tz": "UTC"
           },
           1,
           "London",
           "UTC",
           "GBR"
          ],
          [
           "Sandra Brown",
           10,
           true,
           "person",
           "Sandra Brown",
           "2022-04-21",
           "Full Time",
           [],
           "Andrew Pruitt",
           "Sales",
           "Associate",
           {
            "city": "London",
            "country": "GBR",
            "tz": "UTC"
           },
           1,
           "London",
           "UTC",
           "GBR"
          ]
         ],
         "hovertemplate": "<b>%{hovertext}</b><br><br>country=%{customdata[15]}<br>x=%{x}<br>y=%{y}<br>rank=%{customdata[12]}<br>label=%{customdata[0]}<br>size=%{customdata[1]}<br>person=%{customdata[2]}<br>type=%{customdata[3]}<br>name=%{customdata[4]}<br>hire_date=%{customdata[5]}<br>status=%{customdata[6]}<br>languages=%{customdata[7]}<br>manager=%{customdata[8]}<br>team=%{customdata[9]}<br>title=%{customdata[10]}<br>location=%{customdata[11]}<br>city=%{customdata[13]}<br>tz=%{customdata[14]}<extra></extra>",
         "hovertext": [
          "Jason James",
          "Andrea Williams",
          "Kevin Martin",
          "Sherry Thompson",
          "Rebekah Jackson",
          "Teresa David",
          "Tara Douglas",
          "Steven Edwards",
          "Kevin Gonzalez",
          "Barbara Gomez",
          "Andrew Pruitt",
          "Brandon Kaufman MD",
          "Theresa Bradshaw",
          "Justin Lewis",
          "William Diaz",
          "Ashley Russell",
          "Karen Smith",
          "Jacqueline White",
          "Amanda Johnson",
          "Stephen Randolph",
          "Kenneth Montoya",
          "Marie Smith",
          "Daryl Gillespie",
          "Stephanie Peterson",
          "Sandra Brown"
         ],
         "legendgroup": "GBR",
         "marker": {
          "color": "#636efa",
          "size": [
           1,
           1,
           1,
           2,
           2,
           2,
           2,
           4,
           4,
           4,
           1,
           1,
           1,
           1,
           1,
           1,
           1,
           1,
           1,
           1,
           1,
           1,
           1,
           1,
           1
          ],
          "sizemode": "area",
          "sizeref": 0.0175,
          "symbol": "circle"
         },
         "mode": "markers",
         "name": "GBR",
         "orientation": "v",
         "showlegend": true,
         "type": "scatter",
         "x": [
          0.6734389277818221,
          -0.08513410877302444,
          -0.03045843355478438,
          0.103720423473183,
          0.8052587016896158,
          0.8732482842776773,
          0.9258936750876703,
          0.7784427753163974,
          0.6585829197285591,
          -0.018073091870867905,
          0.2334768336163717,
          0.3564098436988063,
          0.38076974472103897,
          0.3109193664725026,
          0.30517688711815316,
          0.33238472469258534,
          0.23268976870147723,
          0.35125261521914475,
          0.19528452047721204,
          0.17662450927030893,
          0.23517662712442425,
          0.2723675444308404,
          0.22297708215302622,
          0.325300385303248,
          0.1691001417286808
         ],
         "xaxis": "x",
         "y": [
          -0.20295930539255386,
          -0.3132255727514528,
          -0.4368086517097308,
          0.04812604107922524,
          -0.6277686061967197,
          -0.5926686811735169,
          -0.2875220170366119,
          -0.24463680560626966,
          -0.25621302921273403,
          -0.38475057480921865,
          0.6589869943342828,
          0.6505123079576763,
          0.7721384722498357,
          0.7962840431056872,
          0.619489003891163,
          0.8359719857239734,
          0.7600603132005426,
          0.711425521564461,
          0.7951894590248143,
          0.8389416274043786,
          0.829158737116137,
          0.812980651602192,
          0.8644649806673009,
          0.7543721333241491,
          0.7212995882874726
         ],
         "yaxis": "y"
        }
       ],
       "layout": {
        "legend": {
         "itemsizing": "constant",
         "title": {
          "text": "country"
         },
         "tracegroupgap": 0
        },
        "margin": {
         "t": 60
        },
        "template": {
         "data": {
          "bar": [
           {
            "error_x": {
             "color": "#f2f5fa"
            },
            "error_y": {
             "color": "#f2f5fa"
            },
            "marker": {
             "line": {
              "color": "rgb(17,17,17)",
              "width": 0.5
             },
             "pattern": {
              "fillmode": "overlay",
              "size": 10,
              "solidity": 0.2
             }
            },
            "type": "bar"
           }
          ],
          "barpolar": [
           {
            "marker": {
             "line": {
              "color": "rgb(17,17,17)",
              "width": 0.5
             },
             "pattern": {
              "fillmode": "overlay",
              "size": 10,
              "solidity": 0.2
             }
            },
            "type": "barpolar"
           }
          ],
          "carpet": [
           {
            "aaxis": {
             "endlinecolor": "#A2B1C6",
             "gridcolor": "#506784",
             "linecolor": "#506784",
             "minorgridcolor": "#506784",
             "startlinecolor": "#A2B1C6"
            },
            "baxis": {
             "endlinecolor": "#A2B1C6",
             "gridcolor": "#506784",
             "linecolor": "#506784",
             "minorgridcolor": "#506784",
             "startlinecolor": "#A2B1C6"
            },
            "type": "carpet"
           }
          ],
          "choropleth": [
           {
            "colorbar": {
             "outlinewidth": 0,
             "ticks": ""
            },
            "type": "choropleth"
           }
          ],
          "contour": [
           {
            "colorbar": {
             "outlinewidth": 0,
             "ticks": ""
            },
            "colorscale": [
             [
              0,
              "#0d0887"
             ],
             [
              0.1111111111111111,
              "#46039f"
             ],
             [
              0.2222222222222222,
              "#7201a8"
             ],
             [
              0.3333333333333333,
              "#9c179e"
             ],
             [
              0.4444444444444444,
              "#bd3786"
             ],
             [
              0.5555555555555556,
              "#d8576b"
             ],
             [
              0.6666666666666666,
              "#ed7953"
             ],
             [
              0.7777777777777778,
              "#fb9f3a"
             ],
             [
              0.8888888888888888,
              "#fdca26"
             ],
             [
              1,
              "#f0f921"
             ]
            ],
            "type": "contour"
           }
          ],
          "contourcarpet": [
           {
            "colorbar": {
             "outlinewidth": 0,
             "ticks": ""
            },
            "type": "contourcarpet"
           }
          ],
          "heatmap": [
           {
            "colorbar": {
             "outlinewidth": 0,
             "ticks": ""
            },
            "colorscale": [
             [
              0,
              "#0d0887"
             ],
             [
              0.1111111111111111,
              "#46039f"
             ],
             [
              0.2222222222222222,
              "#7201a8"
             ],
             [
              0.3333333333333333,
              "#9c179e"
             ],
             [
              0.4444444444444444,
              "#bd3786"
             ],
             [
              0.5555555555555556,
              "#d8576b"
             ],
             [
              0.6666666666666666,
              "#ed7953"
             ],
             [
              0.7777777777777778,
              "#fb9f3a"
             ],
             [
              0.8888888888888888,
              "#fdca26"
             ],
             [
              1,
              "#f0f921"
             ]
            ],
            "type": "heatmap"
           }
          ],
          "heatmapgl": [
           {
            "colorbar": {
             "outlinewidth": 0,
             "ticks": ""
            },
            "colorscale": [
             [
              0,
              "#0d0887"
             ],
             [
              0.1111111111111111,
              "#46039f"
             ],
             [
              0.2222222222222222,
              "#7201a8"
             ],
             [
              0.3333333333333333,
              "#9c179e"
             ],
             [
              0.4444444444444444,
              "#bd3786"
             ],
             [
              0.5555555555555556,
              "#d8576b"
             ],
             [
              0.6666666666666666,
              "#ed7953"
             ],
             [
              0.7777777777777778,
              "#fb9f3a"
             ],
             [
              0.8888888888888888,
              "#fdca26"
             ],
             [
              1,
              "#f0f921"
             ]
            ],
            "type": "heatmapgl"
           }
          ],
          "histogram": [
           {
            "marker": {
             "pattern": {
              "fillmode": "overlay",
              "size": 10,
              "solidity": 0.2
             }
            },
            "type": "histogram"
           }
          ],
          "histogram2d": [
           {
            "colorbar": {
             "outlinewidth": 0,
             "ticks": ""
            },
            "colorscale": [
             [
              0,
              "#0d0887"
             ],
             [
              0.1111111111111111,
              "#46039f"
             ],
             [
              0.2222222222222222,
              "#7201a8"
             ],
             [
              0.3333333333333333,
              "#9c179e"
             ],
             [
              0.4444444444444444,
              "#bd3786"
             ],
             [
              0.5555555555555556,
              "#d8576b"
             ],
             [
              0.6666666666666666,
              "#ed7953"
             ],
             [
              0.7777777777777778,
              "#fb9f3a"
             ],
             [
              0.8888888888888888,
              "#fdca26"
             ],
             [
              1,
              "#f0f921"
             ]
            ],
            "type": "histogram2d"
           }
          ],
          "histogram2dcontour": [
           {
            "colorbar": {
             "outlinewidth": 0,
             "ticks": ""
            },
            "colorscale": [
             [
              0,
              "#0d0887"
             ],
             [
              0.1111111111111111,
              "#46039f"
             ],
             [
              0.2222222222222222,
              "#7201a8"
             ],
             [
              0.3333333333333333,
              "#9c179e"
             ],
             [
              0.4444444444444444,
              "#bd3786"
             ],
             [
              0.5555555555555556,
              "#d8576b"
             ],
             [
              0.6666666666666666,
              "#ed7953"
             ],
             [
              0.7777777777777778,
              "#fb9f3a"
             ],
             [
              0.8888888888888888,
              "#fdca26"
             ],
             [
              1,
              "#f0f921"
             ]
            ],
            "type": "histogram2dcontour"
           }
          ],
          "mesh3d": [
           {
            "colorbar": {
             "outlinewidth": 0,
             "ticks": ""
            },
            "type": "mesh3d"
           }
          ],
          "parcoords": [
           {
            "line": {
             "colorbar": {
              "outlinewidth": 0,
              "ticks": ""
             }
            },
            "type": "parcoords"
           }
          ],
          "pie": [
           {
            "automargin": true,
            "type": "pie"
           }
          ],
          "scatter": [
           {
            "marker": {
             "line": {
              "color": "#283442"
             }
            },
            "type": "scatter"
           }
          ],
          "scatter3d": [
           {
            "line": {
             "colorbar": {
              "outlinewidth": 0,
              "ticks": ""
             }
            },
            "marker": {
             "colorbar": {
              "outlinewidth": 0,
              "ticks": ""
             }
            },
            "type": "scatter3d"
           }
          ],
          "scattercarpet": [
           {
            "marker": {
             "colorbar": {
              "outlinewidth": 0,
              "ticks": ""
             }
            },
            "type": "scattercarpet"
           }
          ],
          "scattergeo": [
           {
            "marker": {
             "colorbar": {
              "outlinewidth": 0,
              "ticks": ""
             }
            },
            "type": "scattergeo"
           }
          ],
          "scattergl": [
           {
            "marker": {
             "line": {
              "color": "#283442"
             }
            },
            "type": "scattergl"
           }
          ],
          "scattermapbox": [
           {
            "marker": {
             "colorbar": {
              "outlinewidth": 0,
              "ticks": ""
             }
            },
            "type": "scattermapbox"
           }
          ],
          "scatterpolar": [
           {
            "marker": {
             "colorbar": {
              "outlinewidth": 0,
              "ticks": ""
             }
            },
            "type": "scatterpolar"
           }
          ],
          "scatterpolargl": [
           {
            "marker": {
             "colorbar": {
              "outlinewidth": 0,
              "ticks": ""
             }
            },
            "type": "scatterpolargl"
           }
          ],
          "scatterternary": [
           {
            "marker": {
             "colorbar": {
              "outlinewidth": 0,
              "ticks": ""
             }
            },
            "type": "scatterternary"
           }
          ],
          "surface": [
           {
            "colorbar": {
             "outlinewidth": 0,
             "ticks": ""
            },
            "colorscale": [
             [
              0,
              "#0d0887"
             ],
             [
              0.1111111111111111,
              "#46039f"
             ],
             [
              0.2222222222222222,
              "#7201a8"
             ],
             [
              0.3333333333333333,
              "#9c179e"
             ],
             [
              0.4444444444444444,
              "#bd3786"
             ],
             [
              0.5555555555555556,
              "#d8576b"
             ],
             [
              0.6666666666666666,
              "#ed7953"
             ],
             [
              0.7777777777777778,
              "#fb9f3a"
             ],
             [
              0.8888888888888888,
              "#fdca26"
             ],
             [
              1,
              "#f0f921"
             ]
            ],
            "type": "surface"
           }
          ],
          "table": [
           {
            "cells": {
             "fill": {
              "color": "#506784"
             },
             "line": {
              "color": "rgb(17,17,17)"
             }
            },
            "header": {
             "fill": {
              "color": "#2a3f5f"
             },
             "line": {
              "color": "rgb(17,17,17)"
             }
            },
            "type": "table"
           }
          ]
         },
         "layout": {
          "annotationdefaults": {
           "arrowcolor": "#f2f5fa",
           "arrowhead": 0,
           "arrowwidth": 1
          },
          "autotypenumbers": "strict",
          "coloraxis": {
           "colorbar": {
            "outlinewidth": 0,
            "ticks": ""
           }
          },
          "colorscale": {
           "diverging": [
            [
             0,
             "#8e0152"
            ],
            [
             0.1,
             "#c51b7d"
            ],
            [
             0.2,
             "#de77ae"
            ],
            [
             0.3,
             "#f1b6da"
            ],
            [
             0.4,
             "#fde0ef"
            ],
            [
             0.5,
             "#f7f7f7"
            ],
            [
             0.6,
             "#e6f5d0"
            ],
            [
             0.7,
             "#b8e186"
            ],
            [
             0.8,
             "#7fbc41"
            ],
            [
             0.9,
             "#4d9221"
            ],
            [
             1,
             "#276419"
            ]
           ],
           "sequential": [
            [
             0,
             "#0d0887"
            ],
            [
             0.1111111111111111,
             "#46039f"
            ],
            [
             0.2222222222222222,
             "#7201a8"
            ],
            [
             0.3333333333333333,
             "#9c179e"
            ],
            [
             0.4444444444444444,
             "#bd3786"
            ],
            [
             0.5555555555555556,
             "#d8576b"
            ],
            [
             0.6666666666666666,
             "#ed7953"
            ],
            [
             0.7777777777777778,
             "#fb9f3a"
            ],
            [
             0.8888888888888888,
             "#fdca26"
            ],
            [
             1,
             "#f0f921"
            ]
           ],
           "sequentialminus": [
            [
             0,
             "#0d0887"
            ],
            [
             0.1111111111111111,
             "#46039f"
            ],
            [
             0.2222222222222222,
             "#7201a8"
            ],
            [
             0.3333333333333333,
             "#9c179e"
            ],
            [
             0.4444444444444444,
             "#bd3786"
            ],
            [
             0.5555555555555556,
             "#d8576b"
            ],
            [
             0.6666666666666666,
             "#ed7953"
            ],
            [
             0.7777777777777778,
             "#fb9f3a"
            ],
            [
             0.8888888888888888,
             "#fdca26"
            ],
            [
             1,
             "#f0f921"
            ]
           ]
          },
          "colorway": [
           "#636efa",
           "#EF553B",
           "#00cc96",
           "#ab63fa",
           "#FFA15A",
           "#19d3f3",
           "#FF6692",
           "#B6E880",
           "#FF97FF",
           "#FECB52"
          ],
          "font": {
           "color": "#f2f5fa"
          },
          "geo": {
           "bgcolor": "rgb(17,17,17)",
           "lakecolor": "rgb(17,17,17)",
           "landcolor": "rgb(17,17,17)",
           "showlakes": true,
           "showland": true,
           "subunitcolor": "#506784"
          },
          "hoverlabel": {
           "align": "left"
          },
          "hovermode": "closest",
          "mapbox": {
           "style": "dark"
          },
          "paper_bgcolor": "rgb(17,17,17)",
          "plot_bgcolor": "rgb(17,17,17)",
          "polar": {
           "angularaxis": {
            "gridcolor": "#506784",
            "linecolor": "#506784",
            "ticks": ""
           },
           "bgcolor": "rgb(17,17,17)",
           "radialaxis": {
            "gridcolor": "#506784",
            "linecolor": "#506784",
            "ticks": ""
           }
          },
          "scene": {
           "xaxis": {
            "backgroundcolor": "rgb(17,17,17)",
            "gridcolor": "#506784",
            "gridwidth": 2,
            "linecolor": "#506784",
            "showbackground": true,
            "ticks": "",
            "zerolinecolor": "#C8D4E3"
           },
           "yaxis": {
            "backgroundcolor": "rgb(17,17,17)",
            "gridcolor": "#506784",
            "gridwidth": 2,
            "linecolor": "#506784",
            "showbackground": true,
            "ticks": "",
            "zerolinecolor": "#C8D4E3"
           },
           "zaxis": {
            "backgroundcolor": "rgb(17,17,17)",
            "gridcolor": "#506784",
            "gridwidth": 2,
            "linecolor": "#506784",
            "showbackground": true,
            "ticks": "",
            "zerolinecolor": "#C8D4E3"
           }
          },
          "shapedefaults": {
           "line": {
            "color": "#f2f5fa"
           }
          },
          "sliderdefaults": {
           "bgcolor": "#C8D4E3",
           "bordercolor": "rgb(17,17,17)",
           "borderwidth": 1,
           "tickwidth": 0
          },
          "ternary": {
           "aaxis": {
            "gridcolor": "#506784",
            "linecolor": "#506784",
            "ticks": ""
           },
           "baxis": {
            "gridcolor": "#506784",
            "linecolor": "#506784",
            "ticks": ""
           },
           "bgcolor": "rgb(17,17,17)",
           "caxis": {
            "gridcolor": "#506784",
            "linecolor": "#506784",
            "ticks": ""
           }
          },
          "title": {
           "x": 0.05
          },
          "updatemenudefaults": {
           "bgcolor": "#506784",
           "borderwidth": 0
          },
          "xaxis": {
           "automargin": true,
           "gridcolor": "#283442",
           "linecolor": "#506784",
           "ticks": "",
           "title": {
            "standoff": 15
           },
           "zerolinecolor": "#283442",
           "zerolinewidth": 2
          },
          "yaxis": {
           "automargin": true,
           "gridcolor": "#283442",
           "linecolor": "#506784",
           "ticks": "",
           "title": {
            "standoff": 15
           },
           "zerolinecolor": "#283442",
           "zerolinewidth": 2
          }
         }
        },
        "xaxis": {
         "visible": false
        },
        "yaxis": {
         "visible": false
        }
       }
      }
     },
     "metadata": {},
     "output_type": "display_data"
    }
   ],
   "source": [
    "from functools import partial\n",
    "\n",
    "layout = (\n",
    "    nx.spring_layout\n",
    ")  # partial(nx.spring_layout,k=0.1, iterations=20) # or customize how the layout is generated\n",
    "px_plot_nx(\n",
    "    G,\n",
    "    color=\"country\",\n",
    "    layout=layout,\n",
    "    with_edges=True,\n",
    "    hover_name=\"name\",\n",
    "    size=\"rank\",\n",
    "    template=\"plotly_dark\",\n",
    ")  # ,text=\"label\")\n"
   ]
  },
  {
   "cell_type": "code",
   "execution_count": 131,
   "id": "29295efc",
   "metadata": {},
   "outputs": [
    {
     "data": {
      "application/vnd.plotly.v1+json": {
       "config": {
        "plotlyServerURL": "https://plot.ly"
       },
       "data": [
        {
         "hovertemplate": "x=%{x}<br>y=%{y}<extra></extra>",
         "legendgroup": "",
         "line": {
          "color": "grey",
          "dash": "solid"
         },
         "marker": {
          "symbol": "circle"
         },
         "mode": "lines",
         "name": "",
         "orientation": "v",
         "showlegend": false,
         "type": "scatter",
         "x": [
          0.03396605089933172,
          0.03396605089933172
         ],
         "xaxis": "x",
         "y": [
          -0.06377312619560842,
          -0.06377312619560842
         ],
         "yaxis": "y"
        },
        {
         "hovertemplate": "x=%{x}<br>y=%{y}<extra></extra>",
         "legendgroup": "",
         "line": {
          "color": "grey",
          "dash": "solid"
         },
         "marker": {
          "symbol": "circle"
         },
         "mode": "lines",
         "name": "",
         "orientation": "v",
         "showlegend": false,
         "type": "scatter",
         "x": [
          -0.2269847476884305,
          -0.2951026215388207
         ],
         "xaxis": "x",
         "y": [
          -0.08994328707343027,
          -0.04490195872528842
         ],
         "yaxis": "y"
        },
        {
         "hovertemplate": "x=%{x}<br>y=%{y}<extra></extra>",
         "legendgroup": "",
         "line": {
          "color": "grey",
          "dash": "solid"
         },
         "marker": {
          "symbol": "circle"
         },
         "mode": "lines",
         "name": "",
         "orientation": "v",
         "showlegend": false,
         "type": "scatter",
         "x": [
          -0.2269847476884305,
          -0.2283101768540906
         ],
         "xaxis": "x",
         "y": [
          -0.08994328707343027,
          -0.0032983096295063127
         ],
         "yaxis": "y"
        },
        {
         "hovertemplate": "x=%{x}<br>y=%{y}<extra></extra>",
         "legendgroup": "",
         "line": {
          "color": "grey",
          "dash": "solid"
         },
         "marker": {
          "symbol": "circle"
         },
         "mode": "lines",
         "name": "",
         "orientation": "v",
         "showlegend": false,
         "type": "scatter",
         "x": [
          -0.2269847476884305,
          -0.3601243773434667
         ],
         "xaxis": "x",
         "y": [
          -0.08994328707343027,
          -0.005812557997457239
         ],
         "yaxis": "y"
        },
        {
         "hovertemplate": "x=%{x}<br>y=%{y}<extra></extra>",
         "legendgroup": "",
         "line": {
          "color": "grey",
          "dash": "solid"
         },
         "marker": {
          "symbol": "circle"
         },
         "mode": "lines",
         "name": "",
         "orientation": "v",
         "showlegend": false,
         "type": "scatter",
         "x": [
          -0.2269847476884305,
          -0.2871650636682377
         ],
         "xaxis": "x",
         "y": [
          -0.08994328707343027,
          -0.16225546326031126
         ],
         "yaxis": "y"
        },
        {
         "hovertemplate": "x=%{x}<br>y=%{y}<extra></extra>",
         "legendgroup": "",
         "line": {
          "color": "grey",
          "dash": "solid"
         },
         "marker": {
          "symbol": "circle"
         },
         "mode": "lines",
         "name": "",
         "orientation": "v",
         "showlegend": false,
         "type": "scatter",
         "x": [
          -0.2269847476884305,
          -0.32531114954734924
         ],
         "xaxis": "x",
         "y": [
          -0.08994328707343027,
          -0.11723109266598164
         ],
         "yaxis": "y"
        },
        {
         "hovertemplate": "x=%{x}<br>y=%{y}<extra></extra>",
         "legendgroup": "",
         "line": {
          "color": "grey",
          "dash": "solid"
         },
         "marker": {
          "symbol": "circle"
         },
         "mode": "lines",
         "name": "",
         "orientation": "v",
         "showlegend": false,
         "type": "scatter",
         "x": [
          -0.2269847476884305,
          -0.35818211131978944
         ],
         "xaxis": "x",
         "y": [
          -0.08994328707343027,
          -0.21493049242689913
         ],
         "yaxis": "y"
        },
        {
         "hovertemplate": "x=%{x}<br>y=%{y}<extra></extra>",
         "legendgroup": "",
         "line": {
          "color": "grey",
          "dash": "solid"
         },
         "marker": {
          "symbol": "circle"
         },
         "mode": "lines",
         "name": "",
         "orientation": "v",
         "showlegend": false,
         "type": "scatter",
         "x": [
          -0.2269847476884305,
          0.03396605089933172
         ],
         "xaxis": "x",
         "y": [
          -0.08994328707343027,
          -0.06377312619560842
         ],
         "yaxis": "y"
        },
        {
         "hovertemplate": "x=%{x}<br>y=%{y}<extra></extra>",
         "legendgroup": "",
         "line": {
          "color": "grey",
          "dash": "solid"
         },
         "marker": {
          "symbol": "circle"
         },
         "mode": "lines",
         "name": "",
         "orientation": "v",
         "showlegend": false,
         "type": "scatter",
         "x": [
          -0.46225432281796286,
          -0.3601243773434667
         ],
         "xaxis": "x",
         "y": [
          0.05165546595470022,
          -0.005812557997457239
         ],
         "yaxis": "y"
        },
        {
         "hovertemplate": "x=%{x}<br>y=%{y}<extra></extra>",
         "legendgroup": "",
         "line": {
          "color": "grey",
          "dash": "solid"
         },
         "marker": {
          "symbol": "circle"
         },
         "mode": "lines",
         "name": "",
         "orientation": "v",
         "showlegend": false,
         "type": "scatter",
         "x": [
          -0.4536291184284819,
          -0.35818211131978944
         ],
         "xaxis": "x",
         "y": [
          -0.3132385620343844,
          -0.21493049242689913
         ],
         "yaxis": "y"
        },
        {
         "hovertemplate": "x=%{x}<br>y=%{y}<extra></extra>",
         "legendgroup": "",
         "line": {
          "color": "grey",
          "dash": "solid"
         },
         "marker": {
          "symbol": "circle"
         },
         "mode": "lines",
         "name": "",
         "orientation": "v",
         "showlegend": false,
         "type": "scatter",
         "x": [
          0.1489620986072825,
          0.2919575150285845
         ],
         "xaxis": "x",
         "y": [
          -0.696770904360411,
          -0.703200147672935
         ],
         "yaxis": "y"
        },
        {
         "hovertemplate": "x=%{x}<br>y=%{y}<extra></extra>",
         "legendgroup": "",
         "line": {
          "color": "grey",
          "dash": "solid"
         },
         "marker": {
          "symbol": "circle"
         },
         "mode": "lines",
         "name": "",
         "orientation": "v",
         "showlegend": false,
         "type": "scatter",
         "x": [
          0.1489620986072825,
          0.17070019445924
         ],
         "xaxis": "x",
         "y": [
          -0.696770904360411,
          -0.8443275379129186
         ],
         "yaxis": "y"
        },
        {
         "hovertemplate": "x=%{x}<br>y=%{y}<extra></extra>",
         "legendgroup": "",
         "line": {
          "color": "grey",
          "dash": "solid"
         },
         "marker": {
          "symbol": "circle"
         },
         "mode": "lines",
         "name": "",
         "orientation": "v",
         "showlegend": false,
         "type": "scatter",
         "x": [
          0.1489620986072825,
          0.24511656674539256
         ],
         "xaxis": "x",
         "y": [
          -0.696770904360411,
          -0.8043313959659663
         ],
         "yaxis": "y"
        },
        {
         "hovertemplate": "x=%{x}<br>y=%{y}<extra></extra>",
         "legendgroup": "",
         "line": {
          "color": "grey",
          "dash": "solid"
         },
         "marker": {
          "symbol": "circle"
         },
         "mode": "lines",
         "name": "",
         "orientation": "v",
         "showlegend": false,
         "type": "scatter",
         "x": [
          0.1489620986072825,
          0.22017454236104098
         ],
         "xaxis": "x",
         "y": [
          -0.696770904360411,
          -0.7609627272950741
         ],
         "yaxis": "y"
        },
        {
         "hovertemplate": "x=%{x}<br>y=%{y}<extra></extra>",
         "legendgroup": "",
         "line": {
          "color": "grey",
          "dash": "solid"
         },
         "marker": {
          "symbol": "circle"
         },
         "mode": "lines",
         "name": "",
         "orientation": "v",
         "showlegend": false,
         "type": "scatter",
         "x": [
          0.1489620986072825,
          0.19664362296580223
         ],
         "xaxis": "x",
         "y": [
          -0.696770904360411,
          -0.8871357352787121
         ],
         "yaxis": "y"
        },
        {
         "hovertemplate": "x=%{x}<br>y=%{y}<extra></extra>",
         "legendgroup": "",
         "line": {
          "color": "grey",
          "dash": "solid"
         },
         "marker": {
          "symbol": "circle"
         },
         "mode": "lines",
         "name": "",
         "orientation": "v",
         "showlegend": false,
         "type": "scatter",
         "x": [
          0.1489620986072825,
          0.08327401580126952
         ],
         "xaxis": "x",
         "y": [
          -0.696770904360411,
          -0.819719001276049
         ],
         "yaxis": "y"
        },
        {
         "hovertemplate": "x=%{x}<br>y=%{y}<extra></extra>",
         "legendgroup": "",
         "line": {
          "color": "grey",
          "dash": "solid"
         },
         "marker": {
          "symbol": "circle"
         },
         "mode": "lines",
         "name": "",
         "orientation": "v",
         "showlegend": false,
         "type": "scatter",
         "x": [
          0.1489620986072825,
          0.2439789069545285
         ],
         "xaxis": "x",
         "y": [
          -0.696770904360411,
          -0.6765445893052324
         ],
         "yaxis": "y"
        },
        {
         "hovertemplate": "x=%{x}<br>y=%{y}<extra></extra>",
         "legendgroup": "",
         "line": {
          "color": "grey",
          "dash": "solid"
         },
         "marker": {
          "symbol": "circle"
         },
         "mode": "lines",
         "name": "",
         "orientation": "v",
         "showlegend": false,
         "type": "scatter",
         "x": [
          0.1489620986072825,
          0.30636055351076047
         ],
         "xaxis": "x",
         "y": [
          -0.696770904360411,
          -0.7593857241041161
         ],
         "yaxis": "y"
        },
        {
         "hovertemplate": "x=%{x}<br>y=%{y}<extra></extra>",
         "legendgroup": "",
         "line": {
          "color": "grey",
          "dash": "solid"
         },
         "marker": {
          "symbol": "circle"
         },
         "mode": "lines",
         "name": "",
         "orientation": "v",
         "showlegend": false,
         "type": "scatter",
         "x": [
          0.1489620986072825,
          0.04967550631052169
         ],
         "xaxis": "x",
         "y": [
          -0.696770904360411,
          -0.8535296227541841
         ],
         "yaxis": "y"
        },
        {
         "hovertemplate": "x=%{x}<br>y=%{y}<extra></extra>",
         "legendgroup": "",
         "line": {
          "color": "grey",
          "dash": "solid"
         },
         "marker": {
          "symbol": "circle"
         },
         "mode": "lines",
         "name": "",
         "orientation": "v",
         "showlegend": false,
         "type": "scatter",
         "x": [
          0.1489620986072825,
          0.12788538453299705
         ],
         "xaxis": "x",
         "y": [
          -0.696770904360411,
          -0.8308326269012964
         ],
         "yaxis": "y"
        },
        {
         "hovertemplate": "x=%{x}<br>y=%{y}<extra></extra>",
         "legendgroup": "",
         "line": {
          "color": "grey",
          "dash": "solid"
         },
         "marker": {
          "symbol": "circle"
         },
         "mode": "lines",
         "name": "",
         "orientation": "v",
         "showlegend": false,
         "type": "scatter",
         "x": [
          0.1489620986072825,
          0.26423604664497297
         ],
         "xaxis": "x",
         "y": [
          -0.696770904360411,
          -0.7399505367061054
         ],
         "yaxis": "y"
        },
        {
         "hovertemplate": "x=%{x}<br>y=%{y}<extra></extra>",
         "legendgroup": "",
         "line": {
          "color": "grey",
          "dash": "solid"
         },
         "marker": {
          "symbol": "circle"
         },
         "mode": "lines",
         "name": "",
         "orientation": "v",
         "showlegend": false,
         "type": "scatter",
         "x": [
          0.1489620986072825,
          0.27349573744760786
         ],
         "xaxis": "x",
         "y": [
          -0.696770904360411,
          -0.8409259906653218
         ],
         "yaxis": "y"
        },
        {
         "hovertemplate": "x=%{x}<br>y=%{y}<extra></extra>",
         "legendgroup": "",
         "line": {
          "color": "grey",
          "dash": "solid"
         },
         "marker": {
          "symbol": "circle"
         },
         "mode": "lines",
         "name": "",
         "orientation": "v",
         "showlegend": false,
         "type": "scatter",
         "x": [
          0.1489620986072825,
          0.015826400971025136
         ],
         "xaxis": "x",
         "y": [
          -0.696770904360411,
          -0.7800459118496079
         ],
         "yaxis": "y"
        },
        {
         "hovertemplate": "x=%{x}<br>y=%{y}<extra></extra>",
         "legendgroup": "",
         "line": {
          "color": "grey",
          "dash": "solid"
         },
         "marker": {
          "symbol": "circle"
         },
         "mode": "lines",
         "name": "",
         "orientation": "v",
         "showlegend": false,
         "type": "scatter",
         "x": [
          0.1489620986072825,
          0.165819898370788
         ],
         "xaxis": "x",
         "y": [
          -0.696770904360411,
          -0.7844074043423843
         ],
         "yaxis": "y"
        },
        {
         "hovertemplate": "x=%{x}<br>y=%{y}<extra></extra>",
         "legendgroup": "",
         "line": {
          "color": "grey",
          "dash": "solid"
         },
         "marker": {
          "symbol": "circle"
         },
         "mode": "lines",
         "name": "",
         "orientation": "v",
         "showlegend": false,
         "type": "scatter",
         "x": [
          0.1489620986072825,
          0.042929551172988405
         ],
         "xaxis": "x",
         "y": [
          -0.696770904360411,
          -0.7400028359405925
         ],
         "yaxis": "y"
        },
        {
         "hovertemplate": "x=%{x}<br>y=%{y}<extra></extra>",
         "legendgroup": "",
         "line": {
          "color": "grey",
          "dash": "solid"
         },
         "marker": {
          "symbol": "circle"
         },
         "mode": "lines",
         "name": "",
         "orientation": "v",
         "showlegend": false,
         "type": "scatter",
         "x": [
          0.1489620986072825,
          0.2919181256548252
         ],
         "xaxis": "x",
         "y": [
          -0.696770904360411,
          -0.7993001068583337
         ],
         "yaxis": "y"
        },
        {
         "hovertemplate": "x=%{x}<br>y=%{y}<extra></extra>",
         "legendgroup": "",
         "line": {
          "color": "grey",
          "dash": "solid"
         },
         "marker": {
          "symbol": "circle"
         },
         "mode": "lines",
         "name": "",
         "orientation": "v",
         "showlegend": false,
         "type": "scatter",
         "x": [
          0.1489620986072825,
          0.15511242721497895
         ],
         "xaxis": "x",
         "y": [
          -0.696770904360411,
          -0.8929848883688873
         ],
         "yaxis": "y"
        },
        {
         "hovertemplate": "x=%{x}<br>y=%{y}<extra></extra>",
         "legendgroup": "",
         "line": {
          "color": "grey",
          "dash": "solid"
         },
         "marker": {
          "symbol": "circle"
         },
         "mode": "lines",
         "name": "",
         "orientation": "v",
         "showlegend": false,
         "type": "scatter",
         "x": [
          0.1489620986072825,
          0.030851458847883713
         ],
         "xaxis": "x",
         "y": [
          -0.696770904360411,
          -0.817814559633162
         ],
         "yaxis": "y"
        },
        {
         "hovertemplate": "x=%{x}<br>y=%{y}<extra></extra>",
         "legendgroup": "",
         "line": {
          "color": "grey",
          "dash": "solid"
         },
         "marker": {
          "symbol": "circle"
         },
         "mode": "lines",
         "name": "",
         "orientation": "v",
         "showlegend": false,
         "type": "scatter",
         "x": [
          0.1489620986072825,
          0.23936553659437226
         ],
         "xaxis": "x",
         "y": [
          -0.696770904360411,
          -0.8727791282323818
         ],
         "yaxis": "y"
        },
        {
         "hovertemplate": "x=%{x}<br>y=%{y}<extra></extra>",
         "legendgroup": "",
         "line": {
          "color": "grey",
          "dash": "solid"
         },
         "marker": {
          "symbol": "circle"
         },
         "mode": "lines",
         "name": "",
         "orientation": "v",
         "showlegend": false,
         "type": "scatter",
         "x": [
          0.1489620986072825,
          0.08302134601475777
         ],
         "xaxis": "x",
         "y": [
          -0.696770904360411,
          -0.8773781434527996
         ],
         "yaxis": "y"
        },
        {
         "hovertemplate": "x=%{x}<br>y=%{y}<extra></extra>",
         "legendgroup": "",
         "line": {
          "color": "grey",
          "dash": "solid"
         },
         "marker": {
          "symbol": "circle"
         },
         "mode": "lines",
         "name": "",
         "orientation": "v",
         "showlegend": false,
         "type": "scatter",
         "x": [
          0.1489620986072825,
          0.1199569417410388
         ],
         "xaxis": "x",
         "y": [
          -0.696770904360411,
          -0.8797769309159739
         ],
         "yaxis": "y"
        },
        {
         "hovertemplate": "x=%{x}<br>y=%{y}<extra></extra>",
         "legendgroup": "",
         "line": {
          "color": "grey",
          "dash": "solid"
         },
         "marker": {
          "symbol": "circle"
         },
         "mode": "lines",
         "name": "",
         "orientation": "v",
         "showlegend": false,
         "type": "scatter",
         "x": [
          0.1489620986072825,
          0.08866920121287611
         ],
         "xaxis": "x",
         "y": [
          -0.696770904360411,
          -0.7672975558623527
         ],
         "yaxis": "y"
        },
        {
         "hovertemplate": "x=%{x}<br>y=%{y}<extra></extra>",
         "legendgroup": "",
         "line": {
          "color": "grey",
          "dash": "solid"
         },
         "marker": {
          "symbol": "circle"
         },
         "mode": "lines",
         "name": "",
         "orientation": "v",
         "showlegend": false,
         "type": "scatter",
         "x": [
          0.1489620986072825,
          0.21393246625623563
         ],
         "xaxis": "x",
         "y": [
          -0.696770904360411,
          -0.8375073992526697
         ],
         "yaxis": "y"
        },
        {
         "hovertemplate": "x=%{x}<br>y=%{y}<extra></extra>",
         "legendgroup": "",
         "line": {
          "color": "grey",
          "dash": "solid"
         },
         "marker": {
          "symbol": "circle"
         },
         "mode": "lines",
         "name": "",
         "orientation": "v",
         "showlegend": false,
         "type": "scatter",
         "x": [
          0.1489620986072825,
          0.03396605089933172
         ],
         "xaxis": "x",
         "y": [
          -0.696770904360411,
          -0.06377312619560842
         ],
         "yaxis": "y"
        },
        {
         "hovertemplate": "x=%{x}<br>y=%{y}<extra></extra>",
         "legendgroup": "",
         "line": {
          "color": "grey",
          "dash": "solid"
         },
         "marker": {
          "symbol": "circle"
         },
         "mode": "lines",
         "name": "",
         "orientation": "v",
         "showlegend": false,
         "type": "scatter",
         "x": [
          0.4142494397079225,
          0.44124313378592056
         ],
         "xaxis": "x",
         "y": [
          0.3738899014512832,
          0.5924512093297778
         ],
         "yaxis": "y"
        },
        {
         "hovertemplate": "x=%{x}<br>y=%{y}<extra></extra>",
         "legendgroup": "",
         "line": {
          "color": "grey",
          "dash": "solid"
         },
         "marker": {
          "symbol": "circle"
         },
         "mode": "lines",
         "name": "",
         "orientation": "v",
         "showlegend": false,
         "type": "scatter",
         "x": [
          0.4142494397079225,
          0.7087417346959893
         ],
         "xaxis": "x",
         "y": [
          0.3738899014512832,
          0.5542406483451321
         ],
         "yaxis": "y"
        },
        {
         "hovertemplate": "x=%{x}<br>y=%{y}<extra></extra>",
         "legendgroup": "",
         "line": {
          "color": "grey",
          "dash": "solid"
         },
         "marker": {
          "symbol": "circle"
         },
         "mode": "lines",
         "name": "",
         "orientation": "v",
         "showlegend": false,
         "type": "scatter",
         "x": [
          0.4142494397079225,
          0.03396605089933172
         ],
         "xaxis": "x",
         "y": [
          0.3738899014512832,
          -0.06377312619560842
         ],
         "yaxis": "y"
        },
        {
         "hovertemplate": "x=%{x}<br>y=%{y}<extra></extra>",
         "legendgroup": "",
         "line": {
          "color": "grey",
          "dash": "solid"
         },
         "marker": {
          "symbol": "circle"
         },
         "mode": "lines",
         "name": "",
         "orientation": "v",
         "showlegend": false,
         "type": "scatter",
         "x": [
          0.8247992127507888,
          0.7087417346959893
         ],
         "xaxis": "x",
         "y": [
          0.6001087568630477,
          0.5542406483451321
         ],
         "yaxis": "y"
        },
        {
         "hovertemplate": "x=%{x}<br>y=%{y}<extra></extra>",
         "legendgroup": "",
         "line": {
          "color": "grey",
          "dash": "solid"
         },
         "marker": {
          "symbol": "circle"
         },
         "mode": "lines",
         "name": "",
         "orientation": "v",
         "showlegend": false,
         "type": "scatter",
         "x": [
          0.34915582993760896,
          0.4142494397079225
         ],
         "xaxis": "x",
         "y": [
          0.440784750924164,
          0.3738899014512832
         ],
         "yaxis": "y"
        },
        {
         "hovertemplate": "x=%{x}<br>y=%{y}<extra></extra>",
         "legendgroup": "",
         "line": {
          "color": "grey",
          "dash": "solid"
         },
         "marker": {
          "symbol": "circle"
         },
         "mode": "lines",
         "name": "",
         "orientation": "v",
         "showlegend": false,
         "type": "scatter",
         "x": [
          0.4618866684842769,
          0.4142494397079225
         ],
         "xaxis": "x",
         "y": [
          0.4304001786895579,
          0.3738899014512832
         ],
         "yaxis": "y"
        },
        {
         "hovertemplate": "x=%{x}<br>y=%{y}<extra></extra>",
         "legendgroup": "",
         "line": {
          "color": "grey",
          "dash": "solid"
         },
         "marker": {
          "symbol": "circle"
         },
         "mode": "lines",
         "name": "",
         "orientation": "v",
         "showlegend": false,
         "type": "scatter",
         "x": [
          0.44876273057432003,
          0.4142494397079225
         ],
         "xaxis": "x",
         "y": [
          0.5255145575951563,
          0.3738899014512832
         ],
         "yaxis": "y"
        },
        {
         "hovertemplate": "x=%{x}<br>y=%{y}<extra></extra>",
         "legendgroup": "",
         "line": {
          "color": "grey",
          "dash": "solid"
         },
         "marker": {
          "symbol": "circle"
         },
         "mode": "lines",
         "name": "",
         "orientation": "v",
         "showlegend": false,
         "type": "scatter",
         "x": [
          0.8549152330940377,
          0.7087417346959893
         ],
         "xaxis": "x",
         "y": [
          0.5593587722432601,
          0.5542406483451321
         ],
         "yaxis": "y"
        },
        {
         "hovertemplate": "x=%{x}<br>y=%{y}<extra></extra>",
         "legendgroup": "",
         "line": {
          "color": "grey",
          "dash": "solid"
         },
         "marker": {
          "symbol": "circle"
         },
         "mode": "lines",
         "name": "",
         "orientation": "v",
         "showlegend": false,
         "type": "scatter",
         "x": [
          0.39751873036116214,
          0.4142494397079225
         ],
         "xaxis": "x",
         "y": [
          0.5120068473451065,
          0.3738899014512832
         ],
         "yaxis": "y"
        },
        {
         "hovertemplate": "x=%{x}<br>y=%{y}<extra></extra>",
         "legendgroup": "",
         "line": {
          "color": "grey",
          "dash": "solid"
         },
         "marker": {
          "symbol": "circle"
         },
         "mode": "lines",
         "name": "",
         "orientation": "v",
         "showlegend": false,
         "type": "scatter",
         "x": [
          0.35534130520106666,
          0.4142494397079225
         ],
         "xaxis": "x",
         "y": [
          0.495255801052262,
          0.3738899014512832
         ],
         "yaxis": "y"
        },
        {
         "hovertemplate": "x=%{x}<br>y=%{y}<extra></extra>",
         "legendgroup": "",
         "line": {
          "color": "grey",
          "dash": "solid"
         },
         "marker": {
          "symbol": "circle"
         },
         "mode": "lines",
         "name": "",
         "orientation": "v",
         "showlegend": false,
         "type": "scatter",
         "x": [
          0.49367616022005806,
          0.4142494397079225
         ],
         "xaxis": "x",
         "y": [
          0.3271343554850833,
          0.3738899014512832
         ],
         "yaxis": "y"
        },
        {
         "hovertemplate": "x=%{x}<br>y=%{y}<extra></extra>",
         "legendgroup": "",
         "line": {
          "color": "grey",
          "dash": "solid"
         },
         "marker": {
          "symbol": "circle"
         },
         "mode": "lines",
         "name": "",
         "orientation": "v",
         "showlegend": false,
         "type": "scatter",
         "x": [
          0.5013114043887588,
          0.4142494397079225
         ],
         "xaxis": "x",
         "y": [
          0.4625602685279571,
          0.3738899014512832
         ],
         "yaxis": "y"
        },
        {
         "hovertemplate": "x=%{x}<br>y=%{y}<extra></extra>",
         "legendgroup": "",
         "line": {
          "color": "grey",
          "dash": "solid"
         },
         "marker": {
          "symbol": "circle"
         },
         "mode": "lines",
         "name": "",
         "orientation": "v",
         "showlegend": false,
         "type": "scatter",
         "x": [
          0.5661623313066891,
          0.4142494397079225
         ],
         "xaxis": "x",
         "y": [
          0.3939518826289548,
          0.3738899014512832
         ],
         "yaxis": "y"
        },
        {
         "hovertemplate": "x=%{x}<br>y=%{y}<extra></extra>",
         "legendgroup": "",
         "line": {
          "color": "grey",
          "dash": "solid"
         },
         "marker": {
          "symbol": "circle"
         },
         "mode": "lines",
         "name": "",
         "orientation": "v",
         "showlegend": false,
         "type": "scatter",
         "x": [
          0.49193496437924095,
          0.4142494397079225
         ],
         "xaxis": "x",
         "y": [
          0.5101913144136954,
          0.3738899014512832
         ],
         "yaxis": "y"
        },
        {
         "hovertemplate": "x=%{x}<br>y=%{y}<extra></extra>",
         "legendgroup": "",
         "line": {
          "color": "grey",
          "dash": "solid"
         },
         "marker": {
          "symbol": "circle"
         },
         "mode": "lines",
         "name": "",
         "orientation": "v",
         "showlegend": false,
         "type": "scatter",
         "x": [
          0.4677485038706554,
          0.44124313378592056
         ],
         "xaxis": "x",
         "y": [
          0.7404329372123041,
          0.5924512093297778
         ],
         "yaxis": "y"
        },
        {
         "hovertemplate": "x=%{x}<br>y=%{y}<extra></extra>",
         "legendgroup": "",
         "line": {
          "color": "grey",
          "dash": "solid"
         },
         "marker": {
          "symbol": "circle"
         },
         "mode": "lines",
         "name": "",
         "orientation": "v",
         "showlegend": false,
         "type": "scatter",
         "x": [
          0.8549901335622488,
          0.7087417346959893
         ],
         "xaxis": "x",
         "y": [
          0.6269543820235225,
          0.5542406483451321
         ],
         "yaxis": "y"
        },
        {
         "hovertemplate": "x=%{x}<br>y=%{y}<extra></extra>",
         "legendgroup": "",
         "line": {
          "color": "grey",
          "dash": "solid"
         },
         "marker": {
          "symbol": "circle"
         },
         "mode": "lines",
         "name": "",
         "orientation": "v",
         "showlegend": false,
         "type": "scatter",
         "x": [
          0.7792320792294263,
          0.7087417346959893
         ],
         "xaxis": "x",
         "y": [
          0.6842939338447678,
          0.5542406483451321
         ],
         "yaxis": "y"
        },
        {
         "hovertemplate": "x=%{x}<br>y=%{y}<extra></extra>",
         "legendgroup": "",
         "line": {
          "color": "grey",
          "dash": "solid"
         },
         "marker": {
          "symbol": "circle"
         },
         "mode": "lines",
         "name": "",
         "orientation": "v",
         "showlegend": false,
         "type": "scatter",
         "x": [
          0.5353569172417765,
          0.4142494397079225
         ],
         "xaxis": "x",
         "y": [
          0.4883091305785794,
          0.3738899014512832
         ],
         "yaxis": "y"
        },
        {
         "hovertemplate": "x=%{x}<br>y=%{y}<extra></extra>",
         "legendgroup": "",
         "line": {
          "color": "grey",
          "dash": "solid"
         },
         "marker": {
          "symbol": "circle"
         },
         "mode": "lines",
         "name": "",
         "orientation": "v",
         "showlegend": false,
         "type": "scatter",
         "x": [
          0.5439216433321935,
          0.4142494397079225
         ],
         "xaxis": "x",
         "y": [
          0.3479722890061877,
          0.3738899014512832
         ],
         "yaxis": "y"
        },
        {
         "hovertemplate": "x=%{x}<br>y=%{y}<extra></extra>",
         "legendgroup": "",
         "line": {
          "color": "grey",
          "dash": "solid"
         },
         "marker": {
          "symbol": "circle"
         },
         "mode": "lines",
         "name": "",
         "orientation": "v",
         "showlegend": false,
         "type": "scatter",
         "x": [
          0.42556497252055575,
          0.4142494397079225
         ],
         "xaxis": "x",
         "y": [
          0.47413948633135905,
          0.3738899014512832
         ],
         "yaxis": "y"
        },
        {
         "hovertemplate": "x=%{x}<br>y=%{y}<extra></extra>",
         "legendgroup": "",
         "line": {
          "color": "grey",
          "dash": "solid"
         },
         "marker": {
          "symbol": "circle"
         },
         "mode": "lines",
         "name": "",
         "orientation": "v",
         "showlegend": false,
         "type": "scatter",
         "x": [
          0.11094392817420765,
          0.03396605089933172
         ],
         "xaxis": "x",
         "y": [
          -0.07489574674808369,
          -0.06377312619560842
         ],
         "yaxis": "y"
        },
        {
         "hovertemplate": "x=%{x}<br>y=%{y}<extra></extra>",
         "legendgroup": "",
         "line": {
          "color": "grey",
          "dash": "solid"
         },
         "marker": {
          "symbol": "circle"
         },
         "mode": "lines",
         "name": "",
         "orientation": "v",
         "showlegend": false,
         "type": "scatter",
         "x": [
          0.8180340803528767,
          0.7087417346959893
         ],
         "xaxis": "x",
         "y": [
          0.6616389141663639,
          0.5542406483451321
         ],
         "yaxis": "y"
        },
        {
         "hovertemplate": "x=%{x}<br>y=%{y}<extra></extra>",
         "legendgroup": "",
         "line": {
          "color": "grey",
          "dash": "solid"
         },
         "marker": {
          "symbol": "circle"
         },
         "mode": "lines",
         "name": "",
         "orientation": "v",
         "showlegend": false,
         "type": "scatter",
         "x": [
          0.5162325453173154,
          0.4142494397079225
         ],
         "xaxis": "x",
         "y": [
          0.397574249224388,
          0.3738899014512832
         ],
         "yaxis": "y"
        },
        {
         "hovertemplate": "x=%{x}<br>y=%{y}<extra></extra>",
         "legendgroup": "",
         "line": {
          "color": "grey",
          "dash": "solid"
         },
         "marker": {
          "symbol": "circle"
         },
         "mode": "lines",
         "name": "",
         "orientation": "v",
         "showlegend": false,
         "type": "scatter",
         "x": [
          0.5543970462682846,
          0.4142494397079225
         ],
         "xaxis": "x",
         "y": [
          0.4411324309136522,
          0.3738899014512832
         ],
         "yaxis": "y"
        },
        {
         "hovertemplate": "x=%{x}<br>y=%{y}<extra></extra>",
         "legendgroup": "",
         "line": {
          "color": "grey",
          "dash": "solid"
         },
         "marker": {
          "symbol": "circle"
         },
         "mode": "lines",
         "name": "",
         "orientation": "v",
         "showlegend": false,
         "type": "scatter",
         "x": [
          -0.4239632810988082,
          -0.5627675358572214
         ],
         "xaxis": "x",
         "y": [
          -0.07557563580441673,
          -0.20383932079242326
         ],
         "yaxis": "y"
        },
        {
         "hovertemplate": "x=%{x}<br>y=%{y}<extra></extra>",
         "legendgroup": "",
         "line": {
          "color": "grey",
          "dash": "solid"
         },
         "marker": {
          "symbol": "circle"
         },
         "mode": "lines",
         "name": "",
         "orientation": "v",
         "showlegend": false,
         "type": "scatter",
         "x": [
          -0.4239632810988082,
          -0.8232148074048894
         ],
         "xaxis": "x",
         "y": [
          -0.07557563580441673,
          -0.03171931377083284
         ],
         "yaxis": "y"
        },
        {
         "hovertemplate": "x=%{x}<br>y=%{y}<extra></extra>",
         "legendgroup": "",
         "line": {
          "color": "grey",
          "dash": "solid"
         },
         "marker": {
          "symbol": "circle"
         },
         "mode": "lines",
         "name": "",
         "orientation": "v",
         "showlegend": false,
         "type": "scatter",
         "x": [
          -0.4239632810988082,
          0.03396605089933172
         ],
         "xaxis": "x",
         "y": [
          -0.07557563580441673,
          -0.06377312619560842
         ],
         "yaxis": "y"
        },
        {
         "hovertemplate": "x=%{x}<br>y=%{y}<extra></extra>",
         "legendgroup": "",
         "line": {
          "color": "grey",
          "dash": "solid"
         },
         "marker": {
          "symbol": "circle"
         },
         "mode": "lines",
         "name": "",
         "orientation": "v",
         "showlegend": false,
         "type": "scatter",
         "x": [
          -0.9778964827705993,
          -0.8232148074048894
         ],
         "xaxis": "x",
         "y": [
          -0.001703908099611298,
          -0.03171931377083284
         ],
         "yaxis": "y"
        },
        {
         "hovertemplate": "x=%{x}<br>y=%{y}<extra></extra>",
         "legendgroup": "",
         "line": {
          "color": "grey",
          "dash": "solid"
         },
         "marker": {
          "symbol": "circle"
         },
         "mode": "lines",
         "name": "",
         "orientation": "v",
         "showlegend": false,
         "type": "scatter",
         "x": [
          -0.994097613642788,
          -0.8232148074048894
         ],
         "xaxis": "x",
         "y": [
          -0.04136604145774576,
          -0.03171931377083284
         ],
         "yaxis": "y"
        },
        {
         "hovertemplate": "x=%{x}<br>y=%{y}<extra></extra>",
         "legendgroup": "",
         "line": {
          "color": "grey",
          "dash": "solid"
         },
         "marker": {
          "symbol": "circle"
         },
         "mode": "lines",
         "name": "",
         "orientation": "v",
         "showlegend": false,
         "type": "scatter",
         "x": [
          -0.9304547481975252,
          -0.8232148074048894
         ],
         "xaxis": "x",
         "y": [
          0.04904796255789608,
          -0.03171931377083284
         ],
         "yaxis": "y"
        },
        {
         "hovertemplate": "x=%{x}<br>y=%{y}<extra></extra>",
         "legendgroup": "",
         "line": {
          "color": "grey",
          "dash": "solid"
         },
         "marker": {
          "symbol": "circle"
         },
         "mode": "lines",
         "name": "",
         "orientation": "v",
         "showlegend": false,
         "type": "scatter",
         "x": [
          -0.9707468976591136,
          -0.8232148074048894
         ],
         "xaxis": "x",
         "y": [
          0.03684233668312812,
          -0.03171931377083284
         ],
         "yaxis": "y"
        },
        {
         "hovertemplate": "x=%{x}<br>y=%{y}<extra></extra>",
         "legendgroup": "",
         "line": {
          "color": "grey",
          "dash": "solid"
         },
         "marker": {
          "symbol": "circle"
         },
         "mode": "lines",
         "name": "",
         "orientation": "v",
         "showlegend": false,
         "type": "scatter",
         "x": [
          -0.9445011811294656,
          -0.8232148074048894
         ],
         "xaxis": "x",
         "y": [
          -0.04059135777206464,
          -0.03171931377083284
         ],
         "yaxis": "y"
        },
        {
         "hovertemplate": "x=%{x}<br>y=%{y}<extra></extra>",
         "legendgroup": "",
         "line": {
          "color": "grey",
          "dash": "solid"
         },
         "marker": {
          "symbol": "circle"
         },
         "mode": "lines",
         "name": "",
         "orientation": "v",
         "showlegend": false,
         "type": "scatter",
         "x": [
          -0.5266632347034811,
          -0.4239632810988082
         ],
         "xaxis": "x",
         "y": [
          -0.07021869559935116,
          -0.07557563580441673
         ],
         "yaxis": "y"
        },
        {
         "hovertemplate": "x=%{x}<br>y=%{y}<extra></extra>",
         "legendgroup": "",
         "line": {
          "color": "grey",
          "dash": "solid"
         },
         "marker": {
          "symbol": "circle"
         },
         "mode": "lines",
         "name": "",
         "orientation": "v",
         "showlegend": false,
         "type": "scatter",
         "x": [
          -0.6676081439958717,
          -0.5627675358572214
         ],
         "xaxis": "x",
         "y": [
          -0.3063651581465584,
          -0.20383932079242326
         ],
         "yaxis": "y"
        },
        {
         "hovertemplate": "x=%{x}<br>y=%{y}<extra></extra>",
         "legendgroup": "",
         "line": {
          "color": "grey",
          "dash": "solid"
         },
         "marker": {
          "symbol": "circle"
         },
         "mode": "lines",
         "name": "",
         "orientation": "v",
         "showlegend": false,
         "type": "scatter",
         "x": [
          -0.9771802696434619,
          -0.8232148074048894
         ],
         "xaxis": "x",
         "y": [
          -0.0847270708877268,
          -0.03171931377083284
         ],
         "yaxis": "y"
        },
        {
         "hovertemplate": "x=%{x}<br>y=%{y}<extra></extra>",
         "legendgroup": "",
         "line": {
          "color": "grey",
          "dash": "solid"
         },
         "marker": {
          "symbol": "circle"
         },
         "mode": "lines",
         "name": "",
         "orientation": "v",
         "showlegend": false,
         "type": "scatter",
         "x": [
          -0.946824164134796,
          -0.8232148074048894
         ],
         "xaxis": "x",
         "y": [
          -0.11596669375099845,
          -0.03171931377083284
         ],
         "yaxis": "y"
        },
        {
         "hovertemplate": "x=%{x}<br>y=%{y}<extra></extra>",
         "legendgroup": "",
         "line": {
          "color": "grey",
          "dash": "solid"
         },
         "marker": {
          "symbol": "circle"
         },
         "mode": "lines",
         "name": "",
         "orientation": "v",
         "showlegend": false,
         "type": "scatter",
         "x": [
          -0.17077123305960204,
          -0.2681453383624667
         ],
         "xaxis": "x",
         "y": [
          0.3677096485621801,
          0.41221151093962866
         ],
         "yaxis": "y"
        },
        {
         "hovertemplate": "x=%{x}<br>y=%{y}<extra></extra>",
         "legendgroup": "",
         "line": {
          "color": "grey",
          "dash": "solid"
         },
         "marker": {
          "symbol": "circle"
         },
         "mode": "lines",
         "name": "",
         "orientation": "v",
         "showlegend": false,
         "type": "scatter",
         "x": [
          -0.17077123305960204,
          -0.2952948047304851
         ],
         "xaxis": "x",
         "y": [
          0.3677096485621801,
          0.5012958049686245
         ],
         "yaxis": "y"
        },
        {
         "hovertemplate": "x=%{x}<br>y=%{y}<extra></extra>",
         "legendgroup": "",
         "line": {
          "color": "grey",
          "dash": "solid"
         },
         "marker": {
          "symbol": "circle"
         },
         "mode": "lines",
         "name": "",
         "orientation": "v",
         "showlegend": false,
         "type": "scatter",
         "x": [
          -0.17077123305960204,
          -0.3134365387056926
         ],
         "xaxis": "x",
         "y": [
          0.3677096485621801,
          0.7832291699924109
         ],
         "yaxis": "y"
        },
        {
         "hovertemplate": "x=%{x}<br>y=%{y}<extra></extra>",
         "legendgroup": "",
         "line": {
          "color": "grey",
          "dash": "solid"
         },
         "marker": {
          "symbol": "circle"
         },
         "mode": "lines",
         "name": "",
         "orientation": "v",
         "showlegend": false,
         "type": "scatter",
         "x": [
          -0.17077123305960204,
          0.03396605089933172
         ],
         "xaxis": "x",
         "y": [
          0.3677096485621801,
          -0.06377312619560842
         ],
         "yaxis": "y"
        },
        {
         "hovertemplate": "x=%{x}<br>y=%{y}<extra></extra>",
         "legendgroup": "",
         "line": {
          "color": "grey",
          "dash": "solid"
         },
         "marker": {
          "symbol": "circle"
         },
         "mode": "lines",
         "name": "",
         "orientation": "v",
         "showlegend": false,
         "type": "scatter",
         "x": [
          -0.3785877414616653,
          -0.3134365387056926
         ],
         "xaxis": "x",
         "y": [
          0.8750898911027012,
          0.7832291699924109
         ],
         "yaxis": "y"
        },
        {
         "hovertemplate": "x=%{x}<br>y=%{y}<extra></extra>",
         "legendgroup": "",
         "line": {
          "color": "grey",
          "dash": "solid"
         },
         "marker": {
          "symbol": "circle"
         },
         "mode": "lines",
         "name": "",
         "orientation": "v",
         "showlegend": false,
         "type": "scatter",
         "x": [
          -0.37985709958785707,
          -0.3134365387056926
         ],
         "xaxis": "x",
         "y": [
          0.9416264392645467,
          0.7832291699924109
         ],
         "yaxis": "y"
        },
        {
         "hovertemplate": "x=%{x}<br>y=%{y}<extra></extra>",
         "legendgroup": "",
         "line": {
          "color": "grey",
          "dash": "solid"
         },
         "marker": {
          "symbol": "circle"
         },
         "mode": "lines",
         "name": "",
         "orientation": "v",
         "showlegend": false,
         "type": "scatter",
         "x": [
          -0.44043247653991235,
          -0.3134365387056926
         ],
         "xaxis": "x",
         "y": [
          0.8744727989175953,
          0.7832291699924109
         ],
         "yaxis": "y"
        },
        {
         "hovertemplate": "x=%{x}<br>y=%{y}<extra></extra>",
         "legendgroup": "",
         "line": {
          "color": "grey",
          "dash": "solid"
         },
         "marker": {
          "symbol": "circle"
         },
         "mode": "lines",
         "name": "",
         "orientation": "v",
         "showlegend": false,
         "type": "scatter",
         "x": [
          -0.2446655053223935,
          -0.3134365387056926
         ],
         "xaxis": "x",
         "y": [
          0.9035650465992092,
          0.7832291699924109
         ],
         "yaxis": "y"
        },
        {
         "hovertemplate": "x=%{x}<br>y=%{y}<extra></extra>",
         "legendgroup": "",
         "line": {
          "color": "grey",
          "dash": "solid"
         },
         "marker": {
          "symbol": "circle"
         },
         "mode": "lines",
         "name": "",
         "orientation": "v",
         "showlegend": false,
         "type": "scatter",
         "x": [
          -0.42716252609042943,
          -0.3134365387056926
         ],
         "xaxis": "x",
         "y": [
          0.8326190753139192,
          0.7832291699924109
         ],
         "yaxis": "y"
        },
        {
         "hovertemplate": "x=%{x}<br>y=%{y}<extra></extra>",
         "legendgroup": "",
         "line": {
          "color": "grey",
          "dash": "solid"
         },
         "marker": {
          "symbol": "circle"
         },
         "mode": "lines",
         "name": "",
         "orientation": "v",
         "showlegend": false,
         "type": "scatter",
         "x": [
          -0.27965245240364645,
          -0.3134365387056926
         ],
         "xaxis": "x",
         "y": [
          0.9439621223873395,
          0.7832291699924109
         ],
         "yaxis": "y"
        },
        {
         "hovertemplate": "x=%{x}<br>y=%{y}<extra></extra>",
         "legendgroup": "",
         "line": {
          "color": "grey",
          "dash": "solid"
         },
         "marker": {
          "symbol": "circle"
         },
         "mode": "lines",
         "name": "",
         "orientation": "v",
         "showlegend": false,
         "type": "scatter",
         "x": [
          -0.3431204958266412,
          -0.3134365387056926
         ],
         "xaxis": "x",
         "y": [
          0.9103888416024316,
          0.7832291699924109
         ],
         "yaxis": "y"
        },
        {
         "hovertemplate": "x=%{x}<br>y=%{y}<extra></extra>",
         "legendgroup": "",
         "line": {
          "color": "grey",
          "dash": "solid"
         },
         "marker": {
          "symbol": "circle"
         },
         "mode": "lines",
         "name": "",
         "orientation": "v",
         "showlegend": false,
         "type": "scatter",
         "x": [
          -0.32866849146344623,
          -0.3134365387056926
         ],
         "xaxis": "x",
         "y": [
          0.9540307341431734,
          0.7832291699924109
         ],
         "yaxis": "y"
        },
        {
         "hovertemplate": "x=%{x}<br>y=%{y}<extra></extra>",
         "legendgroup": "",
         "line": {
          "color": "grey",
          "dash": "solid"
         },
         "marker": {
          "symbol": "circle"
         },
         "mode": "lines",
         "name": "",
         "orientation": "v",
         "showlegend": false,
         "type": "scatter",
         "x": [
          -0.37186494307507106,
          -0.2952948047304851
         ],
         "xaxis": "x",
         "y": [
          0.6011756109850999,
          0.5012958049686245
         ],
         "yaxis": "y"
        },
        {
         "hovertemplate": "x=%{x}<br>y=%{y}<extra></extra>",
         "legendgroup": "",
         "line": {
          "color": "grey",
          "dash": "solid"
         },
         "marker": {
          "symbol": "circle"
         },
         "mode": "lines",
         "name": "",
         "orientation": "v",
         "showlegend": false,
         "type": "scatter",
         "x": [
          -0.294616283344239,
          -0.3134365387056926
         ],
         "xaxis": "x",
         "y": [
          0.8949496410618349,
          0.7832291699924109
         ],
         "yaxis": "y"
        },
        {
         "hovertemplate": "x=%{x}<br>y=%{y}<extra></extra>",
         "legendgroup": "",
         "line": {
          "color": "grey",
          "dash": "solid"
         },
         "marker": {
          "symbol": "circle"
         },
         "mode": "lines",
         "name": "",
         "orientation": "v",
         "showlegend": false,
         "type": "scatter",
         "x": [
          -0.415244409868483,
          -0.3134365387056926
         ],
         "xaxis": "x",
         "y": [
          0.9125845005312573,
          0.7832291699924109
         ],
         "yaxis": "y"
        },
        {
         "hovertemplate": "x=%{x}<br>y=%{y}<extra></extra>",
         "legendgroup": "",
         "line": {
          "color": "grey",
          "dash": "solid"
         },
         "marker": {
          "symbol": "circle"
         },
         "mode": "lines",
         "name": "",
         "orientation": "v",
         "showlegend": false,
         "type": "scatter",
         "x": [
          -0.36081083675925624,
          -0.1935296210663241
         ],
         "xaxis": "x",
         "y": [
          0.1567539016514115,
          0.39988470497861006
         ],
         "yaxis": "y"
        },
        {
         "hovertemplate": "x=%{x}<br>y=%{y}<extra></extra>",
         "legendgroup": "",
         "line": {
          "color": "grey",
          "dash": "solid"
         },
         "marker": {
          "symbol": "circle"
         },
         "mode": "lines",
         "name": "",
         "orientation": "v",
         "showlegend": false,
         "type": "scatter",
         "x": [
          -0.36081083675925624,
          -0.690013803644419
         ],
         "xaxis": "x",
         "y": [
          0.1567539016514115,
          0.3662545559743679
         ],
         "yaxis": "y"
        },
        {
         "hovertemplate": "x=%{x}<br>y=%{y}<extra></extra>",
         "legendgroup": "",
         "line": {
          "color": "grey",
          "dash": "solid"
         },
         "marker": {
          "symbol": "circle"
         },
         "mode": "lines",
         "name": "",
         "orientation": "v",
         "showlegend": false,
         "type": "scatter",
         "x": [
          -0.36081083675925624,
          -0.6235570773507804
         ],
         "xaxis": "x",
         "y": [
          0.1567539016514115,
          -0.04286181059218251
         ],
         "yaxis": "y"
        },
        {
         "hovertemplate": "x=%{x}<br>y=%{y}<extra></extra>",
         "legendgroup": "",
         "line": {
          "color": "grey",
          "dash": "solid"
         },
         "marker": {
          "symbol": "circle"
         },
         "mode": "lines",
         "name": "",
         "orientation": "v",
         "showlegend": false,
         "type": "scatter",
         "x": [
          -0.36081083675925624,
          0.03396605089933172
         ],
         "xaxis": "x",
         "y": [
          0.1567539016514115,
          -0.06377312619560842
         ],
         "yaxis": "y"
        },
        {
         "hovertemplate": "x=%{x}<br>y=%{y}<extra></extra>",
         "legendgroup": "",
         "line": {
          "color": "grey",
          "dash": "solid"
         },
         "marker": {
          "symbol": "circle"
         },
         "mode": "lines",
         "name": "",
         "orientation": "v",
         "showlegend": false,
         "type": "scatter",
         "x": [
          -0.08970640522575118,
          -0.1935296210663241
         ],
         "xaxis": "x",
         "y": [
          0.485879790732879,
          0.39988470497861006
         ],
         "yaxis": "y"
        },
        {
         "hovertemplate": "x=%{x}<br>y=%{y}<extra></extra>",
         "legendgroup": "",
         "line": {
          "color": "grey",
          "dash": "solid"
         },
         "marker": {
          "symbol": "circle"
         },
         "mode": "lines",
         "name": "",
         "orientation": "v",
         "showlegend": false,
         "type": "scatter",
         "x": [
          -0.12582175475012505,
          -0.1935296210663241
         ],
         "xaxis": "x",
         "y": [
          0.5141567495002567,
          0.39988470497861006
         ],
         "yaxis": "y"
        },
        {
         "hovertemplate": "x=%{x}<br>y=%{y}<extra></extra>",
         "legendgroup": "",
         "line": {
          "color": "grey",
          "dash": "solid"
         },
         "marker": {
          "symbol": "circle"
         },
         "mode": "lines",
         "name": "",
         "orientation": "v",
         "showlegend": false,
         "type": "scatter",
         "x": [
          -0.09447908247248368,
          -0.1935296210663241
         ],
         "xaxis": "x",
         "y": [
          0.4235374477695477,
          0.39988470497861006
         ],
         "yaxis": "y"
        },
        {
         "hovertemplate": "x=%{x}<br>y=%{y}<extra></extra>",
         "legendgroup": "",
         "line": {
          "color": "grey",
          "dash": "solid"
         },
         "marker": {
          "symbol": "circle"
         },
         "mode": "lines",
         "name": "",
         "orientation": "v",
         "showlegend": false,
         "type": "scatter",
         "x": [
          -0.1326480085878116,
          -0.1935296210663241
         ],
         "xaxis": "x",
         "y": [
          0.45197061286163587,
          0.39988470497861006
         ],
         "yaxis": "y"
        },
        {
         "hovertemplate": "x=%{x}<br>y=%{y}<extra></extra>",
         "legendgroup": "",
         "line": {
          "color": "grey",
          "dash": "solid"
         },
         "marker": {
          "symbol": "circle"
         },
         "mode": "lines",
         "name": "",
         "orientation": "v",
         "showlegend": false,
         "type": "scatter",
         "x": [
          -0.16316838323855132,
          -0.1935296210663241
         ],
         "xaxis": "x",
         "y": [
          0.5324158328492308,
          0.39988470497861006
         ],
         "yaxis": "y"
        },
        {
         "hovertemplate": "x=%{x}<br>y=%{y}<extra></extra>",
         "legendgroup": "",
         "line": {
          "color": "grey",
          "dash": "solid"
         },
         "marker": {
          "symbol": "circle"
         },
         "mode": "lines",
         "name": "",
         "orientation": "v",
         "showlegend": false,
         "type": "scatter",
         "x": [
          -0.20886784597852728,
          -0.1935296210663241
         ],
         "xaxis": "x",
         "y": [
          0.5297844392755848,
          0.39988470497861006
         ],
         "yaxis": "y"
        },
        {
         "hovertemplate": "x=%{x}<br>y=%{y}<extra></extra>",
         "legendgroup": "",
         "line": {
          "color": "grey",
          "dash": "solid"
         },
         "marker": {
          "symbol": "circle"
         },
         "mode": "lines",
         "name": "",
         "orientation": "v",
         "showlegend": false,
         "type": "scatter",
         "x": [
          -0.24429984287266288,
          -0.1935296210663241
         ],
         "xaxis": "x",
         "y": [
          0.49661861109185607,
          0.39988470497861006
         ],
         "yaxis": "y"
        },
        {
         "hovertemplate": "x=%{x}<br>y=%{y}<extra></extra>",
         "legendgroup": "",
         "line": {
          "color": "grey",
          "dash": "solid"
         },
         "marker": {
          "symbol": "circle"
         },
         "mode": "lines",
         "name": "",
         "orientation": "v",
         "showlegend": false,
         "type": "scatter",
         "x": [
          -0.8014042911348629,
          -0.690013803644419
         ],
         "xaxis": "x",
         "y": [
          0.4190430268353264,
          0.3662545559743679
         ],
         "yaxis": "y"
        },
        {
         "hovertemplate": "x=%{x}<br>y=%{y}<extra></extra>",
         "legendgroup": "",
         "line": {
          "color": "grey",
          "dash": "solid"
         },
         "marker": {
          "symbol": "circle"
         },
         "mode": "lines",
         "name": "",
         "orientation": "v",
         "showlegend": false,
         "type": "scatter",
         "x": [
          -0.7653012853994794,
          -0.690013803644419
         ],
         "xaxis": "x",
         "y": [
          0.4534118728388325,
          0.3662545559743679
         ],
         "yaxis": "y"
        },
        {
         "hovertemplate": "x=%{x}<br>y=%{y}<extra></extra>",
         "legendgroup": "",
         "line": {
          "color": "grey",
          "dash": "solid"
         },
         "marker": {
          "symbol": "circle"
         },
         "mode": "lines",
         "name": "",
         "orientation": "v",
         "showlegend": false,
         "type": "scatter",
         "x": [
          -0.7803243420001449,
          -0.690013803644419
         ],
         "xaxis": "x",
         "y": [
          0.4979567245733895,
          0.3662545559743679
         ],
         "yaxis": "y"
        },
        {
         "hovertemplate": "x=%{x}<br>y=%{y}<extra></extra>",
         "legendgroup": "",
         "line": {
          "color": "grey",
          "dash": "solid"
         },
         "marker": {
          "symbol": "circle"
         },
         "mode": "lines",
         "name": "",
         "orientation": "v",
         "showlegend": false,
         "type": "scatter",
         "x": [
          -0.8484134021681928,
          -0.690013803644419
         ],
         "xaxis": "x",
         "y": [
          0.4229536209748263,
          0.3662545559743679
         ],
         "yaxis": "y"
        },
        {
         "hovertemplate": "x=%{x}<br>y=%{y}<extra></extra>",
         "legendgroup": "",
         "line": {
          "color": "grey",
          "dash": "solid"
         },
         "marker": {
          "symbol": "circle"
         },
         "mode": "lines",
         "name": "",
         "orientation": "v",
         "showlegend": false,
         "type": "scatter",
         "x": [
          -0.8078221212485156,
          -0.690013803644419
         ],
         "xaxis": "x",
         "y": [
          0.34823063856751774,
          0.3662545559743679
         ],
         "yaxis": "y"
        },
        {
         "hovertemplate": "x=%{x}<br>y=%{y}<extra></extra>",
         "legendgroup": "",
         "line": {
          "color": "grey",
          "dash": "solid"
         },
         "marker": {
          "symbol": "circle"
         },
         "mode": "lines",
         "name": "",
         "orientation": "v",
         "showlegend": false,
         "type": "scatter",
         "x": [
          -0.7262063208075034,
          -0.690013803644419
         ],
         "xaxis": "x",
         "y": [
          0.4896246906484682,
          0.3662545559743679
         ],
         "yaxis": "y"
        },
        {
         "hovertemplate": "x=%{x}<br>y=%{y}<extra></extra>",
         "legendgroup": "",
         "line": {
          "color": "grey",
          "dash": "solid"
         },
         "marker": {
          "symbol": "circle"
         },
         "mode": "lines",
         "name": "",
         "orientation": "v",
         "showlegend": false,
         "type": "scatter",
         "x": [
          -0.8224746996463408,
          -0.690013803644419
         ],
         "xaxis": "x",
         "y": [
          0.4680268581987407,
          0.3662545559743679
         ],
         "yaxis": "y"
        },
        {
         "hovertemplate": "x=%{x}<br>y=%{y}<extra></extra>",
         "legendgroup": "",
         "line": {
          "color": "grey",
          "dash": "solid"
         },
         "marker": {
          "symbol": "circle"
         },
         "mode": "lines",
         "name": "",
         "orientation": "v",
         "showlegend": false,
         "type": "scatter",
         "x": [
          -0.8349261422033081,
          -0.690013803644419
         ],
         "xaxis": "x",
         "y": [
          0.376649092132008,
          0.3662545559743679
         ],
         "yaxis": "y"
        },
        {
         "hovertemplate": "x=%{x}<br>y=%{y}<extra></extra>",
         "legendgroup": "",
         "line": {
          "color": "grey",
          "dash": "solid"
         },
         "marker": {
          "symbol": "circle"
         },
         "mode": "lines",
         "name": "",
         "orientation": "v",
         "showlegend": false,
         "type": "scatter",
         "x": [
          -0.7269585787737145,
          -0.6235570773507804
         ],
         "xaxis": "x",
         "y": [
          -0.1606055840762962,
          -0.04286181059218251
         ],
         "yaxis": "y"
        },
        {
         "hovertemplate": "x=%{x}<br>y=%{y}<extra></extra>",
         "legendgroup": "",
         "line": {
          "color": "grey",
          "dash": "solid"
         },
         "marker": {
          "symbol": "circle"
         },
         "mode": "lines",
         "name": "",
         "orientation": "v",
         "showlegend": false,
         "type": "scatter",
         "x": [
          -0.7129938151296363,
          -0.6235570773507804
         ],
         "xaxis": "x",
         "y": [
          -0.10963285153261804,
          -0.04286181059218251
         ],
         "yaxis": "y"
        },
        {
         "hovertemplate": "x=%{x}<br>y=%{y}<extra></extra>",
         "legendgroup": "",
         "line": {
          "color": "grey",
          "dash": "solid"
         },
         "marker": {
          "symbol": "circle"
         },
         "mode": "lines",
         "name": "",
         "orientation": "v",
         "showlegend": false,
         "type": "scatter",
         "x": [
          -0.7312392140919776,
          -0.6235570773507804
         ],
         "xaxis": "x",
         "y": [
          -0.013124425290471779,
          -0.04286181059218251
         ],
         "yaxis": "y"
        },
        {
         "hovertemplate": "x=%{x}<br>y=%{y}<extra></extra>",
         "legendgroup": "",
         "line": {
          "color": "grey",
          "dash": "solid"
         },
         "marker": {
          "symbol": "circle"
         },
         "mode": "lines",
         "name": "",
         "orientation": "v",
         "showlegend": false,
         "type": "scatter",
         "x": [
          -0.7508590652892879,
          -0.6235570773507804
         ],
         "xaxis": "x",
         "y": [
          -0.061797535591250605,
          -0.04286181059218251
         ],
         "yaxis": "y"
        },
        {
         "hovertemplate": "x=%{x}<br>y=%{y}<extra></extra>",
         "legendgroup": "",
         "line": {
          "color": "grey",
          "dash": "solid"
         },
         "marker": {
          "symbol": "circle"
         },
         "mode": "lines",
         "name": "",
         "orientation": "v",
         "showlegend": false,
         "type": "scatter",
         "x": [
          -0.761224830057513,
          -0.6235570773507804
         ],
         "xaxis": "x",
         "y": [
          -0.11347473519208257,
          -0.04286181059218251
         ],
         "yaxis": "y"
        },
        {
         "hovertemplate": "x=%{x}<br>y=%{y}<extra></extra>",
         "legendgroup": "",
         "line": {
          "color": "grey",
          "dash": "solid"
         },
         "marker": {
          "symbol": "circle"
         },
         "mode": "lines",
         "name": "",
         "orientation": "v",
         "showlegend": false,
         "type": "scatter",
         "x": [
          -0.678166081577126,
          -0.6235570773507804
         ],
         "xaxis": "x",
         "y": [
          -0.16986347100467572,
          -0.04286181059218251
         ],
         "yaxis": "y"
        },
        {
         "hovertemplate": "x=%{x}<br>y=%{y}<extra></extra>",
         "legendgroup": "",
         "line": {
          "color": "grey",
          "dash": "solid"
         },
         "marker": {
          "symbol": "circle"
         },
         "mode": "lines",
         "name": "",
         "orientation": "v",
         "showlegend": false,
         "type": "scatter",
         "x": [
          -0.4483616562056767,
          -0.36081083675925624
         ],
         "xaxis": "x",
         "y": [
          0.22541880776241074,
          0.1567539016514115
         ],
         "yaxis": "y"
        },
        {
         "hovertemplate": "x=%{x}<br>y=%{y}<extra></extra>",
         "legendgroup": "",
         "line": {
          "color": "grey",
          "dash": "solid"
         },
         "marker": {
          "symbol": "circle"
         },
         "mode": "lines",
         "name": "",
         "orientation": "v",
         "showlegend": false,
         "type": "scatter",
         "x": [
          -0.08764454198469986,
          -0.05187316775767977
         ],
         "xaxis": "x",
         "y": [
          -0.3491202528683945,
          -0.42604635269222535
         ],
         "yaxis": "y"
        },
        {
         "hovertemplate": "x=%{x}<br>y=%{y}<extra></extra>",
         "legendgroup": "",
         "line": {
          "color": "grey",
          "dash": "solid"
         },
         "marker": {
          "symbol": "circle"
         },
         "mode": "lines",
         "name": "",
         "orientation": "v",
         "showlegend": false,
         "type": "scatter",
         "x": [
          -0.08764454198469986,
          -0.12976196097091924
         ],
         "xaxis": "x",
         "y": [
          -0.3491202528683945,
          -0.43344425393367164
         ],
         "yaxis": "y"
        },
        {
         "hovertemplate": "x=%{x}<br>y=%{y}<extra></extra>",
         "legendgroup": "",
         "line": {
          "color": "grey",
          "dash": "solid"
         },
         "marker": {
          "symbol": "circle"
         },
         "mode": "lines",
         "name": "",
         "orientation": "v",
         "showlegend": false,
         "type": "scatter",
         "x": [
          -0.08764454198469986,
          -0.04638755445005289
         ],
         "xaxis": "x",
         "y": [
          -0.3491202528683945,
          -0.5182502632545328
         ],
         "yaxis": "y"
        },
        {
         "hovertemplate": "x=%{x}<br>y=%{y}<extra></extra>",
         "legendgroup": "",
         "line": {
          "color": "grey",
          "dash": "solid"
         },
         "marker": {
          "symbol": "circle"
         },
         "mode": "lines",
         "name": "",
         "orientation": "v",
         "showlegend": false,
         "type": "scatter",
         "x": [
          -0.08764454198469986,
          0.03396605089933172
         ],
         "xaxis": "x",
         "y": [
          -0.3491202528683945,
          -0.06377312619560842
         ],
         "yaxis": "y"
        },
        {
         "hovertemplate": "x=%{x}<br>y=%{y}<extra></extra>",
         "legendgroup": "",
         "line": {
          "color": "grey",
          "dash": "solid"
         },
         "marker": {
          "symbol": "circle"
         },
         "mode": "lines",
         "name": "",
         "orientation": "v",
         "showlegend": false,
         "type": "scatter",
         "x": [
          -0.17939169931913107,
          -0.08764454198469986
         ],
         "xaxis": "x",
         "y": [
          -0.37919777567635804,
          -0.3491202528683945
         ],
         "yaxis": "y"
        },
        {
         "hovertemplate": "x=%{x}<br>y=%{y}<extra></extra>",
         "legendgroup": "",
         "line": {
          "color": "grey",
          "dash": "solid"
         },
         "marker": {
          "symbol": "circle"
         },
         "mode": "lines",
         "name": "",
         "orientation": "v",
         "showlegend": false,
         "type": "scatter",
         "x": [
          -0.18781948841951424,
          -0.08764454198469986
         ],
         "xaxis": "x",
         "y": [
          -0.4609412972784335,
          -0.3491202528683945
         ],
         "yaxis": "y"
        },
        {
         "hovertemplate": "x=%{x}<br>y=%{y}<extra></extra>",
         "legendgroup": "",
         "line": {
          "color": "grey",
          "dash": "solid"
         },
         "marker": {
          "symbol": "circle"
         },
         "mode": "lines",
         "name": "",
         "orientation": "v",
         "showlegend": false,
         "type": "scatter",
         "x": [
          -0.20601727105687692,
          -0.08764454198469986
         ],
         "xaxis": "x",
         "y": [
          -0.4168539500995671,
          -0.3491202528683945
         ],
         "yaxis": "y"
        },
        {
         "hovertemplate": "x=%{x}<br>y=%{y}<extra></extra>",
         "legendgroup": "",
         "line": {
          "color": "grey",
          "dash": "solid"
         },
         "marker": {
          "symbol": "circle"
         },
         "mode": "lines",
         "name": "",
         "orientation": "v",
         "showlegend": false,
         "type": "scatter",
         "x": [
          -0.07466882224752104,
          0.03396605089933172
         ],
         "xaxis": "x",
         "y": [
          -0.14099036055460698,
          -0.06377312619560842
         ],
         "yaxis": "y"
        },
        {
         "hovertemplate": "x=%{x}<br>y=%{y}<extra></extra>",
         "legendgroup": "",
         "line": {
          "color": "grey",
          "dash": "solid"
         },
         "marker": {
          "symbol": "circle"
         },
         "mode": "lines",
         "name": "",
         "orientation": "v",
         "showlegend": false,
         "type": "scatter",
         "x": [
          0.04852006450025823,
          -0.04638755445005289
         ],
         "xaxis": "x",
         "y": [
          -0.5393766553785522,
          -0.5182502632545328
         ],
         "yaxis": "y"
        },
        {
         "hovertemplate": "x=%{x}<br>y=%{y}<extra></extra>",
         "legendgroup": "",
         "line": {
          "color": "grey",
          "dash": "solid"
         },
         "marker": {
          "symbol": "circle"
         },
         "mode": "lines",
         "name": "",
         "orientation": "v",
         "showlegend": false,
         "type": "scatter",
         "x": [
          -0.0009763605120157182,
          -0.04638755445005289
         ],
         "xaxis": "x",
         "y": [
          -0.5920656638475217,
          -0.5182502632545328
         ],
         "yaxis": "y"
        },
        {
         "hovertemplate": "x=%{x}<br>y=%{y}<extra></extra>",
         "legendgroup": "",
         "line": {
          "color": "grey",
          "dash": "solid"
         },
         "marker": {
          "symbol": "circle"
         },
         "mode": "lines",
         "name": "",
         "orientation": "v",
         "showlegend": false,
         "type": "scatter",
         "x": [
          -0.10829539352494796,
          -0.04638755445005289
         ],
         "xaxis": "x",
         "y": [
          -0.6253274383513792,
          -0.5182502632545328
         ],
         "yaxis": "y"
        },
        {
         "hovertemplate": "x=%{x}<br>y=%{y}<extra></extra>",
         "legendgroup": "",
         "line": {
          "color": "grey",
          "dash": "solid"
         },
         "marker": {
          "symbol": "circle"
         },
         "mode": "lines",
         "name": "",
         "orientation": "v",
         "showlegend": false,
         "type": "scatter",
         "x": [
          -0.1379488913848701,
          -0.08764454198469986
         ],
         "xaxis": "x",
         "y": [
          -0.47821650258227033,
          -0.3491202528683945
         ],
         "yaxis": "y"
        },
        {
         "hovertemplate": "x=%{x}<br>y=%{y}<extra></extra>",
         "legendgroup": "",
         "line": {
          "color": "grey",
          "dash": "solid"
         },
         "marker": {
          "symbol": "circle"
         },
         "mode": "lines",
         "name": "",
         "orientation": "v",
         "showlegend": false,
         "type": "scatter",
         "x": [
          -0.16904040614403332,
          -0.07466882224752104
         ],
         "xaxis": "x",
         "y": [
          -0.17535650007858267,
          -0.14099036055460698
         ],
         "yaxis": "y"
        },
        {
         "hovertemplate": "x=%{x}<br>y=%{y}<extra></extra>",
         "legendgroup": "",
         "line": {
          "color": "grey",
          "dash": "solid"
         },
         "marker": {
          "symbol": "circle"
         },
         "mode": "lines",
         "name": "",
         "orientation": "v",
         "showlegend": false,
         "type": "scatter",
         "x": [
          -0.13533460557348134,
          -0.07466882224752104
         ],
         "xaxis": "x",
         "y": [
          -0.21400798463315274,
          -0.14099036055460698
         ],
         "yaxis": "y"
        },
        {
         "hovertemplate": "x=%{x}<br>y=%{y}<extra></extra>",
         "legendgroup": "",
         "line": {
          "color": "grey",
          "dash": "solid"
         },
         "marker": {
          "symbol": "circle"
         },
         "mode": "lines",
         "name": "",
         "orientation": "v",
         "showlegend": false,
         "type": "scatter",
         "x": [
          0.3013065331065137,
          0.5002698798205593
         ],
         "xaxis": "x",
         "y": [
          -0.23746469319720262,
          -0.36729230194385754
         ],
         "yaxis": "y"
        },
        {
         "hovertemplate": "x=%{x}<br>y=%{y}<extra></extra>",
         "legendgroup": "",
         "line": {
          "color": "grey",
          "dash": "solid"
         },
         "marker": {
          "symbol": "circle"
         },
         "mode": "lines",
         "name": "",
         "orientation": "v",
         "showlegend": false,
         "type": "scatter",
         "x": [
          0.3013065331065137,
          0.41298553901303975
         ],
         "xaxis": "x",
         "y": [
          -0.23746469319720262,
          -0.2766703803126058
         ],
         "yaxis": "y"
        },
        {
         "hovertemplate": "x=%{x}<br>y=%{y}<extra></extra>",
         "legendgroup": "",
         "line": {
          "color": "grey",
          "dash": "solid"
         },
         "marker": {
          "symbol": "circle"
         },
         "mode": "lines",
         "name": "",
         "orientation": "v",
         "showlegend": false,
         "type": "scatter",
         "x": [
          0.3013065331065137,
          0.03396605089933172
         ],
         "xaxis": "x",
         "y": [
          -0.23746469319720262,
          -0.06377312619560842
         ],
         "yaxis": "y"
        },
        {
         "hovertemplate": "x=%{x}<br>y=%{y}<extra></extra>",
         "legendgroup": "",
         "line": {
          "color": "grey",
          "dash": "solid"
         },
         "marker": {
          "symbol": "circle"
         },
         "mode": "lines",
         "name": "",
         "orientation": "v",
         "showlegend": false,
         "type": "scatter",
         "x": [
          0.6069914450868533,
          0.5002698798205593
         ],
         "xaxis": "x",
         "y": [
          -0.46605839246430164,
          -0.36729230194385754
         ],
         "yaxis": "y"
        },
        {
         "hovertemplate": "x=%{x}<br>y=%{y}<extra></extra>",
         "legendgroup": "",
         "line": {
          "color": "grey",
          "dash": "solid"
         },
         "marker": {
          "symbol": "circle"
         },
         "mode": "lines",
         "name": "",
         "orientation": "v",
         "showlegend": false,
         "type": "scatter",
         "x": [
          0.3383976770763625,
          0.3013065331065137
         ],
         "xaxis": "x",
         "y": [
          -0.3274849725961024,
          -0.23746469319720262
         ],
         "yaxis": "y"
        },
        {
         "hovertemplate": "x=%{x}<br>y=%{y}<extra></extra>",
         "legendgroup": "",
         "line": {
          "color": "grey",
          "dash": "solid"
         },
         "marker": {
          "symbol": "circle"
         },
         "mode": "lines",
         "name": "",
         "orientation": "v",
         "showlegend": false,
         "type": "scatter",
         "x": [
          0.5082530558948165,
          0.6379967823120225
         ],
         "xaxis": "x",
         "y": [
          -0.06875462274718812,
          -0.12841284222946805
         ],
         "yaxis": "y"
        },
        {
         "hovertemplate": "x=%{x}<br>y=%{y}<extra></extra>",
         "legendgroup": "",
         "line": {
          "color": "grey",
          "dash": "solid"
         },
         "marker": {
          "symbol": "circle"
         },
         "mode": "lines",
         "name": "",
         "orientation": "v",
         "showlegend": false,
         "type": "scatter",
         "x": [
          0.5082530558948165,
          0.6244688977249222
         ],
         "xaxis": "x",
         "y": [
          -0.06875462274718812,
          -0.08655477138780472
         ],
         "yaxis": "y"
        },
        {
         "hovertemplate": "x=%{x}<br>y=%{y}<extra></extra>",
         "legendgroup": "",
         "line": {
          "color": "grey",
          "dash": "solid"
         },
         "marker": {
          "symbol": "circle"
         },
         "mode": "lines",
         "name": "",
         "orientation": "v",
         "showlegend": false,
         "type": "scatter",
         "x": [
          0.5082530558948165,
          0.7198524116682291
         ],
         "xaxis": "x",
         "y": [
          -0.06875462274718812,
          0.0024056821199798005
         ],
         "yaxis": "y"
        },
        {
         "hovertemplate": "x=%{x}<br>y=%{y}<extra></extra>",
         "legendgroup": "",
         "line": {
          "color": "grey",
          "dash": "solid"
         },
         "marker": {
          "symbol": "circle"
         },
         "mode": "lines",
         "name": "",
         "orientation": "v",
         "showlegend": false,
         "type": "scatter",
         "x": [
          0.5082530558948165,
          0.4802485179486141
         ],
         "xaxis": "x",
         "y": [
          -0.06875462274718812,
          0.028741550792891077
         ],
         "yaxis": "y"
        },
        {
         "hovertemplate": "x=%{x}<br>y=%{y}<extra></extra>",
         "legendgroup": "",
         "line": {
          "color": "grey",
          "dash": "solid"
         },
         "marker": {
          "symbol": "circle"
         },
         "mode": "lines",
         "name": "",
         "orientation": "v",
         "showlegend": false,
         "type": "scatter",
         "x": [
          0.5082530558948165,
          0.592107111000655
         ],
         "xaxis": "x",
         "y": [
          -0.06875462274718812,
          -0.0057712291171223605
         ],
         "yaxis": "y"
        },
        {
         "hovertemplate": "x=%{x}<br>y=%{y}<extra></extra>",
         "legendgroup": "",
         "line": {
          "color": "grey",
          "dash": "solid"
         },
         "marker": {
          "symbol": "circle"
         },
         "mode": "lines",
         "name": "",
         "orientation": "v",
         "showlegend": false,
         "type": "scatter",
         "x": [
          0.5082530558948165,
          0.8391839482914969
         ],
         "xaxis": "x",
         "y": [
          -0.06875462274718812,
          -0.12672207698817944
         ],
         "yaxis": "y"
        },
        {
         "hovertemplate": "x=%{x}<br>y=%{y}<extra></extra>",
         "legendgroup": "",
         "line": {
          "color": "grey",
          "dash": "solid"
         },
         "marker": {
          "symbol": "circle"
         },
         "mode": "lines",
         "name": "",
         "orientation": "v",
         "showlegend": false,
         "type": "scatter",
         "x": [
          0.5082530558948165,
          0.03396605089933172
         ],
         "xaxis": "x",
         "y": [
          -0.06875462274718812,
          -0.06377312619560842
         ],
         "yaxis": "y"
        },
        {
         "hovertemplate": "x=%{x}<br>y=%{y}<extra></extra>",
         "legendgroup": "",
         "line": {
          "color": "grey",
          "dash": "solid"
         },
         "marker": {
          "symbol": "circle"
         },
         "mode": "lines",
         "name": "",
         "orientation": "v",
         "showlegend": false,
         "type": "scatter",
         "x": [
          0.6346401685716698,
          0.5002698798205593
         ],
         "xaxis": "x",
         "y": [
          -0.4259898071215515,
          -0.36729230194385754
         ],
         "yaxis": "y"
        },
        {
         "hovertemplate": "x=%{x}<br>y=%{y}<extra></extra>",
         "legendgroup": "",
         "line": {
          "color": "grey",
          "dash": "solid"
         },
         "marker": {
          "symbol": "circle"
         },
         "mode": "lines",
         "name": "",
         "orientation": "v",
         "showlegend": false,
         "type": "scatter",
         "x": [
          0.4098880444981627,
          0.4802485179486141
         ],
         "xaxis": "x",
         "y": [
          0.0920923139201752,
          0.028741550792891077
         ],
         "yaxis": "y"
        },
        {
         "hovertemplate": "x=%{x}<br>y=%{y}<extra></extra>",
         "legendgroup": "",
         "line": {
          "color": "grey",
          "dash": "solid"
         },
         "marker": {
          "symbol": "circle"
         },
         "mode": "lines",
         "name": "",
         "orientation": "v",
         "showlegend": false,
         "type": "scatter",
         "x": [
          0.8369009403609544,
          0.7198524116682291
         ],
         "xaxis": "x",
         "y": [
          0.06766488532651607,
          0.0024056821199798005
         ],
         "yaxis": "y"
        },
        {
         "hovertemplate": "x=%{x}<br>y=%{y}<extra></extra>",
         "legendgroup": "",
         "line": {
          "color": "grey",
          "dash": "solid"
         },
         "marker": {
          "symbol": "circle"
         },
         "mode": "lines",
         "name": "",
         "orientation": "v",
         "showlegend": false,
         "type": "scatter",
         "x": [
          0.8559665236964753,
          0.7198524116682291
         ],
         "xaxis": "x",
         "y": [
          0.018476297971440497,
          0.0024056821199798005
         ],
         "yaxis": "y"
        },
        {
         "hovertemplate": "x=%{x}<br>y=%{y}<extra></extra>",
         "legendgroup": "",
         "line": {
          "color": "grey",
          "dash": "solid"
         },
         "marker": {
          "symbol": "circle"
         },
         "mode": "lines",
         "name": "",
         "orientation": "v",
         "showlegend": false,
         "type": "scatter",
         "x": [
          1,
          0.8391839482914969
         ],
         "xaxis": "x",
         "y": [
          -0.12271525167924802,
          -0.12672207698817944
         ],
         "yaxis": "y"
        },
        {
         "hovertemplate": "x=%{x}<br>y=%{y}<extra></extra>",
         "legendgroup": "",
         "line": {
          "color": "grey",
          "dash": "solid"
         },
         "marker": {
          "symbol": "circle"
         },
         "mode": "lines",
         "name": "",
         "orientation": "v",
         "showlegend": false,
         "type": "scatter",
         "x": [
          0.9919761162657871,
          0.8391839482914969
         ],
         "xaxis": "x",
         "y": [
          -0.18380394279190854,
          -0.12672207698817944
         ],
         "yaxis": "y"
        },
        {
         "hovertemplate": "x=%{x}<br>y=%{y}<extra></extra>",
         "legendgroup": "",
         "line": {
          "color": "grey",
          "dash": "solid"
         },
         "marker": {
          "symbol": "circle"
         },
         "mode": "lines",
         "name": "",
         "orientation": "v",
         "showlegend": false,
         "type": "scatter",
         "x": [
          0.9643240295035702,
          0.8391839482914969
         ],
         "xaxis": "x",
         "y": [
          -0.15225250467180143,
          -0.12672207698817944
         ],
         "yaxis": "y"
        },
        {
         "hovertemplate": "x=%{x}<br>y=%{y}<extra></extra>",
         "legendgroup": "",
         "line": {
          "color": "grey",
          "dash": "solid"
         },
         "marker": {
          "symbol": "circle"
         },
         "mode": "lines",
         "name": "",
         "orientation": "v",
         "showlegend": false,
         "type": "scatter",
         "x": [
          0.9520746349581585,
          0.8391839482914969
         ],
         "xaxis": "x",
         "y": [
          -0.21387872569868657,
          -0.12672207698817944
         ],
         "yaxis": "y"
        },
        {
         "hovertemplate": "x=%{x}<br>y=%{y}<extra></extra>",
         "legendgroup": "",
         "line": {
          "color": "grey",
          "dash": "solid"
         },
         "marker": {
          "symbol": "circle"
         },
         "mode": "lines",
         "name": "",
         "orientation": "v",
         "showlegend": false,
         "type": "scatter",
         "x": [
          0.6303839358299795,
          0.5082530558948165
         ],
         "xaxis": "x",
         "y": [
          -0.04147070238106825,
          -0.06875462274718812
         ],
         "yaxis": "y"
        },
        {
         "hovertemplate": "x=%{x}<br>y=%{y}<extra></extra>",
         "legendgroup": "",
         "line": {
          "color": "grey",
          "dash": "solid"
         },
         "marker": {
          "symbol": "circle"
         },
         "mode": "lines",
         "name": "",
         "orientation": "v",
         "showlegend": false,
         "type": "scatter",
         "x": [
          0.08044974627682816,
          0.03396605089933172
         ],
         "xaxis": "x",
         "y": [
          0.007789708219365462,
          -0.06377312619560842
         ],
         "yaxis": "y"
        },
        {
         "hovertemplate": "x=%{x}<br>y=%{y}<extra></extra>",
         "legendgroup": "",
         "line": {
          "color": "grey",
          "dash": "solid"
         },
         "marker": {
          "symbol": "circle"
         },
         "mode": "lines",
         "name": "",
         "orientation": "v",
         "showlegend": false,
         "type": "scatter",
         "x": [
          0.3908773948373128,
          0.3013065331065137
         ],
         "xaxis": "x",
         "y": [
          -0.22822744591448052,
          -0.23746469319720262
         ],
         "yaxis": "y"
        },
        {
         "hovertemplate": "x=%{x}<br>y=%{y}<extra></extra>",
         "legendgroup": "",
         "line": {
          "color": "grey",
          "dash": "solid"
         },
         "marker": {
          "symbol": "circle"
         },
         "mode": "lines",
         "name": "",
         "orientation": "v",
         "showlegend": false,
         "type": "scatter",
         "x": [
          0.38964734133673173,
          0.3013065331065137
         ],
         "xaxis": "x",
         "y": [
          -0.32191271331045085,
          -0.23746469319720262
         ],
         "yaxis": "y"
        },
        {
         "hovertemplate": "x=%{x}<br>y=%{y}<extra></extra>",
         "legendgroup": "",
         "line": {
          "color": "grey",
          "dash": "solid"
         },
         "marker": {
          "symbol": "circle"
         },
         "mode": "lines",
         "name": "",
         "orientation": "v",
         "showlegend": false,
         "type": "scatter",
         "x": [
          0.9727857623057351,
          0.8391839482914969
         ],
         "xaxis": "x",
         "y": [
          -0.08399960030618073,
          -0.12672207698817944
         ],
         "yaxis": "y"
        },
        {
         "hovertemplate": "x=%{x}<br>y=%{y}<extra></extra>",
         "legendgroup": "",
         "line": {
          "color": "grey",
          "dash": "solid"
         },
         "marker": {
          "symbol": "circle"
         },
         "mode": "lines",
         "name": "",
         "orientation": "v",
         "showlegend": false,
         "type": "scatter",
         "x": [
          0.5927937333481988,
          0.5082530558948165
         ],
         "xaxis": "x",
         "y": [
          -0.14723817821634358,
          -0.06875462274718812
         ],
         "yaxis": "y"
        },
        {
         "customdata": [
          [
           "Jordan Harper",
           10,
           true,
           "person",
           "Jordan Harper",
           "2022-07-20",
           "Full Time",
           [
            "Scala",
            "Java"
           ],
           "Jordan Harper",
           "CEO",
           "CEO",
           {
            "city": "Fort Lauderdale",
            "country": "USA",
            "tz": "EST"
           },
           7,
           "Fort Lauderdale",
           "EST",
           "USA"
          ]
         ],
         "hovertemplate": "<b>%{hovertext}</b><br><br>team=%{customdata[9]}<br>x=%{x}<br>y=%{y}<br>rank=%{customdata[12]}<br>label=%{customdata[0]}<br>size=%{customdata[1]}<br>person=%{customdata[2]}<br>type=%{customdata[3]}<br>name=%{customdata[4]}<br>hire_date=%{customdata[5]}<br>status=%{customdata[6]}<br>languages=%{customdata[7]}<br>manager=%{customdata[8]}<br>title=%{customdata[10]}<br>location=%{customdata[11]}<br>city=%{customdata[13]}<br>tz=%{customdata[14]}<br>country=%{customdata[15]}<extra></extra>",
         "hovertext": [
          "Jordan Harper"
         ],
         "legendgroup": "CEO",
         "marker": {
          "color": "#FF97FF",
          "size": [
           7
          ],
          "sizemode": "area",
          "sizeref": 0.0175,
          "symbol": "circle"
         },
         "mode": "markers",
         "name": "CEO",
         "orientation": "v",
         "showlegend": true,
         "type": "scatter",
         "x": [
          0.03396605089933172
         ],
         "xaxis": "x",
         "y": [
          -0.06377312619560842
         ],
         "yaxis": "y"
        },
        {
         "customdata": [
          [
           "Shane Nguyen",
           10,
           true,
           "person",
           "Shane Nguyen",
           "2022-11-26",
           "Part Time",
           [
            "Python",
            "Typescript",
            "JavaScript",
            "Java"
           ],
           "Richard Alvarez",
           "Support",
           "Analyst",
           {
            "city": "Dublin",
            "country": "IRL",
            "tz": "UTC"
           },
           1,
           "Dublin",
           "UTC",
           "IRL"
          ],
          [
           "Aaron Myers",
           10,
           true,
           "person",
           "Aaron Myers",
           "2023-01-23",
           "Full Time",
           [
            "Typescript",
            "JavaScript",
            "Java"
           ],
           "Lisa Boyer",
           "Support",
           "Analyst",
           {
            "city": "Dublin",
            "country": "IRL",
            "tz": "UTC"
           },
           1,
           "Dublin",
           "UTC",
           "IRL"
          ],
          [
           "Virginia Avila",
           10,
           true,
           "person",
           "Virginia Avila",
           "2021-05-09",
           "Full Time",
           [
            "Python",
            "Typescript",
            "JavaScript",
            "Scala"
           ],
           "Jordan Harper",
           "Support",
           "Manager",
           {
            "city": "Dublin",
            "country": "IRL",
            "tz": "UTC"
           },
           2,
           "Dublin",
           "UTC",
           "IRL"
          ],
          [
           "Richard Alvarez",
           10,
           true,
           "person",
           "Richard Alvarez",
           "2021-05-12",
           "Contract",
           [],
           "Virginia Avila",
           "Support",
           "Manager",
           {
            "city": "Dublin",
            "country": "IRL",
            "tz": "UTC"
           },
           2,
           "Dublin",
           "UTC",
           "IRL"
          ],
          [
           "Sarah Bennett",
           10,
           true,
           "person",
           "Sarah Bennett",
           "2022-05-16",
           "Contract",
           [],
           "Virginia Avila",
           "Support",
           "Manager",
           {
            "city": "Dublin",
            "country": "IRL",
            "tz": "UTC"
           },
           2,
           "Dublin",
           "UTC",
           "IRL"
          ],
          [
           "Holly Mcdonald",
           10,
           true,
           "person",
           "Holly Mcdonald",
           "2022-05-29",
           "Full Time",
           [
            "Typescript"
           ],
           "Virginia Avila",
           "Support",
           "Manager",
           {
            "city": "Dublin",
            "country": "IRL",
            "tz": "UTC"
           },
           2,
           "Dublin",
           "UTC",
           "IRL"
          ],
          [
           "Lisa Boyer",
           10,
           true,
           "person",
           "Lisa Boyer",
           "2021-02-09",
           "Full Time",
           [
            "Python",
            "Typescript",
            "Java"
           ],
           "Virginia Avila",
           "Support",
           "Manager",
           {
            "city": "Dublin",
            "country": "IRL",
            "tz": "UTC"
           },
           2,
           "Dublin",
           "UTC",
           "IRL"
          ],
          [
           "Curtis Brown",
           10,
           true,
           "person",
           "Curtis Brown",
           "2022-11-27",
           "Full Time",
           [
            "Python",
            "JavaScript",
            "Scala",
            "Java"
           ],
           "Virginia Avila",
           "Support",
           "Manager",
           {
            "city": "Dublin",
            "country": "IRL",
            "tz": "UTC"
           },
           2,
           "Dublin",
           "UTC",
           "IRL"
          ],
          [
           "Brianna Brown",
           10,
           true,
           "person",
           "Brianna Brown",
           "2023-01-26",
           "Contract",
           [],
           "Virginia Avila",
           "Support",
           "Manager",
           {
            "city": "Dublin",
            "country": "IRL",
            "tz": "UTC"
           },
           2,
           "Dublin",
           "UTC",
           "IRL"
          ]
         ],
         "hovertemplate": "<b>%{hovertext}</b><br><br>team=%{customdata[9]}<br>x=%{x}<br>y=%{y}<br>rank=%{customdata[12]}<br>label=%{customdata[0]}<br>size=%{customdata[1]}<br>person=%{customdata[2]}<br>type=%{customdata[3]}<br>name=%{customdata[4]}<br>hire_date=%{customdata[5]}<br>status=%{customdata[6]}<br>languages=%{customdata[7]}<br>manager=%{customdata[8]}<br>title=%{customdata[10]}<br>location=%{customdata[11]}<br>city=%{customdata[13]}<br>tz=%{customdata[14]}<br>country=%{customdata[15]}<extra></extra>",
         "hovertext": [
          "Shane Nguyen",
          "Aaron Myers",
          "Virginia Avila",
          "Richard Alvarez",
          "Sarah Bennett",
          "Holly Mcdonald",
          "Lisa Boyer",
          "Curtis Brown",
          "Brianna Brown"
         ],
         "legendgroup": "Support",
         "marker": {
          "color": "#B6E880",
          "size": [
           1,
           1,
           2,
           2,
           2,
           2,
           2,
           2,
           2
          ],
          "sizemode": "area",
          "sizeref": 0.0175,
          "symbol": "circle"
         },
         "mode": "markers",
         "name": "Support",
         "orientation": "v",
         "showlegend": true,
         "type": "scatter",
         "x": [
          -0.4536291184284819,
          -0.46225432281796286,
          -0.2269847476884305,
          -0.35818211131978944,
          -0.32531114954734924,
          -0.2871650636682377,
          -0.3601243773434667,
          -0.2283101768540906,
          -0.2951026215388207
         ],
         "xaxis": "x",
         "y": [
          -0.3132385620343844,
          0.05165546595470022,
          -0.08994328707343027,
          -0.21493049242689913,
          -0.11723109266598164,
          -0.16225546326031126,
          -0.005812557997457239,
          -0.0032983096295063127,
          -0.04490195872528842
         ],
         "yaxis": "y"
        },
        {
         "customdata": [
          [
           "Andrew Pruitt",
           10,
           true,
           "person",
           "Andrew Pruitt",
           "2021-08-07",
           "Full Time",
           [
            "JavaScript",
            "Elixir",
            "Scala"
           ],
           "Jordan Harper",
           "Sales",
           "Associate",
           {
            "city": "London",
            "country": "GBR",
            "tz": "UTC"
           },
           1,
           "London",
           "UTC",
           "GBR"
          ],
          [
           "Timothy Schultz",
           10,
           true,
           "person",
           "Timothy Schultz",
           "2020-11-17",
           "Contract",
           [
            "Java"
           ],
           "Andrew Pruitt",
           "Sales",
           "Associate",
           {
            "city": "Toronto",
            "country": "CAN",
            "tz": "EST"
           },
           1,
           "Toronto",
           "EST",
           "CAN"
          ],
          [
           "Brandon Kaufman MD",
           10,
           true,
           "person",
           "Brandon Kaufman MD",
           "2021-02-10",
           "Full Time",
           [],
           "Andrew Pruitt",
           "Sales",
           "Associate",
           {
            "city": "London",
            "country": "GBR",
            "tz": "UTC"
           },
           1,
           "London",
           "UTC",
           "GBR"
          ],
          [
           "Samantha Williams",
           10,
           true,
           "person",
           "Samantha Williams",
           "2020-06-17",
           "Full Time",
           [
            "JavaScript",
            "Java"
           ],
           "Andrew Pruitt",
           "Sales",
           "Associate",
           {
            "city": "New York",
            "country": "USA",
            "tz": "EST"
           },
           1,
           "New York",
           "EST",
           "USA"
          ],
          [
           "Theresa Bradshaw",
           10,
           true,
           "person",
           "Theresa Bradshaw",
           "2023-01-10",
           "Part Time",
           [
            "Python",
            "Typescript"
           ],
           "Andrew Pruitt",
           "Sales",
           "Associate",
           {
            "city": "London",
            "country": "GBR",
            "tz": "UTC"
           },
           1,
           "London",
           "UTC",
           "GBR"
          ],
          [
           "Carl Adams",
           10,
           true,
           "person",
           "Carl Adams",
           "2023-04-02",
           "Contract",
           [
            "Scala"
           ],
           "Andrew Pruitt",
           "Sales",
           "Associate",
           {
            "city": "Toronto",
            "country": "CAN",
            "tz": "EST"
           },
           1,
           "Toronto",
           "EST",
           "CAN"
          ],
          [
           "Justin Lewis",
           10,
           true,
           "person",
           "Justin Lewis",
           "2021-04-24",
           "Full Time",
           [],
           "Andrew Pruitt",
           "Sales",
           "Associate",
           {
            "city": "London",
            "country": "GBR",
            "tz": "UTC"
           },
           1,
           "London",
           "UTC",
           "GBR"
          ],
          [
           "William Diaz",
           10,
           true,
           "person",
           "William Diaz",
           "2022-08-31",
           "Full Time",
           [
            "Typescript",
            "Java"
           ],
           "Andrew Pruitt",
           "Sales",
           "Associate",
           {
            "city": "London",
            "country": "GBR",
            "tz": "UTC"
           },
           1,
           "London",
           "UTC",
           "GBR"
          ],
          [
           "James Adams",
           10,
           true,
           "person",
           "James Adams",
           "2021-10-01",
           "Full Time",
           [
            "Java"
           ],
           "Andrew Pruitt",
           "Sales",
           "Associate",
           {
            "city": "New York",
            "country": "USA",
            "tz": "EST"
           },
           1,
           "New York",
           "EST",
           "USA"
          ],
          [
           "Michael Adams",
           10,
           true,
           "person",
           "Michael Adams",
           "2022-04-08",
           "Contract",
           [],
           "Andrew Pruitt",
           "Sales",
           "Associate",
           {
            "city": "Toronto",
            "country": "CAN",
            "tz": "EST"
           },
           1,
           "Toronto",
           "EST",
           "CAN"
          ],
          [
           "Ashley Russell",
           10,
           true,
           "person",
           "Ashley Russell",
           "2020-05-21",
           "Full Time",
           [
            "Typescript",
            "Java"
           ],
           "Andrew Pruitt",
           "Sales",
           "Associate",
           {
            "city": "London",
            "country": "GBR",
            "tz": "UTC"
           },
           1,
           "London",
           "UTC",
           "GBR"
          ],
          [
           "Karen Smith",
           10,
           true,
           "person",
           "Karen Smith",
           "2022-01-29",
           "Full Time",
           [
            "JavaScript"
           ],
           "Andrew Pruitt",
           "Sales",
           "Associate",
           {
            "city": "London",
            "country": "GBR",
            "tz": "UTC"
           },
           1,
           "London",
           "UTC",
           "GBR"
          ],
          [
           "Mr. David Walters",
           10,
           true,
           "person",
           "Mr. David Walters",
           "2023-01-01",
           "Full Time",
           [],
           "Andrew Pruitt",
           "Sales",
           "Associate",
           {
            "city": "New York",
            "country": "USA",
            "tz": "EST"
           },
           1,
           "New York",
           "EST",
           "USA"
          ],
          [
           "Kenneth Mcguire",
           10,
           true,
           "person",
           "Kenneth Mcguire",
           "2020-06-23",
           "Full Time",
           [
            "Python",
            "Scala"
           ],
           "Andrew Pruitt",
           "Sales",
           "Associate",
           {
            "city": "New York",
            "country": "USA",
            "tz": "EST"
           },
           1,
           "New York",
           "EST",
           "USA"
          ],
          [
           "Jacqueline White",
           10,
           true,
           "person",
           "Jacqueline White",
           "2022-07-18",
           "Full Time",
           [
            "JavaScript"
           ],
           "Andrew Pruitt",
           "Sales",
           "Associate",
           {
            "city": "London",
            "country": "GBR",
            "tz": "UTC"
           },
           1,
           "London",
           "UTC",
           "GBR"
          ],
          [
           "Amanda Johnson",
           10,
           true,
           "person",
           "Amanda Johnson",
           "2022-09-09",
           "Part Time",
           [
            "JavaScript",
            "Java"
           ],
           "Andrew Pruitt",
           "Sales",
           "Associate",
           {
            "city": "London",
            "country": "GBR",
            "tz": "UTC"
           },
           1,
           "London",
           "UTC",
           "GBR"
          ],
          [
           "Stephen Randolph",
           10,
           true,
           "person",
           "Stephen Randolph",
           "2021-03-23",
           "Contract",
           [
            "Python"
           ],
           "Andrew Pruitt",
           "Sales",
           "Associate",
           {
            "city": "London",
            "country": "GBR",
            "tz": "UTC"
           },
           1,
           "London",
           "UTC",
           "GBR"
          ],
          [
           "Kenneth Montoya",
           10,
           true,
           "person",
           "Kenneth Montoya",
           "2021-10-14",
           "Full Time",
           [
            "Java"
           ],
           "Andrew Pruitt",
           "Sales",
           "Associate",
           {
            "city": "London",
            "country": "GBR",
            "tz": "UTC"
           },
           1,
           "London",
           "UTC",
           "GBR"
          ],
          [
           "Marie Smith",
           10,
           true,
           "person",
           "Marie Smith",
           "2020-10-03",
           "Part Time",
           [
            "JavaScript"
           ],
           "Andrew Pruitt",
           "Sales",
           "Associate",
           {
            "city": "London",
            "country": "GBR",
            "tz": "UTC"
           },
           1,
           "London",
           "UTC",
           "GBR"
          ],
          [
           "Daryl Gillespie",
           10,
           true,
           "person",
           "Daryl Gillespie",
           "2020-11-29",
           "Full Time",
           [
            "Typescript",
            "JavaScript",
            "Java"
           ],
           "Andrew Pruitt",
           "Sales",
           "Associate",
           {
            "city": "London",
            "country": "GBR",
            "tz": "UTC"
           },
           1,
           "London",
           "UTC",
           "GBR"
          ],
          [
           "Stephanie Peterson",
           10,
           true,
           "person",
           "Stephanie Peterson",
           "2021-12-29",
           "Full Time",
           [
            "Python",
            "JavaScript",
            "Scala",
            "Java"
           ],
           "Andrew Pruitt",
           "Sales",
           "Associate",
           {
            "city": "London",
            "country": "GBR",
            "tz": "UTC"
           },
           1,
           "London",
           "UTC",
           "GBR"
          ],
          [
           "Linda Cortez",
           10,
           true,
           "person",
           "Linda Cortez",
           "2020-07-04",
           "Full Time",
           [],
           "Andrew Pruitt",
           "Sales",
           "Associate",
           {
            "city": "Toronto",
            "country": "CAN",
            "tz": "EST"
           },
           1,
           "Toronto",
           "EST",
           "CAN"
          ],
          [
           "Mario Meyers",
           10,
           true,
           "person",
           "Mario Meyers",
           "2020-08-09",
           "Full Time",
           [],
           "Andrew Pruitt",
           "Sales",
           "Associate",
           {
            "city": "New York",
            "country": "USA",
            "tz": "EST"
           },
           1,
           "New York",
           "EST",
           "USA"
          ],
          [
           "Sandra Brown",
           10,
           true,
           "person",
           "Sandra Brown",
           "2022-04-21",
           "Full Time",
           [],
           "Andrew Pruitt",
           "Sales",
           "Associate",
           {
            "city": "London",
            "country": "GBR",
            "tz": "UTC"
           },
           1,
           "London",
           "UTC",
           "GBR"
          ]
         ],
         "hovertemplate": "<b>%{hovertext}</b><br><br>team=%{customdata[9]}<br>x=%{x}<br>y=%{y}<br>rank=%{customdata[12]}<br>label=%{customdata[0]}<br>size=%{customdata[1]}<br>person=%{customdata[2]}<br>type=%{customdata[3]}<br>name=%{customdata[4]}<br>hire_date=%{customdata[5]}<br>status=%{customdata[6]}<br>languages=%{customdata[7]}<br>manager=%{customdata[8]}<br>title=%{customdata[10]}<br>location=%{customdata[11]}<br>city=%{customdata[13]}<br>tz=%{customdata[14]}<br>country=%{customdata[15]}<extra></extra>",
         "hovertext": [
          "Andrew Pruitt",
          "Timothy Schultz",
          "Brandon Kaufman MD",
          "Samantha Williams",
          "Theresa Bradshaw",
          "Carl Adams",
          "Justin Lewis",
          "William Diaz",
          "James Adams",
          "Michael Adams",
          "Ashley Russell",
          "Karen Smith",
          "Mr. David Walters",
          "Kenneth Mcguire",
          "Jacqueline White",
          "Amanda Johnson",
          "Stephen Randolph",
          "Kenneth Montoya",
          "Marie Smith",
          "Daryl Gillespie",
          "Stephanie Peterson",
          "Linda Cortez",
          "Mario Meyers",
          "Sandra Brown"
         ],
         "legendgroup": "Sales",
         "marker": {
          "color": "#FF6692",
          "size": [
           1,
           1,
           1,
           1,
           1,
           1,
           1,
           1,
           1,
           1,
           1,
           1,
           1,
           1,
           1,
           1,
           1,
           1,
           1,
           1,
           1,
           1,
           1,
           1
          ],
          "sizemode": "area",
          "sizeref": 0.0175,
          "symbol": "circle"
         },
         "mode": "markers",
         "name": "Sales",
         "orientation": "v",
         "showlegend": true,
         "type": "scatter",
         "x": [
          0.1489620986072825,
          0.21393246625623563,
          0.08866920121287611,
          0.1199569417410388,
          0.08302134601475777,
          0.23936553659437226,
          0.030851458847883713,
          0.15511242721497895,
          0.2919181256548252,
          0.042929551172988405,
          0.165819898370788,
          0.015826400971025136,
          0.27349573744760786,
          0.26423604664497297,
          0.12788538453299705,
          0.04967550631052169,
          0.30636055351076047,
          0.2439789069545285,
          0.08327401580126952,
          0.19664362296580223,
          0.22017454236104098,
          0.24511656674539256,
          0.17070019445924,
          0.2919575150285845
         ],
         "xaxis": "x",
         "y": [
          -0.696770904360411,
          -0.8375073992526697,
          -0.7672975558623527,
          -0.8797769309159739,
          -0.8773781434527996,
          -0.8727791282323818,
          -0.817814559633162,
          -0.8929848883688873,
          -0.7993001068583337,
          -0.7400028359405925,
          -0.7844074043423843,
          -0.7800459118496079,
          -0.8409259906653218,
          -0.7399505367061054,
          -0.8308326269012964,
          -0.8535296227541841,
          -0.7593857241041161,
          -0.6765445893052324,
          -0.819719001276049,
          -0.8871357352787121,
          -0.7609627272950741,
          -0.8043313959659663,
          -0.8443275379129186,
          -0.703200147672935
         ],
         "yaxis": "y"
        },
        {
         "customdata": [
          [
           "Rebecca Perry",
           10,
           true,
           "person",
           "Rebecca Perry",
           "2022-10-20",
           "Full Time",
           [
            "Typescript",
            "Go"
           ],
           "Michelle Marshall",
           "Product",
           "Engineer",
           {
            "city": "Seattle",
            "country": "USA",
            "tz": "PST"
           },
           1,
           "Seattle",
           "PST",
           "USA"
          ],
          [
           "Yvonne Delacruz",
           10,
           true,
           "person",
           "Yvonne Delacruz",
           "2021-05-12",
           "Full Time",
           [
            "JavaScript",
            "Java"
           ],
           "Michelle Marshall",
           "Product",
           "Engineer",
           {
            "city": "Toronto",
            "country": "CAN",
            "tz": "EST"
           },
           1,
           "Toronto",
           "EST",
           "CAN"
          ],
          [
           "Katie Huff",
           10,
           true,
           "person",
           "Katie Huff",
           "2020-05-03",
           "Full Time",
           [
            "Python",
            "Java"
           ],
           "Heidi Mullins",
           "Product",
           "Engineer",
           {
            "city": "Seattle",
            "country": "USA",
            "tz": "PST"
           },
           1,
           "Seattle",
           "PST",
           "USA"
          ],
          [
           "Raymond Hess",
           10,
           true,
           "person",
           "Raymond Hess",
           "2021-06-27",
           "Part Time",
           [
            "Python",
            "Typescript",
            "Go",
            "Java"
           ],
           "Jordan Harper",
           "Product",
           "Manager",
           {
            "city": "New York",
            "country": "USA",
            "tz": "EST"
           },
           2,
           "New York",
           "EST",
           "USA"
          ],
          [
           "Antonio Flynn",
           10,
           true,
           "person",
           "Antonio Flynn",
           "2022-04-04",
           "Full Time",
           [
            "Python",
            "JavaScript",
            "Java"
           ],
           "Michelle Marshall",
           "Product",
           "Manager",
           {
            "city": "New York",
            "country": "USA",
            "tz": "EST"
           },
           2,
           "New York",
           "EST",
           "USA"
          ],
          [
           "Jessica Cruz",
           10,
           true,
           "person",
           "Jessica Cruz",
           "2021-07-15",
           "Contract",
           [
            "Erlang",
            "Java"
           ],
           "Michelle Marshall",
           "Product",
           "Manager",
           {
            "city": "New York",
            "country": "USA",
            "tz": "EST"
           },
           2,
           "New York",
           "EST",
           "USA"
          ],
          [
           "Michael Hansen",
           10,
           true,
           "person",
           "Michael Hansen",
           "2021-01-29",
           "Contract",
           [],
           "Michelle Marshall",
           "Product",
           "Manager",
           {
            "city": "New York",
            "country": "USA",
            "tz": "EST"
           },
           2,
           "New York",
           "EST",
           "USA"
          ],
          [
           "Chelsea Navarro",
           10,
           true,
           "person",
           "Chelsea Navarro",
           "2020-09-01",
           "Contract",
           [
            "Python",
            "JavaScript",
            "Java"
           ],
           "Heidi Mullins",
           "Product",
           "Manager",
           {
            "city": "Toronto",
            "country": "CAN",
            "tz": "EST"
           },
           2,
           "Toronto",
           "EST",
           "CAN"
          ],
          [
           "Holly Flores",
           10,
           true,
           "person",
           "Holly Flores",
           "2020-11-18",
           "Full Time",
           [
            "Python",
            "Typescript",
            "Java"
           ],
           "Heidi Mullins",
           "Product",
           "Manager",
           {
            "city": "New York",
            "country": "USA",
            "tz": "EST"
           },
           2,
           "New York",
           "EST",
           "USA"
          ],
          [
           "Melissa Webb",
           10,
           true,
           "person",
           "Melissa Webb",
           "2020-05-12",
           "Full Time",
           [],
           "Tyler Figueroa",
           "Product",
           "Manager",
           {
            "city": "Seattle",
            "country": "USA",
            "tz": "PST"
           },
           2,
           "Seattle",
           "PST",
           "USA"
          ],
          [
           "James Vasquez",
           10,
           true,
           "person",
           "James Vasquez",
           "2020-09-20",
           "Full Time",
           [],
           "Michelle Marshall",
           "Product",
           "Product Owner",
           {
            "city": "Seattle",
            "country": "USA",
            "tz": "PST"
           },
           3,
           "Seattle",
           "PST",
           "USA"
          ],
          [
           "Nicholas Hughes",
           10,
           true,
           "person",
           "Nicholas Hughes",
           "2022-04-15",
           "Full Time",
           [
            "JavaScript"
           ],
           "Michelle Marshall",
           "Product",
           "Product Owner",
           {
            "city": "Toronto",
            "country": "CAN",
            "tz": "EST"
           },
           3,
           "Toronto",
           "EST",
           "CAN"
          ],
          [
           "Jennifer Hamilton",
           10,
           true,
           "person",
           "Jennifer Hamilton",
           "2021-10-17",
           "Full Time",
           [
            "Python",
            "JavaScript",
            "Scala",
            "Java"
           ],
           "Michelle Marshall",
           "Product",
           "Product Owner",
           {
            "city": "Toronto",
            "country": "CAN",
            "tz": "EST"
           },
           3,
           "Toronto",
           "EST",
           "CAN"
          ],
          [
           "Jessica Lewis",
           10,
           true,
           "person",
           "Jessica Lewis",
           "2020-05-15",
           "Part Time",
           [
            "Python",
            "Go",
            "Java"
           ],
           "Michelle Marshall",
           "Product",
           "Product Owner",
           {
            "city": "Seattle",
            "country": "USA",
            "tz": "PST"
           },
           3,
           "Seattle",
           "PST",
           "USA"
          ],
          [
           "Elizabeth Friedman",
           10,
           true,
           "person",
           "Elizabeth Friedman",
           "2021-09-02",
           "Full Time",
           [
            "Python"
           ],
           "Michelle Marshall",
           "Product",
           "Product Owner",
           {
            "city": "Toronto",
            "country": "CAN",
            "tz": "EST"
           },
           3,
           "Toronto",
           "EST",
           "CAN"
          ],
          [
           "Michelle Johnson",
           10,
           true,
           "person",
           "Michelle Johnson",
           "2022-03-16",
           "Full Time",
           [
            "JavaScript"
           ],
           "Michelle Marshall",
           "Product",
           "Product Owner",
           {
            "city": "New York",
            "country": "USA",
            "tz": "EST"
           },
           3,
           "New York",
           "EST",
           "USA"
          ],
          [
           "Lucas Burns",
           10,
           true,
           "person",
           "Lucas Burns",
           "2023-03-06",
           "Contract",
           [
            "Python",
            "Typescript",
            "JavaScript"
           ],
           "Heidi Mullins",
           "Product",
           "Product Owner",
           {
            "city": "New York",
            "country": "USA",
            "tz": "EST"
           },
           3,
           "New York",
           "EST",
           "USA"
          ],
          [
           "Robert Houston",
           10,
           true,
           "person",
           "Robert Houston",
           "2021-09-30",
           "Full Time",
           [
            "Python",
            "Typescript"
           ],
           "Michelle Marshall",
           "Product",
           "AVP",
           {
            "city": "Seattle",
            "country": "USA",
            "tz": "PST"
           },
           4,
           "Seattle",
           "PST",
           "USA"
          ],
          [
           "Elizabeth Ross",
           10,
           true,
           "person",
           "Elizabeth Ross",
           "2022-05-01",
           "Full Time",
           [
            "JavaScript"
           ],
           "Michelle Marshall",
           "Product",
           "AVP",
           {
            "city": "New York",
            "country": "USA",
            "tz": "EST"
           },
           4,
           "New York",
           "EST",
           "USA"
          ],
          [
           "Miss Sarah Bradshaw",
           10,
           true,
           "person",
           "Miss Sarah Bradshaw",
           "2021-07-14",
           "Full Time",
           [
            "JavaScript",
            "Java"
           ],
           "Michelle Marshall",
           "Product",
           "AVP",
           {
            "city": "New York",
            "country": "USA",
            "tz": "EST"
           },
           4,
           "New York",
           "EST",
           "USA"
          ],
          [
           "Sara Hill",
           10,
           true,
           "person",
           "Sara Hill",
           "2022-12-10",
           "Full Time",
           [
            "Python",
            "Go",
            "Scala",
            "Java"
           ],
           "Heidi Mullins",
           "Product",
           "AVP",
           {
            "city": "New York",
            "country": "USA",
            "tz": "EST"
           },
           4,
           "New York",
           "EST",
           "USA"
          ],
          [
           "Michelle Marshall",
           10,
           true,
           "person",
           "Michelle Marshall",
           "2022-01-16",
           "Full Time",
           [
            "Typescript"
           ],
           "Jordan Harper",
           "Product",
           "VP",
           {
            "city": "Toronto",
            "country": "CAN",
            "tz": "EST"
           },
           5,
           "Toronto",
           "EST",
           "CAN"
          ],
          [
           "Heidi Mullins",
           10,
           true,
           "person",
           "Heidi Mullins",
           "2020-10-21",
           "Full Time",
           [
            "Typescript",
            "JavaScript",
            "Java"
           ],
           "Michelle Marshall",
           "Product",
           "VP",
           {
            "city": "Seattle",
            "country": "USA",
            "tz": "PST"
           },
           5,
           "Seattle",
           "PST",
           "USA"
          ],
          [
           "Tyler Figueroa",
           10,
           true,
           "person",
           "Tyler Figueroa",
           "2021-12-12",
           "Contract",
           [],
           "Michelle Marshall",
           "Product",
           "VP",
           {
            "city": "Seattle",
            "country": "USA",
            "tz": "PST"
           },
           5,
           "Seattle",
           "PST",
           "USA"
          ]
         ],
         "hovertemplate": "<b>%{hovertext}</b><br><br>team=%{customdata[9]}<br>x=%{x}<br>y=%{y}<br>rank=%{customdata[12]}<br>label=%{customdata[0]}<br>size=%{customdata[1]}<br>person=%{customdata[2]}<br>type=%{customdata[3]}<br>name=%{customdata[4]}<br>hire_date=%{customdata[5]}<br>status=%{customdata[6]}<br>languages=%{customdata[7]}<br>manager=%{customdata[8]}<br>title=%{customdata[10]}<br>location=%{customdata[11]}<br>city=%{customdata[13]}<br>tz=%{customdata[14]}<br>country=%{customdata[15]}<extra></extra>",
         "hovertext": [
          "Rebecca Perry",
          "Yvonne Delacruz",
          "Katie Huff",
          "Raymond Hess",
          "Antonio Flynn",
          "Jessica Cruz",
          "Michael Hansen",
          "Chelsea Navarro",
          "Holly Flores",
          "Melissa Webb",
          "James Vasquez",
          "Nicholas Hughes",
          "Jennifer Hamilton",
          "Jessica Lewis",
          "Elizabeth Friedman",
          "Michelle Johnson",
          "Lucas Burns",
          "Robert Houston",
          "Elizabeth Ross",
          "Miss Sarah Bradshaw",
          "Sara Hill",
          "Michelle Marshall",
          "Heidi Mullins",
          "Tyler Figueroa"
         ],
         "legendgroup": "Product",
         "marker": {
          "color": "#19d3f3",
          "size": [
           1,
           1,
           1,
           2,
           2,
           2,
           2,
           2,
           2,
           2,
           3,
           3,
           3,
           3,
           3,
           3,
           3,
           4,
           4,
           4,
           4,
           5,
           5,
           5
          ],
          "sizemode": "area",
          "sizeref": 0.0175,
          "symbol": "circle"
         },
         "mode": "markers",
         "name": "Product",
         "orientation": "v",
         "showlegend": true,
         "type": "scatter",
         "x": [
          0.5543970462682846,
          0.5162325453173154,
          0.8180340803528767,
          0.11094392817420765,
          0.42556497252055575,
          0.5439216433321935,
          0.5353569172417765,
          0.7792320792294263,
          0.8549901335622488,
          0.4677485038706554,
          0.49193496437924095,
          0.5661623313066891,
          0.5013114043887588,
          0.49367616022005806,
          0.35534130520106666,
          0.39751873036116214,
          0.8549152330940377,
          0.44876273057432003,
          0.4618866684842769,
          0.34915582993760896,
          0.8247992127507888,
          0.4142494397079225,
          0.7087417346959893,
          0.44124313378592056
         ],
         "xaxis": "x",
         "y": [
          0.4411324309136522,
          0.397574249224388,
          0.6616389141663639,
          -0.07489574674808369,
          0.47413948633135905,
          0.3479722890061877,
          0.4883091305785794,
          0.6842939338447678,
          0.6269543820235225,
          0.7404329372123041,
          0.5101913144136954,
          0.3939518826289548,
          0.4625602685279571,
          0.3271343554850833,
          0.495255801052262,
          0.5120068473451065,
          0.5593587722432601,
          0.5255145575951563,
          0.4304001786895579,
          0.440784750924164,
          0.6001087568630477,
          0.3738899014512832,
          0.5542406483451321,
          0.5924512093297778
         ],
         "yaxis": "y"
        },
        {
         "customdata": [
          [
           "Debbie Sweeney",
           10,
           true,
           "person",
           "Debbie Sweeney",
           "2020-11-18",
           "Full Time",
           [
            "Python",
            "Typescript",
            "Go",
            "Java"
           ],
           "Eric Davis",
           "Platform",
           "Engineer",
           {
            "city": "Seattle",
            "country": "USA",
            "tz": "PST"
           },
           1,
           "Seattle",
           "PST",
           "USA"
          ],
          [
           "Susan Beasley",
           10,
           true,
           "person",
           "Susan Beasley",
           "2020-07-03",
           "Full Time",
           [
            "Erlang",
            "Typescript",
            "JavaScript",
            "Go"
           ],
           "Eric Davis",
           "Platform",
           "Senior Engineer",
           {
            "city": "Toronto",
            "country": "CAN",
            "tz": "EST"
           },
           2,
           "Toronto",
           "EST",
           "CAN"
          ],
          [
           "Sarah Robertson",
           10,
           true,
           "person",
           "Sarah Robertson",
           "2021-07-26",
           "Full Time",
           [
            "Java"
           ],
           "Andrew Peterson",
           "Platform",
           "Senior Engineer",
           {
            "city": "Toronto",
            "country": "CAN",
            "tz": "EST"
           },
           2,
           "Toronto",
           "EST",
           "CAN"
          ],
          [
           "Belinda Davis",
           10,
           true,
           "person",
           "Belinda Davis",
           "2021-07-08",
           "Contract",
           [
            "Typescript",
            "JavaScript",
            "Scala",
            "Java"
           ],
           "Colleen Williamson",
           "Platform",
           "Managing Engineer",
           {
            "city": "Toronto",
            "country": "CAN",
            "tz": "EST"
           },
           3,
           "Toronto",
           "EST",
           "CAN"
          ],
          [
           "Mary Wright",
           10,
           true,
           "person",
           "Mary Wright",
           "2023-02-25",
           "Part Time",
           [
            "JavaScript"
           ],
           "Eric Davis",
           "Platform",
           "Managing Engineer",
           {
            "city": "Toronto",
            "country": "CAN",
            "tz": "EST"
           },
           3,
           "Toronto",
           "EST",
           "CAN"
          ],
          [
           "Robert Rodriguez",
           10,
           true,
           "person",
           "Robert Rodriguez",
           "2022-01-19",
           "Full Time",
           [],
           "Eric Davis",
           "Platform",
           "Managing Engineer",
           {
            "city": "Seattle",
            "country": "USA",
            "tz": "PST"
           },
           3,
           "Seattle",
           "PST",
           "USA"
          ],
          [
           "Mike Watkins",
           10,
           true,
           "person",
           "Mike Watkins",
           "2021-06-30",
           "Contract",
           [
            "Python",
            "Typescript",
            "Java"
           ],
           "Eric Davis",
           "Platform",
           "AVP",
           {
            "city": "Toronto",
            "country": "CAN",
            "tz": "EST"
           },
           4,
           "Toronto",
           "EST",
           "CAN"
          ],
          [
           "Matthew Robinson",
           10,
           true,
           "person",
           "Matthew Robinson",
           "2023-01-31",
           "Full Time",
           [
            "Python",
            "Typescript",
            "Java"
           ],
           "Eric Davis",
           "Platform",
           "AVP",
           {
            "city": "Toronto",
            "country": "CAN",
            "tz": "EST"
           },
           4,
           "Toronto",
           "EST",
           "CAN"
          ],
          [
           "Brandon Martinez",
           10,
           true,
           "person",
           "Brandon Martinez",
           "2020-09-06",
           "Full Time",
           [
            "JavaScript"
           ],
           "Eric Davis",
           "Platform",
           "AVP",
           {
            "city": "Seattle",
            "country": "USA",
            "tz": "PST"
           },
           4,
           "Seattle",
           "PST",
           "USA"
          ],
          [
           "Colleen Williamson",
           10,
           true,
           "person",
           "Colleen Williamson",
           "2021-08-09",
           "Full Time",
           [
            "Scala"
           ],
           "Jordan Harper",
           "Platform",
           "VP",
           {
            "city": "Toronto",
            "country": "CAN",
            "tz": "EST"
           },
           5,
           "Toronto",
           "EST",
           "CAN"
          ],
          [
           "Eric Davis",
           10,
           true,
           "person",
           "Eric Davis",
           "2021-03-03",
           "Full Time",
           [
            "Java"
           ],
           "Colleen Williamson",
           "Platform",
           "VP",
           {
            "city": "Seattle",
            "country": "USA",
            "tz": "PST"
           },
           5,
           "Seattle",
           "PST",
           "USA"
          ],
          [
           "Andrew Peterson",
           10,
           true,
           "person",
           "Andrew Peterson",
           "2021-03-16",
           "Full Time",
           [
            "Go",
            "Java"
           ],
           "Colleen Williamson",
           "Platform",
           "VP",
           {
            "city": "Seattle",
            "country": "USA",
            "tz": "PST"
           },
           5,
           "Seattle",
           "PST",
           "USA"
          ]
         ],
         "hovertemplate": "<b>%{hovertext}</b><br><br>team=%{customdata[9]}<br>x=%{x}<br>y=%{y}<br>rank=%{customdata[12]}<br>label=%{customdata[0]}<br>size=%{customdata[1]}<br>person=%{customdata[2]}<br>type=%{customdata[3]}<br>name=%{customdata[4]}<br>hire_date=%{customdata[5]}<br>status=%{customdata[6]}<br>languages=%{customdata[7]}<br>manager=%{customdata[8]}<br>title=%{customdata[10]}<br>location=%{customdata[11]}<br>city=%{customdata[13]}<br>tz=%{customdata[14]}<br>country=%{customdata[15]}<extra></extra>",
         "hovertext": [
          "Debbie Sweeney",
          "Susan Beasley",
          "Sarah Robertson",
          "Belinda Davis",
          "Mary Wright",
          "Robert Rodriguez",
          "Mike Watkins",
          "Matthew Robinson",
          "Brandon Martinez",
          "Colleen Williamson",
          "Eric Davis",
          "Andrew Peterson"
         ],
         "legendgroup": "Platform",
         "marker": {
          "color": "#FFA15A",
          "size": [
           1,
           2,
           2,
           3,
           3,
           3,
           4,
           4,
           4,
           5,
           5,
           5
          ],
          "sizemode": "area",
          "sizeref": 0.0175,
          "symbol": "circle"
         },
         "mode": "markers",
         "name": "Platform",
         "orientation": "v",
         "showlegend": true,
         "type": "scatter",
         "x": [
          -0.946824164134796,
          -0.9771802696434619,
          -0.6676081439958717,
          -0.5266632347034811,
          -0.9445011811294656,
          -0.9707468976591136,
          -0.9304547481975252,
          -0.994097613642788,
          -0.9778964827705993,
          -0.4239632810988082,
          -0.8232148074048894,
          -0.5627675358572214
         ],
         "xaxis": "x",
         "y": [
          -0.11596669375099845,
          -0.0847270708877268,
          -0.3063651581465584,
          -0.07021869559935116,
          -0.04059135777206464,
          0.03684233668312812,
          0.04904796255789608,
          -0.04136604145774576,
          -0.001703908099611298,
          -0.07557563580441673,
          -0.03171931377083284,
          -0.20383932079242326
         ],
         "yaxis": "y"
        },
        {
         "customdata": [
          [
           "Hannah Young",
           10,
           true,
           "person",
           "Hannah Young",
           "2022-10-12",
           "Full Time",
           [
            "Java",
            "Python",
            "Typescript",
            "JavaScript",
            "Scala"
           ],
           "Dustin Cantrell",
           "Internal Tools",
           "Engineer",
           {
            "city": "Toronto",
            "country": "CAN",
            "tz": "EST"
           },
           1,
           "Toronto",
           "EST",
           "CAN"
          ],
          [
           "Sandra Buckley",
           10,
           true,
           "person",
           "Sandra Buckley",
           "2022-08-01",
           "Full Time",
           [
            "JavaScript",
            "Java"
           ],
           "Dustin Cantrell",
           "Internal Tools",
           "Engineer",
           {
            "city": "Seattle",
            "country": "USA",
            "tz": "PST"
           },
           1,
           "Seattle",
           "PST",
           "USA"
          ],
          [
           "Gregory Colon",
           10,
           true,
           "person",
           "Gregory Colon",
           "2020-08-18",
           "Full Time",
           [
            "Scala"
           ],
           "Sonya Marshall",
           "Internal Tools",
           "Engineer",
           {
            "city": "Seattle",
            "country": "USA",
            "tz": "PST"
           },
           1,
           "Seattle",
           "PST",
           "USA"
          ],
          [
           "Cynthia Brown",
           10,
           true,
           "person",
           "Cynthia Brown",
           "2023-03-11",
           "Full Time",
           [
            "JavaScript"
           ],
           "Dustin Cantrell",
           "Internal Tools",
           "Senior Engineer",
           {
            "city": "Toronto",
            "country": "CAN",
            "tz": "EST"
           },
           2,
           "Toronto",
           "EST",
           "CAN"
          ],
          [
           "Eric Clark",
           10,
           true,
           "person",
           "Eric Clark",
           "2021-06-16",
           "Full Time",
           [
            "Python",
            "JavaScript"
           ],
           "Dustin Cantrell",
           "Internal Tools",
           "Senior Engineer",
           {
            "city": "Seattle",
            "country": "USA",
            "tz": "PST"
           },
           2,
           "Seattle",
           "PST",
           "USA"
          ],
          [
           "Brent Harris",
           10,
           true,
           "person",
           "Brent Harris",
           "2022-04-30",
           "Contract",
           [
            "Scala"
           ],
           "Dustin Cantrell",
           "Internal Tools",
           "Senior Engineer",
           {
            "city": "Seattle",
            "country": "USA",
            "tz": "PST"
           },
           2,
           "Seattle",
           "PST",
           "USA"
          ],
          [
           "Vicki Lambert",
           10,
           true,
           "person",
           "Vicki Lambert",
           "2021-11-25",
           "Full Time",
           [
            "JavaScript",
            "Go",
            "Scala"
           ],
           "Dustin Cantrell",
           "Internal Tools",
           "Senior Engineer",
           {
            "city": "Toronto",
            "country": "CAN",
            "tz": "EST"
           },
           2,
           "Toronto",
           "EST",
           "CAN"
          ],
          [
           "Kristen Cohen",
           10,
           true,
           "person",
           "Kristen Cohen",
           "2020-12-28",
           "Contract",
           [
            "Typescript"
           ],
           "Dustin Cantrell",
           "Internal Tools",
           "Senior Engineer",
           {
            "city": "Seattle",
            "country": "USA",
            "tz": "PST"
           },
           2,
           "Seattle",
           "PST",
           "USA"
          ],
          [
           "Bruce Torres",
           10,
           true,
           "person",
           "Bruce Torres",
           "2022-08-23",
           "Full Time",
           [
            "JavaScript"
           ],
           "Dustin Cantrell",
           "Internal Tools",
           "Manager",
           {
            "city": "Seattle",
            "country": "USA",
            "tz": "PST"
           },
           3,
           "Seattle",
           "PST",
           "USA"
          ],
          [
           "Carrie Cunningham",
           10,
           true,
           "person",
           "Carrie Cunningham",
           "2020-10-11",
           "Full Time",
           [
            "JavaScript"
           ],
           "Dustin Cantrell",
           "Internal Tools",
           "Manager",
           {
            "city": "Toronto",
            "country": "CAN",
            "tz": "EST"
           },
           3,
           "Toronto",
           "EST",
           "CAN"
          ],
          [
           "Brittney Watkins",
           10,
           true,
           "person",
           "Brittney Watkins",
           "2022-08-06",
           "Full Time",
           [
            "Erlang",
            "JavaScript"
           ],
           "Dustin Cantrell",
           "Internal Tools",
           "AVP",
           {
            "city": "Seattle",
            "country": "USA",
            "tz": "PST"
           },
           4,
           "Seattle",
           "PST",
           "USA"
          ],
          [
           "Dr. Melissa Hernandez",
           10,
           true,
           "person",
           "Dr. Melissa Hernandez",
           "2020-06-28",
           "Contract",
           [
            "JavaScript"
           ],
           "Jordan Harper",
           "Internal Tools",
           "VP",
           {
            "city": "Toronto",
            "country": "CAN",
            "tz": "EST"
           },
           5,
           "Toronto",
           "EST",
           "CAN"
          ],
          [
           "Dustin Cantrell",
           10,
           true,
           "person",
           "Dustin Cantrell",
           "2020-05-04",
           "Full Time",
           [],
           "Dr. Melissa Hernandez",
           "Internal Tools",
           "VP",
           {
            "city": "Seattle",
            "country": "USA",
            "tz": "PST"
           },
           5,
           "Seattle",
           "PST",
           "USA"
          ],
          [
           "Sonya Marshall",
           10,
           true,
           "person",
           "Sonya Marshall",
           "2021-08-04",
           "Contract",
           [
            "Python",
            "Erlang",
            "JavaScript"
           ],
           "Dr. Melissa Hernandez",
           "Internal Tools",
           "VP",
           {
            "city": "Toronto",
            "country": "CAN",
            "tz": "EST"
           },
           5,
           "Toronto",
           "EST",
           "CAN"
          ],
          [
           "Ashley Fleming",
           10,
           true,
           "person",
           "Ashley Fleming",
           "2023-03-07",
           "Full Time",
           [
            "Go"
           ],
           "Dr. Melissa Hernandez",
           "Internal Tools",
           "VP",
           {
            "city": "Seattle",
            "country": "USA",
            "tz": "PST"
           },
           5,
           "Seattle",
           "PST",
           "USA"
          ]
         ],
         "hovertemplate": "<b>%{hovertext}</b><br><br>team=%{customdata[9]}<br>x=%{x}<br>y=%{y}<br>rank=%{customdata[12]}<br>label=%{customdata[0]}<br>size=%{customdata[1]}<br>person=%{customdata[2]}<br>type=%{customdata[3]}<br>name=%{customdata[4]}<br>hire_date=%{customdata[5]}<br>status=%{customdata[6]}<br>languages=%{customdata[7]}<br>manager=%{customdata[8]}<br>title=%{customdata[10]}<br>location=%{customdata[11]}<br>city=%{customdata[13]}<br>tz=%{customdata[14]}<br>country=%{customdata[15]}<extra></extra>",
         "hovertext": [
          "Hannah Young",
          "Sandra Buckley",
          "Gregory Colon",
          "Cynthia Brown",
          "Eric Clark",
          "Brent Harris",
          "Vicki Lambert",
          "Kristen Cohen",
          "Bruce Torres",
          "Carrie Cunningham",
          "Brittney Watkins",
          "Dr. Melissa Hernandez",
          "Dustin Cantrell",
          "Sonya Marshall",
          "Ashley Fleming"
         ],
         "legendgroup": "Internal Tools",
         "marker": {
          "color": "#ab63fa",
          "size": [
           1,
           1,
           1,
           2,
           2,
           2,
           2,
           2,
           3,
           3,
           4,
           5,
           5,
           5,
           5
          ],
          "sizemode": "area",
          "sizeref": 0.0175,
          "symbol": "circle"
         },
         "mode": "markers",
         "name": "Internal Tools",
         "orientation": "v",
         "showlegend": true,
         "type": "scatter",
         "x": [
          -0.415244409868483,
          -0.294616283344239,
          -0.37186494307507106,
          -0.32866849146344623,
          -0.3431204958266412,
          -0.27965245240364645,
          -0.42716252609042943,
          -0.2446655053223935,
          -0.44043247653991235,
          -0.37985709958785707,
          -0.3785877414616653,
          -0.17077123305960204,
          -0.3134365387056926,
          -0.2952948047304851,
          -0.2681453383624667
         ],
         "xaxis": "x",
         "y": [
          0.9125845005312573,
          0.8949496410618349,
          0.6011756109850999,
          0.9540307341431734,
          0.9103888416024316,
          0.9439621223873395,
          0.8326190753139192,
          0.9035650465992092,
          0.8744727989175953,
          0.9416264392645467,
          0.8750898911027012,
          0.3677096485621801,
          0.7832291699924109,
          0.5012958049686245,
          0.41221151093962866
         ],
         "yaxis": "y"
        },
        {
         "customdata": [
          [
           "Nicholas Campbell",
           10,
           true,
           "person",
           "Nicholas Campbell",
           "2020-12-07",
           "Full Time",
           [
            "Python",
            "JavaScript"
           ],
           "Jose Williams",
           "DevX",
           "Engineer",
           {
            "city": "Fort Lauderdale",
            "country": "USA",
            "tz": "EST"
           },
           5,
           "Fort Lauderdale",
           "EST",
           "USA"
          ],
          [
           "David Sullivan",
           10,
           true,
           "person",
           "David Sullivan",
           "2020-06-23",
           "Full Time",
           [
            "Go"
           ],
           "Christopher Taylor",
           "DevX",
           "Engineer",
           {
            "city": "Fort Lauderdale",
            "country": "USA",
            "tz": "EST"
           },
           5,
           "Fort Lauderdale",
           "EST",
           "USA"
          ],
          [
           "Derek White",
           10,
           true,
           "person",
           "Derek White",
           "2021-03-06",
           "Contract",
           [],
           "Christopher Taylor",
           "DevX",
           "Engineer",
           {
            "city": "Fort Lauderdale",
            "country": "USA",
            "tz": "EST"
           },
           5,
           "Fort Lauderdale",
           "EST",
           "USA"
          ],
          [
           "Mark Munoz",
           10,
           true,
           "person",
           "Mark Munoz",
           "2022-12-06",
           "Part Time",
           [
            "Java"
           ],
           "Christopher Taylor",
           "DevX",
           "Engineer",
           {
            "city": "Fort Lauderdale",
            "country": "USA",
            "tz": "EST"
           },
           5,
           "Fort Lauderdale",
           "EST",
           "USA"
          ],
          [
           "Kenneth Bryant",
           10,
           true,
           "person",
           "Kenneth Bryant",
           "2020-10-30",
           "Full Time",
           [
            "Python",
            "Typescript"
           ],
           "Christopher Taylor",
           "DevX",
           "Engineer",
           {
            "city": "Fort Lauderdale",
            "country": "USA",
            "tz": "EST"
           },
           5,
           "Fort Lauderdale",
           "EST",
           "USA"
          ],
          [
           "Jessica Edwards",
           10,
           true,
           "person",
           "Jessica Edwards",
           "2021-11-25",
           "Contract",
           [
            "Python",
            "JavaScript"
           ],
           "Christopher Taylor",
           "DevX",
           "Engineer",
           {
            "city": "Fort Lauderdale",
            "country": "USA",
            "tz": "EST"
           },
           5,
           "Fort Lauderdale",
           "EST",
           "USA"
          ],
          [
           "Kelly Huff",
           10,
           true,
           "person",
           "Kelly Huff",
           "2020-09-17",
           "Contract",
           [
            "Python",
            "Typescript",
            "JavaScript",
            "Java"
           ],
           "Christopher Taylor",
           "DevX",
           "Engineer",
           {
            "city": "Fort Lauderdale",
            "country": "USA",
            "tz": "EST"
           },
           5,
           "Fort Lauderdale",
           "EST",
           "USA"
          ],
          [
           "James Elliott",
           10,
           true,
           "person",
           "James Elliott",
           "2021-07-31",
           "Full Time",
           [
            "Python",
            "Go"
           ],
           "Kaitlin Little",
           "DevX",
           "Engineer",
           {
            "city": "Fort Lauderdale",
            "country": "USA",
            "tz": "EST"
           },
           5,
           "Fort Lauderdale",
           "EST",
           "USA"
          ],
          [
           "Marissa Martinez",
           10,
           true,
           "person",
           "Marissa Martinez",
           "2022-06-07",
           "Contract",
           [
            "Python",
            "Typescript",
            "JavaScript",
            "Go"
           ],
           "Kaitlin Little",
           "DevX",
           "Engineer",
           {
            "city": "Fort Lauderdale",
            "country": "USA",
            "tz": "EST"
           },
           5,
           "Fort Lauderdale",
           "EST",
           "USA"
          ],
          [
           "James Moore",
           10,
           true,
           "person",
           "James Moore",
           "2020-08-20",
           "Full Time",
           [
            "Python",
            "Typescript"
           ],
           "Kaitlin Little",
           "DevX",
           "Engineer",
           {
            "city": "Fort Lauderdale",
            "country": "USA",
            "tz": "EST"
           },
           5,
           "Fort Lauderdale",
           "EST",
           "USA"
          ],
          [
           "Marissa Johnson",
           10,
           true,
           "person",
           "Marissa Johnson",
           "2021-05-16",
           "Full Time",
           [
            "Python"
           ],
           "Kaitlin Little",
           "DevX",
           "Engineer",
           {
            "city": "Fort Lauderdale",
            "country": "USA",
            "tz": "EST"
           },
           5,
           "Fort Lauderdale",
           "EST",
           "USA"
          ],
          [
           "Bonnie Nash",
           10,
           true,
           "person",
           "Bonnie Nash",
           "2021-06-22",
           "Full Time",
           [
            "Typescript",
            "JavaScript",
            "Scala"
           ],
           "Kaitlin Little",
           "DevX",
           "Engineer",
           {
            "city": "Fort Lauderdale",
            "country": "USA",
            "tz": "EST"
           },
           5,
           "Fort Lauderdale",
           "EST",
           "USA"
          ],
          [
           "Cody Holland",
           10,
           true,
           "person",
           "Cody Holland",
           "2021-01-29",
           "Full Time",
           [
            "Scala"
           ],
           "Kaitlin Little",
           "DevX",
           "Engineer",
           {
            "city": "Fort Lauderdale",
            "country": "USA",
            "tz": "EST"
           },
           5,
           "Fort Lauderdale",
           "EST",
           "USA"
          ],
          [
           "Mark Crawford",
           10,
           true,
           "person",
           "Mark Crawford",
           "2020-11-01",
           "Contract",
           [
            "Typescript",
            "JavaScript"
           ],
           "Kaitlin Little",
           "DevX",
           "Engineer",
           {
            "city": "Fort Lauderdale",
            "country": "USA",
            "tz": "EST"
           },
           5,
           "Fort Lauderdale",
           "EST",
           "USA"
          ],
          [
           "Carolyn Roth",
           10,
           true,
           "person",
           "Carolyn Roth",
           "2020-12-29",
           "Contract",
           [
            "JavaScript"
           ],
           "Kaitlin Little",
           "DevX",
           "Engineer",
           {
            "city": "Fort Lauderdale",
            "country": "USA",
            "tz": "EST"
           },
           5,
           "Fort Lauderdale",
           "EST",
           "USA"
          ],
          [
           "Jake Barber",
           10,
           true,
           "person",
           "Jake Barber",
           "2021-08-29",
           "Full Time",
           [
            "Python"
           ],
           "Todd Peterson",
           "DevX",
           "Engineer",
           {
            "city": "Fort Lauderdale",
            "country": "USA",
            "tz": "EST"
           },
           5,
           "Fort Lauderdale",
           "EST",
           "USA"
          ],
          [
           "Samantha Jordan",
           10,
           true,
           "person",
           "Samantha Jordan",
           "2021-03-13",
           "Full Time",
           [],
           "Todd Peterson",
           "DevX",
           "Engineer",
           {
            "city": "Fort Lauderdale",
            "country": "USA",
            "tz": "EST"
           },
           5,
           "Fort Lauderdale",
           "EST",
           "USA"
          ],
          [
           "Christina Graves",
           10,
           true,
           "person",
           "Christina Graves",
           "2023-02-05",
           "Full Time",
           [
            "Typescript",
            "JavaScript",
            "Scala",
            "Java"
           ],
           "Todd Peterson",
           "DevX",
           "Engineer",
           {
            "city": "Fort Lauderdale",
            "country": "USA",
            "tz": "EST"
           },
           5,
           "Fort Lauderdale",
           "EST",
           "USA"
          ],
          [
           "Sarah Little",
           10,
           true,
           "person",
           "Sarah Little",
           "2022-05-22",
           "Full Time",
           [
            "Go"
           ],
           "Todd Peterson",
           "DevX",
           "Engineer",
           {
            "city": "Fort Lauderdale",
            "country": "USA",
            "tz": "EST"
           },
           5,
           "Fort Lauderdale",
           "EST",
           "USA"
          ],
          [
           "Lisa Robbins",
           10,
           true,
           "person",
           "Lisa Robbins",
           "2022-06-01",
           "Full Time",
           [
            "Erlang"
           ],
           "Todd Peterson",
           "DevX",
           "Engineer",
           {
            "city": "Fort Lauderdale",
            "country": "USA",
            "tz": "EST"
           },
           5,
           "Fort Lauderdale",
           "EST",
           "USA"
          ],
          [
           "Mary Gonzalez",
           10,
           true,
           "person",
           "Mary Gonzalez",
           "2022-09-30",
           "Full Time",
           [
            "Python",
            "Java"
           ],
           "Todd Peterson",
           "DevX",
           "Engineer",
           {
            "city": "Fort Lauderdale",
            "country": "USA",
            "tz": "EST"
           },
           5,
           "Fort Lauderdale",
           "EST",
           "USA"
          ],
          [
           "Vickie Barrett",
           10,
           true,
           "person",
           "Vickie Barrett",
           "2021-11-22",
           "Full Time",
           [
            "Typescript"
           ],
           "Todd Peterson",
           "DevX",
           "Engineer",
           {
            "city": "Fort Lauderdale",
            "country": "USA",
            "tz": "EST"
           },
           5,
           "Fort Lauderdale",
           "EST",
           "USA"
          ],
          [
           "Jose Williams",
           10,
           true,
           "person",
           "Jose Williams",
           "2023-02-14",
           "Full Time",
           [
            "Python"
           ],
           "Jordan Harper",
           "DevX",
           "AVP",
           {
            "city": "Fort Lauderdale",
            "country": "USA",
            "tz": "EST"
           },
           6,
           "Fort Lauderdale",
           "EST",
           "USA"
          ],
          [
           "Christopher Taylor",
           10,
           true,
           "person",
           "Christopher Taylor",
           "2022-11-11",
           "Full Time",
           [
            "Python"
           ],
           "Jose Williams",
           "DevX",
           "AVP",
           {
            "city": "Fort Lauderdale",
            "country": "USA",
            "tz": "EST"
           },
           6,
           "Fort Lauderdale",
           "EST",
           "USA"
          ],
          [
           "Kaitlin Little",
           10,
           true,
           "person",
           "Kaitlin Little",
           "2022-07-23",
           "Full Time",
           [
            "JavaScript"
           ],
           "Jose Williams",
           "DevX",
           "AVP",
           {
            "city": "Fort Lauderdale",
            "country": "USA",
            "tz": "EST"
           },
           6,
           "Fort Lauderdale",
           "EST",
           "USA"
          ],
          [
           "Todd Peterson",
           10,
           true,
           "person",
           "Todd Peterson",
           "2021-01-19",
           "Contract",
           [],
           "Jose Williams",
           "DevX",
           "AVP",
           {
            "city": "Fort Lauderdale",
            "country": "USA",
            "tz": "EST"
           },
           6,
           "Fort Lauderdale",
           "EST",
           "USA"
          ]
         ],
         "hovertemplate": "<b>%{hovertext}</b><br><br>team=%{customdata[9]}<br>x=%{x}<br>y=%{y}<br>rank=%{customdata[12]}<br>label=%{customdata[0]}<br>size=%{customdata[1]}<br>person=%{customdata[2]}<br>type=%{customdata[3]}<br>name=%{customdata[4]}<br>hire_date=%{customdata[5]}<br>status=%{customdata[6]}<br>languages=%{customdata[7]}<br>manager=%{customdata[8]}<br>title=%{customdata[10]}<br>location=%{customdata[11]}<br>city=%{customdata[13]}<br>tz=%{customdata[14]}<br>country=%{customdata[15]}<extra></extra>",
         "hovertext": [
          "Nicholas Campbell",
          "David Sullivan",
          "Derek White",
          "Mark Munoz",
          "Kenneth Bryant",
          "Jessica Edwards",
          "Kelly Huff",
          "James Elliott",
          "Marissa Martinez",
          "James Moore",
          "Marissa Johnson",
          "Bonnie Nash",
          "Cody Holland",
          "Mark Crawford",
          "Carolyn Roth",
          "Jake Barber",
          "Samantha Jordan",
          "Christina Graves",
          "Sarah Little",
          "Lisa Robbins",
          "Mary Gonzalez",
          "Vickie Barrett",
          "Jose Williams",
          "Christopher Taylor",
          "Kaitlin Little",
          "Todd Peterson"
         ],
         "legendgroup": "DevX",
         "marker": {
          "color": "#00cc96",
          "size": [
           5,
           5,
           5,
           5,
           5,
           5,
           5,
           5,
           5,
           5,
           5,
           5,
           5,
           5,
           5,
           5,
           5,
           5,
           5,
           5,
           5,
           5,
           6,
           6,
           6,
           6
          ],
          "sizemode": "area",
          "sizeref": 0.0175,
          "symbol": "circle"
         },
         "mode": "markers",
         "name": "DevX",
         "orientation": "v",
         "showlegend": true,
         "type": "scatter",
         "x": [
          -0.4483616562056767,
          -0.678166081577126,
          -0.761224830057513,
          -0.7508590652892879,
          -0.7312392140919776,
          -0.7129938151296363,
          -0.7269585787737145,
          -0.8349261422033081,
          -0.8224746996463408,
          -0.7262063208075034,
          -0.8078221212485156,
          -0.8484134021681928,
          -0.7803243420001449,
          -0.7653012853994794,
          -0.8014042911348629,
          -0.24429984287266288,
          -0.20886784597852728,
          -0.16316838323855132,
          -0.1326480085878116,
          -0.09447908247248368,
          -0.12582175475012505,
          -0.08970640522575118,
          -0.36081083675925624,
          -0.6235570773507804,
          -0.690013803644419,
          -0.1935296210663241
         ],
         "xaxis": "x",
         "y": [
          0.22541880776241074,
          -0.16986347100467572,
          -0.11347473519208257,
          -0.061797535591250605,
          -0.013124425290471779,
          -0.10963285153261804,
          -0.1606055840762962,
          0.376649092132008,
          0.4680268581987407,
          0.4896246906484682,
          0.34823063856751774,
          0.4229536209748263,
          0.4979567245733895,
          0.4534118728388325,
          0.4190430268353264,
          0.49661861109185607,
          0.5297844392755848,
          0.5324158328492308,
          0.45197061286163587,
          0.4235374477695477,
          0.5141567495002567,
          0.485879790732879,
          0.1567539016514115,
          -0.04286181059218251,
          0.3662545559743679,
          0.39988470497861006
         ],
         "yaxis": "y"
        },
        {
         "customdata": [
          [
           "Zachary Ibarra",
           10,
           true,
           "person",
           "Zachary Ibarra",
           "2021-01-27",
           "Contract",
           [
            "Python",
            "Typescript",
            "Java"
           ],
           "Lauren Webb",
           "DevOps",
           "Engineer",
           {
            "city": "Dublin",
            "country": "IRL",
            "tz": "UTC"
           },
           1,
           "Dublin",
           "UTC",
           "IRL"
          ],
          [
           "Jessica Robertson",
           10,
           true,
           "person",
           "Jessica Robertson",
           "2021-01-20",
           "Contract",
           [
            "Java"
           ],
           "Lauren Webb",
           "DevOps",
           "Engineer",
           {
            "city": "Dublin",
            "country": "IRL",
            "tz": "UTC"
           },
           1,
           "Dublin",
           "UTC",
           "IRL"
          ],
          [
           "Kyle Ross",
           10,
           true,
           "person",
           "Kyle Ross",
           "2023-02-27",
           "Full Time",
           [
            "Python",
            "Typescript",
            "Scala"
           ],
           "Crystal Ayers",
           "DevOps",
           "Engineer",
           {
            "city": "Dublin",
            "country": "IRL",
            "tz": "UTC"
           },
           1,
           "Dublin",
           "UTC",
           "IRL"
          ],
          [
           "Donna Baird",
           10,
           true,
           "person",
           "Donna Baird",
           "2022-07-20",
           "Contract",
           [],
           "Heather Rojas",
           "DevOps",
           "Engineer",
           {
            "city": "Dublin",
            "country": "IRL",
            "tz": "UTC"
           },
           1,
           "Dublin",
           "UTC",
           "IRL"
          ],
          [
           "Austin Alexander",
           10,
           true,
           "person",
           "Austin Alexander",
           "2022-03-06",
           "Full Time",
           [],
           "Heather Rojas",
           "DevOps",
           "Engineer",
           {
            "city": "Dublin",
            "country": "IRL",
            "tz": "UTC"
           },
           1,
           "Dublin",
           "UTC",
           "IRL"
          ],
          [
           "Pamela Austin",
           10,
           true,
           "person",
           "Pamela Austin",
           "2022-02-07",
           "Contract",
           [],
           "Heather Rojas",
           "DevOps",
           "Engineer",
           {
            "city": "Dublin",
            "country": "IRL",
            "tz": "UTC"
           },
           1,
           "Dublin",
           "UTC",
           "IRL"
          ],
          [
           "Lauren Webb",
           10,
           true,
           "person",
           "Lauren Webb",
           "2021-03-24",
           "Part Time",
           [
            "Go"
           ],
           "Jordan Harper",
           "DevOps",
           "Senior Engineer",
           {
            "city": "Dublin",
            "country": "IRL",
            "tz": "UTC"
           },
           2,
           "Dublin",
           "UTC",
           "IRL"
          ],
          [
           "Todd Olson",
           10,
           true,
           "person",
           "Todd Olson",
           "2022-08-05",
           "Full Time",
           [],
           "Crystal Ayers",
           "DevOps",
           "Senior Engineer",
           {
            "city": "Dublin",
            "country": "IRL",
            "tz": "UTC"
           },
           2,
           "Dublin",
           "UTC",
           "IRL"
          ],
          [
           "Katrina Crosby",
           10,
           true,
           "person",
           "Katrina Crosby",
           "2022-04-26",
           "Full Time",
           [
            "Java"
           ],
           "Crystal Ayers",
           "DevOps",
           "Senior Engineer",
           {
            "city": "Dublin",
            "country": "IRL",
            "tz": "UTC"
           },
           2,
           "Dublin",
           "UTC",
           "IRL"
          ],
          [
           "Jerome Lutz",
           10,
           true,
           "person",
           "Jerome Lutz",
           "2020-10-25",
           "Contract",
           [],
           "Crystal Ayers",
           "DevOps",
           "Senior Engineer",
           {
            "city": "Dublin",
            "country": "IRL",
            "tz": "UTC"
           },
           2,
           "Dublin",
           "UTC",
           "IRL"
          ],
          [
           "Crystal Ayers",
           10,
           true,
           "person",
           "Crystal Ayers",
           "2021-12-25",
           "Full Time",
           [
            "Python",
            "JavaScript"
           ],
           "Jordan Harper",
           "DevOps",
           "Manager",
           {
            "city": "Dublin",
            "country": "IRL",
            "tz": "UTC"
           },
           3,
           "Dublin",
           "UTC",
           "IRL"
          ],
          [
           "Heather Rojas",
           10,
           true,
           "person",
           "Heather Rojas",
           "2021-10-13",
           "Full Time",
           [
            "JavaScript",
            "Java"
           ],
           "Crystal Ayers",
           "DevOps",
           "Manager",
           {
            "city": "Dublin",
            "country": "IRL",
            "tz": "UTC"
           },
           3,
           "Dublin",
           "UTC",
           "IRL"
          ],
          [
           "Michael Mayo",
           10,
           true,
           "person",
           "Michael Mayo",
           "2022-05-29",
           "Full Time",
           [
            "Typescript",
            "Java"
           ],
           "Crystal Ayers",
           "DevOps",
           "Manager",
           {
            "city": "Dublin",
            "country": "IRL",
            "tz": "UTC"
           },
           3,
           "Dublin",
           "UTC",
           "IRL"
          ],
          [
           "Shelby Robinson",
           10,
           true,
           "person",
           "Shelby Robinson",
           "2022-05-27",
           "Part Time",
           [
            "Python",
            "JavaScript",
            "Scala"
           ],
           "Crystal Ayers",
           "DevOps",
           "Manager",
           {
            "city": "Dublin",
            "country": "IRL",
            "tz": "UTC"
           },
           3,
           "Dublin",
           "UTC",
           "IRL"
          ]
         ],
         "hovertemplate": "<b>%{hovertext}</b><br><br>team=%{customdata[9]}<br>x=%{x}<br>y=%{y}<br>rank=%{customdata[12]}<br>label=%{customdata[0]}<br>size=%{customdata[1]}<br>person=%{customdata[2]}<br>type=%{customdata[3]}<br>name=%{customdata[4]}<br>hire_date=%{customdata[5]}<br>status=%{customdata[6]}<br>languages=%{customdata[7]}<br>manager=%{customdata[8]}<br>title=%{customdata[10]}<br>location=%{customdata[11]}<br>city=%{customdata[13]}<br>tz=%{customdata[14]}<br>country=%{customdata[15]}<extra></extra>",
         "hovertext": [
          "Zachary Ibarra",
          "Jessica Robertson",
          "Kyle Ross",
          "Donna Baird",
          "Austin Alexander",
          "Pamela Austin",
          "Lauren Webb",
          "Todd Olson",
          "Katrina Crosby",
          "Jerome Lutz",
          "Crystal Ayers",
          "Heather Rojas",
          "Michael Mayo",
          "Shelby Robinson"
         ],
         "legendgroup": "DevOps",
         "marker": {
          "color": "#EF553B",
          "size": [
           1,
           1,
           1,
           1,
           1,
           1,
           2,
           2,
           2,
           2,
           3,
           3,
           3,
           3
          ],
          "sizemode": "area",
          "sizeref": 0.0175,
          "symbol": "circle"
         },
         "mode": "markers",
         "name": "DevOps",
         "orientation": "v",
         "showlegend": true,
         "type": "scatter",
         "x": [
          -0.13533460557348134,
          -0.16904040614403332,
          -0.1379488913848701,
          -0.10829539352494796,
          -0.0009763605120157182,
          0.04852006450025823,
          -0.07466882224752104,
          -0.20601727105687692,
          -0.18781948841951424,
          -0.17939169931913107,
          -0.08764454198469986,
          -0.04638755445005289,
          -0.12976196097091924,
          -0.05187316775767977
         ],
         "xaxis": "x",
         "y": [
          -0.21400798463315274,
          -0.17535650007858267,
          -0.47821650258227033,
          -0.6253274383513792,
          -0.5920656638475217,
          -0.5393766553785522,
          -0.14099036055460698,
          -0.4168539500995671,
          -0.4609412972784335,
          -0.37919777567635804,
          -0.3491202528683945,
          -0.5182502632545328,
          -0.43344425393367164,
          -0.42604635269222535
         ],
         "yaxis": "y"
        },
        {
         "customdata": [
          [
           "Jason James",
           10,
           true,
           "person",
           "Jason James",
           "2021-09-07",
           "Contract",
           [],
           "Lauren Berry",
           "Business",
           "Analyst",
           {
            "city": "London",
            "country": "GBR",
            "tz": "UTC"
           },
           1,
           "London",
           "UTC",
           "GBR"
          ],
          [
           "Robert Dorsey",
           10,
           true,
           "person",
           "Robert Dorsey",
           "2020-06-19",
           "Full Time",
           [
            "Python",
            "Typescript",
            "JavaScript",
            "Java"
           ],
           "Cathy Johnson",
           "Business",
           "Analyst",
           {
            "city": "New York",
            "country": "USA",
            "tz": "EST"
           },
           1,
           "New York",
           "EST",
           "USA"
          ],
          [
           "Andrea Williams",
           10,
           true,
           "person",
           "Andrea Williams",
           "2020-06-09",
           "Part Time",
           [
            "JavaScript",
            "Go"
           ],
           "Jordan Owens",
           "Business",
           "Analyst",
           {
            "city": "London",
            "country": "GBR",
            "tz": "UTC"
           },
           1,
           "London",
           "UTC",
           "GBR"
          ],
          [
           "Kevin Martin",
           10,
           true,
           "person",
           "Kevin Martin",
           "2022-09-26",
           "Full Time",
           [
            "Python",
            "JavaScript",
            "Java"
           ],
           "Jordan Owens",
           "Business",
           "Analyst",
           {
            "city": "London",
            "country": "GBR",
            "tz": "UTC"
           },
           1,
           "London",
           "UTC",
           "GBR"
          ],
          [
           "Sherry Thompson",
           10,
           true,
           "person",
           "Sherry Thompson",
           "2020-05-19",
           "Full Time",
           [],
           "Jordan Harper",
           "Business",
           "Associate",
           {
            "city": "London",
            "country": "GBR",
            "tz": "UTC"
           },
           2,
           "London",
           "UTC",
           "GBR"
          ],
          [
           "Katelyn Cross",
           10,
           true,
           "person",
           "Katelyn Cross",
           "2022-10-29",
           "Full Time",
           [],
           "Lauren Berry",
           "Business",
           "Associate",
           {
            "city": "New York",
            "country": "USA",
            "tz": "EST"
           },
           2,
           "New York",
           "EST",
           "USA"
          ],
          [
           "Rebekah Jackson",
           10,
           true,
           "person",
           "Rebekah Jackson",
           "2022-04-06",
           "Contract",
           [
            "Python"
           ],
           "Cathy Johnson",
           "Business",
           "Associate",
           {
            "city": "London",
            "country": "GBR",
            "tz": "UTC"
           },
           2,
           "London",
           "UTC",
           "GBR"
          ],
          [
           "Krista Brooks",
           10,
           true,
           "person",
           "Krista Brooks",
           "2022-01-23",
           "Full Time",
           [],
           "Cathy Johnson",
           "Business",
           "Associate",
           {
            "city": "New York",
            "country": "USA",
            "tz": "EST"
           },
           2,
           "New York",
           "EST",
           "USA"
          ],
          [
           "Theresa Parker",
           10,
           true,
           "person",
           "Theresa Parker",
           "2020-09-02",
           "Contract",
           [],
           "Cathy Johnson",
           "Business",
           "Associate",
           {
            "city": "New York",
            "country": "USA",
            "tz": "EST"
           },
           2,
           "New York",
           "EST",
           "USA"
          ],
          [
           "Teresa David",
           10,
           true,
           "person",
           "Teresa David",
           "2023-03-16",
           "Contract",
           [],
           "Cathy Johnson",
           "Business",
           "Associate",
           {
            "city": "London",
            "country": "GBR",
            "tz": "UTC"
           },
           2,
           "London",
           "UTC",
           "GBR"
          ],
          [
           "Tara Douglas",
           10,
           true,
           "person",
           "Tara Douglas",
           "2022-02-03",
           "Full Time",
           [
            "Python",
            "Go",
            "Java"
           ],
           "Steven Edwards",
           "Business",
           "Associate",
           {
            "city": "London",
            "country": "GBR",
            "tz": "UTC"
           },
           2,
           "London",
           "UTC",
           "GBR"
          ],
          [
           "Lisa Hoover",
           10,
           true,
           "person",
           "Lisa Hoover",
           "2021-11-06",
           "Contract",
           [],
           "Steven Edwards",
           "Business",
           "Associate",
           {
            "city": "Toronto",
            "country": "CAN",
            "tz": "EST"
           },
           2,
           "Toronto",
           "EST",
           "CAN"
          ],
          [
           "Mason Chase",
           10,
           true,
           "person",
           "Mason Chase",
           "2021-09-20",
           "Full Time",
           [
            "Java",
            "Python",
            "Typescript",
            "JavaScript",
            "Scala"
           ],
           "Christopher Griffin",
           "Business",
           "Vice President",
           {
            "city": "Toronto",
            "country": "CAN",
            "tz": "EST"
           },
           3,
           "Toronto",
           "EST",
           "CAN"
          ],
          [
           "Meagan Dyer",
           10,
           true,
           "person",
           "Meagan Dyer",
           "2020-07-28",
           "Contract",
           [
            "JavaScript"
           ],
           "Austin Wang",
           "Business",
           "Vice President",
           {
            "city": "New York",
            "country": "USA",
            "tz": "EST"
           },
           3,
           "New York",
           "EST",
           "USA"
          ],
          [
           "Lauren Berry",
           10,
           true,
           "person",
           "Lauren Berry",
           "2023-01-16",
           "Full Time",
           [],
           "Jordan Harper",
           "Business",
           "Director",
           {
            "city": "New York",
            "country": "USA",
            "tz": "EST"
           },
           4,
           "New York",
           "EST",
           "USA"
          ],
          [
           "Cathy Johnson",
           10,
           true,
           "person",
           "Cathy Johnson",
           "2023-01-16",
           "Contract",
           [
            "Typescript"
           ],
           "Lauren Berry",
           "Business",
           "Director",
           {
            "city": "New York",
            "country": "USA",
            "tz": "EST"
           },
           4,
           "New York",
           "EST",
           "USA"
          ],
          [
           "Adam Jackson",
           10,
           true,
           "person",
           "Adam Jackson",
           "2021-01-02",
           "Part Time",
           [],
           "Lauren Berry",
           "Business",
           "Director",
           {
            "city": "Toronto",
            "country": "CAN",
            "tz": "EST"
           },
           4,
           "Toronto",
           "EST",
           "CAN"
          ],
          [
           "Christopher Griffin",
           10,
           true,
           "person",
           "Christopher Griffin",
           "2022-07-26",
           "Contract",
           [
            "JavaScript",
            "Go",
            "Java"
           ],
           "Lauren Berry",
           "Business",
           "Director",
           {
            "city": "New York",
            "country": "USA",
            "tz": "EST"
           },
           4,
           "New York",
           "EST",
           "USA"
          ],
          [
           "Steven Edwards",
           10,
           true,
           "person",
           "Steven Edwards",
           "2021-08-18",
           "Full Time",
           [
            "Python",
            "JavaScript"
           ],
           "Lauren Berry",
           "Business",
           "Director",
           {
            "city": "London",
            "country": "GBR",
            "tz": "UTC"
           },
           4,
           "London",
           "UTC",
           "GBR"
          ],
          [
           "Christopher Smith",
           10,
           true,
           "person",
           "Christopher Smith",
           "2021-01-29",
           "Full Time",
           [
            "JavaScript",
            "Java"
           ],
           "Lauren Berry",
           "Business",
           "Director",
           {
            "city": "New York",
            "country": "USA",
            "tz": "EST"
           },
           4,
           "New York",
           "EST",
           "USA"
          ],
          [
           "Kevin Gonzalez",
           10,
           true,
           "person",
           "Kevin Gonzalez",
           "2021-03-03",
           "Contract",
           [],
           "Lauren Berry",
           "Business",
           "Director",
           {
            "city": "London",
            "country": "GBR",
            "tz": "UTC"
           },
           4,
           "London",
           "UTC",
           "GBR"
          ],
          [
           "Barbara Gomez",
           10,
           true,
           "person",
           "Barbara Gomez",
           "2022-07-17",
           "Full Time",
           [
            "Python",
            "JavaScript",
            "Scala"
           ],
           "Jordan Owens",
           "Business",
           "Director",
           {
            "city": "London",
            "country": "GBR",
            "tz": "UTC"
           },
           4,
           "London",
           "UTC",
           "GBR"
          ],
          [
           "Julia Chen",
           10,
           true,
           "person",
           "Julia Chen",
           "2021-02-28",
           "Full Time",
           [],
           "Austin Wang",
           "Business",
           "Director",
           {
            "city": "New York",
            "country": "USA",
            "tz": "EST"
           },
           4,
           "New York",
           "EST",
           "USA"
          ],
          [
           "Jordan Owens",
           10,
           true,
           "person",
           "Jordan Owens",
           "2022-08-13",
           "Contract",
           [
            "JavaScript"
           ],
           "Jordan Harper",
           "Business",
           "Managing Director",
           {
            "city": "New York",
            "country": "USA",
            "tz": "EST"
           },
           5,
           "New York",
           "EST",
           "USA"
          ],
          [
           "Terry Morrison",
           10,
           true,
           "person",
           "Terry Morrison",
           "2022-05-09",
           "Full Time",
           [
            "Typescript"
           ],
           "Jordan Owens",
           "Business",
           "Managing Director",
           {
            "city": "New York",
            "country": "USA",
            "tz": "EST"
           },
           5,
           "New York",
           "EST",
           "USA"
          ],
          [
           "Austin Wang",
           10,
           true,
           "person",
           "Austin Wang",
           "2020-12-30",
           "Full Time",
           [],
           "Jordan Owens",
           "Business",
           "Managing Director",
           {
            "city": "New York",
            "country": "USA",
            "tz": "EST"
           },
           5,
           "New York",
           "EST",
           "USA"
          ]
         ],
         "hovertemplate": "<b>%{hovertext}</b><br><br>team=%{customdata[9]}<br>x=%{x}<br>y=%{y}<br>rank=%{customdata[12]}<br>label=%{customdata[0]}<br>size=%{customdata[1]}<br>person=%{customdata[2]}<br>type=%{customdata[3]}<br>name=%{customdata[4]}<br>hire_date=%{customdata[5]}<br>status=%{customdata[6]}<br>languages=%{customdata[7]}<br>manager=%{customdata[8]}<br>title=%{customdata[10]}<br>location=%{customdata[11]}<br>city=%{customdata[13]}<br>tz=%{customdata[14]}<br>country=%{customdata[15]}<extra></extra>",
         "hovertext": [
          "Jason James",
          "Robert Dorsey",
          "Andrea Williams",
          "Kevin Martin",
          "Sherry Thompson",
          "Katelyn Cross",
          "Rebekah Jackson",
          "Krista Brooks",
          "Theresa Parker",
          "Teresa David",
          "Tara Douglas",
          "Lisa Hoover",
          "Mason Chase",
          "Meagan Dyer",
          "Lauren Berry",
          "Cathy Johnson",
          "Adam Jackson",
          "Christopher Griffin",
          "Steven Edwards",
          "Christopher Smith",
          "Kevin Gonzalez",
          "Barbara Gomez",
          "Julia Chen",
          "Jordan Owens",
          "Terry Morrison",
          "Austin Wang"
         ],
         "legendgroup": "Business",
         "marker": {
          "color": "#636efa",
          "size": [
           1,
           1,
           1,
           1,
           2,
           2,
           2,
           2,
           2,
           2,
           2,
           2,
           3,
           3,
           4,
           4,
           4,
           4,
           4,
           4,
           4,
           4,
           4,
           5,
           5,
           5
          ],
          "sizemode": "area",
          "sizeref": 0.0175,
          "symbol": "circle"
         },
         "mode": "markers",
         "name": "Business",
         "orientation": "v",
         "showlegend": true,
         "type": "scatter",
         "x": [
          0.5927937333481988,
          0.9727857623057351,
          0.38964734133673173,
          0.3908773948373128,
          0.08044974627682816,
          0.6303839358299795,
          0.9520746349581585,
          0.9643240295035702,
          0.9919761162657871,
          1,
          0.8559665236964753,
          0.8369009403609544,
          0.4098880444981627,
          0.6346401685716698,
          0.5082530558948165,
          0.8391839482914969,
          0.592107111000655,
          0.4802485179486141,
          0.7198524116682291,
          0.6244688977249222,
          0.6379967823120225,
          0.3383976770763625,
          0.6069914450868533,
          0.3013065331065137,
          0.41298553901303975,
          0.5002698798205593
         ],
         "xaxis": "x",
         "y": [
          -0.14723817821634358,
          -0.08399960030618073,
          -0.32191271331045085,
          -0.22822744591448052,
          0.007789708219365462,
          -0.04147070238106825,
          -0.21387872569868657,
          -0.15225250467180143,
          -0.18380394279190854,
          -0.12271525167924802,
          0.018476297971440497,
          0.06766488532651607,
          0.0920923139201752,
          -0.4259898071215515,
          -0.06875462274718812,
          -0.12672207698817944,
          -0.0057712291171223605,
          0.028741550792891077,
          0.0024056821199798005,
          -0.08655477138780472,
          -0.12841284222946805,
          -0.3274849725961024,
          -0.46605839246430164,
          -0.23746469319720262,
          -0.2766703803126058,
          -0.36729230194385754
         ],
         "yaxis": "y"
        }
       ],
       "layout": {
        "legend": {
         "itemsizing": "constant",
         "title": {
          "text": "team"
         },
         "tracegroupgap": 0
        },
        "margin": {
         "t": 60
        },
        "template": {
         "data": {
          "bar": [
           {
            "error_x": {
             "color": "#f2f5fa"
            },
            "error_y": {
             "color": "#f2f5fa"
            },
            "marker": {
             "line": {
              "color": "rgb(17,17,17)",
              "width": 0.5
             },
             "pattern": {
              "fillmode": "overlay",
              "size": 10,
              "solidity": 0.2
             }
            },
            "type": "bar"
           }
          ],
          "barpolar": [
           {
            "marker": {
             "line": {
              "color": "rgb(17,17,17)",
              "width": 0.5
             },
             "pattern": {
              "fillmode": "overlay",
              "size": 10,
              "solidity": 0.2
             }
            },
            "type": "barpolar"
           }
          ],
          "carpet": [
           {
            "aaxis": {
             "endlinecolor": "#A2B1C6",
             "gridcolor": "#506784",
             "linecolor": "#506784",
             "minorgridcolor": "#506784",
             "startlinecolor": "#A2B1C6"
            },
            "baxis": {
             "endlinecolor": "#A2B1C6",
             "gridcolor": "#506784",
             "linecolor": "#506784",
             "minorgridcolor": "#506784",
             "startlinecolor": "#A2B1C6"
            },
            "type": "carpet"
           }
          ],
          "choropleth": [
           {
            "colorbar": {
             "outlinewidth": 0,
             "ticks": ""
            },
            "type": "choropleth"
           }
          ],
          "contour": [
           {
            "colorbar": {
             "outlinewidth": 0,
             "ticks": ""
            },
            "colorscale": [
             [
              0,
              "#0d0887"
             ],
             [
              0.1111111111111111,
              "#46039f"
             ],
             [
              0.2222222222222222,
              "#7201a8"
             ],
             [
              0.3333333333333333,
              "#9c179e"
             ],
             [
              0.4444444444444444,
              "#bd3786"
             ],
             [
              0.5555555555555556,
              "#d8576b"
             ],
             [
              0.6666666666666666,
              "#ed7953"
             ],
             [
              0.7777777777777778,
              "#fb9f3a"
             ],
             [
              0.8888888888888888,
              "#fdca26"
             ],
             [
              1,
              "#f0f921"
             ]
            ],
            "type": "contour"
           }
          ],
          "contourcarpet": [
           {
            "colorbar": {
             "outlinewidth": 0,
             "ticks": ""
            },
            "type": "contourcarpet"
           }
          ],
          "heatmap": [
           {
            "colorbar": {
             "outlinewidth": 0,
             "ticks": ""
            },
            "colorscale": [
             [
              0,
              "#0d0887"
             ],
             [
              0.1111111111111111,
              "#46039f"
             ],
             [
              0.2222222222222222,
              "#7201a8"
             ],
             [
              0.3333333333333333,
              "#9c179e"
             ],
             [
              0.4444444444444444,
              "#bd3786"
             ],
             [
              0.5555555555555556,
              "#d8576b"
             ],
             [
              0.6666666666666666,
              "#ed7953"
             ],
             [
              0.7777777777777778,
              "#fb9f3a"
             ],
             [
              0.8888888888888888,
              "#fdca26"
             ],
             [
              1,
              "#f0f921"
             ]
            ],
            "type": "heatmap"
           }
          ],
          "heatmapgl": [
           {
            "colorbar": {
             "outlinewidth": 0,
             "ticks": ""
            },
            "colorscale": [
             [
              0,
              "#0d0887"
             ],
             [
              0.1111111111111111,
              "#46039f"
             ],
             [
              0.2222222222222222,
              "#7201a8"
             ],
             [
              0.3333333333333333,
              "#9c179e"
             ],
             [
              0.4444444444444444,
              "#bd3786"
             ],
             [
              0.5555555555555556,
              "#d8576b"
             ],
             [
              0.6666666666666666,
              "#ed7953"
             ],
             [
              0.7777777777777778,
              "#fb9f3a"
             ],
             [
              0.8888888888888888,
              "#fdca26"
             ],
             [
              1,
              "#f0f921"
             ]
            ],
            "type": "heatmapgl"
           }
          ],
          "histogram": [
           {
            "marker": {
             "pattern": {
              "fillmode": "overlay",
              "size": 10,
              "solidity": 0.2
             }
            },
            "type": "histogram"
           }
          ],
          "histogram2d": [
           {
            "colorbar": {
             "outlinewidth": 0,
             "ticks": ""
            },
            "colorscale": [
             [
              0,
              "#0d0887"
             ],
             [
              0.1111111111111111,
              "#46039f"
             ],
             [
              0.2222222222222222,
              "#7201a8"
             ],
             [
              0.3333333333333333,
              "#9c179e"
             ],
             [
              0.4444444444444444,
              "#bd3786"
             ],
             [
              0.5555555555555556,
              "#d8576b"
             ],
             [
              0.6666666666666666,
              "#ed7953"
             ],
             [
              0.7777777777777778,
              "#fb9f3a"
             ],
             [
              0.8888888888888888,
              "#fdca26"
             ],
             [
              1,
              "#f0f921"
             ]
            ],
            "type": "histogram2d"
           }
          ],
          "histogram2dcontour": [
           {
            "colorbar": {
             "outlinewidth": 0,
             "ticks": ""
            },
            "colorscale": [
             [
              0,
              "#0d0887"
             ],
             [
              0.1111111111111111,
              "#46039f"
             ],
             [
              0.2222222222222222,
              "#7201a8"
             ],
             [
              0.3333333333333333,
              "#9c179e"
             ],
             [
              0.4444444444444444,
              "#bd3786"
             ],
             [
              0.5555555555555556,
              "#d8576b"
             ],
             [
              0.6666666666666666,
              "#ed7953"
             ],
             [
              0.7777777777777778,
              "#fb9f3a"
             ],
             [
              0.8888888888888888,
              "#fdca26"
             ],
             [
              1,
              "#f0f921"
             ]
            ],
            "type": "histogram2dcontour"
           }
          ],
          "mesh3d": [
           {
            "colorbar": {
             "outlinewidth": 0,
             "ticks": ""
            },
            "type": "mesh3d"
           }
          ],
          "parcoords": [
           {
            "line": {
             "colorbar": {
              "outlinewidth": 0,
              "ticks": ""
             }
            },
            "type": "parcoords"
           }
          ],
          "pie": [
           {
            "automargin": true,
            "type": "pie"
           }
          ],
          "scatter": [
           {
            "marker": {
             "line": {
              "color": "#283442"
             }
            },
            "type": "scatter"
           }
          ],
          "scatter3d": [
           {
            "line": {
             "colorbar": {
              "outlinewidth": 0,
              "ticks": ""
             }
            },
            "marker": {
             "colorbar": {
              "outlinewidth": 0,
              "ticks": ""
             }
            },
            "type": "scatter3d"
           }
          ],
          "scattercarpet": [
           {
            "marker": {
             "colorbar": {
              "outlinewidth": 0,
              "ticks": ""
             }
            },
            "type": "scattercarpet"
           }
          ],
          "scattergeo": [
           {
            "marker": {
             "colorbar": {
              "outlinewidth": 0,
              "ticks": ""
             }
            },
            "type": "scattergeo"
           }
          ],
          "scattergl": [
           {
            "marker": {
             "line": {
              "color": "#283442"
             }
            },
            "type": "scattergl"
           }
          ],
          "scattermapbox": [
           {
            "marker": {
             "colorbar": {
              "outlinewidth": 0,
              "ticks": ""
             }
            },
            "type": "scattermapbox"
           }
          ],
          "scatterpolar": [
           {
            "marker": {
             "colorbar": {
              "outlinewidth": 0,
              "ticks": ""
             }
            },
            "type": "scatterpolar"
           }
          ],
          "scatterpolargl": [
           {
            "marker": {
             "colorbar": {
              "outlinewidth": 0,
              "ticks": ""
             }
            },
            "type": "scatterpolargl"
           }
          ],
          "scatterternary": [
           {
            "marker": {
             "colorbar": {
              "outlinewidth": 0,
              "ticks": ""
             }
            },
            "type": "scatterternary"
           }
          ],
          "surface": [
           {
            "colorbar": {
             "outlinewidth": 0,
             "ticks": ""
            },
            "colorscale": [
             [
              0,
              "#0d0887"
             ],
             [
              0.1111111111111111,
              "#46039f"
             ],
             [
              0.2222222222222222,
              "#7201a8"
             ],
             [
              0.3333333333333333,
              "#9c179e"
             ],
             [
              0.4444444444444444,
              "#bd3786"
             ],
             [
              0.5555555555555556,
              "#d8576b"
             ],
             [
              0.6666666666666666,
              "#ed7953"
             ],
             [
              0.7777777777777778,
              "#fb9f3a"
             ],
             [
              0.8888888888888888,
              "#fdca26"
             ],
             [
              1,
              "#f0f921"
             ]
            ],
            "type": "surface"
           }
          ],
          "table": [
           {
            "cells": {
             "fill": {
              "color": "#506784"
             },
             "line": {
              "color": "rgb(17,17,17)"
             }
            },
            "header": {
             "fill": {
              "color": "#2a3f5f"
             },
             "line": {
              "color": "rgb(17,17,17)"
             }
            },
            "type": "table"
           }
          ]
         },
         "layout": {
          "annotationdefaults": {
           "arrowcolor": "#f2f5fa",
           "arrowhead": 0,
           "arrowwidth": 1
          },
          "autotypenumbers": "strict",
          "coloraxis": {
           "colorbar": {
            "outlinewidth": 0,
            "ticks": ""
           }
          },
          "colorscale": {
           "diverging": [
            [
             0,
             "#8e0152"
            ],
            [
             0.1,
             "#c51b7d"
            ],
            [
             0.2,
             "#de77ae"
            ],
            [
             0.3,
             "#f1b6da"
            ],
            [
             0.4,
             "#fde0ef"
            ],
            [
             0.5,
             "#f7f7f7"
            ],
            [
             0.6,
             "#e6f5d0"
            ],
            [
             0.7,
             "#b8e186"
            ],
            [
             0.8,
             "#7fbc41"
            ],
            [
             0.9,
             "#4d9221"
            ],
            [
             1,
             "#276419"
            ]
           ],
           "sequential": [
            [
             0,
             "#0d0887"
            ],
            [
             0.1111111111111111,
             "#46039f"
            ],
            [
             0.2222222222222222,
             "#7201a8"
            ],
            [
             0.3333333333333333,
             "#9c179e"
            ],
            [
             0.4444444444444444,
             "#bd3786"
            ],
            [
             0.5555555555555556,
             "#d8576b"
            ],
            [
             0.6666666666666666,
             "#ed7953"
            ],
            [
             0.7777777777777778,
             "#fb9f3a"
            ],
            [
             0.8888888888888888,
             "#fdca26"
            ],
            [
             1,
             "#f0f921"
            ]
           ],
           "sequentialminus": [
            [
             0,
             "#0d0887"
            ],
            [
             0.1111111111111111,
             "#46039f"
            ],
            [
             0.2222222222222222,
             "#7201a8"
            ],
            [
             0.3333333333333333,
             "#9c179e"
            ],
            [
             0.4444444444444444,
             "#bd3786"
            ],
            [
             0.5555555555555556,
             "#d8576b"
            ],
            [
             0.6666666666666666,
             "#ed7953"
            ],
            [
             0.7777777777777778,
             "#fb9f3a"
            ],
            [
             0.8888888888888888,
             "#fdca26"
            ],
            [
             1,
             "#f0f921"
            ]
           ]
          },
          "colorway": [
           "#636efa",
           "#EF553B",
           "#00cc96",
           "#ab63fa",
           "#FFA15A",
           "#19d3f3",
           "#FF6692",
           "#B6E880",
           "#FF97FF",
           "#FECB52"
          ],
          "font": {
           "color": "#f2f5fa"
          },
          "geo": {
           "bgcolor": "rgb(17,17,17)",
           "lakecolor": "rgb(17,17,17)",
           "landcolor": "rgb(17,17,17)",
           "showlakes": true,
           "showland": true,
           "subunitcolor": "#506784"
          },
          "hoverlabel": {
           "align": "left"
          },
          "hovermode": "closest",
          "mapbox": {
           "style": "dark"
          },
          "paper_bgcolor": "rgb(17,17,17)",
          "plot_bgcolor": "rgb(17,17,17)",
          "polar": {
           "angularaxis": {
            "gridcolor": "#506784",
            "linecolor": "#506784",
            "ticks": ""
           },
           "bgcolor": "rgb(17,17,17)",
           "radialaxis": {
            "gridcolor": "#506784",
            "linecolor": "#506784",
            "ticks": ""
           }
          },
          "scene": {
           "xaxis": {
            "backgroundcolor": "rgb(17,17,17)",
            "gridcolor": "#506784",
            "gridwidth": 2,
            "linecolor": "#506784",
            "showbackground": true,
            "ticks": "",
            "zerolinecolor": "#C8D4E3"
           },
           "yaxis": {
            "backgroundcolor": "rgb(17,17,17)",
            "gridcolor": "#506784",
            "gridwidth": 2,
            "linecolor": "#506784",
            "showbackground": true,
            "ticks": "",
            "zerolinecolor": "#C8D4E3"
           },
           "zaxis": {
            "backgroundcolor": "rgb(17,17,17)",
            "gridcolor": "#506784",
            "gridwidth": 2,
            "linecolor": "#506784",
            "showbackground": true,
            "ticks": "",
            "zerolinecolor": "#C8D4E3"
           }
          },
          "shapedefaults": {
           "line": {
            "color": "#f2f5fa"
           }
          },
          "sliderdefaults": {
           "bgcolor": "#C8D4E3",
           "bordercolor": "rgb(17,17,17)",
           "borderwidth": 1,
           "tickwidth": 0
          },
          "ternary": {
           "aaxis": {
            "gridcolor": "#506784",
            "linecolor": "#506784",
            "ticks": ""
           },
           "baxis": {
            "gridcolor": "#506784",
            "linecolor": "#506784",
            "ticks": ""
           },
           "bgcolor": "rgb(17,17,17)",
           "caxis": {
            "gridcolor": "#506784",
            "linecolor": "#506784",
            "ticks": ""
           }
          },
          "title": {
           "x": 0.05
          },
          "updatemenudefaults": {
           "bgcolor": "#506784",
           "borderwidth": 0
          },
          "xaxis": {
           "automargin": true,
           "gridcolor": "#283442",
           "linecolor": "#506784",
           "ticks": "",
           "title": {
            "standoff": 15
           },
           "zerolinecolor": "#283442",
           "zerolinewidth": 2
          },
          "yaxis": {
           "automargin": true,
           "gridcolor": "#283442",
           "linecolor": "#506784",
           "ticks": "",
           "title": {
            "standoff": 15
           },
           "zerolinecolor": "#283442",
           "zerolinewidth": 2
          }
         }
        },
        "xaxis": {
         "visible": false
        },
        "yaxis": {
         "visible": false
        }
       }
      }
     },
     "metadata": {},
     "output_type": "display_data"
    }
   ],
   "source": [
    "px_plot_nx(\n",
    "    G,\n",
    "    color=\"team\",\n",
    "    layout=layout,\n",
    "    with_edges=True,\n",
    "    hover_name=\"name\",\n",
    "    size=\"rank\",\n",
    "    template=\"plotly_dark\",\n",
    ")  # ,text=\"label\")\n"
   ]
  },
  {
   "cell_type": "code",
   "execution_count": null,
   "id": "7ebad718",
   "metadata": {},
   "outputs": [],
   "source": []
  }
 ],
 "metadata": {
  "jupytext": {
   "formats": "ipynb,py:percent"
  },
  "kernelspec": {
   "display_name": "peopleanalytics-hP1UcNMM",
   "language": "python",
   "name": "python3"
  },
  "language_info": {
   "codemirror_mode": {
    "name": "ipython",
    "version": 3
   },
   "file_extension": ".py",
   "mimetype": "text/x-python",
   "name": "python",
   "nbconvert_exporter": "python",
   "pygments_lexer": "ipython3",
   "version": "3.11.3"
  },
  "vscode": {
   "interpreter": {
    "hash": "a79ebb34bd880ae1609598d91f5437f974a2fc812a889a38194f0c3042249b1f"
   }
  }
 },
 "nbformat": 4,
 "nbformat_minor": 5
}
