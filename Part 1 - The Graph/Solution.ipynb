{
 "cells": [
  {
   "cell_type": "markdown",
   "id": "bb042e3f-caba-44ee-9747-e74d6bebe1e8",
   "metadata": {},
   "source": [
    "# Understanding People with Network Graphs in Python"
   ]
  },
  {
   "cell_type": "markdown",
   "id": "97967b91-a222-4690-98f2-e1a8812b4436",
   "metadata": {},
   "source": [
    "## NetworkX\n",
    "\n",
    "> NetworkX is a Python package for the creation, manipulation, and study of the structure, dynamics, and functions of complex networks - https://networkx.org/\n",
    "\n",
    "NetworkX provides an easy-to-use, *fast*, graph framework to represent relationships in-memory"
   ]
  },
  {
   "cell_type": "code",
   "execution_count": 109,
   "id": "1658990e-5928-448b-b2e4-37dda46b087d",
   "metadata": {
    "execution": {
     "iopub.execute_input": "2023-01-17T18:44:00.986929Z",
     "iopub.status.busy": "2023-01-17T18:44:00.986472Z",
     "iopub.status.idle": "2023-01-17T18:44:00.993341Z",
     "shell.execute_reply": "2023-01-17T18:44:00.992498Z",
     "shell.execute_reply.started": "2023-01-17T18:44:00.986900Z"
    },
    "tags": []
   },
   "outputs": [],
   "source": [
    "from __future__ import annotations\n",
    "import networkx as nx\n",
    "\n",
    "G = nx.Graph()"
   ]
  },
  {
   "cell_type": "markdown",
   "id": "13562879",
   "metadata": {},
   "source": [
    "It's easy to load in data one at a time"
   ]
  },
  {
   "cell_type": "code",
   "execution_count": 110,
   "id": "471e74f0",
   "metadata": {},
   "outputs": [],
   "source": [
    "G.add_node(\"Me\", type=\"person\", languages=[\"Python\"])"
   ]
  },
  {
   "attachments": {},
   "cell_type": "markdown",
   "id": "e012926e",
   "metadata": {},
   "source": [
    "Or from an iterable object"
   ]
  },
  {
   "cell_type": "code",
   "execution_count": 111,
   "id": "2a9211a0",
   "metadata": {},
   "outputs": [],
   "source": [
    "G.add_nodes_from((\n",
    "    (\"You\",dict(languages=[\"Python\",\"Scala\"])),\n",
    "    (\"Them\",dict(languages=[\"Python\",\"Javascript\"]))\n",
    "), type=\"person\")"
   ]
  },
  {
   "attachments": {},
   "cell_type": "markdown",
   "id": "ef360a75",
   "metadata": {},
   "source": [
    "Now we can look at the new data structure and play around with it:"
   ]
  },
  {
   "cell_type": "code",
   "execution_count": 112,
   "id": "b01d9d99",
   "metadata": {},
   "outputs": [
    {
     "data": {
      "text/plain": [
       "NodeView(('Me', 'You', 'Them'))"
      ]
     },
     "execution_count": 112,
     "metadata": {},
     "output_type": "execute_result"
    }
   ],
   "source": [
    "G.nodes() # show all the node labels"
   ]
  },
  {
   "cell_type": "code",
   "execution_count": 113,
   "id": "ec14eaae",
   "metadata": {},
   "outputs": [
    {
     "data": {
      "text/plain": [
       "NodeDataView({'Me': {'type': 'person', 'languages': ['Python']}, 'You': {'type': 'person', 'languages': ['Python', 'Scala']}, 'Them': {'type': 'person', 'languages': ['Python', 'Javascript']}})"
      ]
     },
     "execution_count": 113,
     "metadata": {},
     "output_type": "execute_result"
    }
   ],
   "source": [
    "G.nodes(data=True) # show all attributes in nodes"
   ]
  },
  {
   "cell_type": "code",
   "execution_count": 114,
   "id": "db49b4d1",
   "metadata": {},
   "outputs": [
    {
     "data": {
      "text/plain": [
       "NodeDataView({'Me': ['Python'], 'You': ['Python', 'Scala'], 'Them': ['Python', 'Javascript']}, data='languages')"
      ]
     },
     "execution_count": 114,
     "metadata": {},
     "output_type": "execute_result"
    }
   ],
   "source": [
    "G.nodes(data=\"languages\") # show a specific attribute"
   ]
  },
  {
   "cell_type": "code",
   "execution_count": 115,
   "id": "953812ea",
   "metadata": {},
   "outputs": [],
   "source": [
    "G.add_edge(\"Me\",\"You\", label=\"friends\") # add an edge connecting two nodes ..."
   ]
  },
  {
   "attachments": {},
   "cell_type": "markdown",
   "id": "db1c0d52-e90b-4350-8305-100509d6a35a",
   "metadata": {},
   "source": [
    "### Some People Data\n",
    "\n",
    "Let's re-use what we made before:"
   ]
  },
  {
   "cell_type": "code",
   "execution_count": 116,
   "id": "df1be6be-eea6-4d90-ba02-0272178b4a20",
   "metadata": {
    "execution": {
     "iopub.execute_input": "2023-01-10T16:24:10.124771Z",
     "iopub.status.busy": "2023-01-10T16:24:10.124487Z",
     "iopub.status.idle": "2023-01-10T16:24:10.147905Z",
     "shell.execute_reply": "2023-01-10T16:24:10.140943Z",
     "shell.execute_reply.started": "2023-01-10T16:24:10.124743Z"
    },
    "tags": []
   },
   "outputs": [],
   "source": [
    "%run \"../Part 0 - The Data/Solution.ipynb\""
   ]
  },
  {
   "cell_type": "markdown",
   "id": "445abc61-e1f7-4d41-9417-bd6824682de0",
   "metadata": {},
   "source": [
    "## The Graph\n",
    "\n",
    "Now we're ready to define and populate the network graph. NetworkX provides helpful methods to populate the structure from an iterable. Here we massage our list of `people` a bit in order to give a unique name to each *node* in the graph:"
   ]
  },
  {
   "cell_type": "code",
   "execution_count": 117,
   "id": "36bd1b93-0a4f-404b-aa83-ad91beb2f7df",
   "metadata": {
    "execution": {
     "iopub.execute_input": "2023-01-10T16:24:10.195816Z",
     "iopub.status.busy": "2023-01-10T16:24:10.195488Z",
     "iopub.status.idle": "2023-01-10T16:24:10.213653Z",
     "shell.execute_reply": "2023-01-10T16:24:10.212633Z",
     "shell.execute_reply.started": "2023-01-10T16:24:10.195788Z"
    },
    "tags": []
   },
   "outputs": [
    {
     "data": {
      "text/plain": [
       "NodeDataView({'Michael Nichols': {'person': True, 'type': 'person', 'name': 'Michael Nichols', 'hire_date': datetime.date(2021, 7, 27), 'status': {'Full Time'}, 'languages': set(), 'manager': 'Stephen Hanna', 'team': 'Business', 'title': 'Analyst', 'location': {'city': 'London', 'tz': 'UTC', 'country': 'GBR'}, 'rank': 0.0, 'peoplemanager': 'Kimberly Casey', 'city': 'London', 'tz': 'UTC', 'country': 'GBR'}, 'Mr. Benjamin May': {'person': True, 'type': 'person', 'name': 'Mr. Benjamin May', 'hire_date': datetime.date(2020, 10, 25), 'status': {'Contract'}, 'languages': {'Python', 'JavaScript'}, 'manager': 'Michael Nichols', 'team': 'Business', 'title': 'Analyst', 'location': {'city': 'New York', 'tz': 'EST', 'country': 'USA'}, 'rank': 0.0, 'peoplemanager': 'Michael Nichols', 'city': 'New York', 'tz': 'EST', 'country': 'USA'}, 'Katie Jensen': {'person': True, 'type': 'person', 'name': 'Katie Jensen', 'hire_date': datetime.date(2022, 6, 9), 'status': {'Full Time'}, 'languages': {'Python', 'Typescript', 'JavaScript'}, 'manager': 'Michael Nichols', 'team': 'Business', 'title': 'Analyst', 'location': {'city': 'New York', 'tz': 'EST', 'country': 'USA'}, 'rank': 0.0, 'peoplemanager': 'Michael Nichols', 'city': 'New York', 'tz': 'EST', 'country': 'USA'}, 'Colleen Hanson': {'person': True, 'type': 'person', 'name': 'Colleen Hanson', 'hire_date': datetime.date(2020, 10, 5), 'status': {'Part Time'}, 'languages': {'Typescript'}, 'manager': 'Michael Nichols', 'team': 'Business', 'title': 'Analyst', 'location': {'city': 'Toronto', 'tz': 'EST', 'country': 'CAN'}, 'rank': 0.0, 'peoplemanager': 'Michael Nichols', 'city': 'Toronto', 'tz': 'EST', 'country': 'CAN'}, 'David Vang': {'person': True, 'type': 'person', 'name': 'David Vang', 'hire_date': datetime.date(2021, 4, 15), 'status': {'Contract'}, 'languages': set(), 'manager': 'Michael Nichols', 'team': 'Business', 'title': 'Analyst', 'location': {'city': 'New York', 'tz': 'EST', 'country': 'USA'}, 'rank': 0.0, 'peoplemanager': 'Michael Nichols', 'city': 'New York', 'tz': 'EST', 'country': 'USA'}, 'Eric Rodgers': {'person': True, 'type': 'person', 'name': 'Eric Rodgers', 'hire_date': datetime.date(2023, 4, 1), 'status': {'Full Time'}, 'languages': {'JavaScript', 'Java'}, 'manager': 'Stephen Hanna', 'team': 'Business', 'title': 'Associate', 'location': {'city': 'New York', 'tz': 'EST', 'country': 'USA'}, 'rank': 1.0, 'peoplemanager': 'Maria Nichols', 'city': 'New York', 'tz': 'EST', 'country': 'USA'}, 'Jeffery Ali': {'person': True, 'type': 'person', 'name': 'Jeffery Ali', 'hire_date': datetime.date(2020, 8, 5), 'status': {'Full Time'}, 'languages': {'Typescript', 'JavaScript'}, 'manager': 'Michael Nichols', 'team': 'Business', 'title': 'Associate', 'location': {'city': 'London', 'tz': 'UTC', 'country': 'GBR'}, 'rank': 1.0, 'peoplemanager': 'Ryan Patterson', 'city': 'London', 'tz': 'UTC', 'country': 'GBR'}, 'Darius Suarez': {'person': True, 'type': 'person', 'name': 'Darius Suarez', 'hire_date': datetime.date(2020, 9, 29), 'status': {'Part Time'}, 'languages': {'JavaScript'}, 'manager': 'Mr. Benjamin May', 'team': 'Business', 'title': 'Associate', 'location': {'city': 'London', 'tz': 'UTC', 'country': 'GBR'}, 'rank': 1.0, 'peoplemanager': 'Katherine Cooper', 'city': 'London', 'tz': 'UTC', 'country': 'GBR'}, 'Maria Carter': {'person': True, 'type': 'person', 'name': 'Maria Carter', 'hire_date': datetime.date(2020, 5, 19), 'status': {'Full Time'}, 'languages': {'Scala'}, 'manager': 'Mr. Benjamin May', 'team': 'Business', 'title': 'Associate', 'location': {'city': 'London', 'tz': 'UTC', 'country': 'GBR'}, 'rank': 1.0, 'peoplemanager': 'Mrs. Kathryn Todd MD', 'city': 'London', 'tz': 'UTC', 'country': 'GBR'}, 'Kelly Blair': {'person': True, 'type': 'person', 'name': 'Kelly Blair', 'hire_date': datetime.date(2023, 2, 21), 'status': {'Full Time'}, 'languages': {'Typescript', 'Go'}, 'manager': 'Katie Jensen', 'team': 'Business', 'title': 'Associate', 'location': {'city': 'London', 'tz': 'UTC', 'country': 'GBR'}, 'rank': 1.0, 'peoplemanager': 'Carol Ho', 'city': 'London', 'tz': 'UTC', 'country': 'GBR'}, 'Nancy Riley': {'person': True, 'type': 'person', 'name': 'Nancy Riley', 'hire_date': datetime.date(2022, 11, 5), 'status': {'Full Time'}, 'languages': set(), 'manager': 'Eric Rodgers', 'team': 'Business', 'title': 'Vice President', 'location': {'city': 'Toronto', 'tz': 'EST', 'country': 'CAN'}, 'rank': 2.0, 'peoplemanager': 'Teresa Powell', 'city': 'Toronto', 'tz': 'EST', 'country': 'CAN'}, 'Angela Everett': {'person': True, 'type': 'person', 'name': 'Angela Everett', 'hire_date': datetime.date(2023, 4, 20), 'status': {'Full Time'}, 'languages': {'Java'}, 'manager': 'Eric Rodgers', 'team': 'Business', 'title': 'Vice President', 'location': {'city': 'New York', 'tz': 'EST', 'country': 'USA'}, 'rank': 2.0, 'peoplemanager': 'Michael Wong', 'city': 'New York', 'tz': 'EST', 'country': 'USA'}, 'Jennifer Johnson': {'person': True, 'type': 'person', 'name': 'Jennifer Johnson', 'hire_date': datetime.date(2020, 6, 14), 'status': {'Full Time'}, 'languages': set(), 'manager': 'Stephen Hanna', 'team': 'Product', 'title': 'Manager', 'location': {'city': 'New York', 'tz': 'EST', 'country': 'USA'}, 'rank': 1.0, 'peoplemanager': 'Deborah Solis', 'city': 'New York', 'tz': 'EST', 'country': 'USA'}, 'Debra Schneider': {'person': True, 'type': 'person', 'name': 'Debra Schneider', 'hire_date': datetime.date(2022, 4, 12), 'status': {'Part Time'}, 'languages': {'Python', 'Typescript', 'JavaScript', 'Java'}, 'manager': 'Jeffery Ali', 'team': 'Business', 'title': 'Vice President', 'location': {'city': 'New York', 'tz': 'EST', 'country': 'USA'}, 'rank': 2.0, 'peoplemanager': 'Kelly Jacobs', 'city': 'New York', 'tz': 'EST', 'country': 'USA'}, 'Kathy Johnson': {'person': True, 'type': 'person', 'name': 'Kathy Johnson', 'hire_date': datetime.date(2020, 8, 31), 'status': {'Contract'}, 'languages': {'Python', 'JavaScript', 'Java'}, 'manager': 'Darius Suarez', 'team': 'Business', 'title': 'Vice President', 'location': {'city': 'London', 'tz': 'UTC', 'country': 'GBR'}, 'rank': 2.0, 'peoplemanager': 'Kelly Jacobs', 'city': 'London', 'tz': 'UTC', 'country': 'GBR'}, 'Katrina Daniels': {'person': True, 'type': 'person', 'name': 'Katrina Daniels', 'hire_date': datetime.date(2023, 3, 31), 'status': {'Full Time'}, 'languages': {'Python'}, 'manager': 'Maria Carter', 'team': 'Business', 'title': 'Vice President', 'location': {'city': 'London', 'tz': 'UTC', 'country': 'GBR'}, 'rank': 2.0, 'peoplemanager': 'Nathan Brown', 'city': 'London', 'tz': 'UTC', 'country': 'GBR'}, 'Rebecca Martinez': {'person': True, 'type': 'person', 'name': 'Rebecca Martinez', 'hire_date': datetime.date(2022, 8, 23), 'status': {'Contract'}, 'languages': {'Java'}, 'manager': 'Nancy Riley', 'team': 'Business', 'title': 'Director', 'location': {'city': 'New York', 'tz': 'EST', 'country': 'USA'}, 'rank': 3.0, 'peoplemanager': 'Teresa Powell', 'city': 'New York', 'tz': 'EST', 'country': 'USA'}, 'Paul Parker': {'person': True, 'type': 'person', 'name': 'Paul Parker', 'hire_date': datetime.date(2020, 11, 24), 'status': {'Contract'}, 'languages': {'Python', 'JavaScript'}, 'manager': 'Nancy Riley', 'team': 'Business', 'title': 'Director', 'location': {'city': 'New York', 'tz': 'EST', 'country': 'USA'}, 'rank': 3.0, 'peoplemanager': 'Michael Wong', 'city': 'New York', 'tz': 'EST', 'country': 'USA'}, 'Olivia Lyons': {'person': True, 'type': 'person', 'name': 'Olivia Lyons', 'hire_date': datetime.date(2020, 5, 30), 'status': {'Full Time'}, 'languages': {'JavaScript'}, 'manager': 'Kathy Johnson', 'team': 'Business', 'title': 'Director', 'location': {'city': 'New York', 'tz': 'EST', 'country': 'USA'}, 'rank': 3.0, 'peoplemanager': 'Amanda Harvey', 'city': 'New York', 'tz': 'EST', 'country': 'USA'}, 'Brian Daniels': {'person': True, 'type': 'person', 'name': 'Brian Daniels', 'hire_date': datetime.date(2021, 12, 23), 'status': {'Part Time'}, 'languages': {'Typescript'}, 'manager': 'Rebecca Martinez', 'team': 'Business', 'title': 'Managing Director', 'location': {'city': 'London', 'tz': 'UTC', 'country': 'GBR'}, 'rank': 4.0, 'peoplemanager': 'Teresa Powell', 'city': 'London', 'tz': 'UTC', 'country': 'GBR'}, 'Timothy Salazar': {'person': True, 'type': 'person', 'name': 'Timothy Salazar', 'hire_date': datetime.date(2021, 3, 17), 'status': {'Contract'}, 'languages': {'Typescript', 'JavaScript'}, 'manager': 'Paul Parker', 'team': 'Business', 'title': 'Managing Director', 'location': {'city': 'New York', 'tz': 'EST', 'country': 'USA'}, 'rank': 4.0, 'peoplemanager': 'Amanda Harvey', 'city': 'New York', 'tz': 'EST', 'country': 'USA'}, 'Mr. Preston Clark': {'person': True, 'type': 'person', 'name': 'Mr. Preston Clark', 'hire_date': datetime.date(2021, 3, 31), 'status': {'Contract'}, 'languages': set(), 'manager': 'Paul Parker', 'team': 'Business', 'title': 'Managing Director', 'location': {'city': 'London', 'tz': 'UTC', 'country': 'GBR'}, 'rank': 4.0, 'peoplemanager': 'Amanda Harvey', 'city': 'London', 'tz': 'UTC', 'country': 'GBR'}, 'Kelli Fernandez': {'person': True, 'type': 'person', 'name': 'Kelli Fernandez', 'hire_date': datetime.date(2022, 7, 21), 'status': {'Contract'}, 'languages': {'JavaScript', 'Java'}, 'manager': 'Stephen Hanna', 'team': 'DevOps', 'title': 'Senior Engineer', 'location': {'city': 'Dublin', 'tz': 'UTC', 'country': 'IRL'}, 'rank': 1.0, 'peoplemanager': 'Maria Nichols', 'city': 'Dublin', 'tz': 'UTC', 'country': 'IRL'}, 'Andrew Barrett': {'person': True, 'type': 'person', 'name': 'Andrew Barrett', 'hire_date': datetime.date(2020, 11, 14), 'status': {'Contract'}, 'languages': {'Python', 'Typescript', 'Go'}, 'manager': 'Kelli Fernandez', 'team': 'DevOps', 'title': 'Senior Engineer', 'location': {'city': 'Dublin', 'tz': 'UTC', 'country': 'IRL'}, 'rank': 1.0, 'peoplemanager': 'Kristi Ball', 'city': 'Dublin', 'tz': 'UTC', 'country': 'IRL'}, 'Tammie Willis': {'person': True, 'type': 'person', 'name': 'Tammie Willis', 'hire_date': datetime.date(2021, 7, 4), 'status': {'Contract'}, 'languages': {'Java'}, 'manager': 'Kelli Fernandez', 'team': 'DevOps', 'title': 'Senior Engineer', 'location': {'city': 'Dublin', 'tz': 'UTC', 'country': 'IRL'}, 'rank': 1.0, 'peoplemanager': 'Brian Brown', 'city': 'Dublin', 'tz': 'UTC', 'country': 'IRL'}, 'Ashley Hansen': {'person': True, 'type': 'person', 'name': 'Ashley Hansen', 'hire_date': datetime.date(2023, 4, 6), 'status': {'Part Time'}, 'languages': {'Java'}, 'manager': 'Kelli Fernandez', 'team': 'DevOps', 'title': 'Senior Engineer', 'location': {'city': 'Dublin', 'tz': 'UTC', 'country': 'IRL'}, 'rank': 1.0, 'peoplemanager': 'Anthony Powers', 'city': 'Dublin', 'tz': 'UTC', 'country': 'IRL'}, 'Matthew Johnson': {'person': True, 'type': 'person', 'name': 'Matthew Johnson', 'hire_date': datetime.date(2022, 9, 30), 'status': {'Full Time'}, 'languages': {'Python', 'Typescript', 'JavaScript'}, 'manager': 'Kelli Fernandez', 'team': 'DevOps', 'title': 'Senior Engineer', 'location': {'city': 'Dublin', 'tz': 'UTC', 'country': 'IRL'}, 'rank': 1.0, 'peoplemanager': 'Charles Smith', 'city': 'Dublin', 'tz': 'UTC', 'country': 'IRL'}, 'Susan Humphrey': {'person': True, 'type': 'person', 'name': 'Susan Humphrey', 'hire_date': datetime.date(2022, 9, 27), 'status': {'Part Time'}, 'languages': {'JavaScript'}, 'manager': 'Kelli Fernandez', 'team': 'DevOps', 'title': 'Senior Engineer', 'location': {'city': 'Dublin', 'tz': 'UTC', 'country': 'IRL'}, 'rank': 1.0, 'peoplemanager': 'Charles Smith', 'city': 'Dublin', 'tz': 'UTC', 'country': 'IRL'}, 'Jennifer Payne': {'person': True, 'type': 'person', 'name': 'Jennifer Payne', 'hire_date': datetime.date(2021, 4, 13), 'status': {'Part Time'}, 'languages': {'Python', 'JavaScript', 'Java', 'Erlang'}, 'manager': 'Kelli Fernandez', 'team': 'DevOps', 'title': 'Manager', 'location': {'city': 'Dublin', 'tz': 'UTC', 'country': 'IRL'}, 'rank': 2.0, 'peoplemanager': 'Michael Wong', 'city': 'Dublin', 'tz': 'UTC', 'country': 'IRL'}, 'Richard Mendez': {'person': True, 'type': 'person', 'name': 'Richard Mendez', 'hire_date': datetime.date(2021, 9, 14), 'status': {'Contract'}, 'languages': {'Typescript'}, 'manager': 'Kelli Fernandez', 'team': 'DevOps', 'title': 'Manager', 'location': {'city': 'Dublin', 'tz': 'UTC', 'country': 'IRL'}, 'rank': 2.0, 'peoplemanager': 'Jose Key', 'city': 'Dublin', 'tz': 'UTC', 'country': 'IRL'}, 'Lisa Wright': {'person': True, 'type': 'person', 'name': 'Lisa Wright', 'hire_date': datetime.date(2021, 10, 10), 'status': {'Contract'}, 'languages': {'Python', 'JavaScript', 'Java'}, 'manager': 'Ashley Hansen', 'team': 'DevOps', 'title': 'Manager', 'location': {'city': 'Dublin', 'tz': 'UTC', 'country': 'IRL'}, 'rank': 2.0, 'peoplemanager': 'Nathan Brown', 'city': 'Dublin', 'tz': 'UTC', 'country': 'IRL'}, 'Kelly Wilson': {'person': True, 'type': 'person', 'name': 'Kelly Wilson', 'hire_date': datetime.date(2022, 9, 2), 'status': {'Part Time'}, 'languages': {'Python', 'Java'}, 'manager': 'Ashley Hansen', 'team': 'DevOps', 'title': 'Manager', 'location': {'city': 'Dublin', 'tz': 'UTC', 'country': 'IRL'}, 'rank': 2.0, 'peoplemanager': 'Nathan Brown', 'city': 'Dublin', 'tz': 'UTC', 'country': 'IRL'}, 'Emily Johnson': {'person': True, 'type': 'person', 'name': 'Emily Johnson', 'hire_date': datetime.date(2023, 2, 12), 'status': {'Contract'}, 'languages': {'Typescript', 'Scala', 'Java'}, 'manager': 'Ashley Hansen', 'team': 'DevOps', 'title': 'Manager', 'location': {'city': 'Dublin', 'tz': 'UTC', 'country': 'IRL'}, 'rank': 2.0, 'peoplemanager': 'Justin Rowe', 'city': 'Dublin', 'tz': 'UTC', 'country': 'IRL'}, 'Paul Burns': {'person': True, 'type': 'person', 'name': 'Paul Burns', 'hire_date': datetime.date(2022, 5, 22), 'status': {'Part Time'}, 'languages': {'Python'}, 'manager': 'Stephen Hanna', 'team': 'DevX', 'title': 'Engineer', 'location': {'city': 'Fort Lauderdale', 'tz': 'EST', 'country': 'USA'}, 'rank': 4.0, 'peoplemanager': 'Teresa Powell', 'city': 'Fort Lauderdale', 'tz': 'EST', 'country': 'USA'}, 'Sarah Brown': {'person': True, 'type': 'person', 'name': 'Sarah Brown', 'hire_date': datetime.date(2021, 2, 25), 'status': {'Part Time'}, 'languages': {'JavaScript', 'Java'}, 'manager': 'Paul Burns', 'team': 'DevX', 'title': 'Engineer', 'location': {'city': 'Fort Lauderdale', 'tz': 'EST', 'country': 'USA'}, 'rank': 4.0, 'peoplemanager': 'Teresa Powell', 'city': 'Fort Lauderdale', 'tz': 'EST', 'country': 'USA'}, 'William Sims': {'person': True, 'type': 'person', 'name': 'William Sims', 'hire_date': datetime.date(2020, 5, 20), 'status': {'Part Time'}, 'languages': {'Python', 'Java'}, 'manager': 'Paul Burns', 'team': 'DevX', 'title': 'Engineer', 'location': {'city': 'Fort Lauderdale', 'tz': 'EST', 'country': 'USA'}, 'rank': 4.0, 'peoplemanager': 'Michael Wong', 'city': 'Fort Lauderdale', 'tz': 'EST', 'country': 'USA'}, 'Carmen Shaw': {'person': True, 'type': 'person', 'name': 'Carmen Shaw', 'hire_date': datetime.date(2021, 11, 20), 'status': {'Full Time'}, 'languages': {'Typescript', 'Java'}, 'manager': 'Paul Burns', 'team': 'DevX', 'title': 'Engineer', 'location': {'city': 'Fort Lauderdale', 'tz': 'EST', 'country': 'USA'}, 'rank': 4.0, 'peoplemanager': 'Michael Wong', 'city': 'Fort Lauderdale', 'tz': 'EST', 'country': 'USA'}, 'Stephanie Boyd': {'person': True, 'type': 'person', 'name': 'Stephanie Boyd', 'hire_date': datetime.date(2020, 8, 18), 'status': {'Part Time'}, 'languages': {'Python', 'Java'}, 'manager': 'Paul Burns', 'team': 'DevX', 'title': 'Engineer', 'location': {'city': 'Fort Lauderdale', 'tz': 'EST', 'country': 'USA'}, 'rank': 4.0, 'peoplemanager': 'Michael Wong', 'city': 'Fort Lauderdale', 'tz': 'EST', 'country': 'USA'}, 'Louis Ward': {'person': True, 'type': 'person', 'name': 'Louis Ward', 'hire_date': datetime.date(2021, 6, 12), 'status': {'Full Time'}, 'languages': {'JavaScript', 'Java'}, 'manager': 'Paul Burns', 'team': 'DevX', 'title': 'Engineer', 'location': {'city': 'Fort Lauderdale', 'tz': 'EST', 'country': 'USA'}, 'rank': 4.0, 'peoplemanager': 'Michael Wong', 'city': 'Fort Lauderdale', 'tz': 'EST', 'country': 'USA'}, 'Angela Smith': {'person': True, 'type': 'person', 'name': 'Angela Smith', 'hire_date': datetime.date(2020, 11, 22), 'status': {'Contract'}, 'languages': {'Python', 'JavaScript', 'Java'}, 'manager': 'Paul Burns', 'team': 'DevX', 'title': 'Engineer', 'location': {'city': 'Fort Lauderdale', 'tz': 'EST', 'country': 'USA'}, 'rank': 4.0, 'peoplemanager': 'Jose Key', 'city': 'Fort Lauderdale', 'tz': 'EST', 'country': 'USA'}, 'Dennis Rhodes': {'person': True, 'type': 'person', 'name': 'Dennis Rhodes', 'hire_date': datetime.date(2022, 2, 19), 'status': {'Contract'}, 'languages': {'Typescript', 'JavaScript', 'Java'}, 'manager': 'Paul Burns', 'team': 'DevX', 'title': 'Engineer', 'location': {'city': 'Fort Lauderdale', 'tz': 'EST', 'country': 'USA'}, 'rank': 4.0, 'peoplemanager': 'Jose Key', 'city': 'Fort Lauderdale', 'tz': 'EST', 'country': 'USA'}, 'Anna Dyer': {'person': True, 'type': 'person', 'name': 'Anna Dyer', 'hire_date': datetime.date(2021, 6, 27), 'status': {'Part Time'}, 'languages': {'Java'}, 'manager': 'Paul Burns', 'team': 'DevX', 'title': 'Engineer', 'location': {'city': 'Fort Lauderdale', 'tz': 'EST', 'country': 'USA'}, 'rank': 4.0, 'peoplemanager': 'Jose Key', 'city': 'Fort Lauderdale', 'tz': 'EST', 'country': 'USA'}, 'Eric Gaines': {'person': True, 'type': 'person', 'name': 'Eric Gaines', 'hire_date': datetime.date(2022, 5, 20), 'status': {'Full Time'}, 'languages': {'Typescript', 'Go', 'JavaScript', 'Java'}, 'manager': 'Paul Burns', 'team': 'DevX', 'title': 'Engineer', 'location': {'city': 'Fort Lauderdale', 'tz': 'EST', 'country': 'USA'}, 'rank': 4.0, 'peoplemanager': 'Kelly Jacobs', 'city': 'Fort Lauderdale', 'tz': 'EST', 'country': 'USA'}, 'Todd Valencia': {'person': True, 'type': 'person', 'name': 'Todd Valencia', 'hire_date': datetime.date(2021, 6, 1), 'status': {'Part Time'}, 'languages': {'Python', 'Typescript', 'JavaScript'}, 'manager': 'Paul Burns', 'team': 'DevX', 'title': 'Engineer', 'location': {'city': 'Fort Lauderdale', 'tz': 'EST', 'country': 'USA'}, 'rank': 4.0, 'peoplemanager': 'Kelly Jacobs', 'city': 'Fort Lauderdale', 'tz': 'EST', 'country': 'USA'}, 'Douglas Frazier': {'person': True, 'type': 'person', 'name': 'Douglas Frazier', 'hire_date': datetime.date(2022, 1, 20), 'status': {'Part Time'}, 'languages': {'Typescript', 'Scala'}, 'manager': 'Paul Burns', 'team': 'DevX', 'title': 'Engineer', 'location': {'city': 'Fort Lauderdale', 'tz': 'EST', 'country': 'USA'}, 'rank': 4.0, 'peoplemanager': 'Kelly Jacobs', 'city': 'Fort Lauderdale', 'tz': 'EST', 'country': 'USA'}, 'Trevor Hunt': {'person': True, 'type': 'person', 'name': 'Trevor Hunt', 'hire_date': datetime.date(2023, 1, 5), 'status': {'Contract'}, 'languages': {'Typescript', 'JavaScript', 'Python', 'Erlang', 'Java'}, 'manager': 'Paul Burns', 'team': 'DevX', 'title': 'Engineer', 'location': {'city': 'Fort Lauderdale', 'tz': 'EST', 'country': 'USA'}, 'rank': 4.0, 'peoplemanager': 'Amanda Harvey', 'city': 'Fort Lauderdale', 'tz': 'EST', 'country': 'USA'}, 'Bruce Russell': {'person': True, 'type': 'person', 'name': 'Bruce Russell', 'hire_date': datetime.date(2021, 10, 19), 'status': {'Contract'}, 'languages': {'Python', 'Go', 'JavaScript'}, 'manager': 'Paul Burns', 'team': 'DevX', 'title': 'Engineer', 'location': {'city': 'Fort Lauderdale', 'tz': 'EST', 'country': 'USA'}, 'rank': 4.0, 'peoplemanager': 'Amanda Harvey', 'city': 'Fort Lauderdale', 'tz': 'EST', 'country': 'USA'}, 'Kathy Lewis': {'person': True, 'type': 'person', 'name': 'Kathy Lewis', 'hire_date': datetime.date(2022, 6, 12), 'status': {'Part Time'}, 'languages': {'Java'}, 'manager': 'Paul Burns', 'team': 'DevX', 'title': 'Engineer', 'location': {'city': 'Fort Lauderdale', 'tz': 'EST', 'country': 'USA'}, 'rank': 4.0, 'peoplemanager': 'Amanda Harvey', 'city': 'Fort Lauderdale', 'tz': 'EST', 'country': 'USA'}, 'Andrea Jones': {'person': True, 'type': 'person', 'name': 'Andrea Jones', 'hire_date': datetime.date(2020, 5, 4), 'status': {'Contract'}, 'languages': {'Scala', 'JavaScript', 'Java'}, 'manager': 'Paul Burns', 'team': 'DevX', 'title': 'Engineer', 'location': {'city': 'Fort Lauderdale', 'tz': 'EST', 'country': 'USA'}, 'rank': 4.0, 'peoplemanager': 'Nathan Brown', 'city': 'Fort Lauderdale', 'tz': 'EST', 'country': 'USA'}, 'Amy Torres': {'person': True, 'type': 'person', 'name': 'Amy Torres', 'hire_date': datetime.date(2020, 11, 20), 'status': {'Contract'}, 'languages': {'Python', 'Java'}, 'manager': 'Paul Burns', 'team': 'DevX', 'title': 'Engineer', 'location': {'city': 'Fort Lauderdale', 'tz': 'EST', 'country': 'USA'}, 'rank': 4.0, 'peoplemanager': 'Nathan Brown', 'city': 'Fort Lauderdale', 'tz': 'EST', 'country': 'USA'}, 'Steven Robinson': {'person': True, 'type': 'person', 'name': 'Steven Robinson', 'hire_date': datetime.date(2021, 6, 25), 'status': {'Contract'}, 'languages': {'Python', 'Scala', 'JavaScript'}, 'manager': 'Paul Burns', 'team': 'DevX', 'title': 'Engineer', 'location': {'city': 'Fort Lauderdale', 'tz': 'EST', 'country': 'USA'}, 'rank': 4.0, 'peoplemanager': 'Nathan Brown', 'city': 'Fort Lauderdale', 'tz': 'EST', 'country': 'USA'}, 'Kevin Bennett': {'person': True, 'type': 'person', 'name': 'Kevin Bennett', 'hire_date': datetime.date(2022, 8, 5), 'status': {'Contract'}, 'languages': {'Python'}, 'manager': 'Paul Burns', 'team': 'DevX', 'title': 'Engineer', 'location': {'city': 'Fort Lauderdale', 'tz': 'EST', 'country': 'USA'}, 'rank': 4.0, 'peoplemanager': 'Justin Rowe', 'city': 'Fort Lauderdale', 'tz': 'EST', 'country': 'USA'}, 'Gabriel Gordon': {'person': True, 'type': 'person', 'name': 'Gabriel Gordon', 'hire_date': datetime.date(2020, 12, 16), 'status': {'Contract'}, 'languages': {'Python', 'Go', 'JavaScript', 'Java'}, 'manager': 'Paul Burns', 'team': 'DevX', 'title': 'Engineer', 'location': {'city': 'Fort Lauderdale', 'tz': 'EST', 'country': 'USA'}, 'rank': 4.0, 'peoplemanager': 'Justin Rowe', 'city': 'Fort Lauderdale', 'tz': 'EST', 'country': 'USA'}, 'Amanda Diaz': {'person': True, 'type': 'person', 'name': 'Amanda Diaz', 'hire_date': datetime.date(2020, 10, 26), 'status': {'Contract'}, 'languages': {'Java'}, 'manager': 'Stephen Hanna', 'team': 'DevX', 'title': 'AVP', 'location': {'city': 'Fort Lauderdale', 'tz': 'EST', 'country': 'USA'}, 'rank': 5.0, 'peoplemanager': 'Teresa Powell', 'city': 'Fort Lauderdale', 'tz': 'EST', 'country': 'USA'}, 'Zachary Bright': {'person': True, 'type': 'person', 'name': 'Zachary Bright', 'hire_date': datetime.date(2021, 9, 17), 'status': {'Full Time'}, 'languages': set(), 'manager': 'Carmen Shaw', 'team': 'DevX', 'title': 'AVP', 'location': {'city': 'Fort Lauderdale', 'tz': 'EST', 'country': 'USA'}, 'rank': 5.0, 'peoplemanager': 'Michael Wong', 'city': 'Fort Lauderdale', 'tz': 'EST', 'country': 'USA'}, 'James Strickland': {'person': True, 'type': 'person', 'name': 'James Strickland', 'hire_date': datetime.date(2021, 12, 23), 'status': {'Full Time'}, 'languages': {'Python', 'Typescript'}, 'manager': 'Anna Dyer', 'team': 'DevX', 'title': 'AVP', 'location': {'city': 'Fort Lauderdale', 'tz': 'EST', 'country': 'USA'}, 'rank': 5.0, 'peoplemanager': 'Kelly Jacobs', 'city': 'Fort Lauderdale', 'tz': 'EST', 'country': 'USA'}, 'Jennifer Davis': {'person': True, 'type': 'person', 'name': 'Jennifer Davis', 'hire_date': datetime.date(2022, 11, 6), 'status': {'Contract'}, 'languages': {'Typescript', 'Go', 'JavaScript'}, 'manager': 'Anna Dyer', 'team': 'DevX', 'title': 'AVP', 'location': {'city': 'Fort Lauderdale', 'tz': 'EST', 'country': 'USA'}, 'rank': 5.0, 'peoplemanager': 'Kelly Jacobs', 'city': 'Fort Lauderdale', 'tz': 'EST', 'country': 'USA'}, 'Katherine Palmer': {'person': True, 'type': 'person', 'name': 'Katherine Palmer', 'hire_date': datetime.date(2020, 12, 22), 'status': {'Contract'}, 'languages': {'Python', 'Java'}, 'manager': 'Anna Dyer', 'team': 'DevX', 'title': 'AVP', 'location': {'city': 'Fort Lauderdale', 'tz': 'EST', 'country': 'USA'}, 'rank': 5.0, 'peoplemanager': 'Kelly Jacobs', 'city': 'Fort Lauderdale', 'tz': 'EST', 'country': 'USA'}, 'Blake Wiley': {'person': True, 'type': 'person', 'name': 'Blake Wiley', 'hire_date': datetime.date(2020, 12, 4), 'status': {'Contract'}, 'languages': set(), 'manager': 'Anna Dyer', 'team': 'DevX', 'title': 'AVP', 'location': {'city': 'Fort Lauderdale', 'tz': 'EST', 'country': 'USA'}, 'rank': 5.0, 'peoplemanager': 'Kelly Jacobs', 'city': 'Fort Lauderdale', 'tz': 'EST', 'country': 'USA'}, 'Corey White': {'person': True, 'type': 'person', 'name': 'Corey White', 'hire_date': datetime.date(2021, 1, 13), 'status': {'Part Time'}, 'languages': set(), 'manager': 'Eric Gaines', 'team': 'DevX', 'title': 'AVP', 'location': {'city': 'Fort Lauderdale', 'tz': 'EST', 'country': 'USA'}, 'rank': 5.0, 'peoplemanager': 'Kelly Jacobs', 'city': 'Fort Lauderdale', 'tz': 'EST', 'country': 'USA'}, 'Kimberly Casey': {'person': True, 'type': 'person', 'name': 'Kimberly Casey', 'hire_date': datetime.date(2020, 9, 20), 'status': {'Contract'}, 'languages': {'Python', 'JavaScript', 'Java'}, 'manager': 'Stephen Hanna', 'team': 'Internal Tools', 'title': 'Engineer', 'location': {'city': 'Seattle', 'tz': 'PST', 'country': 'USA'}, 'rank': 0.0, 'peoplemanager': 'Lori Green', 'city': 'Seattle', 'tz': 'PST', 'country': 'USA'}, 'Emily Nelson': {'person': True, 'type': 'person', 'name': 'Emily Nelson', 'hire_date': datetime.date(2021, 6, 3), 'status': {'Contract'}, 'languages': {'Python', 'JavaScript'}, 'manager': 'Kimberly Casey', 'team': 'Internal Tools', 'title': 'Engineer', 'location': {'city': 'Seattle', 'tz': 'PST', 'country': 'USA'}, 'rank': 0.0, 'peoplemanager': 'Michael Nichols', 'city': 'Seattle', 'tz': 'PST', 'country': 'USA'}, 'Thomas Hansen': {'person': True, 'type': 'person', 'name': 'Thomas Hansen', 'hire_date': datetime.date(2021, 4, 27), 'status': {'Part Time'}, 'languages': {'Java'}, 'manager': 'Kimberly Casey', 'team': 'Internal Tools', 'title': 'Engineer', 'location': {'city': 'Toronto', 'tz': 'EST', 'country': 'CAN'}, 'rank': 0.0, 'peoplemanager': 'Michael Nichols', 'city': 'Toronto', 'tz': 'EST', 'country': 'CAN'}, 'George Short': {'person': True, 'type': 'person', 'name': 'George Short', 'hire_date': datetime.date(2022, 1, 16), 'status': {'Contract'}, 'languages': {'JavaScript'}, 'manager': 'Kimberly Casey', 'team': 'Internal Tools', 'title': 'Engineer', 'location': {'city': 'Toronto', 'tz': 'EST', 'country': 'CAN'}, 'rank': 0.0, 'peoplemanager': 'Michael Nichols', 'city': 'Toronto', 'tz': 'EST', 'country': 'CAN'}, 'Connie Petersen': {'person': True, 'type': 'person', 'name': 'Connie Petersen', 'hire_date': datetime.date(2021, 7, 22), 'status': {'Full Time'}, 'languages': {'Python', 'Scala', 'JavaScript', 'Java'}, 'manager': 'George Short', 'team': 'Internal Tools', 'title': 'Senior Engineer', 'location': {'city': 'Seattle', 'tz': 'PST', 'country': 'USA'}, 'rank': 1.0, 'peoplemanager': 'Tracy Mayer MD', 'city': 'Seattle', 'tz': 'PST', 'country': 'USA'}, 'Lori Brown': {'person': True, 'type': 'person', 'name': 'Lori Brown', 'hire_date': datetime.date(2022, 8, 9), 'status': {'Contract'}, 'languages': {'Typescript', 'Scala', 'Java'}, 'manager': 'Stephen Hanna', 'team': 'Internal Tools', 'title': 'Manager', 'location': {'city': 'Seattle', 'tz': 'PST', 'country': 'USA'}, 'rank': 2.0, 'peoplemanager': 'Michael Wong', 'city': 'Seattle', 'tz': 'PST', 'country': 'USA'}, 'Brooke Patrick': {'person': True, 'type': 'person', 'name': 'Brooke Patrick', 'hire_date': datetime.date(2020, 8, 25), 'status': {'Full Time'}, 'languages': {'Python', 'Typescript', 'Scala'}, 'manager': 'George Short', 'team': 'Internal Tools', 'title': 'Manager', 'location': {'city': 'Seattle', 'tz': 'PST', 'country': 'USA'}, 'rank': 2.0, 'peoplemanager': 'Kelly Jacobs', 'city': 'Seattle', 'tz': 'PST', 'country': 'USA'}, 'Edward Pierce': {'person': True, 'type': 'person', 'name': 'Edward Pierce', 'hire_date': datetime.date(2020, 6, 7), 'status': {'Part Time'}, 'languages': {'Python', 'Scala', 'JavaScript', 'Java'}, 'manager': 'Lori Brown', 'team': 'Internal Tools', 'title': 'AVP', 'location': {'city': 'Seattle', 'tz': 'PST', 'country': 'USA'}, 'rank': 3.0, 'peoplemanager': 'Jose Key', 'city': 'Seattle', 'tz': 'PST', 'country': 'USA'}, 'Carolyn Miller': {'person': True, 'type': 'person', 'name': 'Carolyn Miller', 'hire_date': datetime.date(2020, 10, 21), 'status': {'Part Time'}, 'languages': {'Python', 'Scala'}, 'manager': 'Edward Pierce', 'team': 'Internal Tools', 'title': 'VP', 'location': {'city': 'Toronto', 'tz': 'EST', 'country': 'CAN'}, 'rank': 4.0, 'peoplemanager': 'Nathan Brown', 'city': 'Toronto', 'tz': 'EST', 'country': 'CAN'}, 'Lori Green': {'person': True, 'type': 'person', 'name': 'Lori Green', 'hire_date': datetime.date(2022, 9, 16), 'status': {'Part Time'}, 'languages': {'Python', 'JavaScript', 'Erlang'}, 'manager': 'Stephen Hanna', 'team': 'Platform', 'title': 'Engineer', 'location': {'city': 'Toronto', 'tz': 'EST', 'country': 'CAN'}, 'rank': 0.0, 'peoplemanager': 'Lori Green', 'city': 'Toronto', 'tz': 'EST', 'country': 'CAN'}, 'Anita Wilson': {'person': True, 'type': 'person', 'name': 'Anita Wilson', 'hire_date': datetime.date(2022, 3, 20), 'status': {'Full Time'}, 'languages': {'Python', 'Go'}, 'manager': 'Lori Green', 'team': 'Platform', 'title': 'Engineer', 'location': {'city': 'Toronto', 'tz': 'EST', 'country': 'CAN'}, 'rank': 0.0, 'peoplemanager': 'Lori Green', 'city': 'Toronto', 'tz': 'EST', 'country': 'CAN'}, 'John Clarke': {'person': True, 'type': 'person', 'name': 'John Clarke', 'hire_date': datetime.date(2021, 5, 18), 'status': {'Part Time'}, 'languages': {'Python', 'Scala', 'JavaScript'}, 'manager': 'Lori Green', 'team': 'Platform', 'title': 'Engineer', 'location': {'city': 'Seattle', 'tz': 'PST', 'country': 'USA'}, 'rank': 0.0, 'peoplemanager': 'Michael Nichols', 'city': 'Seattle', 'tz': 'PST', 'country': 'USA'}, 'Karen Newman': {'person': True, 'type': 'person', 'name': 'Karen Newman', 'hire_date': datetime.date(2023, 1, 19), 'status': {'Contract'}, 'languages': {'Typescript'}, 'manager': 'Lori Green', 'team': 'Platform', 'title': 'Engineer', 'location': {'city': 'Seattle', 'tz': 'PST', 'country': 'USA'}, 'rank': 0.0, 'peoplemanager': 'Michael Nichols', 'city': 'Seattle', 'tz': 'PST', 'country': 'USA'}, 'Deborah Solis': {'person': True, 'type': 'person', 'name': 'Deborah Solis', 'hire_date': datetime.date(2022, 5, 24), 'status': {'Contract'}, 'languages': {'Python', 'Typescript', 'Go', 'Java'}, 'manager': 'Stephen Hanna', 'team': 'Platform', 'title': 'Senior Engineer', 'location': {'city': 'Toronto', 'tz': 'EST', 'country': 'CAN'}, 'rank': 1.0, 'peoplemanager': 'Deborah Solis', 'city': 'Toronto', 'tz': 'EST', 'country': 'CAN'}, 'Thomas Fitzgerald': {'person': True, 'type': 'person', 'name': 'Thomas Fitzgerald', 'hire_date': datetime.date(2022, 9, 25), 'status': {'Part Time'}, 'languages': {'Python', 'JavaScript'}, 'manager': 'Deborah Solis', 'team': 'Platform', 'title': 'Senior Engineer', 'location': {'city': 'Seattle', 'tz': 'PST', 'country': 'USA'}, 'rank': 1.0, 'peoplemanager': 'Deborah Solis', 'city': 'Seattle', 'tz': 'PST', 'country': 'USA'}, 'Krystal Sellers': {'person': True, 'type': 'person', 'name': 'Krystal Sellers', 'hire_date': datetime.date(2020, 11, 12), 'status': {'Full Time'}, 'languages': {'JavaScript'}, 'manager': 'Karen Newman', 'team': 'Platform', 'title': 'Senior Engineer', 'location': {'city': 'Toronto', 'tz': 'EST', 'country': 'CAN'}, 'rank': 1.0, 'peoplemanager': 'Anthony Powers', 'city': 'Toronto', 'tz': 'EST', 'country': 'CAN'}, 'Michael Andrews': {'person': True, 'type': 'person', 'name': 'Michael Andrews', 'hire_date': datetime.date(2021, 5, 12), 'status': {'Full Time'}, 'languages': {'Typescript', 'Scala', 'JavaScript'}, 'manager': 'Thomas Fitzgerald', 'team': 'Platform', 'title': 'Managing Engineer', 'location': {'city': 'Seattle', 'tz': 'PST', 'country': 'USA'}, 'rank': 2.0, 'peoplemanager': 'Michael Wong', 'city': 'Seattle', 'tz': 'PST', 'country': 'USA'}, 'Kristina Wallace': {'person': True, 'type': 'person', 'name': 'Kristina Wallace', 'hire_date': datetime.date(2021, 3, 26), 'status': {'Full Time'}, 'languages': {'JavaScript', 'Java'}, 'manager': 'Thomas Fitzgerald', 'team': 'Platform', 'title': 'Managing Engineer', 'location': {'city': 'Seattle', 'tz': 'PST', 'country': 'USA'}, 'rank': 2.0, 'peoplemanager': 'Kelly Jacobs', 'city': 'Seattle', 'tz': 'PST', 'country': 'USA'}, 'Matthew Rogers': {'person': True, 'type': 'person', 'name': 'Matthew Rogers', 'hire_date': datetime.date(2020, 10, 18), 'status': {'Part Time'}, 'languages': {'Python', 'Scala', 'Java'}, 'manager': 'Thomas Fitzgerald', 'team': 'Platform', 'title': 'AVP', 'location': {'city': 'Toronto', 'tz': 'EST', 'country': 'CAN'}, 'rank': 3.0, 'peoplemanager': 'Teresa Powell', 'city': 'Toronto', 'tz': 'EST', 'country': 'CAN'}, 'Carolyn Murphy': {'person': True, 'type': 'person', 'name': 'Carolyn Murphy', 'hire_date': datetime.date(2020, 6, 14), 'status': {'Part Time'}, 'languages': {'Python', 'Java'}, 'manager': 'Thomas Fitzgerald', 'team': 'Platform', 'title': 'AVP', 'location': {'city': 'Seattle', 'tz': 'PST', 'country': 'USA'}, 'rank': 3.0, 'peoplemanager': 'Teresa Powell', 'city': 'Seattle', 'tz': 'PST', 'country': 'USA'}, 'Thomas Haley': {'person': True, 'type': 'person', 'name': 'Thomas Haley', 'hire_date': datetime.date(2023, 1, 30), 'status': {'Part Time'}, 'languages': {'Python'}, 'manager': 'Michael Andrews', 'team': 'Platform', 'title': 'AVP', 'location': {'city': 'Toronto', 'tz': 'EST', 'country': 'CAN'}, 'rank': 3.0, 'peoplemanager': 'Kelly Jacobs', 'city': 'Toronto', 'tz': 'EST', 'country': 'CAN'}, 'Kelly Jackson': {'person': True, 'type': 'person', 'name': 'Kelly Jackson', 'hire_date': datetime.date(2020, 9, 28), 'status': {'Contract'}, 'languages': set(), 'manager': 'Kristina Wallace', 'team': 'Platform', 'title': 'AVP', 'location': {'city': 'Seattle', 'tz': 'PST', 'country': 'USA'}, 'rank': 3.0, 'peoplemanager': 'Kelly Jacobs', 'city': 'Seattle', 'tz': 'PST', 'country': 'USA'}, 'Lindsay Nichols': {'person': True, 'type': 'person', 'name': 'Lindsay Nichols', 'hire_date': datetime.date(2023, 1, 29), 'status': {'Contract'}, 'languages': set(), 'manager': 'Kristina Wallace', 'team': 'Platform', 'title': 'AVP', 'location': {'city': 'Seattle', 'tz': 'PST', 'country': 'USA'}, 'rank': 3.0, 'peoplemanager': 'Amanda Harvey', 'city': 'Seattle', 'tz': 'PST', 'country': 'USA'}, 'James Wilson MD': {'person': True, 'type': 'person', 'name': 'James Wilson MD', 'hire_date': datetime.date(2020, 10, 27), 'status': {'Contract'}, 'languages': set(), 'manager': 'Kristina Wallace', 'team': 'Platform', 'title': 'AVP', 'location': {'city': 'Seattle', 'tz': 'PST', 'country': 'USA'}, 'rank': 3.0, 'peoplemanager': 'Amanda Harvey', 'city': 'Seattle', 'tz': 'PST', 'country': 'USA'}, 'Julie Padilla': {'person': True, 'type': 'person', 'name': 'Julie Padilla', 'hire_date': datetime.date(2022, 8, 24), 'status': {'Full Time'}, 'languages': {'Python', 'JavaScript', 'Java'}, 'manager': 'Carolyn Murphy', 'team': 'Platform', 'title': 'VP', 'location': {'city': 'Toronto', 'tz': 'EST', 'country': 'CAN'}, 'rank': 4.0, 'peoplemanager': 'Teresa Powell', 'city': 'Toronto', 'tz': 'EST', 'country': 'CAN'}, 'Traci Flores': {'person': True, 'type': 'person', 'name': 'Traci Flores', 'hire_date': datetime.date(2022, 12, 14), 'status': {'Part Time'}, 'languages': {'Typescript', 'JavaScript', 'Java'}, 'manager': 'Carolyn Murphy', 'team': 'Platform', 'title': 'VP', 'location': {'city': 'Seattle', 'tz': 'PST', 'country': 'USA'}, 'rank': 4.0, 'peoplemanager': 'Jose Key', 'city': 'Seattle', 'tz': 'PST', 'country': 'USA'}, 'Tim Smith': {'person': True, 'type': 'person', 'name': 'Tim Smith', 'hire_date': datetime.date(2020, 9, 29), 'status': {'Part Time'}, 'languages': set(), 'manager': 'Carolyn Murphy', 'team': 'Platform', 'title': 'VP', 'location': {'city': 'Toronto', 'tz': 'EST', 'country': 'CAN'}, 'rank': 4.0, 'peoplemanager': 'Jose Key', 'city': 'Toronto', 'tz': 'EST', 'country': 'CAN'}, 'Donald Martin': {'person': True, 'type': 'person', 'name': 'Donald Martin', 'hire_date': datetime.date(2021, 10, 3), 'status': {'Full Time'}, 'languages': {'Python', 'Scala', 'JavaScript'}, 'manager': 'Thomas Haley', 'team': 'Platform', 'title': 'VP', 'location': {'city': 'Seattle', 'tz': 'PST', 'country': 'USA'}, 'rank': 4.0, 'peoplemanager': 'Kelly Jacobs', 'city': 'Seattle', 'tz': 'PST', 'country': 'USA'}, 'Debbie Young': {'person': True, 'type': 'person', 'name': 'Debbie Young', 'hire_date': datetime.date(2021, 2, 4), 'status': {'Contract'}, 'languages': {'Python'}, 'manager': 'Thomas Haley', 'team': 'Platform', 'title': 'VP', 'location': {'city': 'Toronto', 'tz': 'EST', 'country': 'CAN'}, 'rank': 4.0, 'peoplemanager': 'Kelly Jacobs', 'city': 'Toronto', 'tz': 'EST', 'country': 'CAN'}, 'Jamie Johnson': {'person': True, 'type': 'person', 'name': 'Jamie Johnson', 'hire_date': datetime.date(2021, 5, 24), 'status': {'Contract'}, 'languages': set(), 'manager': 'Kelly Jackson', 'team': 'Platform', 'title': 'VP', 'location': {'city': 'Seattle', 'tz': 'PST', 'country': 'USA'}, 'rank': 4.0, 'peoplemanager': 'Amanda Harvey', 'city': 'Seattle', 'tz': 'PST', 'country': 'USA'}, 'Sarah Robertson': {'person': True, 'type': 'person', 'name': 'Sarah Robertson', 'hire_date': datetime.date(2022, 12, 16), 'status': {'Part Time'}, 'languages': {'Python'}, 'manager': 'Kelly Jackson', 'team': 'Platform', 'title': 'VP', 'location': {'city': 'Toronto', 'tz': 'EST', 'country': 'CAN'}, 'rank': 4.0, 'peoplemanager': 'Amanda Harvey', 'city': 'Toronto', 'tz': 'EST', 'country': 'CAN'}, 'Rebecca Hubbard': {'person': True, 'type': 'person', 'name': 'Rebecca Hubbard', 'hire_date': datetime.date(2020, 10, 13), 'status': {'Full Time'}, 'languages': {'Python', 'Scala'}, 'manager': 'Lindsay Nichols', 'team': 'Platform', 'title': 'VP', 'location': {'city': 'Toronto', 'tz': 'EST', 'country': 'CAN'}, 'rank': 4.0, 'peoplemanager': 'Amanda Harvey', 'city': 'Toronto', 'tz': 'EST', 'country': 'CAN'}, 'Isaiah Hill': {'person': True, 'type': 'person', 'name': 'Isaiah Hill', 'hire_date': datetime.date(2022, 8, 31), 'status': {'Part Time'}, 'languages': {'Typescript'}, 'manager': 'James Wilson MD', 'team': 'Platform', 'title': 'VP', 'location': {'city': 'Toronto', 'tz': 'EST', 'country': 'CAN'}, 'rank': 4.0, 'peoplemanager': 'Justin Rowe', 'city': 'Toronto', 'tz': 'EST', 'country': 'CAN'}, 'Alexandria Dodson': {'person': True, 'type': 'person', 'name': 'Alexandria Dodson', 'hire_date': datetime.date(2023, 2, 21), 'status': {'Contract'}, 'languages': {'Python'}, 'manager': 'Stephen Hanna', 'team': 'Product', 'title': 'Engineer', 'location': {'city': 'Toronto', 'tz': 'EST', 'country': 'CAN'}, 'rank': 0.0, 'peoplemanager': 'Lori Green', 'city': 'Toronto', 'tz': 'EST', 'country': 'CAN'}, 'Keith Bailey': {'person': True, 'type': 'person', 'name': 'Keith Bailey', 'hire_date': datetime.date(2020, 11, 5), 'status': {'Full Time'}, 'languages': {'Typescript', 'Scala', 'JavaScript', 'Java'}, 'manager': 'Alexandria Dodson', 'team': 'Product', 'title': 'Engineer', 'location': {'city': 'Toronto', 'tz': 'EST', 'country': 'CAN'}, 'rank': 0.0, 'peoplemanager': 'Michael Nichols', 'city': 'Toronto', 'tz': 'EST', 'country': 'CAN'}, 'Joann Gonzalez': {'person': True, 'type': 'person', 'name': 'Joann Gonzalez', 'hire_date': datetime.date(2021, 9, 12), 'status': {'Full Time'}, 'languages': {'Typescript', 'Erlang'}, 'manager': 'Alexandria Dodson', 'team': 'Product', 'title': 'Engineer', 'location': {'city': 'New York', 'tz': 'EST', 'country': 'USA'}, 'rank': 0.0, 'peoplemanager': 'Michael Nichols', 'city': 'New York', 'tz': 'EST', 'country': 'USA'}, 'Shirley Morris': {'person': True, 'type': 'person', 'name': 'Shirley Morris', 'hire_date': datetime.date(2021, 6, 10), 'status': {'Contract'}, 'languages': {'Python', 'Typescript', 'JavaScript', 'Java'}, 'manager': 'Alexandria Dodson', 'team': 'Product', 'title': 'Engineer', 'location': {'city': 'Seattle', 'tz': 'PST', 'country': 'USA'}, 'rank': 0.0, 'peoplemanager': 'Michael Nichols', 'city': 'Seattle', 'tz': 'PST', 'country': 'USA'}, 'Robert Ford': {'person': True, 'type': 'person', 'name': 'Robert Ford', 'hire_date': datetime.date(2021, 9, 5), 'status': {'Contract'}, 'languages': {'Python', 'JavaScript'}, 'manager': 'Alexandria Dodson', 'team': 'Product', 'title': 'Engineer', 'location': {'city': 'Toronto', 'tz': 'EST', 'country': 'CAN'}, 'rank': 0.0, 'peoplemanager': 'Michael Nichols', 'city': 'Toronto', 'tz': 'EST', 'country': 'CAN'}, 'Ronald Lowery': {'person': True, 'type': 'person', 'name': 'Ronald Lowery', 'hire_date': datetime.date(2022, 8, 7), 'status': {'Full Time'}, 'languages': {'Python', 'Scala', 'JavaScript', 'Java'}, 'manager': 'Alexandria Dodson', 'team': 'Product', 'title': 'Engineer', 'location': {'city': 'Toronto', 'tz': 'EST', 'country': 'CAN'}, 'rank': 0.0, 'peoplemanager': 'Michael Nichols', 'city': 'Toronto', 'tz': 'EST', 'country': 'CAN'}, 'Theresa White': {'person': True, 'type': 'person', 'name': 'Theresa White', 'hire_date': datetime.date(2021, 1, 29), 'status': {'Full Time'}, 'languages': {'Java'}, 'manager': 'Alexandria Dodson', 'team': 'Product', 'title': 'Engineer', 'location': {'city': 'New York', 'tz': 'EST', 'country': 'USA'}, 'rank': 0.0, 'peoplemanager': 'Michael Nichols', 'city': 'New York', 'tz': 'EST', 'country': 'USA'}, 'Emily Bruce': {'person': True, 'type': 'person', 'name': 'Emily Bruce', 'hire_date': datetime.date(2021, 4, 12), 'status': {'Part Time'}, 'languages': {'Scala'}, 'manager': 'Alexandria Dodson', 'team': 'Product', 'title': 'Manager', 'location': {'city': 'Toronto', 'tz': 'EST', 'country': 'CAN'}, 'rank': 1.0, 'peoplemanager': 'Jordan White', 'city': 'Toronto', 'tz': 'EST', 'country': 'CAN'}, 'Jennifer Cameron': {'person': True, 'type': 'person', 'name': 'Jennifer Cameron', 'hire_date': datetime.date(2022, 7, 7), 'status': {'Part Time'}, 'languages': set(), 'manager': 'Joann Gonzalez', 'team': 'Product', 'title': 'Manager', 'location': {'city': 'New York', 'tz': 'EST', 'country': 'USA'}, 'rank': 1.0, 'peoplemanager': 'Tracy Mayer MD', 'city': 'New York', 'tz': 'EST', 'country': 'USA'}, 'Joseph Flores': {'person': True, 'type': 'person', 'name': 'Joseph Flores', 'hire_date': datetime.date(2022, 5, 5), 'status': {'Part Time'}, 'languages': {'Go'}, 'manager': 'Emily Bruce', 'team': 'Product', 'title': 'Product Owner', 'location': {'city': 'New York', 'tz': 'EST', 'country': 'USA'}, 'rank': 2.0, 'peoplemanager': 'Jose Key', 'city': 'New York', 'tz': 'EST', 'country': 'USA'}, 'Miranda Abbott': {'person': True, 'type': 'person', 'name': 'Miranda Abbott', 'hire_date': datetime.date(2020, 9, 10), 'status': {'Full Time'}, 'languages': set(), 'manager': 'Emily Bruce', 'team': 'Product', 'title': 'Product Owner', 'location': {'city': 'New York', 'tz': 'EST', 'country': 'USA'}, 'rank': 2.0, 'peoplemanager': 'Amanda Harvey', 'city': 'New York', 'tz': 'EST', 'country': 'USA'}, 'Diane Hendricks': {'person': True, 'type': 'person', 'name': 'Diane Hendricks', 'hire_date': datetime.date(2022, 9, 23), 'status': {'Full Time'}, 'languages': {'JavaScript'}, 'manager': 'Jennifer Johnson', 'team': 'Product', 'title': 'AVP', 'location': {'city': 'Seattle', 'tz': 'PST', 'country': 'USA'}, 'rank': 3.0, 'peoplemanager': 'Michael Wong', 'city': 'Seattle', 'tz': 'PST', 'country': 'USA'}, 'Andrew Hamilton': {'person': True, 'type': 'person', 'name': 'Andrew Hamilton', 'hire_date': datetime.date(2020, 12, 25), 'status': {'Contract'}, 'languages': {'Typescript', 'Go', 'JavaScript', 'Java'}, 'manager': 'Jennifer Johnson', 'team': 'Product', 'title': 'AVP', 'location': {'city': 'Seattle', 'tz': 'PST', 'country': 'USA'}, 'rank': 3.0, 'peoplemanager': 'Michael Wong', 'city': 'Seattle', 'tz': 'PST', 'country': 'USA'}, 'John Davis': {'person': True, 'type': 'person', 'name': 'John Davis', 'hire_date': datetime.date(2022, 5, 10), 'status': {'Contract'}, 'languages': {'Go', 'JavaScript', 'Java'}, 'manager': 'Joseph Flores', 'team': 'Product', 'title': 'AVP', 'location': {'city': 'New York', 'tz': 'EST', 'country': 'USA'}, 'rank': 3.0, 'peoplemanager': 'Kelly Jacobs', 'city': 'New York', 'tz': 'EST', 'country': 'USA'}, 'Marissa Rodriguez': {'person': True, 'type': 'person', 'name': 'Marissa Rodriguez', 'hire_date': datetime.date(2022, 8, 8), 'status': {'Contract'}, 'languages': {'Python', 'Go', 'JavaScript', 'Java'}, 'manager': 'Miranda Abbott', 'team': 'Product', 'title': 'AVP', 'location': {'city': 'Seattle', 'tz': 'PST', 'country': 'USA'}, 'rank': 3.0, 'peoplemanager': 'Justin Rowe', 'city': 'Seattle', 'tz': 'PST', 'country': 'USA'}, 'Christopher Mahoney': {'person': True, 'type': 'person', 'name': 'Christopher Mahoney', 'hire_date': datetime.date(2022, 6, 26), 'status': {'Part Time'}, 'languages': set(), 'manager': 'Miranda Abbott', 'team': 'Product', 'title': 'AVP', 'location': {'city': 'Seattle', 'tz': 'PST', 'country': 'USA'}, 'rank': 3.0, 'peoplemanager': 'Justin Rowe', 'city': 'Seattle', 'tz': 'PST', 'country': 'USA'}, 'Angela Torres': {'person': True, 'type': 'person', 'name': 'Angela Torres', 'hire_date': datetime.date(2021, 11, 14), 'status': {'Full Time'}, 'languages': {'Typescript', 'Scala'}, 'manager': 'Jennifer Johnson', 'team': 'Product', 'title': 'VP', 'location': {'city': 'Seattle', 'tz': 'PST', 'country': 'USA'}, 'rank': 4.0, 'peoplemanager': 'Teresa Powell', 'city': 'Seattle', 'tz': 'PST', 'country': 'USA'}, 'Adrienne Williamson': {'person': True, 'type': 'person', 'name': 'Adrienne Williamson', 'hire_date': datetime.date(2021, 8, 30), 'status': {'Part Time'}, 'languages': {'Go', 'JavaScript', 'Java'}, 'manager': 'Andrew Hamilton', 'team': 'Product', 'title': 'VP', 'location': {'city': 'New York', 'tz': 'EST', 'country': 'USA'}, 'rank': 4.0, 'peoplemanager': 'Michael Wong', 'city': 'New York', 'tz': 'EST', 'country': 'USA'}, 'Tracy Curry': {'person': True, 'type': 'person', 'name': 'Tracy Curry', 'hire_date': datetime.date(2021, 9, 14), 'status': {'Full Time'}, 'languages': {'Python'}, 'manager': 'John Davis', 'team': 'Product', 'title': 'VP', 'location': {'city': 'New York', 'tz': 'EST', 'country': 'USA'}, 'rank': 4.0, 'peoplemanager': 'Justin Rowe', 'city': 'New York', 'tz': 'EST', 'country': 'USA'}, 'Maria Nichols': {'person': True, 'type': 'person', 'name': 'Maria Nichols', 'hire_date': datetime.date(2021, 5, 18), 'status': {'Full Time'}, 'languages': {'Python', 'Java'}, 'manager': 'Stephen Hanna', 'team': 'Sales', 'title': 'Associate', 'location': {'city': 'London', 'tz': 'UTC', 'country': 'GBR'}, 'rank': 0.0, 'peoplemanager': 'Lori Green', 'city': 'London', 'tz': 'UTC', 'country': 'GBR'}, 'Leah Peterson': {'person': True, 'type': 'person', 'name': 'Leah Peterson', 'hire_date': datetime.date(2021, 4, 3), 'status': {'Part Time'}, 'languages': {'Typescript', 'Go'}, 'manager': 'Maria Nichols', 'team': 'Sales', 'title': 'Associate', 'location': {'city': 'Toronto', 'tz': 'EST', 'country': 'CAN'}, 'rank': 0.0, 'peoplemanager': 'Lori Green', 'city': 'Toronto', 'tz': 'EST', 'country': 'CAN'}, 'David Valentine': {'person': True, 'type': 'person', 'name': 'David Valentine', 'hire_date': datetime.date(2021, 11, 16), 'status': {'Part Time'}, 'languages': {'Typescript', 'JavaScript', 'Python', 'Scala', 'Go', 'Java'}, 'manager': 'Maria Nichols', 'team': 'Sales', 'title': 'Associate', 'location': {'city': 'London', 'tz': 'UTC', 'country': 'GBR'}, 'rank': 0.0, 'peoplemanager': 'Lori Green', 'city': 'London', 'tz': 'UTC', 'country': 'GBR'}, 'Casey Stanley': {'person': True, 'type': 'person', 'name': 'Casey Stanley', 'hire_date': datetime.date(2022, 4, 23), 'status': {'Contract'}, 'languages': {'Python', 'Go', 'Java'}, 'manager': 'Maria Nichols', 'team': 'Sales', 'title': 'Associate', 'location': {'city': 'London', 'tz': 'UTC', 'country': 'GBR'}, 'rank': 0.0, 'peoplemanager': 'Lori Green', 'city': 'London', 'tz': 'UTC', 'country': 'GBR'}, 'Patricia Garcia': {'person': True, 'type': 'person', 'name': 'Patricia Garcia', 'hire_date': datetime.date(2022, 12, 29), 'status': {'Part Time'}, 'languages': {'Typescript', 'Go', 'Java'}, 'manager': 'Maria Nichols', 'team': 'Sales', 'title': 'Associate', 'location': {'city': 'London', 'tz': 'UTC', 'country': 'GBR'}, 'rank': 0.0, 'peoplemanager': 'Lori Green', 'city': 'London', 'tz': 'UTC', 'country': 'GBR'}, 'Jamie Cooper': {'person': True, 'type': 'person', 'name': 'Jamie Cooper', 'hire_date': datetime.date(2021, 7, 15), 'status': {'Part Time'}, 'languages': set(), 'manager': 'Maria Nichols', 'team': 'Sales', 'title': 'Associate', 'location': {'city': 'New York', 'tz': 'EST', 'country': 'USA'}, 'rank': 0.0, 'peoplemanager': 'Kimberly Casey', 'city': 'New York', 'tz': 'EST', 'country': 'USA'}, 'Jordan White': {'person': True, 'type': 'person', 'name': 'Jordan White', 'hire_date': datetime.date(2023, 3, 4), 'status': {'Part Time'}, 'languages': {'JavaScript', 'Python', 'Scala', 'Erlang', 'Java'}, 'manager': 'Maria Nichols', 'team': 'Sales', 'title': 'Associate', 'location': {'city': 'London', 'tz': 'UTC', 'country': 'GBR'}, 'rank': 0.0, 'peoplemanager': 'Kimberly Casey', 'city': 'London', 'tz': 'UTC', 'country': 'GBR'}, 'Nathan Blair': {'person': True, 'type': 'person', 'name': 'Nathan Blair', 'hire_date': datetime.date(2020, 7, 21), 'status': {'Part Time'}, 'languages': {'Scala'}, 'manager': 'Maria Nichols', 'team': 'Sales', 'title': 'Associate', 'location': {'city': 'London', 'tz': 'UTC', 'country': 'GBR'}, 'rank': 0.0, 'peoplemanager': 'Kimberly Casey', 'city': 'London', 'tz': 'UTC', 'country': 'GBR'}, 'John Ramirez': {'person': True, 'type': 'person', 'name': 'John Ramirez', 'hire_date': datetime.date(2022, 1, 9), 'status': {'Part Time'}, 'languages': {'Python', 'Typescript', 'JavaScript'}, 'manager': 'Maria Nichols', 'team': 'Sales', 'title': 'Associate', 'location': {'city': 'London', 'tz': 'UTC', 'country': 'GBR'}, 'rank': 0.0, 'peoplemanager': 'Kimberly Casey', 'city': 'London', 'tz': 'UTC', 'country': 'GBR'}, 'Joseph Hudson': {'person': True, 'type': 'person', 'name': 'Joseph Hudson', 'hire_date': datetime.date(2021, 8, 3), 'status': {'Contract'}, 'languages': {'Python', 'Scala', 'Java'}, 'manager': 'Maria Nichols', 'team': 'Sales', 'title': 'Associate', 'location': {'city': 'New York', 'tz': 'EST', 'country': 'USA'}, 'rank': 0.0, 'peoplemanager': 'Kimberly Casey', 'city': 'New York', 'tz': 'EST', 'country': 'USA'}, 'Ryan Patterson': {'person': True, 'type': 'person', 'name': 'Ryan Patterson', 'hire_date': datetime.date(2021, 2, 9), 'status': {'Part Time'}, 'languages': set(), 'manager': 'Maria Nichols', 'team': 'Sales', 'title': 'Associate', 'location': {'city': 'New York', 'tz': 'EST', 'country': 'USA'}, 'rank': 0.0, 'peoplemanager': 'Michael Nichols', 'city': 'New York', 'tz': 'EST', 'country': 'USA'}, 'Kristi Ball': {'person': True, 'type': 'person', 'name': 'Kristi Ball', 'hire_date': datetime.date(2021, 11, 1), 'status': {'Part Time'}, 'languages': {'Java'}, 'manager': 'Maria Nichols', 'team': 'Sales', 'title': 'Associate', 'location': {'city': 'London', 'tz': 'UTC', 'country': 'GBR'}, 'rank': 0.0, 'peoplemanager': 'Michael Nichols', 'city': 'London', 'tz': 'UTC', 'country': 'GBR'}, 'Katherine Cooper': {'person': True, 'type': 'person', 'name': 'Katherine Cooper', 'hire_date': datetime.date(2020, 6, 3), 'status': {'Part Time'}, 'languages': set(), 'manager': 'Maria Nichols', 'team': 'Sales', 'title': 'Associate', 'location': {'city': 'Toronto', 'tz': 'EST', 'country': 'CAN'}, 'rank': 0.0, 'peoplemanager': 'Michael Nichols', 'city': 'Toronto', 'tz': 'EST', 'country': 'CAN'}, 'Larry Warren': {'person': True, 'type': 'person', 'name': 'Larry Warren', 'hire_date': datetime.date(2021, 4, 9), 'status': {'Full Time'}, 'languages': set(), 'manager': 'Maria Nichols', 'team': 'Sales', 'title': 'Associate', 'location': {'city': 'Toronto', 'tz': 'EST', 'country': 'CAN'}, 'rank': 0.0, 'peoplemanager': 'Michael Nichols', 'city': 'Toronto', 'tz': 'EST', 'country': 'CAN'}, 'Debra Olson': {'person': True, 'type': 'person', 'name': 'Debra Olson', 'hire_date': datetime.date(2021, 5, 22), 'status': {'Part Time'}, 'languages': {'Python'}, 'manager': 'Maria Nichols', 'team': 'Sales', 'title': 'Associate', 'location': {'city': 'Toronto', 'tz': 'EST', 'country': 'CAN'}, 'rank': 0.0, 'peoplemanager': 'Michael Nichols', 'city': 'Toronto', 'tz': 'EST', 'country': 'CAN'}, 'John Reese': {'person': True, 'type': 'person', 'name': 'John Reese', 'hire_date': datetime.date(2022, 7, 3), 'status': {'Full Time'}, 'languages': {'Python', 'Typescript', 'Scala', 'Go'}, 'manager': 'Maria Nichols', 'team': 'Sales', 'title': 'Associate', 'location': {'city': 'London', 'tz': 'UTC', 'country': 'GBR'}, 'rank': 0.0, 'peoplemanager': 'Michael Nichols', 'city': 'London', 'tz': 'UTC', 'country': 'GBR'}, 'Mrs. Kathryn Todd MD': {'person': True, 'type': 'person', 'name': 'Mrs. Kathryn Todd MD', 'hire_date': datetime.date(2022, 4, 28), 'status': {'Full Time'}, 'languages': {'JavaScript'}, 'manager': 'Maria Nichols', 'team': 'Sales', 'title': 'Associate', 'location': {'city': 'London', 'tz': 'UTC', 'country': 'GBR'}, 'rank': 0.0, 'peoplemanager': 'Michael Nichols', 'city': 'London', 'tz': 'UTC', 'country': 'GBR'}, 'Brian Brown': {'person': True, 'type': 'person', 'name': 'Brian Brown', 'hire_date': datetime.date(2021, 6, 2), 'status': {'Part Time'}, 'languages': {'Python', 'Typescript'}, 'manager': 'Maria Nichols', 'team': 'Sales', 'title': 'Associate', 'location': {'city': 'New York', 'tz': 'EST', 'country': 'USA'}, 'rank': 0.0, 'peoplemanager': 'Michael Nichols', 'city': 'New York', 'tz': 'EST', 'country': 'USA'}, 'Anthony Powers': {'person': True, 'type': 'person', 'name': 'Anthony Powers', 'hire_date': datetime.date(2021, 10, 13), 'status': {'Contract'}, 'languages': {'Python', 'Scala', 'Go', 'JavaScript'}, 'manager': 'Maria Nichols', 'team': 'Sales', 'title': 'Associate', 'location': {'city': 'London', 'tz': 'UTC', 'country': 'GBR'}, 'rank': 0.0, 'peoplemanager': 'Michael Nichols', 'city': 'London', 'tz': 'UTC', 'country': 'GBR'}, 'Elizabeth Romero': {'person': True, 'type': 'person', 'name': 'Elizabeth Romero', 'hire_date': datetime.date(2022, 11, 1), 'status': {'Part Time'}, 'languages': {'Python', 'Java'}, 'manager': 'Maria Nichols', 'team': 'Sales', 'title': 'Associate', 'location': {'city': 'London', 'tz': 'UTC', 'country': 'GBR'}, 'rank': 0.0, 'peoplemanager': 'Michael Nichols', 'city': 'London', 'tz': 'UTC', 'country': 'GBR'}, 'Ronald Smith': {'person': True, 'type': 'person', 'name': 'Ronald Smith', 'hire_date': datetime.date(2021, 9, 15), 'status': {'Contract'}, 'languages': {'Python', 'JavaScript', 'Java'}, 'manager': 'Maria Nichols', 'team': 'Sales', 'title': 'Associate', 'location': {'city': 'New York', 'tz': 'EST', 'country': 'USA'}, 'rank': 0.0, 'peoplemanager': 'Michael Nichols', 'city': 'New York', 'tz': 'EST', 'country': 'USA'}, 'Tracy Mayer MD': {'person': True, 'type': 'person', 'name': 'Tracy Mayer MD', 'hire_date': datetime.date(2021, 5, 19), 'status': {'Part Time'}, 'languages': set(), 'manager': 'Maria Nichols', 'team': 'Sales', 'title': 'Associate', 'location': {'city': 'London', 'tz': 'UTC', 'country': 'GBR'}, 'rank': 0.0, 'peoplemanager': 'Michael Nichols', 'city': 'London', 'tz': 'UTC', 'country': 'GBR'}, 'David Phillips': {'person': True, 'type': 'person', 'name': 'David Phillips', 'hire_date': datetime.date(2020, 5, 2), 'status': {'Contract'}, 'languages': {'JavaScript'}, 'manager': 'Maria Nichols', 'team': 'Sales', 'title': 'Associate', 'location': {'city': 'London', 'tz': 'UTC', 'country': 'GBR'}, 'rank': 0.0, 'peoplemanager': 'Michael Nichols', 'city': 'London', 'tz': 'UTC', 'country': 'GBR'}, 'Jeanette Kennedy': {'person': True, 'type': 'person', 'name': 'Jeanette Kennedy', 'hire_date': datetime.date(2022, 6, 21), 'status': {'Part Time'}, 'languages': {'Java'}, 'manager': 'Maria Nichols', 'team': 'Sales', 'title': 'Associate', 'location': {'city': 'London', 'tz': 'UTC', 'country': 'GBR'}, 'rank': 0.0, 'peoplemanager': 'Michael Nichols', 'city': 'London', 'tz': 'UTC', 'country': 'GBR'}, 'Andre Choi': {'person': True, 'type': 'person', 'name': 'Andre Choi', 'hire_date': datetime.date(2022, 9, 6), 'status': {'Part Time'}, 'languages': set(), 'manager': 'Maria Nichols', 'team': 'Sales', 'title': 'Associate', 'location': {'city': 'Toronto', 'tz': 'EST', 'country': 'CAN'}, 'rank': 0.0, 'peoplemanager': 'Michael Nichols', 'city': 'Toronto', 'tz': 'EST', 'country': 'CAN'}, 'Patrick Anderson': {'person': True, 'type': 'person', 'name': 'Patrick Anderson', 'hire_date': datetime.date(2022, 12, 14), 'status': {'Contract'}, 'languages': set(), 'manager': 'Maria Nichols', 'team': 'Sales', 'title': 'Associate', 'location': {'city': 'London', 'tz': 'UTC', 'country': 'GBR'}, 'rank': 0.0, 'peoplemanager': 'Michael Nichols', 'city': 'London', 'tz': 'UTC', 'country': 'GBR'}, 'Samantha Scott': {'person': True, 'type': 'person', 'name': 'Samantha Scott', 'hire_date': datetime.date(2021, 6, 23), 'status': {'Contract'}, 'languages': {'Python', 'JavaScript', 'Java'}, 'manager': 'Stephen Hanna', 'team': 'Support', 'title': 'Analyst', 'location': {'city': 'Dublin', 'tz': 'UTC', 'country': 'IRL'}, 'rank': 0.0, 'peoplemanager': 'Michael Nichols', 'city': 'Dublin', 'tz': 'UTC', 'country': 'IRL'}, 'Carol Ho': {'person': True, 'type': 'person', 'name': 'Carol Ho', 'hire_date': datetime.date(2020, 11, 11), 'status': {'Part Time'}, 'languages': {'Python', 'Go', 'JavaScript'}, 'manager': 'Samantha Scott', 'team': 'Support', 'title': 'Analyst', 'location': {'city': 'Dublin', 'tz': 'UTC', 'country': 'IRL'}, 'rank': 0.0, 'peoplemanager': 'Michael Nichols', 'city': 'Dublin', 'tz': 'UTC', 'country': 'IRL'}, 'Charles Smith': {'person': True, 'type': 'person', 'name': 'Charles Smith', 'hire_date': datetime.date(2022, 11, 22), 'status': {'Part Time'}, 'languages': {'Python', 'Scala', 'Go', 'JavaScript'}, 'manager': 'Samantha Scott', 'team': 'Support', 'title': 'Analyst', 'location': {'city': 'Dublin', 'tz': 'UTC', 'country': 'IRL'}, 'rank': 0.0, 'peoplemanager': 'Michael Nichols', 'city': 'Dublin', 'tz': 'UTC', 'country': 'IRL'}, 'Teresa Powell': {'person': True, 'type': 'person', 'name': 'Teresa Powell', 'hire_date': datetime.date(2021, 2, 5), 'status': {'Part Time'}, 'languages': {'Python'}, 'manager': 'Stephen Hanna', 'team': 'Support', 'title': 'Manager', 'location': {'city': 'Dublin', 'tz': 'UTC', 'country': 'IRL'}, 'rank': 1.0, 'peoplemanager': 'Deborah Solis', 'city': 'Dublin', 'tz': 'UTC', 'country': 'IRL'}, 'Michael Wong': {'person': True, 'type': 'person', 'name': 'Michael Wong', 'hire_date': datetime.date(2021, 8, 15), 'status': {'Full Time'}, 'languages': set(), 'manager': 'Teresa Powell', 'team': 'Support', 'title': 'Manager', 'location': {'city': 'Dublin', 'tz': 'UTC', 'country': 'IRL'}, 'rank': 1.0, 'peoplemanager': 'Leah Peterson', 'city': 'Dublin', 'tz': 'UTC', 'country': 'IRL'}, 'Jose Key': {'person': True, 'type': 'person', 'name': 'Jose Key', 'hire_date': datetime.date(2021, 3, 4), 'status': {'Full Time'}, 'languages': {'Python', 'Scala', 'JavaScript'}, 'manager': 'Teresa Powell', 'team': 'Support', 'title': 'Manager', 'location': {'city': 'Dublin', 'tz': 'UTC', 'country': 'IRL'}, 'rank': 1.0, 'peoplemanager': 'Nathan Blair', 'city': 'Dublin', 'tz': 'UTC', 'country': 'IRL'}, 'Kelly Jacobs': {'person': True, 'type': 'person', 'name': 'Kelly Jacobs', 'hire_date': datetime.date(2020, 12, 12), 'status': {'Full Time'}, 'languages': {'Typescript', 'JavaScript', 'Java'}, 'manager': 'Teresa Powell', 'team': 'Support', 'title': 'Manager', 'location': {'city': 'Dublin', 'tz': 'UTC', 'country': 'IRL'}, 'rank': 1.0, 'peoplemanager': 'Kristi Ball', 'city': 'Dublin', 'tz': 'UTC', 'country': 'IRL'}, 'Amanda Harvey': {'person': True, 'type': 'person', 'name': 'Amanda Harvey', 'hire_date': datetime.date(2020, 12, 12), 'status': {'Full Time'}, 'languages': {'Python'}, 'manager': 'Teresa Powell', 'team': 'Support', 'title': 'Manager', 'location': {'city': 'Dublin', 'tz': 'UTC', 'country': 'IRL'}, 'rank': 1.0, 'peoplemanager': 'Mrs. Kathryn Todd MD', 'city': 'Dublin', 'tz': 'UTC', 'country': 'IRL'}, 'Nathan Brown': {'person': True, 'type': 'person', 'name': 'Nathan Brown', 'hire_date': datetime.date(2020, 6, 8), 'status': {'Contract'}, 'languages': {'Typescript', 'JavaScript', 'Java'}, 'manager': 'Teresa Powell', 'team': 'Support', 'title': 'Manager', 'location': {'city': 'Dublin', 'tz': 'UTC', 'country': 'IRL'}, 'rank': 1.0, 'peoplemanager': 'Ronald Smith', 'city': 'Dublin', 'tz': 'UTC', 'country': 'IRL'}, 'Justin Rowe': {'person': True, 'type': 'person', 'name': 'Justin Rowe', 'hire_date': datetime.date(2022, 8, 22), 'status': {'Contract'}, 'languages': {'JavaScript'}, 'manager': 'Carol Ho', 'team': 'Support', 'title': 'Manager', 'location': {'city': 'Dublin', 'tz': 'UTC', 'country': 'IRL'}, 'rank': 1.0, 'peoplemanager': 'Carol Ho', 'city': 'Dublin', 'tz': 'UTC', 'country': 'IRL'}, 'Gregory Le': {'person': True, 'type': 'person', 'name': 'Gregory Le', 'hire_date': datetime.date(2020, 9, 23), 'status': {'Contract'}, 'languages': {'Java'}, 'manager': 'Charles Smith', 'team': 'Support', 'title': 'Manager', 'location': {'city': 'Dublin', 'tz': 'UTC', 'country': 'IRL'}, 'rank': 1.0, 'peoplemanager': 'Charles Smith', 'city': 'Dublin', 'tz': 'UTC', 'country': 'IRL'}, 'Stephen Hanna': {'person': True, 'type': 'person', 'name': 'Stephen Hanna', 'hire_date': datetime.date(2020, 9, 8), 'status': 'Full Time', 'languages': {'Python'}, 'manager': 'Stephen Hanna', 'team': 'CEO', 'title': 'CEO', 'location': {'city': 'Toronto', 'tz': 'EST', 'country': 'CAN'}, 'rank': 6.0, 'peoplemanager': nan, 'city': 'Toronto', 'tz': 'EST', 'country': 'CAN'}})"
      ]
     },
     "execution_count": 117,
     "metadata": {},
     "output_type": "execute_result"
    }
   ],
   "source": [
    "G = nx.Graph() # a simple undirected graph\n",
    "G.add_nodes_from(((person[\"name\"], person) for person in expanded_df.to_dict(orient=\"records\")), person=True, type=\"person\")\n",
    "G.nodes(data=True) # we can look at the contents (which should be very familiar!)"
   ]
  },
  {
   "attachments": {},
   "cell_type": "markdown",
   "id": "bb8b31bf-8f76-4b64-8251-15f9cd1fbd3f",
   "metadata": {},
   "source": [
    "### Visualizing\n",
    "\n",
    "Graphs lends themselves well to visual representations. NetworkX also makes this easy to do by tapping into Python's workhorse plotting library, `matplotlib`. We will revisit this later with a more dynamic + interactive approach to visualizing, but for the moment this is the fastest way to get things on paper"
   ]
  },
  {
   "cell_type": "code",
   "execution_count": 118,
   "id": "7f9eafe1-d5d1-43b5-a2ca-1e945edf4487",
   "metadata": {
    "execution": {
     "iopub.execute_input": "2023-01-10T16:24:10.215601Z",
     "iopub.status.busy": "2023-01-10T16:24:10.215121Z",
     "iopub.status.idle": "2023-01-10T16:24:11.051765Z",
     "shell.execute_reply": "2023-01-10T16:24:11.050817Z",
     "shell.execute_reply.started": "2023-01-10T16:24:10.215570Z"
    },
    "tags": []
   },
   "outputs": [
    {
     "data": {
      "image/png": "[encoded data removed]",
      "text/plain": [
       "<Figure size 640x480 with 1 Axes>"
      ]
     },
     "metadata": {},
     "output_type": "display_data"
    }
   ],
   "source": [
    "import matplotlib.pyplot as plt\n",
    "nx.draw_networkx(G, with_labels=False)"
   ]
  },
  {
   "attachments": {},
   "cell_type": "markdown",
   "id": "f4119b00",
   "metadata": {},
   "source": [
    "Let's add a bit of color to this by mapping colors to the `person.team`. Pick any colorscale from `px.colors` (or make your own!). Generally the *qualitative* colors look nice, anything designed for *categorical* data "
   ]
  },
  {
   "cell_type": "code",
   "execution_count": 119,
   "id": "8e172563",
   "metadata": {},
   "outputs": [
    {
     "data": {
      "text/plain": [
       "{'Business': 'rgb(229, 134, 6)',\n",
       " 'DevOps': 'rgb(93, 105, 177)',\n",
       " 'DevX': 'rgb(82, 188, 163)',\n",
       " 'Internal Tools': 'rgb(153, 201, 69)',\n",
       " 'Platform': 'rgb(204, 97, 176)',\n",
       " 'Product': 'rgb(36, 121, 108)',\n",
       " 'Sales': 'rgb(218, 165, 27)',\n",
       " 'Support': 'rgb(47, 138, 196)',\n",
       " 'CEO': 'rgb(118, 78, 159)'}"
      ]
     },
     "execution_count": 119,
     "metadata": {},
     "output_type": "execute_result"
    }
   ],
   "source": [
    "colors = dict(zip(people_df.team.unique(),px.colors.qualitative.Vivid))\n",
    "colors"
   ]
  },
  {
   "attachments": {},
   "cell_type": "markdown",
   "id": "e3bf88ef",
   "metadata": {},
   "source": [
    "Now we can determine what the color should be for each node and pass that into the `nx.draw` call as a list of `node_color`. The easiest way to do this is to use `G.nodes(data=...)` for the attribute you want to extract, which will give you a map from each node to that attribute"
   ]
  },
  {
   "cell_type": "code",
   "execution_count": 120,
   "id": "ce833882",
   "metadata": {},
   "outputs": [
    {
     "data": {
      "image/png": "[encoded data removed]",
      "text/plain": [
       "<Figure size 640x480 with 1 Axes>"
      ]
     },
     "metadata": {},
     "output_type": "display_data"
    }
   ],
   "source": [
    "def rgb_to_hex(r, g, b):\n",
    "    return f'#{r:02x}{g:02x}{b:02x}'\n",
    "def rgb_string_to_tuple(rgb:str) -> tuple[int,int,int]:\n",
    "    return tuple(int(c) for c in rgb.replace(\"rgb(\",\"\").replace(\")\",\"\").split(\",\"))\n",
    "\n",
    "node_colors = [rgb_to_hex(*rgb_string_to_tuple(colors[team])) for _,team in G.nodes(data=\"team\")]\n",
    "nx.draw(G, node_color=node_colors)"
   ]
  },
  {
   "attachments": {},
   "cell_type": "markdown",
   "id": "40904b83",
   "metadata": {},
   "source": [
    "If this doesn't make much sense yet, it's because we haven't connected any of the nodes together. Adding *edges* to the graph will give shape and meaning to the arrangement of nodes. We can do this similarly to how we added edges. Let's start by connecting nodes by the `manager` attribute.\n",
    "\n",
    "Be sure to only add edges that reference nodes that exist"
   ]
  },
  {
   "cell_type": "code",
   "execution_count": 121,
   "id": "f3b7a761",
   "metadata": {},
   "outputs": [],
   "source": [
    "G.add_edges_from(G.nodes(data=\"manager\"), label=\"manager\")"
   ]
  },
  {
   "cell_type": "markdown",
   "id": "1905d207",
   "metadata": {},
   "source": [
    "Now this should look a bit more sensible"
   ]
  },
  {
   "cell_type": "code",
   "execution_count": 122,
   "id": "32ff0651",
   "metadata": {},
   "outputs": [
    {
     "data": {
      "image/png": "[encoded data removed]",
      "text/plain": [
       "<Figure size 640x480 with 1 Axes>"
      ]
     },
     "metadata": {},
     "output_type": "display_data"
    }
   ],
   "source": [
    "nx.draw(G, node_color=node_colors)"
   ]
  },
  {
   "attachments": {},
   "cell_type": "markdown",
   "id": "63c42ae8-b201-4ae1-ad9d-d0e8f0817fb3",
   "metadata": {},
   "source": [
    "To view more details of the plot, it's useful to switch to an interactive plotting library like `plotly`. Here we provide a helper function for this:"
   ]
  },
  {
   "cell_type": "code",
   "execution_count": 123,
   "id": "e1b55f08-5647-4290-86da-3197aa150b7d",
   "metadata": {
    "execution": {
     "iopub.execute_input": "2023-01-10T16:24:11.053653Z",
     "iopub.status.busy": "2023-01-10T16:24:11.053102Z",
     "iopub.status.idle": "2023-01-10T16:24:11.845945Z",
     "shell.execute_reply": "2023-01-10T16:24:11.844975Z",
     "shell.execute_reply.started": "2023-01-10T16:24:11.053625Z"
    },
    "tags": []
   },
   "outputs": [],
   "source": [
    "import plotly.express as px\n",
    "import plotly.graph_objects as go\n",
    "import pandas as pd"
   ]
  },
  {
   "cell_type": "code",
   "execution_count": 124,
   "id": "1321e788-fb20-4b9d-b26f-6d929df03870",
   "metadata": {
    "execution": {
     "iopub.execute_input": "2023-01-10T16:24:11.864634Z",
     "iopub.status.busy": "2023-01-10T16:24:11.849967Z",
     "iopub.status.idle": "2023-01-10T16:24:11.884647Z",
     "shell.execute_reply": "2023-01-10T16:24:11.883535Z",
     "shell.execute_reply.started": "2023-01-10T16:24:11.864563Z"
    },
    "tags": []
   },
   "outputs": [],
   "source": [
    "import plotly.graph_objects as go\n",
    "from dataclasses import is_dataclass\n",
    "def px_plot_network_graph_nodes(G:nx.Graph, *, layout=None, **pxkwargs) -> go.Figure:\n",
    "    # generate the x/y coordinates to represent the graph\n",
    "    positions = (layout or nx.spring_layout(G))\n",
    "    # prepare as DataFrame for plotly\n",
    "    df = pd.DataFrame([{\"label\": k, \"x\": v[0], \"y\": v[1], \"size\":10, **G.nodes(data=True)[k]} for k,v in positions.items()])\n",
    "    for column in df.columns[(df.sample(100, replace=True).applymap(type) == set).any(axis=0)]:\n",
    "        print(f\"Coercing column '{column}' to `list`\")\n",
    "        df.loc[~df[column].isna(), column] = df.loc[~df[column].isna(),column].apply(list)\n",
    "    # handle missing values for size/color parameter\n",
    "    size = pxkwargs.pop(\"size\", \"size\")\n",
    "    df[size] = df[size].fillna(df[size].max())\n",
    "    color = pxkwargs.get(\"color\")\n",
    "    df[color] = df[color].fillna(df[\"type\"])\n",
    "    # create figure\n",
    "    fig = px.scatter(df, x=\"x\", y=\"y\", hover_data=df.columns, size=size, **pxkwargs)\n",
    "    fig.update_layout(\n",
    "        xaxis=go.layout.XAxis(visible=False),\n",
    "        yaxis=go.layout.YAxis(visible=False)\n",
    "    )\n",
    "    return fig\n",
    "\n",
    "def px_plot_nx(G:nx.Graph, *, layout=nx.spring_layout, with_edges=False, **nodekwargs) -> go.Figure:\n",
    "    # Generate positions, edges \n",
    "    nodes = layout(G)\n",
    "    edges = [{\n",
    "        \"x\": [nodes[source][0],nodes[target][0]], \n",
    "        \"y\": [nodes[source][1],nodes[target][1]]} for source, target in G.edges()\n",
    "    ]\n",
    "    # Plot nodes\n",
    "    figure = px_plot_network_graph_nodes(G, layout=nodes, **nodekwargs)\n",
    "    if with_edges: # Add edges to nodes\n",
    "        figure.add_traces([\n",
    "            px.line(\n",
    "                x=edge[\"x\"],\n",
    "                y=edge[\"y\"],\n",
    "                color_discrete_sequence=[\"grey\"],\n",
    "            ).data[0] for edge in edges\n",
    "        ])\n",
    "        figure.data = figure.data[::-1] # shuffle edges behind nodes\n",
    "    return figure"
   ]
  },
  {
   "attachments": {},
   "cell_type": "markdown",
   "id": "e6b1dd13",
   "metadata": {},
   "source": [
    "Use this to make a few plots of the graph and verify that:\n",
    "\n",
    "* The reporting structure makes sense\n",
    "* The job titles are distributed as you'd expect\n",
    "* The locations make sense\n",
    "\n",
    "**Note: plotting `with_edges=True` is quite expensive, try toggling it off if you find it bothersome**"
   ]
  },
  {
   "cell_type": "code",
   "execution_count": 125,
   "id": "07e22436",
   "metadata": {},
   "outputs": [
    {
     "name": "stdout",
     "output_type": "stream",
     "text": [
      "Coercing column 'status' to `list`\n",
      "Coercing column 'languages' to `list`\n"
     ]
    },
    {
     "data": {
      "application/vnd.plotly.v1+json": {
       "config": {
        "plotlyServerURL": "https://plot.ly"
       },
       "data": [
        {
         "customdata": [
          [
           "Michael Nichols",
           10,
           true,
           "person",
           "Michael Nichols",
           "2021-07-27",
           [
            "Full Time"
           ],
           [],
           "Stephen Hanna",
           "Business",
           "Analyst",
           {
            "city": "London",
            "country": "GBR",
            "tz": "UTC"
           },
           0,
           "Kimberly Casey",
           "London",
           "UTC",
           "GBR"
          ],
          [
           "Jeffery Ali",
           10,
           true,
           "person",
           "Jeffery Ali",
           "2020-08-05",
           [
            "Full Time"
           ],
           [
            "Typescript",
            "JavaScript"
           ],
           "Michael Nichols",
           "Business",
           "Associate",
           {
            "city": "London",
            "country": "GBR",
            "tz": "UTC"
           },
           1,
           "Ryan Patterson",
           "London",
           "UTC",
           "GBR"
          ],
          [
           "Darius Suarez",
           10,
           true,
           "person",
           "Darius Suarez",
           "2020-09-29",
           [
            "Part Time"
           ],
           [
            "JavaScript"
           ],
           "Mr. Benjamin May",
           "Business",
           "Associate",
           {
            "city": "London",
            "country": "GBR",
            "tz": "UTC"
           },
           1,
           "Katherine Cooper",
           "London",
           "UTC",
           "GBR"
          ],
          [
           "Maria Carter",
           10,
           true,
           "person",
           "Maria Carter",
           "2020-05-19",
           [
            "Full Time"
           ],
           [
            "Scala"
           ],
           "Mr. Benjamin May",
           "Business",
           "Associate",
           {
            "city": "London",
            "country": "GBR",
            "tz": "UTC"
           },
           1,
           "Mrs. Kathryn Todd MD",
           "London",
           "UTC",
           "GBR"
          ],
          [
           "Kelly Blair",
           10,
           true,
           "person",
           "Kelly Blair",
           "2023-02-21",
           [
            "Full Time"
           ],
           [
            "Typescript",
            "Go"
           ],
           "Katie Jensen",
           "Business",
           "Associate",
           {
            "city": "London",
            "country": "GBR",
            "tz": "UTC"
           },
           1,
           "Carol Ho",
           "London",
           "UTC",
           "GBR"
          ],
          [
           "Kathy Johnson",
           10,
           true,
           "person",
           "Kathy Johnson",
           "2020-08-31",
           [
            "Contract"
           ],
           [
            "Python",
            "JavaScript",
            "Java"
           ],
           "Darius Suarez",
           "Business",
           "Vice President",
           {
            "city": "London",
            "country": "GBR",
            "tz": "UTC"
           },
           2,
           "Kelly Jacobs",
           "London",
           "UTC",
           "GBR"
          ],
          [
           "Katrina Daniels",
           10,
           true,
           "person",
           "Katrina Daniels",
           "2023-03-31",
           [
            "Full Time"
           ],
           [
            "Python"
           ],
           "Maria Carter",
           "Business",
           "Vice President",
           {
            "city": "London",
            "country": "GBR",
            "tz": "UTC"
           },
           2,
           "Nathan Brown",
           "London",
           "UTC",
           "GBR"
          ],
          [
           "Brian Daniels",
           10,
           true,
           "person",
           "Brian Daniels",
           "2021-12-23",
           [
            "Part Time"
           ],
           [
            "Typescript"
           ],
           "Rebecca Martinez",
           "Business",
           "Managing Director",
           {
            "city": "London",
            "country": "GBR",
            "tz": "UTC"
           },
           4,
           "Teresa Powell",
           "London",
           "UTC",
           "GBR"
          ],
          [
           "Mr. Preston Clark",
           10,
           true,
           "person",
           "Mr. Preston Clark",
           "2021-03-31",
           [
            "Contract"
           ],
           [],
           "Paul Parker",
           "Business",
           "Managing Director",
           {
            "city": "London",
            "country": "GBR",
            "tz": "UTC"
           },
           4,
           "Amanda Harvey",
           "London",
           "UTC",
           "GBR"
          ],
          [
           "Maria Nichols",
           10,
           true,
           "person",
           "Maria Nichols",
           "2021-05-18",
           [
            "Full Time"
           ],
           [
            "Python",
            "Java"
           ],
           "Stephen Hanna",
           "Sales",
           "Associate",
           {
            "city": "London",
            "country": "GBR",
            "tz": "UTC"
           },
           0,
           "Lori Green",
           "London",
           "UTC",
           "GBR"
          ],
          [
           "David Valentine",
           10,
           true,
           "person",
           "David Valentine",
           "2021-11-16",
           [
            "Part Time"
           ],
           [
            "Typescript",
            "JavaScript",
            "Python",
            "Scala",
            "Go",
            "Java"
           ],
           "Maria Nichols",
           "Sales",
           "Associate",
           {
            "city": "London",
            "country": "GBR",
            "tz": "UTC"
           },
           0,
           "Lori Green",
           "London",
           "UTC",
           "GBR"
          ],
          [
           "Casey Stanley",
           10,
           true,
           "person",
           "Casey Stanley",
           "2022-04-23",
           [
            "Contract"
           ],
           [
            "Python",
            "Go",
            "Java"
           ],
           "Maria Nichols",
           "Sales",
           "Associate",
           {
            "city": "London",
            "country": "GBR",
            "tz": "UTC"
           },
           0,
           "Lori Green",
           "London",
           "UTC",
           "GBR"
          ],
          [
           "Patricia Garcia",
           10,
           true,
           "person",
           "Patricia Garcia",
           "2022-12-29",
           [
            "Part Time"
           ],
           [
            "Typescript",
            "Go",
            "Java"
           ],
           "Maria Nichols",
           "Sales",
           "Associate",
           {
            "city": "London",
            "country": "GBR",
            "tz": "UTC"
           },
           0,
           "Lori Green",
           "London",
           "UTC",
           "GBR"
          ],
          [
           "Jordan White",
           10,
           true,
           "person",
           "Jordan White",
           "2023-03-04",
           [
            "Part Time"
           ],
           [
            "JavaScript",
            "Python",
            "Scala",
            "Erlang",
            "Java"
           ],
           "Maria Nichols",
           "Sales",
           "Associate",
           {
            "city": "London",
            "country": "GBR",
            "tz": "UTC"
           },
           0,
           "Kimberly Casey",
           "London",
           "UTC",
           "GBR"
          ],
          [
           "Nathan Blair",
           10,
           true,
           "person",
           "Nathan Blair",
           "2020-07-21",
           [
            "Part Time"
           ],
           [
            "Scala"
           ],
           "Maria Nichols",
           "Sales",
           "Associate",
           {
            "city": "London",
            "country": "GBR",
            "tz": "UTC"
           },
           0,
           "Kimberly Casey",
           "London",
           "UTC",
           "GBR"
          ],
          [
           "John Ramirez",
           10,
           true,
           "person",
           "John Ramirez",
           "2022-01-09",
           [
            "Part Time"
           ],
           [
            "Python",
            "Typescript",
            "JavaScript"
           ],
           "Maria Nichols",
           "Sales",
           "Associate",
           {
            "city": "London",
            "country": "GBR",
            "tz": "UTC"
           },
           0,
           "Kimberly Casey",
           "London",
           "UTC",
           "GBR"
          ],
          [
           "Kristi Ball",
           10,
           true,
           "person",
           "Kristi Ball",
           "2021-11-01",
           [
            "Part Time"
           ],
           [
            "Java"
           ],
           "Maria Nichols",
           "Sales",
           "Associate",
           {
            "city": "London",
            "country": "GBR",
            "tz": "UTC"
           },
           0,
           "Michael Nichols",
           "London",
           "UTC",
           "GBR"
          ],
          [
           "John Reese",
           10,
           true,
           "person",
           "John Reese",
           "2022-07-03",
           [
            "Full Time"
           ],
           [
            "Python",
            "Typescript",
            "Scala",
            "Go"
           ],
           "Maria Nichols",
           "Sales",
           "Associate",
           {
            "city": "London",
            "country": "GBR",
            "tz": "UTC"
           },
           0,
           "Michael Nichols",
           "London",
           "UTC",
           "GBR"
          ],
          [
           "Mrs. Kathryn Todd MD",
           10,
           true,
           "person",
           "Mrs. Kathryn Todd MD",
           "2022-04-28",
           [
            "Full Time"
           ],
           [
            "JavaScript"
           ],
           "Maria Nichols",
           "Sales",
           "Associate",
           {
            "city": "London",
            "country": "GBR",
            "tz": "UTC"
           },
           0,
           "Michael Nichols",
           "London",
           "UTC",
           "GBR"
          ],
          [
           "Anthony Powers",
           10,
           true,
           "person",
           "Anthony Powers",
           "2021-10-13",
           [
            "Contract"
           ],
           [
            "Python",
            "Scala",
            "Go",
            "JavaScript"
           ],
           "Maria Nichols",
           "Sales",
           "Associate",
           {
            "city": "London",
            "country": "GBR",
            "tz": "UTC"
           },
           0,
           "Michael Nichols",
           "London",
           "UTC",
           "GBR"
          ],
          [
           "Elizabeth Romero",
           10,
           true,
           "person",
           "Elizabeth Romero",
           "2022-11-01",
           [
            "Part Time"
           ],
           [
            "Python",
            "Java"
           ],
           "Maria Nichols",
           "Sales",
           "Associate",
           {
            "city": "London",
            "country": "GBR",
            "tz": "UTC"
           },
           0,
           "Michael Nichols",
           "London",
           "UTC",
           "GBR"
          ],
          [
           "Tracy Mayer MD",
           10,
           true,
           "person",
           "Tracy Mayer MD",
           "2021-05-19",
           [
            "Part Time"
           ],
           [],
           "Maria Nichols",
           "Sales",
           "Associate",
           {
            "city": "London",
            "country": "GBR",
            "tz": "UTC"
           },
           0,
           "Michael Nichols",
           "London",
           "UTC",
           "GBR"
          ],
          [
           "David Phillips",
           10,
           true,
           "person",
           "David Phillips",
           "2020-05-02",
           [
            "Contract"
           ],
           [
            "JavaScript"
           ],
           "Maria Nichols",
           "Sales",
           "Associate",
           {
            "city": "London",
            "country": "GBR",
            "tz": "UTC"
           },
           0,
           "Michael Nichols",
           "London",
           "UTC",
           "GBR"
          ],
          [
           "Jeanette Kennedy",
           10,
           true,
           "person",
           "Jeanette Kennedy",
           "2022-06-21",
           [
            "Part Time"
           ],
           [
            "Java"
           ],
           "Maria Nichols",
           "Sales",
           "Associate",
           {
            "city": "London",
            "country": "GBR",
            "tz": "UTC"
           },
           0,
           "Michael Nichols",
           "London",
           "UTC",
           "GBR"
          ],
          [
           "Patrick Anderson",
           10,
           true,
           "person",
           "Patrick Anderson",
           "2022-12-14",
           [
            "Contract"
           ],
           [],
           "Maria Nichols",
           "Sales",
           "Associate",
           {
            "city": "London",
            "country": "GBR",
            "tz": "UTC"
           },
           0,
           "Michael Nichols",
           "London",
           "UTC",
           "GBR"
          ]
         ],
         "hovertemplate": "<b>%{hovertext}</b><br><br>country=%{customdata[16]}<br>x=%{x}<br>y=%{y}<br>size=%{customdata[1]}<br>label=%{customdata[0]}<br>person=%{customdata[2]}<br>type=%{customdata[3]}<br>name=%{customdata[4]}<br>hire_date=%{customdata[5]}<br>status=%{customdata[6]}<br>languages=%{customdata[7]}<br>manager=%{customdata[8]}<br>team=%{customdata[9]}<br>title=%{customdata[10]}<br>location=%{customdata[11]}<br>rank=%{customdata[12]}<br>peoplemanager=%{customdata[13]}<br>city=%{customdata[14]}<br>tz=%{customdata[15]}<extra></extra>",
         "hovertext": [
          "Michael Nichols",
          "Jeffery Ali",
          "Darius Suarez",
          "Maria Carter",
          "Kelly Blair",
          "Kathy Johnson",
          "Katrina Daniels",
          "Brian Daniels",
          "Mr. Preston Clark",
          "Maria Nichols",
          "David Valentine",
          "Casey Stanley",
          "Patricia Garcia",
          "Jordan White",
          "Nathan Blair",
          "John Ramirez",
          "Kristi Ball",
          "John Reese",
          "Mrs. Kathryn Todd MD",
          "Anthony Powers",
          "Elizabeth Romero",
          "Tracy Mayer MD",
          "David Phillips",
          "Jeanette Kennedy",
          "Patrick Anderson"
         ],
         "legendgroup": "GBR",
         "marker": {
          "color": "#636efa",
          "size": [
           10,
           10,
           10,
           10,
           10,
           10,
           10,
           10,
           10,
           10,
           10,
           10,
           10,
           10,
           10,
           10,
           10,
           10,
           10,
           10,
           10,
           10,
           10,
           10,
           10
          ],
          "sizemode": "area",
          "sizeref": 0.025,
          "symbol": "circle"
         },
         "mode": "markers",
         "name": "GBR",
         "orientation": "v",
         "showlegend": true,
         "type": "scatter",
         "x": [
          -0.0552270414744439,
          -0.05116364769042213,
          -0.3701767043877793,
          -0.2808650996919204,
          0.14383645169183357,
          -0.4968505573719649,
          -0.32560637558551636,
          0.29788142612471796,
          0.2104525747184056,
          0.4841063367847603,
          0.5599762716577665,
          0.5755770114268187,
          0.4988664451105284,
          0.6194448708087178,
          0.5315558361294648,
          0.5419855771281558,
          0.5375903637394949,
          0.5848320715155739,
          0.6240985501824553,
          0.4707556780169949,
          0.5852610319884943,
          0.5414513721033918,
          0.5782913855954276,
          0.544277761357929,
          0.5979627508449004
         ],
         "xaxis": "x",
         "y": [
          0.30542783200452783,
          0.4490205804960245,
          0.43736617935826266,
          0.5758449232827288,
          0.40363628719267347,
          0.3978507463154781,
          0.6734909373764372,
          -0.6502071761340229,
          -0.7196546255545582,
          -0.15901548386037861,
          -0.18176669565793882,
          -0.27486553836221594,
          -0.2418933453318223,
          -0.22327860335279193,
          -0.21356998657480789,
          -0.2871151523879971,
          -0.2550766564488653,
          -0.21199308507201406,
          -0.1956456590431023,
          -0.2663922453408142,
          -0.1350826260628869,
          -0.13660269573151756,
          -0.0687542618426291,
          -0.0955908420018206,
          -0.1692894883770612
         ],
         "yaxis": "y"
        },
        {
         "customdata": [
          [
           "Mr. Benjamin May",
           10,
           true,
           "person",
           "Mr. Benjamin May",
           "2020-10-25",
           [
            "Contract"
           ],
           [
            "Python",
            "JavaScript"
           ],
           "Michael Nichols",
           "Business",
           "Analyst",
           {
            "city": "New York",
            "country": "USA",
            "tz": "EST"
           },
           0,
           "Michael Nichols",
           "New York",
           "EST",
           "USA"
          ],
          [
           "Katie Jensen",
           10,
           true,
           "person",
           "Katie Jensen",
           "2022-06-09",
           [
            "Full Time"
           ],
           [
            "Python",
            "Typescript",
            "JavaScript"
           ],
           "Michael Nichols",
           "Business",
           "Analyst",
           {
            "city": "New York",
            "country": "USA",
            "tz": "EST"
           },
           0,
           "Michael Nichols",
           "New York",
           "EST",
           "USA"
          ],
          [
           "David Vang",
           10,
           true,
           "person",
           "David Vang",
           "2021-04-15",
           [
            "Contract"
           ],
           [],
           "Michael Nichols",
           "Business",
           "Analyst",
           {
            "city": "New York",
            "country": "USA",
            "tz": "EST"
           },
           0,
           "Michael Nichols",
           "New York",
           "EST",
           "USA"
          ],
          [
           "Eric Rodgers",
           10,
           true,
           "person",
           "Eric Rodgers",
           "2023-04-01",
           [
            "Full Time"
           ],
           [
            "JavaScript",
            "Java"
           ],
           "Stephen Hanna",
           "Business",
           "Associate",
           {
            "city": "New York",
            "country": "USA",
            "tz": "EST"
           },
           1,
           "Maria Nichols",
           "New York",
           "EST",
           "USA"
          ],
          [
           "Angela Everett",
           10,
           true,
           "person",
           "Angela Everett",
           "2023-04-20",
           [
            "Full Time"
           ],
           [
            "Java"
           ],
           "Eric Rodgers",
           "Business",
           "Vice President",
           {
            "city": "New York",
            "country": "USA",
            "tz": "EST"
           },
           2,
           "Michael Wong",
           "New York",
           "EST",
           "USA"
          ],
          [
           "Jennifer Johnson",
           10,
           true,
           "person",
           "Jennifer Johnson",
           "2020-06-14",
           [
            "Full Time"
           ],
           [],
           "Stephen Hanna",
           "Product",
           "Manager",
           {
            "city": "New York",
            "country": "USA",
            "tz": "EST"
           },
           1,
           "Deborah Solis",
           "New York",
           "EST",
           "USA"
          ],
          [
           "Debra Schneider",
           10,
           true,
           "person",
           "Debra Schneider",
           "2022-04-12",
           [
            "Part Time"
           ],
           [
            "Python",
            "Typescript",
            "JavaScript",
            "Java"
           ],
           "Jeffery Ali",
           "Business",
           "Vice President",
           {
            "city": "New York",
            "country": "USA",
            "tz": "EST"
           },
           2,
           "Kelly Jacobs",
           "New York",
           "EST",
           "USA"
          ],
          [
           "Rebecca Martinez",
           10,
           true,
           "person",
           "Rebecca Martinez",
           "2022-08-23",
           [
            "Contract"
           ],
           [
            "Java"
           ],
           "Nancy Riley",
           "Business",
           "Director",
           {
            "city": "New York",
            "country": "USA",
            "tz": "EST"
           },
           3,
           "Teresa Powell",
           "New York",
           "EST",
           "USA"
          ],
          [
           "Paul Parker",
           10,
           true,
           "person",
           "Paul Parker",
           "2020-11-24",
           [
            "Contract"
           ],
           [
            "Python",
            "JavaScript"
           ],
           "Nancy Riley",
           "Business",
           "Director",
           {
            "city": "New York",
            "country": "USA",
            "tz": "EST"
           },
           3,
           "Michael Wong",
           "New York",
           "EST",
           "USA"
          ],
          [
           "Olivia Lyons",
           10,
           true,
           "person",
           "Olivia Lyons",
           "2020-05-30",
           [
            "Full Time"
           ],
           [
            "JavaScript"
           ],
           "Kathy Johnson",
           "Business",
           "Director",
           {
            "city": "New York",
            "country": "USA",
            "tz": "EST"
           },
           3,
           "Amanda Harvey",
           "New York",
           "EST",
           "USA"
          ],
          [
           "Timothy Salazar",
           10,
           true,
           "person",
           "Timothy Salazar",
           "2021-03-17",
           [
            "Contract"
           ],
           [
            "Typescript",
            "JavaScript"
           ],
           "Paul Parker",
           "Business",
           "Managing Director",
           {
            "city": "New York",
            "country": "USA",
            "tz": "EST"
           },
           4,
           "Amanda Harvey",
           "New York",
           "EST",
           "USA"
          ],
          [
           "Paul Burns",
           10,
           true,
           "person",
           "Paul Burns",
           "2022-05-22",
           [
            "Part Time"
           ],
           [
            "Python"
           ],
           "Stephen Hanna",
           "DevX",
           "Engineer",
           {
            "city": "Fort Lauderdale",
            "country": "USA",
            "tz": "EST"
           },
           4,
           "Teresa Powell",
           "Fort Lauderdale",
           "EST",
           "USA"
          ],
          [
           "Sarah Brown",
           10,
           true,
           "person",
           "Sarah Brown",
           "2021-02-25",
           [
            "Part Time"
           ],
           [
            "JavaScript",
            "Java"
           ],
           "Paul Burns",
           "DevX",
           "Engineer",
           {
            "city": "Fort Lauderdale",
            "country": "USA",
            "tz": "EST"
           },
           4,
           "Teresa Powell",
           "Fort Lauderdale",
           "EST",
           "USA"
          ],
          [
           "William Sims",
           10,
           true,
           "person",
           "William Sims",
           "2020-05-20",
           [
            "Part Time"
           ],
           [
            "Python",
            "Java"
           ],
           "Paul Burns",
           "DevX",
           "Engineer",
           {
            "city": "Fort Lauderdale",
            "country": "USA",
            "tz": "EST"
           },
           4,
           "Michael Wong",
           "Fort Lauderdale",
           "EST",
           "USA"
          ],
          [
           "Carmen Shaw",
           10,
           true,
           "person",
           "Carmen Shaw",
           "2021-11-20",
           [
            "Full Time"
           ],
           [
            "Typescript",
            "Java"
           ],
           "Paul Burns",
           "DevX",
           "Engineer",
           {
            "city": "Fort Lauderdale",
            "country": "USA",
            "tz": "EST"
           },
           4,
           "Michael Wong",
           "Fort Lauderdale",
           "EST",
           "USA"
          ],
          [
           "Stephanie Boyd",
           10,
           true,
           "person",
           "Stephanie Boyd",
           "2020-08-18",
           [
            "Part Time"
           ],
           [
            "Python",
            "Java"
           ],
           "Paul Burns",
           "DevX",
           "Engineer",
           {
            "city": "Fort Lauderdale",
            "country": "USA",
            "tz": "EST"
           },
           4,
           "Michael Wong",
           "Fort Lauderdale",
           "EST",
           "USA"
          ],
          [
           "Louis Ward",
           10,
           true,
           "person",
           "Louis Ward",
           "2021-06-12",
           [
            "Full Time"
           ],
           [
            "JavaScript",
            "Java"
           ],
           "Paul Burns",
           "DevX",
           "Engineer",
           {
            "city": "Fort Lauderdale",
            "country": "USA",
            "tz": "EST"
           },
           4,
           "Michael Wong",
           "Fort Lauderdale",
           "EST",
           "USA"
          ],
          [
           "Angela Smith",
           10,
           true,
           "person",
           "Angela Smith",
           "2020-11-22",
           [
            "Contract"
           ],
           [
            "Python",
            "JavaScript",
            "Java"
           ],
           "Paul Burns",
           "DevX",
           "Engineer",
           {
            "city": "Fort Lauderdale",
            "country": "USA",
            "tz": "EST"
           },
           4,
           "Jose Key",
           "Fort Lauderdale",
           "EST",
           "USA"
          ],
          [
           "Dennis Rhodes",
           10,
           true,
           "person",
           "Dennis Rhodes",
           "2022-02-19",
           [
            "Contract"
           ],
           [
            "Typescript",
            "JavaScript",
            "Java"
           ],
           "Paul Burns",
           "DevX",
           "Engineer",
           {
            "city": "Fort Lauderdale",
            "country": "USA",
            "tz": "EST"
           },
           4,
           "Jose Key",
           "Fort Lauderdale",
           "EST",
           "USA"
          ],
          [
           "Anna Dyer",
           10,
           true,
           "person",
           "Anna Dyer",
           "2021-06-27",
           [
            "Part Time"
           ],
           [
            "Java"
           ],
           "Paul Burns",
           "DevX",
           "Engineer",
           {
            "city": "Fort Lauderdale",
            "country": "USA",
            "tz": "EST"
           },
           4,
           "Jose Key",
           "Fort Lauderdale",
           "EST",
           "USA"
          ],
          [
           "Eric Gaines",
           10,
           true,
           "person",
           "Eric Gaines",
           "2022-05-20",
           [
            "Full Time"
           ],
           [
            "Typescript",
            "Go",
            "JavaScript",
            "Java"
           ],
           "Paul Burns",
           "DevX",
           "Engineer",
           {
            "city": "Fort Lauderdale",
            "country": "USA",
            "tz": "EST"
           },
           4,
           "Kelly Jacobs",
           "Fort Lauderdale",
           "EST",
           "USA"
          ],
          [
           "Todd Valencia",
           10,
           true,
           "person",
           "Todd Valencia",
           "2021-06-01",
           [
            "Part Time"
           ],
           [
            "Python",
            "Typescript",
            "JavaScript"
           ],
           "Paul Burns",
           "DevX",
           "Engineer",
           {
            "city": "Fort Lauderdale",
            "country": "USA",
            "tz": "EST"
           },
           4,
           "Kelly Jacobs",
           "Fort Lauderdale",
           "EST",
           "USA"
          ],
          [
           "Douglas Frazier",
           10,
           true,
           "person",
           "Douglas Frazier",
           "2022-01-20",
           [
            "Part Time"
           ],
           [
            "Typescript",
            "Scala"
           ],
           "Paul Burns",
           "DevX",
           "Engineer",
           {
            "city": "Fort Lauderdale",
            "country": "USA",
            "tz": "EST"
           },
           4,
           "Kelly Jacobs",
           "Fort Lauderdale",
           "EST",
           "USA"
          ],
          [
           "Trevor Hunt",
           10,
           true,
           "person",
           "Trevor Hunt",
           "2023-01-05",
           [
            "Contract"
           ],
           [
            "Typescript",
            "JavaScript",
            "Python",
            "Erlang",
            "Java"
           ],
           "Paul Burns",
           "DevX",
           "Engineer",
           {
            "city": "Fort Lauderdale",
            "country": "USA",
            "tz": "EST"
           },
           4,
           "Amanda Harvey",
           "Fort Lauderdale",
           "EST",
           "USA"
          ],
          [
           "Bruce Russell",
           10,
           true,
           "person",
           "Bruce Russell",
           "2021-10-19",
           [
            "Contract"
           ],
           [
            "Python",
            "Go",
            "JavaScript"
           ],
           "Paul Burns",
           "DevX",
           "Engineer",
           {
            "city": "Fort Lauderdale",
            "country": "USA",
            "tz": "EST"
           },
           4,
           "Amanda Harvey",
           "Fort Lauderdale",
           "EST",
           "USA"
          ],
          [
           "Kathy Lewis",
           10,
           true,
           "person",
           "Kathy Lewis",
           "2022-06-12",
           [
            "Part Time"
           ],
           [
            "Java"
           ],
           "Paul Burns",
           "DevX",
           "Engineer",
           {
            "city": "Fort Lauderdale",
            "country": "USA",
            "tz": "EST"
           },
           4,
           "Amanda Harvey",
           "Fort Lauderdale",
           "EST",
           "USA"
          ],
          [
           "Andrea Jones",
           10,
           true,
           "person",
           "Andrea Jones",
           "2020-05-04",
           [
            "Contract"
           ],
           [
            "Scala",
            "JavaScript",
            "Java"
           ],
           "Paul Burns",
           "DevX",
           "Engineer",
           {
            "city": "Fort Lauderdale",
            "country": "USA",
            "tz": "EST"
           },
           4,
           "Nathan Brown",
           "Fort Lauderdale",
           "EST",
           "USA"
          ],
          [
           "Amy Torres",
           10,
           true,
           "person",
           "Amy Torres",
           "2020-11-20",
           [
            "Contract"
           ],
           [
            "Python",
            "Java"
           ],
           "Paul Burns",
           "DevX",
           "Engineer",
           {
            "city": "Fort Lauderdale",
            "country": "USA",
            "tz": "EST"
           },
           4,
           "Nathan Brown",
           "Fort Lauderdale",
           "EST",
           "USA"
          ],
          [
           "Steven Robinson",
           10,
           true,
           "person",
           "Steven Robinson",
           "2021-06-25",
           [
            "Contract"
           ],
           [
            "Python",
            "Scala",
            "JavaScript"
           ],
           "Paul Burns",
           "DevX",
           "Engineer",
           {
            "city": "Fort Lauderdale",
            "country": "USA",
            "tz": "EST"
           },
           4,
           "Nathan Brown",
           "Fort Lauderdale",
           "EST",
           "USA"
          ],
          [
           "Kevin Bennett",
           10,
           true,
           "person",
           "Kevin Bennett",
           "2022-08-05",
           [
            "Contract"
           ],
           [
            "Python"
           ],
           "Paul Burns",
           "DevX",
           "Engineer",
           {
            "city": "Fort Lauderdale",
            "country": "USA",
            "tz": "EST"
           },
           4,
           "Justin Rowe",
           "Fort Lauderdale",
           "EST",
           "USA"
          ],
          [
           "Gabriel Gordon",
           10,
           true,
           "person",
           "Gabriel Gordon",
           "2020-12-16",
           [
            "Contract"
           ],
           [
            "Python",
            "Go",
            "JavaScript",
            "Java"
           ],
           "Paul Burns",
           "DevX",
           "Engineer",
           {
            "city": "Fort Lauderdale",
            "country": "USA",
            "tz": "EST"
           },
           4,
           "Justin Rowe",
           "Fort Lauderdale",
           "EST",
           "USA"
          ],
          [
           "Amanda Diaz",
           10,
           true,
           "person",
           "Amanda Diaz",
           "2020-10-26",
           [
            "Contract"
           ],
           [
            "Java"
           ],
           "Stephen Hanna",
           "DevX",
           "AVP",
           {
            "city": "Fort Lauderdale",
            "country": "USA",
            "tz": "EST"
           },
           5,
           "Teresa Powell",
           "Fort Lauderdale",
           "EST",
           "USA"
          ],
          [
           "Zachary Bright",
           10,
           true,
           "person",
           "Zachary Bright",
           "2021-09-17",
           [
            "Full Time"
           ],
           [],
           "Carmen Shaw",
           "DevX",
           "AVP",
           {
            "city": "Fort Lauderdale",
            "country": "USA",
            "tz": "EST"
           },
           5,
           "Michael Wong",
           "Fort Lauderdale",
           "EST",
           "USA"
          ],
          [
           "James Strickland",
           10,
           true,
           "person",
           "James Strickland",
           "2021-12-23",
           [
            "Full Time"
           ],
           [
            "Python",
            "Typescript"
           ],
           "Anna Dyer",
           "DevX",
           "AVP",
           {
            "city": "Fort Lauderdale",
            "country": "USA",
            "tz": "EST"
           },
           5,
           "Kelly Jacobs",
           "Fort Lauderdale",
           "EST",
           "USA"
          ],
          [
           "Jennifer Davis",
           10,
           true,
           "person",
           "Jennifer Davis",
           "2022-11-06",
           [
            "Contract"
           ],
           [
            "Typescript",
            "Go",
            "JavaScript"
           ],
           "Anna Dyer",
           "DevX",
           "AVP",
           {
            "city": "Fort Lauderdale",
            "country": "USA",
            "tz": "EST"
           },
           5,
           "Kelly Jacobs",
           "Fort Lauderdale",
           "EST",
           "USA"
          ],
          [
           "Katherine Palmer",
           10,
           true,
           "person",
           "Katherine Palmer",
           "2020-12-22",
           [
            "Contract"
           ],
           [
            "Python",
            "Java"
           ],
           "Anna Dyer",
           "DevX",
           "AVP",
           {
            "city": "Fort Lauderdale",
            "country": "USA",
            "tz": "EST"
           },
           5,
           "Kelly Jacobs",
           "Fort Lauderdale",
           "EST",
           "USA"
          ],
          [
           "Blake Wiley",
           10,
           true,
           "person",
           "Blake Wiley",
           "2020-12-04",
           [
            "Contract"
           ],
           [],
           "Anna Dyer",
           "DevX",
           "AVP",
           {
            "city": "Fort Lauderdale",
            "country": "USA",
            "tz": "EST"
           },
           5,
           "Kelly Jacobs",
           "Fort Lauderdale",
           "EST",
           "USA"
          ],
          [
           "Corey White",
           10,
           true,
           "person",
           "Corey White",
           "2021-01-13",
           [
            "Part Time"
           ],
           [],
           "Eric Gaines",
           "DevX",
           "AVP",
           {
            "city": "Fort Lauderdale",
            "country": "USA",
            "tz": "EST"
           },
           5,
           "Kelly Jacobs",
           "Fort Lauderdale",
           "EST",
           "USA"
          ],
          [
           "Kimberly Casey",
           10,
           true,
           "person",
           "Kimberly Casey",
           "2020-09-20",
           [
            "Contract"
           ],
           [
            "Python",
            "JavaScript",
            "Java"
           ],
           "Stephen Hanna",
           "Internal Tools",
           "Engineer",
           {
            "city": "Seattle",
            "country": "USA",
            "tz": "PST"
           },
           0,
           "Lori Green",
           "Seattle",
           "PST",
           "USA"
          ],
          [
           "Emily Nelson",
           10,
           true,
           "person",
           "Emily Nelson",
           "2021-06-03",
           [
            "Contract"
           ],
           [
            "Python",
            "JavaScript"
           ],
           "Kimberly Casey",
           "Internal Tools",
           "Engineer",
           {
            "city": "Seattle",
            "country": "USA",
            "tz": "PST"
           },
           0,
           "Michael Nichols",
           "Seattle",
           "PST",
           "USA"
          ],
          [
           "Connie Petersen",
           10,
           true,
           "person",
           "Connie Petersen",
           "2021-07-22",
           [
            "Full Time"
           ],
           [
            "Python",
            "Scala",
            "JavaScript",
            "Java"
           ],
           "George Short",
           "Internal Tools",
           "Senior Engineer",
           {
            "city": "Seattle",
            "country": "USA",
            "tz": "PST"
           },
           1,
           "Tracy Mayer MD",
           "Seattle",
           "PST",
           "USA"
          ],
          [
           "Lori Brown",
           10,
           true,
           "person",
           "Lori Brown",
           "2022-08-09",
           [
            "Contract"
           ],
           [
            "Typescript",
            "Scala",
            "Java"
           ],
           "Stephen Hanna",
           "Internal Tools",
           "Manager",
           {
            "city": "Seattle",
            "country": "USA",
            "tz": "PST"
           },
           2,
           "Michael Wong",
           "Seattle",
           "PST",
           "USA"
          ],
          [
           "Brooke Patrick",
           10,
           true,
           "person",
           "Brooke Patrick",
           "2020-08-25",
           [
            "Full Time"
           ],
           [
            "Python",
            "Typescript",
            "Scala"
           ],
           "George Short",
           "Internal Tools",
           "Manager",
           {
            "city": "Seattle",
            "country": "USA",
            "tz": "PST"
           },
           2,
           "Kelly Jacobs",
           "Seattle",
           "PST",
           "USA"
          ],
          [
           "Edward Pierce",
           10,
           true,
           "person",
           "Edward Pierce",
           "2020-06-07",
           [
            "Part Time"
           ],
           [
            "Python",
            "Scala",
            "JavaScript",
            "Java"
           ],
           "Lori Brown",
           "Internal Tools",
           "AVP",
           {
            "city": "Seattle",
            "country": "USA",
            "tz": "PST"
           },
           3,
           "Jose Key",
           "Seattle",
           "PST",
           "USA"
          ],
          [
           "John Clarke",
           10,
           true,
           "person",
           "John Clarke",
           "2021-05-18",
           [
            "Part Time"
           ],
           [
            "Python",
            "Scala",
            "JavaScript"
           ],
           "Lori Green",
           "Platform",
           "Engineer",
           {
            "city": "Seattle",
            "country": "USA",
            "tz": "PST"
           },
           0,
           "Michael Nichols",
           "Seattle",
           "PST",
           "USA"
          ],
          [
           "Karen Newman",
           10,
           true,
           "person",
           "Karen Newman",
           "2023-01-19",
           [
            "Contract"
           ],
           [
            "Typescript"
           ],
           "Lori Green",
           "Platform",
           "Engineer",
           {
            "city": "Seattle",
            "country": "USA",
            "tz": "PST"
           },
           0,
           "Michael Nichols",
           "Seattle",
           "PST",
           "USA"
          ],
          [
           "Thomas Fitzgerald",
           10,
           true,
           "person",
           "Thomas Fitzgerald",
           "2022-09-25",
           [
            "Part Time"
           ],
           [
            "Python",
            "JavaScript"
           ],
           "Deborah Solis",
           "Platform",
           "Senior Engineer",
           {
            "city": "Seattle",
            "country": "USA",
            "tz": "PST"
           },
           1,
           "Deborah Solis",
           "Seattle",
           "PST",
           "USA"
          ],
          [
           "Michael Andrews",
           10,
           true,
           "person",
           "Michael Andrews",
           "2021-05-12",
           [
            "Full Time"
           ],
           [
            "Typescript",
            "Scala",
            "JavaScript"
           ],
           "Thomas Fitzgerald",
           "Platform",
           "Managing Engineer",
           {
            "city": "Seattle",
            "country": "USA",
            "tz": "PST"
           },
           2,
           "Michael Wong",
           "Seattle",
           "PST",
           "USA"
          ],
          [
           "Kristina Wallace",
           10,
           true,
           "person",
           "Kristina Wallace",
           "2021-03-26",
           [
            "Full Time"
           ],
           [
            "JavaScript",
            "Java"
           ],
           "Thomas Fitzgerald",
           "Platform",
           "Managing Engineer",
           {
            "city": "Seattle",
            "country": "USA",
            "tz": "PST"
           },
           2,
           "Kelly Jacobs",
           "Seattle",
           "PST",
           "USA"
          ],
          [
           "Carolyn Murphy",
           10,
           true,
           "person",
           "Carolyn Murphy",
           "2020-06-14",
           [
            "Part Time"
           ],
           [
            "Python",
            "Java"
           ],
           "Thomas Fitzgerald",
           "Platform",
           "AVP",
           {
            "city": "Seattle",
            "country": "USA",
            "tz": "PST"
           },
           3,
           "Teresa Powell",
           "Seattle",
           "PST",
           "USA"
          ],
          [
           "Kelly Jackson",
           10,
           true,
           "person",
           "Kelly Jackson",
           "2020-09-28",
           [
            "Contract"
           ],
           [],
           "Kristina Wallace",
           "Platform",
           "AVP",
           {
            "city": "Seattle",
            "country": "USA",
            "tz": "PST"
           },
           3,
           "Kelly Jacobs",
           "Seattle",
           "PST",
           "USA"
          ],
          [
           "Lindsay Nichols",
           10,
           true,
           "person",
           "Lindsay Nichols",
           "2023-01-29",
           [
            "Contract"
           ],
           [],
           "Kristina Wallace",
           "Platform",
           "AVP",
           {
            "city": "Seattle",
            "country": "USA",
            "tz": "PST"
           },
           3,
           "Amanda Harvey",
           "Seattle",
           "PST",
           "USA"
          ],
          [
           "James Wilson MD",
           10,
           true,
           "person",
           "James Wilson MD",
           "2020-10-27",
           [
            "Contract"
           ],
           [],
           "Kristina Wallace",
           "Platform",
           "AVP",
           {
            "city": "Seattle",
            "country": "USA",
            "tz": "PST"
           },
           3,
           "Amanda Harvey",
           "Seattle",
           "PST",
           "USA"
          ],
          [
           "Traci Flores",
           10,
           true,
           "person",
           "Traci Flores",
           "2022-12-14",
           [
            "Part Time"
           ],
           [
            "Typescript",
            "JavaScript",
            "Java"
           ],
           "Carolyn Murphy",
           "Platform",
           "VP",
           {
            "city": "Seattle",
            "country": "USA",
            "tz": "PST"
           },
           4,
           "Jose Key",
           "Seattle",
           "PST",
           "USA"
          ],
          [
           "Donald Martin",
           10,
           true,
           "person",
           "Donald Martin",
           "2021-10-03",
           [
            "Full Time"
           ],
           [
            "Python",
            "Scala",
            "JavaScript"
           ],
           "Thomas Haley",
           "Platform",
           "VP",
           {
            "city": "Seattle",
            "country": "USA",
            "tz": "PST"
           },
           4,
           "Kelly Jacobs",
           "Seattle",
           "PST",
           "USA"
          ],
          [
           "Jamie Johnson",
           10,
           true,
           "person",
           "Jamie Johnson",
           "2021-05-24",
           [
            "Contract"
           ],
           [],
           "Kelly Jackson",
           "Platform",
           "VP",
           {
            "city": "Seattle",
            "country": "USA",
            "tz": "PST"
           },
           4,
           "Amanda Harvey",
           "Seattle",
           "PST",
           "USA"
          ],
          [
           "Joann Gonzalez",
           10,
           true,
           "person",
           "Joann Gonzalez",
           "2021-09-12",
           [
            "Full Time"
           ],
           [
            "Typescript",
            "Erlang"
           ],
           "Alexandria Dodson",
           "Product",
           "Engineer",
           {
            "city": "New York",
            "country": "USA",
            "tz": "EST"
           },
           0,
           "Michael Nichols",
           "New York",
           "EST",
           "USA"
          ],
          [
           "Shirley Morris",
           10,
           true,
           "person",
           "Shirley Morris",
           "2021-06-10",
           [
            "Contract"
           ],
           [
            "Python",
            "Typescript",
            "JavaScript",
            "Java"
           ],
           "Alexandria Dodson",
           "Product",
           "Engineer",
           {
            "city": "Seattle",
            "country": "USA",
            "tz": "PST"
           },
           0,
           "Michael Nichols",
           "Seattle",
           "PST",
           "USA"
          ],
          [
           "Theresa White",
           10,
           true,
           "person",
           "Theresa White",
           "2021-01-29",
           [
            "Full Time"
           ],
           [
            "Java"
           ],
           "Alexandria Dodson",
           "Product",
           "Engineer",
           {
            "city": "New York",
            "country": "USA",
            "tz": "EST"
           },
           0,
           "Michael Nichols",
           "New York",
           "EST",
           "USA"
          ],
          [
           "Jennifer Cameron",
           10,
           true,
           "person",
           "Jennifer Cameron",
           "2022-07-07",
           [
            "Part Time"
           ],
           [],
           "Joann Gonzalez",
           "Product",
           "Manager",
           {
            "city": "New York",
            "country": "USA",
            "tz": "EST"
           },
           1,
           "Tracy Mayer MD",
           "New York",
           "EST",
           "USA"
          ],
          [
           "Joseph Flores",
           10,
           true,
           "person",
           "Joseph Flores",
           "2022-05-05",
           [
            "Part Time"
           ],
           [
            "Go"
           ],
           "Emily Bruce",
           "Product",
           "Product Owner",
           {
            "city": "New York",
            "country": "USA",
            "tz": "EST"
           },
           2,
           "Jose Key",
           "New York",
           "EST",
           "USA"
          ],
          [
           "Miranda Abbott",
           10,
           true,
           "person",
           "Miranda Abbott",
           "2020-09-10",
           [
            "Full Time"
           ],
           [],
           "Emily Bruce",
           "Product",
           "Product Owner",
           {
            "city": "New York",
            "country": "USA",
            "tz": "EST"
           },
           2,
           "Amanda Harvey",
           "New York",
           "EST",
           "USA"
          ],
          [
           "Diane Hendricks",
           10,
           true,
           "person",
           "Diane Hendricks",
           "2022-09-23",
           [
            "Full Time"
           ],
           [
            "JavaScript"
           ],
           "Jennifer Johnson",
           "Product",
           "AVP",
           {
            "city": "Seattle",
            "country": "USA",
            "tz": "PST"
           },
           3,
           "Michael Wong",
           "Seattle",
           "PST",
           "USA"
          ],
          [
           "Andrew Hamilton",
           10,
           true,
           "person",
           "Andrew Hamilton",
           "2020-12-25",
           [
            "Contract"
           ],
           [
            "Typescript",
            "Go",
            "JavaScript",
            "Java"
           ],
           "Jennifer Johnson",
           "Product",
           "AVP",
           {
            "city": "Seattle",
            "country": "USA",
            "tz": "PST"
           },
           3,
           "Michael Wong",
           "Seattle",
           "PST",
           "USA"
          ],
          [
           "John Davis",
           10,
           true,
           "person",
           "John Davis",
           "2022-05-10",
           [
            "Contract"
           ],
           [
            "Go",
            "JavaScript",
            "Java"
           ],
           "Joseph Flores",
           "Product",
           "AVP",
           {
            "city": "New York",
            "country": "USA",
            "tz": "EST"
           },
           3,
           "Kelly Jacobs",
           "New York",
           "EST",
           "USA"
          ],
          [
           "Marissa Rodriguez",
           10,
           true,
           "person",
           "Marissa Rodriguez",
           "2022-08-08",
           [
            "Contract"
           ],
           [
            "Python",
            "Go",
            "JavaScript",
            "Java"
           ],
           "Miranda Abbott",
           "Product",
           "AVP",
           {
            "city": "Seattle",
            "country": "USA",
            "tz": "PST"
           },
           3,
           "Justin Rowe",
           "Seattle",
           "PST",
           "USA"
          ],
          [
           "Christopher Mahoney",
           10,
           true,
           "person",
           "Christopher Mahoney",
           "2022-06-26",
           [
            "Part Time"
           ],
           [],
           "Miranda Abbott",
           "Product",
           "AVP",
           {
            "city": "Seattle",
            "country": "USA",
            "tz": "PST"
           },
           3,
           "Justin Rowe",
           "Seattle",
           "PST",
           "USA"
          ],
          [
           "Angela Torres",
           10,
           true,
           "person",
           "Angela Torres",
           "2021-11-14",
           [
            "Full Time"
           ],
           [
            "Typescript",
            "Scala"
           ],
           "Jennifer Johnson",
           "Product",
           "VP",
           {
            "city": "Seattle",
            "country": "USA",
            "tz": "PST"
           },
           4,
           "Teresa Powell",
           "Seattle",
           "PST",
           "USA"
          ],
          [
           "Adrienne Williamson",
           10,
           true,
           "person",
           "Adrienne Williamson",
           "2021-08-30",
           [
            "Part Time"
           ],
           [
            "Go",
            "JavaScript",
            "Java"
           ],
           "Andrew Hamilton",
           "Product",
           "VP",
           {
            "city": "New York",
            "country": "USA",
            "tz": "EST"
           },
           4,
           "Michael Wong",
           "New York",
           "EST",
           "USA"
          ],
          [
           "Tracy Curry",
           10,
           true,
           "person",
           "Tracy Curry",
           "2021-09-14",
           [
            "Full Time"
           ],
           [
            "Python"
           ],
           "John Davis",
           "Product",
           "VP",
           {
            "city": "New York",
            "country": "USA",
            "tz": "EST"
           },
           4,
           "Justin Rowe",
           "New York",
           "EST",
           "USA"
          ],
          [
           "Jamie Cooper",
           10,
           true,
           "person",
           "Jamie Cooper",
           "2021-07-15",
           [
            "Part Time"
           ],
           [],
           "Maria Nichols",
           "Sales",
           "Associate",
           {
            "city": "New York",
            "country": "USA",
            "tz": "EST"
           },
           0,
           "Kimberly Casey",
           "New York",
           "EST",
           "USA"
          ],
          [
           "Joseph Hudson",
           10,
           true,
           "person",
           "Joseph Hudson",
           "2021-08-03",
           [
            "Contract"
           ],
           [
            "Python",
            "Scala",
            "Java"
           ],
           "Maria Nichols",
           "Sales",
           "Associate",
           {
            "city": "New York",
            "country": "USA",
            "tz": "EST"
           },
           0,
           "Kimberly Casey",
           "New York",
           "EST",
           "USA"
          ],
          [
           "Ryan Patterson",
           10,
           true,
           "person",
           "Ryan Patterson",
           "2021-02-09",
           [
            "Part Time"
           ],
           [],
           "Maria Nichols",
           "Sales",
           "Associate",
           {
            "city": "New York",
            "country": "USA",
            "tz": "EST"
           },
           0,
           "Michael Nichols",
           "New York",
           "EST",
           "USA"
          ],
          [
           "Brian Brown",
           10,
           true,
           "person",
           "Brian Brown",
           "2021-06-02",
           [
            "Part Time"
           ],
           [
            "Python",
            "Typescript"
           ],
           "Maria Nichols",
           "Sales",
           "Associate",
           {
            "city": "New York",
            "country": "USA",
            "tz": "EST"
           },
           0,
           "Michael Nichols",
           "New York",
           "EST",
           "USA"
          ],
          [
           "Ronald Smith",
           10,
           true,
           "person",
           "Ronald Smith",
           "2021-09-15",
           [
            "Contract"
           ],
           [
            "Python",
            "JavaScript",
            "Java"
           ],
           "Maria Nichols",
           "Sales",
           "Associate",
           {
            "city": "New York",
            "country": "USA",
            "tz": "EST"
           },
           0,
           "Michael Nichols",
           "New York",
           "EST",
           "USA"
          ]
         ],
         "hovertemplate": "<b>%{hovertext}</b><br><br>country=%{customdata[16]}<br>x=%{x}<br>y=%{y}<br>size=%{customdata[1]}<br>label=%{customdata[0]}<br>person=%{customdata[2]}<br>type=%{customdata[3]}<br>name=%{customdata[4]}<br>hire_date=%{customdata[5]}<br>status=%{customdata[6]}<br>languages=%{customdata[7]}<br>manager=%{customdata[8]}<br>team=%{customdata[9]}<br>title=%{customdata[10]}<br>location=%{customdata[11]}<br>rank=%{customdata[12]}<br>peoplemanager=%{customdata[13]}<br>city=%{customdata[14]}<br>tz=%{customdata[15]}<extra></extra>",
         "hovertext": [
          "Mr. Benjamin May",
          "Katie Jensen",
          "David Vang",
          "Eric Rodgers",
          "Angela Everett",
          "Jennifer Johnson",
          "Debra Schneider",
          "Rebecca Martinez",
          "Paul Parker",
          "Olivia Lyons",
          "Timothy Salazar",
          "Paul Burns",
          "Sarah Brown",
          "William Sims",
          "Carmen Shaw",
          "Stephanie Boyd",
          "Louis Ward",
          "Angela Smith",
          "Dennis Rhodes",
          "Anna Dyer",
          "Eric Gaines",
          "Todd Valencia",
          "Douglas Frazier",
          "Trevor Hunt",
          "Bruce Russell",
          "Kathy Lewis",
          "Andrea Jones",
          "Amy Torres",
          "Steven Robinson",
          "Kevin Bennett",
          "Gabriel Gordon",
          "Amanda Diaz",
          "Zachary Bright",
          "James Strickland",
          "Jennifer Davis",
          "Katherine Palmer",
          "Blake Wiley",
          "Corey White",
          "Kimberly Casey",
          "Emily Nelson",
          "Connie Petersen",
          "Lori Brown",
          "Brooke Patrick",
          "Edward Pierce",
          "John Clarke",
          "Karen Newman",
          "Thomas Fitzgerald",
          "Michael Andrews",
          "Kristina Wallace",
          "Carolyn Murphy",
          "Kelly Jackson",
          "Lindsay Nichols",
          "James Wilson MD",
          "Traci Flores",
          "Donald Martin",
          "Jamie Johnson",
          "Joann Gonzalez",
          "Shirley Morris",
          "Theresa White",
          "Jennifer Cameron",
          "Joseph Flores",
          "Miranda Abbott",
          "Diane Hendricks",
          "Andrew Hamilton",
          "John Davis",
          "Marissa Rodriguez",
          "Christopher Mahoney",
          "Angela Torres",
          "Adrienne Williamson",
          "Tracy Curry",
          "Jamie Cooper",
          "Joseph Hudson",
          "Ryan Patterson",
          "Brian Brown",
          "Ronald Smith"
         ],
         "legendgroup": "USA",
         "marker": {
          "color": "#EF553B",
          "size": [
           10,
           10,
           10,
           10,
           10,
           10,
           10,
           10,
           10,
           10,
           10,
           10,
           10,
           10,
           10,
           10,
           10,
           10,
           10,
           10,
           10,
           10,
           10,
           10,
           10,
           10,
           10,
           10,
           10,
           10,
           10,
           10,
           10,
           10,
           10,
           10,
           10,
           10,
           10,
           10,
           10,
           10,
           10,
           10,
           10,
           10,
           10,
           10,
           10,
           10,
           10,
           10,
           10,
           10,
           10,
           10,
           10,
           10,
           10,
           10,
           10,
           10,
           10,
           10,
           10,
           10,
           10,
           10,
           10,
           10,
           10,
           10,
           10,
           10,
           10
          ],
          "sizemode": "area",
          "sizeref": 0.025,
          "symbol": "circle"
         },
         "mode": "markers",
         "name": "USA",
         "orientation": "v",
         "showlegend": true,
         "type": "scatter",
         "x": [
          -0.21910876040351204,
          0.05426609825955765,
          -0.09436425651259783,
          0.09999046631487563,
          0.11773333746065093,
          -0.08501860065277628,
          -0.04624863555503081,
          0.24322278878574632,
          0.2052893915070014,
          -0.5935901521046697,
          0.248326196481418,
          -0.46017719402762497,
          -0.5680589023595036,
          -0.46667167001460647,
          -0.6237579192719258,
          -0.5123842604790835,
          -0.548342957062115,
          -0.4619732733451137,
          -0.583446854895646,
          -0.7099223218144636,
          -0.606662859522882,
          -0.5188577435846415,
          -0.5727678586031246,
          -0.5621596754818479,
          -0.5072666177641105,
          -0.541803696818559,
          -0.5234645949046868,
          -0.5110591733944252,
          -0.48767086507958096,
          -0.5325335833312812,
          -0.563620043264804,
          0.04045550245859331,
          -0.7317225389987423,
          -0.8248528901114256,
          -0.8232824975887805,
          -0.8175942029956198,
          -0.8161925404367315,
          -0.7066681005188568,
          -0.12624716989427137,
          -0.18945354689185231,
          -0.31342382660724594,
          0.1520369971636979,
          -0.2921199971747918,
          0.27860308756212515,
          0.26538187320911694,
          0.3182581978589182,
          0.06906428653191667,
          -0.03469685086547062,
          0.05740327417076257,
          0.2045963320186705,
          0.14081470344937377,
          -0.010806322299617359,
          0.05028439835386077,
          0.28320107874568423,
          -0.2059169723028682,
          0.20291573131941226,
          0.19635231024822217,
          0.16408442813892196,
          0.1312172826796942,
          0.253050242017779,
          0.2281947274805344,
          0.1558518054149008,
          -0.14060462084978292,
          -0.17497712842171445,
          0.28202800648118714,
          0.13590520310908066,
          0.1770885217445658,
          -0.09997318545862086,
          -0.24232294522433756,
          0.3186989071878435,
          0.6331569928599033,
          0.6036345690861554,
          0.5863845754527225,
          0.5709751282797724,
          0.5062668023968631
         ],
         "xaxis": "x",
         "y": [
          0.439747301958706,
          0.35985351604353033,
          0.3936199776974608,
          -0.204124315711111,
          -0.2727685841643446,
          0.19789766811885487,
          0.5518881476494478,
          -0.557880357800282,
          -0.610566473575947,
          0.3636198855289909,
          -0.7133820486386145,
          0.06262081579415084,
          0.12579288350071638,
          -0.01283832061917209,
          0.009069963772714733,
          -0.007662007782758818,
          -0.025443151857925325,
          0.13121098669440437,
          0.057383998810947766,
          0.08496106594425126,
          0.15523622320132205,
          0.028326625864594362,
          0.08609157515772968,
          0.03628925650985924,
          -0.03964961768106071,
          0.10906430858864853,
          0.07391817495191003,
          0.13220002250292884,
          0.1630177624272189,
          0.15981645663066288,
          0.0041579418217111384,
          0.08117567943126372,
          -0.029423779188799015,
          0.07920787310258497,
          0.10850523706007527,
          0.04873669188528839,
          0.1384944831546437,
          0.21631588798243817,
          0.10389141616990286,
          0.08224691674411622,
          0.227656395188904,
          0.11908478707562277,
          0.26177249214713283,
          0.19408700724051667,
          0.06495171890718356,
          0.12515517421309572,
          -0.36869278722890736,
          -0.4835266258088164,
          -0.5437940102708605,
          -0.2816103581399432,
          -0.5085013418479576,
          -0.6301117342869472,
          -0.6769723748038797,
          -0.22410766363651827,
          -0.6276819750317031,
          -0.5182767767087543,
          0.5261224389446557,
          0.4898631338488477,
          0.48045061126137434,
          0.6160949883738763,
          0.7865031600095346,
          0.801231695346335,
          0.25283953068590637,
          0.3175056703917266,
          0.9091663308877578,
          0.8998286620503498,
          0.9008035105876336,
          0.26899030818071623,
          0.40393551422895646,
          1,
          -0.16763803660752996,
          -0.25050949914320153,
          -0.09849810880007911,
          -0.24230110117949455,
          -0.2830740755902917
         ],
         "yaxis": "y"
        },
        {
         "customdata": [
          [
           "Colleen Hanson",
           10,
           true,
           "person",
           "Colleen Hanson",
           "2020-10-05",
           [
            "Part Time"
           ],
           [
            "Typescript"
           ],
           "Michael Nichols",
           "Business",
           "Analyst",
           {
            "city": "Toronto",
            "country": "CAN",
            "tz": "EST"
           },
           0,
           "Michael Nichols",
           "Toronto",
           "EST",
           "CAN"
          ],
          [
           "Nancy Riley",
           10,
           true,
           "person",
           "Nancy Riley",
           "2022-11-05",
           [
            "Full Time"
           ],
           [],
           "Eric Rodgers",
           "Business",
           "Vice President",
           {
            "city": "Toronto",
            "country": "CAN",
            "tz": "EST"
           },
           2,
           "Teresa Powell",
           "Toronto",
           "EST",
           "CAN"
          ],
          [
           "Thomas Hansen",
           10,
           true,
           "person",
           "Thomas Hansen",
           "2021-04-27",
           [
            "Part Time"
           ],
           [
            "Java"
           ],
           "Kimberly Casey",
           "Internal Tools",
           "Engineer",
           {
            "city": "Toronto",
            "country": "CAN",
            "tz": "EST"
           },
           0,
           "Michael Nichols",
           "Toronto",
           "EST",
           "CAN"
          ],
          [
           "George Short",
           10,
           true,
           "person",
           "George Short",
           "2022-01-16",
           [
            "Contract"
           ],
           [
            "JavaScript"
           ],
           "Kimberly Casey",
           "Internal Tools",
           "Engineer",
           {
            "city": "Toronto",
            "country": "CAN",
            "tz": "EST"
           },
           0,
           "Michael Nichols",
           "Toronto",
           "EST",
           "CAN"
          ],
          [
           "Carolyn Miller",
           10,
           true,
           "person",
           "Carolyn Miller",
           "2020-10-21",
           [
            "Part Time"
           ],
           [
            "Python",
            "Scala"
           ],
           "Edward Pierce",
           "Internal Tools",
           "VP",
           {
            "city": "Toronto",
            "country": "CAN",
            "tz": "EST"
           },
           4,
           "Nathan Brown",
           "Toronto",
           "EST",
           "CAN"
          ],
          [
           "Lori Green",
           10,
           true,
           "person",
           "Lori Green",
           "2022-09-16",
           [
            "Part Time"
           ],
           [
            "Python",
            "JavaScript",
            "Erlang"
           ],
           "Stephen Hanna",
           "Platform",
           "Engineer",
           {
            "city": "Toronto",
            "country": "CAN",
            "tz": "EST"
           },
           0,
           "Lori Green",
           "Toronto",
           "EST",
           "CAN"
          ],
          [
           "Anita Wilson",
           10,
           true,
           "person",
           "Anita Wilson",
           "2022-03-20",
           [
            "Full Time"
           ],
           [
            "Python",
            "Go"
           ],
           "Lori Green",
           "Platform",
           "Engineer",
           {
            "city": "Toronto",
            "country": "CAN",
            "tz": "EST"
           },
           0,
           "Lori Green",
           "Toronto",
           "EST",
           "CAN"
          ],
          [
           "Deborah Solis",
           10,
           true,
           "person",
           "Deborah Solis",
           "2022-05-24",
           [
            "Contract"
           ],
           [
            "Python",
            "Typescript",
            "Go",
            "Java"
           ],
           "Stephen Hanna",
           "Platform",
           "Senior Engineer",
           {
            "city": "Toronto",
            "country": "CAN",
            "tz": "EST"
           },
           1,
           "Deborah Solis",
           "Toronto",
           "EST",
           "CAN"
          ],
          [
           "Krystal Sellers",
           10,
           true,
           "person",
           "Krystal Sellers",
           "2020-11-12",
           [
            "Full Time"
           ],
           [
            "JavaScript"
           ],
           "Karen Newman",
           "Platform",
           "Senior Engineer",
           {
            "city": "Toronto",
            "country": "CAN",
            "tz": "EST"
           },
           1,
           "Anthony Powers",
           "Toronto",
           "EST",
           "CAN"
          ],
          [
           "Matthew Rogers",
           10,
           true,
           "person",
           "Matthew Rogers",
           "2020-10-18",
           [
            "Part Time"
           ],
           [
            "Python",
            "Scala",
            "Java"
           ],
           "Thomas Fitzgerald",
           "Platform",
           "AVP",
           {
            "city": "Toronto",
            "country": "CAN",
            "tz": "EST"
           },
           3,
           "Teresa Powell",
           "Toronto",
           "EST",
           "CAN"
          ],
          [
           "Thomas Haley",
           10,
           true,
           "person",
           "Thomas Haley",
           "2023-01-30",
           [
            "Part Time"
           ],
           [
            "Python"
           ],
           "Michael Andrews",
           "Platform",
           "AVP",
           {
            "city": "Toronto",
            "country": "CAN",
            "tz": "EST"
           },
           3,
           "Kelly Jacobs",
           "Toronto",
           "EST",
           "CAN"
          ],
          [
           "Julie Padilla",
           10,
           true,
           "person",
           "Julie Padilla",
           "2022-08-24",
           [
            "Full Time"
           ],
           [
            "Python",
            "JavaScript",
            "Java"
           ],
           "Carolyn Murphy",
           "Platform",
           "VP",
           {
            "city": "Toronto",
            "country": "CAN",
            "tz": "EST"
           },
           4,
           "Teresa Powell",
           "Toronto",
           "EST",
           "CAN"
          ],
          [
           "Tim Smith",
           10,
           true,
           "person",
           "Tim Smith",
           "2020-09-29",
           [
            "Part Time"
           ],
           [],
           "Carolyn Murphy",
           "Platform",
           "VP",
           {
            "city": "Toronto",
            "country": "CAN",
            "tz": "EST"
           },
           4,
           "Jose Key",
           "Toronto",
           "EST",
           "CAN"
          ],
          [
           "Debbie Young",
           10,
           true,
           "person",
           "Debbie Young",
           "2021-02-04",
           [
            "Contract"
           ],
           [
            "Python"
           ],
           "Thomas Haley",
           "Platform",
           "VP",
           {
            "city": "Toronto",
            "country": "CAN",
            "tz": "EST"
           },
           4,
           "Kelly Jacobs",
           "Toronto",
           "EST",
           "CAN"
          ],
          [
           "Sarah Robertson",
           10,
           true,
           "person",
           "Sarah Robertson",
           "2022-12-16",
           [
            "Part Time"
           ],
           [
            "Python"
           ],
           "Kelly Jackson",
           "Platform",
           "VP",
           {
            "city": "Toronto",
            "country": "CAN",
            "tz": "EST"
           },
           4,
           "Amanda Harvey",
           "Toronto",
           "EST",
           "CAN"
          ],
          [
           "Rebecca Hubbard",
           10,
           true,
           "person",
           "Rebecca Hubbard",
           "2020-10-13",
           [
            "Full Time"
           ],
           [
            "Python",
            "Scala"
           ],
           "Lindsay Nichols",
           "Platform",
           "VP",
           {
            "city": "Toronto",
            "country": "CAN",
            "tz": "EST"
           },
           4,
           "Amanda Harvey",
           "Toronto",
           "EST",
           "CAN"
          ],
          [
           "Isaiah Hill",
           10,
           true,
           "person",
           "Isaiah Hill",
           "2022-08-31",
           [
            "Part Time"
           ],
           [
            "Typescript"
           ],
           "James Wilson MD",
           "Platform",
           "VP",
           {
            "city": "Toronto",
            "country": "CAN",
            "tz": "EST"
           },
           4,
           "Justin Rowe",
           "Toronto",
           "EST",
           "CAN"
          ],
          [
           "Alexandria Dodson",
           10,
           true,
           "person",
           "Alexandria Dodson",
           "2023-02-21",
           [
            "Contract"
           ],
           [
            "Python"
           ],
           "Stephen Hanna",
           "Product",
           "Engineer",
           {
            "city": "Toronto",
            "country": "CAN",
            "tz": "EST"
           },
           0,
           "Lori Green",
           "Toronto",
           "EST",
           "CAN"
          ],
          [
           "Keith Bailey",
           10,
           true,
           "person",
           "Keith Bailey",
           "2020-11-05",
           [
            "Full Time"
           ],
           [
            "Typescript",
            "Scala",
            "JavaScript",
            "Java"
           ],
           "Alexandria Dodson",
           "Product",
           "Engineer",
           {
            "city": "Toronto",
            "country": "CAN",
            "tz": "EST"
           },
           0,
           "Michael Nichols",
           "Toronto",
           "EST",
           "CAN"
          ],
          [
           "Robert Ford",
           10,
           true,
           "person",
           "Robert Ford",
           "2021-09-05",
           [
            "Contract"
           ],
           [
            "Python",
            "JavaScript"
           ],
           "Alexandria Dodson",
           "Product",
           "Engineer",
           {
            "city": "Toronto",
            "country": "CAN",
            "tz": "EST"
           },
           0,
           "Michael Nichols",
           "Toronto",
           "EST",
           "CAN"
          ],
          [
           "Ronald Lowery",
           10,
           true,
           "person",
           "Ronald Lowery",
           "2022-08-07",
           [
            "Full Time"
           ],
           [
            "Python",
            "Scala",
            "JavaScript",
            "Java"
           ],
           "Alexandria Dodson",
           "Product",
           "Engineer",
           {
            "city": "Toronto",
            "country": "CAN",
            "tz": "EST"
           },
           0,
           "Michael Nichols",
           "Toronto",
           "EST",
           "CAN"
          ],
          [
           "Emily Bruce",
           10,
           true,
           "person",
           "Emily Bruce",
           "2021-04-12",
           [
            "Part Time"
           ],
           [
            "Scala"
           ],
           "Alexandria Dodson",
           "Product",
           "Manager",
           {
            "city": "Toronto",
            "country": "CAN",
            "tz": "EST"
           },
           1,
           "Jordan White",
           "Toronto",
           "EST",
           "CAN"
          ],
          [
           "Leah Peterson",
           10,
           true,
           "person",
           "Leah Peterson",
           "2021-04-03",
           [
            "Part Time"
           ],
           [
            "Typescript",
            "Go"
           ],
           "Maria Nichols",
           "Sales",
           "Associate",
           {
            "city": "Toronto",
            "country": "CAN",
            "tz": "EST"
           },
           0,
           "Lori Green",
           "Toronto",
           "EST",
           "CAN"
          ],
          [
           "Katherine Cooper",
           10,
           true,
           "person",
           "Katherine Cooper",
           "2020-06-03",
           [
            "Part Time"
           ],
           [],
           "Maria Nichols",
           "Sales",
           "Associate",
           {
            "city": "Toronto",
            "country": "CAN",
            "tz": "EST"
           },
           0,
           "Michael Nichols",
           "Toronto",
           "EST",
           "CAN"
          ],
          [
           "Larry Warren",
           10,
           true,
           "person",
           "Larry Warren",
           "2021-04-09",
           [
            "Full Time"
           ],
           [],
           "Maria Nichols",
           "Sales",
           "Associate",
           {
            "city": "Toronto",
            "country": "CAN",
            "tz": "EST"
           },
           0,
           "Michael Nichols",
           "Toronto",
           "EST",
           "CAN"
          ],
          [
           "Debra Olson",
           10,
           true,
           "person",
           "Debra Olson",
           "2021-05-22",
           [
            "Part Time"
           ],
           [
            "Python"
           ],
           "Maria Nichols",
           "Sales",
           "Associate",
           {
            "city": "Toronto",
            "country": "CAN",
            "tz": "EST"
           },
           0,
           "Michael Nichols",
           "Toronto",
           "EST",
           "CAN"
          ],
          [
           "Andre Choi",
           10,
           true,
           "person",
           "Andre Choi",
           "2022-09-06",
           [
            "Part Time"
           ],
           [],
           "Maria Nichols",
           "Sales",
           "Associate",
           {
            "city": "Toronto",
            "country": "CAN",
            "tz": "EST"
           },
           0,
           "Michael Nichols",
           "Toronto",
           "EST",
           "CAN"
          ],
          [
           "Stephen Hanna",
           10,
           true,
           "person",
           "Stephen Hanna",
           "2020-09-08",
           [
            "F",
            "u",
            "l",
            "l",
            " ",
            "T",
            "i",
            "m",
            "e"
           ],
           [
            "Python"
           ],
           "Stephen Hanna",
           "CEO",
           "CEO",
           {
            "city": "Toronto",
            "country": "CAN",
            "tz": "EST"
           },
           6,
           null,
           "Toronto",
           "EST",
           "CAN"
          ]
         ],
         "hovertemplate": "<b>%{hovertext}</b><br><br>country=%{customdata[16]}<br>x=%{x}<br>y=%{y}<br>size=%{customdata[1]}<br>label=%{customdata[0]}<br>person=%{customdata[2]}<br>type=%{customdata[3]}<br>name=%{customdata[4]}<br>hire_date=%{customdata[5]}<br>status=%{customdata[6]}<br>languages=%{customdata[7]}<br>manager=%{customdata[8]}<br>team=%{customdata[9]}<br>title=%{customdata[10]}<br>location=%{customdata[11]}<br>rank=%{customdata[12]}<br>peoplemanager=%{customdata[13]}<br>city=%{customdata[14]}<br>tz=%{customdata[15]}<extra></extra>",
         "hovertext": [
          "Colleen Hanson",
          "Nancy Riley",
          "Thomas Hansen",
          "George Short",
          "Carolyn Miller",
          "Lori Green",
          "Anita Wilson",
          "Deborah Solis",
          "Krystal Sellers",
          "Matthew Rogers",
          "Thomas Haley",
          "Julie Padilla",
          "Tim Smith",
          "Debbie Young",
          "Sarah Robertson",
          "Rebecca Hubbard",
          "Isaiah Hill",
          "Alexandria Dodson",
          "Keith Bailey",
          "Robert Ford",
          "Ronald Lowery",
          "Emily Bruce",
          "Leah Peterson",
          "Katherine Cooper",
          "Larry Warren",
          "Debra Olson",
          "Andre Choi",
          "Stephen Hanna"
         ],
         "legendgroup": "CAN",
         "marker": {
          "color": "#00cc96",
          "size": [
           10,
           10,
           10,
           10,
           10,
           10,
           10,
           10,
           10,
           10,
           10,
           10,
           10,
           10,
           10,
           10,
           10,
           10,
           10,
           10,
           10,
           10,
           10,
           10,
           10,
           10,
           10,
           10
          ],
          "sizemode": "area",
          "sizeref": 0.025,
          "symbol": "circle"
         },
         "mode": "markers",
         "name": "CAN",
         "orientation": "v",
         "showlegend": true,
         "type": "scatter",
         "x": [
          -0.05315244103547945,
          0.17388546237033792,
          -0.17824490897928674,
          -0.23786455288703157,
          0.37547129322625394,
          0.1901185734681189,
          0.2554283336336916,
          0.04798019342817167,
          0.41169423345392264,
          0.0877181726503218,
          -0.13391342717866664,
          0.24929172951147943,
          0.28305816634763153,
          -0.1784273964348001,
          0.19934484217472678,
          -0.06502320314117531,
          0.04493380670208632,
          0.11319748974088306,
          0.10914963466740134,
          0.18254519022967897,
          0.08108773591506414,
          0.1602645218330885,
          0.45857082403067134,
          0.5357909942600632,
          0.62425028230049,
          0.49639071313554295,
          0.6159599380927947,
          0.019818025554729998
         ],
         "xaxis": "x",
         "y": [
          0.3932575803610806,
          -0.43139242987445153,
          0.13498410994684315,
          0.18713007561600684,
          0.25093718516535957,
          0.07797964565437573,
          0.11323361106827187,
          -0.1662776769538206,
          0.1663376421258608,
          -0.4229372802126948,
          -0.578649077021793,
          -0.2109186648163876,
          -0.27147975977175454,
          -0.6630851540580206,
          -0.46894621738152786,
          -0.6953609837515426,
          -0.782624981265808,
          0.3936127519792169,
          0.5060216679473322,
          0.45568386806897704,
          0.4850928699608761,
          0.6373899976830333,
          -0.2190971129105099,
          -0.06170725106188785,
          -0.1380077306810337,
          -0.08514064434853655,
          -0.10726169459780037,
          0.0368132677820774
         ],
         "yaxis": "y"
        },
        {
         "customdata": [
          [
           "Kelli Fernandez",
           10,
           true,
           "person",
           "Kelli Fernandez",
           "2022-07-21",
           [
            "Contract"
           ],
           [
            "JavaScript",
            "Java"
           ],
           "Stephen Hanna",
           "DevOps",
           "Senior Engineer",
           {
            "city": "Dublin",
            "country": "IRL",
            "tz": "UTC"
           },
           1,
           "Maria Nichols",
           "Dublin",
           "UTC",
           "IRL"
          ],
          [
           "Andrew Barrett",
           10,
           true,
           "person",
           "Andrew Barrett",
           "2020-11-14",
           [
            "Contract"
           ],
           [
            "Python",
            "Typescript",
            "Go"
           ],
           "Kelli Fernandez",
           "DevOps",
           "Senior Engineer",
           {
            "city": "Dublin",
            "country": "IRL",
            "tz": "UTC"
           },
           1,
           "Kristi Ball",
           "Dublin",
           "UTC",
           "IRL"
          ],
          [
           "Tammie Willis",
           10,
           true,
           "person",
           "Tammie Willis",
           "2021-07-04",
           [
            "Contract"
           ],
           [
            "Java"
           ],
           "Kelli Fernandez",
           "DevOps",
           "Senior Engineer",
           {
            "city": "Dublin",
            "country": "IRL",
            "tz": "UTC"
           },
           1,
           "Brian Brown",
           "Dublin",
           "UTC",
           "IRL"
          ],
          [
           "Ashley Hansen",
           10,
           true,
           "person",
           "Ashley Hansen",
           "2023-04-06",
           [
            "Part Time"
           ],
           [
            "Java"
           ],
           "Kelli Fernandez",
           "DevOps",
           "Senior Engineer",
           {
            "city": "Dublin",
            "country": "IRL",
            "tz": "UTC"
           },
           1,
           "Anthony Powers",
           "Dublin",
           "UTC",
           "IRL"
          ],
          [
           "Matthew Johnson",
           10,
           true,
           "person",
           "Matthew Johnson",
           "2022-09-30",
           [
            "Full Time"
           ],
           [
            "Python",
            "Typescript",
            "JavaScript"
           ],
           "Kelli Fernandez",
           "DevOps",
           "Senior Engineer",
           {
            "city": "Dublin",
            "country": "IRL",
            "tz": "UTC"
           },
           1,
           "Charles Smith",
           "Dublin",
           "UTC",
           "IRL"
          ],
          [
           "Susan Humphrey",
           10,
           true,
           "person",
           "Susan Humphrey",
           "2022-09-27",
           [
            "Part Time"
           ],
           [
            "JavaScript"
           ],
           "Kelli Fernandez",
           "DevOps",
           "Senior Engineer",
           {
            "city": "Dublin",
            "country": "IRL",
            "tz": "UTC"
           },
           1,
           "Charles Smith",
           "Dublin",
           "UTC",
           "IRL"
          ],
          [
           "Jennifer Payne",
           10,
           true,
           "person",
           "Jennifer Payne",
           "2021-04-13",
           [
            "Part Time"
           ],
           [
            "Python",
            "JavaScript",
            "Java",
            "Erlang"
           ],
           "Kelli Fernandez",
           "DevOps",
           "Manager",
           {
            "city": "Dublin",
            "country": "IRL",
            "tz": "UTC"
           },
           2,
           "Michael Wong",
           "Dublin",
           "UTC",
           "IRL"
          ],
          [
           "Richard Mendez",
           10,
           true,
           "person",
           "Richard Mendez",
           "2021-09-14",
           [
            "Contract"
           ],
           [
            "Typescript"
           ],
           "Kelli Fernandez",
           "DevOps",
           "Manager",
           {
            "city": "Dublin",
            "country": "IRL",
            "tz": "UTC"
           },
           2,
           "Jose Key",
           "Dublin",
           "UTC",
           "IRL"
          ],
          [
           "Lisa Wright",
           10,
           true,
           "person",
           "Lisa Wright",
           "2021-10-10",
           [
            "Contract"
           ],
           [
            "Python",
            "JavaScript",
            "Java"
           ],
           "Ashley Hansen",
           "DevOps",
           "Manager",
           {
            "city": "Dublin",
            "country": "IRL",
            "tz": "UTC"
           },
           2,
           "Nathan Brown",
           "Dublin",
           "UTC",
           "IRL"
          ],
          [
           "Kelly Wilson",
           10,
           true,
           "person",
           "Kelly Wilson",
           "2022-09-02",
           [
            "Part Time"
           ],
           [
            "Python",
            "Java"
           ],
           "Ashley Hansen",
           "DevOps",
           "Manager",
           {
            "city": "Dublin",
            "country": "IRL",
            "tz": "UTC"
           },
           2,
           "Nathan Brown",
           "Dublin",
           "UTC",
           "IRL"
          ],
          [
           "Emily Johnson",
           10,
           true,
           "person",
           "Emily Johnson",
           "2023-02-12",
           [
            "Contract"
           ],
           [
            "Typescript",
            "Scala",
            "Java"
           ],
           "Ashley Hansen",
           "DevOps",
           "Manager",
           {
            "city": "Dublin",
            "country": "IRL",
            "tz": "UTC"
           },
           2,
           "Justin Rowe",
           "Dublin",
           "UTC",
           "IRL"
          ],
          [
           "Samantha Scott",
           10,
           true,
           "person",
           "Samantha Scott",
           "2021-06-23",
           [
            "Contract"
           ],
           [
            "Python",
            "JavaScript",
            "Java"
           ],
           "Stephen Hanna",
           "Support",
           "Analyst",
           {
            "city": "Dublin",
            "country": "IRL",
            "tz": "UTC"
           },
           0,
           "Michael Nichols",
           "Dublin",
           "UTC",
           "IRL"
          ],
          [
           "Carol Ho",
           10,
           true,
           "person",
           "Carol Ho",
           "2020-11-11",
           [
            "Part Time"
           ],
           [
            "Python",
            "Go",
            "JavaScript"
           ],
           "Samantha Scott",
           "Support",
           "Analyst",
           {
            "city": "Dublin",
            "country": "IRL",
            "tz": "UTC"
           },
           0,
           "Michael Nichols",
           "Dublin",
           "UTC",
           "IRL"
          ],
          [
           "Charles Smith",
           10,
           true,
           "person",
           "Charles Smith",
           "2022-11-22",
           [
            "Part Time"
           ],
           [
            "Python",
            "Scala",
            "Go",
            "JavaScript"
           ],
           "Samantha Scott",
           "Support",
           "Analyst",
           {
            "city": "Dublin",
            "country": "IRL",
            "tz": "UTC"
           },
           0,
           "Michael Nichols",
           "Dublin",
           "UTC",
           "IRL"
          ],
          [
           "Teresa Powell",
           10,
           true,
           "person",
           "Teresa Powell",
           "2021-02-05",
           [
            "Part Time"
           ],
           [
            "Python"
           ],
           "Stephen Hanna",
           "Support",
           "Manager",
           {
            "city": "Dublin",
            "country": "IRL",
            "tz": "UTC"
           },
           1,
           "Deborah Solis",
           "Dublin",
           "UTC",
           "IRL"
          ],
          [
           "Michael Wong",
           10,
           true,
           "person",
           "Michael Wong",
           "2021-08-15",
           [
            "Full Time"
           ],
           [],
           "Teresa Powell",
           "Support",
           "Manager",
           {
            "city": "Dublin",
            "country": "IRL",
            "tz": "UTC"
           },
           1,
           "Leah Peterson",
           "Dublin",
           "UTC",
           "IRL"
          ],
          [
           "Jose Key",
           10,
           true,
           "person",
           "Jose Key",
           "2021-03-04",
           [
            "Full Time"
           ],
           [
            "Python",
            "Scala",
            "JavaScript"
           ],
           "Teresa Powell",
           "Support",
           "Manager",
           {
            "city": "Dublin",
            "country": "IRL",
            "tz": "UTC"
           },
           1,
           "Nathan Blair",
           "Dublin",
           "UTC",
           "IRL"
          ],
          [
           "Kelly Jacobs",
           10,
           true,
           "person",
           "Kelly Jacobs",
           "2020-12-12",
           [
            "Full Time"
           ],
           [
            "Typescript",
            "JavaScript",
            "Java"
           ],
           "Teresa Powell",
           "Support",
           "Manager",
           {
            "city": "Dublin",
            "country": "IRL",
            "tz": "UTC"
           },
           1,
           "Kristi Ball",
           "Dublin",
           "UTC",
           "IRL"
          ],
          [
           "Amanda Harvey",
           10,
           true,
           "person",
           "Amanda Harvey",
           "2020-12-12",
           [
            "Full Time"
           ],
           [
            "Python"
           ],
           "Teresa Powell",
           "Support",
           "Manager",
           {
            "city": "Dublin",
            "country": "IRL",
            "tz": "UTC"
           },
           1,
           "Mrs. Kathryn Todd MD",
           "Dublin",
           "UTC",
           "IRL"
          ],
          [
           "Nathan Brown",
           10,
           true,
           "person",
           "Nathan Brown",
           "2020-06-08",
           [
            "Contract"
           ],
           [
            "Typescript",
            "JavaScript",
            "Java"
           ],
           "Teresa Powell",
           "Support",
           "Manager",
           {
            "city": "Dublin",
            "country": "IRL",
            "tz": "UTC"
           },
           1,
           "Ronald Smith",
           "Dublin",
           "UTC",
           "IRL"
          ],
          [
           "Justin Rowe",
           10,
           true,
           "person",
           "Justin Rowe",
           "2022-08-22",
           [
            "Contract"
           ],
           [
            "JavaScript"
           ],
           "Carol Ho",
           "Support",
           "Manager",
           {
            "city": "Dublin",
            "country": "IRL",
            "tz": "UTC"
           },
           1,
           "Carol Ho",
           "Dublin",
           "UTC",
           "IRL"
          ],
          [
           "Gregory Le",
           10,
           true,
           "person",
           "Gregory Le",
           "2020-09-23",
           [
            "Contract"
           ],
           [
            "Java"
           ],
           "Charles Smith",
           "Support",
           "Manager",
           {
            "city": "Dublin",
            "country": "IRL",
            "tz": "UTC"
           },
           1,
           "Charles Smith",
           "Dublin",
           "UTC",
           "IRL"
          ]
         ],
         "hovertemplate": "<b>%{hovertext}</b><br><br>country=%{customdata[16]}<br>x=%{x}<br>y=%{y}<br>size=%{customdata[1]}<br>label=%{customdata[0]}<br>person=%{customdata[2]}<br>type=%{customdata[3]}<br>name=%{customdata[4]}<br>hire_date=%{customdata[5]}<br>status=%{customdata[6]}<br>languages=%{customdata[7]}<br>manager=%{customdata[8]}<br>team=%{customdata[9]}<br>title=%{customdata[10]}<br>location=%{customdata[11]}<br>rank=%{customdata[12]}<br>peoplemanager=%{customdata[13]}<br>city=%{customdata[14]}<br>tz=%{customdata[15]}<extra></extra>",
         "hovertext": [
          "Kelli Fernandez",
          "Andrew Barrett",
          "Tammie Willis",
          "Ashley Hansen",
          "Matthew Johnson",
          "Susan Humphrey",
          "Jennifer Payne",
          "Richard Mendez",
          "Lisa Wright",
          "Kelly Wilson",
          "Emily Johnson",
          "Samantha Scott",
          "Carol Ho",
          "Charles Smith",
          "Teresa Powell",
          "Michael Wong",
          "Jose Key",
          "Kelly Jacobs",
          "Amanda Harvey",
          "Nathan Brown",
          "Justin Rowe",
          "Gregory Le"
         ],
         "legendgroup": "IRL",
         "marker": {
          "color": "#ab63fa",
          "size": [
           10,
           10,
           10,
           10,
           10,
           10,
           10,
           10,
           10,
           10,
           10,
           10,
           10,
           10,
           10,
           10,
           10,
           10,
           10,
           10,
           10,
           10
          ],
          "sizemode": "area",
          "sizeref": 0.025,
          "symbol": "circle"
         },
         "mode": "markers",
         "name": "IRL",
         "orientation": "v",
         "showlegend": true,
         "type": "scatter",
         "x": [
          -0.18942975782200125,
          -0.2903186900148215,
          -0.24624799335509462,
          -0.31283515742185825,
          -0.2331744216907428,
          -0.2720959986517382,
          -0.20168489913291165,
          -0.27454949174210275,
          -0.35012450488442165,
          -0.40149686358951375,
          -0.38195662911141226,
          0.14945518448052295,
          0.2597663152967446,
          0.22375322758759814,
          -0.051526550609904485,
          -0.032853984248609906,
          -0.10882647616318003,
          -0.1155355092951345,
          -0.05528635817470472,
          -0.09336098531105837,
          0.3456774423138369,
          0.29206809640583037
         ],
         "xaxis": "x",
         "y": [
          -0.20894068689850398,
          -0.2467284859397572,
          -0.30787909259397467,
          -0.3868302896794007,
          -0.2734441807516641,
          -0.21725929882300693,
          -0.30684158052152904,
          -0.27702028960881864,
          -0.4890030751747786,
          -0.45052046841145016,
          -0.47866805939459056,
          0.18257358398308027,
          0.2767837300376948,
          0.280522801769613,
          -0.11048046273768654,
          -0.17070486064835966,
          -0.15349496605694748,
          -0.1046272223427105,
          -0.20675048536183427,
          -0.1985301552602275,
          0.349998232326308,
          0.35404763038161735
         ],
         "yaxis": "y"
        }
       ],
       "layout": {
        "legend": {
         "itemsizing": "constant",
         "title": {
          "text": "country"
         },
         "tracegroupgap": 0
        },
        "margin": {
         "t": 60
        },
        "template": {
         "data": {
          "bar": [
           {
            "error_x": {
             "color": "#f2f5fa"
            },
            "error_y": {
             "color": "#f2f5fa"
            },
            "marker": {
             "line": {
              "color": "rgb(17,17,17)",
              "width": 0.5
             },
             "pattern": {
              "fillmode": "overlay",
              "size": 10,
              "solidity": 0.2
             }
            },
            "type": "bar"
           }
          ],
          "barpolar": [
           {
            "marker": {
             "line": {
              "color": "rgb(17,17,17)",
              "width": 0.5
             },
             "pattern": {
              "fillmode": "overlay",
              "size": 10,
              "solidity": 0.2
             }
            },
            "type": "barpolar"
           }
          ],
          "carpet": [
           {
            "aaxis": {
             "endlinecolor": "#A2B1C6",
             "gridcolor": "#506784",
             "linecolor": "#506784",
             "minorgridcolor": "#506784",
             "startlinecolor": "#A2B1C6"
            },
            "baxis": {
             "endlinecolor": "#A2B1C6",
             "gridcolor": "#506784",
             "linecolor": "#506784",
             "minorgridcolor": "#506784",
             "startlinecolor": "#A2B1C6"
            },
            "type": "carpet"
           }
          ],
          "choropleth": [
           {
            "colorbar": {
             "outlinewidth": 0,
             "ticks": ""
            },
            "type": "choropleth"
           }
          ],
          "contour": [
           {
            "colorbar": {
             "outlinewidth": 0,
             "ticks": ""
            },
            "colorscale": [
             [
              0,
              "#0d0887"
             ],
             [
              0.1111111111111111,
              "#46039f"
             ],
             [
              0.2222222222222222,
              "#7201a8"
             ],
             [
              0.3333333333333333,
              "#9c179e"
             ],
             [
              0.4444444444444444,
              "#bd3786"
             ],
             [
              0.5555555555555556,
              "#d8576b"
             ],
             [
              0.6666666666666666,
              "#ed7953"
             ],
             [
              0.7777777777777778,
              "#fb9f3a"
             ],
             [
              0.8888888888888888,
              "#fdca26"
             ],
             [
              1,
              "#f0f921"
             ]
            ],
            "type": "contour"
           }
          ],
          "contourcarpet": [
           {
            "colorbar": {
             "outlinewidth": 0,
             "ticks": ""
            },
            "type": "contourcarpet"
           }
          ],
          "heatmap": [
           {
            "colorbar": {
             "outlinewidth": 0,
             "ticks": ""
            },
            "colorscale": [
             [
              0,
              "#0d0887"
             ],
             [
              0.1111111111111111,
              "#46039f"
             ],
             [
              0.2222222222222222,
              "#7201a8"
             ],
             [
              0.3333333333333333,
              "#9c179e"
             ],
             [
              0.4444444444444444,
              "#bd3786"
             ],
             [
              0.5555555555555556,
              "#d8576b"
             ],
             [
              0.6666666666666666,
              "#ed7953"
             ],
             [
              0.7777777777777778,
              "#fb9f3a"
             ],
             [
              0.8888888888888888,
              "#fdca26"
             ],
             [
              1,
              "#f0f921"
             ]
            ],
            "type": "heatmap"
           }
          ],
          "heatmapgl": [
           {
            "colorbar": {
             "outlinewidth": 0,
             "ticks": ""
            },
            "colorscale": [
             [
              0,
              "#0d0887"
             ],
             [
              0.1111111111111111,
              "#46039f"
             ],
             [
              0.2222222222222222,
              "#7201a8"
             ],
             [
              0.3333333333333333,
              "#9c179e"
             ],
             [
              0.4444444444444444,
              "#bd3786"
             ],
             [
              0.5555555555555556,
              "#d8576b"
             ],
             [
              0.6666666666666666,
              "#ed7953"
             ],
             [
              0.7777777777777778,
              "#fb9f3a"
             ],
             [
              0.8888888888888888,
              "#fdca26"
             ],
             [
              1,
              "#f0f921"
             ]
            ],
            "type": "heatmapgl"
           }
          ],
          "histogram": [
           {
            "marker": {
             "pattern": {
              "fillmode": "overlay",
              "size": 10,
              "solidity": 0.2
             }
            },
            "type": "histogram"
           }
          ],
          "histogram2d": [
           {
            "colorbar": {
             "outlinewidth": 0,
             "ticks": ""
            },
            "colorscale": [
             [
              0,
              "#0d0887"
             ],
             [
              0.1111111111111111,
              "#46039f"
             ],
             [
              0.2222222222222222,
              "#7201a8"
             ],
             [
              0.3333333333333333,
              "#9c179e"
             ],
             [
              0.4444444444444444,
              "#bd3786"
             ],
             [
              0.5555555555555556,
              "#d8576b"
             ],
             [
              0.6666666666666666,
              "#ed7953"
             ],
             [
              0.7777777777777778,
              "#fb9f3a"
             ],
             [
              0.8888888888888888,
              "#fdca26"
             ],
             [
              1,
              "#f0f921"
             ]
            ],
            "type": "histogram2d"
           }
          ],
          "histogram2dcontour": [
           {
            "colorbar": {
             "outlinewidth": 0,
             "ticks": ""
            },
            "colorscale": [
             [
              0,
              "#0d0887"
             ],
             [
              0.1111111111111111,
              "#46039f"
             ],
             [
              0.2222222222222222,
              "#7201a8"
             ],
             [
              0.3333333333333333,
              "#9c179e"
             ],
             [
              0.4444444444444444,
              "#bd3786"
             ],
             [
              0.5555555555555556,
              "#d8576b"
             ],
             [
              0.6666666666666666,
              "#ed7953"
             ],
             [
              0.7777777777777778,
              "#fb9f3a"
             ],
             [
              0.8888888888888888,
              "#fdca26"
             ],
             [
              1,
              "#f0f921"
             ]
            ],
            "type": "histogram2dcontour"
           }
          ],
          "mesh3d": [
           {
            "colorbar": {
             "outlinewidth": 0,
             "ticks": ""
            },
            "type": "mesh3d"
           }
          ],
          "parcoords": [
           {
            "line": {
             "colorbar": {
              "outlinewidth": 0,
              "ticks": ""
             }
            },
            "type": "parcoords"
           }
          ],
          "pie": [
           {
            "automargin": true,
            "type": "pie"
           }
          ],
          "scatter": [
           {
            "marker": {
             "line": {
              "color": "#283442"
             }
            },
            "type": "scatter"
           }
          ],
          "scatter3d": [
           {
            "line": {
             "colorbar": {
              "outlinewidth": 0,
              "ticks": ""
             }
            },
            "marker": {
             "colorbar": {
              "outlinewidth": 0,
              "ticks": ""
             }
            },
            "type": "scatter3d"
           }
          ],
          "scattercarpet": [
           {
            "marker": {
             "colorbar": {
              "outlinewidth": 0,
              "ticks": ""
             }
            },
            "type": "scattercarpet"
           }
          ],
          "scattergeo": [
           {
            "marker": {
             "colorbar": {
              "outlinewidth": 0,
              "ticks": ""
             }
            },
            "type": "scattergeo"
           }
          ],
          "scattergl": [
           {
            "marker": {
             "line": {
              "color": "#283442"
             }
            },
            "type": "scattergl"
           }
          ],
          "scattermapbox": [
           {
            "marker": {
             "colorbar": {
              "outlinewidth": 0,
              "ticks": ""
             }
            },
            "type": "scattermapbox"
           }
          ],
          "scatterpolar": [
           {
            "marker": {
             "colorbar": {
              "outlinewidth": 0,
              "ticks": ""
             }
            },
            "type": "scatterpolar"
           }
          ],
          "scatterpolargl": [
           {
            "marker": {
             "colorbar": {
              "outlinewidth": 0,
              "ticks": ""
             }
            },
            "type": "scatterpolargl"
           }
          ],
          "scatterternary": [
           {
            "marker": {
             "colorbar": {
              "outlinewidth": 0,
              "ticks": ""
             }
            },
            "type": "scatterternary"
           }
          ],
          "surface": [
           {
            "colorbar": {
             "outlinewidth": 0,
             "ticks": ""
            },
            "colorscale": [
             [
              0,
              "#0d0887"
             ],
             [
              0.1111111111111111,
              "#46039f"
             ],
             [
              0.2222222222222222,
              "#7201a8"
             ],
             [
              0.3333333333333333,
              "#9c179e"
             ],
             [
              0.4444444444444444,
              "#bd3786"
             ],
             [
              0.5555555555555556,
              "#d8576b"
             ],
             [
              0.6666666666666666,
              "#ed7953"
             ],
             [
              0.7777777777777778,
              "#fb9f3a"
             ],
             [
              0.8888888888888888,
              "#fdca26"
             ],
             [
              1,
              "#f0f921"
             ]
            ],
            "type": "surface"
           }
          ],
          "table": [
           {
            "cells": {
             "fill": {
              "color": "#506784"
             },
             "line": {
              "color": "rgb(17,17,17)"
             }
            },
            "header": {
             "fill": {
              "color": "#2a3f5f"
             },
             "line": {
              "color": "rgb(17,17,17)"
             }
            },
            "type": "table"
           }
          ]
         },
         "layout": {
          "annotationdefaults": {
           "arrowcolor": "#f2f5fa",
           "arrowhead": 0,
           "arrowwidth": 1
          },
          "autotypenumbers": "strict",
          "coloraxis": {
           "colorbar": {
            "outlinewidth": 0,
            "ticks": ""
           }
          },
          "colorscale": {
           "diverging": [
            [
             0,
             "#8e0152"
            ],
            [
             0.1,
             "#c51b7d"
            ],
            [
             0.2,
             "#de77ae"
            ],
            [
             0.3,
             "#f1b6da"
            ],
            [
             0.4,
             "#fde0ef"
            ],
            [
             0.5,
             "#f7f7f7"
            ],
            [
             0.6,
             "#e6f5d0"
            ],
            [
             0.7,
             "#b8e186"
            ],
            [
             0.8,
             "#7fbc41"
            ],
            [
             0.9,
             "#4d9221"
            ],
            [
             1,
             "#276419"
            ]
           ],
           "sequential": [
            [
             0,
             "#0d0887"
            ],
            [
             0.1111111111111111,
             "#46039f"
            ],
            [
             0.2222222222222222,
             "#7201a8"
            ],
            [
             0.3333333333333333,
             "#9c179e"
            ],
            [
             0.4444444444444444,
             "#bd3786"
            ],
            [
             0.5555555555555556,
             "#d8576b"
            ],
            [
             0.6666666666666666,
             "#ed7953"
            ],
            [
             0.7777777777777778,
             "#fb9f3a"
            ],
            [
             0.8888888888888888,
             "#fdca26"
            ],
            [
             1,
             "#f0f921"
            ]
           ],
           "sequentialminus": [
            [
             0,
             "#0d0887"
            ],
            [
             0.1111111111111111,
             "#46039f"
            ],
            [
             0.2222222222222222,
             "#7201a8"
            ],
            [
             0.3333333333333333,
             "#9c179e"
            ],
            [
             0.4444444444444444,
             "#bd3786"
            ],
            [
             0.5555555555555556,
             "#d8576b"
            ],
            [
             0.6666666666666666,
             "#ed7953"
            ],
            [
             0.7777777777777778,
             "#fb9f3a"
            ],
            [
             0.8888888888888888,
             "#fdca26"
            ],
            [
             1,
             "#f0f921"
            ]
           ]
          },
          "colorway": [
           "#636efa",
           "#EF553B",
           "#00cc96",
           "#ab63fa",
           "#FFA15A",
           "#19d3f3",
           "#FF6692",
           "#B6E880",
           "#FF97FF",
           "#FECB52"
          ],
          "font": {
           "color": "#f2f5fa"
          },
          "geo": {
           "bgcolor": "rgb(17,17,17)",
           "lakecolor": "rgb(17,17,17)",
           "landcolor": "rgb(17,17,17)",
           "showlakes": true,
           "showland": true,
           "subunitcolor": "#506784"
          },
          "hoverlabel": {
           "align": "left"
          },
          "hovermode": "closest",
          "mapbox": {
           "style": "dark"
          },
          "paper_bgcolor": "rgb(17,17,17)",
          "plot_bgcolor": "rgb(17,17,17)",
          "polar": {
           "angularaxis": {
            "gridcolor": "#506784",
            "linecolor": "#506784",
            "ticks": ""
           },
           "bgcolor": "rgb(17,17,17)",
           "radialaxis": {
            "gridcolor": "#506784",
            "linecolor": "#506784",
            "ticks": ""
           }
          },
          "scene": {
           "xaxis": {
            "backgroundcolor": "rgb(17,17,17)",
            "gridcolor": "#506784",
            "gridwidth": 2,
            "linecolor": "#506784",
            "showbackground": true,
            "ticks": "",
            "zerolinecolor": "#C8D4E3"
           },
           "yaxis": {
            "backgroundcolor": "rgb(17,17,17)",
            "gridcolor": "#506784",
            "gridwidth": 2,
            "linecolor": "#506784",
            "showbackground": true,
            "ticks": "",
            "zerolinecolor": "#C8D4E3"
           },
           "zaxis": {
            "backgroundcolor": "rgb(17,17,17)",
            "gridcolor": "#506784",
            "gridwidth": 2,
            "linecolor": "#506784",
            "showbackground": true,
            "ticks": "",
            "zerolinecolor": "#C8D4E3"
           }
          },
          "shapedefaults": {
           "line": {
            "color": "#f2f5fa"
           }
          },
          "sliderdefaults": {
           "bgcolor": "#C8D4E3",
           "bordercolor": "rgb(17,17,17)",
           "borderwidth": 1,
           "tickwidth": 0
          },
          "ternary": {
           "aaxis": {
            "gridcolor": "#506784",
            "linecolor": "#506784",
            "ticks": ""
           },
           "baxis": {
            "gridcolor": "#506784",
            "linecolor": "#506784",
            "ticks": ""
           },
           "bgcolor": "rgb(17,17,17)",
           "caxis": {
            "gridcolor": "#506784",
            "linecolor": "#506784",
            "ticks": ""
           }
          },
          "title": {
           "x": 0.05
          },
          "updatemenudefaults": {
           "bgcolor": "#506784",
           "borderwidth": 0
          },
          "xaxis": {
           "automargin": true,
           "gridcolor": "#283442",
           "linecolor": "#506784",
           "ticks": "",
           "title": {
            "standoff": 15
           },
           "zerolinecolor": "#283442",
           "zerolinewidth": 2
          },
          "yaxis": {
           "automargin": true,
           "gridcolor": "#283442",
           "linecolor": "#506784",
           "ticks": "",
           "title": {
            "standoff": 15
           },
           "zerolinecolor": "#283442",
           "zerolinewidth": 2
          }
         }
        },
        "xaxis": {
         "visible": false
        },
        "yaxis": {
         "visible": false
        }
       }
      }
     },
     "metadata": {},
     "output_type": "display_data"
    }
   ],
   "source": [
    "from functools import partial\n",
    "# layout = partial(nx.spring_layout,k=0.2, iterations=20) # or customize how the layout is generated\n",
    "px_plot_nx(G, color=\"country\", hover_name=\"name\", template=\"plotly_dark\")#,text=\"label\")"
   ]
  },
  {
   "cell_type": "code",
   "execution_count": 126,
   "id": "d5dc6ae8",
   "metadata": {},
   "outputs": [
    {
     "name": "stdout",
     "output_type": "stream",
     "text": [
      "Coercing column 'status' to `list`\n",
      "Coercing column 'languages' to `list`\n"
     ]
    },
    {
     "data": {
      "application/vnd.plotly.v1+json": {
       "config": {
        "plotlyServerURL": "https://plot.ly"
       },
       "data": [
        {
         "customdata": [
          [
           "Michael Nichols",
           10,
           true,
           "person",
           "Michael Nichols",
           "2021-07-27",
           [
            "Full Time"
           ],
           [],
           "Stephen Hanna",
           "Business",
           "Analyst",
           {
            "city": "London",
            "country": "GBR",
            "tz": "UTC"
           },
           0,
           "Kimberly Casey",
           "London",
           "UTC",
           "GBR"
          ],
          [
           "Jeffery Ali",
           10,
           true,
           "person",
           "Jeffery Ali",
           "2020-08-05",
           [
            "Full Time"
           ],
           [
            "Typescript",
            "JavaScript"
           ],
           "Michael Nichols",
           "Business",
           "Associate",
           {
            "city": "London",
            "country": "GBR",
            "tz": "UTC"
           },
           1,
           "Ryan Patterson",
           "London",
           "UTC",
           "GBR"
          ],
          [
           "Darius Suarez",
           10,
           true,
           "person",
           "Darius Suarez",
           "2020-09-29",
           [
            "Part Time"
           ],
           [
            "JavaScript"
           ],
           "Mr. Benjamin May",
           "Business",
           "Associate",
           {
            "city": "London",
            "country": "GBR",
            "tz": "UTC"
           },
           1,
           "Katherine Cooper",
           "London",
           "UTC",
           "GBR"
          ],
          [
           "Maria Carter",
           10,
           true,
           "person",
           "Maria Carter",
           "2020-05-19",
           [
            "Full Time"
           ],
           [
            "Scala"
           ],
           "Mr. Benjamin May",
           "Business",
           "Associate",
           {
            "city": "London",
            "country": "GBR",
            "tz": "UTC"
           },
           1,
           "Mrs. Kathryn Todd MD",
           "London",
           "UTC",
           "GBR"
          ],
          [
           "Kelly Blair",
           10,
           true,
           "person",
           "Kelly Blair",
           "2023-02-21",
           [
            "Full Time"
           ],
           [
            "Typescript",
            "Go"
           ],
           "Katie Jensen",
           "Business",
           "Associate",
           {
            "city": "London",
            "country": "GBR",
            "tz": "UTC"
           },
           1,
           "Carol Ho",
           "London",
           "UTC",
           "GBR"
          ],
          [
           "Kathy Johnson",
           10,
           true,
           "person",
           "Kathy Johnson",
           "2020-08-31",
           [
            "Contract"
           ],
           [
            "Python",
            "JavaScript",
            "Java"
           ],
           "Darius Suarez",
           "Business",
           "Vice President",
           {
            "city": "London",
            "country": "GBR",
            "tz": "UTC"
           },
           2,
           "Kelly Jacobs",
           "London",
           "UTC",
           "GBR"
          ],
          [
           "Katrina Daniels",
           10,
           true,
           "person",
           "Katrina Daniels",
           "2023-03-31",
           [
            "Full Time"
           ],
           [
            "Python"
           ],
           "Maria Carter",
           "Business",
           "Vice President",
           {
            "city": "London",
            "country": "GBR",
            "tz": "UTC"
           },
           2,
           "Nathan Brown",
           "London",
           "UTC",
           "GBR"
          ],
          [
           "Brian Daniels",
           10,
           true,
           "person",
           "Brian Daniels",
           "2021-12-23",
           [
            "Part Time"
           ],
           [
            "Typescript"
           ],
           "Rebecca Martinez",
           "Business",
           "Managing Director",
           {
            "city": "London",
            "country": "GBR",
            "tz": "UTC"
           },
           4,
           "Teresa Powell",
           "London",
           "UTC",
           "GBR"
          ],
          [
           "Mr. Preston Clark",
           10,
           true,
           "person",
           "Mr. Preston Clark",
           "2021-03-31",
           [
            "Contract"
           ],
           [],
           "Paul Parker",
           "Business",
           "Managing Director",
           {
            "city": "London",
            "country": "GBR",
            "tz": "UTC"
           },
           4,
           "Amanda Harvey",
           "London",
           "UTC",
           "GBR"
          ],
          [
           "Maria Nichols",
           10,
           true,
           "person",
           "Maria Nichols",
           "2021-05-18",
           [
            "Full Time"
           ],
           [
            "Python",
            "Java"
           ],
           "Stephen Hanna",
           "Sales",
           "Associate",
           {
            "city": "London",
            "country": "GBR",
            "tz": "UTC"
           },
           0,
           "Lori Green",
           "London",
           "UTC",
           "GBR"
          ],
          [
           "David Valentine",
           10,
           true,
           "person",
           "David Valentine",
           "2021-11-16",
           [
            "Part Time"
           ],
           [
            "Typescript",
            "JavaScript",
            "Python",
            "Scala",
            "Go",
            "Java"
           ],
           "Maria Nichols",
           "Sales",
           "Associate",
           {
            "city": "London",
            "country": "GBR",
            "tz": "UTC"
           },
           0,
           "Lori Green",
           "London",
           "UTC",
           "GBR"
          ],
          [
           "Casey Stanley",
           10,
           true,
           "person",
           "Casey Stanley",
           "2022-04-23",
           [
            "Contract"
           ],
           [
            "Python",
            "Go",
            "Java"
           ],
           "Maria Nichols",
           "Sales",
           "Associate",
           {
            "city": "London",
            "country": "GBR",
            "tz": "UTC"
           },
           0,
           "Lori Green",
           "London",
           "UTC",
           "GBR"
          ],
          [
           "Patricia Garcia",
           10,
           true,
           "person",
           "Patricia Garcia",
           "2022-12-29",
           [
            "Part Time"
           ],
           [
            "Typescript",
            "Go",
            "Java"
           ],
           "Maria Nichols",
           "Sales",
           "Associate",
           {
            "city": "London",
            "country": "GBR",
            "tz": "UTC"
           },
           0,
           "Lori Green",
           "London",
           "UTC",
           "GBR"
          ],
          [
           "Jordan White",
           10,
           true,
           "person",
           "Jordan White",
           "2023-03-04",
           [
            "Part Time"
           ],
           [
            "JavaScript",
            "Python",
            "Scala",
            "Erlang",
            "Java"
           ],
           "Maria Nichols",
           "Sales",
           "Associate",
           {
            "city": "London",
            "country": "GBR",
            "tz": "UTC"
           },
           0,
           "Kimberly Casey",
           "London",
           "UTC",
           "GBR"
          ],
          [
           "Nathan Blair",
           10,
           true,
           "person",
           "Nathan Blair",
           "2020-07-21",
           [
            "Part Time"
           ],
           [
            "Scala"
           ],
           "Maria Nichols",
           "Sales",
           "Associate",
           {
            "city": "London",
            "country": "GBR",
            "tz": "UTC"
           },
           0,
           "Kimberly Casey",
           "London",
           "UTC",
           "GBR"
          ],
          [
           "John Ramirez",
           10,
           true,
           "person",
           "John Ramirez",
           "2022-01-09",
           [
            "Part Time"
           ],
           [
            "Python",
            "Typescript",
            "JavaScript"
           ],
           "Maria Nichols",
           "Sales",
           "Associate",
           {
            "city": "London",
            "country": "GBR",
            "tz": "UTC"
           },
           0,
           "Kimberly Casey",
           "London",
           "UTC",
           "GBR"
          ],
          [
           "Kristi Ball",
           10,
           true,
           "person",
           "Kristi Ball",
           "2021-11-01",
           [
            "Part Time"
           ],
           [
            "Java"
           ],
           "Maria Nichols",
           "Sales",
           "Associate",
           {
            "city": "London",
            "country": "GBR",
            "tz": "UTC"
           },
           0,
           "Michael Nichols",
           "London",
           "UTC",
           "GBR"
          ],
          [
           "John Reese",
           10,
           true,
           "person",
           "John Reese",
           "2022-07-03",
           [
            "Full Time"
           ],
           [
            "Python",
            "Typescript",
            "Scala",
            "Go"
           ],
           "Maria Nichols",
           "Sales",
           "Associate",
           {
            "city": "London",
            "country": "GBR",
            "tz": "UTC"
           },
           0,
           "Michael Nichols",
           "London",
           "UTC",
           "GBR"
          ],
          [
           "Mrs. Kathryn Todd MD",
           10,
           true,
           "person",
           "Mrs. Kathryn Todd MD",
           "2022-04-28",
           [
            "Full Time"
           ],
           [
            "JavaScript"
           ],
           "Maria Nichols",
           "Sales",
           "Associate",
           {
            "city": "London",
            "country": "GBR",
            "tz": "UTC"
           },
           0,
           "Michael Nichols",
           "London",
           "UTC",
           "GBR"
          ],
          [
           "Anthony Powers",
           10,
           true,
           "person",
           "Anthony Powers",
           "2021-10-13",
           [
            "Contract"
           ],
           [
            "Python",
            "Scala",
            "Go",
            "JavaScript"
           ],
           "Maria Nichols",
           "Sales",
           "Associate",
           {
            "city": "London",
            "country": "GBR",
            "tz": "UTC"
           },
           0,
           "Michael Nichols",
           "London",
           "UTC",
           "GBR"
          ],
          [
           "Elizabeth Romero",
           10,
           true,
           "person",
           "Elizabeth Romero",
           "2022-11-01",
           [
            "Part Time"
           ],
           [
            "Python",
            "Java"
           ],
           "Maria Nichols",
           "Sales",
           "Associate",
           {
            "city": "London",
            "country": "GBR",
            "tz": "UTC"
           },
           0,
           "Michael Nichols",
           "London",
           "UTC",
           "GBR"
          ],
          [
           "Tracy Mayer MD",
           10,
           true,
           "person",
           "Tracy Mayer MD",
           "2021-05-19",
           [
            "Part Time"
           ],
           [],
           "Maria Nichols",
           "Sales",
           "Associate",
           {
            "city": "London",
            "country": "GBR",
            "tz": "UTC"
           },
           0,
           "Michael Nichols",
           "London",
           "UTC",
           "GBR"
          ],
          [
           "David Phillips",
           10,
           true,
           "person",
           "David Phillips",
           "2020-05-02",
           [
            "Contract"
           ],
           [
            "JavaScript"
           ],
           "Maria Nichols",
           "Sales",
           "Associate",
           {
            "city": "London",
            "country": "GBR",
            "tz": "UTC"
           },
           0,
           "Michael Nichols",
           "London",
           "UTC",
           "GBR"
          ],
          [
           "Jeanette Kennedy",
           10,
           true,
           "person",
           "Jeanette Kennedy",
           "2022-06-21",
           [
            "Part Time"
           ],
           [
            "Java"
           ],
           "Maria Nichols",
           "Sales",
           "Associate",
           {
            "city": "London",
            "country": "GBR",
            "tz": "UTC"
           },
           0,
           "Michael Nichols",
           "London",
           "UTC",
           "GBR"
          ],
          [
           "Patrick Anderson",
           10,
           true,
           "person",
           "Patrick Anderson",
           "2022-12-14",
           [
            "Contract"
           ],
           [],
           "Maria Nichols",
           "Sales",
           "Associate",
           {
            "city": "London",
            "country": "GBR",
            "tz": "UTC"
           },
           0,
           "Michael Nichols",
           "London",
           "UTC",
           "GBR"
          ]
         ],
         "hovertemplate": "<b>%{hovertext}</b><br><br>country=%{customdata[16]}<br>x=%{x}<br>y=%{y}<br>rank=%{customdata[12]}<br>label=%{customdata[0]}<br>size=%{customdata[1]}<br>person=%{customdata[2]}<br>type=%{customdata[3]}<br>name=%{customdata[4]}<br>hire_date=%{customdata[5]}<br>status=%{customdata[6]}<br>languages=%{customdata[7]}<br>manager=%{customdata[8]}<br>team=%{customdata[9]}<br>title=%{customdata[10]}<br>location=%{customdata[11]}<br>peoplemanager=%{customdata[13]}<br>city=%{customdata[14]}<br>tz=%{customdata[15]}<extra></extra>",
         "hovertext": [
          "Michael Nichols",
          "Jeffery Ali",
          "Darius Suarez",
          "Maria Carter",
          "Kelly Blair",
          "Kathy Johnson",
          "Katrina Daniels",
          "Brian Daniels",
          "Mr. Preston Clark",
          "Maria Nichols",
          "David Valentine",
          "Casey Stanley",
          "Patricia Garcia",
          "Jordan White",
          "Nathan Blair",
          "John Ramirez",
          "Kristi Ball",
          "John Reese",
          "Mrs. Kathryn Todd MD",
          "Anthony Powers",
          "Elizabeth Romero",
          "Tracy Mayer MD",
          "David Phillips",
          "Jeanette Kennedy",
          "Patrick Anderson"
         ],
         "legendgroup": "GBR",
         "marker": {
          "color": "#636efa",
          "size": [
           0,
           1,
           1,
           1,
           1,
           2,
           2,
           4,
           4,
           0,
           0,
           0,
           0,
           0,
           0,
           0,
           0,
           0,
           0,
           0,
           0,
           0,
           0,
           0,
           0
          ],
          "sizemode": "area",
          "sizeref": 0.015,
          "symbol": "circle"
         },
         "mode": "markers",
         "name": "GBR",
         "orientation": "v",
         "showlegend": true,
         "type": "scatter",
         "x": [
          -0.048974289524533705,
          -0.06365472695567796,
          -0.03598690695275334,
          -0.14722911587477572,
          -0.2548071277413437,
          0.008874225977367157,
          -0.18984793623627855,
          0.5138787569734621,
          0.6174283503481435,
          -0.1613194073763085,
          -0.08874890753522724,
          -0.2496124140158781,
          -0.25684956267600506,
          -0.18061286613163052,
          -0.19950208403670225,
          -0.21017047380938517,
          -0.2524812113136376,
          -0.2384531785783731,
          -0.16898668713526624,
          -0.15312211427128036,
          -0.27467786473421596,
          -0.0849199041732086,
          -0.2180676190327912,
          -0.20196008645413266,
          -0.28552079498665606
         ],
         "xaxis": "x",
         "y": [
          0.14058746054870522,
          0.24703193336271798,
          0.29487331157755536,
          0.0716576728747621,
          0.24668917352460148,
          0.4123891128828231,
          -0.006326434317308526,
          0.5410790445505926,
          0.4955183478546498,
          -0.3919728903946302,
          -0.43075893560237777,
          -0.4322674217380177,
          -0.4953602581978056,
          -0.49767945867359775,
          -0.44864807433620185,
          -0.4862683816744693,
          -0.39017556367598805,
          -0.46726836236538305,
          -0.5300805795080975,
          -0.48435642844597027,
          -0.3681972576306212,
          -0.4690015523766897,
          -0.40165694936026314,
          -0.5258453624241146,
          -0.43908510396239947
         ],
         "yaxis": "y"
        },
        {
         "customdata": [
          [
           "Mr. Benjamin May",
           10,
           true,
           "person",
           "Mr. Benjamin May",
           "2020-10-25",
           [
            "Contract"
           ],
           [
            "Python",
            "JavaScript"
           ],
           "Michael Nichols",
           "Business",
           "Analyst",
           {
            "city": "New York",
            "country": "USA",
            "tz": "EST"
           },
           0,
           "Michael Nichols",
           "New York",
           "EST",
           "USA"
          ],
          [
           "Katie Jensen",
           10,
           true,
           "person",
           "Katie Jensen",
           "2022-06-09",
           [
            "Full Time"
           ],
           [
            "Python",
            "Typescript",
            "JavaScript"
           ],
           "Michael Nichols",
           "Business",
           "Analyst",
           {
            "city": "New York",
            "country": "USA",
            "tz": "EST"
           },
           0,
           "Michael Nichols",
           "New York",
           "EST",
           "USA"
          ],
          [
           "David Vang",
           10,
           true,
           "person",
           "David Vang",
           "2021-04-15",
           [
            "Contract"
           ],
           [],
           "Michael Nichols",
           "Business",
           "Analyst",
           {
            "city": "New York",
            "country": "USA",
            "tz": "EST"
           },
           0,
           "Michael Nichols",
           "New York",
           "EST",
           "USA"
          ],
          [
           "Eric Rodgers",
           10,
           true,
           "person",
           "Eric Rodgers",
           "2023-04-01",
           [
            "Full Time"
           ],
           [
            "JavaScript",
            "Java"
           ],
           "Stephen Hanna",
           "Business",
           "Associate",
           {
            "city": "New York",
            "country": "USA",
            "tz": "EST"
           },
           1,
           "Maria Nichols",
           "New York",
           "EST",
           "USA"
          ],
          [
           "Angela Everett",
           10,
           true,
           "person",
           "Angela Everett",
           "2023-04-20",
           [
            "Full Time"
           ],
           [
            "Java"
           ],
           "Eric Rodgers",
           "Business",
           "Vice President",
           {
            "city": "New York",
            "country": "USA",
            "tz": "EST"
           },
           2,
           "Michael Wong",
           "New York",
           "EST",
           "USA"
          ],
          [
           "Jennifer Johnson",
           10,
           true,
           "person",
           "Jennifer Johnson",
           "2020-06-14",
           [
            "Full Time"
           ],
           [],
           "Stephen Hanna",
           "Product",
           "Manager",
           {
            "city": "New York",
            "country": "USA",
            "tz": "EST"
           },
           1,
           "Deborah Solis",
           "New York",
           "EST",
           "USA"
          ],
          [
           "Debra Schneider",
           10,
           true,
           "person",
           "Debra Schneider",
           "2022-04-12",
           [
            "Part Time"
           ],
           [
            "Python",
            "Typescript",
            "JavaScript",
            "Java"
           ],
           "Jeffery Ali",
           "Business",
           "Vice President",
           {
            "city": "New York",
            "country": "USA",
            "tz": "EST"
           },
           2,
           "Kelly Jacobs",
           "New York",
           "EST",
           "USA"
          ],
          [
           "Rebecca Martinez",
           10,
           true,
           "person",
           "Rebecca Martinez",
           "2022-08-23",
           [
            "Contract"
           ],
           [
            "Java"
           ],
           "Nancy Riley",
           "Business",
           "Director",
           {
            "city": "New York",
            "country": "USA",
            "tz": "EST"
           },
           3,
           "Teresa Powell",
           "New York",
           "EST",
           "USA"
          ],
          [
           "Paul Parker",
           10,
           true,
           "person",
           "Paul Parker",
           "2020-11-24",
           [
            "Contract"
           ],
           [
            "Python",
            "JavaScript"
           ],
           "Nancy Riley",
           "Business",
           "Director",
           {
            "city": "New York",
            "country": "USA",
            "tz": "EST"
           },
           3,
           "Michael Wong",
           "New York",
           "EST",
           "USA"
          ],
          [
           "Olivia Lyons",
           10,
           true,
           "person",
           "Olivia Lyons",
           "2020-05-30",
           [
            "Full Time"
           ],
           [
            "JavaScript"
           ],
           "Kathy Johnson",
           "Business",
           "Director",
           {
            "city": "New York",
            "country": "USA",
            "tz": "EST"
           },
           3,
           "Amanda Harvey",
           "New York",
           "EST",
           "USA"
          ],
          [
           "Timothy Salazar",
           10,
           true,
           "person",
           "Timothy Salazar",
           "2021-03-17",
           [
            "Contract"
           ],
           [
            "Typescript",
            "JavaScript"
           ],
           "Paul Parker",
           "Business",
           "Managing Director",
           {
            "city": "New York",
            "country": "USA",
            "tz": "EST"
           },
           4,
           "Amanda Harvey",
           "New York",
           "EST",
           "USA"
          ],
          [
           "Paul Burns",
           10,
           true,
           "person",
           "Paul Burns",
           "2022-05-22",
           [
            "Part Time"
           ],
           [
            "Python"
           ],
           "Stephen Hanna",
           "DevX",
           "Engineer",
           {
            "city": "Fort Lauderdale",
            "country": "USA",
            "tz": "EST"
           },
           4,
           "Teresa Powell",
           "Fort Lauderdale",
           "EST",
           "USA"
          ],
          [
           "Sarah Brown",
           10,
           true,
           "person",
           "Sarah Brown",
           "2021-02-25",
           [
            "Part Time"
           ],
           [
            "JavaScript",
            "Java"
           ],
           "Paul Burns",
           "DevX",
           "Engineer",
           {
            "city": "Fort Lauderdale",
            "country": "USA",
            "tz": "EST"
           },
           4,
           "Teresa Powell",
           "Fort Lauderdale",
           "EST",
           "USA"
          ],
          [
           "William Sims",
           10,
           true,
           "person",
           "William Sims",
           "2020-05-20",
           [
            "Part Time"
           ],
           [
            "Python",
            "Java"
           ],
           "Paul Burns",
           "DevX",
           "Engineer",
           {
            "city": "Fort Lauderdale",
            "country": "USA",
            "tz": "EST"
           },
           4,
           "Michael Wong",
           "Fort Lauderdale",
           "EST",
           "USA"
          ],
          [
           "Carmen Shaw",
           10,
           true,
           "person",
           "Carmen Shaw",
           "2021-11-20",
           [
            "Full Time"
           ],
           [
            "Typescript",
            "Java"
           ],
           "Paul Burns",
           "DevX",
           "Engineer",
           {
            "city": "Fort Lauderdale",
            "country": "USA",
            "tz": "EST"
           },
           4,
           "Michael Wong",
           "Fort Lauderdale",
           "EST",
           "USA"
          ],
          [
           "Stephanie Boyd",
           10,
           true,
           "person",
           "Stephanie Boyd",
           "2020-08-18",
           [
            "Part Time"
           ],
           [
            "Python",
            "Java"
           ],
           "Paul Burns",
           "DevX",
           "Engineer",
           {
            "city": "Fort Lauderdale",
            "country": "USA",
            "tz": "EST"
           },
           4,
           "Michael Wong",
           "Fort Lauderdale",
           "EST",
           "USA"
          ],
          [
           "Louis Ward",
           10,
           true,
           "person",
           "Louis Ward",
           "2021-06-12",
           [
            "Full Time"
           ],
           [
            "JavaScript",
            "Java"
           ],
           "Paul Burns",
           "DevX",
           "Engineer",
           {
            "city": "Fort Lauderdale",
            "country": "USA",
            "tz": "EST"
           },
           4,
           "Michael Wong",
           "Fort Lauderdale",
           "EST",
           "USA"
          ],
          [
           "Angela Smith",
           10,
           true,
           "person",
           "Angela Smith",
           "2020-11-22",
           [
            "Contract"
           ],
           [
            "Python",
            "JavaScript",
            "Java"
           ],
           "Paul Burns",
           "DevX",
           "Engineer",
           {
            "city": "Fort Lauderdale",
            "country": "USA",
            "tz": "EST"
           },
           4,
           "Jose Key",
           "Fort Lauderdale",
           "EST",
           "USA"
          ],
          [
           "Dennis Rhodes",
           10,
           true,
           "person",
           "Dennis Rhodes",
           "2022-02-19",
           [
            "Contract"
           ],
           [
            "Typescript",
            "JavaScript",
            "Java"
           ],
           "Paul Burns",
           "DevX",
           "Engineer",
           {
            "city": "Fort Lauderdale",
            "country": "USA",
            "tz": "EST"
           },
           4,
           "Jose Key",
           "Fort Lauderdale",
           "EST",
           "USA"
          ],
          [
           "Anna Dyer",
           10,
           true,
           "person",
           "Anna Dyer",
           "2021-06-27",
           [
            "Part Time"
           ],
           [
            "Java"
           ],
           "Paul Burns",
           "DevX",
           "Engineer",
           {
            "city": "Fort Lauderdale",
            "country": "USA",
            "tz": "EST"
           },
           4,
           "Jose Key",
           "Fort Lauderdale",
           "EST",
           "USA"
          ],
          [
           "Eric Gaines",
           10,
           true,
           "person",
           "Eric Gaines",
           "2022-05-20",
           [
            "Full Time"
           ],
           [
            "Typescript",
            "Go",
            "JavaScript",
            "Java"
           ],
           "Paul Burns",
           "DevX",
           "Engineer",
           {
            "city": "Fort Lauderdale",
            "country": "USA",
            "tz": "EST"
           },
           4,
           "Kelly Jacobs",
           "Fort Lauderdale",
           "EST",
           "USA"
          ],
          [
           "Todd Valencia",
           10,
           true,
           "person",
           "Todd Valencia",
           "2021-06-01",
           [
            "Part Time"
           ],
           [
            "Python",
            "Typescript",
            "JavaScript"
           ],
           "Paul Burns",
           "DevX",
           "Engineer",
           {
            "city": "Fort Lauderdale",
            "country": "USA",
            "tz": "EST"
           },
           4,
           "Kelly Jacobs",
           "Fort Lauderdale",
           "EST",
           "USA"
          ],
          [
           "Douglas Frazier",
           10,
           true,
           "person",
           "Douglas Frazier",
           "2022-01-20",
           [
            "Part Time"
           ],
           [
            "Typescript",
            "Scala"
           ],
           "Paul Burns",
           "DevX",
           "Engineer",
           {
            "city": "Fort Lauderdale",
            "country": "USA",
            "tz": "EST"
           },
           4,
           "Kelly Jacobs",
           "Fort Lauderdale",
           "EST",
           "USA"
          ],
          [
           "Trevor Hunt",
           10,
           true,
           "person",
           "Trevor Hunt",
           "2023-01-05",
           [
            "Contract"
           ],
           [
            "Typescript",
            "JavaScript",
            "Python",
            "Erlang",
            "Java"
           ],
           "Paul Burns",
           "DevX",
           "Engineer",
           {
            "city": "Fort Lauderdale",
            "country": "USA",
            "tz": "EST"
           },
           4,
           "Amanda Harvey",
           "Fort Lauderdale",
           "EST",
           "USA"
          ],
          [
           "Bruce Russell",
           10,
           true,
           "person",
           "Bruce Russell",
           "2021-10-19",
           [
            "Contract"
           ],
           [
            "Python",
            "Go",
            "JavaScript"
           ],
           "Paul Burns",
           "DevX",
           "Engineer",
           {
            "city": "Fort Lauderdale",
            "country": "USA",
            "tz": "EST"
           },
           4,
           "Amanda Harvey",
           "Fort Lauderdale",
           "EST",
           "USA"
          ],
          [
           "Kathy Lewis",
           10,
           true,
           "person",
           "Kathy Lewis",
           "2022-06-12",
           [
            "Part Time"
           ],
           [
            "Java"
           ],
           "Paul Burns",
           "DevX",
           "Engineer",
           {
            "city": "Fort Lauderdale",
            "country": "USA",
            "tz": "EST"
           },
           4,
           "Amanda Harvey",
           "Fort Lauderdale",
           "EST",
           "USA"
          ],
          [
           "Andrea Jones",
           10,
           true,
           "person",
           "Andrea Jones",
           "2020-05-04",
           [
            "Contract"
           ],
           [
            "Scala",
            "JavaScript",
            "Java"
           ],
           "Paul Burns",
           "DevX",
           "Engineer",
           {
            "city": "Fort Lauderdale",
            "country": "USA",
            "tz": "EST"
           },
           4,
           "Nathan Brown",
           "Fort Lauderdale",
           "EST",
           "USA"
          ],
          [
           "Amy Torres",
           10,
           true,
           "person",
           "Amy Torres",
           "2020-11-20",
           [
            "Contract"
           ],
           [
            "Python",
            "Java"
           ],
           "Paul Burns",
           "DevX",
           "Engineer",
           {
            "city": "Fort Lauderdale",
            "country": "USA",
            "tz": "EST"
           },
           4,
           "Nathan Brown",
           "Fort Lauderdale",
           "EST",
           "USA"
          ],
          [
           "Steven Robinson",
           10,
           true,
           "person",
           "Steven Robinson",
           "2021-06-25",
           [
            "Contract"
           ],
           [
            "Python",
            "Scala",
            "JavaScript"
           ],
           "Paul Burns",
           "DevX",
           "Engineer",
           {
            "city": "Fort Lauderdale",
            "country": "USA",
            "tz": "EST"
           },
           4,
           "Nathan Brown",
           "Fort Lauderdale",
           "EST",
           "USA"
          ],
          [
           "Kevin Bennett",
           10,
           true,
           "person",
           "Kevin Bennett",
           "2022-08-05",
           [
            "Contract"
           ],
           [
            "Python"
           ],
           "Paul Burns",
           "DevX",
           "Engineer",
           {
            "city": "Fort Lauderdale",
            "country": "USA",
            "tz": "EST"
           },
           4,
           "Justin Rowe",
           "Fort Lauderdale",
           "EST",
           "USA"
          ],
          [
           "Gabriel Gordon",
           10,
           true,
           "person",
           "Gabriel Gordon",
           "2020-12-16",
           [
            "Contract"
           ],
           [
            "Python",
            "Go",
            "JavaScript",
            "Java"
           ],
           "Paul Burns",
           "DevX",
           "Engineer",
           {
            "city": "Fort Lauderdale",
            "country": "USA",
            "tz": "EST"
           },
           4,
           "Justin Rowe",
           "Fort Lauderdale",
           "EST",
           "USA"
          ],
          [
           "Amanda Diaz",
           10,
           true,
           "person",
           "Amanda Diaz",
           "2020-10-26",
           [
            "Contract"
           ],
           [
            "Java"
           ],
           "Stephen Hanna",
           "DevX",
           "AVP",
           {
            "city": "Fort Lauderdale",
            "country": "USA",
            "tz": "EST"
           },
           5,
           "Teresa Powell",
           "Fort Lauderdale",
           "EST",
           "USA"
          ],
          [
           "Zachary Bright",
           10,
           true,
           "person",
           "Zachary Bright",
           "2021-09-17",
           [
            "Full Time"
           ],
           [],
           "Carmen Shaw",
           "DevX",
           "AVP",
           {
            "city": "Fort Lauderdale",
            "country": "USA",
            "tz": "EST"
           },
           5,
           "Michael Wong",
           "Fort Lauderdale",
           "EST",
           "USA"
          ],
          [
           "James Strickland",
           10,
           true,
           "person",
           "James Strickland",
           "2021-12-23",
           [
            "Full Time"
           ],
           [
            "Python",
            "Typescript"
           ],
           "Anna Dyer",
           "DevX",
           "AVP",
           {
            "city": "Fort Lauderdale",
            "country": "USA",
            "tz": "EST"
           },
           5,
           "Kelly Jacobs",
           "Fort Lauderdale",
           "EST",
           "USA"
          ],
          [
           "Jennifer Davis",
           10,
           true,
           "person",
           "Jennifer Davis",
           "2022-11-06",
           [
            "Contract"
           ],
           [
            "Typescript",
            "Go",
            "JavaScript"
           ],
           "Anna Dyer",
           "DevX",
           "AVP",
           {
            "city": "Fort Lauderdale",
            "country": "USA",
            "tz": "EST"
           },
           5,
           "Kelly Jacobs",
           "Fort Lauderdale",
           "EST",
           "USA"
          ],
          [
           "Katherine Palmer",
           10,
           true,
           "person",
           "Katherine Palmer",
           "2020-12-22",
           [
            "Contract"
           ],
           [
            "Python",
            "Java"
           ],
           "Anna Dyer",
           "DevX",
           "AVP",
           {
            "city": "Fort Lauderdale",
            "country": "USA",
            "tz": "EST"
           },
           5,
           "Kelly Jacobs",
           "Fort Lauderdale",
           "EST",
           "USA"
          ],
          [
           "Blake Wiley",
           10,
           true,
           "person",
           "Blake Wiley",
           "2020-12-04",
           [
            "Contract"
           ],
           [],
           "Anna Dyer",
           "DevX",
           "AVP",
           {
            "city": "Fort Lauderdale",
            "country": "USA",
            "tz": "EST"
           },
           5,
           "Kelly Jacobs",
           "Fort Lauderdale",
           "EST",
           "USA"
          ],
          [
           "Corey White",
           10,
           true,
           "person",
           "Corey White",
           "2021-01-13",
           [
            "Part Time"
           ],
           [],
           "Eric Gaines",
           "DevX",
           "AVP",
           {
            "city": "Fort Lauderdale",
            "country": "USA",
            "tz": "EST"
           },
           5,
           "Kelly Jacobs",
           "Fort Lauderdale",
           "EST",
           "USA"
          ],
          [
           "Kimberly Casey",
           10,
           true,
           "person",
           "Kimberly Casey",
           "2020-09-20",
           [
            "Contract"
           ],
           [
            "Python",
            "JavaScript",
            "Java"
           ],
           "Stephen Hanna",
           "Internal Tools",
           "Engineer",
           {
            "city": "Seattle",
            "country": "USA",
            "tz": "PST"
           },
           0,
           "Lori Green",
           "Seattle",
           "PST",
           "USA"
          ],
          [
           "Emily Nelson",
           10,
           true,
           "person",
           "Emily Nelson",
           "2021-06-03",
           [
            "Contract"
           ],
           [
            "Python",
            "JavaScript"
           ],
           "Kimberly Casey",
           "Internal Tools",
           "Engineer",
           {
            "city": "Seattle",
            "country": "USA",
            "tz": "PST"
           },
           0,
           "Michael Nichols",
           "Seattle",
           "PST",
           "USA"
          ],
          [
           "Connie Petersen",
           10,
           true,
           "person",
           "Connie Petersen",
           "2021-07-22",
           [
            "Full Time"
           ],
           [
            "Python",
            "Scala",
            "JavaScript",
            "Java"
           ],
           "George Short",
           "Internal Tools",
           "Senior Engineer",
           {
            "city": "Seattle",
            "country": "USA",
            "tz": "PST"
           },
           1,
           "Tracy Mayer MD",
           "Seattle",
           "PST",
           "USA"
          ],
          [
           "Lori Brown",
           10,
           true,
           "person",
           "Lori Brown",
           "2022-08-09",
           [
            "Contract"
           ],
           [
            "Typescript",
            "Scala",
            "Java"
           ],
           "Stephen Hanna",
           "Internal Tools",
           "Manager",
           {
            "city": "Seattle",
            "country": "USA",
            "tz": "PST"
           },
           2,
           "Michael Wong",
           "Seattle",
           "PST",
           "USA"
          ],
          [
           "Brooke Patrick",
           10,
           true,
           "person",
           "Brooke Patrick",
           "2020-08-25",
           [
            "Full Time"
           ],
           [
            "Python",
            "Typescript",
            "Scala"
           ],
           "George Short",
           "Internal Tools",
           "Manager",
           {
            "city": "Seattle",
            "country": "USA",
            "tz": "PST"
           },
           2,
           "Kelly Jacobs",
           "Seattle",
           "PST",
           "USA"
          ],
          [
           "Edward Pierce",
           10,
           true,
           "person",
           "Edward Pierce",
           "2020-06-07",
           [
            "Part Time"
           ],
           [
            "Python",
            "Scala",
            "JavaScript",
            "Java"
           ],
           "Lori Brown",
           "Internal Tools",
           "AVP",
           {
            "city": "Seattle",
            "country": "USA",
            "tz": "PST"
           },
           3,
           "Jose Key",
           "Seattle",
           "PST",
           "USA"
          ],
          [
           "John Clarke",
           10,
           true,
           "person",
           "John Clarke",
           "2021-05-18",
           [
            "Part Time"
           ],
           [
            "Python",
            "Scala",
            "JavaScript"
           ],
           "Lori Green",
           "Platform",
           "Engineer",
           {
            "city": "Seattle",
            "country": "USA",
            "tz": "PST"
           },
           0,
           "Michael Nichols",
           "Seattle",
           "PST",
           "USA"
          ],
          [
           "Karen Newman",
           10,
           true,
           "person",
           "Karen Newman",
           "2023-01-19",
           [
            "Contract"
           ],
           [
            "Typescript"
           ],
           "Lori Green",
           "Platform",
           "Engineer",
           {
            "city": "Seattle",
            "country": "USA",
            "tz": "PST"
           },
           0,
           "Michael Nichols",
           "Seattle",
           "PST",
           "USA"
          ],
          [
           "Thomas Fitzgerald",
           10,
           true,
           "person",
           "Thomas Fitzgerald",
           "2022-09-25",
           [
            "Part Time"
           ],
           [
            "Python",
            "JavaScript"
           ],
           "Deborah Solis",
           "Platform",
           "Senior Engineer",
           {
            "city": "Seattle",
            "country": "USA",
            "tz": "PST"
           },
           1,
           "Deborah Solis",
           "Seattle",
           "PST",
           "USA"
          ],
          [
           "Michael Andrews",
           10,
           true,
           "person",
           "Michael Andrews",
           "2021-05-12",
           [
            "Full Time"
           ],
           [
            "Typescript",
            "Scala",
            "JavaScript"
           ],
           "Thomas Fitzgerald",
           "Platform",
           "Managing Engineer",
           {
            "city": "Seattle",
            "country": "USA",
            "tz": "PST"
           },
           2,
           "Michael Wong",
           "Seattle",
           "PST",
           "USA"
          ],
          [
           "Kristina Wallace",
           10,
           true,
           "person",
           "Kristina Wallace",
           "2021-03-26",
           [
            "Full Time"
           ],
           [
            "JavaScript",
            "Java"
           ],
           "Thomas Fitzgerald",
           "Platform",
           "Managing Engineer",
           {
            "city": "Seattle",
            "country": "USA",
            "tz": "PST"
           },
           2,
           "Kelly Jacobs",
           "Seattle",
           "PST",
           "USA"
          ],
          [
           "Carolyn Murphy",
           10,
           true,
           "person",
           "Carolyn Murphy",
           "2020-06-14",
           [
            "Part Time"
           ],
           [
            "Python",
            "Java"
           ],
           "Thomas Fitzgerald",
           "Platform",
           "AVP",
           {
            "city": "Seattle",
            "country": "USA",
            "tz": "PST"
           },
           3,
           "Teresa Powell",
           "Seattle",
           "PST",
           "USA"
          ],
          [
           "Kelly Jackson",
           10,
           true,
           "person",
           "Kelly Jackson",
           "2020-09-28",
           [
            "Contract"
           ],
           [],
           "Kristina Wallace",
           "Platform",
           "AVP",
           {
            "city": "Seattle",
            "country": "USA",
            "tz": "PST"
           },
           3,
           "Kelly Jacobs",
           "Seattle",
           "PST",
           "USA"
          ],
          [
           "Lindsay Nichols",
           10,
           true,
           "person",
           "Lindsay Nichols",
           "2023-01-29",
           [
            "Contract"
           ],
           [],
           "Kristina Wallace",
           "Platform",
           "AVP",
           {
            "city": "Seattle",
            "country": "USA",
            "tz": "PST"
           },
           3,
           "Amanda Harvey",
           "Seattle",
           "PST",
           "USA"
          ],
          [
           "James Wilson MD",
           10,
           true,
           "person",
           "James Wilson MD",
           "2020-10-27",
           [
            "Contract"
           ],
           [],
           "Kristina Wallace",
           "Platform",
           "AVP",
           {
            "city": "Seattle",
            "country": "USA",
            "tz": "PST"
           },
           3,
           "Amanda Harvey",
           "Seattle",
           "PST",
           "USA"
          ],
          [
           "Traci Flores",
           10,
           true,
           "person",
           "Traci Flores",
           "2022-12-14",
           [
            "Part Time"
           ],
           [
            "Typescript",
            "JavaScript",
            "Java"
           ],
           "Carolyn Murphy",
           "Platform",
           "VP",
           {
            "city": "Seattle",
            "country": "USA",
            "tz": "PST"
           },
           4,
           "Jose Key",
           "Seattle",
           "PST",
           "USA"
          ],
          [
           "Donald Martin",
           10,
           true,
           "person",
           "Donald Martin",
           "2021-10-03",
           [
            "Full Time"
           ],
           [
            "Python",
            "Scala",
            "JavaScript"
           ],
           "Thomas Haley",
           "Platform",
           "VP",
           {
            "city": "Seattle",
            "country": "USA",
            "tz": "PST"
           },
           4,
           "Kelly Jacobs",
           "Seattle",
           "PST",
           "USA"
          ],
          [
           "Jamie Johnson",
           10,
           true,
           "person",
           "Jamie Johnson",
           "2021-05-24",
           [
            "Contract"
           ],
           [],
           "Kelly Jackson",
           "Platform",
           "VP",
           {
            "city": "Seattle",
            "country": "USA",
            "tz": "PST"
           },
           4,
           "Amanda Harvey",
           "Seattle",
           "PST",
           "USA"
          ],
          [
           "Joann Gonzalez",
           10,
           true,
           "person",
           "Joann Gonzalez",
           "2021-09-12",
           [
            "Full Time"
           ],
           [
            "Typescript",
            "Erlang"
           ],
           "Alexandria Dodson",
           "Product",
           "Engineer",
           {
            "city": "New York",
            "country": "USA",
            "tz": "EST"
           },
           0,
           "Michael Nichols",
           "New York",
           "EST",
           "USA"
          ],
          [
           "Shirley Morris",
           10,
           true,
           "person",
           "Shirley Morris",
           "2021-06-10",
           [
            "Contract"
           ],
           [
            "Python",
            "Typescript",
            "JavaScript",
            "Java"
           ],
           "Alexandria Dodson",
           "Product",
           "Engineer",
           {
            "city": "Seattle",
            "country": "USA",
            "tz": "PST"
           },
           0,
           "Michael Nichols",
           "Seattle",
           "PST",
           "USA"
          ],
          [
           "Theresa White",
           10,
           true,
           "person",
           "Theresa White",
           "2021-01-29",
           [
            "Full Time"
           ],
           [
            "Java"
           ],
           "Alexandria Dodson",
           "Product",
           "Engineer",
           {
            "city": "New York",
            "country": "USA",
            "tz": "EST"
           },
           0,
           "Michael Nichols",
           "New York",
           "EST",
           "USA"
          ],
          [
           "Jennifer Cameron",
           10,
           true,
           "person",
           "Jennifer Cameron",
           "2022-07-07",
           [
            "Part Time"
           ],
           [],
           "Joann Gonzalez",
           "Product",
           "Manager",
           {
            "city": "New York",
            "country": "USA",
            "tz": "EST"
           },
           1,
           "Tracy Mayer MD",
           "New York",
           "EST",
           "USA"
          ],
          [
           "Joseph Flores",
           10,
           true,
           "person",
           "Joseph Flores",
           "2022-05-05",
           [
            "Part Time"
           ],
           [
            "Go"
           ],
           "Emily Bruce",
           "Product",
           "Product Owner",
           {
            "city": "New York",
            "country": "USA",
            "tz": "EST"
           },
           2,
           "Jose Key",
           "New York",
           "EST",
           "USA"
          ],
          [
           "Miranda Abbott",
           10,
           true,
           "person",
           "Miranda Abbott",
           "2020-09-10",
           [
            "Full Time"
           ],
           [],
           "Emily Bruce",
           "Product",
           "Product Owner",
           {
            "city": "New York",
            "country": "USA",
            "tz": "EST"
           },
           2,
           "Amanda Harvey",
           "New York",
           "EST",
           "USA"
          ],
          [
           "Diane Hendricks",
           10,
           true,
           "person",
           "Diane Hendricks",
           "2022-09-23",
           [
            "Full Time"
           ],
           [
            "JavaScript"
           ],
           "Jennifer Johnson",
           "Product",
           "AVP",
           {
            "city": "Seattle",
            "country": "USA",
            "tz": "PST"
           },
           3,
           "Michael Wong",
           "Seattle",
           "PST",
           "USA"
          ],
          [
           "Andrew Hamilton",
           10,
           true,
           "person",
           "Andrew Hamilton",
           "2020-12-25",
           [
            "Contract"
           ],
           [
            "Typescript",
            "Go",
            "JavaScript",
            "Java"
           ],
           "Jennifer Johnson",
           "Product",
           "AVP",
           {
            "city": "Seattle",
            "country": "USA",
            "tz": "PST"
           },
           3,
           "Michael Wong",
           "Seattle",
           "PST",
           "USA"
          ],
          [
           "John Davis",
           10,
           true,
           "person",
           "John Davis",
           "2022-05-10",
           [
            "Contract"
           ],
           [
            "Go",
            "JavaScript",
            "Java"
           ],
           "Joseph Flores",
           "Product",
           "AVP",
           {
            "city": "New York",
            "country": "USA",
            "tz": "EST"
           },
           3,
           "Kelly Jacobs",
           "New York",
           "EST",
           "USA"
          ],
          [
           "Marissa Rodriguez",
           10,
           true,
           "person",
           "Marissa Rodriguez",
           "2022-08-08",
           [
            "Contract"
           ],
           [
            "Python",
            "Go",
            "JavaScript",
            "Java"
           ],
           "Miranda Abbott",
           "Product",
           "AVP",
           {
            "city": "Seattle",
            "country": "USA",
            "tz": "PST"
           },
           3,
           "Justin Rowe",
           "Seattle",
           "PST",
           "USA"
          ],
          [
           "Christopher Mahoney",
           10,
           true,
           "person",
           "Christopher Mahoney",
           "2022-06-26",
           [
            "Part Time"
           ],
           [],
           "Miranda Abbott",
           "Product",
           "AVP",
           {
            "city": "Seattle",
            "country": "USA",
            "tz": "PST"
           },
           3,
           "Justin Rowe",
           "Seattle",
           "PST",
           "USA"
          ],
          [
           "Angela Torres",
           10,
           true,
           "person",
           "Angela Torres",
           "2021-11-14",
           [
            "Full Time"
           ],
           [
            "Typescript",
            "Scala"
           ],
           "Jennifer Johnson",
           "Product",
           "VP",
           {
            "city": "Seattle",
            "country": "USA",
            "tz": "PST"
           },
           4,
           "Teresa Powell",
           "Seattle",
           "PST",
           "USA"
          ],
          [
           "Adrienne Williamson",
           10,
           true,
           "person",
           "Adrienne Williamson",
           "2021-08-30",
           [
            "Part Time"
           ],
           [
            "Go",
            "JavaScript",
            "Java"
           ],
           "Andrew Hamilton",
           "Product",
           "VP",
           {
            "city": "New York",
            "country": "USA",
            "tz": "EST"
           },
           4,
           "Michael Wong",
           "New York",
           "EST",
           "USA"
          ],
          [
           "Tracy Curry",
           10,
           true,
           "person",
           "Tracy Curry",
           "2021-09-14",
           [
            "Full Time"
           ],
           [
            "Python"
           ],
           "John Davis",
           "Product",
           "VP",
           {
            "city": "New York",
            "country": "USA",
            "tz": "EST"
           },
           4,
           "Justin Rowe",
           "New York",
           "EST",
           "USA"
          ],
          [
           "Jamie Cooper",
           10,
           true,
           "person",
           "Jamie Cooper",
           "2021-07-15",
           [
            "Part Time"
           ],
           [],
           "Maria Nichols",
           "Sales",
           "Associate",
           {
            "city": "New York",
            "country": "USA",
            "tz": "EST"
           },
           0,
           "Kimberly Casey",
           "New York",
           "EST",
           "USA"
          ],
          [
           "Joseph Hudson",
           10,
           true,
           "person",
           "Joseph Hudson",
           "2021-08-03",
           [
            "Contract"
           ],
           [
            "Python",
            "Scala",
            "Java"
           ],
           "Maria Nichols",
           "Sales",
           "Associate",
           {
            "city": "New York",
            "country": "USA",
            "tz": "EST"
           },
           0,
           "Kimberly Casey",
           "New York",
           "EST",
           "USA"
          ],
          [
           "Ryan Patterson",
           10,
           true,
           "person",
           "Ryan Patterson",
           "2021-02-09",
           [
            "Part Time"
           ],
           [],
           "Maria Nichols",
           "Sales",
           "Associate",
           {
            "city": "New York",
            "country": "USA",
            "tz": "EST"
           },
           0,
           "Michael Nichols",
           "New York",
           "EST",
           "USA"
          ],
          [
           "Brian Brown",
           10,
           true,
           "person",
           "Brian Brown",
           "2021-06-02",
           [
            "Part Time"
           ],
           [
            "Python",
            "Typescript"
           ],
           "Maria Nichols",
           "Sales",
           "Associate",
           {
            "city": "New York",
            "country": "USA",
            "tz": "EST"
           },
           0,
           "Michael Nichols",
           "New York",
           "EST",
           "USA"
          ],
          [
           "Ronald Smith",
           10,
           true,
           "person",
           "Ronald Smith",
           "2021-09-15",
           [
            "Contract"
           ],
           [
            "Python",
            "JavaScript",
            "Java"
           ],
           "Maria Nichols",
           "Sales",
           "Associate",
           {
            "city": "New York",
            "country": "USA",
            "tz": "EST"
           },
           0,
           "Michael Nichols",
           "New York",
           "EST",
           "USA"
          ]
         ],
         "hovertemplate": "<b>%{hovertext}</b><br><br>country=%{customdata[16]}<br>x=%{x}<br>y=%{y}<br>rank=%{customdata[12]}<br>label=%{customdata[0]}<br>size=%{customdata[1]}<br>person=%{customdata[2]}<br>type=%{customdata[3]}<br>name=%{customdata[4]}<br>hire_date=%{customdata[5]}<br>status=%{customdata[6]}<br>languages=%{customdata[7]}<br>manager=%{customdata[8]}<br>team=%{customdata[9]}<br>title=%{customdata[10]}<br>location=%{customdata[11]}<br>peoplemanager=%{customdata[13]}<br>city=%{customdata[14]}<br>tz=%{customdata[15]}<extra></extra>",
         "hovertext": [
          "Mr. Benjamin May",
          "Katie Jensen",
          "David Vang",
          "Eric Rodgers",
          "Angela Everett",
          "Jennifer Johnson",
          "Debra Schneider",
          "Rebecca Martinez",
          "Paul Parker",
          "Olivia Lyons",
          "Timothy Salazar",
          "Paul Burns",
          "Sarah Brown",
          "William Sims",
          "Carmen Shaw",
          "Stephanie Boyd",
          "Louis Ward",
          "Angela Smith",
          "Dennis Rhodes",
          "Anna Dyer",
          "Eric Gaines",
          "Todd Valencia",
          "Douglas Frazier",
          "Trevor Hunt",
          "Bruce Russell",
          "Kathy Lewis",
          "Andrea Jones",
          "Amy Torres",
          "Steven Robinson",
          "Kevin Bennett",
          "Gabriel Gordon",
          "Amanda Diaz",
          "Zachary Bright",
          "James Strickland",
          "Jennifer Davis",
          "Katherine Palmer",
          "Blake Wiley",
          "Corey White",
          "Kimberly Casey",
          "Emily Nelson",
          "Connie Petersen",
          "Lori Brown",
          "Brooke Patrick",
          "Edward Pierce",
          "John Clarke",
          "Karen Newman",
          "Thomas Fitzgerald",
          "Michael Andrews",
          "Kristina Wallace",
          "Carolyn Murphy",
          "Kelly Jackson",
          "Lindsay Nichols",
          "James Wilson MD",
          "Traci Flores",
          "Donald Martin",
          "Jamie Johnson",
          "Joann Gonzalez",
          "Shirley Morris",
          "Theresa White",
          "Jennifer Cameron",
          "Joseph Flores",
          "Miranda Abbott",
          "Diane Hendricks",
          "Andrew Hamilton",
          "John Davis",
          "Marissa Rodriguez",
          "Christopher Mahoney",
          "Angela Torres",
          "Adrienne Williamson",
          "Tracy Curry",
          "Jamie Cooper",
          "Joseph Hudson",
          "Ryan Patterson",
          "Brian Brown",
          "Ronald Smith"
         ],
         "legendgroup": "USA",
         "marker": {
          "color": "#EF553B",
          "size": [
           0,
           0,
           0,
           1,
           2,
           1,
           2,
           3,
           3,
           3,
           4,
           4,
           4,
           4,
           4,
           4,
           4,
           4,
           4,
           4,
           4,
           4,
           4,
           4,
           4,
           4,
           4,
           4,
           4,
           4,
           4,
           5,
           5,
           5,
           5,
           5,
           5,
           5,
           0,
           0,
           1,
           2,
           2,
           3,
           0,
           0,
           1,
           2,
           2,
           3,
           3,
           3,
           3,
           4,
           4,
           4,
           0,
           0,
           0,
           1,
           2,
           2,
           3,
           3,
           3,
           3,
           3,
           4,
           4,
           4,
           0,
           0,
           0,
           0,
           0
          ],
          "sizemode": "area",
          "sizeref": 0.015,
          "symbol": "circle"
         },
         "mode": "markers",
         "name": "USA",
         "orientation": "v",
         "showlegend": true,
         "type": "scatter",
         "x": [
          -0.08700369689526219,
          -0.16944874858930276,
          -0.09535972310337336,
          0.24388464982029437,
          0.3135653079110937,
          -0.09852404955651894,
          -0.059024970587864004,
          0.46592046290766886,
          0.5293094637849172,
          0.038905615297009935,
          0.5941111912831204,
          0.48175020381158284,
          0.5339420679720185,
          0.5501315073878598,
          0.45032981882661005,
          0.5671318005862127,
          0.5068487292705984,
          0.5000487561847087,
          0.5875265505569159,
          0.578102438777493,
          0.6500779575266125,
          0.5772453326279706,
          0.5392100348116631,
          0.5673146652772476,
          0.6035984172635377,
          0.6144336447578789,
          0.5416535765446089,
          0.5691556074110605,
          0.591857173021244,
          0.6032872544279727,
          0.5169890423516097,
          0.05925947674495844,
          0.4039363564969989,
          0.6678384547145462,
          0.5949732582461544,
          0.5715617808428515,
          0.6386079605197178,
          0.7622863721927805,
          0.20175848506966312,
          0.22025510594721318,
          0.37982910064067094,
          0.09150671679642569,
          0.40591324387959155,
          0.11334653174422209,
          0.300484166372081,
          0.3483697258858936,
          -0.5707012717553981,
          -0.6905309763132859,
          -0.7619696687840513,
          -0.7363734675109385,
          -0.8989423362526958,
          -0.8456647986367943,
          -0.8626250489765467,
          -0.8078379975289509,
          -0.8904475497460431,
          -1,
          -0.06618623347930591,
          -0.14469772884080348,
          -0.12766657395870676,
          -0.06619424790495218,
          -0.286686664200855,
          -0.2143897315085508,
          -0.14832367427526846,
          -0.2246346471620438,
          -0.3787346843392903,
          -0.21636180019209286,
          -0.2537682397834894,
          -0.1839784436975106,
          -0.31193834171317253,
          -0.4460889733479297,
          -0.2384679778170519,
          -0.27245499826327263,
          -0.19631404620615384,
          -0.13861824588920693,
          -0.23072379544379482
         ],
         "xaxis": "x",
         "y": [
          0.17219517526369438,
          0.19918973525609482,
          0.2036615951391567,
          0.1719455468515106,
          0.23299099206637974,
          0.08739003437655904,
          0.32425487980041207,
          0.45476514437993176,
          0.4450529964716399,
          0.506772685374866,
          0.5253824479361144,
          -0.0797746800176845,
          -0.18488352146476847,
          -0.0863524430759799,
          -0.19495150483811602,
          -0.012821308534900704,
          -0.1272013717904796,
          -0.1668501949145728,
          -0.08813716998391097,
          0.07084782619261462,
          -0.12482748024218362,
          -0.050580221126002016,
          -0.03753445241440733,
          -0.17450091632442635,
          -0.03808994811189303,
          -0.07514388485533345,
          -0.1483434788233094,
          -0.12659084595082418,
          -0.15252544363042775,
          -0.11770526361558198,
          -0.009629810651683345,
          -0.060169057769636346,
          -0.2727762329689428,
          0.10821551577689023,
          0.1556276040943124,
          0.14497433607469107,
          0.13951117269199503,
          -0.15484749884110452,
          -0.1483246709967583,
          -0.204744972300635,
          -0.3622051562130351,
          0.13290989667379355,
          -0.34226035032206054,
          0.267457627593215,
          0.05891255704939393,
          0.14759039261473078,
          0.07252271670824212,
          0.19072116284269477,
          -0.019166557615544727,
          0.12816881535907462,
          -0.09091431723352222,
          -0.02241870880255862,
          -0.07239231907715833,
          0.18347414143201252,
          0.3335202250777792,
          -0.10546281417674747,
          0.50517042541705,
          0.4077179625441846,
          0.44201918727361506,
          0.615228873197491,
          0.6778784006843986,
          0.7236958415233334,
          0.16285599907395787,
          0.16183949395389563,
          0.7693898370454536,
          0.8215808909112554,
          0.8138946482847492,
          0.09839136863936254,
          0.22478606361295247,
          0.8354134207638416,
          -0.3463104497902016,
          -0.4660310949517521,
          -0.339326673581088,
          -0.4464110037153888,
          -0.5129543428480426
         ],
         "yaxis": "y"
        },
        {
         "customdata": [
          [
           "Colleen Hanson",
           10,
           true,
           "person",
           "Colleen Hanson",
           "2020-10-05",
           [
            "Part Time"
           ],
           [
            "Typescript"
           ],
           "Michael Nichols",
           "Business",
           "Analyst",
           {
            "city": "Toronto",
            "country": "CAN",
            "tz": "EST"
           },
           0,
           "Michael Nichols",
           "Toronto",
           "EST",
           "CAN"
          ],
          [
           "Nancy Riley",
           10,
           true,
           "person",
           "Nancy Riley",
           "2022-11-05",
           [
            "Full Time"
           ],
           [],
           "Eric Rodgers",
           "Business",
           "Vice President",
           {
            "city": "Toronto",
            "country": "CAN",
            "tz": "EST"
           },
           2,
           "Teresa Powell",
           "Toronto",
           "EST",
           "CAN"
          ],
          [
           "Thomas Hansen",
           10,
           true,
           "person",
           "Thomas Hansen",
           "2021-04-27",
           [
            "Part Time"
           ],
           [
            "Java"
           ],
           "Kimberly Casey",
           "Internal Tools",
           "Engineer",
           {
            "city": "Toronto",
            "country": "CAN",
            "tz": "EST"
           },
           0,
           "Michael Nichols",
           "Toronto",
           "EST",
           "CAN"
          ],
          [
           "George Short",
           10,
           true,
           "person",
           "George Short",
           "2022-01-16",
           [
            "Contract"
           ],
           [
            "JavaScript"
           ],
           "Kimberly Casey",
           "Internal Tools",
           "Engineer",
           {
            "city": "Toronto",
            "country": "CAN",
            "tz": "EST"
           },
           0,
           "Michael Nichols",
           "Toronto",
           "EST",
           "CAN"
          ],
          [
           "Carolyn Miller",
           10,
           true,
           "person",
           "Carolyn Miller",
           "2020-10-21",
           [
            "Part Time"
           ],
           [
            "Python",
            "Scala"
           ],
           "Edward Pierce",
           "Internal Tools",
           "VP",
           {
            "city": "Toronto",
            "country": "CAN",
            "tz": "EST"
           },
           4,
           "Nathan Brown",
           "Toronto",
           "EST",
           "CAN"
          ],
          [
           "Lori Green",
           10,
           true,
           "person",
           "Lori Green",
           "2022-09-16",
           [
            "Part Time"
           ],
           [
            "Python",
            "JavaScript",
            "Erlang"
           ],
           "Stephen Hanna",
           "Platform",
           "Engineer",
           {
            "city": "Toronto",
            "country": "CAN",
            "tz": "EST"
           },
           0,
           "Lori Green",
           "Toronto",
           "EST",
           "CAN"
          ],
          [
           "Anita Wilson",
           10,
           true,
           "person",
           "Anita Wilson",
           "2022-03-20",
           [
            "Full Time"
           ],
           [
            "Python",
            "Go"
           ],
           "Lori Green",
           "Platform",
           "Engineer",
           {
            "city": "Toronto",
            "country": "CAN",
            "tz": "EST"
           },
           0,
           "Lori Green",
           "Toronto",
           "EST",
           "CAN"
          ],
          [
           "Deborah Solis",
           10,
           true,
           "person",
           "Deborah Solis",
           "2022-05-24",
           [
            "Contract"
           ],
           [
            "Python",
            "Typescript",
            "Go",
            "Java"
           ],
           "Stephen Hanna",
           "Platform",
           "Senior Engineer",
           {
            "city": "Toronto",
            "country": "CAN",
            "tz": "EST"
           },
           1,
           "Deborah Solis",
           "Toronto",
           "EST",
           "CAN"
          ],
          [
           "Krystal Sellers",
           10,
           true,
           "person",
           "Krystal Sellers",
           "2020-11-12",
           [
            "Full Time"
           ],
           [
            "JavaScript"
           ],
           "Karen Newman",
           "Platform",
           "Senior Engineer",
           {
            "city": "Toronto",
            "country": "CAN",
            "tz": "EST"
           },
           1,
           "Anthony Powers",
           "Toronto",
           "EST",
           "CAN"
          ],
          [
           "Matthew Rogers",
           10,
           true,
           "person",
           "Matthew Rogers",
           "2020-10-18",
           [
            "Part Time"
           ],
           [
            "Python",
            "Scala",
            "Java"
           ],
           "Thomas Fitzgerald",
           "Platform",
           "AVP",
           {
            "city": "Toronto",
            "country": "CAN",
            "tz": "EST"
           },
           3,
           "Teresa Powell",
           "Toronto",
           "EST",
           "CAN"
          ],
          [
           "Thomas Haley",
           10,
           true,
           "person",
           "Thomas Haley",
           "2023-01-30",
           [
            "Part Time"
           ],
           [
            "Python"
           ],
           "Michael Andrews",
           "Platform",
           "AVP",
           {
            "city": "Toronto",
            "country": "CAN",
            "tz": "EST"
           },
           3,
           "Kelly Jacobs",
           "Toronto",
           "EST",
           "CAN"
          ],
          [
           "Julie Padilla",
           10,
           true,
           "person",
           "Julie Padilla",
           "2022-08-24",
           [
            "Full Time"
           ],
           [
            "Python",
            "JavaScript",
            "Java"
           ],
           "Carolyn Murphy",
           "Platform",
           "VP",
           {
            "city": "Toronto",
            "country": "CAN",
            "tz": "EST"
           },
           4,
           "Teresa Powell",
           "Toronto",
           "EST",
           "CAN"
          ],
          [
           "Tim Smith",
           10,
           true,
           "person",
           "Tim Smith",
           "2020-09-29",
           [
            "Part Time"
           ],
           [],
           "Carolyn Murphy",
           "Platform",
           "VP",
           {
            "city": "Toronto",
            "country": "CAN",
            "tz": "EST"
           },
           4,
           "Jose Key",
           "Toronto",
           "EST",
           "CAN"
          ],
          [
           "Debbie Young",
           10,
           true,
           "person",
           "Debbie Young",
           "2021-02-04",
           [
            "Contract"
           ],
           [
            "Python"
           ],
           "Thomas Haley",
           "Platform",
           "VP",
           {
            "city": "Toronto",
            "country": "CAN",
            "tz": "EST"
           },
           4,
           "Kelly Jacobs",
           "Toronto",
           "EST",
           "CAN"
          ],
          [
           "Sarah Robertson",
           10,
           true,
           "person",
           "Sarah Robertson",
           "2022-12-16",
           [
            "Part Time"
           ],
           [
            "Python"
           ],
           "Kelly Jackson",
           "Platform",
           "VP",
           {
            "city": "Toronto",
            "country": "CAN",
            "tz": "EST"
           },
           4,
           "Amanda Harvey",
           "Toronto",
           "EST",
           "CAN"
          ],
          [
           "Rebecca Hubbard",
           10,
           true,
           "person",
           "Rebecca Hubbard",
           "2020-10-13",
           [
            "Full Time"
           ],
           [
            "Python",
            "Scala"
           ],
           "Lindsay Nichols",
           "Platform",
           "VP",
           {
            "city": "Toronto",
            "country": "CAN",
            "tz": "EST"
           },
           4,
           "Amanda Harvey",
           "Toronto",
           "EST",
           "CAN"
          ],
          [
           "Isaiah Hill",
           10,
           true,
           "person",
           "Isaiah Hill",
           "2022-08-31",
           [
            "Part Time"
           ],
           [
            "Typescript"
           ],
           "James Wilson MD",
           "Platform",
           "VP",
           {
            "city": "Toronto",
            "country": "CAN",
            "tz": "EST"
           },
           4,
           "Justin Rowe",
           "Toronto",
           "EST",
           "CAN"
          ],
          [
           "Alexandria Dodson",
           10,
           true,
           "person",
           "Alexandria Dodson",
           "2023-02-21",
           [
            "Contract"
           ],
           [
            "Python"
           ],
           "Stephen Hanna",
           "Product",
           "Engineer",
           {
            "city": "Toronto",
            "country": "CAN",
            "tz": "EST"
           },
           0,
           "Lori Green",
           "Toronto",
           "EST",
           "CAN"
          ],
          [
           "Keith Bailey",
           10,
           true,
           "person",
           "Keith Bailey",
           "2020-11-05",
           [
            "Full Time"
           ],
           [
            "Typescript",
            "Scala",
            "JavaScript",
            "Java"
           ],
           "Alexandria Dodson",
           "Product",
           "Engineer",
           {
            "city": "Toronto",
            "country": "CAN",
            "tz": "EST"
           },
           0,
           "Michael Nichols",
           "Toronto",
           "EST",
           "CAN"
          ],
          [
           "Robert Ford",
           10,
           true,
           "person",
           "Robert Ford",
           "2021-09-05",
           [
            "Contract"
           ],
           [
            "Python",
            "JavaScript"
           ],
           "Alexandria Dodson",
           "Product",
           "Engineer",
           {
            "city": "Toronto",
            "country": "CAN",
            "tz": "EST"
           },
           0,
           "Michael Nichols",
           "Toronto",
           "EST",
           "CAN"
          ],
          [
           "Ronald Lowery",
           10,
           true,
           "person",
           "Ronald Lowery",
           "2022-08-07",
           [
            "Full Time"
           ],
           [
            "Python",
            "Scala",
            "JavaScript",
            "Java"
           ],
           "Alexandria Dodson",
           "Product",
           "Engineer",
           {
            "city": "Toronto",
            "country": "CAN",
            "tz": "EST"
           },
           0,
           "Michael Nichols",
           "Toronto",
           "EST",
           "CAN"
          ],
          [
           "Emily Bruce",
           10,
           true,
           "person",
           "Emily Bruce",
           "2021-04-12",
           [
            "Part Time"
           ],
           [
            "Scala"
           ],
           "Alexandria Dodson",
           "Product",
           "Manager",
           {
            "city": "Toronto",
            "country": "CAN",
            "tz": "EST"
           },
           1,
           "Jordan White",
           "Toronto",
           "EST",
           "CAN"
          ],
          [
           "Leah Peterson",
           10,
           true,
           "person",
           "Leah Peterson",
           "2021-04-03",
           [
            "Part Time"
           ],
           [
            "Typescript",
            "Go"
           ],
           "Maria Nichols",
           "Sales",
           "Associate",
           {
            "city": "Toronto",
            "country": "CAN",
            "tz": "EST"
           },
           0,
           "Lori Green",
           "Toronto",
           "EST",
           "CAN"
          ],
          [
           "Katherine Cooper",
           10,
           true,
           "person",
           "Katherine Cooper",
           "2020-06-03",
           [
            "Part Time"
           ],
           [],
           "Maria Nichols",
           "Sales",
           "Associate",
           {
            "city": "Toronto",
            "country": "CAN",
            "tz": "EST"
           },
           0,
           "Michael Nichols",
           "Toronto",
           "EST",
           "CAN"
          ],
          [
           "Larry Warren",
           10,
           true,
           "person",
           "Larry Warren",
           "2021-04-09",
           [
            "Full Time"
           ],
           [],
           "Maria Nichols",
           "Sales",
           "Associate",
           {
            "city": "Toronto",
            "country": "CAN",
            "tz": "EST"
           },
           0,
           "Michael Nichols",
           "Toronto",
           "EST",
           "CAN"
          ],
          [
           "Debra Olson",
           10,
           true,
           "person",
           "Debra Olson",
           "2021-05-22",
           [
            "Part Time"
           ],
           [
            "Python"
           ],
           "Maria Nichols",
           "Sales",
           "Associate",
           {
            "city": "Toronto",
            "country": "CAN",
            "tz": "EST"
           },
           0,
           "Michael Nichols",
           "Toronto",
           "EST",
           "CAN"
          ],
          [
           "Andre Choi",
           10,
           true,
           "person",
           "Andre Choi",
           "2022-09-06",
           [
            "Part Time"
           ],
           [],
           "Maria Nichols",
           "Sales",
           "Associate",
           {
            "city": "Toronto",
            "country": "CAN",
            "tz": "EST"
           },
           0,
           "Michael Nichols",
           "Toronto",
           "EST",
           "CAN"
          ],
          [
           "Stephen Hanna",
           10,
           true,
           "person",
           "Stephen Hanna",
           "2020-09-08",
           [
            "F",
            "u",
            "l",
            "l",
            " ",
            "T",
            "i",
            "m",
            "e"
           ],
           [
            "Python"
           ],
           "Stephen Hanna",
           "CEO",
           "CEO",
           {
            "city": "Toronto",
            "country": "CAN",
            "tz": "EST"
           },
           6,
           null,
           "Toronto",
           "EST",
           "CAN"
          ]
         ],
         "hovertemplate": "<b>%{hovertext}</b><br><br>country=%{customdata[16]}<br>x=%{x}<br>y=%{y}<br>rank=%{customdata[12]}<br>label=%{customdata[0]}<br>size=%{customdata[1]}<br>person=%{customdata[2]}<br>type=%{customdata[3]}<br>name=%{customdata[4]}<br>hire_date=%{customdata[5]}<br>status=%{customdata[6]}<br>languages=%{customdata[7]}<br>manager=%{customdata[8]}<br>team=%{customdata[9]}<br>title=%{customdata[10]}<br>location=%{customdata[11]}<br>peoplemanager=%{customdata[13]}<br>city=%{customdata[14]}<br>tz=%{customdata[15]}<extra></extra>",
         "hovertext": [
          "Colleen Hanson",
          "Nancy Riley",
          "Thomas Hansen",
          "George Short",
          "Carolyn Miller",
          "Lori Green",
          "Anita Wilson",
          "Deborah Solis",
          "Krystal Sellers",
          "Matthew Rogers",
          "Thomas Haley",
          "Julie Padilla",
          "Tim Smith",
          "Debbie Young",
          "Sarah Robertson",
          "Rebecca Hubbard",
          "Isaiah Hill",
          "Alexandria Dodson",
          "Keith Bailey",
          "Robert Ford",
          "Ronald Lowery",
          "Emily Bruce",
          "Leah Peterson",
          "Katherine Cooper",
          "Larry Warren",
          "Debra Olson",
          "Andre Choi",
          "Stephen Hanna"
         ],
         "legendgroup": "CAN",
         "marker": {
          "color": "#00cc96",
          "size": [
           0,
           2,
           0,
           0,
           4,
           0,
           0,
           1,
           1,
           3,
           3,
           4,
           4,
           4,
           4,
           4,
           4,
           0,
           0,
           0,
           0,
           1,
           0,
           0,
           0,
           0,
           0,
           6
          ],
          "sizemode": "area",
          "sizeref": 0.015,
          "symbol": "circle"
         },
         "mode": "markers",
         "name": "CAN",
         "orientation": "v",
         "showlegend": true,
         "type": "scatter",
         "x": [
          -0.024716160174375553,
          0.39976455989069404,
          0.2605181703115285,
          0.3215430026653662,
          0.14224041498423928,
          0.22837041723154852,
          0.29824840410006564,
          -0.2580046274851355,
          0.429773963022218,
          -0.647556984958475,
          -0.8015613839717056,
          -0.8289530398133607,
          -0.8341206960099242,
          -0.8625987226131437,
          -0.9748961735320499,
          -0.8490380281426617,
          -0.942992097419682,
          -0.06484750899437138,
          -0.08342336123081436,
          -0.047421059329220236,
          -0.10084677655787806,
          -0.17711489974042555,
          -0.1394588113708817,
          -0.11003378637695031,
          -0.11563995116625643,
          -0.10483963304317356,
          -0.2853245683816916,
          0.06422893116281464
         ],
         "xaxis": "x",
         "y": [
          0.19228665488064,
          0.34125190012358403,
          -0.17212854515595635,
          -0.2721506392944847,
          0.3710530816736137,
          0.0680328274244993,
          0.10163188114977173,
          0.03411207321092164,
          0.21171568844195862,
          0.08254594500536333,
          0.2932009985567101,
          0.12622876990816628,
          0.16000963019962422,
          0.36374789757094483,
          -0.15016519738692505,
          0.013072884105312876,
          -0.1057812253060348,
          0.3465722351842042,
          0.4525678616832906,
          0.44560145581599725,
          0.4230650944075417,
          0.5624114249559282,
          -0.5203947088672463,
          -0.5082808417702417,
          -0.47831838776719815,
          -0.38809183568535044,
          -0.40710394539454214,
          -0.008631694885476606
         ],
         "yaxis": "y"
        },
        {
         "customdata": [
          [
           "Kelli Fernandez",
           10,
           true,
           "person",
           "Kelli Fernandez",
           "2022-07-21",
           [
            "Contract"
           ],
           [
            "JavaScript",
            "Java"
           ],
           "Stephen Hanna",
           "DevOps",
           "Senior Engineer",
           {
            "city": "Dublin",
            "country": "IRL",
            "tz": "UTC"
           },
           1,
           "Maria Nichols",
           "Dublin",
           "UTC",
           "IRL"
          ],
          [
           "Andrew Barrett",
           10,
           true,
           "person",
           "Andrew Barrett",
           "2020-11-14",
           [
            "Contract"
           ],
           [
            "Python",
            "Typescript",
            "Go"
           ],
           "Kelli Fernandez",
           "DevOps",
           "Senior Engineer",
           {
            "city": "Dublin",
            "country": "IRL",
            "tz": "UTC"
           },
           1,
           "Kristi Ball",
           "Dublin",
           "UTC",
           "IRL"
          ],
          [
           "Tammie Willis",
           10,
           true,
           "person",
           "Tammie Willis",
           "2021-07-04",
           [
            "Contract"
           ],
           [
            "Java"
           ],
           "Kelli Fernandez",
           "DevOps",
           "Senior Engineer",
           {
            "city": "Dublin",
            "country": "IRL",
            "tz": "UTC"
           },
           1,
           "Brian Brown",
           "Dublin",
           "UTC",
           "IRL"
          ],
          [
           "Ashley Hansen",
           10,
           true,
           "person",
           "Ashley Hansen",
           "2023-04-06",
           [
            "Part Time"
           ],
           [
            "Java"
           ],
           "Kelli Fernandez",
           "DevOps",
           "Senior Engineer",
           {
            "city": "Dublin",
            "country": "IRL",
            "tz": "UTC"
           },
           1,
           "Anthony Powers",
           "Dublin",
           "UTC",
           "IRL"
          ],
          [
           "Matthew Johnson",
           10,
           true,
           "person",
           "Matthew Johnson",
           "2022-09-30",
           [
            "Full Time"
           ],
           [
            "Python",
            "Typescript",
            "JavaScript"
           ],
           "Kelli Fernandez",
           "DevOps",
           "Senior Engineer",
           {
            "city": "Dublin",
            "country": "IRL",
            "tz": "UTC"
           },
           1,
           "Charles Smith",
           "Dublin",
           "UTC",
           "IRL"
          ],
          [
           "Susan Humphrey",
           10,
           true,
           "person",
           "Susan Humphrey",
           "2022-09-27",
           [
            "Part Time"
           ],
           [
            "JavaScript"
           ],
           "Kelli Fernandez",
           "DevOps",
           "Senior Engineer",
           {
            "city": "Dublin",
            "country": "IRL",
            "tz": "UTC"
           },
           1,
           "Charles Smith",
           "Dublin",
           "UTC",
           "IRL"
          ],
          [
           "Jennifer Payne",
           10,
           true,
           "person",
           "Jennifer Payne",
           "2021-04-13",
           [
            "Part Time"
           ],
           [
            "Python",
            "JavaScript",
            "Java",
            "Erlang"
           ],
           "Kelli Fernandez",
           "DevOps",
           "Manager",
           {
            "city": "Dublin",
            "country": "IRL",
            "tz": "UTC"
           },
           2,
           "Michael Wong",
           "Dublin",
           "UTC",
           "IRL"
          ],
          [
           "Richard Mendez",
           10,
           true,
           "person",
           "Richard Mendez",
           "2021-09-14",
           [
            "Contract"
           ],
           [
            "Typescript"
           ],
           "Kelli Fernandez",
           "DevOps",
           "Manager",
           {
            "city": "Dublin",
            "country": "IRL",
            "tz": "UTC"
           },
           2,
           "Jose Key",
           "Dublin",
           "UTC",
           "IRL"
          ],
          [
           "Lisa Wright",
           10,
           true,
           "person",
           "Lisa Wright",
           "2021-10-10",
           [
            "Contract"
           ],
           [
            "Python",
            "JavaScript",
            "Java"
           ],
           "Ashley Hansen",
           "DevOps",
           "Manager",
           {
            "city": "Dublin",
            "country": "IRL",
            "tz": "UTC"
           },
           2,
           "Nathan Brown",
           "Dublin",
           "UTC",
           "IRL"
          ],
          [
           "Kelly Wilson",
           10,
           true,
           "person",
           "Kelly Wilson",
           "2022-09-02",
           [
            "Part Time"
           ],
           [
            "Python",
            "Java"
           ],
           "Ashley Hansen",
           "DevOps",
           "Manager",
           {
            "city": "Dublin",
            "country": "IRL",
            "tz": "UTC"
           },
           2,
           "Nathan Brown",
           "Dublin",
           "UTC",
           "IRL"
          ],
          [
           "Emily Johnson",
           10,
           true,
           "person",
           "Emily Johnson",
           "2023-02-12",
           [
            "Contract"
           ],
           [
            "Typescript",
            "Scala",
            "Java"
           ],
           "Ashley Hansen",
           "DevOps",
           "Manager",
           {
            "city": "Dublin",
            "country": "IRL",
            "tz": "UTC"
           },
           2,
           "Justin Rowe",
           "Dublin",
           "UTC",
           "IRL"
          ],
          [
           "Samantha Scott",
           10,
           true,
           "person",
           "Samantha Scott",
           "2021-06-23",
           [
            "Contract"
           ],
           [
            "Python",
            "JavaScript",
            "Java"
           ],
           "Stephen Hanna",
           "Support",
           "Analyst",
           {
            "city": "Dublin",
            "country": "IRL",
            "tz": "UTC"
           },
           0,
           "Michael Nichols",
           "Dublin",
           "UTC",
           "IRL"
          ],
          [
           "Carol Ho",
           10,
           true,
           "person",
           "Carol Ho",
           "2020-11-11",
           [
            "Part Time"
           ],
           [
            "Python",
            "Go",
            "JavaScript"
           ],
           "Samantha Scott",
           "Support",
           "Analyst",
           {
            "city": "Dublin",
            "country": "IRL",
            "tz": "UTC"
           },
           0,
           "Michael Nichols",
           "Dublin",
           "UTC",
           "IRL"
          ],
          [
           "Charles Smith",
           10,
           true,
           "person",
           "Charles Smith",
           "2022-11-22",
           [
            "Part Time"
           ],
           [
            "Python",
            "Scala",
            "Go",
            "JavaScript"
           ],
           "Samantha Scott",
           "Support",
           "Analyst",
           {
            "city": "Dublin",
            "country": "IRL",
            "tz": "UTC"
           },
           0,
           "Michael Nichols",
           "Dublin",
           "UTC",
           "IRL"
          ],
          [
           "Teresa Powell",
           10,
           true,
           "person",
           "Teresa Powell",
           "2021-02-05",
           [
            "Part Time"
           ],
           [
            "Python"
           ],
           "Stephen Hanna",
           "Support",
           "Manager",
           {
            "city": "Dublin",
            "country": "IRL",
            "tz": "UTC"
           },
           1,
           "Deborah Solis",
           "Dublin",
           "UTC",
           "IRL"
          ],
          [
           "Michael Wong",
           10,
           true,
           "person",
           "Michael Wong",
           "2021-08-15",
           [
            "Full Time"
           ],
           [],
           "Teresa Powell",
           "Support",
           "Manager",
           {
            "city": "Dublin",
            "country": "IRL",
            "tz": "UTC"
           },
           1,
           "Leah Peterson",
           "Dublin",
           "UTC",
           "IRL"
          ],
          [
           "Jose Key",
           10,
           true,
           "person",
           "Jose Key",
           "2021-03-04",
           [
            "Full Time"
           ],
           [
            "Python",
            "Scala",
            "JavaScript"
           ],
           "Teresa Powell",
           "Support",
           "Manager",
           {
            "city": "Dublin",
            "country": "IRL",
            "tz": "UTC"
           },
           1,
           "Nathan Blair",
           "Dublin",
           "UTC",
           "IRL"
          ],
          [
           "Kelly Jacobs",
           10,
           true,
           "person",
           "Kelly Jacobs",
           "2020-12-12",
           [
            "Full Time"
           ],
           [
            "Typescript",
            "JavaScript",
            "Java"
           ],
           "Teresa Powell",
           "Support",
           "Manager",
           {
            "city": "Dublin",
            "country": "IRL",
            "tz": "UTC"
           },
           1,
           "Kristi Ball",
           "Dublin",
           "UTC",
           "IRL"
          ],
          [
           "Amanda Harvey",
           10,
           true,
           "person",
           "Amanda Harvey",
           "2020-12-12",
           [
            "Full Time"
           ],
           [
            "Python"
           ],
           "Teresa Powell",
           "Support",
           "Manager",
           {
            "city": "Dublin",
            "country": "IRL",
            "tz": "UTC"
           },
           1,
           "Mrs. Kathryn Todd MD",
           "Dublin",
           "UTC",
           "IRL"
          ],
          [
           "Nathan Brown",
           10,
           true,
           "person",
           "Nathan Brown",
           "2020-06-08",
           [
            "Contract"
           ],
           [
            "Typescript",
            "JavaScript",
            "Java"
           ],
           "Teresa Powell",
           "Support",
           "Manager",
           {
            "city": "Dublin",
            "country": "IRL",
            "tz": "UTC"
           },
           1,
           "Ronald Smith",
           "Dublin",
           "UTC",
           "IRL"
          ],
          [
           "Justin Rowe",
           10,
           true,
           "person",
           "Justin Rowe",
           "2022-08-22",
           [
            "Contract"
           ],
           [
            "JavaScript"
           ],
           "Carol Ho",
           "Support",
           "Manager",
           {
            "city": "Dublin",
            "country": "IRL",
            "tz": "UTC"
           },
           1,
           "Carol Ho",
           "Dublin",
           "UTC",
           "IRL"
          ],
          [
           "Gregory Le",
           10,
           true,
           "person",
           "Gregory Le",
           "2020-09-23",
           [
            "Contract"
           ],
           [
            "Java"
           ],
           "Charles Smith",
           "Support",
           "Manager",
           {
            "city": "Dublin",
            "country": "IRL",
            "tz": "UTC"
           },
           1,
           "Charles Smith",
           "Dublin",
           "UTC",
           "IRL"
          ]
         ],
         "hovertemplate": "<b>%{hovertext}</b><br><br>country=%{customdata[16]}<br>x=%{x}<br>y=%{y}<br>rank=%{customdata[12]}<br>label=%{customdata[0]}<br>size=%{customdata[1]}<br>person=%{customdata[2]}<br>type=%{customdata[3]}<br>name=%{customdata[4]}<br>hire_date=%{customdata[5]}<br>status=%{customdata[6]}<br>languages=%{customdata[7]}<br>manager=%{customdata[8]}<br>team=%{customdata[9]}<br>title=%{customdata[10]}<br>location=%{customdata[11]}<br>peoplemanager=%{customdata[13]}<br>city=%{customdata[14]}<br>tz=%{customdata[15]}<extra></extra>",
         "hovertext": [
          "Kelli Fernandez",
          "Andrew Barrett",
          "Tammie Willis",
          "Ashley Hansen",
          "Matthew Johnson",
          "Susan Humphrey",
          "Jennifer Payne",
          "Richard Mendez",
          "Lisa Wright",
          "Kelly Wilson",
          "Emily Johnson",
          "Samantha Scott",
          "Carol Ho",
          "Charles Smith",
          "Teresa Powell",
          "Michael Wong",
          "Jose Key",
          "Kelly Jacobs",
          "Amanda Harvey",
          "Nathan Brown",
          "Justin Rowe",
          "Gregory Le"
         ],
         "legendgroup": "IRL",
         "marker": {
          "color": "#ab63fa",
          "size": [
           1,
           1,
           1,
           1,
           1,
           1,
           2,
           2,
           2,
           2,
           2,
           0,
           0,
           0,
           1,
           1,
           1,
           1,
           1,
           1,
           1,
           1
          ],
          "sizemode": "area",
          "sizeref": 0.015,
          "symbol": "circle"
         },
         "mode": "markers",
         "name": "IRL",
         "orientation": "v",
         "showlegend": true,
         "type": "scatter",
         "x": [
          0.18370541990248254,
          0.15117617157508786,
          0.23428719599098433,
          0.29372811428016504,
          0.20010115240156104,
          0.17032236962795222,
          0.25374350293330433,
          0.21320069840598133,
          0.34865948614837566,
          0.316461011433585,
          0.3727980783172024,
          -0.12832358519498413,
          -0.2636803895660454,
          -0.25785735398390536,
          0.16655697106900594,
          0.1901271677930903,
          0.2385076643227167,
          0.22806855263547574,
          0.16632799820212193,
          0.21932536206841002,
          -0.363160214594184,
          -0.35562567481038737
         ],
         "xaxis": "x",
         "y": [
          -0.2914164554718251,
          -0.35878848527976315,
          -0.38618589337959114,
          -0.47468227758734133,
          -0.39748234773455804,
          -0.3869592324801026,
          -0.35252500260052333,
          -0.3544786475453504,
          -0.5735881533719139,
          -0.5807268729311784,
          -0.5520281433282112,
          -0.046003038378536226,
          -0.04356027064688902,
          -0.08610150002226494,
          0.18485631833691807,
          0.2824867137360392,
          0.26126021023760165,
          0.23188123352110093,
          0.2641168941315884,
          0.2881595058613975,
          -0.03788764953659666,
          -0.10804270525976561
         ],
         "yaxis": "y"
        }
       ],
       "layout": {
        "legend": {
         "itemsizing": "constant",
         "title": {
          "text": "country"
         },
         "tracegroupgap": 0
        },
        "margin": {
         "t": 60
        },
        "template": {
         "data": {
          "bar": [
           {
            "error_x": {
             "color": "#f2f5fa"
            },
            "error_y": {
             "color": "#f2f5fa"
            },
            "marker": {
             "line": {
              "color": "rgb(17,17,17)",
              "width": 0.5
             },
             "pattern": {
              "fillmode": "overlay",
              "size": 10,
              "solidity": 0.2
             }
            },
            "type": "bar"
           }
          ],
          "barpolar": [
           {
            "marker": {
             "line": {
              "color": "rgb(17,17,17)",
              "width": 0.5
             },
             "pattern": {
              "fillmode": "overlay",
              "size": 10,
              "solidity": 0.2
             }
            },
            "type": "barpolar"
           }
          ],
          "carpet": [
           {
            "aaxis": {
             "endlinecolor": "#A2B1C6",
             "gridcolor": "#506784",
             "linecolor": "#506784",
             "minorgridcolor": "#506784",
             "startlinecolor": "#A2B1C6"
            },
            "baxis": {
             "endlinecolor": "#A2B1C6",
             "gridcolor": "#506784",
             "linecolor": "#506784",
             "minorgridcolor": "#506784",
             "startlinecolor": "#A2B1C6"
            },
            "type": "carpet"
           }
          ],
          "choropleth": [
           {
            "colorbar": {
             "outlinewidth": 0,
             "ticks": ""
            },
            "type": "choropleth"
           }
          ],
          "contour": [
           {
            "colorbar": {
             "outlinewidth": 0,
             "ticks": ""
            },
            "colorscale": [
             [
              0,
              "#0d0887"
             ],
             [
              0.1111111111111111,
              "#46039f"
             ],
             [
              0.2222222222222222,
              "#7201a8"
             ],
             [
              0.3333333333333333,
              "#9c179e"
             ],
             [
              0.4444444444444444,
              "#bd3786"
             ],
             [
              0.5555555555555556,
              "#d8576b"
             ],
             [
              0.6666666666666666,
              "#ed7953"
             ],
             [
              0.7777777777777778,
              "#fb9f3a"
             ],
             [
              0.8888888888888888,
              "#fdca26"
             ],
             [
              1,
              "#f0f921"
             ]
            ],
            "type": "contour"
           }
          ],
          "contourcarpet": [
           {
            "colorbar": {
             "outlinewidth": 0,
             "ticks": ""
            },
            "type": "contourcarpet"
           }
          ],
          "heatmap": [
           {
            "colorbar": {
             "outlinewidth": 0,
             "ticks": ""
            },
            "colorscale": [
             [
              0,
              "#0d0887"
             ],
             [
              0.1111111111111111,
              "#46039f"
             ],
             [
              0.2222222222222222,
              "#7201a8"
             ],
             [
              0.3333333333333333,
              "#9c179e"
             ],
             [
              0.4444444444444444,
              "#bd3786"
             ],
             [
              0.5555555555555556,
              "#d8576b"
             ],
             [
              0.6666666666666666,
              "#ed7953"
             ],
             [
              0.7777777777777778,
              "#fb9f3a"
             ],
             [
              0.8888888888888888,
              "#fdca26"
             ],
             [
              1,
              "#f0f921"
             ]
            ],
            "type": "heatmap"
           }
          ],
          "heatmapgl": [
           {
            "colorbar": {
             "outlinewidth": 0,
             "ticks": ""
            },
            "colorscale": [
             [
              0,
              "#0d0887"
             ],
             [
              0.1111111111111111,
              "#46039f"
             ],
             [
              0.2222222222222222,
              "#7201a8"
             ],
             [
              0.3333333333333333,
              "#9c179e"
             ],
             [
              0.4444444444444444,
              "#bd3786"
             ],
             [
              0.5555555555555556,
              "#d8576b"
             ],
             [
              0.6666666666666666,
              "#ed7953"
             ],
             [
              0.7777777777777778,
              "#fb9f3a"
             ],
             [
              0.8888888888888888,
              "#fdca26"
             ],
             [
              1,
              "#f0f921"
             ]
            ],
            "type": "heatmapgl"
           }
          ],
          "histogram": [
           {
            "marker": {
             "pattern": {
              "fillmode": "overlay",
              "size": 10,
              "solidity": 0.2
             }
            },
            "type": "histogram"
           }
          ],
          "histogram2d": [
           {
            "colorbar": {
             "outlinewidth": 0,
             "ticks": ""
            },
            "colorscale": [
             [
              0,
              "#0d0887"
             ],
             [
              0.1111111111111111,
              "#46039f"
             ],
             [
              0.2222222222222222,
              "#7201a8"
             ],
             [
              0.3333333333333333,
              "#9c179e"
             ],
             [
              0.4444444444444444,
              "#bd3786"
             ],
             [
              0.5555555555555556,
              "#d8576b"
             ],
             [
              0.6666666666666666,
              "#ed7953"
             ],
             [
              0.7777777777777778,
              "#fb9f3a"
             ],
             [
              0.8888888888888888,
              "#fdca26"
             ],
             [
              1,
              "#f0f921"
             ]
            ],
            "type": "histogram2d"
           }
          ],
          "histogram2dcontour": [
           {
            "colorbar": {
             "outlinewidth": 0,
             "ticks": ""
            },
            "colorscale": [
             [
              0,
              "#0d0887"
             ],
             [
              0.1111111111111111,
              "#46039f"
             ],
             [
              0.2222222222222222,
              "#7201a8"
             ],
             [
              0.3333333333333333,
              "#9c179e"
             ],
             [
              0.4444444444444444,
              "#bd3786"
             ],
             [
              0.5555555555555556,
              "#d8576b"
             ],
             [
              0.6666666666666666,
              "#ed7953"
             ],
             [
              0.7777777777777778,
              "#fb9f3a"
             ],
             [
              0.8888888888888888,
              "#fdca26"
             ],
             [
              1,
              "#f0f921"
             ]
            ],
            "type": "histogram2dcontour"
           }
          ],
          "mesh3d": [
           {
            "colorbar": {
             "outlinewidth": 0,
             "ticks": ""
            },
            "type": "mesh3d"
           }
          ],
          "parcoords": [
           {
            "line": {
             "colorbar": {
              "outlinewidth": 0,
              "ticks": ""
             }
            },
            "type": "parcoords"
           }
          ],
          "pie": [
           {
            "automargin": true,
            "type": "pie"
           }
          ],
          "scatter": [
           {
            "marker": {
             "line": {
              "color": "#283442"
             }
            },
            "type": "scatter"
           }
          ],
          "scatter3d": [
           {
            "line": {
             "colorbar": {
              "outlinewidth": 0,
              "ticks": ""
             }
            },
            "marker": {
             "colorbar": {
              "outlinewidth": 0,
              "ticks": ""
             }
            },
            "type": "scatter3d"
           }
          ],
          "scattercarpet": [
           {
            "marker": {
             "colorbar": {
              "outlinewidth": 0,
              "ticks": ""
             }
            },
            "type": "scattercarpet"
           }
          ],
          "scattergeo": [
           {
            "marker": {
             "colorbar": {
              "outlinewidth": 0,
              "ticks": ""
             }
            },
            "type": "scattergeo"
           }
          ],
          "scattergl": [
           {
            "marker": {
             "line": {
              "color": "#283442"
             }
            },
            "type": "scattergl"
           }
          ],
          "scattermapbox": [
           {
            "marker": {
             "colorbar": {
              "outlinewidth": 0,
              "ticks": ""
             }
            },
            "type": "scattermapbox"
           }
          ],
          "scatterpolar": [
           {
            "marker": {
             "colorbar": {
              "outlinewidth": 0,
              "ticks": ""
             }
            },
            "type": "scatterpolar"
           }
          ],
          "scatterpolargl": [
           {
            "marker": {
             "colorbar": {
              "outlinewidth": 0,
              "ticks": ""
             }
            },
            "type": "scatterpolargl"
           }
          ],
          "scatterternary": [
           {
            "marker": {
             "colorbar": {
              "outlinewidth": 0,
              "ticks": ""
             }
            },
            "type": "scatterternary"
           }
          ],
          "surface": [
           {
            "colorbar": {
             "outlinewidth": 0,
             "ticks": ""
            },
            "colorscale": [
             [
              0,
              "#0d0887"
             ],
             [
              0.1111111111111111,
              "#46039f"
             ],
             [
              0.2222222222222222,
              "#7201a8"
             ],
             [
              0.3333333333333333,
              "#9c179e"
             ],
             [
              0.4444444444444444,
              "#bd3786"
             ],
             [
              0.5555555555555556,
              "#d8576b"
             ],
             [
              0.6666666666666666,
              "#ed7953"
             ],
             [
              0.7777777777777778,
              "#fb9f3a"
             ],
             [
              0.8888888888888888,
              "#fdca26"
             ],
             [
              1,
              "#f0f921"
             ]
            ],
            "type": "surface"
           }
          ],
          "table": [
           {
            "cells": {
             "fill": {
              "color": "#506784"
             },
             "line": {
              "color": "rgb(17,17,17)"
             }
            },
            "header": {
             "fill": {
              "color": "#2a3f5f"
             },
             "line": {
              "color": "rgb(17,17,17)"
             }
            },
            "type": "table"
           }
          ]
         },
         "layout": {
          "annotationdefaults": {
           "arrowcolor": "#f2f5fa",
           "arrowhead": 0,
           "arrowwidth": 1
          },
          "autotypenumbers": "strict",
          "coloraxis": {
           "colorbar": {
            "outlinewidth": 0,
            "ticks": ""
           }
          },
          "colorscale": {
           "diverging": [
            [
             0,
             "#8e0152"
            ],
            [
             0.1,
             "#c51b7d"
            ],
            [
             0.2,
             "#de77ae"
            ],
            [
             0.3,
             "#f1b6da"
            ],
            [
             0.4,
             "#fde0ef"
            ],
            [
             0.5,
             "#f7f7f7"
            ],
            [
             0.6,
             "#e6f5d0"
            ],
            [
             0.7,
             "#b8e186"
            ],
            [
             0.8,
             "#7fbc41"
            ],
            [
             0.9,
             "#4d9221"
            ],
            [
             1,
             "#276419"
            ]
           ],
           "sequential": [
            [
             0,
             "#0d0887"
            ],
            [
             0.1111111111111111,
             "#46039f"
            ],
            [
             0.2222222222222222,
             "#7201a8"
            ],
            [
             0.3333333333333333,
             "#9c179e"
            ],
            [
             0.4444444444444444,
             "#bd3786"
            ],
            [
             0.5555555555555556,
             "#d8576b"
            ],
            [
             0.6666666666666666,
             "#ed7953"
            ],
            [
             0.7777777777777778,
             "#fb9f3a"
            ],
            [
             0.8888888888888888,
             "#fdca26"
            ],
            [
             1,
             "#f0f921"
            ]
           ],
           "sequentialminus": [
            [
             0,
             "#0d0887"
            ],
            [
             0.1111111111111111,
             "#46039f"
            ],
            [
             0.2222222222222222,
             "#7201a8"
            ],
            [
             0.3333333333333333,
             "#9c179e"
            ],
            [
             0.4444444444444444,
             "#bd3786"
            ],
            [
             0.5555555555555556,
             "#d8576b"
            ],
            [
             0.6666666666666666,
             "#ed7953"
            ],
            [
             0.7777777777777778,
             "#fb9f3a"
            ],
            [
             0.8888888888888888,
             "#fdca26"
            ],
            [
             1,
             "#f0f921"
            ]
           ]
          },
          "colorway": [
           "#636efa",
           "#EF553B",
           "#00cc96",
           "#ab63fa",
           "#FFA15A",
           "#19d3f3",
           "#FF6692",
           "#B6E880",
           "#FF97FF",
           "#FECB52"
          ],
          "font": {
           "color": "#f2f5fa"
          },
          "geo": {
           "bgcolor": "rgb(17,17,17)",
           "lakecolor": "rgb(17,17,17)",
           "landcolor": "rgb(17,17,17)",
           "showlakes": true,
           "showland": true,
           "subunitcolor": "#506784"
          },
          "hoverlabel": {
           "align": "left"
          },
          "hovermode": "closest",
          "mapbox": {
           "style": "dark"
          },
          "paper_bgcolor": "rgb(17,17,17)",
          "plot_bgcolor": "rgb(17,17,17)",
          "polar": {
           "angularaxis": {
            "gridcolor": "#506784",
            "linecolor": "#506784",
            "ticks": ""
           },
           "bgcolor": "rgb(17,17,17)",
           "radialaxis": {
            "gridcolor": "#506784",
            "linecolor": "#506784",
            "ticks": ""
           }
          },
          "scene": {
           "xaxis": {
            "backgroundcolor": "rgb(17,17,17)",
            "gridcolor": "#506784",
            "gridwidth": 2,
            "linecolor": "#506784",
            "showbackground": true,
            "ticks": "",
            "zerolinecolor": "#C8D4E3"
           },
           "yaxis": {
            "backgroundcolor": "rgb(17,17,17)",
            "gridcolor": "#506784",
            "gridwidth": 2,
            "linecolor": "#506784",
            "showbackground": true,
            "ticks": "",
            "zerolinecolor": "#C8D4E3"
           },
           "zaxis": {
            "backgroundcolor": "rgb(17,17,17)",
            "gridcolor": "#506784",
            "gridwidth": 2,
            "linecolor": "#506784",
            "showbackground": true,
            "ticks": "",
            "zerolinecolor": "#C8D4E3"
           }
          },
          "shapedefaults": {
           "line": {
            "color": "#f2f5fa"
           }
          },
          "sliderdefaults": {
           "bgcolor": "#C8D4E3",
           "bordercolor": "rgb(17,17,17)",
           "borderwidth": 1,
           "tickwidth": 0
          },
          "ternary": {
           "aaxis": {
            "gridcolor": "#506784",
            "linecolor": "#506784",
            "ticks": ""
           },
           "baxis": {
            "gridcolor": "#506784",
            "linecolor": "#506784",
            "ticks": ""
           },
           "bgcolor": "rgb(17,17,17)",
           "caxis": {
            "gridcolor": "#506784",
            "linecolor": "#506784",
            "ticks": ""
           }
          },
          "title": {
           "x": 0.05
          },
          "updatemenudefaults": {
           "bgcolor": "#506784",
           "borderwidth": 0
          },
          "xaxis": {
           "automargin": true,
           "gridcolor": "#283442",
           "linecolor": "#506784",
           "ticks": "",
           "title": {
            "standoff": 15
           },
           "zerolinecolor": "#283442",
           "zerolinewidth": 2
          },
          "yaxis": {
           "automargin": true,
           "gridcolor": "#283442",
           "linecolor": "#506784",
           "ticks": "",
           "title": {
            "standoff": 15
           },
           "zerolinecolor": "#283442",
           "zerolinewidth": 2
          }
         }
        },
        "xaxis": {
         "visible": false
        },
        "yaxis": {
         "visible": false
        }
       }
      }
     },
     "metadata": {},
     "output_type": "display_data"
    }
   ],
   "source": [
    "px_plot_nx(G, color=\"country\", hover_name=\"name\", size=\"rank\", template=\"plotly_dark\")#,text=\"label\")"
   ]
  },
  {
   "cell_type": "code",
   "execution_count": null,
   "id": "25bb0146",
   "metadata": {},
   "outputs": [],
   "source": []
  }
 ],
 "metadata": {
  "jupytext": {
   "formats": "ipynb,py:percent"
  },
  "kernelspec": {
   "display_name": "peopleanalytics-hP1UcNMM",
   "language": "python",
   "name": "python3"
  },
  "language_info": {
   "codemirror_mode": {
    "name": "ipython",
    "version": 3
   },
   "file_extension": ".py",
   "mimetype": "text/x-python",
   "name": "python",
   "nbconvert_exporter": "python",
   "pygments_lexer": "ipython3",
   "version": "3.11.0"
  },
  "vscode": {
   "interpreter": {
    "hash": "a79ebb34bd880ae1609598d91f5437f974a2fc812a889a38194f0c3042249b1f"
   }
  }
 },
 "nbformat": 4,
 "nbformat_minor": 5
}
