{
 "cells": [
  {
   "attachments": {},
   "cell_type": "markdown",
   "id": "bb042e3f-caba-44ee-9747-e74d6bebe1e8",
   "metadata": {},
   "source": [
    "# Understanding People with Network Graphs in Python\n",
    "\n",
    "Now we can really start"
   ]
  },
  {
   "cell_type": "markdown",
   "id": "97967b91-a222-4690-98f2-e1a8812b4436",
   "metadata": {},
   "source": [
    "## NetworkX\n",
    "\n",
    "> NetworkX is a Python package for the creation, manipulation, and study of the structure, dynamics, and functions of complex networks - https://networkx.org/\n",
    "\n",
    "NetworkX provides an easy-to-use, *fast*, graph framework to represent relationships in-memory"
   ]
  },
  {
   "cell_type": "code",
   "execution_count": 30,
   "id": "1658990e-5928-448b-b2e4-37dda46b087d",
   "metadata": {
    "execution": {
     "iopub.execute_input": "2023-01-17T18:44:00.986929Z",
     "iopub.status.busy": "2023-01-17T18:44:00.986472Z",
     "iopub.status.idle": "2023-01-17T18:44:00.993341Z",
     "shell.execute_reply": "2023-01-17T18:44:00.992498Z",
     "shell.execute_reply.started": "2023-01-17T18:44:00.986900Z"
    },
    "tags": []
   },
   "outputs": [],
   "source": [
    "import networkx as nx\n",
    "\n",
    "G = nx.Graph()"
   ]
  },
  {
   "cell_type": "markdown",
   "id": "13562879",
   "metadata": {},
   "source": [
    "It's easy to load in data one at a time"
   ]
  },
  {
   "cell_type": "code",
   "execution_count": 31,
   "id": "471e74f0",
   "metadata": {},
   "outputs": [],
   "source": [
    "G.add_node(\"Me\", type=\"person\", languages=[\"Python\"])"
   ]
  },
  {
   "attachments": {},
   "cell_type": "markdown",
   "id": "e012926e",
   "metadata": {},
   "source": [
    "Or from an iterable object"
   ]
  },
  {
   "cell_type": "code",
   "execution_count": 32,
   "id": "2a9211a0",
   "metadata": {},
   "outputs": [],
   "source": [
    "G.add_nodes_from((\n",
    "    (\"You\",dict(languages=[\"Python\",\"Scala\"])),\n",
    "    (\"Them\",dict(languages=[\"Python\",\"Javascript\"]))\n",
    "), type=\"person\")"
   ]
  },
  {
   "attachments": {},
   "cell_type": "markdown",
   "id": "ef360a75",
   "metadata": {},
   "source": [
    "Now we can look at the new data structure and play around with it:"
   ]
  },
  {
   "cell_type": "code",
   "execution_count": 33,
   "id": "b01d9d99",
   "metadata": {},
   "outputs": [
    {
     "data": {
      "text/plain": [
       "NodeView(('Me', 'You', 'Them'))"
      ]
     },
     "execution_count": 33,
     "metadata": {},
     "output_type": "execute_result"
    }
   ],
   "source": [
    "G.nodes() # show all the node labels"
   ]
  },
  {
   "cell_type": "code",
   "execution_count": 34,
   "id": "ec14eaae",
   "metadata": {},
   "outputs": [
    {
     "data": {
      "text/plain": [
       "NodeDataView({'Me': {'type': 'person', 'languages': ['Python']}, 'You': {'type': 'person', 'languages': ['Python', 'Scala']}, 'Them': {'type': 'person', 'languages': ['Python', 'Javascript']}})"
      ]
     },
     "execution_count": 34,
     "metadata": {},
     "output_type": "execute_result"
    }
   ],
   "source": [
    "G.nodes(data=True) # show all attributes in nodes"
   ]
  },
  {
   "cell_type": "code",
   "execution_count": 35,
   "id": "db49b4d1",
   "metadata": {},
   "outputs": [
    {
     "data": {
      "text/plain": [
       "NodeDataView({'Me': ['Python'], 'You': ['Python', 'Scala'], 'Them': ['Python', 'Javascript']}, data='languages')"
      ]
     },
     "execution_count": 35,
     "metadata": {},
     "output_type": "execute_result"
    }
   ],
   "source": [
    "G.nodes(data=\"languages\") # show a specific attribute"
   ]
  },
  {
   "cell_type": "code",
   "execution_count": 36,
   "id": "953812ea",
   "metadata": {},
   "outputs": [],
   "source": [
    "G.add_edge(\"Me\",\"You\", label=\"friends\") # add an edge connecting two nodes ...\n",
    "G.add_edge(\"You\",\"Them\", label=\"friends\") # add an edge connecting two nodes ..."
   ]
  },
  {
   "attachments": {},
   "cell_type": "markdown",
   "id": "8b03bdaa",
   "metadata": {},
   "source": [
    "There are lots of common and complex graph analysis functions available to make the most of the data structure "
   ]
  },
  {
   "cell_type": "code",
   "execution_count": 37,
   "id": "6cc3e239",
   "metadata": {},
   "outputs": [
    {
     "data": {
      "text/plain": [
       "['Me', 'You', 'Them']"
      ]
     },
     "execution_count": 37,
     "metadata": {},
     "output_type": "execute_result"
    }
   ],
   "source": [
    "nx.shortest_path(G, source=\"Me\", target=\"Them\") # find paths between nodes through edges"
   ]
  },
  {
   "cell_type": "code",
   "execution_count": 38,
   "id": "687da67f",
   "metadata": {},
   "outputs": [
    {
     "data": {
      "text/plain": [
       "AdjacencyView({'Me': {'You': {'label': 'friends'}}, 'You': {'Me': {'label': 'friends'}, 'Them': {'label': 'friends'}}, 'Them': {'You': {'label': 'friends'}}})"
      ]
     },
     "execution_count": 38,
     "metadata": {},
     "output_type": "execute_result"
    }
   ],
   "source": [
    "G.adj # find adjacent nodes"
   ]
  },
  {
   "attachments": {},
   "cell_type": "markdown",
   "id": "e0e5f833",
   "metadata": {},
   "source": [
    "And visualizing is built-in with `matplotlib`. We will pretty this up later with `plotly`"
   ]
  },
  {
   "cell_type": "code",
   "execution_count": 39,
   "id": "ca619931",
   "metadata": {},
   "outputs": [
    {
     "data": {
      "image/png": "[encoded data removed]",
      "text/plain": [
       "<Figure size 640x480 with 1 Axes>"
      ]
     },
     "metadata": {},
     "output_type": "display_data"
    }
   ],
   "source": [
    "nx.draw(G, with_labels=True)"
   ]
  },
  {
   "attachments": {},
   "cell_type": "markdown",
   "id": "db1c0d52-e90b-4350-8305-100509d6a35a",
   "metadata": {},
   "source": [
    "### Some People Data\n",
    "\n",
    "Let's re-use what we made before:"
   ]
  },
  {
   "cell_type": "code",
   "execution_count": 101,
   "id": "df1be6be-eea6-4d90-ba02-0272178b4a20",
   "metadata": {
    "execution": {
     "iopub.execute_input": "2023-01-10T16:24:10.124771Z",
     "iopub.status.busy": "2023-01-10T16:24:10.124487Z",
     "iopub.status.idle": "2023-01-10T16:24:10.147905Z",
     "shell.execute_reply": "2023-01-10T16:24:10.140943Z",
     "shell.execute_reply.started": "2023-01-10T16:24:10.124743Z"
    },
    "tags": []
   },
   "outputs": [
    {
     "name": "stdout",
     "output_type": "stream",
     "text": [
      "Mr.\n",
      "Dr.\n",
      "Mrs.\n",
      "Misc.\n",
      "Ind.\n",
      "Mx.\n",
      "Miss\n",
      "Ms.\n",
      "😟\n"
     ]
    }
   ],
   "source": [
    "%run \"../Part 0 - The Data/Solution.ipynb\""
   ]
  },
  {
   "cell_type": "markdown",
   "id": "445abc61-e1f7-4d41-9417-bd6824682de0",
   "metadata": {},
   "source": [
    "## The Graph\n",
    "\n",
    "Now we're ready to define and populate the network graph. NetworkX provides helpful methods to populate the structure from an iterable. Here we massage our list of `people` a bit in order to give a unique name to each *node* in the graph:"
   ]
  },
  {
   "cell_type": "code",
   "execution_count": 103,
   "id": "36bd1b93-0a4f-404b-aa83-ad91beb2f7df",
   "metadata": {
    "execution": {
     "iopub.execute_input": "2023-01-10T16:24:10.195816Z",
     "iopub.status.busy": "2023-01-10T16:24:10.195488Z",
     "iopub.status.idle": "2023-01-10T16:24:10.213653Z",
     "shell.execute_reply": "2023-01-10T16:24:10.212633Z",
     "shell.execute_reply.started": "2023-01-10T16:24:10.195788Z"
    },
    "tags": []
   },
   "outputs": [
    {
     "data": {
      "text/plain": [
       "NodeDataView({'Bradley Martinez': {'person': True, 'type': 'person', 'name': 'Bradley Martinez', 'hire_date': '20230508', 'status': 'Full Time', 'languages': ['Python', 'JavaScript'], 'manager': 'Brian Delgado', 'team': 'Business', 'title': 'Analyst', 'location': {'city': 'London', 'tz': 'UTC', 'country': 'GBR'}, 'rank': 1.0, 'city': 'London', 'tz': 'UTC', 'country': 'GBR'}, 'Andrea Miller': {'person': True, 'type': 'person', 'name': 'Andrea Miller', 'hire_date': '20201202', 'status': 'Contract', 'languages': [], 'manager': 'Lauren Wagner', 'team': 'Business', 'title': 'Analyst', 'location': {'city': 'New York', 'tz': 'EST', 'country': 'USA'}, 'rank': 1.0, 'city': 'New York', 'tz': 'EST', 'country': 'USA'}, 'Alan Jones': {'person': True, 'type': 'person', 'name': 'Alan Jones', 'hire_date': '20221227', 'status': 'Full Time', 'languages': ['Typescript'], 'manager': 'Lauren Wagner', 'team': 'Business', 'title': 'Analyst', 'location': {'city': 'New York', 'tz': 'EST', 'country': 'USA'}, 'rank': 1.0, 'city': 'New York', 'tz': 'EST', 'country': 'USA'}, 'Justin Newton': {'person': True, 'type': 'person', 'name': 'Justin Newton', 'hire_date': '20211230', 'status': 'Full Time', 'languages': ['Java'], 'manager': 'Philip Rivera', 'team': 'Business', 'title': 'Analyst', 'location': {'city': 'London', 'tz': 'UTC', 'country': 'GBR'}, 'rank': 1.0, 'city': 'London', 'tz': 'UTC', 'country': 'GBR'}, 'Amy Mendoza': {'person': True, 'type': 'person', 'name': 'Amy Mendoza', 'hire_date': '20211210', 'status': 'Contract', 'languages': ['Python'], 'manager': 'Philip Rivera', 'team': 'Business', 'title': 'Analyst', 'location': {'city': 'Toronto', 'tz': 'EST', 'country': 'CAN'}, 'rank': 1.0, 'city': 'Toronto', 'tz': 'EST', 'country': 'CAN'}, 'Samantha Cross': {'person': True, 'type': 'person', 'name': 'Samantha Cross', 'hire_date': '20210129', 'status': 'Full Time', 'languages': [], 'manager': 'Philip Rivera', 'team': 'Business', 'title': 'Analyst', 'location': {'city': 'Toronto', 'tz': 'EST', 'country': 'CAN'}, 'rank': 1.0, 'city': 'Toronto', 'tz': 'EST', 'country': 'CAN'}, 'Ralph Olsen': {'person': True, 'type': 'person', 'name': 'Ralph Olsen', 'hire_date': '20220826', 'status': 'Contract', 'languages': [], 'manager': 'Angela Ray', 'team': 'Business', 'title': 'Analyst', 'location': {'city': 'New York', 'tz': 'EST', 'country': 'USA'}, 'rank': 1.0, 'city': 'New York', 'tz': 'EST', 'country': 'USA'}, 'Nicolas Adams': {'person': True, 'type': 'person', 'name': 'Nicolas Adams', 'hire_date': '20201102', 'status': 'Contract', 'languages': ['Python', 'JavaScript'], 'manager': 'Angela Ray', 'team': 'Business', 'title': 'Analyst', 'location': {'city': 'London', 'tz': 'UTC', 'country': 'GBR'}, 'rank': 1.0, 'city': 'London', 'tz': 'UTC', 'country': 'GBR'}, 'Dr. Maurice Hobbs': {'person': True, 'type': 'person', 'name': 'Dr. Maurice Hobbs', 'hire_date': '20220918', 'status': 'Full Time', 'languages': ['Java', 'Python', 'JavaScript'], 'manager': 'Angela Ray', 'team': 'Business', 'title': 'Analyst', 'location': {'city': 'Toronto', 'tz': 'EST', 'country': 'CAN'}, 'rank': 1.0, 'city': 'Toronto', 'tz': 'EST', 'country': 'CAN'}, 'Dale Wall': {'person': True, 'type': 'person', 'name': 'Dale Wall', 'hire_date': '20210912', 'status': 'Full Time', 'languages': ['Scala', 'Java', 'Python', 'JavaScript'], 'manager': 'Angela Ray', 'team': 'Business', 'title': 'Analyst', 'location': {'city': 'London', 'tz': 'UTC', 'country': 'GBR'}, 'rank': 1.0, 'city': 'London', 'tz': 'UTC', 'country': 'GBR'}, 'Tim Ochoa MD': {'person': True, 'type': 'person', 'name': 'Tim Ochoa MD', 'hire_date': '20230717', 'status': 'Contract', 'languages': ['Java'], 'manager': 'Janet Carter', 'team': 'Business', 'title': 'Analyst', 'location': {'city': 'New York', 'tz': 'EST', 'country': 'USA'}, 'rank': 1.0, 'city': 'New York', 'tz': 'EST', 'country': 'USA'}, 'George Cuevas': {'person': True, 'type': 'person', 'name': 'George Cuevas', 'hire_date': '20231023', 'status': 'Contract', 'languages': ['Typescript', 'Java', 'JavaScript'], 'manager': 'Brian Delgado', 'team': 'Business', 'title': 'Associate', 'location': {'city': 'London', 'tz': 'UTC', 'country': 'GBR'}, 'rank': 2.0, 'city': 'London', 'tz': 'UTC', 'country': 'GBR'}, 'Nancy Lambert': {'person': True, 'type': 'person', 'name': 'Nancy Lambert', 'hire_date': '20210815', 'status': 'Full Time', 'languages': ['Scala', 'Java', 'Python', 'JavaScript'], 'manager': 'Lauren Wagner', 'team': 'Business', 'title': 'Associate', 'location': {'city': 'London', 'tz': 'UTC', 'country': 'GBR'}, 'rank': 2.0, 'city': 'London', 'tz': 'UTC', 'country': 'GBR'}, 'Jorge Lynch': {'person': True, 'type': 'person', 'name': 'Jorge Lynch', 'hire_date': '20220526', 'status': 'Contract', 'languages': ['Java', 'Python'], 'manager': 'Richard Lopez', 'team': 'Business', 'title': 'Associate', 'location': {'city': 'London', 'tz': 'UTC', 'country': 'GBR'}, 'rank': 2.0, 'city': 'London', 'tz': 'UTC', 'country': 'GBR'}, 'Brittany Jenkins': {'person': True, 'type': 'person', 'name': 'Brittany Jenkins', 'hire_date': '20220701', 'status': 'Full Time', 'languages': ['Java', 'Typescript', 'Python', 'JavaScript'], 'manager': 'Richard Lopez', 'team': 'Business', 'title': 'Associate', 'location': {'city': 'London', 'tz': 'UTC', 'country': 'GBR'}, 'rank': 2.0, 'city': 'London', 'tz': 'UTC', 'country': 'GBR'}, 'Jose Barton': {'person': True, 'type': 'person', 'name': 'Jose Barton', 'hire_date': '20220320', 'status': 'Full Time', 'languages': ['Scala', 'Go', 'Typescript', 'Java', 'Python'], 'manager': 'David Miles', 'team': 'Business', 'title': 'Associate', 'location': {'city': 'Toronto', 'tz': 'EST', 'country': 'CAN'}, 'rank': 2.0, 'city': 'Toronto', 'tz': 'EST', 'country': 'CAN'}, 'Toni Hanna': {'person': True, 'type': 'person', 'name': 'Toni Hanna', 'hire_date': '20231011', 'status': 'Full Time', 'languages': ['Python', 'JavaScript'], 'manager': 'David Miles', 'team': 'Business', 'title': 'Associate', 'location': {'city': 'London', 'tz': 'UTC', 'country': 'GBR'}, 'rank': 2.0, 'city': 'London', 'tz': 'UTC', 'country': 'GBR'}, 'Lauren Cowan': {'person': True, 'type': 'person', 'name': 'Lauren Cowan', 'hire_date': '20201124', 'status': 'Full Time', 'languages': ['JavaScript', 'Scala', 'Typescript', 'Java', 'Python'], 'manager': 'Angela Ray', 'team': 'Business', 'title': 'Associate', 'location': {'city': 'New York', 'tz': 'EST', 'country': 'USA'}, 'rank': 2.0, 'city': 'New York', 'tz': 'EST', 'country': 'USA'}, 'Christie Roberts': {'person': True, 'type': 'person', 'name': 'Christie Roberts', 'hire_date': '20210617', 'status': 'Contract', 'languages': ['Scala', 'Python', 'JavaScript'], 'manager': 'Angela Ray', 'team': 'Business', 'title': 'Associate', 'location': {'city': 'London', 'tz': 'UTC', 'country': 'GBR'}, 'rank': 2.0, 'city': 'London', 'tz': 'UTC', 'country': 'GBR'}, 'Jessica Morgan': {'person': True, 'type': 'person', 'name': 'Jessica Morgan', 'hire_date': '20221018', 'status': 'Contract', 'languages': ['Typescript'], 'manager': 'Angela Ray', 'team': 'Business', 'title': 'Associate', 'location': {'city': 'New York', 'tz': 'EST', 'country': 'USA'}, 'rank': 2.0, 'city': 'New York', 'tz': 'EST', 'country': 'USA'}, 'Lauren Wagner': {'person': True, 'type': 'person', 'name': 'Lauren Wagner', 'hire_date': '20230723', 'status': 'Full Time', 'languages': ['Scala'], 'manager': 'Brian Delgado', 'team': 'Business', 'title': 'Vice President', 'location': {'city': 'London', 'tz': 'UTC', 'country': 'GBR'}, 'rank': 3.0, 'city': 'London', 'tz': 'UTC', 'country': 'GBR'}, 'Victor Heath': {'person': True, 'type': 'person', 'name': 'Victor Heath', 'hire_date': '20221208', 'status': 'Full Time', 'languages': ['Scala'], 'manager': 'Richard Lopez', 'team': 'Business', 'title': 'Vice President', 'location': {'city': 'London', 'tz': 'UTC', 'country': 'GBR'}, 'rank': 3.0, 'city': 'London', 'tz': 'UTC', 'country': 'GBR'}, 'Kendra Rodriguez': {'person': True, 'type': 'person', 'name': 'Kendra Rodriguez', 'hire_date': '20230704', 'status': 'Contract', 'languages': ['Erlang'], 'manager': 'Philip Rivera', 'team': 'Business', 'title': 'Vice President', 'location': {'city': 'Toronto', 'tz': 'EST', 'country': 'CAN'}, 'rank': 3.0, 'city': 'Toronto', 'tz': 'EST', 'country': 'CAN'}, 'Emily Boyd': {'person': True, 'type': 'person', 'name': 'Emily Boyd', 'hire_date': '20210527', 'status': 'Part Time', 'languages': ['Java', 'JavaScript'], 'manager': 'Philip Rivera', 'team': 'Business', 'title': 'Vice President', 'location': {'city': 'London', 'tz': 'UTC', 'country': 'GBR'}, 'rank': 3.0, 'city': 'London', 'tz': 'UTC', 'country': 'GBR'}, 'Michael Anderson': {'person': True, 'type': 'person', 'name': 'Michael Anderson', 'hire_date': '20221103', 'status': 'Full Time', 'languages': ['Python'], 'manager': 'Angela Ray', 'team': 'Business', 'title': 'Vice President', 'location': {'city': 'Toronto', 'tz': 'EST', 'country': 'CAN'}, 'rank': 3.0, 'city': 'Toronto', 'tz': 'EST', 'country': 'CAN'}, 'Kylie Copeland': {'person': True, 'type': 'person', 'name': 'Kylie Copeland', 'hire_date': '20211230', 'status': 'Full Time', 'languages': [], 'manager': 'Angela Ray', 'team': 'Business', 'title': 'Vice President', 'location': {'city': 'New York', 'tz': 'EST', 'country': 'USA'}, 'rank': 3.0, 'city': 'New York', 'tz': 'EST', 'country': 'USA'}, 'Mrs. Mary Sanchez': {'person': True, 'type': 'person', 'name': 'Mrs. Mary Sanchez', 'hire_date': '20221113', 'status': 'Full Time', 'languages': ['JavaScript'], 'manager': 'Richard Lopez', 'team': 'Business', 'title': 'Director', 'location': {'city': 'London', 'tz': 'UTC', 'country': 'GBR'}, 'rank': 4.0, 'city': 'London', 'tz': 'UTC', 'country': 'GBR'}, 'Jacqueline Mcdonald': {'person': True, 'type': 'person', 'name': 'Jacqueline Mcdonald', 'hire_date': '20220501', 'status': 'Contract', 'languages': ['Typescript', 'Java', 'JavaScript'], 'manager': 'Richard Lopez', 'team': 'Business', 'title': 'Director', 'location': {'city': 'London', 'tz': 'UTC', 'country': 'GBR'}, 'rank': 4.0, 'city': 'London', 'tz': 'UTC', 'country': 'GBR'}, 'Nicole Sanders': {'person': True, 'type': 'person', 'name': 'Nicole Sanders', 'hire_date': '20201105', 'status': 'Part Time', 'languages': [], 'manager': 'Richard Lopez', 'team': 'Business', 'title': 'Director', 'location': {'city': 'New York', 'tz': 'EST', 'country': 'USA'}, 'rank': 4.0, 'city': 'New York', 'tz': 'EST', 'country': 'USA'}, 'Sabrina Fitzgerald': {'person': True, 'type': 'person', 'name': 'Sabrina Fitzgerald', 'hire_date': '20230902', 'status': 'Full Time', 'languages': ['Go', 'JavaScript'], 'manager': 'Angela Ray', 'team': 'Business', 'title': 'Director', 'location': {'city': 'London', 'tz': 'UTC', 'country': 'GBR'}, 'rank': 4.0, 'city': 'London', 'tz': 'UTC', 'country': 'GBR'}, 'Cynthia Leonard': {'person': True, 'type': 'person', 'name': 'Cynthia Leonard', 'hire_date': '20220206', 'status': 'Full Time', 'languages': ['Python'], 'manager': 'Brian Delgado', 'team': 'Business', 'title': 'Managing Director', 'location': {'city': 'London', 'tz': 'UTC', 'country': 'GBR'}, 'rank': 5.0, 'city': 'London', 'tz': 'UTC', 'country': 'GBR'}, 'Anna Hays': {'person': True, 'type': 'person', 'name': 'Anna Hays', 'hire_date': '20211031', 'status': 'Part Time', 'languages': ['Scala', 'Java', 'JavaScript'], 'manager': 'Cynthia Leonard', 'team': 'Business', 'title': 'Managing Director', 'location': {'city': 'London', 'tz': 'UTC', 'country': 'GBR'}, 'rank': 5.0, 'city': 'London', 'tz': 'UTC', 'country': 'GBR'}, 'Richard Lopez': {'person': True, 'type': 'person', 'name': 'Richard Lopez', 'hire_date': '20220121', 'status': 'Full Time', 'languages': ['Typescript', 'Java'], 'manager': 'Cynthia Leonard', 'team': 'Business', 'title': 'Managing Director', 'location': {'city': 'London', 'tz': 'UTC', 'country': 'GBR'}, 'rank': 5.0, 'city': 'London', 'tz': 'UTC', 'country': 'GBR'}, 'David Miles': {'person': True, 'type': 'person', 'name': 'David Miles', 'hire_date': '20211120', 'status': 'Contract', 'languages': ['Typescript', 'Java', 'Python', 'JavaScript'], 'manager': 'Cynthia Leonard', 'team': 'Business', 'title': 'Managing Director', 'location': {'city': 'London', 'tz': 'UTC', 'country': 'GBR'}, 'rank': 5.0, 'city': 'London', 'tz': 'UTC', 'country': 'GBR'}, 'Philip Rivera': {'person': True, 'type': 'person', 'name': 'Philip Rivera', 'hire_date': '20230411', 'status': 'Full Time', 'languages': ['Scala', 'Typescript', 'Go'], 'manager': 'Cynthia Leonard', 'team': 'Business', 'title': 'Managing Director', 'location': {'city': 'Toronto', 'tz': 'EST', 'country': 'CAN'}, 'rank': 5.0, 'city': 'Toronto', 'tz': 'EST', 'country': 'CAN'}, 'Angela Ray': {'person': True, 'type': 'person', 'name': 'Angela Ray', 'hire_date': '20230914', 'status': 'Full Time', 'languages': ['Java', 'JavaScript'], 'manager': 'Cynthia Leonard', 'team': 'Business', 'title': 'Managing Director', 'location': {'city': 'London', 'tz': 'UTC', 'country': 'GBR'}, 'rank': 5.0, 'city': 'London', 'tz': 'UTC', 'country': 'GBR'}, 'Briana Hill': {'person': True, 'type': 'person', 'name': 'Briana Hill', 'hire_date': '20230308', 'status': 'Full Time', 'languages': [], 'manager': 'Cynthia Leonard', 'team': 'Business', 'title': 'Managing Director', 'location': {'city': 'New York', 'tz': 'EST', 'country': 'USA'}, 'rank': 5.0, 'city': 'New York', 'tz': 'EST', 'country': 'USA'}, 'Janet Carter': {'person': True, 'type': 'person', 'name': 'Janet Carter', 'hire_date': '20220526', 'status': 'Contract', 'languages': [], 'manager': 'Cynthia Leonard', 'team': 'Business', 'title': 'Managing Director', 'location': {'city': 'London', 'tz': 'UTC', 'country': 'GBR'}, 'rank': 5.0, 'city': 'London', 'tz': 'UTC', 'country': 'GBR'}, 'Zachary Meza': {'person': True, 'type': 'person', 'name': 'Zachary Meza', 'hire_date': '20230518', 'status': 'Contract', 'languages': ['Scala', 'Erlang', 'Java', 'JavaScript'], 'manager': 'Kaylee Davis', 'team': 'DevOps', 'title': 'Engineer', 'location': {'city': 'Dublin', 'tz': 'UTC', 'country': 'IRL'}, 'rank': 1.0, 'city': 'Dublin', 'tz': 'UTC', 'country': 'IRL'}, 'Michael Andrews': {'person': True, 'type': 'person', 'name': 'Michael Andrews', 'hire_date': '20220118', 'status': 'Full Time', 'languages': [], 'manager': 'Rebecca Davis', 'team': 'DevOps', 'title': 'Senior Engineer', 'location': {'city': 'Dublin', 'tz': 'UTC', 'country': 'IRL'}, 'rank': 2.0, 'city': 'Dublin', 'tz': 'UTC', 'country': 'IRL'}, 'Maria Eaton': {'person': True, 'type': 'person', 'name': 'Maria Eaton', 'hire_date': '20231024', 'status': 'Full Time', 'languages': ['Go', 'JavaScript'], 'manager': 'Kaylee Davis', 'team': 'DevOps', 'title': 'Senior Engineer', 'location': {'city': 'Dublin', 'tz': 'UTC', 'country': 'IRL'}, 'rank': 2.0, 'city': 'Dublin', 'tz': 'UTC', 'country': 'IRL'}, 'Amanda Cameron': {'person': True, 'type': 'person', 'name': 'Amanda Cameron', 'hire_date': '20220410', 'status': 'Full Time', 'languages': [], 'manager': 'Rebecca Davis', 'team': 'DevOps', 'title': 'Manager', 'location': {'city': 'Dublin', 'tz': 'UTC', 'country': 'IRL'}, 'rank': 3.0, 'city': 'Dublin', 'tz': 'UTC', 'country': 'IRL'}, 'Mary Thomas': {'person': True, 'type': 'person', 'name': 'Mary Thomas', 'hire_date': '20220412', 'status': 'Contract', 'languages': [], 'manager': 'Kaylee Davis', 'team': 'DevOps', 'title': 'Manager', 'location': {'city': 'Dublin', 'tz': 'UTC', 'country': 'IRL'}, 'rank': 3.0, 'city': 'Dublin', 'tz': 'UTC', 'country': 'IRL'}, 'Phillip Saunders': {'person': True, 'type': 'person', 'name': 'Phillip Saunders', 'hire_date': '20230709', 'status': 'Part Time', 'languages': ['Typescript', 'Python'], 'manager': 'Jennifer Davis', 'team': 'DevOps', 'title': 'Manager', 'location': {'city': 'Dublin', 'tz': 'UTC', 'country': 'IRL'}, 'rank': 3.0, 'city': 'Dublin', 'tz': 'UTC', 'country': 'IRL'}, 'Rebecca Davis': {'person': True, 'type': 'person', 'name': 'Rebecca Davis', 'hire_date': '20220915', 'status': 'Full Time', 'languages': ['Java', 'Python'], 'manager': 'Brian Delgado', 'team': 'DevOps', 'title': 'Senior Manager', 'location': {'city': 'Dublin', 'tz': 'UTC', 'country': 'IRL'}, 'rank': 4.0, 'city': 'Dublin', 'tz': 'UTC', 'country': 'IRL'}, 'Kaylee Davis': {'person': True, 'type': 'person', 'name': 'Kaylee Davis', 'hire_date': '20220221', 'status': 'Full Time', 'languages': ['Typescript', 'JavaScript'], 'manager': 'Rebecca Davis', 'team': 'DevOps', 'title': 'Senior Manager', 'location': {'city': 'Dublin', 'tz': 'UTC', 'country': 'IRL'}, 'rank': 4.0, 'city': 'Dublin', 'tz': 'UTC', 'country': 'IRL'}, 'Jennifer Davis': {'person': True, 'type': 'person', 'name': 'Jennifer Davis', 'hire_date': '20201215', 'status': 'Contract', 'languages': ['Java', 'JavaScript'], 'manager': 'Rebecca Davis', 'team': 'DevOps', 'title': 'Senior Manager', 'location': {'city': 'Dublin', 'tz': 'UTC', 'country': 'IRL'}, 'rank': 4.0, 'city': 'Dublin', 'tz': 'UTC', 'country': 'IRL'}, 'Barbara Mullins': {'person': True, 'type': 'person', 'name': 'Barbara Mullins', 'hire_date': '20230323', 'status': 'Full Time', 'languages': ['Scala', 'Typescript', 'Java', 'Python'], 'manager': 'Brian Delgado', 'team': 'DevX', 'title': 'Engineer', 'location': {'city': 'Fort Lauderdale', 'tz': 'EST', 'country': 'USA'}, 'rank': 5.0, 'city': 'Fort Lauderdale', 'tz': 'EST', 'country': 'USA'}, 'Susan Shaw': {'person': True, 'type': 'person', 'name': 'Susan Shaw', 'hire_date': '20210912', 'status': 'Full Time', 'languages': ['Python', 'JavaScript'], 'manager': 'Barbara Mullins', 'team': 'DevX', 'title': 'Engineer', 'location': {'city': 'Fort Lauderdale', 'tz': 'EST', 'country': 'USA'}, 'rank': 5.0, 'city': 'Fort Lauderdale', 'tz': 'EST', 'country': 'USA'}, 'Vicki Lopez': {'person': True, 'type': 'person', 'name': 'Vicki Lopez', 'hire_date': '20220317', 'status': 'Full Time', 'languages': ['Typescript', 'Java', 'JavaScript'], 'manager': 'Barbara Mullins', 'team': 'DevX', 'title': 'Engineer', 'location': {'city': 'Fort Lauderdale', 'tz': 'EST', 'country': 'USA'}, 'rank': 5.0, 'city': 'Fort Lauderdale', 'tz': 'EST', 'country': 'USA'}, 'Mr. Donald Moore': {'person': True, 'type': 'person', 'name': 'Mr. Donald Moore', 'hire_date': '20211007', 'status': 'Full Time', 'languages': ['Scala'], 'manager': 'Barbara Mullins', 'team': 'DevX', 'title': 'Engineer', 'location': {'city': 'Fort Lauderdale', 'tz': 'EST', 'country': 'USA'}, 'rank': 5.0, 'city': 'Fort Lauderdale', 'tz': 'EST', 'country': 'USA'}, 'Tanya Boyd': {'person': True, 'type': 'person', 'name': 'Tanya Boyd', 'hire_date': '20221020', 'status': 'Full Time', 'languages': ['Java', 'Python', 'JavaScript'], 'manager': 'Barbara Mullins', 'team': 'DevX', 'title': 'Engineer', 'location': {'city': 'Fort Lauderdale', 'tz': 'EST', 'country': 'USA'}, 'rank': 5.0, 'city': 'Fort Lauderdale', 'tz': 'EST', 'country': 'USA'}, 'Ralph Phillips': {'person': True, 'type': 'person', 'name': 'Ralph Phillips', 'hire_date': '20210108', 'status': 'Contract', 'languages': ['Python', 'JavaScript'], 'manager': 'Barbara Mullins', 'team': 'DevX', 'title': 'Engineer', 'location': {'city': 'Fort Lauderdale', 'tz': 'EST', 'country': 'USA'}, 'rank': 5.0, 'city': 'Fort Lauderdale', 'tz': 'EST', 'country': 'USA'}, 'Amanda House': {'person': True, 'type': 'person', 'name': 'Amanda House', 'hire_date': '20230908', 'status': 'Full Time', 'languages': [], 'manager': 'Barbara Mullins', 'team': 'DevX', 'title': 'Engineer', 'location': {'city': 'Fort Lauderdale', 'tz': 'EST', 'country': 'USA'}, 'rank': 5.0, 'city': 'Fort Lauderdale', 'tz': 'EST', 'country': 'USA'}, 'Samantha Taylor': {'person': True, 'type': 'person', 'name': 'Samantha Taylor', 'hire_date': '20211108', 'status': 'Contract', 'languages': ['Java', 'Python', 'JavaScript'], 'manager': 'Barbara Mullins', 'team': 'DevX', 'title': 'Engineer', 'location': {'city': 'Fort Lauderdale', 'tz': 'EST', 'country': 'USA'}, 'rank': 5.0, 'city': 'Fort Lauderdale', 'tz': 'EST', 'country': 'USA'}, 'Michael Ross': {'person': True, 'type': 'person', 'name': 'Michael Ross', 'hire_date': '20221225', 'status': 'Full Time', 'languages': ['JavaScript', 'Scala', 'Go', 'Java', 'Python'], 'manager': 'Barbara Mullins', 'team': 'DevX', 'title': 'Engineer', 'location': {'city': 'Fort Lauderdale', 'tz': 'EST', 'country': 'USA'}, 'rank': 5.0, 'city': 'Fort Lauderdale', 'tz': 'EST', 'country': 'USA'}, 'Casey Watson': {'person': True, 'type': 'person', 'name': 'Casey Watson', 'hire_date': '20220210', 'status': 'Full Time', 'languages': ['Typescript', 'Python', 'JavaScript'], 'manager': 'Barbara Mullins', 'team': 'DevX', 'title': 'Engineer', 'location': {'city': 'Fort Lauderdale', 'tz': 'EST', 'country': 'USA'}, 'rank': 5.0, 'city': 'Fort Lauderdale', 'tz': 'EST', 'country': 'USA'}, 'Eric White': {'person': True, 'type': 'person', 'name': 'Eric White', 'hire_date': '20210329', 'status': 'Full Time', 'languages': ['Go', 'JavaScript'], 'manager': 'Barbara Mullins', 'team': 'DevX', 'title': 'Engineer', 'location': {'city': 'Fort Lauderdale', 'tz': 'EST', 'country': 'USA'}, 'rank': 5.0, 'city': 'Fort Lauderdale', 'tz': 'EST', 'country': 'USA'}, 'Stephen Watkins': {'person': True, 'type': 'person', 'name': 'Stephen Watkins', 'hire_date': '20201110', 'status': 'Full Time', 'languages': ['Java'], 'manager': 'Barbara Mullins', 'team': 'DevX', 'title': 'Engineer', 'location': {'city': 'Fort Lauderdale', 'tz': 'EST', 'country': 'USA'}, 'rank': 5.0, 'city': 'Fort Lauderdale', 'tz': 'EST', 'country': 'USA'}, 'Annette Shields': {'person': True, 'type': 'person', 'name': 'Annette Shields', 'hire_date': '20230823', 'status': 'Full Time', 'languages': [], 'manager': 'Barbara Mullins', 'team': 'DevX', 'title': 'Engineer', 'location': {'city': 'Fort Lauderdale', 'tz': 'EST', 'country': 'USA'}, 'rank': 5.0, 'city': 'Fort Lauderdale', 'tz': 'EST', 'country': 'USA'}, 'Nicole Bean': {'person': True, 'type': 'person', 'name': 'Nicole Bean', 'hire_date': '20220309', 'status': 'Contract', 'languages': ['Scala', 'Java', 'Python', 'JavaScript'], 'manager': 'Barbara Mullins', 'team': 'DevX', 'title': 'Engineer', 'location': {'city': 'Fort Lauderdale', 'tz': 'EST', 'country': 'USA'}, 'rank': 5.0, 'city': 'Fort Lauderdale', 'tz': 'EST', 'country': 'USA'}, 'James Perez': {'person': True, 'type': 'person', 'name': 'James Perez', 'hire_date': '20230713', 'status': 'Contract', 'languages': [], 'manager': 'Barbara Mullins', 'team': 'DevX', 'title': 'Engineer', 'location': {'city': 'Fort Lauderdale', 'tz': 'EST', 'country': 'USA'}, 'rank': 5.0, 'city': 'Fort Lauderdale', 'tz': 'EST', 'country': 'USA'}, 'Brandon Fuller': {'person': True, 'type': 'person', 'name': 'Brandon Fuller', 'hire_date': '20210428', 'status': 'Contract', 'languages': ['JavaScript'], 'manager': 'Barbara Mullins', 'team': 'DevX', 'title': 'Engineer', 'location': {'city': 'Fort Lauderdale', 'tz': 'EST', 'country': 'USA'}, 'rank': 5.0, 'city': 'Fort Lauderdale', 'tz': 'EST', 'country': 'USA'}, 'Dorothy Wise': {'person': True, 'type': 'person', 'name': 'Dorothy Wise', 'hire_date': '20221105', 'status': 'Full Time', 'languages': ['Java'], 'manager': 'Barbara Mullins', 'team': 'DevX', 'title': 'Engineer', 'location': {'city': 'Fort Lauderdale', 'tz': 'EST', 'country': 'USA'}, 'rank': 5.0, 'city': 'Fort Lauderdale', 'tz': 'EST', 'country': 'USA'}, 'Nathan Gallegos': {'person': True, 'type': 'person', 'name': 'Nathan Gallegos', 'hire_date': '20210731', 'status': 'Contract', 'languages': ['JavaScript', 'Go', 'Typescript', 'Java', 'Python'], 'manager': 'Brandon Morris', 'team': 'Internal Tools', 'title': 'Engineer', 'location': {'city': 'Seattle', 'tz': 'PST', 'country': 'USA'}, 'rank': 1.0, 'city': 'Seattle', 'tz': 'PST', 'country': 'USA'}, 'Suzanne Rodriguez': {'person': True, 'type': 'person', 'name': 'Suzanne Rodriguez', 'hire_date': '20230916', 'status': 'Part Time', 'languages': [], 'manager': 'Angelica Peters', 'team': 'Internal Tools', 'title': 'Engineer', 'location': {'city': 'Seattle', 'tz': 'PST', 'country': 'USA'}, 'rank': 1.0, 'city': 'Seattle', 'tz': 'PST', 'country': 'USA'}, 'Michael Arnold': {'person': True, 'type': 'person', 'name': 'Michael Arnold', 'hire_date': '20220723', 'status': 'Part Time', 'languages': [], 'manager': 'Todd Collier', 'team': 'Internal Tools', 'title': 'Manager', 'location': {'city': 'Seattle', 'tz': 'PST', 'country': 'USA'}, 'rank': 3.0, 'city': 'Seattle', 'tz': 'PST', 'country': 'USA'}, 'Brandon Morris': {'person': True, 'type': 'person', 'name': 'Brandon Morris', 'hire_date': '20201203', 'status': 'Contract', 'languages': [], 'manager': 'Brian Delgado', 'team': 'Internal Tools', 'title': 'AVP', 'location': {'city': 'Seattle', 'tz': 'PST', 'country': 'USA'}, 'rank': 4.0, 'city': 'Seattle', 'tz': 'PST', 'country': 'USA'}, 'Alicia Howell': {'person': True, 'type': 'person', 'name': 'Alicia Howell', 'hire_date': '20230225', 'status': 'Full Time', 'languages': ['Typescript', 'Python', 'JavaScript'], 'manager': 'Todd Collier', 'team': 'Internal Tools', 'title': 'AVP', 'location': {'city': 'Seattle', 'tz': 'PST', 'country': 'USA'}, 'rank': 4.0, 'city': 'Seattle', 'tz': 'PST', 'country': 'USA'}, 'Debra Kim': {'person': True, 'type': 'person', 'name': 'Debra Kim', 'hire_date': '20230613', 'status': 'Full Time', 'languages': ['Scala', 'Python'], 'manager': 'Angelica Peters', 'team': 'Internal Tools', 'title': 'AVP', 'location': {'city': 'Seattle', 'tz': 'PST', 'country': 'USA'}, 'rank': 4.0, 'city': 'Seattle', 'tz': 'PST', 'country': 'USA'}, 'Todd Collier': {'person': True, 'type': 'person', 'name': 'Todd Collier', 'hire_date': '20221222', 'status': 'Contract', 'languages': [], 'manager': 'Brian Delgado', 'team': 'Internal Tools', 'title': 'VP', 'location': {'city': 'Toronto', 'tz': 'EST', 'country': 'CAN'}, 'rank': 5.0, 'city': 'Toronto', 'tz': 'EST', 'country': 'CAN'}, 'Angelica Peters': {'person': True, 'type': 'person', 'name': 'Angelica Peters', 'hire_date': '20210424', 'status': 'Full Time', 'languages': [], 'manager': 'Todd Collier', 'team': 'Internal Tools', 'title': 'VP', 'location': {'city': 'Seattle', 'tz': 'PST', 'country': 'USA'}, 'rank': 5.0, 'city': 'Seattle', 'tz': 'PST', 'country': 'USA'}, 'Casey Adams': {'person': True, 'type': 'person', 'name': 'Casey Adams', 'hire_date': '20220622', 'status': 'Contract', 'languages': ['Scala', 'Java', 'JavaScript'], 'manager': 'Brian Delgado', 'team': 'Platform', 'title': 'Engineer', 'location': {'city': 'Seattle', 'tz': 'PST', 'country': 'USA'}, 'rank': 1.0, 'city': 'Seattle', 'tz': 'PST', 'country': 'USA'}, 'Angel Bennett': {'person': True, 'type': 'person', 'name': 'Angel Bennett', 'hire_date': '20210531', 'status': 'Contract', 'languages': ['Java', 'JavaScript'], 'manager': 'Casey Adams', 'team': 'Platform', 'title': 'Engineer', 'location': {'city': 'Seattle', 'tz': 'PST', 'country': 'USA'}, 'rank': 1.0, 'city': 'Seattle', 'tz': 'PST', 'country': 'USA'}, 'Stacey Morris': {'person': True, 'type': 'person', 'name': 'Stacey Morris', 'hire_date': '20220310', 'status': 'Full Time', 'languages': [], 'manager': 'David Robertson', 'team': 'Platform', 'title': 'Engineer', 'location': {'city': 'Seattle', 'tz': 'PST', 'country': 'USA'}, 'rank': 1.0, 'city': 'Seattle', 'tz': 'PST', 'country': 'USA'}, 'Thomas Tran': {'person': True, 'type': 'person', 'name': 'Thomas Tran', 'hire_date': '20210123', 'status': 'Contract', 'languages': [], 'manager': 'Laura Jones', 'team': 'Platform', 'title': 'Senior Engineer', 'location': {'city': 'Toronto', 'tz': 'EST', 'country': 'CAN'}, 'rank': 2.0, 'city': 'Toronto', 'tz': 'EST', 'country': 'CAN'}, 'Jackie Cummings': {'person': True, 'type': 'person', 'name': 'Jackie Cummings', 'hire_date': '20220115', 'status': 'Full Time', 'languages': ['Scala'], 'manager': 'Brian Delgado', 'team': 'Platform', 'title': 'Managing Engineer', 'location': {'city': 'Seattle', 'tz': 'PST', 'country': 'USA'}, 'rank': 3.0, 'city': 'Seattle', 'tz': 'PST', 'country': 'USA'}, 'Laura Jones': {'person': True, 'type': 'person', 'name': 'Laura Jones', 'hire_date': '20220515', 'status': 'Contract', 'languages': ['Java', 'Python', 'JavaScript'], 'manager': 'Jackie Cummings', 'team': 'Platform', 'title': 'Managing Engineer', 'location': {'city': 'Toronto', 'tz': 'EST', 'country': 'CAN'}, 'rank': 3.0, 'city': 'Toronto', 'tz': 'EST', 'country': 'CAN'}, 'Lori Craig': {'person': True, 'type': 'person', 'name': 'Lori Craig', 'hire_date': '20220816', 'status': 'Full Time', 'languages': ['Scala', 'Python'], 'manager': 'David Robertson', 'team': 'Platform', 'title': 'Managing Engineer', 'location': {'city': 'Seattle', 'tz': 'PST', 'country': 'USA'}, 'rank': 3.0, 'city': 'Seattle', 'tz': 'PST', 'country': 'USA'}, 'Jasmine Garcia': {'person': True, 'type': 'person', 'name': 'Jasmine Garcia', 'hire_date': '20230220', 'status': 'Contract', 'languages': ['Java', 'Python', 'JavaScript'], 'manager': 'David Robertson', 'team': 'Platform', 'title': 'Managing Engineer', 'location': {'city': 'Seattle', 'tz': 'PST', 'country': 'USA'}, 'rank': 3.0, 'city': 'Seattle', 'tz': 'PST', 'country': 'USA'}, 'Mark Pham': {'person': True, 'type': 'person', 'name': 'Mark Pham', 'hire_date': '20230510', 'status': 'Contract', 'languages': [], 'manager': 'David Robertson', 'team': 'Platform', 'title': 'Managing Engineer', 'location': {'city': 'Seattle', 'tz': 'PST', 'country': 'USA'}, 'rank': 3.0, 'city': 'Seattle', 'tz': 'PST', 'country': 'USA'}, 'Linda Bennett': {'person': True, 'type': 'person', 'name': 'Linda Bennett', 'hire_date': '20230316', 'status': 'Contract', 'languages': ['Typescript', 'Go', 'JavaScript'], 'manager': 'David Robertson', 'team': 'Platform', 'title': 'Managing Engineer', 'location': {'city': 'Seattle', 'tz': 'PST', 'country': 'USA'}, 'rank': 3.0, 'city': 'Seattle', 'tz': 'PST', 'country': 'USA'}, 'Michael Diaz': {'person': True, 'type': 'person', 'name': 'Michael Diaz', 'hire_date': '20210115', 'status': 'Part Time', 'languages': ['Typescript', 'JavaScript'], 'manager': 'David Robertson', 'team': 'Platform', 'title': 'Managing Engineer', 'location': {'city': 'Toronto', 'tz': 'EST', 'country': 'CAN'}, 'rank': 3.0, 'city': 'Toronto', 'tz': 'EST', 'country': 'CAN'}, 'Jordan Alvarez': {'person': True, 'type': 'person', 'name': 'Jordan Alvarez', 'hire_date': '20210723', 'status': 'Contract', 'languages': ['Java', 'JavaScript'], 'manager': 'David Robertson', 'team': 'Platform', 'title': 'Managing Engineer', 'location': {'city': 'Seattle', 'tz': 'PST', 'country': 'USA'}, 'rank': 3.0, 'city': 'Seattle', 'tz': 'PST', 'country': 'USA'}, 'Erica Turner': {'person': True, 'type': 'person', 'name': 'Erica Turner', 'hire_date': '20220801', 'status': 'Full Time', 'languages': ['Scala', 'Java', 'JavaScript'], 'manager': 'Brian Delgado', 'team': 'Platform', 'title': 'VP', 'location': {'city': 'Seattle', 'tz': 'PST', 'country': 'USA'}, 'rank': 5.0, 'city': 'Seattle', 'tz': 'PST', 'country': 'USA'}, 'Elizabeth Crawford': {'person': True, 'type': 'person', 'name': 'Elizabeth Crawford', 'hire_date': '20201210', 'status': 'Full Time', 'languages': ['Typescript', 'JavaScript'], 'manager': 'Erica Turner', 'team': 'Platform', 'title': 'VP', 'location': {'city': 'Toronto', 'tz': 'EST', 'country': 'CAN'}, 'rank': 5.0, 'city': 'Toronto', 'tz': 'EST', 'country': 'CAN'}, 'David Robertson': {'person': True, 'type': 'person', 'name': 'David Robertson', 'hire_date': '20230105', 'status': 'Contract', 'languages': [], 'manager': 'Erica Turner', 'team': 'Platform', 'title': 'VP', 'location': {'city': 'Seattle', 'tz': 'PST', 'country': 'USA'}, 'rank': 5.0, 'city': 'Seattle', 'tz': 'PST', 'country': 'USA'}, 'Mrs. Ashley Wilson': {'person': True, 'type': 'person', 'name': 'Mrs. Ashley Wilson', 'hire_date': '20201103', 'status': 'Full Time', 'languages': [], 'manager': 'John Moyer', 'team': 'Product', 'title': 'Engineer', 'location': {'city': 'Toronto', 'tz': 'EST', 'country': 'CAN'}, 'rank': 1.0, 'city': 'Toronto', 'tz': 'EST', 'country': 'CAN'}, 'Ronnie Wiggins': {'person': True, 'type': 'person', 'name': 'Ronnie Wiggins', 'hire_date': '20210725', 'status': 'Full Time', 'languages': ['Scala'], 'manager': 'John Moyer', 'team': 'Product', 'title': 'Engineer', 'location': {'city': 'Seattle', 'tz': 'PST', 'country': 'USA'}, 'rank': 1.0, 'city': 'Seattle', 'tz': 'PST', 'country': 'USA'}, 'William Peters': {'person': True, 'type': 'person', 'name': 'William Peters', 'hire_date': '20230524', 'status': 'Full Time', 'languages': [], 'manager': 'John Moyer', 'team': 'Product', 'title': 'Engineer', 'location': {'city': 'Seattle', 'tz': 'PST', 'country': 'USA'}, 'rank': 1.0, 'city': 'Seattle', 'tz': 'PST', 'country': 'USA'}, 'Latasha Lee': {'person': True, 'type': 'person', 'name': 'Latasha Lee', 'hire_date': '20211022', 'status': 'Contract', 'languages': ['Scala', 'Java', 'Python'], 'manager': 'John Moyer', 'team': 'Product', 'title': 'Engineer', 'location': {'city': 'Seattle', 'tz': 'PST', 'country': 'USA'}, 'rank': 1.0, 'city': 'Seattle', 'tz': 'PST', 'country': 'USA'}, 'Ann Rodriguez': {'person': True, 'type': 'person', 'name': 'Ann Rodriguez', 'hire_date': '20230206', 'status': 'Full Time', 'languages': ['Java', 'Python'], 'manager': 'Donna Wilkins', 'team': 'Product', 'title': 'Engineer', 'location': {'city': 'Seattle', 'tz': 'PST', 'country': 'USA'}, 'rank': 1.0, 'city': 'Seattle', 'tz': 'PST', 'country': 'USA'}, 'Brittany Williams': {'person': True, 'type': 'person', 'name': 'Brittany Williams', 'hire_date': '20220130', 'status': 'Part Time', 'languages': ['Scala', 'Java'], 'manager': 'Mary Moore', 'team': 'Product', 'title': 'Engineer', 'location': {'city': 'Seattle', 'tz': 'PST', 'country': 'USA'}, 'rank': 1.0, 'city': 'Seattle', 'tz': 'PST', 'country': 'USA'}, 'Julia Bryant': {'person': True, 'type': 'person', 'name': 'Julia Bryant', 'hire_date': '20230713', 'status': 'Contract', 'languages': ['Python', 'JavaScript'], 'manager': 'John Moyer', 'team': 'Product', 'title': 'Manager', 'location': {'city': 'New York', 'tz': 'EST', 'country': 'USA'}, 'rank': 2.0, 'city': 'New York', 'tz': 'EST', 'country': 'USA'}, 'Maria Coffey': {'person': True, 'type': 'person', 'name': 'Maria Coffey', 'hire_date': '20221219', 'status': 'Full Time', 'languages': [], 'manager': 'John Moyer', 'team': 'Product', 'title': 'Manager', 'location': {'city': 'New York', 'tz': 'EST', 'country': 'USA'}, 'rank': 2.0, 'city': 'New York', 'tz': 'EST', 'country': 'USA'}, 'Eileen Ford': {'person': True, 'type': 'person', 'name': 'Eileen Ford', 'hire_date': '20230522', 'status': 'Full Time', 'languages': ['Python', 'JavaScript'], 'manager': 'John Moyer', 'team': 'Product', 'title': 'Manager', 'location': {'city': 'Toronto', 'tz': 'EST', 'country': 'CAN'}, 'rank': 2.0, 'city': 'Toronto', 'tz': 'EST', 'country': 'CAN'}, 'Stephanie Wong': {'person': True, 'type': 'person', 'name': 'Stephanie Wong', 'hire_date': '20221114', 'status': 'Contract', 'languages': ['Java', 'Python', 'Go', 'JavaScript'], 'manager': 'John Moyer', 'team': 'Product', 'title': 'Manager', 'location': {'city': 'New York', 'tz': 'EST', 'country': 'USA'}, 'rank': 2.0, 'city': 'New York', 'tz': 'EST', 'country': 'USA'}, 'Debra Evans': {'person': True, 'type': 'person', 'name': 'Debra Evans', 'hire_date': '20230321', 'status': 'Contract', 'languages': [], 'manager': 'Donna Wilkins', 'team': 'Product', 'title': 'Manager', 'location': {'city': 'Seattle', 'tz': 'PST', 'country': 'USA'}, 'rank': 2.0, 'city': 'Seattle', 'tz': 'PST', 'country': 'USA'}, 'Aaron Reid': {'person': True, 'type': 'person', 'name': 'Aaron Reid', 'hire_date': '20220112', 'status': 'Full Time', 'languages': ['Java', 'Python', 'JavaScript'], 'manager': 'John Moyer', 'team': 'Product', 'title': 'Product Owner', 'location': {'city': 'Toronto', 'tz': 'EST', 'country': 'CAN'}, 'rank': 3.0, 'city': 'Toronto', 'tz': 'EST', 'country': 'CAN'}, 'Mrs. Andrea Mcfarland': {'person': True, 'type': 'person', 'name': 'Mrs. Andrea Mcfarland', 'hire_date': '20210822', 'status': 'Full Time', 'languages': ['Typescript'], 'manager': 'John Moyer', 'team': 'Product', 'title': 'Product Owner', 'location': {'city': 'New York', 'tz': 'EST', 'country': 'USA'}, 'rank': 3.0, 'city': 'New York', 'tz': 'EST', 'country': 'USA'}, 'William Jensen': {'person': True, 'type': 'person', 'name': 'William Jensen', 'hire_date': '20220917', 'status': 'Part Time', 'languages': ['Python', 'JavaScript'], 'manager': 'John Moyer', 'team': 'Product', 'title': 'Product Owner', 'location': {'city': 'Toronto', 'tz': 'EST', 'country': 'CAN'}, 'rank': 3.0, 'city': 'Toronto', 'tz': 'EST', 'country': 'CAN'}, 'Amber Thomas': {'person': True, 'type': 'person', 'name': 'Amber Thomas', 'hire_date': '20210827', 'status': 'Full Time', 'languages': ['Scala', 'Go'], 'manager': 'John Moyer', 'team': 'Product', 'title': 'Product Owner', 'location': {'city': 'Seattle', 'tz': 'PST', 'country': 'USA'}, 'rank': 3.0, 'city': 'Seattle', 'tz': 'PST', 'country': 'USA'}, 'April Cook': {'person': True, 'type': 'person', 'name': 'April Cook', 'hire_date': '20210828', 'status': 'Full Time', 'languages': ['Java'], 'manager': 'John Moyer', 'team': 'Product', 'title': 'Product Owner', 'location': {'city': 'Toronto', 'tz': 'EST', 'country': 'CAN'}, 'rank': 3.0, 'city': 'Toronto', 'tz': 'EST', 'country': 'CAN'}, 'Natalie Patterson': {'person': True, 'type': 'person', 'name': 'Natalie Patterson', 'hire_date': '20231017', 'status': 'Contract', 'languages': ['Scala', 'Python'], 'manager': 'Donna Wilkins', 'team': 'Product', 'title': 'Product Owner', 'location': {'city': 'Toronto', 'tz': 'EST', 'country': 'CAN'}, 'rank': 3.0, 'city': 'Toronto', 'tz': 'EST', 'country': 'CAN'}, 'Nicole Lee': {'person': True, 'type': 'person', 'name': 'Nicole Lee', 'hire_date': '20210422', 'status': 'Full Time', 'languages': ['Scala', 'Java'], 'manager': 'Donna Wilkins', 'team': 'Product', 'title': 'Product Owner', 'location': {'city': 'New York', 'tz': 'EST', 'country': 'USA'}, 'rank': 3.0, 'city': 'New York', 'tz': 'EST', 'country': 'USA'}, 'Tyler Osborne': {'person': True, 'type': 'person', 'name': 'Tyler Osborne', 'hire_date': '20201231', 'status': 'Full Time', 'languages': ['Python'], 'manager': 'Mary Moore', 'team': 'Product', 'title': 'Product Owner', 'location': {'city': 'New York', 'tz': 'EST', 'country': 'USA'}, 'rank': 3.0, 'city': 'New York', 'tz': 'EST', 'country': 'USA'}, 'Nancy Morales': {'person': True, 'type': 'person', 'name': 'Nancy Morales', 'hire_date': '20220508', 'status': 'Full Time', 'languages': [], 'manager': 'John Moyer', 'team': 'Product', 'title': 'AVP', 'location': {'city': 'Seattle', 'tz': 'PST', 'country': 'USA'}, 'rank': 4.0, 'city': 'Seattle', 'tz': 'PST', 'country': 'USA'}, 'Kristen Ramos': {'person': True, 'type': 'person', 'name': 'Kristen Ramos', 'hire_date': '20210514', 'status': 'Full Time', 'languages': ['JavaScript', 'Scala', 'Typescript', 'Java', 'Python'], 'manager': 'John Moyer', 'team': 'Product', 'title': 'AVP', 'location': {'city': 'New York', 'tz': 'EST', 'country': 'USA'}, 'rank': 4.0, 'city': 'New York', 'tz': 'EST', 'country': 'USA'}, 'William Johnson': {'person': True, 'type': 'person', 'name': 'William Johnson', 'hire_date': '20231013', 'status': 'Contract', 'languages': ['Scala'], 'manager': 'Donna Wilkins', 'team': 'Product', 'title': 'AVP', 'location': {'city': 'New York', 'tz': 'EST', 'country': 'USA'}, 'rank': 4.0, 'city': 'New York', 'tz': 'EST', 'country': 'USA'}, 'John Singh': {'person': True, 'type': 'person', 'name': 'John Singh', 'hire_date': '20221029', 'status': 'Full Time', 'languages': [], 'manager': 'Mary Moore', 'team': 'Product', 'title': 'AVP', 'location': {'city': 'Toronto', 'tz': 'EST', 'country': 'CAN'}, 'rank': 4.0, 'city': 'Toronto', 'tz': 'EST', 'country': 'CAN'}, 'John Moyer': {'person': True, 'type': 'person', 'name': 'John Moyer', 'hire_date': '20210129', 'status': 'Full Time', 'languages': ['Scala', 'Python', 'Go'], 'manager': 'Brian Delgado', 'team': 'Product', 'title': 'VP', 'location': {'city': 'New York', 'tz': 'EST', 'country': 'USA'}, 'rank': 5.0, 'city': 'New York', 'tz': 'EST', 'country': 'USA'}, 'David Stewart': {'person': True, 'type': 'person', 'name': 'David Stewart', 'hire_date': '20211009', 'status': 'Contract', 'languages': ['Java', 'Python', 'JavaScript'], 'manager': 'John Moyer', 'team': 'Product', 'title': 'VP', 'location': {'city': 'New York', 'tz': 'EST', 'country': 'USA'}, 'rank': 5.0, 'city': 'New York', 'tz': 'EST', 'country': 'USA'}, 'Donna Wilkins': {'person': True, 'type': 'person', 'name': 'Donna Wilkins', 'hire_date': '20210113', 'status': 'Full Time', 'languages': ['Go', 'JavaScript'], 'manager': 'John Moyer', 'team': 'Product', 'title': 'VP', 'location': {'city': 'Seattle', 'tz': 'PST', 'country': 'USA'}, 'rank': 5.0, 'city': 'Seattle', 'tz': 'PST', 'country': 'USA'}, 'Mary Moore': {'person': True, 'type': 'person', 'name': 'Mary Moore', 'hire_date': '20230301', 'status': 'Full Time', 'languages': [], 'manager': 'John Moyer', 'team': 'Product', 'title': 'VP', 'location': {'city': 'Toronto', 'tz': 'EST', 'country': 'CAN'}, 'rank': 5.0, 'city': 'Toronto', 'tz': 'EST', 'country': 'CAN'}, 'Thomas Miller': {'person': True, 'type': 'person', 'name': 'Thomas Miller', 'hire_date': '20230908', 'status': 'Full Time', 'languages': ['Typescript', 'Python'], 'manager': 'John Moyer', 'team': 'Product', 'title': 'VP', 'location': {'city': 'New York', 'tz': 'EST', 'country': 'USA'}, 'rank': 5.0, 'city': 'New York', 'tz': 'EST', 'country': 'USA'}, 'Christine Andrews': {'person': True, 'type': 'person', 'name': 'Christine Andrews', 'hire_date': '20210206', 'status': 'Full Time', 'languages': ['Typescript'], 'manager': 'Brian Delgado', 'team': 'Sales', 'title': 'Associate', 'location': {'city': 'London', 'tz': 'UTC', 'country': 'GBR'}, 'rank': 1.0, 'city': 'London', 'tz': 'UTC', 'country': 'GBR'}, 'Derek Thompson': {'person': True, 'type': 'person', 'name': 'Derek Thompson', 'hire_date': '20210705', 'status': 'Contract', 'languages': ['Typescript', 'Python', 'JavaScript'], 'manager': 'James Lambert', 'team': 'Sales', 'title': 'Associate', 'location': {'city': 'London', 'tz': 'UTC', 'country': 'GBR'}, 'rank': 1.0, 'city': 'London', 'tz': 'UTC', 'country': 'GBR'}, 'Tina Moore': {'person': True, 'type': 'person', 'name': 'Tina Moore', 'hire_date': '20230816', 'status': 'Contract', 'languages': ['Python'], 'manager': 'Julie Crawford', 'team': 'Sales', 'title': 'Associate', 'location': {'city': 'London', 'tz': 'UTC', 'country': 'GBR'}, 'rank': 1.0, 'city': 'London', 'tz': 'UTC', 'country': 'GBR'}, 'Christine Gonzalez': {'person': True, 'type': 'person', 'name': 'Christine Gonzalez', 'hire_date': '20210222', 'status': 'Full Time', 'languages': ['Java', 'Python', 'JavaScript'], 'manager': 'Julie Crawford', 'team': 'Sales', 'title': 'Associate', 'location': {'city': 'London', 'tz': 'UTC', 'country': 'GBR'}, 'rank': 1.0, 'city': 'London', 'tz': 'UTC', 'country': 'GBR'}, 'Kyle Young': {'person': True, 'type': 'person', 'name': 'Kyle Young', 'hire_date': '20210822', 'status': 'Full Time', 'languages': ['Typescript', 'Java', 'JavaScript'], 'manager': 'Greg Rodgers', 'team': 'Sales', 'title': 'Associate', 'location': {'city': 'New York', 'tz': 'EST', 'country': 'USA'}, 'rank': 1.0, 'city': 'New York', 'tz': 'EST', 'country': 'USA'}, 'Ryan Johnson': {'person': True, 'type': 'person', 'name': 'Ryan Johnson', 'hire_date': '20210412', 'status': 'Full Time', 'languages': ['Scala', 'Java', 'Python'], 'manager': 'Vincent Carroll', 'team': 'Sales', 'title': 'Associate', 'location': {'city': 'New York', 'tz': 'EST', 'country': 'USA'}, 'rank': 1.0, 'city': 'New York', 'tz': 'EST', 'country': 'USA'}, 'Rachel Wilson': {'person': True, 'type': 'person', 'name': 'Rachel Wilson', 'hire_date': '20220502', 'status': 'Contract', 'languages': [], 'manager': 'David Wright', 'team': 'Sales', 'title': 'Associate', 'location': {'city': 'New York', 'tz': 'EST', 'country': 'USA'}, 'rank': 1.0, 'city': 'New York', 'tz': 'EST', 'country': 'USA'}, 'Jessica Hunt': {'person': True, 'type': 'person', 'name': 'Jessica Hunt', 'hire_date': '20230224', 'status': 'Contract', 'languages': ['Java', 'Typescript', 'Python', 'JavaScript'], 'manager': 'Michael Harper', 'team': 'Sales', 'title': 'Associate', 'location': {'city': 'New York', 'tz': 'EST', 'country': 'USA'}, 'rank': 1.0, 'city': 'New York', 'tz': 'EST', 'country': 'USA'}, 'Daniel Webb': {'person': True, 'type': 'person', 'name': 'Daniel Webb', 'hire_date': '20211203', 'status': 'Full Time', 'languages': [], 'manager': 'Brian Delgado', 'team': 'Sales', 'title': 'VP', 'location': {'city': 'London', 'tz': 'UTC', 'country': 'GBR'}, 'rank': 2.0, 'city': 'London', 'tz': 'UTC', 'country': 'GBR'}, 'Julia Miller': {'person': True, 'type': 'person', 'name': 'Julia Miller', 'hire_date': '20211108', 'status': 'Contract', 'languages': ['Scala', 'Java', 'Python'], 'manager': 'Daniel Webb', 'team': 'Sales', 'title': 'VP', 'location': {'city': 'Toronto', 'tz': 'EST', 'country': 'CAN'}, 'rank': 2.0, 'city': 'Toronto', 'tz': 'EST', 'country': 'CAN'}, 'Tina Anderson': {'person': True, 'type': 'person', 'name': 'Tina Anderson', 'hire_date': '20211017', 'status': 'Full Time', 'languages': [], 'manager': 'Daniel Webb', 'team': 'Sales', 'title': 'VP', 'location': {'city': 'London', 'tz': 'UTC', 'country': 'GBR'}, 'rank': 2.0, 'city': 'London', 'tz': 'UTC', 'country': 'GBR'}, 'Cynthia Murray': {'person': True, 'type': 'person', 'name': 'Cynthia Murray', 'hire_date': '20221212', 'status': 'Full Time', 'languages': ['Erlang', 'JavaScript'], 'manager': 'Daniel Webb', 'team': 'Sales', 'title': 'VP', 'location': {'city': 'New York', 'tz': 'EST', 'country': 'USA'}, 'rank': 2.0, 'city': 'New York', 'tz': 'EST', 'country': 'USA'}, 'Todd Stewart': {'person': True, 'type': 'person', 'name': 'Todd Stewart', 'hire_date': '20220803', 'status': 'Full Time', 'languages': [], 'manager': 'Daniel Webb', 'team': 'Sales', 'title': 'VP', 'location': {'city': 'London', 'tz': 'UTC', 'country': 'GBR'}, 'rank': 2.0, 'city': 'London', 'tz': 'UTC', 'country': 'GBR'}, 'James Lambert': {'person': True, 'type': 'person', 'name': 'James Lambert', 'hire_date': '20210406', 'status': 'Full Time', 'languages': ['Java', 'JavaScript'], 'manager': 'Daniel Webb', 'team': 'Sales', 'title': 'VP', 'location': {'city': 'London', 'tz': 'UTC', 'country': 'GBR'}, 'rank': 2.0, 'city': 'London', 'tz': 'UTC', 'country': 'GBR'}, 'Julie Crawford': {'person': True, 'type': 'person', 'name': 'Julie Crawford', 'hire_date': '20220917', 'status': 'Full Time', 'languages': [], 'manager': 'Daniel Webb', 'team': 'Sales', 'title': 'VP', 'location': {'city': 'Toronto', 'tz': 'EST', 'country': 'CAN'}, 'rank': 2.0, 'city': 'Toronto', 'tz': 'EST', 'country': 'CAN'}, 'Sarah Gallagher': {'person': True, 'type': 'person', 'name': 'Sarah Gallagher', 'hire_date': '20220920', 'status': 'Full Time', 'languages': [], 'manager': 'Daniel Webb', 'team': 'Sales', 'title': 'VP', 'location': {'city': 'New York', 'tz': 'EST', 'country': 'USA'}, 'rank': 2.0, 'city': 'New York', 'tz': 'EST', 'country': 'USA'}, 'Greg Rodgers': {'person': True, 'type': 'person', 'name': 'Greg Rodgers', 'hire_date': '20220825', 'status': 'Part Time', 'languages': ['Typescript', 'Go', 'JavaScript'], 'manager': 'Daniel Webb', 'team': 'Sales', 'title': 'VP', 'location': {'city': 'London', 'tz': 'UTC', 'country': 'GBR'}, 'rank': 2.0, 'city': 'London', 'tz': 'UTC', 'country': 'GBR'}, 'Miranda Kidd': {'person': True, 'type': 'person', 'name': 'Miranda Kidd', 'hire_date': '20210310', 'status': 'Full Time', 'languages': ['Scala'], 'manager': 'Daniel Webb', 'team': 'Sales', 'title': 'VP', 'location': {'city': 'New York', 'tz': 'EST', 'country': 'USA'}, 'rank': 2.0, 'city': 'New York', 'tz': 'EST', 'country': 'USA'}, 'Vincent Carroll': {'person': True, 'type': 'person', 'name': 'Vincent Carroll', 'hire_date': '20220307', 'status': 'Full Time', 'languages': ['Python', 'JavaScript'], 'manager': 'Daniel Webb', 'team': 'Sales', 'title': 'VP', 'location': {'city': 'Toronto', 'tz': 'EST', 'country': 'CAN'}, 'rank': 2.0, 'city': 'Toronto', 'tz': 'EST', 'country': 'CAN'}, 'Nichole Zuniga': {'person': True, 'type': 'person', 'name': 'Nichole Zuniga', 'hire_date': '20220706', 'status': 'Full Time', 'languages': ['JavaScript', 'Scala', 'Typescript', 'Java', 'Python'], 'manager': 'Daniel Webb', 'team': 'Sales', 'title': 'VP', 'location': {'city': 'New York', 'tz': 'EST', 'country': 'USA'}, 'rank': 2.0, 'city': 'New York', 'tz': 'EST', 'country': 'USA'}, 'Peter Wallace': {'person': True, 'type': 'person', 'name': 'Peter Wallace', 'hire_date': '20220218', 'status': 'Full Time', 'languages': ['Typescript', 'Java', 'JavaScript'], 'manager': 'Daniel Webb', 'team': 'Sales', 'title': 'VP', 'location': {'city': 'New York', 'tz': 'EST', 'country': 'USA'}, 'rank': 2.0, 'city': 'New York', 'tz': 'EST', 'country': 'USA'}, 'David Wright': {'person': True, 'type': 'person', 'name': 'David Wright', 'hire_date': '20230927', 'status': 'Full Time', 'languages': ['Scala', 'JavaScript'], 'manager': 'Daniel Webb', 'team': 'Sales', 'title': 'VP', 'location': {'city': 'London', 'tz': 'UTC', 'country': 'GBR'}, 'rank': 2.0, 'city': 'London', 'tz': 'UTC', 'country': 'GBR'}, 'Kenneth Patterson': {'person': True, 'type': 'person', 'name': 'Kenneth Patterson', 'hire_date': '20201218', 'status': 'Contract', 'languages': ['Python', 'JavaScript'], 'manager': 'Daniel Webb', 'team': 'Sales', 'title': 'VP', 'location': {'city': 'Toronto', 'tz': 'EST', 'country': 'CAN'}, 'rank': 2.0, 'city': 'Toronto', 'tz': 'EST', 'country': 'CAN'}, 'William Kim': {'person': True, 'type': 'person', 'name': 'William Kim', 'hire_date': '20220831', 'status': 'Full Time', 'languages': [], 'manager': 'Daniel Webb', 'team': 'Sales', 'title': 'VP', 'location': {'city': 'New York', 'tz': 'EST', 'country': 'USA'}, 'rank': 2.0, 'city': 'New York', 'tz': 'EST', 'country': 'USA'}, 'Michael Harper': {'person': True, 'type': 'person', 'name': 'Michael Harper', 'hire_date': '20230123', 'status': 'Full Time', 'languages': ['Typescript', 'Java', 'Go'], 'manager': 'Daniel Webb', 'team': 'Sales', 'title': 'VP', 'location': {'city': 'Toronto', 'tz': 'EST', 'country': 'CAN'}, 'rank': 2.0, 'city': 'Toronto', 'tz': 'EST', 'country': 'CAN'}, 'Michelle Herring': {'person': True, 'type': 'person', 'name': 'Michelle Herring', 'hire_date': '20211022', 'status': 'Full Time', 'languages': ['Scala', 'Java', 'Python', 'JavaScript'], 'manager': 'Joseph Klein', 'team': 'Support', 'title': 'Analyst', 'location': {'city': 'Dublin', 'tz': 'UTC', 'country': 'IRL'}, 'rank': 1.0, 'city': 'Dublin', 'tz': 'UTC', 'country': 'IRL'}, 'Audrey Dodson': {'person': True, 'type': 'person', 'name': 'Audrey Dodson', 'hire_date': '20230607', 'status': 'Contract', 'languages': ['Go', 'JavaScript'], 'manager': 'Joseph Klein', 'team': 'Support', 'title': 'Analyst', 'location': {'city': 'Dublin', 'tz': 'UTC', 'country': 'IRL'}, 'rank': 1.0, 'city': 'Dublin', 'tz': 'UTC', 'country': 'IRL'}, 'Pamela Colon': {'person': True, 'type': 'person', 'name': 'Pamela Colon', 'hire_date': '20230918', 'status': 'Contract', 'languages': ['JavaScript', 'Scala', 'Go', 'Typescript', 'Java', 'Python'], 'manager': 'Jeanette Williams MD', 'team': 'Support', 'title': 'Analyst', 'location': {'city': 'Dublin', 'tz': 'UTC', 'country': 'IRL'}, 'rank': 1.0, 'city': 'Dublin', 'tz': 'UTC', 'country': 'IRL'}, 'Anthony King': {'person': True, 'type': 'person', 'name': 'Anthony King', 'hire_date': '20230207', 'status': 'Full Time', 'languages': ['Java', 'Python'], 'manager': 'Jeanette Williams MD', 'team': 'Support', 'title': 'Analyst', 'location': {'city': 'Dublin', 'tz': 'UTC', 'country': 'IRL'}, 'rank': 1.0, 'city': 'Dublin', 'tz': 'UTC', 'country': 'IRL'}, 'Patricia Santana': {'person': True, 'type': 'person', 'name': 'Patricia Santana', 'hire_date': '20201221', 'status': 'Contract', 'languages': ['Python'], 'manager': 'Jeanette Williams MD', 'team': 'Support', 'title': 'Analyst', 'location': {'city': 'Dublin', 'tz': 'UTC', 'country': 'IRL'}, 'rank': 1.0, 'city': 'Dublin', 'tz': 'UTC', 'country': 'IRL'}, 'Hunter Mckee': {'person': True, 'type': 'person', 'name': 'Hunter Mckee', 'hire_date': '20220130', 'status': 'Full Time', 'languages': [], 'manager': 'Brian Delgado', 'team': 'Support', 'title': 'Manager', 'location': {'city': 'Dublin', 'tz': 'UTC', 'country': 'IRL'}, 'rank': 2.0, 'city': 'Dublin', 'tz': 'UTC', 'country': 'IRL'}, 'Carol Collins': {'person': True, 'type': 'person', 'name': 'Carol Collins', 'hire_date': '20210526', 'status': 'Contract', 'languages': ['Python', 'JavaScript'], 'manager': 'Hunter Mckee', 'team': 'Support', 'title': 'Manager', 'location': {'city': 'Dublin', 'tz': 'UTC', 'country': 'IRL'}, 'rank': 2.0, 'city': 'Dublin', 'tz': 'UTC', 'country': 'IRL'}, 'Joseph Klein': {'person': True, 'type': 'person', 'name': 'Joseph Klein', 'hire_date': '20220427', 'status': 'Full Time', 'languages': ['Java', 'Typescript', 'Python', 'JavaScript'], 'manager': 'Hunter Mckee', 'team': 'Support', 'title': 'Manager', 'location': {'city': 'Dublin', 'tz': 'UTC', 'country': 'IRL'}, 'rank': 2.0, 'city': 'Dublin', 'tz': 'UTC', 'country': 'IRL'}, 'Katherine Mccormick': {'person': True, 'type': 'person', 'name': 'Katherine Mccormick', 'hire_date': '20201104', 'status': 'Full Time', 'languages': ['Typescript', 'Python'], 'manager': 'Hunter Mckee', 'team': 'Support', 'title': 'Manager', 'location': {'city': 'Dublin', 'tz': 'UTC', 'country': 'IRL'}, 'rank': 2.0, 'city': 'Dublin', 'tz': 'UTC', 'country': 'IRL'}, 'Jeanette Williams MD': {'person': True, 'type': 'person', 'name': 'Jeanette Williams MD', 'hire_date': '20220528', 'status': 'Full Time', 'languages': ['Typescript', 'Java'], 'manager': 'Hunter Mckee', 'team': 'Support', 'title': 'Manager', 'location': {'city': 'Dublin', 'tz': 'UTC', 'country': 'IRL'}, 'rank': 2.0, 'city': 'Dublin', 'tz': 'UTC', 'country': 'IRL'}, 'Brian Delgado': {'person': True, 'type': 'person', 'name': 'Brian Delgado', 'hire_date': '20210604', 'status': 'Full Time', 'languages': ['Java'], 'manager': 'Brian Delgado', 'team': 'CEO', 'title': 'CEO', 'location': {'city': 'London', 'tz': 'UTC', 'country': 'GBR'}, 'rank': 6.0, 'city': 'London', 'tz': 'UTC', 'country': 'GBR'}})"
      ]
     },
     "execution_count": 103,
     "metadata": {},
     "output_type": "execute_result"
    }
   ],
   "source": [
    "G = nx.Graph() # a simple undirected graph\n",
    "G.add_nodes_from(((person[\"name\"], person) for person in expanded_df.to_dict(orient=\"records\")), person=True, type=\"person\")\n",
    "G.nodes(data=True) # we can look at the contents (which should be very familiar!)"
   ]
  },
  {
   "attachments": {},
   "cell_type": "markdown",
   "id": "bb8b31bf-8f76-4b64-8251-15f9cd1fbd3f",
   "metadata": {},
   "source": [
    "### Visualizing\n",
    "\n",
    "Graphs lends themselves well to visual representations. NetworkX also makes this easy to do by tapping into Python's workhorse plotting library, `matplotlib`. We will revisit this later with a more dynamic + interactive approach to visualizing, but for the moment this is the fastest way to get things on paper"
   ]
  },
  {
   "cell_type": "code",
   "execution_count": 104,
   "id": "7f9eafe1-d5d1-43b5-a2ca-1e945edf4487",
   "metadata": {
    "execution": {
     "iopub.execute_input": "2023-01-10T16:24:10.215601Z",
     "iopub.status.busy": "2023-01-10T16:24:10.215121Z",
     "iopub.status.idle": "2023-01-10T16:24:11.051765Z",
     "shell.execute_reply": "2023-01-10T16:24:11.050817Z",
     "shell.execute_reply.started": "2023-01-10T16:24:10.215570Z"
    },
    "tags": []
   },
   "outputs": [
    {
     "data": {
      "image/png": "[encoded data removed]",
      "text/plain": [
       "<Figure size 640x480 with 1 Axes>"
      ]
     },
     "metadata": {},
     "output_type": "display_data"
    }
   ],
   "source": [
    "import matplotlib.pyplot as plt\n",
    "nx.draw(G, with_labels=False)"
   ]
  },
  {
   "attachments": {},
   "cell_type": "markdown",
   "id": "f4119b00",
   "metadata": {},
   "source": [
    "Let's add a bit of color to this by mapping colors to the `person.team`. Pick any colorscale from `px.colors` (or make your own!). Generally the *qualitative* colors look nice, anything designed for *categorical* data "
   ]
  },
  {
   "cell_type": "code",
   "execution_count": 105,
   "id": "8e172563",
   "metadata": {},
   "outputs": [
    {
     "data": {
      "text/plain": [
       "{'Business': 'rgb(229, 134, 6)',\n",
       " 'DevOps': 'rgb(93, 105, 177)',\n",
       " 'DevX': 'rgb(82, 188, 163)',\n",
       " 'Internal Tools': 'rgb(153, 201, 69)',\n",
       " 'Platform': 'rgb(204, 97, 176)',\n",
       " 'Product': 'rgb(36, 121, 108)',\n",
       " 'Sales': 'rgb(218, 165, 27)',\n",
       " 'Support': 'rgb(47, 138, 196)',\n",
       " 'CEO': 'rgb(118, 78, 159)'}"
      ]
     },
     "execution_count": 105,
     "metadata": {},
     "output_type": "execute_result"
    }
   ],
   "source": [
    "colors = dict(zip(people_df.team.unique(),px.colors.qualitative.Vivid))\n",
    "colors"
   ]
  },
  {
   "cell_type": "code",
   "execution_count": 106,
   "id": "e46f2526",
   "metadata": {},
   "outputs": [],
   "source": [
    "# here are some helpful helpers to translate colors\n",
    "def rgb_to_hex(r, g, b):\n",
    "    return f'#{r:02x}{g:02x}{b:02x}'\n",
    "def rgb_string_to_tuple(rgb:str) -> tuple[int,int,int]:\n",
    "    return tuple(int(c) for c in rgb.replace(\"rgb(\",\"\").replace(\")\",\"\").split(\",\"))\n"
   ]
  },
  {
   "attachments": {},
   "cell_type": "markdown",
   "id": "e3bf88ef",
   "metadata": {},
   "source": [
    "Now we can determine what the color should be for each node and pass that into the `nx.draw` call as a list of `node_color`. The easiest way to do this is to use `G.nodes(data=...)` for the attribute you want to extract, which will give you a map from each node to that attribute. `nx` allows you to iterate"
   ]
  },
  {
   "cell_type": "code",
   "execution_count": 107,
   "id": "ce833882",
   "metadata": {},
   "outputs": [
    {
     "data": {
      "image/png": "[encoded data removed]",
      "text/plain": [
       "<Figure size 640x480 with 1 Axes>"
      ]
     },
     "metadata": {},
     "output_type": "display_data"
    }
   ],
   "source": [
    "node_colors = [rgb_to_hex(*rgb_string_to_tuple(colors[team])) for _,team in G.nodes(data=\"team\")]\n",
    "nx.draw(G, node_color=node_colors)"
   ]
  },
  {
   "attachments": {},
   "cell_type": "markdown",
   "id": "40904b83",
   "metadata": {},
   "source": [
    "If this doesn't make much sense yet, it's because we haven't connected any of the nodes together. Adding *edges* to the graph will give shape and meaning to the arrangement of nodes. We can do this similarly to how we added edges. Let's start by connecting nodes by the `manager` attribute.\n",
    "\n",
    "Be sure to only add edges that reference nodes that exist"
   ]
  },
  {
   "cell_type": "code",
   "execution_count": 108,
   "id": "f3b7a761",
   "metadata": {},
   "outputs": [],
   "source": [
    "G.add_edges_from(G.nodes(data=\"manager\"), label=\"manager\", manager=True)"
   ]
  },
  {
   "cell_type": "markdown",
   "id": "1905d207",
   "metadata": {},
   "source": [
    "Now this should look a bit more sensible"
   ]
  },
  {
   "cell_type": "code",
   "execution_count": 109,
   "id": "32ff0651",
   "metadata": {},
   "outputs": [
    {
     "data": {
      "image/png": "[encoded data removed]",
      "text/plain": [
       "<Figure size 640x480 with 1 Axes>"
      ]
     },
     "metadata": {},
     "output_type": "display_data"
    }
   ],
   "source": [
    "nx.draw(G, node_color=node_colors)"
   ]
  },
  {
   "attachments": {},
   "cell_type": "markdown",
   "id": "63c42ae8-b201-4ae1-ad9d-d0e8f0817fb3",
   "metadata": {},
   "source": [
    "To view more details of the plot, it's useful to switch to an interactive plotting library like `plotly`. Here we provide a helper function for this, but by no means is this perfect/optimized"
   ]
  },
  {
   "cell_type": "code",
   "execution_count": 110,
   "id": "e1b55f08-5647-4290-86da-3197aa150b7d",
   "metadata": {
    "execution": {
     "iopub.execute_input": "2023-01-10T16:24:11.053653Z",
     "iopub.status.busy": "2023-01-10T16:24:11.053102Z",
     "iopub.status.idle": "2023-01-10T16:24:11.845945Z",
     "shell.execute_reply": "2023-01-10T16:24:11.844975Z",
     "shell.execute_reply.started": "2023-01-10T16:24:11.053625Z"
    },
    "tags": []
   },
   "outputs": [],
   "source": [
    "import pandas as pd\n",
    "import plotly.express as px"
   ]
  },
  {
   "cell_type": "code",
   "execution_count": 111,
   "id": "1321e788-fb20-4b9d-b26f-6d929df03870",
   "metadata": {
    "execution": {
     "iopub.execute_input": "2023-01-10T16:24:11.864634Z",
     "iopub.status.busy": "2023-01-10T16:24:11.849967Z",
     "iopub.status.idle": "2023-01-10T16:24:11.884647Z",
     "shell.execute_reply": "2023-01-10T16:24:11.883535Z",
     "shell.execute_reply.started": "2023-01-10T16:24:11.864563Z"
    },
    "tags": []
   },
   "outputs": [],
   "source": [
    "import plotly.graph_objects as go\n",
    "def px_plot_network_graph_nodes(G:nx.Graph, *, layout=None, **pxkwargs) -> go.Figure:\n",
    "    # generate the x/y coordinates to represent the graph\n",
    "    positions = (layout or nx.spring_layout(G))\n",
    "    # prepare as DataFrame for plotly\n",
    "    df = pd.DataFrame([{\"label\": k, \"x\": v[0], \"y\": v[1], \"size\":10, **G.nodes(data=True)[k]} for k,v in positions.items()])\n",
    "    for column in df.columns[(df.sample(100, replace=True).applymap(type) == set).any(axis=0)]:\n",
    "        print(f\"Coercing column '{column}' to `list`\")\n",
    "        df.loc[~df[column].isna(), column] = df.loc[~df[column].isna(),column].apply(list)\n",
    "    # handle missing values for size/color parameter\n",
    "    size = pxkwargs.pop(\"size\", \"size\")\n",
    "    df[size] = df[size].fillna(df[size].max())\n",
    "    color = pxkwargs.get(\"color\")\n",
    "    df[color] = df[color].fillna(df[\"type\"])\n",
    "    # create figure\n",
    "    fig = px.scatter(df, x=\"x\", y=\"y\", hover_data=df.columns, size=size, **pxkwargs)\n",
    "    fig.update_layout(\n",
    "        xaxis=go.layout.XAxis(visible=False),\n",
    "        yaxis=go.layout.YAxis(visible=False)\n",
    "    )\n",
    "    return fig\n",
    "\n",
    "\n",
    "def px_plot_nx(G:nx.Graph, *, layout=nx.spring_layout, with_edges=False, **nodekwargs) -> go.Figure:\n",
    "    \"\"\"Draw a graph using ``plotly``\n",
    "\n",
    "    Kwargs are passed through to `px.scatter` and can be used to control the attributes that \n",
    "    map ``color``, ``size``, ``facet_row``, ... to attributes in the graph nodes\n",
    "    \n",
    "    Notes\n",
    "    -----\n",
    "    Rendering ``with_edges`` is expensive and should be avoided during exploratory plotting\n",
    "    \"\"\"\n",
    "    # Generate positions, edges \n",
    "    nodes = layout(G)\n",
    "    edges = [{\n",
    "        \"x\": [nodes[source][0],nodes[target][0]], \n",
    "        \"y\": [nodes[source][1],nodes[target][1]]} for source, target in G.edges()\n",
    "    ]\n",
    "    # Plot nodes\n",
    "    figure = px_plot_network_graph_nodes(G, layout=nodes, **nodekwargs)\n",
    "    if with_edges: # Add edges to nodes\n",
    "        figure.add_traces([\n",
    "            px.line(\n",
    "                x=edge[\"x\"],\n",
    "                y=edge[\"y\"],\n",
    "                color_discrete_sequence=[\"grey\"],\n",
    "            ).data[0] for edge in edges\n",
    "        ])\n",
    "        figure.data = figure.data[::-1] # shuffle edges behind nodes\n",
    "    return figure"
   ]
  },
  {
   "attachments": {},
   "cell_type": "markdown",
   "id": "e6b1dd13",
   "metadata": {},
   "source": [
    "Use this to make a few plots of the graph and verify that:\n",
    "\n",
    "* The reporting structure makes sense\n",
    "* The job titles are distributed as you'd expect\n",
    "* The locations make sense\n",
    "\n",
    "**Note: plotting `with_edges=True` is quite expensive, try toggling it off if you find it bothersome**"
   ]
  },
  {
   "cell_type": "code",
   "execution_count": 112,
   "id": "07e22436",
   "metadata": {},
   "outputs": [
    {
     "data": {
      "application/vnd.plotly.v1+json": {
       "config": {
        "plotlyServerURL": "https://plot.ly"
       },
       "data": [
        {
         "customdata": [
          [
           "Bradley Martinez",
           10,
           true,
           "person",
           "Bradley Martinez",
           "20230508",
           "Full Time",
           [
            "Python",
            "JavaScript"
           ],
           "Brian Delgado",
           "Business",
           "Analyst",
           {
            "city": "London",
            "country": "GBR",
            "tz": "UTC"
           },
           1,
           "London",
           "UTC",
           "GBR"
          ],
          [
           "Justin Newton",
           10,
           true,
           "person",
           "Justin Newton",
           "20211230",
           "Full Time",
           [
            "Java"
           ],
           "Philip Rivera",
           "Business",
           "Analyst",
           {
            "city": "London",
            "country": "GBR",
            "tz": "UTC"
           },
           1,
           "London",
           "UTC",
           "GBR"
          ],
          [
           "Nicolas Adams",
           10,
           true,
           "person",
           "Nicolas Adams",
           "20201102",
           "Contract",
           [
            "Python",
            "JavaScript"
           ],
           "Angela Ray",
           "Business",
           "Analyst",
           {
            "city": "London",
            "country": "GBR",
            "tz": "UTC"
           },
           1,
           "London",
           "UTC",
           "GBR"
          ],
          [
           "Dale Wall",
           10,
           true,
           "person",
           "Dale Wall",
           "20210912",
           "Full Time",
           [
            "Scala",
            "Java",
            "Python",
            "JavaScript"
           ],
           "Angela Ray",
           "Business",
           "Analyst",
           {
            "city": "London",
            "country": "GBR",
            "tz": "UTC"
           },
           1,
           "London",
           "UTC",
           "GBR"
          ],
          [
           "George Cuevas",
           10,
           true,
           "person",
           "George Cuevas",
           "20231023",
           "Contract",
           [
            "Typescript",
            "Java",
            "JavaScript"
           ],
           "Brian Delgado",
           "Business",
           "Associate",
           {
            "city": "London",
            "country": "GBR",
            "tz": "UTC"
           },
           2,
           "London",
           "UTC",
           "GBR"
          ],
          [
           "Nancy Lambert",
           10,
           true,
           "person",
           "Nancy Lambert",
           "20210815",
           "Full Time",
           [
            "Scala",
            "Java",
            "Python",
            "JavaScript"
           ],
           "Lauren Wagner",
           "Business",
           "Associate",
           {
            "city": "London",
            "country": "GBR",
            "tz": "UTC"
           },
           2,
           "London",
           "UTC",
           "GBR"
          ],
          [
           "Jorge Lynch",
           10,
           true,
           "person",
           "Jorge Lynch",
           "20220526",
           "Contract",
           [
            "Java",
            "Python"
           ],
           "Richard Lopez",
           "Business",
           "Associate",
           {
            "city": "London",
            "country": "GBR",
            "tz": "UTC"
           },
           2,
           "London",
           "UTC",
           "GBR"
          ],
          [
           "Brittany Jenkins",
           10,
           true,
           "person",
           "Brittany Jenkins",
           "20220701",
           "Full Time",
           [
            "Java",
            "Typescript",
            "Python",
            "JavaScript"
           ],
           "Richard Lopez",
           "Business",
           "Associate",
           {
            "city": "London",
            "country": "GBR",
            "tz": "UTC"
           },
           2,
           "London",
           "UTC",
           "GBR"
          ],
          [
           "Toni Hanna",
           10,
           true,
           "person",
           "Toni Hanna",
           "20231011",
           "Full Time",
           [
            "Python",
            "JavaScript"
           ],
           "David Miles",
           "Business",
           "Associate",
           {
            "city": "London",
            "country": "GBR",
            "tz": "UTC"
           },
           2,
           "London",
           "UTC",
           "GBR"
          ],
          [
           "Christie Roberts",
           10,
           true,
           "person",
           "Christie Roberts",
           "20210617",
           "Contract",
           [
            "Scala",
            "Python",
            "JavaScript"
           ],
           "Angela Ray",
           "Business",
           "Associate",
           {
            "city": "London",
            "country": "GBR",
            "tz": "UTC"
           },
           2,
           "London",
           "UTC",
           "GBR"
          ],
          [
           "Lauren Wagner",
           10,
           true,
           "person",
           "Lauren Wagner",
           "20230723",
           "Full Time",
           [
            "Scala"
           ],
           "Brian Delgado",
           "Business",
           "Vice President",
           {
            "city": "London",
            "country": "GBR",
            "tz": "UTC"
           },
           3,
           "London",
           "UTC",
           "GBR"
          ],
          [
           "Victor Heath",
           10,
           true,
           "person",
           "Victor Heath",
           "20221208",
           "Full Time",
           [
            "Scala"
           ],
           "Richard Lopez",
           "Business",
           "Vice President",
           {
            "city": "London",
            "country": "GBR",
            "tz": "UTC"
           },
           3,
           "London",
           "UTC",
           "GBR"
          ],
          [
           "Emily Boyd",
           10,
           true,
           "person",
           "Emily Boyd",
           "20210527",
           "Part Time",
           [
            "Java",
            "JavaScript"
           ],
           "Philip Rivera",
           "Business",
           "Vice President",
           {
            "city": "London",
            "country": "GBR",
            "tz": "UTC"
           },
           3,
           "London",
           "UTC",
           "GBR"
          ],
          [
           "Mrs. Mary Sanchez",
           10,
           true,
           "person",
           "Mrs. Mary Sanchez",
           "20221113",
           "Full Time",
           [
            "JavaScript"
           ],
           "Richard Lopez",
           "Business",
           "Director",
           {
            "city": "London",
            "country": "GBR",
            "tz": "UTC"
           },
           4,
           "London",
           "UTC",
           "GBR"
          ],
          [
           "Jacqueline Mcdonald",
           10,
           true,
           "person",
           "Jacqueline Mcdonald",
           "20220501",
           "Contract",
           [
            "Typescript",
            "Java",
            "JavaScript"
           ],
           "Richard Lopez",
           "Business",
           "Director",
           {
            "city": "London",
            "country": "GBR",
            "tz": "UTC"
           },
           4,
           "London",
           "UTC",
           "GBR"
          ],
          [
           "Sabrina Fitzgerald",
           10,
           true,
           "person",
           "Sabrina Fitzgerald",
           "20230902",
           "Full Time",
           [
            "Go",
            "JavaScript"
           ],
           "Angela Ray",
           "Business",
           "Director",
           {
            "city": "London",
            "country": "GBR",
            "tz": "UTC"
           },
           4,
           "London",
           "UTC",
           "GBR"
          ],
          [
           "Cynthia Leonard",
           10,
           true,
           "person",
           "Cynthia Leonard",
           "20220206",
           "Full Time",
           [
            "Python"
           ],
           "Brian Delgado",
           "Business",
           "Managing Director",
           {
            "city": "London",
            "country": "GBR",
            "tz": "UTC"
           },
           5,
           "London",
           "UTC",
           "GBR"
          ],
          [
           "Anna Hays",
           10,
           true,
           "person",
           "Anna Hays",
           "20211031",
           "Part Time",
           [
            "Scala",
            "Java",
            "JavaScript"
           ],
           "Cynthia Leonard",
           "Business",
           "Managing Director",
           {
            "city": "London",
            "country": "GBR",
            "tz": "UTC"
           },
           5,
           "London",
           "UTC",
           "GBR"
          ],
          [
           "Richard Lopez",
           10,
           true,
           "person",
           "Richard Lopez",
           "20220121",
           "Full Time",
           [
            "Typescript",
            "Java"
           ],
           "Cynthia Leonard",
           "Business",
           "Managing Director",
           {
            "city": "London",
            "country": "GBR",
            "tz": "UTC"
           },
           5,
           "London",
           "UTC",
           "GBR"
          ],
          [
           "David Miles",
           10,
           true,
           "person",
           "David Miles",
           "20211120",
           "Contract",
           [
            "Typescript",
            "Java",
            "Python",
            "JavaScript"
           ],
           "Cynthia Leonard",
           "Business",
           "Managing Director",
           {
            "city": "London",
            "country": "GBR",
            "tz": "UTC"
           },
           5,
           "London",
           "UTC",
           "GBR"
          ],
          [
           "Angela Ray",
           10,
           true,
           "person",
           "Angela Ray",
           "20230914",
           "Full Time",
           [
            "Java",
            "JavaScript"
           ],
           "Cynthia Leonard",
           "Business",
           "Managing Director",
           {
            "city": "London",
            "country": "GBR",
            "tz": "UTC"
           },
           5,
           "London",
           "UTC",
           "GBR"
          ],
          [
           "Janet Carter",
           10,
           true,
           "person",
           "Janet Carter",
           "20220526",
           "Contract",
           [],
           "Cynthia Leonard",
           "Business",
           "Managing Director",
           {
            "city": "London",
            "country": "GBR",
            "tz": "UTC"
           },
           5,
           "London",
           "UTC",
           "GBR"
          ],
          [
           "Christine Andrews",
           10,
           true,
           "person",
           "Christine Andrews",
           "20210206",
           "Full Time",
           [
            "Typescript"
           ],
           "Brian Delgado",
           "Sales",
           "Associate",
           {
            "city": "London",
            "country": "GBR",
            "tz": "UTC"
           },
           1,
           "London",
           "UTC",
           "GBR"
          ],
          [
           "Derek Thompson",
           10,
           true,
           "person",
           "Derek Thompson",
           "20210705",
           "Contract",
           [
            "Typescript",
            "Python",
            "JavaScript"
           ],
           "James Lambert",
           "Sales",
           "Associate",
           {
            "city": "London",
            "country": "GBR",
            "tz": "UTC"
           },
           1,
           "London",
           "UTC",
           "GBR"
          ],
          [
           "Tina Moore",
           10,
           true,
           "person",
           "Tina Moore",
           "20230816",
           "Contract",
           [
            "Python"
           ],
           "Julie Crawford",
           "Sales",
           "Associate",
           {
            "city": "London",
            "country": "GBR",
            "tz": "UTC"
           },
           1,
           "London",
           "UTC",
           "GBR"
          ],
          [
           "Christine Gonzalez",
           10,
           true,
           "person",
           "Christine Gonzalez",
           "20210222",
           "Full Time",
           [
            "Java",
            "Python",
            "JavaScript"
           ],
           "Julie Crawford",
           "Sales",
           "Associate",
           {
            "city": "London",
            "country": "GBR",
            "tz": "UTC"
           },
           1,
           "London",
           "UTC",
           "GBR"
          ],
          [
           "Daniel Webb",
           10,
           true,
           "person",
           "Daniel Webb",
           "20211203",
           "Full Time",
           [],
           "Brian Delgado",
           "Sales",
           "VP",
           {
            "city": "London",
            "country": "GBR",
            "tz": "UTC"
           },
           2,
           "London",
           "UTC",
           "GBR"
          ],
          [
           "Tina Anderson",
           10,
           true,
           "person",
           "Tina Anderson",
           "20211017",
           "Full Time",
           [],
           "Daniel Webb",
           "Sales",
           "VP",
           {
            "city": "London",
            "country": "GBR",
            "tz": "UTC"
           },
           2,
           "London",
           "UTC",
           "GBR"
          ],
          [
           "Todd Stewart",
           10,
           true,
           "person",
           "Todd Stewart",
           "20220803",
           "Full Time",
           [],
           "Daniel Webb",
           "Sales",
           "VP",
           {
            "city": "London",
            "country": "GBR",
            "tz": "UTC"
           },
           2,
           "London",
           "UTC",
           "GBR"
          ],
          [
           "James Lambert",
           10,
           true,
           "person",
           "James Lambert",
           "20210406",
           "Full Time",
           [
            "Java",
            "JavaScript"
           ],
           "Daniel Webb",
           "Sales",
           "VP",
           {
            "city": "London",
            "country": "GBR",
            "tz": "UTC"
           },
           2,
           "London",
           "UTC",
           "GBR"
          ],
          [
           "Greg Rodgers",
           10,
           true,
           "person",
           "Greg Rodgers",
           "20220825",
           "Part Time",
           [
            "Typescript",
            "Go",
            "JavaScript"
           ],
           "Daniel Webb",
           "Sales",
           "VP",
           {
            "city": "London",
            "country": "GBR",
            "tz": "UTC"
           },
           2,
           "London",
           "UTC",
           "GBR"
          ],
          [
           "David Wright",
           10,
           true,
           "person",
           "David Wright",
           "20230927",
           "Full Time",
           [
            "Scala",
            "JavaScript"
           ],
           "Daniel Webb",
           "Sales",
           "VP",
           {
            "city": "London",
            "country": "GBR",
            "tz": "UTC"
           },
           2,
           "London",
           "UTC",
           "GBR"
          ],
          [
           "Brian Delgado",
           10,
           true,
           "person",
           "Brian Delgado",
           "20210604",
           "Full Time",
           [
            "Java"
           ],
           "Brian Delgado",
           "CEO",
           "CEO",
           {
            "city": "London",
            "country": "GBR",
            "tz": "UTC"
           },
           6,
           "London",
           "UTC",
           "GBR"
          ]
         ],
         "hovertemplate": "<b>%{hovertext}</b><br><br>country=%{customdata[15]}<br>x=%{x}<br>y=%{y}<br>rank=%{customdata[12]}<br>label=%{customdata[0]}<br>size=%{customdata[1]}<br>person=%{customdata[2]}<br>type=%{customdata[3]}<br>name=%{customdata[4]}<br>hire_date=%{customdata[5]}<br>status=%{customdata[6]}<br>languages=%{customdata[7]}<br>manager=%{customdata[8]}<br>team=%{customdata[9]}<br>title=%{customdata[10]}<br>location=%{customdata[11]}<br>city=%{customdata[13]}<br>tz=%{customdata[14]}<extra></extra>",
         "hovertext": [
          "Bradley Martinez",
          "Justin Newton",
          "Nicolas Adams",
          "Dale Wall",
          "George Cuevas",
          "Nancy Lambert",
          "Jorge Lynch",
          "Brittany Jenkins",
          "Toni Hanna",
          "Christie Roberts",
          "Lauren Wagner",
          "Victor Heath",
          "Emily Boyd",
          "Mrs. Mary Sanchez",
          "Jacqueline Mcdonald",
          "Sabrina Fitzgerald",
          "Cynthia Leonard",
          "Anna Hays",
          "Richard Lopez",
          "David Miles",
          "Angela Ray",
          "Janet Carter",
          "Christine Andrews",
          "Derek Thompson",
          "Tina Moore",
          "Christine Gonzalez",
          "Daniel Webb",
          "Tina Anderson",
          "Todd Stewart",
          "James Lambert",
          "Greg Rodgers",
          "David Wright",
          "Brian Delgado"
         ],
         "legendgroup": "GBR",
         "marker": {
          "color": "#636efa",
          "size": [
           1,
           1,
           1,
           1,
           2,
           2,
           2,
           2,
           2,
           2,
           3,
           3,
           3,
           4,
           4,
           4,
           5,
           5,
           5,
           5,
           5,
           5,
           1,
           1,
           1,
           1,
           2,
           2,
           2,
           2,
           2,
           2,
           6
          ],
          "sizemode": "area",
          "sizeref": 0.015,
          "symbol": "circle"
         },
         "mode": "markers",
         "name": "GBR",
         "orientation": "v",
         "showlegend": true,
         "type": "scatter",
         "x": [
          -0.07522214745163494,
          -0.23628964638766065,
          0.10186636339018142,
          0.08320672907645084,
          -0.08225704003842367,
          0.2474319572695535,
          0.5470074061857693,
          0.5123430619501925,
          -0.20398168599386907,
          0.1246872318496138,
          0.16163289021090382,
          0.5105237750276395,
          -0.21851194290634093,
          0.5250033141762326,
          0.5437188393999559,
          0.03926826340440038,
          0.05181275541262917,
          0.05707754413505466,
          0.39749235808055994,
          -0.09915899681358989,
          0.06642815076714167,
          -0.05688481632855506,
          -0.09958504260444437,
          -0.3203769249921533,
          -0.6448262880009952,
          -0.6209066158357357,
          -0.31954749818423417,
          -0.33786341458570074,
          -0.4530844549689831,
          -0.3155269375870137,
          -0.3621504535704268,
          -0.276470020006576,
          -0.010612515781656267
         ],
         "xaxis": "x",
         "y": [
          0.04831361460252652,
          0.7330247825284129,
          0.99724737012323,
          0.956658207003849,
          -0.0465685117645255,
          -0.07032463790600124,
          0.4755171510267044,
          0.4631846484625962,
          0.5942576889032303,
          0.9397356099621278,
          -0.07864695326232521,
          0.4190376322525868,
          0.7897246124850767,
          0.5092968937594557,
          0.42642113545323584,
          0.9490063997250597,
          0.47342688580040565,
          0.5879984844719617,
          0.4567433556577446,
          0.5612074968135738,
          0.8531496503133065,
          0.48181211988761957,
          0.0068207286939799125,
          -0.792022601179614,
          -0.6357351854310899,
          -0.6745217419068767,
          -0.46056384950849727,
          -0.5690514836415214,
          -0.4473561864931421,
          -0.6521910596286088,
          -0.6475860351146694,
          -0.6354406676709717,
          -0.016696072280872828
         ],
         "yaxis": "y"
        },
        {
         "customdata": [
          [
           "Andrea Miller",
           10,
           true,
           "person",
           "Andrea Miller",
           "20201202",
           "Contract",
           [],
           "Lauren Wagner",
           "Business",
           "Analyst",
           {
            "city": "New York",
            "country": "USA",
            "tz": "EST"
           },
           1,
           "New York",
           "EST",
           "USA"
          ],
          [
           "Alan Jones",
           10,
           true,
           "person",
           "Alan Jones",
           "20221227",
           "Full Time",
           [
            "Typescript"
           ],
           "Lauren Wagner",
           "Business",
           "Analyst",
           {
            "city": "New York",
            "country": "USA",
            "tz": "EST"
           },
           1,
           "New York",
           "EST",
           "USA"
          ],
          [
           "Ralph Olsen",
           10,
           true,
           "person",
           "Ralph Olsen",
           "20220826",
           "Contract",
           [],
           "Angela Ray",
           "Business",
           "Analyst",
           {
            "city": "New York",
            "country": "USA",
            "tz": "EST"
           },
           1,
           "New York",
           "EST",
           "USA"
          ],
          [
           "Tim Ochoa MD",
           10,
           true,
           "person",
           "Tim Ochoa MD",
           "20230717",
           "Contract",
           [
            "Java"
           ],
           "Janet Carter",
           "Business",
           "Analyst",
           {
            "city": "New York",
            "country": "USA",
            "tz": "EST"
           },
           1,
           "New York",
           "EST",
           "USA"
          ],
          [
           "Lauren Cowan",
           10,
           true,
           "person",
           "Lauren Cowan",
           "20201124",
           "Full Time",
           [
            "JavaScript",
            "Scala",
            "Typescript",
            "Java",
            "Python"
           ],
           "Angela Ray",
           "Business",
           "Associate",
           {
            "city": "New York",
            "country": "USA",
            "tz": "EST"
           },
           2,
           "New York",
           "EST",
           "USA"
          ],
          [
           "Jessica Morgan",
           10,
           true,
           "person",
           "Jessica Morgan",
           "20221018",
           "Contract",
           [
            "Typescript"
           ],
           "Angela Ray",
           "Business",
           "Associate",
           {
            "city": "New York",
            "country": "USA",
            "tz": "EST"
           },
           2,
           "New York",
           "EST",
           "USA"
          ],
          [
           "Kylie Copeland",
           10,
           true,
           "person",
           "Kylie Copeland",
           "20211230",
           "Full Time",
           [],
           "Angela Ray",
           "Business",
           "Vice President",
           {
            "city": "New York",
            "country": "USA",
            "tz": "EST"
           },
           3,
           "New York",
           "EST",
           "USA"
          ],
          [
           "Nicole Sanders",
           10,
           true,
           "person",
           "Nicole Sanders",
           "20201105",
           "Part Time",
           [],
           "Richard Lopez",
           "Business",
           "Director",
           {
            "city": "New York",
            "country": "USA",
            "tz": "EST"
           },
           4,
           "New York",
           "EST",
           "USA"
          ],
          [
           "Briana Hill",
           10,
           true,
           "person",
           "Briana Hill",
           "20230308",
           "Full Time",
           [],
           "Cynthia Leonard",
           "Business",
           "Managing Director",
           {
            "city": "New York",
            "country": "USA",
            "tz": "EST"
           },
           5,
           "New York",
           "EST",
           "USA"
          ],
          [
           "Barbara Mullins",
           10,
           true,
           "person",
           "Barbara Mullins",
           "20230323",
           "Full Time",
           [
            "Scala",
            "Typescript",
            "Java",
            "Python"
           ],
           "Brian Delgado",
           "DevX",
           "Engineer",
           {
            "city": "Fort Lauderdale",
            "country": "USA",
            "tz": "EST"
           },
           5,
           "Fort Lauderdale",
           "EST",
           "USA"
          ],
          [
           "Susan Shaw",
           10,
           true,
           "person",
           "Susan Shaw",
           "20210912",
           "Full Time",
           [
            "Python",
            "JavaScript"
           ],
           "Barbara Mullins",
           "DevX",
           "Engineer",
           {
            "city": "Fort Lauderdale",
            "country": "USA",
            "tz": "EST"
           },
           5,
           "Fort Lauderdale",
           "EST",
           "USA"
          ],
          [
           "Vicki Lopez",
           10,
           true,
           "person",
           "Vicki Lopez",
           "20220317",
           "Full Time",
           [
            "Typescript",
            "Java",
            "JavaScript"
           ],
           "Barbara Mullins",
           "DevX",
           "Engineer",
           {
            "city": "Fort Lauderdale",
            "country": "USA",
            "tz": "EST"
           },
           5,
           "Fort Lauderdale",
           "EST",
           "USA"
          ],
          [
           "Mr. Donald Moore",
           10,
           true,
           "person",
           "Mr. Donald Moore",
           "20211007",
           "Full Time",
           [
            "Scala"
           ],
           "Barbara Mullins",
           "DevX",
           "Engineer",
           {
            "city": "Fort Lauderdale",
            "country": "USA",
            "tz": "EST"
           },
           5,
           "Fort Lauderdale",
           "EST",
           "USA"
          ],
          [
           "Tanya Boyd",
           10,
           true,
           "person",
           "Tanya Boyd",
           "20221020",
           "Full Time",
           [
            "Java",
            "Python",
            "JavaScript"
           ],
           "Barbara Mullins",
           "DevX",
           "Engineer",
           {
            "city": "Fort Lauderdale",
            "country": "USA",
            "tz": "EST"
           },
           5,
           "Fort Lauderdale",
           "EST",
           "USA"
          ],
          [
           "Ralph Phillips",
           10,
           true,
           "person",
           "Ralph Phillips",
           "20210108",
           "Contract",
           [
            "Python",
            "JavaScript"
           ],
           "Barbara Mullins",
           "DevX",
           "Engineer",
           {
            "city": "Fort Lauderdale",
            "country": "USA",
            "tz": "EST"
           },
           5,
           "Fort Lauderdale",
           "EST",
           "USA"
          ],
          [
           "Amanda House",
           10,
           true,
           "person",
           "Amanda House",
           "20230908",
           "Full Time",
           [],
           "Barbara Mullins",
           "DevX",
           "Engineer",
           {
            "city": "Fort Lauderdale",
            "country": "USA",
            "tz": "EST"
           },
           5,
           "Fort Lauderdale",
           "EST",
           "USA"
          ],
          [
           "Samantha Taylor",
           10,
           true,
           "person",
           "Samantha Taylor",
           "20211108",
           "Contract",
           [
            "Java",
            "Python",
            "JavaScript"
           ],
           "Barbara Mullins",
           "DevX",
           "Engineer",
           {
            "city": "Fort Lauderdale",
            "country": "USA",
            "tz": "EST"
           },
           5,
           "Fort Lauderdale",
           "EST",
           "USA"
          ],
          [
           "Michael Ross",
           10,
           true,
           "person",
           "Michael Ross",
           "20221225",
           "Full Time",
           [
            "JavaScript",
            "Scala",
            "Go",
            "Java",
            "Python"
           ],
           "Barbara Mullins",
           "DevX",
           "Engineer",
           {
            "city": "Fort Lauderdale",
            "country": "USA",
            "tz": "EST"
           },
           5,
           "Fort Lauderdale",
           "EST",
           "USA"
          ],
          [
           "Casey Watson",
           10,
           true,
           "person",
           "Casey Watson",
           "20220210",
           "Full Time",
           [
            "Typescript",
            "Python",
            "JavaScript"
           ],
           "Barbara Mullins",
           "DevX",
           "Engineer",
           {
            "city": "Fort Lauderdale",
            "country": "USA",
            "tz": "EST"
           },
           5,
           "Fort Lauderdale",
           "EST",
           "USA"
          ],
          [
           "Eric White",
           10,
           true,
           "person",
           "Eric White",
           "20210329",
           "Full Time",
           [
            "Go",
            "JavaScript"
           ],
           "Barbara Mullins",
           "DevX",
           "Engineer",
           {
            "city": "Fort Lauderdale",
            "country": "USA",
            "tz": "EST"
           },
           5,
           "Fort Lauderdale",
           "EST",
           "USA"
          ],
          [
           "Stephen Watkins",
           10,
           true,
           "person",
           "Stephen Watkins",
           "20201110",
           "Full Time",
           [
            "Java"
           ],
           "Barbara Mullins",
           "DevX",
           "Engineer",
           {
            "city": "Fort Lauderdale",
            "country": "USA",
            "tz": "EST"
           },
           5,
           "Fort Lauderdale",
           "EST",
           "USA"
          ],
          [
           "Annette Shields",
           10,
           true,
           "person",
           "Annette Shields",
           "20230823",
           "Full Time",
           [],
           "Barbara Mullins",
           "DevX",
           "Engineer",
           {
            "city": "Fort Lauderdale",
            "country": "USA",
            "tz": "EST"
           },
           5,
           "Fort Lauderdale",
           "EST",
           "USA"
          ],
          [
           "Nicole Bean",
           10,
           true,
           "person",
           "Nicole Bean",
           "20220309",
           "Contract",
           [
            "Scala",
            "Java",
            "Python",
            "JavaScript"
           ],
           "Barbara Mullins",
           "DevX",
           "Engineer",
           {
            "city": "Fort Lauderdale",
            "country": "USA",
            "tz": "EST"
           },
           5,
           "Fort Lauderdale",
           "EST",
           "USA"
          ],
          [
           "James Perez",
           10,
           true,
           "person",
           "James Perez",
           "20230713",
           "Contract",
           [],
           "Barbara Mullins",
           "DevX",
           "Engineer",
           {
            "city": "Fort Lauderdale",
            "country": "USA",
            "tz": "EST"
           },
           5,
           "Fort Lauderdale",
           "EST",
           "USA"
          ],
          [
           "Brandon Fuller",
           10,
           true,
           "person",
           "Brandon Fuller",
           "20210428",
           "Contract",
           [
            "JavaScript"
           ],
           "Barbara Mullins",
           "DevX",
           "Engineer",
           {
            "city": "Fort Lauderdale",
            "country": "USA",
            "tz": "EST"
           },
           5,
           "Fort Lauderdale",
           "EST",
           "USA"
          ],
          [
           "Dorothy Wise",
           10,
           true,
           "person",
           "Dorothy Wise",
           "20221105",
           "Full Time",
           [
            "Java"
           ],
           "Barbara Mullins",
           "DevX",
           "Engineer",
           {
            "city": "Fort Lauderdale",
            "country": "USA",
            "tz": "EST"
           },
           5,
           "Fort Lauderdale",
           "EST",
           "USA"
          ],
          [
           "Nathan Gallegos",
           10,
           true,
           "person",
           "Nathan Gallegos",
           "20210731",
           "Contract",
           [
            "JavaScript",
            "Go",
            "Typescript",
            "Java",
            "Python"
           ],
           "Brandon Morris",
           "Internal Tools",
           "Engineer",
           {
            "city": "Seattle",
            "country": "USA",
            "tz": "PST"
           },
           1,
           "Seattle",
           "PST",
           "USA"
          ],
          [
           "Suzanne Rodriguez",
           10,
           true,
           "person",
           "Suzanne Rodriguez",
           "20230916",
           "Part Time",
           [],
           "Angelica Peters",
           "Internal Tools",
           "Engineer",
           {
            "city": "Seattle",
            "country": "USA",
            "tz": "PST"
           },
           1,
           "Seattle",
           "PST",
           "USA"
          ],
          [
           "Michael Arnold",
           10,
           true,
           "person",
           "Michael Arnold",
           "20220723",
           "Part Time",
           [],
           "Todd Collier",
           "Internal Tools",
           "Manager",
           {
            "city": "Seattle",
            "country": "USA",
            "tz": "PST"
           },
           3,
           "Seattle",
           "PST",
           "USA"
          ],
          [
           "Brandon Morris",
           10,
           true,
           "person",
           "Brandon Morris",
           "20201203",
           "Contract",
           [],
           "Brian Delgado",
           "Internal Tools",
           "AVP",
           {
            "city": "Seattle",
            "country": "USA",
            "tz": "PST"
           },
           4,
           "Seattle",
           "PST",
           "USA"
          ],
          [
           "Alicia Howell",
           10,
           true,
           "person",
           "Alicia Howell",
           "20230225",
           "Full Time",
           [
            "Typescript",
            "Python",
            "JavaScript"
           ],
           "Todd Collier",
           "Internal Tools",
           "AVP",
           {
            "city": "Seattle",
            "country": "USA",
            "tz": "PST"
           },
           4,
           "Seattle",
           "PST",
           "USA"
          ],
          [
           "Debra Kim",
           10,
           true,
           "person",
           "Debra Kim",
           "20230613",
           "Full Time",
           [
            "Scala",
            "Python"
           ],
           "Angelica Peters",
           "Internal Tools",
           "AVP",
           {
            "city": "Seattle",
            "country": "USA",
            "tz": "PST"
           },
           4,
           "Seattle",
           "PST",
           "USA"
          ],
          [
           "Angelica Peters",
           10,
           true,
           "person",
           "Angelica Peters",
           "20210424",
           "Full Time",
           [],
           "Todd Collier",
           "Internal Tools",
           "VP",
           {
            "city": "Seattle",
            "country": "USA",
            "tz": "PST"
           },
           5,
           "Seattle",
           "PST",
           "USA"
          ],
          [
           "Casey Adams",
           10,
           true,
           "person",
           "Casey Adams",
           "20220622",
           "Contract",
           [
            "Scala",
            "Java",
            "JavaScript"
           ],
           "Brian Delgado",
           "Platform",
           "Engineer",
           {
            "city": "Seattle",
            "country": "USA",
            "tz": "PST"
           },
           1,
           "Seattle",
           "PST",
           "USA"
          ],
          [
           "Angel Bennett",
           10,
           true,
           "person",
           "Angel Bennett",
           "20210531",
           "Contract",
           [
            "Java",
            "JavaScript"
           ],
           "Casey Adams",
           "Platform",
           "Engineer",
           {
            "city": "Seattle",
            "country": "USA",
            "tz": "PST"
           },
           1,
           "Seattle",
           "PST",
           "USA"
          ],
          [
           "Stacey Morris",
           10,
           true,
           "person",
           "Stacey Morris",
           "20220310",
           "Full Time",
           [],
           "David Robertson",
           "Platform",
           "Engineer",
           {
            "city": "Seattle",
            "country": "USA",
            "tz": "PST"
           },
           1,
           "Seattle",
           "PST",
           "USA"
          ],
          [
           "Jackie Cummings",
           10,
           true,
           "person",
           "Jackie Cummings",
           "20220115",
           "Full Time",
           [
            "Scala"
           ],
           "Brian Delgado",
           "Platform",
           "Managing Engineer",
           {
            "city": "Seattle",
            "country": "USA",
            "tz": "PST"
           },
           3,
           "Seattle",
           "PST",
           "USA"
          ],
          [
           "Lori Craig",
           10,
           true,
           "person",
           "Lori Craig",
           "20220816",
           "Full Time",
           [
            "Scala",
            "Python"
           ],
           "David Robertson",
           "Platform",
           "Managing Engineer",
           {
            "city": "Seattle",
            "country": "USA",
            "tz": "PST"
           },
           3,
           "Seattle",
           "PST",
           "USA"
          ],
          [
           "Jasmine Garcia",
           10,
           true,
           "person",
           "Jasmine Garcia",
           "20230220",
           "Contract",
           [
            "Java",
            "Python",
            "JavaScript"
           ],
           "David Robertson",
           "Platform",
           "Managing Engineer",
           {
            "city": "Seattle",
            "country": "USA",
            "tz": "PST"
           },
           3,
           "Seattle",
           "PST",
           "USA"
          ],
          [
           "Mark Pham",
           10,
           true,
           "person",
           "Mark Pham",
           "20230510",
           "Contract",
           [],
           "David Robertson",
           "Platform",
           "Managing Engineer",
           {
            "city": "Seattle",
            "country": "USA",
            "tz": "PST"
           },
           3,
           "Seattle",
           "PST",
           "USA"
          ],
          [
           "Linda Bennett",
           10,
           true,
           "person",
           "Linda Bennett",
           "20230316",
           "Contract",
           [
            "Typescript",
            "Go",
            "JavaScript"
           ],
           "David Robertson",
           "Platform",
           "Managing Engineer",
           {
            "city": "Seattle",
            "country": "USA",
            "tz": "PST"
           },
           3,
           "Seattle",
           "PST",
           "USA"
          ],
          [
           "Jordan Alvarez",
           10,
           true,
           "person",
           "Jordan Alvarez",
           "20210723",
           "Contract",
           [
            "Java",
            "JavaScript"
           ],
           "David Robertson",
           "Platform",
           "Managing Engineer",
           {
            "city": "Seattle",
            "country": "USA",
            "tz": "PST"
           },
           3,
           "Seattle",
           "PST",
           "USA"
          ],
          [
           "Erica Turner",
           10,
           true,
           "person",
           "Erica Turner",
           "20220801",
           "Full Time",
           [
            "Scala",
            "Java",
            "JavaScript"
           ],
           "Brian Delgado",
           "Platform",
           "VP",
           {
            "city": "Seattle",
            "country": "USA",
            "tz": "PST"
           },
           5,
           "Seattle",
           "PST",
           "USA"
          ],
          [
           "David Robertson",
           10,
           true,
           "person",
           "David Robertson",
           "20230105",
           "Contract",
           [],
           "Erica Turner",
           "Platform",
           "VP",
           {
            "city": "Seattle",
            "country": "USA",
            "tz": "PST"
           },
           5,
           "Seattle",
           "PST",
           "USA"
          ],
          [
           "Ronnie Wiggins",
           10,
           true,
           "person",
           "Ronnie Wiggins",
           "20210725",
           "Full Time",
           [
            "Scala"
           ],
           "John Moyer",
           "Product",
           "Engineer",
           {
            "city": "Seattle",
            "country": "USA",
            "tz": "PST"
           },
           1,
           "Seattle",
           "PST",
           "USA"
          ],
          [
           "William Peters",
           10,
           true,
           "person",
           "William Peters",
           "20230524",
           "Full Time",
           [],
           "John Moyer",
           "Product",
           "Engineer",
           {
            "city": "Seattle",
            "country": "USA",
            "tz": "PST"
           },
           1,
           "Seattle",
           "PST",
           "USA"
          ],
          [
           "Latasha Lee",
           10,
           true,
           "person",
           "Latasha Lee",
           "20211022",
           "Contract",
           [
            "Scala",
            "Java",
            "Python"
           ],
           "John Moyer",
           "Product",
           "Engineer",
           {
            "city": "Seattle",
            "country": "USA",
            "tz": "PST"
           },
           1,
           "Seattle",
           "PST",
           "USA"
          ],
          [
           "Ann Rodriguez",
           10,
           true,
           "person",
           "Ann Rodriguez",
           "20230206",
           "Full Time",
           [
            "Java",
            "Python"
           ],
           "Donna Wilkins",
           "Product",
           "Engineer",
           {
            "city": "Seattle",
            "country": "USA",
            "tz": "PST"
           },
           1,
           "Seattle",
           "PST",
           "USA"
          ],
          [
           "Brittany Williams",
           10,
           true,
           "person",
           "Brittany Williams",
           "20220130",
           "Part Time",
           [
            "Scala",
            "Java"
           ],
           "Mary Moore",
           "Product",
           "Engineer",
           {
            "city": "Seattle",
            "country": "USA",
            "tz": "PST"
           },
           1,
           "Seattle",
           "PST",
           "USA"
          ],
          [
           "Julia Bryant",
           10,
           true,
           "person",
           "Julia Bryant",
           "20230713",
           "Contract",
           [
            "Python",
            "JavaScript"
           ],
           "John Moyer",
           "Product",
           "Manager",
           {
            "city": "New York",
            "country": "USA",
            "tz": "EST"
           },
           2,
           "New York",
           "EST",
           "USA"
          ],
          [
           "Maria Coffey",
           10,
           true,
           "person",
           "Maria Coffey",
           "20221219",
           "Full Time",
           [],
           "John Moyer",
           "Product",
           "Manager",
           {
            "city": "New York",
            "country": "USA",
            "tz": "EST"
           },
           2,
           "New York",
           "EST",
           "USA"
          ],
          [
           "Stephanie Wong",
           10,
           true,
           "person",
           "Stephanie Wong",
           "20221114",
           "Contract",
           [
            "Java",
            "Python",
            "Go",
            "JavaScript"
           ],
           "John Moyer",
           "Product",
           "Manager",
           {
            "city": "New York",
            "country": "USA",
            "tz": "EST"
           },
           2,
           "New York",
           "EST",
           "USA"
          ],
          [
           "Debra Evans",
           10,
           true,
           "person",
           "Debra Evans",
           "20230321",
           "Contract",
           [],
           "Donna Wilkins",
           "Product",
           "Manager",
           {
            "city": "Seattle",
            "country": "USA",
            "tz": "PST"
           },
           2,
           "Seattle",
           "PST",
           "USA"
          ],
          [
           "Mrs. Andrea Mcfarland",
           10,
           true,
           "person",
           "Mrs. Andrea Mcfarland",
           "20210822",
           "Full Time",
           [
            "Typescript"
           ],
           "John Moyer",
           "Product",
           "Product Owner",
           {
            "city": "New York",
            "country": "USA",
            "tz": "EST"
           },
           3,
           "New York",
           "EST",
           "USA"
          ],
          [
           "Amber Thomas",
           10,
           true,
           "person",
           "Amber Thomas",
           "20210827",
           "Full Time",
           [
            "Scala",
            "Go"
           ],
           "John Moyer",
           "Product",
           "Product Owner",
           {
            "city": "Seattle",
            "country": "USA",
            "tz": "PST"
           },
           3,
           "Seattle",
           "PST",
           "USA"
          ],
          [
           "Nicole Lee",
           10,
           true,
           "person",
           "Nicole Lee",
           "20210422",
           "Full Time",
           [
            "Scala",
            "Java"
           ],
           "Donna Wilkins",
           "Product",
           "Product Owner",
           {
            "city": "New York",
            "country": "USA",
            "tz": "EST"
           },
           3,
           "New York",
           "EST",
           "USA"
          ],
          [
           "Tyler Osborne",
           10,
           true,
           "person",
           "Tyler Osborne",
           "20201231",
           "Full Time",
           [
            "Python"
           ],
           "Mary Moore",
           "Product",
           "Product Owner",
           {
            "city": "New York",
            "country": "USA",
            "tz": "EST"
           },
           3,
           "New York",
           "EST",
           "USA"
          ],
          [
           "Nancy Morales",
           10,
           true,
           "person",
           "Nancy Morales",
           "20220508",
           "Full Time",
           [],
           "John Moyer",
           "Product",
           "AVP",
           {
            "city": "Seattle",
            "country": "USA",
            "tz": "PST"
           },
           4,
           "Seattle",
           "PST",
           "USA"
          ],
          [
           "Kristen Ramos",
           10,
           true,
           "person",
           "Kristen Ramos",
           "20210514",
           "Full Time",
           [
            "JavaScript",
            "Scala",
            "Typescript",
            "Java",
            "Python"
           ],
           "John Moyer",
           "Product",
           "AVP",
           {
            "city": "New York",
            "country": "USA",
            "tz": "EST"
           },
           4,
           "New York",
           "EST",
           "USA"
          ],
          [
           "William Johnson",
           10,
           true,
           "person",
           "William Johnson",
           "20231013",
           "Contract",
           [
            "Scala"
           ],
           "Donna Wilkins",
           "Product",
           "AVP",
           {
            "city": "New York",
            "country": "USA",
            "tz": "EST"
           },
           4,
           "New York",
           "EST",
           "USA"
          ],
          [
           "John Moyer",
           10,
           true,
           "person",
           "John Moyer",
           "20210129",
           "Full Time",
           [
            "Scala",
            "Python",
            "Go"
           ],
           "Brian Delgado",
           "Product",
           "VP",
           {
            "city": "New York",
            "country": "USA",
            "tz": "EST"
           },
           5,
           "New York",
           "EST",
           "USA"
          ],
          [
           "David Stewart",
           10,
           true,
           "person",
           "David Stewart",
           "20211009",
           "Contract",
           [
            "Java",
            "Python",
            "JavaScript"
           ],
           "John Moyer",
           "Product",
           "VP",
           {
            "city": "New York",
            "country": "USA",
            "tz": "EST"
           },
           5,
           "New York",
           "EST",
           "USA"
          ],
          [
           "Donna Wilkins",
           10,
           true,
           "person",
           "Donna Wilkins",
           "20210113",
           "Full Time",
           [
            "Go",
            "JavaScript"
           ],
           "John Moyer",
           "Product",
           "VP",
           {
            "city": "Seattle",
            "country": "USA",
            "tz": "PST"
           },
           5,
           "Seattle",
           "PST",
           "USA"
          ],
          [
           "Thomas Miller",
           10,
           true,
           "person",
           "Thomas Miller",
           "20230908",
           "Full Time",
           [
            "Typescript",
            "Python"
           ],
           "John Moyer",
           "Product",
           "VP",
           {
            "city": "New York",
            "country": "USA",
            "tz": "EST"
           },
           5,
           "New York",
           "EST",
           "USA"
          ],
          [
           "Kyle Young",
           10,
           true,
           "person",
           "Kyle Young",
           "20210822",
           "Full Time",
           [
            "Typescript",
            "Java",
            "JavaScript"
           ],
           "Greg Rodgers",
           "Sales",
           "Associate",
           {
            "city": "New York",
            "country": "USA",
            "tz": "EST"
           },
           1,
           "New York",
           "EST",
           "USA"
          ],
          [
           "Ryan Johnson",
           10,
           true,
           "person",
           "Ryan Johnson",
           "20210412",
           "Full Time",
           [
            "Scala",
            "Java",
            "Python"
           ],
           "Vincent Carroll",
           "Sales",
           "Associate",
           {
            "city": "New York",
            "country": "USA",
            "tz": "EST"
           },
           1,
           "New York",
           "EST",
           "USA"
          ],
          [
           "Rachel Wilson",
           10,
           true,
           "person",
           "Rachel Wilson",
           "20220502",
           "Contract",
           [],
           "David Wright",
           "Sales",
           "Associate",
           {
            "city": "New York",
            "country": "USA",
            "tz": "EST"
           },
           1,
           "New York",
           "EST",
           "USA"
          ],
          [
           "Jessica Hunt",
           10,
           true,
           "person",
           "Jessica Hunt",
           "20230224",
           "Contract",
           [
            "Java",
            "Typescript",
            "Python",
            "JavaScript"
           ],
           "Michael Harper",
           "Sales",
           "Associate",
           {
            "city": "New York",
            "country": "USA",
            "tz": "EST"
           },
           1,
           "New York",
           "EST",
           "USA"
          ],
          [
           "Cynthia Murray",
           10,
           true,
           "person",
           "Cynthia Murray",
           "20221212",
           "Full Time",
           [
            "Erlang",
            "JavaScript"
           ],
           "Daniel Webb",
           "Sales",
           "VP",
           {
            "city": "New York",
            "country": "USA",
            "tz": "EST"
           },
           2,
           "New York",
           "EST",
           "USA"
          ],
          [
           "Sarah Gallagher",
           10,
           true,
           "person",
           "Sarah Gallagher",
           "20220920",
           "Full Time",
           [],
           "Daniel Webb",
           "Sales",
           "VP",
           {
            "city": "New York",
            "country": "USA",
            "tz": "EST"
           },
           2,
           "New York",
           "EST",
           "USA"
          ],
          [
           "Miranda Kidd",
           10,
           true,
           "person",
           "Miranda Kidd",
           "20210310",
           "Full Time",
           [
            "Scala"
           ],
           "Daniel Webb",
           "Sales",
           "VP",
           {
            "city": "New York",
            "country": "USA",
            "tz": "EST"
           },
           2,
           "New York",
           "EST",
           "USA"
          ],
          [
           "Nichole Zuniga",
           10,
           true,
           "person",
           "Nichole Zuniga",
           "20220706",
           "Full Time",
           [
            "JavaScript",
            "Scala",
            "Typescript",
            "Java",
            "Python"
           ],
           "Daniel Webb",
           "Sales",
           "VP",
           {
            "city": "New York",
            "country": "USA",
            "tz": "EST"
           },
           2,
           "New York",
           "EST",
           "USA"
          ],
          [
           "Peter Wallace",
           10,
           true,
           "person",
           "Peter Wallace",
           "20220218",
           "Full Time",
           [
            "Typescript",
            "Java",
            "JavaScript"
           ],
           "Daniel Webb",
           "Sales",
           "VP",
           {
            "city": "New York",
            "country": "USA",
            "tz": "EST"
           },
           2,
           "New York",
           "EST",
           "USA"
          ],
          [
           "William Kim",
           10,
           true,
           "person",
           "William Kim",
           "20220831",
           "Full Time",
           [],
           "Daniel Webb",
           "Sales",
           "VP",
           {
            "city": "New York",
            "country": "USA",
            "tz": "EST"
           },
           2,
           "New York",
           "EST",
           "USA"
          ]
         ],
         "hovertemplate": "<b>%{hovertext}</b><br><br>country=%{customdata[15]}<br>x=%{x}<br>y=%{y}<br>rank=%{customdata[12]}<br>label=%{customdata[0]}<br>size=%{customdata[1]}<br>person=%{customdata[2]}<br>type=%{customdata[3]}<br>name=%{customdata[4]}<br>hire_date=%{customdata[5]}<br>status=%{customdata[6]}<br>languages=%{customdata[7]}<br>manager=%{customdata[8]}<br>team=%{customdata[9]}<br>title=%{customdata[10]}<br>location=%{customdata[11]}<br>city=%{customdata[13]}<br>tz=%{customdata[14]}<extra></extra>",
         "hovertext": [
          "Andrea Miller",
          "Alan Jones",
          "Ralph Olsen",
          "Tim Ochoa MD",
          "Lauren Cowan",
          "Jessica Morgan",
          "Kylie Copeland",
          "Nicole Sanders",
          "Briana Hill",
          "Barbara Mullins",
          "Susan Shaw",
          "Vicki Lopez",
          "Mr. Donald Moore",
          "Tanya Boyd",
          "Ralph Phillips",
          "Amanda House",
          "Samantha Taylor",
          "Michael Ross",
          "Casey Watson",
          "Eric White",
          "Stephen Watkins",
          "Annette Shields",
          "Nicole Bean",
          "James Perez",
          "Brandon Fuller",
          "Dorothy Wise",
          "Nathan Gallegos",
          "Suzanne Rodriguez",
          "Michael Arnold",
          "Brandon Morris",
          "Alicia Howell",
          "Debra Kim",
          "Angelica Peters",
          "Casey Adams",
          "Angel Bennett",
          "Stacey Morris",
          "Jackie Cummings",
          "Lori Craig",
          "Jasmine Garcia",
          "Mark Pham",
          "Linda Bennett",
          "Jordan Alvarez",
          "Erica Turner",
          "David Robertson",
          "Ronnie Wiggins",
          "William Peters",
          "Latasha Lee",
          "Ann Rodriguez",
          "Brittany Williams",
          "Julia Bryant",
          "Maria Coffey",
          "Stephanie Wong",
          "Debra Evans",
          "Mrs. Andrea Mcfarland",
          "Amber Thomas",
          "Nicole Lee",
          "Tyler Osborne",
          "Nancy Morales",
          "Kristen Ramos",
          "William Johnson",
          "John Moyer",
          "David Stewart",
          "Donna Wilkins",
          "Thomas Miller",
          "Kyle Young",
          "Ryan Johnson",
          "Rachel Wilson",
          "Jessica Hunt",
          "Cynthia Murray",
          "Sarah Gallagher",
          "Miranda Kidd",
          "Nichole Zuniga",
          "Peter Wallace",
          "William Kim"
         ],
         "legendgroup": "USA",
         "marker": {
          "color": "#EF553B",
          "size": [
           1,
           1,
           1,
           1,
           2,
           2,
           3,
           4,
           5,
           5,
           5,
           5,
           5,
           5,
           5,
           5,
           5,
           5,
           5,
           5,
           5,
           5,
           5,
           5,
           5,
           5,
           1,
           1,
           3,
           4,
           4,
           4,
           5,
           1,
           1,
           1,
           3,
           3,
           3,
           3,
           3,
           3,
           5,
           5,
           1,
           1,
           1,
           1,
           1,
           2,
           2,
           2,
           2,
           3,
           3,
           3,
           3,
           4,
           4,
           4,
           5,
           5,
           5,
           5,
           1,
           1,
           1,
           1,
           2,
           2,
           2,
           2,
           2,
           2
          ],
          "sizemode": "area",
          "sizeref": 0.015,
          "symbol": "circle"
         },
         "mode": "markers",
         "name": "USA",
         "orientation": "v",
         "showlegend": true,
         "type": "scatter",
         "x": [
          0.24042009278155563,
          0.2706408575964222,
          -0.00834835893817065,
          -0.13241482463043355,
          -0.009975468064196458,
          0.06258377924884587,
          0.13844611569881213,
          0.4988412969128074,
          0.011897675173818288,
          0.20935138131051143,
          0.2076271069495012,
          0.29371053272336906,
          0.26507022872453706,
          0.22513014531678452,
          0.2539704285928142,
          0.3104454670280625,
          0.2689945090019021,
          0.3161953074307353,
          0.33198249139029146,
          0.19905788867549584,
          0.1711443582396579,
          0.30325281869670967,
          0.1387253578380058,
          0.33708919452024294,
          0.2710596459090366,
          0.14557993747012535,
          0.09762518376297641,
          -0.5955048747451137,
          -0.3586342537123106,
          0.044736009966189955,
          -0.36652683676388154,
          -0.5892495066211194,
          -0.4721092516042362,
          -0.0067817909992788795,
          0.0257064190373518,
          -0.7356734009730997,
          0.14702711318066483,
          -0.752790707621784,
          -0.7126583785442118,
          -0.6711675146980544,
          -0.7360223548770944,
          -0.6933060833072995,
          -0.32396624972726096,
          -0.615595677527376,
          0.24995911719163982,
          0.28895883085771096,
          0.30308862083121346,
          0.3231188759007498,
          0.4550552915097079,
          0.2883487128641472,
          0.18926642598581309,
          0.167868072277976,
          0.37973918656365635,
          0.24954189205487595,
          0.09391942069925581,
          0.42831852824777084,
          0.46320483334708124,
          0.14257488898478263,
          0.12817465345811463,
          0.41209782846147885,
          0.18743623661991266,
          0.11710549388773733,
          0.32099373450580887,
          0.2179210482516726,
          -0.3974072969373407,
          -0.5388184159489129,
          -0.25913877003582136,
          -0.4727957820227058,
          -0.3528800276659682,
          -0.4106909144875373,
          -0.4543196988542436,
          -0.41366975176942206,
          -0.40336859062091107,
          -0.38977261033570587
         ],
         "xaxis": "x",
         "y": [
          -0.14315227637619216,
          -0.1130962581897786,
          0.9674516952407681,
          0.4468876843116855,
          0.9288776671102522,
          1,
          0.9786439005743691,
          0.5366346164053972,
          0.5696943984691545,
          0.3431536086390698,
          0.48803200846792844,
          0.36989055281137845,
          0.4101769802939574,
          0.45361917145203207,
          0.49216070320939337,
          0.43246767182334056,
          0.45787111413732856,
          0.3163440744619259,
          0.402157004213782,
          0.4127116554848361,
          0.4600404513110343,
          0.47102619030304893,
          0.36199036050523237,
          0.3551530269974422,
          0.30137279098982467,
          0.41782187612937266,
          0.019186622312533194,
          -0.02369915095259613,
          0.042626787360593,
          0.002400968014037731,
          -0.004366152298539448,
          0.017618103365216346,
          -0.003050649215405696,
          0.08379396530499493,
          0.15017308313967134,
          0.1997978007797667,
          0.049902631230313854,
          0.2546659496431651,
          0.32477445480632006,
          0.33101206210333695,
          0.29137760669522866,
          0.2784259272167189,
          0.12180800389499681,
          0.23325047077575872,
          -0.3584436952648691,
          -0.49643367723474524,
          -0.45794705073592784,
          -0.7880166572931178,
          -0.35731113207133514,
          -0.42275038759842803,
          -0.47503657181976705,
          -0.3222122352844946,
          -0.7621620905908464,
          -0.52702740762585,
          -0.47484474157013384,
          -0.7359600609981426,
          -0.31586128482808273,
          -0.5035412121335667,
          -0.3486367789896096,
          -0.7756256893596664,
          -0.3940309056317113,
          -0.4494740101141045,
          -0.6622659318414796,
          -0.3287092899487087,
          -0.7827330805854729,
          -0.7073053919599777,
          -0.7679042457514469,
          -0.756648908732635,
          -0.5250869951684158,
          -0.46331068940326275,
          -0.4901014067916359,
          -0.4198939981246394,
          -0.5080335591279936,
          -0.556822282145332
         ],
         "yaxis": "y"
        },
        {
         "customdata": [
          [
           "Amy Mendoza",
           10,
           true,
           "person",
           "Amy Mendoza",
           "20211210",
           "Contract",
           [
            "Python"
           ],
           "Philip Rivera",
           "Business",
           "Analyst",
           {
            "city": "Toronto",
            "country": "CAN",
            "tz": "EST"
           },
           1,
           "Toronto",
           "EST",
           "CAN"
          ],
          [
           "Samantha Cross",
           10,
           true,
           "person",
           "Samantha Cross",
           "20210129",
           "Full Time",
           [],
           "Philip Rivera",
           "Business",
           "Analyst",
           {
            "city": "Toronto",
            "country": "CAN",
            "tz": "EST"
           },
           1,
           "Toronto",
           "EST",
           "CAN"
          ],
          [
           "Dr. Maurice Hobbs",
           10,
           true,
           "person",
           "Dr. Maurice Hobbs",
           "20220918",
           "Full Time",
           [
            "Java",
            "Python",
            "JavaScript"
           ],
           "Angela Ray",
           "Business",
           "Analyst",
           {
            "city": "Toronto",
            "country": "CAN",
            "tz": "EST"
           },
           1,
           "Toronto",
           "EST",
           "CAN"
          ],
          [
           "Jose Barton",
           10,
           true,
           "person",
           "Jose Barton",
           "20220320",
           "Full Time",
           [
            "Scala",
            "Go",
            "Typescript",
            "Java",
            "Python"
           ],
           "David Miles",
           "Business",
           "Associate",
           {
            "city": "Toronto",
            "country": "CAN",
            "tz": "EST"
           },
           2,
           "Toronto",
           "EST",
           "CAN"
          ],
          [
           "Kendra Rodriguez",
           10,
           true,
           "person",
           "Kendra Rodriguez",
           "20230704",
           "Contract",
           [
            "Erlang"
           ],
           "Philip Rivera",
           "Business",
           "Vice President",
           {
            "city": "Toronto",
            "country": "CAN",
            "tz": "EST"
           },
           3,
           "Toronto",
           "EST",
           "CAN"
          ],
          [
           "Michael Anderson",
           10,
           true,
           "person",
           "Michael Anderson",
           "20221103",
           "Full Time",
           [
            "Python"
           ],
           "Angela Ray",
           "Business",
           "Vice President",
           {
            "city": "Toronto",
            "country": "CAN",
            "tz": "EST"
           },
           3,
           "Toronto",
           "EST",
           "CAN"
          ],
          [
           "Philip Rivera",
           10,
           true,
           "person",
           "Philip Rivera",
           "20230411",
           "Full Time",
           [
            "Scala",
            "Typescript",
            "Go"
           ],
           "Cynthia Leonard",
           "Business",
           "Managing Director",
           {
            "city": "Toronto",
            "country": "CAN",
            "tz": "EST"
           },
           5,
           "Toronto",
           "EST",
           "CAN"
          ],
          [
           "Todd Collier",
           10,
           true,
           "person",
           "Todd Collier",
           "20221222",
           "Contract",
           [],
           "Brian Delgado",
           "Internal Tools",
           "VP",
           {
            "city": "Toronto",
            "country": "CAN",
            "tz": "EST"
           },
           5,
           "Toronto",
           "EST",
           "CAN"
          ],
          [
           "Thomas Tran",
           10,
           true,
           "person",
           "Thomas Tran",
           "20210123",
           "Contract",
           [],
           "Laura Jones",
           "Platform",
           "Senior Engineer",
           {
            "city": "Toronto",
            "country": "CAN",
            "tz": "EST"
           },
           2,
           "Toronto",
           "EST",
           "CAN"
          ],
          [
           "Laura Jones",
           10,
           true,
           "person",
           "Laura Jones",
           "20220515",
           "Contract",
           [
            "Java",
            "Python",
            "JavaScript"
           ],
           "Jackie Cummings",
           "Platform",
           "Managing Engineer",
           {
            "city": "Toronto",
            "country": "CAN",
            "tz": "EST"
           },
           3,
           "Toronto",
           "EST",
           "CAN"
          ],
          [
           "Michael Diaz",
           10,
           true,
           "person",
           "Michael Diaz",
           "20210115",
           "Part Time",
           [
            "Typescript",
            "JavaScript"
           ],
           "David Robertson",
           "Platform",
           "Managing Engineer",
           {
            "city": "Toronto",
            "country": "CAN",
            "tz": "EST"
           },
           3,
           "Toronto",
           "EST",
           "CAN"
          ],
          [
           "Elizabeth Crawford",
           10,
           true,
           "person",
           "Elizabeth Crawford",
           "20201210",
           "Full Time",
           [
            "Typescript",
            "JavaScript"
           ],
           "Erica Turner",
           "Platform",
           "VP",
           {
            "city": "Toronto",
            "country": "CAN",
            "tz": "EST"
           },
           5,
           "Toronto",
           "EST",
           "CAN"
          ],
          [
           "Mrs. Ashley Wilson",
           10,
           true,
           "person",
           "Mrs. Ashley Wilson",
           "20201103",
           "Full Time",
           [],
           "John Moyer",
           "Product",
           "Engineer",
           {
            "city": "Toronto",
            "country": "CAN",
            "tz": "EST"
           },
           1,
           "Toronto",
           "EST",
           "CAN"
          ],
          [
           "Eileen Ford",
           10,
           true,
           "person",
           "Eileen Ford",
           "20230522",
           "Full Time",
           [
            "Python",
            "JavaScript"
           ],
           "John Moyer",
           "Product",
           "Manager",
           {
            "city": "Toronto",
            "country": "CAN",
            "tz": "EST"
           },
           2,
           "Toronto",
           "EST",
           "CAN"
          ],
          [
           "Aaron Reid",
           10,
           true,
           "person",
           "Aaron Reid",
           "20220112",
           "Full Time",
           [
            "Java",
            "Python",
            "JavaScript"
           ],
           "John Moyer",
           "Product",
           "Product Owner",
           {
            "city": "Toronto",
            "country": "CAN",
            "tz": "EST"
           },
           3,
           "Toronto",
           "EST",
           "CAN"
          ],
          [
           "William Jensen",
           10,
           true,
           "person",
           "William Jensen",
           "20220917",
           "Part Time",
           [
            "Python",
            "JavaScript"
           ],
           "John Moyer",
           "Product",
           "Product Owner",
           {
            "city": "Toronto",
            "country": "CAN",
            "tz": "EST"
           },
           3,
           "Toronto",
           "EST",
           "CAN"
          ],
          [
           "April Cook",
           10,
           true,
           "person",
           "April Cook",
           "20210828",
           "Full Time",
           [
            "Java"
           ],
           "John Moyer",
           "Product",
           "Product Owner",
           {
            "city": "Toronto",
            "country": "CAN",
            "tz": "EST"
           },
           3,
           "Toronto",
           "EST",
           "CAN"
          ],
          [
           "Natalie Patterson",
           10,
           true,
           "person",
           "Natalie Patterson",
           "20231017",
           "Contract",
           [
            "Scala",
            "Python"
           ],
           "Donna Wilkins",
           "Product",
           "Product Owner",
           {
            "city": "Toronto",
            "country": "CAN",
            "tz": "EST"
           },
           3,
           "Toronto",
           "EST",
           "CAN"
          ],
          [
           "John Singh",
           10,
           true,
           "person",
           "John Singh",
           "20221029",
           "Full Time",
           [],
           "Mary Moore",
           "Product",
           "AVP",
           {
            "city": "Toronto",
            "country": "CAN",
            "tz": "EST"
           },
           4,
           "Toronto",
           "EST",
           "CAN"
          ],
          [
           "Mary Moore",
           10,
           true,
           "person",
           "Mary Moore",
           "20230301",
           "Full Time",
           [],
           "John Moyer",
           "Product",
           "VP",
           {
            "city": "Toronto",
            "country": "CAN",
            "tz": "EST"
           },
           5,
           "Toronto",
           "EST",
           "CAN"
          ],
          [
           "Julia Miller",
           10,
           true,
           "person",
           "Julia Miller",
           "20211108",
           "Contract",
           [
            "Scala",
            "Java",
            "Python"
           ],
           "Daniel Webb",
           "Sales",
           "VP",
           {
            "city": "Toronto",
            "country": "CAN",
            "tz": "EST"
           },
           2,
           "Toronto",
           "EST",
           "CAN"
          ],
          [
           "Julie Crawford",
           10,
           true,
           "person",
           "Julie Crawford",
           "20220917",
           "Full Time",
           [],
           "Daniel Webb",
           "Sales",
           "VP",
           {
            "city": "Toronto",
            "country": "CAN",
            "tz": "EST"
           },
           2,
           "Toronto",
           "EST",
           "CAN"
          ],
          [
           "Vincent Carroll",
           10,
           true,
           "person",
           "Vincent Carroll",
           "20220307",
           "Full Time",
           [
            "Python",
            "JavaScript"
           ],
           "Daniel Webb",
           "Sales",
           "VP",
           {
            "city": "Toronto",
            "country": "CAN",
            "tz": "EST"
           },
           2,
           "Toronto",
           "EST",
           "CAN"
          ],
          [
           "Kenneth Patterson",
           10,
           true,
           "person",
           "Kenneth Patterson",
           "20201218",
           "Contract",
           [
            "Python",
            "JavaScript"
           ],
           "Daniel Webb",
           "Sales",
           "VP",
           {
            "city": "Toronto",
            "country": "CAN",
            "tz": "EST"
           },
           2,
           "Toronto",
           "EST",
           "CAN"
          ],
          [
           "Michael Harper",
           10,
           true,
           "person",
           "Michael Harper",
           "20230123",
           "Full Time",
           [
            "Typescript",
            "Java",
            "Go"
           ],
           "Daniel Webb",
           "Sales",
           "VP",
           {
            "city": "Toronto",
            "country": "CAN",
            "tz": "EST"
           },
           2,
           "Toronto",
           "EST",
           "CAN"
          ]
         ],
         "hovertemplate": "<b>%{hovertext}</b><br><br>country=%{customdata[15]}<br>x=%{x}<br>y=%{y}<br>rank=%{customdata[12]}<br>label=%{customdata[0]}<br>size=%{customdata[1]}<br>person=%{customdata[2]}<br>type=%{customdata[3]}<br>name=%{customdata[4]}<br>hire_date=%{customdata[5]}<br>status=%{customdata[6]}<br>languages=%{customdata[7]}<br>manager=%{customdata[8]}<br>team=%{customdata[9]}<br>title=%{customdata[10]}<br>location=%{customdata[11]}<br>city=%{customdata[13]}<br>tz=%{customdata[14]}<extra></extra>",
         "hovertext": [
          "Amy Mendoza",
          "Samantha Cross",
          "Dr. Maurice Hobbs",
          "Jose Barton",
          "Kendra Rodriguez",
          "Michael Anderson",
          "Philip Rivera",
          "Todd Collier",
          "Thomas Tran",
          "Laura Jones",
          "Michael Diaz",
          "Elizabeth Crawford",
          "Mrs. Ashley Wilson",
          "Eileen Ford",
          "Aaron Reid",
          "William Jensen",
          "April Cook",
          "Natalie Patterson",
          "John Singh",
          "Mary Moore",
          "Julia Miller",
          "Julie Crawford",
          "Vincent Carroll",
          "Kenneth Patterson",
          "Michael Harper"
         ],
         "legendgroup": "CAN",
         "marker": {
          "color": "#00cc96",
          "size": [
           1,
           1,
           1,
           2,
           3,
           3,
           5,
           5,
           2,
           3,
           3,
           5,
           1,
           2,
           3,
           3,
           3,
           3,
           4,
           5,
           2,
           2,
           2,
           2,
           2
          ],
          "sizemode": "area",
          "sizeref": 0.015,
          "symbol": "circle"
         },
         "mode": "markers",
         "name": "CAN",
         "orientation": "v",
         "showlegend": true,
         "type": "scatter",
         "x": [
          -0.17845283716781493,
          -0.19752158006496753,
          0.16298953644745165,
          -0.17676126416057003,
          -0.13903827893683304,
          0.025059749487120114,
          -0.12294782459041174,
          -0.26812931914208044,
          0.4005512215266547,
          0.28953457527902376,
          -0.7218610556339089,
          -0.4135348141708617,
          0.19038152951841056,
          0.24781206244729612,
          0.08059068750592474,
          0.13916387077801304,
          0.09461783841946363,
          0.3617233953843762,
          0.4404413723597748,
          0.35542538861231965,
          -0.43622106804127836,
          -0.5193617498540856,
          -0.4501128559163201,
          -0.29186586569971573,
          -0.4083981268246248
         ],
         "xaxis": "x",
         "y": [
          0.8056981098882138,
          0.7572169678814916,
          0.9353678383665859,
          0.6341417692089111,
          0.8011746808659161,
          0.9915200758019651,
          0.6871658828481081,
          -0.00032533907219322103,
          0.1257655195140205,
          0.09549916695298068,
          0.23414505543090217,
          0.18154549772669917,
          -0.5201579747768722,
          -0.48328059672514695,
          -0.42367281194558576,
          -0.41473001397042997,
          -0.38013853855433544,
          -0.7971490834131981,
          -0.2769805126904468,
          -0.3268722795149245,
          -0.5297456981688817,
          -0.5827105999274194,
          -0.6020984475607921,
          -0.5494765161834363,
          -0.6325764333344756
         ],
         "yaxis": "y"
        },
        {
         "customdata": [
          [
           "Zachary Meza",
           10,
           true,
           "person",
           "Zachary Meza",
           "20230518",
           "Contract",
           [
            "Scala",
            "Erlang",
            "Java",
            "JavaScript"
           ],
           "Kaylee Davis",
           "DevOps",
           "Engineer",
           {
            "city": "Dublin",
            "country": "IRL",
            "tz": "UTC"
           },
           1,
           "Dublin",
           "UTC",
           "IRL"
          ],
          [
           "Michael Andrews",
           10,
           true,
           "person",
           "Michael Andrews",
           "20220118",
           "Full Time",
           [],
           "Rebecca Davis",
           "DevOps",
           "Senior Engineer",
           {
            "city": "Dublin",
            "country": "IRL",
            "tz": "UTC"
           },
           2,
           "Dublin",
           "UTC",
           "IRL"
          ],
          [
           "Maria Eaton",
           10,
           true,
           "person",
           "Maria Eaton",
           "20231024",
           "Full Time",
           [
            "Go",
            "JavaScript"
           ],
           "Kaylee Davis",
           "DevOps",
           "Senior Engineer",
           {
            "city": "Dublin",
            "country": "IRL",
            "tz": "UTC"
           },
           2,
           "Dublin",
           "UTC",
           "IRL"
          ],
          [
           "Amanda Cameron",
           10,
           true,
           "person",
           "Amanda Cameron",
           "20220410",
           "Full Time",
           [],
           "Rebecca Davis",
           "DevOps",
           "Manager",
           {
            "city": "Dublin",
            "country": "IRL",
            "tz": "UTC"
           },
           3,
           "Dublin",
           "UTC",
           "IRL"
          ],
          [
           "Mary Thomas",
           10,
           true,
           "person",
           "Mary Thomas",
           "20220412",
           "Contract",
           [],
           "Kaylee Davis",
           "DevOps",
           "Manager",
           {
            "city": "Dublin",
            "country": "IRL",
            "tz": "UTC"
           },
           3,
           "Dublin",
           "UTC",
           "IRL"
          ],
          [
           "Phillip Saunders",
           10,
           true,
           "person",
           "Phillip Saunders",
           "20230709",
           "Part Time",
           [
            "Typescript",
            "Python"
           ],
           "Jennifer Davis",
           "DevOps",
           "Manager",
           {
            "city": "Dublin",
            "country": "IRL",
            "tz": "UTC"
           },
           3,
           "Dublin",
           "UTC",
           "IRL"
          ],
          [
           "Rebecca Davis",
           10,
           true,
           "person",
           "Rebecca Davis",
           "20220915",
           "Full Time",
           [
            "Java",
            "Python"
           ],
           "Brian Delgado",
           "DevOps",
           "Senior Manager",
           {
            "city": "Dublin",
            "country": "IRL",
            "tz": "UTC"
           },
           4,
           "Dublin",
           "UTC",
           "IRL"
          ],
          [
           "Kaylee Davis",
           10,
           true,
           "person",
           "Kaylee Davis",
           "20220221",
           "Full Time",
           [
            "Typescript",
            "JavaScript"
           ],
           "Rebecca Davis",
           "DevOps",
           "Senior Manager",
           {
            "city": "Dublin",
            "country": "IRL",
            "tz": "UTC"
           },
           4,
           "Dublin",
           "UTC",
           "IRL"
          ],
          [
           "Jennifer Davis",
           10,
           true,
           "person",
           "Jennifer Davis",
           "20201215",
           "Contract",
           [
            "Java",
            "JavaScript"
           ],
           "Rebecca Davis",
           "DevOps",
           "Senior Manager",
           {
            "city": "Dublin",
            "country": "IRL",
            "tz": "UTC"
           },
           4,
           "Dublin",
           "UTC",
           "IRL"
          ],
          [
           "Michelle Herring",
           10,
           true,
           "person",
           "Michelle Herring",
           "20211022",
           "Full Time",
           [
            "Scala",
            "Java",
            "Python",
            "JavaScript"
           ],
           "Joseph Klein",
           "Support",
           "Analyst",
           {
            "city": "Dublin",
            "country": "IRL",
            "tz": "UTC"
           },
           1,
           "Dublin",
           "UTC",
           "IRL"
          ],
          [
           "Audrey Dodson",
           10,
           true,
           "person",
           "Audrey Dodson",
           "20230607",
           "Contract",
           [
            "Go",
            "JavaScript"
           ],
           "Joseph Klein",
           "Support",
           "Analyst",
           {
            "city": "Dublin",
            "country": "IRL",
            "tz": "UTC"
           },
           1,
           "Dublin",
           "UTC",
           "IRL"
          ],
          [
           "Pamela Colon",
           10,
           true,
           "person",
           "Pamela Colon",
           "20230918",
           "Contract",
           [
            "JavaScript",
            "Scala",
            "Go",
            "Typescript",
            "Java",
            "Python"
           ],
           "Jeanette Williams MD",
           "Support",
           "Analyst",
           {
            "city": "Dublin",
            "country": "IRL",
            "tz": "UTC"
           },
           1,
           "Dublin",
           "UTC",
           "IRL"
          ],
          [
           "Anthony King",
           10,
           true,
           "person",
           "Anthony King",
           "20230207",
           "Full Time",
           [
            "Java",
            "Python"
           ],
           "Jeanette Williams MD",
           "Support",
           "Analyst",
           {
            "city": "Dublin",
            "country": "IRL",
            "tz": "UTC"
           },
           1,
           "Dublin",
           "UTC",
           "IRL"
          ],
          [
           "Patricia Santana",
           10,
           true,
           "person",
           "Patricia Santana",
           "20201221",
           "Contract",
           [
            "Python"
           ],
           "Jeanette Williams MD",
           "Support",
           "Analyst",
           {
            "city": "Dublin",
            "country": "IRL",
            "tz": "UTC"
           },
           1,
           "Dublin",
           "UTC",
           "IRL"
          ],
          [
           "Hunter Mckee",
           10,
           true,
           "person",
           "Hunter Mckee",
           "20220130",
           "Full Time",
           [],
           "Brian Delgado",
           "Support",
           "Manager",
           {
            "city": "Dublin",
            "country": "IRL",
            "tz": "UTC"
           },
           2,
           "Dublin",
           "UTC",
           "IRL"
          ],
          [
           "Carol Collins",
           10,
           true,
           "person",
           "Carol Collins",
           "20210526",
           "Contract",
           [
            "Python",
            "JavaScript"
           ],
           "Hunter Mckee",
           "Support",
           "Manager",
           {
            "city": "Dublin",
            "country": "IRL",
            "tz": "UTC"
           },
           2,
           "Dublin",
           "UTC",
           "IRL"
          ],
          [
           "Joseph Klein",
           10,
           true,
           "person",
           "Joseph Klein",
           "20220427",
           "Full Time",
           [
            "Java",
            "Typescript",
            "Python",
            "JavaScript"
           ],
           "Hunter Mckee",
           "Support",
           "Manager",
           {
            "city": "Dublin",
            "country": "IRL",
            "tz": "UTC"
           },
           2,
           "Dublin",
           "UTC",
           "IRL"
          ],
          [
           "Katherine Mccormick",
           10,
           true,
           "person",
           "Katherine Mccormick",
           "20201104",
           "Full Time",
           [
            "Typescript",
            "Python"
           ],
           "Hunter Mckee",
           "Support",
           "Manager",
           {
            "city": "Dublin",
            "country": "IRL",
            "tz": "UTC"
           },
           2,
           "Dublin",
           "UTC",
           "IRL"
          ],
          [
           "Jeanette Williams MD",
           10,
           true,
           "person",
           "Jeanette Williams MD",
           "20220528",
           "Full Time",
           [
            "Typescript",
            "Java"
           ],
           "Hunter Mckee",
           "Support",
           "Manager",
           {
            "city": "Dublin",
            "country": "IRL",
            "tz": "UTC"
           },
           2,
           "Dublin",
           "UTC",
           "IRL"
          ]
         ],
         "hovertemplate": "<b>%{hovertext}</b><br><br>country=%{customdata[15]}<br>x=%{x}<br>y=%{y}<br>rank=%{customdata[12]}<br>label=%{customdata[0]}<br>size=%{customdata[1]}<br>person=%{customdata[2]}<br>type=%{customdata[3]}<br>name=%{customdata[4]}<br>hire_date=%{customdata[5]}<br>status=%{customdata[6]}<br>languages=%{customdata[7]}<br>manager=%{customdata[8]}<br>team=%{customdata[9]}<br>title=%{customdata[10]}<br>location=%{customdata[11]}<br>city=%{customdata[13]}<br>tz=%{customdata[14]}<extra></extra>",
         "hovertext": [
          "Zachary Meza",
          "Michael Andrews",
          "Maria Eaton",
          "Amanda Cameron",
          "Mary Thomas",
          "Phillip Saunders",
          "Rebecca Davis",
          "Kaylee Davis",
          "Jennifer Davis",
          "Michelle Herring",
          "Audrey Dodson",
          "Pamela Colon",
          "Anthony King",
          "Patricia Santana",
          "Hunter Mckee",
          "Carol Collins",
          "Joseph Klein",
          "Katherine Mccormick",
          "Jeanette Williams MD"
         ],
         "legendgroup": "IRL",
         "marker": {
          "color": "#ab63fa",
          "size": [
           1,
           2,
           2,
           3,
           3,
           3,
           4,
           4,
           4,
           1,
           1,
           1,
           1,
           1,
           2,
           2,
           2,
           2,
           2
          ],
          "sizemode": "area",
          "sizeref": 0.015,
          "symbol": "circle"
         },
         "mode": "markers",
         "name": "IRL",
         "orientation": "v",
         "showlegend": true,
         "type": "scatter",
         "x": [
          0.7117014626153259,
          0.445647296081544,
          0.6972821456955218,
          0.4469586049847456,
          0.7136165003118116,
          0.5793720540586201,
          0.33491806208292,
          0.5827906851117338,
          0.4875937913505932,
          -0.44980956606030537,
          -0.4502137435829512,
          -0.0018797685582724877,
          -0.08491266733027691,
          -0.03369880416094333,
          -0.14558441993743726,
          -0.22694507988139617,
          -0.3364258258211566,
          -0.20730831532043295,
          -0.08284684114512599
         ],
         "xaxis": "x",
         "y": [
          -0.0849354213493262,
          -0.03803053058050036,
          -0.1594961258794719,
          -0.08285468291446586,
          -0.12424140297862606,
          0.0446413350919251,
          -0.04432911430510496,
          -0.09909290812907819,
          0.0001954590682482362,
          -0.2269279976095068,
          -0.26683605623390677,
          -0.5637436085419348,
          -0.5826988201070641,
          -0.5838578604821624,
          -0.23740163803964667,
          -0.23307595446975654,
          -0.24405744450492603,
          -0.29010245356487635,
          -0.461857759482741
         ],
         "yaxis": "y"
        }
       ],
       "layout": {
        "legend": {
         "itemsizing": "constant",
         "title": {
          "text": "country"
         },
         "tracegroupgap": 0
        },
        "margin": {
         "t": 60
        },
        "template": {
         "data": {
          "bar": [
           {
            "error_x": {
             "color": "#f2f5fa"
            },
            "error_y": {
             "color": "#f2f5fa"
            },
            "marker": {
             "line": {
              "color": "rgb(17,17,17)",
              "width": 0.5
             },
             "pattern": {
              "fillmode": "overlay",
              "size": 10,
              "solidity": 0.2
             }
            },
            "type": "bar"
           }
          ],
          "barpolar": [
           {
            "marker": {
             "line": {
              "color": "rgb(17,17,17)",
              "width": 0.5
             },
             "pattern": {
              "fillmode": "overlay",
              "size": 10,
              "solidity": 0.2
             }
            },
            "type": "barpolar"
           }
          ],
          "carpet": [
           {
            "aaxis": {
             "endlinecolor": "#A2B1C6",
             "gridcolor": "#506784",
             "linecolor": "#506784",
             "minorgridcolor": "#506784",
             "startlinecolor": "#A2B1C6"
            },
            "baxis": {
             "endlinecolor": "#A2B1C6",
             "gridcolor": "#506784",
             "linecolor": "#506784",
             "minorgridcolor": "#506784",
             "startlinecolor": "#A2B1C6"
            },
            "type": "carpet"
           }
          ],
          "choropleth": [
           {
            "colorbar": {
             "outlinewidth": 0,
             "ticks": ""
            },
            "type": "choropleth"
           }
          ],
          "contour": [
           {
            "colorbar": {
             "outlinewidth": 0,
             "ticks": ""
            },
            "colorscale": [
             [
              0,
              "#0d0887"
             ],
             [
              0.1111111111111111,
              "#46039f"
             ],
             [
              0.2222222222222222,
              "#7201a8"
             ],
             [
              0.3333333333333333,
              "#9c179e"
             ],
             [
              0.4444444444444444,
              "#bd3786"
             ],
             [
              0.5555555555555556,
              "#d8576b"
             ],
             [
              0.6666666666666666,
              "#ed7953"
             ],
             [
              0.7777777777777778,
              "#fb9f3a"
             ],
             [
              0.8888888888888888,
              "#fdca26"
             ],
             [
              1,
              "#f0f921"
             ]
            ],
            "type": "contour"
           }
          ],
          "contourcarpet": [
           {
            "colorbar": {
             "outlinewidth": 0,
             "ticks": ""
            },
            "type": "contourcarpet"
           }
          ],
          "heatmap": [
           {
            "colorbar": {
             "outlinewidth": 0,
             "ticks": ""
            },
            "colorscale": [
             [
              0,
              "#0d0887"
             ],
             [
              0.1111111111111111,
              "#46039f"
             ],
             [
              0.2222222222222222,
              "#7201a8"
             ],
             [
              0.3333333333333333,
              "#9c179e"
             ],
             [
              0.4444444444444444,
              "#bd3786"
             ],
             [
              0.5555555555555556,
              "#d8576b"
             ],
             [
              0.6666666666666666,
              "#ed7953"
             ],
             [
              0.7777777777777778,
              "#fb9f3a"
             ],
             [
              0.8888888888888888,
              "#fdca26"
             ],
             [
              1,
              "#f0f921"
             ]
            ],
            "type": "heatmap"
           }
          ],
          "heatmapgl": [
           {
            "colorbar": {
             "outlinewidth": 0,
             "ticks": ""
            },
            "colorscale": [
             [
              0,
              "#0d0887"
             ],
             [
              0.1111111111111111,
              "#46039f"
             ],
             [
              0.2222222222222222,
              "#7201a8"
             ],
             [
              0.3333333333333333,
              "#9c179e"
             ],
             [
              0.4444444444444444,
              "#bd3786"
             ],
             [
              0.5555555555555556,
              "#d8576b"
             ],
             [
              0.6666666666666666,
              "#ed7953"
             ],
             [
              0.7777777777777778,
              "#fb9f3a"
             ],
             [
              0.8888888888888888,
              "#fdca26"
             ],
             [
              1,
              "#f0f921"
             ]
            ],
            "type": "heatmapgl"
           }
          ],
          "histogram": [
           {
            "marker": {
             "pattern": {
              "fillmode": "overlay",
              "size": 10,
              "solidity": 0.2
             }
            },
            "type": "histogram"
           }
          ],
          "histogram2d": [
           {
            "colorbar": {
             "outlinewidth": 0,
             "ticks": ""
            },
            "colorscale": [
             [
              0,
              "#0d0887"
             ],
             [
              0.1111111111111111,
              "#46039f"
             ],
             [
              0.2222222222222222,
              "#7201a8"
             ],
             [
              0.3333333333333333,
              "#9c179e"
             ],
             [
              0.4444444444444444,
              "#bd3786"
             ],
             [
              0.5555555555555556,
              "#d8576b"
             ],
             [
              0.6666666666666666,
              "#ed7953"
             ],
             [
              0.7777777777777778,
              "#fb9f3a"
             ],
             [
              0.8888888888888888,
              "#fdca26"
             ],
             [
              1,
              "#f0f921"
             ]
            ],
            "type": "histogram2d"
           }
          ],
          "histogram2dcontour": [
           {
            "colorbar": {
             "outlinewidth": 0,
             "ticks": ""
            },
            "colorscale": [
             [
              0,
              "#0d0887"
             ],
             [
              0.1111111111111111,
              "#46039f"
             ],
             [
              0.2222222222222222,
              "#7201a8"
             ],
             [
              0.3333333333333333,
              "#9c179e"
             ],
             [
              0.4444444444444444,
              "#bd3786"
             ],
             [
              0.5555555555555556,
              "#d8576b"
             ],
             [
              0.6666666666666666,
              "#ed7953"
             ],
             [
              0.7777777777777778,
              "#fb9f3a"
             ],
             [
              0.8888888888888888,
              "#fdca26"
             ],
             [
              1,
              "#f0f921"
             ]
            ],
            "type": "histogram2dcontour"
           }
          ],
          "mesh3d": [
           {
            "colorbar": {
             "outlinewidth": 0,
             "ticks": ""
            },
            "type": "mesh3d"
           }
          ],
          "parcoords": [
           {
            "line": {
             "colorbar": {
              "outlinewidth": 0,
              "ticks": ""
             }
            },
            "type": "parcoords"
           }
          ],
          "pie": [
           {
            "automargin": true,
            "type": "pie"
           }
          ],
          "scatter": [
           {
            "marker": {
             "line": {
              "color": "#283442"
             }
            },
            "type": "scatter"
           }
          ],
          "scatter3d": [
           {
            "line": {
             "colorbar": {
              "outlinewidth": 0,
              "ticks": ""
             }
            },
            "marker": {
             "colorbar": {
              "outlinewidth": 0,
              "ticks": ""
             }
            },
            "type": "scatter3d"
           }
          ],
          "scattercarpet": [
           {
            "marker": {
             "colorbar": {
              "outlinewidth": 0,
              "ticks": ""
             }
            },
            "type": "scattercarpet"
           }
          ],
          "scattergeo": [
           {
            "marker": {
             "colorbar": {
              "outlinewidth": 0,
              "ticks": ""
             }
            },
            "type": "scattergeo"
           }
          ],
          "scattergl": [
           {
            "marker": {
             "line": {
              "color": "#283442"
             }
            },
            "type": "scattergl"
           }
          ],
          "scattermapbox": [
           {
            "marker": {
             "colorbar": {
              "outlinewidth": 0,
              "ticks": ""
             }
            },
            "type": "scattermapbox"
           }
          ],
          "scatterpolar": [
           {
            "marker": {
             "colorbar": {
              "outlinewidth": 0,
              "ticks": ""
             }
            },
            "type": "scatterpolar"
           }
          ],
          "scatterpolargl": [
           {
            "marker": {
             "colorbar": {
              "outlinewidth": 0,
              "ticks": ""
             }
            },
            "type": "scatterpolargl"
           }
          ],
          "scatterternary": [
           {
            "marker": {
             "colorbar": {
              "outlinewidth": 0,
              "ticks": ""
             }
            },
            "type": "scatterternary"
           }
          ],
          "surface": [
           {
            "colorbar": {
             "outlinewidth": 0,
             "ticks": ""
            },
            "colorscale": [
             [
              0,
              "#0d0887"
             ],
             [
              0.1111111111111111,
              "#46039f"
             ],
             [
              0.2222222222222222,
              "#7201a8"
             ],
             [
              0.3333333333333333,
              "#9c179e"
             ],
             [
              0.4444444444444444,
              "#bd3786"
             ],
             [
              0.5555555555555556,
              "#d8576b"
             ],
             [
              0.6666666666666666,
              "#ed7953"
             ],
             [
              0.7777777777777778,
              "#fb9f3a"
             ],
             [
              0.8888888888888888,
              "#fdca26"
             ],
             [
              1,
              "#f0f921"
             ]
            ],
            "type": "surface"
           }
          ],
          "table": [
           {
            "cells": {
             "fill": {
              "color": "#506784"
             },
             "line": {
              "color": "rgb(17,17,17)"
             }
            },
            "header": {
             "fill": {
              "color": "#2a3f5f"
             },
             "line": {
              "color": "rgb(17,17,17)"
             }
            },
            "type": "table"
           }
          ]
         },
         "layout": {
          "annotationdefaults": {
           "arrowcolor": "#f2f5fa",
           "arrowhead": 0,
           "arrowwidth": 1
          },
          "autotypenumbers": "strict",
          "coloraxis": {
           "colorbar": {
            "outlinewidth": 0,
            "ticks": ""
           }
          },
          "colorscale": {
           "diverging": [
            [
             0,
             "#8e0152"
            ],
            [
             0.1,
             "#c51b7d"
            ],
            [
             0.2,
             "#de77ae"
            ],
            [
             0.3,
             "#f1b6da"
            ],
            [
             0.4,
             "#fde0ef"
            ],
            [
             0.5,
             "#f7f7f7"
            ],
            [
             0.6,
             "#e6f5d0"
            ],
            [
             0.7,
             "#b8e186"
            ],
            [
             0.8,
             "#7fbc41"
            ],
            [
             0.9,
             "#4d9221"
            ],
            [
             1,
             "#276419"
            ]
           ],
           "sequential": [
            [
             0,
             "#0d0887"
            ],
            [
             0.1111111111111111,
             "#46039f"
            ],
            [
             0.2222222222222222,
             "#7201a8"
            ],
            [
             0.3333333333333333,
             "#9c179e"
            ],
            [
             0.4444444444444444,
             "#bd3786"
            ],
            [
             0.5555555555555556,
             "#d8576b"
            ],
            [
             0.6666666666666666,
             "#ed7953"
            ],
            [
             0.7777777777777778,
             "#fb9f3a"
            ],
            [
             0.8888888888888888,
             "#fdca26"
            ],
            [
             1,
             "#f0f921"
            ]
           ],
           "sequentialminus": [
            [
             0,
             "#0d0887"
            ],
            [
             0.1111111111111111,
             "#46039f"
            ],
            [
             0.2222222222222222,
             "#7201a8"
            ],
            [
             0.3333333333333333,
             "#9c179e"
            ],
            [
             0.4444444444444444,
             "#bd3786"
            ],
            [
             0.5555555555555556,
             "#d8576b"
            ],
            [
             0.6666666666666666,
             "#ed7953"
            ],
            [
             0.7777777777777778,
             "#fb9f3a"
            ],
            [
             0.8888888888888888,
             "#fdca26"
            ],
            [
             1,
             "#f0f921"
            ]
           ]
          },
          "colorway": [
           "#636efa",
           "#EF553B",
           "#00cc96",
           "#ab63fa",
           "#FFA15A",
           "#19d3f3",
           "#FF6692",
           "#B6E880",
           "#FF97FF",
           "#FECB52"
          ],
          "font": {
           "color": "#f2f5fa"
          },
          "geo": {
           "bgcolor": "rgb(17,17,17)",
           "lakecolor": "rgb(17,17,17)",
           "landcolor": "rgb(17,17,17)",
           "showlakes": true,
           "showland": true,
           "subunitcolor": "#506784"
          },
          "hoverlabel": {
           "align": "left"
          },
          "hovermode": "closest",
          "mapbox": {
           "style": "dark"
          },
          "paper_bgcolor": "rgb(17,17,17)",
          "plot_bgcolor": "rgb(17,17,17)",
          "polar": {
           "angularaxis": {
            "gridcolor": "#506784",
            "linecolor": "#506784",
            "ticks": ""
           },
           "bgcolor": "rgb(17,17,17)",
           "radialaxis": {
            "gridcolor": "#506784",
            "linecolor": "#506784",
            "ticks": ""
           }
          },
          "scene": {
           "xaxis": {
            "backgroundcolor": "rgb(17,17,17)",
            "gridcolor": "#506784",
            "gridwidth": 2,
            "linecolor": "#506784",
            "showbackground": true,
            "ticks": "",
            "zerolinecolor": "#C8D4E3"
           },
           "yaxis": {
            "backgroundcolor": "rgb(17,17,17)",
            "gridcolor": "#506784",
            "gridwidth": 2,
            "linecolor": "#506784",
            "showbackground": true,
            "ticks": "",
            "zerolinecolor": "#C8D4E3"
           },
           "zaxis": {
            "backgroundcolor": "rgb(17,17,17)",
            "gridcolor": "#506784",
            "gridwidth": 2,
            "linecolor": "#506784",
            "showbackground": true,
            "ticks": "",
            "zerolinecolor": "#C8D4E3"
           }
          },
          "shapedefaults": {
           "line": {
            "color": "#f2f5fa"
           }
          },
          "sliderdefaults": {
           "bgcolor": "#C8D4E3",
           "bordercolor": "rgb(17,17,17)",
           "borderwidth": 1,
           "tickwidth": 0
          },
          "ternary": {
           "aaxis": {
            "gridcolor": "#506784",
            "linecolor": "#506784",
            "ticks": ""
           },
           "baxis": {
            "gridcolor": "#506784",
            "linecolor": "#506784",
            "ticks": ""
           },
           "bgcolor": "rgb(17,17,17)",
           "caxis": {
            "gridcolor": "#506784",
            "linecolor": "#506784",
            "ticks": ""
           }
          },
          "title": {
           "x": 0.05
          },
          "updatemenudefaults": {
           "bgcolor": "#506784",
           "borderwidth": 0
          },
          "xaxis": {
           "automargin": true,
           "gridcolor": "#283442",
           "linecolor": "#506784",
           "ticks": "",
           "title": {
            "standoff": 15
           },
           "zerolinecolor": "#283442",
           "zerolinewidth": 2
          },
          "yaxis": {
           "automargin": true,
           "gridcolor": "#283442",
           "linecolor": "#506784",
           "ticks": "",
           "title": {
            "standoff": 15
           },
           "zerolinecolor": "#283442",
           "zerolinewidth": 2
          }
         }
        },
        "xaxis": {
         "visible": false
        },
        "yaxis": {
         "visible": false
        }
       }
      }
     },
     "metadata": {},
     "output_type": "display_data"
    }
   ],
   "source": [
    "from functools import partial\n",
    "\n",
    "layout = (\n",
    "    nx.spring_layout\n",
    ")  # partial(nx.spring_layout,k=0.1, iterations=20) # or customize how the layout is generated\n",
    "px_plot_nx(\n",
    "    G,\n",
    "    color=\"country\",\n",
    "    layout=layout,\n",
    "    with_edges=False,\n",
    "    hover_name=\"name\",\n",
    "    size=\"rank\",\n",
    "    template=\"plotly_dark\",\n",
    ")  # ,text=\"label\")\n"
   ]
  },
  {
   "cell_type": "code",
   "execution_count": 131,
   "id": "29295efc",
   "metadata": {},
   "outputs": [
    {
     "data": {
      "application/vnd.plotly.v1+json": {
       "config": {
        "plotlyServerURL": "https://plot.ly"
       },
       "data": [
        {
         "hovertemplate": "x=%{x}<br>y=%{y}<extra></extra>",
         "legendgroup": "",
         "line": {
          "color": "grey",
          "dash": "solid"
         },
         "marker": {
          "symbol": "circle"
         },
         "mode": "lines",
         "name": "",
         "orientation": "v",
         "showlegend": false,
         "type": "scatter",
         "x": [
          0.03396605089933172,
          0.03396605089933172
         ],
         "xaxis": "x",
         "y": [
          -0.06377312619560842,
          -0.06377312619560842
         ],
         "yaxis": "y"
        },
        {
         "hovertemplate": "x=%{x}<br>y=%{y}<extra></extra>",
         "legendgroup": "",
         "line": {
          "color": "grey",
          "dash": "solid"
         },
         "marker": {
          "symbol": "circle"
         },
         "mode": "lines",
         "name": "",
         "orientation": "v",
         "showlegend": false,
         "type": "scatter",
         "x": [
          -0.2269847476884305,
          -0.2951026215388207
         ],
         "xaxis": "x",
         "y": [
          -0.08994328707343027,
          -0.04490195872528842
         ],
         "yaxis": "y"
        },
        {
         "hovertemplate": "x=%{x}<br>y=%{y}<extra></extra>",
         "legendgroup": "",
         "line": {
          "color": "grey",
          "dash": "solid"
         },
         "marker": {
          "symbol": "circle"
         },
         "mode": "lines",
         "name": "",
         "orientation": "v",
         "showlegend": false,
         "type": "scatter",
         "x": [
          -0.2269847476884305,
          -0.2283101768540906
         ],
         "xaxis": "x",
         "y": [
          -0.08994328707343027,
          -0.0032983096295063127
         ],
         "yaxis": "y"
        },
        {
         "hovertemplate": "x=%{x}<br>y=%{y}<extra></extra>",
         "legendgroup": "",
         "line": {
          "color": "grey",
          "dash": "solid"
         },
         "marker": {
          "symbol": "circle"
         },
         "mode": "lines",
         "name": "",
         "orientation": "v",
         "showlegend": false,
         "type": "scatter",
         "x": [
          -0.2269847476884305,
          -0.3601243773434667
         ],
         "xaxis": "x",
         "y": [
          -0.08994328707343027,
          -0.005812557997457239
         ],
         "yaxis": "y"
        },
        {
         "hovertemplate": "x=%{x}<br>y=%{y}<extra></extra>",
         "legendgroup": "",
         "line": {
          "color": "grey",
          "dash": "solid"
         },
         "marker": {
          "symbol": "circle"
         },
         "mode": "lines",
         "name": "",
         "orientation": "v",
         "showlegend": false,
         "type": "scatter",
         "x": [
          -0.2269847476884305,
          -0.2871650636682377
         ],
         "xaxis": "x",
         "y": [
          -0.08994328707343027,
          -0.16225546326031126
         ],
         "yaxis": "y"
        },
        {
         "hovertemplate": "x=%{x}<br>y=%{y}<extra></extra>",
         "legendgroup": "",
         "line": {
          "color": "grey",
          "dash": "solid"
         },
         "marker": {
          "symbol": "circle"
         },
         "mode": "lines",
         "name": "",
         "orientation": "v",
         "showlegend": false,
         "type": "scatter",
         "x": [
          -0.2269847476884305,
          -0.32531114954734924
         ],
         "xaxis": "x",
         "y": [
          -0.08994328707343027,
          -0.11723109266598164
         ],
         "yaxis": "y"
        },
        {
         "hovertemplate": "x=%{x}<br>y=%{y}<extra></extra>",
         "legendgroup": "",
         "line": {
          "color": "grey",
          "dash": "solid"
         },
         "marker": {
          "symbol": "circle"
         },
         "mode": "lines",
         "name": "",
         "orientation": "v",
         "showlegend": false,
         "type": "scatter",
         "x": [
          -0.2269847476884305,
          -0.35818211131978944
         ],
         "xaxis": "x",
         "y": [
          -0.08994328707343027,
          -0.21493049242689913
         ],
         "yaxis": "y"
        },
        {
         "hovertemplate": "x=%{x}<br>y=%{y}<extra></extra>",
         "legendgroup": "",
         "line": {
          "color": "grey",
          "dash": "solid"
         },
         "marker": {
          "symbol": "circle"
         },
         "mode": "lines",
         "name": "",
         "orientation": "v",
         "showlegend": false,
         "type": "scatter",
         "x": [
          -0.2269847476884305,
          0.03396605089933172
         ],
         "xaxis": "x",
         "y": [
          -0.08994328707343027,
          -0.06377312619560842
         ],
         "yaxis": "y"
        },
        {
         "hovertemplate": "x=%{x}<br>y=%{y}<extra></extra>",
         "legendgroup": "",
         "line": {
          "color": "grey",
          "dash": "solid"
         },
         "marker": {
          "symbol": "circle"
         },
         "mode": "lines",
         "name": "",
         "orientation": "v",
         "showlegend": false,
         "type": "scatter",
         "x": [
          -0.46225432281796286,
          -0.3601243773434667
         ],
         "xaxis": "x",
         "y": [
          0.05165546595470022,
          -0.005812557997457239
         ],
         "yaxis": "y"
        },
        {
         "hovertemplate": "x=%{x}<br>y=%{y}<extra></extra>",
         "legendgroup": "",
         "line": {
          "color": "grey",
          "dash": "solid"
         },
         "marker": {
          "symbol": "circle"
         },
         "mode": "lines",
         "name": "",
         "orientation": "v",
         "showlegend": false,
         "type": "scatter",
         "x": [
          -0.4536291184284819,
          -0.35818211131978944
         ],
         "xaxis": "x",
         "y": [
          -0.3132385620343844,
          -0.21493049242689913
         ],
         "yaxis": "y"
        },
        {
         "hovertemplate": "x=%{x}<br>y=%{y}<extra></extra>",
         "legendgroup": "",
         "line": {
          "color": "grey",
          "dash": "solid"
         },
         "marker": {
          "symbol": "circle"
         },
         "mode": "lines",
         "name": "",
         "orientation": "v",
         "showlegend": false,
         "type": "scatter",
         "x": [
          0.1489620986072825,
          0.2919575150285845
         ],
         "xaxis": "x",
         "y": [
          -0.696770904360411,
          -0.703200147672935
         ],
         "yaxis": "y"
        },
        {
         "hovertemplate": "x=%{x}<br>y=%{y}<extra></extra>",
         "legendgroup": "",
         "line": {
          "color": "grey",
          "dash": "solid"
         },
         "marker": {
          "symbol": "circle"
         },
         "mode": "lines",
         "name": "",
         "orientation": "v",
         "showlegend": false,
         "type": "scatter",
         "x": [
          0.1489620986072825,
          0.17070019445924
         ],
         "xaxis": "x",
         "y": [
          -0.696770904360411,
          -0.8443275379129186
         ],
         "yaxis": "y"
        },
        {
         "hovertemplate": "x=%{x}<br>y=%{y}<extra></extra>",
         "legendgroup": "",
         "line": {
          "color": "grey",
          "dash": "solid"
         },
         "marker": {
          "symbol": "circle"
         },
         "mode": "lines",
         "name": "",
         "orientation": "v",
         "showlegend": false,
         "type": "scatter",
         "x": [
          0.1489620986072825,
          0.24511656674539256
         ],
         "xaxis": "x",
         "y": [
          -0.696770904360411,
          -0.8043313959659663
         ],
         "yaxis": "y"
        },
        {
         "hovertemplate": "x=%{x}<br>y=%{y}<extra></extra>",
         "legendgroup": "",
         "line": {
          "color": "grey",
          "dash": "solid"
         },
         "marker": {
          "symbol": "circle"
         },
         "mode": "lines",
         "name": "",
         "orientation": "v",
         "showlegend": false,
         "type": "scatter",
         "x": [
          0.1489620986072825,
          0.22017454236104098
         ],
         "xaxis": "x",
         "y": [
          -0.696770904360411,
          -0.7609627272950741
         ],
         "yaxis": "y"
        },
        {
         "hovertemplate": "x=%{x}<br>y=%{y}<extra></extra>",
         "legendgroup": "",
         "line": {
          "color": "grey",
          "dash": "solid"
         },
         "marker": {
          "symbol": "circle"
         },
         "mode": "lines",
         "name": "",
         "orientation": "v",
         "showlegend": false,
         "type": "scatter",
         "x": [
          0.1489620986072825,
          0.19664362296580223
         ],
         "xaxis": "x",
         "y": [
          -0.696770904360411,
          -0.8871357352787121
         ],
         "yaxis": "y"
        },
        {
         "hovertemplate": "x=%{x}<br>y=%{y}<extra></extra>",
         "legendgroup": "",
         "line": {
          "color": "grey",
          "dash": "solid"
         },
         "marker": {
          "symbol": "circle"
         },
         "mode": "lines",
         "name": "",
         "orientation": "v",
         "showlegend": false,
         "type": "scatter",
         "x": [
          0.1489620986072825,
          0.08327401580126952
         ],
         "xaxis": "x",
         "y": [
          -0.696770904360411,
          -0.819719001276049
         ],
         "yaxis": "y"
        },
        {
         "hovertemplate": "x=%{x}<br>y=%{y}<extra></extra>",
         "legendgroup": "",
         "line": {
          "color": "grey",
          "dash": "solid"
         },
         "marker": {
          "symbol": "circle"
         },
         "mode": "lines",
         "name": "",
         "orientation": "v",
         "showlegend": false,
         "type": "scatter",
         "x": [
          0.1489620986072825,
          0.2439789069545285
         ],
         "xaxis": "x",
         "y": [
          -0.696770904360411,
          -0.6765445893052324
         ],
         "yaxis": "y"
        },
        {
         "hovertemplate": "x=%{x}<br>y=%{y}<extra></extra>",
         "legendgroup": "",
         "line": {
          "color": "grey",
          "dash": "solid"
         },
         "marker": {
          "symbol": "circle"
         },
         "mode": "lines",
         "name": "",
         "orientation": "v",
         "showlegend": false,
         "type": "scatter",
         "x": [
          0.1489620986072825,
          0.30636055351076047
         ],
         "xaxis": "x",
         "y": [
          -0.696770904360411,
          -0.7593857241041161
         ],
         "yaxis": "y"
        },
        {
         "hovertemplate": "x=%{x}<br>y=%{y}<extra></extra>",
         "legendgroup": "",
         "line": {
          "color": "grey",
          "dash": "solid"
         },
         "marker": {
          "symbol": "circle"
         },
         "mode": "lines",
         "name": "",
         "orientation": "v",
         "showlegend": false,
         "type": "scatter",
         "x": [
          0.1489620986072825,
          0.04967550631052169
         ],
         "xaxis": "x",
         "y": [
          -0.696770904360411,
          -0.8535296227541841
         ],
         "yaxis": "y"
        },
        {
         "hovertemplate": "x=%{x}<br>y=%{y}<extra></extra>",
         "legendgroup": "",
         "line": {
          "color": "grey",
          "dash": "solid"
         },
         "marker": {
          "symbol": "circle"
         },
         "mode": "lines",
         "name": "",
         "orientation": "v",
         "showlegend": false,
         "type": "scatter",
         "x": [
          0.1489620986072825,
          0.12788538453299705
         ],
         "xaxis": "x",
         "y": [
          -0.696770904360411,
          -0.8308326269012964
         ],
         "yaxis": "y"
        },
        {
         "hovertemplate": "x=%{x}<br>y=%{y}<extra></extra>",
         "legendgroup": "",
         "line": {
          "color": "grey",
          "dash": "solid"
         },
         "marker": {
          "symbol": "circle"
         },
         "mode": "lines",
         "name": "",
         "orientation": "v",
         "showlegend": false,
         "type": "scatter",
         "x": [
          0.1489620986072825,
          0.26423604664497297
         ],
         "xaxis": "x",
         "y": [
          -0.696770904360411,
          -0.7399505367061054
         ],
         "yaxis": "y"
        },
        {
         "hovertemplate": "x=%{x}<br>y=%{y}<extra></extra>",
         "legendgroup": "",
         "line": {
          "color": "grey",
          "dash": "solid"
         },
         "marker": {
          "symbol": "circle"
         },
         "mode": "lines",
         "name": "",
         "orientation": "v",
         "showlegend": false,
         "type": "scatter",
         "x": [
          0.1489620986072825,
          0.27349573744760786
         ],
         "xaxis": "x",
         "y": [
          -0.696770904360411,
          -0.8409259906653218
         ],
         "yaxis": "y"
        },
        {
         "hovertemplate": "x=%{x}<br>y=%{y}<extra></extra>",
         "legendgroup": "",
         "line": {
          "color": "grey",
          "dash": "solid"
         },
         "marker": {
          "symbol": "circle"
         },
         "mode": "lines",
         "name": "",
         "orientation": "v",
         "showlegend": false,
         "type": "scatter",
         "x": [
          0.1489620986072825,
          0.015826400971025136
         ],
         "xaxis": "x",
         "y": [
          -0.696770904360411,
          -0.7800459118496079
         ],
         "yaxis": "y"
        },
        {
         "hovertemplate": "x=%{x}<br>y=%{y}<extra></extra>",
         "legendgroup": "",
         "line": {
          "color": "grey",
          "dash": "solid"
         },
         "marker": {
          "symbol": "circle"
         },
         "mode": "lines",
         "name": "",
         "orientation": "v",
         "showlegend": false,
         "type": "scatter",
         "x": [
          0.1489620986072825,
          0.165819898370788
         ],
         "xaxis": "x",
         "y": [
          -0.696770904360411,
          -0.7844074043423843
         ],
         "yaxis": "y"
        },
        {
         "hovertemplate": "x=%{x}<br>y=%{y}<extra></extra>",
         "legendgroup": "",
         "line": {
          "color": "grey",
          "dash": "solid"
         },
         "marker": {
          "symbol": "circle"
         },
         "mode": "lines",
         "name": "",
         "orientation": "v",
         "showlegend": false,
         "type": "scatter",
         "x": [
          0.1489620986072825,
          0.042929551172988405
         ],
         "xaxis": "x",
         "y": [
          -0.696770904360411,
          -0.7400028359405925
         ],
         "yaxis": "y"
        },
        {
         "hovertemplate": "x=%{x}<br>y=%{y}<extra></extra>",
         "legendgroup": "",
         "line": {
          "color": "grey",
          "dash": "solid"
         },
         "marker": {
          "symbol": "circle"
         },
         "mode": "lines",
         "name": "",
         "orientation": "v",
         "showlegend": false,
         "type": "scatter",
         "x": [
          0.1489620986072825,
          0.2919181256548252
         ],
         "xaxis": "x",
         "y": [
          -0.696770904360411,
          -0.7993001068583337
         ],
         "yaxis": "y"
        },
        {
         "hovertemplate": "x=%{x}<br>y=%{y}<extra></extra>",
         "legendgroup": "",
         "line": {
          "color": "grey",
          "dash": "solid"
         },
         "marker": {
          "symbol": "circle"
         },
         "mode": "lines",
         "name": "",
         "orientation": "v",
         "showlegend": false,
         "type": "scatter",
         "x": [
          0.1489620986072825,
          0.15511242721497895
         ],
         "xaxis": "x",
         "y": [
          -0.696770904360411,
          -0.8929848883688873
         ],
         "yaxis": "y"
        },
        {
         "hovertemplate": "x=%{x}<br>y=%{y}<extra></extra>",
         "legendgroup": "",
         "line": {
          "color": "grey",
          "dash": "solid"
         },
         "marker": {
          "symbol": "circle"
         },
         "mode": "lines",
         "name": "",
         "orientation": "v",
         "showlegend": false,
         "type": "scatter",
         "x": [
          0.1489620986072825,
          0.030851458847883713
         ],
         "xaxis": "x",
         "y": [
          -0.696770904360411,
          -0.817814559633162
         ],
         "yaxis": "y"
        },
        {
         "hovertemplate": "x=%{x}<br>y=%{y}<extra></extra>",
         "legendgroup": "",
         "line": {
          "color": "grey",
          "dash": "solid"
         },
         "marker": {
          "symbol": "circle"
         },
         "mode": "lines",
         "name": "",
         "orientation": "v",
         "showlegend": false,
         "type": "scatter",
         "x": [
          0.1489620986072825,
          0.23936553659437226
         ],
         "xaxis": "x",
         "y": [
          -0.696770904360411,
          -0.8727791282323818
         ],
         "yaxis": "y"
        },
        {
         "hovertemplate": "x=%{x}<br>y=%{y}<extra></extra>",
         "legendgroup": "",
         "line": {
          "color": "grey",
          "dash": "solid"
         },
         "marker": {
          "symbol": "circle"
         },
         "mode": "lines",
         "name": "",
         "orientation": "v",
         "showlegend": false,
         "type": "scatter",
         "x": [
          0.1489620986072825,
          0.08302134601475777
         ],
         "xaxis": "x",
         "y": [
          -0.696770904360411,
          -0.8773781434527996
         ],
         "yaxis": "y"
        },
        {
         "hovertemplate": "x=%{x}<br>y=%{y}<extra></extra>",
         "legendgroup": "",
         "line": {
          "color": "grey",
          "dash": "solid"
         },
         "marker": {
          "symbol": "circle"
         },
         "mode": "lines",
         "name": "",
         "orientation": "v",
         "showlegend": false,
         "type": "scatter",
         "x": [
          0.1489620986072825,
          0.1199569417410388
         ],
         "xaxis": "x",
         "y": [
          -0.696770904360411,
          -0.8797769309159739
         ],
         "yaxis": "y"
        },
        {
         "hovertemplate": "x=%{x}<br>y=%{y}<extra></extra>",
         "legendgroup": "",
         "line": {
          "color": "grey",
          "dash": "solid"
         },
         "marker": {
          "symbol": "circle"
         },
         "mode": "lines",
         "name": "",
         "orientation": "v",
         "showlegend": false,
         "type": "scatter",
         "x": [
          0.1489620986072825,
          0.08866920121287611
         ],
         "xaxis": "x",
         "y": [
          -0.696770904360411,
          -0.7672975558623527
         ],
         "yaxis": "y"
        },
        {
         "hovertemplate": "x=%{x}<br>y=%{y}<extra></extra>",
         "legendgroup": "",
         "line": {
          "color": "grey",
          "dash": "solid"
         },
         "marker": {
          "symbol": "circle"
         },
         "mode": "lines",
         "name": "",
         "orientation": "v",
         "showlegend": false,
         "type": "scatter",
         "x": [
          0.1489620986072825,
          0.21393246625623563
         ],
         "xaxis": "x",
         "y": [
          -0.696770904360411,
          -0.8375073992526697
         ],
         "yaxis": "y"
        },
        {
         "hovertemplate": "x=%{x}<br>y=%{y}<extra></extra>",
         "legendgroup": "",
         "line": {
          "color": "grey",
          "dash": "solid"
         },
         "marker": {
          "symbol": "circle"
         },
         "mode": "lines",
         "name": "",
         "orientation": "v",
         "showlegend": false,
         "type": "scatter",
         "x": [
          0.1489620986072825,
          0.03396605089933172
         ],
         "xaxis": "x",
         "y": [
          -0.696770904360411,
          -0.06377312619560842
         ],
         "yaxis": "y"
        },
        {
         "hovertemplate": "x=%{x}<br>y=%{y}<extra></extra>",
         "legendgroup": "",
         "line": {
          "color": "grey",
          "dash": "solid"
         },
         "marker": {
          "symbol": "circle"
         },
         "mode": "lines",
         "name": "",
         "orientation": "v",
         "showlegend": false,
         "type": "scatter",
         "x": [
          0.4142494397079225,
          0.44124313378592056
         ],
         "xaxis": "x",
         "y": [
          0.3738899014512832,
          0.5924512093297778
         ],
         "yaxis": "y"
        },
        {
         "hovertemplate": "x=%{x}<br>y=%{y}<extra></extra>",
         "legendgroup": "",
         "line": {
          "color": "grey",
          "dash": "solid"
         },
         "marker": {
          "symbol": "circle"
         },
         "mode": "lines",
         "name": "",
         "orientation": "v",
         "showlegend": false,
         "type": "scatter",
         "x": [
          0.4142494397079225,
          0.7087417346959893
         ],
         "xaxis": "x",
         "y": [
          0.3738899014512832,
          0.5542406483451321
         ],
         "yaxis": "y"
        },
        {
         "hovertemplate": "x=%{x}<br>y=%{y}<extra></extra>",
         "legendgroup": "",
         "line": {
          "color": "grey",
          "dash": "solid"
         },
         "marker": {
          "symbol": "circle"
         },
         "mode": "lines",
         "name": "",
         "orientation": "v",
         "showlegend": false,
         "type": "scatter",
         "x": [
          0.4142494397079225,
          0.03396605089933172
         ],
         "xaxis": "x",
         "y": [
          0.3738899014512832,
          -0.06377312619560842
         ],
         "yaxis": "y"
        },
        {
         "hovertemplate": "x=%{x}<br>y=%{y}<extra></extra>",
         "legendgroup": "",
         "line": {
          "color": "grey",
          "dash": "solid"
         },
         "marker": {
          "symbol": "circle"
         },
         "mode": "lines",
         "name": "",
         "orientation": "v",
         "showlegend": false,
         "type": "scatter",
         "x": [
          0.8247992127507888,
          0.7087417346959893
         ],
         "xaxis": "x",
         "y": [
          0.6001087568630477,
          0.5542406483451321
         ],
         "yaxis": "y"
        },
        {
         "hovertemplate": "x=%{x}<br>y=%{y}<extra></extra>",
         "legendgroup": "",
         "line": {
          "color": "grey",
          "dash": "solid"
         },
         "marker": {
          "symbol": "circle"
         },
         "mode": "lines",
         "name": "",
         "orientation": "v",
         "showlegend": false,
         "type": "scatter",
         "x": [
          0.34915582993760896,
          0.4142494397079225
         ],
         "xaxis": "x",
         "y": [
          0.440784750924164,
          0.3738899014512832
         ],
         "yaxis": "y"
        },
        {
         "hovertemplate": "x=%{x}<br>y=%{y}<extra></extra>",
         "legendgroup": "",
         "line": {
          "color": "grey",
          "dash": "solid"
         },
         "marker": {
          "symbol": "circle"
         },
         "mode": "lines",
         "name": "",
         "orientation": "v",
         "showlegend": false,
         "type": "scatter",
         "x": [
          0.4618866684842769,
          0.4142494397079225
         ],
         "xaxis": "x",
         "y": [
          0.4304001786895579,
          0.3738899014512832
         ],
         "yaxis": "y"
        },
        {
         "hovertemplate": "x=%{x}<br>y=%{y}<extra></extra>",
         "legendgroup": "",
         "line": {
          "color": "grey",
          "dash": "solid"
         },
         "marker": {
          "symbol": "circle"
         },
         "mode": "lines",
         "name": "",
         "orientation": "v",
         "showlegend": false,
         "type": "scatter",
         "x": [
          0.44876273057432003,
          0.4142494397079225
         ],
         "xaxis": "x",
         "y": [
          0.5255145575951563,
          0.3738899014512832
         ],
         "yaxis": "y"
        },
        {
         "hovertemplate": "x=%{x}<br>y=%{y}<extra></extra>",
         "legendgroup": "",
         "line": {
          "color": "grey",
          "dash": "solid"
         },
         "marker": {
          "symbol": "circle"
         },
         "mode": "lines",
         "name": "",
         "orientation": "v",
         "showlegend": false,
         "type": "scatter",
         "x": [
          0.8549152330940377,
          0.7087417346959893
         ],
         "xaxis": "x",
         "y": [
          0.5593587722432601,
          0.5542406483451321
         ],
         "yaxis": "y"
        },
        {
         "hovertemplate": "x=%{x}<br>y=%{y}<extra></extra>",
         "legendgroup": "",
         "line": {
          "color": "grey",
          "dash": "solid"
         },
         "marker": {
          "symbol": "circle"
         },
         "mode": "lines",
         "name": "",
         "orientation": "v",
         "showlegend": false,
         "type": "scatter",
         "x": [
          0.39751873036116214,
          0.4142494397079225
         ],
         "xaxis": "x",
         "y": [
          0.5120068473451065,
          0.3738899014512832
         ],
         "yaxis": "y"
        },
        {
         "hovertemplate": "x=%{x}<br>y=%{y}<extra></extra>",
         "legendgroup": "",
         "line": {
          "color": "grey",
          "dash": "solid"
         },
         "marker": {
          "symbol": "circle"
         },
         "mode": "lines",
         "name": "",
         "orientation": "v",
         "showlegend": false,
         "type": "scatter",
         "x": [
          0.35534130520106666,
          0.4142494397079225
         ],
         "xaxis": "x",
         "y": [
          0.495255801052262,
          0.3738899014512832
         ],
         "yaxis": "y"
        },
        {
         "hovertemplate": "x=%{x}<br>y=%{y}<extra></extra>",
         "legendgroup": "",
         "line": {
          "color": "grey",
          "dash": "solid"
         },
         "marker": {
          "symbol": "circle"
         },
         "mode": "lines",
         "name": "",
         "orientation": "v",
         "showlegend": false,
         "type": "scatter",
         "x": [
          0.49367616022005806,
          0.4142494397079225
         ],
         "xaxis": "x",
         "y": [
          0.3271343554850833,
          0.3738899014512832
         ],
         "yaxis": "y"
        },
        {
         "hovertemplate": "x=%{x}<br>y=%{y}<extra></extra>",
         "legendgroup": "",
         "line": {
          "color": "grey",
          "dash": "solid"
         },
         "marker": {
          "symbol": "circle"
         },
         "mode": "lines",
         "name": "",
         "orientation": "v",
         "showlegend": false,
         "type": "scatter",
         "x": [
          0.5013114043887588,
          0.4142494397079225
         ],
         "xaxis": "x",
         "y": [
          0.4625602685279571,
          0.3738899014512832
         ],
         "yaxis": "y"
        },
        {
         "hovertemplate": "x=%{x}<br>y=%{y}<extra></extra>",
         "legendgroup": "",
         "line": {
          "color": "grey",
          "dash": "solid"
         },
         "marker": {
          "symbol": "circle"
         },
         "mode": "lines",
         "name": "",
         "orientation": "v",
         "showlegend": false,
         "type": "scatter",
         "x": [
          0.5661623313066891,
          0.4142494397079225
         ],
         "xaxis": "x",
         "y": [
          0.3939518826289548,
          0.3738899014512832
         ],
         "yaxis": "y"
        },
        {
         "hovertemplate": "x=%{x}<br>y=%{y}<extra></extra>",
         "legendgroup": "",
         "line": {
          "color": "grey",
          "dash": "solid"
         },
         "marker": {
          "symbol": "circle"
         },
         "mode": "lines",
         "name": "",
         "orientation": "v",
         "showlegend": false,
         "type": "scatter",
         "x": [
          0.49193496437924095,
          0.4142494397079225
         ],
         "xaxis": "x",
         "y": [
          0.5101913144136954,
          0.3738899014512832
         ],
         "yaxis": "y"
        },
        {
         "hovertemplate": "x=%{x}<br>y=%{y}<extra></extra>",
         "legendgroup": "",
         "line": {
          "color": "grey",
          "dash": "solid"
         },
         "marker": {
          "symbol": "circle"
         },
         "mode": "lines",
         "name": "",
         "orientation": "v",
         "showlegend": false,
         "type": "scatter",
         "x": [
          0.4677485038706554,
          0.44124313378592056
         ],
         "xaxis": "x",
         "y": [
          0.7404329372123041,
          0.5924512093297778
         ],
         "yaxis": "y"
        },
        {
         "hovertemplate": "x=%{x}<br>y=%{y}<extra></extra>",
         "legendgroup": "",
         "line": {
          "color": "grey",
          "dash": "solid"
         },
         "marker": {
          "symbol": "circle"
         },
         "mode": "lines",
         "name": "",
         "orientation": "v",
         "showlegend": false,
         "type": "scatter",
         "x": [
          0.8549901335622488,
          0.7087417346959893
         ],
         "xaxis": "x",
         "y": [
          0.6269543820235225,
          0.5542406483451321
         ],
         "yaxis": "y"
        },
        {
         "hovertemplate": "x=%{x}<br>y=%{y}<extra></extra>",
         "legendgroup": "",
         "line": {
          "color": "grey",
          "dash": "solid"
         },
         "marker": {
          "symbol": "circle"
         },
         "mode": "lines",
         "name": "",
         "orientation": "v",
         "showlegend": false,
         "type": "scatter",
         "x": [
          0.7792320792294263,
          0.7087417346959893
         ],
         "xaxis": "x",
         "y": [
          0.6842939338447678,
          0.5542406483451321
         ],
         "yaxis": "y"
        },
        {
         "hovertemplate": "x=%{x}<br>y=%{y}<extra></extra>",
         "legendgroup": "",
         "line": {
          "color": "grey",
          "dash": "solid"
         },
         "marker": {
          "symbol": "circle"
         },
         "mode": "lines",
         "name": "",
         "orientation": "v",
         "showlegend": false,
         "type": "scatter",
         "x": [
          0.5353569172417765,
          0.4142494397079225
         ],
         "xaxis": "x",
         "y": [
          0.4883091305785794,
          0.3738899014512832
         ],
         "yaxis": "y"
        },
        {
         "hovertemplate": "x=%{x}<br>y=%{y}<extra></extra>",
         "legendgroup": "",
         "line": {
          "color": "grey",
          "dash": "solid"
         },
         "marker": {
          "symbol": "circle"
         },
         "mode": "lines",
         "name": "",
         "orientation": "v",
         "showlegend": false,
         "type": "scatter",
         "x": [
          0.5439216433321935,
          0.4142494397079225
         ],
         "xaxis": "x",
         "y": [
          0.3479722890061877,
          0.3738899014512832
         ],
         "yaxis": "y"
        },
        {
         "hovertemplate": "x=%{x}<br>y=%{y}<extra></extra>",
         "legendgroup": "",
         "line": {
          "color": "grey",
          "dash": "solid"
         },
         "marker": {
          "symbol": "circle"
         },
         "mode": "lines",
         "name": "",
         "orientation": "v",
         "showlegend": false,
         "type": "scatter",
         "x": [
          0.42556497252055575,
          0.4142494397079225
         ],
         "xaxis": "x",
         "y": [
          0.47413948633135905,
          0.3738899014512832
         ],
         "yaxis": "y"
        },
        {
         "hovertemplate": "x=%{x}<br>y=%{y}<extra></extra>",
         "legendgroup": "",
         "line": {
          "color": "grey",
          "dash": "solid"
         },
         "marker": {
          "symbol": "circle"
         },
         "mode": "lines",
         "name": "",
         "orientation": "v",
         "showlegend": false,
         "type": "scatter",
         "x": [
          0.11094392817420765,
          0.03396605089933172
         ],
         "xaxis": "x",
         "y": [
          -0.07489574674808369,
          -0.06377312619560842
         ],
         "yaxis": "y"
        },
        {
         "hovertemplate": "x=%{x}<br>y=%{y}<extra></extra>",
         "legendgroup": "",
         "line": {
          "color": "grey",
          "dash": "solid"
         },
         "marker": {
          "symbol": "circle"
         },
         "mode": "lines",
         "name": "",
         "orientation": "v",
         "showlegend": false,
         "type": "scatter",
         "x": [
          0.8180340803528767,
          0.7087417346959893
         ],
         "xaxis": "x",
         "y": [
          0.6616389141663639,
          0.5542406483451321
         ],
         "yaxis": "y"
        },
        {
         "hovertemplate": "x=%{x}<br>y=%{y}<extra></extra>",
         "legendgroup": "",
         "line": {
          "color": "grey",
          "dash": "solid"
         },
         "marker": {
          "symbol": "circle"
         },
         "mode": "lines",
         "name": "",
         "orientation": "v",
         "showlegend": false,
         "type": "scatter",
         "x": [
          0.5162325453173154,
          0.4142494397079225
         ],
         "xaxis": "x",
         "y": [
          0.397574249224388,
          0.3738899014512832
         ],
         "yaxis": "y"
        },
        {
         "hovertemplate": "x=%{x}<br>y=%{y}<extra></extra>",
         "legendgroup": "",
         "line": {
          "color": "grey",
          "dash": "solid"
         },
         "marker": {
          "symbol": "circle"
         },
         "mode": "lines",
         "name": "",
         "orientation": "v",
         "showlegend": false,
         "type": "scatter",
         "x": [
          0.5543970462682846,
          0.4142494397079225
         ],
         "xaxis": "x",
         "y": [
          0.4411324309136522,
          0.3738899014512832
         ],
         "yaxis": "y"
        },
        {
         "hovertemplate": "x=%{x}<br>y=%{y}<extra></extra>",
         "legendgroup": "",
         "line": {
          "color": "grey",
          "dash": "solid"
         },
         "marker": {
          "symbol": "circle"
         },
         "mode": "lines",
         "name": "",
         "orientation": "v",
         "showlegend": false,
         "type": "scatter",
         "x": [
          -0.4239632810988082,
          -0.5627675358572214
         ],
         "xaxis": "x",
         "y": [
          -0.07557563580441673,
          -0.20383932079242326
         ],
         "yaxis": "y"
        },
        {
         "hovertemplate": "x=%{x}<br>y=%{y}<extra></extra>",
         "legendgroup": "",
         "line": {
          "color": "grey",
          "dash": "solid"
         },
         "marker": {
          "symbol": "circle"
         },
         "mode": "lines",
         "name": "",
         "orientation": "v",
         "showlegend": false,
         "type": "scatter",
         "x": [
          -0.4239632810988082,
          -0.8232148074048894
         ],
         "xaxis": "x",
         "y": [
          -0.07557563580441673,
          -0.03171931377083284
         ],
         "yaxis": "y"
        },
        {
         "hovertemplate": "x=%{x}<br>y=%{y}<extra></extra>",
         "legendgroup": "",
         "line": {
          "color": "grey",
          "dash": "solid"
         },
         "marker": {
          "symbol": "circle"
         },
         "mode": "lines",
         "name": "",
         "orientation": "v",
         "showlegend": false,
         "type": "scatter",
         "x": [
          -0.4239632810988082,
          0.03396605089933172
         ],
         "xaxis": "x",
         "y": [
          -0.07557563580441673,
          -0.06377312619560842
         ],
         "yaxis": "y"
        },
        {
         "hovertemplate": "x=%{x}<br>y=%{y}<extra></extra>",
         "legendgroup": "",
         "line": {
          "color": "grey",
          "dash": "solid"
         },
         "marker": {
          "symbol": "circle"
         },
         "mode": "lines",
         "name": "",
         "orientation": "v",
         "showlegend": false,
         "type": "scatter",
         "x": [
          -0.9778964827705993,
          -0.8232148074048894
         ],
         "xaxis": "x",
         "y": [
          -0.001703908099611298,
          -0.03171931377083284
         ],
         "yaxis": "y"
        },
        {
         "hovertemplate": "x=%{x}<br>y=%{y}<extra></extra>",
         "legendgroup": "",
         "line": {
          "color": "grey",
          "dash": "solid"
         },
         "marker": {
          "symbol": "circle"
         },
         "mode": "lines",
         "name": "",
         "orientation": "v",
         "showlegend": false,
         "type": "scatter",
         "x": [
          -0.994097613642788,
          -0.8232148074048894
         ],
         "xaxis": "x",
         "y": [
          -0.04136604145774576,
          -0.03171931377083284
         ],
         "yaxis": "y"
        },
        {
         "hovertemplate": "x=%{x}<br>y=%{y}<extra></extra>",
         "legendgroup": "",
         "line": {
          "color": "grey",
          "dash": "solid"
         },
         "marker": {
          "symbol": "circle"
         },
         "mode": "lines",
         "name": "",
         "orientation": "v",
         "showlegend": false,
         "type": "scatter",
         "x": [
          -0.9304547481975252,
          -0.8232148074048894
         ],
         "xaxis": "x",
         "y": [
          0.04904796255789608,
          -0.03171931377083284
         ],
         "yaxis": "y"
        },
        {
         "hovertemplate": "x=%{x}<br>y=%{y}<extra></extra>",
         "legendgroup": "",
         "line": {
          "color": "grey",
          "dash": "solid"
         },
         "marker": {
          "symbol": "circle"
         },
         "mode": "lines",
         "name": "",
         "orientation": "v",
         "showlegend": false,
         "type": "scatter",
         "x": [
          -0.9707468976591136,
          -0.8232148074048894
         ],
         "xaxis": "x",
         "y": [
          0.03684233668312812,
          -0.03171931377083284
         ],
         "yaxis": "y"
        },
        {
         "hovertemplate": "x=%{x}<br>y=%{y}<extra></extra>",
         "legendgroup": "",
         "line": {
          "color": "grey",
          "dash": "solid"
         },
         "marker": {
          "symbol": "circle"
         },
         "mode": "lines",
         "name": "",
         "orientation": "v",
         "showlegend": false,
         "type": "scatter",
         "x": [
          -0.9445011811294656,
          -0.8232148074048894
         ],
         "xaxis": "x",
         "y": [
          -0.04059135777206464,
          -0.03171931377083284
         ],
         "yaxis": "y"
        },
        {
         "hovertemplate": "x=%{x}<br>y=%{y}<extra></extra>",
         "legendgroup": "",
         "line": {
          "color": "grey",
          "dash": "solid"
         },
         "marker": {
          "symbol": "circle"
         },
         "mode": "lines",
         "name": "",
         "orientation": "v",
         "showlegend": false,
         "type": "scatter",
         "x": [
          -0.5266632347034811,
          -0.4239632810988082
         ],
         "xaxis": "x",
         "y": [
          -0.07021869559935116,
          -0.07557563580441673
         ],
         "yaxis": "y"
        },
        {
         "hovertemplate": "x=%{x}<br>y=%{y}<extra></extra>",
         "legendgroup": "",
         "line": {
          "color": "grey",
          "dash": "solid"
         },
         "marker": {
          "symbol": "circle"
         },
         "mode": "lines",
         "name": "",
         "orientation": "v",
         "showlegend": false,
         "type": "scatter",
         "x": [
          -0.6676081439958717,
          -0.5627675358572214
         ],
         "xaxis": "x",
         "y": [
          -0.3063651581465584,
          -0.20383932079242326
         ],
         "yaxis": "y"
        },
        {
         "hovertemplate": "x=%{x}<br>y=%{y}<extra></extra>",
         "legendgroup": "",
         "line": {
          "color": "grey",
          "dash": "solid"
         },
         "marker": {
          "symbol": "circle"
         },
         "mode": "lines",
         "name": "",
         "orientation": "v",
         "showlegend": false,
         "type": "scatter",
         "x": [
          -0.9771802696434619,
          -0.8232148074048894
         ],
         "xaxis": "x",
         "y": [
          -0.0847270708877268,
          -0.03171931377083284
         ],
         "yaxis": "y"
        },
        {
         "hovertemplate": "x=%{x}<br>y=%{y}<extra></extra>",
         "legendgroup": "",
         "line": {
          "color": "grey",
          "dash": "solid"
         },
         "marker": {
          "symbol": "circle"
         },
         "mode": "lines",
         "name": "",
         "orientation": "v",
         "showlegend": false,
         "type": "scatter",
         "x": [
          -0.946824164134796,
          -0.8232148074048894
         ],
         "xaxis": "x",
         "y": [
          -0.11596669375099845,
          -0.03171931377083284
         ],
         "yaxis": "y"
        },
        {
         "hovertemplate": "x=%{x}<br>y=%{y}<extra></extra>",
         "legendgroup": "",
         "line": {
          "color": "grey",
          "dash": "solid"
         },
         "marker": {
          "symbol": "circle"
         },
         "mode": "lines",
         "name": "",
         "orientation": "v",
         "showlegend": false,
         "type": "scatter",
         "x": [
          -0.17077123305960204,
          -0.2681453383624667
         ],
         "xaxis": "x",
         "y": [
          0.3677096485621801,
          0.41221151093962866
         ],
         "yaxis": "y"
        },
        {
         "hovertemplate": "x=%{x}<br>y=%{y}<extra></extra>",
         "legendgroup": "",
         "line": {
          "color": "grey",
          "dash": "solid"
         },
         "marker": {
          "symbol": "circle"
         },
         "mode": "lines",
         "name": "",
         "orientation": "v",
         "showlegend": false,
         "type": "scatter",
         "x": [
          -0.17077123305960204,
          -0.2952948047304851
         ],
         "xaxis": "x",
         "y": [
          0.3677096485621801,
          0.5012958049686245
         ],
         "yaxis": "y"
        },
        {
         "hovertemplate": "x=%{x}<br>y=%{y}<extra></extra>",
         "legendgroup": "",
         "line": {
          "color": "grey",
          "dash": "solid"
         },
         "marker": {
          "symbol": "circle"
         },
         "mode": "lines",
         "name": "",
         "orientation": "v",
         "showlegend": false,
         "type": "scatter",
         "x": [
          -0.17077123305960204,
          -0.3134365387056926
         ],
         "xaxis": "x",
         "y": [
          0.3677096485621801,
          0.7832291699924109
         ],
         "yaxis": "y"
        },
        {
         "hovertemplate": "x=%{x}<br>y=%{y}<extra></extra>",
         "legendgroup": "",
         "line": {
          "color": "grey",
          "dash": "solid"
         },
         "marker": {
          "symbol": "circle"
         },
         "mode": "lines",
         "name": "",
         "orientation": "v",
         "showlegend": false,
         "type": "scatter",
         "x": [
          -0.17077123305960204,
          0.03396605089933172
         ],
         "xaxis": "x",
         "y": [
          0.3677096485621801,
          -0.06377312619560842
         ],
         "yaxis": "y"
        },
        {
         "hovertemplate": "x=%{x}<br>y=%{y}<extra></extra>",
         "legendgroup": "",
         "line": {
          "color": "grey",
          "dash": "solid"
         },
         "marker": {
          "symbol": "circle"
         },
         "mode": "lines",
         "name": "",
         "orientation": "v",
         "showlegend": false,
         "type": "scatter",
         "x": [
          -0.3785877414616653,
          -0.3134365387056926
         ],
         "xaxis": "x",
         "y": [
          0.8750898911027012,
          0.7832291699924109
         ],
         "yaxis": "y"
        },
        {
         "hovertemplate": "x=%{x}<br>y=%{y}<extra></extra>",
         "legendgroup": "",
         "line": {
          "color": "grey",
          "dash": "solid"
         },
         "marker": {
          "symbol": "circle"
         },
         "mode": "lines",
         "name": "",
         "orientation": "v",
         "showlegend": false,
         "type": "scatter",
         "x": [
          -0.37985709958785707,
          -0.3134365387056926
         ],
         "xaxis": "x",
         "y": [
          0.9416264392645467,
          0.7832291699924109
         ],
         "yaxis": "y"
        },
        {
         "hovertemplate": "x=%{x}<br>y=%{y}<extra></extra>",
         "legendgroup": "",
         "line": {
          "color": "grey",
          "dash": "solid"
         },
         "marker": {
          "symbol": "circle"
         },
         "mode": "lines",
         "name": "",
         "orientation": "v",
         "showlegend": false,
         "type": "scatter",
         "x": [
          -0.44043247653991235,
          -0.3134365387056926
         ],
         "xaxis": "x",
         "y": [
          0.8744727989175953,
          0.7832291699924109
         ],
         "yaxis": "y"
        },
        {
         "hovertemplate": "x=%{x}<br>y=%{y}<extra></extra>",
         "legendgroup": "",
         "line": {
          "color": "grey",
          "dash": "solid"
         },
         "marker": {
          "symbol": "circle"
         },
         "mode": "lines",
         "name": "",
         "orientation": "v",
         "showlegend": false,
         "type": "scatter",
         "x": [
          -0.2446655053223935,
          -0.3134365387056926
         ],
         "xaxis": "x",
         "y": [
          0.9035650465992092,
          0.7832291699924109
         ],
         "yaxis": "y"
        },
        {
         "hovertemplate": "x=%{x}<br>y=%{y}<extra></extra>",
         "legendgroup": "",
         "line": {
          "color": "grey",
          "dash": "solid"
         },
         "marker": {
          "symbol": "circle"
         },
         "mode": "lines",
         "name": "",
         "orientation": "v",
         "showlegend": false,
         "type": "scatter",
         "x": [
          -0.42716252609042943,
          -0.3134365387056926
         ],
         "xaxis": "x",
         "y": [
          0.8326190753139192,
          0.7832291699924109
         ],
         "yaxis": "y"
        },
        {
         "hovertemplate": "x=%{x}<br>y=%{y}<extra></extra>",
         "legendgroup": "",
         "line": {
          "color": "grey",
          "dash": "solid"
         },
         "marker": {
          "symbol": "circle"
         },
         "mode": "lines",
         "name": "",
         "orientation": "v",
         "showlegend": false,
         "type": "scatter",
         "x": [
          -0.27965245240364645,
          -0.3134365387056926
         ],
         "xaxis": "x",
         "y": [
          0.9439621223873395,
          0.7832291699924109
         ],
         "yaxis": "y"
        },
        {
         "hovertemplate": "x=%{x}<br>y=%{y}<extra></extra>",
         "legendgroup": "",
         "line": {
          "color": "grey",
          "dash": "solid"
         },
         "marker": {
          "symbol": "circle"
         },
         "mode": "lines",
         "name": "",
         "orientation": "v",
         "showlegend": false,
         "type": "scatter",
         "x": [
          -0.3431204958266412,
          -0.3134365387056926
         ],
         "xaxis": "x",
         "y": [
          0.9103888416024316,
          0.7832291699924109
         ],
         "yaxis": "y"
        },
        {
         "hovertemplate": "x=%{x}<br>y=%{y}<extra></extra>",
         "legendgroup": "",
         "line": {
          "color": "grey",
          "dash": "solid"
         },
         "marker": {
          "symbol": "circle"
         },
         "mode": "lines",
         "name": "",
         "orientation": "v",
         "showlegend": false,
         "type": "scatter",
         "x": [
          -0.32866849146344623,
          -0.3134365387056926
         ],
         "xaxis": "x",
         "y": [
          0.9540307341431734,
          0.7832291699924109
         ],
         "yaxis": "y"
        },
        {
         "hovertemplate": "x=%{x}<br>y=%{y}<extra></extra>",
         "legendgroup": "",
         "line": {
          "color": "grey",
          "dash": "solid"
         },
         "marker": {
          "symbol": "circle"
         },
         "mode": "lines",
         "name": "",
         "orientation": "v",
         "showlegend": false,
         "type": "scatter",
         "x": [
          -0.37186494307507106,
          -0.2952948047304851
         ],
         "xaxis": "x",
         "y": [
          0.6011756109850999,
          0.5012958049686245
         ],
         "yaxis": "y"
        },
        {
         "hovertemplate": "x=%{x}<br>y=%{y}<extra></extra>",
         "legendgroup": "",
         "line": {
          "color": "grey",
          "dash": "solid"
         },
         "marker": {
          "symbol": "circle"
         },
         "mode": "lines",
         "name": "",
         "orientation": "v",
         "showlegend": false,
         "type": "scatter",
         "x": [
          -0.294616283344239,
          -0.3134365387056926
         ],
         "xaxis": "x",
         "y": [
          0.8949496410618349,
          0.7832291699924109
         ],
         "yaxis": "y"
        },
        {
         "hovertemplate": "x=%{x}<br>y=%{y}<extra></extra>",
         "legendgroup": "",
         "line": {
          "color": "grey",
          "dash": "solid"
         },
         "marker": {
          "symbol": "circle"
         },
         "mode": "lines",
         "name": "",
         "orientation": "v",
         "showlegend": false,
         "type": "scatter",
         "x": [
          -0.415244409868483,
          -0.3134365387056926
         ],
         "xaxis": "x",
         "y": [
          0.9125845005312573,
          0.7832291699924109
         ],
         "yaxis": "y"
        },
        {
         "hovertemplate": "x=%{x}<br>y=%{y}<extra></extra>",
         "legendgroup": "",
         "line": {
          "color": "grey",
          "dash": "solid"
         },
         "marker": {
          "symbol": "circle"
         },
         "mode": "lines",
         "name": "",
         "orientation": "v",
         "showlegend": false,
         "type": "scatter",
         "x": [
          -0.36081083675925624,
          -0.1935296210663241
         ],
         "xaxis": "x",
         "y": [
          0.1567539016514115,
          0.39988470497861006
         ],
         "yaxis": "y"
        },
        {
         "hovertemplate": "x=%{x}<br>y=%{y}<extra></extra>",
         "legendgroup": "",
         "line": {
          "color": "grey",
          "dash": "solid"
         },
         "marker": {
          "symbol": "circle"
         },
         "mode": "lines",
         "name": "",
         "orientation": "v",
         "showlegend": false,
         "type": "scatter",
         "x": [
          -0.36081083675925624,
          -0.690013803644419
         ],
         "xaxis": "x",
         "y": [
          0.1567539016514115,
          0.3662545559743679
         ],
         "yaxis": "y"
        },
        {
         "hovertemplate": "x=%{x}<br>y=%{y}<extra></extra>",
         "legendgroup": "",
         "line": {
          "color": "grey",
          "dash": "solid"
         },
         "marker": {
          "symbol": "circle"
         },
         "mode": "lines",
         "name": "",
         "orientation": "v",
         "showlegend": false,
         "type": "scatter",
         "x": [
          -0.36081083675925624,
          -0.6235570773507804
         ],
         "xaxis": "x",
         "y": [
          0.1567539016514115,
          -0.04286181059218251
         ],
         "yaxis": "y"
        },
        {
         "hovertemplate": "x=%{x}<br>y=%{y}<extra></extra>",
         "legendgroup": "",
         "line": {
          "color": "grey",
          "dash": "solid"
         },
         "marker": {
          "symbol": "circle"
         },
         "mode": "lines",
         "name": "",
         "orientation": "v",
         "showlegend": false,
         "type": "scatter",
         "x": [
          -0.36081083675925624,
          0.03396605089933172
         ],
         "xaxis": "x",
         "y": [
          0.1567539016514115,
          -0.06377312619560842
         ],
         "yaxis": "y"
        },
        {
         "hovertemplate": "x=%{x}<br>y=%{y}<extra></extra>",
         "legendgroup": "",
         "line": {
          "color": "grey",
          "dash": "solid"
         },
         "marker": {
          "symbol": "circle"
         },
         "mode": "lines",
         "name": "",
         "orientation": "v",
         "showlegend": false,
         "type": "scatter",
         "x": [
          -0.08970640522575118,
          -0.1935296210663241
         ],
         "xaxis": "x",
         "y": [
          0.485879790732879,
          0.39988470497861006
         ],
         "yaxis": "y"
        },
        {
         "hovertemplate": "x=%{x}<br>y=%{y}<extra></extra>",
         "legendgroup": "",
         "line": {
          "color": "grey",
          "dash": "solid"
         },
         "marker": {
          "symbol": "circle"
         },
         "mode": "lines",
         "name": "",
         "orientation": "v",
         "showlegend": false,
         "type": "scatter",
         "x": [
          -0.12582175475012505,
          -0.1935296210663241
         ],
         "xaxis": "x",
         "y": [
          0.5141567495002567,
          0.39988470497861006
         ],
         "yaxis": "y"
        },
        {
         "hovertemplate": "x=%{x}<br>y=%{y}<extra></extra>",
         "legendgroup": "",
         "line": {
          "color": "grey",
          "dash": "solid"
         },
         "marker": {
          "symbol": "circle"
         },
         "mode": "lines",
         "name": "",
         "orientation": "v",
         "showlegend": false,
         "type": "scatter",
         "x": [
          -0.09447908247248368,
          -0.1935296210663241
         ],
         "xaxis": "x",
         "y": [
          0.4235374477695477,
          0.39988470497861006
         ],
         "yaxis": "y"
        },
        {
         "hovertemplate": "x=%{x}<br>y=%{y}<extra></extra>",
         "legendgroup": "",
         "line": {
          "color": "grey",
          "dash": "solid"
         },
         "marker": {
          "symbol": "circle"
         },
         "mode": "lines",
         "name": "",
         "orientation": "v",
         "showlegend": false,
         "type": "scatter",
         "x": [
          -0.1326480085878116,
          -0.1935296210663241
         ],
         "xaxis": "x",
         "y": [
          0.45197061286163587,
          0.39988470497861006
         ],
         "yaxis": "y"
        },
        {
         "hovertemplate": "x=%{x}<br>y=%{y}<extra></extra>",
         "legendgroup": "",
         "line": {
          "color": "grey",
          "dash": "solid"
         },
         "marker": {
          "symbol": "circle"
         },
         "mode": "lines",
         "name": "",
         "orientation": "v",
         "showlegend": false,
         "type": "scatter",
         "x": [
          -0.16316838323855132,
          -0.1935296210663241
         ],
         "xaxis": "x",
         "y": [
          0.5324158328492308,
          0.39988470497861006
         ],
         "yaxis": "y"
        },
        {
         "hovertemplate": "x=%{x}<br>y=%{y}<extra></extra>",
         "legendgroup": "",
         "line": {
          "color": "grey",
          "dash": "solid"
         },
         "marker": {
          "symbol": "circle"
         },
         "mode": "lines",
         "name": "",
         "orientation": "v",
         "showlegend": false,
         "type": "scatter",
         "x": [
          -0.20886784597852728,
          -0.1935296210663241
         ],
         "xaxis": "x",
         "y": [
          0.5297844392755848,
          0.39988470497861006
         ],
         "yaxis": "y"
        },
        {
         "hovertemplate": "x=%{x}<br>y=%{y}<extra></extra>",
         "legendgroup": "",
         "line": {
          "color": "grey",
          "dash": "solid"
         },
         "marker": {
          "symbol": "circle"
         },
         "mode": "lines",
         "name": "",
         "orientation": "v",
         "showlegend": false,
         "type": "scatter",
         "x": [
          -0.24429984287266288,
          -0.1935296210663241
         ],
         "xaxis": "x",
         "y": [
          0.49661861109185607,
          0.39988470497861006
         ],
         "yaxis": "y"
        },
        {
         "hovertemplate": "x=%{x}<br>y=%{y}<extra></extra>",
         "legendgroup": "",
         "line": {
          "color": "grey",
          "dash": "solid"
         },
         "marker": {
          "symbol": "circle"
         },
         "mode": "lines",
         "name": "",
         "orientation": "v",
         "showlegend": false,
         "type": "scatter",
         "x": [
          -0.8014042911348629,
          -0.690013803644419
         ],
         "xaxis": "x",
         "y": [
          0.4190430268353264,
          0.3662545559743679
         ],
         "yaxis": "y"
        },
        {
         "hovertemplate": "x=%{x}<br>y=%{y}<extra></extra>",
         "legendgroup": "",
         "line": {
          "color": "grey",
          "dash": "solid"
         },
         "marker": {
          "symbol": "circle"
         },
         "mode": "lines",
         "name": "",
         "orientation": "v",
         "showlegend": false,
         "type": "scatter",
         "x": [
          -0.7653012853994794,
          -0.690013803644419
         ],
         "xaxis": "x",
         "y": [
          0.4534118728388325,
          0.3662545559743679
         ],
         "yaxis": "y"
        },
        {
         "hovertemplate": "x=%{x}<br>y=%{y}<extra></extra>",
         "legendgroup": "",
         "line": {
          "color": "grey",
          "dash": "solid"
         },
         "marker": {
          "symbol": "circle"
         },
         "mode": "lines",
         "name": "",
         "orientation": "v",
         "showlegend": false,
         "type": "scatter",
         "x": [
          -0.7803243420001449,
          -0.690013803644419
         ],
         "xaxis": "x",
         "y": [
          0.4979567245733895,
          0.3662545559743679
         ],
         "yaxis": "y"
        },
        {
         "hovertemplate": "x=%{x}<br>y=%{y}<extra></extra>",
         "legendgroup": "",
         "line": {
          "color": "grey",
          "dash": "solid"
         },
         "marker": {
          "symbol": "circle"
         },
         "mode": "lines",
         "name": "",
         "orientation": "v",
         "showlegend": false,
         "type": "scatter",
         "x": [
          -0.8484134021681928,
          -0.690013803644419
         ],
         "xaxis": "x",
         "y": [
          0.4229536209748263,
          0.3662545559743679
         ],
         "yaxis": "y"
        },
        {
         "hovertemplate": "x=%{x}<br>y=%{y}<extra></extra>",
         "legendgroup": "",
         "line": {
          "color": "grey",
          "dash": "solid"
         },
         "marker": {
          "symbol": "circle"
         },
         "mode": "lines",
         "name": "",
         "orientation": "v",
         "showlegend": false,
         "type": "scatter",
         "x": [
          -0.8078221212485156,
          -0.690013803644419
         ],
         "xaxis": "x",
         "y": [
          0.34823063856751774,
          0.3662545559743679
         ],
         "yaxis": "y"
        },
        {
         "hovertemplate": "x=%{x}<br>y=%{y}<extra></extra>",
         "legendgroup": "",
         "line": {
          "color": "grey",
          "dash": "solid"
         },
         "marker": {
          "symbol": "circle"
         },
         "mode": "lines",
         "name": "",
         "orientation": "v",
         "showlegend": false,
         "type": "scatter",
         "x": [
          -0.7262063208075034,
          -0.690013803644419
         ],
         "xaxis": "x",
         "y": [
          0.4896246906484682,
          0.3662545559743679
         ],
         "yaxis": "y"
        },
        {
         "hovertemplate": "x=%{x}<br>y=%{y}<extra></extra>",
         "legendgroup": "",
         "line": {
          "color": "grey",
          "dash": "solid"
         },
         "marker": {
          "symbol": "circle"
         },
         "mode": "lines",
         "name": "",
         "orientation": "v",
         "showlegend": false,
         "type": "scatter",
         "x": [
          -0.8224746996463408,
          -0.690013803644419
         ],
         "xaxis": "x",
         "y": [
          0.4680268581987407,
          0.3662545559743679
         ],
         "yaxis": "y"
        },
        {
         "hovertemplate": "x=%{x}<br>y=%{y}<extra></extra>",
         "legendgroup": "",
         "line": {
          "color": "grey",
          "dash": "solid"
         },
         "marker": {
          "symbol": "circle"
         },
         "mode": "lines",
         "name": "",
         "orientation": "v",
         "showlegend": false,
         "type": "scatter",
         "x": [
          -0.8349261422033081,
          -0.690013803644419
         ],
         "xaxis": "x",
         "y": [
          0.376649092132008,
          0.3662545559743679
         ],
         "yaxis": "y"
        },
        {
         "hovertemplate": "x=%{x}<br>y=%{y}<extra></extra>",
         "legendgroup": "",
         "line": {
          "color": "grey",
          "dash": "solid"
         },
         "marker": {
          "symbol": "circle"
         },
         "mode": "lines",
         "name": "",
         "orientation": "v",
         "showlegend": false,
         "type": "scatter",
         "x": [
          -0.7269585787737145,
          -0.6235570773507804
         ],
         "xaxis": "x",
         "y": [
          -0.1606055840762962,
          -0.04286181059218251
         ],
         "yaxis": "y"
        },
        {
         "hovertemplate": "x=%{x}<br>y=%{y}<extra></extra>",
         "legendgroup": "",
         "line": {
          "color": "grey",
          "dash": "solid"
         },
         "marker": {
          "symbol": "circle"
         },
         "mode": "lines",
         "name": "",
         "orientation": "v",
         "showlegend": false,
         "type": "scatter",
         "x": [
          -0.7129938151296363,
          -0.6235570773507804
         ],
         "xaxis": "x",
         "y": [
          -0.10963285153261804,
          -0.04286181059218251
         ],
         "yaxis": "y"
        },
        {
         "hovertemplate": "x=%{x}<br>y=%{y}<extra></extra>",
         "legendgroup": "",
         "line": {
          "color": "grey",
          "dash": "solid"
         },
         "marker": {
          "symbol": "circle"
         },
         "mode": "lines",
         "name": "",
         "orientation": "v",
         "showlegend": false,
         "type": "scatter",
         "x": [
          -0.7312392140919776,
          -0.6235570773507804
         ],
         "xaxis": "x",
         "y": [
          -0.013124425290471779,
          -0.04286181059218251
         ],
         "yaxis": "y"
        },
        {
         "hovertemplate": "x=%{x}<br>y=%{y}<extra></extra>",
         "legendgroup": "",
         "line": {
          "color": "grey",
          "dash": "solid"
         },
         "marker": {
          "symbol": "circle"
         },
         "mode": "lines",
         "name": "",
         "orientation": "v",
         "showlegend": false,
         "type": "scatter",
         "x": [
          -0.7508590652892879,
          -0.6235570773507804
         ],
         "xaxis": "x",
         "y": [
          -0.061797535591250605,
          -0.04286181059218251
         ],
         "yaxis": "y"
        },
        {
         "hovertemplate": "x=%{x}<br>y=%{y}<extra></extra>",
         "legendgroup": "",
         "line": {
          "color": "grey",
          "dash": "solid"
         },
         "marker": {
          "symbol": "circle"
         },
         "mode": "lines",
         "name": "",
         "orientation": "v",
         "showlegend": false,
         "type": "scatter",
         "x": [
          -0.761224830057513,
          -0.6235570773507804
         ],
         "xaxis": "x",
         "y": [
          -0.11347473519208257,
          -0.04286181059218251
         ],
         "yaxis": "y"
        },
        {
         "hovertemplate": "x=%{x}<br>y=%{y}<extra></extra>",
         "legendgroup": "",
         "line": {
          "color": "grey",
          "dash": "solid"
         },
         "marker": {
          "symbol": "circle"
         },
         "mode": "lines",
         "name": "",
         "orientation": "v",
         "showlegend": false,
         "type": "scatter",
         "x": [
          -0.678166081577126,
          -0.6235570773507804
         ],
         "xaxis": "x",
         "y": [
          -0.16986347100467572,
          -0.04286181059218251
         ],
         "yaxis": "y"
        },
        {
         "hovertemplate": "x=%{x}<br>y=%{y}<extra></extra>",
         "legendgroup": "",
         "line": {
          "color": "grey",
          "dash": "solid"
         },
         "marker": {
          "symbol": "circle"
         },
         "mode": "lines",
         "name": "",
         "orientation": "v",
         "showlegend": false,
         "type": "scatter",
         "x": [
          -0.4483616562056767,
          -0.36081083675925624
         ],
         "xaxis": "x",
         "y": [
          0.22541880776241074,
          0.1567539016514115
         ],
         "yaxis": "y"
        },
        {
         "hovertemplate": "x=%{x}<br>y=%{y}<extra></extra>",
         "legendgroup": "",
         "line": {
          "color": "grey",
          "dash": "solid"
         },
         "marker": {
          "symbol": "circle"
         },
         "mode": "lines",
         "name": "",
         "orientation": "v",
         "showlegend": false,
         "type": "scatter",
         "x": [
          -0.08764454198469986,
          -0.05187316775767977
         ],
         "xaxis": "x",
         "y": [
          -0.3491202528683945,
          -0.42604635269222535
         ],
         "yaxis": "y"
        },
        {
         "hovertemplate": "x=%{x}<br>y=%{y}<extra></extra>",
         "legendgroup": "",
         "line": {
          "color": "grey",
          "dash": "solid"
         },
         "marker": {
          "symbol": "circle"
         },
         "mode": "lines",
         "name": "",
         "orientation": "v",
         "showlegend": false,
         "type": "scatter",
         "x": [
          -0.08764454198469986,
          -0.12976196097091924
         ],
         "xaxis": "x",
         "y": [
          -0.3491202528683945,
          -0.43344425393367164
         ],
         "yaxis": "y"
        },
        {
         "hovertemplate": "x=%{x}<br>y=%{y}<extra></extra>",
         "legendgroup": "",
         "line": {
          "color": "grey",
          "dash": "solid"
         },
         "marker": {
          "symbol": "circle"
         },
         "mode": "lines",
         "name": "",
         "orientation": "v",
         "showlegend": false,
         "type": "scatter",
         "x": [
          -0.08764454198469986,
          -0.04638755445005289
         ],
         "xaxis": "x",
         "y": [
          -0.3491202528683945,
          -0.5182502632545328
         ],
         "yaxis": "y"
        },
        {
         "hovertemplate": "x=%{x}<br>y=%{y}<extra></extra>",
         "legendgroup": "",
         "line": {
          "color": "grey",
          "dash": "solid"
         },
         "marker": {
          "symbol": "circle"
         },
         "mode": "lines",
         "name": "",
         "orientation": "v",
         "showlegend": false,
         "type": "scatter",
         "x": [
          -0.08764454198469986,
          0.03396605089933172
         ],
         "xaxis": "x",
         "y": [
          -0.3491202528683945,
          -0.06377312619560842
         ],
         "yaxis": "y"
        },
        {
         "hovertemplate": "x=%{x}<br>y=%{y}<extra></extra>",
         "legendgroup": "",
         "line": {
          "color": "grey",
          "dash": "solid"
         },
         "marker": {
          "symbol": "circle"
         },
         "mode": "lines",
         "name": "",
         "orientation": "v",
         "showlegend": false,
         "type": "scatter",
         "x": [
          -0.17939169931913107,
          -0.08764454198469986
         ],
         "xaxis": "x",
         "y": [
          -0.37919777567635804,
          -0.3491202528683945
         ],
         "yaxis": "y"
        },
        {
         "hovertemplate": "x=%{x}<br>y=%{y}<extra></extra>",
         "legendgroup": "",
         "line": {
          "color": "grey",
          "dash": "solid"
         },
         "marker": {
          "symbol": "circle"
         },
         "mode": "lines",
         "name": "",
         "orientation": "v",
         "showlegend": false,
         "type": "scatter",
         "x": [
          -0.18781948841951424,
          -0.08764454198469986
         ],
         "xaxis": "x",
         "y": [
          -0.4609412972784335,
          -0.3491202528683945
         ],
         "yaxis": "y"
        },
        {
         "hovertemplate": "x=%{x}<br>y=%{y}<extra></extra>",
         "legendgroup": "",
         "line": {
          "color": "grey",
          "dash": "solid"
         },
         "marker": {
          "symbol": "circle"
         },
         "mode": "lines",
         "name": "",
         "orientation": "v",
         "showlegend": false,
         "type": "scatter",
         "x": [
          -0.20601727105687692,
          -0.08764454198469986
         ],
         "xaxis": "x",
         "y": [
          -0.4168539500995671,
          -0.3491202528683945
         ],
         "yaxis": "y"
        },
        {
         "hovertemplate": "x=%{x}<br>y=%{y}<extra></extra>",
         "legendgroup": "",
         "line": {
          "color": "grey",
          "dash": "solid"
         },
         "marker": {
          "symbol": "circle"
         },
         "mode": "lines",
         "name": "",
         "orientation": "v",
         "showlegend": false,
         "type": "scatter",
         "x": [
          -0.07466882224752104,
          0.03396605089933172
         ],
         "xaxis": "x",
         "y": [
          -0.14099036055460698,
          -0.06377312619560842
         ],
         "yaxis": "y"
        },
        {
         "hovertemplate": "x=%{x}<br>y=%{y}<extra></extra>",
         "legendgroup": "",
         "line": {
          "color": "grey",
          "dash": "solid"
         },
         "marker": {
          "symbol": "circle"
         },
         "mode": "lines",
         "name": "",
         "orientation": "v",
         "showlegend": false,
         "type": "scatter",
         "x": [
          0.04852006450025823,
          -0.04638755445005289
         ],
         "xaxis": "x",
         "y": [
          -0.5393766553785522,
          -0.5182502632545328
         ],
         "yaxis": "y"
        },
        {
         "hovertemplate": "x=%{x}<br>y=%{y}<extra></extra>",
         "legendgroup": "",
         "line": {
          "color": "grey",
          "dash": "solid"
         },
         "marker": {
          "symbol": "circle"
         },
         "mode": "lines",
         "name": "",
         "orientation": "v",
         "showlegend": false,
         "type": "scatter",
         "x": [
          -0.0009763605120157182,
          -0.04638755445005289
         ],
         "xaxis": "x",
         "y": [
          -0.5920656638475217,
          -0.5182502632545328
         ],
         "yaxis": "y"
        },
        {
         "hovertemplate": "x=%{x}<br>y=%{y}<extra></extra>",
         "legendgroup": "",
         "line": {
          "color": "grey",
          "dash": "solid"
         },
         "marker": {
          "symbol": "circle"
         },
         "mode": "lines",
         "name": "",
         "orientation": "v",
         "showlegend": false,
         "type": "scatter",
         "x": [
          -0.10829539352494796,
          -0.04638755445005289
         ],
         "xaxis": "x",
         "y": [
          -0.6253274383513792,
          -0.5182502632545328
         ],
         "yaxis": "y"
        },
        {
         "hovertemplate": "x=%{x}<br>y=%{y}<extra></extra>",
         "legendgroup": "",
         "line": {
          "color": "grey",
          "dash": "solid"
         },
         "marker": {
          "symbol": "circle"
         },
         "mode": "lines",
         "name": "",
         "orientation": "v",
         "showlegend": false,
         "type": "scatter",
         "x": [
          -0.1379488913848701,
          -0.08764454198469986
         ],
         "xaxis": "x",
         "y": [
          -0.47821650258227033,
          -0.3491202528683945
         ],
         "yaxis": "y"
        },
        {
         "hovertemplate": "x=%{x}<br>y=%{y}<extra></extra>",
         "legendgroup": "",
         "line": {
          "color": "grey",
          "dash": "solid"
         },
         "marker": {
          "symbol": "circle"
         },
         "mode": "lines",
         "name": "",
         "orientation": "v",
         "showlegend": false,
         "type": "scatter",
         "x": [
          -0.16904040614403332,
          -0.07466882224752104
         ],
         "xaxis": "x",
         "y": [
          -0.17535650007858267,
          -0.14099036055460698
         ],
         "yaxis": "y"
        },
        {
         "hovertemplate": "x=%{x}<br>y=%{y}<extra></extra>",
         "legendgroup": "",
         "line": {
          "color": "grey",
          "dash": "solid"
         },
         "marker": {
          "symbol": "circle"
         },
         "mode": "lines",
         "name": "",
         "orientation": "v",
         "showlegend": false,
         "type": "scatter",
         "x": [
          -0.13533460557348134,
          -0.07466882224752104
         ],
         "xaxis": "x",
         "y": [
          -0.21400798463315274,
          -0.14099036055460698
         ],
         "yaxis": "y"
        },
        {
         "hovertemplate": "x=%{x}<br>y=%{y}<extra></extra>",
         "legendgroup": "",
         "line": {
          "color": "grey",
          "dash": "solid"
         },
         "marker": {
          "symbol": "circle"
         },
         "mode": "lines",
         "name": "",
         "orientation": "v",
         "showlegend": false,
         "type": "scatter",
         "x": [
          0.3013065331065137,
          0.5002698798205593
         ],
         "xaxis": "x",
         "y": [
          -0.23746469319720262,
          -0.36729230194385754
         ],
         "yaxis": "y"
        },
        {
         "hovertemplate": "x=%{x}<br>y=%{y}<extra></extra>",
         "legendgroup": "",
         "line": {
          "color": "grey",
          "dash": "solid"
         },
         "marker": {
          "symbol": "circle"
         },
         "mode": "lines",
         "name": "",
         "orientation": "v",
         "showlegend": false,
         "type": "scatter",
         "x": [
          0.3013065331065137,
          0.41298553901303975
         ],
         "xaxis": "x",
         "y": [
          -0.23746469319720262,
          -0.2766703803126058
         ],
         "yaxis": "y"
        },
        {
         "hovertemplate": "x=%{x}<br>y=%{y}<extra></extra>",
         "legendgroup": "",
         "line": {
          "color": "grey",
          "dash": "solid"
         },
         "marker": {
          "symbol": "circle"
         },
         "mode": "lines",
         "name": "",
         "orientation": "v",
         "showlegend": false,
         "type": "scatter",
         "x": [
          0.3013065331065137,
          0.03396605089933172
         ],
         "xaxis": "x",
         "y": [
          -0.23746469319720262,
          -0.06377312619560842
         ],
         "yaxis": "y"
        },
        {
         "hovertemplate": "x=%{x}<br>y=%{y}<extra></extra>",
         "legendgroup": "",
         "line": {
          "color": "grey",
          "dash": "solid"
         },
         "marker": {
          "symbol": "circle"
         },
         "mode": "lines",
         "name": "",
         "orientation": "v",
         "showlegend": false,
         "type": "scatter",
         "x": [
          0.6069914450868533,
          0.5002698798205593
         ],
         "xaxis": "x",
         "y": [
          -0.46605839246430164,
          -0.36729230194385754
         ],
         "yaxis": "y"
        },
        {
         "hovertemplate": "x=%{x}<br>y=%{y}<extra></extra>",
         "legendgroup": "",
         "line": {
          "color": "grey",
          "dash": "solid"
         },
         "marker": {
          "symbol": "circle"
         },
         "mode": "lines",
         "name": "",
         "orientation": "v",
         "showlegend": false,
         "type": "scatter",
         "x": [
          0.3383976770763625,
          0.3013065331065137
         ],
         "xaxis": "x",
         "y": [
          -0.3274849725961024,
          -0.23746469319720262
         ],
         "yaxis": "y"
        },
        {
         "hovertemplate": "x=%{x}<br>y=%{y}<extra></extra>",
         "legendgroup": "",
         "line": {
          "color": "grey",
          "dash": "solid"
         },
         "marker": {
          "symbol": "circle"
         },
         "mode": "lines",
         "name": "",
         "orientation": "v",
         "showlegend": false,
         "type": "scatter",
         "x": [
          0.5082530558948165,
          0.6379967823120225
         ],
         "xaxis": "x",
         "y": [
          -0.06875462274718812,
          -0.12841284222946805
         ],
         "yaxis": "y"
        },
        {
         "hovertemplate": "x=%{x}<br>y=%{y}<extra></extra>",
         "legendgroup": "",
         "line": {
          "color": "grey",
          "dash": "solid"
         },
         "marker": {
          "symbol": "circle"
         },
         "mode": "lines",
         "name": "",
         "orientation": "v",
         "showlegend": false,
         "type": "scatter",
         "x": [
          0.5082530558948165,
          0.6244688977249222
         ],
         "xaxis": "x",
         "y": [
          -0.06875462274718812,
          -0.08655477138780472
         ],
         "yaxis": "y"
        },
        {
         "hovertemplate": "x=%{x}<br>y=%{y}<extra></extra>",
         "legendgroup": "",
         "line": {
          "color": "grey",
          "dash": "solid"
         },
         "marker": {
          "symbol": "circle"
         },
         "mode": "lines",
         "name": "",
         "orientation": "v",
         "showlegend": false,
         "type": "scatter",
         "x": [
          0.5082530558948165,
          0.7198524116682291
         ],
         "xaxis": "x",
         "y": [
          -0.06875462274718812,
          0.0024056821199798005
         ],
         "yaxis": "y"
        },
        {
         "hovertemplate": "x=%{x}<br>y=%{y}<extra></extra>",
         "legendgroup": "",
         "line": {
          "color": "grey",
          "dash": "solid"
         },
         "marker": {
          "symbol": "circle"
         },
         "mode": "lines",
         "name": "",
         "orientation": "v",
         "showlegend": false,
         "type": "scatter",
         "x": [
          0.5082530558948165,
          0.4802485179486141
         ],
         "xaxis": "x",
         "y": [
          -0.06875462274718812,
          0.028741550792891077
         ],
         "yaxis": "y"
        },
        {
         "hovertemplate": "x=%{x}<br>y=%{y}<extra></extra>",
         "legendgroup": "",
         "line": {
          "color": "grey",
          "dash": "solid"
         },
         "marker": {
          "symbol": "circle"
         },
         "mode": "lines",
         "name": "",
         "orientation": "v",
         "showlegend": false,
         "type": "scatter",
         "x": [
          0.5082530558948165,
          0.592107111000655
         ],
         "xaxis": "x",
         "y": [
          -0.06875462274718812,
          -0.0057712291171223605
         ],
         "yaxis": "y"
        },
        {
         "hovertemplate": "x=%{x}<br>y=%{y}<extra></extra>",
         "legendgroup": "",
         "line": {
          "color": "grey",
          "dash": "solid"
         },
         "marker": {
          "symbol": "circle"
         },
         "mode": "lines",
         "name": "",
         "orientation": "v",
         "showlegend": false,
         "type": "scatter",
         "x": [
          0.5082530558948165,
          0.8391839482914969
         ],
         "xaxis": "x",
         "y": [
          -0.06875462274718812,
          -0.12672207698817944
         ],
         "yaxis": "y"
        },
        {
         "hovertemplate": "x=%{x}<br>y=%{y}<extra></extra>",
         "legendgroup": "",
         "line": {
          "color": "grey",
          "dash": "solid"
         },
         "marker": {
          "symbol": "circle"
         },
         "mode": "lines",
         "name": "",
         "orientation": "v",
         "showlegend": false,
         "type": "scatter",
         "x": [
          0.5082530558948165,
          0.03396605089933172
         ],
         "xaxis": "x",
         "y": [
          -0.06875462274718812,
          -0.06377312619560842
         ],
         "yaxis": "y"
        },
        {
         "hovertemplate": "x=%{x}<br>y=%{y}<extra></extra>",
         "legendgroup": "",
         "line": {
          "color": "grey",
          "dash": "solid"
         },
         "marker": {
          "symbol": "circle"
         },
         "mode": "lines",
         "name": "",
         "orientation": "v",
         "showlegend": false,
         "type": "scatter",
         "x": [
          0.6346401685716698,
          0.5002698798205593
         ],
         "xaxis": "x",
         "y": [
          -0.4259898071215515,
          -0.36729230194385754
         ],
         "yaxis": "y"
        },
        {
         "hovertemplate": "x=%{x}<br>y=%{y}<extra></extra>",
         "legendgroup": "",
         "line": {
          "color": "grey",
          "dash": "solid"
         },
         "marker": {
          "symbol": "circle"
         },
         "mode": "lines",
         "name": "",
         "orientation": "v",
         "showlegend": false,
         "type": "scatter",
         "x": [
          0.4098880444981627,
          0.4802485179486141
         ],
         "xaxis": "x",
         "y": [
          0.0920923139201752,
          0.028741550792891077
         ],
         "yaxis": "y"
        },
        {
         "hovertemplate": "x=%{x}<br>y=%{y}<extra></extra>",
         "legendgroup": "",
         "line": {
          "color": "grey",
          "dash": "solid"
         },
         "marker": {
          "symbol": "circle"
         },
         "mode": "lines",
         "name": "",
         "orientation": "v",
         "showlegend": false,
         "type": "scatter",
         "x": [
          0.8369009403609544,
          0.7198524116682291
         ],
         "xaxis": "x",
         "y": [
          0.06766488532651607,
          0.0024056821199798005
         ],
         "yaxis": "y"
        },
        {
         "hovertemplate": "x=%{x}<br>y=%{y}<extra></extra>",
         "legendgroup": "",
         "line": {
          "color": "grey",
          "dash": "solid"
         },
         "marker": {
          "symbol": "circle"
         },
         "mode": "lines",
         "name": "",
         "orientation": "v",
         "showlegend": false,
         "type": "scatter",
         "x": [
          0.8559665236964753,
          0.7198524116682291
         ],
         "xaxis": "x",
         "y": [
          0.018476297971440497,
          0.0024056821199798005
         ],
         "yaxis": "y"
        },
        {
         "hovertemplate": "x=%{x}<br>y=%{y}<extra></extra>",
         "legendgroup": "",
         "line": {
          "color": "grey",
          "dash": "solid"
         },
         "marker": {
          "symbol": "circle"
         },
         "mode": "lines",
         "name": "",
         "orientation": "v",
         "showlegend": false,
         "type": "scatter",
         "x": [
          1,
          0.8391839482914969
         ],
         "xaxis": "x",
         "y": [
          -0.12271525167924802,
          -0.12672207698817944
         ],
         "yaxis": "y"
        },
        {
         "hovertemplate": "x=%{x}<br>y=%{y}<extra></extra>",
         "legendgroup": "",
         "line": {
          "color": "grey",
          "dash": "solid"
         },
         "marker": {
          "symbol": "circle"
         },
         "mode": "lines",
         "name": "",
         "orientation": "v",
         "showlegend": false,
         "type": "scatter",
         "x": [
          0.9919761162657871,
          0.8391839482914969
         ],
         "xaxis": "x",
         "y": [
          -0.18380394279190854,
          -0.12672207698817944
         ],
         "yaxis": "y"
        },
        {
         "hovertemplate": "x=%{x}<br>y=%{y}<extra></extra>",
         "legendgroup": "",
         "line": {
          "color": "grey",
          "dash": "solid"
         },
         "marker": {
          "symbol": "circle"
         },
         "mode": "lines",
         "name": "",
         "orientation": "v",
         "showlegend": false,
         "type": "scatter",
         "x": [
          0.9643240295035702,
          0.8391839482914969
         ],
         "xaxis": "x",
         "y": [
          -0.15225250467180143,
          -0.12672207698817944
         ],
         "yaxis": "y"
        },
        {
         "hovertemplate": "x=%{x}<br>y=%{y}<extra></extra>",
         "legendgroup": "",
         "line": {
          "color": "grey",
          "dash": "solid"
         },
         "marker": {
          "symbol": "circle"
         },
         "mode": "lines",
         "name": "",
         "orientation": "v",
         "showlegend": false,
         "type": "scatter",
         "x": [
          0.9520746349581585,
          0.8391839482914969
         ],
         "xaxis": "x",
         "y": [
          -0.21387872569868657,
          -0.12672207698817944
         ],
         "yaxis": "y"
        },
        {
         "hovertemplate": "x=%{x}<br>y=%{y}<extra></extra>",
         "legendgroup": "",
         "line": {
          "color": "grey",
          "dash": "solid"
         },
         "marker": {
          "symbol": "circle"
         },
         "mode": "lines",
         "name": "",
         "orientation": "v",
         "showlegend": false,
         "type": "scatter",
         "x": [
          0.6303839358299795,
          0.5082530558948165
         ],
         "xaxis": "x",
         "y": [
          -0.04147070238106825,
          -0.06875462274718812
         ],
         "yaxis": "y"
        },
        {
         "hovertemplate": "x=%{x}<br>y=%{y}<extra></extra>",
         "legendgroup": "",
         "line": {
          "color": "grey",
          "dash": "solid"
         },
         "marker": {
          "symbol": "circle"
         },
         "mode": "lines",
         "name": "",
         "orientation": "v",
         "showlegend": false,
         "type": "scatter",
         "x": [
          0.08044974627682816,
          0.03396605089933172
         ],
         "xaxis": "x",
         "y": [
          0.007789708219365462,
          -0.06377312619560842
         ],
         "yaxis": "y"
        },
        {
         "hovertemplate": "x=%{x}<br>y=%{y}<extra></extra>",
         "legendgroup": "",
         "line": {
          "color": "grey",
          "dash": "solid"
         },
         "marker": {
          "symbol": "circle"
         },
         "mode": "lines",
         "name": "",
         "orientation": "v",
         "showlegend": false,
         "type": "scatter",
         "x": [
          0.3908773948373128,
          0.3013065331065137
         ],
         "xaxis": "x",
         "y": [
          -0.22822744591448052,
          -0.23746469319720262
         ],
         "yaxis": "y"
        },
        {
         "hovertemplate": "x=%{x}<br>y=%{y}<extra></extra>",
         "legendgroup": "",
         "line": {
          "color": "grey",
          "dash": "solid"
         },
         "marker": {
          "symbol": "circle"
         },
         "mode": "lines",
         "name": "",
         "orientation": "v",
         "showlegend": false,
         "type": "scatter",
         "x": [
          0.38964734133673173,
          0.3013065331065137
         ],
         "xaxis": "x",
         "y": [
          -0.32191271331045085,
          -0.23746469319720262
         ],
         "yaxis": "y"
        },
        {
         "hovertemplate": "x=%{x}<br>y=%{y}<extra></extra>",
         "legendgroup": "",
         "line": {
          "color": "grey",
          "dash": "solid"
         },
         "marker": {
          "symbol": "circle"
         },
         "mode": "lines",
         "name": "",
         "orientation": "v",
         "showlegend": false,
         "type": "scatter",
         "x": [
          0.9727857623057351,
          0.8391839482914969
         ],
         "xaxis": "x",
         "y": [
          -0.08399960030618073,
          -0.12672207698817944
         ],
         "yaxis": "y"
        },
        {
         "hovertemplate": "x=%{x}<br>y=%{y}<extra></extra>",
         "legendgroup": "",
         "line": {
          "color": "grey",
          "dash": "solid"
         },
         "marker": {
          "symbol": "circle"
         },
         "mode": "lines",
         "name": "",
         "orientation": "v",
         "showlegend": false,
         "type": "scatter",
         "x": [
          0.5927937333481988,
          0.5082530558948165
         ],
         "xaxis": "x",
         "y": [
          -0.14723817821634358,
          -0.06875462274718812
         ],
         "yaxis": "y"
        },
        {
         "customdata": [
          [
           "Jordan Harper",
           10,
           true,
           "person",
           "Jordan Harper",
           "2022-07-20",
           "Full Time",
           [
            "Scala",
            "Java"
           ],
           "Jordan Harper",
           "CEO",
           "CEO",
           {
            "city": "Fort Lauderdale",
            "country": "USA",
            "tz": "EST"
           },
           7,
           "Fort Lauderdale",
           "EST",
           "USA"
          ]
         ],
         "hovertemplate": "<b>%{hovertext}</b><br><br>team=%{customdata[9]}<br>x=%{x}<br>y=%{y}<br>rank=%{customdata[12]}<br>label=%{customdata[0]}<br>size=%{customdata[1]}<br>person=%{customdata[2]}<br>type=%{customdata[3]}<br>name=%{customdata[4]}<br>hire_date=%{customdata[5]}<br>status=%{customdata[6]}<br>languages=%{customdata[7]}<br>manager=%{customdata[8]}<br>title=%{customdata[10]}<br>location=%{customdata[11]}<br>city=%{customdata[13]}<br>tz=%{customdata[14]}<br>country=%{customdata[15]}<extra></extra>",
         "hovertext": [
          "Jordan Harper"
         ],
         "legendgroup": "CEO",
         "marker": {
          "color": "#FF97FF",
          "size": [
           7
          ],
          "sizemode": "area",
          "sizeref": 0.0175,
          "symbol": "circle"
         },
         "mode": "markers",
         "name": "CEO",
         "orientation": "v",
         "showlegend": true,
         "type": "scatter",
         "x": [
          0.03396605089933172
         ],
         "xaxis": "x",
         "y": [
          -0.06377312619560842
         ],
         "yaxis": "y"
        },
        {
         "customdata": [
          [
           "Shane Nguyen",
           10,
           true,
           "person",
           "Shane Nguyen",
           "2022-11-26",
           "Part Time",
           [
            "Python",
            "Typescript",
            "JavaScript",
            "Java"
           ],
           "Richard Alvarez",
           "Support",
           "Analyst",
           {
            "city": "Dublin",
            "country": "IRL",
            "tz": "UTC"
           },
           1,
           "Dublin",
           "UTC",
           "IRL"
          ],
          [
           "Aaron Myers",
           10,
           true,
           "person",
           "Aaron Myers",
           "2023-01-23",
           "Full Time",
           [
            "Typescript",
            "JavaScript",
            "Java"
           ],
           "Lisa Boyer",
           "Support",
           "Analyst",
           {
            "city": "Dublin",
            "country": "IRL",
            "tz": "UTC"
           },
           1,
           "Dublin",
           "UTC",
           "IRL"
          ],
          [
           "Virginia Avila",
           10,
           true,
           "person",
           "Virginia Avila",
           "2021-05-09",
           "Full Time",
           [
            "Python",
            "Typescript",
            "JavaScript",
            "Scala"
           ],
           "Jordan Harper",
           "Support",
           "Manager",
           {
            "city": "Dublin",
            "country": "IRL",
            "tz": "UTC"
           },
           2,
           "Dublin",
           "UTC",
           "IRL"
          ],
          [
           "Richard Alvarez",
           10,
           true,
           "person",
           "Richard Alvarez",
           "2021-05-12",
           "Contract",
           [],
           "Virginia Avila",
           "Support",
           "Manager",
           {
            "city": "Dublin",
            "country": "IRL",
            "tz": "UTC"
           },
           2,
           "Dublin",
           "UTC",
           "IRL"
          ],
          [
           "Sarah Bennett",
           10,
           true,
           "person",
           "Sarah Bennett",
           "2022-05-16",
           "Contract",
           [],
           "Virginia Avila",
           "Support",
           "Manager",
           {
            "city": "Dublin",
            "country": "IRL",
            "tz": "UTC"
           },
           2,
           "Dublin",
           "UTC",
           "IRL"
          ],
          [
           "Holly Mcdonald",
           10,
           true,
           "person",
           "Holly Mcdonald",
           "2022-05-29",
           "Full Time",
           [
            "Typescript"
           ],
           "Virginia Avila",
           "Support",
           "Manager",
           {
            "city": "Dublin",
            "country": "IRL",
            "tz": "UTC"
           },
           2,
           "Dublin",
           "UTC",
           "IRL"
          ],
          [
           "Lisa Boyer",
           10,
           true,
           "person",
           "Lisa Boyer",
           "2021-02-09",
           "Full Time",
           [
            "Python",
            "Typescript",
            "Java"
           ],
           "Virginia Avila",
           "Support",
           "Manager",
           {
            "city": "Dublin",
            "country": "IRL",
            "tz": "UTC"
           },
           2,
           "Dublin",
           "UTC",
           "IRL"
          ],
          [
           "Curtis Brown",
           10,
           true,
           "person",
           "Curtis Brown",
           "2022-11-27",
           "Full Time",
           [
            "Python",
            "JavaScript",
            "Scala",
            "Java"
           ],
           "Virginia Avila",
           "Support",
           "Manager",
           {
            "city": "Dublin",
            "country": "IRL",
            "tz": "UTC"
           },
           2,
           "Dublin",
           "UTC",
           "IRL"
          ],
          [
           "Brianna Brown",
           10,
           true,
           "person",
           "Brianna Brown",
           "2023-01-26",
           "Contract",
           [],
           "Virginia Avila",
           "Support",
           "Manager",
           {
            "city": "Dublin",
            "country": "IRL",
            "tz": "UTC"
           },
           2,
           "Dublin",
           "UTC",
           "IRL"
          ]
         ],
         "hovertemplate": "<b>%{hovertext}</b><br><br>team=%{customdata[9]}<br>x=%{x}<br>y=%{y}<br>rank=%{customdata[12]}<br>label=%{customdata[0]}<br>size=%{customdata[1]}<br>person=%{customdata[2]}<br>type=%{customdata[3]}<br>name=%{customdata[4]}<br>hire_date=%{customdata[5]}<br>status=%{customdata[6]}<br>languages=%{customdata[7]}<br>manager=%{customdata[8]}<br>title=%{customdata[10]}<br>location=%{customdata[11]}<br>city=%{customdata[13]}<br>tz=%{customdata[14]}<br>country=%{customdata[15]}<extra></extra>",
         "hovertext": [
          "Shane Nguyen",
          "Aaron Myers",
          "Virginia Avila",
          "Richard Alvarez",
          "Sarah Bennett",
          "Holly Mcdonald",
          "Lisa Boyer",
          "Curtis Brown",
          "Brianna Brown"
         ],
         "legendgroup": "Support",
         "marker": {
          "color": "#B6E880",
          "size": [
           1,
           1,
           2,
           2,
           2,
           2,
           2,
           2,
           2
          ],
          "sizemode": "area",
          "sizeref": 0.0175,
          "symbol": "circle"
         },
         "mode": "markers",
         "name": "Support",
         "orientation": "v",
         "showlegend": true,
         "type": "scatter",
         "x": [
          -0.4536291184284819,
          -0.46225432281796286,
          -0.2269847476884305,
          -0.35818211131978944,
          -0.32531114954734924,
          -0.2871650636682377,
          -0.3601243773434667,
          -0.2283101768540906,
          -0.2951026215388207
         ],
         "xaxis": "x",
         "y": [
          -0.3132385620343844,
          0.05165546595470022,
          -0.08994328707343027,
          -0.21493049242689913,
          -0.11723109266598164,
          -0.16225546326031126,
          -0.005812557997457239,
          -0.0032983096295063127,
          -0.04490195872528842
         ],
         "yaxis": "y"
        },
        {
         "customdata": [
          [
           "Andrew Pruitt",
           10,
           true,
           "person",
           "Andrew Pruitt",
           "2021-08-07",
           "Full Time",
           [
            "JavaScript",
            "Elixir",
            "Scala"
           ],
           "Jordan Harper",
           "Sales",
           "Associate",
           {
            "city": "London",
            "country": "GBR",
            "tz": "UTC"
           },
           1,
           "London",
           "UTC",
           "GBR"
          ],
          [
           "Timothy Schultz",
           10,
           true,
           "person",
           "Timothy Schultz",
           "2020-11-17",
           "Contract",
           [
            "Java"
           ],
           "Andrew Pruitt",
           "Sales",
           "Associate",
           {
            "city": "Toronto",
            "country": "CAN",
            "tz": "EST"
           },
           1,
           "Toronto",
           "EST",
           "CAN"
          ],
          [
           "Brandon Kaufman MD",
           10,
           true,
           "person",
           "Brandon Kaufman MD",
           "2021-02-10",
           "Full Time",
           [],
           "Andrew Pruitt",
           "Sales",
           "Associate",
           {
            "city": "London",
            "country": "GBR",
            "tz": "UTC"
           },
           1,
           "London",
           "UTC",
           "GBR"
          ],
          [
           "Samantha Williams",
           10,
           true,
           "person",
           "Samantha Williams",
           "2020-06-17",
           "Full Time",
           [
            "JavaScript",
            "Java"
           ],
           "Andrew Pruitt",
           "Sales",
           "Associate",
           {
            "city": "New York",
            "country": "USA",
            "tz": "EST"
           },
           1,
           "New York",
           "EST",
           "USA"
          ],
          [
           "Theresa Bradshaw",
           10,
           true,
           "person",
           "Theresa Bradshaw",
           "2023-01-10",
           "Part Time",
           [
            "Python",
            "Typescript"
           ],
           "Andrew Pruitt",
           "Sales",
           "Associate",
           {
            "city": "London",
            "country": "GBR",
            "tz": "UTC"
           },
           1,
           "London",
           "UTC",
           "GBR"
          ],
          [
           "Carl Adams",
           10,
           true,
           "person",
           "Carl Adams",
           "2023-04-02",
           "Contract",
           [
            "Scala"
           ],
           "Andrew Pruitt",
           "Sales",
           "Associate",
           {
            "city": "Toronto",
            "country": "CAN",
            "tz": "EST"
           },
           1,
           "Toronto",
           "EST",
           "CAN"
          ],
          [
           "Justin Lewis",
           10,
           true,
           "person",
           "Justin Lewis",
           "2021-04-24",
           "Full Time",
           [],
           "Andrew Pruitt",
           "Sales",
           "Associate",
           {
            "city": "London",
            "country": "GBR",
            "tz": "UTC"
           },
           1,
           "London",
           "UTC",
           "GBR"
          ],
          [
           "William Diaz",
           10,
           true,
           "person",
           "William Diaz",
           "2022-08-31",
           "Full Time",
           [
            "Typescript",
            "Java"
           ],
           "Andrew Pruitt",
           "Sales",
           "Associate",
           {
            "city": "London",
            "country": "GBR",
            "tz": "UTC"
           },
           1,
           "London",
           "UTC",
           "GBR"
          ],
          [
           "James Adams",
           10,
           true,
           "person",
           "James Adams",
           "2021-10-01",
           "Full Time",
           [
            "Java"
           ],
           "Andrew Pruitt",
           "Sales",
           "Associate",
           {
            "city": "New York",
            "country": "USA",
            "tz": "EST"
           },
           1,
           "New York",
           "EST",
           "USA"
          ],
          [
           "Michael Adams",
           10,
           true,
           "person",
           "Michael Adams",
           "2022-04-08",
           "Contract",
           [],
           "Andrew Pruitt",
           "Sales",
           "Associate",
           {
            "city": "Toronto",
            "country": "CAN",
            "tz": "EST"
           },
           1,
           "Toronto",
           "EST",
           "CAN"
          ],
          [
           "Ashley Russell",
           10,
           true,
           "person",
           "Ashley Russell",
           "2020-05-21",
           "Full Time",
           [
            "Typescript",
            "Java"
           ],
           "Andrew Pruitt",
           "Sales",
           "Associate",
           {
            "city": "London",
            "country": "GBR",
            "tz": "UTC"
           },
           1,
           "London",
           "UTC",
           "GBR"
          ],
          [
           "Karen Smith",
           10,
           true,
           "person",
           "Karen Smith",
           "2022-01-29",
           "Full Time",
           [
            "JavaScript"
           ],
           "Andrew Pruitt",
           "Sales",
           "Associate",
           {
            "city": "London",
            "country": "GBR",
            "tz": "UTC"
           },
           1,
           "London",
           "UTC",
           "GBR"
          ],
          [
           "Mr. David Walters",
           10,
           true,
           "person",
           "Mr. David Walters",
           "2023-01-01",
           "Full Time",
           [],
           "Andrew Pruitt",
           "Sales",
           "Associate",
           {
            "city": "New York",
            "country": "USA",
            "tz": "EST"
           },
           1,
           "New York",
           "EST",
           "USA"
          ],
          [
           "Kenneth Mcguire",
           10,
           true,
           "person",
           "Kenneth Mcguire",
           "2020-06-23",
           "Full Time",
           [
            "Python",
            "Scala"
           ],
           "Andrew Pruitt",
           "Sales",
           "Associate",
           {
            "city": "New York",
            "country": "USA",
            "tz": "EST"
           },
           1,
           "New York",
           "EST",
           "USA"
          ],
          [
           "Jacqueline White",
           10,
           true,
           "person",
           "Jacqueline White",
           "2022-07-18",
           "Full Time",
           [
            "JavaScript"
           ],
           "Andrew Pruitt",
           "Sales",
           "Associate",
           {
            "city": "London",
            "country": "GBR",
            "tz": "UTC"
           },
           1,
           "London",
           "UTC",
           "GBR"
          ],
          [
           "Amanda Johnson",
           10,
           true,
           "person",
           "Amanda Johnson",
           "2022-09-09",
           "Part Time",
           [
            "JavaScript",
            "Java"
           ],
           "Andrew Pruitt",
           "Sales",
           "Associate",
           {
            "city": "London",
            "country": "GBR",
            "tz": "UTC"
           },
           1,
           "London",
           "UTC",
           "GBR"
          ],
          [
           "Stephen Randolph",
           10,
           true,
           "person",
           "Stephen Randolph",
           "2021-03-23",
           "Contract",
           [
            "Python"
           ],
           "Andrew Pruitt",
           "Sales",
           "Associate",
           {
            "city": "London",
            "country": "GBR",
            "tz": "UTC"
           },
           1,
           "London",
           "UTC",
           "GBR"
          ],
          [
           "Kenneth Montoya",
           10,
           true,
           "person",
           "Kenneth Montoya",
           "2021-10-14",
           "Full Time",
           [
            "Java"
           ],
           "Andrew Pruitt",
           "Sales",
           "Associate",
           {
            "city": "London",
            "country": "GBR",
            "tz": "UTC"
           },
           1,
           "London",
           "UTC",
           "GBR"
          ],
          [
           "Marie Smith",
           10,
           true,
           "person",
           "Marie Smith",
           "2020-10-03",
           "Part Time",
           [
            "JavaScript"
           ],
           "Andrew Pruitt",
           "Sales",
           "Associate",
           {
            "city": "London",
            "country": "GBR",
            "tz": "UTC"
           },
           1,
           "London",
           "UTC",
           "GBR"
          ],
          [
           "Daryl Gillespie",
           10,
           true,
           "person",
           "Daryl Gillespie",
           "2020-11-29",
           "Full Time",
           [
            "Typescript",
            "JavaScript",
            "Java"
           ],
           "Andrew Pruitt",
           "Sales",
           "Associate",
           {
            "city": "London",
            "country": "GBR",
            "tz": "UTC"
           },
           1,
           "London",
           "UTC",
           "GBR"
          ],
          [
           "Stephanie Peterson",
           10,
           true,
           "person",
           "Stephanie Peterson",
           "2021-12-29",
           "Full Time",
           [
            "Python",
            "JavaScript",
            "Scala",
            "Java"
           ],
           "Andrew Pruitt",
           "Sales",
           "Associate",
           {
            "city": "London",
            "country": "GBR",
            "tz": "UTC"
           },
           1,
           "London",
           "UTC",
           "GBR"
          ],
          [
           "Linda Cortez",
           10,
           true,
           "person",
           "Linda Cortez",
           "2020-07-04",
           "Full Time",
           [],
           "Andrew Pruitt",
           "Sales",
           "Associate",
           {
            "city": "Toronto",
            "country": "CAN",
            "tz": "EST"
           },
           1,
           "Toronto",
           "EST",
           "CAN"
          ],
          [
           "Mario Meyers",
           10,
           true,
           "person",
           "Mario Meyers",
           "2020-08-09",
           "Full Time",
           [],
           "Andrew Pruitt",
           "Sales",
           "Associate",
           {
            "city": "New York",
            "country": "USA",
            "tz": "EST"
           },
           1,
           "New York",
           "EST",
           "USA"
          ],
          [
           "Sandra Brown",
           10,
           true,
           "person",
           "Sandra Brown",
           "2022-04-21",
           "Full Time",
           [],
           "Andrew Pruitt",
           "Sales",
           "Associate",
           {
            "city": "London",
            "country": "GBR",
            "tz": "UTC"
           },
           1,
           "London",
           "UTC",
           "GBR"
          ]
         ],
         "hovertemplate": "<b>%{hovertext}</b><br><br>team=%{customdata[9]}<br>x=%{x}<br>y=%{y}<br>rank=%{customdata[12]}<br>label=%{customdata[0]}<br>size=%{customdata[1]}<br>person=%{customdata[2]}<br>type=%{customdata[3]}<br>name=%{customdata[4]}<br>hire_date=%{customdata[5]}<br>status=%{customdata[6]}<br>languages=%{customdata[7]}<br>manager=%{customdata[8]}<br>title=%{customdata[10]}<br>location=%{customdata[11]}<br>city=%{customdata[13]}<br>tz=%{customdata[14]}<br>country=%{customdata[15]}<extra></extra>",
         "hovertext": [
          "Andrew Pruitt",
          "Timothy Schultz",
          "Brandon Kaufman MD",
          "Samantha Williams",
          "Theresa Bradshaw",
          "Carl Adams",
          "Justin Lewis",
          "William Diaz",
          "James Adams",
          "Michael Adams",
          "Ashley Russell",
          "Karen Smith",
          "Mr. David Walters",
          "Kenneth Mcguire",
          "Jacqueline White",
          "Amanda Johnson",
          "Stephen Randolph",
          "Kenneth Montoya",
          "Marie Smith",
          "Daryl Gillespie",
          "Stephanie Peterson",
          "Linda Cortez",
          "Mario Meyers",
          "Sandra Brown"
         ],
         "legendgroup": "Sales",
         "marker": {
          "color": "#FF6692",
          "size": [
           1,
           1,
           1,
           1,
           1,
           1,
           1,
           1,
           1,
           1,
           1,
           1,
           1,
           1,
           1,
           1,
           1,
           1,
           1,
           1,
           1,
           1,
           1,
           1
          ],
          "sizemode": "area",
          "sizeref": 0.0175,
          "symbol": "circle"
         },
         "mode": "markers",
         "name": "Sales",
         "orientation": "v",
         "showlegend": true,
         "type": "scatter",
         "x": [
          0.1489620986072825,
          0.21393246625623563,
          0.08866920121287611,
          0.1199569417410388,
          0.08302134601475777,
          0.23936553659437226,
          0.030851458847883713,
          0.15511242721497895,
          0.2919181256548252,
          0.042929551172988405,
          0.165819898370788,
          0.015826400971025136,
          0.27349573744760786,
          0.26423604664497297,
          0.12788538453299705,
          0.04967550631052169,
          0.30636055351076047,
          0.2439789069545285,
          0.08327401580126952,
          0.19664362296580223,
          0.22017454236104098,
          0.24511656674539256,
          0.17070019445924,
          0.2919575150285845
         ],
         "xaxis": "x",
         "y": [
          -0.696770904360411,
          -0.8375073992526697,
          -0.7672975558623527,
          -0.8797769309159739,
          -0.8773781434527996,
          -0.8727791282323818,
          -0.817814559633162,
          -0.8929848883688873,
          -0.7993001068583337,
          -0.7400028359405925,
          -0.7844074043423843,
          -0.7800459118496079,
          -0.8409259906653218,
          -0.7399505367061054,
          -0.8308326269012964,
          -0.8535296227541841,
          -0.7593857241041161,
          -0.6765445893052324,
          -0.819719001276049,
          -0.8871357352787121,
          -0.7609627272950741,
          -0.8043313959659663,
          -0.8443275379129186,
          -0.703200147672935
         ],
         "yaxis": "y"
        },
        {
         "customdata": [
          [
           "Rebecca Perry",
           10,
           true,
           "person",
           "Rebecca Perry",
           "2022-10-20",
           "Full Time",
           [
            "Typescript",
            "Go"
           ],
           "Michelle Marshall",
           "Product",
           "Engineer",
           {
            "city": "Seattle",
            "country": "USA",
            "tz": "PST"
           },
           1,
           "Seattle",
           "PST",
           "USA"
          ],
          [
           "Yvonne Delacruz",
           10,
           true,
           "person",
           "Yvonne Delacruz",
           "2021-05-12",
           "Full Time",
           [
            "JavaScript",
            "Java"
           ],
           "Michelle Marshall",
           "Product",
           "Engineer",
           {
            "city": "Toronto",
            "country": "CAN",
            "tz": "EST"
           },
           1,
           "Toronto",
           "EST",
           "CAN"
          ],
          [
           "Katie Huff",
           10,
           true,
           "person",
           "Katie Huff",
           "2020-05-03",
           "Full Time",
           [
            "Python",
            "Java"
           ],
           "Heidi Mullins",
           "Product",
           "Engineer",
           {
            "city": "Seattle",
            "country": "USA",
            "tz": "PST"
           },
           1,
           "Seattle",
           "PST",
           "USA"
          ],
          [
           "Raymond Hess",
           10,
           true,
           "person",
           "Raymond Hess",
           "2021-06-27",
           "Part Time",
           [
            "Python",
            "Typescript",
            "Go",
            "Java"
           ],
           "Jordan Harper",
           "Product",
           "Manager",
           {
            "city": "New York",
            "country": "USA",
            "tz": "EST"
           },
           2,
           "New York",
           "EST",
           "USA"
          ],
          [
           "Antonio Flynn",
           10,
           true,
           "person",
           "Antonio Flynn",
           "2022-04-04",
           "Full Time",
           [
            "Python",
            "JavaScript",
            "Java"
           ],
           "Michelle Marshall",
           "Product",
           "Manager",
           {
            "city": "New York",
            "country": "USA",
            "tz": "EST"
           },
           2,
           "New York",
           "EST",
           "USA"
          ],
          [
           "Jessica Cruz",
           10,
           true,
           "person",
           "Jessica Cruz",
           "2021-07-15",
           "Contract",
           [
            "Erlang",
            "Java"
           ],
           "Michelle Marshall",
           "Product",
           "Manager",
           {
            "city": "New York",
            "country": "USA",
            "tz": "EST"
           },
           2,
           "New York",
           "EST",
           "USA"
          ],
          [
           "Michael Hansen",
           10,
           true,
           "person",
           "Michael Hansen",
           "2021-01-29",
           "Contract",
           [],
           "Michelle Marshall",
           "Product",
           "Manager",
           {
            "city": "New York",
            "country": "USA",
            "tz": "EST"
           },
           2,
           "New York",
           "EST",
           "USA"
          ],
          [
           "Chelsea Navarro",
           10,
           true,
           "person",
           "Chelsea Navarro",
           "2020-09-01",
           "Contract",
           [
            "Python",
            "JavaScript",
            "Java"
           ],
           "Heidi Mullins",
           "Product",
           "Manager",
           {
            "city": "Toronto",
            "country": "CAN",
            "tz": "EST"
           },
           2,
           "Toronto",
           "EST",
           "CAN"
          ],
          [
           "Holly Flores",
           10,
           true,
           "person",
           "Holly Flores",
           "2020-11-18",
           "Full Time",
           [
            "Python",
            "Typescript",
            "Java"
           ],
           "Heidi Mullins",
           "Product",
           "Manager",
           {
            "city": "New York",
            "country": "USA",
            "tz": "EST"
           },
           2,
           "New York",
           "EST",
           "USA"
          ],
          [
           "Melissa Webb",
           10,
           true,
           "person",
           "Melissa Webb",
           "2020-05-12",
           "Full Time",
           [],
           "Tyler Figueroa",
           "Product",
           "Manager",
           {
            "city": "Seattle",
            "country": "USA",
            "tz": "PST"
           },
           2,
           "Seattle",
           "PST",
           "USA"
          ],
          [
           "James Vasquez",
           10,
           true,
           "person",
           "James Vasquez",
           "2020-09-20",
           "Full Time",
           [],
           "Michelle Marshall",
           "Product",
           "Product Owner",
           {
            "city": "Seattle",
            "country": "USA",
            "tz": "PST"
           },
           3,
           "Seattle",
           "PST",
           "USA"
          ],
          [
           "Nicholas Hughes",
           10,
           true,
           "person",
           "Nicholas Hughes",
           "2022-04-15",
           "Full Time",
           [
            "JavaScript"
           ],
           "Michelle Marshall",
           "Product",
           "Product Owner",
           {
            "city": "Toronto",
            "country": "CAN",
            "tz": "EST"
           },
           3,
           "Toronto",
           "EST",
           "CAN"
          ],
          [
           "Jennifer Hamilton",
           10,
           true,
           "person",
           "Jennifer Hamilton",
           "2021-10-17",
           "Full Time",
           [
            "Python",
            "JavaScript",
            "Scala",
            "Java"
           ],
           "Michelle Marshall",
           "Product",
           "Product Owner",
           {
            "city": "Toronto",
            "country": "CAN",
            "tz": "EST"
           },
           3,
           "Toronto",
           "EST",
           "CAN"
          ],
          [
           "Jessica Lewis",
           10,
           true,
           "person",
           "Jessica Lewis",
           "2020-05-15",
           "Part Time",
           [
            "Python",
            "Go",
            "Java"
           ],
           "Michelle Marshall",
           "Product",
           "Product Owner",
           {
            "city": "Seattle",
            "country": "USA",
            "tz": "PST"
           },
           3,
           "Seattle",
           "PST",
           "USA"
          ],
          [
           "Elizabeth Friedman",
           10,
           true,
           "person",
           "Elizabeth Friedman",
           "2021-09-02",
           "Full Time",
           [
            "Python"
           ],
           "Michelle Marshall",
           "Product",
           "Product Owner",
           {
            "city": "Toronto",
            "country": "CAN",
            "tz": "EST"
           },
           3,
           "Toronto",
           "EST",
           "CAN"
          ],
          [
           "Michelle Johnson",
           10,
           true,
           "person",
           "Michelle Johnson",
           "2022-03-16",
           "Full Time",
           [
            "JavaScript"
           ],
           "Michelle Marshall",
           "Product",
           "Product Owner",
           {
            "city": "New York",
            "country": "USA",
            "tz": "EST"
           },
           3,
           "New York",
           "EST",
           "USA"
          ],
          [
           "Lucas Burns",
           10,
           true,
           "person",
           "Lucas Burns",
           "2023-03-06",
           "Contract",
           [
            "Python",
            "Typescript",
            "JavaScript"
           ],
           "Heidi Mullins",
           "Product",
           "Product Owner",
           {
            "city": "New York",
            "country": "USA",
            "tz": "EST"
           },
           3,
           "New York",
           "EST",
           "USA"
          ],
          [
           "Robert Houston",
           10,
           true,
           "person",
           "Robert Houston",
           "2021-09-30",
           "Full Time",
           [
            "Python",
            "Typescript"
           ],
           "Michelle Marshall",
           "Product",
           "AVP",
           {
            "city": "Seattle",
            "country": "USA",
            "tz": "PST"
           },
           4,
           "Seattle",
           "PST",
           "USA"
          ],
          [
           "Elizabeth Ross",
           10,
           true,
           "person",
           "Elizabeth Ross",
           "2022-05-01",
           "Full Time",
           [
            "JavaScript"
           ],
           "Michelle Marshall",
           "Product",
           "AVP",
           {
            "city": "New York",
            "country": "USA",
            "tz": "EST"
           },
           4,
           "New York",
           "EST",
           "USA"
          ],
          [
           "Miss Sarah Bradshaw",
           10,
           true,
           "person",
           "Miss Sarah Bradshaw",
           "2021-07-14",
           "Full Time",
           [
            "JavaScript",
            "Java"
           ],
           "Michelle Marshall",
           "Product",
           "AVP",
           {
            "city": "New York",
            "country": "USA",
            "tz": "EST"
           },
           4,
           "New York",
           "EST",
           "USA"
          ],
          [
           "Sara Hill",
           10,
           true,
           "person",
           "Sara Hill",
           "2022-12-10",
           "Full Time",
           [
            "Python",
            "Go",
            "Scala",
            "Java"
           ],
           "Heidi Mullins",
           "Product",
           "AVP",
           {
            "city": "New York",
            "country": "USA",
            "tz": "EST"
           },
           4,
           "New York",
           "EST",
           "USA"
          ],
          [
           "Michelle Marshall",
           10,
           true,
           "person",
           "Michelle Marshall",
           "2022-01-16",
           "Full Time",
           [
            "Typescript"
           ],
           "Jordan Harper",
           "Product",
           "VP",
           {
            "city": "Toronto",
            "country": "CAN",
            "tz": "EST"
           },
           5,
           "Toronto",
           "EST",
           "CAN"
          ],
          [
           "Heidi Mullins",
           10,
           true,
           "person",
           "Heidi Mullins",
           "2020-10-21",
           "Full Time",
           [
            "Typescript",
            "JavaScript",
            "Java"
           ],
           "Michelle Marshall",
           "Product",
           "VP",
           {
            "city": "Seattle",
            "country": "USA",
            "tz": "PST"
           },
           5,
           "Seattle",
           "PST",
           "USA"
          ],
          [
           "Tyler Figueroa",
           10,
           true,
           "person",
           "Tyler Figueroa",
           "2021-12-12",
           "Contract",
           [],
           "Michelle Marshall",
           "Product",
           "VP",
           {
            "city": "Seattle",
            "country": "USA",
            "tz": "PST"
           },
           5,
           "Seattle",
           "PST",
           "USA"
          ]
         ],
         "hovertemplate": "<b>%{hovertext}</b><br><br>team=%{customdata[9]}<br>x=%{x}<br>y=%{y}<br>rank=%{customdata[12]}<br>label=%{customdata[0]}<br>size=%{customdata[1]}<br>person=%{customdata[2]}<br>type=%{customdata[3]}<br>name=%{customdata[4]}<br>hire_date=%{customdata[5]}<br>status=%{customdata[6]}<br>languages=%{customdata[7]}<br>manager=%{customdata[8]}<br>title=%{customdata[10]}<br>location=%{customdata[11]}<br>city=%{customdata[13]}<br>tz=%{customdata[14]}<br>country=%{customdata[15]}<extra></extra>",
         "hovertext": [
          "Rebecca Perry",
          "Yvonne Delacruz",
          "Katie Huff",
          "Raymond Hess",
          "Antonio Flynn",
          "Jessica Cruz",
          "Michael Hansen",
          "Chelsea Navarro",
          "Holly Flores",
          "Melissa Webb",
          "James Vasquez",
          "Nicholas Hughes",
          "Jennifer Hamilton",
          "Jessica Lewis",
          "Elizabeth Friedman",
          "Michelle Johnson",
          "Lucas Burns",
          "Robert Houston",
          "Elizabeth Ross",
          "Miss Sarah Bradshaw",
          "Sara Hill",
          "Michelle Marshall",
          "Heidi Mullins",
          "Tyler Figueroa"
         ],
         "legendgroup": "Product",
         "marker": {
          "color": "#19d3f3",
          "size": [
           1,
           1,
           1,
           2,
           2,
           2,
           2,
           2,
           2,
           2,
           3,
           3,
           3,
           3,
           3,
           3,
           3,
           4,
           4,
           4,
           4,
           5,
           5,
           5
          ],
          "sizemode": "area",
          "sizeref": 0.0175,
          "symbol": "circle"
         },
         "mode": "markers",
         "name": "Product",
         "orientation": "v",
         "showlegend": true,
         "type": "scatter",
         "x": [
          0.5543970462682846,
          0.5162325453173154,
          0.8180340803528767,
          0.11094392817420765,
          0.42556497252055575,
          0.5439216433321935,
          0.5353569172417765,
          0.7792320792294263,
          0.8549901335622488,
          0.4677485038706554,
          0.49193496437924095,
          0.5661623313066891,
          0.5013114043887588,
          0.49367616022005806,
          0.35534130520106666,
          0.39751873036116214,
          0.8549152330940377,
          0.44876273057432003,
          0.4618866684842769,
          0.34915582993760896,
          0.8247992127507888,
          0.4142494397079225,
          0.7087417346959893,
          0.44124313378592056
         ],
         "xaxis": "x",
         "y": [
          0.4411324309136522,
          0.397574249224388,
          0.6616389141663639,
          -0.07489574674808369,
          0.47413948633135905,
          0.3479722890061877,
          0.4883091305785794,
          0.6842939338447678,
          0.6269543820235225,
          0.7404329372123041,
          0.5101913144136954,
          0.3939518826289548,
          0.4625602685279571,
          0.3271343554850833,
          0.495255801052262,
          0.5120068473451065,
          0.5593587722432601,
          0.5255145575951563,
          0.4304001786895579,
          0.440784750924164,
          0.6001087568630477,
          0.3738899014512832,
          0.5542406483451321,
          0.5924512093297778
         ],
         "yaxis": "y"
        },
        {
         "customdata": [
          [
           "Debbie Sweeney",
           10,
           true,
           "person",
           "Debbie Sweeney",
           "2020-11-18",
           "Full Time",
           [
            "Python",
            "Typescript",
            "Go",
            "Java"
           ],
           "Eric Davis",
           "Platform",
           "Engineer",
           {
            "city": "Seattle",
            "country": "USA",
            "tz": "PST"
           },
           1,
           "Seattle",
           "PST",
           "USA"
          ],
          [
           "Susan Beasley",
           10,
           true,
           "person",
           "Susan Beasley",
           "2020-07-03",
           "Full Time",
           [
            "Erlang",
            "Typescript",
            "JavaScript",
            "Go"
           ],
           "Eric Davis",
           "Platform",
           "Senior Engineer",
           {
            "city": "Toronto",
            "country": "CAN",
            "tz": "EST"
           },
           2,
           "Toronto",
           "EST",
           "CAN"
          ],
          [
           "Sarah Robertson",
           10,
           true,
           "person",
           "Sarah Robertson",
           "2021-07-26",
           "Full Time",
           [
            "Java"
           ],
           "Andrew Peterson",
           "Platform",
           "Senior Engineer",
           {
            "city": "Toronto",
            "country": "CAN",
            "tz": "EST"
           },
           2,
           "Toronto",
           "EST",
           "CAN"
          ],
          [
           "Belinda Davis",
           10,
           true,
           "person",
           "Belinda Davis",
           "2021-07-08",
           "Contract",
           [
            "Typescript",
            "JavaScript",
            "Scala",
            "Java"
           ],
           "Colleen Williamson",
           "Platform",
           "Managing Engineer",
           {
            "city": "Toronto",
            "country": "CAN",
            "tz": "EST"
           },
           3,
           "Toronto",
           "EST",
           "CAN"
          ],
          [
           "Mary Wright",
           10,
           true,
           "person",
           "Mary Wright",
           "2023-02-25",
           "Part Time",
           [
            "JavaScript"
           ],
           "Eric Davis",
           "Platform",
           "Managing Engineer",
           {
            "city": "Toronto",
            "country": "CAN",
            "tz": "EST"
           },
           3,
           "Toronto",
           "EST",
           "CAN"
          ],
          [
           "Robert Rodriguez",
           10,
           true,
           "person",
           "Robert Rodriguez",
           "2022-01-19",
           "Full Time",
           [],
           "Eric Davis",
           "Platform",
           "Managing Engineer",
           {
            "city": "Seattle",
            "country": "USA",
            "tz": "PST"
           },
           3,
           "Seattle",
           "PST",
           "USA"
          ],
          [
           "Mike Watkins",
           10,
           true,
           "person",
           "Mike Watkins",
           "2021-06-30",
           "Contract",
           [
            "Python",
            "Typescript",
            "Java"
           ],
           "Eric Davis",
           "Platform",
           "AVP",
           {
            "city": "Toronto",
            "country": "CAN",
            "tz": "EST"
           },
           4,
           "Toronto",
           "EST",
           "CAN"
          ],
          [
           "Matthew Robinson",
           10,
           true,
           "person",
           "Matthew Robinson",
           "2023-01-31",
           "Full Time",
           [
            "Python",
            "Typescript",
            "Java"
           ],
           "Eric Davis",
           "Platform",
           "AVP",
           {
            "city": "Toronto",
            "country": "CAN",
            "tz": "EST"
           },
           4,
           "Toronto",
           "EST",
           "CAN"
          ],
          [
           "Brandon Martinez",
           10,
           true,
           "person",
           "Brandon Martinez",
           "2020-09-06",
           "Full Time",
           [
            "JavaScript"
           ],
           "Eric Davis",
           "Platform",
           "AVP",
           {
            "city": "Seattle",
            "country": "USA",
            "tz": "PST"
           },
           4,
           "Seattle",
           "PST",
           "USA"
          ],
          [
           "Colleen Williamson",
           10,
           true,
           "person",
           "Colleen Williamson",
           "2021-08-09",
           "Full Time",
           [
            "Scala"
           ],
           "Jordan Harper",
           "Platform",
           "VP",
           {
            "city": "Toronto",
            "country": "CAN",
            "tz": "EST"
           },
           5,
           "Toronto",
           "EST",
           "CAN"
          ],
          [
           "Eric Davis",
           10,
           true,
           "person",
           "Eric Davis",
           "2021-03-03",
           "Full Time",
           [
            "Java"
           ],
           "Colleen Williamson",
           "Platform",
           "VP",
           {
            "city": "Seattle",
            "country": "USA",
            "tz": "PST"
           },
           5,
           "Seattle",
           "PST",
           "USA"
          ],
          [
           "Andrew Peterson",
           10,
           true,
           "person",
           "Andrew Peterson",
           "2021-03-16",
           "Full Time",
           [
            "Go",
            "Java"
           ],
           "Colleen Williamson",
           "Platform",
           "VP",
           {
            "city": "Seattle",
            "country": "USA",
            "tz": "PST"
           },
           5,
           "Seattle",
           "PST",
           "USA"
          ]
         ],
         "hovertemplate": "<b>%{hovertext}</b><br><br>team=%{customdata[9]}<br>x=%{x}<br>y=%{y}<br>rank=%{customdata[12]}<br>label=%{customdata[0]}<br>size=%{customdata[1]}<br>person=%{customdata[2]}<br>type=%{customdata[3]}<br>name=%{customdata[4]}<br>hire_date=%{customdata[5]}<br>status=%{customdata[6]}<br>languages=%{customdata[7]}<br>manager=%{customdata[8]}<br>title=%{customdata[10]}<br>location=%{customdata[11]}<br>city=%{customdata[13]}<br>tz=%{customdata[14]}<br>country=%{customdata[15]}<extra></extra>",
         "hovertext": [
          "Debbie Sweeney",
          "Susan Beasley",
          "Sarah Robertson",
          "Belinda Davis",
          "Mary Wright",
          "Robert Rodriguez",
          "Mike Watkins",
          "Matthew Robinson",
          "Brandon Martinez",
          "Colleen Williamson",
          "Eric Davis",
          "Andrew Peterson"
         ],
         "legendgroup": "Platform",
         "marker": {
          "color": "#FFA15A",
          "size": [
           1,
           2,
           2,
           3,
           3,
           3,
           4,
           4,
           4,
           5,
           5,
           5
          ],
          "sizemode": "area",
          "sizeref": 0.0175,
          "symbol": "circle"
         },
         "mode": "markers",
         "name": "Platform",
         "orientation": "v",
         "showlegend": true,
         "type": "scatter",
         "x": [
          -0.946824164134796,
          -0.9771802696434619,
          -0.6676081439958717,
          -0.5266632347034811,
          -0.9445011811294656,
          -0.9707468976591136,
          -0.9304547481975252,
          -0.994097613642788,
          -0.9778964827705993,
          -0.4239632810988082,
          -0.8232148074048894,
          -0.5627675358572214
         ],
         "xaxis": "x",
         "y": [
          -0.11596669375099845,
          -0.0847270708877268,
          -0.3063651581465584,
          -0.07021869559935116,
          -0.04059135777206464,
          0.03684233668312812,
          0.04904796255789608,
          -0.04136604145774576,
          -0.001703908099611298,
          -0.07557563580441673,
          -0.03171931377083284,
          -0.20383932079242326
         ],
         "yaxis": "y"
        },
        {
         "customdata": [
          [
           "Hannah Young",
           10,
           true,
           "person",
           "Hannah Young",
           "2022-10-12",
           "Full Time",
           [
            "Java",
            "Python",
            "Typescript",
            "JavaScript",
            "Scala"
           ],
           "Dustin Cantrell",
           "Internal Tools",
           "Engineer",
           {
            "city": "Toronto",
            "country": "CAN",
            "tz": "EST"
           },
           1,
           "Toronto",
           "EST",
           "CAN"
          ],
          [
           "Sandra Buckley",
           10,
           true,
           "person",
           "Sandra Buckley",
           "2022-08-01",
           "Full Time",
           [
            "JavaScript",
            "Java"
           ],
           "Dustin Cantrell",
           "Internal Tools",
           "Engineer",
           {
            "city": "Seattle",
            "country": "USA",
            "tz": "PST"
           },
           1,
           "Seattle",
           "PST",
           "USA"
          ],
          [
           "Gregory Colon",
           10,
           true,
           "person",
           "Gregory Colon",
           "2020-08-18",
           "Full Time",
           [
            "Scala"
           ],
           "Sonya Marshall",
           "Internal Tools",
           "Engineer",
           {
            "city": "Seattle",
            "country": "USA",
            "tz": "PST"
           },
           1,
           "Seattle",
           "PST",
           "USA"
          ],
          [
           "Cynthia Brown",
           10,
           true,
           "person",
           "Cynthia Brown",
           "2023-03-11",
           "Full Time",
           [
            "JavaScript"
           ],
           "Dustin Cantrell",
           "Internal Tools",
           "Senior Engineer",
           {
            "city": "Toronto",
            "country": "CAN",
            "tz": "EST"
           },
           2,
           "Toronto",
           "EST",
           "CAN"
          ],
          [
           "Eric Clark",
           10,
           true,
           "person",
           "Eric Clark",
           "2021-06-16",
           "Full Time",
           [
            "Python",
            "JavaScript"
           ],
           "Dustin Cantrell",
           "Internal Tools",
           "Senior Engineer",
           {
            "city": "Seattle",
            "country": "USA",
            "tz": "PST"
           },
           2,
           "Seattle",
           "PST",
           "USA"
          ],
          [
           "Brent Harris",
           10,
           true,
           "person",
           "Brent Harris",
           "2022-04-30",
           "Contract",
           [
            "Scala"
           ],
           "Dustin Cantrell",
           "Internal Tools",
           "Senior Engineer",
           {
            "city": "Seattle",
            "country": "USA",
            "tz": "PST"
           },
           2,
           "Seattle",
           "PST",
           "USA"
          ],
          [
           "Vicki Lambert",
           10,
           true,
           "person",
           "Vicki Lambert",
           "2021-11-25",
           "Full Time",
           [
            "JavaScript",
            "Go",
            "Scala"
           ],
           "Dustin Cantrell",
           "Internal Tools",
           "Senior Engineer",
           {
            "city": "Toronto",
            "country": "CAN",
            "tz": "EST"
           },
           2,
           "Toronto",
           "EST",
           "CAN"
          ],
          [
           "Kristen Cohen",
           10,
           true,
           "person",
           "Kristen Cohen",
           "2020-12-28",
           "Contract",
           [
            "Typescript"
           ],
           "Dustin Cantrell",
           "Internal Tools",
           "Senior Engineer",
           {
            "city": "Seattle",
            "country": "USA",
            "tz": "PST"
           },
           2,
           "Seattle",
           "PST",
           "USA"
          ],
          [
           "Bruce Torres",
           10,
           true,
           "person",
           "Bruce Torres",
           "2022-08-23",
           "Full Time",
           [
            "JavaScript"
           ],
           "Dustin Cantrell",
           "Internal Tools",
           "Manager",
           {
            "city": "Seattle",
            "country": "USA",
            "tz": "PST"
           },
           3,
           "Seattle",
           "PST",
           "USA"
          ],
          [
           "Carrie Cunningham",
           10,
           true,
           "person",
           "Carrie Cunningham",
           "2020-10-11",
           "Full Time",
           [
            "JavaScript"
           ],
           "Dustin Cantrell",
           "Internal Tools",
           "Manager",
           {
            "city": "Toronto",
            "country": "CAN",
            "tz": "EST"
           },
           3,
           "Toronto",
           "EST",
           "CAN"
          ],
          [
           "Brittney Watkins",
           10,
           true,
           "person",
           "Brittney Watkins",
           "2022-08-06",
           "Full Time",
           [
            "Erlang",
            "JavaScript"
           ],
           "Dustin Cantrell",
           "Internal Tools",
           "AVP",
           {
            "city": "Seattle",
            "country": "USA",
            "tz": "PST"
           },
           4,
           "Seattle",
           "PST",
           "USA"
          ],
          [
           "Dr. Melissa Hernandez",
           10,
           true,
           "person",
           "Dr. Melissa Hernandez",
           "2020-06-28",
           "Contract",
           [
            "JavaScript"
           ],
           "Jordan Harper",
           "Internal Tools",
           "VP",
           {
            "city": "Toronto",
            "country": "CAN",
            "tz": "EST"
           },
           5,
           "Toronto",
           "EST",
           "CAN"
          ],
          [
           "Dustin Cantrell",
           10,
           true,
           "person",
           "Dustin Cantrell",
           "2020-05-04",
           "Full Time",
           [],
           "Dr. Melissa Hernandez",
           "Internal Tools",
           "VP",
           {
            "city": "Seattle",
            "country": "USA",
            "tz": "PST"
           },
           5,
           "Seattle",
           "PST",
           "USA"
          ],
          [
           "Sonya Marshall",
           10,
           true,
           "person",
           "Sonya Marshall",
           "2021-08-04",
           "Contract",
           [
            "Python",
            "Erlang",
            "JavaScript"
           ],
           "Dr. Melissa Hernandez",
           "Internal Tools",
           "VP",
           {
            "city": "Toronto",
            "country": "CAN",
            "tz": "EST"
           },
           5,
           "Toronto",
           "EST",
           "CAN"
          ],
          [
           "Ashley Fleming",
           10,
           true,
           "person",
           "Ashley Fleming",
           "2023-03-07",
           "Full Time",
           [
            "Go"
           ],
           "Dr. Melissa Hernandez",
           "Internal Tools",
           "VP",
           {
            "city": "Seattle",
            "country": "USA",
            "tz": "PST"
           },
           5,
           "Seattle",
           "PST",
           "USA"
          ]
         ],
         "hovertemplate": "<b>%{hovertext}</b><br><br>team=%{customdata[9]}<br>x=%{x}<br>y=%{y}<br>rank=%{customdata[12]}<br>label=%{customdata[0]}<br>size=%{customdata[1]}<br>person=%{customdata[2]}<br>type=%{customdata[3]}<br>name=%{customdata[4]}<br>hire_date=%{customdata[5]}<br>status=%{customdata[6]}<br>languages=%{customdata[7]}<br>manager=%{customdata[8]}<br>title=%{customdata[10]}<br>location=%{customdata[11]}<br>city=%{customdata[13]}<br>tz=%{customdata[14]}<br>country=%{customdata[15]}<extra></extra>",
         "hovertext": [
          "Hannah Young",
          "Sandra Buckley",
          "Gregory Colon",
          "Cynthia Brown",
          "Eric Clark",
          "Brent Harris",
          "Vicki Lambert",
          "Kristen Cohen",
          "Bruce Torres",
          "Carrie Cunningham",
          "Brittney Watkins",
          "Dr. Melissa Hernandez",
          "Dustin Cantrell",
          "Sonya Marshall",
          "Ashley Fleming"
         ],
         "legendgroup": "Internal Tools",
         "marker": {
          "color": "#ab63fa",
          "size": [
           1,
           1,
           1,
           2,
           2,
           2,
           2,
           2,
           3,
           3,
           4,
           5,
           5,
           5,
           5
          ],
          "sizemode": "area",
          "sizeref": 0.0175,
          "symbol": "circle"
         },
         "mode": "markers",
         "name": "Internal Tools",
         "orientation": "v",
         "showlegend": true,
         "type": "scatter",
         "x": [
          -0.415244409868483,
          -0.294616283344239,
          -0.37186494307507106,
          -0.32866849146344623,
          -0.3431204958266412,
          -0.27965245240364645,
          -0.42716252609042943,
          -0.2446655053223935,
          -0.44043247653991235,
          -0.37985709958785707,
          -0.3785877414616653,
          -0.17077123305960204,
          -0.3134365387056926,
          -0.2952948047304851,
          -0.2681453383624667
         ],
         "xaxis": "x",
         "y": [
          0.9125845005312573,
          0.8949496410618349,
          0.6011756109850999,
          0.9540307341431734,
          0.9103888416024316,
          0.9439621223873395,
          0.8326190753139192,
          0.9035650465992092,
          0.8744727989175953,
          0.9416264392645467,
          0.8750898911027012,
          0.3677096485621801,
          0.7832291699924109,
          0.5012958049686245,
          0.41221151093962866
         ],
         "yaxis": "y"
        },
        {
         "customdata": [
          [
           "Nicholas Campbell",
           10,
           true,
           "person",
           "Nicholas Campbell",
           "2020-12-07",
           "Full Time",
           [
            "Python",
            "JavaScript"
           ],
           "Jose Williams",
           "DevX",
           "Engineer",
           {
            "city": "Fort Lauderdale",
            "country": "USA",
            "tz": "EST"
           },
           5,
           "Fort Lauderdale",
           "EST",
           "USA"
          ],
          [
           "David Sullivan",
           10,
           true,
           "person",
           "David Sullivan",
           "2020-06-23",
           "Full Time",
           [
            "Go"
           ],
           "Christopher Taylor",
           "DevX",
           "Engineer",
           {
            "city": "Fort Lauderdale",
            "country": "USA",
            "tz": "EST"
           },
           5,
           "Fort Lauderdale",
           "EST",
           "USA"
          ],
          [
           "Derek White",
           10,
           true,
           "person",
           "Derek White",
           "2021-03-06",
           "Contract",
           [],
           "Christopher Taylor",
           "DevX",
           "Engineer",
           {
            "city": "Fort Lauderdale",
            "country": "USA",
            "tz": "EST"
           },
           5,
           "Fort Lauderdale",
           "EST",
           "USA"
          ],
          [
           "Mark Munoz",
           10,
           true,
           "person",
           "Mark Munoz",
           "2022-12-06",
           "Part Time",
           [
            "Java"
           ],
           "Christopher Taylor",
           "DevX",
           "Engineer",
           {
            "city": "Fort Lauderdale",
            "country": "USA",
            "tz": "EST"
           },
           5,
           "Fort Lauderdale",
           "EST",
           "USA"
          ],
          [
           "Kenneth Bryant",
           10,
           true,
           "person",
           "Kenneth Bryant",
           "2020-10-30",
           "Full Time",
           [
            "Python",
            "Typescript"
           ],
           "Christopher Taylor",
           "DevX",
           "Engineer",
           {
            "city": "Fort Lauderdale",
            "country": "USA",
            "tz": "EST"
           },
           5,
           "Fort Lauderdale",
           "EST",
           "USA"
          ],
          [
           "Jessica Edwards",
           10,
           true,
           "person",
           "Jessica Edwards",
           "2021-11-25",
           "Contract",
           [
            "Python",
            "JavaScript"
           ],
           "Christopher Taylor",
           "DevX",
           "Engineer",
           {
            "city": "Fort Lauderdale",
            "country": "USA",
            "tz": "EST"
           },
           5,
           "Fort Lauderdale",
           "EST",
           "USA"
          ],
          [
           "Kelly Huff",
           10,
           true,
           "person",
           "Kelly Huff",
           "2020-09-17",
           "Contract",
           [
            "Python",
            "Typescript",
            "JavaScript",
            "Java"
           ],
           "Christopher Taylor",
           "DevX",
           "Engineer",
           {
            "city": "Fort Lauderdale",
            "country": "USA",
            "tz": "EST"
           },
           5,
           "Fort Lauderdale",
           "EST",
           "USA"
          ],
          [
           "James Elliott",
           10,
           true,
           "person",
           "James Elliott",
           "2021-07-31",
           "Full Time",
           [
            "Python",
            "Go"
           ],
           "Kaitlin Little",
           "DevX",
           "Engineer",
           {
            "city": "Fort Lauderdale",
            "country": "USA",
            "tz": "EST"
           },
           5,
           "Fort Lauderdale",
           "EST",
           "USA"
          ],
          [
           "Marissa Martinez",
           10,
           true,
           "person",
           "Marissa Martinez",
           "2022-06-07",
           "Contract",
           [
            "Python",
            "Typescript",
            "JavaScript",
            "Go"
           ],
           "Kaitlin Little",
           "DevX",
           "Engineer",
           {
            "city": "Fort Lauderdale",
            "country": "USA",
            "tz": "EST"
           },
           5,
           "Fort Lauderdale",
           "EST",
           "USA"
          ],
          [
           "James Moore",
           10,
           true,
           "person",
           "James Moore",
           "2020-08-20",
           "Full Time",
           [
            "Python",
            "Typescript"
           ],
           "Kaitlin Little",
           "DevX",
           "Engineer",
           {
            "city": "Fort Lauderdale",
            "country": "USA",
            "tz": "EST"
           },
           5,
           "Fort Lauderdale",
           "EST",
           "USA"
          ],
          [
           "Marissa Johnson",
           10,
           true,
           "person",
           "Marissa Johnson",
           "2021-05-16",
           "Full Time",
           [
            "Python"
           ],
           "Kaitlin Little",
           "DevX",
           "Engineer",
           {
            "city": "Fort Lauderdale",
            "country": "USA",
            "tz": "EST"
           },
           5,
           "Fort Lauderdale",
           "EST",
           "USA"
          ],
          [
           "Bonnie Nash",
           10,
           true,
           "person",
           "Bonnie Nash",
           "2021-06-22",
           "Full Time",
           [
            "Typescript",
            "JavaScript",
            "Scala"
           ],
           "Kaitlin Little",
           "DevX",
           "Engineer",
           {
            "city": "Fort Lauderdale",
            "country": "USA",
            "tz": "EST"
           },
           5,
           "Fort Lauderdale",
           "EST",
           "USA"
          ],
          [
           "Cody Holland",
           10,
           true,
           "person",
           "Cody Holland",
           "2021-01-29",
           "Full Time",
           [
            "Scala"
           ],
           "Kaitlin Little",
           "DevX",
           "Engineer",
           {
            "city": "Fort Lauderdale",
            "country": "USA",
            "tz": "EST"
           },
           5,
           "Fort Lauderdale",
           "EST",
           "USA"
          ],
          [
           "Mark Crawford",
           10,
           true,
           "person",
           "Mark Crawford",
           "2020-11-01",
           "Contract",
           [
            "Typescript",
            "JavaScript"
           ],
           "Kaitlin Little",
           "DevX",
           "Engineer",
           {
            "city": "Fort Lauderdale",
            "country": "USA",
            "tz": "EST"
           },
           5,
           "Fort Lauderdale",
           "EST",
           "USA"
          ],
          [
           "Carolyn Roth",
           10,
           true,
           "person",
           "Carolyn Roth",
           "2020-12-29",
           "Contract",
           [
            "JavaScript"
           ],
           "Kaitlin Little",
           "DevX",
           "Engineer",
           {
            "city": "Fort Lauderdale",
            "country": "USA",
            "tz": "EST"
           },
           5,
           "Fort Lauderdale",
           "EST",
           "USA"
          ],
          [
           "Jake Barber",
           10,
           true,
           "person",
           "Jake Barber",
           "2021-08-29",
           "Full Time",
           [
            "Python"
           ],
           "Todd Peterson",
           "DevX",
           "Engineer",
           {
            "city": "Fort Lauderdale",
            "country": "USA",
            "tz": "EST"
           },
           5,
           "Fort Lauderdale",
           "EST",
           "USA"
          ],
          [
           "Samantha Jordan",
           10,
           true,
           "person",
           "Samantha Jordan",
           "2021-03-13",
           "Full Time",
           [],
           "Todd Peterson",
           "DevX",
           "Engineer",
           {
            "city": "Fort Lauderdale",
            "country": "USA",
            "tz": "EST"
           },
           5,
           "Fort Lauderdale",
           "EST",
           "USA"
          ],
          [
           "Christina Graves",
           10,
           true,
           "person",
           "Christina Graves",
           "2023-02-05",
           "Full Time",
           [
            "Typescript",
            "JavaScript",
            "Scala",
            "Java"
           ],
           "Todd Peterson",
           "DevX",
           "Engineer",
           {
            "city": "Fort Lauderdale",
            "country": "USA",
            "tz": "EST"
           },
           5,
           "Fort Lauderdale",
           "EST",
           "USA"
          ],
          [
           "Sarah Little",
           10,
           true,
           "person",
           "Sarah Little",
           "2022-05-22",
           "Full Time",
           [
            "Go"
           ],
           "Todd Peterson",
           "DevX",
           "Engineer",
           {
            "city": "Fort Lauderdale",
            "country": "USA",
            "tz": "EST"
           },
           5,
           "Fort Lauderdale",
           "EST",
           "USA"
          ],
          [
           "Lisa Robbins",
           10,
           true,
           "person",
           "Lisa Robbins",
           "2022-06-01",
           "Full Time",
           [
            "Erlang"
           ],
           "Todd Peterson",
           "DevX",
           "Engineer",
           {
            "city": "Fort Lauderdale",
            "country": "USA",
            "tz": "EST"
           },
           5,
           "Fort Lauderdale",
           "EST",
           "USA"
          ],
          [
           "Mary Gonzalez",
           10,
           true,
           "person",
           "Mary Gonzalez",
           "2022-09-30",
           "Full Time",
           [
            "Python",
            "Java"
           ],
           "Todd Peterson",
           "DevX",
           "Engineer",
           {
            "city": "Fort Lauderdale",
            "country": "USA",
            "tz": "EST"
           },
           5,
           "Fort Lauderdale",
           "EST",
           "USA"
          ],
          [
           "Vickie Barrett",
           10,
           true,
           "person",
           "Vickie Barrett",
           "2021-11-22",
           "Full Time",
           [
            "Typescript"
           ],
           "Todd Peterson",
           "DevX",
           "Engineer",
           {
            "city": "Fort Lauderdale",
            "country": "USA",
            "tz": "EST"
           },
           5,
           "Fort Lauderdale",
           "EST",
           "USA"
          ],
          [
           "Jose Williams",
           10,
           true,
           "person",
           "Jose Williams",
           "2023-02-14",
           "Full Time",
           [
            "Python"
           ],
           "Jordan Harper",
           "DevX",
           "AVP",
           {
            "city": "Fort Lauderdale",
            "country": "USA",
            "tz": "EST"
           },
           6,
           "Fort Lauderdale",
           "EST",
           "USA"
          ],
          [
           "Christopher Taylor",
           10,
           true,
           "person",
           "Christopher Taylor",
           "2022-11-11",
           "Full Time",
           [
            "Python"
           ],
           "Jose Williams",
           "DevX",
           "AVP",
           {
            "city": "Fort Lauderdale",
            "country": "USA",
            "tz": "EST"
           },
           6,
           "Fort Lauderdale",
           "EST",
           "USA"
          ],
          [
           "Kaitlin Little",
           10,
           true,
           "person",
           "Kaitlin Little",
           "2022-07-23",
           "Full Time",
           [
            "JavaScript"
           ],
           "Jose Williams",
           "DevX",
           "AVP",
           {
            "city": "Fort Lauderdale",
            "country": "USA",
            "tz": "EST"
           },
           6,
           "Fort Lauderdale",
           "EST",
           "USA"
          ],
          [
           "Todd Peterson",
           10,
           true,
           "person",
           "Todd Peterson",
           "2021-01-19",
           "Contract",
           [],
           "Jose Williams",
           "DevX",
           "AVP",
           {
            "city": "Fort Lauderdale",
            "country": "USA",
            "tz": "EST"
           },
           6,
           "Fort Lauderdale",
           "EST",
           "USA"
          ]
         ],
         "hovertemplate": "<b>%{hovertext}</b><br><br>team=%{customdata[9]}<br>x=%{x}<br>y=%{y}<br>rank=%{customdata[12]}<br>label=%{customdata[0]}<br>size=%{customdata[1]}<br>person=%{customdata[2]}<br>type=%{customdata[3]}<br>name=%{customdata[4]}<br>hire_date=%{customdata[5]}<br>status=%{customdata[6]}<br>languages=%{customdata[7]}<br>manager=%{customdata[8]}<br>title=%{customdata[10]}<br>location=%{customdata[11]}<br>city=%{customdata[13]}<br>tz=%{customdata[14]}<br>country=%{customdata[15]}<extra></extra>",
         "hovertext": [
          "Nicholas Campbell",
          "David Sullivan",
          "Derek White",
          "Mark Munoz",
          "Kenneth Bryant",
          "Jessica Edwards",
          "Kelly Huff",
          "James Elliott",
          "Marissa Martinez",
          "James Moore",
          "Marissa Johnson",
          "Bonnie Nash",
          "Cody Holland",
          "Mark Crawford",
          "Carolyn Roth",
          "Jake Barber",
          "Samantha Jordan",
          "Christina Graves",
          "Sarah Little",
          "Lisa Robbins",
          "Mary Gonzalez",
          "Vickie Barrett",
          "Jose Williams",
          "Christopher Taylor",
          "Kaitlin Little",
          "Todd Peterson"
         ],
         "legendgroup": "DevX",
         "marker": {
          "color": "#00cc96",
          "size": [
           5,
           5,
           5,
           5,
           5,
           5,
           5,
           5,
           5,
           5,
           5,
           5,
           5,
           5,
           5,
           5,
           5,
           5,
           5,
           5,
           5,
           5,
           6,
           6,
           6,
           6
          ],
          "sizemode": "area",
          "sizeref": 0.0175,
          "symbol": "circle"
         },
         "mode": "markers",
         "name": "DevX",
         "orientation": "v",
         "showlegend": true,
         "type": "scatter",
         "x": [
          -0.4483616562056767,
          -0.678166081577126,
          -0.761224830057513,
          -0.7508590652892879,
          -0.7312392140919776,
          -0.7129938151296363,
          -0.7269585787737145,
          -0.8349261422033081,
          -0.8224746996463408,
          -0.7262063208075034,
          -0.8078221212485156,
          -0.8484134021681928,
          -0.7803243420001449,
          -0.7653012853994794,
          -0.8014042911348629,
          -0.24429984287266288,
          -0.20886784597852728,
          -0.16316838323855132,
          -0.1326480085878116,
          -0.09447908247248368,
          -0.12582175475012505,
          -0.08970640522575118,
          -0.36081083675925624,
          -0.6235570773507804,
          -0.690013803644419,
          -0.1935296210663241
         ],
         "xaxis": "x",
         "y": [
          0.22541880776241074,
          -0.16986347100467572,
          -0.11347473519208257,
          -0.061797535591250605,
          -0.013124425290471779,
          -0.10963285153261804,
          -0.1606055840762962,
          0.376649092132008,
          0.4680268581987407,
          0.4896246906484682,
          0.34823063856751774,
          0.4229536209748263,
          0.4979567245733895,
          0.4534118728388325,
          0.4190430268353264,
          0.49661861109185607,
          0.5297844392755848,
          0.5324158328492308,
          0.45197061286163587,
          0.4235374477695477,
          0.5141567495002567,
          0.485879790732879,
          0.1567539016514115,
          -0.04286181059218251,
          0.3662545559743679,
          0.39988470497861006
         ],
         "yaxis": "y"
        },
        {
         "customdata": [
          [
           "Zachary Ibarra",
           10,
           true,
           "person",
           "Zachary Ibarra",
           "2021-01-27",
           "Contract",
           [
            "Python",
            "Typescript",
            "Java"
           ],
           "Lauren Webb",
           "DevOps",
           "Engineer",
           {
            "city": "Dublin",
            "country": "IRL",
            "tz": "UTC"
           },
           1,
           "Dublin",
           "UTC",
           "IRL"
          ],
          [
           "Jessica Robertson",
           10,
           true,
           "person",
           "Jessica Robertson",
           "2021-01-20",
           "Contract",
           [
            "Java"
           ],
           "Lauren Webb",
           "DevOps",
           "Engineer",
           {
            "city": "Dublin",
            "country": "IRL",
            "tz": "UTC"
           },
           1,
           "Dublin",
           "UTC",
           "IRL"
          ],
          [
           "Kyle Ross",
           10,
           true,
           "person",
           "Kyle Ross",
           "2023-02-27",
           "Full Time",
           [
            "Python",
            "Typescript",
            "Scala"
           ],
           "Crystal Ayers",
           "DevOps",
           "Engineer",
           {
            "city": "Dublin",
            "country": "IRL",
            "tz": "UTC"
           },
           1,
           "Dublin",
           "UTC",
           "IRL"
          ],
          [
           "Donna Baird",
           10,
           true,
           "person",
           "Donna Baird",
           "2022-07-20",
           "Contract",
           [],
           "Heather Rojas",
           "DevOps",
           "Engineer",
           {
            "city": "Dublin",
            "country": "IRL",
            "tz": "UTC"
           },
           1,
           "Dublin",
           "UTC",
           "IRL"
          ],
          [
           "Austin Alexander",
           10,
           true,
           "person",
           "Austin Alexander",
           "2022-03-06",
           "Full Time",
           [],
           "Heather Rojas",
           "DevOps",
           "Engineer",
           {
            "city": "Dublin",
            "country": "IRL",
            "tz": "UTC"
           },
           1,
           "Dublin",
           "UTC",
           "IRL"
          ],
          [
           "Pamela Austin",
           10,
           true,
           "person",
           "Pamela Austin",
           "2022-02-07",
           "Contract",
           [],
           "Heather Rojas",
           "DevOps",
           "Engineer",
           {
            "city": "Dublin",
            "country": "IRL",
            "tz": "UTC"
           },
           1,
           "Dublin",
           "UTC",
           "IRL"
          ],
          [
           "Lauren Webb",
           10,
           true,
           "person",
           "Lauren Webb",
           "2021-03-24",
           "Part Time",
           [
            "Go"
           ],
           "Jordan Harper",
           "DevOps",
           "Senior Engineer",
           {
            "city": "Dublin",
            "country": "IRL",
            "tz": "UTC"
           },
           2,
           "Dublin",
           "UTC",
           "IRL"
          ],
          [
           "Todd Olson",
           10,
           true,
           "person",
           "Todd Olson",
           "2022-08-05",
           "Full Time",
           [],
           "Crystal Ayers",
           "DevOps",
           "Senior Engineer",
           {
            "city": "Dublin",
            "country": "IRL",
            "tz": "UTC"
           },
           2,
           "Dublin",
           "UTC",
           "IRL"
          ],
          [
           "Katrina Crosby",
           10,
           true,
           "person",
           "Katrina Crosby",
           "2022-04-26",
           "Full Time",
           [
            "Java"
           ],
           "Crystal Ayers",
           "DevOps",
           "Senior Engineer",
           {
            "city": "Dublin",
            "country": "IRL",
            "tz": "UTC"
           },
           2,
           "Dublin",
           "UTC",
           "IRL"
          ],
          [
           "Jerome Lutz",
           10,
           true,
           "person",
           "Jerome Lutz",
           "2020-10-25",
           "Contract",
           [],
           "Crystal Ayers",
           "DevOps",
           "Senior Engineer",
           {
            "city": "Dublin",
            "country": "IRL",
            "tz": "UTC"
           },
           2,
           "Dublin",
           "UTC",
           "IRL"
          ],
          [
           "Crystal Ayers",
           10,
           true,
           "person",
           "Crystal Ayers",
           "2021-12-25",
           "Full Time",
           [
            "Python",
            "JavaScript"
           ],
           "Jordan Harper",
           "DevOps",
           "Manager",
           {
            "city": "Dublin",
            "country": "IRL",
            "tz": "UTC"
           },
           3,
           "Dublin",
           "UTC",
           "IRL"
          ],
          [
           "Heather Rojas",
           10,
           true,
           "person",
           "Heather Rojas",
           "2021-10-13",
           "Full Time",
           [
            "JavaScript",
            "Java"
           ],
           "Crystal Ayers",
           "DevOps",
           "Manager",
           {
            "city": "Dublin",
            "country": "IRL",
            "tz": "UTC"
           },
           3,
           "Dublin",
           "UTC",
           "IRL"
          ],
          [
           "Michael Mayo",
           10,
           true,
           "person",
           "Michael Mayo",
           "2022-05-29",
           "Full Time",
           [
            "Typescript",
            "Java"
           ],
           "Crystal Ayers",
           "DevOps",
           "Manager",
           {
            "city": "Dublin",
            "country": "IRL",
            "tz": "UTC"
           },
           3,
           "Dublin",
           "UTC",
           "IRL"
          ],
          [
           "Shelby Robinson",
           10,
           true,
           "person",
           "Shelby Robinson",
           "2022-05-27",
           "Part Time",
           [
            "Python",
            "JavaScript",
            "Scala"
           ],
           "Crystal Ayers",
           "DevOps",
           "Manager",
           {
            "city": "Dublin",
            "country": "IRL",
            "tz": "UTC"
           },
           3,
           "Dublin",
           "UTC",
           "IRL"
          ]
         ],
         "hovertemplate": "<b>%{hovertext}</b><br><br>team=%{customdata[9]}<br>x=%{x}<br>y=%{y}<br>rank=%{customdata[12]}<br>label=%{customdata[0]}<br>size=%{customdata[1]}<br>person=%{customdata[2]}<br>type=%{customdata[3]}<br>name=%{customdata[4]}<br>hire_date=%{customdata[5]}<br>status=%{customdata[6]}<br>languages=%{customdata[7]}<br>manager=%{customdata[8]}<br>title=%{customdata[10]}<br>location=%{customdata[11]}<br>city=%{customdata[13]}<br>tz=%{customdata[14]}<br>country=%{customdata[15]}<extra></extra>",
         "hovertext": [
          "Zachary Ibarra",
          "Jessica Robertson",
          "Kyle Ross",
          "Donna Baird",
          "Austin Alexander",
          "Pamela Austin",
          "Lauren Webb",
          "Todd Olson",
          "Katrina Crosby",
          "Jerome Lutz",
          "Crystal Ayers",
          "Heather Rojas",
          "Michael Mayo",
          "Shelby Robinson"
         ],
         "legendgroup": "DevOps",
         "marker": {
          "color": "#EF553B",
          "size": [
           1,
           1,
           1,
           1,
           1,
           1,
           2,
           2,
           2,
           2,
           3,
           3,
           3,
           3
          ],
          "sizemode": "area",
          "sizeref": 0.0175,
          "symbol": "circle"
         },
         "mode": "markers",
         "name": "DevOps",
         "orientation": "v",
         "showlegend": true,
         "type": "scatter",
         "x": [
          -0.13533460557348134,
          -0.16904040614403332,
          -0.1379488913848701,
          -0.10829539352494796,
          -0.0009763605120157182,
          0.04852006450025823,
          -0.07466882224752104,
          -0.20601727105687692,
          -0.18781948841951424,
          -0.17939169931913107,
          -0.08764454198469986,
          -0.04638755445005289,
          -0.12976196097091924,
          -0.05187316775767977
         ],
         "xaxis": "x",
         "y": [
          -0.21400798463315274,
          -0.17535650007858267,
          -0.47821650258227033,
          -0.6253274383513792,
          -0.5920656638475217,
          -0.5393766553785522,
          -0.14099036055460698,
          -0.4168539500995671,
          -0.4609412972784335,
          -0.37919777567635804,
          -0.3491202528683945,
          -0.5182502632545328,
          -0.43344425393367164,
          -0.42604635269222535
         ],
         "yaxis": "y"
        },
        {
         "customdata": [
          [
           "Jason James",
           10,
           true,
           "person",
           "Jason James",
           "2021-09-07",
           "Contract",
           [],
           "Lauren Berry",
           "Business",
           "Analyst",
           {
            "city": "London",
            "country": "GBR",
            "tz": "UTC"
           },
           1,
           "London",
           "UTC",
           "GBR"
          ],
          [
           "Robert Dorsey",
           10,
           true,
           "person",
           "Robert Dorsey",
           "2020-06-19",
           "Full Time",
           [
            "Python",
            "Typescript",
            "JavaScript",
            "Java"
           ],
           "Cathy Johnson",
           "Business",
           "Analyst",
           {
            "city": "New York",
            "country": "USA",
            "tz": "EST"
           },
           1,
           "New York",
           "EST",
           "USA"
          ],
          [
           "Andrea Williams",
           10,
           true,
           "person",
           "Andrea Williams",
           "2020-06-09",
           "Part Time",
           [
            "JavaScript",
            "Go"
           ],
           "Jordan Owens",
           "Business",
           "Analyst",
           {
            "city": "London",
            "country": "GBR",
            "tz": "UTC"
           },
           1,
           "London",
           "UTC",
           "GBR"
          ],
          [
           "Kevin Martin",
           10,
           true,
           "person",
           "Kevin Martin",
           "2022-09-26",
           "Full Time",
           [
            "Python",
            "JavaScript",
            "Java"
           ],
           "Jordan Owens",
           "Business",
           "Analyst",
           {
            "city": "London",
            "country": "GBR",
            "tz": "UTC"
           },
           1,
           "London",
           "UTC",
           "GBR"
          ],
          [
           "Sherry Thompson",
           10,
           true,
           "person",
           "Sherry Thompson",
           "2020-05-19",
           "Full Time",
           [],
           "Jordan Harper",
           "Business",
           "Associate",
           {
            "city": "London",
            "country": "GBR",
            "tz": "UTC"
           },
           2,
           "London",
           "UTC",
           "GBR"
          ],
          [
           "Katelyn Cross",
           10,
           true,
           "person",
           "Katelyn Cross",
           "2022-10-29",
           "Full Time",
           [],
           "Lauren Berry",
           "Business",
           "Associate",
           {
            "city": "New York",
            "country": "USA",
            "tz": "EST"
           },
           2,
           "New York",
           "EST",
           "USA"
          ],
          [
           "Rebekah Jackson",
           10,
           true,
           "person",
           "Rebekah Jackson",
           "2022-04-06",
           "Contract",
           [
            "Python"
           ],
           "Cathy Johnson",
           "Business",
           "Associate",
           {
            "city": "London",
            "country": "GBR",
            "tz": "UTC"
           },
           2,
           "London",
           "UTC",
           "GBR"
          ],
          [
           "Krista Brooks",
           10,
           true,
           "person",
           "Krista Brooks",
           "2022-01-23",
           "Full Time",
           [],
           "Cathy Johnson",
           "Business",
           "Associate",
           {
            "city": "New York",
            "country": "USA",
            "tz": "EST"
           },
           2,
           "New York",
           "EST",
           "USA"
          ],
          [
           "Theresa Parker",
           10,
           true,
           "person",
           "Theresa Parker",
           "2020-09-02",
           "Contract",
           [],
           "Cathy Johnson",
           "Business",
           "Associate",
           {
            "city": "New York",
            "country": "USA",
            "tz": "EST"
           },
           2,
           "New York",
           "EST",
           "USA"
          ],
          [
           "Teresa David",
           10,
           true,
           "person",
           "Teresa David",
           "2023-03-16",
           "Contract",
           [],
           "Cathy Johnson",
           "Business",
           "Associate",
           {
            "city": "London",
            "country": "GBR",
            "tz": "UTC"
           },
           2,
           "London",
           "UTC",
           "GBR"
          ],
          [
           "Tara Douglas",
           10,
           true,
           "person",
           "Tara Douglas",
           "2022-02-03",
           "Full Time",
           [
            "Python",
            "Go",
            "Java"
           ],
           "Steven Edwards",
           "Business",
           "Associate",
           {
            "city": "London",
            "country": "GBR",
            "tz": "UTC"
           },
           2,
           "London",
           "UTC",
           "GBR"
          ],
          [
           "Lisa Hoover",
           10,
           true,
           "person",
           "Lisa Hoover",
           "2021-11-06",
           "Contract",
           [],
           "Steven Edwards",
           "Business",
           "Associate",
           {
            "city": "Toronto",
            "country": "CAN",
            "tz": "EST"
           },
           2,
           "Toronto",
           "EST",
           "CAN"
          ],
          [
           "Mason Chase",
           10,
           true,
           "person",
           "Mason Chase",
           "2021-09-20",
           "Full Time",
           [
            "Java",
            "Python",
            "Typescript",
            "JavaScript",
            "Scala"
           ],
           "Christopher Griffin",
           "Business",
           "Vice President",
           {
            "city": "Toronto",
            "country": "CAN",
            "tz": "EST"
           },
           3,
           "Toronto",
           "EST",
           "CAN"
          ],
          [
           "Meagan Dyer",
           10,
           true,
           "person",
           "Meagan Dyer",
           "2020-07-28",
           "Contract",
           [
            "JavaScript"
           ],
           "Austin Wang",
           "Business",
           "Vice President",
           {
            "city": "New York",
            "country": "USA",
            "tz": "EST"
           },
           3,
           "New York",
           "EST",
           "USA"
          ],
          [
           "Lauren Berry",
           10,
           true,
           "person",
           "Lauren Berry",
           "2023-01-16",
           "Full Time",
           [],
           "Jordan Harper",
           "Business",
           "Director",
           {
            "city": "New York",
            "country": "USA",
            "tz": "EST"
           },
           4,
           "New York",
           "EST",
           "USA"
          ],
          [
           "Cathy Johnson",
           10,
           true,
           "person",
           "Cathy Johnson",
           "2023-01-16",
           "Contract",
           [
            "Typescript"
           ],
           "Lauren Berry",
           "Business",
           "Director",
           {
            "city": "New York",
            "country": "USA",
            "tz": "EST"
           },
           4,
           "New York",
           "EST",
           "USA"
          ],
          [
           "Adam Jackson",
           10,
           true,
           "person",
           "Adam Jackson",
           "2021-01-02",
           "Part Time",
           [],
           "Lauren Berry",
           "Business",
           "Director",
           {
            "city": "Toronto",
            "country": "CAN",
            "tz": "EST"
           },
           4,
           "Toronto",
           "EST",
           "CAN"
          ],
          [
           "Christopher Griffin",
           10,
           true,
           "person",
           "Christopher Griffin",
           "2022-07-26",
           "Contract",
           [
            "JavaScript",
            "Go",
            "Java"
           ],
           "Lauren Berry",
           "Business",
           "Director",
           {
            "city": "New York",
            "country": "USA",
            "tz": "EST"
           },
           4,
           "New York",
           "EST",
           "USA"
          ],
          [
           "Steven Edwards",
           10,
           true,
           "person",
           "Steven Edwards",
           "2021-08-18",
           "Full Time",
           [
            "Python",
            "JavaScript"
           ],
           "Lauren Berry",
           "Business",
           "Director",
           {
            "city": "London",
            "country": "GBR",
            "tz": "UTC"
           },
           4,
           "London",
           "UTC",
           "GBR"
          ],
          [
           "Christopher Smith",
           10,
           true,
           "person",
           "Christopher Smith",
           "2021-01-29",
           "Full Time",
           [
            "JavaScript",
            "Java"
           ],
           "Lauren Berry",
           "Business",
           "Director",
           {
            "city": "New York",
            "country": "USA",
            "tz": "EST"
           },
           4,
           "New York",
           "EST",
           "USA"
          ],
          [
           "Kevin Gonzalez",
           10,
           true,
           "person",
           "Kevin Gonzalez",
           "2021-03-03",
           "Contract",
           [],
           "Lauren Berry",
           "Business",
           "Director",
           {
            "city": "London",
            "country": "GBR",
            "tz": "UTC"
           },
           4,
           "London",
           "UTC",
           "GBR"
          ],
          [
           "Barbara Gomez",
           10,
           true,
           "person",
           "Barbara Gomez",
           "2022-07-17",
           "Full Time",
           [
            "Python",
            "JavaScript",
            "Scala"
           ],
           "Jordan Owens",
           "Business",
           "Director",
           {
            "city": "London",
            "country": "GBR",
            "tz": "UTC"
           },
           4,
           "London",
           "UTC",
           "GBR"
          ],
          [
           "Julia Chen",
           10,
           true,
           "person",
           "Julia Chen",
           "2021-02-28",
           "Full Time",
           [],
           "Austin Wang",
           "Business",
           "Director",
           {
            "city": "New York",
            "country": "USA",
            "tz": "EST"
           },
           4,
           "New York",
           "EST",
           "USA"
          ],
          [
           "Jordan Owens",
           10,
           true,
           "person",
           "Jordan Owens",
           "2022-08-13",
           "Contract",
           [
            "JavaScript"
           ],
           "Jordan Harper",
           "Business",
           "Managing Director",
           {
            "city": "New York",
            "country": "USA",
            "tz": "EST"
           },
           5,
           "New York",
           "EST",
           "USA"
          ],
          [
           "Terry Morrison",
           10,
           true,
           "person",
           "Terry Morrison",
           "2022-05-09",
           "Full Time",
           [
            "Typescript"
           ],
           "Jordan Owens",
           "Business",
           "Managing Director",
           {
            "city": "New York",
            "country": "USA",
            "tz": "EST"
           },
           5,
           "New York",
           "EST",
           "USA"
          ],
          [
           "Austin Wang",
           10,
           true,
           "person",
           "Austin Wang",
           "2020-12-30",
           "Full Time",
           [],
           "Jordan Owens",
           "Business",
           "Managing Director",
           {
            "city": "New York",
            "country": "USA",
            "tz": "EST"
           },
           5,
           "New York",
           "EST",
           "USA"
          ]
         ],
         "hovertemplate": "<b>%{hovertext}</b><br><br>team=%{customdata[9]}<br>x=%{x}<br>y=%{y}<br>rank=%{customdata[12]}<br>label=%{customdata[0]}<br>size=%{customdata[1]}<br>person=%{customdata[2]}<br>type=%{customdata[3]}<br>name=%{customdata[4]}<br>hire_date=%{customdata[5]}<br>status=%{customdata[6]}<br>languages=%{customdata[7]}<br>manager=%{customdata[8]}<br>title=%{customdata[10]}<br>location=%{customdata[11]}<br>city=%{customdata[13]}<br>tz=%{customdata[14]}<br>country=%{customdata[15]}<extra></extra>",
         "hovertext": [
          "Jason James",
          "Robert Dorsey",
          "Andrea Williams",
          "Kevin Martin",
          "Sherry Thompson",
          "Katelyn Cross",
          "Rebekah Jackson",
          "Krista Brooks",
          "Theresa Parker",
          "Teresa David",
          "Tara Douglas",
          "Lisa Hoover",
          "Mason Chase",
          "Meagan Dyer",
          "Lauren Berry",
          "Cathy Johnson",
          "Adam Jackson",
          "Christopher Griffin",
          "Steven Edwards",
          "Christopher Smith",
          "Kevin Gonzalez",
          "Barbara Gomez",
          "Julia Chen",
          "Jordan Owens",
          "Terry Morrison",
          "Austin Wang"
         ],
         "legendgroup": "Business",
         "marker": {
          "color": "#636efa",
          "size": [
           1,
           1,
           1,
           1,
           2,
           2,
           2,
           2,
           2,
           2,
           2,
           2,
           3,
           3,
           4,
           4,
           4,
           4,
           4,
           4,
           4,
           4,
           4,
           5,
           5,
           5
          ],
          "sizemode": "area",
          "sizeref": 0.0175,
          "symbol": "circle"
         },
         "mode": "markers",
         "name": "Business",
         "orientation": "v",
         "showlegend": true,
         "type": "scatter",
         "x": [
          0.5927937333481988,
          0.9727857623057351,
          0.38964734133673173,
          0.3908773948373128,
          0.08044974627682816,
          0.6303839358299795,
          0.9520746349581585,
          0.9643240295035702,
          0.9919761162657871,
          1,
          0.8559665236964753,
          0.8369009403609544,
          0.4098880444981627,
          0.6346401685716698,
          0.5082530558948165,
          0.8391839482914969,
          0.592107111000655,
          0.4802485179486141,
          0.7198524116682291,
          0.6244688977249222,
          0.6379967823120225,
          0.3383976770763625,
          0.6069914450868533,
          0.3013065331065137,
          0.41298553901303975,
          0.5002698798205593
         ],
         "xaxis": "x",
         "y": [
          -0.14723817821634358,
          -0.08399960030618073,
          -0.32191271331045085,
          -0.22822744591448052,
          0.007789708219365462,
          -0.04147070238106825,
          -0.21387872569868657,
          -0.15225250467180143,
          -0.18380394279190854,
          -0.12271525167924802,
          0.018476297971440497,
          0.06766488532651607,
          0.0920923139201752,
          -0.4259898071215515,
          -0.06875462274718812,
          -0.12672207698817944,
          -0.0057712291171223605,
          0.028741550792891077,
          0.0024056821199798005,
          -0.08655477138780472,
          -0.12841284222946805,
          -0.3274849725961024,
          -0.46605839246430164,
          -0.23746469319720262,
          -0.2766703803126058,
          -0.36729230194385754
         ],
         "yaxis": "y"
        }
       ],
       "layout": {
        "legend": {
         "itemsizing": "constant",
         "title": {
          "text": "team"
         },
         "tracegroupgap": 0
        },
        "margin": {
         "t": 60
        },
        "template": {
         "data": {
          "bar": [
           {
            "error_x": {
             "color": "#f2f5fa"
            },
            "error_y": {
             "color": "#f2f5fa"
            },
            "marker": {
             "line": {
              "color": "rgb(17,17,17)",
              "width": 0.5
             },
             "pattern": {
              "fillmode": "overlay",
              "size": 10,
              "solidity": 0.2
             }
            },
            "type": "bar"
           }
          ],
          "barpolar": [
           {
            "marker": {
             "line": {
              "color": "rgb(17,17,17)",
              "width": 0.5
             },
             "pattern": {
              "fillmode": "overlay",
              "size": 10,
              "solidity": 0.2
             }
            },
            "type": "barpolar"
           }
          ],
          "carpet": [
           {
            "aaxis": {
             "endlinecolor": "#A2B1C6",
             "gridcolor": "#506784",
             "linecolor": "#506784",
             "minorgridcolor": "#506784",
             "startlinecolor": "#A2B1C6"
            },
            "baxis": {
             "endlinecolor": "#A2B1C6",
             "gridcolor": "#506784",
             "linecolor": "#506784",
             "minorgridcolor": "#506784",
             "startlinecolor": "#A2B1C6"
            },
            "type": "carpet"
           }
          ],
          "choropleth": [
           {
            "colorbar": {
             "outlinewidth": 0,
             "ticks": ""
            },
            "type": "choropleth"
           }
          ],
          "contour": [
           {
            "colorbar": {
             "outlinewidth": 0,
             "ticks": ""
            },
            "colorscale": [
             [
              0,
              "#0d0887"
             ],
             [
              0.1111111111111111,
              "#46039f"
             ],
             [
              0.2222222222222222,
              "#7201a8"
             ],
             [
              0.3333333333333333,
              "#9c179e"
             ],
             [
              0.4444444444444444,
              "#bd3786"
             ],
             [
              0.5555555555555556,
              "#d8576b"
             ],
             [
              0.6666666666666666,
              "#ed7953"
             ],
             [
              0.7777777777777778,
              "#fb9f3a"
             ],
             [
              0.8888888888888888,
              "#fdca26"
             ],
             [
              1,
              "#f0f921"
             ]
            ],
            "type": "contour"
           }
          ],
          "contourcarpet": [
           {
            "colorbar": {
             "outlinewidth": 0,
             "ticks": ""
            },
            "type": "contourcarpet"
           }
          ],
          "heatmap": [
           {
            "colorbar": {
             "outlinewidth": 0,
             "ticks": ""
            },
            "colorscale": [
             [
              0,
              "#0d0887"
             ],
             [
              0.1111111111111111,
              "#46039f"
             ],
             [
              0.2222222222222222,
              "#7201a8"
             ],
             [
              0.3333333333333333,
              "#9c179e"
             ],
             [
              0.4444444444444444,
              "#bd3786"
             ],
             [
              0.5555555555555556,
              "#d8576b"
             ],
             [
              0.6666666666666666,
              "#ed7953"
             ],
             [
              0.7777777777777778,
              "#fb9f3a"
             ],
             [
              0.8888888888888888,
              "#fdca26"
             ],
             [
              1,
              "#f0f921"
             ]
            ],
            "type": "heatmap"
           }
          ],
          "heatmapgl": [
           {
            "colorbar": {
             "outlinewidth": 0,
             "ticks": ""
            },
            "colorscale": [
             [
              0,
              "#0d0887"
             ],
             [
              0.1111111111111111,
              "#46039f"
             ],
             [
              0.2222222222222222,
              "#7201a8"
             ],
             [
              0.3333333333333333,
              "#9c179e"
             ],
             [
              0.4444444444444444,
              "#bd3786"
             ],
             [
              0.5555555555555556,
              "#d8576b"
             ],
             [
              0.6666666666666666,
              "#ed7953"
             ],
             [
              0.7777777777777778,
              "#fb9f3a"
             ],
             [
              0.8888888888888888,
              "#fdca26"
             ],
             [
              1,
              "#f0f921"
             ]
            ],
            "type": "heatmapgl"
           }
          ],
          "histogram": [
           {
            "marker": {
             "pattern": {
              "fillmode": "overlay",
              "size": 10,
              "solidity": 0.2
             }
            },
            "type": "histogram"
           }
          ],
          "histogram2d": [
           {
            "colorbar": {
             "outlinewidth": 0,
             "ticks": ""
            },
            "colorscale": [
             [
              0,
              "#0d0887"
             ],
             [
              0.1111111111111111,
              "#46039f"
             ],
             [
              0.2222222222222222,
              "#7201a8"
             ],
             [
              0.3333333333333333,
              "#9c179e"
             ],
             [
              0.4444444444444444,
              "#bd3786"
             ],
             [
              0.5555555555555556,
              "#d8576b"
             ],
             [
              0.6666666666666666,
              "#ed7953"
             ],
             [
              0.7777777777777778,
              "#fb9f3a"
             ],
             [
              0.8888888888888888,
              "#fdca26"
             ],
             [
              1,
              "#f0f921"
             ]
            ],
            "type": "histogram2d"
           }
          ],
          "histogram2dcontour": [
           {
            "colorbar": {
             "outlinewidth": 0,
             "ticks": ""
            },
            "colorscale": [
             [
              0,
              "#0d0887"
             ],
             [
              0.1111111111111111,
              "#46039f"
             ],
             [
              0.2222222222222222,
              "#7201a8"
             ],
             [
              0.3333333333333333,
              "#9c179e"
             ],
             [
              0.4444444444444444,
              "#bd3786"
             ],
             [
              0.5555555555555556,
              "#d8576b"
             ],
             [
              0.6666666666666666,
              "#ed7953"
             ],
             [
              0.7777777777777778,
              "#fb9f3a"
             ],
             [
              0.8888888888888888,
              "#fdca26"
             ],
             [
              1,
              "#f0f921"
             ]
            ],
            "type": "histogram2dcontour"
           }
          ],
          "mesh3d": [
           {
            "colorbar": {
             "outlinewidth": 0,
             "ticks": ""
            },
            "type": "mesh3d"
           }
          ],
          "parcoords": [
           {
            "line": {
             "colorbar": {
              "outlinewidth": 0,
              "ticks": ""
             }
            },
            "type": "parcoords"
           }
          ],
          "pie": [
           {
            "automargin": true,
            "type": "pie"
           }
          ],
          "scatter": [
           {
            "marker": {
             "line": {
              "color": "#283442"
             }
            },
            "type": "scatter"
           }
          ],
          "scatter3d": [
           {
            "line": {
             "colorbar": {
              "outlinewidth": 0,
              "ticks": ""
             }
            },
            "marker": {
             "colorbar": {
              "outlinewidth": 0,
              "ticks": ""
             }
            },
            "type": "scatter3d"
           }
          ],
          "scattercarpet": [
           {
            "marker": {
             "colorbar": {
              "outlinewidth": 0,
              "ticks": ""
             }
            },
            "type": "scattercarpet"
           }
          ],
          "scattergeo": [
           {
            "marker": {
             "colorbar": {
              "outlinewidth": 0,
              "ticks": ""
             }
            },
            "type": "scattergeo"
           }
          ],
          "scattergl": [
           {
            "marker": {
             "line": {
              "color": "#283442"
             }
            },
            "type": "scattergl"
           }
          ],
          "scattermapbox": [
           {
            "marker": {
             "colorbar": {
              "outlinewidth": 0,
              "ticks": ""
             }
            },
            "type": "scattermapbox"
           }
          ],
          "scatterpolar": [
           {
            "marker": {
             "colorbar": {
              "outlinewidth": 0,
              "ticks": ""
             }
            },
            "type": "scatterpolar"
           }
          ],
          "scatterpolargl": [
           {
            "marker": {
             "colorbar": {
              "outlinewidth": 0,
              "ticks": ""
             }
            },
            "type": "scatterpolargl"
           }
          ],
          "scatterternary": [
           {
            "marker": {
             "colorbar": {
              "outlinewidth": 0,
              "ticks": ""
             }
            },
            "type": "scatterternary"
           }
          ],
          "surface": [
           {
            "colorbar": {
             "outlinewidth": 0,
             "ticks": ""
            },
            "colorscale": [
             [
              0,
              "#0d0887"
             ],
             [
              0.1111111111111111,
              "#46039f"
             ],
             [
              0.2222222222222222,
              "#7201a8"
             ],
             [
              0.3333333333333333,
              "#9c179e"
             ],
             [
              0.4444444444444444,
              "#bd3786"
             ],
             [
              0.5555555555555556,
              "#d8576b"
             ],
             [
              0.6666666666666666,
              "#ed7953"
             ],
             [
              0.7777777777777778,
              "#fb9f3a"
             ],
             [
              0.8888888888888888,
              "#fdca26"
             ],
             [
              1,
              "#f0f921"
             ]
            ],
            "type": "surface"
           }
          ],
          "table": [
           {
            "cells": {
             "fill": {
              "color": "#506784"
             },
             "line": {
              "color": "rgb(17,17,17)"
             }
            },
            "header": {
             "fill": {
              "color": "#2a3f5f"
             },
             "line": {
              "color": "rgb(17,17,17)"
             }
            },
            "type": "table"
           }
          ]
         },
         "layout": {
          "annotationdefaults": {
           "arrowcolor": "#f2f5fa",
           "arrowhead": 0,
           "arrowwidth": 1
          },
          "autotypenumbers": "strict",
          "coloraxis": {
           "colorbar": {
            "outlinewidth": 0,
            "ticks": ""
           }
          },
          "colorscale": {
           "diverging": [
            [
             0,
             "#8e0152"
            ],
            [
             0.1,
             "#c51b7d"
            ],
            [
             0.2,
             "#de77ae"
            ],
            [
             0.3,
             "#f1b6da"
            ],
            [
             0.4,
             "#fde0ef"
            ],
            [
             0.5,
             "#f7f7f7"
            ],
            [
             0.6,
             "#e6f5d0"
            ],
            [
             0.7,
             "#b8e186"
            ],
            [
             0.8,
             "#7fbc41"
            ],
            [
             0.9,
             "#4d9221"
            ],
            [
             1,
             "#276419"
            ]
           ],
           "sequential": [
            [
             0,
             "#0d0887"
            ],
            [
             0.1111111111111111,
             "#46039f"
            ],
            [
             0.2222222222222222,
             "#7201a8"
            ],
            [
             0.3333333333333333,
             "#9c179e"
            ],
            [
             0.4444444444444444,
             "#bd3786"
            ],
            [
             0.5555555555555556,
             "#d8576b"
            ],
            [
             0.6666666666666666,
             "#ed7953"
            ],
            [
             0.7777777777777778,
             "#fb9f3a"
            ],
            [
             0.8888888888888888,
             "#fdca26"
            ],
            [
             1,
             "#f0f921"
            ]
           ],
           "sequentialminus": [
            [
             0,
             "#0d0887"
            ],
            [
             0.1111111111111111,
             "#46039f"
            ],
            [
             0.2222222222222222,
             "#7201a8"
            ],
            [
             0.3333333333333333,
             "#9c179e"
            ],
            [
             0.4444444444444444,
             "#bd3786"
            ],
            [
             0.5555555555555556,
             "#d8576b"
            ],
            [
             0.6666666666666666,
             "#ed7953"
            ],
            [
             0.7777777777777778,
             "#fb9f3a"
            ],
            [
             0.8888888888888888,
             "#fdca26"
            ],
            [
             1,
             "#f0f921"
            ]
           ]
          },
          "colorway": [
           "#636efa",
           "#EF553B",
           "#00cc96",
           "#ab63fa",
           "#FFA15A",
           "#19d3f3",
           "#FF6692",
           "#B6E880",
           "#FF97FF",
           "#FECB52"
          ],
          "font": {
           "color": "#f2f5fa"
          },
          "geo": {
           "bgcolor": "rgb(17,17,17)",
           "lakecolor": "rgb(17,17,17)",
           "landcolor": "rgb(17,17,17)",
           "showlakes": true,
           "showland": true,
           "subunitcolor": "#506784"
          },
          "hoverlabel": {
           "align": "left"
          },
          "hovermode": "closest",
          "mapbox": {
           "style": "dark"
          },
          "paper_bgcolor": "rgb(17,17,17)",
          "plot_bgcolor": "rgb(17,17,17)",
          "polar": {
           "angularaxis": {
            "gridcolor": "#506784",
            "linecolor": "#506784",
            "ticks": ""
           },
           "bgcolor": "rgb(17,17,17)",
           "radialaxis": {
            "gridcolor": "#506784",
            "linecolor": "#506784",
            "ticks": ""
           }
          },
          "scene": {
           "xaxis": {
            "backgroundcolor": "rgb(17,17,17)",
            "gridcolor": "#506784",
            "gridwidth": 2,
            "linecolor": "#506784",
            "showbackground": true,
            "ticks": "",
            "zerolinecolor": "#C8D4E3"
           },
           "yaxis": {
            "backgroundcolor": "rgb(17,17,17)",
            "gridcolor": "#506784",
            "gridwidth": 2,
            "linecolor": "#506784",
            "showbackground": true,
            "ticks": "",
            "zerolinecolor": "#C8D4E3"
           },
           "zaxis": {
            "backgroundcolor": "rgb(17,17,17)",
            "gridcolor": "#506784",
            "gridwidth": 2,
            "linecolor": "#506784",
            "showbackground": true,
            "ticks": "",
            "zerolinecolor": "#C8D4E3"
           }
          },
          "shapedefaults": {
           "line": {
            "color": "#f2f5fa"
           }
          },
          "sliderdefaults": {
           "bgcolor": "#C8D4E3",
           "bordercolor": "rgb(17,17,17)",
           "borderwidth": 1,
           "tickwidth": 0
          },
          "ternary": {
           "aaxis": {
            "gridcolor": "#506784",
            "linecolor": "#506784",
            "ticks": ""
           },
           "baxis": {
            "gridcolor": "#506784",
            "linecolor": "#506784",
            "ticks": ""
           },
           "bgcolor": "rgb(17,17,17)",
           "caxis": {
            "gridcolor": "#506784",
            "linecolor": "#506784",
            "ticks": ""
           }
          },
          "title": {
           "x": 0.05
          },
          "updatemenudefaults": {
           "bgcolor": "#506784",
           "borderwidth": 0
          },
          "xaxis": {
           "automargin": true,
           "gridcolor": "#283442",
           "linecolor": "#506784",
           "ticks": "",
           "title": {
            "standoff": 15
           },
           "zerolinecolor": "#283442",
           "zerolinewidth": 2
          },
          "yaxis": {
           "automargin": true,
           "gridcolor": "#283442",
           "linecolor": "#506784",
           "ticks": "",
           "title": {
            "standoff": 15
           },
           "zerolinecolor": "#283442",
           "zerolinewidth": 2
          }
         }
        },
        "xaxis": {
         "visible": false
        },
        "yaxis": {
         "visible": false
        }
       }
      }
     },
     "metadata": {},
     "output_type": "display_data"
    }
   ],
   "source": [
    "px_plot_nx(\n",
    "    G,\n",
    "    color=\"team\",\n",
    "    layout=layout,\n",
    "    with_edges=False,\n",
    "    hover_name=\"name\",\n",
    "    size=\"rank\",\n",
    "    template=\"plotly_dark\",\n",
    ")  # ,text=\"label\")\n"
   ]
  },
  {
   "attachments": {},
   "cell_type": "markdown",
   "id": "7ebad718",
   "metadata": {},
   "source": [
    "## Pyvis\n",
    "\n",
    "Alas -- there is another way to visualize our `networkx` graph using `VisJS` (via `pyvis`)\n",
    "\n",
    "Unfortunately this doesn't work in VSCode! ... view the html file in a browser and you're cooking"
   ]
  },
  {
   "cell_type": "code",
   "execution_count": 113,
   "id": "9f25d90d",
   "metadata": {},
   "outputs": [
    {
     "name": "stdout",
     "output_type": "stream",
     "text": [
      "nx.html\n"
     ]
    }
   ],
   "source": [
    "from pyvis.network import Network\n",
    "nt = Network('500px', '500px', notebook=True, cdn_resources=\"in_line\", bgcolor=\"black\")\n",
    "# populates the nodes and edges data structures\n",
    "nt.from_nx(G)\n",
    "nt.show('nx.html');"
   ]
  },
  {
   "attachments": {},
   "cell_type": "markdown",
   "id": "3790d04a",
   "metadata": {},
   "source": [
    "`pyvis` will prettify your graph for you if you include attributes:\n",
    "* group: is this part of a group? It will be coloured as such\n",
    "* title: hover text\n",
    "* label: displayed under the node"
   ]
  },
  {
   "attachments": {},
   "cell_type": "markdown",
   "id": "78e831f9",
   "metadata": {},
   "source": [
    "We can adjust our current graph to render useful information "
   ]
  },
  {
   "cell_type": "code",
   "execution_count": 126,
   "id": "0441e44a",
   "metadata": {},
   "outputs": [
    {
     "name": "stdout",
     "output_type": "stream",
     "text": [
      "nx.html\n"
     ]
    }
   ],
   "source": [
    "H = G.copy()  # let's make a copy before mutating this\n",
    "# fix reserved names \n",
    "nx.set_node_attributes(H, {name: _title for name, _title in G.nodes(data=\"title\")}, \"_title\")\n",
    "nx.set_node_attributes(H, {name: _color for name, _color in G.nodes(data=\"name\")}, \"_name\")\n",
    "\n",
    "color = \"team\"\n",
    "title = \"city\"\n",
    "name = \"country\"\n",
    "nx.set_node_attributes(H, {name: color for name, color in G.nodes(data=color)}, \"group\")\n",
    "nx.set_node_attributes(H, {name: title for name, title in G.nodes(data=title)}, \"title\")\n",
    "nx.set_node_attributes(H, {name: name_ for name, name_ in G.nodes(data=name)}, \"label\")\n",
    "\n",
    "nt = Network('500px', '500px', notebook=True, cdn_resources=\"in_line\", bgcolor=\"black\")\n",
    "nt.from_nx(H)\n",
    "nt.show(\"nx.html\");\n"
   ]
  },
  {
   "attachments": {},
   "cell_type": "markdown",
   "id": "6837ed6a",
   "metadata": {},
   "source": [
    "Add a legend"
   ]
  },
  {
   "cell_type": "code",
   "execution_count": 150,
   "id": "772cf7be",
   "metadata": {},
   "outputs": [],
   "source": [
    "# Add Legend Nodes\n",
    "step = 75\n",
    "x = -500 * 2\n",
    "y = -500 * 2\n",
    "groups = set(group for _, group in H.nodes(data=\"group\"))\n",
    "legend_nodes = [\n",
    "    (\n",
    "        group, \n",
    "        {\n",
    "            'group': group, \n",
    "            'label': group,\n",
    "            'size': 50, \n",
    "            # 'fixed': True, # So that we can move the legend nodes around to arrange them better\n",
    "            'physics': False, \n",
    "            'x': x, \n",
    "            'y': f'{y + legend_node*step}px',\n",
    "            'shape': 'box', \n",
    "            #'widthConstraint': step, \n",
    "            'font': {'size': 30}\n",
    "        }\n",
    "    )\n",
    "    for legend_node, group in enumerate(groups)\n",
    "]\n",
    "H.add_nodes_from(legend_nodes)"
   ]
  },
  {
   "cell_type": "code",
   "execution_count": 151,
   "id": "cedb14b1",
   "metadata": {},
   "outputs": [
    {
     "name": "stdout",
     "output_type": "stream",
     "text": [
      "nx.html\n"
     ]
    }
   ],
   "source": [
    "nt = Network('500px', '500px', notebook=True, cdn_resources=\"in_line\", bgcolor=\"black\")\n",
    "nt.from_nx(H)\n",
    "nt.show(\"nx.html\");"
   ]
  },
  {
   "cell_type": "code",
   "execution_count": null,
   "id": "9d741535",
   "metadata": {},
   "outputs": [],
   "source": []
  }
 ],
 "metadata": {
  "jupytext": {
   "formats": "ipynb,py:percent"
  },
  "kernelspec": {
   "display_name": "peopleanalytics-hP1UcNMM",
   "language": "python",
   "name": "python3"
  },
  "language_info": {
   "codemirror_mode": {
    "name": "ipython",
    "version": 3
   },
   "file_extension": ".py",
   "mimetype": "text/x-python",
   "name": "python",
   "nbconvert_exporter": "python",
   "pygments_lexer": "ipython3",
   "version": "3.11.3"
  },
  "vscode": {
   "interpreter": {
    "hash": "a79ebb34bd880ae1609598d91f5437f974a2fc812a889a38194f0c3042249b1f"
   }
  }
 },
 "nbformat": 4,
 "nbformat_minor": 5
}
