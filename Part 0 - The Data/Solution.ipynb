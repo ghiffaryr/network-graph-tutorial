{
 "cells": [
  {
   "attachments": {},
   "cell_type": "markdown",
   "metadata": {},
   "source": [
    "# People\n",
    "\n",
    "What are they? How can we represent people in a meaningful way without having *real* data to draw from. In our organization we should have a few key pieces of information on each person:\n",
    "\n",
    "* Unique identifier (a name would be great)\n",
    "* Office/Location\n",
    "* Job Title\n",
    "* Team / Line of Business\n",
    "* Manager (this is key to understanding how reporting works)\n",
    "* Other info: programming languages, apps used, timezone, date hired, projects worked on, ...\n",
    "\n",
    "## Faker\n",
    "\n",
    "Let's generate some fake data! https://faker.readthedocs.io/en/master/"
   ]
  },
  {
   "cell_type": "code",
   "execution_count": 1,
   "metadata": {},
   "outputs": [
    {
     "data": {
      "text/plain": [
       "{'job': 'Ranger/warden',\n",
       " 'company': 'Morrison PLC',\n",
       " 'ssn': '186-48-7430',\n",
       " 'residence': 'Unit 9679 Box 6421\\nDPO AP 15759',\n",
       " 'current_location': (Decimal('-46.370797'), Decimal('-115.932445')),\n",
       " 'blood_group': 'AB-',\n",
       " 'website': ['https://www.arnold.com/',\n",
       "  'http://huynh-moore.biz/',\n",
       "  'https://chaney.biz/'],\n",
       " 'username': 'wallacekenneth',\n",
       " 'name': 'Patricia Glover',\n",
       " 'sex': 'F',\n",
       " 'address': '469 Williams Mews\\nWest Adamfort, AL 00970',\n",
       " 'mail': 'everettdaniel@yahoo.com',\n",
       " 'birthdate': datetime.date(1990, 5, 16)}"
      ]
     },
     "execution_count": 1,
     "metadata": {},
     "output_type": "execute_result"
    }
   ],
   "source": [
    "from faker import Faker\n",
    "fake = Faker()\n",
    "\n",
    "fake.profile() # lots of great stuff in here!"
   ]
  },
  {
   "attachments": {},
   "cell_type": "markdown",
   "metadata": {},
   "source": [
    "We can also do things like ensure uniqueness for individual entries across all entries"
   ]
  },
  {
   "cell_type": "code",
   "execution_count": 2,
   "metadata": {},
   "outputs": [
    {
     "name": "stdout",
     "output_type": "stream",
     "text": [
      "Mr.\n",
      "Mrs.\n",
      "Miss\n",
      "Dr.\n",
      "Mx.\n",
      "Ind.\n",
      "Misc.\n",
      "Ms.\n",
      "😟\n"
     ]
    }
   ],
   "source": [
    "from faker.exceptions import UniquenessException\n",
    "try:\n",
    "    for i in range(10):\n",
    "        print(fake.unique.prefix())\n",
    "except UniquenessException:\n",
    "    print(\"😟\")"
   ]
  },
  {
   "cell_type": "markdown",
   "metadata": {},
   "source": [
    "Try generating a few people and see if it looks like a good representation of our organization"
   ]
  },
  {
   "cell_type": "code",
   "execution_count": 3,
   "metadata": {},
   "outputs": [
    {
     "data": {
      "text/plain": [
       "Ellipsis"
      ]
     },
     "execution_count": 3,
     "metadata": {},
     "output_type": "execute_result"
    }
   ],
   "source": [
    "..."
   ]
  },
  {
   "cell_type": "markdown",
   "metadata": {},
   "source": [
    "This is a good start but ... it's kind of wonky. We have people all over the world with so many different jobs! Let's keep the spirit of this but implement some of our own limitations on fields to ensure things line up with what we'd expect a company org to look like\n"
   ]
  },
  {
   "attachments": {},
   "cell_type": "markdown",
   "metadata": {},
   "source": [
    "First, a few more interesting features: we can also register new `providers` if anything is missing. If needed these can be customized for different locales "
   ]
  },
  {
   "cell_type": "code",
   "execution_count": 4,
   "metadata": {},
   "outputs": [
    {
     "data": {
      "text/plain": [
       "'Full Time'"
      ]
     },
     "execution_count": 4,
     "metadata": {},
     "output_type": "execute_result"
    }
   ],
   "source": [
    "from faker.providers import DynamicProvider\n",
    "\n",
    "employment_status_provider = DynamicProvider(\n",
    "     provider_name=\"employment\",\n",
    "     elements=[\"Full Time\", \"Part Time\", \"Contract\"],\n",
    ")\n",
    "\n",
    "fake.add_provider(employment_status_provider)\n",
    "\n",
    "fake.employment()"
   ]
  },
  {
   "attachments": {},
   "cell_type": "markdown",
   "metadata": {},
   "source": [
    "We can customize this further by using the `Faker.BaseProvider`"
   ]
  },
  {
   "cell_type": "code",
   "execution_count": 5,
   "metadata": {},
   "outputs": [
    {
     "data": {
      "text/plain": [
       "'Contract'"
      ]
     },
     "execution_count": 5,
     "metadata": {},
     "output_type": "execute_result"
    }
   ],
   "source": [
    "# first, import a similar Provider or use the default one\n",
    "from more_itertools import one\n",
    "from faker.providers import BaseProvider\n",
    "\n",
    "# create new provider class\n",
    "class EmploymentStatus(BaseProvider):\n",
    "    statuses = {\"Full Time\": 0.7, \"Part Time\": 0.05, \"Contract\": 0.3}\n",
    "    def employment(self) -> str:\n",
    "        return one(fake.random.choices(\n",
    "            list(self.statuses), \n",
    "            weights=self.statuses.values()\n",
    "        ))\n",
    "\n",
    "# then add new provider to faker instance\n",
    "fake.add_provider(EmploymentStatus)\n",
    "\n",
    "fake.employment()\n"
   ]
  },
  {
   "attachments": {},
   "cell_type": "markdown",
   "metadata": {},
   "source": [
    "### A Tech Focused Person Data"
   ]
  },
  {
   "attachments": {},
   "cell_type": "markdown",
   "metadata": {},
   "source": [
    "To ground us in this task, let's define a new `Person` object that we can fill up with info (and a few other objects):"
   ]
  },
  {
   "cell_type": "code",
   "execution_count": 6,
   "metadata": {},
   "outputs": [],
   "source": [
    "from dataclasses import dataclass, field\n",
    "from typing import Literal\n",
    "from enum import Enum, auto\n",
    "import datetime\n",
    "\n",
    "class timezone(str, Enum):\n",
    "    EST = auto()\n",
    "    PST = auto()\n",
    "    UTC = auto()\n",
    "\n",
    "@dataclass\n",
    "class Location:\n",
    "    city: str\n",
    "    tz: timezone\n",
    "    country: str\n",
    "\n",
    "@dataclass\n",
    "class Person:\n",
    "    \"\"\"Someone who works in our company!\"\"\"\n",
    "    name: str\n",
    "    hire_date: datetime.date\n",
    "    status: Literal[\"Full Time\", \"Part Time\", \"Contract\"]\n",
    "    languages: list[str] = field(default_factory=list)\n",
    "    manager:str = None\n",
    "    team: str = None \n",
    "    title: str = None\n",
    "    location: Location = None"
   ]
  },
  {
   "cell_type": "code",
   "execution_count": 7,
   "metadata": {},
   "outputs": [
    {
     "data": {
      "text/plain": [
       "Person(name='Employee #1', hire_date=datetime.date(2023, 10, 29), status='Full Time', languages=[], manager=None, team=None, title=None, location=Location(city='New York', tz='EST', country='USA'))"
      ]
     },
     "execution_count": 7,
     "metadata": {},
     "output_type": "execute_result"
    }
   ],
   "source": [
    "Person(name=\"Employee #1\",hire_date=datetime.date.today(), status=\"Full Time\", location=Location(\"New York\", \"EST\", \"USA\"))"
   ]
  },
  {
   "cell_type": "code",
   "execution_count": 8,
   "metadata": {},
   "outputs": [],
   "source": [
    "import numpy as np\n",
    "import random\n",
    "\n",
    "def choose_a_few(\n",
    "    options: list[str],\n",
    "    weights: list[int | float] = None,\n",
    "    max_choices: int = None,\n",
    "    min_choices: int = 0,\n",
    ") -> list[str]:\n",
    "    \"\"\"A helpful function to pick a random number of choices from a list of options\n",
    "    \n",
    "    By default skews the weights toward the first options in the list\"\"\"\n",
    "    max_choices = np.clip(max_choices or len(options), min_choices, len(options))\n",
    "    \n",
    "    # how many choices will we make this time?\n",
    "    divisor = max_choices * (max_choices + 1) / 2    \n",
    "    k_weights = [int(x) / divisor for x in range(max_choices, min_choices-1, -1)]\n",
    "    n_choices = np.random.choice(list(range(min_choices,max_choices+1)), p=k_weights)\n",
    "    \n",
    "    # make the choices\n",
    "    choices = random.choices(options, weights=weights, k=n_choices)\n",
    "    return list(set(choices))\n"
   ]
  },
  {
   "attachments": {},
   "cell_type": "markdown",
   "metadata": {},
   "source": [
    "Now to make some people. Let's re-use whatever we can from `Faker` and then add some more of our own fields. We can also extend where needed to keep our code clear and consistent:"
   ]
  },
  {
   "cell_type": "code",
   "execution_count": 9,
   "metadata": {},
   "outputs": [],
   "source": [
    "class ProgrammingLanguages(BaseProvider):    \n",
    "    languages = {\n",
    "        \"Python\": 0.25,\n",
    "        \"Scala\": 0.1,\n",
    "        \"Go\": 0.08,\n",
    "        \"JavaScript\": 0.3,\n",
    "        \"Java\": 0.3,\n",
    "        \"Typescript\": 0.17,\n",
    "        \"Erlang\": 0.01,\n",
    "        \"Elixir\": 0.001,\n",
    "    }\n",
    "    def programming_languages(self) -> str:\n",
    "        return choose_a_few(list(self.languages), weights=self.languages.values())\n",
    "\n",
    "fake.add_provider(ProgrammingLanguages)\n"
   ]
  },
  {
   "cell_type": "code",
   "execution_count": 10,
   "metadata": {},
   "outputs": [
    {
     "data": {
      "text/plain": [
       "Person(name='David Davis', hire_date=datetime.date(2022, 9, 18), status='Full Time', languages=['Scala'], manager=None, team=None, title=None, location=None)"
      ]
     },
     "execution_count": 10,
     "metadata": {},
     "output_type": "execute_result"
    }
   ],
   "source": [
    "def make_person() -> Person:\n",
    "    return Person(\n",
    "        name = fake.name(),\n",
    "        hire_date = fake.date_between(start_date=\"-3y\", end_date=\"today\"),\n",
    "        status = fake.employment(),\n",
    "        languages = fake.programming_languages(),\n",
    "        team = None, # hrmmmm this is harder\n",
    "        title = None, # let's be smarter with this\n",
    "        location = None, # let's also be smarter with this\n",
    "    )\n",
    "\n",
    "make_person()"
   ]
  },
  {
   "attachments": {},
   "cell_type": "markdown",
   "metadata": {},
   "source": [
    "Now we can generate more complex attributes in a smart way. Let's set up some rules about where offices are, what teams are in which offices, then pick titles based on other info (e.g. Developers probably know at least one language ... )"
   ]
  },
  {
   "cell_type": "code",
   "execution_count": 11,
   "metadata": {},
   "outputs": [
    {
     "data": {
      "text/plain": [
       "{'location': Location(city='Seattle', tz='PST', country='USA'),\n",
       " 'title': 'Engineer',\n",
       " 'team': 'Platform'}"
      ]
     },
     "execution_count": 11,
     "metadata": {},
     "output_type": "execute_result"
    }
   ],
   "source": [
    "TEAM_TITLES:dict[str,list[str]] = {\n",
    "    \"DevX\": [\"Engineer\", \"Engineer\", \"Engineer\", \"Engineer\", \"Engineer\", \"AVP\"],\n",
    "    \"DevOps\": [\"Engineer\", \"Senior Engineer\", \"Manager\", \"Senior Manager\"],\n",
    "    \"Sales\": [\"Associate\", \"VP\"],\n",
    "    \"Support\": [\"Analyst\", \"Manager\"],\n",
    "    \"Platform\": [\"Engineer\", \"Senior Engineer\",\"Managing Engineer\", \"AVP\", \"VP\"],\n",
    "    \"Product\": [\"Engineer\", \"Manager\", \"Product Owner\", \"AVP\", \"VP\"],\n",
    "    \"Internal Tools\": [\"Engineer\", \"Senior Engineer\", \"Manager\", \"AVP\", \"VP\"],\n",
    "    \"Business\": [\"Analyst\", \"Associate\", \"Vice President\", \"Director\", \"Managing Director\"]\n",
    "}\n",
    "\n",
    "# codify the hierarchical structure\n",
    "allowed_teams_per_office = {\n",
    "    \"New York\": [\"Sales\", \"Product\", \"Business\"],\n",
    "    \"Toronto\": [\"Platform\", \"Product\", \"Internal Tools\", \"Sales\", \"Business\"],\n",
    "    \"Fort Lauderdale\": [\"DevX\"],\n",
    "    \"Dublin\": [\"DevOps\", \"Support\"],\n",
    "    \"London\": [\"Sales\", \"Business\"],\n",
    "    \"Seattle\": [\"Internal Tools\", \"Product\", \"Platform\"],\n",
    "}\n",
    "offices = {\n",
    "    location.city: location\n",
    "    for location in [\n",
    "        Location(\"New York\", tz=\"EST\", country=\"USA\"),\n",
    "        Location(\"Seattle\", tz=\"PST\", country=\"USA\"),\n",
    "        Location(\"Toronto\", tz=\"EST\", country=\"CAN\"),\n",
    "        Location(\"London\", tz=\"UTC\", country=\"GBR\"),\n",
    "        Location(\"Fort Lauderdale\", tz=\"EST\", country=\"USA\"),\n",
    "        Location(\"Dublin\", tz=\"UTC\", country=\"IRL\"),\n",
    "    ]\n",
    "}\n",
    "\n",
    "def title_city_team():\n",
    "    # just a few locations\n",
    "    allowed_titles_per_team = TEAM_TITLES\n",
    "    city = random.choice(list(offices))\n",
    "    team = random.choice(allowed_teams_per_office[city])\n",
    "    title = choose_a_few(\n",
    "        allowed_titles_per_team[team], max_choices=1, min_choices=1\n",
    "    ).pop()\n",
    "    \n",
    "    return {\n",
    "        \"location\": Location(city=city, tz=offices[city].tz, country=offices[city].country),\n",
    "        \"title\": title,\n",
    "        \"team\": team,\n",
    "    }\n",
    "\n",
    "\n",
    "title_city_team()\n"
   ]
  },
  {
   "attachments": {},
   "cell_type": "markdown",
   "metadata": {},
   "source": [
    "After running this we should have a better balanced org in terms of region + titles. Then we just need to add the connections in -- i.e. who's the boss?!"
   ]
  },
  {
   "cell_type": "code",
   "execution_count": 12,
   "metadata": {},
   "outputs": [],
   "source": [
    "def make_person() -> Person:\n",
    "    title_city_team_ = title_city_team()\n",
    "    technical = 1 if \"Engineer\" in title_city_team_[\"title\"] else 0\n",
    "    return Person(\n",
    "        name = fake.name(),\n",
    "        hire_date = fake.date_between(start_date=\"-3y\", end_date=\"today\").strftime(\"%Y%m%d\"),\n",
    "        status = fake.employment(),\n",
    "        languages = fake.programming_languages(),\n",
    "        **title_city_team_,\n",
    "    )\n"
   ]
  },
  {
   "cell_type": "code",
   "execution_count": 13,
   "metadata": {},
   "outputs": [
    {
     "data": {
      "text/html": [
       "<div>\n",
       "<style scoped>\n",
       "    .dataframe tbody tr th:only-of-type {\n",
       "        vertical-align: middle;\n",
       "    }\n",
       "\n",
       "    .dataframe tbody tr th {\n",
       "        vertical-align: top;\n",
       "    }\n",
       "\n",
       "    .dataframe thead th {\n",
       "        text-align: right;\n",
       "    }\n",
       "</style>\n",
       "<table border=\"1\" class=\"dataframe\">\n",
       "  <thead>\n",
       "    <tr style=\"text-align: right;\">\n",
       "      <th></th>\n",
       "      <th>name</th>\n",
       "      <th>hire_date</th>\n",
       "      <th>status</th>\n",
       "      <th>languages</th>\n",
       "      <th>manager</th>\n",
       "      <th>team</th>\n",
       "      <th>title</th>\n",
       "      <th>location</th>\n",
       "    </tr>\n",
       "  </thead>\n",
       "  <tbody>\n",
       "    <tr>\n",
       "      <th>0</th>\n",
       "      <td>Mr. Todd Burke</td>\n",
       "      <td>20230624</td>\n",
       "      <td>Full Time</td>\n",
       "      <td>[Python]</td>\n",
       "      <td>None</td>\n",
       "      <td>Support</td>\n",
       "      <td>Manager</td>\n",
       "      <td>{'city': 'Dublin', 'tz': 'UTC', 'country': 'IRL'}</td>\n",
       "    </tr>\n",
       "    <tr>\n",
       "      <th>1</th>\n",
       "      <td>Russell Peterson</td>\n",
       "      <td>20201230</td>\n",
       "      <td>Full Time</td>\n",
       "      <td>[JavaScript, Python]</td>\n",
       "      <td>None</td>\n",
       "      <td>Support</td>\n",
       "      <td>Analyst</td>\n",
       "      <td>{'city': 'Dublin', 'tz': 'UTC', 'country': 'IRL'}</td>\n",
       "    </tr>\n",
       "    <tr>\n",
       "      <th>2</th>\n",
       "      <td>Sonya Smith</td>\n",
       "      <td>20210909</td>\n",
       "      <td>Contract</td>\n",
       "      <td>[]</td>\n",
       "      <td>None</td>\n",
       "      <td>DevX</td>\n",
       "      <td>Engineer</td>\n",
       "      <td>{'city': 'Fort Lauderdale', 'tz': 'EST', 'coun...</td>\n",
       "    </tr>\n",
       "    <tr>\n",
       "      <th>3</th>\n",
       "      <td>Heather Figueroa</td>\n",
       "      <td>20220728</td>\n",
       "      <td>Full Time</td>\n",
       "      <td>[Java, Typescript, Python, Scala, JavaScript]</td>\n",
       "      <td>None</td>\n",
       "      <td>Support</td>\n",
       "      <td>Analyst</td>\n",
       "      <td>{'city': 'Dublin', 'tz': 'UTC', 'country': 'IRL'}</td>\n",
       "    </tr>\n",
       "    <tr>\n",
       "      <th>4</th>\n",
       "      <td>Melissa Gibbs</td>\n",
       "      <td>20230829</td>\n",
       "      <td>Full Time</td>\n",
       "      <td>[Java, JavaScript, Python]</td>\n",
       "      <td>None</td>\n",
       "      <td>Support</td>\n",
       "      <td>Analyst</td>\n",
       "      <td>{'city': 'Dublin', 'tz': 'UTC', 'country': 'IRL'}</td>\n",
       "    </tr>\n",
       "  </tbody>\n",
       "</table>\n",
       "</div>"
      ],
      "text/plain": [
       "               name hire_date     status  \\\n",
       "0    Mr. Todd Burke  20230624  Full Time   \n",
       "1  Russell Peterson  20201230  Full Time   \n",
       "2       Sonya Smith  20210909   Contract   \n",
       "3  Heather Figueroa  20220728  Full Time   \n",
       "4     Melissa Gibbs  20230829  Full Time   \n",
       "\n",
       "                                       languages manager     team     title  \\\n",
       "0                                       [Python]    None  Support   Manager   \n",
       "1                           [JavaScript, Python]    None  Support   Analyst   \n",
       "2                                             []    None     DevX  Engineer   \n",
       "3  [Java, Typescript, Python, Scala, JavaScript]    None  Support   Analyst   \n",
       "4                     [Java, JavaScript, Python]    None  Support   Analyst   \n",
       "\n",
       "                                            location  \n",
       "0  {'city': 'Dublin', 'tz': 'UTC', 'country': 'IRL'}  \n",
       "1  {'city': 'Dublin', 'tz': 'UTC', 'country': 'IRL'}  \n",
       "2  {'city': 'Fort Lauderdale', 'tz': 'EST', 'coun...  \n",
       "3  {'city': 'Dublin', 'tz': 'UTC', 'country': 'IRL'}  \n",
       "4  {'city': 'Dublin', 'tz': 'UTC', 'country': 'IRL'}  "
      ]
     },
     "execution_count": 13,
     "metadata": {},
     "output_type": "execute_result"
    }
   ],
   "source": [
    "import pandas as pd\n",
    "people_df = pd.DataFrame((make_person() for _ in range(150)))\n",
    "people_df.head()"
   ]
  },
  {
   "attachments": {},
   "cell_type": "markdown",
   "metadata": {},
   "source": [
    "So, let's group by Team and then pick a manager for everyone. Let's use these rules:\n",
    "\n",
    "* People report to someone of a higher title if possible, else to a peer\n",
    "* Reporting happens within a team\n",
    "* We already ordered `TEAM_TITLES` based on *rank*\n",
    "* Team leads should be listed as reporting to themselves (for now)"
   ]
  },
  {
   "cell_type": "code",
   "execution_count": 14,
   "metadata": {},
   "outputs": [
    {
     "data": {
      "text/html": [
       "<div>\n",
       "<style scoped>\n",
       "    .dataframe tbody tr th:only-of-type {\n",
       "        vertical-align: middle;\n",
       "    }\n",
       "\n",
       "    .dataframe tbody tr th {\n",
       "        vertical-align: top;\n",
       "    }\n",
       "\n",
       "    .dataframe thead th {\n",
       "        text-align: right;\n",
       "    }\n",
       "</style>\n",
       "<table border=\"1\" class=\"dataframe\">\n",
       "  <thead>\n",
       "    <tr style=\"text-align: right;\">\n",
       "      <th></th>\n",
       "      <th>name</th>\n",
       "      <th>hire_date</th>\n",
       "      <th>status</th>\n",
       "      <th>languages</th>\n",
       "      <th>manager</th>\n",
       "      <th>team</th>\n",
       "      <th>title</th>\n",
       "      <th>location</th>\n",
       "      <th>rank</th>\n",
       "    </tr>\n",
       "  </thead>\n",
       "  <tbody>\n",
       "    <tr>\n",
       "      <th>124</th>\n",
       "      <td>Rose Williams</td>\n",
       "      <td>20201216</td>\n",
       "      <td>Contract</td>\n",
       "      <td>[Scala, JavaScript, Python]</td>\n",
       "      <td>None</td>\n",
       "      <td>Product</td>\n",
       "      <td>Product Owner</td>\n",
       "      <td>{'city': 'Toronto', 'tz': 'EST', 'country': 'C...</td>\n",
       "      <td>3.0</td>\n",
       "    </tr>\n",
       "    <tr>\n",
       "      <th>58</th>\n",
       "      <td>Stephanie Barnes</td>\n",
       "      <td>20230728</td>\n",
       "      <td>Contract</td>\n",
       "      <td>[Java, JavaScript, Python, Typescript]</td>\n",
       "      <td>None</td>\n",
       "      <td>Business</td>\n",
       "      <td>Director</td>\n",
       "      <td>{'city': 'London', 'tz': 'UTC', 'country': 'GBR'}</td>\n",
       "      <td>4.0</td>\n",
       "    </tr>\n",
       "    <tr>\n",
       "      <th>94</th>\n",
       "      <td>Danielle Cochran</td>\n",
       "      <td>20210921</td>\n",
       "      <td>Full Time</td>\n",
       "      <td>[Scala, Java, JavaScript]</td>\n",
       "      <td>None</td>\n",
       "      <td>DevX</td>\n",
       "      <td>AVP</td>\n",
       "      <td>{'city': 'Fort Lauderdale', 'tz': 'EST', 'coun...</td>\n",
       "      <td>6.0</td>\n",
       "    </tr>\n",
       "  </tbody>\n",
       "</table>\n",
       "</div>"
      ],
      "text/plain": [
       "                 name hire_date     status  \\\n",
       "124     Rose Williams  20201216   Contract   \n",
       "58   Stephanie Barnes  20230728   Contract   \n",
       "94   Danielle Cochran  20210921  Full Time   \n",
       "\n",
       "                                  languages manager      team          title  \\\n",
       "124             [Scala, JavaScript, Python]    None   Product  Product Owner   \n",
       "58   [Java, JavaScript, Python, Typescript]    None  Business       Director   \n",
       "94                [Scala, Java, JavaScript]    None      DevX            AVP   \n",
       "\n",
       "                                              location  rank  \n",
       "124  {'city': 'Toronto', 'tz': 'EST', 'country': 'C...   3.0  \n",
       "58   {'city': 'London', 'tz': 'UTC', 'country': 'GBR'}   4.0  \n",
       "94   {'city': 'Fort Lauderdale', 'tz': 'EST', 'coun...   6.0  "
      ]
     },
     "execution_count": 14,
     "metadata": {},
     "output_type": "execute_result"
    }
   ],
   "source": [
    "# calculate team ranks\n",
    "ranks = {team: {title: rank + 1 for rank,title in enumerate(titles)} for team, titles in TEAM_TITLES.items()}\n",
    "for team in ranks:\n",
    "    people_df.loc[people_df.team==team, \"rank\"] = people_df.loc[people_df.team==team].title.map(ranks[team])\n",
    "people_df = people_df.sort_values(by=[\"team\",\"rank\"])\n",
    "people_df.sample(3)"
   ]
  },
  {
   "cell_type": "code",
   "execution_count": 15,
   "metadata": {},
   "outputs": [
    {
     "data": {
      "text/html": [
       "<div>\n",
       "<style scoped>\n",
       "    .dataframe tbody tr th:only-of-type {\n",
       "        vertical-align: middle;\n",
       "    }\n",
       "\n",
       "    .dataframe tbody tr th {\n",
       "        vertical-align: top;\n",
       "    }\n",
       "\n",
       "    .dataframe thead th {\n",
       "        text-align: right;\n",
       "    }\n",
       "</style>\n",
       "<table border=\"1\" class=\"dataframe\">\n",
       "  <thead>\n",
       "    <tr style=\"text-align: right;\">\n",
       "      <th></th>\n",
       "      <th>name</th>\n",
       "      <th>hire_date</th>\n",
       "      <th>status</th>\n",
       "      <th>languages</th>\n",
       "      <th>manager</th>\n",
       "      <th>team</th>\n",
       "      <th>title</th>\n",
       "      <th>location</th>\n",
       "      <th>rank</th>\n",
       "    </tr>\n",
       "  </thead>\n",
       "  <tbody>\n",
       "    <tr>\n",
       "      <th>57</th>\n",
       "      <td>Lisa Ballard</td>\n",
       "      <td>20231002</td>\n",
       "      <td>Full Time</td>\n",
       "      <td>[JavaScript, Typescript]</td>\n",
       "      <td>Melissa Brown</td>\n",
       "      <td>DevX</td>\n",
       "      <td>Engineer</td>\n",
       "      <td>{'city': 'Fort Lauderdale', 'tz': 'EST', 'coun...</td>\n",
       "      <td>5.0</td>\n",
       "    </tr>\n",
       "    <tr>\n",
       "      <th>137</th>\n",
       "      <td>Pamela Ramirez</td>\n",
       "      <td>20230213</td>\n",
       "      <td>Full Time</td>\n",
       "      <td>[Scala, Java, Typescript]</td>\n",
       "      <td>Ryan Hayes</td>\n",
       "      <td>Support</td>\n",
       "      <td>Analyst</td>\n",
       "      <td>{'city': 'Dublin', 'tz': 'UTC', 'country': 'IRL'}</td>\n",
       "      <td>1.0</td>\n",
       "    </tr>\n",
       "    <tr>\n",
       "      <th>13</th>\n",
       "      <td>Austin Freeman</td>\n",
       "      <td>20210302</td>\n",
       "      <td>Full Time</td>\n",
       "      <td>[Java]</td>\n",
       "      <td>Bradley Williamson</td>\n",
       "      <td>Business</td>\n",
       "      <td>Vice President</td>\n",
       "      <td>{'city': 'Toronto', 'tz': 'EST', 'country': 'C...</td>\n",
       "      <td>3.0</td>\n",
       "    </tr>\n",
       "    <tr>\n",
       "      <th>100</th>\n",
       "      <td>Brian Rogers</td>\n",
       "      <td>20220801</td>\n",
       "      <td>Contract</td>\n",
       "      <td>[]</td>\n",
       "      <td>Cindy Wallace</td>\n",
       "      <td>Product</td>\n",
       "      <td>Product Owner</td>\n",
       "      <td>{'city': 'New York', 'tz': 'EST', 'country': '...</td>\n",
       "      <td>3.0</td>\n",
       "    </tr>\n",
       "    <tr>\n",
       "      <th>92</th>\n",
       "      <td>Edward Leon Jr.</td>\n",
       "      <td>20220114</td>\n",
       "      <td>Full Time</td>\n",
       "      <td>[]</td>\n",
       "      <td>Cindy Wallace</td>\n",
       "      <td>Product</td>\n",
       "      <td>Engineer</td>\n",
       "      <td>{'city': 'Seattle', 'tz': 'PST', 'country': 'U...</td>\n",
       "      <td>1.0</td>\n",
       "    </tr>\n",
       "  </tbody>\n",
       "</table>\n",
       "</div>"
      ],
      "text/plain": [
       "                name hire_date     status                  languages  \\\n",
       "57      Lisa Ballard  20231002  Full Time   [JavaScript, Typescript]   \n",
       "137   Pamela Ramirez  20230213  Full Time  [Scala, Java, Typescript]   \n",
       "13    Austin Freeman  20210302  Full Time                     [Java]   \n",
       "100     Brian Rogers  20220801   Contract                         []   \n",
       "92   Edward Leon Jr.  20220114  Full Time                         []   \n",
       "\n",
       "                manager      team           title  \\\n",
       "57        Melissa Brown      DevX        Engineer   \n",
       "137          Ryan Hayes   Support         Analyst   \n",
       "13   Bradley Williamson  Business  Vice President   \n",
       "100       Cindy Wallace   Product   Product Owner   \n",
       "92        Cindy Wallace   Product        Engineer   \n",
       "\n",
       "                                              location  rank  \n",
       "57   {'city': 'Fort Lauderdale', 'tz': 'EST', 'coun...   5.0  \n",
       "137  {'city': 'Dublin', 'tz': 'UTC', 'country': 'IRL'}   1.0  \n",
       "13   {'city': 'Toronto', 'tz': 'EST', 'country': 'C...   3.0  \n",
       "100  {'city': 'New York', 'tz': 'EST', 'country': '...   3.0  \n",
       "92   {'city': 'Seattle', 'tz': 'PST', 'country': 'U...   1.0  "
      ]
     },
     "execution_count": 15,
     "metadata": {},
     "output_type": "execute_result"
    }
   ],
   "source": [
    "# determine supervisor\n",
    "def naivereportsto(row, df, allow_peer_reports:bool=False):\n",
    "    supervisor = (\n",
    "        df[(df.index < row.name)].query(f\"\"\"rank > {row[\"rank\"]}\"\"\").tail(1)[\"name\"]\n",
    "    )\n",
    "    supervisor = supervisor.item() if not supervisor.empty else None\n",
    "    if not supervisor and allow_peer_reports:\n",
    "        peer = df[(df.index < row.name)].query(f\"\"\"rank  == {row[\"rank\"]}\"\"\").head(1)[\"name\"]\n",
    "        peer = peer.item() if not peer.empty else None\n",
    "        return supervisor or peer or row[\"name\"]\n",
    "    return supervisor or row[\"name\"]\n",
    "\n",
    "\n",
    "def reportsto(df, allow_peer_reports:bool):\n",
    "    return df.assign(manager=df.apply(naivereportsto, df=df, allow_peer_reports=allow_peer_reports, axis=1))\n",
    "\n",
    "\n",
    "def supervisors(df, allow_peer_reports:bool):\n",
    "    df = df.groupby(\"team\", group_keys=False).apply(reportsto, allow_peer_reports=allow_peer_reports).reset_index(drop=True)\n",
    "    return df\n",
    "\n",
    "\n",
    "people_df = people_df.pipe(supervisors, allow_peer_reports=True)\n",
    "people_df.sample(5)\n"
   ]
  },
  {
   "attachments": {},
   "cell_type": "markdown",
   "metadata": {},
   "source": [
    "Now we just need a CEO for all the team leads to report to. Set their manager as themselves to help us out later. We need to make sure to include all the other information in the DF that we just generated, namely `rank` and `manager`. Here let's also set the CEO as reporting to themselves "
   ]
  },
  {
   "cell_type": "code",
   "execution_count": 16,
   "metadata": {},
   "outputs": [],
   "source": [
    "CEO = make_person().__dict__ | {\"team\":\"CEO\", \"title\":\"CEO\", \"status\":\"Full Time\"}\n",
    "CEO[\"location\"] = CEO[\"location\"].__dict__\n",
    "people_df = pd.concat([people_df, pd.DataFrame([CEO])])\n",
    "CEO_mask = people_df.name==CEO[\"name\"]\n",
    "people_df.loc[(people_df.manager == people_df.name) | CEO_mask ,\"manager\"]=CEO[\"name\"]\n",
    "people_df.loc[CEO_mask, \"rank\"] = people_df[\"rank\"].max()+1"
   ]
  },
  {
   "attachments": {},
   "cell_type": "markdown",
   "metadata": {},
   "source": [
    "Alright, we have something now. Does this seems reasonably distributed? Let's use `plotly` to explore our people's dimensions and get a feel for the data"
   ]
  },
  {
   "cell_type": "code",
   "execution_count": 17,
   "metadata": {},
   "outputs": [
    {
     "data": {
      "text/html": [
       "<div>\n",
       "<style scoped>\n",
       "    .dataframe tbody tr th:only-of-type {\n",
       "        vertical-align: middle;\n",
       "    }\n",
       "\n",
       "    .dataframe tbody tr th {\n",
       "        vertical-align: top;\n",
       "    }\n",
       "\n",
       "    .dataframe thead th {\n",
       "        text-align: right;\n",
       "    }\n",
       "</style>\n",
       "<table border=\"1\" class=\"dataframe\">\n",
       "  <thead>\n",
       "    <tr style=\"text-align: right;\">\n",
       "      <th></th>\n",
       "      <th>name</th>\n",
       "      <th>hire_date</th>\n",
       "      <th>status</th>\n",
       "      <th>languages</th>\n",
       "      <th>manager</th>\n",
       "      <th>team</th>\n",
       "      <th>title</th>\n",
       "      <th>location</th>\n",
       "      <th>rank</th>\n",
       "      <th>city</th>\n",
       "      <th>tz</th>\n",
       "      <th>country</th>\n",
       "    </tr>\n",
       "  </thead>\n",
       "  <tbody>\n",
       "    <tr>\n",
       "      <th>0</th>\n",
       "      <td>Wayne Green</td>\n",
       "      <td>20201212</td>\n",
       "      <td>Part Time</td>\n",
       "      <td>[Scala, Java, JavaScript]</td>\n",
       "      <td>Linda Diaz</td>\n",
       "      <td>Business</td>\n",
       "      <td>Analyst</td>\n",
       "      <td>{'city': 'London', 'tz': 'UTC', 'country': 'GBR'}</td>\n",
       "      <td>1.0</td>\n",
       "      <td>London</td>\n",
       "      <td>UTC</td>\n",
       "      <td>GBR</td>\n",
       "    </tr>\n",
       "    <tr>\n",
       "      <th>1</th>\n",
       "      <td>Kyle Smith</td>\n",
       "      <td>20210801</td>\n",
       "      <td>Contract</td>\n",
       "      <td>[JavaScript, Go, Typescript, Python]</td>\n",
       "      <td>Sonya Dominguez</td>\n",
       "      <td>Business</td>\n",
       "      <td>Analyst</td>\n",
       "      <td>{'city': 'London', 'tz': 'UTC', 'country': 'GBR'}</td>\n",
       "      <td>1.0</td>\n",
       "      <td>London</td>\n",
       "      <td>UTC</td>\n",
       "      <td>GBR</td>\n",
       "    </tr>\n",
       "    <tr>\n",
       "      <th>2</th>\n",
       "      <td>Wesley Randolph</td>\n",
       "      <td>20230708</td>\n",
       "      <td>Full Time</td>\n",
       "      <td>[Scala]</td>\n",
       "      <td>Sonya Dominguez</td>\n",
       "      <td>Business</td>\n",
       "      <td>Analyst</td>\n",
       "      <td>{'city': 'London', 'tz': 'UTC', 'country': 'GBR'}</td>\n",
       "      <td>1.0</td>\n",
       "      <td>London</td>\n",
       "      <td>UTC</td>\n",
       "      <td>GBR</td>\n",
       "    </tr>\n",
       "    <tr>\n",
       "      <th>3</th>\n",
       "      <td>Evan Summers</td>\n",
       "      <td>20220204</td>\n",
       "      <td>Full Time</td>\n",
       "      <td>[Java, Python]</td>\n",
       "      <td>Sonya Dominguez</td>\n",
       "      <td>Business</td>\n",
       "      <td>Analyst</td>\n",
       "      <td>{'city': 'London', 'tz': 'UTC', 'country': 'GBR'}</td>\n",
       "      <td>1.0</td>\n",
       "      <td>London</td>\n",
       "      <td>UTC</td>\n",
       "      <td>GBR</td>\n",
       "    </tr>\n",
       "    <tr>\n",
       "      <th>4</th>\n",
       "      <td>Shelby Martin</td>\n",
       "      <td>20230731</td>\n",
       "      <td>Full Time</td>\n",
       "      <td>[]</td>\n",
       "      <td>Sonya Dominguez</td>\n",
       "      <td>Business</td>\n",
       "      <td>Analyst</td>\n",
       "      <td>{'city': 'Toronto', 'tz': 'EST', 'country': 'C...</td>\n",
       "      <td>1.0</td>\n",
       "      <td>Toronto</td>\n",
       "      <td>EST</td>\n",
       "      <td>CAN</td>\n",
       "    </tr>\n",
       "    <tr>\n",
       "      <th>...</th>\n",
       "      <td>...</td>\n",
       "      <td>...</td>\n",
       "      <td>...</td>\n",
       "      <td>...</td>\n",
       "      <td>...</td>\n",
       "      <td>...</td>\n",
       "      <td>...</td>\n",
       "      <td>...</td>\n",
       "      <td>...</td>\n",
       "      <td>...</td>\n",
       "      <td>...</td>\n",
       "      <td>...</td>\n",
       "    </tr>\n",
       "    <tr>\n",
       "      <th>146</th>\n",
       "      <td>Ryan Hayes</td>\n",
       "      <td>20220707</td>\n",
       "      <td>Full Time</td>\n",
       "      <td>[]</td>\n",
       "      <td>Mr. Todd Burke</td>\n",
       "      <td>Support</td>\n",
       "      <td>Manager</td>\n",
       "      <td>{'city': 'Dublin', 'tz': 'UTC', 'country': 'IRL'}</td>\n",
       "      <td>2.0</td>\n",
       "      <td>Dublin</td>\n",
       "      <td>UTC</td>\n",
       "      <td>IRL</td>\n",
       "    </tr>\n",
       "    <tr>\n",
       "      <th>147</th>\n",
       "      <td>Damon Jimenez</td>\n",
       "      <td>20230825</td>\n",
       "      <td>Full Time</td>\n",
       "      <td>[Java, Python]</td>\n",
       "      <td>Mr. Todd Burke</td>\n",
       "      <td>Support</td>\n",
       "      <td>Manager</td>\n",
       "      <td>{'city': 'Dublin', 'tz': 'UTC', 'country': 'IRL'}</td>\n",
       "      <td>2.0</td>\n",
       "      <td>Dublin</td>\n",
       "      <td>UTC</td>\n",
       "      <td>IRL</td>\n",
       "    </tr>\n",
       "    <tr>\n",
       "      <th>148</th>\n",
       "      <td>Stephanie Evans</td>\n",
       "      <td>20210608</td>\n",
       "      <td>Part Time</td>\n",
       "      <td>[]</td>\n",
       "      <td>Mr. Todd Burke</td>\n",
       "      <td>Support</td>\n",
       "      <td>Manager</td>\n",
       "      <td>{'city': 'Dublin', 'tz': 'UTC', 'country': 'IRL'}</td>\n",
       "      <td>2.0</td>\n",
       "      <td>Dublin</td>\n",
       "      <td>UTC</td>\n",
       "      <td>IRL</td>\n",
       "    </tr>\n",
       "    <tr>\n",
       "      <th>149</th>\n",
       "      <td>Steven Warner</td>\n",
       "      <td>20201214</td>\n",
       "      <td>Full Time</td>\n",
       "      <td>[JavaScript, Typescript]</td>\n",
       "      <td>Mr. Todd Burke</td>\n",
       "      <td>Support</td>\n",
       "      <td>Manager</td>\n",
       "      <td>{'city': 'Dublin', 'tz': 'UTC', 'country': 'IRL'}</td>\n",
       "      <td>2.0</td>\n",
       "      <td>Dublin</td>\n",
       "      <td>UTC</td>\n",
       "      <td>IRL</td>\n",
       "    </tr>\n",
       "    <tr>\n",
       "      <th>0</th>\n",
       "      <td>Cheryl Boyer</td>\n",
       "      <td>20221116</td>\n",
       "      <td>Full Time</td>\n",
       "      <td>[Scala, Java, JavaScript]</td>\n",
       "      <td>Cheryl Boyer</td>\n",
       "      <td>CEO</td>\n",
       "      <td>CEO</td>\n",
       "      <td>{'city': 'London', 'tz': 'UTC', 'country': 'GBR'}</td>\n",
       "      <td>7.0</td>\n",
       "      <td>London</td>\n",
       "      <td>UTC</td>\n",
       "      <td>GBR</td>\n",
       "    </tr>\n",
       "  </tbody>\n",
       "</table>\n",
       "<p>151 rows × 12 columns</p>\n",
       "</div>"
      ],
      "text/plain": [
       "                name hire_date     status  \\\n",
       "0        Wayne Green  20201212  Part Time   \n",
       "1         Kyle Smith  20210801   Contract   \n",
       "2    Wesley Randolph  20230708  Full Time   \n",
       "3       Evan Summers  20220204  Full Time   \n",
       "4      Shelby Martin  20230731  Full Time   \n",
       "..               ...       ...        ...   \n",
       "146       Ryan Hayes  20220707  Full Time   \n",
       "147    Damon Jimenez  20230825  Full Time   \n",
       "148  Stephanie Evans  20210608  Part Time   \n",
       "149    Steven Warner  20201214  Full Time   \n",
       "0       Cheryl Boyer  20221116  Full Time   \n",
       "\n",
       "                                languages          manager      team    title  \\\n",
       "0               [Scala, Java, JavaScript]       Linda Diaz  Business  Analyst   \n",
       "1    [JavaScript, Go, Typescript, Python]  Sonya Dominguez  Business  Analyst   \n",
       "2                                 [Scala]  Sonya Dominguez  Business  Analyst   \n",
       "3                          [Java, Python]  Sonya Dominguez  Business  Analyst   \n",
       "4                                      []  Sonya Dominguez  Business  Analyst   \n",
       "..                                    ...              ...       ...      ...   \n",
       "146                                    []   Mr. Todd Burke   Support  Manager   \n",
       "147                        [Java, Python]   Mr. Todd Burke   Support  Manager   \n",
       "148                                    []   Mr. Todd Burke   Support  Manager   \n",
       "149              [JavaScript, Typescript]   Mr. Todd Burke   Support  Manager   \n",
       "0               [Scala, Java, JavaScript]     Cheryl Boyer       CEO      CEO   \n",
       "\n",
       "                                              location  rank     city   tz  \\\n",
       "0    {'city': 'London', 'tz': 'UTC', 'country': 'GBR'}   1.0   London  UTC   \n",
       "1    {'city': 'London', 'tz': 'UTC', 'country': 'GBR'}   1.0   London  UTC   \n",
       "2    {'city': 'London', 'tz': 'UTC', 'country': 'GBR'}   1.0   London  UTC   \n",
       "3    {'city': 'London', 'tz': 'UTC', 'country': 'GBR'}   1.0   London  UTC   \n",
       "4    {'city': 'Toronto', 'tz': 'EST', 'country': 'C...   1.0  Toronto  EST   \n",
       "..                                                 ...   ...      ...  ...   \n",
       "146  {'city': 'Dublin', 'tz': 'UTC', 'country': 'IRL'}   2.0   Dublin  UTC   \n",
       "147  {'city': 'Dublin', 'tz': 'UTC', 'country': 'IRL'}   2.0   Dublin  UTC   \n",
       "148  {'city': 'Dublin', 'tz': 'UTC', 'country': 'IRL'}   2.0   Dublin  UTC   \n",
       "149  {'city': 'Dublin', 'tz': 'UTC', 'country': 'IRL'}   2.0   Dublin  UTC   \n",
       "0    {'city': 'London', 'tz': 'UTC', 'country': 'GBR'}   7.0   London  UTC   \n",
       "\n",
       "    country  \n",
       "0       GBR  \n",
       "1       GBR  \n",
       "2       GBR  \n",
       "3       GBR  \n",
       "4       CAN  \n",
       "..      ...  \n",
       "146     IRL  \n",
       "147     IRL  \n",
       "148     IRL  \n",
       "149     IRL  \n",
       "0       GBR  \n",
       "\n",
       "[151 rows x 12 columns]"
      ]
     },
     "execution_count": 17,
     "metadata": {},
     "output_type": "execute_result"
    }
   ],
   "source": [
    "# let's flatten the nested pieces of the DataFrame (`people_df.location`)\n",
    "expanded_df = people_df.assign(**people_df.location.apply(pd.Series))\n",
    "expanded_df"
   ]
  },
  {
   "cell_type": "code",
   "execution_count": 18,
   "metadata": {},
   "outputs": [
    {
     "data": {
      "application/vnd.plotly.v1+json": {
       "config": {
        "plotlyServerURL": "https://plot.ly"
       },
       "data": [
        {
         "alignmentgroup": "True",
         "customdata": [
          [
           "Business",
           "UTC",
           "London",
           "Linda Diaz",
           [
            "Scala",
            "Java",
            "JavaScript"
           ]
          ],
          [
           "Business",
           "UTC",
           "London",
           "Sonya Dominguez",
           [
            "JavaScript",
            "Go",
            "Typescript",
            "Python"
           ]
          ],
          [
           "Business",
           "UTC",
           "London",
           "Sonya Dominguez",
           [
            "Scala"
           ]
          ],
          [
           "Business",
           "UTC",
           "London",
           "Sonya Dominguez",
           [
            "Java",
            "Python"
           ]
          ],
          [
           "Business",
           "UTC",
           "London",
           "Sonya Dominguez",
           []
          ],
          [
           "Business",
           "UTC",
           "London",
           "Sonya Dominguez",
           [
            "JavaScript",
            "Python"
           ]
          ],
          [
           "Business",
           "UTC",
           "London",
           "Cheryl Boyer",
           [
            "JavaScript"
           ]
          ],
          [
           "Business",
           "UTC",
           "London",
           "Sonya Dominguez",
           [
            "Java",
            "JavaScript",
            "Python"
           ]
          ],
          [
           "Business",
           "UTC",
           "London",
           "Sonya Dominguez",
           [
            "Scala",
            "Java",
            "Erlang",
            "Typescript"
           ]
          ],
          [
           "Business",
           "UTC",
           "London",
           "Sonya Dominguez",
           []
          ],
          [
           "Business",
           "UTC",
           "London",
           "Sonya Dominguez",
           [
            "Java",
            "JavaScript",
            "Python",
            "Typescript"
           ]
          ],
          [
           "Business",
           "UTC",
           "London",
           "Sonya Dominguez",
           [
            "Typescript"
           ]
          ],
          [
           "Business",
           "UTC",
           "London",
           "April Hernandez",
           [
            "Go"
           ]
          ],
          [
           "Business",
           "UTC",
           "London",
           "April Hernandez",
           []
          ]
         ],
         "hovertemplate": "<b>%{hovertext}</b><br><br>team=%{customdata[0]}<br>country=GBR<br>title=%{x}<br>count=%{y}<br>tz=%{customdata[1]}<br>city=%{customdata[2]}<br>manager=%{customdata[3]}<br>languages=%{customdata[4]}<extra></extra>",
         "hovertext": [
          "Wayne Green",
          "Kyle Smith",
          "Wesley Randolph",
          "Evan Summers",
          "Manuel Hicks",
          "Mark Rubio",
          "Linda Diaz",
          "Albert Vaughan",
          "Terrence Moran",
          "Kerry Powell",
          "Stephanie Barnes",
          "Calvin Owens",
          "Jeffery Anderson",
          "Gregory Sharp"
         ],
         "legendgroup": "Business",
         "marker": {
          "color": "#636efa",
          "pattern": {
           "shape": ""
          }
         },
         "name": "Business",
         "offsetgroup": "Business",
         "orientation": "v",
         "showlegend": true,
         "textposition": "auto",
         "type": "bar",
         "x": [
          "Analyst",
          "Analyst",
          "Analyst",
          "Analyst",
          "Associate",
          "Associate",
          "Vice President",
          "Vice President",
          "Vice President",
          "Vice President",
          "Director",
          "Director",
          "Managing Director",
          "Managing Director"
         ],
         "xaxis": "x",
         "y": [
          1,
          1,
          1,
          1,
          1,
          1,
          1,
          1,
          1,
          1,
          1,
          1,
          1,
          1
         ],
         "yaxis": "y"
        },
        {
         "alignmentgroup": "True",
         "customdata": [
          [
           "Business",
           "EST",
           "Toronto",
           "Sonya Dominguez",
           []
          ],
          [
           "Business",
           "EST",
           "Toronto",
           "Sonya Dominguez",
           []
          ],
          [
           "Business",
           "EST",
           "Toronto",
           "Gregory Sharp",
           []
          ],
          [
           "Business",
           "EST",
           "Toronto",
           "Bradley Williamson",
           [
            "Java"
           ]
          ],
          [
           "Business",
           "EST",
           "Toronto",
           "Sonya Dominguez",
           [
            "Java",
            "Go"
           ]
          ],
          [
           "Business",
           "EST",
           "Toronto",
           "April Hernandez",
           []
          ]
         ],
         "hovertemplate": "<b>%{hovertext}</b><br><br>team=%{customdata[0]}<br>country=CAN<br>title=%{x}<br>count=%{y}<br>tz=%{customdata[1]}<br>city=%{customdata[2]}<br>manager=%{customdata[3]}<br>languages=%{customdata[4]}<extra></extra>",
         "hovertext": [
          "Shelby Martin",
          "Jeffery Park",
          "Paul Miller",
          "Austin Freeman",
          "Robert Raymond",
          "Sonya Dominguez"
         ],
         "legendgroup": "Business",
         "marker": {
          "color": "#636efa",
          "pattern": {
           "shape": ""
          }
         },
         "name": "Business",
         "offsetgroup": "Business",
         "orientation": "v",
         "showlegend": false,
         "textposition": "auto",
         "type": "bar",
         "x": [
          "Analyst",
          "Associate",
          "Associate",
          "Vice President",
          "Director",
          "Managing Director"
         ],
         "xaxis": "x2",
         "y": [
          1,
          1,
          1,
          1,
          1,
          1
         ],
         "yaxis": "y2"
        },
        {
         "alignmentgroup": "True",
         "customdata": [
          [
           "Business",
           "EST",
           "New York",
           "Gregory Sharp",
           [
            "Java",
            "Typescript"
           ]
          ],
          [
           "Business",
           "EST",
           "New York",
           "Sonya Dominguez",
           [
            "Java",
            "Typescript"
           ]
          ],
          [
           "Business",
           "EST",
           "New York",
           "Linda Diaz",
           [
            "Java",
            "JavaScript",
            "Typescript"
           ]
          ],
          [
           "Business",
           "EST",
           "New York",
           "April Hernandez",
           []
          ],
          [
           "Business",
           "EST",
           "New York",
           "Sonya Dominguez",
           [
            "Go",
            "JavaScript",
            "Typescript"
           ]
          ],
          [
           "Business",
           "EST",
           "New York",
           "Sonya Dominguez",
           [
            "Java"
           ]
          ],
          [
           "Business",
           "EST",
           "New York",
           "Sonya Dominguez",
           [
            "JavaScript"
           ]
          ],
          [
           "Business",
           "EST",
           "New York",
           "Cheryl Boyer",
           []
          ],
          [
           "Business",
           "EST",
           "New York",
           "Gregory Sharp",
           [
            "Java",
            "Go",
            "JavaScript",
            "Typescript"
           ]
          ],
          [
           "Business",
           "EST",
           "New York",
           "Gregory Sharp",
           []
          ],
          [
           "Business",
           "EST",
           "New York",
           "Cheryl Boyer",
           [
            "Python"
           ]
          ]
         ],
         "hovertemplate": "<b>%{hovertext}</b><br><br>team=%{customdata[0]}<br>country=USA<br>title=%{x}<br>count=%{y}<br>tz=%{customdata[1]}<br>city=%{customdata[2]}<br>manager=%{customdata[3]}<br>languages=%{customdata[4]}<extra></extra>",
         "hovertext": [
          "Justin Mckinney",
          "David Jones",
          "Adam Cannon",
          "Randall Nichols",
          "Michael Davis",
          "Mr. Jeremiah Duncan",
          "Justin Robinson",
          "Bradley Williamson",
          "Nancy Taylor",
          "Nathan Johnson",
          "April Hernandez"
         ],
         "legendgroup": "Business",
         "marker": {
          "color": "#636efa",
          "pattern": {
           "shape": ""
          }
         },
         "name": "Business",
         "offsetgroup": "Business",
         "orientation": "v",
         "showlegend": false,
         "textposition": "auto",
         "type": "bar",
         "x": [
          "Analyst",
          "Associate",
          "Vice President",
          "Vice President",
          "Vice President",
          "Vice President",
          "Vice President",
          "Director",
          "Director",
          "Director",
          "Managing Director"
         ],
         "xaxis": "x3",
         "y": [
          1,
          1,
          1,
          1,
          1,
          1,
          1,
          1,
          1,
          1,
          1
         ],
         "yaxis": "y3"
        },
        {
         "alignmentgroup": "True",
         "customdata": [
          [
           "DevOps",
           "UTC",
           "Dublin",
           "Nicholas Dean",
           [
            "Java"
           ]
          ],
          [
           "DevOps",
           "UTC",
           "Dublin",
           "Nicholas Dean",
           [
            "Java",
            "JavaScript",
            "Python",
            "Typescript"
           ]
          ],
          [
           "DevOps",
           "UTC",
           "Dublin",
           "Angela Cross",
           [
            "Go",
            "Python"
           ]
          ],
          [
           "DevOps",
           "UTC",
           "Dublin",
           "Nicholas Dean",
           [
            "Java"
           ]
          ],
          [
           "DevOps",
           "UTC",
           "Dublin",
           "Nicholas Dean",
           [
            "Scala",
            "Typescript",
            "Python"
           ]
          ],
          [
           "DevOps",
           "UTC",
           "Dublin",
           "Ryan Wilkins",
           [
            "Scala",
            "Java",
            "JavaScript",
            "Typescript"
           ]
          ],
          [
           "DevOps",
           "UTC",
           "Dublin",
           "Cheryl Boyer",
           [
            "Java",
            "Erlang",
            "Python"
           ]
          ],
          [
           "DevOps",
           "UTC",
           "Dublin",
           "Nicholas Dean",
           [
            "Go"
           ]
          ],
          [
           "DevOps",
           "UTC",
           "Dublin",
           "Nicholas Dean",
           []
          ],
          [
           "DevOps",
           "UTC",
           "Dublin",
           "Nicholas Dean",
           [
            "Java",
            "JavaScript",
            "Python"
           ]
          ],
          [
           "DevOps",
           "UTC",
           "Dublin",
           "Kevin Smith",
           []
          ],
          [
           "DevOps",
           "UTC",
           "Dublin",
           "Cheryl Boyer",
           [
            "Scala",
            "Typescript",
            "Python"
           ]
          ]
         ],
         "hovertemplate": "<b>%{hovertext}</b><br><br>team=%{customdata[0]}<br>country=IRL<br>title=%{x}<br>count=%{y}<br>tz=%{customdata[1]}<br>city=%{customdata[2]}<br>manager=%{customdata[3]}<br>languages=%{customdata[4]}<extra></extra>",
         "hovertext": [
          "John Larson",
          "Billy Smith",
          "Christopher Contreras",
          "Wendy Price",
          "Jon Forbes",
          "Karen Rodriguez",
          "Nicholas Dean",
          "Ryan Wilkins",
          "Vicki Henderson",
          "Angela Cross",
          "Stephanie Collier",
          "Kevin Smith"
         ],
         "legendgroup": "DevOps",
         "marker": {
          "color": "#EF553B",
          "pattern": {
           "shape": ""
          }
         },
         "name": "DevOps",
         "offsetgroup": "DevOps",
         "orientation": "v",
         "showlegend": true,
         "textposition": "auto",
         "type": "bar",
         "x": [
          "Engineer",
          "Engineer",
          "Engineer",
          "Senior Engineer",
          "Senior Engineer",
          "Senior Engineer",
          "Manager",
          "Manager",
          "Manager",
          "Manager",
          "Manager",
          "Senior Manager"
         ],
         "xaxis": "x4",
         "y": [
          1,
          1,
          1,
          1,
          1,
          1,
          1,
          1,
          1,
          1,
          1,
          1
         ],
         "yaxis": "y4"
        },
        {
         "alignmentgroup": "True",
         "customdata": [
          [
           "DevX",
           "EST",
           "Fort Lauderdale",
           "Cheryl Boyer",
           []
          ],
          [
           "DevX",
           "EST",
           "Fort Lauderdale",
           "Sonya Smith",
           []
          ],
          [
           "DevX",
           "EST",
           "Fort Lauderdale",
           "Sonya Smith",
           []
          ],
          [
           "DevX",
           "EST",
           "Fort Lauderdale",
           "Sonya Smith",
           [
            "Java"
           ]
          ],
          [
           "DevX",
           "EST",
           "Fort Lauderdale",
           "Sonya Smith",
           [
            "Scala",
            "Java",
            "Typescript",
            "Python"
           ]
          ],
          [
           "DevX",
           "EST",
           "Fort Lauderdale",
           "Sonya Smith",
           [
            "JavaScript"
           ]
          ],
          [
           "DevX",
           "EST",
           "Fort Lauderdale",
           "Sonya Smith",
           [
            "Scala",
            "Java"
           ]
          ],
          [
           "DevX",
           "EST",
           "Fort Lauderdale",
           "Sonya Smith",
           []
          ],
          [
           "DevX",
           "EST",
           "Fort Lauderdale",
           "Sonya Smith",
           [
            "Python"
           ]
          ],
          [
           "DevX",
           "EST",
           "Fort Lauderdale",
           "Sonya Smith",
           [
            "Java",
            "Typescript"
           ]
          ],
          [
           "DevX",
           "EST",
           "Fort Lauderdale",
           "Melissa Brown",
           [
            "Java"
           ]
          ],
          [
           "DevX",
           "EST",
           "Fort Lauderdale",
           "Melissa Brown",
           [
            "Python"
           ]
          ],
          [
           "DevX",
           "EST",
           "Fort Lauderdale",
           "Melissa Brown",
           []
          ],
          [
           "DevX",
           "EST",
           "Fort Lauderdale",
           "Melissa Brown",
           []
          ],
          [
           "DevX",
           "EST",
           "Fort Lauderdale",
           "Melissa Brown",
           [
            "JavaScript",
            "Typescript"
           ]
          ],
          [
           "DevX",
           "EST",
           "Fort Lauderdale",
           "Danielle Cochran",
           [
            "Scala"
           ]
          ],
          [
           "DevX",
           "EST",
           "Fort Lauderdale",
           "Frederick Jennings",
           [
            "JavaScript"
           ]
          ],
          [
           "DevX",
           "EST",
           "Fort Lauderdale",
           "Frederick Jennings",
           [
            "Scala",
            "Go",
            "JavaScript"
           ]
          ],
          [
           "DevX",
           "EST",
           "Fort Lauderdale",
           "Frederick Jennings",
           [
            "Go",
            "Typescript",
            "Python"
           ]
          ],
          [
           "DevX",
           "EST",
           "Fort Lauderdale",
           "Frederick Jennings",
           []
          ],
          [
           "DevX",
           "EST",
           "Fort Lauderdale",
           "Debra Elliott",
           [
            "Java",
            "JavaScript",
            "Python",
            "Typescript"
           ]
          ],
          [
           "DevX",
           "EST",
           "Fort Lauderdale",
           "Debra Elliott",
           [
            "Java",
            "Python"
           ]
          ],
          [
           "DevX",
           "EST",
           "Fort Lauderdale",
           "Cheryl Boyer",
           []
          ],
          [
           "DevX",
           "EST",
           "Fort Lauderdale",
           "Steven Reese",
           [
            "Java",
            "Typescript",
            "Python",
            "Scala",
            "JavaScript"
           ]
          ],
          [
           "DevX",
           "EST",
           "Fort Lauderdale",
           "Steven Reese",
           [
            "Scala",
            "Java",
            "JavaScript"
           ]
          ],
          [
           "DevX",
           "EST",
           "Fort Lauderdale",
           "Steven Reese",
           [
            "Java"
           ]
          ],
          [
           "DevX",
           "EST",
           "Fort Lauderdale",
           "Steven Reese",
           []
          ],
          [
           "DevX",
           "EST",
           "Fort Lauderdale",
           "Steven Reese",
           []
          ]
         ],
         "hovertemplate": "<b>%{hovertext}</b><br><br>team=%{customdata[0]}<br>country=USA<br>title=%{x}<br>count=%{y}<br>tz=%{customdata[1]}<br>city=%{customdata[2]}<br>manager=%{customdata[3]}<br>languages=%{customdata[4]}<extra></extra>",
         "hovertext": [
          "Sonya Smith",
          "Elizabeth Vega",
          "Billy Becker",
          "Samuel Klein",
          "Ariel Quinn",
          "Gregory Rodriguez",
          "Jennifer Wilson",
          "Larry Taylor",
          "Amy Robinson",
          "Brenda Thomas",
          "Keith Jackson",
          "Aaron Petty",
          "Sheila Martinez",
          "Renee Preston",
          "Lisa Ballard",
          "Courtney Foley",
          "Jacob Medina",
          "Thomas Gutierrez",
          "James Marshall",
          "Kristopher Campbell",
          "Adam Rivera",
          "Mrs. Michelle Gray",
          "Steven Reese",
          "Melissa Brown",
          "Danielle Cochran",
          "Frederick Jennings",
          "Debra Elliott",
          "Pamela Molina"
         ],
         "legendgroup": "DevX",
         "marker": {
          "color": "#00cc96",
          "pattern": {
           "shape": ""
          }
         },
         "name": "DevX",
         "offsetgroup": "DevX",
         "orientation": "v",
         "showlegend": true,
         "textposition": "auto",
         "type": "bar",
         "x": [
          "Engineer",
          "Engineer",
          "Engineer",
          "Engineer",
          "Engineer",
          "Engineer",
          "Engineer",
          "Engineer",
          "Engineer",
          "Engineer",
          "Engineer",
          "Engineer",
          "Engineer",
          "Engineer",
          "Engineer",
          "Engineer",
          "Engineer",
          "Engineer",
          "Engineer",
          "Engineer",
          "Engineer",
          "Engineer",
          "AVP",
          "AVP",
          "AVP",
          "AVP",
          "AVP",
          "AVP"
         ],
         "xaxis": "x3",
         "y": [
          1,
          1,
          1,
          1,
          1,
          1,
          1,
          1,
          1,
          1,
          1,
          1,
          1,
          1,
          1,
          1,
          1,
          1,
          1,
          1,
          1,
          1,
          1,
          1,
          1,
          1,
          1,
          1
         ],
         "yaxis": "y3"
        },
        {
         "alignmentgroup": "True",
         "customdata": [
          [
           "Internal Tools",
           "EST",
           "Toronto",
           "Alexander Murphy",
           [
            "Python"
           ]
          ],
          [
           "Internal Tools",
           "EST",
           "Toronto",
           "Cheryl Boyer",
           [
            "Python"
           ]
          ],
          [
           "Internal Tools",
           "EST",
           "Toronto",
           "Alexander Murphy",
           []
          ],
          [
           "Internal Tools",
           "EST",
           "Toronto",
           "Alexander Murphy",
           [
            "Java",
            "Go",
            "JavaScript"
           ]
          ]
         ],
         "hovertemplate": "<b>%{hovertext}</b><br><br>team=%{customdata[0]}<br>country=CAN<br>title=%{x}<br>count=%{y}<br>tz=%{customdata[1]}<br>city=%{customdata[2]}<br>manager=%{customdata[3]}<br>languages=%{customdata[4]}<extra></extra>",
         "hovertext": [
          "Nathan Morrow",
          "Michael Barajas",
          "Michelle Lee",
          "Sean Romero"
         ],
         "legendgroup": "Internal Tools",
         "marker": {
          "color": "#ab63fa",
          "pattern": {
           "shape": ""
          }
         },
         "name": "Internal Tools",
         "offsetgroup": "Internal Tools",
         "orientation": "v",
         "showlegend": true,
         "textposition": "auto",
         "type": "bar",
         "x": [
          "Engineer",
          "Senior Engineer",
          "AVP",
          "AVP"
         ],
         "xaxis": "x2",
         "y": [
          1,
          1,
          1,
          1
         ],
         "yaxis": "y2"
        },
        {
         "alignmentgroup": "True",
         "customdata": [
          [
           "Internal Tools",
           "PST",
           "Seattle",
           "Cheryl Boyer",
           []
          ],
          [
           "Internal Tools",
           "PST",
           "Seattle",
           "Cassandra Lopez",
           [
            "JavaScript"
           ]
          ],
          [
           "Internal Tools",
           "PST",
           "Seattle",
           "Alexander Murphy",
           [
            "Java",
            "Python"
           ]
          ],
          [
           "Internal Tools",
           "PST",
           "Seattle",
           "Alexander Murphy",
           [
            "Python"
           ]
          ],
          [
           "Internal Tools",
           "PST",
           "Seattle",
           "Alexander Murphy",
           [
            "Java"
           ]
          ],
          [
           "Internal Tools",
           "PST",
           "Seattle",
           "Cheryl Boyer",
           [
            "JavaScript",
            "Python"
           ]
          ],
          [
           "Internal Tools",
           "PST",
           "Seattle",
           "Samantha Huber",
           [
            "Java",
            "Go",
            "Typescript"
           ]
          ],
          [
           "Internal Tools",
           "PST",
           "Seattle",
           "Cheryl Boyer",
           [
            "Java",
            "Python"
           ]
          ]
         ],
         "hovertemplate": "<b>%{hovertext}</b><br><br>team=%{customdata[0]}<br>country=USA<br>title=%{x}<br>count=%{y}<br>tz=%{customdata[1]}<br>city=%{customdata[2]}<br>manager=%{customdata[3]}<br>languages=%{customdata[4]}<extra></extra>",
         "hovertext": [
          "Cassandra Lopez",
          "Holly Davis",
          "Diane Glenn",
          "Kristin Cook",
          "Michael Thomas",
          "Samantha Huber",
          "Luke Boyd",
          "Alexander Murphy"
         ],
         "legendgroup": "Internal Tools",
         "marker": {
          "color": "#ab63fa",
          "pattern": {
           "shape": ""
          }
         },
         "name": "Internal Tools",
         "offsetgroup": "Internal Tools",
         "orientation": "v",
         "showlegend": false,
         "textposition": "auto",
         "type": "bar",
         "x": [
          "Engineer",
          "Engineer",
          "Senior Engineer",
          "Senior Engineer",
          "Manager",
          "AVP",
          "AVP",
          "VP"
         ],
         "xaxis": "x3",
         "y": [
          1,
          1,
          1,
          1,
          1,
          1,
          1,
          1
         ],
         "yaxis": "y3"
        },
        {
         "alignmentgroup": "True",
         "customdata": [
          [
           "Platform",
           "EST",
           "Toronto",
           "Rhonda Russell",
           [
            "Java"
           ]
          ],
          [
           "Platform",
           "EST",
           "Toronto",
           "Rhonda Russell",
           []
          ],
          [
           "Platform",
           "EST",
           "Toronto",
           "Rhonda Russell",
           []
          ]
         ],
         "hovertemplate": "<b>%{hovertext}</b><br><br>team=%{customdata[0]}<br>country=CAN<br>title=%{x}<br>count=%{y}<br>tz=%{customdata[1]}<br>city=%{customdata[2]}<br>manager=%{customdata[3]}<br>languages=%{customdata[4]}<extra></extra>",
         "hovertext": [
          "Madeline Moran",
          "Stephen Hebert",
          "Sarah Miller"
         ],
         "legendgroup": "Platform",
         "marker": {
          "color": "#FFA15A",
          "pattern": {
           "shape": ""
          }
         },
         "name": "Platform",
         "offsetgroup": "Platform",
         "orientation": "v",
         "showlegend": true,
         "textposition": "auto",
         "type": "bar",
         "x": [
          "Engineer",
          "AVP",
          "AVP"
         ],
         "xaxis": "x2",
         "y": [
          1,
          1,
          1
         ],
         "yaxis": "y2"
        },
        {
         "alignmentgroup": "True",
         "customdata": [
          [
           "Platform",
           "PST",
           "Seattle",
           "Sarah Miller",
           []
          ],
          [
           "Platform",
           "PST",
           "Seattle",
           "Sarah Miller",
           [
            "Scala",
            "Java",
            "JavaScript"
           ]
          ],
          [
           "Platform",
           "PST",
           "Seattle",
           "Sarah Miller",
           [
            "Java",
            "Python",
            "Typescript"
           ]
          ],
          [
           "Platform",
           "PST",
           "Seattle",
           "Rhonda Russell",
           []
          ],
          [
           "Platform",
           "PST",
           "Seattle",
           "Cheryl Boyer",
           [
            "Java",
            "JavaScript"
           ]
          ],
          [
           "Platform",
           "PST",
           "Seattle",
           "Rhonda Russell",
           []
          ]
         ],
         "hovertemplate": "<b>%{hovertext}</b><br><br>team=%{customdata[0]}<br>country=USA<br>title=%{x}<br>count=%{y}<br>tz=%{customdata[1]}<br>city=%{customdata[2]}<br>manager=%{customdata[3]}<br>languages=%{customdata[4]}<extra></extra>",
         "hovertext": [
          "Emily Morgan",
          "Matthew Sandoval",
          "John Baker",
          "Stephanie Morales",
          "Rhonda Russell",
          "Crystal Barrett"
         ],
         "legendgroup": "Platform",
         "marker": {
          "color": "#FFA15A",
          "pattern": {
           "shape": ""
          }
         },
         "name": "Platform",
         "offsetgroup": "Platform",
         "orientation": "v",
         "showlegend": false,
         "textposition": "auto",
         "type": "bar",
         "x": [
          "Engineer",
          "Engineer",
          "Senior Engineer",
          "Managing Engineer",
          "AVP",
          "AVP"
         ],
         "xaxis": "x3",
         "y": [
          1,
          1,
          1,
          1,
          1,
          1
         ],
         "yaxis": "y3"
        },
        {
         "alignmentgroup": "True",
         "customdata": [
          [
           "Product",
           "EST",
           "Toronto",
           "Lisa Parrish",
           []
          ],
          [
           "Product",
           "EST",
           "Toronto",
           "Lisa Parrish",
           [
            "Scala",
            "JavaScript",
            "Python"
           ]
          ],
          [
           "Product",
           "EST",
           "Toronto",
           "Austin Douglas",
           [
            "Java",
            "JavaScript",
            "Python"
           ]
          ]
         ],
         "hovertemplate": "<b>%{hovertext}</b><br><br>team=%{customdata[0]}<br>country=CAN<br>title=%{x}<br>count=%{y}<br>tz=%{customdata[1]}<br>city=%{customdata[2]}<br>manager=%{customdata[3]}<br>languages=%{customdata[4]}<extra></extra>",
         "hovertext": [
          "Bradley Sandoval",
          "Rose Williams",
          "Amanda Lopez"
         ],
         "legendgroup": "Product",
         "marker": {
          "color": "#19d3f3",
          "pattern": {
           "shape": ""
          }
         },
         "name": "Product",
         "offsetgroup": "Product",
         "orientation": "v",
         "showlegend": true,
         "textposition": "auto",
         "type": "bar",
         "x": [
          "Engineer",
          "Product Owner",
          "AVP"
         ],
         "xaxis": "x2",
         "y": [
          1,
          1,
          1
         ],
         "yaxis": "y2"
        },
        {
         "alignmentgroup": "True",
         "customdata": [
          [
           "Product",
           "PST",
           "Seattle",
           "Cindy Wallace",
           []
          ],
          [
           "Product",
           "EST",
           "New York",
           "Cindy Wallace",
           [
            "Java",
            "JavaScript",
            "Python"
           ]
          ],
          [
           "Product",
           "PST",
           "Seattle",
           "Lisa Parrish",
           [
            "Scala"
           ]
          ],
          [
           "Product",
           "EST",
           "New York",
           "Lisa Parrish",
           [
            "Java",
            "Typescript"
           ]
          ],
          [
           "Product",
           "PST",
           "Seattle",
           "Amanda Lopez",
           [
            "Java",
            "Python",
            "Typescript"
           ]
          ],
          [
           "Product",
           "PST",
           "Seattle",
           "Lisa Parrish",
           [
            "Java"
           ]
          ],
          [
           "Product",
           "PST",
           "Seattle",
           "Lisa Parrish",
           []
          ],
          [
           "Product",
           "EST",
           "New York",
           "Cindy Wallace",
           []
          ],
          [
           "Product",
           "PST",
           "Seattle",
           "Lisa Parrish",
           []
          ],
          [
           "Product",
           "EST",
           "New York",
           "Cheryl Boyer",
           [
            "Java",
            "Python"
           ]
          ],
          [
           "Product",
           "PST",
           "Seattle",
           "Austin Douglas",
           [
            "Java"
           ]
          ],
          [
           "Product",
           "EST",
           "New York",
           "Austin Douglas",
           [
            "Java",
            "Python"
           ]
          ],
          [
           "Product",
           "PST",
           "Seattle",
           "Austin Douglas",
           []
          ]
         ],
         "hovertemplate": "<b>%{hovertext}</b><br><br>team=%{customdata[0]}<br>country=USA<br>title=%{x}<br>count=%{y}<br>tz=%{customdata[1]}<br>city=%{customdata[2]}<br>manager=%{customdata[3]}<br>languages=%{customdata[4]}<extra></extra>",
         "hovertext": [
          "Edward Leon Jr.",
          "Carol Wright",
          "Wendy Sullivan",
          "Christopher Tyler",
          "Eric Duffy",
          "Kimberly Jackson",
          "Jason Murray",
          "Brian Rogers",
          "Dawn Peters",
          "Austin Douglas",
          "Ricky Dixon",
          "Cindy Wallace",
          "Lisa Parrish"
         ],
         "legendgroup": "Product",
         "marker": {
          "color": "#19d3f3",
          "pattern": {
           "shape": ""
          }
         },
         "name": "Product",
         "offsetgroup": "Product",
         "orientation": "v",
         "showlegend": false,
         "textposition": "auto",
         "type": "bar",
         "x": [
          "Engineer",
          "Engineer",
          "Engineer",
          "Engineer",
          "Manager",
          "Manager",
          "Manager",
          "Product Owner",
          "Product Owner",
          "AVP",
          "AVP",
          "AVP",
          "AVP"
         ],
         "xaxis": "x3",
         "y": [
          1,
          1,
          1,
          1,
          1,
          1,
          1,
          1,
          1,
          1,
          1,
          1,
          1
         ],
         "yaxis": "y3"
        },
        {
         "alignmentgroup": "True",
         "customdata": [
          [
           "Sales",
           "UTC",
           "London",
           "Eric Macdonald",
           [
            "Java",
            "JavaScript",
            "Typescript"
           ]
          ],
          [
           "Sales",
           "UTC",
           "London",
           "Charlotte White",
           [
            "Scala",
            "Java",
            "JavaScript"
           ]
          ],
          [
           "Sales",
           "UTC",
           "London",
           "Cheryl Boyer",
           []
          ],
          [
           "Sales",
           "UTC",
           "London",
           "Shannon Wright",
           []
          ],
          [
           "Sales",
           "UTC",
           "London",
           "Shannon Wright",
           [
            "Typescript"
           ]
          ],
          [
           "Sales",
           "UTC",
           "London",
           "Shannon Wright",
           [
            "Java",
            "Python"
           ]
          ],
          [
           "Sales",
           "UTC",
           "London",
           "Shannon Wright",
           [
            "Java",
            "Typescript",
            "Python"
           ]
          ],
          [
           "Sales",
           "UTC",
           "London",
           "Shannon Wright",
           []
          ],
          [
           "Sales",
           "UTC",
           "London",
           "Shannon Wright",
           [
            "Typescript"
           ]
          ]
         ],
         "hovertemplate": "<b>%{hovertext}</b><br><br>team=%{customdata[0]}<br>country=GBR<br>title=%{x}<br>count=%{y}<br>tz=%{customdata[1]}<br>city=%{customdata[2]}<br>manager=%{customdata[3]}<br>languages=%{customdata[4]}<extra></extra>",
         "hovertext": [
          "Brandy Richardson",
          "Marie Martinez",
          "Shannon Wright",
          "Amanda Bishop",
          "Jennifer Howard",
          "Tiffany Wilkins",
          "Rhonda Allen",
          "Wendy Coleman",
          "Chelsea Diaz"
         ],
         "legendgroup": "Sales",
         "marker": {
          "color": "#FF6692",
          "pattern": {
           "shape": ""
          }
         },
         "name": "Sales",
         "offsetgroup": "Sales",
         "orientation": "v",
         "showlegend": true,
         "textposition": "auto",
         "type": "bar",
         "x": [
          "Associate",
          "Associate",
          "VP",
          "VP",
          "VP",
          "VP",
          "VP",
          "VP",
          "VP"
         ],
         "xaxis": "x",
         "y": [
          1,
          1,
          1,
          1,
          1,
          1,
          1,
          1,
          1
         ],
         "yaxis": "y"
        },
        {
         "alignmentgroup": "True",
         "customdata": [
          [
           "Sales",
           "EST",
           "Toronto",
           "Eric Macdonald",
           [
            "Java",
            "JavaScript",
            "Typescript"
           ]
          ],
          [
           "Sales",
           "EST",
           "Toronto",
           "Jessica English",
           []
          ],
          [
           "Sales",
           "EST",
           "Toronto",
           "Jessica English",
           [
            "Java",
            "JavaScript"
           ]
          ],
          [
           "Sales",
           "EST",
           "Toronto",
           "Rhonda Allen",
           []
          ]
         ],
         "hovertemplate": "<b>%{hovertext}</b><br><br>team=%{customdata[0]}<br>country=CAN<br>title=%{x}<br>count=%{y}<br>tz=%{customdata[1]}<br>city=%{customdata[2]}<br>manager=%{customdata[3]}<br>languages=%{customdata[4]}<extra></extra>",
         "hovertext": [
          "Joseph Hill",
          "Scott Rich",
          "Emily Cunningham",
          "Francis Foster"
         ],
         "legendgroup": "Sales",
         "marker": {
          "color": "#FF6692",
          "pattern": {
           "shape": ""
          }
         },
         "name": "Sales",
         "offsetgroup": "Sales",
         "orientation": "v",
         "showlegend": false,
         "textposition": "auto",
         "type": "bar",
         "x": [
          "Associate",
          "Associate",
          "Associate",
          "Associate"
         ],
         "xaxis": "x2",
         "y": [
          1,
          1,
          1,
          1
         ],
         "yaxis": "y2"
        },
        {
         "alignmentgroup": "True",
         "customdata": [
          [
           "Sales",
           "EST",
           "New York",
           "Eric Macdonald",
           []
          ],
          [
           "Sales",
           "EST",
           "New York",
           "Eric Macdonald",
           []
          ],
          [
           "Sales",
           "EST",
           "New York",
           "Eric Macdonald",
           [
            "Scala",
            "Java",
            "Typescript"
           ]
          ],
          [
           "Sales",
           "EST",
           "New York",
           "Charlotte White",
           []
          ],
          [
           "Sales",
           "EST",
           "New York",
           "Shannon Wright",
           [
            "Java",
            "JavaScript",
            "Python"
           ]
          ],
          [
           "Sales",
           "EST",
           "New York",
           "Shannon Wright",
           [
            "Scala",
            "Typescript"
           ]
          ],
          [
           "Sales",
           "EST",
           "New York",
           "Shannon Wright",
           []
          ],
          [
           "Sales",
           "EST",
           "New York",
           "Shannon Wright",
           [
            "Java",
            "JavaScript",
            "Python"
           ]
          ],
          [
           "Sales",
           "EST",
           "New York",
           "Shannon Wright",
           [
            "JavaScript"
           ]
          ],
          [
           "Sales",
           "EST",
           "New York",
           "Shannon Wright",
           [
            "JavaScript"
           ]
          ],
          [
           "Sales",
           "EST",
           "New York",
           "Shannon Wright",
           []
          ]
         ],
         "hovertemplate": "<b>%{hovertext}</b><br><br>team=%{customdata[0]}<br>country=USA<br>title=%{x}<br>count=%{y}<br>tz=%{customdata[1]}<br>city=%{customdata[2]}<br>manager=%{customdata[3]}<br>languages=%{customdata[4]}<extra></extra>",
         "hovertext": [
          "Amanda Frazier",
          "Jeffrey Fleming",
          "Jessica Galvan",
          "Brenda Foster",
          "Eric Macdonald",
          "Jessica English",
          "Albert Henry",
          "Christopher Farmer",
          "Amanda Greene",
          "Charlotte White",
          "Brent Mercado"
         ],
         "legendgroup": "Sales",
         "marker": {
          "color": "#FF6692",
          "pattern": {
           "shape": ""
          }
         },
         "name": "Sales",
         "offsetgroup": "Sales",
         "orientation": "v",
         "showlegend": false,
         "textposition": "auto",
         "type": "bar",
         "x": [
          "Associate",
          "Associate",
          "Associate",
          "Associate",
          "VP",
          "VP",
          "VP",
          "VP",
          "VP",
          "VP",
          "VP"
         ],
         "xaxis": "x3",
         "y": [
          1,
          1,
          1,
          1,
          1,
          1,
          1,
          1,
          1,
          1,
          1
         ],
         "yaxis": "y3"
        },
        {
         "alignmentgroup": "True",
         "customdata": [
          [
           "Support",
           "UTC",
           "Dublin",
           "Mr. Todd Burke",
           [
            "JavaScript",
            "Python"
           ]
          ],
          [
           "Support",
           "UTC",
           "Dublin",
           "Mr. Todd Burke",
           [
            "Java",
            "Typescript",
            "Python",
            "Scala",
            "JavaScript"
           ]
          ],
          [
           "Support",
           "UTC",
           "Dublin",
           "Mr. Todd Burke",
           [
            "Java",
            "JavaScript",
            "Python"
           ]
          ],
          [
           "Support",
           "UTC",
           "Dublin",
           "Tina Carter",
           [
            "Java"
           ]
          ],
          [
           "Support",
           "UTC",
           "Dublin",
           "Tina Carter",
           [
            "Erlang"
           ]
          ],
          [
           "Support",
           "UTC",
           "Dublin",
           "Ryan Hayes",
           [
            "Scala",
            "Java",
            "Typescript"
           ]
          ],
          [
           "Support",
           "UTC",
           "Dublin",
           "Stephanie Evans",
           [
            "Java"
           ]
          ],
          [
           "Support",
           "UTC",
           "Dublin",
           "Stephanie Evans",
           [
            "JavaScript"
           ]
          ],
          [
           "Support",
           "UTC",
           "Dublin",
           "Stephanie Evans",
           [
            "Java"
           ]
          ],
          [
           "Support",
           "UTC",
           "Dublin",
           "Steven Warner",
           [
            "Java",
            "Go",
            "JavaScript",
            "Python"
           ]
          ],
          [
           "Support",
           "UTC",
           "Dublin",
           "Cheryl Boyer",
           [
            "Python"
           ]
          ],
          [
           "Support",
           "UTC",
           "Dublin",
           "Mr. Todd Burke",
           [
            "Java"
           ]
          ],
          [
           "Support",
           "UTC",
           "Dublin",
           "Mr. Todd Burke",
           []
          ],
          [
           "Support",
           "UTC",
           "Dublin",
           "Mr. Todd Burke",
           []
          ],
          [
           "Support",
           "UTC",
           "Dublin",
           "Mr. Todd Burke",
           []
          ],
          [
           "Support",
           "UTC",
           "Dublin",
           "Mr. Todd Burke",
           [
            "Java",
            "Python"
           ]
          ],
          [
           "Support",
           "UTC",
           "Dublin",
           "Mr. Todd Burke",
           []
          ],
          [
           "Support",
           "UTC",
           "Dublin",
           "Mr. Todd Burke",
           [
            "JavaScript",
            "Typescript"
           ]
          ]
         ],
         "hovertemplate": "<b>%{hovertext}</b><br><br>team=%{customdata[0]}<br>country=IRL<br>title=%{x}<br>count=%{y}<br>tz=%{customdata[1]}<br>city=%{customdata[2]}<br>manager=%{customdata[3]}<br>languages=%{customdata[4]}<extra></extra>",
         "hovertext": [
          "Russell Peterson",
          "Heather Figueroa",
          "Melissa Gibbs",
          "Leslie Sanchez",
          "Natalie Morgan",
          "Pamela Ramirez",
          "Joshua Vance",
          "Gary Garrett",
          "Nancy Alexander",
          "Todd Robinson",
          "Mr. Todd Burke",
          "Tina Carter",
          "Kevin Smith",
          "Rebecca Fowler",
          "Ryan Hayes",
          "Damon Jimenez",
          "Stephanie Evans",
          "Steven Warner"
         ],
         "legendgroup": "Support",
         "marker": {
          "color": "#B6E880",
          "pattern": {
           "shape": ""
          }
         },
         "name": "Support",
         "offsetgroup": "Support",
         "orientation": "v",
         "showlegend": true,
         "textposition": "auto",
         "type": "bar",
         "x": [
          "Analyst",
          "Analyst",
          "Analyst",
          "Analyst",
          "Analyst",
          "Analyst",
          "Analyst",
          "Analyst",
          "Analyst",
          "Analyst",
          "Manager",
          "Manager",
          "Manager",
          "Manager",
          "Manager",
          "Manager",
          "Manager",
          "Manager"
         ],
         "xaxis": "x4",
         "y": [
          1,
          1,
          1,
          1,
          1,
          1,
          1,
          1,
          1,
          1,
          1,
          1,
          1,
          1,
          1,
          1,
          1,
          1
         ],
         "yaxis": "y4"
        },
        {
         "alignmentgroup": "True",
         "customdata": [
          [
           "CEO",
           "UTC",
           "London",
           "Cheryl Boyer",
           [
            "Scala",
            "Java",
            "JavaScript"
           ]
          ]
         ],
         "hovertemplate": "<b>%{hovertext}</b><br><br>team=%{customdata[0]}<br>country=GBR<br>title=%{x}<br>count=%{y}<br>tz=%{customdata[1]}<br>city=%{customdata[2]}<br>manager=%{customdata[3]}<br>languages=%{customdata[4]}<extra></extra>",
         "hovertext": [
          "Cheryl Boyer"
         ],
         "legendgroup": "CEO",
         "marker": {
          "color": "#FF97FF",
          "pattern": {
           "shape": ""
          }
         },
         "name": "CEO",
         "offsetgroup": "CEO",
         "orientation": "v",
         "showlegend": true,
         "textposition": "auto",
         "type": "bar",
         "x": [
          "CEO"
         ],
         "xaxis": "x",
         "y": [
          1
         ],
         "yaxis": "y"
        }
       ],
       "layout": {
        "annotations": [
         {
          "font": {},
          "showarrow": false,
          "text": "country=GBR",
          "x": 0.1175,
          "xanchor": "center",
          "xref": "paper",
          "y": 1,
          "yanchor": "bottom",
          "yref": "paper"
         },
         {
          "font": {},
          "showarrow": false,
          "text": "country=CAN",
          "x": 0.3725,
          "xanchor": "center",
          "xref": "paper",
          "y": 1,
          "yanchor": "bottom",
          "yref": "paper"
         },
         {
          "font": {},
          "showarrow": false,
          "text": "country=USA",
          "x": 0.6275,
          "xanchor": "center",
          "xref": "paper",
          "y": 1,
          "yanchor": "bottom",
          "yref": "paper"
         },
         {
          "font": {},
          "showarrow": false,
          "text": "country=IRL",
          "x": 0.8824999999999998,
          "xanchor": "center",
          "xref": "paper",
          "y": 1,
          "yanchor": "bottom",
          "yref": "paper"
         }
        ],
        "barmode": "relative",
        "legend": {
         "title": {
          "text": "team"
         },
         "tracegroupgap": 0
        },
        "margin": {
         "t": 60
        },
        "template": {
         "data": {
          "bar": [
           {
            "error_x": {
             "color": "#f2f5fa"
            },
            "error_y": {
             "color": "#f2f5fa"
            },
            "marker": {
             "line": {
              "color": "rgb(17,17,17)",
              "width": 0.5
             },
             "pattern": {
              "fillmode": "overlay",
              "size": 10,
              "solidity": 0.2
             }
            },
            "type": "bar"
           }
          ],
          "barpolar": [
           {
            "marker": {
             "line": {
              "color": "rgb(17,17,17)",
              "width": 0.5
             },
             "pattern": {
              "fillmode": "overlay",
              "size": 10,
              "solidity": 0.2
             }
            },
            "type": "barpolar"
           }
          ],
          "carpet": [
           {
            "aaxis": {
             "endlinecolor": "#A2B1C6",
             "gridcolor": "#506784",
             "linecolor": "#506784",
             "minorgridcolor": "#506784",
             "startlinecolor": "#A2B1C6"
            },
            "baxis": {
             "endlinecolor": "#A2B1C6",
             "gridcolor": "#506784",
             "linecolor": "#506784",
             "minorgridcolor": "#506784",
             "startlinecolor": "#A2B1C6"
            },
            "type": "carpet"
           }
          ],
          "choropleth": [
           {
            "colorbar": {
             "outlinewidth": 0,
             "ticks": ""
            },
            "type": "choropleth"
           }
          ],
          "contour": [
           {
            "colorbar": {
             "outlinewidth": 0,
             "ticks": ""
            },
            "colorscale": [
             [
              0,
              "#0d0887"
             ],
             [
              0.1111111111111111,
              "#46039f"
             ],
             [
              0.2222222222222222,
              "#7201a8"
             ],
             [
              0.3333333333333333,
              "#9c179e"
             ],
             [
              0.4444444444444444,
              "#bd3786"
             ],
             [
              0.5555555555555556,
              "#d8576b"
             ],
             [
              0.6666666666666666,
              "#ed7953"
             ],
             [
              0.7777777777777778,
              "#fb9f3a"
             ],
             [
              0.8888888888888888,
              "#fdca26"
             ],
             [
              1,
              "#f0f921"
             ]
            ],
            "type": "contour"
           }
          ],
          "contourcarpet": [
           {
            "colorbar": {
             "outlinewidth": 0,
             "ticks": ""
            },
            "type": "contourcarpet"
           }
          ],
          "heatmap": [
           {
            "colorbar": {
             "outlinewidth": 0,
             "ticks": ""
            },
            "colorscale": [
             [
              0,
              "#0d0887"
             ],
             [
              0.1111111111111111,
              "#46039f"
             ],
             [
              0.2222222222222222,
              "#7201a8"
             ],
             [
              0.3333333333333333,
              "#9c179e"
             ],
             [
              0.4444444444444444,
              "#bd3786"
             ],
             [
              0.5555555555555556,
              "#d8576b"
             ],
             [
              0.6666666666666666,
              "#ed7953"
             ],
             [
              0.7777777777777778,
              "#fb9f3a"
             ],
             [
              0.8888888888888888,
              "#fdca26"
             ],
             [
              1,
              "#f0f921"
             ]
            ],
            "type": "heatmap"
           }
          ],
          "heatmapgl": [
           {
            "colorbar": {
             "outlinewidth": 0,
             "ticks": ""
            },
            "colorscale": [
             [
              0,
              "#0d0887"
             ],
             [
              0.1111111111111111,
              "#46039f"
             ],
             [
              0.2222222222222222,
              "#7201a8"
             ],
             [
              0.3333333333333333,
              "#9c179e"
             ],
             [
              0.4444444444444444,
              "#bd3786"
             ],
             [
              0.5555555555555556,
              "#d8576b"
             ],
             [
              0.6666666666666666,
              "#ed7953"
             ],
             [
              0.7777777777777778,
              "#fb9f3a"
             ],
             [
              0.8888888888888888,
              "#fdca26"
             ],
             [
              1,
              "#f0f921"
             ]
            ],
            "type": "heatmapgl"
           }
          ],
          "histogram": [
           {
            "marker": {
             "pattern": {
              "fillmode": "overlay",
              "size": 10,
              "solidity": 0.2
             }
            },
            "type": "histogram"
           }
          ],
          "histogram2d": [
           {
            "colorbar": {
             "outlinewidth": 0,
             "ticks": ""
            },
            "colorscale": [
             [
              0,
              "#0d0887"
             ],
             [
              0.1111111111111111,
              "#46039f"
             ],
             [
              0.2222222222222222,
              "#7201a8"
             ],
             [
              0.3333333333333333,
              "#9c179e"
             ],
             [
              0.4444444444444444,
              "#bd3786"
             ],
             [
              0.5555555555555556,
              "#d8576b"
             ],
             [
              0.6666666666666666,
              "#ed7953"
             ],
             [
              0.7777777777777778,
              "#fb9f3a"
             ],
             [
              0.8888888888888888,
              "#fdca26"
             ],
             [
              1,
              "#f0f921"
             ]
            ],
            "type": "histogram2d"
           }
          ],
          "histogram2dcontour": [
           {
            "colorbar": {
             "outlinewidth": 0,
             "ticks": ""
            },
            "colorscale": [
             [
              0,
              "#0d0887"
             ],
             [
              0.1111111111111111,
              "#46039f"
             ],
             [
              0.2222222222222222,
              "#7201a8"
             ],
             [
              0.3333333333333333,
              "#9c179e"
             ],
             [
              0.4444444444444444,
              "#bd3786"
             ],
             [
              0.5555555555555556,
              "#d8576b"
             ],
             [
              0.6666666666666666,
              "#ed7953"
             ],
             [
              0.7777777777777778,
              "#fb9f3a"
             ],
             [
              0.8888888888888888,
              "#fdca26"
             ],
             [
              1,
              "#f0f921"
             ]
            ],
            "type": "histogram2dcontour"
           }
          ],
          "mesh3d": [
           {
            "colorbar": {
             "outlinewidth": 0,
             "ticks": ""
            },
            "type": "mesh3d"
           }
          ],
          "parcoords": [
           {
            "line": {
             "colorbar": {
              "outlinewidth": 0,
              "ticks": ""
             }
            },
            "type": "parcoords"
           }
          ],
          "pie": [
           {
            "automargin": true,
            "type": "pie"
           }
          ],
          "scatter": [
           {
            "marker": {
             "line": {
              "color": "#283442"
             }
            },
            "type": "scatter"
           }
          ],
          "scatter3d": [
           {
            "line": {
             "colorbar": {
              "outlinewidth": 0,
              "ticks": ""
             }
            },
            "marker": {
             "colorbar": {
              "outlinewidth": 0,
              "ticks": ""
             }
            },
            "type": "scatter3d"
           }
          ],
          "scattercarpet": [
           {
            "marker": {
             "colorbar": {
              "outlinewidth": 0,
              "ticks": ""
             }
            },
            "type": "scattercarpet"
           }
          ],
          "scattergeo": [
           {
            "marker": {
             "colorbar": {
              "outlinewidth": 0,
              "ticks": ""
             }
            },
            "type": "scattergeo"
           }
          ],
          "scattergl": [
           {
            "marker": {
             "line": {
              "color": "#283442"
             }
            },
            "type": "scattergl"
           }
          ],
          "scattermapbox": [
           {
            "marker": {
             "colorbar": {
              "outlinewidth": 0,
              "ticks": ""
             }
            },
            "type": "scattermapbox"
           }
          ],
          "scatterpolar": [
           {
            "marker": {
             "colorbar": {
              "outlinewidth": 0,
              "ticks": ""
             }
            },
            "type": "scatterpolar"
           }
          ],
          "scatterpolargl": [
           {
            "marker": {
             "colorbar": {
              "outlinewidth": 0,
              "ticks": ""
             }
            },
            "type": "scatterpolargl"
           }
          ],
          "scatterternary": [
           {
            "marker": {
             "colorbar": {
              "outlinewidth": 0,
              "ticks": ""
             }
            },
            "type": "scatterternary"
           }
          ],
          "surface": [
           {
            "colorbar": {
             "outlinewidth": 0,
             "ticks": ""
            },
            "colorscale": [
             [
              0,
              "#0d0887"
             ],
             [
              0.1111111111111111,
              "#46039f"
             ],
             [
              0.2222222222222222,
              "#7201a8"
             ],
             [
              0.3333333333333333,
              "#9c179e"
             ],
             [
              0.4444444444444444,
              "#bd3786"
             ],
             [
              0.5555555555555556,
              "#d8576b"
             ],
             [
              0.6666666666666666,
              "#ed7953"
             ],
             [
              0.7777777777777778,
              "#fb9f3a"
             ],
             [
              0.8888888888888888,
              "#fdca26"
             ],
             [
              1,
              "#f0f921"
             ]
            ],
            "type": "surface"
           }
          ],
          "table": [
           {
            "cells": {
             "fill": {
              "color": "#506784"
             },
             "line": {
              "color": "rgb(17,17,17)"
             }
            },
            "header": {
             "fill": {
              "color": "#2a3f5f"
             },
             "line": {
              "color": "rgb(17,17,17)"
             }
            },
            "type": "table"
           }
          ]
         },
         "layout": {
          "annotationdefaults": {
           "arrowcolor": "#f2f5fa",
           "arrowhead": 0,
           "arrowwidth": 1
          },
          "autotypenumbers": "strict",
          "coloraxis": {
           "colorbar": {
            "outlinewidth": 0,
            "ticks": ""
           }
          },
          "colorscale": {
           "diverging": [
            [
             0,
             "#8e0152"
            ],
            [
             0.1,
             "#c51b7d"
            ],
            [
             0.2,
             "#de77ae"
            ],
            [
             0.3,
             "#f1b6da"
            ],
            [
             0.4,
             "#fde0ef"
            ],
            [
             0.5,
             "#f7f7f7"
            ],
            [
             0.6,
             "#e6f5d0"
            ],
            [
             0.7,
             "#b8e186"
            ],
            [
             0.8,
             "#7fbc41"
            ],
            [
             0.9,
             "#4d9221"
            ],
            [
             1,
             "#276419"
            ]
           ],
           "sequential": [
            [
             0,
             "#0d0887"
            ],
            [
             0.1111111111111111,
             "#46039f"
            ],
            [
             0.2222222222222222,
             "#7201a8"
            ],
            [
             0.3333333333333333,
             "#9c179e"
            ],
            [
             0.4444444444444444,
             "#bd3786"
            ],
            [
             0.5555555555555556,
             "#d8576b"
            ],
            [
             0.6666666666666666,
             "#ed7953"
            ],
            [
             0.7777777777777778,
             "#fb9f3a"
            ],
            [
             0.8888888888888888,
             "#fdca26"
            ],
            [
             1,
             "#f0f921"
            ]
           ],
           "sequentialminus": [
            [
             0,
             "#0d0887"
            ],
            [
             0.1111111111111111,
             "#46039f"
            ],
            [
             0.2222222222222222,
             "#7201a8"
            ],
            [
             0.3333333333333333,
             "#9c179e"
            ],
            [
             0.4444444444444444,
             "#bd3786"
            ],
            [
             0.5555555555555556,
             "#d8576b"
            ],
            [
             0.6666666666666666,
             "#ed7953"
            ],
            [
             0.7777777777777778,
             "#fb9f3a"
            ],
            [
             0.8888888888888888,
             "#fdca26"
            ],
            [
             1,
             "#f0f921"
            ]
           ]
          },
          "colorway": [
           "#636efa",
           "#EF553B",
           "#00cc96",
           "#ab63fa",
           "#FFA15A",
           "#19d3f3",
           "#FF6692",
           "#B6E880",
           "#FF97FF",
           "#FECB52"
          ],
          "font": {
           "color": "#f2f5fa"
          },
          "geo": {
           "bgcolor": "rgb(17,17,17)",
           "lakecolor": "rgb(17,17,17)",
           "landcolor": "rgb(17,17,17)",
           "showlakes": true,
           "showland": true,
           "subunitcolor": "#506784"
          },
          "hoverlabel": {
           "align": "left"
          },
          "hovermode": "closest",
          "mapbox": {
           "style": "dark"
          },
          "paper_bgcolor": "rgb(17,17,17)",
          "plot_bgcolor": "rgb(17,17,17)",
          "polar": {
           "angularaxis": {
            "gridcolor": "#506784",
            "linecolor": "#506784",
            "ticks": ""
           },
           "bgcolor": "rgb(17,17,17)",
           "radialaxis": {
            "gridcolor": "#506784",
            "linecolor": "#506784",
            "ticks": ""
           }
          },
          "scene": {
           "xaxis": {
            "backgroundcolor": "rgb(17,17,17)",
            "gridcolor": "#506784",
            "gridwidth": 2,
            "linecolor": "#506784",
            "showbackground": true,
            "ticks": "",
            "zerolinecolor": "#C8D4E3"
           },
           "yaxis": {
            "backgroundcolor": "rgb(17,17,17)",
            "gridcolor": "#506784",
            "gridwidth": 2,
            "linecolor": "#506784",
            "showbackground": true,
            "ticks": "",
            "zerolinecolor": "#C8D4E3"
           },
           "zaxis": {
            "backgroundcolor": "rgb(17,17,17)",
            "gridcolor": "#506784",
            "gridwidth": 2,
            "linecolor": "#506784",
            "showbackground": true,
            "ticks": "",
            "zerolinecolor": "#C8D4E3"
           }
          },
          "shapedefaults": {
           "line": {
            "color": "#f2f5fa"
           }
          },
          "sliderdefaults": {
           "bgcolor": "#C8D4E3",
           "bordercolor": "rgb(17,17,17)",
           "borderwidth": 1,
           "tickwidth": 0
          },
          "ternary": {
           "aaxis": {
            "gridcolor": "#506784",
            "linecolor": "#506784",
            "ticks": ""
           },
           "baxis": {
            "gridcolor": "#506784",
            "linecolor": "#506784",
            "ticks": ""
           },
           "bgcolor": "rgb(17,17,17)",
           "caxis": {
            "gridcolor": "#506784",
            "linecolor": "#506784",
            "ticks": ""
           }
          },
          "title": {
           "x": 0.05
          },
          "updatemenudefaults": {
           "bgcolor": "#506784",
           "borderwidth": 0
          },
          "xaxis": {
           "automargin": true,
           "gridcolor": "#283442",
           "linecolor": "#506784",
           "ticks": "",
           "title": {
            "standoff": 15
           },
           "zerolinecolor": "#283442",
           "zerolinewidth": 2
          },
          "yaxis": {
           "automargin": true,
           "gridcolor": "#283442",
           "linecolor": "#506784",
           "ticks": "",
           "title": {
            "standoff": 15
           },
           "zerolinecolor": "#283442",
           "zerolinewidth": 2
          }
         }
        },
        "xaxis": {
         "anchor": "y",
         "domain": [
          0,
          0.235
         ],
         "title": {}
        },
        "xaxis2": {
         "anchor": "y2",
         "domain": [
          0.255,
          0.49
         ],
         "title": {}
        },
        "xaxis3": {
         "anchor": "y3",
         "domain": [
          0.51,
          0.745
         ],
         "title": {}
        },
        "xaxis4": {
         "anchor": "y4",
         "domain": [
          0.7649999999999999,
          0.9999999999999999
         ],
         "title": {}
        },
        "yaxis": {
         "anchor": "x",
         "domain": [
          0,
          1
         ],
         "title": {
          "text": "count"
         }
        },
        "yaxis2": {
         "anchor": "x2",
         "domain": [
          0,
          1
         ],
         "matches": "y",
         "showticklabels": false
        },
        "yaxis3": {
         "anchor": "x3",
         "domain": [
          0,
          1
         ],
         "matches": "y",
         "showticklabels": false
        },
        "yaxis4": {
         "anchor": "x4",
         "domain": [
          0,
          1
         ],
         "matches": "y",
         "showticklabels": false
        }
       }
      }
     },
     "metadata": {},
     "output_type": "display_data"
    }
   ],
   "source": [
    "import plotly.express as px\n",
    "\n",
    "fig = px.bar(\n",
    "    expanded_df,\n",
    "    x=\"title\",\n",
    "    color=\"team\",\n",
    "    hover_name=\"name\",\n",
    "    hover_data=[\"team\", \"tz\", \"city\",\"manager\",\"languages\"],\n",
    "    facet_col=\"country\",\n",
    "    template=\"plotly_dark\",\n",
    ")\n",
    "fig.update_xaxes(matches=None, title_text=None)\n"
   ]
  },
  {
   "cell_type": "code",
   "execution_count": null,
   "metadata": {},
   "outputs": [],
   "source": []
  }
 ],
 "metadata": {
  "kernelspec": {
   "display_name": "peopleanalytics-hP1UcNMM",
   "language": "python",
   "name": "python3"
  },
  "language_info": {
   "codemirror_mode": {
    "name": "ipython",
    "version": 3
   },
   "file_extension": ".py",
   "mimetype": "text/x-python",
   "name": "python",
   "nbconvert_exporter": "python",
   "pygments_lexer": "ipython3",
   "version": "3.11.3"
  },
  "orig_nbformat": 4,
  "vscode": {
   "interpreter": {
    "hash": "a79ebb34bd880ae1609598d91f5437f974a2fc812a889a38194f0c3042249b1f"
   }
  }
 },
 "nbformat": 4,
 "nbformat_minor": 2
}
