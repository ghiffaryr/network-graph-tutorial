{
 "cells": [
  {
   "attachments": {},
   "cell_type": "markdown",
   "metadata": {},
   "source": [
    "# People\n",
    "\n",
    "What are they? How can we represent people in a meaningful way without having *real* data to draw from. In our organization we should have a few key pieces of information on each person:\n",
    "\n",
    "* Unique identifier (a name would be great)\n",
    "* Office/Location\n",
    "* Job Title\n",
    "* Team / Line of Business\n",
    "* Manager (this is key to understanding how reporting works)\n",
    "* Other info: programming languages, apps used, timezone, date hired, projects worked on, ...\n",
    "\n",
    "## Faker\n",
    "\n",
    "Let's generate some fake data! https://faker.readthedocs.io/en/master/"
   ]
  },
  {
   "cell_type": "code",
   "execution_count": 150,
   "metadata": {},
   "outputs": [
    {
     "data": {
      "text/plain": [
       "{'job': 'Scientific laboratory technician',\n",
       " 'company': 'Davis-Garcia',\n",
       " 'ssn': '676-50-6536',\n",
       " 'residence': '782 Reyes Lake Suite 394\\nLake Jenniferport, CA 73531',\n",
       " 'current_location': (Decimal('-46.844331'), Decimal('173.534615')),\n",
       " 'blood_group': 'A+',\n",
       " 'website': ['https://wade-hughes.org/',\n",
       "  'http://key.org/',\n",
       "  'https://www.luna-hall.com/'],\n",
       " 'username': 'sarahterrell',\n",
       " 'name': 'Carrie Smith',\n",
       " 'sex': 'F',\n",
       " 'address': '7619 Lane Lane\\nSouth Cynthiashire, GA 21547',\n",
       " 'mail': 'maryroberts@hotmail.com',\n",
       " 'birthdate': datetime.date(1965, 6, 13)}"
      ]
     },
     "execution_count": 150,
     "metadata": {},
     "output_type": "execute_result"
    }
   ],
   "source": [
    "from faker import Faker\n",
    "fake = Faker()\n",
    "\n",
    "fake.profile() # lots of great stuff in here!"
   ]
  },
  {
   "attachments": {},
   "cell_type": "markdown",
   "metadata": {},
   "source": [
    "We can also do things like ensure uniqueness for individual entries across all entries"
   ]
  },
  {
   "cell_type": "code",
   "execution_count": 151,
   "metadata": {},
   "outputs": [
    {
     "name": "stdout",
     "output_type": "stream",
     "text": [
      "Mrs.\n",
      "Mr.\n",
      "Mx.\n",
      "Dr.\n",
      "Ms.\n",
      "Ind.\n",
      "Miss\n",
      "Misc.\n",
      "😟\n"
     ]
    }
   ],
   "source": [
    "from faker.exceptions import UniquenessException\n",
    "import traceback\n",
    "\n",
    "try:\n",
    "    for i in range(10):\n",
    "        print(fake.unique.prefix())\n",
    "except UniquenessException:\n",
    "    print(\"😟\")"
   ]
  },
  {
   "cell_type": "markdown",
   "metadata": {},
   "source": [
    "Try generating a few people and see if it looks like a good representation of our organization"
   ]
  },
  {
   "cell_type": "code",
   "execution_count": 152,
   "metadata": {},
   "outputs": [
    {
     "data": {
      "text/plain": [
       "Ellipsis"
      ]
     },
     "execution_count": 152,
     "metadata": {},
     "output_type": "execute_result"
    }
   ],
   "source": [
    "..."
   ]
  },
  {
   "cell_type": "markdown",
   "metadata": {},
   "source": [
    "This is a good start but ... it's kind of wonky. We have people all over the world with so many different jobs! Let's keep the spirit of this but implement some of our own limitations on fields to ensure things line up with what we'd expect a company org to look like\n"
   ]
  },
  {
   "attachments": {},
   "cell_type": "markdown",
   "metadata": {},
   "source": [
    "First, a few more interesting features: we can also register new `providers` if anything is missing. If needed these can be customized for different locales "
   ]
  },
  {
   "cell_type": "code",
   "execution_count": 153,
   "metadata": {},
   "outputs": [
    {
     "data": {
      "text/plain": [
       "'Contract'"
      ]
     },
     "execution_count": 153,
     "metadata": {},
     "output_type": "execute_result"
    }
   ],
   "source": [
    "from faker.providers import DynamicProvider\n",
    "\n",
    "employment_status_provider = DynamicProvider(\n",
    "     provider_name=\"employment\",\n",
    "     elements=[\"Full Time\", \"Part Time\", \"Contract\"],\n",
    ")\n",
    "\n",
    "fake.add_provider(employment_status_provider)\n",
    "\n",
    "fake.employment()"
   ]
  },
  {
   "attachments": {},
   "cell_type": "markdown",
   "metadata": {},
   "source": [
    "We can customize this further by using the `Faker.BaseProvider`"
   ]
  },
  {
   "cell_type": "code",
   "execution_count": 154,
   "metadata": {},
   "outputs": [
    {
     "data": {
      "text/plain": [
       "'Contract'"
      ]
     },
     "execution_count": 154,
     "metadata": {},
     "output_type": "execute_result"
    }
   ],
   "source": [
    "# first, import a similar Provider or use the default one\n",
    "from more_itertools import one\n",
    "from faker.providers import BaseProvider\n",
    "\n",
    "# create new provider class\n",
    "class EmploymentStatus(BaseProvider):\n",
    "    statuses = {\"Full Time\": 0.7, \"Part Time\": 0.05, \"Contract\": 0.3}\n",
    "    def employment(self) -> str:\n",
    "        return one(fake.random.choices(\n",
    "            list(self.statuses), \n",
    "            weights=self.statuses.values()\n",
    "        ))\n",
    "\n",
    "# then add new provider to faker instance\n",
    "fake.add_provider(EmploymentStatus)\n",
    "\n",
    "fake.employment()\n"
   ]
  },
  {
   "attachments": {},
   "cell_type": "markdown",
   "metadata": {},
   "source": [
    "### A Tech Focused Person Data"
   ]
  },
  {
   "attachments": {},
   "cell_type": "markdown",
   "metadata": {},
   "source": [
    "To ground us in this task, let's define a new `Person` object that we can fill up with info (and a few other objects):"
   ]
  },
  {
   "cell_type": "code",
   "execution_count": 155,
   "metadata": {},
   "outputs": [],
   "source": [
    "from dataclasses import dataclass, field\n",
    "from typing import Literal\n",
    "from enum import Enum, auto\n",
    "import datetime\n",
    "\n",
    "class timezone(str, Enum):\n",
    "    EST = auto()\n",
    "    PST = auto()\n",
    "    UTC = auto()\n",
    "\n",
    "@dataclass\n",
    "class Location:\n",
    "    city: str\n",
    "    tz: timezone\n",
    "    country: str\n",
    "\n",
    "@dataclass\n",
    "class Person:\n",
    "    \"\"\"Someone who works in our company!\"\"\"\n",
    "    name: str\n",
    "    hire_date: datetime.date\n",
    "    status: Literal[\"Full Time\", \"Part Time\", \"Contract\"]\n",
    "    languages: list[str] = field(default_factory=list)\n",
    "    manager:str = None\n",
    "    team: str = None \n",
    "    title: str = None\n",
    "    location: Location = None"
   ]
  },
  {
   "cell_type": "code",
   "execution_count": 156,
   "metadata": {},
   "outputs": [
    {
     "data": {
      "text/plain": [
       "Person(name='Employee #1', hire_date=datetime.date(2023, 4, 24), status='Full Time', languages=[], manager=None, team=None, title=None, location=Location(city='New York', tz='EST', country='USA'))"
      ]
     },
     "execution_count": 156,
     "metadata": {},
     "output_type": "execute_result"
    }
   ],
   "source": [
    "Person(name=\"Employee #1\",hire_date=datetime.date.today(), status=\"Full Time\", location=Location(\"New York\", \"EST\", \"USA\"))"
   ]
  },
  {
   "cell_type": "code",
   "execution_count": 157,
   "metadata": {},
   "outputs": [],
   "source": [
    "import numpy as np\n",
    "import random\n",
    "\n",
    "def choose_a_few(\n",
    "    options: list[str],\n",
    "    weights: list[int | float] = None,\n",
    "    max_choices: int = None,\n",
    "    min_choices: int = 0,\n",
    ") -> list[str]:\n",
    "    \"\"\"A helpful function to pick a random number of choices from a list of options\n",
    "    \n",
    "    By default skews the weights toward the first options in the list\"\"\"\n",
    "    max_choices = np.clip(max_choices or len(options), min_choices, len(options))\n",
    "    \n",
    "    # how many choices will we make this time?\n",
    "    divisor = max_choices * (max_choices + 1) / 2    \n",
    "    k_weights = [int(x) / divisor for x in range(max_choices, min_choices-1, -1)]\n",
    "    n_choices = np.random.choice(list(range(min_choices,max_choices+1)), p=k_weights)\n",
    "    \n",
    "    # make the choices\n",
    "    choices = random.choices(options, weights=weights, k=n_choices)\n",
    "    return list(set(choices))\n"
   ]
  },
  {
   "attachments": {},
   "cell_type": "markdown",
   "metadata": {},
   "source": [
    "Now to make some people. Let's re-use whatever we can from `Faker` and then add some more of our own fields. We can also extend where needed to keep our code clear and consistent:"
   ]
  },
  {
   "cell_type": "code",
   "execution_count": 158,
   "metadata": {},
   "outputs": [],
   "source": [
    "class ProgrammingLanguages(BaseProvider):    \n",
    "    languages = {\n",
    "        \"Python\": 0.25,\n",
    "        \"Scala\": 0.1,\n",
    "        \"Go\": 0.08,\n",
    "        \"JavaScript\": 0.3,\n",
    "        \"Java\": 0.3,\n",
    "        \"Typescript\": 0.17,\n",
    "        \"Erlang\": 0.01,\n",
    "        \"Elixir\": 0.001,\n",
    "    }\n",
    "    def programming_languages(self) -> str:\n",
    "        return choose_a_few(list(self.languages), weights=self.languages.values())\n",
    "\n",
    "fake.add_provider(ProgrammingLanguages)\n"
   ]
  },
  {
   "cell_type": "code",
   "execution_count": 159,
   "metadata": {},
   "outputs": [
    {
     "data": {
      "text/plain": [
       "Person(name='Brandon Kennedy', hire_date=datetime.date(2022, 4, 12), status='Full Time', languages=['Java', 'JavaScript', 'Python'], manager=None, team=None, title=None, location=None)"
      ]
     },
     "execution_count": 159,
     "metadata": {},
     "output_type": "execute_result"
    }
   ],
   "source": [
    "def make_person() -> Person:\n",
    "    return Person(\n",
    "        name = fake.name(),\n",
    "        hire_date = fake.date_between(start_date=\"-3y\", end_date=\"today\"),\n",
    "        status = fake.employment(),\n",
    "        languages = fake.programming_languages(),\n",
    "        team = None, # hrmmmm this is harder\n",
    "        title = None, # let's be smarter with this\n",
    "        location = None, # let's also be smarter with this\n",
    "    )\n",
    "\n",
    "make_person()"
   ]
  },
  {
   "attachments": {},
   "cell_type": "markdown",
   "metadata": {},
   "source": [
    "Now we can generate more complex attributes in a smart way. Let's set up some rules about where offices are, what teams are in which offices, then pick titles based on other info (e.g. Developers probably know at least one language ... )"
   ]
  },
  {
   "cell_type": "code",
   "execution_count": 160,
   "metadata": {},
   "outputs": [
    {
     "data": {
      "text/plain": [
       "{'location': Location(city='London', tz='UTC', country='GBR'),\n",
       " 'title': 'Analyst',\n",
       " 'team': 'Business'}"
      ]
     },
     "execution_count": 160,
     "metadata": {},
     "output_type": "execute_result"
    }
   ],
   "source": [
    "TEAM_TITLES:dict[str,list[str]] = {\n",
    "    \"DevX\": [\"Engineer\", \"Engineer\", \"Engineer\", \"Engineer\", \"Engineer\", \"AVP\"],\n",
    "    \"DevOps\": [\"Engineer\", \"Senior Engineer\", \"Manager\"],\n",
    "    \"Sales\": [\"Associate\"],\n",
    "    \"Support\": [\"Analyst\", \"Manager\"],\n",
    "    \"Platform\": [\"Engineer\", \"Senior Engineer\",\"Managing Engineer\", \"AVP\", \"VP\"],\n",
    "    \"Product\": [\"Engineer\", \"Manager\", \"Product Owner\", \"AVP\", \"VP\"],\n",
    "    \"Internal Tools\": [\"Engineer\", \"Senior Engineer\", \"Manager\", \"AVP\", \"VP\"],\n",
    "    \"Business\": [\"Analyst\", \"Associate\", \"Vice President\", \"Director\", \"Managing Director\"]\n",
    "}\n",
    "\n",
    "\n",
    "def title_city_team():\n",
    "    # just a few locations\n",
    "    offices = {\n",
    "        location.city: location\n",
    "        for location in [\n",
    "            Location(\"New York\", tz=\"EST\", country=\"USA\"),\n",
    "            Location(\"Seattle\", tz=\"PST\", country=\"USA\"),\n",
    "            Location(\"Toronto\", tz=\"EST\", country=\"CAN\"),\n",
    "            Location(\"London\", tz=\"UTC\", country=\"GBR\"),\n",
    "            Location(\"Fort Lauderdale\", tz=\"EST\", country=\"USA\"),\n",
    "            Location(\"Dublin\", tz=\"UTC\", country=\"IRL\"),\n",
    "        ]\n",
    "    }\n",
    "    # codify the hierarchical structure\n",
    "    allowed_teams_per_office = {\n",
    "        \"New York\": [\"Sales\", \"Product\", \"Business\"],\n",
    "        \"Toronto\": [\"Platform\", \"Product\", \"Internal Tools\", \"Sales\", \"Business\"],\n",
    "        \"Fort Lauderdale\": [\"DevX\"],\n",
    "        \"Dublin\": [\"DevOps\", \"Support\"],\n",
    "        \"London\": [\"Sales\", \"Business\"],\n",
    "        \"Seattle\": [\"Internal Tools\", \"Product\", \"Platform\"],\n",
    "    }\n",
    "    allowed_titles_per_team = TEAM_TITLES\n",
    "\n",
    "    city = random.choice(list(offices))\n",
    "    team = random.choice(allowed_teams_per_office[city])\n",
    "    title = choose_a_few(\n",
    "        allowed_titles_per_team[team], max_choices=1, min_choices=1\n",
    "    ).pop()\n",
    "    \n",
    "    return {\n",
    "        \"location\": Location(city=city, tz=offices[city].tz, country=offices[city].country),\n",
    "        \"title\": title,\n",
    "        \"team\": team,\n",
    "    }\n",
    "\n",
    "\n",
    "title_city_team()\n"
   ]
  },
  {
   "attachments": {},
   "cell_type": "markdown",
   "metadata": {},
   "source": [
    "After running this we should have a better balanced org in terms of region + titles. Then we just need to add the connections in -- i.e. who's the boss?!"
   ]
  },
  {
   "cell_type": "code",
   "execution_count": 161,
   "metadata": {},
   "outputs": [],
   "source": [
    "def make_person() -> Person:\n",
    "    title_city_team_ = title_city_team()\n",
    "    technical = 1 if \"Engineer\" in title_city_team_[\"title\"] else 0\n",
    "    return Person(\n",
    "        name = fake.name(),\n",
    "        hire_date = fake.date_between(start_date=\"-3y\", end_date=\"today\"),\n",
    "        status = fake.employment(),\n",
    "        languages = fake.programming_languages(),\n",
    "        **title_city_team_,\n",
    "    )\n"
   ]
  },
  {
   "cell_type": "code",
   "execution_count": 162,
   "metadata": {},
   "outputs": [
    {
     "data": {
      "text/html": [
       "<div>\n",
       "<style scoped>\n",
       "    .dataframe tbody tr th:only-of-type {\n",
       "        vertical-align: middle;\n",
       "    }\n",
       "\n",
       "    .dataframe tbody tr th {\n",
       "        vertical-align: top;\n",
       "    }\n",
       "\n",
       "    .dataframe thead th {\n",
       "        text-align: right;\n",
       "    }\n",
       "</style>\n",
       "<table border=\"1\" class=\"dataframe\">\n",
       "  <thead>\n",
       "    <tr style=\"text-align: right;\">\n",
       "      <th></th>\n",
       "      <th>name</th>\n",
       "      <th>hire_date</th>\n",
       "      <th>status</th>\n",
       "      <th>languages</th>\n",
       "      <th>manager</th>\n",
       "      <th>team</th>\n",
       "      <th>title</th>\n",
       "      <th>location</th>\n",
       "    </tr>\n",
       "  </thead>\n",
       "  <tbody>\n",
       "    <tr>\n",
       "      <th>0</th>\n",
       "      <td>Karen Sparks</td>\n",
       "      <td>2021-10-13</td>\n",
       "      <td>Full Time</td>\n",
       "      <td>[]</td>\n",
       "      <td>None</td>\n",
       "      <td>Support</td>\n",
       "      <td>Manager</td>\n",
       "      <td>{'city': 'Dublin', 'tz': 'UTC', 'country': 'IRL'}</td>\n",
       "    </tr>\n",
       "    <tr>\n",
       "      <th>1</th>\n",
       "      <td>Douglas Joseph</td>\n",
       "      <td>2022-05-02</td>\n",
       "      <td>Contract</td>\n",
       "      <td>[Java, Typescript, JavaScript]</td>\n",
       "      <td>None</td>\n",
       "      <td>DevX</td>\n",
       "      <td>Engineer</td>\n",
       "      <td>{'city': 'Fort Lauderdale', 'tz': 'EST', 'coun...</td>\n",
       "    </tr>\n",
       "    <tr>\n",
       "      <th>2</th>\n",
       "      <td>Jennifer Beltran</td>\n",
       "      <td>2023-01-18</td>\n",
       "      <td>Full Time</td>\n",
       "      <td>[]</td>\n",
       "      <td>None</td>\n",
       "      <td>DevX</td>\n",
       "      <td>Engineer</td>\n",
       "      <td>{'city': 'Fort Lauderdale', 'tz': 'EST', 'coun...</td>\n",
       "    </tr>\n",
       "    <tr>\n",
       "      <th>3</th>\n",
       "      <td>Jessica Miller</td>\n",
       "      <td>2022-10-28</td>\n",
       "      <td>Full Time</td>\n",
       "      <td>[Python]</td>\n",
       "      <td>None</td>\n",
       "      <td>Business</td>\n",
       "      <td>Managing Director</td>\n",
       "      <td>{'city': 'New York', 'tz': 'EST', 'country': '...</td>\n",
       "    </tr>\n",
       "    <tr>\n",
       "      <th>4</th>\n",
       "      <td>Sandra Fuller</td>\n",
       "      <td>2023-02-19</td>\n",
       "      <td>Full Time</td>\n",
       "      <td>[Go, Java, JavaScript, Python]</td>\n",
       "      <td>None</td>\n",
       "      <td>Platform</td>\n",
       "      <td>VP</td>\n",
       "      <td>{'city': 'Toronto', 'tz': 'EST', 'country': 'C...</td>\n",
       "    </tr>\n",
       "  </tbody>\n",
       "</table>\n",
       "</div>"
      ],
      "text/plain": [
       "               name   hire_date     status                       languages  \\\n",
       "0      Karen Sparks  2021-10-13  Full Time                              []   \n",
       "1    Douglas Joseph  2022-05-02   Contract  [Java, Typescript, JavaScript]   \n",
       "2  Jennifer Beltran  2023-01-18  Full Time                              []   \n",
       "3    Jessica Miller  2022-10-28  Full Time                        [Python]   \n",
       "4     Sandra Fuller  2023-02-19  Full Time  [Go, Java, JavaScript, Python]   \n",
       "\n",
       "  manager      team              title  \\\n",
       "0    None   Support            Manager   \n",
       "1    None      DevX           Engineer   \n",
       "2    None      DevX           Engineer   \n",
       "3    None  Business  Managing Director   \n",
       "4    None  Platform                 VP   \n",
       "\n",
       "                                            location  \n",
       "0  {'city': 'Dublin', 'tz': 'UTC', 'country': 'IRL'}  \n",
       "1  {'city': 'Fort Lauderdale', 'tz': 'EST', 'coun...  \n",
       "2  {'city': 'Fort Lauderdale', 'tz': 'EST', 'coun...  \n",
       "3  {'city': 'New York', 'tz': 'EST', 'country': '...  \n",
       "4  {'city': 'Toronto', 'tz': 'EST', 'country': 'C...  "
      ]
     },
     "execution_count": 162,
     "metadata": {},
     "output_type": "execute_result"
    }
   ],
   "source": [
    "import pandas as pd\n",
    "people_df = pd.DataFrame((make_person() for _ in range(150)))\n",
    "people_df.head()"
   ]
  },
  {
   "attachments": {},
   "cell_type": "markdown",
   "metadata": {},
   "source": [
    "So, let's group by Team and then pick a manager for everyone. Let's use these rules:\n",
    "\n",
    "* People report to someone of a higher title if possible, else to a peer\n",
    "* Reporting happens within a team\n",
    "* We already ordered `TEAM_TITLES` based on *rank*\n",
    "* Team leads should be listed as reporting to themselves (for now)"
   ]
  },
  {
   "cell_type": "code",
   "execution_count": 165,
   "metadata": {},
   "outputs": [
    {
     "data": {
      "text/html": [
       "<div>\n",
       "<style scoped>\n",
       "    .dataframe tbody tr th:only-of-type {\n",
       "        vertical-align: middle;\n",
       "    }\n",
       "\n",
       "    .dataframe tbody tr th {\n",
       "        vertical-align: top;\n",
       "    }\n",
       "\n",
       "    .dataframe thead th {\n",
       "        text-align: right;\n",
       "    }\n",
       "</style>\n",
       "<table border=\"1\" class=\"dataframe\">\n",
       "  <thead>\n",
       "    <tr style=\"text-align: right;\">\n",
       "      <th></th>\n",
       "      <th>name</th>\n",
       "      <th>hire_date</th>\n",
       "      <th>status</th>\n",
       "      <th>languages</th>\n",
       "      <th>manager</th>\n",
       "      <th>team</th>\n",
       "      <th>title</th>\n",
       "      <th>location</th>\n",
       "      <th>rank</th>\n",
       "    </tr>\n",
       "  </thead>\n",
       "  <tbody>\n",
       "    <tr>\n",
       "      <th>8</th>\n",
       "      <td>Brian Lewis</td>\n",
       "      <td>2021-09-28</td>\n",
       "      <td>Full Time</td>\n",
       "      <td>[Typescript]</td>\n",
       "      <td>None</td>\n",
       "      <td>Platform</td>\n",
       "      <td>VP</td>\n",
       "      <td>{'city': 'Toronto', 'tz': 'EST', 'country': 'C...</td>\n",
       "      <td>5.0</td>\n",
       "    </tr>\n",
       "    <tr>\n",
       "      <th>81</th>\n",
       "      <td>Kayla Baker</td>\n",
       "      <td>2022-04-19</td>\n",
       "      <td>Contract</td>\n",
       "      <td>[Erlang, Scala, JavaScript, Python]</td>\n",
       "      <td>None</td>\n",
       "      <td>Business</td>\n",
       "      <td>Director</td>\n",
       "      <td>{'city': 'London', 'tz': 'UTC', 'country': 'GBR'}</td>\n",
       "      <td>4.0</td>\n",
       "    </tr>\n",
       "    <tr>\n",
       "      <th>41</th>\n",
       "      <td>Vincent Rodriguez</td>\n",
       "      <td>2022-11-10</td>\n",
       "      <td>Contract</td>\n",
       "      <td>[]</td>\n",
       "      <td>None</td>\n",
       "      <td>Product</td>\n",
       "      <td>VP</td>\n",
       "      <td>{'city': 'New York', 'tz': 'EST', 'country': '...</td>\n",
       "      <td>5.0</td>\n",
       "    </tr>\n",
       "  </tbody>\n",
       "</table>\n",
       "</div>"
      ],
      "text/plain": [
       "                 name   hire_date     status  \\\n",
       "8         Brian Lewis  2021-09-28  Full Time   \n",
       "81        Kayla Baker  2022-04-19   Contract   \n",
       "41  Vincent Rodriguez  2022-11-10   Contract   \n",
       "\n",
       "                              languages manager      team     title  \\\n",
       "8                          [Typescript]    None  Platform        VP   \n",
       "81  [Erlang, Scala, JavaScript, Python]    None  Business  Director   \n",
       "41                                   []    None   Product        VP   \n",
       "\n",
       "                                             location  rank  \n",
       "8   {'city': 'Toronto', 'tz': 'EST', 'country': 'C...   5.0  \n",
       "81  {'city': 'London', 'tz': 'UTC', 'country': 'GBR'}   4.0  \n",
       "41  {'city': 'New York', 'tz': 'EST', 'country': '...   5.0  "
      ]
     },
     "execution_count": 165,
     "metadata": {},
     "output_type": "execute_result"
    }
   ],
   "source": [
    "# calculate team ranks\n",
    "ranks = {team: {title: rank + 1 for rank,title in enumerate(titles)} for team, titles in TEAM_TITLES.items()}\n",
    "for team in ranks:\n",
    "    people_df.loc[people_df.team==team, \"rank\"] = people_df.loc[people_df.team==team].title.map(ranks[team])\n",
    "people_df = people_df.sort_values(by=[\"team\",\"rank\"])\n",
    "people_df.sample(3)"
   ]
  },
  {
   "cell_type": "code",
   "execution_count": 166,
   "metadata": {},
   "outputs": [
    {
     "data": {
      "text/html": [
       "<div>\n",
       "<style scoped>\n",
       "    .dataframe tbody tr th:only-of-type {\n",
       "        vertical-align: middle;\n",
       "    }\n",
       "\n",
       "    .dataframe tbody tr th {\n",
       "        vertical-align: top;\n",
       "    }\n",
       "\n",
       "    .dataframe thead th {\n",
       "        text-align: right;\n",
       "    }\n",
       "</style>\n",
       "<table border=\"1\" class=\"dataframe\">\n",
       "  <thead>\n",
       "    <tr style=\"text-align: right;\">\n",
       "      <th></th>\n",
       "      <th>name</th>\n",
       "      <th>hire_date</th>\n",
       "      <th>status</th>\n",
       "      <th>languages</th>\n",
       "      <th>manager</th>\n",
       "      <th>team</th>\n",
       "      <th>title</th>\n",
       "      <th>location</th>\n",
       "      <th>rank</th>\n",
       "    </tr>\n",
       "  </thead>\n",
       "  <tbody>\n",
       "    <tr>\n",
       "      <th>0</th>\n",
       "      <td>Chad White</td>\n",
       "      <td>2020-11-05</td>\n",
       "      <td>Full Time</td>\n",
       "      <td>[JavaScript]</td>\n",
       "      <td>Chad White</td>\n",
       "      <td>Business</td>\n",
       "      <td>Analyst</td>\n",
       "      <td>{'city': 'London', 'tz': 'UTC', 'country': 'GBR'}</td>\n",
       "      <td>1.0</td>\n",
       "    </tr>\n",
       "    <tr>\n",
       "      <th>1</th>\n",
       "      <td>Charles Jones</td>\n",
       "      <td>2020-11-07</td>\n",
       "      <td>Full Time</td>\n",
       "      <td>[]</td>\n",
       "      <td>Chad White</td>\n",
       "      <td>Business</td>\n",
       "      <td>Analyst</td>\n",
       "      <td>{'city': 'London', 'tz': 'UTC', 'country': 'GBR'}</td>\n",
       "      <td>1.0</td>\n",
       "    </tr>\n",
       "    <tr>\n",
       "      <th>2</th>\n",
       "      <td>Lisa Nelson</td>\n",
       "      <td>2023-03-15</td>\n",
       "      <td>Full Time</td>\n",
       "      <td>[Go, Typescript, JavaScript, Python]</td>\n",
       "      <td>Chad White</td>\n",
       "      <td>Business</td>\n",
       "      <td>Analyst</td>\n",
       "      <td>{'city': 'London', 'tz': 'UTC', 'country': 'GBR'}</td>\n",
       "      <td>1.0</td>\n",
       "    </tr>\n",
       "    <tr>\n",
       "      <th>3</th>\n",
       "      <td>Austin Fowler</td>\n",
       "      <td>2022-06-16</td>\n",
       "      <td>Full Time</td>\n",
       "      <td>[Java, JavaScript, Python]</td>\n",
       "      <td>Chad White</td>\n",
       "      <td>Business</td>\n",
       "      <td>Analyst</td>\n",
       "      <td>{'city': 'London', 'tz': 'UTC', 'country': 'GBR'}</td>\n",
       "      <td>1.0</td>\n",
       "    </tr>\n",
       "    <tr>\n",
       "      <th>4</th>\n",
       "      <td>Michael Anderson</td>\n",
       "      <td>2020-05-06</td>\n",
       "      <td>Full Time</td>\n",
       "      <td>[Typescript]</td>\n",
       "      <td>Chad White</td>\n",
       "      <td>Business</td>\n",
       "      <td>Analyst</td>\n",
       "      <td>{'city': 'London', 'tz': 'UTC', 'country': 'GBR'}</td>\n",
       "      <td>1.0</td>\n",
       "    </tr>\n",
       "  </tbody>\n",
       "</table>\n",
       "</div>"
      ],
      "text/plain": [
       "               name   hire_date     status  \\\n",
       "0        Chad White  2020-11-05  Full Time   \n",
       "1     Charles Jones  2020-11-07  Full Time   \n",
       "2       Lisa Nelson  2023-03-15  Full Time   \n",
       "3     Austin Fowler  2022-06-16  Full Time   \n",
       "4  Michael Anderson  2020-05-06  Full Time   \n",
       "\n",
       "                              languages     manager      team    title  \\\n",
       "0                          [JavaScript]  Chad White  Business  Analyst   \n",
       "1                                    []  Chad White  Business  Analyst   \n",
       "2  [Go, Typescript, JavaScript, Python]  Chad White  Business  Analyst   \n",
       "3            [Java, JavaScript, Python]  Chad White  Business  Analyst   \n",
       "4                          [Typescript]  Chad White  Business  Analyst   \n",
       "\n",
       "                                            location  rank  \n",
       "0  {'city': 'London', 'tz': 'UTC', 'country': 'GBR'}   1.0  \n",
       "1  {'city': 'London', 'tz': 'UTC', 'country': 'GBR'}   1.0  \n",
       "2  {'city': 'London', 'tz': 'UTC', 'country': 'GBR'}   1.0  \n",
       "3  {'city': 'London', 'tz': 'UTC', 'country': 'GBR'}   1.0  \n",
       "4  {'city': 'London', 'tz': 'UTC', 'country': 'GBR'}   1.0  "
      ]
     },
     "execution_count": 166,
     "metadata": {},
     "output_type": "execute_result"
    }
   ],
   "source": [
    "# determine supervisor\n",
    "def naivereportsto(row, df):\n",
    "    supervisor = (\n",
    "        df[(df.index < row.name)].query(f\"\"\"rank <= {row[\"rank\"]}-1\"\"\").tail(1)[\"name\"]\n",
    "    )\n",
    "    supervisor = supervisor.item() if not supervisor.empty else None\n",
    "    peer = df[(df.index < row.name)].query(f\"\"\"rank  == {row[\"rank\"]}\"\"\").head(1)[\"name\"]\n",
    "    peer = peer.item() if not peer.empty else None\n",
    "    return supervisor or peer or row[\"name\"]\n",
    "\n",
    "\n",
    "def reportsto(df):\n",
    "    return df.assign(manager=df.apply(naivereportsto, df=df, axis=1))\n",
    "\n",
    "\n",
    "def supervisors(df):\n",
    "    df = df.groupby(\"team\", group_keys=False).apply(reportsto).reset_index(drop=True)\n",
    "    return df\n",
    "\n",
    "\n",
    "people_df = people_df.pipe(supervisors)\n",
    "people_df.head(5)\n"
   ]
  },
  {
   "attachments": {},
   "cell_type": "markdown",
   "metadata": {},
   "source": [
    "Now we just need a CEO for all the team leads to report to. Set their manager as themselves to help us out later. We need to make sure to include all the other information in the DF that we just generated, namely `rank` and `manager`. Here let's also set the CEO as reporting to themselves "
   ]
  },
  {
   "cell_type": "code",
   "execution_count": 169,
   "metadata": {},
   "outputs": [],
   "source": [
    "CEO = make_person().__dict__ | {\"team\":\"CEO\", \"title\":\"CEO\", \"status\":\"Full Time\"}\n",
    "CEO[\"location\"] = CEO[\"location\"].__dict__\n",
    "people_df = pd.concat([people_df, pd.DataFrame([CEO])])\n",
    "CEO_mask = people_df.name==CEO[\"name\"]\n",
    "people_df.loc[(people_df.manager == people_df.name) | CEO_mask ,\"manager\"]=CEO[\"name\"]\n",
    "people_df.loc[CEO_mask, \"rank\"] = people_df[\"rank\"].max()+1"
   ]
  },
  {
   "attachments": {},
   "cell_type": "markdown",
   "metadata": {},
   "source": [
    "Alright, we have something now. Does this seems reasonably distributed? Let's use `plotly` to explore our people's dimensions and get a feel for the data"
   ]
  },
  {
   "cell_type": "code",
   "execution_count": 173,
   "metadata": {},
   "outputs": [
    {
     "data": {
      "text/html": [
       "<div>\n",
       "<style scoped>\n",
       "    .dataframe tbody tr th:only-of-type {\n",
       "        vertical-align: middle;\n",
       "    }\n",
       "\n",
       "    .dataframe tbody tr th {\n",
       "        vertical-align: top;\n",
       "    }\n",
       "\n",
       "    .dataframe thead th {\n",
       "        text-align: right;\n",
       "    }\n",
       "</style>\n",
       "<table border=\"1\" class=\"dataframe\">\n",
       "  <thead>\n",
       "    <tr style=\"text-align: right;\">\n",
       "      <th></th>\n",
       "      <th>name</th>\n",
       "      <th>hire_date</th>\n",
       "      <th>status</th>\n",
       "      <th>languages</th>\n",
       "      <th>manager</th>\n",
       "      <th>team</th>\n",
       "      <th>title</th>\n",
       "      <th>location</th>\n",
       "      <th>rank</th>\n",
       "      <th>city</th>\n",
       "      <th>tz</th>\n",
       "      <th>country</th>\n",
       "    </tr>\n",
       "  </thead>\n",
       "  <tbody>\n",
       "    <tr>\n",
       "      <th>0</th>\n",
       "      <td>Chad White</td>\n",
       "      <td>2020-11-05</td>\n",
       "      <td>Full Time</td>\n",
       "      <td>[JavaScript]</td>\n",
       "      <td>Lindsey Miller</td>\n",
       "      <td>Business</td>\n",
       "      <td>Analyst</td>\n",
       "      <td>{'city': 'London', 'tz': 'UTC', 'country': 'GBR'}</td>\n",
       "      <td>1.0</td>\n",
       "      <td>London</td>\n",
       "      <td>UTC</td>\n",
       "      <td>GBR</td>\n",
       "    </tr>\n",
       "    <tr>\n",
       "      <th>1</th>\n",
       "      <td>Charles Jones</td>\n",
       "      <td>2020-11-07</td>\n",
       "      <td>Full Time</td>\n",
       "      <td>[]</td>\n",
       "      <td>Chad White</td>\n",
       "      <td>Business</td>\n",
       "      <td>Analyst</td>\n",
       "      <td>{'city': 'London', 'tz': 'UTC', 'country': 'GBR'}</td>\n",
       "      <td>1.0</td>\n",
       "      <td>London</td>\n",
       "      <td>UTC</td>\n",
       "      <td>GBR</td>\n",
       "    </tr>\n",
       "    <tr>\n",
       "      <th>2</th>\n",
       "      <td>Lisa Nelson</td>\n",
       "      <td>2023-03-15</td>\n",
       "      <td>Full Time</td>\n",
       "      <td>[Go, Typescript, JavaScript, Python]</td>\n",
       "      <td>Chad White</td>\n",
       "      <td>Business</td>\n",
       "      <td>Analyst</td>\n",
       "      <td>{'city': 'London', 'tz': 'UTC', 'country': 'GBR'}</td>\n",
       "      <td>1.0</td>\n",
       "      <td>London</td>\n",
       "      <td>UTC</td>\n",
       "      <td>GBR</td>\n",
       "    </tr>\n",
       "    <tr>\n",
       "      <th>3</th>\n",
       "      <td>Austin Fowler</td>\n",
       "      <td>2022-06-16</td>\n",
       "      <td>Full Time</td>\n",
       "      <td>[Java, JavaScript, Python]</td>\n",
       "      <td>Chad White</td>\n",
       "      <td>Business</td>\n",
       "      <td>Analyst</td>\n",
       "      <td>{'city': 'London', 'tz': 'UTC', 'country': 'GBR'}</td>\n",
       "      <td>1.0</td>\n",
       "      <td>London</td>\n",
       "      <td>UTC</td>\n",
       "      <td>GBR</td>\n",
       "    </tr>\n",
       "    <tr>\n",
       "      <th>4</th>\n",
       "      <td>Michael Anderson</td>\n",
       "      <td>2020-05-06</td>\n",
       "      <td>Full Time</td>\n",
       "      <td>[Typescript]</td>\n",
       "      <td>Chad White</td>\n",
       "      <td>Business</td>\n",
       "      <td>Analyst</td>\n",
       "      <td>{'city': 'London', 'tz': 'UTC', 'country': 'GBR'}</td>\n",
       "      <td>1.0</td>\n",
       "      <td>London</td>\n",
       "      <td>UTC</td>\n",
       "      <td>GBR</td>\n",
       "    </tr>\n",
       "    <tr>\n",
       "      <th>...</th>\n",
       "      <td>...</td>\n",
       "      <td>...</td>\n",
       "      <td>...</td>\n",
       "      <td>...</td>\n",
       "      <td>...</td>\n",
       "      <td>...</td>\n",
       "      <td>...</td>\n",
       "      <td>...</td>\n",
       "      <td>...</td>\n",
       "      <td>...</td>\n",
       "      <td>...</td>\n",
       "      <td>...</td>\n",
       "    </tr>\n",
       "    <tr>\n",
       "      <th>146</th>\n",
       "      <td>Jacob Kaufman</td>\n",
       "      <td>2021-01-15</td>\n",
       "      <td>Contract</td>\n",
       "      <td>[Python]</td>\n",
       "      <td>Michael Gallagher</td>\n",
       "      <td>Support</td>\n",
       "      <td>Manager</td>\n",
       "      <td>{'city': 'Dublin', 'tz': 'UTC', 'country': 'IRL'}</td>\n",
       "      <td>2.0</td>\n",
       "      <td>Dublin</td>\n",
       "      <td>UTC</td>\n",
       "      <td>IRL</td>\n",
       "    </tr>\n",
       "    <tr>\n",
       "      <th>147</th>\n",
       "      <td>Alexander Gonzales</td>\n",
       "      <td>2020-07-22</td>\n",
       "      <td>Full Time</td>\n",
       "      <td>[Java, Scala, Typescript, Python]</td>\n",
       "      <td>Charles Fox</td>\n",
       "      <td>Support</td>\n",
       "      <td>Manager</td>\n",
       "      <td>{'city': 'Dublin', 'tz': 'UTC', 'country': 'IRL'}</td>\n",
       "      <td>2.0</td>\n",
       "      <td>Dublin</td>\n",
       "      <td>UTC</td>\n",
       "      <td>IRL</td>\n",
       "    </tr>\n",
       "    <tr>\n",
       "      <th>148</th>\n",
       "      <td>Elizabeth Wilkerson</td>\n",
       "      <td>2022-07-02</td>\n",
       "      <td>Full Time</td>\n",
       "      <td>[Typescript]</td>\n",
       "      <td>Lisa Long</td>\n",
       "      <td>Support</td>\n",
       "      <td>Manager</td>\n",
       "      <td>{'city': 'Dublin', 'tz': 'UTC', 'country': 'IRL'}</td>\n",
       "      <td>2.0</td>\n",
       "      <td>Dublin</td>\n",
       "      <td>UTC</td>\n",
       "      <td>IRL</td>\n",
       "    </tr>\n",
       "    <tr>\n",
       "      <th>149</th>\n",
       "      <td>Kathryn Smith</td>\n",
       "      <td>2020-06-29</td>\n",
       "      <td>Full Time</td>\n",
       "      <td>[Java]</td>\n",
       "      <td>Lisa Long</td>\n",
       "      <td>Support</td>\n",
       "      <td>Manager</td>\n",
       "      <td>{'city': 'Dublin', 'tz': 'UTC', 'country': 'IRL'}</td>\n",
       "      <td>2.0</td>\n",
       "      <td>Dublin</td>\n",
       "      <td>UTC</td>\n",
       "      <td>IRL</td>\n",
       "    </tr>\n",
       "    <tr>\n",
       "      <th>0</th>\n",
       "      <td>Lindsey Miller</td>\n",
       "      <td>2020-07-19</td>\n",
       "      <td>Full Time</td>\n",
       "      <td>[Java, Typescript]</td>\n",
       "      <td>Lindsey Miller</td>\n",
       "      <td>CEO</td>\n",
       "      <td>CEO</td>\n",
       "      <td>{'city': 'Dublin', 'tz': 'UTC', 'country': 'IRL'}</td>\n",
       "      <td>7.0</td>\n",
       "      <td>Dublin</td>\n",
       "      <td>UTC</td>\n",
       "      <td>IRL</td>\n",
       "    </tr>\n",
       "  </tbody>\n",
       "</table>\n",
       "<p>151 rows × 12 columns</p>\n",
       "</div>"
      ],
      "text/plain": [
       "                    name   hire_date     status  \\\n",
       "0             Chad White  2020-11-05  Full Time   \n",
       "1          Charles Jones  2020-11-07  Full Time   \n",
       "2            Lisa Nelson  2023-03-15  Full Time   \n",
       "3          Austin Fowler  2022-06-16  Full Time   \n",
       "4       Michael Anderson  2020-05-06  Full Time   \n",
       "..                   ...         ...        ...   \n",
       "146        Jacob Kaufman  2021-01-15   Contract   \n",
       "147   Alexander Gonzales  2020-07-22  Full Time   \n",
       "148  Elizabeth Wilkerson  2022-07-02  Full Time   \n",
       "149        Kathryn Smith  2020-06-29  Full Time   \n",
       "0         Lindsey Miller  2020-07-19  Full Time   \n",
       "\n",
       "                                languages            manager      team  \\\n",
       "0                            [JavaScript]     Lindsey Miller  Business   \n",
       "1                                      []         Chad White  Business   \n",
       "2    [Go, Typescript, JavaScript, Python]         Chad White  Business   \n",
       "3              [Java, JavaScript, Python]         Chad White  Business   \n",
       "4                            [Typescript]         Chad White  Business   \n",
       "..                                    ...                ...       ...   \n",
       "146                              [Python]  Michael Gallagher   Support   \n",
       "147     [Java, Scala, Typescript, Python]        Charles Fox   Support   \n",
       "148                          [Typescript]          Lisa Long   Support   \n",
       "149                                [Java]          Lisa Long   Support   \n",
       "0                      [Java, Typescript]     Lindsey Miller       CEO   \n",
       "\n",
       "       title                                           location  rank    city  \\\n",
       "0    Analyst  {'city': 'London', 'tz': 'UTC', 'country': 'GBR'}   1.0  London   \n",
       "1    Analyst  {'city': 'London', 'tz': 'UTC', 'country': 'GBR'}   1.0  London   \n",
       "2    Analyst  {'city': 'London', 'tz': 'UTC', 'country': 'GBR'}   1.0  London   \n",
       "3    Analyst  {'city': 'London', 'tz': 'UTC', 'country': 'GBR'}   1.0  London   \n",
       "4    Analyst  {'city': 'London', 'tz': 'UTC', 'country': 'GBR'}   1.0  London   \n",
       "..       ...                                                ...   ...     ...   \n",
       "146  Manager  {'city': 'Dublin', 'tz': 'UTC', 'country': 'IRL'}   2.0  Dublin   \n",
       "147  Manager  {'city': 'Dublin', 'tz': 'UTC', 'country': 'IRL'}   2.0  Dublin   \n",
       "148  Manager  {'city': 'Dublin', 'tz': 'UTC', 'country': 'IRL'}   2.0  Dublin   \n",
       "149  Manager  {'city': 'Dublin', 'tz': 'UTC', 'country': 'IRL'}   2.0  Dublin   \n",
       "0        CEO  {'city': 'Dublin', 'tz': 'UTC', 'country': 'IRL'}   7.0  Dublin   \n",
       "\n",
       "      tz country  \n",
       "0    UTC     GBR  \n",
       "1    UTC     GBR  \n",
       "2    UTC     GBR  \n",
       "3    UTC     GBR  \n",
       "4    UTC     GBR  \n",
       "..   ...     ...  \n",
       "146  UTC     IRL  \n",
       "147  UTC     IRL  \n",
       "148  UTC     IRL  \n",
       "149  UTC     IRL  \n",
       "0    UTC     IRL  \n",
       "\n",
       "[151 rows x 12 columns]"
      ]
     },
     "execution_count": 173,
     "metadata": {},
     "output_type": "execute_result"
    }
   ],
   "source": [
    "# let's flatten the nested pieces of the DataFrame (`people_df.location`)\n",
    "expanded_df = people_df.assign(**people_df.location.apply(pd.Series))\n",
    "expanded_df"
   ]
  },
  {
   "cell_type": "code",
   "execution_count": 176,
   "metadata": {},
   "outputs": [
    {
     "data": {
      "application/vnd.plotly.v1+json": {
       "config": {
        "plotlyServerURL": "https://plot.ly"
       },
       "data": [
        {
         "alignmentgroup": "True",
         "customdata": [
          [
           "Business",
           "UTC",
           "London",
           "Lindsey Miller",
           [
            "JavaScript"
           ]
          ],
          [
           "Business",
           "UTC",
           "London",
           "Chad White",
           []
          ],
          [
           "Business",
           "UTC",
           "London",
           "Chad White",
           [
            "Go",
            "Typescript",
            "JavaScript",
            "Python"
           ]
          ],
          [
           "Business",
           "UTC",
           "London",
           "Chad White",
           [
            "Java",
            "JavaScript",
            "Python"
           ]
          ],
          [
           "Business",
           "UTC",
           "London",
           "Chad White",
           [
            "Typescript"
           ]
          ],
          [
           "Business",
           "UTC",
           "London",
           "Lindsey Miller",
           [
            "Java",
            "Python"
           ]
          ],
          [
           "Business",
           "UTC",
           "London",
           "Grace Miller",
           [
            "Typescript",
            "JavaScript"
           ]
          ],
          [
           "Business",
           "UTC",
           "London",
           "Grace Miller",
           [
            "JavaScript",
            "Java",
            "Scala",
            "Typescript"
           ]
          ],
          [
           "Business",
           "UTC",
           "London",
           "Grace Miller",
           [
            "Python"
           ]
          ],
          [
           "Business",
           "UTC",
           "London",
           "Austin Fowler",
           [
            "JavaScript",
            "Python"
           ]
          ],
          [
           "Business",
           "UTC",
           "London",
           "Vickie Jackson",
           [
            "Erlang",
            "Scala",
            "JavaScript",
            "Python"
           ]
          ],
          [
           "Business",
           "UTC",
           "London",
           "Vickie Jackson",
           [
            "Python"
           ]
          ],
          [
           "Business",
           "UTC",
           "London",
           "Vickie Jackson",
           [
            "Go",
            "Java",
            "JavaScript",
            "Python"
           ]
          ],
          [
           "Business",
           "UTC",
           "London",
           "Vickie Jackson",
           []
          ],
          [
           "Business",
           "UTC",
           "London",
           "Kimberly Williams",
           [
            "Java",
            "JavaScript",
            "Python"
           ]
          ]
         ],
         "hovertemplate": "<b>%{hovertext}</b><br><br>team=%{customdata[0]}<br>country=GBR<br>title=%{x}<br>count=%{y}<br>tz=%{customdata[1]}<br>city=%{customdata[2]}<br>manager=%{customdata[3]}<br>languages=%{customdata[4]}<extra></extra>",
         "hovertext": [
          "Chad White",
          "Charles Jones",
          "Lisa Nelson",
          "Austin Fowler",
          "Michael Anderson",
          "Grace Miller",
          "John Gay",
          "Timothy Sparks",
          "Douglas Morris",
          "Gabriel Henderson",
          "Kayla Baker",
          "Jeremy Parsons",
          "Kimberly Williams",
          "Andrew James",
          "Michele Flores"
         ],
         "legendgroup": "Business",
         "marker": {
          "color": "#636efa",
          "pattern": {
           "shape": ""
          }
         },
         "name": "Business",
         "offsetgroup": "Business",
         "orientation": "v",
         "showlegend": true,
         "textposition": "auto",
         "type": "bar",
         "x": [
          "Analyst",
          "Analyst",
          "Analyst",
          "Analyst",
          "Analyst",
          "Associate",
          "Associate",
          "Associate",
          "Associate",
          "Associate",
          "Director",
          "Director",
          "Director",
          "Director",
          "Managing Director"
         ],
         "xaxis": "x",
         "y": [
          1,
          1,
          1,
          1,
          1,
          1,
          1,
          1,
          1,
          1,
          1,
          1,
          1,
          1,
          1
         ],
         "yaxis": "y"
        },
        {
         "alignmentgroup": "True",
         "customdata": [
          [
           "Business",
           "EST",
           "New York",
           "Grace Miller",
           [
            "JavaScript"
           ]
          ],
          [
           "Business",
           "EST",
           "New York",
           "Justin Anderson",
           [
            "Go",
            "Typescript"
           ]
          ],
          [
           "Business",
           "EST",
           "New York",
           "John Gay",
           [
            "Python"
           ]
          ],
          [
           "Business",
           "EST",
           "New York",
           "William Robinson",
           [
            "Java",
            "JavaScript"
           ]
          ],
          [
           "Business",
           "EST",
           "New York",
           "Vickie Jackson",
           []
          ],
          [
           "Business",
           "EST",
           "New York",
           "Vickie Jackson",
           [
            "JavaScript",
            "Java",
            "Typescript",
            "Python"
           ]
          ],
          [
           "Business",
           "EST",
           "New York",
           "Lindsey Miller",
           [
            "Python"
           ]
          ],
          [
           "Business",
           "EST",
           "New York",
           "John Gay",
           [
            "Java",
            "Scala",
            "Python"
           ]
          ]
         ],
         "hovertemplate": "<b>%{hovertext}</b><br><br>team=%{customdata[0]}<br>country=USA<br>title=%{x}<br>count=%{y}<br>tz=%{customdata[1]}<br>city=%{customdata[2]}<br>manager=%{customdata[3]}<br>languages=%{customdata[4]}<extra></extra>",
         "hovertext": [
          "Justin Anderson",
          "William Robinson",
          "Matthew Davis",
          "Jason Hill",
          "Marie Bentley",
          "Cynthia David",
          "Jessica Miller",
          "Cheryl Clark"
         ],
         "legendgroup": "Business",
         "marker": {
          "color": "#636efa",
          "pattern": {
           "shape": ""
          }
         },
         "name": "Business",
         "offsetgroup": "Business",
         "orientation": "v",
         "showlegend": false,
         "textposition": "auto",
         "type": "bar",
         "x": [
          "Associate",
          "Vice President",
          "Director",
          "Director",
          "Director",
          "Director",
          "Managing Director",
          "Managing Director"
         ],
         "xaxis": "x2",
         "y": [
          1,
          1,
          1,
          1,
          1,
          1,
          1,
          1
         ],
         "yaxis": "y2"
        },
        {
         "alignmentgroup": "True",
         "customdata": [
          [
           "Business",
           "EST",
           "Toronto",
           "Chad White",
           [
            "JavaScript"
           ]
          ],
          [
           "Business",
           "EST",
           "Toronto",
           "Austin Fowler",
           [
            "Typescript",
            "JavaScript",
            "Python"
           ]
          ],
          [
           "Business",
           "EST",
           "Toronto",
           "Douglas Morris",
           [
            "JavaScript",
            "Java",
            "Typescript"
           ]
          ],
          [
           "Business",
           "EST",
           "Toronto",
           "William Robinson",
           [
            "Java",
            "Typescript",
            "JavaScript"
           ]
          ]
         ],
         "hovertemplate": "<b>%{hovertext}</b><br><br>team=%{customdata[0]}<br>country=CAN<br>title=%{x}<br>count=%{y}<br>tz=%{customdata[1]}<br>city=%{customdata[2]}<br>manager=%{customdata[3]}<br>languages=%{customdata[4]}<extra></extra>",
         "hovertext": [
          "Cynthia Mitchell",
          "Robert Cruz",
          "Vickie Jackson",
          "Rachel Bell"
         ],
         "legendgroup": "Business",
         "marker": {
          "color": "#636efa",
          "pattern": {
           "shape": ""
          }
         },
         "name": "Business",
         "offsetgroup": "Business",
         "orientation": "v",
         "showlegend": false,
         "textposition": "auto",
         "type": "bar",
         "x": [
          "Associate",
          "Associate",
          "Vice President",
          "Director"
         ],
         "xaxis": "x3",
         "y": [
          1,
          1,
          1,
          1
         ],
         "yaxis": "y3"
        },
        {
         "alignmentgroup": "True",
         "customdata": [
          [
           "DevOps",
           "UTC",
           "Dublin",
           "Lindsey Miller",
           [
            "Java",
            "JavaScript"
           ]
          ],
          [
           "DevOps",
           "UTC",
           "Dublin",
           "Lindsey Miller",
           [
            "Scala"
           ]
          ],
          [
           "DevOps",
           "UTC",
           "Dublin",
           "Joanna Wilson",
           [
            "Java",
            "Scala"
           ]
          ],
          [
           "DevOps",
           "UTC",
           "Dublin",
           "Joanna Wilson",
           [
            "Go",
            "Erlang",
            "Scala",
            "JavaScript"
           ]
          ],
          [
           "DevOps",
           "UTC",
           "Dublin",
           "Lindsey Miller",
           []
          ],
          [
           "DevOps",
           "UTC",
           "Dublin",
           "Joanna Wilson",
           [
            "Java"
           ]
          ],
          [
           "DevOps",
           "UTC",
           "Dublin",
           "Joanna Wilson",
           [
            "Java",
            "Scala",
            "Python"
           ]
          ],
          [
           "DevOps",
           "UTC",
           "Dublin",
           "Joanna Wilson",
           []
          ],
          [
           "DevOps",
           "UTC",
           "Dublin",
           "Wayne Murphy",
           [
            "JavaScript",
            "Java",
            "Typescript",
            "Python"
           ]
          ]
         ],
         "hovertemplate": "<b>%{hovertext}</b><br><br>team=%{customdata[0]}<br>country=IRL<br>title=%{x}<br>count=%{y}<br>tz=%{customdata[1]}<br>city=%{customdata[2]}<br>manager=%{customdata[3]}<br>languages=%{customdata[4]}<extra></extra>",
         "hovertext": [
          "Emily Malone",
          "Joanna Wilson",
          "Tristan Mcgee",
          "Wayne Murphy",
          "Anna Murphy",
          "Nicolas Frazier",
          "Larry Graham",
          "Mrs. Glenda Dean MD",
          "Stephanie Scott"
         ],
         "legendgroup": "DevOps",
         "marker": {
          "color": "#EF553B",
          "pattern": {
           "shape": ""
          }
         },
         "name": "DevOps",
         "offsetgroup": "DevOps",
         "orientation": "v",
         "showlegend": true,
         "textposition": "auto",
         "type": "bar",
         "x": [
          "Engineer",
          "Senior Engineer",
          "Senior Engineer",
          "Senior Engineer",
          "Manager",
          "Manager",
          "Manager",
          "Manager",
          "Manager"
         ],
         "xaxis": "x4",
         "y": [
          1,
          1,
          1,
          1,
          1,
          1,
          1,
          1,
          1
         ],
         "yaxis": "y4"
        },
        {
         "alignmentgroup": "True",
         "customdata": [
          [
           "DevX",
           "EST",
           "Fort Lauderdale",
           "Lindsey Miller",
           [
            "Java",
            "Typescript",
            "JavaScript"
           ]
          ],
          [
           "DevX",
           "EST",
           "Fort Lauderdale",
           "Douglas Joseph",
           []
          ],
          [
           "DevX",
           "EST",
           "Fort Lauderdale",
           "Douglas Joseph",
           [
            "Typescript"
           ]
          ],
          [
           "DevX",
           "EST",
           "Fort Lauderdale",
           "Douglas Joseph",
           []
          ],
          [
           "DevX",
           "EST",
           "Fort Lauderdale",
           "Douglas Joseph",
           [
            "Go",
            "Typescript"
           ]
          ],
          [
           "DevX",
           "EST",
           "Fort Lauderdale",
           "Douglas Joseph",
           [
            "Java",
            "Python"
           ]
          ],
          [
           "DevX",
           "EST",
           "Fort Lauderdale",
           "Douglas Joseph",
           []
          ],
          [
           "DevX",
           "EST",
           "Fort Lauderdale",
           "Douglas Joseph",
           []
          ],
          [
           "DevX",
           "EST",
           "Fort Lauderdale",
           "Douglas Joseph",
           [
            "Java"
           ]
          ],
          [
           "DevX",
           "EST",
           "Fort Lauderdale",
           "Douglas Joseph",
           [
            "JavaScript"
           ]
          ],
          [
           "DevX",
           "EST",
           "Fort Lauderdale",
           "Douglas Joseph",
           []
          ],
          [
           "DevX",
           "EST",
           "Fort Lauderdale",
           "Douglas Joseph",
           [
            "Scala",
            "Python"
           ]
          ],
          [
           "DevX",
           "EST",
           "Fort Lauderdale",
           "Douglas Joseph",
           [
            "JavaScript",
            "Java",
            "Typescript"
           ]
          ],
          [
           "DevX",
           "EST",
           "Fort Lauderdale",
           "Douglas Joseph",
           []
          ],
          [
           "DevX",
           "EST",
           "Fort Lauderdale",
           "Douglas Joseph",
           [
            "Python"
           ]
          ],
          [
           "DevX",
           "EST",
           "Fort Lauderdale",
           "Douglas Joseph",
           [
            "Java",
            "JavaScript"
           ]
          ],
          [
           "DevX",
           "EST",
           "Fort Lauderdale",
           "Douglas Joseph",
           []
          ],
          [
           "DevX",
           "EST",
           "Fort Lauderdale",
           "Douglas Joseph",
           [
            "Java",
            "Scala",
            "Typescript"
           ]
          ],
          [
           "DevX",
           "EST",
           "Fort Lauderdale",
           "Douglas Joseph",
           [
            "Scala",
            "JavaScript"
           ]
          ],
          [
           "DevX",
           "EST",
           "Fort Lauderdale",
           "Douglas Joseph",
           [
            "Java"
           ]
          ],
          [
           "DevX",
           "EST",
           "Fort Lauderdale",
           "Michael Gallegos",
           [
            "Typescript"
           ]
          ],
          [
           "DevX",
           "EST",
           "Fort Lauderdale",
           "Michael Gallegos",
           [
            "Java",
            "Typescript",
            "Elixir",
            "Python"
           ]
          ]
         ],
         "hovertemplate": "<b>%{hovertext}</b><br><br>team=%{customdata[0]}<br>country=USA<br>title=%{x}<br>count=%{y}<br>tz=%{customdata[1]}<br>city=%{customdata[2]}<br>manager=%{customdata[3]}<br>languages=%{customdata[4]}<extra></extra>",
         "hovertext": [
          "Douglas Joseph",
          "Jennifer Beltran",
          "Jamie Simpson DDS",
          "Joseph Booker",
          "Jennifer Mckinney DVM",
          "Frank Rodriguez",
          "Yvonne Holmes",
          "Justin Newman",
          "Amanda Brown",
          "Melissa Tate",
          "Susan Flores",
          "Laurie Bruce",
          "Luis Deleon",
          "Lorraine Davis",
          "Tiffany Foster",
          "Michael Gallegos",
          "Malik Estrada",
          "Daniel Jones",
          "Jodi Young",
          "Sandra Campbell",
          "Kenneth Ray",
          "Matthew Luna"
         ],
         "legendgroup": "DevX",
         "marker": {
          "color": "#00cc96",
          "pattern": {
           "shape": ""
          }
         },
         "name": "DevX",
         "offsetgroup": "DevX",
         "orientation": "v",
         "showlegend": true,
         "textposition": "auto",
         "type": "bar",
         "x": [
          "Engineer",
          "Engineer",
          "Engineer",
          "Engineer",
          "Engineer",
          "Engineer",
          "Engineer",
          "Engineer",
          "Engineer",
          "Engineer",
          "Engineer",
          "Engineer",
          "Engineer",
          "Engineer",
          "Engineer",
          "Engineer",
          "Engineer",
          "Engineer",
          "Engineer",
          "Engineer",
          "AVP",
          "AVP"
         ],
         "xaxis": "x2",
         "y": [
          1,
          1,
          1,
          1,
          1,
          1,
          1,
          1,
          1,
          1,
          1,
          1,
          1,
          1,
          1,
          1,
          1,
          1,
          1,
          1,
          1,
          1
         ],
         "yaxis": "y2"
        },
        {
         "alignmentgroup": "True",
         "customdata": [
          [
           "Internal Tools",
           "PST",
           "Seattle",
           "William Simmons",
           [
            "JavaScript",
            "Typescript",
            "Python"
           ]
          ],
          [
           "Internal Tools",
           "PST",
           "Seattle",
           "William Simmons",
           [
            "Typescript"
           ]
          ],
          [
           "Internal Tools",
           "PST",
           "Seattle",
           "Megan Warner",
           [
            "Java",
            "JavaScript"
           ]
          ],
          [
           "Internal Tools",
           "PST",
           "Seattle",
           "Francisco Diaz",
           [
            "Java",
            "Scala",
            "JavaScript"
           ]
          ],
          [
           "Internal Tools",
           "PST",
           "Seattle",
           "Julian Morris",
           [
            "Go",
            "Java",
            "Typescript"
           ]
          ],
          [
           "Internal Tools",
           "PST",
           "Seattle",
           "Dr. Gary James",
           [
            "JavaScript",
            "Python"
           ]
          ],
          [
           "Internal Tools",
           "PST",
           "Seattle",
           "Eric Tucker",
           [
            "Scala",
            "Typescript",
            "JavaScript"
           ]
          ]
         ],
         "hovertemplate": "<b>%{hovertext}</b><br><br>team=%{customdata[0]}<br>country=USA<br>title=%{x}<br>count=%{y}<br>tz=%{customdata[1]}<br>city=%{customdata[2]}<br>manager=%{customdata[3]}<br>languages=%{customdata[4]}<extra></extra>",
         "hovertext": [
          "Megan Warner",
          "Francisco Diaz",
          "Julian Morris",
          "Sara Moses",
          "Catherine Cook",
          "Mr. Patrick Robinson",
          "Denise Ferguson"
         ],
         "legendgroup": "Internal Tools",
         "marker": {
          "color": "#ab63fa",
          "pattern": {
           "shape": ""
          }
         },
         "name": "Internal Tools",
         "offsetgroup": "Internal Tools",
         "orientation": "v",
         "showlegend": true,
         "textposition": "auto",
         "type": "bar",
         "x": [
          "Engineer",
          "Senior Engineer",
          "Senior Engineer",
          "Manager",
          "Manager",
          "VP",
          "VP"
         ],
         "xaxis": "x2",
         "y": [
          1,
          1,
          1,
          1,
          1,
          1,
          1
         ],
         "yaxis": "y2"
        },
        {
         "alignmentgroup": "True",
         "customdata": [
          [
           "Internal Tools",
           "EST",
           "Toronto",
           "Lindsey Miller",
           []
          ],
          [
           "Internal Tools",
           "EST",
           "Toronto",
           "William Simmons",
           []
          ],
          [
           "Internal Tools",
           "EST",
           "Toronto",
           "William Simmons",
           [
            "JavaScript",
            "Python"
           ]
          ],
          [
           "Internal Tools",
           "EST",
           "Toronto",
           "William Simmons",
           []
          ],
          [
           "Internal Tools",
           "EST",
           "Toronto",
           "Patricia Sanders",
           [
            "JavaScript",
            "Java",
            "Typescript",
            "Python"
           ]
          ],
          [
           "Internal Tools",
           "EST",
           "Toronto",
           "Patricia Sanders",
           [
            "Go",
            "JavaScript",
            "Python",
            "Java",
            "Typescript"
           ]
          ],
          [
           "Internal Tools",
           "EST",
           "Toronto",
           "Patricia Sanders",
           []
          ],
          [
           "Internal Tools",
           "EST",
           "Toronto",
           "Sara Moses",
           [
            "JavaScript"
           ]
          ]
         ],
         "hovertemplate": "<b>%{hovertext}</b><br><br>team=%{customdata[0]}<br>country=CAN<br>title=%{x}<br>count=%{y}<br>tz=%{customdata[1]}<br>city=%{customdata[2]}<br>manager=%{customdata[3]}<br>languages=%{customdata[4]}<extra></extra>",
         "hovertext": [
          "William Simmons",
          "Dr. Gary James",
          "Patricia Sanders",
          "William Davis",
          "Gabrielle Smith",
          "Kelly Williams",
          "Matthew Carr",
          "Eric Tucker"
         ],
         "legendgroup": "Internal Tools",
         "marker": {
          "color": "#ab63fa",
          "pattern": {
           "shape": ""
          }
         },
         "name": "Internal Tools",
         "offsetgroup": "Internal Tools",
         "orientation": "v",
         "showlegend": false,
         "textposition": "auto",
         "type": "bar",
         "x": [
          "Engineer",
          "Manager",
          "Manager",
          "Manager",
          "AVP",
          "AVP",
          "AVP",
          "AVP"
         ],
         "xaxis": "x3",
         "y": [
          1,
          1,
          1,
          1,
          1,
          1,
          1,
          1
         ],
         "yaxis": "y3"
        },
        {
         "alignmentgroup": "True",
         "customdata": [
          [
           "Platform",
           "PST",
           "Seattle",
           "Michele Parks",
           [
            "Java",
            "Scala",
            "JavaScript",
            "Python"
           ]
          ],
          [
           "Platform",
           "PST",
           "Seattle",
           "Michele Parks",
           [
            "Python"
           ]
          ],
          [
           "Platform",
           "PST",
           "Seattle",
           "Michele Parks",
           []
          ],
          [
           "Platform",
           "PST",
           "Seattle",
           "Michele Parks",
           []
          ],
          [
           "Platform",
           "PST",
           "Seattle",
           "Michele Parks",
           []
          ],
          [
           "Platform",
           "PST",
           "Seattle",
           "Alan Ramos",
           [
            "JavaScript"
           ]
          ],
          [
           "Platform",
           "PST",
           "Seattle",
           "Alan Ramos",
           [
            "Java",
            "Scala",
            "Typescript"
           ]
          ]
         ],
         "hovertemplate": "<b>%{hovertext}</b><br><br>team=%{customdata[0]}<br>country=USA<br>title=%{x}<br>count=%{y}<br>tz=%{customdata[1]}<br>city=%{customdata[2]}<br>manager=%{customdata[3]}<br>languages=%{customdata[4]}<extra></extra>",
         "hovertext": [
          "Daniel Shaw",
          "Jasmine Mack",
          "Lauren Barrett",
          "James Hernandez",
          "Alan Ramos",
          "Brianna Perry",
          "Michael Coleman"
         ],
         "legendgroup": "Platform",
         "marker": {
          "color": "#FFA15A",
          "pattern": {
           "shape": ""
          }
         },
         "name": "Platform",
         "offsetgroup": "Platform",
         "orientation": "v",
         "showlegend": true,
         "textposition": "auto",
         "type": "bar",
         "x": [
          "Engineer",
          "Engineer",
          "Managing Engineer",
          "Managing Engineer",
          "AVP",
          "VP",
          "VP"
         ],
         "xaxis": "x2",
         "y": [
          1,
          1,
          1,
          1,
          1,
          1,
          1
         ],
         "yaxis": "y2"
        },
        {
         "alignmentgroup": "True",
         "customdata": [
          [
           "Platform",
           "EST",
           "Toronto",
           "Lindsey Miller",
           [
            "Scala",
            "Typescript"
           ]
          ],
          [
           "Platform",
           "EST",
           "Toronto",
           "Lindsey Miller",
           [
            "Go",
            "Java",
            "JavaScript",
            "Python"
           ]
          ],
          [
           "Platform",
           "EST",
           "Toronto",
           "Sandra Fuller",
           [
            "Typescript"
           ]
          ],
          [
           "Platform",
           "EST",
           "Toronto",
           "Alan Ramos",
           []
          ],
          [
           "Platform",
           "EST",
           "Toronto",
           "Alan Ramos",
           [
            "Go"
           ]
          ]
         ],
         "hovertemplate": "<b>%{hovertext}</b><br><br>team=%{customdata[0]}<br>country=CAN<br>title=%{x}<br>count=%{y}<br>tz=%{customdata[1]}<br>city=%{customdata[2]}<br>manager=%{customdata[3]}<br>languages=%{customdata[4]}<extra></extra>",
         "hovertext": [
          "Michele Parks",
          "Sandra Fuller",
          "Brian Lewis",
          "April Atkinson",
          "Shelly Horn"
         ],
         "legendgroup": "Platform",
         "marker": {
          "color": "#FFA15A",
          "pattern": {
           "shape": ""
          }
         },
         "name": "Platform",
         "offsetgroup": "Platform",
         "orientation": "v",
         "showlegend": false,
         "textposition": "auto",
         "type": "bar",
         "x": [
          "Engineer",
          "VP",
          "VP",
          "VP",
          "VP"
         ],
         "xaxis": "x3",
         "y": [
          1,
          1,
          1,
          1,
          1
         ],
         "yaxis": "y3"
        },
        {
         "alignmentgroup": "True",
         "customdata": [
          [
           "Product",
           "PST",
           "Seattle",
           "Lindsey Miller",
           [
            "Java"
           ]
          ],
          [
           "Product",
           "EST",
           "New York",
           "Samantha Macdonald",
           []
          ],
          [
           "Product",
           "EST",
           "New York",
           "Samantha Macdonald",
           [
            "Typescript"
           ]
          ],
          [
           "Product",
           "PST",
           "Seattle",
           "Samantha Macdonald",
           [
            "Typescript",
            "JavaScript"
           ]
          ],
          [
           "Product",
           "PST",
           "Seattle",
           "Samantha Macdonald",
           [
            "Scala"
           ]
          ],
          [
           "Product",
           "PST",
           "Seattle",
           "Samantha Macdonald",
           [
            "Go",
            "Typescript",
            "Python"
           ]
          ],
          [
           "Product",
           "PST",
           "Seattle",
           "Samantha Macdonald",
           [
            "Java",
            "Python"
           ]
          ],
          [
           "Product",
           "EST",
           "New York",
           "Samantha Macdonald",
           []
          ],
          [
           "Product",
           "EST",
           "New York",
           "Samantha Macdonald",
           []
          ],
          [
           "Product",
           "EST",
           "New York",
           "Chelsea Jackson",
           [
            "JavaScript",
            "Scala",
            "Typescript"
           ]
          ],
          [
           "Product",
           "EST",
           "New York",
           "Chelsea Jackson",
           [
            "Typescript",
            "Python"
           ]
          ],
          [
           "Product",
           "EST",
           "New York",
           "Spencer Campbell",
           [
            "Python"
           ]
          ],
          [
           "Product",
           "PST",
           "Seattle",
           "Spencer Campbell",
           [
            "JavaScript"
           ]
          ],
          [
           "Product",
           "PST",
           "Seattle",
           "Danny Thompson",
           [
            "Java",
            "JavaScript",
            "Python"
           ]
          ],
          [
           "Product",
           "EST",
           "New York",
           "Anthony Miller",
           [
            "Go",
            "Scala"
           ]
          ],
          [
           "Product",
           "EST",
           "New York",
           "Anthony Miller",
           [
            "Go"
           ]
          ],
          [
           "Product",
           "EST",
           "New York",
           "Chelsea Jackson",
           [
            "Java",
            "Python"
           ]
          ],
          [
           "Product",
           "PST",
           "Seattle",
           "Danny Thompson",
           [
            "Scala"
           ]
          ],
          [
           "Product",
           "EST",
           "New York",
           "Alexandra Reilly",
           []
          ],
          [
           "Product",
           "PST",
           "Seattle",
           "Todd Davies",
           [
            "Typescript",
            "Python"
           ]
          ],
          [
           "Product",
           "PST",
           "Seattle",
           "Todd Davies",
           [
            "Go",
            "Java"
           ]
          ]
         ],
         "hovertemplate": "<b>%{hovertext}</b><br><br>team=%{customdata[0]}<br>country=USA<br>title=%{x}<br>count=%{y}<br>tz=%{customdata[1]}<br>city=%{customdata[2]}<br>manager=%{customdata[3]}<br>languages=%{customdata[4]}<extra></extra>",
         "hovertext": [
          "Samantha Macdonald",
          "Chelsea Jackson",
          "Elizabeth Perez",
          "Vanessa Mayer",
          "Daniel Alexander",
          "Sergio Frazier",
          "Sarah Mcknight",
          "Nathaniel Donovan",
          "William Walters",
          "William Wilson",
          "Barry Anthony",
          "Lisa Walker",
          "Danny Thompson",
          "Carol Ross",
          "Donna Castaneda",
          "Sandy Scott",
          "Alexandra Reilly",
          "Todd Davies",
          "Vincent Rodriguez",
          "Donna White",
          "Douglas Peterson"
         ],
         "legendgroup": "Product",
         "marker": {
          "color": "#19d3f3",
          "pattern": {
           "shape": ""
          }
         },
         "name": "Product",
         "offsetgroup": "Product",
         "orientation": "v",
         "showlegend": true,
         "textposition": "auto",
         "type": "bar",
         "x": [
          "Engineer",
          "Engineer",
          "Engineer",
          "Engineer",
          "Engineer",
          "Engineer",
          "Engineer",
          "Engineer",
          "Engineer",
          "Manager",
          "Manager",
          "Manager",
          "Manager",
          "Product Owner",
          "Product Owner",
          "Product Owner",
          "AVP",
          "AVP",
          "VP",
          "VP",
          "VP"
         ],
         "xaxis": "x2",
         "y": [
          1,
          1,
          1,
          1,
          1,
          1,
          1,
          1,
          1,
          1,
          1,
          1,
          1,
          1,
          1,
          1,
          1,
          1,
          1,
          1,
          1
         ],
         "yaxis": "y2"
        },
        {
         "alignmentgroup": "True",
         "customdata": [
          [
           "Product",
           "EST",
           "Toronto",
           "Samantha Macdonald",
           [
            "Go",
            "Java",
            "JavaScript"
           ]
          ],
          [
           "Product",
           "EST",
           "Toronto",
           "Elizabeth Perez",
           [
            "Scala",
            "JavaScript"
           ]
          ],
          [
           "Product",
           "EST",
           "Toronto",
           "Donna Castaneda",
           [
            "Scala",
            "Java",
            "Typescript",
            "JavaScript"
           ]
          ],
          [
           "Product",
           "EST",
           "Toronto",
           "Todd Davies",
           [
            "Java",
            "Scala"
           ]
          ]
         ],
         "hovertemplate": "<b>%{hovertext}</b><br><br>team=%{customdata[0]}<br>country=CAN<br>title=%{x}<br>count=%{y}<br>tz=%{customdata[1]}<br>city=%{customdata[2]}<br>manager=%{customdata[3]}<br>languages=%{customdata[4]}<extra></extra>",
         "hovertext": [
          "Spencer Campbell",
          "Anthony Miller",
          "Kelsey Rodgers",
          "Glen Phelps MD"
         ],
         "legendgroup": "Product",
         "marker": {
          "color": "#19d3f3",
          "pattern": {
           "shape": ""
          }
         },
         "name": "Product",
         "offsetgroup": "Product",
         "orientation": "v",
         "showlegend": false,
         "textposition": "auto",
         "type": "bar",
         "x": [
          "Engineer",
          "Manager",
          "AVP",
          "VP"
         ],
         "xaxis": "x3",
         "y": [
          1,
          1,
          1,
          1
         ],
         "yaxis": "y3"
        },
        {
         "alignmentgroup": "True",
         "customdata": [
          [
           "Sales",
           "UTC",
           "London",
           "Laura Lopez",
           [
            "Java",
            "Typescript",
            "Python"
           ]
          ],
          [
           "Sales",
           "UTC",
           "London",
           "Laura Lopez",
           [
            "Go",
            "Erlang",
            "Java",
            "Typescript"
           ]
          ],
          [
           "Sales",
           "UTC",
           "London",
           "Laura Lopez",
           [
            "Go",
            "Python"
           ]
          ],
          [
           "Sales",
           "UTC",
           "London",
           "Laura Lopez",
           []
          ],
          [
           "Sales",
           "UTC",
           "London",
           "Laura Lopez",
           [
            "Erlang",
            "Typescript",
            "Python"
           ]
          ],
          [
           "Sales",
           "UTC",
           "London",
           "Laura Lopez",
           []
          ],
          [
           "Sales",
           "UTC",
           "London",
           "Laura Lopez",
           [
            "Java",
            "JavaScript",
            "Python"
           ]
          ],
          [
           "Sales",
           "UTC",
           "London",
           "Laura Lopez",
           [
            "Typescript"
           ]
          ],
          [
           "Sales",
           "UTC",
           "London",
           "Laura Lopez",
           [
            "JavaScript"
           ]
          ],
          [
           "Sales",
           "UTC",
           "London",
           "Laura Lopez",
           [
            "JavaScript",
            "Python"
           ]
          ],
          [
           "Sales",
           "UTC",
           "London",
           "Laura Lopez",
           [
            "Typescript",
            "JavaScript",
            "Python"
           ]
          ],
          [
           "Sales",
           "UTC",
           "London",
           "Laura Lopez",
           []
          ],
          [
           "Sales",
           "UTC",
           "London",
           "Laura Lopez",
           [
            "JavaScript",
            "Scala",
            "Python",
            "Java",
            "Typescript"
           ]
          ],
          [
           "Sales",
           "UTC",
           "London",
           "Laura Lopez",
           [
            "JavaScript",
            "Python"
           ]
          ],
          [
           "Sales",
           "UTC",
           "London",
           "Laura Lopez",
           [
            "Java",
            "Scala",
            "JavaScript"
           ]
          ]
         ],
         "hovertemplate": "<b>%{hovertext}</b><br><br>team=%{customdata[0]}<br>country=GBR<br>title=%{x}<br>count=%{y}<br>tz=%{customdata[1]}<br>city=%{customdata[2]}<br>manager=%{customdata[3]}<br>languages=%{customdata[4]}<extra></extra>",
         "hovertext": [
          "Beth Thomas",
          "Heather Mendoza",
          "Austin Lewis",
          "Kaitlyn Johns",
          "Austin Bates",
          "Kelly Robinson",
          "Brandon Mccall",
          "Brian Ellis",
          "Victoria Moore",
          "Rebecca Perez",
          "Kevin Kline",
          "Wayne Odonnell",
          "Mandy Mendoza",
          "Connor Green",
          "Dana Lopez"
         ],
         "legendgroup": "Sales",
         "marker": {
          "color": "#FF6692",
          "pattern": {
           "shape": ""
          }
         },
         "name": "Sales",
         "offsetgroup": "Sales",
         "orientation": "v",
         "showlegend": true,
         "textposition": "auto",
         "type": "bar",
         "x": [
          "Associate",
          "Associate",
          "Associate",
          "Associate",
          "Associate",
          "Associate",
          "Associate",
          "Associate",
          "Associate",
          "Associate",
          "Associate",
          "Associate",
          "Associate",
          "Associate",
          "Associate"
         ],
         "xaxis": "x",
         "y": [
          1,
          1,
          1,
          1,
          1,
          1,
          1,
          1,
          1,
          1,
          1,
          1,
          1,
          1,
          1
         ],
         "yaxis": "y"
        },
        {
         "alignmentgroup": "True",
         "customdata": [
          [
           "Sales",
           "EST",
           "New York",
           "Lindsey Miller",
           []
          ],
          [
           "Sales",
           "EST",
           "New York",
           "Laura Lopez",
           []
          ],
          [
           "Sales",
           "EST",
           "New York",
           "Laura Lopez",
           [
            "Go",
            "Java",
            "JavaScript"
           ]
          ],
          [
           "Sales",
           "EST",
           "New York",
           "Laura Lopez",
           [
            "Go"
           ]
          ],
          [
           "Sales",
           "EST",
           "New York",
           "Laura Lopez",
           []
          ],
          [
           "Sales",
           "EST",
           "New York",
           "Laura Lopez",
           []
          ],
          [
           "Sales",
           "EST",
           "New York",
           "Laura Lopez",
           [
            "JavaScript",
            "Python"
           ]
          ],
          [
           "Sales",
           "EST",
           "New York",
           "Laura Lopez",
           []
          ]
         ],
         "hovertemplate": "<b>%{hovertext}</b><br><br>team=%{customdata[0]}<br>country=USA<br>title=%{x}<br>count=%{y}<br>tz=%{customdata[1]}<br>city=%{customdata[2]}<br>manager=%{customdata[3]}<br>languages=%{customdata[4]}<extra></extra>",
         "hovertext": [
          "Laura Lopez",
          "Kimberly Smith",
          "Brandi Moore",
          "Michael Parrish",
          "Alex Khan",
          "Monica Atkinson",
          "Ryan Anderson",
          "Edward Smith"
         ],
         "legendgroup": "Sales",
         "marker": {
          "color": "#FF6692",
          "pattern": {
           "shape": ""
          }
         },
         "name": "Sales",
         "offsetgroup": "Sales",
         "orientation": "v",
         "showlegend": false,
         "textposition": "auto",
         "type": "bar",
         "x": [
          "Associate",
          "Associate",
          "Associate",
          "Associate",
          "Associate",
          "Associate",
          "Associate",
          "Associate"
         ],
         "xaxis": "x2",
         "y": [
          1,
          1,
          1,
          1,
          1,
          1,
          1,
          1
         ],
         "yaxis": "y2"
        },
        {
         "alignmentgroup": "True",
         "customdata": [
          [
           "Sales",
           "EST",
           "Toronto",
           "Laura Lopez",
           [
            "Scala",
            "Typescript"
           ]
          ],
          [
           "Sales",
           "EST",
           "Toronto",
           "Laura Lopez",
           [
            "JavaScript",
            "Java",
            "Typescript",
            "Python"
           ]
          ],
          [
           "Sales",
           "EST",
           "Toronto",
           "Laura Lopez",
           [
            "Java"
           ]
          ]
         ],
         "hovertemplate": "<b>%{hovertext}</b><br><br>team=%{customdata[0]}<br>country=CAN<br>title=%{x}<br>count=%{y}<br>tz=%{customdata[1]}<br>city=%{customdata[2]}<br>manager=%{customdata[3]}<br>languages=%{customdata[4]}<extra></extra>",
         "hovertext": [
          "William Conrad",
          "Sarah Estrada",
          "Amanda Ramos"
         ],
         "legendgroup": "Sales",
         "marker": {
          "color": "#FF6692",
          "pattern": {
           "shape": ""
          }
         },
         "name": "Sales",
         "offsetgroup": "Sales",
         "orientation": "v",
         "showlegend": false,
         "textposition": "auto",
         "type": "bar",
         "x": [
          "Associate",
          "Associate",
          "Associate"
         ],
         "xaxis": "x3",
         "y": [
          1,
          1,
          1
         ],
         "yaxis": "y3"
        },
        {
         "alignmentgroup": "True",
         "customdata": [
          [
           "Support",
           "UTC",
           "Dublin",
           "Lindsey Miller",
           [
            "Python"
           ]
          ],
          [
           "Support",
           "UTC",
           "Dublin",
           "Kelly Owens",
           [
            "Go"
           ]
          ],
          [
           "Support",
           "UTC",
           "Dublin",
           "Kelly Owens",
           [
            "Java",
            "Scala",
            "Typescript"
           ]
          ],
          [
           "Support",
           "UTC",
           "Dublin",
           "Kelly Owens",
           [
            "Typescript",
            "JavaScript"
           ]
          ],
          [
           "Support",
           "UTC",
           "Dublin",
           "Kelly Owens",
           [
            "JavaScript"
           ]
          ],
          [
           "Support",
           "UTC",
           "Dublin",
           "Kelly Owens",
           []
          ],
          [
           "Support",
           "UTC",
           "Dublin",
           "Lindsey Miller",
           []
          ],
          [
           "Support",
           "UTC",
           "Dublin",
           "Tyrone Sawyer",
           [
            "Go",
            "JavaScript"
           ]
          ],
          [
           "Support",
           "UTC",
           "Dublin",
           "Michael Gallagher",
           [
            "JavaScript",
            "Python"
           ]
          ],
          [
           "Support",
           "UTC",
           "Dublin",
           "Michael Gallagher",
           [
            "JavaScript",
            "Java",
            "Scala",
            "Typescript"
           ]
          ],
          [
           "Support",
           "UTC",
           "Dublin",
           "Michael Gallagher",
           [
            "Python"
           ]
          ],
          [
           "Support",
           "UTC",
           "Dublin",
           "Charles Fox",
           [
            "Java",
            "Scala",
            "Typescript",
            "Python"
           ]
          ],
          [
           "Support",
           "UTC",
           "Dublin",
           "Lisa Long",
           [
            "Typescript"
           ]
          ],
          [
           "Support",
           "UTC",
           "Dublin",
           "Lisa Long",
           [
            "Java"
           ]
          ]
         ],
         "hovertemplate": "<b>%{hovertext}</b><br><br>team=%{customdata[0]}<br>country=IRL<br>title=%{x}<br>count=%{y}<br>tz=%{customdata[1]}<br>city=%{customdata[2]}<br>manager=%{customdata[3]}<br>languages=%{customdata[4]}<extra></extra>",
         "hovertext": [
          "Kelly Owens",
          "Tyrone Sawyer",
          "Timothy Love",
          "Michael Gallagher",
          "Charles Fox",
          "Lisa Long",
          "Karen Sparks",
          "Paul Ball",
          "Michelle Lee",
          "James Turner",
          "Jacob Kaufman",
          "Alexander Gonzales",
          "Elizabeth Wilkerson",
          "Kathryn Smith"
         ],
         "legendgroup": "Support",
         "marker": {
          "color": "#B6E880",
          "pattern": {
           "shape": ""
          }
         },
         "name": "Support",
         "offsetgroup": "Support",
         "orientation": "v",
         "showlegend": true,
         "textposition": "auto",
         "type": "bar",
         "x": [
          "Analyst",
          "Analyst",
          "Analyst",
          "Analyst",
          "Analyst",
          "Analyst",
          "Manager",
          "Manager",
          "Manager",
          "Manager",
          "Manager",
          "Manager",
          "Manager",
          "Manager"
         ],
         "xaxis": "x4",
         "y": [
          1,
          1,
          1,
          1,
          1,
          1,
          1,
          1,
          1,
          1,
          1,
          1,
          1,
          1
         ],
         "yaxis": "y4"
        },
        {
         "alignmentgroup": "True",
         "customdata": [
          [
           "CEO",
           "UTC",
           "Dublin",
           "Lindsey Miller",
           [
            "Java",
            "Typescript"
           ]
          ]
         ],
         "hovertemplate": "<b>%{hovertext}</b><br><br>team=%{customdata[0]}<br>country=IRL<br>title=%{x}<br>count=%{y}<br>tz=%{customdata[1]}<br>city=%{customdata[2]}<br>manager=%{customdata[3]}<br>languages=%{customdata[4]}<extra></extra>",
         "hovertext": [
          "Lindsey Miller"
         ],
         "legendgroup": "CEO",
         "marker": {
          "color": "#FF97FF",
          "pattern": {
           "shape": ""
          }
         },
         "name": "CEO",
         "offsetgroup": "CEO",
         "orientation": "v",
         "showlegend": true,
         "textposition": "auto",
         "type": "bar",
         "x": [
          "CEO"
         ],
         "xaxis": "x4",
         "y": [
          1
         ],
         "yaxis": "y4"
        }
       ],
       "layout": {
        "annotations": [
         {
          "font": {},
          "showarrow": false,
          "text": "country=GBR",
          "x": 0.1175,
          "xanchor": "center",
          "xref": "paper",
          "y": 1,
          "yanchor": "bottom",
          "yref": "paper"
         },
         {
          "font": {},
          "showarrow": false,
          "text": "country=USA",
          "x": 0.3725,
          "xanchor": "center",
          "xref": "paper",
          "y": 1,
          "yanchor": "bottom",
          "yref": "paper"
         },
         {
          "font": {},
          "showarrow": false,
          "text": "country=CAN",
          "x": 0.6275,
          "xanchor": "center",
          "xref": "paper",
          "y": 1,
          "yanchor": "bottom",
          "yref": "paper"
         },
         {
          "font": {},
          "showarrow": false,
          "text": "country=IRL",
          "x": 0.8824999999999998,
          "xanchor": "center",
          "xref": "paper",
          "y": 1,
          "yanchor": "bottom",
          "yref": "paper"
         }
        ],
        "barmode": "relative",
        "legend": {
         "title": {
          "text": "team"
         },
         "tracegroupgap": 0
        },
        "margin": {
         "t": 60
        },
        "template": {
         "data": {
          "bar": [
           {
            "error_x": {
             "color": "#f2f5fa"
            },
            "error_y": {
             "color": "#f2f5fa"
            },
            "marker": {
             "line": {
              "color": "rgb(17,17,17)",
              "width": 0.5
             },
             "pattern": {
              "fillmode": "overlay",
              "size": 10,
              "solidity": 0.2
             }
            },
            "type": "bar"
           }
          ],
          "barpolar": [
           {
            "marker": {
             "line": {
              "color": "rgb(17,17,17)",
              "width": 0.5
             },
             "pattern": {
              "fillmode": "overlay",
              "size": 10,
              "solidity": 0.2
             }
            },
            "type": "barpolar"
           }
          ],
          "carpet": [
           {
            "aaxis": {
             "endlinecolor": "#A2B1C6",
             "gridcolor": "#506784",
             "linecolor": "#506784",
             "minorgridcolor": "#506784",
             "startlinecolor": "#A2B1C6"
            },
            "baxis": {
             "endlinecolor": "#A2B1C6",
             "gridcolor": "#506784",
             "linecolor": "#506784",
             "minorgridcolor": "#506784",
             "startlinecolor": "#A2B1C6"
            },
            "type": "carpet"
           }
          ],
          "choropleth": [
           {
            "colorbar": {
             "outlinewidth": 0,
             "ticks": ""
            },
            "type": "choropleth"
           }
          ],
          "contour": [
           {
            "colorbar": {
             "outlinewidth": 0,
             "ticks": ""
            },
            "colorscale": [
             [
              0,
              "#0d0887"
             ],
             [
              0.1111111111111111,
              "#46039f"
             ],
             [
              0.2222222222222222,
              "#7201a8"
             ],
             [
              0.3333333333333333,
              "#9c179e"
             ],
             [
              0.4444444444444444,
              "#bd3786"
             ],
             [
              0.5555555555555556,
              "#d8576b"
             ],
             [
              0.6666666666666666,
              "#ed7953"
             ],
             [
              0.7777777777777778,
              "#fb9f3a"
             ],
             [
              0.8888888888888888,
              "#fdca26"
             ],
             [
              1,
              "#f0f921"
             ]
            ],
            "type": "contour"
           }
          ],
          "contourcarpet": [
           {
            "colorbar": {
             "outlinewidth": 0,
             "ticks": ""
            },
            "type": "contourcarpet"
           }
          ],
          "heatmap": [
           {
            "colorbar": {
             "outlinewidth": 0,
             "ticks": ""
            },
            "colorscale": [
             [
              0,
              "#0d0887"
             ],
             [
              0.1111111111111111,
              "#46039f"
             ],
             [
              0.2222222222222222,
              "#7201a8"
             ],
             [
              0.3333333333333333,
              "#9c179e"
             ],
             [
              0.4444444444444444,
              "#bd3786"
             ],
             [
              0.5555555555555556,
              "#d8576b"
             ],
             [
              0.6666666666666666,
              "#ed7953"
             ],
             [
              0.7777777777777778,
              "#fb9f3a"
             ],
             [
              0.8888888888888888,
              "#fdca26"
             ],
             [
              1,
              "#f0f921"
             ]
            ],
            "type": "heatmap"
           }
          ],
          "heatmapgl": [
           {
            "colorbar": {
             "outlinewidth": 0,
             "ticks": ""
            },
            "colorscale": [
             [
              0,
              "#0d0887"
             ],
             [
              0.1111111111111111,
              "#46039f"
             ],
             [
              0.2222222222222222,
              "#7201a8"
             ],
             [
              0.3333333333333333,
              "#9c179e"
             ],
             [
              0.4444444444444444,
              "#bd3786"
             ],
             [
              0.5555555555555556,
              "#d8576b"
             ],
             [
              0.6666666666666666,
              "#ed7953"
             ],
             [
              0.7777777777777778,
              "#fb9f3a"
             ],
             [
              0.8888888888888888,
              "#fdca26"
             ],
             [
              1,
              "#f0f921"
             ]
            ],
            "type": "heatmapgl"
           }
          ],
          "histogram": [
           {
            "marker": {
             "pattern": {
              "fillmode": "overlay",
              "size": 10,
              "solidity": 0.2
             }
            },
            "type": "histogram"
           }
          ],
          "histogram2d": [
           {
            "colorbar": {
             "outlinewidth": 0,
             "ticks": ""
            },
            "colorscale": [
             [
              0,
              "#0d0887"
             ],
             [
              0.1111111111111111,
              "#46039f"
             ],
             [
              0.2222222222222222,
              "#7201a8"
             ],
             [
              0.3333333333333333,
              "#9c179e"
             ],
             [
              0.4444444444444444,
              "#bd3786"
             ],
             [
              0.5555555555555556,
              "#d8576b"
             ],
             [
              0.6666666666666666,
              "#ed7953"
             ],
             [
              0.7777777777777778,
              "#fb9f3a"
             ],
             [
              0.8888888888888888,
              "#fdca26"
             ],
             [
              1,
              "#f0f921"
             ]
            ],
            "type": "histogram2d"
           }
          ],
          "histogram2dcontour": [
           {
            "colorbar": {
             "outlinewidth": 0,
             "ticks": ""
            },
            "colorscale": [
             [
              0,
              "#0d0887"
             ],
             [
              0.1111111111111111,
              "#46039f"
             ],
             [
              0.2222222222222222,
              "#7201a8"
             ],
             [
              0.3333333333333333,
              "#9c179e"
             ],
             [
              0.4444444444444444,
              "#bd3786"
             ],
             [
              0.5555555555555556,
              "#d8576b"
             ],
             [
              0.6666666666666666,
              "#ed7953"
             ],
             [
              0.7777777777777778,
              "#fb9f3a"
             ],
             [
              0.8888888888888888,
              "#fdca26"
             ],
             [
              1,
              "#f0f921"
             ]
            ],
            "type": "histogram2dcontour"
           }
          ],
          "mesh3d": [
           {
            "colorbar": {
             "outlinewidth": 0,
             "ticks": ""
            },
            "type": "mesh3d"
           }
          ],
          "parcoords": [
           {
            "line": {
             "colorbar": {
              "outlinewidth": 0,
              "ticks": ""
             }
            },
            "type": "parcoords"
           }
          ],
          "pie": [
           {
            "automargin": true,
            "type": "pie"
           }
          ],
          "scatter": [
           {
            "marker": {
             "line": {
              "color": "#283442"
             }
            },
            "type": "scatter"
           }
          ],
          "scatter3d": [
           {
            "line": {
             "colorbar": {
              "outlinewidth": 0,
              "ticks": ""
             }
            },
            "marker": {
             "colorbar": {
              "outlinewidth": 0,
              "ticks": ""
             }
            },
            "type": "scatter3d"
           }
          ],
          "scattercarpet": [
           {
            "marker": {
             "colorbar": {
              "outlinewidth": 0,
              "ticks": ""
             }
            },
            "type": "scattercarpet"
           }
          ],
          "scattergeo": [
           {
            "marker": {
             "colorbar": {
              "outlinewidth": 0,
              "ticks": ""
             }
            },
            "type": "scattergeo"
           }
          ],
          "scattergl": [
           {
            "marker": {
             "line": {
              "color": "#283442"
             }
            },
            "type": "scattergl"
           }
          ],
          "scattermapbox": [
           {
            "marker": {
             "colorbar": {
              "outlinewidth": 0,
              "ticks": ""
             }
            },
            "type": "scattermapbox"
           }
          ],
          "scatterpolar": [
           {
            "marker": {
             "colorbar": {
              "outlinewidth": 0,
              "ticks": ""
             }
            },
            "type": "scatterpolar"
           }
          ],
          "scatterpolargl": [
           {
            "marker": {
             "colorbar": {
              "outlinewidth": 0,
              "ticks": ""
             }
            },
            "type": "scatterpolargl"
           }
          ],
          "scatterternary": [
           {
            "marker": {
             "colorbar": {
              "outlinewidth": 0,
              "ticks": ""
             }
            },
            "type": "scatterternary"
           }
          ],
          "surface": [
           {
            "colorbar": {
             "outlinewidth": 0,
             "ticks": ""
            },
            "colorscale": [
             [
              0,
              "#0d0887"
             ],
             [
              0.1111111111111111,
              "#46039f"
             ],
             [
              0.2222222222222222,
              "#7201a8"
             ],
             [
              0.3333333333333333,
              "#9c179e"
             ],
             [
              0.4444444444444444,
              "#bd3786"
             ],
             [
              0.5555555555555556,
              "#d8576b"
             ],
             [
              0.6666666666666666,
              "#ed7953"
             ],
             [
              0.7777777777777778,
              "#fb9f3a"
             ],
             [
              0.8888888888888888,
              "#fdca26"
             ],
             [
              1,
              "#f0f921"
             ]
            ],
            "type": "surface"
           }
          ],
          "table": [
           {
            "cells": {
             "fill": {
              "color": "#506784"
             },
             "line": {
              "color": "rgb(17,17,17)"
             }
            },
            "header": {
             "fill": {
              "color": "#2a3f5f"
             },
             "line": {
              "color": "rgb(17,17,17)"
             }
            },
            "type": "table"
           }
          ]
         },
         "layout": {
          "annotationdefaults": {
           "arrowcolor": "#f2f5fa",
           "arrowhead": 0,
           "arrowwidth": 1
          },
          "autotypenumbers": "strict",
          "coloraxis": {
           "colorbar": {
            "outlinewidth": 0,
            "ticks": ""
           }
          },
          "colorscale": {
           "diverging": [
            [
             0,
             "#8e0152"
            ],
            [
             0.1,
             "#c51b7d"
            ],
            [
             0.2,
             "#de77ae"
            ],
            [
             0.3,
             "#f1b6da"
            ],
            [
             0.4,
             "#fde0ef"
            ],
            [
             0.5,
             "#f7f7f7"
            ],
            [
             0.6,
             "#e6f5d0"
            ],
            [
             0.7,
             "#b8e186"
            ],
            [
             0.8,
             "#7fbc41"
            ],
            [
             0.9,
             "#4d9221"
            ],
            [
             1,
             "#276419"
            ]
           ],
           "sequential": [
            [
             0,
             "#0d0887"
            ],
            [
             0.1111111111111111,
             "#46039f"
            ],
            [
             0.2222222222222222,
             "#7201a8"
            ],
            [
             0.3333333333333333,
             "#9c179e"
            ],
            [
             0.4444444444444444,
             "#bd3786"
            ],
            [
             0.5555555555555556,
             "#d8576b"
            ],
            [
             0.6666666666666666,
             "#ed7953"
            ],
            [
             0.7777777777777778,
             "#fb9f3a"
            ],
            [
             0.8888888888888888,
             "#fdca26"
            ],
            [
             1,
             "#f0f921"
            ]
           ],
           "sequentialminus": [
            [
             0,
             "#0d0887"
            ],
            [
             0.1111111111111111,
             "#46039f"
            ],
            [
             0.2222222222222222,
             "#7201a8"
            ],
            [
             0.3333333333333333,
             "#9c179e"
            ],
            [
             0.4444444444444444,
             "#bd3786"
            ],
            [
             0.5555555555555556,
             "#d8576b"
            ],
            [
             0.6666666666666666,
             "#ed7953"
            ],
            [
             0.7777777777777778,
             "#fb9f3a"
            ],
            [
             0.8888888888888888,
             "#fdca26"
            ],
            [
             1,
             "#f0f921"
            ]
           ]
          },
          "colorway": [
           "#636efa",
           "#EF553B",
           "#00cc96",
           "#ab63fa",
           "#FFA15A",
           "#19d3f3",
           "#FF6692",
           "#B6E880",
           "#FF97FF",
           "#FECB52"
          ],
          "font": {
           "color": "#f2f5fa"
          },
          "geo": {
           "bgcolor": "rgb(17,17,17)",
           "lakecolor": "rgb(17,17,17)",
           "landcolor": "rgb(17,17,17)",
           "showlakes": true,
           "showland": true,
           "subunitcolor": "#506784"
          },
          "hoverlabel": {
           "align": "left"
          },
          "hovermode": "closest",
          "mapbox": {
           "style": "dark"
          },
          "paper_bgcolor": "rgb(17,17,17)",
          "plot_bgcolor": "rgb(17,17,17)",
          "polar": {
           "angularaxis": {
            "gridcolor": "#506784",
            "linecolor": "#506784",
            "ticks": ""
           },
           "bgcolor": "rgb(17,17,17)",
           "radialaxis": {
            "gridcolor": "#506784",
            "linecolor": "#506784",
            "ticks": ""
           }
          },
          "scene": {
           "xaxis": {
            "backgroundcolor": "rgb(17,17,17)",
            "gridcolor": "#506784",
            "gridwidth": 2,
            "linecolor": "#506784",
            "showbackground": true,
            "ticks": "",
            "zerolinecolor": "#C8D4E3"
           },
           "yaxis": {
            "backgroundcolor": "rgb(17,17,17)",
            "gridcolor": "#506784",
            "gridwidth": 2,
            "linecolor": "#506784",
            "showbackground": true,
            "ticks": "",
            "zerolinecolor": "#C8D4E3"
           },
           "zaxis": {
            "backgroundcolor": "rgb(17,17,17)",
            "gridcolor": "#506784",
            "gridwidth": 2,
            "linecolor": "#506784",
            "showbackground": true,
            "ticks": "",
            "zerolinecolor": "#C8D4E3"
           }
          },
          "shapedefaults": {
           "line": {
            "color": "#f2f5fa"
           }
          },
          "sliderdefaults": {
           "bgcolor": "#C8D4E3",
           "bordercolor": "rgb(17,17,17)",
           "borderwidth": 1,
           "tickwidth": 0
          },
          "ternary": {
           "aaxis": {
            "gridcolor": "#506784",
            "linecolor": "#506784",
            "ticks": ""
           },
           "baxis": {
            "gridcolor": "#506784",
            "linecolor": "#506784",
            "ticks": ""
           },
           "bgcolor": "rgb(17,17,17)",
           "caxis": {
            "gridcolor": "#506784",
            "linecolor": "#506784",
            "ticks": ""
           }
          },
          "title": {
           "x": 0.05
          },
          "updatemenudefaults": {
           "bgcolor": "#506784",
           "borderwidth": 0
          },
          "xaxis": {
           "automargin": true,
           "gridcolor": "#283442",
           "linecolor": "#506784",
           "ticks": "",
           "title": {
            "standoff": 15
           },
           "zerolinecolor": "#283442",
           "zerolinewidth": 2
          },
          "yaxis": {
           "automargin": true,
           "gridcolor": "#283442",
           "linecolor": "#506784",
           "ticks": "",
           "title": {
            "standoff": 15
           },
           "zerolinecolor": "#283442",
           "zerolinewidth": 2
          }
         }
        },
        "xaxis": {
         "anchor": "y",
         "domain": [
          0,
          0.235
         ],
         "title": {}
        },
        "xaxis2": {
         "anchor": "y2",
         "domain": [
          0.255,
          0.49
         ],
         "title": {}
        },
        "xaxis3": {
         "anchor": "y3",
         "domain": [
          0.51,
          0.745
         ],
         "title": {}
        },
        "xaxis4": {
         "anchor": "y4",
         "domain": [
          0.7649999999999999,
          0.9999999999999999
         ],
         "title": {}
        },
        "yaxis": {
         "anchor": "x",
         "domain": [
          0,
          1
         ],
         "title": {
          "text": "count"
         }
        },
        "yaxis2": {
         "anchor": "x2",
         "domain": [
          0,
          1
         ],
         "matches": "y",
         "showticklabels": false
        },
        "yaxis3": {
         "anchor": "x3",
         "domain": [
          0,
          1
         ],
         "matches": "y",
         "showticklabels": false
        },
        "yaxis4": {
         "anchor": "x4",
         "domain": [
          0,
          1
         ],
         "matches": "y",
         "showticklabels": false
        }
       }
      }
     },
     "metadata": {},
     "output_type": "display_data"
    }
   ],
   "source": [
    "import plotly.express as px\n",
    "\n",
    "fig = px.bar(\n",
    "    expanded_df,\n",
    "    x=\"title\",\n",
    "    color=\"team\",\n",
    "    hover_name=\"name\",\n",
    "    hover_data=[\"team\", \"tz\", \"city\",\"manager\",\"languages\"],\n",
    "    facet_col=\"country\",\n",
    "    template=\"plotly_dark\",\n",
    ")\n",
    "fig.update_xaxes(matches=None, title_text=None)\n"
   ]
  }
 ],
 "metadata": {
  "kernelspec": {
   "display_name": "peopleanalytics-hP1UcNMM",
   "language": "python",
   "name": "python3"
  },
  "language_info": {
   "codemirror_mode": {
    "name": "ipython",
    "version": 3
   },
   "file_extension": ".py",
   "mimetype": "text/x-python",
   "name": "python",
   "nbconvert_exporter": "python",
   "pygments_lexer": "ipython3",
   "version": "3.11.3"
  },
  "orig_nbformat": 4,
  "vscode": {
   "interpreter": {
    "hash": "a79ebb34bd880ae1609598d91f5437f974a2fc812a889a38194f0c3042249b1f"
   }
  }
 },
 "nbformat": 4,
 "nbformat_minor": 2
}
