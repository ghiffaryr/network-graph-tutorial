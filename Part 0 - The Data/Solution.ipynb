{
 "cells": [
  {
   "attachments": {},
   "cell_type": "markdown",
   "metadata": {},
   "source": [
    "# People\n",
    "\n",
    "What are they? How can we represent people in a meaningful way without having *real* data to draw from. In our organization we should have a few key pieces of information on each person:\n",
    "\n",
    "* Unique identifier (a name would be great)\n",
    "* Office/Location\n",
    "* Job Title\n",
    "* Team / Line of Business\n",
    "* Manager (this is key to understanding how reporting works)\n",
    "* Other info: programming languages, apps used, timezone, date hired, projects worked on, ...\n",
    "\n",
    "## Faker\n",
    "\n",
    "Let's generate some fake data! https://faker.readthedocs.io/en/master/"
   ]
  },
  {
   "cell_type": "code",
   "execution_count": 229,
   "metadata": {},
   "outputs": [
    {
     "data": {
      "text/plain": [
       "{'job': 'Theatre stage manager',\n",
       " 'company': 'Harris, Brewer and Carroll',\n",
       " 'ssn': '335-62-8258',\n",
       " 'residence': '180 James Roads\\nNorth Ashleyview, MN 51846',\n",
       " 'current_location': (Decimal('19.794247'), Decimal('56.951145')),\n",
       " 'blood_group': 'AB+',\n",
       " 'website': ['https://scott.com/',\n",
       "  'https://www.mcbride.info/',\n",
       "  'https://www.fischer.com/'],\n",
       " 'username': 'vdiaz',\n",
       " 'name': 'Timothy Silva',\n",
       " 'sex': 'M',\n",
       " 'address': '294 James Passage\\nMollyport, MN 18859',\n",
       " 'mail': 'sheltonnancy@hotmail.com',\n",
       " 'birthdate': datetime.date(1932, 7, 29)}"
      ]
     },
     "execution_count": 229,
     "metadata": {},
     "output_type": "execute_result"
    }
   ],
   "source": [
    "from faker import Faker\n",
    "fake = Faker()\n",
    "\n",
    "fake.profile() # lots of great stuff in here!"
   ]
  },
  {
   "attachments": {},
   "cell_type": "markdown",
   "metadata": {},
   "source": [
    "We can also do things like ensure uniqueness for individual entries across all entries"
   ]
  },
  {
   "cell_type": "code",
   "execution_count": 230,
   "metadata": {},
   "outputs": [
    {
     "name": "stdout",
     "output_type": "stream",
     "text": [
      "Mx.\n",
      "Ind.\n",
      "Miss\n",
      "Mrs.\n",
      "Misc.\n",
      "Dr.\n",
      "Mr.\n",
      "Ms.\n",
      "😟\n"
     ]
    }
   ],
   "source": [
    "from faker.exceptions import UniquenessException\n",
    "try:\n",
    "    for i in range(10):\n",
    "        print(fake.unique.prefix())\n",
    "except UniquenessException:\n",
    "    print(\"😟\")"
   ]
  },
  {
   "cell_type": "markdown",
   "metadata": {},
   "source": [
    "Try generating a few people and see if it looks like a good representation of our organization"
   ]
  },
  {
   "cell_type": "code",
   "execution_count": 231,
   "metadata": {},
   "outputs": [
    {
     "data": {
      "text/plain": [
       "Ellipsis"
      ]
     },
     "execution_count": 231,
     "metadata": {},
     "output_type": "execute_result"
    }
   ],
   "source": [
    "..."
   ]
  },
  {
   "cell_type": "markdown",
   "metadata": {},
   "source": [
    "This is a good start but ... it's kind of wonky. We have people all over the world with so many different jobs! Let's keep the spirit of this but implement some of our own limitations on fields to ensure things line up with what we'd expect a company org to look like\n"
   ]
  },
  {
   "attachments": {},
   "cell_type": "markdown",
   "metadata": {},
   "source": [
    "First, a few more interesting features: we can also register new `providers` if anything is missing. If needed these can be customized for different locales "
   ]
  },
  {
   "cell_type": "code",
   "execution_count": 232,
   "metadata": {},
   "outputs": [
    {
     "data": {
      "text/plain": [
       "'Contract'"
      ]
     },
     "execution_count": 232,
     "metadata": {},
     "output_type": "execute_result"
    }
   ],
   "source": [
    "from faker.providers import DynamicProvider\n",
    "\n",
    "employment_status_provider = DynamicProvider(\n",
    "     provider_name=\"employment\",\n",
    "     elements=[\"Full Time\", \"Part Time\", \"Contract\"],\n",
    ")\n",
    "\n",
    "fake.add_provider(employment_status_provider)\n",
    "\n",
    "fake.employment()"
   ]
  },
  {
   "attachments": {},
   "cell_type": "markdown",
   "metadata": {},
   "source": [
    "We can customize this further by using the `Faker.BaseProvider`"
   ]
  },
  {
   "cell_type": "code",
   "execution_count": 233,
   "metadata": {},
   "outputs": [
    {
     "data": {
      "text/plain": [
       "'Full Time'"
      ]
     },
     "execution_count": 233,
     "metadata": {},
     "output_type": "execute_result"
    }
   ],
   "source": [
    "# first, import a similar Provider or use the default one\n",
    "from more_itertools import one\n",
    "from faker.providers import BaseProvider\n",
    "\n",
    "# create new provider class\n",
    "class EmploymentStatus(BaseProvider):\n",
    "    statuses = {\"Full Time\": 0.7, \"Part Time\": 0.05, \"Contract\": 0.3}\n",
    "    def employment(self) -> str:\n",
    "        return one(fake.random.choices(\n",
    "            list(self.statuses), \n",
    "            weights=self.statuses.values()\n",
    "        ))\n",
    "\n",
    "# then add new provider to faker instance\n",
    "fake.add_provider(EmploymentStatus)\n",
    "\n",
    "fake.employment()\n"
   ]
  },
  {
   "attachments": {},
   "cell_type": "markdown",
   "metadata": {},
   "source": [
    "### A Tech Focused Person Data"
   ]
  },
  {
   "attachments": {},
   "cell_type": "markdown",
   "metadata": {},
   "source": [
    "To ground us in this task, let's define a new `Person` object that we can fill up with info (and a few other objects):"
   ]
  },
  {
   "cell_type": "code",
   "execution_count": 234,
   "metadata": {},
   "outputs": [],
   "source": [
    "from dataclasses import dataclass, field\n",
    "from typing import Literal\n",
    "from enum import Enum, auto\n",
    "import datetime\n",
    "\n",
    "class timezone(str, Enum):\n",
    "    EST = auto()\n",
    "    PST = auto()\n",
    "    UTC = auto()\n",
    "\n",
    "@dataclass\n",
    "class Location:\n",
    "    city: str\n",
    "    tz: timezone\n",
    "    country: str\n",
    "\n",
    "@dataclass\n",
    "class Person:\n",
    "    \"\"\"Someone who works in our company!\"\"\"\n",
    "    name: str\n",
    "    hire_date: datetime.date\n",
    "    status: Literal[\"Full Time\", \"Part Time\", \"Contract\"]\n",
    "    languages: list[str] = field(default_factory=list)\n",
    "    manager:str = None\n",
    "    team: str = None \n",
    "    title: str = None\n",
    "    location: Location = None"
   ]
  },
  {
   "cell_type": "code",
   "execution_count": 235,
   "metadata": {},
   "outputs": [
    {
     "data": {
      "text/plain": [
       "Person(name='Employee #1', hire_date=datetime.date(2023, 4, 24), status='Full Time', languages=[], manager=None, team=None, title=None, location=Location(city='New York', tz='EST', country='USA'))"
      ]
     },
     "execution_count": 235,
     "metadata": {},
     "output_type": "execute_result"
    }
   ],
   "source": [
    "Person(name=\"Employee #1\",hire_date=datetime.date.today(), status=\"Full Time\", location=Location(\"New York\", \"EST\", \"USA\"))"
   ]
  },
  {
   "cell_type": "code",
   "execution_count": 236,
   "metadata": {},
   "outputs": [],
   "source": [
    "import numpy as np\n",
    "import random\n",
    "\n",
    "def choose_a_few(\n",
    "    options: list[str],\n",
    "    weights: list[int | float] = None,\n",
    "    max_choices: int = None,\n",
    "    min_choices: int = 0,\n",
    ") -> list[str]:\n",
    "    \"\"\"A helpful function to pick a random number of choices from a list of options\n",
    "    \n",
    "    By default skews the weights toward the first options in the list\"\"\"\n",
    "    max_choices = np.clip(max_choices or len(options), min_choices, len(options))\n",
    "    \n",
    "    # how many choices will we make this time?\n",
    "    divisor = max_choices * (max_choices + 1) / 2    \n",
    "    k_weights = [int(x) / divisor for x in range(max_choices, min_choices-1, -1)]\n",
    "    n_choices = np.random.choice(list(range(min_choices,max_choices+1)), p=k_weights)\n",
    "    \n",
    "    # make the choices\n",
    "    choices = random.choices(options, weights=weights, k=n_choices)\n",
    "    return list(set(choices))\n"
   ]
  },
  {
   "attachments": {},
   "cell_type": "markdown",
   "metadata": {},
   "source": [
    "Now to make some people. Let's re-use whatever we can from `Faker` and then add some more of our own fields. We can also extend where needed to keep our code clear and consistent:"
   ]
  },
  {
   "cell_type": "code",
   "execution_count": 237,
   "metadata": {},
   "outputs": [],
   "source": [
    "class ProgrammingLanguages(BaseProvider):    \n",
    "    languages = {\n",
    "        \"Python\": 0.25,\n",
    "        \"Scala\": 0.1,\n",
    "        \"Go\": 0.08,\n",
    "        \"JavaScript\": 0.3,\n",
    "        \"Java\": 0.3,\n",
    "        \"Typescript\": 0.17,\n",
    "        \"Erlang\": 0.01,\n",
    "        \"Elixir\": 0.001,\n",
    "    }\n",
    "    def programming_languages(self) -> str:\n",
    "        return choose_a_few(list(self.languages), weights=self.languages.values())\n",
    "\n",
    "fake.add_provider(ProgrammingLanguages)\n"
   ]
  },
  {
   "cell_type": "code",
   "execution_count": 238,
   "metadata": {},
   "outputs": [
    {
     "data": {
      "text/plain": [
       "Person(name='Kayla Miller', hire_date=datetime.date(2021, 1, 15), status='Full Time', languages=['Python'], manager=None, team=None, title=None, location=None)"
      ]
     },
     "execution_count": 238,
     "metadata": {},
     "output_type": "execute_result"
    }
   ],
   "source": [
    "def make_person() -> Person:\n",
    "    return Person(\n",
    "        name = fake.name(),\n",
    "        hire_date = fake.date_between(start_date=\"-3y\", end_date=\"today\"),\n",
    "        status = fake.employment(),\n",
    "        languages = fake.programming_languages(),\n",
    "        team = None, # hrmmmm this is harder\n",
    "        title = None, # let's be smarter with this\n",
    "        location = None, # let's also be smarter with this\n",
    "    )\n",
    "\n",
    "make_person()"
   ]
  },
  {
   "attachments": {},
   "cell_type": "markdown",
   "metadata": {},
   "source": [
    "Now we can generate more complex attributes in a smart way. Let's set up some rules about where offices are, what teams are in which offices, then pick titles based on other info (e.g. Developers probably know at least one language ... )"
   ]
  },
  {
   "cell_type": "code",
   "execution_count": 239,
   "metadata": {},
   "outputs": [
    {
     "data": {
      "text/plain": [
       "{'location': Location(city='Fort Lauderdale', tz='EST', country='USA'),\n",
       " 'title': 'Engineer',\n",
       " 'team': 'DevX'}"
      ]
     },
     "execution_count": 239,
     "metadata": {},
     "output_type": "execute_result"
    }
   ],
   "source": [
    "TEAM_TITLES:dict[str,list[str]] = {\n",
    "    \"DevX\": [\"Engineer\", \"Engineer\", \"Engineer\", \"Engineer\", \"Engineer\", \"AVP\"],\n",
    "    \"DevOps\": [\"Engineer\", \"Senior Engineer\", \"Manager\", \"Senior Manager\"],\n",
    "    \"Sales\": [\"Associate\", \"VP\"],\n",
    "    \"Support\": [\"Analyst\", \"Manager\"],\n",
    "    \"Platform\": [\"Engineer\", \"Senior Engineer\",\"Managing Engineer\", \"AVP\", \"VP\"],\n",
    "    \"Product\": [\"Engineer\", \"Manager\", \"Product Owner\", \"AVP\", \"VP\"],\n",
    "    \"Internal Tools\": [\"Engineer\", \"Senior Engineer\", \"Manager\", \"AVP\", \"VP\"],\n",
    "    \"Business\": [\"Analyst\", \"Associate\", \"Vice President\", \"Director\", \"Managing Director\"]\n",
    "}\n",
    "\n",
    "# codify the hierarchical structure\n",
    "allowed_teams_per_office = {\n",
    "    \"New York\": [\"Sales\", \"Product\", \"Business\"],\n",
    "    \"Toronto\": [\"Platform\", \"Product\", \"Internal Tools\", \"Sales\", \"Business\"],\n",
    "    \"Fort Lauderdale\": [\"DevX\"],\n",
    "    \"Dublin\": [\"DevOps\", \"Support\"],\n",
    "    \"London\": [\"Sales\", \"Business\"],\n",
    "    \"Seattle\": [\"Internal Tools\", \"Product\", \"Platform\"],\n",
    "}\n",
    "offices = {\n",
    "    location.city: location\n",
    "    for location in [\n",
    "        Location(\"New York\", tz=\"EST\", country=\"USA\"),\n",
    "        Location(\"Seattle\", tz=\"PST\", country=\"USA\"),\n",
    "        Location(\"Toronto\", tz=\"EST\", country=\"CAN\"),\n",
    "        Location(\"London\", tz=\"UTC\", country=\"GBR\"),\n",
    "        Location(\"Fort Lauderdale\", tz=\"EST\", country=\"USA\"),\n",
    "        Location(\"Dublin\", tz=\"UTC\", country=\"IRL\"),\n",
    "    ]\n",
    "}\n",
    "\n",
    "def title_city_team():\n",
    "    # just a few locations\n",
    "    allowed_titles_per_team = TEAM_TITLES\n",
    "    city = random.choice(list(offices))\n",
    "    team = random.choice(allowed_teams_per_office[city])\n",
    "    title = choose_a_few(\n",
    "        allowed_titles_per_team[team], max_choices=1, min_choices=1\n",
    "    ).pop()\n",
    "    \n",
    "    return {\n",
    "        \"location\": Location(city=city, tz=offices[city].tz, country=offices[city].country),\n",
    "        \"title\": title,\n",
    "        \"team\": team,\n",
    "    }\n",
    "\n",
    "\n",
    "title_city_team()\n"
   ]
  },
  {
   "attachments": {},
   "cell_type": "markdown",
   "metadata": {},
   "source": [
    "After running this we should have a better balanced org in terms of region + titles. Then we just need to add the connections in -- i.e. who's the boss?!"
   ]
  },
  {
   "cell_type": "code",
   "execution_count": 240,
   "metadata": {},
   "outputs": [],
   "source": [
    "def make_person() -> Person:\n",
    "    title_city_team_ = title_city_team()\n",
    "    technical = 1 if \"Engineer\" in title_city_team_[\"title\"] else 0\n",
    "    return Person(\n",
    "        name = fake.name(),\n",
    "        hire_date = fake.date_between(start_date=\"-3y\", end_date=\"today\"),\n",
    "        status = fake.employment(),\n",
    "        languages = fake.programming_languages(),\n",
    "        **title_city_team_,\n",
    "    )\n"
   ]
  },
  {
   "cell_type": "code",
   "execution_count": 241,
   "metadata": {},
   "outputs": [
    {
     "data": {
      "text/html": [
       "<div>\n",
       "<style scoped>\n",
       "    .dataframe tbody tr th:only-of-type {\n",
       "        vertical-align: middle;\n",
       "    }\n",
       "\n",
       "    .dataframe tbody tr th {\n",
       "        vertical-align: top;\n",
       "    }\n",
       "\n",
       "    .dataframe thead th {\n",
       "        text-align: right;\n",
       "    }\n",
       "</style>\n",
       "<table border=\"1\" class=\"dataframe\">\n",
       "  <thead>\n",
       "    <tr style=\"text-align: right;\">\n",
       "      <th></th>\n",
       "      <th>name</th>\n",
       "      <th>hire_date</th>\n",
       "      <th>status</th>\n",
       "      <th>languages</th>\n",
       "      <th>manager</th>\n",
       "      <th>team</th>\n",
       "      <th>title</th>\n",
       "      <th>location</th>\n",
       "    </tr>\n",
       "  </thead>\n",
       "  <tbody>\n",
       "    <tr>\n",
       "      <th>0</th>\n",
       "      <td>Daniel Farley</td>\n",
       "      <td>2022-07-27</td>\n",
       "      <td>Full Time</td>\n",
       "      <td>[Go, Scala, JavaScript]</td>\n",
       "      <td>None</td>\n",
       "      <td>Sales</td>\n",
       "      <td>Associate</td>\n",
       "      <td>{'city': 'Toronto', 'tz': 'EST', 'country': 'C...</td>\n",
       "    </tr>\n",
       "    <tr>\n",
       "      <th>1</th>\n",
       "      <td>Amber Lynch</td>\n",
       "      <td>2020-06-15</td>\n",
       "      <td>Contract</td>\n",
       "      <td>[Go, Java, Scala, JavaScript]</td>\n",
       "      <td>None</td>\n",
       "      <td>Business</td>\n",
       "      <td>Vice President</td>\n",
       "      <td>{'city': 'London', 'tz': 'UTC', 'country': 'GBR'}</td>\n",
       "    </tr>\n",
       "    <tr>\n",
       "      <th>2</th>\n",
       "      <td>Frank Parker</td>\n",
       "      <td>2022-10-29</td>\n",
       "      <td>Part Time</td>\n",
       "      <td>[Java, Scala]</td>\n",
       "      <td>None</td>\n",
       "      <td>Product</td>\n",
       "      <td>Manager</td>\n",
       "      <td>{'city': 'New York', 'tz': 'EST', 'country': '...</td>\n",
       "    </tr>\n",
       "    <tr>\n",
       "      <th>3</th>\n",
       "      <td>Elizabeth Stokes DVM</td>\n",
       "      <td>2021-05-13</td>\n",
       "      <td>Contract</td>\n",
       "      <td>[]</td>\n",
       "      <td>None</td>\n",
       "      <td>Business</td>\n",
       "      <td>Analyst</td>\n",
       "      <td>{'city': 'London', 'tz': 'UTC', 'country': 'GBR'}</td>\n",
       "    </tr>\n",
       "    <tr>\n",
       "      <th>4</th>\n",
       "      <td>Jacob Carr</td>\n",
       "      <td>2021-11-10</td>\n",
       "      <td>Full Time</td>\n",
       "      <td>[]</td>\n",
       "      <td>None</td>\n",
       "      <td>Sales</td>\n",
       "      <td>VP</td>\n",
       "      <td>{'city': 'New York', 'tz': 'EST', 'country': '...</td>\n",
       "    </tr>\n",
       "  </tbody>\n",
       "</table>\n",
       "</div>"
      ],
      "text/plain": [
       "                   name   hire_date     status                      languages  \\\n",
       "0         Daniel Farley  2022-07-27  Full Time        [Go, Scala, JavaScript]   \n",
       "1           Amber Lynch  2020-06-15   Contract  [Go, Java, Scala, JavaScript]   \n",
       "2          Frank Parker  2022-10-29  Part Time                  [Java, Scala]   \n",
       "3  Elizabeth Stokes DVM  2021-05-13   Contract                             []   \n",
       "4            Jacob Carr  2021-11-10  Full Time                             []   \n",
       "\n",
       "  manager      team           title  \\\n",
       "0    None     Sales       Associate   \n",
       "1    None  Business  Vice President   \n",
       "2    None   Product         Manager   \n",
       "3    None  Business         Analyst   \n",
       "4    None     Sales              VP   \n",
       "\n",
       "                                            location  \n",
       "0  {'city': 'Toronto', 'tz': 'EST', 'country': 'C...  \n",
       "1  {'city': 'London', 'tz': 'UTC', 'country': 'GBR'}  \n",
       "2  {'city': 'New York', 'tz': 'EST', 'country': '...  \n",
       "3  {'city': 'London', 'tz': 'UTC', 'country': 'GBR'}  \n",
       "4  {'city': 'New York', 'tz': 'EST', 'country': '...  "
      ]
     },
     "execution_count": 241,
     "metadata": {},
     "output_type": "execute_result"
    }
   ],
   "source": [
    "import pandas as pd\n",
    "people_df = pd.DataFrame((make_person() for _ in range(150)))\n",
    "people_df.head()"
   ]
  },
  {
   "attachments": {},
   "cell_type": "markdown",
   "metadata": {},
   "source": [
    "So, let's group by Team and then pick a manager for everyone. Let's use these rules:\n",
    "\n",
    "* People report to someone of a higher title if possible, else to a peer\n",
    "* Reporting happens within a team\n",
    "* We already ordered `TEAM_TITLES` based on *rank*\n",
    "* Team leads should be listed as reporting to themselves (for now)"
   ]
  },
  {
   "cell_type": "code",
   "execution_count": 242,
   "metadata": {},
   "outputs": [
    {
     "data": {
      "text/html": [
       "<div>\n",
       "<style scoped>\n",
       "    .dataframe tbody tr th:only-of-type {\n",
       "        vertical-align: middle;\n",
       "    }\n",
       "\n",
       "    .dataframe tbody tr th {\n",
       "        vertical-align: top;\n",
       "    }\n",
       "\n",
       "    .dataframe thead th {\n",
       "        text-align: right;\n",
       "    }\n",
       "</style>\n",
       "<table border=\"1\" class=\"dataframe\">\n",
       "  <thead>\n",
       "    <tr style=\"text-align: right;\">\n",
       "      <th></th>\n",
       "      <th>name</th>\n",
       "      <th>hire_date</th>\n",
       "      <th>status</th>\n",
       "      <th>languages</th>\n",
       "      <th>manager</th>\n",
       "      <th>team</th>\n",
       "      <th>title</th>\n",
       "      <th>location</th>\n",
       "      <th>rank</th>\n",
       "    </tr>\n",
       "  </thead>\n",
       "  <tbody>\n",
       "    <tr>\n",
       "      <th>104</th>\n",
       "      <td>Bobby Long</td>\n",
       "      <td>2021-02-11</td>\n",
       "      <td>Full Time</td>\n",
       "      <td>[Java]</td>\n",
       "      <td>None</td>\n",
       "      <td>DevX</td>\n",
       "      <td>AVP</td>\n",
       "      <td>{'city': 'Fort Lauderdale', 'tz': 'EST', 'coun...</td>\n",
       "      <td>6.0</td>\n",
       "    </tr>\n",
       "    <tr>\n",
       "      <th>36</th>\n",
       "      <td>Christina Richards</td>\n",
       "      <td>2021-08-03</td>\n",
       "      <td>Full Time</td>\n",
       "      <td>[Python]</td>\n",
       "      <td>None</td>\n",
       "      <td>Product</td>\n",
       "      <td>Product Owner</td>\n",
       "      <td>{'city': 'Seattle', 'tz': 'PST', 'country': 'U...</td>\n",
       "      <td>3.0</td>\n",
       "    </tr>\n",
       "    <tr>\n",
       "      <th>143</th>\n",
       "      <td>Joy Ortega</td>\n",
       "      <td>2022-08-26</td>\n",
       "      <td>Full Time</td>\n",
       "      <td>[]</td>\n",
       "      <td>None</td>\n",
       "      <td>Support</td>\n",
       "      <td>Analyst</td>\n",
       "      <td>{'city': 'Dublin', 'tz': 'UTC', 'country': 'IRL'}</td>\n",
       "      <td>1.0</td>\n",
       "    </tr>\n",
       "  </tbody>\n",
       "</table>\n",
       "</div>"
      ],
      "text/plain": [
       "                   name   hire_date     status languages manager     team  \\\n",
       "104          Bobby Long  2021-02-11  Full Time    [Java]    None     DevX   \n",
       "36   Christina Richards  2021-08-03  Full Time  [Python]    None  Product   \n",
       "143          Joy Ortega  2022-08-26  Full Time        []    None  Support   \n",
       "\n",
       "             title                                           location  rank  \n",
       "104            AVP  {'city': 'Fort Lauderdale', 'tz': 'EST', 'coun...   6.0  \n",
       "36   Product Owner  {'city': 'Seattle', 'tz': 'PST', 'country': 'U...   3.0  \n",
       "143        Analyst  {'city': 'Dublin', 'tz': 'UTC', 'country': 'IRL'}   1.0  "
      ]
     },
     "execution_count": 242,
     "metadata": {},
     "output_type": "execute_result"
    }
   ],
   "source": [
    "# calculate team ranks\n",
    "ranks = {team: {title: rank + 1 for rank,title in enumerate(titles)} for team, titles in TEAM_TITLES.items()}\n",
    "for team in ranks:\n",
    "    people_df.loc[people_df.team==team, \"rank\"] = people_df.loc[people_df.team==team].title.map(ranks[team])\n",
    "people_df = people_df.sort_values(by=[\"team\",\"rank\"])\n",
    "people_df.sample(3)"
   ]
  },
  {
   "cell_type": "code",
   "execution_count": 244,
   "metadata": {},
   "outputs": [
    {
     "data": {
      "text/html": [
       "<div>\n",
       "<style scoped>\n",
       "    .dataframe tbody tr th:only-of-type {\n",
       "        vertical-align: middle;\n",
       "    }\n",
       "\n",
       "    .dataframe tbody tr th {\n",
       "        vertical-align: top;\n",
       "    }\n",
       "\n",
       "    .dataframe thead th {\n",
       "        text-align: right;\n",
       "    }\n",
       "</style>\n",
       "<table border=\"1\" class=\"dataframe\">\n",
       "  <thead>\n",
       "    <tr style=\"text-align: right;\">\n",
       "      <th></th>\n",
       "      <th>name</th>\n",
       "      <th>hire_date</th>\n",
       "      <th>status</th>\n",
       "      <th>languages</th>\n",
       "      <th>manager</th>\n",
       "      <th>team</th>\n",
       "      <th>title</th>\n",
       "      <th>location</th>\n",
       "      <th>rank</th>\n",
       "    </tr>\n",
       "  </thead>\n",
       "  <tbody>\n",
       "    <tr>\n",
       "      <th>149</th>\n",
       "      <td>Brandon Franco</td>\n",
       "      <td>2020-05-19</td>\n",
       "      <td>Contract</td>\n",
       "      <td>[Java, JavaScript, Python]</td>\n",
       "      <td>Kimberly Murphy</td>\n",
       "      <td>Support</td>\n",
       "      <td>Manager</td>\n",
       "      <td>{'city': 'Dublin', 'tz': 'UTC', 'country': 'IRL'}</td>\n",
       "      <td>2.0</td>\n",
       "    </tr>\n",
       "    <tr>\n",
       "      <th>41</th>\n",
       "      <td>Bridget Baker</td>\n",
       "      <td>2022-06-12</td>\n",
       "      <td>Full Time</td>\n",
       "      <td>[JavaScript, Typescript, Python]</td>\n",
       "      <td>James Smith</td>\n",
       "      <td>DevOps</td>\n",
       "      <td>Senior Engineer</td>\n",
       "      <td>{'city': 'Dublin', 'tz': 'UTC', 'country': 'IRL'}</td>\n",
       "      <td>2.0</td>\n",
       "    </tr>\n",
       "    <tr>\n",
       "      <th>92</th>\n",
       "      <td>Michael Harris</td>\n",
       "      <td>2022-09-06</td>\n",
       "      <td>Contract</td>\n",
       "      <td>[Java]</td>\n",
       "      <td>Omar Hale</td>\n",
       "      <td>Platform</td>\n",
       "      <td>VP</td>\n",
       "      <td>{'city': 'Toronto', 'tz': 'EST', 'country': 'C...</td>\n",
       "      <td>5.0</td>\n",
       "    </tr>\n",
       "    <tr>\n",
       "      <th>130</th>\n",
       "      <td>Jacqueline Wagner</td>\n",
       "      <td>2022-04-18</td>\n",
       "      <td>Full Time</td>\n",
       "      <td>[Java, JavaScript, Python]</td>\n",
       "      <td>Jacob Carr</td>\n",
       "      <td>Sales</td>\n",
       "      <td>VP</td>\n",
       "      <td>{'city': 'New York', 'tz': 'EST', 'country': '...</td>\n",
       "      <td>2.0</td>\n",
       "    </tr>\n",
       "    <tr>\n",
       "      <th>123</th>\n",
       "      <td>Bryan Larson</td>\n",
       "      <td>2020-04-25</td>\n",
       "      <td>Full Time</td>\n",
       "      <td>[]</td>\n",
       "      <td>Daniel Farley</td>\n",
       "      <td>Sales</td>\n",
       "      <td>Associate</td>\n",
       "      <td>{'city': 'London', 'tz': 'UTC', 'country': 'GBR'}</td>\n",
       "      <td>1.0</td>\n",
       "    </tr>\n",
       "  </tbody>\n",
       "</table>\n",
       "</div>"
      ],
      "text/plain": [
       "                  name   hire_date     status  \\\n",
       "149     Brandon Franco  2020-05-19   Contract   \n",
       "41       Bridget Baker  2022-06-12  Full Time   \n",
       "92      Michael Harris  2022-09-06   Contract   \n",
       "130  Jacqueline Wagner  2022-04-18  Full Time   \n",
       "123       Bryan Larson  2020-04-25  Full Time   \n",
       "\n",
       "                            languages          manager      team  \\\n",
       "149        [Java, JavaScript, Python]  Kimberly Murphy   Support   \n",
       "41   [JavaScript, Typescript, Python]      James Smith    DevOps   \n",
       "92                             [Java]        Omar Hale  Platform   \n",
       "130        [Java, JavaScript, Python]       Jacob Carr     Sales   \n",
       "123                                []    Daniel Farley     Sales   \n",
       "\n",
       "               title                                           location  rank  \n",
       "149          Manager  {'city': 'Dublin', 'tz': 'UTC', 'country': 'IRL'}   2.0  \n",
       "41   Senior Engineer  {'city': 'Dublin', 'tz': 'UTC', 'country': 'IRL'}   2.0  \n",
       "92                VP  {'city': 'Toronto', 'tz': 'EST', 'country': 'C...   5.0  \n",
       "130               VP  {'city': 'New York', 'tz': 'EST', 'country': '...   2.0  \n",
       "123        Associate  {'city': 'London', 'tz': 'UTC', 'country': 'GBR'}   1.0  "
      ]
     },
     "execution_count": 244,
     "metadata": {},
     "output_type": "execute_result"
    }
   ],
   "source": [
    "# determine supervisor\n",
    "def naivereportsto(row, df, allow_peer_reports:bool=False):\n",
    "    supervisor = (\n",
    "        df[(df.index < row.name)].query(f\"\"\"rank > {row[\"rank\"]}\"\"\").tail(1)[\"name\"]\n",
    "    )\n",
    "    supervisor = supervisor.item() if not supervisor.empty else None\n",
    "    if not supervisor and allow_peer_reports:\n",
    "        peer = df[(df.index < row.name)].query(f\"\"\"rank  == {row[\"rank\"]}\"\"\").head(1)[\"name\"]\n",
    "        peer = peer.item() if not peer.empty else None\n",
    "        return supervisor or peer or row[\"name\"]\n",
    "    return supervisor or row[\"name\"]\n",
    "\n",
    "\n",
    "def reportsto(df, allow_peer_reports:bool):\n",
    "    return df.assign(manager=df.apply(naivereportsto, df=df, allow_peer_reports=allow_peer_reports, axis=1))\n",
    "\n",
    "\n",
    "def supervisors(df, allow_peer_reports:bool):\n",
    "    df = df.groupby(\"team\", group_keys=False).apply(reportsto, allow_peer_reports=allow_peer_reports).reset_index(drop=True)\n",
    "    return df\n",
    "\n",
    "\n",
    "people_df = people_df.pipe(supervisors, allow_peer_reports=True)\n",
    "people_df.sample(5)\n"
   ]
  },
  {
   "attachments": {},
   "cell_type": "markdown",
   "metadata": {},
   "source": [
    "Now we just need a CEO for all the team leads to report to. Set their manager as themselves to help us out later. We need to make sure to include all the other information in the DF that we just generated, namely `rank` and `manager`. Here let's also set the CEO as reporting to themselves "
   ]
  },
  {
   "cell_type": "code",
   "execution_count": 245,
   "metadata": {},
   "outputs": [],
   "source": [
    "CEO = make_person().__dict__ | {\"team\":\"CEO\", \"title\":\"CEO\", \"status\":\"Full Time\"}\n",
    "CEO[\"location\"] = CEO[\"location\"].__dict__\n",
    "people_df = pd.concat([people_df, pd.DataFrame([CEO])])\n",
    "CEO_mask = people_df.name==CEO[\"name\"]\n",
    "people_df.loc[(people_df.manager == people_df.name) | CEO_mask ,\"manager\"]=CEO[\"name\"]\n",
    "people_df.loc[CEO_mask, \"rank\"] = people_df[\"rank\"].max()+1"
   ]
  },
  {
   "attachments": {},
   "cell_type": "markdown",
   "metadata": {},
   "source": [
    "Alright, we have something now. Does this seems reasonably distributed? Let's use `plotly` to explore our people's dimensions and get a feel for the data"
   ]
  },
  {
   "cell_type": "code",
   "execution_count": 246,
   "metadata": {},
   "outputs": [
    {
     "data": {
      "text/html": [
       "<div>\n",
       "<style scoped>\n",
       "    .dataframe tbody tr th:only-of-type {\n",
       "        vertical-align: middle;\n",
       "    }\n",
       "\n",
       "    .dataframe tbody tr th {\n",
       "        vertical-align: top;\n",
       "    }\n",
       "\n",
       "    .dataframe thead th {\n",
       "        text-align: right;\n",
       "    }\n",
       "</style>\n",
       "<table border=\"1\" class=\"dataframe\">\n",
       "  <thead>\n",
       "    <tr style=\"text-align: right;\">\n",
       "      <th></th>\n",
       "      <th>name</th>\n",
       "      <th>hire_date</th>\n",
       "      <th>status</th>\n",
       "      <th>languages</th>\n",
       "      <th>manager</th>\n",
       "      <th>team</th>\n",
       "      <th>title</th>\n",
       "      <th>location</th>\n",
       "      <th>rank</th>\n",
       "      <th>city</th>\n",
       "      <th>tz</th>\n",
       "      <th>country</th>\n",
       "    </tr>\n",
       "  </thead>\n",
       "  <tbody>\n",
       "    <tr>\n",
       "      <th>0</th>\n",
       "      <td>Elizabeth Stokes DVM</td>\n",
       "      <td>2021-05-13</td>\n",
       "      <td>Contract</td>\n",
       "      <td>[]</td>\n",
       "      <td>Kathleen Vincent</td>\n",
       "      <td>Business</td>\n",
       "      <td>Analyst</td>\n",
       "      <td>{'city': 'London', 'tz': 'UTC', 'country': 'GBR'}</td>\n",
       "      <td>1.0</td>\n",
       "      <td>London</td>\n",
       "      <td>UTC</td>\n",
       "      <td>GBR</td>\n",
       "    </tr>\n",
       "    <tr>\n",
       "      <th>1</th>\n",
       "      <td>Emily Smith</td>\n",
       "      <td>2022-03-29</td>\n",
       "      <td>Full Time</td>\n",
       "      <td>[Go]</td>\n",
       "      <td>Elizabeth Stokes DVM</td>\n",
       "      <td>Business</td>\n",
       "      <td>Analyst</td>\n",
       "      <td>{'city': 'London', 'tz': 'UTC', 'country': 'GBR'}</td>\n",
       "      <td>1.0</td>\n",
       "      <td>London</td>\n",
       "      <td>UTC</td>\n",
       "      <td>GBR</td>\n",
       "    </tr>\n",
       "    <tr>\n",
       "      <th>2</th>\n",
       "      <td>David Robinson</td>\n",
       "      <td>2021-04-11</td>\n",
       "      <td>Full Time</td>\n",
       "      <td>[]</td>\n",
       "      <td>Elizabeth Stokes DVM</td>\n",
       "      <td>Business</td>\n",
       "      <td>Analyst</td>\n",
       "      <td>{'city': 'London', 'tz': 'UTC', 'country': 'GBR'}</td>\n",
       "      <td>1.0</td>\n",
       "      <td>London</td>\n",
       "      <td>UTC</td>\n",
       "      <td>GBR</td>\n",
       "    </tr>\n",
       "    <tr>\n",
       "      <th>3</th>\n",
       "      <td>Lisa Morrow</td>\n",
       "      <td>2022-04-18</td>\n",
       "      <td>Full Time</td>\n",
       "      <td>[Java, Typescript]</td>\n",
       "      <td>Elizabeth Stokes DVM</td>\n",
       "      <td>Business</td>\n",
       "      <td>Analyst</td>\n",
       "      <td>{'city': 'London', 'tz': 'UTC', 'country': 'GBR'}</td>\n",
       "      <td>1.0</td>\n",
       "      <td>London</td>\n",
       "      <td>UTC</td>\n",
       "      <td>GBR</td>\n",
       "    </tr>\n",
       "    <tr>\n",
       "      <th>4</th>\n",
       "      <td>Jade Lopez</td>\n",
       "      <td>2021-11-17</td>\n",
       "      <td>Full Time</td>\n",
       "      <td>[Go, Java, JavaScript, Python]</td>\n",
       "      <td>Elizabeth Stokes DVM</td>\n",
       "      <td>Business</td>\n",
       "      <td>Analyst</td>\n",
       "      <td>{'city': 'London', 'tz': 'UTC', 'country': 'GBR'}</td>\n",
       "      <td>1.0</td>\n",
       "      <td>London</td>\n",
       "      <td>UTC</td>\n",
       "      <td>GBR</td>\n",
       "    </tr>\n",
       "    <tr>\n",
       "      <th>...</th>\n",
       "      <td>...</td>\n",
       "      <td>...</td>\n",
       "      <td>...</td>\n",
       "      <td>...</td>\n",
       "      <td>...</td>\n",
       "      <td>...</td>\n",
       "      <td>...</td>\n",
       "      <td>...</td>\n",
       "      <td>...</td>\n",
       "      <td>...</td>\n",
       "      <td>...</td>\n",
       "      <td>...</td>\n",
       "    </tr>\n",
       "    <tr>\n",
       "      <th>146</th>\n",
       "      <td>Daniel Cox</td>\n",
       "      <td>2020-12-19</td>\n",
       "      <td>Full Time</td>\n",
       "      <td>[JavaScript, Typescript]</td>\n",
       "      <td>Kimberly Murphy</td>\n",
       "      <td>Support</td>\n",
       "      <td>Manager</td>\n",
       "      <td>{'city': 'Dublin', 'tz': 'UTC', 'country': 'IRL'}</td>\n",
       "      <td>2.0</td>\n",
       "      <td>Dublin</td>\n",
       "      <td>UTC</td>\n",
       "      <td>IRL</td>\n",
       "    </tr>\n",
       "    <tr>\n",
       "      <th>147</th>\n",
       "      <td>Shelly Costa</td>\n",
       "      <td>2022-03-29</td>\n",
       "      <td>Contract</td>\n",
       "      <td>[]</td>\n",
       "      <td>Kimberly Murphy</td>\n",
       "      <td>Support</td>\n",
       "      <td>Manager</td>\n",
       "      <td>{'city': 'Dublin', 'tz': 'UTC', 'country': 'IRL'}</td>\n",
       "      <td>2.0</td>\n",
       "      <td>Dublin</td>\n",
       "      <td>UTC</td>\n",
       "      <td>IRL</td>\n",
       "    </tr>\n",
       "    <tr>\n",
       "      <th>148</th>\n",
       "      <td>Jennifer Black</td>\n",
       "      <td>2022-04-07</td>\n",
       "      <td>Contract</td>\n",
       "      <td>[JavaScript]</td>\n",
       "      <td>Kimberly Murphy</td>\n",
       "      <td>Support</td>\n",
       "      <td>Manager</td>\n",
       "      <td>{'city': 'Dublin', 'tz': 'UTC', 'country': 'IRL'}</td>\n",
       "      <td>2.0</td>\n",
       "      <td>Dublin</td>\n",
       "      <td>UTC</td>\n",
       "      <td>IRL</td>\n",
       "    </tr>\n",
       "    <tr>\n",
       "      <th>149</th>\n",
       "      <td>Brandon Franco</td>\n",
       "      <td>2020-05-19</td>\n",
       "      <td>Contract</td>\n",
       "      <td>[Java, JavaScript, Python]</td>\n",
       "      <td>Kimberly Murphy</td>\n",
       "      <td>Support</td>\n",
       "      <td>Manager</td>\n",
       "      <td>{'city': 'Dublin', 'tz': 'UTC', 'country': 'IRL'}</td>\n",
       "      <td>2.0</td>\n",
       "      <td>Dublin</td>\n",
       "      <td>UTC</td>\n",
       "      <td>IRL</td>\n",
       "    </tr>\n",
       "    <tr>\n",
       "      <th>0</th>\n",
       "      <td>Kathleen Vincent</td>\n",
       "      <td>2020-09-22</td>\n",
       "      <td>Full Time</td>\n",
       "      <td>[Java, Typescript, JavaScript, Python]</td>\n",
       "      <td>Kathleen Vincent</td>\n",
       "      <td>CEO</td>\n",
       "      <td>CEO</td>\n",
       "      <td>{'city': 'Fort Lauderdale', 'tz': 'EST', 'coun...</td>\n",
       "      <td>7.0</td>\n",
       "      <td>Fort Lauderdale</td>\n",
       "      <td>EST</td>\n",
       "      <td>USA</td>\n",
       "    </tr>\n",
       "  </tbody>\n",
       "</table>\n",
       "<p>151 rows × 12 columns</p>\n",
       "</div>"
      ],
      "text/plain": [
       "                     name   hire_date     status  \\\n",
       "0    Elizabeth Stokes DVM  2021-05-13   Contract   \n",
       "1             Emily Smith  2022-03-29  Full Time   \n",
       "2          David Robinson  2021-04-11  Full Time   \n",
       "3             Lisa Morrow  2022-04-18  Full Time   \n",
       "4              Jade Lopez  2021-11-17  Full Time   \n",
       "..                    ...         ...        ...   \n",
       "146            Daniel Cox  2020-12-19  Full Time   \n",
       "147          Shelly Costa  2022-03-29   Contract   \n",
       "148        Jennifer Black  2022-04-07   Contract   \n",
       "149        Brandon Franco  2020-05-19   Contract   \n",
       "0        Kathleen Vincent  2020-09-22  Full Time   \n",
       "\n",
       "                                  languages               manager      team  \\\n",
       "0                                        []      Kathleen Vincent  Business   \n",
       "1                                      [Go]  Elizabeth Stokes DVM  Business   \n",
       "2                                        []  Elizabeth Stokes DVM  Business   \n",
       "3                        [Java, Typescript]  Elizabeth Stokes DVM  Business   \n",
       "4            [Go, Java, JavaScript, Python]  Elizabeth Stokes DVM  Business   \n",
       "..                                      ...                   ...       ...   \n",
       "146                [JavaScript, Typescript]       Kimberly Murphy   Support   \n",
       "147                                      []       Kimberly Murphy   Support   \n",
       "148                            [JavaScript]       Kimberly Murphy   Support   \n",
       "149              [Java, JavaScript, Python]       Kimberly Murphy   Support   \n",
       "0    [Java, Typescript, JavaScript, Python]      Kathleen Vincent       CEO   \n",
       "\n",
       "       title                                           location  rank  \\\n",
       "0    Analyst  {'city': 'London', 'tz': 'UTC', 'country': 'GBR'}   1.0   \n",
       "1    Analyst  {'city': 'London', 'tz': 'UTC', 'country': 'GBR'}   1.0   \n",
       "2    Analyst  {'city': 'London', 'tz': 'UTC', 'country': 'GBR'}   1.0   \n",
       "3    Analyst  {'city': 'London', 'tz': 'UTC', 'country': 'GBR'}   1.0   \n",
       "4    Analyst  {'city': 'London', 'tz': 'UTC', 'country': 'GBR'}   1.0   \n",
       "..       ...                                                ...   ...   \n",
       "146  Manager  {'city': 'Dublin', 'tz': 'UTC', 'country': 'IRL'}   2.0   \n",
       "147  Manager  {'city': 'Dublin', 'tz': 'UTC', 'country': 'IRL'}   2.0   \n",
       "148  Manager  {'city': 'Dublin', 'tz': 'UTC', 'country': 'IRL'}   2.0   \n",
       "149  Manager  {'city': 'Dublin', 'tz': 'UTC', 'country': 'IRL'}   2.0   \n",
       "0        CEO  {'city': 'Fort Lauderdale', 'tz': 'EST', 'coun...   7.0   \n",
       "\n",
       "                city   tz country  \n",
       "0             London  UTC     GBR  \n",
       "1             London  UTC     GBR  \n",
       "2             London  UTC     GBR  \n",
       "3             London  UTC     GBR  \n",
       "4             London  UTC     GBR  \n",
       "..               ...  ...     ...  \n",
       "146           Dublin  UTC     IRL  \n",
       "147           Dublin  UTC     IRL  \n",
       "148           Dublin  UTC     IRL  \n",
       "149           Dublin  UTC     IRL  \n",
       "0    Fort Lauderdale  EST     USA  \n",
       "\n",
       "[151 rows x 12 columns]"
      ]
     },
     "execution_count": 246,
     "metadata": {},
     "output_type": "execute_result"
    }
   ],
   "source": [
    "# let's flatten the nested pieces of the DataFrame (`people_df.location`)\n",
    "expanded_df = people_df.assign(**people_df.location.apply(pd.Series))\n",
    "expanded_df"
   ]
  },
  {
   "cell_type": "code",
   "execution_count": 247,
   "metadata": {},
   "outputs": [
    {
     "data": {
      "application/vnd.plotly.v1+json": {
       "config": {
        "plotlyServerURL": "https://plot.ly"
       },
       "data": [
        {
         "alignmentgroup": "True",
         "customdata": [
          [
           "Business",
           "UTC",
           "London",
           "Kathleen Vincent",
           []
          ],
          [
           "Business",
           "UTC",
           "London",
           "Elizabeth Stokes DVM",
           [
            "Go"
           ]
          ],
          [
           "Business",
           "UTC",
           "London",
           "Elizabeth Stokes DVM",
           []
          ],
          [
           "Business",
           "UTC",
           "London",
           "Elizabeth Stokes DVM",
           [
            "Java",
            "Typescript"
           ]
          ],
          [
           "Business",
           "UTC",
           "London",
           "Elizabeth Stokes DVM",
           [
            "Go",
            "Java",
            "JavaScript",
            "Python"
           ]
          ],
          [
           "Business",
           "UTC",
           "London",
           "Kathleen Vincent",
           []
          ],
          [
           "Business",
           "UTC",
           "London",
           "Robert Carroll",
           [
            "Typescript"
           ]
          ],
          [
           "Business",
           "UTC",
           "London",
           "Robert Carroll",
           [
            "Java",
            "Scala",
            "JavaScript",
            "Python"
           ]
          ],
          [
           "Business",
           "UTC",
           "London",
           "Robert Carroll",
           [
            "Java",
            "JavaScript",
            "Python"
           ]
          ],
          [
           "Business",
           "UTC",
           "London",
           "Robert Carroll",
           [
            "Go",
            "Java",
            "JavaScript"
           ]
          ],
          [
           "Business",
           "UTC",
           "London",
           "Kathleen Vincent",
           [
            "Go",
            "Java",
            "Scala",
            "JavaScript"
           ]
          ],
          [
           "Business",
           "UTC",
           "London",
           "Amber Lynch",
           []
          ],
          [
           "Business",
           "UTC",
           "London",
           "Amber Lynch",
           [
            "Scala",
            "Python"
           ]
          ],
          [
           "Business",
           "UTC",
           "London",
           "Gwendolyn Palmer",
           [
            "Go"
           ]
          ],
          [
           "Business",
           "UTC",
           "London",
           "Gwendolyn Palmer",
           [
            "Scala",
            "Python"
           ]
          ],
          [
           "Business",
           "UTC",
           "London",
           "Kathleen Vincent",
           [
            "Java",
            "Typescript",
            "JavaScript"
           ]
          ],
          [
           "Business",
           "UTC",
           "London",
           "Ryan Cox",
           [
            "JavaScript"
           ]
          ],
          [
           "Business",
           "UTC",
           "London",
           "Ryan Cox",
           [
            "JavaScript"
           ]
          ],
          [
           "Business",
           "UTC",
           "London",
           "Ryan Cox",
           [
            "Java",
            "JavaScript"
           ]
          ],
          [
           "Business",
           "UTC",
           "London",
           "Ryan Cox",
           []
          ],
          [
           "Business",
           "UTC",
           "London",
           "Ryan Cox",
           [
            "Go",
            "Scala",
            "JavaScript",
            "Python"
           ]
          ]
         ],
         "hovertemplate": "<b>%{hovertext}</b><br><br>team=%{customdata[0]}<br>country=GBR<br>title=%{x}<br>count=%{y}<br>tz=%{customdata[1]}<br>city=%{customdata[2]}<br>manager=%{customdata[3]}<br>languages=%{customdata[4]}<extra></extra>",
         "hovertext": [
          "Elizabeth Stokes DVM",
          "Emily Smith",
          "David Robinson",
          "Lisa Morrow",
          "Jade Lopez",
          "Robert Carroll",
          "Trevor Hunt",
          "Anthony Martin",
          "Joseph Clark",
          "Kyle Anderson",
          "Amber Lynch",
          "Emma Rivera",
          "Maria Cantu",
          "Melissa Porter MD",
          "Richard Smith",
          "Ryan Cox",
          "Brian Hernandez",
          "Dustin Ramirez",
          "Christian Harrington",
          "Shawna Conley",
          "Alyssa Hill"
         ],
         "legendgroup": "Business",
         "marker": {
          "color": "#636efa",
          "pattern": {
           "shape": ""
          }
         },
         "name": "Business",
         "offsetgroup": "Business",
         "orientation": "v",
         "showlegend": true,
         "textposition": "auto",
         "type": "bar",
         "x": [
          "Analyst",
          "Analyst",
          "Analyst",
          "Analyst",
          "Analyst",
          "Associate",
          "Associate",
          "Associate",
          "Associate",
          "Associate",
          "Vice President",
          "Vice President",
          "Vice President",
          "Director",
          "Director",
          "Managing Director",
          "Managing Director",
          "Managing Director",
          "Managing Director",
          "Managing Director",
          "Managing Director"
         ],
         "xaxis": "x",
         "y": [
          1,
          1,
          1,
          1,
          1,
          1,
          1,
          1,
          1,
          1,
          1,
          1,
          1,
          1,
          1,
          1,
          1,
          1,
          1,
          1,
          1
         ],
         "yaxis": "y"
        },
        {
         "alignmentgroup": "True",
         "customdata": [
          [
           "Business",
           "EST",
           "Toronto",
           "Elizabeth Stokes DVM",
           []
          ],
          [
           "Business",
           "EST",
           "Toronto",
           "Robert Carroll",
           [
            "Python"
           ]
          ],
          [
           "Business",
           "EST",
           "Toronto",
           "Amber Lynch",
           [
            "Python"
           ]
          ],
          [
           "Business",
           "EST",
           "Toronto",
           "Amber Lynch",
           [
            "Java"
           ]
          ],
          [
           "Business",
           "EST",
           "Toronto",
           "Kathleen Vincent",
           [
            "Python"
           ]
          ],
          [
           "Business",
           "EST",
           "Toronto",
           "Gwendolyn Palmer",
           [
            "Java",
            "JavaScript"
           ]
          ],
          [
           "Business",
           "EST",
           "Toronto",
           "Gwendolyn Palmer",
           []
          ]
         ],
         "hovertemplate": "<b>%{hovertext}</b><br><br>team=%{customdata[0]}<br>country=CAN<br>title=%{x}<br>count=%{y}<br>tz=%{customdata[1]}<br>city=%{customdata[2]}<br>manager=%{customdata[3]}<br>languages=%{customdata[4]}<extra></extra>",
         "hovertext": [
          "Dr. David Reynolds DVM",
          "Eduardo Martin DDS",
          "Heather Brown",
          "Kathryn Chambers",
          "Gwendolyn Palmer",
          "Bryan Graham",
          "Paul Johnson"
         ],
         "legendgroup": "Business",
         "marker": {
          "color": "#636efa",
          "pattern": {
           "shape": ""
          }
         },
         "name": "Business",
         "offsetgroup": "Business",
         "orientation": "v",
         "showlegend": false,
         "textposition": "auto",
         "type": "bar",
         "x": [
          "Analyst",
          "Associate",
          "Vice President",
          "Vice President",
          "Director",
          "Director",
          "Director"
         ],
         "xaxis": "x2",
         "y": [
          1,
          1,
          1,
          1,
          1,
          1,
          1
         ],
         "yaxis": "y2"
        },
        {
         "alignmentgroup": "True",
         "customdata": [
          [
           "Business",
           "EST",
           "New York",
           "Elizabeth Stokes DVM",
           [
            "Java",
            "Python"
           ]
          ],
          [
           "Business",
           "EST",
           "New York",
           "Robert Carroll",
           [
            "JavaScript"
           ]
          ],
          [
           "Business",
           "EST",
           "New York",
           "Amber Lynch",
           [
            "Python"
           ]
          ],
          [
           "Business",
           "EST",
           "New York",
           "Gwendolyn Palmer",
           [
            "Go",
            "Java",
            "Python"
           ]
          ],
          [
           "Business",
           "EST",
           "New York",
           "Gwendolyn Palmer",
           [
            "Java",
            "Typescript"
           ]
          ],
          [
           "Business",
           "EST",
           "New York",
           "Gwendolyn Palmer",
           [
            "Java",
            "Scala",
            "Python"
           ]
          ],
          [
           "Business",
           "EST",
           "New York",
           "Ryan Cox",
           [
            "Typescript"
           ]
          ],
          [
           "Business",
           "EST",
           "New York",
           "Ryan Cox",
           [
            "JavaScript"
           ]
          ]
         ],
         "hovertemplate": "<b>%{hovertext}</b><br><br>team=%{customdata[0]}<br>country=USA<br>title=%{x}<br>count=%{y}<br>tz=%{customdata[1]}<br>city=%{customdata[2]}<br>manager=%{customdata[3]}<br>languages=%{customdata[4]}<extra></extra>",
         "hovertext": [
          "Rodney Moore",
          "Heather Clark",
          "Tyler Leblanc",
          "Seth Wilson",
          "Elizabeth Malone",
          "Tanya Chan",
          "Natalie Chapman",
          "Melissa Morales"
         ],
         "legendgroup": "Business",
         "marker": {
          "color": "#636efa",
          "pattern": {
           "shape": ""
          }
         },
         "name": "Business",
         "offsetgroup": "Business",
         "orientation": "v",
         "showlegend": false,
         "textposition": "auto",
         "type": "bar",
         "x": [
          "Analyst",
          "Associate",
          "Vice President",
          "Director",
          "Director",
          "Director",
          "Managing Director",
          "Managing Director"
         ],
         "xaxis": "x3",
         "y": [
          1,
          1,
          1,
          1,
          1,
          1,
          1,
          1
         ],
         "yaxis": "y3"
        },
        {
         "alignmentgroup": "True",
         "customdata": [
          [
           "DevOps",
           "UTC",
           "Dublin",
           "Kathleen Vincent",
           [
            "Java"
           ]
          ],
          [
           "DevOps",
           "UTC",
           "Dublin",
           "Michael Wilcox",
           []
          ],
          [
           "DevOps",
           "UTC",
           "Dublin",
           "Kathleen Vincent",
           [
            "Python"
           ]
          ],
          [
           "DevOps",
           "UTC",
           "Dublin",
           "James Smith",
           []
          ],
          [
           "DevOps",
           "UTC",
           "Dublin",
           "James Smith",
           [
            "Java"
           ]
          ],
          [
           "DevOps",
           "UTC",
           "Dublin",
           "James Smith",
           [
            "JavaScript",
            "Typescript",
            "Python"
           ]
          ],
          [
           "DevOps",
           "UTC",
           "Dublin",
           "Kathleen Vincent",
           []
          ],
          [
           "DevOps",
           "UTC",
           "Dublin",
           "Kathleen Vincent",
           [
            "Java"
           ]
          ],
          [
           "DevOps",
           "UTC",
           "Dublin",
           "Kevin Leonard",
           [
            "Java"
           ]
          ],
          [
           "DevOps",
           "UTC",
           "Dublin",
           "Kevin Leonard",
           [
            "Java"
           ]
          ],
          [
           "DevOps",
           "UTC",
           "Dublin",
           "Kevin Leonard",
           [
            "JavaScript",
            "Java",
            "Typescript"
           ]
          ],
          [
           "DevOps",
           "UTC",
           "Dublin",
           "Kevin Leonard",
           []
          ],
          [
           "DevOps",
           "UTC",
           "Dublin",
           "Kevin Leonard",
           [
            "JavaScript",
            "Java",
            "Typescript",
            "Python"
           ]
          ]
         ],
         "hovertemplate": "<b>%{hovertext}</b><br><br>team=%{customdata[0]}<br>country=IRL<br>title=%{x}<br>count=%{y}<br>tz=%{customdata[1]}<br>city=%{customdata[2]}<br>manager=%{customdata[3]}<br>languages=%{customdata[4]}<extra></extra>",
         "hovertext": [
          "Michael Wilcox",
          "Krista Morton",
          "James Smith",
          "Grant Mendez",
          "Brian Hawkins",
          "Bridget Baker",
          "Krystal Brown",
          "Kevin Leonard",
          "Jonathan Burke",
          "Brandon Griffin",
          "Caleb Tanner",
          "Joseph Miller",
          "James Griffin"
         ],
         "legendgroup": "DevOps",
         "marker": {
          "color": "#EF553B",
          "pattern": {
           "shape": ""
          }
         },
         "name": "DevOps",
         "offsetgroup": "DevOps",
         "orientation": "v",
         "showlegend": true,
         "textposition": "auto",
         "type": "bar",
         "x": [
          "Engineer",
          "Engineer",
          "Senior Engineer",
          "Senior Engineer",
          "Senior Engineer",
          "Senior Engineer",
          "Manager",
          "Senior Manager",
          "Senior Manager",
          "Senior Manager",
          "Senior Manager",
          "Senior Manager",
          "Senior Manager"
         ],
         "xaxis": "x4",
         "y": [
          1,
          1,
          1,
          1,
          1,
          1,
          1,
          1,
          1,
          1,
          1,
          1,
          1
         ],
         "yaxis": "y4"
        },
        {
         "alignmentgroup": "True",
         "customdata": [
          [
           "DevX",
           "EST",
           "Fort Lauderdale",
           "Kathleen Vincent",
           [
            "JavaScript"
           ]
          ],
          [
           "DevX",
           "EST",
           "Fort Lauderdale",
           "Danielle Campbell",
           [
            "JavaScript"
           ]
          ],
          [
           "DevX",
           "EST",
           "Fort Lauderdale",
           "Danielle Campbell",
           [
            "Typescript"
           ]
          ],
          [
           "DevX",
           "EST",
           "Fort Lauderdale",
           "Danielle Campbell",
           [
            "JavaScript",
            "Java",
            "Typescript"
           ]
          ],
          [
           "DevX",
           "EST",
           "Fort Lauderdale",
           "Danielle Campbell",
           []
          ],
          [
           "DevX",
           "EST",
           "Fort Lauderdale",
           "Danielle Campbell",
           [
            "Python"
           ]
          ],
          [
           "DevX",
           "EST",
           "Fort Lauderdale",
           "Danielle Campbell",
           [
            "Python"
           ]
          ],
          [
           "DevX",
           "EST",
           "Fort Lauderdale",
           "Danielle Campbell",
           [
            "Java",
            "Typescript"
           ]
          ],
          [
           "DevX",
           "EST",
           "Fort Lauderdale",
           "Danielle Campbell",
           [
            "Typescript",
            "JavaScript"
           ]
          ],
          [
           "DevX",
           "EST",
           "Fort Lauderdale",
           "Danielle Campbell",
           []
          ],
          [
           "DevX",
           "EST",
           "Fort Lauderdale",
           "Danielle Campbell",
           [
            "JavaScript",
            "Java",
            "Typescript"
           ]
          ],
          [
           "DevX",
           "EST",
           "Fort Lauderdale",
           "Danielle Campbell",
           [
            "Java",
            "JavaScript"
           ]
          ],
          [
           "DevX",
           "EST",
           "Fort Lauderdale",
           "Danielle Campbell",
           [
            "Python"
           ]
          ],
          [
           "DevX",
           "EST",
           "Fort Lauderdale",
           "Danielle Campbell",
           [
            "Erlang",
            "Java",
            "JavaScript"
           ]
          ],
          [
           "DevX",
           "EST",
           "Fort Lauderdale",
           "Danielle Campbell",
           [
            "Java",
            "Typescript"
           ]
          ],
          [
           "DevX",
           "EST",
           "Fort Lauderdale",
           "Danielle Campbell",
           [
            "Scala",
            "Python"
           ]
          ],
          [
           "DevX",
           "EST",
           "Fort Lauderdale",
           "Danielle Campbell",
           [
            "Scala",
            "JavaScript"
           ]
          ],
          [
           "DevX",
           "EST",
           "Fort Lauderdale",
           "Danielle Campbell",
           []
          ],
          [
           "DevX",
           "EST",
           "Fort Lauderdale",
           "Kathleen Vincent",
           [
            "Java",
            "JavaScript"
           ]
          ],
          [
           "DevX",
           "EST",
           "Fort Lauderdale",
           "Melanie Wright",
           [
            "Go",
            "JavaScript",
            "Python"
           ]
          ],
          [
           "DevX",
           "EST",
           "Fort Lauderdale",
           "Melanie Wright",
           [
            "Java"
           ]
          ]
         ],
         "hovertemplate": "<b>%{hovertext}</b><br><br>team=%{customdata[0]}<br>country=USA<br>title=%{x}<br>count=%{y}<br>tz=%{customdata[1]}<br>city=%{customdata[2]}<br>manager=%{customdata[3]}<br>languages=%{customdata[4]}<extra></extra>",
         "hovertext": [
          "Danielle Campbell",
          "John Jones",
          "Russell Price",
          "Brian Harding",
          "Stacy Miranda",
          "Lisa Nguyen",
          "Jessica Cervantes",
          "Miranda Thomas",
          "Lisa Wallace",
          "Brenda Petersen",
          "Timothy Ho",
          "Sally Paul",
          "Aaron Mcdonald",
          "Catherine Davis",
          "Christopher Mcdaniel",
          "Robert Black",
          "Anne Brown",
          "Laura Brown",
          "Melanie Wright",
          "Grace Holt",
          "Bobby Long"
         ],
         "legendgroup": "DevX",
         "marker": {
          "color": "#00cc96",
          "pattern": {
           "shape": ""
          }
         },
         "name": "DevX",
         "offsetgroup": "DevX",
         "orientation": "v",
         "showlegend": true,
         "textposition": "auto",
         "type": "bar",
         "x": [
          "Engineer",
          "Engineer",
          "Engineer",
          "Engineer",
          "Engineer",
          "Engineer",
          "Engineer",
          "Engineer",
          "Engineer",
          "Engineer",
          "Engineer",
          "Engineer",
          "Engineer",
          "Engineer",
          "Engineer",
          "Engineer",
          "Engineer",
          "Engineer",
          "AVP",
          "AVP",
          "AVP"
         ],
         "xaxis": "x3",
         "y": [
          1,
          1,
          1,
          1,
          1,
          1,
          1,
          1,
          1,
          1,
          1,
          1,
          1,
          1,
          1,
          1,
          1,
          1,
          1,
          1,
          1
         ],
         "yaxis": "y3"
        },
        {
         "alignmentgroup": "True",
         "customdata": [
          [
           "Internal Tools",
           "EST",
           "Toronto",
           "Kathleen Vincent",
           []
          ]
         ],
         "hovertemplate": "<b>%{hovertext}</b><br><br>team=%{customdata[0]}<br>country=CAN<br>title=%{x}<br>count=%{y}<br>tz=%{customdata[1]}<br>city=%{customdata[2]}<br>manager=%{customdata[3]}<br>languages=%{customdata[4]}<extra></extra>",
         "hovertext": [
          "Adam Curtis"
         ],
         "legendgroup": "Internal Tools",
         "marker": {
          "color": "#ab63fa",
          "pattern": {
           "shape": ""
          }
         },
         "name": "Internal Tools",
         "offsetgroup": "Internal Tools",
         "orientation": "v",
         "showlegend": true,
         "textposition": "auto",
         "type": "bar",
         "x": [
          "Manager"
         ],
         "xaxis": "x2",
         "y": [
          1
         ],
         "yaxis": "y2"
        },
        {
         "alignmentgroup": "True",
         "customdata": [
          [
           "Internal Tools",
           "PST",
           "Seattle",
           "Kathleen Vincent",
           [
            "Typescript"
           ]
          ],
          [
           "Internal Tools",
           "PST",
           "Seattle",
           "Deborah Valencia",
           [
            "Java",
            "Python"
           ]
          ],
          [
           "Internal Tools",
           "PST",
           "Seattle",
           "Kathleen Vincent",
           []
          ],
          [
           "Internal Tools",
           "PST",
           "Seattle",
           "Mr. Daniel Fisher",
           [
            "Java",
            "Typescript",
            "JavaScript",
            "Python"
           ]
          ],
          [
           "Internal Tools",
           "PST",
           "Seattle",
           "Mr. Daniel Fisher",
           []
          ],
          [
           "Internal Tools",
           "PST",
           "Seattle",
           "Mr. Daniel Fisher",
           [
            "Java"
           ]
          ],
          [
           "Internal Tools",
           "PST",
           "Seattle",
           "Adam Curtis",
           [
            "JavaScript"
           ]
          ],
          [
           "Internal Tools",
           "PST",
           "Seattle",
           "Kathleen Vincent",
           [
            "JavaScript",
            "Java",
            "Typescript",
            "Python"
           ]
          ]
         ],
         "hovertemplate": "<b>%{hovertext}</b><br><br>team=%{customdata[0]}<br>country=USA<br>title=%{x}<br>count=%{y}<br>tz=%{customdata[1]}<br>city=%{customdata[2]}<br>manager=%{customdata[3]}<br>languages=%{customdata[4]}<extra></extra>",
         "hovertext": [
          "Deborah Valencia",
          "Monique Fernandez",
          "Mr. Daniel Fisher",
          "Valerie Thornton",
          "Stacie Patterson",
          "Kathleen Martinez",
          "Michelle Patterson",
          "Robert Acevedo"
         ],
         "legendgroup": "Internal Tools",
         "marker": {
          "color": "#ab63fa",
          "pattern": {
           "shape": ""
          }
         },
         "name": "Internal Tools",
         "offsetgroup": "Internal Tools",
         "orientation": "v",
         "showlegend": false,
         "textposition": "auto",
         "type": "bar",
         "x": [
          "Engineer",
          "Engineer",
          "Senior Engineer",
          "Senior Engineer",
          "Senior Engineer",
          "Senior Engineer",
          "Manager",
          "AVP"
         ],
         "xaxis": "x3",
         "y": [
          1,
          1,
          1,
          1,
          1,
          1,
          1,
          1
         ],
         "yaxis": "y3"
        },
        {
         "alignmentgroup": "True",
         "customdata": [
          [
           "Platform",
           "EST",
           "Toronto",
           "Julie Ballard",
           [
            "Java",
            "Python"
           ]
          ],
          [
           "Platform",
           "EST",
           "Toronto",
           "Ana White",
           [
            "JavaScript",
            "Java",
            "Typescript"
           ]
          ],
          [
           "Platform",
           "EST",
           "Toronto",
           "Omar Hale",
           [
            "Java",
            "JavaScript"
           ]
          ],
          [
           "Platform",
           "EST",
           "Toronto",
           "Omar Hale",
           [
            "Java"
           ]
          ],
          [
           "Platform",
           "EST",
           "Toronto",
           "Omar Hale",
           []
          ]
         ],
         "hovertemplate": "<b>%{hovertext}</b><br><br>team=%{customdata[0]}<br>country=CAN<br>title=%{x}<br>count=%{y}<br>tz=%{customdata[1]}<br>city=%{customdata[2]}<br>manager=%{customdata[3]}<br>languages=%{customdata[4]}<extra></extra>",
         "hovertext": [
          "Joseph Nguyen",
          "Holly Garrison",
          "Jacob Rasmussen",
          "Michael Harris",
          "Kristen Yates"
         ],
         "legendgroup": "Platform",
         "marker": {
          "color": "#FFA15A",
          "pattern": {
           "shape": ""
          }
         },
         "name": "Platform",
         "offsetgroup": "Platform",
         "orientation": "v",
         "showlegend": true,
         "textposition": "auto",
         "type": "bar",
         "x": [
          "Engineer",
          "AVP",
          "VP",
          "VP",
          "VP"
         ],
         "xaxis": "x2",
         "y": [
          1,
          1,
          1,
          1,
          1
         ],
         "yaxis": "y2"
        },
        {
         "alignmentgroup": "True",
         "customdata": [
          [
           "Platform",
           "PST",
           "Seattle",
           "Kathleen Vincent",
           [
            "Java",
            "JavaScript",
            "Python"
           ]
          ],
          [
           "Platform",
           "PST",
           "Seattle",
           "Julie Ballard",
           []
          ],
          [
           "Platform",
           "PST",
           "Seattle",
           "Julie Ballard",
           [
            "Java",
            "Elixir",
            "Python"
           ]
          ],
          [
           "Platform",
           "PST",
           "Seattle",
           "Kathleen Vincent",
           [
            "Java"
           ]
          ],
          [
           "Platform",
           "PST",
           "Seattle",
           "Jorge Perez",
           [
            "Java",
            "Typescript",
            "Python"
           ]
          ],
          [
           "Platform",
           "PST",
           "Seattle",
           "Kathleen Vincent",
           [
            "Java"
           ]
          ],
          [
           "Platform",
           "PST",
           "Seattle",
           "Ana White",
           [
            "Java",
            "Typescript",
            "JavaScript"
           ]
          ],
          [
           "Platform",
           "PST",
           "Seattle",
           "Ana White",
           [
            "JavaScript",
            "Typescript",
            "Python"
           ]
          ],
          [
           "Platform",
           "PST",
           "Seattle",
           "Kathleen Vincent",
           [
            "JavaScript"
           ]
          ],
          [
           "Platform",
           "PST",
           "Seattle",
           "Omar Hale",
           [
            "JavaScript"
           ]
          ]
         ],
         "hovertemplate": "<b>%{hovertext}</b><br><br>team=%{customdata[0]}<br>country=USA<br>title=%{x}<br>count=%{y}<br>tz=%{customdata[1]}<br>city=%{customdata[2]}<br>manager=%{customdata[3]}<br>languages=%{customdata[4]}<extra></extra>",
         "hovertext": [
          "Julie Ballard",
          "Brian Bryant",
          "Thomas Odonnell",
          "Jorge Perez",
          "David Taylor DDS",
          "Ana White",
          "Stacy Brown",
          "Patty Glover",
          "Omar Hale",
          "Mary Torres DDS"
         ],
         "legendgroup": "Platform",
         "marker": {
          "color": "#FFA15A",
          "pattern": {
           "shape": ""
          }
         },
         "name": "Platform",
         "offsetgroup": "Platform",
         "orientation": "v",
         "showlegend": false,
         "textposition": "auto",
         "type": "bar",
         "x": [
          "Engineer",
          "Engineer",
          "Engineer",
          "Managing Engineer",
          "Managing Engineer",
          "AVP",
          "AVP",
          "AVP",
          "VP",
          "VP"
         ],
         "xaxis": "x3",
         "y": [
          1,
          1,
          1,
          1,
          1,
          1,
          1,
          1,
          1,
          1
         ],
         "yaxis": "y3"
        },
        {
         "alignmentgroup": "True",
         "customdata": [
          [
           "Product",
           "EST",
           "Toronto",
           "Michael Osborn",
           [
            "Java",
            "Scala"
           ]
          ],
          [
           "Product",
           "EST",
           "Toronto",
           "Kathleen Vincent",
           [
            "Java",
            "JavaScript",
            "Python"
           ]
          ]
         ],
         "hovertemplate": "<b>%{hovertext}</b><br><br>team=%{customdata[0]}<br>country=CAN<br>title=%{x}<br>count=%{y}<br>tz=%{customdata[1]}<br>city=%{customdata[2]}<br>manager=%{customdata[3]}<br>languages=%{customdata[4]}<extra></extra>",
         "hovertext": [
          "Samantha Hopkins DVM",
          "Julia Lam MD"
         ],
         "legendgroup": "Product",
         "marker": {
          "color": "#19d3f3",
          "pattern": {
           "shape": ""
          }
         },
         "name": "Product",
         "offsetgroup": "Product",
         "orientation": "v",
         "showlegend": true,
         "textposition": "auto",
         "type": "bar",
         "x": [
          "Product Owner",
          "VP"
         ],
         "xaxis": "x2",
         "y": [
          1,
          1
         ],
         "yaxis": "y2"
        },
        {
         "alignmentgroup": "True",
         "customdata": [
          [
           "Product",
           "EST",
           "New York",
           "Kathleen Vincent",
           [
            "Java",
            "Scala",
            "Python"
           ]
          ],
          [
           "Product",
           "PST",
           "Seattle",
           "Donna Martin",
           [
            "Java",
            "JavaScript",
            "Python"
           ]
          ],
          [
           "Product",
           "EST",
           "New York",
           "Donna Martin",
           [
            "Typescript",
            "JavaScript"
           ]
          ],
          [
           "Product",
           "PST",
           "Seattle",
           "Donna Martin",
           [
            "Java",
            "JavaScript",
            "Python"
           ]
          ],
          [
           "Product",
           "PST",
           "Seattle",
           "Donna Martin",
           [
            "Scala"
           ]
          ],
          [
           "Product",
           "EST",
           "New York",
           "Kathleen Vincent",
           [
            "Java",
            "Scala"
           ]
          ],
          [
           "Product",
           "EST",
           "New York",
           "Frank Parker",
           [
            "Typescript",
            "Python"
           ]
          ],
          [
           "Product",
           "EST",
           "New York",
           "Frank Parker",
           [
            "Go",
            "Typescript"
           ]
          ],
          [
           "Product",
           "PST",
           "Seattle",
           "Frank Parker",
           []
          ],
          [
           "Product",
           "PST",
           "Seattle",
           "Frank Parker",
           [
            "Typescript",
            "Python"
           ]
          ],
          [
           "Product",
           "PST",
           "Seattle",
           "Kathleen Vincent",
           [
            "Java"
           ]
          ],
          [
           "Product",
           "PST",
           "Seattle",
           "Michael Osborn",
           [
            "Python"
           ]
          ],
          [
           "Product",
           "EST",
           "New York",
           "Kathleen Vincent",
           [
            "Java",
            "Scala"
           ]
          ],
          [
           "Product",
           "PST",
           "Seattle",
           "Jasmine Douglas",
           [
            "JavaScript",
            "Java",
            "Typescript"
           ]
          ],
          [
           "Product",
           "PST",
           "Seattle",
           "Julia Lam MD",
           [
            "Typescript",
            "Python"
           ]
          ]
         ],
         "hovertemplate": "<b>%{hovertext}</b><br><br>team=%{customdata[0]}<br>country=USA<br>title=%{x}<br>count=%{y}<br>tz=%{customdata[1]}<br>city=%{customdata[2]}<br>manager=%{customdata[3]}<br>languages=%{customdata[4]}<extra></extra>",
         "hovertext": [
          "Donna Martin",
          "Michelle Wright",
          "Mary Ramos",
          "Robert Mitchell",
          "Crystal Rose",
          "Frank Parker",
          "James Turner",
          "Emily Ford",
          "Andrew Arnold",
          "Christopher Green",
          "Michael Osborn",
          "Christina Richards",
          "Jasmine Douglas",
          "Elizabeth Salazar",
          "Megan Johnson MD"
         ],
         "legendgroup": "Product",
         "marker": {
          "color": "#19d3f3",
          "pattern": {
           "shape": ""
          }
         },
         "name": "Product",
         "offsetgroup": "Product",
         "orientation": "v",
         "showlegend": false,
         "textposition": "auto",
         "type": "bar",
         "x": [
          "Engineer",
          "Engineer",
          "Engineer",
          "Engineer",
          "Engineer",
          "Manager",
          "Manager",
          "Manager",
          "Manager",
          "Manager",
          "Product Owner",
          "Product Owner",
          "AVP",
          "AVP",
          "VP"
         ],
         "xaxis": "x3",
         "y": [
          1,
          1,
          1,
          1,
          1,
          1,
          1,
          1,
          1,
          1,
          1,
          1,
          1,
          1,
          1
         ],
         "yaxis": "y3"
        },
        {
         "alignmentgroup": "True",
         "customdata": [
          [
           "Sales",
           "UTC",
           "London",
           "Daniel Farley",
           [
            "Typescript",
            "JavaScript",
            "Python"
           ]
          ],
          [
           "Sales",
           "UTC",
           "London",
           "Daniel Farley",
           [
            "Java",
            "Scala"
           ]
          ],
          [
           "Sales",
           "UTC",
           "London",
           "Daniel Farley",
           [
            "Java"
           ]
          ],
          [
           "Sales",
           "UTC",
           "London",
           "Daniel Farley",
           [
            "Go",
            "Java",
            "JavaScript"
           ]
          ],
          [
           "Sales",
           "UTC",
           "London",
           "Daniel Farley",
           []
          ],
          [
           "Sales",
           "UTC",
           "London",
           "Daniel Farley",
           [
            "Java",
            "Scala",
            "Python"
           ]
          ],
          [
           "Sales",
           "UTC",
           "London",
           "Daniel Farley",
           []
          ],
          [
           "Sales",
           "UTC",
           "London",
           "Daniel Farley",
           []
          ],
          [
           "Sales",
           "UTC",
           "London",
           "Daniel Farley",
           []
          ],
          [
           "Sales",
           "UTC",
           "London",
           "Jacob Carr",
           [
            "JavaScript",
            "Python"
           ]
          ],
          [
           "Sales",
           "UTC",
           "London",
           "Jacob Carr",
           [
            "Go",
            "Java",
            "JavaScript",
            "Python"
           ]
          ]
         ],
         "hovertemplate": "<b>%{hovertext}</b><br><br>team=%{customdata[0]}<br>country=GBR<br>title=%{x}<br>count=%{y}<br>tz=%{customdata[1]}<br>city=%{customdata[2]}<br>manager=%{customdata[3]}<br>languages=%{customdata[4]}<extra></extra>",
         "hovertext": [
          "Melissa Myers",
          "Mary Guerrero",
          "Michelle Flores",
          "Sheila Anthony",
          "Tracy Maxwell",
          "Kevin Reynolds",
          "Claudia Eaton",
          "Mrs. Carly Morrow",
          "Bryan Larson",
          "Robert Smith",
          "Deborah Whitaker"
         ],
         "legendgroup": "Sales",
         "marker": {
          "color": "#FF6692",
          "pattern": {
           "shape": ""
          }
         },
         "name": "Sales",
         "offsetgroup": "Sales",
         "orientation": "v",
         "showlegend": true,
         "textposition": "auto",
         "type": "bar",
         "x": [
          "Associate",
          "Associate",
          "Associate",
          "Associate",
          "Associate",
          "Associate",
          "Associate",
          "Associate",
          "Associate",
          "VP",
          "VP"
         ],
         "xaxis": "x",
         "y": [
          1,
          1,
          1,
          1,
          1,
          1,
          1,
          1,
          1,
          1,
          1
         ],
         "yaxis": "y"
        },
        {
         "alignmentgroup": "True",
         "customdata": [
          [
           "Sales",
           "EST",
           "Toronto",
           "Kathleen Vincent",
           [
            "Go",
            "Scala",
            "JavaScript"
           ]
          ],
          [
           "Sales",
           "EST",
           "Toronto",
           "Daniel Farley",
           [
            "Java",
            "JavaScript"
           ]
          ],
          [
           "Sales",
           "EST",
           "Toronto",
           "Jacob Carr",
           [
            "Java",
            "Python"
           ]
          ]
         ],
         "hovertemplate": "<b>%{hovertext}</b><br><br>team=%{customdata[0]}<br>country=CAN<br>title=%{x}<br>count=%{y}<br>tz=%{customdata[1]}<br>city=%{customdata[2]}<br>manager=%{customdata[3]}<br>languages=%{customdata[4]}<extra></extra>",
         "hovertext": [
          "Daniel Farley",
          "William Sanchez",
          "Joseph Williams"
         ],
         "legendgroup": "Sales",
         "marker": {
          "color": "#FF6692",
          "pattern": {
           "shape": ""
          }
         },
         "name": "Sales",
         "offsetgroup": "Sales",
         "orientation": "v",
         "showlegend": false,
         "textposition": "auto",
         "type": "bar",
         "x": [
          "Associate",
          "Associate",
          "VP"
         ],
         "xaxis": "x2",
         "y": [
          1,
          1,
          1
         ],
         "yaxis": "y2"
        },
        {
         "alignmentgroup": "True",
         "customdata": [
          [
           "Sales",
           "EST",
           "New York",
           "Daniel Farley",
           [
            "JavaScript"
           ]
          ],
          [
           "Sales",
           "EST",
           "New York",
           "Daniel Farley",
           [
            "Java",
            "JavaScript"
           ]
          ],
          [
           "Sales",
           "EST",
           "New York",
           "Kathleen Vincent",
           []
          ],
          [
           "Sales",
           "EST",
           "New York",
           "Jacob Carr",
           [
            "Go",
            "Java",
            "Scala"
           ]
          ],
          [
           "Sales",
           "EST",
           "New York",
           "Jacob Carr",
           [
            "Go",
            "Java",
            "Typescript",
            "JavaScript"
           ]
          ],
          [
           "Sales",
           "EST",
           "New York",
           "Jacob Carr",
           [
            "Typescript",
            "Scala",
            "JavaScript",
            "Python"
           ]
          ],
          [
           "Sales",
           "EST",
           "New York",
           "Jacob Carr",
           []
          ],
          [
           "Sales",
           "EST",
           "New York",
           "Jacob Carr",
           [
            "Java",
            "JavaScript",
            "Python"
           ]
          ],
          [
           "Sales",
           "EST",
           "New York",
           "Jacob Carr",
           [
            "Java",
            "JavaScript",
            "Python"
           ]
          ]
         ],
         "hovertemplate": "<b>%{hovertext}</b><br><br>team=%{customdata[0]}<br>country=USA<br>title=%{x}<br>count=%{y}<br>tz=%{customdata[1]}<br>city=%{customdata[2]}<br>manager=%{customdata[3]}<br>languages=%{customdata[4]}<extra></extra>",
         "hovertext": [
          "Dustin Taylor",
          "Mrs. Katherine Hunter",
          "Jacob Carr",
          "Tracy Stevens",
          "Brandon Ruiz",
          "Casey Thomas",
          "Alyssa Guerrero MD",
          "Jacqueline Wagner",
          "Michael Fuller III"
         ],
         "legendgroup": "Sales",
         "marker": {
          "color": "#FF6692",
          "pattern": {
           "shape": ""
          }
         },
         "name": "Sales",
         "offsetgroup": "Sales",
         "orientation": "v",
         "showlegend": false,
         "textposition": "auto",
         "type": "bar",
         "x": [
          "Associate",
          "Associate",
          "VP",
          "VP",
          "VP",
          "VP",
          "VP",
          "VP",
          "VP"
         ],
         "xaxis": "x3",
         "y": [
          1,
          1,
          1,
          1,
          1,
          1,
          1,
          1,
          1
         ],
         "yaxis": "y3"
        },
        {
         "alignmentgroup": "True",
         "customdata": [
          [
           "Support",
           "UTC",
           "Dublin",
           "Kathleen Vincent",
           [
            "Java",
            "Typescript"
           ]
          ],
          [
           "Support",
           "UTC",
           "Dublin",
           "Deanna Anderson",
           [
            "Typescript"
           ]
          ],
          [
           "Support",
           "UTC",
           "Dublin",
           "Deanna Anderson",
           [
            "JavaScript",
            "Java",
            "Typescript",
            "Python"
           ]
          ],
          [
           "Support",
           "UTC",
           "Dublin",
           "Deanna Anderson",
           [
            "Java",
            "JavaScript"
           ]
          ],
          [
           "Support",
           "UTC",
           "Dublin",
           "Deanna Anderson",
           []
          ],
          [
           "Support",
           "UTC",
           "Dublin",
           "Deanna Anderson",
           [
            "Java",
            "Scala",
            "JavaScript"
           ]
          ],
          [
           "Support",
           "UTC",
           "Dublin",
           "Deanna Anderson",
           []
          ],
          [
           "Support",
           "UTC",
           "Dublin",
           "Deanna Anderson",
           []
          ],
          [
           "Support",
           "UTC",
           "Dublin",
           "Kathleen Vincent",
           [
            "Go",
            "Java",
            "JavaScript",
            "Python"
           ]
          ],
          [
           "Support",
           "UTC",
           "Dublin",
           "Kimberly Murphy",
           [
            "JavaScript"
           ]
          ],
          [
           "Support",
           "UTC",
           "Dublin",
           "Kimberly Murphy",
           [
            "Python"
           ]
          ],
          [
           "Support",
           "UTC",
           "Dublin",
           "Kimberly Murphy",
           []
          ],
          [
           "Support",
           "UTC",
           "Dublin",
           "Kimberly Murphy",
           [
            "JavaScript",
            "Typescript"
           ]
          ],
          [
           "Support",
           "UTC",
           "Dublin",
           "Kimberly Murphy",
           []
          ],
          [
           "Support",
           "UTC",
           "Dublin",
           "Kimberly Murphy",
           [
            "JavaScript"
           ]
          ],
          [
           "Support",
           "UTC",
           "Dublin",
           "Kimberly Murphy",
           [
            "Java",
            "JavaScript",
            "Python"
           ]
          ]
         ],
         "hovertemplate": "<b>%{hovertext}</b><br><br>team=%{customdata[0]}<br>country=IRL<br>title=%{x}<br>count=%{y}<br>tz=%{customdata[1]}<br>city=%{customdata[2]}<br>manager=%{customdata[3]}<br>languages=%{customdata[4]}<extra></extra>",
         "hovertext": [
          "Deanna Anderson",
          "Nicholas Kirk",
          "Geoffrey Henderson",
          "Evan Campbell",
          "Amy Powell",
          "Andre Nguyen",
          "Natalie Williams",
          "Joy Ortega",
          "Kimberly Murphy",
          "Betty Braun",
          "Darlene Grant",
          "Jennifer Lawrence",
          "Daniel Cox",
          "Shelly Costa",
          "Jennifer Black",
          "Brandon Franco"
         ],
         "legendgroup": "Support",
         "marker": {
          "color": "#B6E880",
          "pattern": {
           "shape": ""
          }
         },
         "name": "Support",
         "offsetgroup": "Support",
         "orientation": "v",
         "showlegend": true,
         "textposition": "auto",
         "type": "bar",
         "x": [
          "Analyst",
          "Analyst",
          "Analyst",
          "Analyst",
          "Analyst",
          "Analyst",
          "Analyst",
          "Analyst",
          "Manager",
          "Manager",
          "Manager",
          "Manager",
          "Manager",
          "Manager",
          "Manager",
          "Manager"
         ],
         "xaxis": "x4",
         "y": [
          1,
          1,
          1,
          1,
          1,
          1,
          1,
          1,
          1,
          1,
          1,
          1,
          1,
          1,
          1,
          1
         ],
         "yaxis": "y4"
        },
        {
         "alignmentgroup": "True",
         "customdata": [
          [
           "CEO",
           "EST",
           "Fort Lauderdale",
           "Kathleen Vincent",
           [
            "Java",
            "Typescript",
            "JavaScript",
            "Python"
           ]
          ]
         ],
         "hovertemplate": "<b>%{hovertext}</b><br><br>team=%{customdata[0]}<br>country=USA<br>title=%{x}<br>count=%{y}<br>tz=%{customdata[1]}<br>city=%{customdata[2]}<br>manager=%{customdata[3]}<br>languages=%{customdata[4]}<extra></extra>",
         "hovertext": [
          "Kathleen Vincent"
         ],
         "legendgroup": "CEO",
         "marker": {
          "color": "#FF97FF",
          "pattern": {
           "shape": ""
          }
         },
         "name": "CEO",
         "offsetgroup": "CEO",
         "orientation": "v",
         "showlegend": true,
         "textposition": "auto",
         "type": "bar",
         "x": [
          "CEO"
         ],
         "xaxis": "x3",
         "y": [
          1
         ],
         "yaxis": "y3"
        }
       ],
       "layout": {
        "annotations": [
         {
          "font": {},
          "showarrow": false,
          "text": "country=GBR",
          "x": 0.1175,
          "xanchor": "center",
          "xref": "paper",
          "y": 1,
          "yanchor": "bottom",
          "yref": "paper"
         },
         {
          "font": {},
          "showarrow": false,
          "text": "country=CAN",
          "x": 0.3725,
          "xanchor": "center",
          "xref": "paper",
          "y": 1,
          "yanchor": "bottom",
          "yref": "paper"
         },
         {
          "font": {},
          "showarrow": false,
          "text": "country=USA",
          "x": 0.6275,
          "xanchor": "center",
          "xref": "paper",
          "y": 1,
          "yanchor": "bottom",
          "yref": "paper"
         },
         {
          "font": {},
          "showarrow": false,
          "text": "country=IRL",
          "x": 0.8824999999999998,
          "xanchor": "center",
          "xref": "paper",
          "y": 1,
          "yanchor": "bottom",
          "yref": "paper"
         }
        ],
        "barmode": "relative",
        "legend": {
         "title": {
          "text": "team"
         },
         "tracegroupgap": 0
        },
        "margin": {
         "t": 60
        },
        "template": {
         "data": {
          "bar": [
           {
            "error_x": {
             "color": "#f2f5fa"
            },
            "error_y": {
             "color": "#f2f5fa"
            },
            "marker": {
             "line": {
              "color": "rgb(17,17,17)",
              "width": 0.5
             },
             "pattern": {
              "fillmode": "overlay",
              "size": 10,
              "solidity": 0.2
             }
            },
            "type": "bar"
           }
          ],
          "barpolar": [
           {
            "marker": {
             "line": {
              "color": "rgb(17,17,17)",
              "width": 0.5
             },
             "pattern": {
              "fillmode": "overlay",
              "size": 10,
              "solidity": 0.2
             }
            },
            "type": "barpolar"
           }
          ],
          "carpet": [
           {
            "aaxis": {
             "endlinecolor": "#A2B1C6",
             "gridcolor": "#506784",
             "linecolor": "#506784",
             "minorgridcolor": "#506784",
             "startlinecolor": "#A2B1C6"
            },
            "baxis": {
             "endlinecolor": "#A2B1C6",
             "gridcolor": "#506784",
             "linecolor": "#506784",
             "minorgridcolor": "#506784",
             "startlinecolor": "#A2B1C6"
            },
            "type": "carpet"
           }
          ],
          "choropleth": [
           {
            "colorbar": {
             "outlinewidth": 0,
             "ticks": ""
            },
            "type": "choropleth"
           }
          ],
          "contour": [
           {
            "colorbar": {
             "outlinewidth": 0,
             "ticks": ""
            },
            "colorscale": [
             [
              0,
              "#0d0887"
             ],
             [
              0.1111111111111111,
              "#46039f"
             ],
             [
              0.2222222222222222,
              "#7201a8"
             ],
             [
              0.3333333333333333,
              "#9c179e"
             ],
             [
              0.4444444444444444,
              "#bd3786"
             ],
             [
              0.5555555555555556,
              "#d8576b"
             ],
             [
              0.6666666666666666,
              "#ed7953"
             ],
             [
              0.7777777777777778,
              "#fb9f3a"
             ],
             [
              0.8888888888888888,
              "#fdca26"
             ],
             [
              1,
              "#f0f921"
             ]
            ],
            "type": "contour"
           }
          ],
          "contourcarpet": [
           {
            "colorbar": {
             "outlinewidth": 0,
             "ticks": ""
            },
            "type": "contourcarpet"
           }
          ],
          "heatmap": [
           {
            "colorbar": {
             "outlinewidth": 0,
             "ticks": ""
            },
            "colorscale": [
             [
              0,
              "#0d0887"
             ],
             [
              0.1111111111111111,
              "#46039f"
             ],
             [
              0.2222222222222222,
              "#7201a8"
             ],
             [
              0.3333333333333333,
              "#9c179e"
             ],
             [
              0.4444444444444444,
              "#bd3786"
             ],
             [
              0.5555555555555556,
              "#d8576b"
             ],
             [
              0.6666666666666666,
              "#ed7953"
             ],
             [
              0.7777777777777778,
              "#fb9f3a"
             ],
             [
              0.8888888888888888,
              "#fdca26"
             ],
             [
              1,
              "#f0f921"
             ]
            ],
            "type": "heatmap"
           }
          ],
          "heatmapgl": [
           {
            "colorbar": {
             "outlinewidth": 0,
             "ticks": ""
            },
            "colorscale": [
             [
              0,
              "#0d0887"
             ],
             [
              0.1111111111111111,
              "#46039f"
             ],
             [
              0.2222222222222222,
              "#7201a8"
             ],
             [
              0.3333333333333333,
              "#9c179e"
             ],
             [
              0.4444444444444444,
              "#bd3786"
             ],
             [
              0.5555555555555556,
              "#d8576b"
             ],
             [
              0.6666666666666666,
              "#ed7953"
             ],
             [
              0.7777777777777778,
              "#fb9f3a"
             ],
             [
              0.8888888888888888,
              "#fdca26"
             ],
             [
              1,
              "#f0f921"
             ]
            ],
            "type": "heatmapgl"
           }
          ],
          "histogram": [
           {
            "marker": {
             "pattern": {
              "fillmode": "overlay",
              "size": 10,
              "solidity": 0.2
             }
            },
            "type": "histogram"
           }
          ],
          "histogram2d": [
           {
            "colorbar": {
             "outlinewidth": 0,
             "ticks": ""
            },
            "colorscale": [
             [
              0,
              "#0d0887"
             ],
             [
              0.1111111111111111,
              "#46039f"
             ],
             [
              0.2222222222222222,
              "#7201a8"
             ],
             [
              0.3333333333333333,
              "#9c179e"
             ],
             [
              0.4444444444444444,
              "#bd3786"
             ],
             [
              0.5555555555555556,
              "#d8576b"
             ],
             [
              0.6666666666666666,
              "#ed7953"
             ],
             [
              0.7777777777777778,
              "#fb9f3a"
             ],
             [
              0.8888888888888888,
              "#fdca26"
             ],
             [
              1,
              "#f0f921"
             ]
            ],
            "type": "histogram2d"
           }
          ],
          "histogram2dcontour": [
           {
            "colorbar": {
             "outlinewidth": 0,
             "ticks": ""
            },
            "colorscale": [
             [
              0,
              "#0d0887"
             ],
             [
              0.1111111111111111,
              "#46039f"
             ],
             [
              0.2222222222222222,
              "#7201a8"
             ],
             [
              0.3333333333333333,
              "#9c179e"
             ],
             [
              0.4444444444444444,
              "#bd3786"
             ],
             [
              0.5555555555555556,
              "#d8576b"
             ],
             [
              0.6666666666666666,
              "#ed7953"
             ],
             [
              0.7777777777777778,
              "#fb9f3a"
             ],
             [
              0.8888888888888888,
              "#fdca26"
             ],
             [
              1,
              "#f0f921"
             ]
            ],
            "type": "histogram2dcontour"
           }
          ],
          "mesh3d": [
           {
            "colorbar": {
             "outlinewidth": 0,
             "ticks": ""
            },
            "type": "mesh3d"
           }
          ],
          "parcoords": [
           {
            "line": {
             "colorbar": {
              "outlinewidth": 0,
              "ticks": ""
             }
            },
            "type": "parcoords"
           }
          ],
          "pie": [
           {
            "automargin": true,
            "type": "pie"
           }
          ],
          "scatter": [
           {
            "marker": {
             "line": {
              "color": "#283442"
             }
            },
            "type": "scatter"
           }
          ],
          "scatter3d": [
           {
            "line": {
             "colorbar": {
              "outlinewidth": 0,
              "ticks": ""
             }
            },
            "marker": {
             "colorbar": {
              "outlinewidth": 0,
              "ticks": ""
             }
            },
            "type": "scatter3d"
           }
          ],
          "scattercarpet": [
           {
            "marker": {
             "colorbar": {
              "outlinewidth": 0,
              "ticks": ""
             }
            },
            "type": "scattercarpet"
           }
          ],
          "scattergeo": [
           {
            "marker": {
             "colorbar": {
              "outlinewidth": 0,
              "ticks": ""
             }
            },
            "type": "scattergeo"
           }
          ],
          "scattergl": [
           {
            "marker": {
             "line": {
              "color": "#283442"
             }
            },
            "type": "scattergl"
           }
          ],
          "scattermapbox": [
           {
            "marker": {
             "colorbar": {
              "outlinewidth": 0,
              "ticks": ""
             }
            },
            "type": "scattermapbox"
           }
          ],
          "scatterpolar": [
           {
            "marker": {
             "colorbar": {
              "outlinewidth": 0,
              "ticks": ""
             }
            },
            "type": "scatterpolar"
           }
          ],
          "scatterpolargl": [
           {
            "marker": {
             "colorbar": {
              "outlinewidth": 0,
              "ticks": ""
             }
            },
            "type": "scatterpolargl"
           }
          ],
          "scatterternary": [
           {
            "marker": {
             "colorbar": {
              "outlinewidth": 0,
              "ticks": ""
             }
            },
            "type": "scatterternary"
           }
          ],
          "surface": [
           {
            "colorbar": {
             "outlinewidth": 0,
             "ticks": ""
            },
            "colorscale": [
             [
              0,
              "#0d0887"
             ],
             [
              0.1111111111111111,
              "#46039f"
             ],
             [
              0.2222222222222222,
              "#7201a8"
             ],
             [
              0.3333333333333333,
              "#9c179e"
             ],
             [
              0.4444444444444444,
              "#bd3786"
             ],
             [
              0.5555555555555556,
              "#d8576b"
             ],
             [
              0.6666666666666666,
              "#ed7953"
             ],
             [
              0.7777777777777778,
              "#fb9f3a"
             ],
             [
              0.8888888888888888,
              "#fdca26"
             ],
             [
              1,
              "#f0f921"
             ]
            ],
            "type": "surface"
           }
          ],
          "table": [
           {
            "cells": {
             "fill": {
              "color": "#506784"
             },
             "line": {
              "color": "rgb(17,17,17)"
             }
            },
            "header": {
             "fill": {
              "color": "#2a3f5f"
             },
             "line": {
              "color": "rgb(17,17,17)"
             }
            },
            "type": "table"
           }
          ]
         },
         "layout": {
          "annotationdefaults": {
           "arrowcolor": "#f2f5fa",
           "arrowhead": 0,
           "arrowwidth": 1
          },
          "autotypenumbers": "strict",
          "coloraxis": {
           "colorbar": {
            "outlinewidth": 0,
            "ticks": ""
           }
          },
          "colorscale": {
           "diverging": [
            [
             0,
             "#8e0152"
            ],
            [
             0.1,
             "#c51b7d"
            ],
            [
             0.2,
             "#de77ae"
            ],
            [
             0.3,
             "#f1b6da"
            ],
            [
             0.4,
             "#fde0ef"
            ],
            [
             0.5,
             "#f7f7f7"
            ],
            [
             0.6,
             "#e6f5d0"
            ],
            [
             0.7,
             "#b8e186"
            ],
            [
             0.8,
             "#7fbc41"
            ],
            [
             0.9,
             "#4d9221"
            ],
            [
             1,
             "#276419"
            ]
           ],
           "sequential": [
            [
             0,
             "#0d0887"
            ],
            [
             0.1111111111111111,
             "#46039f"
            ],
            [
             0.2222222222222222,
             "#7201a8"
            ],
            [
             0.3333333333333333,
             "#9c179e"
            ],
            [
             0.4444444444444444,
             "#bd3786"
            ],
            [
             0.5555555555555556,
             "#d8576b"
            ],
            [
             0.6666666666666666,
             "#ed7953"
            ],
            [
             0.7777777777777778,
             "#fb9f3a"
            ],
            [
             0.8888888888888888,
             "#fdca26"
            ],
            [
             1,
             "#f0f921"
            ]
           ],
           "sequentialminus": [
            [
             0,
             "#0d0887"
            ],
            [
             0.1111111111111111,
             "#46039f"
            ],
            [
             0.2222222222222222,
             "#7201a8"
            ],
            [
             0.3333333333333333,
             "#9c179e"
            ],
            [
             0.4444444444444444,
             "#bd3786"
            ],
            [
             0.5555555555555556,
             "#d8576b"
            ],
            [
             0.6666666666666666,
             "#ed7953"
            ],
            [
             0.7777777777777778,
             "#fb9f3a"
            ],
            [
             0.8888888888888888,
             "#fdca26"
            ],
            [
             1,
             "#f0f921"
            ]
           ]
          },
          "colorway": [
           "#636efa",
           "#EF553B",
           "#00cc96",
           "#ab63fa",
           "#FFA15A",
           "#19d3f3",
           "#FF6692",
           "#B6E880",
           "#FF97FF",
           "#FECB52"
          ],
          "font": {
           "color": "#f2f5fa"
          },
          "geo": {
           "bgcolor": "rgb(17,17,17)",
           "lakecolor": "rgb(17,17,17)",
           "landcolor": "rgb(17,17,17)",
           "showlakes": true,
           "showland": true,
           "subunitcolor": "#506784"
          },
          "hoverlabel": {
           "align": "left"
          },
          "hovermode": "closest",
          "mapbox": {
           "style": "dark"
          },
          "paper_bgcolor": "rgb(17,17,17)",
          "plot_bgcolor": "rgb(17,17,17)",
          "polar": {
           "angularaxis": {
            "gridcolor": "#506784",
            "linecolor": "#506784",
            "ticks": ""
           },
           "bgcolor": "rgb(17,17,17)",
           "radialaxis": {
            "gridcolor": "#506784",
            "linecolor": "#506784",
            "ticks": ""
           }
          },
          "scene": {
           "xaxis": {
            "backgroundcolor": "rgb(17,17,17)",
            "gridcolor": "#506784",
            "gridwidth": 2,
            "linecolor": "#506784",
            "showbackground": true,
            "ticks": "",
            "zerolinecolor": "#C8D4E3"
           },
           "yaxis": {
            "backgroundcolor": "rgb(17,17,17)",
            "gridcolor": "#506784",
            "gridwidth": 2,
            "linecolor": "#506784",
            "showbackground": true,
            "ticks": "",
            "zerolinecolor": "#C8D4E3"
           },
           "zaxis": {
            "backgroundcolor": "rgb(17,17,17)",
            "gridcolor": "#506784",
            "gridwidth": 2,
            "linecolor": "#506784",
            "showbackground": true,
            "ticks": "",
            "zerolinecolor": "#C8D4E3"
           }
          },
          "shapedefaults": {
           "line": {
            "color": "#f2f5fa"
           }
          },
          "sliderdefaults": {
           "bgcolor": "#C8D4E3",
           "bordercolor": "rgb(17,17,17)",
           "borderwidth": 1,
           "tickwidth": 0
          },
          "ternary": {
           "aaxis": {
            "gridcolor": "#506784",
            "linecolor": "#506784",
            "ticks": ""
           },
           "baxis": {
            "gridcolor": "#506784",
            "linecolor": "#506784",
            "ticks": ""
           },
           "bgcolor": "rgb(17,17,17)",
           "caxis": {
            "gridcolor": "#506784",
            "linecolor": "#506784",
            "ticks": ""
           }
          },
          "title": {
           "x": 0.05
          },
          "updatemenudefaults": {
           "bgcolor": "#506784",
           "borderwidth": 0
          },
          "xaxis": {
           "automargin": true,
           "gridcolor": "#283442",
           "linecolor": "#506784",
           "ticks": "",
           "title": {
            "standoff": 15
           },
           "zerolinecolor": "#283442",
           "zerolinewidth": 2
          },
          "yaxis": {
           "automargin": true,
           "gridcolor": "#283442",
           "linecolor": "#506784",
           "ticks": "",
           "title": {
            "standoff": 15
           },
           "zerolinecolor": "#283442",
           "zerolinewidth": 2
          }
         }
        },
        "xaxis": {
         "anchor": "y",
         "domain": [
          0,
          0.235
         ],
         "title": {}
        },
        "xaxis2": {
         "anchor": "y2",
         "domain": [
          0.255,
          0.49
         ],
         "title": {}
        },
        "xaxis3": {
         "anchor": "y3",
         "domain": [
          0.51,
          0.745
         ],
         "title": {}
        },
        "xaxis4": {
         "anchor": "y4",
         "domain": [
          0.7649999999999999,
          0.9999999999999999
         ],
         "title": {}
        },
        "yaxis": {
         "anchor": "x",
         "domain": [
          0,
          1
         ],
         "title": {
          "text": "count"
         }
        },
        "yaxis2": {
         "anchor": "x2",
         "domain": [
          0,
          1
         ],
         "matches": "y",
         "showticklabels": false
        },
        "yaxis3": {
         "anchor": "x3",
         "domain": [
          0,
          1
         ],
         "matches": "y",
         "showticklabels": false
        },
        "yaxis4": {
         "anchor": "x4",
         "domain": [
          0,
          1
         ],
         "matches": "y",
         "showticklabels": false
        }
       }
      }
     },
     "metadata": {},
     "output_type": "display_data"
    }
   ],
   "source": [
    "import plotly.express as px\n",
    "\n",
    "fig = px.bar(\n",
    "    expanded_df,\n",
    "    x=\"title\",\n",
    "    color=\"team\",\n",
    "    hover_name=\"name\",\n",
    "    hover_data=[\"team\", \"tz\", \"city\",\"manager\",\"languages\"],\n",
    "    facet_col=\"country\",\n",
    "    template=\"plotly_dark\",\n",
    ")\n",
    "fig.update_xaxes(matches=None, title_text=None)\n"
   ]
  },
  {
   "cell_type": "code",
   "execution_count": null,
   "metadata": {},
   "outputs": [],
   "source": []
  }
 ],
 "metadata": {
  "kernelspec": {
   "display_name": "peopleanalytics-hP1UcNMM",
   "language": "python",
   "name": "python3"
  },
  "language_info": {
   "codemirror_mode": {
    "name": "ipython",
    "version": 3
   },
   "file_extension": ".py",
   "mimetype": "text/x-python",
   "name": "python",
   "nbconvert_exporter": "python",
   "pygments_lexer": "ipython3",
   "version": "3.11.3"
  },
  "orig_nbformat": 4,
  "vscode": {
   "interpreter": {
    "hash": "a79ebb34bd880ae1609598d91f5437f974a2fc812a889a38194f0c3042249b1f"
   }
  }
 },
 "nbformat": 4,
 "nbformat_minor": 2
}
