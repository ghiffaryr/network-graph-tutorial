{
 "cells": [
  {
   "attachments": {},
   "cell_type": "markdown",
   "metadata": {},
   "source": [
    "# People\n",
    "\n",
    "What are they? How can we represent people in a meaningful way without having *real* data to draw from. In our organization we should have a few key pieces of information on each person:\n",
    "\n",
    "* Unique identifier (a name would be great)\n",
    "* Office/Location\n",
    "* Job Title\n",
    "* Team / Line of Business\n",
    "* Manager (this is key to understanding how reporting works)\n",
    "* Other info: programming languages, apps used, timezone, date hired, projects worked on, ...\n",
    "\n",
    "## Faker\n",
    "\n",
    "Let's generate some fake data! https://faker.readthedocs.io/en/master/"
   ]
  },
  {
   "cell_type": "code",
   "execution_count": 150,
   "metadata": {},
   "outputs": [
    {
     "data": {
      "text/plain": [
       "{'job': 'Scientific laboratory technician',\n",
       " 'company': 'Davis-Garcia',\n",
       " 'ssn': '676-50-6536',\n",
       " 'residence': '782 Reyes Lake Suite 394\\nLake Jenniferport, CA 73531',\n",
       " 'current_location': (Decimal('-46.844331'), Decimal('173.534615')),\n",
       " 'blood_group': 'A+',\n",
       " 'website': ['https://wade-hughes.org/',\n",
       "  'http://key.org/',\n",
       "  'https://www.luna-hall.com/'],\n",
       " 'username': 'sarahterrell',\n",
       " 'name': 'Carrie Smith',\n",
       " 'sex': 'F',\n",
       " 'address': '7619 Lane Lane\\nSouth Cynthiashire, GA 21547',\n",
       " 'mail': 'maryroberts@hotmail.com',\n",
       " 'birthdate': datetime.date(1965, 6, 13)}"
      ]
     },
     "execution_count": 150,
     "metadata": {},
     "output_type": "execute_result"
    }
   ],
   "source": [
    "from faker import Faker\n",
    "fake = Faker()\n",
    "\n",
    "fake.profile() # lots of great stuff in here!"
   ]
  },
  {
   "attachments": {},
   "cell_type": "markdown",
   "metadata": {},
   "source": [
    "We can also do things like ensure uniqueness for individual entries across all entries"
   ]
  },
  {
   "cell_type": "code",
   "execution_count": 151,
   "metadata": {},
   "outputs": [
    {
     "name": "stdout",
     "output_type": "stream",
     "text": [
      "Mrs.\n",
      "Mr.\n",
      "Mx.\n",
      "Dr.\n",
      "Ms.\n",
      "Ind.\n",
      "Miss\n",
      "Misc.\n",
      "😟\n"
     ]
    }
   ],
   "source": [
    "from faker.exceptions import UniquenessException\n",
    "import traceback\n",
    "\n",
    "try:\n",
    "    for i in range(10):\n",
    "        print(fake.unique.prefix())\n",
    "except UniquenessException:\n",
    "    print(\"😟\")"
   ]
  },
  {
   "cell_type": "markdown",
   "metadata": {},
   "source": [
    "Try generating a few people and see if it looks like a good representation of our organization"
   ]
  },
  {
   "cell_type": "code",
   "execution_count": 152,
   "metadata": {},
   "outputs": [
    {
     "data": {
      "text/plain": [
       "Ellipsis"
      ]
     },
     "execution_count": 152,
     "metadata": {},
     "output_type": "execute_result"
    }
   ],
   "source": [
    "..."
   ]
  },
  {
   "cell_type": "markdown",
   "metadata": {},
   "source": [
    "This is a good start but ... it's kind of wonky. We have people all over the world with so many different jobs! Let's keep the spirit of this but implement some of our own limitations on fields to ensure things line up with what we'd expect a company org to look like\n"
   ]
  },
  {
   "attachments": {},
   "cell_type": "markdown",
   "metadata": {},
   "source": [
    "First, a few more interesting features: we can also register new `providers` if anything is missing. If needed these can be customized for different locales "
   ]
  },
  {
   "cell_type": "code",
   "execution_count": 153,
   "metadata": {},
   "outputs": [
    {
     "data": {
      "text/plain": [
       "'Contract'"
      ]
     },
     "execution_count": 153,
     "metadata": {},
     "output_type": "execute_result"
    }
   ],
   "source": [
    "from faker.providers import DynamicProvider\n",
    "\n",
    "employment_status_provider = DynamicProvider(\n",
    "     provider_name=\"employment\",\n",
    "     elements=[\"Full Time\", \"Part Time\", \"Contract\"],\n",
    ")\n",
    "\n",
    "fake.add_provider(employment_status_provider)\n",
    "\n",
    "fake.employment()"
   ]
  },
  {
   "attachments": {},
   "cell_type": "markdown",
   "metadata": {},
   "source": [
    "We can customize this further by using the `Faker.BaseProvider`"
   ]
  },
  {
   "cell_type": "code",
   "execution_count": 154,
   "metadata": {},
   "outputs": [
    {
     "data": {
      "text/plain": [
       "'Contract'"
      ]
     },
     "execution_count": 154,
     "metadata": {},
     "output_type": "execute_result"
    }
   ],
   "source": [
    "# first, import a similar Provider or use the default one\n",
    "from more_itertools import one\n",
    "from faker.providers import BaseProvider\n",
    "\n",
    "# create new provider class\n",
    "class EmploymentStatus(BaseProvider):\n",
    "    statuses = {\"Full Time\": 0.7, \"Part Time\": 0.05, \"Contract\": 0.3}\n",
    "    def employment(self) -> str:\n",
    "        return one(fake.random.choices(\n",
    "            list(self.statuses), \n",
    "            weights=self.statuses.values()\n",
    "        ))\n",
    "\n",
    "# then add new provider to faker instance\n",
    "fake.add_provider(EmploymentStatus)\n",
    "\n",
    "fake.employment()\n"
   ]
  },
  {
   "attachments": {},
   "cell_type": "markdown",
   "metadata": {},
   "source": [
    "### A Tech Focused Person Data"
   ]
  },
  {
   "attachments": {},
   "cell_type": "markdown",
   "metadata": {},
   "source": [
    "To ground us in this task, let's define a new `Person` object that we can fill up with info (and a few other objects):"
   ]
  },
  {
   "cell_type": "code",
   "execution_count": 155,
   "metadata": {},
   "outputs": [],
   "source": [
    "from dataclasses import dataclass, field\n",
    "from typing import Literal\n",
    "from enum import Enum, auto\n",
    "import datetime\n",
    "\n",
    "class timezone(str, Enum):\n",
    "    EST = auto()\n",
    "    PST = auto()\n",
    "    UTC = auto()\n",
    "\n",
    "@dataclass\n",
    "class Location:\n",
    "    city: str\n",
    "    tz: timezone\n",
    "    country: str\n",
    "\n",
    "@dataclass\n",
    "class Person:\n",
    "    \"\"\"Someone who works in our company!\"\"\"\n",
    "    name: str\n",
    "    hire_date: datetime.date\n",
    "    status: Literal[\"Full Time\", \"Part Time\", \"Contract\"]\n",
    "    languages: list[str] = field(default_factory=list)\n",
    "    manager:str = None\n",
    "    team: str = None \n",
    "    title: str = None\n",
    "    location: Location = None"
   ]
  },
  {
   "cell_type": "code",
   "execution_count": 156,
   "metadata": {},
   "outputs": [
    {
     "data": {
      "text/plain": [
       "Person(name='Employee #1', hire_date=datetime.date(2023, 4, 24), status='Full Time', languages=[], manager=None, team=None, title=None, location=Location(city='New York', tz='EST', country='USA'))"
      ]
     },
     "execution_count": 156,
     "metadata": {},
     "output_type": "execute_result"
    }
   ],
   "source": [
    "Person(name=\"Employee #1\",hire_date=datetime.date.today(), status=\"Full Time\", location=Location(\"New York\", \"EST\", \"USA\"))"
   ]
  },
  {
   "cell_type": "code",
   "execution_count": 157,
   "metadata": {},
   "outputs": [],
   "source": [
    "import numpy as np\n",
    "import random\n",
    "\n",
    "def choose_a_few(\n",
    "    options: list[str],\n",
    "    weights: list[int | float] = None,\n",
    "    max_choices: int = None,\n",
    "    min_choices: int = 0,\n",
    ") -> list[str]:\n",
    "    \"\"\"A helpful function to pick a random number of choices from a list of options\n",
    "    \n",
    "    By default skews the weights toward the first options in the list\"\"\"\n",
    "    max_choices = np.clip(max_choices or len(options), min_choices, len(options))\n",
    "    \n",
    "    # how many choices will we make this time?\n",
    "    divisor = max_choices * (max_choices + 1) / 2    \n",
    "    k_weights = [int(x) / divisor for x in range(max_choices, min_choices-1, -1)]\n",
    "    n_choices = np.random.choice(list(range(min_choices,max_choices+1)), p=k_weights)\n",
    "    \n",
    "    # make the choices\n",
    "    choices = random.choices(options, weights=weights, k=n_choices)\n",
    "    return list(set(choices))\n"
   ]
  },
  {
   "attachments": {},
   "cell_type": "markdown",
   "metadata": {},
   "source": [
    "Now to make some people. Let's re-use whatever we can from `Faker` and then add some more of our own fields. We can also extend where needed to keep our code clear and consistent:"
   ]
  },
  {
   "cell_type": "code",
   "execution_count": 158,
   "metadata": {},
   "outputs": [],
   "source": [
    "class ProgrammingLanguages(BaseProvider):    \n",
    "    languages = {\n",
    "        \"Python\": 0.25,\n",
    "        \"Scala\": 0.1,\n",
    "        \"Go\": 0.08,\n",
    "        \"JavaScript\": 0.3,\n",
    "        \"Java\": 0.3,\n",
    "        \"Typescript\": 0.17,\n",
    "        \"Erlang\": 0.01,\n",
    "        \"Elixir\": 0.001,\n",
    "    }\n",
    "    def programming_languages(self) -> str:\n",
    "        return choose_a_few(list(self.languages), weights=self.languages.values())\n",
    "\n",
    "fake.add_provider(ProgrammingLanguages)\n"
   ]
  },
  {
   "cell_type": "code",
   "execution_count": 159,
   "metadata": {},
   "outputs": [
    {
     "data": {
      "text/plain": [
       "Person(name='Brandon Kennedy', hire_date=datetime.date(2022, 4, 12), status='Full Time', languages=['Java', 'JavaScript', 'Python'], manager=None, team=None, title=None, location=None)"
      ]
     },
     "execution_count": 159,
     "metadata": {},
     "output_type": "execute_result"
    }
   ],
   "source": [
    "def make_person() -> Person:\n",
    "    return Person(\n",
    "        name = fake.name(),\n",
    "        hire_date = fake.date_between(start_date=\"-3y\", end_date=\"today\"),\n",
    "        status = fake.employment(),\n",
    "        languages = fake.programming_languages(),\n",
    "        team = None, # hrmmmm this is harder\n",
    "        title = None, # let's be smarter with this\n",
    "        location = None, # let's also be smarter with this\n",
    "    )\n",
    "\n",
    "make_person()"
   ]
  },
  {
   "attachments": {},
   "cell_type": "markdown",
   "metadata": {},
   "source": [
    "Now we can generate more complex attributes in a smart way. Let's set up some rules about where offices are, what teams are in which offices, then pick titles based on other info (e.g. Developers probably know at least one language ... )"
   ]
  },
  {
   "cell_type": "code",
   "execution_count": 160,
   "metadata": {},
   "outputs": [
    {
     "data": {
      "text/plain": [
       "{'location': Location(city='London', tz='UTC', country='GBR'),\n",
       " 'title': 'Analyst',\n",
       " 'team': 'Business'}"
      ]
     },
     "execution_count": 160,
     "metadata": {},
     "output_type": "execute_result"
    }
   ],
   "source": [
    "TEAM_TITLES:dict[str,list[str]] = {\n",
    "    \"DevX\": [\"Engineer\", \"Engineer\", \"Engineer\", \"Engineer\", \"Engineer\", \"AVP\"],\n",
    "    \"DevOps\": [\"Engineer\", \"Senior Engineer\", \"Manager\"],\n",
    "    \"Sales\": [\"Associate\"],\n",
    "    \"Support\": [\"Analyst\", \"Manager\"],\n",
    "    \"Platform\": [\"Engineer\", \"Senior Engineer\",\"Managing Engineer\", \"AVP\", \"VP\"],\n",
    "    \"Product\": [\"Engineer\", \"Manager\", \"Product Owner\", \"AVP\", \"VP\"],\n",
    "    \"Internal Tools\": [\"Engineer\", \"Senior Engineer\", \"Manager\", \"AVP\", \"VP\"],\n",
    "    \"Business\": [\"Analyst\", \"Associate\", \"Vice President\", \"Director\", \"Managing Director\"]\n",
    "}\n",
    "\n",
    "\n",
    "def title_city_team():\n",
    "    # just a few locations\n",
    "    offices = {\n",
    "        location.city: location\n",
    "        for location in [\n",
    "            Location(\"New York\", tz=\"EST\", country=\"USA\"),\n",
    "            Location(\"Seattle\", tz=\"PST\", country=\"USA\"),\n",
    "            Location(\"Toronto\", tz=\"EST\", country=\"CAN\"),\n",
    "            Location(\"London\", tz=\"UTC\", country=\"GBR\"),\n",
    "            Location(\"Fort Lauderdale\", tz=\"EST\", country=\"USA\"),\n",
    "            Location(\"Dublin\", tz=\"UTC\", country=\"IRL\"),\n",
    "        ]\n",
    "    }\n",
    "    # codify the hierarchical structure\n",
    "    allowed_teams_per_office = {\n",
    "        \"New York\": [\"Sales\", \"Product\", \"Business\"],\n",
    "        \"Toronto\": [\"Platform\", \"Product\", \"Internal Tools\", \"Sales\", \"Business\"],\n",
    "        \"Fort Lauderdale\": [\"DevX\"],\n",
    "        \"Dublin\": [\"DevOps\", \"Support\"],\n",
    "        \"London\": [\"Sales\", \"Business\"],\n",
    "        \"Seattle\": [\"Internal Tools\", \"Product\", \"Platform\"],\n",
    "    }\n",
    "    allowed_titles_per_team = TEAM_TITLES\n",
    "\n",
    "    city = random.choice(list(offices))\n",
    "    team = random.choice(allowed_teams_per_office[city])\n",
    "    title = choose_a_few(\n",
    "        allowed_titles_per_team[team], max_choices=1, min_choices=1\n",
    "    ).pop()\n",
    "    \n",
    "    return {\n",
    "        \"location\": Location(city=city, tz=offices[city].tz, country=offices[city].country),\n",
    "        \"title\": title,\n",
    "        \"team\": team,\n",
    "    }\n",
    "\n",
    "\n",
    "title_city_team()\n"
   ]
  },
  {
   "attachments": {},
   "cell_type": "markdown",
   "metadata": {},
   "source": [
    "After running this we should have a better balanced org in terms of region + titles. Then we just need to add the connections in -- i.e. who's the boss?!"
   ]
  },
  {
   "cell_type": "code",
   "execution_count": 161,
   "metadata": {},
   "outputs": [],
   "source": [
    "def make_person() -> Person:\n",
    "    title_city_team_ = title_city_team()\n",
    "    technical = 1 if \"Engineer\" in title_city_team_[\"title\"] else 0\n",
    "    return Person(\n",
    "        name = fake.name(),\n",
    "        hire_date = fake.date_between(start_date=\"-3y\", end_date=\"today\"),\n",
    "        status = fake.employment(),\n",
    "        languages = fake.programming_languages(),\n",
    "        **title_city_team_,\n",
    "    )\n"
   ]
  },
  {
   "cell_type": "code",
   "execution_count": 197,
   "metadata": {},
   "outputs": [
    {
     "data": {
      "text/html": [
       "<div>\n",
       "<style scoped>\n",
       "    .dataframe tbody tr th:only-of-type {\n",
       "        vertical-align: middle;\n",
       "    }\n",
       "\n",
       "    .dataframe tbody tr th {\n",
       "        vertical-align: top;\n",
       "    }\n",
       "\n",
       "    .dataframe thead th {\n",
       "        text-align: right;\n",
       "    }\n",
       "</style>\n",
       "<table border=\"1\" class=\"dataframe\">\n",
       "  <thead>\n",
       "    <tr style=\"text-align: right;\">\n",
       "      <th></th>\n",
       "      <th>name</th>\n",
       "      <th>hire_date</th>\n",
       "      <th>status</th>\n",
       "      <th>languages</th>\n",
       "      <th>manager</th>\n",
       "      <th>team</th>\n",
       "      <th>title</th>\n",
       "      <th>location</th>\n",
       "    </tr>\n",
       "  </thead>\n",
       "  <tbody>\n",
       "    <tr>\n",
       "      <th>0</th>\n",
       "      <td>Shannon Fleming</td>\n",
       "      <td>2022-04-02</td>\n",
       "      <td>Full Time</td>\n",
       "      <td>[Scala, Typescript, Python]</td>\n",
       "      <td>None</td>\n",
       "      <td>Internal Tools</td>\n",
       "      <td>VP</td>\n",
       "      <td>{'city': 'Seattle', 'tz': 'PST', 'country': 'U...</td>\n",
       "    </tr>\n",
       "    <tr>\n",
       "      <th>1</th>\n",
       "      <td>Jeffrey Green</td>\n",
       "      <td>2021-04-06</td>\n",
       "      <td>Full Time</td>\n",
       "      <td>[]</td>\n",
       "      <td>None</td>\n",
       "      <td>Sales</td>\n",
       "      <td>Associate</td>\n",
       "      <td>{'city': 'London', 'tz': 'UTC', 'country': 'GBR'}</td>\n",
       "    </tr>\n",
       "    <tr>\n",
       "      <th>2</th>\n",
       "      <td>Linda Grant</td>\n",
       "      <td>2020-10-04</td>\n",
       "      <td>Full Time</td>\n",
       "      <td>[JavaScript, Scala, Typescript]</td>\n",
       "      <td>None</td>\n",
       "      <td>Support</td>\n",
       "      <td>Analyst</td>\n",
       "      <td>{'city': 'Dublin', 'tz': 'UTC', 'country': 'IRL'}</td>\n",
       "    </tr>\n",
       "    <tr>\n",
       "      <th>3</th>\n",
       "      <td>Victor Villegas</td>\n",
       "      <td>2021-12-06</td>\n",
       "      <td>Full Time</td>\n",
       "      <td>[Go]</td>\n",
       "      <td>None</td>\n",
       "      <td>Internal Tools</td>\n",
       "      <td>VP</td>\n",
       "      <td>{'city': 'Toronto', 'tz': 'EST', 'country': 'C...</td>\n",
       "    </tr>\n",
       "    <tr>\n",
       "      <th>4</th>\n",
       "      <td>Lisa Davis</td>\n",
       "      <td>2020-05-07</td>\n",
       "      <td>Contract</td>\n",
       "      <td>[]</td>\n",
       "      <td>None</td>\n",
       "      <td>Product</td>\n",
       "      <td>Manager</td>\n",
       "      <td>{'city': 'New York', 'tz': 'EST', 'country': '...</td>\n",
       "    </tr>\n",
       "  </tbody>\n",
       "</table>\n",
       "</div>"
      ],
      "text/plain": [
       "              name   hire_date     status                        languages  \\\n",
       "0  Shannon Fleming  2022-04-02  Full Time      [Scala, Typescript, Python]   \n",
       "1    Jeffrey Green  2021-04-06  Full Time                               []   \n",
       "2      Linda Grant  2020-10-04  Full Time  [JavaScript, Scala, Typescript]   \n",
       "3  Victor Villegas  2021-12-06  Full Time                             [Go]   \n",
       "4       Lisa Davis  2020-05-07   Contract                               []   \n",
       "\n",
       "  manager            team      title  \\\n",
       "0    None  Internal Tools         VP   \n",
       "1    None           Sales  Associate   \n",
       "2    None         Support    Analyst   \n",
       "3    None  Internal Tools         VP   \n",
       "4    None         Product    Manager   \n",
       "\n",
       "                                            location  \n",
       "0  {'city': 'Seattle', 'tz': 'PST', 'country': 'U...  \n",
       "1  {'city': 'London', 'tz': 'UTC', 'country': 'GBR'}  \n",
       "2  {'city': 'Dublin', 'tz': 'UTC', 'country': 'IRL'}  \n",
       "3  {'city': 'Toronto', 'tz': 'EST', 'country': 'C...  \n",
       "4  {'city': 'New York', 'tz': 'EST', 'country': '...  "
      ]
     },
     "execution_count": 197,
     "metadata": {},
     "output_type": "execute_result"
    }
   ],
   "source": [
    "import pandas as pd\n",
    "people_df = pd.DataFrame((make_person() for _ in range(150)))\n",
    "people_df.head()"
   ]
  },
  {
   "attachments": {},
   "cell_type": "markdown",
   "metadata": {},
   "source": [
    "So, let's group by Team and then pick a manager for everyone. Let's use these rules:\n",
    "\n",
    "* People report to someone of a higher title if possible, else to a peer\n",
    "* Reporting happens within a team\n",
    "* We already ordered `TEAM_TITLES` based on *rank*\n",
    "* Team leads should be listed as reporting to themselves (for now)"
   ]
  },
  {
   "cell_type": "code",
   "execution_count": 198,
   "metadata": {},
   "outputs": [
    {
     "data": {
      "text/html": [
       "<div>\n",
       "<style scoped>\n",
       "    .dataframe tbody tr th:only-of-type {\n",
       "        vertical-align: middle;\n",
       "    }\n",
       "\n",
       "    .dataframe tbody tr th {\n",
       "        vertical-align: top;\n",
       "    }\n",
       "\n",
       "    .dataframe thead th {\n",
       "        text-align: right;\n",
       "    }\n",
       "</style>\n",
       "<table border=\"1\" class=\"dataframe\">\n",
       "  <thead>\n",
       "    <tr style=\"text-align: right;\">\n",
       "      <th></th>\n",
       "      <th>name</th>\n",
       "      <th>hire_date</th>\n",
       "      <th>status</th>\n",
       "      <th>languages</th>\n",
       "      <th>manager</th>\n",
       "      <th>team</th>\n",
       "      <th>title</th>\n",
       "      <th>location</th>\n",
       "      <th>rank</th>\n",
       "    </tr>\n",
       "  </thead>\n",
       "  <tbody>\n",
       "    <tr>\n",
       "      <th>39</th>\n",
       "      <td>Jennifer Bennett</td>\n",
       "      <td>2022-03-05</td>\n",
       "      <td>Contract</td>\n",
       "      <td>[]</td>\n",
       "      <td>None</td>\n",
       "      <td>DevX</td>\n",
       "      <td>Engineer</td>\n",
       "      <td>{'city': 'Fort Lauderdale', 'tz': 'EST', 'coun...</td>\n",
       "      <td>5.0</td>\n",
       "    </tr>\n",
       "    <tr>\n",
       "      <th>42</th>\n",
       "      <td>Carrie Paul</td>\n",
       "      <td>2021-03-30</td>\n",
       "      <td>Full Time</td>\n",
       "      <td>[JavaScript, Scala, Typescript, Python]</td>\n",
       "      <td>None</td>\n",
       "      <td>Sales</td>\n",
       "      <td>Associate</td>\n",
       "      <td>{'city': 'London', 'tz': 'UTC', 'country': 'GBR'}</td>\n",
       "      <td>1.0</td>\n",
       "    </tr>\n",
       "    <tr>\n",
       "      <th>66</th>\n",
       "      <td>Amanda Thomas</td>\n",
       "      <td>2021-06-10</td>\n",
       "      <td>Full Time</td>\n",
       "      <td>[]</td>\n",
       "      <td>None</td>\n",
       "      <td>Business</td>\n",
       "      <td>Associate</td>\n",
       "      <td>{'city': 'London', 'tz': 'UTC', 'country': 'GBR'}</td>\n",
       "      <td>2.0</td>\n",
       "    </tr>\n",
       "  </tbody>\n",
       "</table>\n",
       "</div>"
      ],
      "text/plain": [
       "                name   hire_date     status  \\\n",
       "39  Jennifer Bennett  2022-03-05   Contract   \n",
       "42       Carrie Paul  2021-03-30  Full Time   \n",
       "66     Amanda Thomas  2021-06-10  Full Time   \n",
       "\n",
       "                                  languages manager      team      title  \\\n",
       "39                                       []    None      DevX   Engineer   \n",
       "42  [JavaScript, Scala, Typescript, Python]    None     Sales  Associate   \n",
       "66                                       []    None  Business  Associate   \n",
       "\n",
       "                                             location  rank  \n",
       "39  {'city': 'Fort Lauderdale', 'tz': 'EST', 'coun...   5.0  \n",
       "42  {'city': 'London', 'tz': 'UTC', 'country': 'GBR'}   1.0  \n",
       "66  {'city': 'London', 'tz': 'UTC', 'country': 'GBR'}   2.0  "
      ]
     },
     "execution_count": 198,
     "metadata": {},
     "output_type": "execute_result"
    }
   ],
   "source": [
    "# calculate team ranks\n",
    "ranks = {team: {title: rank + 1 for rank,title in enumerate(titles)} for team, titles in TEAM_TITLES.items()}\n",
    "for team in ranks:\n",
    "    people_df.loc[people_df.team==team, \"rank\"] = people_df.loc[people_df.team==team].title.map(ranks[team])\n",
    "people_df = people_df.sort_values(by=[\"team\",\"rank\"])\n",
    "people_df.sample(3)"
   ]
  },
  {
   "cell_type": "code",
   "execution_count": 207,
   "metadata": {},
   "outputs": [
    {
     "data": {
      "text/html": [
       "<div>\n",
       "<style scoped>\n",
       "    .dataframe tbody tr th:only-of-type {\n",
       "        vertical-align: middle;\n",
       "    }\n",
       "\n",
       "    .dataframe tbody tr th {\n",
       "        vertical-align: top;\n",
       "    }\n",
       "\n",
       "    .dataframe thead th {\n",
       "        text-align: right;\n",
       "    }\n",
       "</style>\n",
       "<table border=\"1\" class=\"dataframe\">\n",
       "  <thead>\n",
       "    <tr style=\"text-align: right;\">\n",
       "      <th></th>\n",
       "      <th>name</th>\n",
       "      <th>hire_date</th>\n",
       "      <th>status</th>\n",
       "      <th>languages</th>\n",
       "      <th>manager</th>\n",
       "      <th>team</th>\n",
       "      <th>title</th>\n",
       "      <th>location</th>\n",
       "      <th>rank</th>\n",
       "    </tr>\n",
       "  </thead>\n",
       "  <tbody>\n",
       "    <tr>\n",
       "      <th>0</th>\n",
       "      <td>Michael David</td>\n",
       "      <td>2021-01-16</td>\n",
       "      <td>Full Time</td>\n",
       "      <td>[Python]</td>\n",
       "      <td>Michael David</td>\n",
       "      <td>Business</td>\n",
       "      <td>Analyst</td>\n",
       "      <td>{'city': 'New York', 'tz': 'EST', 'country': '...</td>\n",
       "      <td>1.0</td>\n",
       "    </tr>\n",
       "    <tr>\n",
       "      <th>1</th>\n",
       "      <td>Denise Williams</td>\n",
       "      <td>2022-01-09</td>\n",
       "      <td>Full Time</td>\n",
       "      <td>[]</td>\n",
       "      <td>Denise Williams</td>\n",
       "      <td>CEO</td>\n",
       "      <td>CEO</td>\n",
       "      <td>{'city': 'Seattle', 'tz': 'PST', 'country': 'U...</td>\n",
       "      <td>8.0</td>\n",
       "    </tr>\n",
       "    <tr>\n",
       "      <th>2</th>\n",
       "      <td>Brittany Palmer</td>\n",
       "      <td>2022-09-12</td>\n",
       "      <td>Full Time</td>\n",
       "      <td>[JavaScript]</td>\n",
       "      <td>Denise Williams</td>\n",
       "      <td>CEO</td>\n",
       "      <td>CEO</td>\n",
       "      <td>{'city': 'Seattle', 'tz': 'PST', 'country': 'U...</td>\n",
       "      <td>7.0</td>\n",
       "    </tr>\n",
       "    <tr>\n",
       "      <th>3</th>\n",
       "      <td>Justin Thomas</td>\n",
       "      <td>2020-10-26</td>\n",
       "      <td>Contract</td>\n",
       "      <td>[Java, Typescript, JavaScript]</td>\n",
       "      <td>Michael David</td>\n",
       "      <td>Business</td>\n",
       "      <td>Analyst</td>\n",
       "      <td>{'city': 'London', 'tz': 'UTC', 'country': 'GBR'}</td>\n",
       "      <td>1.0</td>\n",
       "    </tr>\n",
       "    <tr>\n",
       "      <th>4</th>\n",
       "      <td>Dennis Smith</td>\n",
       "      <td>2021-06-14</td>\n",
       "      <td>Contract</td>\n",
       "      <td>[]</td>\n",
       "      <td>Michael David</td>\n",
       "      <td>Business</td>\n",
       "      <td>Analyst</td>\n",
       "      <td>{'city': 'Toronto', 'tz': 'EST', 'country': 'C...</td>\n",
       "      <td>1.0</td>\n",
       "    </tr>\n",
       "  </tbody>\n",
       "</table>\n",
       "</div>"
      ],
      "text/plain": [
       "              name   hire_date     status                       languages  \\\n",
       "0    Michael David  2021-01-16  Full Time                        [Python]   \n",
       "1  Denise Williams  2022-01-09  Full Time                              []   \n",
       "2  Brittany Palmer  2022-09-12  Full Time                    [JavaScript]   \n",
       "3    Justin Thomas  2020-10-26   Contract  [Java, Typescript, JavaScript]   \n",
       "4     Dennis Smith  2021-06-14   Contract                              []   \n",
       "\n",
       "           manager      team    title  \\\n",
       "0    Michael David  Business  Analyst   \n",
       "1  Denise Williams       CEO      CEO   \n",
       "2  Denise Williams       CEO      CEO   \n",
       "3    Michael David  Business  Analyst   \n",
       "4    Michael David  Business  Analyst   \n",
       "\n",
       "                                            location  rank  \n",
       "0  {'city': 'New York', 'tz': 'EST', 'country': '...   1.0  \n",
       "1  {'city': 'Seattle', 'tz': 'PST', 'country': 'U...   8.0  \n",
       "2  {'city': 'Seattle', 'tz': 'PST', 'country': 'U...   7.0  \n",
       "3  {'city': 'London', 'tz': 'UTC', 'country': 'GBR'}   1.0  \n",
       "4  {'city': 'Toronto', 'tz': 'EST', 'country': 'C...   1.0  "
      ]
     },
     "execution_count": 207,
     "metadata": {},
     "output_type": "execute_result"
    }
   ],
   "source": [
    "# determine supervisor\n",
    "def naivereportsto(row, df, allow_peer_reports:bool=False):\n",
    "    supervisor = (\n",
    "        df[(df.index < row.name)].query(f\"\"\"rank > {row[\"rank\"]}\"\"\").tail(1)[\"name\"]\n",
    "    )\n",
    "    supervisor = supervisor.item() if not supervisor.empty else None\n",
    "    if not supervisor and allow_peer_reports:\n",
    "        peer = df[(df.index < row.name)].query(f\"\"\"rank  == {row[\"rank\"]}\"\"\").head(1)[\"name\"]\n",
    "        peer = peer.item() if not peer.empty else None\n",
    "        return supervisor or peer or row[\"name\"]\n",
    "    return supervisor or row[\"name\"]\n",
    "\n",
    "\n",
    "def reportsto(df, allow_peer_reports:bool):\n",
    "    return df.assign(manager=df.apply(naivereportsto, df=df, allow_peer_reports=allow_peer_reports, axis=1))\n",
    "\n",
    "\n",
    "def supervisors(df, allow_peer_reports:bool):\n",
    "    df = df.groupby(\"team\", group_keys=False).apply(reportsto, allow_peer_reports=allow_peer_reports).reset_index(drop=True)\n",
    "    return df\n",
    "\n",
    "\n",
    "people_df = people_df.pipe(supervisors, allow_peer_reports=True)\n",
    "people_df.head(5)\n"
   ]
  },
  {
   "attachments": {},
   "cell_type": "markdown",
   "metadata": {},
   "source": [
    "Now we just need a CEO for all the team leads to report to. Set their manager as themselves to help us out later. We need to make sure to include all the other information in the DF that we just generated, namely `rank` and `manager`. Here let's also set the CEO as reporting to themselves "
   ]
  },
  {
   "cell_type": "code",
   "execution_count": 206,
   "metadata": {},
   "outputs": [],
   "source": [
    "CEO = make_person().__dict__ | {\"team\":\"CEO\", \"title\":\"CEO\", \"status\":\"Full Time\"}\n",
    "CEO[\"location\"] = CEO[\"location\"].__dict__\n",
    "people_df = pd.concat([people_df, pd.DataFrame([CEO])])\n",
    "CEO_mask = people_df.name==CEO[\"name\"]\n",
    "people_df.loc[(people_df.manager == people_df.name) | CEO_mask ,\"manager\"]=CEO[\"name\"]\n",
    "people_df.loc[CEO_mask, \"rank\"] = people_df[\"rank\"].max()+1"
   ]
  },
  {
   "attachments": {},
   "cell_type": "markdown",
   "metadata": {},
   "source": [
    "Alright, we have something now. Does this seems reasonably distributed? Let's use `plotly` to explore our people's dimensions and get a feel for the data"
   ]
  },
  {
   "cell_type": "code",
   "execution_count": 202,
   "metadata": {},
   "outputs": [
    {
     "data": {
      "text/html": [
       "<div>\n",
       "<style scoped>\n",
       "    .dataframe tbody tr th:only-of-type {\n",
       "        vertical-align: middle;\n",
       "    }\n",
       "\n",
       "    .dataframe tbody tr th {\n",
       "        vertical-align: top;\n",
       "    }\n",
       "\n",
       "    .dataframe thead th {\n",
       "        text-align: right;\n",
       "    }\n",
       "</style>\n",
       "<table border=\"1\" class=\"dataframe\">\n",
       "  <thead>\n",
       "    <tr style=\"text-align: right;\">\n",
       "      <th></th>\n",
       "      <th>name</th>\n",
       "      <th>hire_date</th>\n",
       "      <th>status</th>\n",
       "      <th>languages</th>\n",
       "      <th>manager</th>\n",
       "      <th>team</th>\n",
       "      <th>title</th>\n",
       "      <th>location</th>\n",
       "      <th>rank</th>\n",
       "      <th>city</th>\n",
       "      <th>tz</th>\n",
       "      <th>country</th>\n",
       "    </tr>\n",
       "  </thead>\n",
       "  <tbody>\n",
       "    <tr>\n",
       "      <th>0</th>\n",
       "      <td>Michael David</td>\n",
       "      <td>2021-01-16</td>\n",
       "      <td>Full Time</td>\n",
       "      <td>[Python]</td>\n",
       "      <td>Gary Ramsey</td>\n",
       "      <td>Business</td>\n",
       "      <td>Analyst</td>\n",
       "      <td>{'city': 'New York', 'tz': 'EST', 'country': '...</td>\n",
       "      <td>1.0</td>\n",
       "      <td>New York</td>\n",
       "      <td>EST</td>\n",
       "      <td>USA</td>\n",
       "    </tr>\n",
       "    <tr>\n",
       "      <th>1</th>\n",
       "      <td>Justin Thomas</td>\n",
       "      <td>2020-10-26</td>\n",
       "      <td>Contract</td>\n",
       "      <td>[Java, Typescript, JavaScript]</td>\n",
       "      <td>Gary Ramsey</td>\n",
       "      <td>Business</td>\n",
       "      <td>Analyst</td>\n",
       "      <td>{'city': 'London', 'tz': 'UTC', 'country': 'GBR'}</td>\n",
       "      <td>1.0</td>\n",
       "      <td>London</td>\n",
       "      <td>UTC</td>\n",
       "      <td>GBR</td>\n",
       "    </tr>\n",
       "    <tr>\n",
       "      <th>2</th>\n",
       "      <td>Dennis Smith</td>\n",
       "      <td>2021-06-14</td>\n",
       "      <td>Contract</td>\n",
       "      <td>[]</td>\n",
       "      <td>Gary Ramsey</td>\n",
       "      <td>Business</td>\n",
       "      <td>Analyst</td>\n",
       "      <td>{'city': 'Toronto', 'tz': 'EST', 'country': 'C...</td>\n",
       "      <td>1.0</td>\n",
       "      <td>Toronto</td>\n",
       "      <td>EST</td>\n",
       "      <td>CAN</td>\n",
       "    </tr>\n",
       "    <tr>\n",
       "      <th>3</th>\n",
       "      <td>Heather Jones</td>\n",
       "      <td>2021-09-07</td>\n",
       "      <td>Full Time</td>\n",
       "      <td>[Java, JavaScript]</td>\n",
       "      <td>Roberto Johnson</td>\n",
       "      <td>Business</td>\n",
       "      <td>Analyst</td>\n",
       "      <td>{'city': 'London', 'tz': 'UTC', 'country': 'GBR'}</td>\n",
       "      <td>1.0</td>\n",
       "      <td>London</td>\n",
       "      <td>UTC</td>\n",
       "      <td>GBR</td>\n",
       "    </tr>\n",
       "    <tr>\n",
       "      <th>4</th>\n",
       "      <td>Megan Mason</td>\n",
       "      <td>2023-03-09</td>\n",
       "      <td>Contract</td>\n",
       "      <td>[Java, Typescript, Python]</td>\n",
       "      <td>Roberto Johnson</td>\n",
       "      <td>Business</td>\n",
       "      <td>Analyst</td>\n",
       "      <td>{'city': 'New York', 'tz': 'EST', 'country': '...</td>\n",
       "      <td>1.0</td>\n",
       "      <td>New York</td>\n",
       "      <td>EST</td>\n",
       "      <td>USA</td>\n",
       "    </tr>\n",
       "    <tr>\n",
       "      <th>...</th>\n",
       "      <td>...</td>\n",
       "      <td>...</td>\n",
       "      <td>...</td>\n",
       "      <td>...</td>\n",
       "      <td>...</td>\n",
       "      <td>...</td>\n",
       "      <td>...</td>\n",
       "      <td>...</td>\n",
       "      <td>...</td>\n",
       "      <td>...</td>\n",
       "      <td>...</td>\n",
       "      <td>...</td>\n",
       "    </tr>\n",
       "    <tr>\n",
       "      <th>146</th>\n",
       "      <td>Elizabeth Zavala</td>\n",
       "      <td>2023-01-19</td>\n",
       "      <td>Full Time</td>\n",
       "      <td>[JavaScript]</td>\n",
       "      <td>Karen Morrison</td>\n",
       "      <td>Support</td>\n",
       "      <td>Manager</td>\n",
       "      <td>{'city': 'Dublin', 'tz': 'UTC', 'country': 'IRL'}</td>\n",
       "      <td>2.0</td>\n",
       "      <td>Dublin</td>\n",
       "      <td>UTC</td>\n",
       "      <td>IRL</td>\n",
       "    </tr>\n",
       "    <tr>\n",
       "      <th>147</th>\n",
       "      <td>Lori Stanton</td>\n",
       "      <td>2021-01-08</td>\n",
       "      <td>Full Time</td>\n",
       "      <td>[JavaScript]</td>\n",
       "      <td>Karen Morrison</td>\n",
       "      <td>Support</td>\n",
       "      <td>Manager</td>\n",
       "      <td>{'city': 'Dublin', 'tz': 'UTC', 'country': 'IRL'}</td>\n",
       "      <td>2.0</td>\n",
       "      <td>Dublin</td>\n",
       "      <td>UTC</td>\n",
       "      <td>IRL</td>\n",
       "    </tr>\n",
       "    <tr>\n",
       "      <th>148</th>\n",
       "      <td>Jason Thompson</td>\n",
       "      <td>2022-07-15</td>\n",
       "      <td>Contract</td>\n",
       "      <td>[JavaScript, Python]</td>\n",
       "      <td>Karen Morrison</td>\n",
       "      <td>Support</td>\n",
       "      <td>Manager</td>\n",
       "      <td>{'city': 'Dublin', 'tz': 'UTC', 'country': 'IRL'}</td>\n",
       "      <td>2.0</td>\n",
       "      <td>Dublin</td>\n",
       "      <td>UTC</td>\n",
       "      <td>IRL</td>\n",
       "    </tr>\n",
       "    <tr>\n",
       "      <th>149</th>\n",
       "      <td>Jennifer Wilson</td>\n",
       "      <td>2021-02-03</td>\n",
       "      <td>Full Time</td>\n",
       "      <td>[Go, Java, JavaScript]</td>\n",
       "      <td>Karen Morrison</td>\n",
       "      <td>Support</td>\n",
       "      <td>Manager</td>\n",
       "      <td>{'city': 'Dublin', 'tz': 'UTC', 'country': 'IRL'}</td>\n",
       "      <td>2.0</td>\n",
       "      <td>Dublin</td>\n",
       "      <td>UTC</td>\n",
       "      <td>IRL</td>\n",
       "    </tr>\n",
       "    <tr>\n",
       "      <th>0</th>\n",
       "      <td>Brittany Palmer</td>\n",
       "      <td>2022-09-12</td>\n",
       "      <td>Full Time</td>\n",
       "      <td>[JavaScript]</td>\n",
       "      <td>Brittany Palmer</td>\n",
       "      <td>CEO</td>\n",
       "      <td>CEO</td>\n",
       "      <td>{'city': 'Seattle', 'tz': 'PST', 'country': 'U...</td>\n",
       "      <td>7.0</td>\n",
       "      <td>Seattle</td>\n",
       "      <td>PST</td>\n",
       "      <td>USA</td>\n",
       "    </tr>\n",
       "  </tbody>\n",
       "</table>\n",
       "<p>151 rows × 12 columns</p>\n",
       "</div>"
      ],
      "text/plain": [
       "                 name   hire_date     status                       languages  \\\n",
       "0       Michael David  2021-01-16  Full Time                        [Python]   \n",
       "1       Justin Thomas  2020-10-26   Contract  [Java, Typescript, JavaScript]   \n",
       "2        Dennis Smith  2021-06-14   Contract                              []   \n",
       "3       Heather Jones  2021-09-07  Full Time              [Java, JavaScript]   \n",
       "4         Megan Mason  2023-03-09   Contract      [Java, Typescript, Python]   \n",
       "..                ...         ...        ...                             ...   \n",
       "146  Elizabeth Zavala  2023-01-19  Full Time                    [JavaScript]   \n",
       "147      Lori Stanton  2021-01-08  Full Time                    [JavaScript]   \n",
       "148    Jason Thompson  2022-07-15   Contract            [JavaScript, Python]   \n",
       "149   Jennifer Wilson  2021-02-03  Full Time          [Go, Java, JavaScript]   \n",
       "0     Brittany Palmer  2022-09-12  Full Time                    [JavaScript]   \n",
       "\n",
       "             manager      team    title  \\\n",
       "0        Gary Ramsey  Business  Analyst   \n",
       "1        Gary Ramsey  Business  Analyst   \n",
       "2        Gary Ramsey  Business  Analyst   \n",
       "3    Roberto Johnson  Business  Analyst   \n",
       "4    Roberto Johnson  Business  Analyst   \n",
       "..               ...       ...      ...   \n",
       "146   Karen Morrison   Support  Manager   \n",
       "147   Karen Morrison   Support  Manager   \n",
       "148   Karen Morrison   Support  Manager   \n",
       "149   Karen Morrison   Support  Manager   \n",
       "0    Brittany Palmer       CEO      CEO   \n",
       "\n",
       "                                              location  rank      city   tz  \\\n",
       "0    {'city': 'New York', 'tz': 'EST', 'country': '...   1.0  New York  EST   \n",
       "1    {'city': 'London', 'tz': 'UTC', 'country': 'GBR'}   1.0    London  UTC   \n",
       "2    {'city': 'Toronto', 'tz': 'EST', 'country': 'C...   1.0   Toronto  EST   \n",
       "3    {'city': 'London', 'tz': 'UTC', 'country': 'GBR'}   1.0    London  UTC   \n",
       "4    {'city': 'New York', 'tz': 'EST', 'country': '...   1.0  New York  EST   \n",
       "..                                                 ...   ...       ...  ...   \n",
       "146  {'city': 'Dublin', 'tz': 'UTC', 'country': 'IRL'}   2.0    Dublin  UTC   \n",
       "147  {'city': 'Dublin', 'tz': 'UTC', 'country': 'IRL'}   2.0    Dublin  UTC   \n",
       "148  {'city': 'Dublin', 'tz': 'UTC', 'country': 'IRL'}   2.0    Dublin  UTC   \n",
       "149  {'city': 'Dublin', 'tz': 'UTC', 'country': 'IRL'}   2.0    Dublin  UTC   \n",
       "0    {'city': 'Seattle', 'tz': 'PST', 'country': 'U...   7.0   Seattle  PST   \n",
       "\n",
       "    country  \n",
       "0       USA  \n",
       "1       GBR  \n",
       "2       CAN  \n",
       "3       GBR  \n",
       "4       USA  \n",
       "..      ...  \n",
       "146     IRL  \n",
       "147     IRL  \n",
       "148     IRL  \n",
       "149     IRL  \n",
       "0       USA  \n",
       "\n",
       "[151 rows x 12 columns]"
      ]
     },
     "execution_count": 202,
     "metadata": {},
     "output_type": "execute_result"
    }
   ],
   "source": [
    "# let's flatten the nested pieces of the DataFrame (`people_df.location`)\n",
    "expanded_df = people_df.assign(**people_df.location.apply(pd.Series))\n",
    "expanded_df"
   ]
  },
  {
   "cell_type": "code",
   "execution_count": 203,
   "metadata": {},
   "outputs": [
    {
     "data": {
      "application/vnd.plotly.v1+json": {
       "config": {
        "plotlyServerURL": "https://plot.ly"
       },
       "data": [
        {
         "alignmentgroup": "True",
         "customdata": [
          [
           "Business",
           "EST",
           "New York",
           "Gary Ramsey",
           [
            "Python"
           ]
          ],
          [
           "Business",
           "EST",
           "New York",
           "Roberto Johnson",
           [
            "Java",
            "Typescript",
            "Python"
           ]
          ],
          [
           "Business",
           "EST",
           "New York",
           "Christopher Long",
           [
            "Go"
           ]
          ],
          [
           "Business",
           "EST",
           "New York",
           "Christopher Long",
           [
            "JavaScript"
           ]
          ],
          [
           "Business",
           "EST",
           "New York",
           "Roberto Johnson",
           [
            "Java"
           ]
          ],
          [
           "Business",
           "EST",
           "New York",
           "Shawn Gutierrez Jr.",
           [
            "Typescript"
           ]
          ],
          [
           "Business",
           "EST",
           "New York",
           "Yolanda Holden",
           [
            "Typescript",
            "Python"
           ]
          ],
          [
           "Business",
           "EST",
           "New York",
           "Christopher Long",
           []
          ],
          [
           "Business",
           "EST",
           "New York",
           "Shawn Gutierrez Jr.",
           []
          ],
          [
           "Business",
           "EST",
           "New York",
           "Gary Ramsey",
           [
            "Java",
            "Typescript",
            "JavaScript",
            "Python"
           ]
          ],
          [
           "Business",
           "EST",
           "New York",
           "Gary Ramsey",
           []
          ]
         ],
         "hovertemplate": "<b>%{hovertext}</b><br><br>team=%{customdata[0]}<br>country=USA<br>title=%{x}<br>count=%{y}<br>tz=%{customdata[1]}<br>city=%{customdata[2]}<br>manager=%{customdata[3]}<br>languages=%{customdata[4]}<extra></extra>",
         "hovertext": [
          "Michael David",
          "Megan Mason",
          "Alexander Rivera",
          "Mr. Joshua Hess Jr.",
          "Wendy Taylor",
          "Jonathan Henderson",
          "Lori Jordan",
          "Jennifer Shelton",
          "Robert Holden",
          "Diana Watkins",
          "Shawn Gutierrez Jr."
         ],
         "legendgroup": "Business",
         "marker": {
          "color": "#636efa",
          "pattern": {
           "shape": ""
          }
         },
         "name": "Business",
         "offsetgroup": "Business",
         "orientation": "v",
         "showlegend": true,
         "textposition": "auto",
         "type": "bar",
         "x": [
          "Analyst",
          "Analyst",
          "Analyst",
          "Analyst",
          "Associate",
          "Vice President",
          "Vice President",
          "Director",
          "Director",
          "Managing Director",
          "Managing Director"
         ],
         "xaxis": "x",
         "y": [
          1,
          1,
          1,
          1,
          1,
          1,
          1,
          1,
          1,
          1,
          1
         ],
         "yaxis": "y"
        },
        {
         "alignmentgroup": "True",
         "customdata": [
          [
           "Business",
           "UTC",
           "London",
           "Gary Ramsey",
           [
            "Java",
            "Typescript",
            "JavaScript"
           ]
          ],
          [
           "Business",
           "UTC",
           "London",
           "Roberto Johnson",
           [
            "Java",
            "JavaScript"
           ]
          ],
          [
           "Business",
           "UTC",
           "London",
           "Shawn Gutierrez Jr.",
           [
            "Go",
            "JavaScript",
            "Python"
           ]
          ],
          [
           "Business",
           "UTC",
           "London",
           "Benjamin Shelton",
           [
            "JavaScript"
           ]
          ],
          [
           "Business",
           "UTC",
           "London",
           "Roberto Johnson",
           []
          ],
          [
           "Business",
           "UTC",
           "London",
           "Diana Watkins",
           []
          ],
          [
           "Business",
           "UTC",
           "London",
           "Christopher Long",
           []
          ],
          [
           "Business",
           "UTC",
           "London",
           "Christopher Long",
           [
            "Go"
           ]
          ],
          [
           "Business",
           "UTC",
           "London",
           "Roberto Johnson",
           []
          ],
          [
           "Business",
           "UTC",
           "London",
           "Roberto Johnson",
           [
            "Java",
            "Typescript"
           ]
          ],
          [
           "Business",
           "UTC",
           "London",
           "Yolanda Holden",
           [
            "Java",
            "JavaScript"
           ]
          ],
          [
           "Business",
           "UTC",
           "London",
           "Brittany Palmer",
           [
            "Java"
           ]
          ],
          [
           "Business",
           "UTC",
           "London",
           "Gary Ramsey",
           []
          ],
          [
           "Business",
           "UTC",
           "London",
           "Gary Ramsey",
           [
            "Java",
            "Scala",
            "JavaScript",
            "Python"
           ]
          ],
          [
           "Business",
           "UTC",
           "London",
           "Gary Ramsey",
           [
            "Go",
            "Java",
            "JavaScript",
            "Python"
           ]
          ],
          [
           "Business",
           "UTC",
           "London",
           "Gary Ramsey",
           [
            "JavaScript",
            "Java",
            "Typescript",
            "Python"
           ]
          ]
         ],
         "hovertemplate": "<b>%{hovertext}</b><br><br>team=%{customdata[0]}<br>country=GBR<br>title=%{x}<br>count=%{y}<br>tz=%{customdata[1]}<br>city=%{customdata[2]}<br>manager=%{customdata[3]}<br>languages=%{customdata[4]}<extra></extra>",
         "hovertext": [
          "Justin Thomas",
          "Heather Jones",
          "Andrea Johnson",
          "Stacy Underwood",
          "Rhonda Howell",
          "Amanda Thomas",
          "Kenneth Garrett",
          "David Richardson",
          "Antonio Liu",
          "Ashley Morgan",
          "April Woods",
          "Gary Ramsey",
          "Roberto Johnson",
          "Christopher Long",
          "Benjamin Shelton",
          "Yolanda Holden"
         ],
         "legendgroup": "Business",
         "marker": {
          "color": "#636efa",
          "pattern": {
           "shape": ""
          }
         },
         "name": "Business",
         "offsetgroup": "Business",
         "orientation": "v",
         "showlegend": false,
         "textposition": "auto",
         "type": "bar",
         "x": [
          "Analyst",
          "Analyst",
          "Analyst",
          "Analyst",
          "Associate",
          "Associate",
          "Associate",
          "Associate",
          "Vice President",
          "Vice President",
          "Vice President",
          "Managing Director",
          "Managing Director",
          "Managing Director",
          "Managing Director",
          "Managing Director"
         ],
         "xaxis": "x2",
         "y": [
          1,
          1,
          1,
          1,
          1,
          1,
          1,
          1,
          1,
          1,
          1,
          1,
          1,
          1,
          1,
          1
         ],
         "yaxis": "y2"
        },
        {
         "alignmentgroup": "True",
         "customdata": [
          [
           "Business",
           "EST",
           "Toronto",
           "Gary Ramsey",
           []
          ],
          [
           "Business",
           "EST",
           "Toronto",
           "Diana Watkins",
           [
            "Java",
            "Python"
           ]
          ],
          [
           "Business",
           "EST",
           "Toronto",
           "Diana Watkins",
           [
            "Java"
           ]
          ]
         ],
         "hovertemplate": "<b>%{hovertext}</b><br><br>team=%{customdata[0]}<br>country=CAN<br>title=%{x}<br>count=%{y}<br>tz=%{customdata[1]}<br>city=%{customdata[2]}<br>manager=%{customdata[3]}<br>languages=%{customdata[4]}<extra></extra>",
         "hovertext": [
          "Dennis Smith",
          "Debra Perez",
          "Veronica Lucas"
         ],
         "legendgroup": "Business",
         "marker": {
          "color": "#636efa",
          "pattern": {
           "shape": ""
          }
         },
         "name": "Business",
         "offsetgroup": "Business",
         "orientation": "v",
         "showlegend": false,
         "textposition": "auto",
         "type": "bar",
         "x": [
          "Analyst",
          "Analyst",
          "Director"
         ],
         "xaxis": "x3",
         "y": [
          1,
          1,
          1
         ],
         "yaxis": "y3"
        },
        {
         "alignmentgroup": "True",
         "customdata": [
          [
           "DevOps",
           "UTC",
           "Dublin",
           "Brittany Palmer",
           [
            "Java",
            "JavaScript"
           ]
          ],
          [
           "DevOps",
           "UTC",
           "Dublin",
           "Jessica Jordan",
           [
            "Go",
            "JavaScript",
            "Python"
           ]
          ],
          [
           "DevOps",
           "UTC",
           "Dublin",
           "Jessica Jordan",
           [
            "Java",
            "Typescript"
           ]
          ],
          [
           "DevOps",
           "UTC",
           "Dublin",
           "Kimberly Payne",
           []
          ],
          [
           "DevOps",
           "UTC",
           "Dublin",
           "Stephanie King",
           []
          ],
          [
           "DevOps",
           "UTC",
           "Dublin",
           "Brittany Palmer",
           []
          ],
          [
           "DevOps",
           "UTC",
           "Dublin",
           "Erika Bright",
           [
            "JavaScript",
            "Typescript"
           ]
          ],
          [
           "DevOps",
           "UTC",
           "Dublin",
           "Brittany Palmer",
           [
            "Go",
            "JavaScript"
           ]
          ],
          [
           "DevOps",
           "UTC",
           "Dublin",
           "Jessica Jordan",
           []
          ],
          [
           "DevOps",
           "UTC",
           "Dublin",
           "Jessica Jordan",
           [
            "Erlang",
            "Scala",
            "Python"
           ]
          ],
          [
           "DevOps",
           "UTC",
           "Dublin",
           "Jessica Jordan",
           [
            "Python"
           ]
          ]
         ],
         "hovertemplate": "<b>%{hovertext}</b><br><br>team=%{customdata[0]}<br>country=IRL<br>title=%{x}<br>count=%{y}<br>tz=%{customdata[1]}<br>city=%{customdata[2]}<br>manager=%{customdata[3]}<br>languages=%{customdata[4]}<extra></extra>",
         "hovertext": [
          "Cheryl Mann",
          "James Carroll",
          "Alyssa Green",
          "Karen Rivera",
          "Brandi Weeks",
          "Bridget Gonzales",
          "Diamond Foley",
          "Jessica Jordan",
          "Erika Bright",
          "Kimberly Payne",
          "Stephanie King"
         ],
         "legendgroup": "DevOps",
         "marker": {
          "color": "#EF553B",
          "pattern": {
           "shape": ""
          }
         },
         "name": "DevOps",
         "offsetgroup": "DevOps",
         "orientation": "v",
         "showlegend": true,
         "textposition": "auto",
         "type": "bar",
         "x": [
          "Engineer",
          "Engineer",
          "Engineer",
          "Engineer",
          "Engineer",
          "Senior Engineer",
          "Senior Engineer",
          "Manager",
          "Manager",
          "Manager",
          "Manager"
         ],
         "xaxis": "x4",
         "y": [
          1,
          1,
          1,
          1,
          1,
          1,
          1,
          1,
          1,
          1,
          1
         ],
         "yaxis": "y4"
        },
        {
         "alignmentgroup": "True",
         "customdata": [
          [
           "DevX",
           "EST",
           "Fort Lauderdale",
           "Brittany Palmer",
           [
            "Java",
            "JavaScript"
           ]
          ],
          [
           "DevX",
           "EST",
           "Fort Lauderdale",
           "Jonathan Watson",
           []
          ],
          [
           "DevX",
           "EST",
           "Fort Lauderdale",
           "Jonathan Watson",
           [
            "JavaScript",
            "Python"
           ]
          ],
          [
           "DevX",
           "EST",
           "Fort Lauderdale",
           "Jonathan Watson",
           [
            "Go",
            "Java"
           ]
          ],
          [
           "DevX",
           "EST",
           "Fort Lauderdale",
           "Jonathan Watson",
           [
            "Go",
            "JavaScript",
            "Python",
            "Java",
            "Typescript"
           ]
          ],
          [
           "DevX",
           "EST",
           "Fort Lauderdale",
           "Jonathan Watson",
           [
            "JavaScript"
           ]
          ],
          [
           "DevX",
           "EST",
           "Fort Lauderdale",
           "Jonathan Watson",
           [
            "Go",
            "JavaScript",
            "Python"
           ]
          ],
          [
           "DevX",
           "EST",
           "Fort Lauderdale",
           "Jonathan Watson",
           [
            "Java",
            "JavaScript"
           ]
          ],
          [
           "DevX",
           "EST",
           "Fort Lauderdale",
           "Jonathan Watson",
           []
          ],
          [
           "DevX",
           "EST",
           "Fort Lauderdale",
           "Jonathan Watson",
           []
          ],
          [
           "DevX",
           "EST",
           "Fort Lauderdale",
           "Jonathan Watson",
           [
            "Python"
           ]
          ],
          [
           "DevX",
           "EST",
           "Fort Lauderdale",
           "Randall Tran",
           []
          ],
          [
           "DevX",
           "EST",
           "Fort Lauderdale",
           "Randall Tran",
           []
          ],
          [
           "DevX",
           "EST",
           "Fort Lauderdale",
           "Randall Tran",
           []
          ],
          [
           "DevX",
           "EST",
           "Fort Lauderdale",
           "Randall Tran",
           [
            "Python"
           ]
          ],
          [
           "DevX",
           "EST",
           "Fort Lauderdale",
           "Cindy Jacobs",
           [
            "Go",
            "Java",
            "JavaScript",
            "Python"
           ]
          ],
          [
           "DevX",
           "EST",
           "Fort Lauderdale",
           "Cindy Jacobs",
           [
            "Go",
            "Typescript"
           ]
          ],
          [
           "DevX",
           "EST",
           "Fort Lauderdale",
           "Cindy Jacobs",
           [
            "Go",
            "Typescript"
           ]
          ],
          [
           "DevX",
           "EST",
           "Fort Lauderdale",
           "Cindy Jacobs",
           [
            "Typescript",
            "Python"
           ]
          ],
          [
           "DevX",
           "EST",
           "Fort Lauderdale",
           "Cindy Jacobs",
           [
            "JavaScript"
           ]
          ],
          [
           "DevX",
           "EST",
           "Fort Lauderdale",
           "Cindy Jacobs",
           [
            "JavaScript",
            "Java",
            "Typescript"
           ]
          ],
          [
           "DevX",
           "EST",
           "Fort Lauderdale",
           "Cindy Jacobs",
           [
            "JavaScript",
            "Python"
           ]
          ],
          [
           "DevX",
           "EST",
           "Fort Lauderdale",
           "Brittany Palmer",
           [
            "Java",
            "Scala",
            "JavaScript",
            "Python"
           ]
          ],
          [
           "DevX",
           "EST",
           "Fort Lauderdale",
           "Randall Tran",
           [
            "Java",
            "Scala",
            "JavaScript"
           ]
          ]
         ],
         "hovertemplate": "<b>%{hovertext}</b><br><br>team=%{customdata[0]}<br>country=USA<br>title=%{x}<br>count=%{y}<br>tz=%{customdata[1]}<br>city=%{customdata[2]}<br>manager=%{customdata[3]}<br>languages=%{customdata[4]}<extra></extra>",
         "hovertext": [
          "Jonathan Watson",
          "Ebony Bass",
          "Joshua Thomas",
          "Brandi Hutchinson",
          "Jason Dalton",
          "Curtis Hernandez",
          "Joyce Smith",
          "Grant Vega",
          "Jennifer Bennett",
          "Phillip Perry",
          "Mr. Brandon Ross",
          "Kimberly Smith",
          "Erin Ramirez",
          "Rita Brown",
          "Jaime Jones",
          "Diamond Bruce",
          "Christina Johnson",
          "Zoe Anderson",
          "Lisa Adams",
          "Kimberly Rivas",
          "Rebecca Campbell",
          "Timothy West",
          "Randall Tran",
          "Cindy Jacobs"
         ],
         "legendgroup": "DevX",
         "marker": {
          "color": "#00cc96",
          "pattern": {
           "shape": ""
          }
         },
         "name": "DevX",
         "offsetgroup": "DevX",
         "orientation": "v",
         "showlegend": true,
         "textposition": "auto",
         "type": "bar",
         "x": [
          "Engineer",
          "Engineer",
          "Engineer",
          "Engineer",
          "Engineer",
          "Engineer",
          "Engineer",
          "Engineer",
          "Engineer",
          "Engineer",
          "Engineer",
          "Engineer",
          "Engineer",
          "Engineer",
          "Engineer",
          "Engineer",
          "Engineer",
          "Engineer",
          "Engineer",
          "Engineer",
          "Engineer",
          "Engineer",
          "AVP",
          "AVP"
         ],
         "xaxis": "x",
         "y": [
          1,
          1,
          1,
          1,
          1,
          1,
          1,
          1,
          1,
          1,
          1,
          1,
          1,
          1,
          1,
          1,
          1,
          1,
          1,
          1,
          1,
          1,
          1,
          1
         ],
         "yaxis": "y"
        },
        {
         "alignmentgroup": "True",
         "customdata": [
          [
           "Internal Tools",
           "PST",
           "Seattle",
           "Victor Villegas",
           [
            "Typescript"
           ]
          ],
          [
           "Internal Tools",
           "PST",
           "Seattle",
           "Victor Villegas",
           []
          ],
          [
           "Internal Tools",
           "PST",
           "Seattle",
           "Victor Villegas",
           [
            "Scala",
            "Typescript",
            "Python"
           ]
          ],
          [
           "Internal Tools",
           "PST",
           "Seattle",
           "Victor Villegas",
           [
            "Scala",
            "JavaScript"
           ]
          ],
          [
           "Internal Tools",
           "PST",
           "Seattle",
           "Victor Villegas",
           [
            "JavaScript"
           ]
          ],
          [
           "Internal Tools",
           "PST",
           "Seattle",
           "Brittany Palmer",
           [
            "Scala",
            "Typescript",
            "Python"
           ]
          ]
         ],
         "hovertemplate": "<b>%{hovertext}</b><br><br>team=%{customdata[0]}<br>country=USA<br>title=%{x}<br>count=%{y}<br>tz=%{customdata[1]}<br>city=%{customdata[2]}<br>manager=%{customdata[3]}<br>languages=%{customdata[4]}<extra></extra>",
         "hovertext": [
          "Amy Richards",
          "Christine Bernard",
          "Mr. Brian Jordan",
          "Corey Cobb",
          "Abigail Nielsen",
          "Shannon Fleming"
         ],
         "legendgroup": "Internal Tools",
         "marker": {
          "color": "#ab63fa",
          "pattern": {
           "shape": ""
          }
         },
         "name": "Internal Tools",
         "offsetgroup": "Internal Tools",
         "orientation": "v",
         "showlegend": true,
         "textposition": "auto",
         "type": "bar",
         "x": [
          "Engineer",
          "Engineer",
          "Senior Engineer",
          "AVP",
          "AVP",
          "VP"
         ],
         "xaxis": "x",
         "y": [
          1,
          1,
          1,
          1,
          1,
          1
         ],
         "yaxis": "y"
        },
        {
         "alignmentgroup": "True",
         "customdata": [
          [
           "Internal Tools",
           "EST",
           "Toronto",
           "Victor Villegas",
           []
          ],
          [
           "Internal Tools",
           "EST",
           "Toronto",
           "Victor Villegas",
           [
            "Typescript",
            "Python"
           ]
          ],
          [
           "Internal Tools",
           "EST",
           "Toronto",
           "Victor Villegas",
           [
            "JavaScript",
            "Java",
            "Typescript"
           ]
          ],
          [
           "Internal Tools",
           "EST",
           "Toronto",
           "Shannon Fleming",
           [
            "Go"
           ]
          ],
          [
           "Internal Tools",
           "EST",
           "Toronto",
           "Shannon Fleming",
           [
            "Scala",
            "Java",
            "Typescript",
            "JavaScript"
           ]
          ]
         ],
         "hovertemplate": "<b>%{hovertext}</b><br><br>team=%{customdata[0]}<br>country=CAN<br>title=%{x}<br>count=%{y}<br>tz=%{customdata[1]}<br>city=%{customdata[2]}<br>manager=%{customdata[3]}<br>languages=%{customdata[4]}<extra></extra>",
         "hovertext": [
          "Kimberly Burke",
          "Mary Collier",
          "Scott Vasquez",
          "Victor Villegas",
          "Christopher Ramirez"
         ],
         "legendgroup": "Internal Tools",
         "marker": {
          "color": "#ab63fa",
          "pattern": {
           "shape": ""
          }
         },
         "name": "Internal Tools",
         "offsetgroup": "Internal Tools",
         "orientation": "v",
         "showlegend": false,
         "textposition": "auto",
         "type": "bar",
         "x": [
          "Engineer",
          "Senior Engineer",
          "AVP",
          "VP",
          "VP"
         ],
         "xaxis": "x3",
         "y": [
          1,
          1,
          1,
          1,
          1
         ],
         "yaxis": "y3"
        },
        {
         "alignmentgroup": "True",
         "customdata": [
          [
           "Platform",
           "PST",
           "Seattle",
           "Brittany Palmer",
           []
          ],
          [
           "Platform",
           "PST",
           "Seattle",
           "Patricia Garcia",
           [
            "Typescript",
            "JavaScript",
            "Python"
           ]
          ],
          [
           "Platform",
           "PST",
           "Seattle",
           "Patricia Garcia",
           [
            "JavaScript",
            "Python"
           ]
          ],
          [
           "Platform",
           "PST",
           "Seattle",
           "Patricia Garcia",
           [
            "Java",
            "JavaScript"
           ]
          ],
          [
           "Platform",
           "PST",
           "Seattle",
           "Patricia Garcia",
           [
            "JavaScript",
            "Typescript",
            "Python"
           ]
          ],
          [
           "Platform",
           "PST",
           "Seattle",
           "Patricia Garcia",
           [
            "JavaScript",
            "Java",
            "Typescript"
           ]
          ]
         ],
         "hovertemplate": "<b>%{hovertext}</b><br><br>team=%{customdata[0]}<br>country=USA<br>title=%{x}<br>count=%{y}<br>tz=%{customdata[1]}<br>city=%{customdata[2]}<br>manager=%{customdata[3]}<br>languages=%{customdata[4]}<extra></extra>",
         "hovertext": [
          "Cameron Collins",
          "Stephanie Hart",
          "Christopher Thornton",
          "Elizabeth Hamilton",
          "Kristin Moore",
          "Douglas Sellers"
         ],
         "legendgroup": "Platform",
         "marker": {
          "color": "#FFA15A",
          "pattern": {
           "shape": ""
          }
         },
         "name": "Platform",
         "offsetgroup": "Platform",
         "orientation": "v",
         "showlegend": true,
         "textposition": "auto",
         "type": "bar",
         "x": [
          "Engineer",
          "Engineer",
          "Engineer",
          "Senior Engineer",
          "Managing Engineer",
          "Managing Engineer"
         ],
         "xaxis": "x",
         "y": [
          1,
          1,
          1,
          1,
          1,
          1
         ],
         "yaxis": "y"
        },
        {
         "alignmentgroup": "True",
         "customdata": [
          [
           "Platform",
           "EST",
           "Toronto",
           "Patricia Garcia",
           []
          ],
          [
           "Platform",
           "EST",
           "Toronto",
           "Patricia Garcia",
           []
          ],
          [
           "Platform",
           "EST",
           "Toronto",
           "Patricia Garcia",
           [
            "Go",
            "Java",
            "Python"
           ]
          ],
          [
           "Platform",
           "EST",
           "Toronto",
           "Brittany Palmer",
           [
            "Java",
            "Scala"
           ]
          ]
         ],
         "hovertemplate": "<b>%{hovertext}</b><br><br>team=%{customdata[0]}<br>country=CAN<br>title=%{x}<br>count=%{y}<br>tz=%{customdata[1]}<br>city=%{customdata[2]}<br>manager=%{customdata[3]}<br>languages=%{customdata[4]}<extra></extra>",
         "hovertext": [
          "Maria Mora",
          "Jeffrey Brown",
          "Kelly Bass",
          "Patricia Garcia"
         ],
         "legendgroup": "Platform",
         "marker": {
          "color": "#FFA15A",
          "pattern": {
           "shape": ""
          }
         },
         "name": "Platform",
         "offsetgroup": "Platform",
         "orientation": "v",
         "showlegend": false,
         "textposition": "auto",
         "type": "bar",
         "x": [
          "Engineer",
          "Managing Engineer",
          "AVP",
          "VP"
         ],
         "xaxis": "x3",
         "y": [
          1,
          1,
          1,
          1
         ],
         "yaxis": "y3"
        },
        {
         "alignmentgroup": "True",
         "customdata": [
          [
           "Product",
           "PST",
           "Seattle",
           "Theresa Campbell",
           [
            "Java"
           ]
          ],
          [
           "Product",
           "PST",
           "Seattle",
           "Tina Weeks",
           [
            "Typescript"
           ]
          ],
          [
           "Product",
           "PST",
           "Seattle",
           "Michelle Nunez",
           [
            "Java",
            "Scala",
            "JavaScript",
            "Python"
           ]
          ],
          [
           "Product",
           "EST",
           "New York",
           "Brittany Palmer",
           []
          ],
          [
           "Product",
           "EST",
           "New York",
           "Laura Hunter",
           []
          ],
          [
           "Product",
           "PST",
           "Seattle",
           "Laura Hunter",
           [
            "JavaScript",
            "Python"
           ]
          ],
          [
           "Product",
           "PST",
           "Seattle",
           "Rodney Adams",
           [
            "Java",
            "Typescript",
            "Python"
           ]
          ],
          [
           "Product",
           "EST",
           "New York",
           "Brittany Palmer",
           [
            "Go",
            "Java"
           ]
          ],
          [
           "Product",
           "PST",
           "Seattle",
           "Brittany Palmer",
           [
            "JavaScript",
            "Java",
            "Typescript",
            "Python"
           ]
          ],
          [
           "Product",
           "PST",
           "Seattle",
           "Bridget Watkins",
           []
          ],
          [
           "Product",
           "EST",
           "New York",
           "Bridget Watkins",
           []
          ],
          [
           "Product",
           "EST",
           "New York",
           "Bridget Watkins",
           [
            "Python"
           ]
          ],
          [
           "Product",
           "EST",
           "New York",
           "Bridget Watkins",
           [
            "Python"
           ]
          ],
          [
           "Product",
           "PST",
           "Seattle",
           "Brittany Palmer",
           []
          ],
          [
           "Product",
           "PST",
           "Seattle",
           "Tim Joyce",
           []
          ],
          [
           "Product",
           "PST",
           "Seattle",
           "Tim Joyce",
           []
          ],
          [
           "Product",
           "PST",
           "Seattle",
           "Tim Joyce",
           [
            "Typescript"
           ]
          ],
          [
           "Product",
           "EST",
           "New York",
           "Tim Joyce",
           []
          ]
         ],
         "hovertemplate": "<b>%{hovertext}</b><br><br>team=%{customdata[0]}<br>country=USA<br>title=%{x}<br>count=%{y}<br>tz=%{customdata[1]}<br>city=%{customdata[2]}<br>manager=%{customdata[3]}<br>languages=%{customdata[4]}<extra></extra>",
         "hovertext": [
          "Ryan Obrien",
          "Kelsey Knapp",
          "Darryl Chang",
          "Lisa Davis",
          "Justin Melton",
          "Jasmine Cross",
          "Victoria Jacobs",
          "Emily Hall",
          "Bridget Watkins",
          "Laura Hunter",
          "Theresa Campbell",
          "Donald Smith",
          "Rodney Adams",
          "Tim Joyce",
          "Tina Weeks",
          "Evelyn Martin",
          "Steven Miller",
          "Michelle Nunez"
         ],
         "legendgroup": "Product",
         "marker": {
          "color": "#19d3f3",
          "pattern": {
           "shape": ""
          }
         },
         "name": "Product",
         "offsetgroup": "Product",
         "orientation": "v",
         "showlegend": true,
         "textposition": "auto",
         "type": "bar",
         "x": [
          "Engineer",
          "Engineer",
          "Engineer",
          "Manager",
          "Manager",
          "Manager",
          "Manager",
          "Product Owner",
          "AVP",
          "AVP",
          "AVP",
          "AVP",
          "AVP",
          "VP",
          "VP",
          "VP",
          "VP",
          "VP"
         ],
         "xaxis": "x",
         "y": [
          1,
          1,
          1,
          1,
          1,
          1,
          1,
          1,
          1,
          1,
          1,
          1,
          1,
          1,
          1,
          1,
          1,
          1
         ],
         "yaxis": "y"
        },
        {
         "alignmentgroup": "True",
         "customdata": [
          [
           "Product",
           "EST",
           "Toronto",
           "Rodney Adams",
           [
            "Java",
            "Typescript",
            "JavaScript"
           ]
          ],
          [
           "Product",
           "EST",
           "Toronto",
           "Emily Hall",
           [
            "JavaScript"
           ]
          ],
          [
           "Product",
           "EST",
           "Toronto",
           "Theresa Campbell",
           []
          ]
         ],
         "hovertemplate": "<b>%{hovertext}</b><br><br>team=%{customdata[0]}<br>country=CAN<br>title=%{x}<br>count=%{y}<br>tz=%{customdata[1]}<br>city=%{customdata[2]}<br>manager=%{customdata[3]}<br>languages=%{customdata[4]}<extra></extra>",
         "hovertext": [
          "Leonard Miller",
          "Jodi Kelly",
          "Ashley Nelson"
         ],
         "legendgroup": "Product",
         "marker": {
          "color": "#19d3f3",
          "pattern": {
           "shape": ""
          }
         },
         "name": "Product",
         "offsetgroup": "Product",
         "orientation": "v",
         "showlegend": false,
         "textposition": "auto",
         "type": "bar",
         "x": [
          "Engineer",
          "Manager",
          "Manager"
         ],
         "xaxis": "x3",
         "y": [
          1,
          1,
          1
         ],
         "yaxis": "y3"
        },
        {
         "alignmentgroup": "True",
         "customdata": [
          [
           "Sales",
           "EST",
           "New York",
           "Jeffrey Green",
           [
            "JavaScript",
            "Typescript",
            "Python"
           ]
          ],
          [
           "Sales",
           "EST",
           "New York",
           "Jeffrey Green",
           [
            "Erlang",
            "Java",
            "Scala"
           ]
          ],
          [
           "Sales",
           "EST",
           "New York",
           "Jeffrey Green",
           [
            "Typescript",
            "JavaScript",
            "Python"
           ]
          ],
          [
           "Sales",
           "EST",
           "New York",
           "Jeffrey Green",
           [
            "Go",
            "JavaScript"
           ]
          ],
          [
           "Sales",
           "EST",
           "New York",
           "Jeffrey Green",
           []
          ]
         ],
         "hovertemplate": "<b>%{hovertext}</b><br><br>team=%{customdata[0]}<br>country=USA<br>title=%{x}<br>count=%{y}<br>tz=%{customdata[1]}<br>city=%{customdata[2]}<br>manager=%{customdata[3]}<br>languages=%{customdata[4]}<extra></extra>",
         "hovertext": [
          "Deanna Glass",
          "Laurie Lee",
          "Scott Krueger",
          "Melinda Jones",
          "Nicholas Murray"
         ],
         "legendgroup": "Sales",
         "marker": {
          "color": "#FF6692",
          "pattern": {
           "shape": ""
          }
         },
         "name": "Sales",
         "offsetgroup": "Sales",
         "orientation": "v",
         "showlegend": true,
         "textposition": "auto",
         "type": "bar",
         "x": [
          "Associate",
          "Associate",
          "Associate",
          "Associate",
          "Associate"
         ],
         "xaxis": "x",
         "y": [
          1,
          1,
          1,
          1,
          1
         ],
         "yaxis": "y"
        },
        {
         "alignmentgroup": "True",
         "customdata": [
          [
           "Sales",
           "UTC",
           "London",
           "Brittany Palmer",
           []
          ],
          [
           "Sales",
           "UTC",
           "London",
           "Jeffrey Green",
           [
            "JavaScript",
            "Python"
           ]
          ],
          [
           "Sales",
           "UTC",
           "London",
           "Jeffrey Green",
           [
            "JavaScript",
            "Java",
            "Typescript"
           ]
          ],
          [
           "Sales",
           "UTC",
           "London",
           "Jeffrey Green",
           [
            "Python"
           ]
          ],
          [
           "Sales",
           "UTC",
           "London",
           "Jeffrey Green",
           [
            "Java",
            "JavaScript"
           ]
          ],
          [
           "Sales",
           "UTC",
           "London",
           "Jeffrey Green",
           [
            "JavaScript",
            "Scala",
            "Typescript",
            "Python"
           ]
          ],
          [
           "Sales",
           "UTC",
           "London",
           "Jeffrey Green",
           [
            "Go"
           ]
          ],
          [
           "Sales",
           "UTC",
           "London",
           "Jeffrey Green",
           [
            "Scala"
           ]
          ],
          [
           "Sales",
           "UTC",
           "London",
           "Jeffrey Green",
           []
          ],
          [
           "Sales",
           "UTC",
           "London",
           "Jeffrey Green",
           [
            "JavaScript"
           ]
          ],
          [
           "Sales",
           "UTC",
           "London",
           "Jeffrey Green",
           []
          ],
          [
           "Sales",
           "UTC",
           "London",
           "Jeffrey Green",
           [
            "Go",
            "Java",
            "Typescript",
            "Python"
           ]
          ],
          [
           "Sales",
           "UTC",
           "London",
           "Jeffrey Green",
           [
            "Java",
            "Typescript"
           ]
          ],
          [
           "Sales",
           "UTC",
           "London",
           "Jeffrey Green",
           [
            "Typescript"
           ]
          ],
          [
           "Sales",
           "UTC",
           "London",
           "Jeffrey Green",
           [
            "JavaScript"
           ]
          ],
          [
           "Sales",
           "UTC",
           "London",
           "Jeffrey Green",
           [
            "Scala",
            "Java",
            "Typescript",
            "JavaScript"
           ]
          ],
          [
           "Sales",
           "UTC",
           "London",
           "Jeffrey Green",
           [
            "JavaScript"
           ]
          ],
          [
           "Sales",
           "UTC",
           "London",
           "Jeffrey Green",
           []
          ],
          [
           "Sales",
           "UTC",
           "London",
           "Jeffrey Green",
           [
            "Go",
            "Java",
            "Python"
           ]
          ],
          [
           "Sales",
           "UTC",
           "London",
           "Jeffrey Green",
           [
            "JavaScript",
            "Java",
            "Typescript",
            "Python"
           ]
          ]
         ],
         "hovertemplate": "<b>%{hovertext}</b><br><br>team=%{customdata[0]}<br>country=GBR<br>title=%{x}<br>count=%{y}<br>tz=%{customdata[1]}<br>city=%{customdata[2]}<br>manager=%{customdata[3]}<br>languages=%{customdata[4]}<extra></extra>",
         "hovertext": [
          "Jeffrey Green",
          "Keith Gillespie",
          "Norma Harding",
          "Joshua Cline",
          "Kelly Martin",
          "Carrie Paul",
          "Breanna Casey",
          "Robert Martin",
          "Megan Bennett",
          "Sylvia Patel",
          "Terri Thomas",
          "Susan Petersen",
          "Carolyn Mclaughlin",
          "Alyssa Smith",
          "Ronald Clark",
          "Bryan Fowler",
          "Maria Molina",
          "Julia Sanders",
          "Annette Anderson",
          "Leslie Leonard"
         ],
         "legendgroup": "Sales",
         "marker": {
          "color": "#FF6692",
          "pattern": {
           "shape": ""
          }
         },
         "name": "Sales",
         "offsetgroup": "Sales",
         "orientation": "v",
         "showlegend": false,
         "textposition": "auto",
         "type": "bar",
         "x": [
          "Associate",
          "Associate",
          "Associate",
          "Associate",
          "Associate",
          "Associate",
          "Associate",
          "Associate",
          "Associate",
          "Associate",
          "Associate",
          "Associate",
          "Associate",
          "Associate",
          "Associate",
          "Associate",
          "Associate",
          "Associate",
          "Associate",
          "Associate"
         ],
         "xaxis": "x2",
         "y": [
          1,
          1,
          1,
          1,
          1,
          1,
          1,
          1,
          1,
          1,
          1,
          1,
          1,
          1,
          1,
          1,
          1,
          1,
          1,
          1
         ],
         "yaxis": "y2"
        },
        {
         "alignmentgroup": "True",
         "customdata": [
          [
           "Sales",
           "EST",
           "Toronto",
           "Jeffrey Green",
           [
            "Typescript"
           ]
          ],
          [
           "Sales",
           "EST",
           "Toronto",
           "Jeffrey Green",
           []
          ],
          [
           "Sales",
           "EST",
           "Toronto",
           "Jeffrey Green",
           [
            "Java",
            "Scala"
           ]
          ],
          [
           "Sales",
           "EST",
           "Toronto",
           "Jeffrey Green",
           []
          ],
          [
           "Sales",
           "EST",
           "Toronto",
           "Jeffrey Green",
           []
          ]
         ],
         "hovertemplate": "<b>%{hovertext}</b><br><br>team=%{customdata[0]}<br>country=CAN<br>title=%{x}<br>count=%{y}<br>tz=%{customdata[1]}<br>city=%{customdata[2]}<br>manager=%{customdata[3]}<br>languages=%{customdata[4]}<extra></extra>",
         "hovertext": [
          "Kimberly Meza",
          "Larry Petersen",
          "Lori Vargas",
          "Dana Osborne",
          "Judy Morris"
         ],
         "legendgroup": "Sales",
         "marker": {
          "color": "#FF6692",
          "pattern": {
           "shape": ""
          }
         },
         "name": "Sales",
         "offsetgroup": "Sales",
         "orientation": "v",
         "showlegend": false,
         "textposition": "auto",
         "type": "bar",
         "x": [
          "Associate",
          "Associate",
          "Associate",
          "Associate",
          "Associate"
         ],
         "xaxis": "x3",
         "y": [
          1,
          1,
          1,
          1,
          1
         ],
         "yaxis": "y3"
        },
        {
         "alignmentgroup": "True",
         "customdata": [
          [
           "Support",
           "UTC",
           "Dublin",
           "Brittany Palmer",
           [
            "JavaScript",
            "Scala",
            "Typescript"
           ]
          ],
          [
           "Support",
           "UTC",
           "Dublin",
           "Elizabeth Zavala",
           [
            "Java",
            "JavaScript",
            "Python"
           ]
          ],
          [
           "Support",
           "UTC",
           "Dublin",
           "Elizabeth Zavala",
           []
          ],
          [
           "Support",
           "UTC",
           "Dublin",
           "Lori Stanton",
           []
          ],
          [
           "Support",
           "UTC",
           "Dublin",
           "Lori Stanton",
           [
            "Java",
            "Python"
           ]
          ],
          [
           "Support",
           "UTC",
           "Dublin",
           "Jason Thompson",
           [
            "Python"
           ]
          ],
          [
           "Support",
           "UTC",
           "Dublin",
           "Jason Thompson",
           [
            "Typescript",
            "JavaScript",
            "Python"
           ]
          ],
          [
           "Support",
           "UTC",
           "Dublin",
           "Jennifer Wilson",
           [
            "Go"
           ]
          ],
          [
           "Support",
           "UTC",
           "Dublin",
           "Brittany Palmer",
           [
            "Typescript",
            "JavaScript"
           ]
          ],
          [
           "Support",
           "UTC",
           "Dublin",
           "Karen Morrison",
           [
            "JavaScript"
           ]
          ],
          [
           "Support",
           "UTC",
           "Dublin",
           "Karen Morrison",
           [
            "JavaScript"
           ]
          ],
          [
           "Support",
           "UTC",
           "Dublin",
           "Karen Morrison",
           [
            "JavaScript",
            "Python"
           ]
          ],
          [
           "Support",
           "UTC",
           "Dublin",
           "Karen Morrison",
           [
            "Go",
            "Java",
            "JavaScript"
           ]
          ]
         ],
         "hovertemplate": "<b>%{hovertext}</b><br><br>team=%{customdata[0]}<br>country=IRL<br>title=%{x}<br>count=%{y}<br>tz=%{customdata[1]}<br>city=%{customdata[2]}<br>manager=%{customdata[3]}<br>languages=%{customdata[4]}<extra></extra>",
         "hovertext": [
          "Linda Grant",
          "Melissa Knox",
          "Alicia Johnson",
          "Mark Rivera",
          "Alexander Anderson",
          "Dr. Christopher Jones MD",
          "Sonia Hampton",
          "Elizabeth Obrien",
          "Karen Morrison",
          "Elizabeth Zavala",
          "Lori Stanton",
          "Jason Thompson",
          "Jennifer Wilson"
         ],
         "legendgroup": "Support",
         "marker": {
          "color": "#B6E880",
          "pattern": {
           "shape": ""
          }
         },
         "name": "Support",
         "offsetgroup": "Support",
         "orientation": "v",
         "showlegend": true,
         "textposition": "auto",
         "type": "bar",
         "x": [
          "Analyst",
          "Analyst",
          "Analyst",
          "Analyst",
          "Analyst",
          "Analyst",
          "Analyst",
          "Analyst",
          "Manager",
          "Manager",
          "Manager",
          "Manager",
          "Manager"
         ],
         "xaxis": "x4",
         "y": [
          1,
          1,
          1,
          1,
          1,
          1,
          1,
          1,
          1,
          1,
          1,
          1,
          1
         ],
         "yaxis": "y4"
        },
        {
         "alignmentgroup": "True",
         "customdata": [
          [
           "CEO",
           "PST",
           "Seattle",
           "Brittany Palmer",
           [
            "JavaScript"
           ]
          ]
         ],
         "hovertemplate": "<b>%{hovertext}</b><br><br>team=%{customdata[0]}<br>country=USA<br>title=%{x}<br>count=%{y}<br>tz=%{customdata[1]}<br>city=%{customdata[2]}<br>manager=%{customdata[3]}<br>languages=%{customdata[4]}<extra></extra>",
         "hovertext": [
          "Brittany Palmer"
         ],
         "legendgroup": "CEO",
         "marker": {
          "color": "#FF97FF",
          "pattern": {
           "shape": ""
          }
         },
         "name": "CEO",
         "offsetgroup": "CEO",
         "orientation": "v",
         "showlegend": true,
         "textposition": "auto",
         "type": "bar",
         "x": [
          "CEO"
         ],
         "xaxis": "x",
         "y": [
          1
         ],
         "yaxis": "y"
        }
       ],
       "layout": {
        "annotations": [
         {
          "font": {},
          "showarrow": false,
          "text": "country=USA",
          "x": 0.1175,
          "xanchor": "center",
          "xref": "paper",
          "y": 1,
          "yanchor": "bottom",
          "yref": "paper"
         },
         {
          "font": {},
          "showarrow": false,
          "text": "country=GBR",
          "x": 0.3725,
          "xanchor": "center",
          "xref": "paper",
          "y": 1,
          "yanchor": "bottom",
          "yref": "paper"
         },
         {
          "font": {},
          "showarrow": false,
          "text": "country=CAN",
          "x": 0.6275,
          "xanchor": "center",
          "xref": "paper",
          "y": 1,
          "yanchor": "bottom",
          "yref": "paper"
         },
         {
          "font": {},
          "showarrow": false,
          "text": "country=IRL",
          "x": 0.8824999999999998,
          "xanchor": "center",
          "xref": "paper",
          "y": 1,
          "yanchor": "bottom",
          "yref": "paper"
         }
        ],
        "barmode": "relative",
        "legend": {
         "title": {
          "text": "team"
         },
         "tracegroupgap": 0
        },
        "margin": {
         "t": 60
        },
        "template": {
         "data": {
          "bar": [
           {
            "error_x": {
             "color": "#f2f5fa"
            },
            "error_y": {
             "color": "#f2f5fa"
            },
            "marker": {
             "line": {
              "color": "rgb(17,17,17)",
              "width": 0.5
             },
             "pattern": {
              "fillmode": "overlay",
              "size": 10,
              "solidity": 0.2
             }
            },
            "type": "bar"
           }
          ],
          "barpolar": [
           {
            "marker": {
             "line": {
              "color": "rgb(17,17,17)",
              "width": 0.5
             },
             "pattern": {
              "fillmode": "overlay",
              "size": 10,
              "solidity": 0.2
             }
            },
            "type": "barpolar"
           }
          ],
          "carpet": [
           {
            "aaxis": {
             "endlinecolor": "#A2B1C6",
             "gridcolor": "#506784",
             "linecolor": "#506784",
             "minorgridcolor": "#506784",
             "startlinecolor": "#A2B1C6"
            },
            "baxis": {
             "endlinecolor": "#A2B1C6",
             "gridcolor": "#506784",
             "linecolor": "#506784",
             "minorgridcolor": "#506784",
             "startlinecolor": "#A2B1C6"
            },
            "type": "carpet"
           }
          ],
          "choropleth": [
           {
            "colorbar": {
             "outlinewidth": 0,
             "ticks": ""
            },
            "type": "choropleth"
           }
          ],
          "contour": [
           {
            "colorbar": {
             "outlinewidth": 0,
             "ticks": ""
            },
            "colorscale": [
             [
              0,
              "#0d0887"
             ],
             [
              0.1111111111111111,
              "#46039f"
             ],
             [
              0.2222222222222222,
              "#7201a8"
             ],
             [
              0.3333333333333333,
              "#9c179e"
             ],
             [
              0.4444444444444444,
              "#bd3786"
             ],
             [
              0.5555555555555556,
              "#d8576b"
             ],
             [
              0.6666666666666666,
              "#ed7953"
             ],
             [
              0.7777777777777778,
              "#fb9f3a"
             ],
             [
              0.8888888888888888,
              "#fdca26"
             ],
             [
              1,
              "#f0f921"
             ]
            ],
            "type": "contour"
           }
          ],
          "contourcarpet": [
           {
            "colorbar": {
             "outlinewidth": 0,
             "ticks": ""
            },
            "type": "contourcarpet"
           }
          ],
          "heatmap": [
           {
            "colorbar": {
             "outlinewidth": 0,
             "ticks": ""
            },
            "colorscale": [
             [
              0,
              "#0d0887"
             ],
             [
              0.1111111111111111,
              "#46039f"
             ],
             [
              0.2222222222222222,
              "#7201a8"
             ],
             [
              0.3333333333333333,
              "#9c179e"
             ],
             [
              0.4444444444444444,
              "#bd3786"
             ],
             [
              0.5555555555555556,
              "#d8576b"
             ],
             [
              0.6666666666666666,
              "#ed7953"
             ],
             [
              0.7777777777777778,
              "#fb9f3a"
             ],
             [
              0.8888888888888888,
              "#fdca26"
             ],
             [
              1,
              "#f0f921"
             ]
            ],
            "type": "heatmap"
           }
          ],
          "heatmapgl": [
           {
            "colorbar": {
             "outlinewidth": 0,
             "ticks": ""
            },
            "colorscale": [
             [
              0,
              "#0d0887"
             ],
             [
              0.1111111111111111,
              "#46039f"
             ],
             [
              0.2222222222222222,
              "#7201a8"
             ],
             [
              0.3333333333333333,
              "#9c179e"
             ],
             [
              0.4444444444444444,
              "#bd3786"
             ],
             [
              0.5555555555555556,
              "#d8576b"
             ],
             [
              0.6666666666666666,
              "#ed7953"
             ],
             [
              0.7777777777777778,
              "#fb9f3a"
             ],
             [
              0.8888888888888888,
              "#fdca26"
             ],
             [
              1,
              "#f0f921"
             ]
            ],
            "type": "heatmapgl"
           }
          ],
          "histogram": [
           {
            "marker": {
             "pattern": {
              "fillmode": "overlay",
              "size": 10,
              "solidity": 0.2
             }
            },
            "type": "histogram"
           }
          ],
          "histogram2d": [
           {
            "colorbar": {
             "outlinewidth": 0,
             "ticks": ""
            },
            "colorscale": [
             [
              0,
              "#0d0887"
             ],
             [
              0.1111111111111111,
              "#46039f"
             ],
             [
              0.2222222222222222,
              "#7201a8"
             ],
             [
              0.3333333333333333,
              "#9c179e"
             ],
             [
              0.4444444444444444,
              "#bd3786"
             ],
             [
              0.5555555555555556,
              "#d8576b"
             ],
             [
              0.6666666666666666,
              "#ed7953"
             ],
             [
              0.7777777777777778,
              "#fb9f3a"
             ],
             [
              0.8888888888888888,
              "#fdca26"
             ],
             [
              1,
              "#f0f921"
             ]
            ],
            "type": "histogram2d"
           }
          ],
          "histogram2dcontour": [
           {
            "colorbar": {
             "outlinewidth": 0,
             "ticks": ""
            },
            "colorscale": [
             [
              0,
              "#0d0887"
             ],
             [
              0.1111111111111111,
              "#46039f"
             ],
             [
              0.2222222222222222,
              "#7201a8"
             ],
             [
              0.3333333333333333,
              "#9c179e"
             ],
             [
              0.4444444444444444,
              "#bd3786"
             ],
             [
              0.5555555555555556,
              "#d8576b"
             ],
             [
              0.6666666666666666,
              "#ed7953"
             ],
             [
              0.7777777777777778,
              "#fb9f3a"
             ],
             [
              0.8888888888888888,
              "#fdca26"
             ],
             [
              1,
              "#f0f921"
             ]
            ],
            "type": "histogram2dcontour"
           }
          ],
          "mesh3d": [
           {
            "colorbar": {
             "outlinewidth": 0,
             "ticks": ""
            },
            "type": "mesh3d"
           }
          ],
          "parcoords": [
           {
            "line": {
             "colorbar": {
              "outlinewidth": 0,
              "ticks": ""
             }
            },
            "type": "parcoords"
           }
          ],
          "pie": [
           {
            "automargin": true,
            "type": "pie"
           }
          ],
          "scatter": [
           {
            "marker": {
             "line": {
              "color": "#283442"
             }
            },
            "type": "scatter"
           }
          ],
          "scatter3d": [
           {
            "line": {
             "colorbar": {
              "outlinewidth": 0,
              "ticks": ""
             }
            },
            "marker": {
             "colorbar": {
              "outlinewidth": 0,
              "ticks": ""
             }
            },
            "type": "scatter3d"
           }
          ],
          "scattercarpet": [
           {
            "marker": {
             "colorbar": {
              "outlinewidth": 0,
              "ticks": ""
             }
            },
            "type": "scattercarpet"
           }
          ],
          "scattergeo": [
           {
            "marker": {
             "colorbar": {
              "outlinewidth": 0,
              "ticks": ""
             }
            },
            "type": "scattergeo"
           }
          ],
          "scattergl": [
           {
            "marker": {
             "line": {
              "color": "#283442"
             }
            },
            "type": "scattergl"
           }
          ],
          "scattermapbox": [
           {
            "marker": {
             "colorbar": {
              "outlinewidth": 0,
              "ticks": ""
             }
            },
            "type": "scattermapbox"
           }
          ],
          "scatterpolar": [
           {
            "marker": {
             "colorbar": {
              "outlinewidth": 0,
              "ticks": ""
             }
            },
            "type": "scatterpolar"
           }
          ],
          "scatterpolargl": [
           {
            "marker": {
             "colorbar": {
              "outlinewidth": 0,
              "ticks": ""
             }
            },
            "type": "scatterpolargl"
           }
          ],
          "scatterternary": [
           {
            "marker": {
             "colorbar": {
              "outlinewidth": 0,
              "ticks": ""
             }
            },
            "type": "scatterternary"
           }
          ],
          "surface": [
           {
            "colorbar": {
             "outlinewidth": 0,
             "ticks": ""
            },
            "colorscale": [
             [
              0,
              "#0d0887"
             ],
             [
              0.1111111111111111,
              "#46039f"
             ],
             [
              0.2222222222222222,
              "#7201a8"
             ],
             [
              0.3333333333333333,
              "#9c179e"
             ],
             [
              0.4444444444444444,
              "#bd3786"
             ],
             [
              0.5555555555555556,
              "#d8576b"
             ],
             [
              0.6666666666666666,
              "#ed7953"
             ],
             [
              0.7777777777777778,
              "#fb9f3a"
             ],
             [
              0.8888888888888888,
              "#fdca26"
             ],
             [
              1,
              "#f0f921"
             ]
            ],
            "type": "surface"
           }
          ],
          "table": [
           {
            "cells": {
             "fill": {
              "color": "#506784"
             },
             "line": {
              "color": "rgb(17,17,17)"
             }
            },
            "header": {
             "fill": {
              "color": "#2a3f5f"
             },
             "line": {
              "color": "rgb(17,17,17)"
             }
            },
            "type": "table"
           }
          ]
         },
         "layout": {
          "annotationdefaults": {
           "arrowcolor": "#f2f5fa",
           "arrowhead": 0,
           "arrowwidth": 1
          },
          "autotypenumbers": "strict",
          "coloraxis": {
           "colorbar": {
            "outlinewidth": 0,
            "ticks": ""
           }
          },
          "colorscale": {
           "diverging": [
            [
             0,
             "#8e0152"
            ],
            [
             0.1,
             "#c51b7d"
            ],
            [
             0.2,
             "#de77ae"
            ],
            [
             0.3,
             "#f1b6da"
            ],
            [
             0.4,
             "#fde0ef"
            ],
            [
             0.5,
             "#f7f7f7"
            ],
            [
             0.6,
             "#e6f5d0"
            ],
            [
             0.7,
             "#b8e186"
            ],
            [
             0.8,
             "#7fbc41"
            ],
            [
             0.9,
             "#4d9221"
            ],
            [
             1,
             "#276419"
            ]
           ],
           "sequential": [
            [
             0,
             "#0d0887"
            ],
            [
             0.1111111111111111,
             "#46039f"
            ],
            [
             0.2222222222222222,
             "#7201a8"
            ],
            [
             0.3333333333333333,
             "#9c179e"
            ],
            [
             0.4444444444444444,
             "#bd3786"
            ],
            [
             0.5555555555555556,
             "#d8576b"
            ],
            [
             0.6666666666666666,
             "#ed7953"
            ],
            [
             0.7777777777777778,
             "#fb9f3a"
            ],
            [
             0.8888888888888888,
             "#fdca26"
            ],
            [
             1,
             "#f0f921"
            ]
           ],
           "sequentialminus": [
            [
             0,
             "#0d0887"
            ],
            [
             0.1111111111111111,
             "#46039f"
            ],
            [
             0.2222222222222222,
             "#7201a8"
            ],
            [
             0.3333333333333333,
             "#9c179e"
            ],
            [
             0.4444444444444444,
             "#bd3786"
            ],
            [
             0.5555555555555556,
             "#d8576b"
            ],
            [
             0.6666666666666666,
             "#ed7953"
            ],
            [
             0.7777777777777778,
             "#fb9f3a"
            ],
            [
             0.8888888888888888,
             "#fdca26"
            ],
            [
             1,
             "#f0f921"
            ]
           ]
          },
          "colorway": [
           "#636efa",
           "#EF553B",
           "#00cc96",
           "#ab63fa",
           "#FFA15A",
           "#19d3f3",
           "#FF6692",
           "#B6E880",
           "#FF97FF",
           "#FECB52"
          ],
          "font": {
           "color": "#f2f5fa"
          },
          "geo": {
           "bgcolor": "rgb(17,17,17)",
           "lakecolor": "rgb(17,17,17)",
           "landcolor": "rgb(17,17,17)",
           "showlakes": true,
           "showland": true,
           "subunitcolor": "#506784"
          },
          "hoverlabel": {
           "align": "left"
          },
          "hovermode": "closest",
          "mapbox": {
           "style": "dark"
          },
          "paper_bgcolor": "rgb(17,17,17)",
          "plot_bgcolor": "rgb(17,17,17)",
          "polar": {
           "angularaxis": {
            "gridcolor": "#506784",
            "linecolor": "#506784",
            "ticks": ""
           },
           "bgcolor": "rgb(17,17,17)",
           "radialaxis": {
            "gridcolor": "#506784",
            "linecolor": "#506784",
            "ticks": ""
           }
          },
          "scene": {
           "xaxis": {
            "backgroundcolor": "rgb(17,17,17)",
            "gridcolor": "#506784",
            "gridwidth": 2,
            "linecolor": "#506784",
            "showbackground": true,
            "ticks": "",
            "zerolinecolor": "#C8D4E3"
           },
           "yaxis": {
            "backgroundcolor": "rgb(17,17,17)",
            "gridcolor": "#506784",
            "gridwidth": 2,
            "linecolor": "#506784",
            "showbackground": true,
            "ticks": "",
            "zerolinecolor": "#C8D4E3"
           },
           "zaxis": {
            "backgroundcolor": "rgb(17,17,17)",
            "gridcolor": "#506784",
            "gridwidth": 2,
            "linecolor": "#506784",
            "showbackground": true,
            "ticks": "",
            "zerolinecolor": "#C8D4E3"
           }
          },
          "shapedefaults": {
           "line": {
            "color": "#f2f5fa"
           }
          },
          "sliderdefaults": {
           "bgcolor": "#C8D4E3",
           "bordercolor": "rgb(17,17,17)",
           "borderwidth": 1,
           "tickwidth": 0
          },
          "ternary": {
           "aaxis": {
            "gridcolor": "#506784",
            "linecolor": "#506784",
            "ticks": ""
           },
           "baxis": {
            "gridcolor": "#506784",
            "linecolor": "#506784",
            "ticks": ""
           },
           "bgcolor": "rgb(17,17,17)",
           "caxis": {
            "gridcolor": "#506784",
            "linecolor": "#506784",
            "ticks": ""
           }
          },
          "title": {
           "x": 0.05
          },
          "updatemenudefaults": {
           "bgcolor": "#506784",
           "borderwidth": 0
          },
          "xaxis": {
           "automargin": true,
           "gridcolor": "#283442",
           "linecolor": "#506784",
           "ticks": "",
           "title": {
            "standoff": 15
           },
           "zerolinecolor": "#283442",
           "zerolinewidth": 2
          },
          "yaxis": {
           "automargin": true,
           "gridcolor": "#283442",
           "linecolor": "#506784",
           "ticks": "",
           "title": {
            "standoff": 15
           },
           "zerolinecolor": "#283442",
           "zerolinewidth": 2
          }
         }
        },
        "xaxis": {
         "anchor": "y",
         "domain": [
          0,
          0.235
         ],
         "title": {}
        },
        "xaxis2": {
         "anchor": "y2",
         "domain": [
          0.255,
          0.49
         ],
         "title": {}
        },
        "xaxis3": {
         "anchor": "y3",
         "domain": [
          0.51,
          0.745
         ],
         "title": {}
        },
        "xaxis4": {
         "anchor": "y4",
         "domain": [
          0.7649999999999999,
          0.9999999999999999
         ],
         "title": {}
        },
        "yaxis": {
         "anchor": "x",
         "domain": [
          0,
          1
         ],
         "title": {
          "text": "count"
         }
        },
        "yaxis2": {
         "anchor": "x2",
         "domain": [
          0,
          1
         ],
         "matches": "y",
         "showticklabels": false
        },
        "yaxis3": {
         "anchor": "x3",
         "domain": [
          0,
          1
         ],
         "matches": "y",
         "showticklabels": false
        },
        "yaxis4": {
         "anchor": "x4",
         "domain": [
          0,
          1
         ],
         "matches": "y",
         "showticklabels": false
        }
       }
      }
     },
     "metadata": {},
     "output_type": "display_data"
    }
   ],
   "source": [
    "import plotly.express as px\n",
    "\n",
    "fig = px.bar(\n",
    "    expanded_df,\n",
    "    x=\"title\",\n",
    "    color=\"team\",\n",
    "    hover_name=\"name\",\n",
    "    hover_data=[\"team\", \"tz\", \"city\",\"manager\",\"languages\"],\n",
    "    facet_col=\"country\",\n",
    "    template=\"plotly_dark\",\n",
    ")\n",
    "fig.update_xaxes(matches=None, title_text=None)\n"
   ]
  }
 ],
 "metadata": {
  "kernelspec": {
   "display_name": "peopleanalytics-hP1UcNMM",
   "language": "python",
   "name": "python3"
  },
  "language_info": {
   "codemirror_mode": {
    "name": "ipython",
    "version": 3
   },
   "file_extension": ".py",
   "mimetype": "text/x-python",
   "name": "python",
   "nbconvert_exporter": "python",
   "pygments_lexer": "ipython3",
   "version": "3.11.3"
  },
  "orig_nbformat": 4,
  "vscode": {
   "interpreter": {
    "hash": "a79ebb34bd880ae1609598d91f5437f974a2fc812a889a38194f0c3042249b1f"
   }
  }
 },
 "nbformat": 4,
 "nbformat_minor": 2
}
