{
 "cells": [
  {
   "attachments": {},
   "cell_type": "markdown",
   "metadata": {},
   "source": [
    "# People\n",
    "\n",
    "What are they? How can we represent people in a meaningful way without having *real* data to draw from. In our organization we should have a few key pieces of information on each person:\n",
    "\n",
    "* Unique identifier (a name would be great)\n",
    "* Office/Location\n",
    "* Job Title\n",
    "* Team / Line of Business\n",
    "* Manager (this is key to understanding how reporting works)\n",
    "* Other info: programming languages, apps used, timezone, date hired, projects worked on, ...\n",
    "\n",
    "## Faker\n",
    "\n",
    "Let's generate some fake data! https://faker.readthedocs.io/en/master/"
   ]
  },
  {
   "cell_type": "code",
   "execution_count": 1,
   "metadata": {},
   "outputs": [
    {
     "data": {
      "text/plain": [
       "{'job': 'Rural practice surveyor',\n",
       " 'company': 'Hoover-Wheeler',\n",
       " 'ssn': '694-45-7892',\n",
       " 'residence': '174 Kimberly Drives Suite 100\\nDavidland, TX 11410',\n",
       " 'current_location': (Decimal('-50.064406'), Decimal('37.725507')),\n",
       " 'blood_group': 'O-',\n",
       " 'website': ['http://decker-goodman.net/'],\n",
       " 'username': 'bonnie57',\n",
       " 'name': 'Melinda Smith',\n",
       " 'sex': 'F',\n",
       " 'address': 'PSC 3998, Box 2594\\nAPO AE 46207',\n",
       " 'mail': 'natasha33@gmail.com',\n",
       " 'birthdate': datetime.date(1936, 1, 20)}"
      ]
     },
     "execution_count": 1,
     "metadata": {},
     "output_type": "execute_result"
    }
   ],
   "source": [
    "from faker import Faker\n",
    "fake = Faker()\n",
    "\n",
    "fake.profile() # lots of great stuff in here!"
   ]
  },
  {
   "attachments": {},
   "cell_type": "markdown",
   "metadata": {},
   "source": [
    "We can also do things like ensure uniqueness for individual entries across all entries"
   ]
  },
  {
   "cell_type": "code",
   "execution_count": 2,
   "metadata": {},
   "outputs": [
    {
     "name": "stdout",
     "output_type": "stream",
     "text": [
      "Mr.\n",
      "Dr.\n",
      "Mrs.\n",
      "Mx.\n",
      "Miss\n",
      "Misc.\n",
      "Ind.\n",
      "Ms.\n",
      "😟\n"
     ]
    }
   ],
   "source": [
    "from faker.exceptions import UniquenessException\n",
    "try:\n",
    "    for i in range(10):\n",
    "        print(fake.unique.prefix())\n",
    "except UniquenessException:\n",
    "    print(\"😟\")"
   ]
  },
  {
   "cell_type": "markdown",
   "metadata": {},
   "source": [
    "Try generating a few people and see if it looks like a good representation of our organization"
   ]
  },
  {
   "cell_type": "code",
   "execution_count": 3,
   "metadata": {},
   "outputs": [
    {
     "data": {
      "text/plain": [
       "Ellipsis"
      ]
     },
     "execution_count": 3,
     "metadata": {},
     "output_type": "execute_result"
    }
   ],
   "source": [
    "..."
   ]
  },
  {
   "cell_type": "markdown",
   "metadata": {},
   "source": [
    "This is a good start but ... it's kind of wonky. We have people all over the world with so many different jobs! Let's keep the spirit of this but implement some of our own limitations on fields to ensure things line up with what we'd expect a company org to look like\n"
   ]
  },
  {
   "attachments": {},
   "cell_type": "markdown",
   "metadata": {},
   "source": [
    "First, a few more interesting features: we can also register new `providers` if anything is missing. If needed these can be customized for different locales "
   ]
  },
  {
   "cell_type": "code",
   "execution_count": 4,
   "metadata": {},
   "outputs": [
    {
     "data": {
      "text/plain": [
       "'Full Time'"
      ]
     },
     "execution_count": 4,
     "metadata": {},
     "output_type": "execute_result"
    }
   ],
   "source": [
    "from faker.providers import DynamicProvider\n",
    "\n",
    "employment_status_provider = DynamicProvider(\n",
    "     provider_name=\"employment\",\n",
    "     elements=[\"Full Time\", \"Part Time\", \"Contract\"],\n",
    ")\n",
    "\n",
    "fake.add_provider(employment_status_provider)\n",
    "\n",
    "fake.employment()"
   ]
  },
  {
   "attachments": {},
   "cell_type": "markdown",
   "metadata": {},
   "source": [
    "We can customize this further by using the `Faker.BaseProvider`"
   ]
  },
  {
   "cell_type": "code",
   "execution_count": 5,
   "metadata": {},
   "outputs": [
    {
     "data": {
      "text/plain": [
       "'Full Time'"
      ]
     },
     "execution_count": 5,
     "metadata": {},
     "output_type": "execute_result"
    }
   ],
   "source": [
    "# first, import a similar Provider or use the default one\n",
    "from more_itertools import one\n",
    "from faker.providers import BaseProvider\n",
    "\n",
    "# create new provider class\n",
    "class EmploymentStatus(BaseProvider):\n",
    "    statuses = {\"Full Time\": 0.7, \"Part Time\": 0.05, \"Contract\": 0.3}\n",
    "    def employment(self) -> str:\n",
    "        return one(fake.random.choices(\n",
    "            list(self.statuses), \n",
    "            weights=self.statuses.values()\n",
    "        ))\n",
    "\n",
    "# then add new provider to faker instance\n",
    "fake.add_provider(EmploymentStatus)\n",
    "\n",
    "fake.employment()\n"
   ]
  },
  {
   "attachments": {},
   "cell_type": "markdown",
   "metadata": {},
   "source": [
    "### A Tech Focused Person Data"
   ]
  },
  {
   "attachments": {},
   "cell_type": "markdown",
   "metadata": {},
   "source": [
    "To ground us in this task, let's define a new `Person` object that we can fill up with info (and a few other objects):"
   ]
  },
  {
   "cell_type": "code",
   "execution_count": 6,
   "metadata": {},
   "outputs": [],
   "source": [
    "from dataclasses import dataclass, field\n",
    "from typing import Literal\n",
    "from enum import Enum, auto\n",
    "import datetime\n",
    "\n",
    "class timezone(str, Enum):\n",
    "    EST = auto()\n",
    "    PST = auto()\n",
    "    UTC = auto()\n",
    "\n",
    "@dataclass\n",
    "class Location:\n",
    "    city: str\n",
    "    tz: timezone\n",
    "    country: str\n",
    "\n",
    "@dataclass\n",
    "class Person:\n",
    "    \"\"\"Someone who works in our company!\"\"\"\n",
    "    name: str\n",
    "    hire_date: datetime.date\n",
    "    status: Literal[\"Full Time\", \"Part Time\", \"Contract\"]\n",
    "    languages: list[str] = field(default_factory=list)\n",
    "    manager:str = None\n",
    "    team: str = None \n",
    "    title: str = None\n",
    "    location: Location = None"
   ]
  },
  {
   "cell_type": "code",
   "execution_count": 7,
   "metadata": {},
   "outputs": [
    {
     "data": {
      "text/plain": [
       "Person(name='Employee #1', hire_date=datetime.date(2023, 12, 2), status='Full Time', languages=[], manager=None, team=None, title=None, location=Location(city='New York', tz='EST', country='USA'))"
      ]
     },
     "execution_count": 7,
     "metadata": {},
     "output_type": "execute_result"
    }
   ],
   "source": [
    "Person(name=\"Employee #1\",hire_date=datetime.date.today(), status=\"Full Time\", location=Location(\"New York\", \"EST\", \"USA\"))"
   ]
  },
  {
   "cell_type": "code",
   "execution_count": 8,
   "metadata": {},
   "outputs": [],
   "source": [
    "import numpy as np\n",
    "import random\n",
    "\n",
    "def choose_a_few(\n",
    "    options: list[str],\n",
    "    weights: list[int | float] = None,\n",
    "    max_choices: int = None,\n",
    "    min_choices: int = 0,\n",
    ") -> list[str]:\n",
    "    \"\"\"A helpful function to pick a random number of choices from a list of options\n",
    "    \n",
    "    By default skews the weights toward the first options in the list\"\"\"\n",
    "    max_choices = np.clip(max_choices or len(options), min_choices, len(options))\n",
    "    \n",
    "    # how many choices will we make this time?\n",
    "    divisor = max_choices * (max_choices + 1) / 2    \n",
    "    k_weights = [int(x) / divisor for x in range(max_choices, min_choices-1, -1)]\n",
    "    n_choices = np.random.choice(list(range(min_choices,max_choices+1)), p=k_weights)\n",
    "    \n",
    "    # make the choices\n",
    "    choices = random.choices(options, weights=weights, k=n_choices)\n",
    "    return list(set(choices))\n"
   ]
  },
  {
   "attachments": {},
   "cell_type": "markdown",
   "metadata": {},
   "source": [
    "Now to make some people. Let's re-use whatever we can from `Faker` and then add some more of our own fields. We can also extend where needed to keep our code clear and consistent:"
   ]
  },
  {
   "cell_type": "code",
   "execution_count": 9,
   "metadata": {},
   "outputs": [],
   "source": [
    "class ProgrammingLanguages(BaseProvider):    \n",
    "    languages = {\n",
    "        \"Python\": 0.25,\n",
    "        \"Scala\": 0.1,\n",
    "        \"Go\": 0.08,\n",
    "        \"JavaScript\": 0.3,\n",
    "        \"Java\": 0.3,\n",
    "        \"Typescript\": 0.17,\n",
    "        \"Erlang\": 0.01,\n",
    "        \"Elixir\": 0.001,\n",
    "    }\n",
    "    def programming_languages(self) -> str:\n",
    "        return choose_a_few(list(self.languages), weights=self.languages.values())\n",
    "\n",
    "fake.add_provider(ProgrammingLanguages)\n"
   ]
  },
  {
   "cell_type": "code",
   "execution_count": 10,
   "metadata": {},
   "outputs": [
    {
     "data": {
      "text/plain": [
       "Person(name='Steven Wilson', hire_date=datetime.date(2023, 5, 31), status='Full Time', languages=['Go'], manager=None, team=None, title=None, location=None)"
      ]
     },
     "execution_count": 10,
     "metadata": {},
     "output_type": "execute_result"
    }
   ],
   "source": [
    "def make_person() -> Person:\n",
    "    return Person(\n",
    "        name = fake.name(),\n",
    "        hire_date = fake.date_between(start_date=\"-3y\", end_date=\"today\"),\n",
    "        status = fake.employment(),\n",
    "        languages = fake.programming_languages(),\n",
    "        team = None, # hrmmmm this is harder\n",
    "        title = None, # let's be smarter with this\n",
    "        location = None, # let's also be smarter with this\n",
    "    )\n",
    "\n",
    "make_person()"
   ]
  },
  {
   "attachments": {},
   "cell_type": "markdown",
   "metadata": {},
   "source": [
    "Now we can generate more complex attributes in a smart way. Let's set up some rules about where offices are, what teams are in which offices, then pick titles based on other info (e.g. Developers probably know at least one language ... )"
   ]
  },
  {
   "cell_type": "code",
   "execution_count": 11,
   "metadata": {},
   "outputs": [
    {
     "data": {
      "text/plain": [
       "{'location': Location(city='London', tz='UTC', country='GBR'),\n",
       " 'title': 'VP',\n",
       " 'team': 'Sales'}"
      ]
     },
     "execution_count": 11,
     "metadata": {},
     "output_type": "execute_result"
    }
   ],
   "source": [
    "TEAM_TITLES:dict[str,list[str]] = {\n",
    "    \"DevX\": [\"Engineer\", \"Engineer\", \"Engineer\", \"Engineer\", \"Engineer\", \"AVP\"],\n",
    "    \"DevOps\": [\"Engineer\", \"Senior Engineer\", \"Manager\", \"Senior Manager\"],\n",
    "    \"Sales\": [\"Associate\", \"VP\"],\n",
    "    \"Support\": [\"Analyst\", \"Manager\"],\n",
    "    \"Platform\": [\"Engineer\", \"Senior Engineer\",\"Managing Engineer\", \"AVP\", \"VP\"],\n",
    "    \"Product\": [\"Engineer\", \"Manager\", \"Product Owner\", \"AVP\", \"VP\"],\n",
    "    \"Internal Tools\": [\"Engineer\", \"Senior Engineer\", \"Manager\", \"AVP\", \"VP\"],\n",
    "    \"Business\": [\"Analyst\", \"Associate\", \"Vice President\", \"Director\", \"Managing Director\"]\n",
    "}\n",
    "\n",
    "# codify the hierarchical structure\n",
    "allowed_teams_per_office = {\n",
    "    \"New York\": [\"Sales\", \"Product\", \"Business\"],\n",
    "    \"Toronto\": [\"Platform\", \"Product\", \"Internal Tools\", \"Sales\", \"Business\"],\n",
    "    \"Fort Lauderdale\": [\"DevX\"],\n",
    "    \"Dublin\": [\"DevOps\", \"Support\"],\n",
    "    \"London\": [\"Sales\", \"Business\"],\n",
    "    \"Seattle\": [\"Internal Tools\", \"Product\", \"Platform\"],\n",
    "}\n",
    "offices = {\n",
    "    location.city: location\n",
    "    for location in [\n",
    "        Location(\"New York\", tz=\"EST\", country=\"USA\"),\n",
    "        Location(\"Seattle\", tz=\"PST\", country=\"USA\"),\n",
    "        Location(\"Toronto\", tz=\"EST\", country=\"CAN\"),\n",
    "        Location(\"London\", tz=\"UTC\", country=\"GBR\"),\n",
    "        Location(\"Fort Lauderdale\", tz=\"EST\", country=\"USA\"),\n",
    "        Location(\"Dublin\", tz=\"UTC\", country=\"IRL\"),\n",
    "    ]\n",
    "}\n",
    "\n",
    "def title_city_team():\n",
    "    # just a few locations\n",
    "    allowed_titles_per_team = TEAM_TITLES\n",
    "    city = random.choice(list(offices))\n",
    "    team = random.choice(allowed_teams_per_office[city])\n",
    "    title = choose_a_few(\n",
    "        allowed_titles_per_team[team], max_choices=1, min_choices=1\n",
    "    ).pop()\n",
    "    \n",
    "    return {\n",
    "        \"location\": Location(city=city, tz=offices[city].tz, country=offices[city].country),\n",
    "        \"title\": title,\n",
    "        \"team\": team,\n",
    "    }\n",
    "\n",
    "\n",
    "title_city_team()\n"
   ]
  },
  {
   "attachments": {},
   "cell_type": "markdown",
   "metadata": {},
   "source": [
    "After running this we should have a better balanced org in terms of region + titles. Then we just need to add the connections in -- i.e. who's the boss?!"
   ]
  },
  {
   "cell_type": "code",
   "execution_count": 12,
   "metadata": {},
   "outputs": [],
   "source": [
    "def make_person() -> Person:\n",
    "    title_city_team_ = title_city_team()\n",
    "    technical = 1 if \"Engineer\" in title_city_team_[\"title\"] else 0\n",
    "    return Person(\n",
    "        name = fake.name(),\n",
    "        hire_date = fake.date_between(start_date=\"-3y\", end_date=\"today\").strftime(\"%Y%m%d\"),\n",
    "        status = fake.employment(),\n",
    "        languages = fake.programming_languages(),\n",
    "        **title_city_team_,\n",
    "    )\n"
   ]
  },
  {
   "cell_type": "code",
   "execution_count": 13,
   "metadata": {},
   "outputs": [
    {
     "data": {
      "text/html": [
       "<div>\n",
       "<style scoped>\n",
       "    .dataframe tbody tr th:only-of-type {\n",
       "        vertical-align: middle;\n",
       "    }\n",
       "\n",
       "    .dataframe tbody tr th {\n",
       "        vertical-align: top;\n",
       "    }\n",
       "\n",
       "    .dataframe thead th {\n",
       "        text-align: right;\n",
       "    }\n",
       "</style>\n",
       "<table border=\"1\" class=\"dataframe\">\n",
       "  <thead>\n",
       "    <tr style=\"text-align: right;\">\n",
       "      <th></th>\n",
       "      <th>name</th>\n",
       "      <th>hire_date</th>\n",
       "      <th>status</th>\n",
       "      <th>languages</th>\n",
       "      <th>manager</th>\n",
       "      <th>team</th>\n",
       "      <th>title</th>\n",
       "      <th>location</th>\n",
       "    </tr>\n",
       "  </thead>\n",
       "  <tbody>\n",
       "    <tr>\n",
       "      <th>0</th>\n",
       "      <td>Jason Burton</td>\n",
       "      <td>20231119</td>\n",
       "      <td>Full Time</td>\n",
       "      <td>[]</td>\n",
       "      <td>None</td>\n",
       "      <td>Support</td>\n",
       "      <td>Manager</td>\n",
       "      <td>{'city': 'Dublin', 'tz': 'UTC', 'country': 'IRL'}</td>\n",
       "    </tr>\n",
       "    <tr>\n",
       "      <th>1</th>\n",
       "      <td>Aaron Brooks</td>\n",
       "      <td>20210714</td>\n",
       "      <td>Full Time</td>\n",
       "      <td>[Python, Java]</td>\n",
       "      <td>None</td>\n",
       "      <td>Platform</td>\n",
       "      <td>Senior Engineer</td>\n",
       "      <td>{'city': 'Seattle', 'tz': 'PST', 'country': 'U...</td>\n",
       "    </tr>\n",
       "    <tr>\n",
       "      <th>2</th>\n",
       "      <td>Michael Gates</td>\n",
       "      <td>20210623</td>\n",
       "      <td>Full Time</td>\n",
       "      <td>[Scala, JavaScript, Java]</td>\n",
       "      <td>None</td>\n",
       "      <td>DevOps</td>\n",
       "      <td>Senior Engineer</td>\n",
       "      <td>{'city': 'Dublin', 'tz': 'UTC', 'country': 'IRL'}</td>\n",
       "    </tr>\n",
       "    <tr>\n",
       "      <th>3</th>\n",
       "      <td>Gwendolyn Hays</td>\n",
       "      <td>20221110</td>\n",
       "      <td>Full Time</td>\n",
       "      <td>[Python, JavaScript, Typescript]</td>\n",
       "      <td>None</td>\n",
       "      <td>Business</td>\n",
       "      <td>Vice President</td>\n",
       "      <td>{'city': 'London', 'tz': 'UTC', 'country': 'GBR'}</td>\n",
       "    </tr>\n",
       "    <tr>\n",
       "      <th>4</th>\n",
       "      <td>Kimberly Sanchez</td>\n",
       "      <td>20210112</td>\n",
       "      <td>Full Time</td>\n",
       "      <td>[]</td>\n",
       "      <td>None</td>\n",
       "      <td>Business</td>\n",
       "      <td>Analyst</td>\n",
       "      <td>{'city': 'New York', 'tz': 'EST', 'country': '...</td>\n",
       "    </tr>\n",
       "  </tbody>\n",
       "</table>\n",
       "</div>"
      ],
      "text/plain": [
       "               name hire_date     status                         languages  \\\n",
       "0      Jason Burton  20231119  Full Time                                []   \n",
       "1      Aaron Brooks  20210714  Full Time                    [Python, Java]   \n",
       "2     Michael Gates  20210623  Full Time         [Scala, JavaScript, Java]   \n",
       "3    Gwendolyn Hays  20221110  Full Time  [Python, JavaScript, Typescript]   \n",
       "4  Kimberly Sanchez  20210112  Full Time                                []   \n",
       "\n",
       "  manager      team            title  \\\n",
       "0    None   Support          Manager   \n",
       "1    None  Platform  Senior Engineer   \n",
       "2    None    DevOps  Senior Engineer   \n",
       "3    None  Business   Vice President   \n",
       "4    None  Business          Analyst   \n",
       "\n",
       "                                            location  \n",
       "0  {'city': 'Dublin', 'tz': 'UTC', 'country': 'IRL'}  \n",
       "1  {'city': 'Seattle', 'tz': 'PST', 'country': 'U...  \n",
       "2  {'city': 'Dublin', 'tz': 'UTC', 'country': 'IRL'}  \n",
       "3  {'city': 'London', 'tz': 'UTC', 'country': 'GBR'}  \n",
       "4  {'city': 'New York', 'tz': 'EST', 'country': '...  "
      ]
     },
     "execution_count": 13,
     "metadata": {},
     "output_type": "execute_result"
    }
   ],
   "source": [
    "import pandas as pd\n",
    "people_df = pd.DataFrame((make_person() for _ in range(150)))\n",
    "people_df.head()"
   ]
  },
  {
   "attachments": {},
   "cell_type": "markdown",
   "metadata": {},
   "source": [
    "So, let's group by Team and then pick a manager for everyone. Let's use these rules:\n",
    "\n",
    "* People report to someone of a higher title if possible, else to a peer\n",
    "* Reporting happens within a team\n",
    "* We already ordered `TEAM_TITLES` based on *rank*\n",
    "* Team leads should be listed as reporting to themselves (for now)"
   ]
  },
  {
   "cell_type": "code",
   "execution_count": 14,
   "metadata": {},
   "outputs": [
    {
     "data": {
      "text/html": [
       "<div>\n",
       "<style scoped>\n",
       "    .dataframe tbody tr th:only-of-type {\n",
       "        vertical-align: middle;\n",
       "    }\n",
       "\n",
       "    .dataframe tbody tr th {\n",
       "        vertical-align: top;\n",
       "    }\n",
       "\n",
       "    .dataframe thead th {\n",
       "        text-align: right;\n",
       "    }\n",
       "</style>\n",
       "<table border=\"1\" class=\"dataframe\">\n",
       "  <thead>\n",
       "    <tr style=\"text-align: right;\">\n",
       "      <th></th>\n",
       "      <th>name</th>\n",
       "      <th>hire_date</th>\n",
       "      <th>status</th>\n",
       "      <th>languages</th>\n",
       "      <th>manager</th>\n",
       "      <th>team</th>\n",
       "      <th>title</th>\n",
       "      <th>location</th>\n",
       "      <th>rank</th>\n",
       "    </tr>\n",
       "  </thead>\n",
       "  <tbody>\n",
       "    <tr>\n",
       "      <th>11</th>\n",
       "      <td>Jessica Perry</td>\n",
       "      <td>20201225</td>\n",
       "      <td>Contract</td>\n",
       "      <td>[]</td>\n",
       "      <td>None</td>\n",
       "      <td>Product</td>\n",
       "      <td>AVP</td>\n",
       "      <td>{'city': 'Seattle', 'tz': 'PST', 'country': 'U...</td>\n",
       "      <td>4.0</td>\n",
       "    </tr>\n",
       "    <tr>\n",
       "      <th>52</th>\n",
       "      <td>Nicole Jenkins</td>\n",
       "      <td>20201228</td>\n",
       "      <td>Contract</td>\n",
       "      <td>[Scala, Java]</td>\n",
       "      <td>None</td>\n",
       "      <td>DevX</td>\n",
       "      <td>Engineer</td>\n",
       "      <td>{'city': 'Fort Lauderdale', 'tz': 'EST', 'coun...</td>\n",
       "      <td>5.0</td>\n",
       "    </tr>\n",
       "    <tr>\n",
       "      <th>143</th>\n",
       "      <td>Richard Chandler</td>\n",
       "      <td>20220330</td>\n",
       "      <td>Full Time</td>\n",
       "      <td>[Scala]</td>\n",
       "      <td>None</td>\n",
       "      <td>Platform</td>\n",
       "      <td>Engineer</td>\n",
       "      <td>{'city': 'Seattle', 'tz': 'PST', 'country': 'U...</td>\n",
       "      <td>1.0</td>\n",
       "    </tr>\n",
       "  </tbody>\n",
       "</table>\n",
       "</div>"
      ],
      "text/plain": [
       "                 name hire_date     status      languages manager      team  \\\n",
       "11      Jessica Perry  20201225   Contract             []    None   Product   \n",
       "52     Nicole Jenkins  20201228   Contract  [Scala, Java]    None      DevX   \n",
       "143  Richard Chandler  20220330  Full Time        [Scala]    None  Platform   \n",
       "\n",
       "        title                                           location  rank  \n",
       "11        AVP  {'city': 'Seattle', 'tz': 'PST', 'country': 'U...   4.0  \n",
       "52   Engineer  {'city': 'Fort Lauderdale', 'tz': 'EST', 'coun...   5.0  \n",
       "143  Engineer  {'city': 'Seattle', 'tz': 'PST', 'country': 'U...   1.0  "
      ]
     },
     "execution_count": 14,
     "metadata": {},
     "output_type": "execute_result"
    }
   ],
   "source": [
    "# calculate team ranks\n",
    "ranks = {team: {title: rank + 1 for rank,title in enumerate(titles)} for team, titles in TEAM_TITLES.items()}\n",
    "for team in ranks:\n",
    "    people_df.loc[people_df.team==team, \"rank\"] = people_df.loc[people_df.team==team].title.map(ranks[team])\n",
    "people_df = people_df.sort_values(by=[\"team\",\"rank\"])\n",
    "people_df.sample(3)"
   ]
  },
  {
   "cell_type": "code",
   "execution_count": 15,
   "metadata": {},
   "outputs": [
    {
     "data": {
      "text/html": [
       "<div>\n",
       "<style scoped>\n",
       "    .dataframe tbody tr th:only-of-type {\n",
       "        vertical-align: middle;\n",
       "    }\n",
       "\n",
       "    .dataframe tbody tr th {\n",
       "        vertical-align: top;\n",
       "    }\n",
       "\n",
       "    .dataframe thead th {\n",
       "        text-align: right;\n",
       "    }\n",
       "</style>\n",
       "<table border=\"1\" class=\"dataframe\">\n",
       "  <thead>\n",
       "    <tr style=\"text-align: right;\">\n",
       "      <th></th>\n",
       "      <th>name</th>\n",
       "      <th>hire_date</th>\n",
       "      <th>status</th>\n",
       "      <th>languages</th>\n",
       "      <th>manager</th>\n",
       "      <th>team</th>\n",
       "      <th>title</th>\n",
       "      <th>location</th>\n",
       "      <th>rank</th>\n",
       "    </tr>\n",
       "  </thead>\n",
       "  <tbody>\n",
       "    <tr>\n",
       "      <th>58</th>\n",
       "      <td>Tiffany Austin</td>\n",
       "      <td>20220906</td>\n",
       "      <td>Full Time</td>\n",
       "      <td>[Scala, Go, Java]</td>\n",
       "      <td>Alyssa Rodriguez</td>\n",
       "      <td>DevX</td>\n",
       "      <td>Engineer</td>\n",
       "      <td>{'city': 'Fort Lauderdale', 'tz': 'EST', 'coun...</td>\n",
       "      <td>5.0</td>\n",
       "    </tr>\n",
       "    <tr>\n",
       "      <th>92</th>\n",
       "      <td>Melanie Moore</td>\n",
       "      <td>20211001</td>\n",
       "      <td>Full Time</td>\n",
       "      <td>[Typescript]</td>\n",
       "      <td>Melanie Moore</td>\n",
       "      <td>Platform</td>\n",
       "      <td>AVP</td>\n",
       "      <td>{'city': 'Toronto', 'tz': 'EST', 'country': 'C...</td>\n",
       "      <td>4.0</td>\n",
       "    </tr>\n",
       "    <tr>\n",
       "      <th>136</th>\n",
       "      <td>Zachary Edwards</td>\n",
       "      <td>20210606</td>\n",
       "      <td>Full Time</td>\n",
       "      <td>[Python]</td>\n",
       "      <td>Brian Lopez</td>\n",
       "      <td>Sales</td>\n",
       "      <td>VP</td>\n",
       "      <td>{'city': 'London', 'tz': 'UTC', 'country': 'GBR'}</td>\n",
       "      <td>2.0</td>\n",
       "    </tr>\n",
       "    <tr>\n",
       "      <th>118</th>\n",
       "      <td>April Williams</td>\n",
       "      <td>20210128</td>\n",
       "      <td>Contract</td>\n",
       "      <td>[JavaScript, Typescript, Java]</td>\n",
       "      <td>Kyle Graves</td>\n",
       "      <td>Sales</td>\n",
       "      <td>Associate</td>\n",
       "      <td>{'city': 'New York', 'tz': 'EST', 'country': '...</td>\n",
       "      <td>1.0</td>\n",
       "    </tr>\n",
       "    <tr>\n",
       "      <th>38</th>\n",
       "      <td>Barbara Guzman</td>\n",
       "      <td>20221120</td>\n",
       "      <td>Full Time</td>\n",
       "      <td>[]</td>\n",
       "      <td>Joanne Bridges</td>\n",
       "      <td>DevOps</td>\n",
       "      <td>Senior Engineer</td>\n",
       "      <td>{'city': 'Dublin', 'tz': 'UTC', 'country': 'IRL'}</td>\n",
       "      <td>2.0</td>\n",
       "    </tr>\n",
       "  </tbody>\n",
       "</table>\n",
       "</div>"
      ],
      "text/plain": [
       "                name hire_date     status                       languages  \\\n",
       "58    Tiffany Austin  20220906  Full Time               [Scala, Go, Java]   \n",
       "92     Melanie Moore  20211001  Full Time                    [Typescript]   \n",
       "136  Zachary Edwards  20210606  Full Time                        [Python]   \n",
       "118   April Williams  20210128   Contract  [JavaScript, Typescript, Java]   \n",
       "38    Barbara Guzman  20221120  Full Time                              []   \n",
       "\n",
       "              manager      team            title  \\\n",
       "58   Alyssa Rodriguez      DevX         Engineer   \n",
       "92      Melanie Moore  Platform              AVP   \n",
       "136       Brian Lopez     Sales               VP   \n",
       "118       Kyle Graves     Sales        Associate   \n",
       "38     Joanne Bridges    DevOps  Senior Engineer   \n",
       "\n",
       "                                              location  rank  \n",
       "58   {'city': 'Fort Lauderdale', 'tz': 'EST', 'coun...   5.0  \n",
       "92   {'city': 'Toronto', 'tz': 'EST', 'country': 'C...   4.0  \n",
       "136  {'city': 'London', 'tz': 'UTC', 'country': 'GBR'}   2.0  \n",
       "118  {'city': 'New York', 'tz': 'EST', 'country': '...   1.0  \n",
       "38   {'city': 'Dublin', 'tz': 'UTC', 'country': 'IRL'}   2.0  "
      ]
     },
     "execution_count": 15,
     "metadata": {},
     "output_type": "execute_result"
    }
   ],
   "source": [
    "# determine supervisor\n",
    "def naivereportsto(row, df, allow_peer_reports:bool=False):\n",
    "    supervisor = (\n",
    "        df[(df.index < row.name)].query(f\"\"\"rank > {row[\"rank\"]}\"\"\").tail(1)[\"name\"]\n",
    "    )\n",
    "    supervisor = supervisor.item() if not supervisor.empty else None\n",
    "    if not supervisor and allow_peer_reports:\n",
    "        peer = df[(df.index < row.name)].query(f\"\"\"rank  == {row[\"rank\"]}\"\"\").head(1)[\"name\"]\n",
    "        peer = peer.item() if not peer.empty else None\n",
    "        return supervisor or peer or row[\"name\"]\n",
    "    return supervisor or row[\"name\"]\n",
    "\n",
    "\n",
    "def reportsto(df, allow_peer_reports:bool):\n",
    "    return df.assign(manager=df.apply(naivereportsto, df=df, allow_peer_reports=allow_peer_reports, axis=1))\n",
    "\n",
    "\n",
    "def supervisors(df, allow_peer_reports:bool):\n",
    "    df = df.groupby(\"team\", group_keys=False).apply(reportsto, allow_peer_reports=allow_peer_reports).reset_index(drop=True)\n",
    "    return df\n",
    "\n",
    "\n",
    "people_df = people_df.pipe(supervisors, allow_peer_reports=True)\n",
    "people_df.sample(5)\n"
   ]
  },
  {
   "attachments": {},
   "cell_type": "markdown",
   "metadata": {},
   "source": [
    "Now we just need a CEO for all the team leads to report to. Set their manager as themselves to help us out later. We need to make sure to include all the other information in the DF that we just generated, namely `rank` and `manager`. Here let's also set the CEO as reporting to themselves "
   ]
  },
  {
   "cell_type": "code",
   "execution_count": 16,
   "metadata": {},
   "outputs": [],
   "source": [
    "CEO = make_person().__dict__ | {\"team\":\"CEO\", \"title\":\"CEO\", \"status\":\"Full Time\"}\n",
    "CEO[\"location\"] = CEO[\"location\"].__dict__\n",
    "people_df = pd.concat([people_df, pd.DataFrame([CEO])])\n",
    "CEO_mask = people_df.name==CEO[\"name\"]\n",
    "people_df.loc[(people_df.manager == people_df.name) | CEO_mask ,\"manager\"]=CEO[\"name\"]\n",
    "people_df.loc[CEO_mask, \"rank\"] = people_df[\"rank\"].max()+1"
   ]
  },
  {
   "attachments": {},
   "cell_type": "markdown",
   "metadata": {},
   "source": [
    "Alright, we have something now. Does this seems reasonably distributed? Let's use `plotly` to explore our people's dimensions and get a feel for the data"
   ]
  },
  {
   "cell_type": "code",
   "execution_count": 17,
   "metadata": {},
   "outputs": [
    {
     "data": {
      "text/html": [
       "<div>\n",
       "<style scoped>\n",
       "    .dataframe tbody tr th:only-of-type {\n",
       "        vertical-align: middle;\n",
       "    }\n",
       "\n",
       "    .dataframe tbody tr th {\n",
       "        vertical-align: top;\n",
       "    }\n",
       "\n",
       "    .dataframe thead th {\n",
       "        text-align: right;\n",
       "    }\n",
       "</style>\n",
       "<table border=\"1\" class=\"dataframe\">\n",
       "  <thead>\n",
       "    <tr style=\"text-align: right;\">\n",
       "      <th></th>\n",
       "      <th>name</th>\n",
       "      <th>hire_date</th>\n",
       "      <th>status</th>\n",
       "      <th>languages</th>\n",
       "      <th>manager</th>\n",
       "      <th>team</th>\n",
       "      <th>title</th>\n",
       "      <th>location</th>\n",
       "      <th>rank</th>\n",
       "      <th>city</th>\n",
       "      <th>tz</th>\n",
       "      <th>country</th>\n",
       "    </tr>\n",
       "  </thead>\n",
       "  <tbody>\n",
       "    <tr>\n",
       "      <th>0</th>\n",
       "      <td>Kimberly Sanchez</td>\n",
       "      <td>20210112</td>\n",
       "      <td>Full Time</td>\n",
       "      <td>[]</td>\n",
       "      <td>Gwendolyn Hays</td>\n",
       "      <td>Business</td>\n",
       "      <td>Analyst</td>\n",
       "      <td>{'city': 'New York', 'tz': 'EST', 'country': '...</td>\n",
       "      <td>1.0</td>\n",
       "      <td>New York</td>\n",
       "      <td>EST</td>\n",
       "      <td>USA</td>\n",
       "    </tr>\n",
       "    <tr>\n",
       "      <th>1</th>\n",
       "      <td>Gabriel Payne</td>\n",
       "      <td>20221027</td>\n",
       "      <td>Part Time</td>\n",
       "      <td>[Python, JavaScript]</td>\n",
       "      <td>Dr. Nathaniel Kim MD</td>\n",
       "      <td>Business</td>\n",
       "      <td>Analyst</td>\n",
       "      <td>{'city': 'New York', 'tz': 'EST', 'country': '...</td>\n",
       "      <td>1.0</td>\n",
       "      <td>New York</td>\n",
       "      <td>EST</td>\n",
       "      <td>USA</td>\n",
       "    </tr>\n",
       "    <tr>\n",
       "      <th>2</th>\n",
       "      <td>Jacqueline Adkins</td>\n",
       "      <td>20230725</td>\n",
       "      <td>Contract</td>\n",
       "      <td>[JavaScript, Java]</td>\n",
       "      <td>Dr. Nathaniel Kim MD</td>\n",
       "      <td>Business</td>\n",
       "      <td>Analyst</td>\n",
       "      <td>{'city': 'Toronto', 'tz': 'EST', 'country': 'C...</td>\n",
       "      <td>1.0</td>\n",
       "      <td>Toronto</td>\n",
       "      <td>EST</td>\n",
       "      <td>CAN</td>\n",
       "    </tr>\n",
       "    <tr>\n",
       "      <th>3</th>\n",
       "      <td>Ashley Meyer</td>\n",
       "      <td>20230818</td>\n",
       "      <td>Full Time</td>\n",
       "      <td>[JavaScript, Java]</td>\n",
       "      <td>Dr. Nathaniel Kim MD</td>\n",
       "      <td>Business</td>\n",
       "      <td>Analyst</td>\n",
       "      <td>{'city': 'London', 'tz': 'UTC', 'country': 'GBR'}</td>\n",
       "      <td>1.0</td>\n",
       "      <td>London</td>\n",
       "      <td>UTC</td>\n",
       "      <td>GBR</td>\n",
       "    </tr>\n",
       "    <tr>\n",
       "      <th>4</th>\n",
       "      <td>Kim Rowland</td>\n",
       "      <td>20220513</td>\n",
       "      <td>Full Time</td>\n",
       "      <td>[Java]</td>\n",
       "      <td>Gary Chambers</td>\n",
       "      <td>Business</td>\n",
       "      <td>Analyst</td>\n",
       "      <td>{'city': 'Toronto', 'tz': 'EST', 'country': 'C...</td>\n",
       "      <td>1.0</td>\n",
       "      <td>Toronto</td>\n",
       "      <td>EST</td>\n",
       "      <td>CAN</td>\n",
       "    </tr>\n",
       "    <tr>\n",
       "      <th>...</th>\n",
       "      <td>...</td>\n",
       "      <td>...</td>\n",
       "      <td>...</td>\n",
       "      <td>...</td>\n",
       "      <td>...</td>\n",
       "      <td>...</td>\n",
       "      <td>...</td>\n",
       "      <td>...</td>\n",
       "      <td>...</td>\n",
       "      <td>...</td>\n",
       "      <td>...</td>\n",
       "      <td>...</td>\n",
       "    </tr>\n",
       "    <tr>\n",
       "      <th>146</th>\n",
       "      <td>Mary Contreras</td>\n",
       "      <td>20220918</td>\n",
       "      <td>Contract</td>\n",
       "      <td>[JavaScript, Typescript, Java]</td>\n",
       "      <td>Jason Burton</td>\n",
       "      <td>Support</td>\n",
       "      <td>Manager</td>\n",
       "      <td>{'city': 'Dublin', 'tz': 'UTC', 'country': 'IRL'}</td>\n",
       "      <td>2.0</td>\n",
       "      <td>Dublin</td>\n",
       "      <td>UTC</td>\n",
       "      <td>IRL</td>\n",
       "    </tr>\n",
       "    <tr>\n",
       "      <th>147</th>\n",
       "      <td>Alicia Lee</td>\n",
       "      <td>20220401</td>\n",
       "      <td>Contract</td>\n",
       "      <td>[Python]</td>\n",
       "      <td>Jason Burton</td>\n",
       "      <td>Support</td>\n",
       "      <td>Manager</td>\n",
       "      <td>{'city': 'Dublin', 'tz': 'UTC', 'country': 'IRL'}</td>\n",
       "      <td>2.0</td>\n",
       "      <td>Dublin</td>\n",
       "      <td>UTC</td>\n",
       "      <td>IRL</td>\n",
       "    </tr>\n",
       "    <tr>\n",
       "      <th>148</th>\n",
       "      <td>Miranda Mendoza</td>\n",
       "      <td>20221015</td>\n",
       "      <td>Full Time</td>\n",
       "      <td>[]</td>\n",
       "      <td>Jason Burton</td>\n",
       "      <td>Support</td>\n",
       "      <td>Manager</td>\n",
       "      <td>{'city': 'Dublin', 'tz': 'UTC', 'country': 'IRL'}</td>\n",
       "      <td>2.0</td>\n",
       "      <td>Dublin</td>\n",
       "      <td>UTC</td>\n",
       "      <td>IRL</td>\n",
       "    </tr>\n",
       "    <tr>\n",
       "      <th>149</th>\n",
       "      <td>Angela Phelps</td>\n",
       "      <td>20230930</td>\n",
       "      <td>Full Time</td>\n",
       "      <td>[Python, JavaScript, Typescript, Java]</td>\n",
       "      <td>Jason Burton</td>\n",
       "      <td>Support</td>\n",
       "      <td>Manager</td>\n",
       "      <td>{'city': 'Dublin', 'tz': 'UTC', 'country': 'IRL'}</td>\n",
       "      <td>2.0</td>\n",
       "      <td>Dublin</td>\n",
       "      <td>UTC</td>\n",
       "      <td>IRL</td>\n",
       "    </tr>\n",
       "    <tr>\n",
       "      <th>0</th>\n",
       "      <td>Aaron Alexander</td>\n",
       "      <td>20210612</td>\n",
       "      <td>Full Time</td>\n",
       "      <td>[Python, Go, Java]</td>\n",
       "      <td>Aaron Alexander</td>\n",
       "      <td>CEO</td>\n",
       "      <td>CEO</td>\n",
       "      <td>{'city': 'Fort Lauderdale', 'tz': 'EST', 'coun...</td>\n",
       "      <td>7.0</td>\n",
       "      <td>Fort Lauderdale</td>\n",
       "      <td>EST</td>\n",
       "      <td>USA</td>\n",
       "    </tr>\n",
       "  </tbody>\n",
       "</table>\n",
       "<p>151 rows × 12 columns</p>\n",
       "</div>"
      ],
      "text/plain": [
       "                  name hire_date     status  \\\n",
       "0     Kimberly Sanchez  20210112  Full Time   \n",
       "1        Gabriel Payne  20221027  Part Time   \n",
       "2    Jacqueline Adkins  20230725   Contract   \n",
       "3         Ashley Meyer  20230818  Full Time   \n",
       "4          Kim Rowland  20220513  Full Time   \n",
       "..                 ...       ...        ...   \n",
       "146     Mary Contreras  20220918   Contract   \n",
       "147         Alicia Lee  20220401   Contract   \n",
       "148    Miranda Mendoza  20221015  Full Time   \n",
       "149      Angela Phelps  20230930  Full Time   \n",
       "0      Aaron Alexander  20210612  Full Time   \n",
       "\n",
       "                                  languages               manager      team  \\\n",
       "0                                        []        Gwendolyn Hays  Business   \n",
       "1                      [Python, JavaScript]  Dr. Nathaniel Kim MD  Business   \n",
       "2                        [JavaScript, Java]  Dr. Nathaniel Kim MD  Business   \n",
       "3                        [JavaScript, Java]  Dr. Nathaniel Kim MD  Business   \n",
       "4                                    [Java]         Gary Chambers  Business   \n",
       "..                                      ...                   ...       ...   \n",
       "146          [JavaScript, Typescript, Java]          Jason Burton   Support   \n",
       "147                                [Python]          Jason Burton   Support   \n",
       "148                                      []          Jason Burton   Support   \n",
       "149  [Python, JavaScript, Typescript, Java]          Jason Burton   Support   \n",
       "0                        [Python, Go, Java]       Aaron Alexander       CEO   \n",
       "\n",
       "       title                                           location  rank  \\\n",
       "0    Analyst  {'city': 'New York', 'tz': 'EST', 'country': '...   1.0   \n",
       "1    Analyst  {'city': 'New York', 'tz': 'EST', 'country': '...   1.0   \n",
       "2    Analyst  {'city': 'Toronto', 'tz': 'EST', 'country': 'C...   1.0   \n",
       "3    Analyst  {'city': 'London', 'tz': 'UTC', 'country': 'GBR'}   1.0   \n",
       "4    Analyst  {'city': 'Toronto', 'tz': 'EST', 'country': 'C...   1.0   \n",
       "..       ...                                                ...   ...   \n",
       "146  Manager  {'city': 'Dublin', 'tz': 'UTC', 'country': 'IRL'}   2.0   \n",
       "147  Manager  {'city': 'Dublin', 'tz': 'UTC', 'country': 'IRL'}   2.0   \n",
       "148  Manager  {'city': 'Dublin', 'tz': 'UTC', 'country': 'IRL'}   2.0   \n",
       "149  Manager  {'city': 'Dublin', 'tz': 'UTC', 'country': 'IRL'}   2.0   \n",
       "0        CEO  {'city': 'Fort Lauderdale', 'tz': 'EST', 'coun...   7.0   \n",
       "\n",
       "                city   tz country  \n",
       "0           New York  EST     USA  \n",
       "1           New York  EST     USA  \n",
       "2            Toronto  EST     CAN  \n",
       "3             London  UTC     GBR  \n",
       "4            Toronto  EST     CAN  \n",
       "..               ...  ...     ...  \n",
       "146           Dublin  UTC     IRL  \n",
       "147           Dublin  UTC     IRL  \n",
       "148           Dublin  UTC     IRL  \n",
       "149           Dublin  UTC     IRL  \n",
       "0    Fort Lauderdale  EST     USA  \n",
       "\n",
       "[151 rows x 12 columns]"
      ]
     },
     "execution_count": 17,
     "metadata": {},
     "output_type": "execute_result"
    }
   ],
   "source": [
    "# let's flatten the nested pieces of the DataFrame (`people_df.location`)\n",
    "expanded_df = people_df.assign(**people_df.location.apply(pd.Series))\n",
    "expanded_df"
   ]
  },
  {
   "cell_type": "code",
   "execution_count": 18,
   "metadata": {},
   "outputs": [
    {
     "data": {
      "application/vnd.plotly.v1+json": {
       "config": {
        "plotlyServerURL": "https://plot.ly"
       },
       "data": [
        {
         "alignmentgroup": "True",
         "customdata": [
          [
           "Business",
           "EST",
           "New York",
           "Gwendolyn Hays",
           []
          ],
          [
           "Business",
           "EST",
           "New York",
           "Dr. Nathaniel Kim MD",
           [
            "Python",
            "JavaScript"
           ]
          ],
          [
           "Business",
           "EST",
           "New York",
           "William Ponce",
           [
            "Scala",
            "Java"
           ]
          ],
          [
           "Business",
           "EST",
           "New York",
           "Dr. Nathaniel Kim MD",
           [
            "Python",
            "JavaScript",
            "Go"
           ]
          ],
          [
           "Business",
           "EST",
           "New York",
           "Dr. Nathaniel Kim MD",
           [
            "Java"
           ]
          ],
          [
           "Business",
           "EST",
           "New York",
           "Emma Jennings",
           [
            "Python",
            "Java"
           ]
          ],
          [
           "Business",
           "EST",
           "New York",
           "Gary Chambers",
           [
            "Java"
           ]
          ],
          [
           "Business",
           "EST",
           "New York",
           "Dr. Nathaniel Kim MD",
           []
          ],
          [
           "Business",
           "EST",
           "New York",
           "Dr. Nathaniel Kim MD",
           [
            "Typescript"
           ]
          ],
          [
           "Business",
           "EST",
           "New York",
           "Aaron Alexander",
           [
            "Java"
           ]
          ]
         ],
         "hovertemplate": "<b>%{hovertext}</b><br><br>team=%{customdata[0]}<br>country=USA<br>title=%{x}<br>count=%{y}<br>tz=%{customdata[1]}<br>city=%{customdata[2]}<br>manager=%{customdata[3]}<br>languages=%{customdata[4]}<extra></extra>",
         "hovertext": [
          "Kimberly Sanchez",
          "Gabriel Payne",
          "Melissa Matthews",
          "Johnny Villegas",
          "Robin Dean",
          "Jason Chavez",
          "Brittney Klein",
          "Maria Shelton",
          "Richard Bennett",
          "Emma Jennings"
         ],
         "legendgroup": "Business",
         "marker": {
          "color": "#636efa",
          "pattern": {
           "shape": ""
          }
         },
         "name": "Business",
         "offsetgroup": "Business",
         "orientation": "v",
         "showlegend": true,
         "textposition": "auto",
         "type": "bar",
         "x": [
          "Analyst",
          "Analyst",
          "Associate",
          "Associate",
          "Associate",
          "Vice President",
          "Vice President",
          "Director",
          "Director",
          "Managing Director"
         ],
         "xaxis": "x",
         "y": [
          1,
          1,
          1,
          1,
          1,
          1,
          1,
          1,
          1,
          1
         ],
         "yaxis": "y"
        },
        {
         "alignmentgroup": "True",
         "customdata": [
          [
           "Business",
           "EST",
           "Toronto",
           "Dr. Nathaniel Kim MD",
           [
            "JavaScript",
            "Java"
           ]
          ],
          [
           "Business",
           "EST",
           "Toronto",
           "Gary Chambers",
           [
            "Java"
           ]
          ],
          [
           "Business",
           "EST",
           "Toronto",
           "Dr. Nathaniel Kim MD",
           [
            "Scala",
            "JavaScript",
            "Go",
            "Java"
           ]
          ],
          [
           "Business",
           "EST",
           "Toronto",
           "Dr. Nathaniel Kim MD",
           [
            "Python",
            "JavaScript"
           ]
          ],
          [
           "Business",
           "EST",
           "Toronto",
           "Dr. Nathaniel Kim MD",
           [
            "Python",
            "Scala",
            "JavaScript",
            "Typescript",
            "Java"
           ]
          ],
          [
           "Business",
           "EST",
           "Toronto",
           "Gary Chambers",
           [
            "Python",
            "JavaScript",
            "Typescript"
           ]
          ],
          [
           "Business",
           "EST",
           "Toronto",
           "Gary Chambers",
           [
            "Python",
            "JavaScript",
            "Typescript"
           ]
          ],
          [
           "Business",
           "EST",
           "Toronto",
           "Emma Jennings",
           []
          ],
          [
           "Business",
           "EST",
           "Toronto",
           "Emma Jennings",
           []
          ]
         ],
         "hovertemplate": "<b>%{hovertext}</b><br><br>team=%{customdata[0]}<br>country=CAN<br>title=%{x}<br>count=%{y}<br>tz=%{customdata[1]}<br>city=%{customdata[2]}<br>manager=%{customdata[3]}<br>languages=%{customdata[4]}<extra></extra>",
         "hovertext": [
          "Jacqueline Adkins",
          "Kim Rowland",
          "Maria Hardin",
          "Richard Wright",
          "Tyler Salazar",
          "Gabrielle Harrison",
          "Taylor Martinez",
          "Shelby Hess",
          "Gary Chambers"
         ],
         "legendgroup": "Business",
         "marker": {
          "color": "#636efa",
          "pattern": {
           "shape": ""
          }
         },
         "name": "Business",
         "offsetgroup": "Business",
         "orientation": "v",
         "showlegend": false,
         "textposition": "auto",
         "type": "bar",
         "x": [
          "Analyst",
          "Analyst",
          "Vice President",
          "Director",
          "Director",
          "Director",
          "Director",
          "Managing Director",
          "Managing Director"
         ],
         "xaxis": "x2",
         "y": [
          1,
          1,
          1,
          1,
          1,
          1,
          1,
          1,
          1
         ],
         "yaxis": "y2"
        },
        {
         "alignmentgroup": "True",
         "customdata": [
          [
           "Business",
           "UTC",
           "London",
           "Dr. Nathaniel Kim MD",
           [
            "JavaScript",
            "Java"
           ]
          ],
          [
           "Business",
           "UTC",
           "London",
           "Dr. Nathaniel Kim MD",
           [
            "Python",
            "Scala",
            "Typescript",
            "Java"
           ]
          ],
          [
           "Business",
           "UTC",
           "London",
           "Gary Chambers",
           [
            "Scala",
            "Java"
           ]
          ],
          [
           "Business",
           "UTC",
           "London",
           "Gary Chambers",
           [
            "Python",
            "Scala",
            "Typescript"
           ]
          ],
          [
           "Business",
           "UTC",
           "London",
           "Aaron Alexander",
           [
            "Python",
            "JavaScript",
            "Typescript"
           ]
          ],
          [
           "Business",
           "UTC",
           "London",
           "Dr. Nathaniel Kim MD",
           [
            "Go",
            "Java"
           ]
          ],
          [
           "Business",
           "UTC",
           "London",
           "Dr. Nathaniel Kim MD",
           [
            "Python"
           ]
          ],
          [
           "Business",
           "UTC",
           "London",
           "Gary Chambers",
           []
          ],
          [
           "Business",
           "UTC",
           "London",
           "Gary Chambers",
           []
          ],
          [
           "Business",
           "UTC",
           "London",
           "Shelby Hess",
           [
            "JavaScript",
            "Java"
           ]
          ],
          [
           "Business",
           "UTC",
           "London",
           "Emma Jennings",
           [
            "Python",
            "Typescript",
            "Java"
           ]
          ],
          [
           "Business",
           "UTC",
           "London",
           "Emma Jennings",
           [
            "JavaScript",
            "Java"
           ]
          ],
          [
           "Business",
           "UTC",
           "London",
           "Emma Jennings",
           []
          ]
         ],
         "hovertemplate": "<b>%{hovertext}</b><br><br>team=%{customdata[0]}<br>country=GBR<br>title=%{x}<br>count=%{y}<br>tz=%{customdata[1]}<br>city=%{customdata[2]}<br>manager=%{customdata[3]}<br>languages=%{customdata[4]}<extra></extra>",
         "hovertext": [
          "Ashley Meyer",
          "Terrence Martin",
          "Jasmine Reynolds",
          "Debra Snyder",
          "Gwendolyn Hays",
          "Michael Collins",
          "Amy Thomas",
          "Anita Allen",
          "Ryan Stewart",
          "Nicholas Chambers",
          "William Ponce",
          "Dr. Nathaniel Kim MD",
          "Catherine Lopez"
         ],
         "legendgroup": "Business",
         "marker": {
          "color": "#636efa",
          "pattern": {
           "shape": ""
          }
         },
         "name": "Business",
         "offsetgroup": "Business",
         "orientation": "v",
         "showlegend": false,
         "textposition": "auto",
         "type": "bar",
         "x": [
          "Analyst",
          "Associate",
          "Associate",
          "Associate",
          "Vice President",
          "Vice President",
          "Vice President",
          "Vice President",
          "Vice President",
          "Director",
          "Managing Director",
          "Managing Director",
          "Managing Director"
         ],
         "xaxis": "x3",
         "y": [
          1,
          1,
          1,
          1,
          1,
          1,
          1,
          1,
          1,
          1,
          1,
          1,
          1
         ],
         "yaxis": "y3"
        },
        {
         "alignmentgroup": "True",
         "customdata": [
          [
           "DevOps",
           "UTC",
           "Dublin",
           "Michael Gates",
           [
            "JavaScript",
            "Java"
           ]
          ],
          [
           "DevOps",
           "UTC",
           "Dublin",
           "Madison Higgins",
           [
            "Python",
            "JavaScript",
            "Java"
           ]
          ],
          [
           "DevOps",
           "UTC",
           "Dublin",
           "Madison Higgins",
           [
            "Python",
            "JavaScript",
            "Erlang"
           ]
          ],
          [
           "DevOps",
           "UTC",
           "Dublin",
           "Madison Higgins",
           [
            "Scala",
            "JavaScript"
           ]
          ],
          [
           "DevOps",
           "UTC",
           "Dublin",
           "James Anderson",
           []
          ],
          [
           "DevOps",
           "UTC",
           "Dublin",
           "Aaron Alexander",
           [
            "Scala",
            "JavaScript",
            "Java"
           ]
          ],
          [
           "DevOps",
           "UTC",
           "Dublin",
           "Joanne Bridges",
           []
          ],
          [
           "DevOps",
           "UTC",
           "Dublin",
           "Aaron Alexander",
           [
            "Go"
           ]
          ],
          [
           "DevOps",
           "UTC",
           "Dublin",
           "Madison Higgins",
           [
            "JavaScript",
            "Java"
           ]
          ],
          [
           "DevOps",
           "UTC",
           "Dublin",
           "James Anderson",
           [
            "Python",
            "JavaScript",
            "Java"
           ]
          ],
          [
           "DevOps",
           "UTC",
           "Dublin",
           "Aaron Alexander",
           [
            "Python",
            "Java"
           ]
          ],
          [
           "DevOps",
           "UTC",
           "Dublin",
           "Joanne Bridges",
           [
            "Python",
            "Typescript",
            "Java"
           ]
          ]
         ],
         "hovertemplate": "<b>%{hovertext}</b><br><br>team=%{customdata[0]}<br>country=IRL<br>title=%{x}<br>count=%{y}<br>tz=%{customdata[1]}<br>city=%{customdata[2]}<br>manager=%{customdata[3]}<br>languages=%{customdata[4]}<extra></extra>",
         "hovertext": [
          "Brandon Harper",
          "Terry Lane",
          "Sarah Moore",
          "Matthew Bowman",
          "Heather Sanchez",
          "Michael Gates",
          "Barbara Guzman",
          "Madison Higgins",
          "Victoria Bowers",
          "Yolanda Brown",
          "Joanne Bridges",
          "James Anderson"
         ],
         "legendgroup": "DevOps",
         "marker": {
          "color": "#EF553B",
          "pattern": {
           "shape": ""
          }
         },
         "name": "DevOps",
         "offsetgroup": "DevOps",
         "orientation": "v",
         "showlegend": true,
         "textposition": "auto",
         "type": "bar",
         "x": [
          "Engineer",
          "Engineer",
          "Engineer",
          "Engineer",
          "Engineer",
          "Senior Engineer",
          "Senior Engineer",
          "Manager",
          "Manager",
          "Manager",
          "Senior Manager",
          "Senior Manager"
         ],
         "xaxis": "x4",
         "y": [
          1,
          1,
          1,
          1,
          1,
          1,
          1,
          1,
          1,
          1,
          1,
          1
         ],
         "yaxis": "y4"
        },
        {
         "alignmentgroup": "True",
         "customdata": [
          [
           "DevX",
           "EST",
           "Fort Lauderdale",
           "Aaron Alexander",
           [
            "Python",
            "Go",
            "Typescript"
           ]
          ],
          [
           "DevX",
           "EST",
           "Fort Lauderdale",
           "Karen Day",
           [
            "Python"
           ]
          ],
          [
           "DevX",
           "EST",
           "Fort Lauderdale",
           "Karen Day",
           [
            "Python",
            "JavaScript",
            "Typescript",
            "Elixir"
           ]
          ],
          [
           "DevX",
           "EST",
           "Fort Lauderdale",
           "David Mack",
           []
          ],
          [
           "DevX",
           "EST",
           "Fort Lauderdale",
           "David Mack",
           [
            "Python",
            "Scala",
            "Typescript",
            "Java"
           ]
          ],
          [
           "DevX",
           "EST",
           "Fort Lauderdale",
           "Rebecca Mccarthy",
           [
            "Scala",
            "Java"
           ]
          ],
          [
           "DevX",
           "EST",
           "Fort Lauderdale",
           "Rebecca Mccarthy",
           [
            "Python",
            "Scala",
            "JavaScript",
            "Typescript",
            "Java"
           ]
          ],
          [
           "DevX",
           "EST",
           "Fort Lauderdale",
           "Rebecca Mccarthy",
           [
            "Python"
           ]
          ],
          [
           "DevX",
           "EST",
           "Fort Lauderdale",
           "Rebecca Mccarthy",
           [
            "Python",
            "Scala"
           ]
          ],
          [
           "DevX",
           "EST",
           "Fort Lauderdale",
           "Crystal Walker",
           []
          ],
          [
           "DevX",
           "EST",
           "Fort Lauderdale",
           "Crystal Walker",
           [
            "Typescript",
            "Java"
           ]
          ],
          [
           "DevX",
           "EST",
           "Fort Lauderdale",
           "Crystal Walker",
           [
            "Typescript",
            "Erlang"
           ]
          ],
          [
           "DevX",
           "EST",
           "Fort Lauderdale",
           "Alyssa Rodriguez",
           []
          ],
          [
           "DevX",
           "EST",
           "Fort Lauderdale",
           "Alyssa Rodriguez",
           [
            "Python",
            "Scala",
            "Java"
           ]
          ],
          [
           "DevX",
           "EST",
           "Fort Lauderdale",
           "Alyssa Rodriguez",
           [
            "Scala",
            "Go",
            "Java"
           ]
          ],
          [
           "DevX",
           "EST",
           "Fort Lauderdale",
           "Annette Scott",
           [
            "Go",
            "JavaScript"
           ]
          ],
          [
           "DevX",
           "EST",
           "Fort Lauderdale",
           "Martin Drake",
           [
            "Python",
            "JavaScript",
            "Java"
           ]
          ],
          [
           "DevX",
           "EST",
           "Fort Lauderdale",
           "Martin Drake",
           [
            "JavaScript",
            "Typescript"
           ]
          ],
          [
           "DevX",
           "EST",
           "Fort Lauderdale",
           "Martin Drake",
           [
            "JavaScript"
           ]
          ],
          [
           "DevX",
           "EST",
           "Fort Lauderdale",
           "Martin Drake",
           [
            "JavaScript"
           ]
          ],
          [
           "DevX",
           "EST",
           "Fort Lauderdale",
           "Harold Schultz",
           [
            "Python",
            "Go",
            "Typescript",
            "Java"
           ]
          ],
          [
           "DevX",
           "EST",
           "Fort Lauderdale",
           "Aaron Alexander",
           [
            "Scala",
            "Typescript",
            "Java"
           ]
          ],
          [
           "DevX",
           "EST",
           "Fort Lauderdale",
           "Karen Day",
           [
            "JavaScript"
           ]
          ],
          [
           "DevX",
           "EST",
           "Fort Lauderdale",
           "Karen Day",
           []
          ],
          [
           "DevX",
           "EST",
           "Fort Lauderdale",
           "Karen Day",
           [
            "Typescript"
           ]
          ],
          [
           "DevX",
           "EST",
           "Fort Lauderdale",
           "Karen Day",
           []
          ],
          [
           "DevX",
           "EST",
           "Fort Lauderdale",
           "Karen Day",
           [
            "Typescript"
           ]
          ],
          [
           "DevX",
           "EST",
           "Fort Lauderdale",
           "Karen Day",
           [
            "Python",
            "Scala",
            "Typescript"
           ]
          ],
          [
           "DevX",
           "EST",
           "Fort Lauderdale",
           "Karen Day",
           [
            "Typescript"
           ]
          ]
         ],
         "hovertemplate": "<b>%{hovertext}</b><br><br>team=%{customdata[0]}<br>country=USA<br>title=%{x}<br>count=%{y}<br>tz=%{customdata[1]}<br>city=%{customdata[2]}<br>manager=%{customdata[3]}<br>languages=%{customdata[4]}<extra></extra>",
         "hovertext": [
          "Keith Maldonado",
          "Sara Mccoy",
          "Christopher Henderson",
          "Charlene Preston",
          "Emily Gonzales",
          "Nicole Jenkins",
          "Amanda Roberts",
          "Samantha Flores",
          "Mrs. Sandra Martin",
          "James Sanchez",
          "Cynthia Morrison",
          "Tiffany Perkins",
          "Kelly Santos",
          "Daniel Brown",
          "Tiffany Austin",
          "Tiffany Cohen",
          "Sarah Leblanc",
          "Stephen Mclaughlin",
          "Christian Rowe",
          "Randy Powell",
          "Sharon Rhodes",
          "Karen Day",
          "David Mack",
          "Rebecca Mccarthy",
          "Crystal Walker",
          "Alyssa Rodriguez",
          "Annette Scott",
          "Martin Drake",
          "Harold Schultz"
         ],
         "legendgroup": "DevX",
         "marker": {
          "color": "#00cc96",
          "pattern": {
           "shape": ""
          }
         },
         "name": "DevX",
         "offsetgroup": "DevX",
         "orientation": "v",
         "showlegend": true,
         "textposition": "auto",
         "type": "bar",
         "x": [
          "Engineer",
          "Engineer",
          "Engineer",
          "Engineer",
          "Engineer",
          "Engineer",
          "Engineer",
          "Engineer",
          "Engineer",
          "Engineer",
          "Engineer",
          "Engineer",
          "Engineer",
          "Engineer",
          "Engineer",
          "Engineer",
          "Engineer",
          "Engineer",
          "Engineer",
          "Engineer",
          "Engineer",
          "AVP",
          "AVP",
          "AVP",
          "AVP",
          "AVP",
          "AVP",
          "AVP",
          "AVP"
         ],
         "xaxis": "x",
         "y": [
          1,
          1,
          1,
          1,
          1,
          1,
          1,
          1,
          1,
          1,
          1,
          1,
          1,
          1,
          1,
          1,
          1,
          1,
          1,
          1,
          1,
          1,
          1,
          1,
          1,
          1,
          1,
          1,
          1
         ],
         "yaxis": "y"
        },
        {
         "alignmentgroup": "True",
         "customdata": [
          [
           "Internal Tools",
           "PST",
           "Seattle",
           "Marissa Brown",
           [
            "Go",
            "Python",
            "JavaScript",
            "Typescript",
            "Java"
           ]
          ],
          [
           "Internal Tools",
           "PST",
           "Seattle",
           "Victoria Thomas",
           []
          ],
          [
           "Internal Tools",
           "PST",
           "Seattle",
           "Victoria Thomas",
           [
            "Typescript"
           ]
          ],
          [
           "Internal Tools",
           "PST",
           "Seattle",
           "Victoria Thomas",
           [
            "Scala",
            "Go"
           ]
          ],
          [
           "Internal Tools",
           "PST",
           "Seattle",
           "Marissa Brown",
           [
            "Python"
           ]
          ],
          [
           "Internal Tools",
           "PST",
           "Seattle",
           "Marissa Brown",
           []
          ],
          [
           "Internal Tools",
           "PST",
           "Seattle",
           "Victoria Thomas",
           [
            "Java"
           ]
          ],
          [
           "Internal Tools",
           "PST",
           "Seattle",
           "Aaron Alexander",
           [
            "JavaScript",
            "Java"
           ]
          ],
          [
           "Internal Tools",
           "PST",
           "Seattle",
           "Victoria Thomas",
           []
          ],
          [
           "Internal Tools",
           "PST",
           "Seattle",
           "Victoria Thomas",
           [
            "JavaScript",
            "Typescript",
            "Java"
           ]
          ],
          [
           "Internal Tools",
           "PST",
           "Seattle",
           "Aaron Alexander",
           [
            "JavaScript"
           ]
          ],
          [
           "Internal Tools",
           "PST",
           "Seattle",
           "Marissa Brown",
           []
          ]
         ],
         "hovertemplate": "<b>%{hovertext}</b><br><br>team=%{customdata[0]}<br>country=USA<br>title=%{x}<br>count=%{y}<br>tz=%{customdata[1]}<br>city=%{customdata[2]}<br>manager=%{customdata[3]}<br>languages=%{customdata[4]}<extra></extra>",
         "hovertext": [
          "Emily Glass",
          "Jeremy Garrett",
          "Rebecca Cook",
          "Christopher Griffith",
          "Wesley Gomez",
          "Brian Brooks",
          "Timothy Mullins",
          "Cassandra Harrington",
          "Melissa Conley",
          "Jason Peters",
          "Marissa Brown",
          "Victoria Thomas"
         ],
         "legendgroup": "Internal Tools",
         "marker": {
          "color": "#ab63fa",
          "pattern": {
           "shape": ""
          }
         },
         "name": "Internal Tools",
         "offsetgroup": "Internal Tools",
         "orientation": "v",
         "showlegend": true,
         "textposition": "auto",
         "type": "bar",
         "x": [
          "Engineer",
          "Engineer",
          "Senior Engineer",
          "Senior Engineer",
          "Manager",
          "Manager",
          "Manager",
          "AVP",
          "AVP",
          "AVP",
          "VP",
          "VP"
         ],
         "xaxis": "x",
         "y": [
          1,
          1,
          1,
          1,
          1,
          1,
          1,
          1,
          1,
          1,
          1,
          1
         ],
         "yaxis": "y"
        },
        {
         "alignmentgroup": "True",
         "customdata": [
          [
           "Internal Tools",
           "EST",
           "Toronto",
           "Victoria Thomas",
           [
            "Python",
            "JavaScript",
            "Typescript",
            "Java"
           ]
          ],
          [
           "Internal Tools",
           "EST",
           "Toronto",
           "Victoria Thomas",
           []
          ],
          [
           "Internal Tools",
           "EST",
           "Toronto",
           "Victoria Thomas",
           [
            "Scala"
           ]
          ]
         ],
         "hovertemplate": "<b>%{hovertext}</b><br><br>team=%{customdata[0]}<br>country=CAN<br>title=%{x}<br>count=%{y}<br>tz=%{customdata[1]}<br>city=%{customdata[2]}<br>manager=%{customdata[3]}<br>languages=%{customdata[4]}<extra></extra>",
         "hovertext": [
          "Kathryn Garcia",
          "Charles Duncan",
          "Ryan Lopez"
         ],
         "legendgroup": "Internal Tools",
         "marker": {
          "color": "#ab63fa",
          "pattern": {
           "shape": ""
          }
         },
         "name": "Internal Tools",
         "offsetgroup": "Internal Tools",
         "orientation": "v",
         "showlegend": false,
         "textposition": "auto",
         "type": "bar",
         "x": [
          "Engineer",
          "AVP",
          "AVP"
         ],
         "xaxis": "x2",
         "y": [
          1,
          1,
          1
         ],
         "yaxis": "y2"
        },
        {
         "alignmentgroup": "True",
         "customdata": [
          [
           "Platform",
           "PST",
           "Seattle",
           "Bruce Gutierrez",
           [
            "Scala"
           ]
          ],
          [
           "Platform",
           "PST",
           "Seattle",
           "Bruce Gutierrez",
           [
            "Typescript",
            "Java"
           ]
          ],
          [
           "Platform",
           "PST",
           "Seattle",
           "Aaron Alexander",
           [
            "Python",
            "Java"
           ]
          ],
          [
           "Platform",
           "PST",
           "Seattle",
           "Melanie Moore",
           [
            "JavaScript",
            "Java"
           ]
          ]
         ],
         "hovertemplate": "<b>%{hovertext}</b><br><br>team=%{customdata[0]}<br>country=USA<br>title=%{x}<br>count=%{y}<br>tz=%{customdata[1]}<br>city=%{customdata[2]}<br>manager=%{customdata[3]}<br>languages=%{customdata[4]}<extra></extra>",
         "hovertext": [
          "Richard Chandler",
          "Gina Pratt",
          "Aaron Brooks",
          "Bruce Gutierrez"
         ],
         "legendgroup": "Platform",
         "marker": {
          "color": "#FFA15A",
          "pattern": {
           "shape": ""
          }
         },
         "name": "Platform",
         "offsetgroup": "Platform",
         "orientation": "v",
         "showlegend": true,
         "textposition": "auto",
         "type": "bar",
         "x": [
          "Engineer",
          "Engineer",
          "Senior Engineer",
          "AVP"
         ],
         "xaxis": "x",
         "y": [
          1,
          1,
          1,
          1
         ],
         "yaxis": "y"
        },
        {
         "alignmentgroup": "True",
         "customdata": [
          [
           "Platform",
           "EST",
           "Toronto",
           "Aaron Brooks",
           [
            "Python"
           ]
          ],
          [
           "Platform",
           "EST",
           "Toronto",
           "Aaron Alexander",
           [
            "Typescript"
           ]
          ]
         ],
         "hovertemplate": "<b>%{hovertext}</b><br><br>team=%{customdata[0]}<br>country=CAN<br>title=%{x}<br>count=%{y}<br>tz=%{customdata[1]}<br>city=%{customdata[2]}<br>manager=%{customdata[3]}<br>languages=%{customdata[4]}<extra></extra>",
         "hovertext": [
          "Lisa Hayes",
          "Melanie Moore"
         ],
         "legendgroup": "Platform",
         "marker": {
          "color": "#FFA15A",
          "pattern": {
           "shape": ""
          }
         },
         "name": "Platform",
         "offsetgroup": "Platform",
         "orientation": "v",
         "showlegend": false,
         "textposition": "auto",
         "type": "bar",
         "x": [
          "Engineer",
          "AVP"
         ],
         "xaxis": "x2",
         "y": [
          1,
          1
         ],
         "yaxis": "y2"
        },
        {
         "alignmentgroup": "True",
         "customdata": [
          [
           "Product",
           "PST",
           "Seattle",
           "Jessica Perry",
           [
            "Python",
            "Scala",
            "Typescript",
            "Java"
           ]
          ],
          [
           "Product",
           "PST",
           "Seattle",
           "Cody Alvarez",
           [
            "Scala",
            "Go",
            "JavaScript",
            "Java"
           ]
          ],
          [
           "Product",
           "PST",
           "Seattle",
           "Christian Navarro",
           [
            "Scala",
            "Java"
           ]
          ],
          [
           "Product",
           "PST",
           "Seattle",
           "Christian Navarro",
           [
            "Scala"
           ]
          ],
          [
           "Product",
           "EST",
           "New York",
           "Christian Navarro",
           [
            "JavaScript"
           ]
          ],
          [
           "Product",
           "PST",
           "Seattle",
           "Jessica Perry",
           [
            "Python"
           ]
          ],
          [
           "Product",
           "PST",
           "Seattle",
           "Jessica Perry",
           []
          ],
          [
           "Product",
           "EST",
           "New York",
           "Christian Navarro",
           []
          ],
          [
           "Product",
           "PST",
           "Seattle",
           "Christian Navarro",
           [
            "Python",
            "JavaScript",
            "Typescript"
           ]
          ],
          [
           "Product",
           "EST",
           "New York",
           "Christian Navarro",
           [
            "JavaScript"
           ]
          ],
          [
           "Product",
           "PST",
           "Seattle",
           "Christian Navarro",
           [
            "Go",
            "Python",
            "Scala",
            "Typescript",
            "Java"
           ]
          ],
          [
           "Product",
           "EST",
           "New York",
           "Christian Navarro",
           [
            "Python",
            "Go",
            "JavaScript"
           ]
          ],
          [
           "Product",
           "PST",
           "Seattle",
           "Jessica Perry",
           [
            "Python",
            "Typescript",
            "Java"
           ]
          ],
          [
           "Product",
           "PST",
           "Seattle",
           "Aaron Alexander",
           []
          ],
          [
           "Product",
           "PST",
           "Seattle",
           "Christian Navarro",
           [
            "Scala",
            "Java"
           ]
          ],
          [
           "Product",
           "EST",
           "New York",
           "Aaron Alexander",
           [
            "Go",
            "Java"
           ]
          ],
          [
           "Product",
           "EST",
           "New York",
           "Brandon Page",
           [
            "JavaScript",
            "Typescript",
            "Java"
           ]
          ],
          [
           "Product",
           "EST",
           "New York",
           "Brandon Page",
           [
            "Scala",
            "JavaScript"
           ]
          ],
          [
           "Product",
           "EST",
           "New York",
           "Brandon Page",
           [
            "Python",
            "Typescript"
           ]
          ]
         ],
         "hovertemplate": "<b>%{hovertext}</b><br><br>team=%{customdata[0]}<br>country=USA<br>title=%{x}<br>count=%{y}<br>tz=%{customdata[1]}<br>city=%{customdata[2]}<br>manager=%{customdata[3]}<br>languages=%{customdata[4]}<extra></extra>",
         "hovertext": [
          "Brandon West",
          "Amy Woods",
          "Andrea Schultz",
          "Cassandra Rios",
          "Angela Casey",
          "Vicki Blankenship",
          "Lisa Jackson",
          "Melissa Gallagher",
          "Amber Kelly",
          "Brett Smith",
          "Sara Rodriguez",
          "Sue Guerrero",
          "Brandon Ortiz",
          "Jessica Perry",
          "James Moore",
          "Brandon Page",
          "Cody Alvarez",
          "Kevin Wall",
          "Christian Navarro"
         ],
         "legendgroup": "Product",
         "marker": {
          "color": "#19d3f3",
          "pattern": {
           "shape": ""
          }
         },
         "name": "Product",
         "offsetgroup": "Product",
         "orientation": "v",
         "showlegend": true,
         "textposition": "auto",
         "type": "bar",
         "x": [
          "Engineer",
          "Engineer",
          "Engineer",
          "Engineer",
          "Engineer",
          "Manager",
          "Manager",
          "Manager",
          "Manager",
          "Manager",
          "Manager",
          "Manager",
          "Product Owner",
          "AVP",
          "AVP",
          "VP",
          "VP",
          "VP",
          "VP"
         ],
         "xaxis": "x",
         "y": [
          1,
          1,
          1,
          1,
          1,
          1,
          1,
          1,
          1,
          1,
          1,
          1,
          1,
          1,
          1,
          1,
          1,
          1,
          1
         ],
         "yaxis": "y"
        },
        {
         "alignmentgroup": "True",
         "customdata": [
          [
           "Product",
           "EST",
           "Toronto",
           "Kevin Wall",
           []
          ],
          [
           "Product",
           "EST",
           "Toronto",
           "Jessica Perry",
           [
            "JavaScript",
            "Typescript"
           ]
          ],
          [
           "Product",
           "EST",
           "Toronto",
           "Jessica Perry",
           [
            "Scala",
            "Java"
           ]
          ],
          [
           "Product",
           "EST",
           "Toronto",
           "Cody Alvarez",
           []
          ]
         ],
         "hovertemplate": "<b>%{hovertext}</b><br><br>team=%{customdata[0]}<br>country=CAN<br>title=%{x}<br>count=%{y}<br>tz=%{customdata[1]}<br>city=%{customdata[2]}<br>manager=%{customdata[3]}<br>languages=%{customdata[4]}<extra></extra>",
         "hovertext": [
          "Melissa Dominguez",
          "Paula Matthews",
          "Lisa Johnson",
          "Jeffery Jenkins"
         ],
         "legendgroup": "Product",
         "marker": {
          "color": "#19d3f3",
          "pattern": {
           "shape": ""
          }
         },
         "name": "Product",
         "offsetgroup": "Product",
         "orientation": "v",
         "showlegend": false,
         "textposition": "auto",
         "type": "bar",
         "x": [
          "Engineer",
          "Product Owner",
          "Product Owner",
          "Product Owner"
         ],
         "xaxis": "x2",
         "y": [
          1,
          1,
          1,
          1
         ],
         "yaxis": "y2"
        },
        {
         "alignmentgroup": "True",
         "customdata": [
          [
           "Sales",
           "EST",
           "New York",
           "Kyle Graves",
           [
            "JavaScript",
            "Typescript",
            "Java"
           ]
          ],
          [
           "Sales",
           "EST",
           "New York",
           "Kyle Graves",
           [
            "Python",
            "JavaScript",
            "Typescript",
            "Java"
           ]
          ],
          [
           "Sales",
           "EST",
           "New York",
           "Zachary Edwards",
           [
            "Python"
           ]
          ],
          [
           "Sales",
           "EST",
           "New York",
           "Brian Lopez",
           [
            "Go",
            "JavaScript",
            "Java"
           ]
          ],
          [
           "Sales",
           "EST",
           "New York",
           "Brian Lopez",
           [
            "Python",
            "Typescript",
            "Java"
           ]
          ],
          [
           "Sales",
           "EST",
           "New York",
           "Brian Lopez",
           [
            "JavaScript",
            "Typescript",
            "Java"
           ]
          ]
         ],
         "hovertemplate": "<b>%{hovertext}</b><br><br>team=%{customdata[0]}<br>country=USA<br>title=%{x}<br>count=%{y}<br>tz=%{customdata[1]}<br>city=%{customdata[2]}<br>manager=%{customdata[3]}<br>languages=%{customdata[4]}<extra></extra>",
         "hovertext": [
          "April Williams",
          "Stephanie Howard",
          "Joshua Hodges",
          "Lauren Sanchez",
          "Catherine Carter",
          "Angela Cole"
         ],
         "legendgroup": "Sales",
         "marker": {
          "color": "#FF6692",
          "pattern": {
           "shape": ""
          }
         },
         "name": "Sales",
         "offsetgroup": "Sales",
         "orientation": "v",
         "showlegend": true,
         "textposition": "auto",
         "type": "bar",
         "x": [
          "Associate",
          "Associate",
          "Associate",
          "VP",
          "VP",
          "VP"
         ],
         "xaxis": "x",
         "y": [
          1,
          1,
          1,
          1,
          1,
          1
         ],
         "yaxis": "y"
        },
        {
         "alignmentgroup": "True",
         "customdata": [
          [
           "Sales",
           "EST",
           "Toronto",
           "Aaron Alexander",
           [
            "JavaScript",
            "Go",
            "Typescript"
           ]
          ],
          [
           "Sales",
           "EST",
           "Toronto",
           "Brian Lopez",
           [
            "JavaScript",
            "Typescript",
            "Java"
           ]
          ],
          [
           "Sales",
           "EST",
           "Toronto",
           "Brian Lopez",
           [
            "Python",
            "Typescript"
           ]
          ]
         ],
         "hovertemplate": "<b>%{hovertext}</b><br><br>team=%{customdata[0]}<br>country=CAN<br>title=%{x}<br>count=%{y}<br>tz=%{customdata[1]}<br>city=%{customdata[2]}<br>manager=%{customdata[3]}<br>languages=%{customdata[4]}<extra></extra>",
         "hovertext": [
          "Brian Lopez",
          "Kyle Graves",
          "James Noble"
         ],
         "legendgroup": "Sales",
         "marker": {
          "color": "#FF6692",
          "pattern": {
           "shape": ""
          }
         },
         "name": "Sales",
         "offsetgroup": "Sales",
         "orientation": "v",
         "showlegend": false,
         "textposition": "auto",
         "type": "bar",
         "x": [
          "VP",
          "VP",
          "VP"
         ],
         "xaxis": "x2",
         "y": [
          1,
          1,
          1
         ],
         "yaxis": "y2"
        },
        {
         "alignmentgroup": "True",
         "customdata": [
          [
           "Sales",
           "UTC",
           "London",
           "Brian Lopez",
           [
            "Typescript"
           ]
          ],
          [
           "Sales",
           "UTC",
           "London",
           "Kyle Graves",
           []
          ],
          [
           "Sales",
           "UTC",
           "London",
           "Kyle Graves",
           []
          ],
          [
           "Sales",
           "UTC",
           "London",
           "Kyle Graves",
           [
            "Python",
            "JavaScript",
            "Typescript",
            "Java"
           ]
          ],
          [
           "Sales",
           "UTC",
           "London",
           "Kyle Graves",
           [
            "Python",
            "Scala",
            "JavaScript"
           ]
          ],
          [
           "Sales",
           "UTC",
           "London",
           "Kyle Graves",
           [
            "Scala",
            "Java"
           ]
          ],
          [
           "Sales",
           "UTC",
           "London",
           "Patrick Duran",
           [
            "JavaScript",
            "Java"
           ]
          ],
          [
           "Sales",
           "UTC",
           "London",
           "Brian Lopez",
           [
            "Python",
            "Scala"
           ]
          ],
          [
           "Sales",
           "UTC",
           "London",
           "Brian Lopez",
           [
            "Python",
            "JavaScript"
           ]
          ],
          [
           "Sales",
           "UTC",
           "London",
           "Brian Lopez",
           [
            "Python"
           ]
          ],
          [
           "Sales",
           "UTC",
           "London",
           "Brian Lopez",
           [
            "Python"
           ]
          ],
          [
           "Sales",
           "UTC",
           "London",
           "Brian Lopez",
           [
            "JavaScript"
           ]
          ]
         ],
         "hovertemplate": "<b>%{hovertext}</b><br><br>team=%{customdata[0]}<br>country=GBR<br>title=%{x}<br>count=%{y}<br>tz=%{customdata[1]}<br>city=%{customdata[2]}<br>manager=%{customdata[3]}<br>languages=%{customdata[4]}<extra></extra>",
         "hovertext": [
          "Jesse Fisher",
          "Erica Pena",
          "Natasha Wilson",
          "Michael Craig",
          "Janet Ford",
          "Amy Johnson",
          "Susan Myers",
          "Michael Harvey",
          "Patrick Duran",
          "Kyle Webb",
          "Zachary Edwards",
          "Jonathan Hernandez"
         ],
         "legendgroup": "Sales",
         "marker": {
          "color": "#FF6692",
          "pattern": {
           "shape": ""
          }
         },
         "name": "Sales",
         "offsetgroup": "Sales",
         "orientation": "v",
         "showlegend": false,
         "textposition": "auto",
         "type": "bar",
         "x": [
          "Associate",
          "Associate",
          "Associate",
          "Associate",
          "Associate",
          "Associate",
          "Associate",
          "VP",
          "VP",
          "VP",
          "VP",
          "VP"
         ],
         "xaxis": "x3",
         "y": [
          1,
          1,
          1,
          1,
          1,
          1,
          1,
          1,
          1,
          1,
          1,
          1
         ],
         "yaxis": "y3"
        },
        {
         "alignmentgroup": "True",
         "customdata": [
          [
           "Support",
           "UTC",
           "Dublin",
           "Jason Burton",
           []
          ],
          [
           "Support",
           "UTC",
           "Dublin",
           "Jason Burton",
           [
            "Python",
            "JavaScript",
            "Typescript",
            "Java"
           ]
          ],
          [
           "Support",
           "UTC",
           "Dublin",
           "Alicia Lee",
           []
          ],
          [
           "Support",
           "UTC",
           "Dublin",
           "Alicia Lee",
           [
            "Go",
            "JavaScript"
           ]
          ],
          [
           "Support",
           "UTC",
           "Dublin",
           "Miranda Mendoza",
           [
            "JavaScript",
            "Java"
           ]
          ],
          [
           "Support",
           "UTC",
           "Dublin",
           "Aaron Alexander",
           []
          ],
          [
           "Support",
           "UTC",
           "Dublin",
           "Jason Burton",
           [
            "Python",
            "JavaScript",
            "Go",
            "Java"
           ]
          ],
          [
           "Support",
           "UTC",
           "Dublin",
           "Jason Burton",
           [
            "Python",
            "Typescript"
           ]
          ],
          [
           "Support",
           "UTC",
           "Dublin",
           "Jason Burton",
           [
            "JavaScript",
            "Typescript",
            "Java"
           ]
          ],
          [
           "Support",
           "UTC",
           "Dublin",
           "Jason Burton",
           [
            "Python"
           ]
          ],
          [
           "Support",
           "UTC",
           "Dublin",
           "Jason Burton",
           []
          ],
          [
           "Support",
           "UTC",
           "Dublin",
           "Jason Burton",
           [
            "Python",
            "JavaScript",
            "Typescript",
            "Java"
           ]
          ]
         ],
         "hovertemplate": "<b>%{hovertext}</b><br><br>team=%{customdata[0]}<br>country=IRL<br>title=%{x}<br>count=%{y}<br>tz=%{customdata[1]}<br>city=%{customdata[2]}<br>manager=%{customdata[3]}<br>languages=%{customdata[4]}<extra></extra>",
         "hovertext": [
          "Susan Hamilton",
          "Tammy Bryant",
          "Gina Taylor",
          "Christopher Brown",
          "Desiree Hutchinson",
          "Jason Burton",
          "Peter Lee",
          "Crystal Ferguson",
          "Mary Contreras",
          "Alicia Lee",
          "Miranda Mendoza",
          "Angela Phelps"
         ],
         "legendgroup": "Support",
         "marker": {
          "color": "#B6E880",
          "pattern": {
           "shape": ""
          }
         },
         "name": "Support",
         "offsetgroup": "Support",
         "orientation": "v",
         "showlegend": true,
         "textposition": "auto",
         "type": "bar",
         "x": [
          "Analyst",
          "Analyst",
          "Analyst",
          "Analyst",
          "Analyst",
          "Manager",
          "Manager",
          "Manager",
          "Manager",
          "Manager",
          "Manager",
          "Manager"
         ],
         "xaxis": "x4",
         "y": [
          1,
          1,
          1,
          1,
          1,
          1,
          1,
          1,
          1,
          1,
          1,
          1
         ],
         "yaxis": "y4"
        },
        {
         "alignmentgroup": "True",
         "customdata": [
          [
           "CEO",
           "EST",
           "Fort Lauderdale",
           "Aaron Alexander",
           [
            "Python",
            "Go",
            "Java"
           ]
          ]
         ],
         "hovertemplate": "<b>%{hovertext}</b><br><br>team=%{customdata[0]}<br>country=USA<br>title=%{x}<br>count=%{y}<br>tz=%{customdata[1]}<br>city=%{customdata[2]}<br>manager=%{customdata[3]}<br>languages=%{customdata[4]}<extra></extra>",
         "hovertext": [
          "Aaron Alexander"
         ],
         "legendgroup": "CEO",
         "marker": {
          "color": "#FF97FF",
          "pattern": {
           "shape": ""
          }
         },
         "name": "CEO",
         "offsetgroup": "CEO",
         "orientation": "v",
         "showlegend": true,
         "textposition": "auto",
         "type": "bar",
         "x": [
          "CEO"
         ],
         "xaxis": "x",
         "y": [
          1
         ],
         "yaxis": "y"
        }
       ],
       "layout": {
        "annotations": [
         {
          "font": {},
          "showarrow": false,
          "text": "country=USA",
          "x": 0.1175,
          "xanchor": "center",
          "xref": "paper",
          "y": 1,
          "yanchor": "bottom",
          "yref": "paper"
         },
         {
          "font": {},
          "showarrow": false,
          "text": "country=CAN",
          "x": 0.3725,
          "xanchor": "center",
          "xref": "paper",
          "y": 1,
          "yanchor": "bottom",
          "yref": "paper"
         },
         {
          "font": {},
          "showarrow": false,
          "text": "country=GBR",
          "x": 0.6275,
          "xanchor": "center",
          "xref": "paper",
          "y": 1,
          "yanchor": "bottom",
          "yref": "paper"
         },
         {
          "font": {},
          "showarrow": false,
          "text": "country=IRL",
          "x": 0.8824999999999998,
          "xanchor": "center",
          "xref": "paper",
          "y": 1,
          "yanchor": "bottom",
          "yref": "paper"
         }
        ],
        "barmode": "relative",
        "legend": {
         "title": {
          "text": "team"
         },
         "tracegroupgap": 0
        },
        "margin": {
         "t": 60
        },
        "template": {
         "data": {
          "bar": [
           {
            "error_x": {
             "color": "#f2f5fa"
            },
            "error_y": {
             "color": "#f2f5fa"
            },
            "marker": {
             "line": {
              "color": "rgb(17,17,17)",
              "width": 0.5
             },
             "pattern": {
              "fillmode": "overlay",
              "size": 10,
              "solidity": 0.2
             }
            },
            "type": "bar"
           }
          ],
          "barpolar": [
           {
            "marker": {
             "line": {
              "color": "rgb(17,17,17)",
              "width": 0.5
             },
             "pattern": {
              "fillmode": "overlay",
              "size": 10,
              "solidity": 0.2
             }
            },
            "type": "barpolar"
           }
          ],
          "carpet": [
           {
            "aaxis": {
             "endlinecolor": "#A2B1C6",
             "gridcolor": "#506784",
             "linecolor": "#506784",
             "minorgridcolor": "#506784",
             "startlinecolor": "#A2B1C6"
            },
            "baxis": {
             "endlinecolor": "#A2B1C6",
             "gridcolor": "#506784",
             "linecolor": "#506784",
             "minorgridcolor": "#506784",
             "startlinecolor": "#A2B1C6"
            },
            "type": "carpet"
           }
          ],
          "choropleth": [
           {
            "colorbar": {
             "outlinewidth": 0,
             "ticks": ""
            },
            "type": "choropleth"
           }
          ],
          "contour": [
           {
            "colorbar": {
             "outlinewidth": 0,
             "ticks": ""
            },
            "colorscale": [
             [
              0,
              "#0d0887"
             ],
             [
              0.1111111111111111,
              "#46039f"
             ],
             [
              0.2222222222222222,
              "#7201a8"
             ],
             [
              0.3333333333333333,
              "#9c179e"
             ],
             [
              0.4444444444444444,
              "#bd3786"
             ],
             [
              0.5555555555555556,
              "#d8576b"
             ],
             [
              0.6666666666666666,
              "#ed7953"
             ],
             [
              0.7777777777777778,
              "#fb9f3a"
             ],
             [
              0.8888888888888888,
              "#fdca26"
             ],
             [
              1,
              "#f0f921"
             ]
            ],
            "type": "contour"
           }
          ],
          "contourcarpet": [
           {
            "colorbar": {
             "outlinewidth": 0,
             "ticks": ""
            },
            "type": "contourcarpet"
           }
          ],
          "heatmap": [
           {
            "colorbar": {
             "outlinewidth": 0,
             "ticks": ""
            },
            "colorscale": [
             [
              0,
              "#0d0887"
             ],
             [
              0.1111111111111111,
              "#46039f"
             ],
             [
              0.2222222222222222,
              "#7201a8"
             ],
             [
              0.3333333333333333,
              "#9c179e"
             ],
             [
              0.4444444444444444,
              "#bd3786"
             ],
             [
              0.5555555555555556,
              "#d8576b"
             ],
             [
              0.6666666666666666,
              "#ed7953"
             ],
             [
              0.7777777777777778,
              "#fb9f3a"
             ],
             [
              0.8888888888888888,
              "#fdca26"
             ],
             [
              1,
              "#f0f921"
             ]
            ],
            "type": "heatmap"
           }
          ],
          "heatmapgl": [
           {
            "colorbar": {
             "outlinewidth": 0,
             "ticks": ""
            },
            "colorscale": [
             [
              0,
              "#0d0887"
             ],
             [
              0.1111111111111111,
              "#46039f"
             ],
             [
              0.2222222222222222,
              "#7201a8"
             ],
             [
              0.3333333333333333,
              "#9c179e"
             ],
             [
              0.4444444444444444,
              "#bd3786"
             ],
             [
              0.5555555555555556,
              "#d8576b"
             ],
             [
              0.6666666666666666,
              "#ed7953"
             ],
             [
              0.7777777777777778,
              "#fb9f3a"
             ],
             [
              0.8888888888888888,
              "#fdca26"
             ],
             [
              1,
              "#f0f921"
             ]
            ],
            "type": "heatmapgl"
           }
          ],
          "histogram": [
           {
            "marker": {
             "pattern": {
              "fillmode": "overlay",
              "size": 10,
              "solidity": 0.2
             }
            },
            "type": "histogram"
           }
          ],
          "histogram2d": [
           {
            "colorbar": {
             "outlinewidth": 0,
             "ticks": ""
            },
            "colorscale": [
             [
              0,
              "#0d0887"
             ],
             [
              0.1111111111111111,
              "#46039f"
             ],
             [
              0.2222222222222222,
              "#7201a8"
             ],
             [
              0.3333333333333333,
              "#9c179e"
             ],
             [
              0.4444444444444444,
              "#bd3786"
             ],
             [
              0.5555555555555556,
              "#d8576b"
             ],
             [
              0.6666666666666666,
              "#ed7953"
             ],
             [
              0.7777777777777778,
              "#fb9f3a"
             ],
             [
              0.8888888888888888,
              "#fdca26"
             ],
             [
              1,
              "#f0f921"
             ]
            ],
            "type": "histogram2d"
           }
          ],
          "histogram2dcontour": [
           {
            "colorbar": {
             "outlinewidth": 0,
             "ticks": ""
            },
            "colorscale": [
             [
              0,
              "#0d0887"
             ],
             [
              0.1111111111111111,
              "#46039f"
             ],
             [
              0.2222222222222222,
              "#7201a8"
             ],
             [
              0.3333333333333333,
              "#9c179e"
             ],
             [
              0.4444444444444444,
              "#bd3786"
             ],
             [
              0.5555555555555556,
              "#d8576b"
             ],
             [
              0.6666666666666666,
              "#ed7953"
             ],
             [
              0.7777777777777778,
              "#fb9f3a"
             ],
             [
              0.8888888888888888,
              "#fdca26"
             ],
             [
              1,
              "#f0f921"
             ]
            ],
            "type": "histogram2dcontour"
           }
          ],
          "mesh3d": [
           {
            "colorbar": {
             "outlinewidth": 0,
             "ticks": ""
            },
            "type": "mesh3d"
           }
          ],
          "parcoords": [
           {
            "line": {
             "colorbar": {
              "outlinewidth": 0,
              "ticks": ""
             }
            },
            "type": "parcoords"
           }
          ],
          "pie": [
           {
            "automargin": true,
            "type": "pie"
           }
          ],
          "scatter": [
           {
            "marker": {
             "line": {
              "color": "#283442"
             }
            },
            "type": "scatter"
           }
          ],
          "scatter3d": [
           {
            "line": {
             "colorbar": {
              "outlinewidth": 0,
              "ticks": ""
             }
            },
            "marker": {
             "colorbar": {
              "outlinewidth": 0,
              "ticks": ""
             }
            },
            "type": "scatter3d"
           }
          ],
          "scattercarpet": [
           {
            "marker": {
             "colorbar": {
              "outlinewidth": 0,
              "ticks": ""
             }
            },
            "type": "scattercarpet"
           }
          ],
          "scattergeo": [
           {
            "marker": {
             "colorbar": {
              "outlinewidth": 0,
              "ticks": ""
             }
            },
            "type": "scattergeo"
           }
          ],
          "scattergl": [
           {
            "marker": {
             "line": {
              "color": "#283442"
             }
            },
            "type": "scattergl"
           }
          ],
          "scattermapbox": [
           {
            "marker": {
             "colorbar": {
              "outlinewidth": 0,
              "ticks": ""
             }
            },
            "type": "scattermapbox"
           }
          ],
          "scatterpolar": [
           {
            "marker": {
             "colorbar": {
              "outlinewidth": 0,
              "ticks": ""
             }
            },
            "type": "scatterpolar"
           }
          ],
          "scatterpolargl": [
           {
            "marker": {
             "colorbar": {
              "outlinewidth": 0,
              "ticks": ""
             }
            },
            "type": "scatterpolargl"
           }
          ],
          "scatterternary": [
           {
            "marker": {
             "colorbar": {
              "outlinewidth": 0,
              "ticks": ""
             }
            },
            "type": "scatterternary"
           }
          ],
          "surface": [
           {
            "colorbar": {
             "outlinewidth": 0,
             "ticks": ""
            },
            "colorscale": [
             [
              0,
              "#0d0887"
             ],
             [
              0.1111111111111111,
              "#46039f"
             ],
             [
              0.2222222222222222,
              "#7201a8"
             ],
             [
              0.3333333333333333,
              "#9c179e"
             ],
             [
              0.4444444444444444,
              "#bd3786"
             ],
             [
              0.5555555555555556,
              "#d8576b"
             ],
             [
              0.6666666666666666,
              "#ed7953"
             ],
             [
              0.7777777777777778,
              "#fb9f3a"
             ],
             [
              0.8888888888888888,
              "#fdca26"
             ],
             [
              1,
              "#f0f921"
             ]
            ],
            "type": "surface"
           }
          ],
          "table": [
           {
            "cells": {
             "fill": {
              "color": "#506784"
             },
             "line": {
              "color": "rgb(17,17,17)"
             }
            },
            "header": {
             "fill": {
              "color": "#2a3f5f"
             },
             "line": {
              "color": "rgb(17,17,17)"
             }
            },
            "type": "table"
           }
          ]
         },
         "layout": {
          "annotationdefaults": {
           "arrowcolor": "#f2f5fa",
           "arrowhead": 0,
           "arrowwidth": 1
          },
          "autotypenumbers": "strict",
          "coloraxis": {
           "colorbar": {
            "outlinewidth": 0,
            "ticks": ""
           }
          },
          "colorscale": {
           "diverging": [
            [
             0,
             "#8e0152"
            ],
            [
             0.1,
             "#c51b7d"
            ],
            [
             0.2,
             "#de77ae"
            ],
            [
             0.3,
             "#f1b6da"
            ],
            [
             0.4,
             "#fde0ef"
            ],
            [
             0.5,
             "#f7f7f7"
            ],
            [
             0.6,
             "#e6f5d0"
            ],
            [
             0.7,
             "#b8e186"
            ],
            [
             0.8,
             "#7fbc41"
            ],
            [
             0.9,
             "#4d9221"
            ],
            [
             1,
             "#276419"
            ]
           ],
           "sequential": [
            [
             0,
             "#0d0887"
            ],
            [
             0.1111111111111111,
             "#46039f"
            ],
            [
             0.2222222222222222,
             "#7201a8"
            ],
            [
             0.3333333333333333,
             "#9c179e"
            ],
            [
             0.4444444444444444,
             "#bd3786"
            ],
            [
             0.5555555555555556,
             "#d8576b"
            ],
            [
             0.6666666666666666,
             "#ed7953"
            ],
            [
             0.7777777777777778,
             "#fb9f3a"
            ],
            [
             0.8888888888888888,
             "#fdca26"
            ],
            [
             1,
             "#f0f921"
            ]
           ],
           "sequentialminus": [
            [
             0,
             "#0d0887"
            ],
            [
             0.1111111111111111,
             "#46039f"
            ],
            [
             0.2222222222222222,
             "#7201a8"
            ],
            [
             0.3333333333333333,
             "#9c179e"
            ],
            [
             0.4444444444444444,
             "#bd3786"
            ],
            [
             0.5555555555555556,
             "#d8576b"
            ],
            [
             0.6666666666666666,
             "#ed7953"
            ],
            [
             0.7777777777777778,
             "#fb9f3a"
            ],
            [
             0.8888888888888888,
             "#fdca26"
            ],
            [
             1,
             "#f0f921"
            ]
           ]
          },
          "colorway": [
           "#636efa",
           "#EF553B",
           "#00cc96",
           "#ab63fa",
           "#FFA15A",
           "#19d3f3",
           "#FF6692",
           "#B6E880",
           "#FF97FF",
           "#FECB52"
          ],
          "font": {
           "color": "#f2f5fa"
          },
          "geo": {
           "bgcolor": "rgb(17,17,17)",
           "lakecolor": "rgb(17,17,17)",
           "landcolor": "rgb(17,17,17)",
           "showlakes": true,
           "showland": true,
           "subunitcolor": "#506784"
          },
          "hoverlabel": {
           "align": "left"
          },
          "hovermode": "closest",
          "mapbox": {
           "style": "dark"
          },
          "paper_bgcolor": "rgb(17,17,17)",
          "plot_bgcolor": "rgb(17,17,17)",
          "polar": {
           "angularaxis": {
            "gridcolor": "#506784",
            "linecolor": "#506784",
            "ticks": ""
           },
           "bgcolor": "rgb(17,17,17)",
           "radialaxis": {
            "gridcolor": "#506784",
            "linecolor": "#506784",
            "ticks": ""
           }
          },
          "scene": {
           "xaxis": {
            "backgroundcolor": "rgb(17,17,17)",
            "gridcolor": "#506784",
            "gridwidth": 2,
            "linecolor": "#506784",
            "showbackground": true,
            "ticks": "",
            "zerolinecolor": "#C8D4E3"
           },
           "yaxis": {
            "backgroundcolor": "rgb(17,17,17)",
            "gridcolor": "#506784",
            "gridwidth": 2,
            "linecolor": "#506784",
            "showbackground": true,
            "ticks": "",
            "zerolinecolor": "#C8D4E3"
           },
           "zaxis": {
            "backgroundcolor": "rgb(17,17,17)",
            "gridcolor": "#506784",
            "gridwidth": 2,
            "linecolor": "#506784",
            "showbackground": true,
            "ticks": "",
            "zerolinecolor": "#C8D4E3"
           }
          },
          "shapedefaults": {
           "line": {
            "color": "#f2f5fa"
           }
          },
          "sliderdefaults": {
           "bgcolor": "#C8D4E3",
           "bordercolor": "rgb(17,17,17)",
           "borderwidth": 1,
           "tickwidth": 0
          },
          "ternary": {
           "aaxis": {
            "gridcolor": "#506784",
            "linecolor": "#506784",
            "ticks": ""
           },
           "baxis": {
            "gridcolor": "#506784",
            "linecolor": "#506784",
            "ticks": ""
           },
           "bgcolor": "rgb(17,17,17)",
           "caxis": {
            "gridcolor": "#506784",
            "linecolor": "#506784",
            "ticks": ""
           }
          },
          "title": {
           "x": 0.05
          },
          "updatemenudefaults": {
           "bgcolor": "#506784",
           "borderwidth": 0
          },
          "xaxis": {
           "automargin": true,
           "gridcolor": "#283442",
           "linecolor": "#506784",
           "ticks": "",
           "title": {
            "standoff": 15
           },
           "zerolinecolor": "#283442",
           "zerolinewidth": 2
          },
          "yaxis": {
           "automargin": true,
           "gridcolor": "#283442",
           "linecolor": "#506784",
           "ticks": "",
           "title": {
            "standoff": 15
           },
           "zerolinecolor": "#283442",
           "zerolinewidth": 2
          }
         }
        },
        "xaxis": {
         "anchor": "y",
         "domain": [
          0,
          0.235
         ],
         "title": {}
        },
        "xaxis2": {
         "anchor": "y2",
         "domain": [
          0.255,
          0.49
         ],
         "title": {}
        },
        "xaxis3": {
         "anchor": "y3",
         "domain": [
          0.51,
          0.745
         ],
         "title": {}
        },
        "xaxis4": {
         "anchor": "y4",
         "domain": [
          0.7649999999999999,
          0.9999999999999999
         ],
         "title": {}
        },
        "yaxis": {
         "anchor": "x",
         "domain": [
          0,
          1
         ],
         "title": {
          "text": "count"
         }
        },
        "yaxis2": {
         "anchor": "x2",
         "domain": [
          0,
          1
         ],
         "matches": "y",
         "showticklabels": false
        },
        "yaxis3": {
         "anchor": "x3",
         "domain": [
          0,
          1
         ],
         "matches": "y",
         "showticklabels": false
        },
        "yaxis4": {
         "anchor": "x4",
         "domain": [
          0,
          1
         ],
         "matches": "y",
         "showticklabels": false
        }
       }
      }
     },
     "metadata": {},
     "output_type": "display_data"
    }
   ],
   "source": [
    "import plotly.express as px\n",
    "\n",
    "fig = px.bar(\n",
    "    expanded_df,\n",
    "    x=\"title\",\n",
    "    color=\"team\",\n",
    "    hover_name=\"name\",\n",
    "    hover_data=[\"team\", \"tz\", \"city\",\"manager\",\"languages\"],\n",
    "    facet_col=\"country\",\n",
    "    template=\"plotly_dark\",\n",
    ")\n",
    "fig.update_xaxes(matches=None, title_text=None)\n"
   ]
  },
  {
   "cell_type": "markdown",
   "metadata": {},
   "source": [
    "## Synthetic Data\n",
    "\n",
    "Essentially what we've done up until this point is to define distributions of values that our people should fall into and some rules about how those distributions overlap. Then we sample from those distributions, resulting in something that adheres to those distributions when we look at it statistically.\n",
    "\n",
    "Another approach we could take if we had *real* data, but couldn't use that directly is to generate synthetic data from it using a GAN, that is rewarded by keeping the representativeness of the data but scrubs out the actual values.\n",
    "\n",
    "[ydata-synthetic](https://docs.synthetic.ydata.ai/) implements a number of GAN-based synthetic data generators: "
   ]
  },
  {
   "cell_type": "code",
   "execution_count": null,
   "metadata": {},
   "outputs": [],
   "source": []
  }
 ],
 "metadata": {
  "kernelspec": {
   "display_name": "peopleanalytics-hP1UcNMM",
   "language": "python",
   "name": "python3"
  },
  "language_info": {
   "codemirror_mode": {
    "name": "ipython",
    "version": 3
   },
   "file_extension": ".py",
   "mimetype": "text/x-python",
   "name": "python",
   "nbconvert_exporter": "python",
   "pygments_lexer": "ipython3",
   "version": "3.11.0rc1"
  },
  "orig_nbformat": 4,
  "vscode": {
   "interpreter": {
    "hash": "a79ebb34bd880ae1609598d91f5437f974a2fc812a889a38194f0c3042249b1f"
   }
  }
 },
 "nbformat": 4,
 "nbformat_minor": 2
}
