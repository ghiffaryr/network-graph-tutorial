{
 "cells": [
  {
   "attachments": {},
   "cell_type": "markdown",
   "metadata": {},
   "source": [
    "# People\n",
    "\n",
    "What are they? How can we represent people in a meaningful way that doesn't get any of us fired for exfiltrating data?\n",
    "\n",
    "## Faker\n",
    "\n",
    "Let's generate some fake data! https://faker.readthedocs.io/en/master/\n",
    "\n",
    "\n"
   ]
  },
  {
   "cell_type": "code",
   "execution_count": 40,
   "metadata": {},
   "outputs": [
    {
     "data": {
      "text/plain": [
       "{'job': 'Planning and development surveyor',\n",
       " 'company': 'Mcdonald, Moses and Patel',\n",
       " 'ssn': '158-81-6202',\n",
       " 'residence': 'PSC 4035, Box 3123\\nAPO AA 79578',\n",
       " 'current_location': (Decimal('-71.5527815'), Decimal('32.933502')),\n",
       " 'blood_group': 'O-',\n",
       " 'website': ['http://lloyd-morales.com/',\n",
       "  'https://wolfe-adams.com/',\n",
       "  'http://www.james.com/',\n",
       "  'https://armstrong-wall.com/'],\n",
       " 'username': 'rmoss',\n",
       " 'name': 'Barbara Cowan',\n",
       " 'sex': 'F',\n",
       " 'address': 'Unit 4293 Box 1745\\nDPO AA 97094',\n",
       " 'mail': 'phamcatherine@hotmail.com',\n",
       " 'birthdate': datetime.date(2005, 12, 26)}"
      ]
     },
     "execution_count": 40,
     "metadata": {},
     "output_type": "execute_result"
    }
   ],
   "source": [
    "from faker import Faker\n",
    "fake = Faker()\n",
    "\n",
    "fake.profile() # lots of great stuff in here!"
   ]
  },
  {
   "attachments": {},
   "cell_type": "markdown",
   "metadata": {},
   "source": [
    "This is a good start but ... it's kind of wonky. We have people all over the world with so many different jobs! Let's keep the spirit of this but implement some of our own limitations on fields to ensure things line up with what we'd expect a company org to look like"
   ]
  },
  {
   "cell_type": "code",
   "execution_count": 41,
   "metadata": {},
   "outputs": [],
   "source": [
    "import numpy as np\n",
    "import random\n",
    "\n",
    "\n",
    "def choose_a_few(\n",
    "    options: list[str],\n",
    "    weights: list[int | float] = None,\n",
    "    max_choices: int = None,\n",
    "    min_choices: int = 0,\n",
    ") -> set[str]:\n",
    "    \"\"\"A helpful function to pick a random number of choices from a list of options\n",
    "    \n",
    "    By default skews the weights toward the first options in the list\"\"\"\n",
    "    max_choices = np.clip(max_choices or len(options), min_choices, len(options))\n",
    "    \n",
    "    # how many choices will we make this time?\n",
    "    divisor = max_choices * (max_choices + 1) / 2    \n",
    "    k_weights = [int(x) / divisor for x in range(max_choices, min_choices-1, -1)]\n",
    "    n_choices = np.random.choice(list(range(min_choices,max_choices+1)), p=k_weights)\n",
    "    \n",
    "    # make the choices\n",
    "    choices = random.choices(options, weights=weights, k=n_choices)\n",
    "    return set(choices)\n"
   ]
  },
  {
   "cell_type": "markdown",
   "metadata": {},
   "source": [
    "To ground us in this task, let's define a new `Person` object that we can fill up with info:"
   ]
  },
  {
   "cell_type": "code",
   "execution_count": 42,
   "metadata": {},
   "outputs": [],
   "source": [
    "from dataclasses import dataclass, field\n",
    "from typing import Literal\n",
    "from enum import Enum, auto\n",
    "import datetime\n",
    "\n",
    "class timezone(str, Enum):\n",
    "    EST = auto()\n",
    "    PST = auto()\n",
    "    UTC = auto()\n",
    "\n",
    "@dataclass\n",
    "class Location:\n",
    "    city: str\n",
    "    tz: timezone\n",
    "    country: str\n",
    "\n",
    "@dataclass\n",
    "class Person:\n",
    "    name: str\n",
    "    hire_date: datetime.date\n",
    "    status: Literal[\"Full Time\", \"Part Time\", \"Contract\"]\n",
    "    languages: list[str] = field(default_factory=list)\n",
    "    manager:str = None\n",
    "    team: str = None \n",
    "    title: str = None\n",
    "    location: Location = None\n"
   ]
  },
  {
   "attachments": {},
   "cell_type": "markdown",
   "metadata": {},
   "source": [
    "Now to make some people: "
   ]
  },
  {
   "cell_type": "code",
   "execution_count": 43,
   "metadata": {},
   "outputs": [
    {
     "data": {
      "text/plain": [
       "Person(name='Amanda Perez', hire_date=datetime.date(2020, 11, 21), status={'Contract'}, languages={'Java', 'Go', 'Python'}, manager=None, team=None, title=None, location=None)"
      ]
     },
     "execution_count": 43,
     "metadata": {},
     "output_type": "execute_result"
    }
   ],
   "source": [
    "import pandas as pd\n",
    "import numpy as np\n",
    "from faker import Faker\n",
    "import random\n",
    "\n",
    "# create some fake data\n",
    "fake = Faker()\n",
    "\n",
    "employment = {\"Full Time\": 0.7, \"Part Time\": 0.05, \"Contract\": 0.3}\n",
    "languages = {\n",
    "    \"Python\": 0.25,\n",
    "    \"Scala\": 0.1,\n",
    "    \"Go\": 0.08,\n",
    "    \"JavaScript\": 0.3,\n",
    "    \"Java\": 0.3,\n",
    "    \"Typescript\": 0.17,\n",
    "    \"Erlang\": 0.01,\n",
    "    \"Elixir\": 0.001,\n",
    "}\n",
    "\n",
    "def make_person() -> Person:\n",
    "    return Person(\n",
    "        name = fake.name(),\n",
    "        hire_date = fake.date_between(start_date=\"-3y\", end_date=\"today\"),\n",
    "        status = choose_a_few(list(employment), max_choices=1, min_choices=1),\n",
    "        languages = choose_a_few(list(languages.keys()), weights=list(languages.values())),\n",
    "        team = None, # hrmmmm this is harder\n",
    "        title = None, # let's be smarter with this\n",
    "        location = None, # let's also be smarter with this\n",
    "    )\n",
    "\n",
    "make_person()"
   ]
  },
  {
   "attachments": {},
   "cell_type": "markdown",
   "metadata": {},
   "source": [
    "Now we can generate more complex attributes in a smart way. Let's set up some rules about where offices are, what teams are in which offices, then pick titles based on other info (e.g. Developers probably know at least one language ... and executives are fulltime?)"
   ]
  },
  {
   "cell_type": "code",
   "execution_count": 44,
   "metadata": {},
   "outputs": [
    {
     "data": {
      "text/plain": [
       "{'location': Location(city='Dublin', tz='UTC', country='IRL'),\n",
       " 'title': 'Manager',\n",
       " 'team': 'Support'}"
      ]
     },
     "execution_count": 44,
     "metadata": {},
     "output_type": "execute_result"
    }
   ],
   "source": [
    "\n",
    "TEAM_TITLES:dict[str,list[str]] = {\n",
    "    \"DevX\": [\"Engineer\", \"Engineer\", \"Engineer\", \"Engineer\", \"Engineer\", \"AVP\"],\n",
    "    \"DevOps\": [\"Engineer\", \"Senior Engineer\", \"Manager\"],\n",
    "    \"Sales\": [\"Associate\"],\n",
    "    \"Support\": [\"Analyst\", \"Manager\"],\n",
    "    \"Platform\": [\"Engineer\", \"Senior Engineer\",\"Managing Engineer\", \"AVP\", \"VP\"],\n",
    "    \"Product\": [\"Engineer\", \"Manager\", \"Product Owner\", \"AVP\", \"VP\"],\n",
    "    \"Internal Tools\": [\"Engineer\", \"Senior Engineer\", \"Manager\", \"AVP\", \"VP\"],\n",
    "    \"Business\": [\"Analyst\", \"Associate\", \"Vice President\", \"Director\", \"Managing Director\"]\n",
    "}\n",
    "\n",
    "\n",
    "def title_city_team():\n",
    "    # just a few locations\n",
    "    offices = {\n",
    "        location.city: location\n",
    "        for location in [\n",
    "            Location(\"New York\", tz=\"EST\", country=\"USA\"),\n",
    "            Location(\"Seattle\", tz=\"PST\", country=\"USA\"),\n",
    "            Location(\"Toronto\", tz=\"EST\", country=\"CAN\"),\n",
    "            Location(\"London\", tz=\"UTC\", country=\"GBR\"),\n",
    "            Location(\"Fort Lauderdale\", tz=\"EST\", country=\"USA\"),\n",
    "            Location(\"Dublin\", tz=\"UTC\", country=\"IRL\"),\n",
    "        ]\n",
    "    }\n",
    "    # codify the hierarchical structure\n",
    "    allowed_teams_per_office = {\n",
    "        \"New York\": [\"Sales\", \"Product\", \"Business\"],\n",
    "        \"Toronto\": [\"Platform\", \"Product\", \"Internal Tools\", \"Sales\", \"Business\"],\n",
    "        \"Fort Lauderdale\": [\"DevX\"],\n",
    "        \"Dublin\": [\"DevOps\", \"Support\"],\n",
    "        \"London\": [\"Sales\", \"Business\"],\n",
    "        \"Seattle\": [\"Internal Tools\", \"Product\", \"Platform\"],\n",
    "    }\n",
    "    allowed_titles_per_team = TEAM_TITLES\n",
    "\n",
    "    city = random.choice(list(offices))\n",
    "    team = random.choice(allowed_teams_per_office[city])\n",
    "    title = choose_a_few(\n",
    "        allowed_titles_per_team[team], max_choices=1, min_choices=1\n",
    "    ).pop()\n",
    "    \n",
    "    return {\n",
    "        \"location\": Location(city=city, tz=offices[city].tz, country=offices[city].country),\n",
    "        \"title\": title,\n",
    "        \"team\": team,\n",
    "    }\n",
    "\n",
    "\n",
    "title_city_team()\n"
   ]
  },
  {
   "attachments": {},
   "cell_type": "markdown",
   "metadata": {},
   "source": [
    "After running this we should have a better balanced org in terms of region + titles. Then we just need to add the connections in -- i.e. who's the boss?!"
   ]
  },
  {
   "cell_type": "code",
   "execution_count": 45,
   "metadata": {},
   "outputs": [],
   "source": [
    "def make_person() -> Person:\n",
    "    title_city_team_ = title_city_team()\n",
    "    technical = 1 if \"Engineer\" in title_city_team_[\"title\"] else 0\n",
    "    return Person(\n",
    "        name = fake.name(),\n",
    "        hire_date = fake.date_between(start_date=\"-3y\", end_date=\"today\"),\n",
    "        status = choose_a_few(list(employment), max_choices=1, min_choices=1),\n",
    "        languages = choose_a_few(list(languages.keys()), weights=list(languages.values()), min_choices=technical),\n",
    "        **title_city_team_,\n",
    "    )\n"
   ]
  },
  {
   "cell_type": "code",
   "execution_count": 46,
   "metadata": {},
   "outputs": [
    {
     "data": {
      "text/html": [
       "<div>\n",
       "<style scoped>\n",
       "    .dataframe tbody tr th:only-of-type {\n",
       "        vertical-align: middle;\n",
       "    }\n",
       "\n",
       "    .dataframe tbody tr th {\n",
       "        vertical-align: top;\n",
       "    }\n",
       "\n",
       "    .dataframe thead th {\n",
       "        text-align: right;\n",
       "    }\n",
       "</style>\n",
       "<table border=\"1\" class=\"dataframe\">\n",
       "  <thead>\n",
       "    <tr style=\"text-align: right;\">\n",
       "      <th></th>\n",
       "      <th>name</th>\n",
       "      <th>hire_date</th>\n",
       "      <th>status</th>\n",
       "      <th>languages</th>\n",
       "      <th>manager</th>\n",
       "      <th>team</th>\n",
       "      <th>title</th>\n",
       "      <th>location</th>\n",
       "    </tr>\n",
       "  </thead>\n",
       "  <tbody>\n",
       "    <tr>\n",
       "      <th>0</th>\n",
       "      <td>Adam Alexander</td>\n",
       "      <td>2021-04-28</td>\n",
       "      <td>{Full Time}</td>\n",
       "      <td>{Java, Typescript, Python}</td>\n",
       "      <td>None</td>\n",
       "      <td>Sales</td>\n",
       "      <td>Associate</td>\n",
       "      <td>{'city': 'London', 'tz': 'UTC', 'country': 'GBR'}</td>\n",
       "    </tr>\n",
       "    <tr>\n",
       "      <th>1</th>\n",
       "      <td>Christina Christian</td>\n",
       "      <td>2021-02-12</td>\n",
       "      <td>{Part Time}</td>\n",
       "      <td>{Java}</td>\n",
       "      <td>None</td>\n",
       "      <td>DevX</td>\n",
       "      <td>Engineer</td>\n",
       "      <td>{'city': 'Fort Lauderdale', 'tz': 'EST', 'coun...</td>\n",
       "    </tr>\n",
       "    <tr>\n",
       "      <th>2</th>\n",
       "      <td>Leonard Moore</td>\n",
       "      <td>2021-09-30</td>\n",
       "      <td>{Part Time}</td>\n",
       "      <td>{Java}</td>\n",
       "      <td>None</td>\n",
       "      <td>Support</td>\n",
       "      <td>Manager</td>\n",
       "      <td>{'city': 'Dublin', 'tz': 'UTC', 'country': 'IRL'}</td>\n",
       "    </tr>\n",
       "    <tr>\n",
       "      <th>3</th>\n",
       "      <td>Austin Sparks</td>\n",
       "      <td>2021-06-23</td>\n",
       "      <td>{Contract}</td>\n",
       "      <td>{Go}</td>\n",
       "      <td>None</td>\n",
       "      <td>Support</td>\n",
       "      <td>Analyst</td>\n",
       "      <td>{'city': 'Dublin', 'tz': 'UTC', 'country': 'IRL'}</td>\n",
       "    </tr>\n",
       "    <tr>\n",
       "      <th>4</th>\n",
       "      <td>Amy Martin</td>\n",
       "      <td>2022-05-25</td>\n",
       "      <td>{Full Time}</td>\n",
       "      <td>{Go, Python}</td>\n",
       "      <td>None</td>\n",
       "      <td>Product</td>\n",
       "      <td>Engineer</td>\n",
       "      <td>{'city': 'New York', 'tz': 'EST', 'country': '...</td>\n",
       "    </tr>\n",
       "  </tbody>\n",
       "</table>\n",
       "</div>"
      ],
      "text/plain": [
       "                  name   hire_date       status                   languages   \n",
       "0       Adam Alexander  2021-04-28  {Full Time}  {Java, Typescript, Python}  \\\n",
       "1  Christina Christian  2021-02-12  {Part Time}                      {Java}   \n",
       "2        Leonard Moore  2021-09-30  {Part Time}                      {Java}   \n",
       "3        Austin Sparks  2021-06-23   {Contract}                        {Go}   \n",
       "4           Amy Martin  2022-05-25  {Full Time}                {Go, Python}   \n",
       "\n",
       "  manager     team      title   \n",
       "0    None    Sales  Associate  \\\n",
       "1    None     DevX   Engineer   \n",
       "2    None  Support    Manager   \n",
       "3    None  Support    Analyst   \n",
       "4    None  Product   Engineer   \n",
       "\n",
       "                                            location  \n",
       "0  {'city': 'London', 'tz': 'UTC', 'country': 'GBR'}  \n",
       "1  {'city': 'Fort Lauderdale', 'tz': 'EST', 'coun...  \n",
       "2  {'city': 'Dublin', 'tz': 'UTC', 'country': 'IRL'}  \n",
       "3  {'city': 'Dublin', 'tz': 'UTC', 'country': 'IRL'}  \n",
       "4  {'city': 'New York', 'tz': 'EST', 'country': '...  "
      ]
     },
     "execution_count": 46,
     "metadata": {},
     "output_type": "execute_result"
    }
   ],
   "source": [
    "people_df = pd.DataFrame((make_person() for _ in range(150)))\n",
    "people_df.head()"
   ]
  },
  {
   "attachments": {},
   "cell_type": "markdown",
   "metadata": {},
   "source": [
    "So, let's group by Team and then pick a manager for everyone:"
   ]
  },
  {
   "cell_type": "code",
   "execution_count": 47,
   "metadata": {},
   "outputs": [],
   "source": [
    "ranks = {team: {title: rank for rank,title in enumerate(titles)} for team, titles in TEAM_TITLES.items()}\n",
    "for team in ranks:\n",
    "    people_df.loc[people_df.team==team, \"rank\"] = people_df.loc[people_df.team==team].title.map(ranks[team])\n",
    "people_df = people_df.sort_values(by=[\"team\",\"rank\"])"
   ]
  },
  {
   "cell_type": "code",
   "execution_count": 48,
   "metadata": {},
   "outputs": [
    {
     "data": {
      "text/html": [
       "<div>\n",
       "<style scoped>\n",
       "    .dataframe tbody tr th:only-of-type {\n",
       "        vertical-align: middle;\n",
       "    }\n",
       "\n",
       "    .dataframe tbody tr th {\n",
       "        vertical-align: top;\n",
       "    }\n",
       "\n",
       "    .dataframe thead th {\n",
       "        text-align: right;\n",
       "    }\n",
       "</style>\n",
       "<table border=\"1\" class=\"dataframe\">\n",
       "  <thead>\n",
       "    <tr style=\"text-align: right;\">\n",
       "      <th></th>\n",
       "      <th>name</th>\n",
       "      <th>hire_date</th>\n",
       "      <th>status</th>\n",
       "      <th>languages</th>\n",
       "      <th>manager</th>\n",
       "      <th>team</th>\n",
       "      <th>title</th>\n",
       "      <th>location</th>\n",
       "      <th>rank</th>\n",
       "      <th>peoplemanager</th>\n",
       "    </tr>\n",
       "  </thead>\n",
       "  <tbody>\n",
       "    <tr>\n",
       "      <th>0</th>\n",
       "      <td>Jorge Young</td>\n",
       "      <td>2020-06-18</td>\n",
       "      <td>{Contract}</td>\n",
       "      <td>{JavaScript, Typescript, Python}</td>\n",
       "      <td>Jorge Young</td>\n",
       "      <td>Business</td>\n",
       "      <td>Analyst</td>\n",
       "      <td>{'city': 'London', 'tz': 'UTC', 'country': 'GBR'}</td>\n",
       "      <td>0.0</td>\n",
       "      <td>Gregory Gibson</td>\n",
       "    </tr>\n",
       "    <tr>\n",
       "      <th>1</th>\n",
       "      <td>Jon Hunter</td>\n",
       "      <td>2022-07-03</td>\n",
       "      <td>{Full Time}</td>\n",
       "      <td>{Java, Scala}</td>\n",
       "      <td>Jorge Young</td>\n",
       "      <td>Business</td>\n",
       "      <td>Analyst</td>\n",
       "      <td>{'city': 'London', 'tz': 'UTC', 'country': 'GBR'}</td>\n",
       "      <td>0.0</td>\n",
       "      <td>Jorge Young</td>\n",
       "    </tr>\n",
       "    <tr>\n",
       "      <th>2</th>\n",
       "      <td>Jennifer Hinton</td>\n",
       "      <td>2022-04-06</td>\n",
       "      <td>{Contract}</td>\n",
       "      <td>{Java}</td>\n",
       "      <td>Jorge Young</td>\n",
       "      <td>Business</td>\n",
       "      <td>Analyst</td>\n",
       "      <td>{'city': 'London', 'tz': 'UTC', 'country': 'GBR'}</td>\n",
       "      <td>0.0</td>\n",
       "      <td>Jorge Young</td>\n",
       "    </tr>\n",
       "    <tr>\n",
       "      <th>3</th>\n",
       "      <td>Mary Brown</td>\n",
       "      <td>2022-05-22</td>\n",
       "      <td>{Contract}</td>\n",
       "      <td>{}</td>\n",
       "      <td>Jorge Young</td>\n",
       "      <td>Business</td>\n",
       "      <td>Analyst</td>\n",
       "      <td>{'city': 'New York', 'tz': 'EST', 'country': '...</td>\n",
       "      <td>0.0</td>\n",
       "      <td>Jorge Young</td>\n",
       "    </tr>\n",
       "    <tr>\n",
       "      <th>4</th>\n",
       "      <td>Sharon Quinn</td>\n",
       "      <td>2022-03-30</td>\n",
       "      <td>{Contract}</td>\n",
       "      <td>{JavaScript, Typescript, Python}</td>\n",
       "      <td>Jorge Young</td>\n",
       "      <td>Business</td>\n",
       "      <td>Analyst</td>\n",
       "      <td>{'city': 'New York', 'tz': 'EST', 'country': '...</td>\n",
       "      <td>0.0</td>\n",
       "      <td>Jorge Young</td>\n",
       "    </tr>\n",
       "  </tbody>\n",
       "</table>\n",
       "</div>"
      ],
      "text/plain": [
       "              name   hire_date       status                         languages   \n",
       "0      Jorge Young  2020-06-18   {Contract}  {JavaScript, Typescript, Python}  \\\n",
       "1       Jon Hunter  2022-07-03  {Full Time}                     {Java, Scala}   \n",
       "2  Jennifer Hinton  2022-04-06   {Contract}                            {Java}   \n",
       "3       Mary Brown  2022-05-22   {Contract}                                {}   \n",
       "4     Sharon Quinn  2022-03-30   {Contract}  {JavaScript, Typescript, Python}   \n",
       "\n",
       "       manager      team    title   \n",
       "0  Jorge Young  Business  Analyst  \\\n",
       "1  Jorge Young  Business  Analyst   \n",
       "2  Jorge Young  Business  Analyst   \n",
       "3  Jorge Young  Business  Analyst   \n",
       "4  Jorge Young  Business  Analyst   \n",
       "\n",
       "                                            location  rank   peoplemanager  \n",
       "0  {'city': 'London', 'tz': 'UTC', 'country': 'GBR'}   0.0  Gregory Gibson  \n",
       "1  {'city': 'London', 'tz': 'UTC', 'country': 'GBR'}   0.0     Jorge Young  \n",
       "2  {'city': 'London', 'tz': 'UTC', 'country': 'GBR'}   0.0     Jorge Young  \n",
       "3  {'city': 'New York', 'tz': 'EST', 'country': '...   0.0     Jorge Young  \n",
       "4  {'city': 'New York', 'tz': 'EST', 'country': '...   0.0     Jorge Young  "
      ]
     },
     "execution_count": 48,
     "metadata": {},
     "output_type": "execute_result"
    }
   ],
   "source": [
    "def naivereportsto(row, df):\n",
    "    supervisor = (\n",
    "        df[(df.index < row.name)].query(f\"\"\"rank <= {row[\"rank\"]}-1\"\"\").tail(1)[\"name\"]\n",
    "    )\n",
    "    supervisor = supervisor.item() if not supervisor.empty else None\n",
    "    peer = df[(df.index < row.name)].query(f\"\"\"rank  == {row[\"rank\"]}\"\"\").head(1)[\"name\"]\n",
    "    peer = peer.item() if not peer.empty else None\n",
    "    return supervisor or peer or row[\"name\"]\n",
    "\n",
    "\n",
    "def reportsto(df):\n",
    "    return df.assign(manager=df.apply(naivereportsto, df=df, axis=1))\n",
    "\n",
    "\n",
    "def supervisors(df):\n",
    "    df[\"peoplemanager\"] = df.apply(naivereportsto, df=df, axis=1)\n",
    "    df = df.groupby(\"team\", group_keys=False).apply(reportsto).reset_index(drop=True)\n",
    "    return df\n",
    "\n",
    "\n",
    "people_df = people_df.pipe(supervisors)\n",
    "people_df.head(5)\n"
   ]
  },
  {
   "attachments": {},
   "cell_type": "markdown",
   "metadata": {},
   "source": [
    "Now we just need a CEO for all the team leads to report to. Set their manager as themselves to help us out later"
   ]
  },
  {
   "cell_type": "code",
   "execution_count": 49,
   "metadata": {},
   "outputs": [],
   "source": [
    "CEO = make_person().__dict__ | {\"team\":\"CEO\", \"title\":\"CEO\", \"status\":\"Full Time\"}\n",
    "CEO[\"location\"] = CEO[\"location\"].__dict__\n",
    "people_df = pd.concat([people_df, pd.DataFrame([CEO])])\n",
    "CEO_mask = people_df.name==CEO[\"name\"]\n",
    "people_df.loc[(people_df.manager == people_df.name) | CEO_mask ,\"manager\"]=CEO[\"name\"]\n",
    "people_df.loc[CEO_mask, \"rank\"] = people_df[\"rank\"].max()+1"
   ]
  },
  {
   "cell_type": "markdown",
   "metadata": {},
   "source": [
    "Cool .. this seems reasonably distributed?"
   ]
  },
  {
   "cell_type": "code",
   "execution_count": 51,
   "metadata": {},
   "outputs": [],
   "source": [
    "expanded_df = people_df.assign(**people_df.location.apply(pd.Series))"
   ]
  },
  {
   "cell_type": "code",
   "execution_count": 104,
   "metadata": {},
   "outputs": [
    {
     "data": {
      "application/vnd.plotly.v1+json": {
       "config": {
        "plotlyServerURL": "https://plot.ly"
       },
       "data": [
        {
         "alignmentgroup": "True",
         "customdata": [
          [
           "Business",
           "UTC",
           "London"
          ],
          [
           "Business",
           "UTC",
           "London"
          ],
          [
           "Business",
           "UTC",
           "London"
          ],
          [
           "Business",
           "UTC",
           "London"
          ],
          [
           "Business",
           "UTC",
           "London"
          ],
          [
           "Business",
           "UTC",
           "London"
          ],
          [
           "Business",
           "UTC",
           "London"
          ],
          [
           "Business",
           "UTC",
           "London"
          ],
          [
           "Business",
           "UTC",
           "London"
          ],
          [
           "Business",
           "UTC",
           "London"
          ],
          [
           "Business",
           "UTC",
           "London"
          ],
          [
           "Business",
           "UTC",
           "London"
          ],
          [
           "Business",
           "UTC",
           "London"
          ],
          [
           "Business",
           "UTC",
           "London"
          ],
          [
           "Business",
           "UTC",
           "London"
          ],
          [
           "Business",
           "UTC",
           "London"
          ],
          [
           "Business",
           "UTC",
           "London"
          ]
         ],
         "hovertemplate": "team=%{customdata[0]}<br>country=GBR<br>title=%{x}<br>count=%{y}<br>tz=%{customdata[1]}<br>city=%{customdata[2]}<extra></extra>",
         "legendgroup": "Business",
         "marker": {
          "color": "#636efa",
          "pattern": {
           "shape": ""
          }
         },
         "name": "Business",
         "offsetgroup": "Business",
         "orientation": "v",
         "showlegend": true,
         "textposition": "auto",
         "type": "bar",
         "x": [
          "Analyst",
          "Analyst",
          "Analyst",
          "Associate",
          "Associate",
          "Vice President",
          "Vice President",
          "Vice President",
          "Vice President",
          "Director",
          "Director",
          "Director",
          "Director",
          "Managing Director",
          "Managing Director",
          "Managing Director",
          "Managing Director"
         ],
         "xaxis": "x",
         "y": [
          1,
          1,
          1,
          1,
          1,
          1,
          1,
          1,
          1,
          1,
          1,
          1,
          1,
          1,
          1,
          1,
          1
         ],
         "yaxis": "y"
        },
        {
         "alignmentgroup": "True",
         "customdata": [
          [
           "Business",
           "EST",
           "New York"
          ],
          [
           "Business",
           "EST",
           "New York"
          ],
          [
           "Business",
           "EST",
           "New York"
          ],
          [
           "Business",
           "EST",
           "New York"
          ],
          [
           "Business",
           "EST",
           "New York"
          ],
          [
           "Business",
           "EST",
           "New York"
          ],
          [
           "Business",
           "EST",
           "New York"
          ],
          [
           "Business",
           "EST",
           "New York"
          ],
          [
           "Business",
           "EST",
           "New York"
          ]
         ],
         "hovertemplate": "team=%{customdata[0]}<br>country=USA<br>title=%{x}<br>count=%{y}<br>tz=%{customdata[1]}<br>city=%{customdata[2]}<extra></extra>",
         "legendgroup": "Business",
         "marker": {
          "color": "#636efa",
          "pattern": {
           "shape": ""
          }
         },
         "name": "Business",
         "offsetgroup": "Business",
         "orientation": "v",
         "showlegend": false,
         "textposition": "auto",
         "type": "bar",
         "x": [
          "Analyst",
          "Analyst",
          "Associate",
          "Director",
          "Director",
          "Director",
          "Managing Director",
          "Managing Director",
          "Managing Director"
         ],
         "xaxis": "x2",
         "y": [
          1,
          1,
          1,
          1,
          1,
          1,
          1,
          1,
          1
         ],
         "yaxis": "y2"
        },
        {
         "alignmentgroup": "True",
         "customdata": [
          [
           "Business",
           "EST",
           "Toronto"
          ],
          [
           "Business",
           "EST",
           "Toronto"
          ],
          [
           "Business",
           "EST",
           "Toronto"
          ],
          [
           "Business",
           "EST",
           "Toronto"
          ],
          [
           "Business",
           "EST",
           "Toronto"
          ],
          [
           "Business",
           "EST",
           "Toronto"
          ]
         ],
         "hovertemplate": "team=%{customdata[0]}<br>country=CAN<br>title=%{x}<br>count=%{y}<br>tz=%{customdata[1]}<br>city=%{customdata[2]}<extra></extra>",
         "legendgroup": "Business",
         "marker": {
          "color": "#636efa",
          "pattern": {
           "shape": ""
          }
         },
         "name": "Business",
         "offsetgroup": "Business",
         "orientation": "v",
         "showlegend": false,
         "textposition": "auto",
         "type": "bar",
         "x": [
          "Associate",
          "Associate",
          "Vice President",
          "Director",
          "Managing Director",
          "Managing Director"
         ],
         "xaxis": "x3",
         "y": [
          1,
          1,
          1,
          1,
          1,
          1
         ],
         "yaxis": "y3"
        },
        {
         "alignmentgroup": "True",
         "customdata": [
          [
           "DevOps",
           "UTC",
           "Dublin"
          ],
          [
           "DevOps",
           "UTC",
           "Dublin"
          ],
          [
           "DevOps",
           "UTC",
           "Dublin"
          ],
          [
           "DevOps",
           "UTC",
           "Dublin"
          ],
          [
           "DevOps",
           "UTC",
           "Dublin"
          ],
          [
           "DevOps",
           "UTC",
           "Dublin"
          ],
          [
           "DevOps",
           "UTC",
           "Dublin"
          ],
          [
           "DevOps",
           "UTC",
           "Dublin"
          ],
          [
           "DevOps",
           "UTC",
           "Dublin"
          ],
          [
           "DevOps",
           "UTC",
           "Dublin"
          ],
          [
           "DevOps",
           "UTC",
           "Dublin"
          ],
          [
           "DevOps",
           "UTC",
           "Dublin"
          ],
          [
           "DevOps",
           "UTC",
           "Dublin"
          ],
          [
           "DevOps",
           "UTC",
           "Dublin"
          ],
          [
           "DevOps",
           "UTC",
           "Dublin"
          ]
         ],
         "hovertemplate": "team=%{customdata[0]}<br>country=IRL<br>title=%{x}<br>count=%{y}<br>tz=%{customdata[1]}<br>city=%{customdata[2]}<extra></extra>",
         "legendgroup": "DevOps",
         "marker": {
          "color": "#EF553B",
          "pattern": {
           "shape": ""
          }
         },
         "name": "DevOps",
         "offsetgroup": "DevOps",
         "orientation": "v",
         "showlegend": true,
         "textposition": "auto",
         "type": "bar",
         "x": [
          "Engineer",
          "Engineer",
          "Engineer",
          "Engineer",
          "Engineer",
          "Senior Engineer",
          "Senior Engineer",
          "Senior Engineer",
          "Senior Engineer",
          "Senior Engineer",
          "Senior Engineer",
          "Senior Engineer",
          "Manager",
          "Manager",
          "Manager"
         ],
         "xaxis": "x4",
         "y": [
          1,
          1,
          1,
          1,
          1,
          1,
          1,
          1,
          1,
          1,
          1,
          1,
          1,
          1,
          1
         ],
         "yaxis": "y4"
        },
        {
         "alignmentgroup": "True",
         "customdata": [
          [
           "DevX",
           "EST",
           "Fort Lauderdale"
          ],
          [
           "DevX",
           "EST",
           "Fort Lauderdale"
          ],
          [
           "DevX",
           "EST",
           "Fort Lauderdale"
          ],
          [
           "DevX",
           "EST",
           "Fort Lauderdale"
          ],
          [
           "DevX",
           "EST",
           "Fort Lauderdale"
          ],
          [
           "DevX",
           "EST",
           "Fort Lauderdale"
          ],
          [
           "DevX",
           "EST",
           "Fort Lauderdale"
          ],
          [
           "DevX",
           "EST",
           "Fort Lauderdale"
          ],
          [
           "DevX",
           "EST",
           "Fort Lauderdale"
          ],
          [
           "DevX",
           "EST",
           "Fort Lauderdale"
          ],
          [
           "DevX",
           "EST",
           "Fort Lauderdale"
          ],
          [
           "DevX",
           "EST",
           "Fort Lauderdale"
          ],
          [
           "DevX",
           "EST",
           "Fort Lauderdale"
          ],
          [
           "DevX",
           "EST",
           "Fort Lauderdale"
          ],
          [
           "DevX",
           "EST",
           "Fort Lauderdale"
          ],
          [
           "DevX",
           "EST",
           "Fort Lauderdale"
          ],
          [
           "DevX",
           "EST",
           "Fort Lauderdale"
          ],
          [
           "DevX",
           "EST",
           "Fort Lauderdale"
          ],
          [
           "DevX",
           "EST",
           "Fort Lauderdale"
          ],
          [
           "DevX",
           "EST",
           "Fort Lauderdale"
          ],
          [
           "DevX",
           "EST",
           "Fort Lauderdale"
          ],
          [
           "DevX",
           "EST",
           "Fort Lauderdale"
          ],
          [
           "DevX",
           "EST",
           "Fort Lauderdale"
          ],
          [
           "DevX",
           "EST",
           "Fort Lauderdale"
          ],
          [
           "DevX",
           "EST",
           "Fort Lauderdale"
          ],
          [
           "DevX",
           "EST",
           "Fort Lauderdale"
          ],
          [
           "DevX",
           "EST",
           "Fort Lauderdale"
          ],
          [
           "DevX",
           "EST",
           "Fort Lauderdale"
          ],
          [
           "DevX",
           "EST",
           "Fort Lauderdale"
          ]
         ],
         "hovertemplate": "team=%{customdata[0]}<br>country=USA<br>title=%{x}<br>count=%{y}<br>tz=%{customdata[1]}<br>city=%{customdata[2]}<extra></extra>",
         "legendgroup": "DevX",
         "marker": {
          "color": "#00cc96",
          "pattern": {
           "shape": ""
          }
         },
         "name": "DevX",
         "offsetgroup": "DevX",
         "orientation": "v",
         "showlegend": true,
         "textposition": "auto",
         "type": "bar",
         "x": [
          "Engineer",
          "Engineer",
          "Engineer",
          "Engineer",
          "Engineer",
          "Engineer",
          "Engineer",
          "Engineer",
          "Engineer",
          "Engineer",
          "Engineer",
          "Engineer",
          "Engineer",
          "Engineer",
          "Engineer",
          "Engineer",
          "Engineer",
          "Engineer",
          "Engineer",
          "Engineer",
          "Engineer",
          "Engineer",
          "Engineer",
          "AVP",
          "AVP",
          "AVP",
          "AVP",
          "AVP",
          "AVP"
         ],
         "xaxis": "x2",
         "y": [
          1,
          1,
          1,
          1,
          1,
          1,
          1,
          1,
          1,
          1,
          1,
          1,
          1,
          1,
          1,
          1,
          1,
          1,
          1,
          1,
          1,
          1,
          1,
          1,
          1,
          1,
          1,
          1,
          1
         ],
         "yaxis": "y2"
        },
        {
         "alignmentgroup": "True",
         "customdata": [
          [
           "Internal Tools",
           "PST",
           "Seattle"
          ],
          [
           "Internal Tools",
           "PST",
           "Seattle"
          ],
          [
           "Internal Tools",
           "PST",
           "Seattle"
          ],
          [
           "Internal Tools",
           "PST",
           "Seattle"
          ],
          [
           "Internal Tools",
           "PST",
           "Seattle"
          ],
          [
           "Internal Tools",
           "PST",
           "Seattle"
          ],
          [
           "Internal Tools",
           "PST",
           "Seattle"
          ],
          [
           "Internal Tools",
           "PST",
           "Seattle"
          ],
          [
           "Internal Tools",
           "PST",
           "Seattle"
          ],
          [
           "Internal Tools",
           "PST",
           "Seattle"
          ]
         ],
         "hovertemplate": "team=%{customdata[0]}<br>country=USA<br>title=%{x}<br>count=%{y}<br>tz=%{customdata[1]}<br>city=%{customdata[2]}<extra></extra>",
         "legendgroup": "Internal Tools",
         "marker": {
          "color": "#ab63fa",
          "pattern": {
           "shape": ""
          }
         },
         "name": "Internal Tools",
         "offsetgroup": "Internal Tools",
         "orientation": "v",
         "showlegend": true,
         "textposition": "auto",
         "type": "bar",
         "x": [
          "Engineer",
          "Senior Engineer",
          "Manager",
          "Manager",
          "Manager",
          "AVP",
          "AVP",
          "AVP",
          "VP",
          "VP"
         ],
         "xaxis": "x2",
         "y": [
          1,
          1,
          1,
          1,
          1,
          1,
          1,
          1,
          1,
          1
         ],
         "yaxis": "y2"
        },
        {
         "alignmentgroup": "True",
         "customdata": [
          [
           "Internal Tools",
           "EST",
           "Toronto"
          ],
          [
           "Internal Tools",
           "EST",
           "Toronto"
          ]
         ],
         "hovertemplate": "team=%{customdata[0]}<br>country=CAN<br>title=%{x}<br>count=%{y}<br>tz=%{customdata[1]}<br>city=%{customdata[2]}<extra></extra>",
         "legendgroup": "Internal Tools",
         "marker": {
          "color": "#ab63fa",
          "pattern": {
           "shape": ""
          }
         },
         "name": "Internal Tools",
         "offsetgroup": "Internal Tools",
         "orientation": "v",
         "showlegend": false,
         "textposition": "auto",
         "type": "bar",
         "x": [
          "Engineer",
          "AVP"
         ],
         "xaxis": "x3",
         "y": [
          1,
          1
         ],
         "yaxis": "y3"
        },
        {
         "alignmentgroup": "True",
         "customdata": [
          [
           "Platform",
           "PST",
           "Seattle"
          ],
          [
           "Platform",
           "PST",
           "Seattle"
          ],
          [
           "Platform",
           "PST",
           "Seattle"
          ],
          [
           "Platform",
           "PST",
           "Seattle"
          ],
          [
           "Platform",
           "PST",
           "Seattle"
          ],
          [
           "Platform",
           "PST",
           "Seattle"
          ],
          [
           "Platform",
           "PST",
           "Seattle"
          ]
         ],
         "hovertemplate": "team=%{customdata[0]}<br>country=USA<br>title=%{x}<br>count=%{y}<br>tz=%{customdata[1]}<br>city=%{customdata[2]}<extra></extra>",
         "legendgroup": "Platform",
         "marker": {
          "color": "#FFA15A",
          "pattern": {
           "shape": ""
          }
         },
         "name": "Platform",
         "offsetgroup": "Platform",
         "orientation": "v",
         "showlegend": true,
         "textposition": "auto",
         "type": "bar",
         "x": [
          "Engineer",
          "Engineer",
          "AVP",
          "AVP",
          "VP",
          "VP",
          "VP"
         ],
         "xaxis": "x2",
         "y": [
          1,
          1,
          1,
          1,
          1,
          1,
          1
         ],
         "yaxis": "y2"
        },
        {
         "alignmentgroup": "True",
         "customdata": [
          [
           "Platform",
           "EST",
           "Toronto"
          ],
          [
           "Platform",
           "EST",
           "Toronto"
          ]
         ],
         "hovertemplate": "team=%{customdata[0]}<br>country=CAN<br>title=%{x}<br>count=%{y}<br>tz=%{customdata[1]}<br>city=%{customdata[2]}<extra></extra>",
         "legendgroup": "Platform",
         "marker": {
          "color": "#FFA15A",
          "pattern": {
           "shape": ""
          }
         },
         "name": "Platform",
         "offsetgroup": "Platform",
         "orientation": "v",
         "showlegend": false,
         "textposition": "auto",
         "type": "bar",
         "x": [
          "Senior Engineer",
          "AVP"
         ],
         "xaxis": "x3",
         "y": [
          1,
          1
         ],
         "yaxis": "y3"
        },
        {
         "alignmentgroup": "True",
         "customdata": [
          [
           "Product",
           "EST",
           "New York"
          ],
          [
           "Product",
           "PST",
           "Seattle"
          ],
          [
           "Product",
           "PST",
           "Seattle"
          ],
          [
           "Product",
           "PST",
           "Seattle"
          ],
          [
           "Product",
           "EST",
           "New York"
          ],
          [
           "Product",
           "PST",
           "Seattle"
          ],
          [
           "Product",
           "EST",
           "New York"
          ],
          [
           "Product",
           "PST",
           "Seattle"
          ],
          [
           "Product",
           "PST",
           "Seattle"
          ],
          [
           "Product",
           "PST",
           "Seattle"
          ],
          [
           "Product",
           "EST",
           "New York"
          ],
          [
           "Product",
           "PST",
           "Seattle"
          ],
          [
           "Product",
           "EST",
           "New York"
          ],
          [
           "Product",
           "PST",
           "Seattle"
          ],
          [
           "Product",
           "EST",
           "New York"
          ],
          [
           "Product",
           "EST",
           "New York"
          ],
          [
           "Product",
           "EST",
           "New York"
          ]
         ],
         "hovertemplate": "team=%{customdata[0]}<br>country=USA<br>title=%{x}<br>count=%{y}<br>tz=%{customdata[1]}<br>city=%{customdata[2]}<extra></extra>",
         "legendgroup": "Product",
         "marker": {
          "color": "#19d3f3",
          "pattern": {
           "shape": ""
          }
         },
         "name": "Product",
         "offsetgroup": "Product",
         "orientation": "v",
         "showlegend": true,
         "textposition": "auto",
         "type": "bar",
         "x": [
          "Engineer",
          "Engineer",
          "Engineer",
          "Engineer",
          "Engineer",
          "Manager",
          "Manager",
          "Manager",
          "Manager",
          "Manager",
          "Product Owner",
          "Product Owner",
          "AVP",
          "AVP",
          "AVP",
          "VP",
          "VP"
         ],
         "xaxis": "x2",
         "y": [
          1,
          1,
          1,
          1,
          1,
          1,
          1,
          1,
          1,
          1,
          1,
          1,
          1,
          1,
          1,
          1,
          1
         ],
         "yaxis": "y2"
        },
        {
         "alignmentgroup": "True",
         "customdata": [
          [
           "Product",
           "EST",
           "Toronto"
          ],
          [
           "Product",
           "EST",
           "Toronto"
          ],
          [
           "Product",
           "EST",
           "Toronto"
          ],
          [
           "Product",
           "EST",
           "Toronto"
          ],
          [
           "Product",
           "EST",
           "Toronto"
          ]
         ],
         "hovertemplate": "team=%{customdata[0]}<br>country=CAN<br>title=%{x}<br>count=%{y}<br>tz=%{customdata[1]}<br>city=%{customdata[2]}<extra></extra>",
         "legendgroup": "Product",
         "marker": {
          "color": "#19d3f3",
          "pattern": {
           "shape": ""
          }
         },
         "name": "Product",
         "offsetgroup": "Product",
         "orientation": "v",
         "showlegend": false,
         "textposition": "auto",
         "type": "bar",
         "x": [
          "Engineer",
          "Product Owner",
          "VP",
          "VP",
          "VP"
         ],
         "xaxis": "x3",
         "y": [
          1,
          1,
          1,
          1,
          1
         ],
         "yaxis": "y3"
        },
        {
         "alignmentgroup": "True",
         "customdata": [
          [
           "Sales",
           "UTC",
           "London"
          ],
          [
           "Sales",
           "UTC",
           "London"
          ],
          [
           "Sales",
           "UTC",
           "London"
          ],
          [
           "Sales",
           "UTC",
           "London"
          ],
          [
           "Sales",
           "UTC",
           "London"
          ],
          [
           "Sales",
           "UTC",
           "London"
          ]
         ],
         "hovertemplate": "team=%{customdata[0]}<br>country=GBR<br>title=%{x}<br>count=%{y}<br>tz=%{customdata[1]}<br>city=%{customdata[2]}<extra></extra>",
         "legendgroup": "Sales",
         "marker": {
          "color": "#FF6692",
          "pattern": {
           "shape": ""
          }
         },
         "name": "Sales",
         "offsetgroup": "Sales",
         "orientation": "v",
         "showlegend": true,
         "textposition": "auto",
         "type": "bar",
         "x": [
          "Associate",
          "Associate",
          "Associate",
          "Associate",
          "Associate",
          "Associate"
         ],
         "xaxis": "x",
         "y": [
          1,
          1,
          1,
          1,
          1,
          1
         ],
         "yaxis": "y"
        },
        {
         "alignmentgroup": "True",
         "customdata": [
          [
           "Sales",
           "EST",
           "New York"
          ],
          [
           "Sales",
           "EST",
           "New York"
          ],
          [
           "Sales",
           "EST",
           "New York"
          ],
          [
           "Sales",
           "EST",
           "New York"
          ],
          [
           "Sales",
           "EST",
           "New York"
          ],
          [
           "Sales",
           "EST",
           "New York"
          ],
          [
           "Sales",
           "EST",
           "New York"
          ],
          [
           "Sales",
           "EST",
           "New York"
          ],
          [
           "Sales",
           "EST",
           "New York"
          ]
         ],
         "hovertemplate": "team=%{customdata[0]}<br>country=USA<br>title=%{x}<br>count=%{y}<br>tz=%{customdata[1]}<br>city=%{customdata[2]}<extra></extra>",
         "legendgroup": "Sales",
         "marker": {
          "color": "#FF6692",
          "pattern": {
           "shape": ""
          }
         },
         "name": "Sales",
         "offsetgroup": "Sales",
         "orientation": "v",
         "showlegend": false,
         "textposition": "auto",
         "type": "bar",
         "x": [
          "Associate",
          "Associate",
          "Associate",
          "Associate",
          "Associate",
          "Associate",
          "Associate",
          "Associate",
          "Associate"
         ],
         "xaxis": "x2",
         "y": [
          1,
          1,
          1,
          1,
          1,
          1,
          1,
          1,
          1
         ],
         "yaxis": "y2"
        },
        {
         "alignmentgroup": "True",
         "customdata": [
          [
           "Sales",
           "EST",
           "Toronto"
          ],
          [
           "Sales",
           "EST",
           "Toronto"
          ],
          [
           "Sales",
           "EST",
           "Toronto"
          ],
          [
           "Sales",
           "EST",
           "Toronto"
          ],
          [
           "Sales",
           "EST",
           "Toronto"
          ]
         ],
         "hovertemplate": "team=%{customdata[0]}<br>country=CAN<br>title=%{x}<br>count=%{y}<br>tz=%{customdata[1]}<br>city=%{customdata[2]}<extra></extra>",
         "legendgroup": "Sales",
         "marker": {
          "color": "#FF6692",
          "pattern": {
           "shape": ""
          }
         },
         "name": "Sales",
         "offsetgroup": "Sales",
         "orientation": "v",
         "showlegend": false,
         "textposition": "auto",
         "type": "bar",
         "x": [
          "Associate",
          "Associate",
          "Associate",
          "Associate",
          "Associate"
         ],
         "xaxis": "x3",
         "y": [
          1,
          1,
          1,
          1,
          1
         ],
         "yaxis": "y3"
        },
        {
         "alignmentgroup": "True",
         "customdata": [
          [
           "Support",
           "UTC",
           "Dublin"
          ],
          [
           "Support",
           "UTC",
           "Dublin"
          ],
          [
           "Support",
           "UTC",
           "Dublin"
          ],
          [
           "Support",
           "UTC",
           "Dublin"
          ],
          [
           "Support",
           "UTC",
           "Dublin"
          ],
          [
           "Support",
           "UTC",
           "Dublin"
          ],
          [
           "Support",
           "UTC",
           "Dublin"
          ],
          [
           "Support",
           "UTC",
           "Dublin"
          ],
          [
           "Support",
           "UTC",
           "Dublin"
          ],
          [
           "Support",
           "UTC",
           "Dublin"
          ],
          [
           "Support",
           "UTC",
           "Dublin"
          ]
         ],
         "hovertemplate": "team=%{customdata[0]}<br>country=IRL<br>title=%{x}<br>count=%{y}<br>tz=%{customdata[1]}<br>city=%{customdata[2]}<extra></extra>",
         "legendgroup": "Support",
         "marker": {
          "color": "#B6E880",
          "pattern": {
           "shape": ""
          }
         },
         "name": "Support",
         "offsetgroup": "Support",
         "orientation": "v",
         "showlegend": true,
         "textposition": "auto",
         "type": "bar",
         "x": [
          "Analyst",
          "Analyst",
          "Analyst",
          "Analyst",
          "Analyst",
          "Analyst",
          "Analyst",
          "Analyst",
          "Analyst",
          "Manager",
          "Manager"
         ],
         "xaxis": "x4",
         "y": [
          1,
          1,
          1,
          1,
          1,
          1,
          1,
          1,
          1,
          1,
          1
         ],
         "yaxis": "y4"
        },
        {
         "alignmentgroup": "True",
         "customdata": [
          [
           "CEO",
           "EST",
           "Toronto"
          ]
         ],
         "hovertemplate": "team=%{customdata[0]}<br>country=CAN<br>title=%{x}<br>count=%{y}<br>tz=%{customdata[1]}<br>city=%{customdata[2]}<extra></extra>",
         "legendgroup": "CEO",
         "marker": {
          "color": "#FF97FF",
          "pattern": {
           "shape": ""
          }
         },
         "name": "CEO",
         "offsetgroup": "CEO",
         "orientation": "v",
         "showlegend": true,
         "textposition": "auto",
         "type": "bar",
         "x": [
          "CEO"
         ],
         "xaxis": "x3",
         "y": [
          1
         ],
         "yaxis": "y3"
        }
       ],
       "layout": {
        "annotations": [
         {
          "font": {},
          "showarrow": false,
          "text": "country=GBR",
          "x": 0.1175,
          "xanchor": "center",
          "xref": "paper",
          "y": 1,
          "yanchor": "bottom",
          "yref": "paper"
         },
         {
          "font": {},
          "showarrow": false,
          "text": "country=USA",
          "x": 0.3725,
          "xanchor": "center",
          "xref": "paper",
          "y": 1,
          "yanchor": "bottom",
          "yref": "paper"
         },
         {
          "font": {},
          "showarrow": false,
          "text": "country=CAN",
          "x": 0.6275,
          "xanchor": "center",
          "xref": "paper",
          "y": 1,
          "yanchor": "bottom",
          "yref": "paper"
         },
         {
          "font": {},
          "showarrow": false,
          "text": "country=IRL",
          "x": 0.8824999999999998,
          "xanchor": "center",
          "xref": "paper",
          "y": 1,
          "yanchor": "bottom",
          "yref": "paper"
         }
        ],
        "barmode": "relative",
        "legend": {
         "title": {
          "text": "team"
         },
         "tracegroupgap": 0
        },
        "margin": {
         "t": 60
        },
        "template": {
         "data": {
          "bar": [
           {
            "error_x": {
             "color": "#f2f5fa"
            },
            "error_y": {
             "color": "#f2f5fa"
            },
            "marker": {
             "line": {
              "color": "rgb(17,17,17)",
              "width": 0.5
             },
             "pattern": {
              "fillmode": "overlay",
              "size": 10,
              "solidity": 0.2
             }
            },
            "type": "bar"
           }
          ],
          "barpolar": [
           {
            "marker": {
             "line": {
              "color": "rgb(17,17,17)",
              "width": 0.5
             },
             "pattern": {
              "fillmode": "overlay",
              "size": 10,
              "solidity": 0.2
             }
            },
            "type": "barpolar"
           }
          ],
          "carpet": [
           {
            "aaxis": {
             "endlinecolor": "#A2B1C6",
             "gridcolor": "#506784",
             "linecolor": "#506784",
             "minorgridcolor": "#506784",
             "startlinecolor": "#A2B1C6"
            },
            "baxis": {
             "endlinecolor": "#A2B1C6",
             "gridcolor": "#506784",
             "linecolor": "#506784",
             "minorgridcolor": "#506784",
             "startlinecolor": "#A2B1C6"
            },
            "type": "carpet"
           }
          ],
          "choropleth": [
           {
            "colorbar": {
             "outlinewidth": 0,
             "ticks": ""
            },
            "type": "choropleth"
           }
          ],
          "contour": [
           {
            "colorbar": {
             "outlinewidth": 0,
             "ticks": ""
            },
            "colorscale": [
             [
              0,
              "#0d0887"
             ],
             [
              0.1111111111111111,
              "#46039f"
             ],
             [
              0.2222222222222222,
              "#7201a8"
             ],
             [
              0.3333333333333333,
              "#9c179e"
             ],
             [
              0.4444444444444444,
              "#bd3786"
             ],
             [
              0.5555555555555556,
              "#d8576b"
             ],
             [
              0.6666666666666666,
              "#ed7953"
             ],
             [
              0.7777777777777778,
              "#fb9f3a"
             ],
             [
              0.8888888888888888,
              "#fdca26"
             ],
             [
              1,
              "#f0f921"
             ]
            ],
            "type": "contour"
           }
          ],
          "contourcarpet": [
           {
            "colorbar": {
             "outlinewidth": 0,
             "ticks": ""
            },
            "type": "contourcarpet"
           }
          ],
          "heatmap": [
           {
            "colorbar": {
             "outlinewidth": 0,
             "ticks": ""
            },
            "colorscale": [
             [
              0,
              "#0d0887"
             ],
             [
              0.1111111111111111,
              "#46039f"
             ],
             [
              0.2222222222222222,
              "#7201a8"
             ],
             [
              0.3333333333333333,
              "#9c179e"
             ],
             [
              0.4444444444444444,
              "#bd3786"
             ],
             [
              0.5555555555555556,
              "#d8576b"
             ],
             [
              0.6666666666666666,
              "#ed7953"
             ],
             [
              0.7777777777777778,
              "#fb9f3a"
             ],
             [
              0.8888888888888888,
              "#fdca26"
             ],
             [
              1,
              "#f0f921"
             ]
            ],
            "type": "heatmap"
           }
          ],
          "heatmapgl": [
           {
            "colorbar": {
             "outlinewidth": 0,
             "ticks": ""
            },
            "colorscale": [
             [
              0,
              "#0d0887"
             ],
             [
              0.1111111111111111,
              "#46039f"
             ],
             [
              0.2222222222222222,
              "#7201a8"
             ],
             [
              0.3333333333333333,
              "#9c179e"
             ],
             [
              0.4444444444444444,
              "#bd3786"
             ],
             [
              0.5555555555555556,
              "#d8576b"
             ],
             [
              0.6666666666666666,
              "#ed7953"
             ],
             [
              0.7777777777777778,
              "#fb9f3a"
             ],
             [
              0.8888888888888888,
              "#fdca26"
             ],
             [
              1,
              "#f0f921"
             ]
            ],
            "type": "heatmapgl"
           }
          ],
          "histogram": [
           {
            "marker": {
             "pattern": {
              "fillmode": "overlay",
              "size": 10,
              "solidity": 0.2
             }
            },
            "type": "histogram"
           }
          ],
          "histogram2d": [
           {
            "colorbar": {
             "outlinewidth": 0,
             "ticks": ""
            },
            "colorscale": [
             [
              0,
              "#0d0887"
             ],
             [
              0.1111111111111111,
              "#46039f"
             ],
             [
              0.2222222222222222,
              "#7201a8"
             ],
             [
              0.3333333333333333,
              "#9c179e"
             ],
             [
              0.4444444444444444,
              "#bd3786"
             ],
             [
              0.5555555555555556,
              "#d8576b"
             ],
             [
              0.6666666666666666,
              "#ed7953"
             ],
             [
              0.7777777777777778,
              "#fb9f3a"
             ],
             [
              0.8888888888888888,
              "#fdca26"
             ],
             [
              1,
              "#f0f921"
             ]
            ],
            "type": "histogram2d"
           }
          ],
          "histogram2dcontour": [
           {
            "colorbar": {
             "outlinewidth": 0,
             "ticks": ""
            },
            "colorscale": [
             [
              0,
              "#0d0887"
             ],
             [
              0.1111111111111111,
              "#46039f"
             ],
             [
              0.2222222222222222,
              "#7201a8"
             ],
             [
              0.3333333333333333,
              "#9c179e"
             ],
             [
              0.4444444444444444,
              "#bd3786"
             ],
             [
              0.5555555555555556,
              "#d8576b"
             ],
             [
              0.6666666666666666,
              "#ed7953"
             ],
             [
              0.7777777777777778,
              "#fb9f3a"
             ],
             [
              0.8888888888888888,
              "#fdca26"
             ],
             [
              1,
              "#f0f921"
             ]
            ],
            "type": "histogram2dcontour"
           }
          ],
          "mesh3d": [
           {
            "colorbar": {
             "outlinewidth": 0,
             "ticks": ""
            },
            "type": "mesh3d"
           }
          ],
          "parcoords": [
           {
            "line": {
             "colorbar": {
              "outlinewidth": 0,
              "ticks": ""
             }
            },
            "type": "parcoords"
           }
          ],
          "pie": [
           {
            "automargin": true,
            "type": "pie"
           }
          ],
          "scatter": [
           {
            "marker": {
             "line": {
              "color": "#283442"
             }
            },
            "type": "scatter"
           }
          ],
          "scatter3d": [
           {
            "line": {
             "colorbar": {
              "outlinewidth": 0,
              "ticks": ""
             }
            },
            "marker": {
             "colorbar": {
              "outlinewidth": 0,
              "ticks": ""
             }
            },
            "type": "scatter3d"
           }
          ],
          "scattercarpet": [
           {
            "marker": {
             "colorbar": {
              "outlinewidth": 0,
              "ticks": ""
             }
            },
            "type": "scattercarpet"
           }
          ],
          "scattergeo": [
           {
            "marker": {
             "colorbar": {
              "outlinewidth": 0,
              "ticks": ""
             }
            },
            "type": "scattergeo"
           }
          ],
          "scattergl": [
           {
            "marker": {
             "line": {
              "color": "#283442"
             }
            },
            "type": "scattergl"
           }
          ],
          "scattermapbox": [
           {
            "marker": {
             "colorbar": {
              "outlinewidth": 0,
              "ticks": ""
             }
            },
            "type": "scattermapbox"
           }
          ],
          "scatterpolar": [
           {
            "marker": {
             "colorbar": {
              "outlinewidth": 0,
              "ticks": ""
             }
            },
            "type": "scatterpolar"
           }
          ],
          "scatterpolargl": [
           {
            "marker": {
             "colorbar": {
              "outlinewidth": 0,
              "ticks": ""
             }
            },
            "type": "scatterpolargl"
           }
          ],
          "scatterternary": [
           {
            "marker": {
             "colorbar": {
              "outlinewidth": 0,
              "ticks": ""
             }
            },
            "type": "scatterternary"
           }
          ],
          "surface": [
           {
            "colorbar": {
             "outlinewidth": 0,
             "ticks": ""
            },
            "colorscale": [
             [
              0,
              "#0d0887"
             ],
             [
              0.1111111111111111,
              "#46039f"
             ],
             [
              0.2222222222222222,
              "#7201a8"
             ],
             [
              0.3333333333333333,
              "#9c179e"
             ],
             [
              0.4444444444444444,
              "#bd3786"
             ],
             [
              0.5555555555555556,
              "#d8576b"
             ],
             [
              0.6666666666666666,
              "#ed7953"
             ],
             [
              0.7777777777777778,
              "#fb9f3a"
             ],
             [
              0.8888888888888888,
              "#fdca26"
             ],
             [
              1,
              "#f0f921"
             ]
            ],
            "type": "surface"
           }
          ],
          "table": [
           {
            "cells": {
             "fill": {
              "color": "#506784"
             },
             "line": {
              "color": "rgb(17,17,17)"
             }
            },
            "header": {
             "fill": {
              "color": "#2a3f5f"
             },
             "line": {
              "color": "rgb(17,17,17)"
             }
            },
            "type": "table"
           }
          ]
         },
         "layout": {
          "annotationdefaults": {
           "arrowcolor": "#f2f5fa",
           "arrowhead": 0,
           "arrowwidth": 1
          },
          "autotypenumbers": "strict",
          "coloraxis": {
           "colorbar": {
            "outlinewidth": 0,
            "ticks": ""
           }
          },
          "colorscale": {
           "diverging": [
            [
             0,
             "#8e0152"
            ],
            [
             0.1,
             "#c51b7d"
            ],
            [
             0.2,
             "#de77ae"
            ],
            [
             0.3,
             "#f1b6da"
            ],
            [
             0.4,
             "#fde0ef"
            ],
            [
             0.5,
             "#f7f7f7"
            ],
            [
             0.6,
             "#e6f5d0"
            ],
            [
             0.7,
             "#b8e186"
            ],
            [
             0.8,
             "#7fbc41"
            ],
            [
             0.9,
             "#4d9221"
            ],
            [
             1,
             "#276419"
            ]
           ],
           "sequential": [
            [
             0,
             "#0d0887"
            ],
            [
             0.1111111111111111,
             "#46039f"
            ],
            [
             0.2222222222222222,
             "#7201a8"
            ],
            [
             0.3333333333333333,
             "#9c179e"
            ],
            [
             0.4444444444444444,
             "#bd3786"
            ],
            [
             0.5555555555555556,
             "#d8576b"
            ],
            [
             0.6666666666666666,
             "#ed7953"
            ],
            [
             0.7777777777777778,
             "#fb9f3a"
            ],
            [
             0.8888888888888888,
             "#fdca26"
            ],
            [
             1,
             "#f0f921"
            ]
           ],
           "sequentialminus": [
            [
             0,
             "#0d0887"
            ],
            [
             0.1111111111111111,
             "#46039f"
            ],
            [
             0.2222222222222222,
             "#7201a8"
            ],
            [
             0.3333333333333333,
             "#9c179e"
            ],
            [
             0.4444444444444444,
             "#bd3786"
            ],
            [
             0.5555555555555556,
             "#d8576b"
            ],
            [
             0.6666666666666666,
             "#ed7953"
            ],
            [
             0.7777777777777778,
             "#fb9f3a"
            ],
            [
             0.8888888888888888,
             "#fdca26"
            ],
            [
             1,
             "#f0f921"
            ]
           ]
          },
          "colorway": [
           "#636efa",
           "#EF553B",
           "#00cc96",
           "#ab63fa",
           "#FFA15A",
           "#19d3f3",
           "#FF6692",
           "#B6E880",
           "#FF97FF",
           "#FECB52"
          ],
          "font": {
           "color": "#f2f5fa"
          },
          "geo": {
           "bgcolor": "rgb(17,17,17)",
           "lakecolor": "rgb(17,17,17)",
           "landcolor": "rgb(17,17,17)",
           "showlakes": true,
           "showland": true,
           "subunitcolor": "#506784"
          },
          "hoverlabel": {
           "align": "left"
          },
          "hovermode": "closest",
          "mapbox": {
           "style": "dark"
          },
          "paper_bgcolor": "rgb(17,17,17)",
          "plot_bgcolor": "rgb(17,17,17)",
          "polar": {
           "angularaxis": {
            "gridcolor": "#506784",
            "linecolor": "#506784",
            "ticks": ""
           },
           "bgcolor": "rgb(17,17,17)",
           "radialaxis": {
            "gridcolor": "#506784",
            "linecolor": "#506784",
            "ticks": ""
           }
          },
          "scene": {
           "xaxis": {
            "backgroundcolor": "rgb(17,17,17)",
            "gridcolor": "#506784",
            "gridwidth": 2,
            "linecolor": "#506784",
            "showbackground": true,
            "ticks": "",
            "zerolinecolor": "#C8D4E3"
           },
           "yaxis": {
            "backgroundcolor": "rgb(17,17,17)",
            "gridcolor": "#506784",
            "gridwidth": 2,
            "linecolor": "#506784",
            "showbackground": true,
            "ticks": "",
            "zerolinecolor": "#C8D4E3"
           },
           "zaxis": {
            "backgroundcolor": "rgb(17,17,17)",
            "gridcolor": "#506784",
            "gridwidth": 2,
            "linecolor": "#506784",
            "showbackground": true,
            "ticks": "",
            "zerolinecolor": "#C8D4E3"
           }
          },
          "shapedefaults": {
           "line": {
            "color": "#f2f5fa"
           }
          },
          "sliderdefaults": {
           "bgcolor": "#C8D4E3",
           "bordercolor": "rgb(17,17,17)",
           "borderwidth": 1,
           "tickwidth": 0
          },
          "ternary": {
           "aaxis": {
            "gridcolor": "#506784",
            "linecolor": "#506784",
            "ticks": ""
           },
           "baxis": {
            "gridcolor": "#506784",
            "linecolor": "#506784",
            "ticks": ""
           },
           "bgcolor": "rgb(17,17,17)",
           "caxis": {
            "gridcolor": "#506784",
            "linecolor": "#506784",
            "ticks": ""
           }
          },
          "title": {
           "x": 0.05
          },
          "updatemenudefaults": {
           "bgcolor": "#506784",
           "borderwidth": 0
          },
          "xaxis": {
           "automargin": true,
           "gridcolor": "#283442",
           "linecolor": "#506784",
           "ticks": "",
           "title": {
            "standoff": 15
           },
           "zerolinecolor": "#283442",
           "zerolinewidth": 2
          },
          "yaxis": {
           "automargin": true,
           "gridcolor": "#283442",
           "linecolor": "#506784",
           "ticks": "",
           "title": {
            "standoff": 15
           },
           "zerolinecolor": "#283442",
           "zerolinewidth": 2
          }
         }
        },
        "xaxis": {
         "anchor": "y",
         "domain": [
          0,
          0.235
         ],
         "title": {}
        },
        "xaxis2": {
         "anchor": "y2",
         "domain": [
          0.255,
          0.49
         ],
         "title": {}
        },
        "xaxis3": {
         "anchor": "y3",
         "domain": [
          0.51,
          0.745
         ],
         "title": {}
        },
        "xaxis4": {
         "anchor": "y4",
         "domain": [
          0.7649999999999999,
          0.9999999999999999
         ],
         "title": {}
        },
        "yaxis": {
         "anchor": "x",
         "domain": [
          0,
          1
         ],
         "title": {
          "text": "count"
         }
        },
        "yaxis2": {
         "anchor": "x2",
         "domain": [
          0,
          1
         ],
         "matches": "y",
         "showticklabels": false
        },
        "yaxis3": {
         "anchor": "x3",
         "domain": [
          0,
          1
         ],
         "matches": "y",
         "showticklabels": false
        },
        "yaxis4": {
         "anchor": "x4",
         "domain": [
          0,
          1
         ],
         "matches": "y",
         "showticklabels": false
        }
       }
      }
     },
     "metadata": {},
     "output_type": "display_data"
    }
   ],
   "source": [
    "import plotly.express as px\n",
    "fig = px.bar(expanded_df, x=\"title\", color=\"team\", hover_data=[\"team\",\"tz\",\"city\"], facet_col=\"country\", template=\"plotly_dark\")\n",
    "\n",
    "fig.update_xaxes(matches=None, title_text=None)"
   ]
  }
 ],
 "metadata": {
  "kernelspec": {
   "display_name": "peopleanalytics-hP1UcNMM",
   "language": "python",
   "name": "python3"
  },
  "language_info": {
   "codemirror_mode": {
    "name": "ipython",
    "version": 3
   },
   "file_extension": ".py",
   "mimetype": "text/x-python",
   "name": "python",
   "nbconvert_exporter": "python",
   "pygments_lexer": "ipython3",
   "version": "3.11.0rc1"
  },
  "orig_nbformat": 4,
  "vscode": {
   "interpreter": {
    "hash": "a79ebb34bd880ae1609598d91f5437f974a2fc812a889a38194f0c3042249b1f"
   }
  }
 },
 "nbformat": 4,
 "nbformat_minor": 2
}
