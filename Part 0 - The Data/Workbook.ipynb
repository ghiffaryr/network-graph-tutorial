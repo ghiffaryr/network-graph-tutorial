{
 "cells": [
  {
   "attachments": {},
   "cell_type": "markdown",
   "metadata": {},
   "source": [
    "## Fake People\n",
    "\n",
    "Let's use `Faker` to make a fake person"
   ]
  },
  {
   "cell_type": "code",
   "execution_count": 1,
   "metadata": {},
   "outputs": [
    {
     "data": {
      "text/plain": [
       "{'job': 'Food technologist',\n",
       " 'company': 'Coleman and Sons',\n",
       " 'ssn': '734-31-1348',\n",
       " 'residence': '6052 Cook Cove\\nEast Justin, MI 56809',\n",
       " 'current_location': (Decimal('74.0098225'), Decimal('-104.803473')),\n",
       " 'blood_group': 'B+',\n",
       " 'website': ['http://weiss.com/'],\n",
       " 'username': 'dbrooks',\n",
       " 'name': 'Danielle Mueller',\n",
       " 'sex': 'F',\n",
       " 'address': '02984 Duarte Extension\\nWest Debra, AR 48225',\n",
       " 'mail': 'shannon98@gmail.com',\n",
       " 'birthdate': datetime.date(1990, 10, 14)}"
      ]
     },
     "execution_count": 1,
     "metadata": {},
     "output_type": "execute_result"
    }
   ],
   "source": [
    "from __future__ import annotations\n",
    "from faker import Faker\n",
    "fake = Faker()\n",
    "fake.profile()"
   ]
  },
  {
   "attachments": {},
   "cell_type": "markdown",
   "metadata": {},
   "source": [
    "This looks alright ... but in order to represent a person in a *tech org* we want some more information like:\n",
    "\n",
    "* Known Programming Languages\n",
    "* Their manager\n",
    "* Hire date\n",
    "* What team they're on\n",
    "* Better job title -- let's focus on a few titles we normally would see\n",
    "* Better location info -- We probably want to only have a few global offices, not addresses just anywhere\n",
    "\n",
    "To ground us in this task, let's define a new `Person` object that we can fill up with info:"
   ]
  },
  {
   "cell_type": "code",
   "execution_count": 10,
   "metadata": {},
   "outputs": [],
   "source": [
    "from dataclasses import dataclass, field\n",
    "import datetime\n",
    "\n",
    "@dataclass\n",
    "class Person:\n",
    "    name: str\n",
    "    hire_date: datetime.date\n",
    "    languages: list[str] = field(default_factory=list)\n",
    "    manager:str = None # let's leave these as `None` for now and be smart about it later\n",
    "    team: str = None \n",
    "    job: str = None\n",
    "    country: str = None\n",
    "\n",
    "def generate_person() -> Person:\n",
    "    \"\"\"Create a random person\"\"\"\n",
    "    return Person(\n",
    "        name = fake.name(),\n",
    "        hire_date = fake.date_between(start_date=\"-3y\", end_date=\"today\"),\n",
    "    )"
   ]
  },
  {
   "cell_type": "code",
   "execution_count": null,
   "metadata": {},
   "outputs": [],
   "source": [
    "import pandas as pd\n",
    "\n",
    "def generate_people() -> pd.DataFrame:\n",
    "    \"\"\"\"\"\""
   ]
  },
  {
   "cell_type": "code",
   "execution_count": null,
   "metadata": {},
   "outputs": [],
   "source": [
    "def assign_manager(df: pd.DataFrame) -> pd.DataFrame:\n",
    "    \"\"\"A ``pd.DataFrame.pipe`` function that assigns an appropriate ``manager`` for each\"\"\""
   ]
  },
  {
   "cell_type": "code",
   "execution_count": null,
   "metadata": {},
   "outputs": [],
   "source": [
    "def organization() -> pd.DataFrame:\n",
    "    \"\"\"A randomly generated tech organization\"\"\"\n",
    "    return generate_people().pipe(assign_manager)"
   ]
  },
  {
   "cell_type": "markdown",
   "metadata": {},
   "source": []
  }
 ],
 "metadata": {
  "kernelspec": {
   "display_name": "peopleanalytics-hP1UcNMM",
   "language": "python",
   "name": "python3"
  },
  "language_info": {
   "codemirror_mode": {
    "name": "ipython",
    "version": 3
   },
   "file_extension": ".py",
   "mimetype": "text/x-python",
   "name": "python",
   "nbconvert_exporter": "python",
   "pygments_lexer": "ipython3",
   "version": "3.11.0rc1"
  },
  "orig_nbformat": 4,
  "vscode": {
   "interpreter": {
    "hash": "a79ebb34bd880ae1609598d91f5437f974a2fc812a889a38194f0c3042249b1f"
   }
  }
 },
 "nbformat": 4,
 "nbformat_minor": 2
}
