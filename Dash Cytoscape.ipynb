{
 "cells": [
  {
   "cell_type": "markdown",
   "id": "d3b6031d-0da8-4093-bcf3-12328b4fd25e",
   "metadata": {},
   "source": [
    "# How Are People Connected?"
   ]
  },
  {
   "cell_type": "markdown",
   "id": "1c4f8bc7-9db5-463e-8eb1-cbe2eea1fade",
   "metadata": {},
   "source": [
    "## The Data\n",
    "\n",
    "Just getting the data was difficult!\n",
    "\n",
    "* PIA concerns\n",
    "* consolidating multiple sources\n",
    "* highly available?\n",
    "* who owns this now?"
   ]
  },
  {
   "cell_type": "markdown",
   "id": "acd1ebf6-f0de-492f-aea3-351154c5fd98",
   "metadata": {},
   "source": [
    "For here let's use some sample data"
   ]
  },
  {
   "cell_type": "code",
   "execution_count": 1,
   "id": "6dd6b3d4-34fc-408d-ad35-defff6d5309e",
   "metadata": {},
   "outputs": [
    {
     "data": {
      "text/html": [
       "<div>\n",
       "<style scoped>\n",
       "    .dataframe tbody tr th:only-of-type {\n",
       "        vertical-align: middle;\n",
       "    }\n",
       "\n",
       "    .dataframe tbody tr th {\n",
       "        vertical-align: top;\n",
       "    }\n",
       "\n",
       "    .dataframe thead th {\n",
       "        text-align: right;\n",
       "    }\n",
       "</style>\n",
       "<table border=\"1\" class=\"dataframe\">\n",
       "  <thead>\n",
       "    <tr style=\"text-align: right;\">\n",
       "      <th></th>\n",
       "      <th>person_ID</th>\n",
       "      <th>name</th>\n",
       "      <th>first</th>\n",
       "      <th>last</th>\n",
       "      <th>middle</th>\n",
       "      <th>email</th>\n",
       "      <th>phone</th>\n",
       "      <th>fax</th>\n",
       "      <th>title</th>\n",
       "    </tr>\n",
       "  </thead>\n",
       "  <tbody>\n",
       "    <tr>\n",
       "      <th>0</th>\n",
       "      <td>3130</td>\n",
       "      <td>Burks, Rosella</td>\n",
       "      <td>Rosella</td>\n",
       "      <td>Burks</td>\n",
       "      <td>NaN</td>\n",
       "      <td>BurksR@univ.edu</td>\n",
       "      <td>963.555.1253</td>\n",
       "      <td>963.777.4065</td>\n",
       "      <td>Professor</td>\n",
       "    </tr>\n",
       "    <tr>\n",
       "      <th>1</th>\n",
       "      <td>3297</td>\n",
       "      <td>Avila, Damien</td>\n",
       "      <td>Damien</td>\n",
       "      <td>Avila</td>\n",
       "      <td>NaN</td>\n",
       "      <td>AvilaD@univ.edu</td>\n",
       "      <td>963.555.1352</td>\n",
       "      <td>963.777.7914</td>\n",
       "      <td>Professor</td>\n",
       "    </tr>\n",
       "    <tr>\n",
       "      <th>2</th>\n",
       "      <td>3547</td>\n",
       "      <td>Olsen, Robin</td>\n",
       "      <td>Robin</td>\n",
       "      <td>Olsen</td>\n",
       "      <td>NaN</td>\n",
       "      <td>OlsenR@univ.edu</td>\n",
       "      <td>963.555.1378</td>\n",
       "      <td>963.777.9262</td>\n",
       "      <td>Assistant Professor</td>\n",
       "    </tr>\n",
       "    <tr>\n",
       "      <th>3</th>\n",
       "      <td>1538</td>\n",
       "      <td>Moises, Edgar Estes</td>\n",
       "      <td>Edgar</td>\n",
       "      <td>Moises</td>\n",
       "      <td>Estes</td>\n",
       "      <td>MoisesE@univ.edu</td>\n",
       "      <td>963.555.2731x3565</td>\n",
       "      <td>963.777.8264</td>\n",
       "      <td>Professor</td>\n",
       "    </tr>\n",
       "    <tr>\n",
       "      <th>4</th>\n",
       "      <td>2941</td>\n",
       "      <td>Brian, Heath Pruitt</td>\n",
       "      <td>Heath</td>\n",
       "      <td>Brian</td>\n",
       "      <td>Pruitt</td>\n",
       "      <td>BrianH@univ.edu</td>\n",
       "      <td>963.555.2800</td>\n",
       "      <td>963.777.7249</td>\n",
       "      <td>Associate Curator</td>\n",
       "    </tr>\n",
       "  </tbody>\n",
       "</table>\n",
       "</div>"
      ],
      "text/plain": [
       "   person_ID                 name    first    last  middle             email  \\\n",
       "0       3130      Burks, Rosella   Rosella   Burks     NaN   BurksR@univ.edu   \n",
       "1       3297       Avila, Damien    Damien   Avila     NaN   AvilaD@univ.edu   \n",
       "2       3547        Olsen, Robin     Robin   Olsen     NaN   OlsenR@univ.edu   \n",
       "3       1538  Moises, Edgar Estes    Edgar  Moises   Estes  MoisesE@univ.edu   \n",
       "4       2941  Brian, Heath Pruitt    Heath   Brian  Pruitt   BrianH@univ.edu   \n",
       "\n",
       "               phone           fax                title  \n",
       "0       963.555.1253  963.777.4065            Professor  \n",
       "1       963.555.1352  963.777.7914            Professor  \n",
       "2       963.555.1378  963.777.9262  Assistant Professor  \n",
       "3  963.555.2731x3565  963.777.8264            Professor  \n",
       "4       963.555.2800  963.777.7249    Associate Curator  "
      ]
     },
     "execution_count": 1,
     "metadata": {},
     "output_type": "execute_result"
    }
   ],
   "source": [
    "import numpy as np\n",
    "import pandas as pd\n",
    "\n",
    "people = samplepeople = pd.read_csv(\"https://raw.githubusercontent.com/lawlesst/vivo-sample-data/master/data/csv/people.csv\")\n",
    "people.title = people.title.str.strip()\n",
    "people.head()"
   ]
  },
  {
   "cell_type": "markdown",
   "id": "4b46050a-4872-4c42-8b2b-ca6a7c8feb87",
   "metadata": {},
   "source": [
    "And add a new column with a relationship to another person. Let's pretend that everyone reports up to someone else in their stream, ideally someone with a \"higher\" title, unless they're all at the top of their profession, and then there is something like a \"Chair\" that they report to."
   ]
  },
  {
   "cell_type": "code",
   "execution_count": 2,
   "id": "babdd445-b233-45be-9a99-778844547eb1",
   "metadata": {},
   "outputs": [],
   "source": [
    "people.loc[people.title.str.contains(\"Professor\"), \"stream\"] = \"Academia\"\n",
    "people.loc[people.title.str.contains(\"Curator\"), \"stream\"] = \"Curation\""
   ]
  },
  {
   "cell_type": "code",
   "execution_count": 3,
   "id": "a9419b0e-b2d2-4c17-91a0-db2d667c15aa",
   "metadata": {},
   "outputs": [],
   "source": [
    "stream_ranks = [[\"Professor\", \"Assistant Professor\", \"Research Professor\"], [\"Curator\", \"Associate Curator\"]]"
   ]
  },
  {
   "cell_type": "code",
   "execution_count": 4,
   "id": "e40a961a-1adf-4728-b27a-246d2ce52040",
   "metadata": {},
   "outputs": [
    {
     "data": {
      "text/plain": [
       "{'Professor': 0,\n",
       " 'Assistant Professor': 1,\n",
       " 'Research Professor': 2,\n",
       " 'Curator': 0,\n",
       " 'Associate Curator': 1}"
      ]
     },
     "execution_count": 4,
     "metadata": {},
     "output_type": "execute_result"
    }
   ],
   "source": [
    "ranks = {title: rank for stream in stream_ranks for rank,title in enumerate(stream)}\n",
    "ranks"
   ]
  },
  {
   "cell_type": "code",
   "execution_count": 5,
   "id": "42b4515b-8d66-495a-809f-dc923abd8344",
   "metadata": {},
   "outputs": [],
   "source": [
    "people[\"rank\"] = people.title.map(ranks)"
   ]
  },
  {
   "cell_type": "markdown",
   "id": "68a2f8f1-e34c-481e-8c09-f718ed0ec1aa",
   "metadata": {},
   "source": [
    "### Generate Supervisory Org"
   ]
  },
  {
   "cell_type": "code",
   "execution_count": 6,
   "id": "70f38f14-5e7c-4621-ac0c-dc20b1eff920",
   "metadata": {},
   "outputs": [],
   "source": [
    "def naivereportsto(row, df):\n",
    "    supervisor = df[(df.index < row.name)].query(f\"\"\"rank <= {row[\"rank\"]}-1\"\"\").tail(1).person_ID\n",
    "    supervisor = supervisor.item() if not supervisor.empty else None\n",
    "    peer = df[(df.index < row.name)].query(f\"\"\"rank  == {row[\"rank\"]}\"\"\").head(1).person_ID\n",
    "    peer = peer.item() if not peer.empty else None\n",
    "    return supervisor or peer or row.person_ID"
   ]
  },
  {
   "cell_type": "code",
   "execution_count": 7,
   "id": "01794e23-470d-4841-8038-63269656018d",
   "metadata": {},
   "outputs": [],
   "source": [
    "def reportsto(df):\n",
    "    return df.assign(manager=df.apply(naivereportsto, df=df, axis=1))"
   ]
  },
  {
   "cell_type": "code",
   "execution_count": 8,
   "id": "0ae76d93-9c85-44c9-8671-e6e30bb17fdf",
   "metadata": {},
   "outputs": [],
   "source": [
    "def supervisors(df):\n",
    "    df[\"peoplemanager\"]=df.apply(naivereportsto, df=df, axis=1)\n",
    "    df = df.groupby('stream').apply(reportsto).reset_index(drop=True)\n",
    "    return df"
   ]
  },
  {
   "cell_type": "code",
   "execution_count": 9,
   "id": "efd42494-974b-49fb-8d15-c3aa3d39fac1",
   "metadata": {},
   "outputs": [
    {
     "name": "stderr",
     "output_type": "stream",
     "text": [
      "/tmp/ipykernel_85741/542737903.py:3: FutureWarning: Not prepending group keys to the result index of transform-like apply. In the future, the group keys will be included in the index, regardless of whether the applied function returns a like-indexed object.\n",
      "To preserve the previous behavior, use\n",
      "\n",
      "\t>>> .groupby(..., group_keys=False)\n",
      "\n",
      "To adopt the future behavior and silence this warning, use \n",
      "\n",
      "\t>>> .groupby(..., group_keys=True)\n",
      "  df = df.groupby('stream').apply(reportsto).reset_index(drop=True)\n"
     ]
    },
    {
     "data": {
      "text/html": [
       "<div>\n",
       "<style scoped>\n",
       "    .dataframe tbody tr th:only-of-type {\n",
       "        vertical-align: middle;\n",
       "    }\n",
       "\n",
       "    .dataframe tbody tr th {\n",
       "        vertical-align: top;\n",
       "    }\n",
       "\n",
       "    .dataframe thead th {\n",
       "        text-align: right;\n",
       "    }\n",
       "</style>\n",
       "<table border=\"1\" class=\"dataframe\">\n",
       "  <thead>\n",
       "    <tr style=\"text-align: right;\">\n",
       "      <th></th>\n",
       "      <th>person_ID</th>\n",
       "      <th>name</th>\n",
       "      <th>first</th>\n",
       "      <th>last</th>\n",
       "      <th>middle</th>\n",
       "      <th>email</th>\n",
       "      <th>phone</th>\n",
       "      <th>fax</th>\n",
       "      <th>title</th>\n",
       "      <th>stream</th>\n",
       "      <th>rank</th>\n",
       "      <th>peoplemanager</th>\n",
       "      <th>manager</th>\n",
       "    </tr>\n",
       "  </thead>\n",
       "  <tbody>\n",
       "    <tr>\n",
       "      <th>0</th>\n",
       "      <td>3130</td>\n",
       "      <td>Burks, Rosella</td>\n",
       "      <td>Rosella</td>\n",
       "      <td>Burks</td>\n",
       "      <td>NaN</td>\n",
       "      <td>BurksR@univ.edu</td>\n",
       "      <td>963.555.1253</td>\n",
       "      <td>963.777.4065</td>\n",
       "      <td>Professor</td>\n",
       "      <td>Academia</td>\n",
       "      <td>0</td>\n",
       "      <td>3130</td>\n",
       "      <td>3130</td>\n",
       "    </tr>\n",
       "    <tr>\n",
       "      <th>1</th>\n",
       "      <td>3297</td>\n",
       "      <td>Avila, Damien</td>\n",
       "      <td>Damien</td>\n",
       "      <td>Avila</td>\n",
       "      <td>NaN</td>\n",
       "      <td>AvilaD@univ.edu</td>\n",
       "      <td>963.555.1352</td>\n",
       "      <td>963.777.7914</td>\n",
       "      <td>Professor</td>\n",
       "      <td>Academia</td>\n",
       "      <td>0</td>\n",
       "      <td>3130</td>\n",
       "      <td>3130</td>\n",
       "    </tr>\n",
       "    <tr>\n",
       "      <th>2</th>\n",
       "      <td>3547</td>\n",
       "      <td>Olsen, Robin</td>\n",
       "      <td>Robin</td>\n",
       "      <td>Olsen</td>\n",
       "      <td>NaN</td>\n",
       "      <td>OlsenR@univ.edu</td>\n",
       "      <td>963.555.1378</td>\n",
       "      <td>963.777.9262</td>\n",
       "      <td>Assistant Professor</td>\n",
       "      <td>Academia</td>\n",
       "      <td>1</td>\n",
       "      <td>3297</td>\n",
       "      <td>3297</td>\n",
       "    </tr>\n",
       "    <tr>\n",
       "      <th>3</th>\n",
       "      <td>1538</td>\n",
       "      <td>Moises, Edgar Estes</td>\n",
       "      <td>Edgar</td>\n",
       "      <td>Moises</td>\n",
       "      <td>Estes</td>\n",
       "      <td>MoisesE@univ.edu</td>\n",
       "      <td>963.555.2731x3565</td>\n",
       "      <td>963.777.8264</td>\n",
       "      <td>Professor</td>\n",
       "      <td>Academia</td>\n",
       "      <td>0</td>\n",
       "      <td>3130</td>\n",
       "      <td>3130</td>\n",
       "    </tr>\n",
       "    <tr>\n",
       "      <th>4</th>\n",
       "      <td>2941</td>\n",
       "      <td>Brian, Heath Pruitt</td>\n",
       "      <td>Heath</td>\n",
       "      <td>Brian</td>\n",
       "      <td>Pruitt</td>\n",
       "      <td>BrianH@univ.edu</td>\n",
       "      <td>963.555.2800</td>\n",
       "      <td>963.777.7249</td>\n",
       "      <td>Associate Curator</td>\n",
       "      <td>Curation</td>\n",
       "      <td>1</td>\n",
       "      <td>1538</td>\n",
       "      <td>2941</td>\n",
       "    </tr>\n",
       "  </tbody>\n",
       "</table>\n",
       "</div>"
      ],
      "text/plain": [
       "   person_ID                 name    first    last  middle             email  \\\n",
       "0       3130      Burks, Rosella   Rosella   Burks     NaN   BurksR@univ.edu   \n",
       "1       3297       Avila, Damien    Damien   Avila     NaN   AvilaD@univ.edu   \n",
       "2       3547        Olsen, Robin     Robin   Olsen     NaN   OlsenR@univ.edu   \n",
       "3       1538  Moises, Edgar Estes    Edgar  Moises   Estes  MoisesE@univ.edu   \n",
       "4       2941  Brian, Heath Pruitt    Heath   Brian  Pruitt   BrianH@univ.edu   \n",
       "\n",
       "               phone           fax                title    stream  rank  \\\n",
       "0       963.555.1253  963.777.4065            Professor  Academia     0   \n",
       "1       963.555.1352  963.777.7914            Professor  Academia     0   \n",
       "2       963.555.1378  963.777.9262  Assistant Professor  Academia     1   \n",
       "3  963.555.2731x3565  963.777.8264            Professor  Academia     0   \n",
       "4       963.555.2800  963.777.7249    Associate Curator  Curation     1   \n",
       "\n",
       "   peoplemanager  manager  \n",
       "0           3130     3130  \n",
       "1           3130     3130  \n",
       "2           3297     3297  \n",
       "3           3130     3130  \n",
       "4           1538     2941  "
      ]
     },
     "execution_count": 9,
     "metadata": {},
     "output_type": "execute_result"
    }
   ],
   "source": [
    "people = people.pipe(supervisors)\n",
    "people.head(5)"
   ]
  },
  {
   "cell_type": "markdown",
   "id": "4fca8280-e40a-4f1e-ae66-c80aa06168d2",
   "metadata": {},
   "source": [
    "Now let's turn this into a timeseries of data by semi-randomly giving people awards (from other people) over time"
   ]
  },
  {
   "cell_type": "markdown",
   "id": "6ad95e93-1a5d-4919-83ec-46e7c47d8bd9",
   "metadata": {},
   "source": [
    "And let's add some more information about the individuals by giving everyone a list of subjects of speciality"
   ]
  },
  {
   "cell_type": "code",
   "execution_count": 10,
   "id": "558a8386-88ce-44e1-bf93-751a91109a67",
   "metadata": {},
   "outputs": [],
   "source": [
    "subjects = [\"Art\",\"English\",\"Science\",\"Medieval History\",\"Sports Cars\"]\n",
    "\n",
    "people[\"subjects\"] = list(np.random.choice(subjects, size=(len(people), 2)))"
   ]
  },
  {
   "cell_type": "code",
   "execution_count": 11,
   "id": "a40cead7-1da8-42c9-97b4-19f286e745ac",
   "metadata": {},
   "outputs": [
    {
     "data": {
      "text/html": [
       "<div>\n",
       "<style scoped>\n",
       "    .dataframe tbody tr th:only-of-type {\n",
       "        vertical-align: middle;\n",
       "    }\n",
       "\n",
       "    .dataframe tbody tr th {\n",
       "        vertical-align: top;\n",
       "    }\n",
       "\n",
       "    .dataframe thead th {\n",
       "        text-align: right;\n",
       "    }\n",
       "</style>\n",
       "<table border=\"1\" class=\"dataframe\">\n",
       "  <thead>\n",
       "    <tr style=\"text-align: right;\">\n",
       "      <th></th>\n",
       "      <th>person_ID</th>\n",
       "      <th>name</th>\n",
       "      <th>first</th>\n",
       "      <th>last</th>\n",
       "      <th>middle</th>\n",
       "      <th>email</th>\n",
       "      <th>phone</th>\n",
       "      <th>fax</th>\n",
       "      <th>title</th>\n",
       "      <th>stream</th>\n",
       "      <th>rank</th>\n",
       "      <th>peoplemanager</th>\n",
       "      <th>manager</th>\n",
       "      <th>subjects</th>\n",
       "    </tr>\n",
       "  </thead>\n",
       "  <tbody>\n",
       "    <tr>\n",
       "      <th>0</th>\n",
       "      <td>3130</td>\n",
       "      <td>Burks, Rosella</td>\n",
       "      <td>Rosella</td>\n",
       "      <td>Burks</td>\n",
       "      <td>NaN</td>\n",
       "      <td>BurksR@univ.edu</td>\n",
       "      <td>963.555.1253</td>\n",
       "      <td>963.777.4065</td>\n",
       "      <td>Professor</td>\n",
       "      <td>Academia</td>\n",
       "      <td>0</td>\n",
       "      <td>3130</td>\n",
       "      <td>3130</td>\n",
       "      <td>[Medieval History, Sports Cars]</td>\n",
       "    </tr>\n",
       "    <tr>\n",
       "      <th>1</th>\n",
       "      <td>3297</td>\n",
       "      <td>Avila, Damien</td>\n",
       "      <td>Damien</td>\n",
       "      <td>Avila</td>\n",
       "      <td>NaN</td>\n",
       "      <td>AvilaD@univ.edu</td>\n",
       "      <td>963.555.1352</td>\n",
       "      <td>963.777.7914</td>\n",
       "      <td>Professor</td>\n",
       "      <td>Academia</td>\n",
       "      <td>0</td>\n",
       "      <td>3130</td>\n",
       "      <td>3130</td>\n",
       "      <td>[Science, English]</td>\n",
       "    </tr>\n",
       "    <tr>\n",
       "      <th>2</th>\n",
       "      <td>3547</td>\n",
       "      <td>Olsen, Robin</td>\n",
       "      <td>Robin</td>\n",
       "      <td>Olsen</td>\n",
       "      <td>NaN</td>\n",
       "      <td>OlsenR@univ.edu</td>\n",
       "      <td>963.555.1378</td>\n",
       "      <td>963.777.9262</td>\n",
       "      <td>Assistant Professor</td>\n",
       "      <td>Academia</td>\n",
       "      <td>1</td>\n",
       "      <td>3297</td>\n",
       "      <td>3297</td>\n",
       "      <td>[Art, English]</td>\n",
       "    </tr>\n",
       "    <tr>\n",
       "      <th>3</th>\n",
       "      <td>1538</td>\n",
       "      <td>Moises, Edgar Estes</td>\n",
       "      <td>Edgar</td>\n",
       "      <td>Moises</td>\n",
       "      <td>Estes</td>\n",
       "      <td>MoisesE@univ.edu</td>\n",
       "      <td>963.555.2731x3565</td>\n",
       "      <td>963.777.8264</td>\n",
       "      <td>Professor</td>\n",
       "      <td>Academia</td>\n",
       "      <td>0</td>\n",
       "      <td>3130</td>\n",
       "      <td>3130</td>\n",
       "      <td>[Science, Medieval History]</td>\n",
       "    </tr>\n",
       "    <tr>\n",
       "      <th>4</th>\n",
       "      <td>2941</td>\n",
       "      <td>Brian, Heath Pruitt</td>\n",
       "      <td>Heath</td>\n",
       "      <td>Brian</td>\n",
       "      <td>Pruitt</td>\n",
       "      <td>BrianH@univ.edu</td>\n",
       "      <td>963.555.2800</td>\n",
       "      <td>963.777.7249</td>\n",
       "      <td>Associate Curator</td>\n",
       "      <td>Curation</td>\n",
       "      <td>1</td>\n",
       "      <td>1538</td>\n",
       "      <td>2941</td>\n",
       "      <td>[Sports Cars, Art]</td>\n",
       "    </tr>\n",
       "  </tbody>\n",
       "</table>\n",
       "</div>"
      ],
      "text/plain": [
       "   person_ID                 name    first    last  middle             email  \\\n",
       "0       3130      Burks, Rosella   Rosella   Burks     NaN   BurksR@univ.edu   \n",
       "1       3297       Avila, Damien    Damien   Avila     NaN   AvilaD@univ.edu   \n",
       "2       3547        Olsen, Robin     Robin   Olsen     NaN   OlsenR@univ.edu   \n",
       "3       1538  Moises, Edgar Estes    Edgar  Moises   Estes  MoisesE@univ.edu   \n",
       "4       2941  Brian, Heath Pruitt    Heath   Brian  Pruitt   BrianH@univ.edu   \n",
       "\n",
       "               phone           fax                title    stream  rank  \\\n",
       "0       963.555.1253  963.777.4065            Professor  Academia     0   \n",
       "1       963.555.1352  963.777.7914            Professor  Academia     0   \n",
       "2       963.555.1378  963.777.9262  Assistant Professor  Academia     1   \n",
       "3  963.555.2731x3565  963.777.8264            Professor  Academia     0   \n",
       "4       963.555.2800  963.777.7249    Associate Curator  Curation     1   \n",
       "\n",
       "   peoplemanager  manager                         subjects  \n",
       "0           3130     3130  [Medieval History, Sports Cars]  \n",
       "1           3130     3130               [Science, English]  \n",
       "2           3297     3297                   [Art, English]  \n",
       "3           3130     3130      [Science, Medieval History]  \n",
       "4           1538     2941               [Sports Cars, Art]  "
      ]
     },
     "execution_count": 11,
     "metadata": {},
     "output_type": "execute_result"
    }
   ],
   "source": [
    "people.head(5)"
   ]
  },
  {
   "cell_type": "markdown",
   "id": "d84c06ff-5372-482c-bd0b-ba735bb98f94",
   "metadata": {},
   "source": [
    "## Build The Network"
   ]
  },
  {
   "cell_type": "code",
   "execution_count": 12,
   "id": "4c2a1061-d704-4121-bcd3-c78eac4faa68",
   "metadata": {},
   "outputs": [],
   "source": [
    "def elements(people):\n",
    "    depth = people[\"rank\"].max()\n",
    "    size = 30\n",
    "    return [\n",
    "        {\n",
    "            \"data\": {\n",
    "                \"id\": person.get(\"person_ID\"),\n",
    "                \"label\": person.get(\"last\"),\n",
    "                \"size\": size * (depth - person.get(\"rank\")),\n",
    "                **person,\n",
    "            },\n",
    "        }\n",
    "        for person in people.to_dict(orient=\"records\")\n",
    "    ]"
   ]
  },
  {
   "cell_type": "code",
   "execution_count": 13,
   "id": "d6864928-7257-495d-8160-edf37c98955f",
   "metadata": {},
   "outputs": [],
   "source": [
    "def edges(people): \n",
    "    manages = [{\"data\": {\"label\": \"Manages\", **edge}} for edge in people[[\"person_ID\", \"manager\"]]\n",
    "            .rename(columns={\"person_ID\":\"source\", \"manager\":\"target\"})\n",
    "            .to_dict(orient=\"records\") if edge.get(\"source\") != edge.get(\"target\")]\n",
    "    return manages"
   ]
  },
  {
   "cell_type": "markdown",
   "id": "974da474-2013-416b-8c2c-bc20d648bc80",
   "metadata": {},
   "source": [
    "## Dash"
   ]
  },
  {
   "cell_type": "code",
   "execution_count": 25,
   "id": "2965ea1a-f559-4d9d-854c-b61e0c156465",
   "metadata": {},
   "outputs": [],
   "source": [
    "from dash import dash, html, dcc, Input, Output\n",
    "# from jupyter_dash import JupyterDash\n",
    "import dash_cytoscape as cyto\n",
    "# JupyterDash.infer_jupyter_proxy_config()\n",
    "cyto.load_extra_layouts()\n",
    "dashboard = dash.Dash(__name__)\n",
    "#dashboard = JupyterDash(__name__)"
   ]
  },
  {
   "cell_type": "code",
   "execution_count": 26,
   "id": "25727331-d4a4-47e2-a1d6-fdda2aa8d5e8",
   "metadata": {},
   "outputs": [],
   "source": [
    "stylesheet = [\n",
    "    # Group selectors\n",
    "    {\"selector\": \"node\", \"style\": {\"content\": \"data(label)\", \"width\":\"data(size)\", \"height\":\"data(size)\"}},\n",
    "    {\"selector\": \"\"\"[stream = \"Academia\"]\"\"\", \"style\":{\"background-color\":\"blue\"}},\n",
    "    {\"selector\": \"\"\"[stream = \"Curation\"]\"\"\", \"style\":{\"background-color\":\"green\"}},\n",
    "    # Edge selectors\n",
    "    {\n",
    "        \"selector\": \"edge\",\n",
    "        \"style\": {\n",
    "            \"content\": \"data(label)\",\n",
    "            \"curve-style\": \"bezier\",\n",
    "            \"line-color\": \"gray\",\n",
    "            \"source-arrow-shape\":\"triangle\",\n",
    "            \"font-size\":\"10px\",\n",
    "        },\n",
    "    },\n",
    "]"
   ]
  },
  {
   "cell_type": "code",
   "execution_count": 27,
   "id": "60e092be-a68c-4bfc-83e0-24457531a253",
   "metadata": {},
   "outputs": [],
   "source": [
    "def radial_circles(colours):\n",
    "    stylesheet = {}\n",
    "    return stylesheet"
   ]
  },
  {
   "cell_type": "code",
   "execution_count": 28,
   "id": "cc6a4af6-bf5e-4279-ac5d-7db11e9691a1",
   "metadata": {},
   "outputs": [],
   "source": [
    "lyt = \"cose-bilkent\"\n",
    "#lyt = \"spread\"\n",
    "#lyt = \"klay\""
   ]
  },
  {
   "cell_type": "code",
   "execution_count": 29,
   "id": "dcb7e459-9b58-4aec-a117-56cbd40b1e67",
   "metadata": {},
   "outputs": [],
   "source": [
    "def layout():\n",
    "    network = cyto.Cytoscape(\n",
    "        id=\"network\",\n",
    "        layout={\"name\": lyt},\n",
    "        style={\"width\": \"100%\", \"height\": \"800px\"},\n",
    "        elements=elements(people) + edges(people),\n",
    "        stylesheet=stylesheet\n",
    "    )\n",
    "    return html.Div([\n",
    "        html.H1(\"The University\"),\n",
    "        network\n",
    "    ])\n",
    "\n",
    "\n",
    "dashboard.layout = layout"
   ]
  },
  {
   "cell_type": "code",
   "execution_count": 30,
   "id": "471d45b3-8377-4b9f-b16c-4fc510303707",
   "metadata": {},
   "outputs": [
    {
     "name": "stdout",
     "output_type": "stream",
     "text": [
      "Dash is running on http://127.0.0.1:16900/\n",
      "\n",
      " * Serving Flask app '__main__'\n",
      " * Debug mode: off\n"
     ]
    },
    {
     "name": "stderr",
     "output_type": "stream",
     "text": [
      "\u001b[31m\u001b[1mWARNING: This is a development server. Do not use it in a production deployment. Use a production WSGI server instead.\u001b[0m\n",
      " * Running on http://127.0.0.1:16900\n",
      "\u001b[33mPress CTRL+C to quit\u001b[0m\n",
      "127.0.0.1 - - [01/Apr/2023 15:09:33] \"GET / HTTP/1.1\" 200 -\n",
      "127.0.0.1 - - [01/Apr/2023 15:09:33] \"GET /_dash-component-suites/dash_cytoscape/dash_cytoscape_extra.v0_2_0m1680375715.min.js HTTP/1.1\" 200 -\n",
      "127.0.0.1 - - [01/Apr/2023 15:09:33] \"GET /_dash-component-suites/dash/dcc/dash_core_components-shared.js.map HTTP/1.1\" 200 -\n",
      "127.0.0.1 - - [01/Apr/2023 15:09:33] \"GET /_dash-component-suites/dash/dash_table/bundle.js.map HTTP/1.1\" 200 -\n",
      "127.0.0.1 - - [01/Apr/2023 15:09:33] \"GET /_dash-component-suites/dash/dcc/dash_core_components.js.map HTTP/1.1\" 200 -\n",
      "127.0.0.1 - - [01/Apr/2023 15:09:33] \"GET /_dash-component-suites/dash/html/dash_html_components.min.js.map HTTP/1.1\" 200 -\n",
      "127.0.0.1 - - [01/Apr/2023 15:09:33] \"GET /_dash-dependencies HTTP/1.1\" 200 -\n",
      "127.0.0.1 - - [01/Apr/2023 15:09:33] \"GET /_dash-layout HTTP/1.1\" 200 -\n",
      "127.0.0.1 - - [01/Apr/2023 15:09:33] \"GET /_favicon.ico?v=2.9.2 HTTP/1.1\" 200 -\n"
     ]
    }
   ],
   "source": [
    "if __name__ == \"__main__\":\n",
    "    dashboard.run_server(port=16900, debug=True, use_reloader=False)\n",
    "else:\n",
    "    app = dashboard.server"
   ]
  },
  {
   "cell_type": "code",
   "execution_count": null,
   "id": "edc62f24",
   "metadata": {},
   "outputs": [],
   "source": []
  }
 ],
 "metadata": {
  "kernelspec": {
   "display_name": "peopleanalytics-hP1UcNMM",
   "language": "python",
   "name": "python3"
  },
  "language_info": {
   "codemirror_mode": {
    "name": "ipython",
    "version": 3
   },
   "file_extension": ".py",
   "mimetype": "text/x-python",
   "name": "python",
   "nbconvert_exporter": "python",
   "pygments_lexer": "ipython3",
   "version": "3.11.2"
  },
  "vscode": {
   "interpreter": {
    "hash": "a79ebb34bd880ae1609598d91f5437f974a2fc812a889a38194f0c3042249b1f"
   }
  }
 },
 "nbformat": 4,
 "nbformat_minor": 5
}
